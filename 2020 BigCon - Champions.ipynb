{
 "cells": [
  {
   "cell_type": "markdown",
   "metadata": {},
   "source": [
    "# 2020 빅콘테스트 챔피언스리그\n",
    "\n",
    "![](./img/contest_logo.png)"
   ]
  },
  {
   "cell_type": "markdown",
   "metadata": {
    "toc": true
   },
   "source": [
    "<h1>Table of Contents<span class=\"tocSkip\"></span></h1>\n",
    "<div class=\"toc\"><ul class=\"toc-item\"><li><span><a href=\"#대회요강\" data-toc-modified-id=\"대회요강-0\"><span class=\"toc-item-num\">0&nbsp;&nbsp;</span>대회요강</a></span><ul class=\"toc-item\"><li><span><a href=\"#참가자격\" data-toc-modified-id=\"참가자격-0.1\"><span class=\"toc-item-num\">0.1&nbsp;&nbsp;</span>참가자격</a></span></li><li><span><a href=\"#대회일정\" data-toc-modified-id=\"대회일정-0.2\"><span class=\"toc-item-num\">0.2&nbsp;&nbsp;</span>대회일정</a></span></li><li><span><a href=\"#대회-문제\" data-toc-modified-id=\"대회-문제-0.3\"><span class=\"toc-item-num\">0.3&nbsp;&nbsp;</span>대회 문제</a></span></li><li><span><a href=\"#평가방법\" data-toc-modified-id=\"평가방법-0.4\"><span class=\"toc-item-num\">0.4&nbsp;&nbsp;</span>평가방법</a></span></li><li><span><a href=\"#결과제출\" data-toc-modified-id=\"결과제출-0.5\"><span class=\"toc-item-num\">0.5&nbsp;&nbsp;</span>결과제출</a></span></li><li><span><a href=\"#유의사항\" data-toc-modified-id=\"유의사항-0.6\"><span class=\"toc-item-num\">0.6&nbsp;&nbsp;</span>유의사항</a></span></li></ul></li><li><span><a href=\"#라이브러리-및-옵션\" data-toc-modified-id=\"라이브러리-및-옵션-1\"><span class=\"toc-item-num\">1&nbsp;&nbsp;</span>라이브러리 및 옵션</a></span></li><li><span><a href=\"#데이터-불러오기(Load-Data)\" data-toc-modified-id=\"데이터-불러오기(Load-Data)-2\"><span class=\"toc-item-num\">2&nbsp;&nbsp;</span>데이터 불러오기(Load Data)</a></span><ul class=\"toc-item\"><li><span><a href=\"#2019년-실적데이터\" data-toc-modified-id=\"2019년-실적데이터-2.1\"><span class=\"toc-item-num\">2.1&nbsp;&nbsp;</span>2019년 실적데이터</a></span></li><li><span><a href=\"#판매-실적-예측-데이터\" data-toc-modified-id=\"판매-실적-예측-데이터-2.2\"><span class=\"toc-item-num\">2.2&nbsp;&nbsp;</span>판매 실적 예측 데이터</a></span></li><li><span><a href=\"#시청률-데이터\" data-toc-modified-id=\"시청률-데이터-2.3\"><span class=\"toc-item-num\">2.3&nbsp;&nbsp;</span>시청률 데이터</a></span></li></ul></li><li><span><a href=\"#데이터-전처리(Data-Preprocessing)\" data-toc-modified-id=\"데이터-전처리(Data-Preprocessing)-3\"><span class=\"toc-item-num\">3&nbsp;&nbsp;</span>데이터 전처리(Data Preprocessing)</a></span><ul class=\"toc-item\"><li><span><a href=\"#결측치-확인하기\" data-toc-modified-id=\"결측치-확인하기-3.1\"><span class=\"toc-item-num\">3.1&nbsp;&nbsp;</span>결측치 확인하기</a></span></li><li><span><a href=\"#방송시간에서-세부-시간-추출\" data-toc-modified-id=\"방송시간에서-세부-시간-추출-3.2\"><span class=\"toc-item-num\">3.2&nbsp;&nbsp;</span>방송시간에서 세부 시간 추출</a></span></li><li><span><a href=\"#노출시간-결측치-처리\" data-toc-modified-id=\"노출시간-결측치-처리-3.3\"><span class=\"toc-item-num\">3.3&nbsp;&nbsp;</span>노출시간 결측치 처리</a></span></li><li><span><a href=\"#자연어처리(Natural-Language-Processing)\" data-toc-modified-id=\"자연어처리(Natural-Language-Processing)-3.4\"><span class=\"toc-item-num\">3.4&nbsp;&nbsp;</span>자연어처리(Natural Language Processing)</a></span><ul class=\"toc-item\"><li><span><a href=\"#불용어-제거\" data-toc-modified-id=\"불용어-제거-3.4.1\"><span class=\"toc-item-num\">3.4.1&nbsp;&nbsp;</span>불용어 제거</a></span></li><li><span><a href=\"#KOMORAN을-통하여-형태소-분석\" data-toc-modified-id=\"KOMORAN을-통하여-형태소-분석-3.4.2\"><span class=\"toc-item-num\">3.4.2&nbsp;&nbsp;</span>KOMORAN을 통하여 형태소 분석</a></span></li><li><span><a href=\"#임베딩벡터-생성\" data-toc-modified-id=\"임베딩벡터-생성-3.4.3\"><span class=\"toc-item-num\">3.4.3&nbsp;&nbsp;</span>임베딩벡터 생성</a></span></li><li><span><a href=\"#PCA를-통하여-차원-축소\" data-toc-modified-id=\"PCA를-통하여-차원-축소-3.4.4\"><span class=\"toc-item-num\">3.4.4&nbsp;&nbsp;</span>PCA를 통하여 차원 축소</a></span></li></ul></li></ul></li><li><span><a href=\"#탐색적-데이터-분석(Exploratory-Data-Analysis)\" data-toc-modified-id=\"탐색적-데이터-분석(Exploratory-Data-Analysis)-4\"><span class=\"toc-item-num\">4&nbsp;&nbsp;</span>탐색적 데이터 분석(Exploratory Data Analysis)</a></span><ul class=\"toc-item\"><li><span><a href=\"#데이터-형태\" data-toc-modified-id=\"데이터-형태-4.1\"><span class=\"toc-item-num\">4.1&nbsp;&nbsp;</span>데이터 형태</a></span></li><li><span><a href=\"#데이터의-컬럼\" data-toc-modified-id=\"데이터의-컬럼-4.2\"><span class=\"toc-item-num\">4.2&nbsp;&nbsp;</span>데이터의 컬럼</a></span></li><li><span><a href=\"#데이터-타입\" data-toc-modified-id=\"데이터-타입-4.3\"><span class=\"toc-item-num\">4.3&nbsp;&nbsp;</span>데이터 타입</a></span></li><li><span><a href=\"#데이터-기초-통계량\" data-toc-modified-id=\"데이터-기초-통계량-4.4\"><span class=\"toc-item-num\">4.4&nbsp;&nbsp;</span>데이터 기초 통계량</a></span></li><li><span><a href=\"#상품코드\" data-toc-modified-id=\"상품코드-4.5\"><span class=\"toc-item-num\">4.5&nbsp;&nbsp;</span>상품코드</a></span></li><li><span><a href=\"#상품명\" data-toc-modified-id=\"상품명-4.6\"><span class=\"toc-item-num\">4.6&nbsp;&nbsp;</span>상품명</a></span></li><li><span><a href=\"#상품군\" data-toc-modified-id=\"상품군-4.7\"><span class=\"toc-item-num\">4.7&nbsp;&nbsp;</span>상품군</a></span><ul class=\"toc-item\"><li><span><a href=\"#상품군-내-상품-비율\" data-toc-modified-id=\"상품군-내-상품-비율-4.7.1\"><span class=\"toc-item-num\">4.7.1&nbsp;&nbsp;</span>상품군 내 상품 비율</a></span></li><li><span><a href=\"#상품군-내-유일-상품-확인\" data-toc-modified-id=\"상품군-내-유일-상품-확인-4.7.2\"><span class=\"toc-item-num\">4.7.2&nbsp;&nbsp;</span>상품군 내 유일 상품 확인</a></span></li><li><span><a href=\"#*무형-상품군\" data-toc-modified-id=\"*무형-상품군-4.7.3\"><span class=\"toc-item-num\">4.7.3&nbsp;&nbsp;</span>*무형 상품군</a></span></li></ul></li><li><span><a href=\"#판매단가\" data-toc-modified-id=\"판매단가-4.8\"><span class=\"toc-item-num\">4.8&nbsp;&nbsp;</span>판매단가</a></span><ul class=\"toc-item\"><li><span><a href=\"#상품명별-판매단가\" data-toc-modified-id=\"상품명별-판매단가-4.8.1\"><span class=\"toc-item-num\">4.8.1&nbsp;&nbsp;</span>상품명별 판매단가</a></span></li></ul></li><li><span><a href=\"#취급액\" data-toc-modified-id=\"취급액-4.9\"><span class=\"toc-item-num\">4.9&nbsp;&nbsp;</span>취급액</a></span></li><li><span><a href=\"#상품군-별-노출(분)\" data-toc-modified-id=\"상품군-별-노출(분)-4.10\"><span class=\"toc-item-num\">4.10&nbsp;&nbsp;</span>상품군 별 노출(분)</a></span></li><li><span><a href=\"#시간대-별-상품-판매-Trend\" data-toc-modified-id=\"시간대-별-상품-판매-Trend-4.11\"><span class=\"toc-item-num\">4.11&nbsp;&nbsp;</span>시간대 별 상품 판매 Trend</a></span><ul class=\"toc-item\"><li><span><a href=\"#월별\" data-toc-modified-id=\"월별-4.11.1\"><span class=\"toc-item-num\">4.11.1&nbsp;&nbsp;</span>월별</a></span></li><li><span><a href=\"#주별\" data-toc-modified-id=\"주별-4.11.2\"><span class=\"toc-item-num\">4.11.2&nbsp;&nbsp;</span>주별</a></span></li><li><span><a href=\"#일별\" data-toc-modified-id=\"일별-4.11.3\"><span class=\"toc-item-num\">4.11.3&nbsp;&nbsp;</span>일별</a></span></li><li><span><a href=\"#시간별\" data-toc-modified-id=\"시간별-4.11.4\"><span class=\"toc-item-num\">4.11.4&nbsp;&nbsp;</span>시간별</a></span></li><li><span><a href=\"#요일별\" data-toc-modified-id=\"요일별-4.11.5\"><span class=\"toc-item-num\">4.11.5&nbsp;&nbsp;</span>요일별</a></span></li></ul></li><li><span><a href=\"#시청률\" data-toc-modified-id=\"시청률-4.12\"><span class=\"toc-item-num\">4.12&nbsp;&nbsp;</span>시청률</a></span></li><li><span><a href=\"#일별-평균-시청률\" data-toc-modified-id=\"일별-평균-시청률-4.13\"><span class=\"toc-item-num\">4.13&nbsp;&nbsp;</span>일별 평균 시청률</a></span></li><li><span><a href=\"#시간별-평균-시청률\" data-toc-modified-id=\"시간별-평균-시청률-4.14\"><span class=\"toc-item-num\">4.14&nbsp;&nbsp;</span>시간별 평균 시청률</a></span></li></ul></li><li><span><a href=\"#특성-공학(Feature-Engineering)\" data-toc-modified-id=\"특성-공학(Feature-Engineering)-5\"><span class=\"toc-item-num\">5&nbsp;&nbsp;</span>특성 공학(Feature Engineering)</a></span><ul class=\"toc-item\"><li><span><a href=\"#임베딩-벡터-추가\" data-toc-modified-id=\"임베딩-벡터-추가-5.1\"><span class=\"toc-item-num\">5.1&nbsp;&nbsp;</span>임베딩 벡터 추가</a></span></li><li><span><a href=\"#피처-생성\" data-toc-modified-id=\"피처-생성-5.2\"><span class=\"toc-item-num\">5.2&nbsp;&nbsp;</span>피처 생성</a></span><ul class=\"toc-item\"><li><span><a href=\"#네이버트랜드-결합\" data-toc-modified-id=\"네이버트랜드-결합-5.2.1\"><span class=\"toc-item-num\">5.2.1&nbsp;&nbsp;</span>네이버트랜드 결합</a></span></li><li><span><a href=\"#상품별-방영-횟수\" data-toc-modified-id=\"상품별-방영-횟수-5.2.2\"><span class=\"toc-item-num\">5.2.2&nbsp;&nbsp;</span>상품별 방영 횟수</a></span><ul class=\"toc-item\"><li><span><a href=\"#상품별-월-방영-횟수\" data-toc-modified-id=\"상품별-월-방영-횟수-5.2.2.1\"><span class=\"toc-item-num\">5.2.2.1&nbsp;&nbsp;</span>상품별 월 방영 횟수</a></span></li><li><span><a href=\"#상품별-주-방영-횟수\" data-toc-modified-id=\"상품별-주-방영-횟수-5.2.2.2\"><span class=\"toc-item-num\">5.2.2.2&nbsp;&nbsp;</span>상품별 주 방영 횟수</a></span></li></ul></li><li><span><a href=\"#방송-재핑시간\" data-toc-modified-id=\"방송-재핑시간-5.2.3\"><span class=\"toc-item-num\">5.2.3&nbsp;&nbsp;</span>방송 재핑시간</a></span></li><li><span><a href=\"#골든타임-피쳐-생성\" data-toc-modified-id=\"골든타임-피쳐-생성-5.2.4\"><span class=\"toc-item-num\">5.2.4&nbsp;&nbsp;</span>골든타임 피쳐 생성</a></span></li><li><span><a href=\"#토큰리스트-생성\" data-toc-modified-id=\"토큰리스트-생성-5.2.5\"><span class=\"toc-item-num\">5.2.5&nbsp;&nbsp;</span>토큰리스트 생성</a></span></li><li><span><a href=\"#성별-추가\" data-toc-modified-id=\"성별-추가-5.2.6\"><span class=\"toc-item-num\">5.2.6&nbsp;&nbsp;</span>성별 추가</a></span></li><li><span><a href=\"#무이자/일시불-여부\" data-toc-modified-id=\"무이자/일시불-여부-5.2.7\"><span class=\"toc-item-num\">5.2.7&nbsp;&nbsp;</span>무이자/일시불 여부</a></span></li><li><span><a href=\"#휴일-여부\" data-toc-modified-id=\"휴일-여부-5.2.8\"><span class=\"toc-item-num\">5.2.8&nbsp;&nbsp;</span>휴일 여부</a></span></li><li><span><a href=\"#Total-Preprocessing\" data-toc-modified-id=\"Total-Preprocessing-5.2.9\"><span class=\"toc-item-num\">5.2.9&nbsp;&nbsp;</span>Total Preprocessing</a></span></li></ul></li><li><span><a href=\"#상품군,-상품명-처리하기\" data-toc-modified-id=\"상품군,-상품명-처리하기-5.3\"><span class=\"toc-item-num\">5.3&nbsp;&nbsp;</span>상품군, 상품명 처리하기</a></span></li><li><span><a href=\"#상품군-더미화\" data-toc-modified-id=\"상품군-더미화-5.4\"><span class=\"toc-item-num\">5.4&nbsp;&nbsp;</span>상품군 더미화</a></span></li><li><span><a href=\"#요일-인코딩\" data-toc-modified-id=\"요일-인코딩-5.5\"><span class=\"toc-item-num\">5.5&nbsp;&nbsp;</span>요일 인코딩</a></span></li></ul></li><li><span><a href=\"#피처-선택(Feature-Selection)\" data-toc-modified-id=\"피처-선택(Feature-Selection)-6\"><span class=\"toc-item-num\">6&nbsp;&nbsp;</span>피처 선택(Feature Selection)</a></span><ul class=\"toc-item\"><li><span><a href=\"#지금까지-생성된-피처-확인\" data-toc-modified-id=\"지금까지-생성된-피처-확인-6.1\"><span class=\"toc-item-num\">6.1&nbsp;&nbsp;</span>지금까지 생성된 피처 확인</a></span></li><li><span><a href=\"#피처간의-상관계수-확인\" data-toc-modified-id=\"피처간의-상관계수-확인-6.2\"><span class=\"toc-item-num\">6.2&nbsp;&nbsp;</span>피처간의 상관계수 확인</a></span></li></ul></li><li><span><a href=\"#모델링(Modeling)-및-성능-평가(Testing)\" data-toc-modified-id=\"모델링(Modeling)-및-성능-평가(Testing)-7\"><span class=\"toc-item-num\">7&nbsp;&nbsp;</span>모델링(Modeling) 및 성능 평가(Testing)</a></span><ul class=\"toc-item\"><li><span><a href=\"#Mean-Average-Percentage-Error(MAPE)\" data-toc-modified-id=\"Mean-Average-Percentage-Error(MAPE)-7.1\"><span class=\"toc-item-num\">7.1&nbsp;&nbsp;</span>Mean Average Percentage Error(MAPE)</a></span></li><li><span><a href=\"#학습-및-검증-데이터-분리하기\" data-toc-modified-id=\"학습-및-검증-데이터-분리하기-7.2\"><span class=\"toc-item-num\">7.2&nbsp;&nbsp;</span>학습 및 검증 데이터 분리하기</a></span></li><li><span><a href=\"#머신러닝-모델-생성-및-성능-평가\" data-toc-modified-id=\"머신러닝-모델-생성-및-성능-평가-7.3\"><span class=\"toc-item-num\">7.3&nbsp;&nbsp;</span>머신러닝 모델 생성 및 성능 평가</a></span></li><li><span><a href=\"#딥러닝-모델-생성-및-성능-평가\" data-toc-modified-id=\"딥러닝-모델-생성-및-성능-평가-7.4\"><span class=\"toc-item-num\">7.4&nbsp;&nbsp;</span>딥러닝 모델 생성 및 성능 평가</a></span></li></ul></li><li><span><a href=\"#제출하기\" data-toc-modified-id=\"제출하기-8\"><span class=\"toc-item-num\">8&nbsp;&nbsp;</span>제출하기</a></span></li><li><span><a href=\"#참고자료\" data-toc-modified-id=\"참고자료-9\"><span class=\"toc-item-num\">9&nbsp;&nbsp;</span>참고자료</a></span></li></ul></div>"
   ]
  },
  {
   "cell_type": "markdown",
   "metadata": {},
   "source": [
    "## 대회요강\n",
    "\n",
    "### 참가자격\n",
    "- 전국 대학(원)생(휴학생포함) 및 일반인\n",
    "    - 대회 시작일(8.3) 기준, 대학(원)생은 나이제한 없음\n",
    "    - 데이터 분석 및 컨설팅 업체 소속 임직원은 참여 불가"
   ]
  },
  {
   "cell_type": "markdown",
   "metadata": {},
   "source": [
    "### 대회일정\n",
    "![](./img/contest_plan.png)"
   ]
  },
  {
   "cell_type": "markdown",
   "metadata": {},
   "source": [
    "### 대회 문제\n",
    "![](./img/contest_problem.png)"
   ]
  },
  {
   "cell_type": "markdown",
   "metadata": {},
   "source": [
    "### 평가방법\n",
    "\n",
    "![](./img/contest_evaluation.png)"
   ]
  },
  {
   "cell_type": "markdown",
   "metadata": {},
   "source": [
    "### 결과제출\n",
    "\n",
    "1. 마이페이지 내 결과제출바로가기 에서 제출(파일 용량 초과시, 사무국 이메일/웹하드로 제출하며 별도 안내 예정)\n",
    "2. 결과보고서 양식 및 추가 제출파일\n",
    "    - 심사진행과정에서 추가로 자료를 요청할 수 있음\n",
    "    - 결과보고서 필수 포함내용 미기재 및 추가 제출파일 미제출시, 심사 및 수상에서 제외 될 수 있음\n",
    "    \n",
    "![](./img/contest_submission.png)"
   ]
  },
  {
   "cell_type": "markdown",
   "metadata": {},
   "source": [
    "### 유의사항\n",
    "\n",
    "![](./img/contest_notice.png)"
   ]
  },
  {
   "cell_type": "markdown",
   "metadata": {},
   "source": [
    "---\n",
    "\n",
    "## 라이브러리 및 옵션"
   ]
  },
  {
   "cell_type": "code",
   "execution_count": 1,
   "metadata": {},
   "outputs": [],
   "source": [
    "# !pip install -r requirements.txt ################################# 제출시에는 주석 해제해야함"
   ]
  },
  {
   "cell_type": "code",
   "execution_count": 2,
   "metadata": {
    "ExecuteTime": {
     "end_time": "2020-09-26T01:51:08.117526Z",
     "start_time": "2020-09-26T01:51:05.046502Z"
    }
   },
   "outputs": [],
   "source": [
    "#########\n",
    "# BASIC #\n",
    "#########\n",
    "import os\n",
    "import sys\n",
    "import platform\n",
    "import warnings\n",
    "from datetime import datetime\n",
    "from collections import Counter\n",
    "import calendar\n",
    "from tqdm.notebook import tqdm_notebook\n",
    "\n",
    "#############\n",
    "# LOAD DATA #\n",
    "#############\n",
    "import numpy as np\n",
    "import pandas as pd\n",
    "\n",
    "#############################\n",
    "# EXPLORATORY DATA ANALYSIS #\n",
    "#############################\n",
    "import matplotlib as mpl\n",
    "import matplotlib.pyplot as plt\n",
    "import seaborn as sns\n",
    "import missingno as msno\n",
    "\n",
    "######################\n",
    "# DATA PREPROCESSING #\n",
    "######################\n",
    "import re\n",
    "from sklearn.decomposition import PCA\n",
    "from sklearn.preprocessing import LabelEncoder\n",
    "from sklearn.preprocessing import OneHotEncoder\n",
    "## NATURAL LANGUAGE PROCESSING \n",
    "from konlpy.tag import Komoran\n",
    "from gensim.models import Word2Vec\n",
    "\n",
    "#######################\n",
    "# FEATURE ENGINEERING #\n",
    "#######################\n",
    "from sklearn.preprocessing import StandardScaler\n",
    "from sklearn.preprocessing import MinMaxScaler\n",
    "\n",
    "#####################\n",
    "# FEATURE SELECTION #\n",
    "#####################\n",
    "\n",
    "\n",
    "############\n",
    "# MODELING #\n",
    "############\n",
    "## MACHINE LEARNING\n",
    "from sklearn.model_selection import KFold\n",
    "from sklearn.model_selection import train_test_split\n",
    "from sklearn.linear_model import LinearRegression\n",
    "from sklearn.tree import DecisionTreeRegressor\n",
    "from sklearn.svm import SVR\n",
    "from sklearn.ensemble import RandomForestRegressor\n",
    "from xgboost import XGBRegressor\n",
    "from lightgbm import LGBMRegressor\n",
    "\n",
    "## DEEP LEARNING\n",
    "import torch\n",
    "import torch.nn as nn\n",
    "import torch.optim as optim\n",
    "import torch.nn.functional as F\n",
    "\n",
    "import joblib\n",
    "import pickle\n",
    "\n",
    "###########\n",
    "# TESTING #\n",
    "###########\n",
    "from sklearn.metrics import mean_absolute_error\n",
    "from sklearn.model_selection import RandomizedSearchCV\n",
    "from sklearn.model_selection import GridSearchCV"
   ]
  },
  {
   "cell_type": "code",
   "execution_count": 3,
   "metadata": {
    "ExecuteTime": {
     "end_time": "2020-09-26T01:51:08.357442Z",
     "start_time": "2020-09-26T01:51:08.183384Z"
    }
   },
   "outputs": [],
   "source": [
    "warnings.filterwarnings(action='ignore')\n",
    "pd.options.display.float_format = '{:.4f}'.format\n",
    "# plt.style.use('ggplot')\n",
    "if platform.platform().split('-')[0] == 'Windows':\n",
    "    mpl.rcParams['font.family'] = 'Malgun Gothic' # Windows에서는 한글이 나오게 하기 위해서\n",
    "else: # macOS라고 가정\n",
    "    mpl.rcParams['font.family'] = 'AppleGothic' # mac에서는 한글이 나오게 하기 위해서\n",
    "\n",
    "mpl.rcParams['axes.unicode_minus'] = False\n",
    "plt.style.use('ggplot')\n",
    "device = 'cuda'  if torch.cuda.is_available() else 'cpu'"
   ]
  },
  {
   "cell_type": "code",
   "execution_count": 4,
   "metadata": {
    "ExecuteTime": {
     "end_time": "2020-09-26T01:51:08.437465Z",
     "start_time": "2020-09-26T01:51:08.422452Z"
    }
   },
   "outputs": [],
   "source": [
    "RANDOM_STATE = 42\n",
    "TEST_SIZE = 0.2\n",
    "learning_rate = 1e-4"
   ]
  },
  {
   "cell_type": "markdown",
   "metadata": {},
   "source": [
    "---\n",
    "\n",
    "## 데이터 불러오기(Load Data)"
   ]
  },
  {
   "cell_type": "code",
   "execution_count": 5,
   "metadata": {
    "ExecuteTime": {
     "end_time": "2020-09-25T10:16:54.530885Z",
     "start_time": "2020-09-25T10:16:54.523902Z"
    }
   },
   "outputs": [
    {
     "data": {
      "text/plain": [
       "['2020 빅콘테스트 데이터분석분야-챔피언리그_시청률 데이터.xlsx',\n",
       " '2020 빅콘테스트 데이터분석분야-챔피언리그_2019년 실적데이터_v1_200818.xlsx']"
      ]
     },
     "execution_count": 5,
     "metadata": {},
     "output_type": "execute_result"
    }
   ],
   "source": [
    "os.listdir('./data/01_제공데이터')"
   ]
  },
  {
   "cell_type": "code",
   "execution_count": 6,
   "metadata": {
    "ExecuteTime": {
     "end_time": "2020-09-25T10:16:54.539859Z",
     "start_time": "2020-09-25T10:16:54.531881Z"
    }
   },
   "outputs": [
    {
     "data": {
      "text/plain": [
       "['2020 빅콘테스트 데이터분석분야-챔피언리그_2020년 6월 판매실적예측데이터(평가데이터).xlsx']"
      ]
     },
     "execution_count": 6,
     "metadata": {},
     "output_type": "execute_result"
    }
   ],
   "source": [
    "os.listdir('./data/02_평가데이터')"
   ]
  },
  {
   "cell_type": "code",
   "execution_count": 7,
   "metadata": {
    "ExecuteTime": {
     "end_time": "2020-09-25T10:16:54.545843Z",
     "start_time": "2020-09-25T10:16:54.540857Z"
    }
   },
   "outputs": [
    {
     "data": {
      "text/plain": [
       "['CPI(2019년~2020년).csv',\n",
       " 'TV_Time.xlsx',\n",
       " 'naver_group_2.xlsx',\n",
       " 'naver_criterion.xlsx',\n",
       " 'naver_group_1.xlsx']"
      ]
     },
     "execution_count": 7,
     "metadata": {},
     "output_type": "execute_result"
    }
   ],
   "source": [
    "os.listdir('./data/03_외부데이터')"
   ]
  },
  {
   "cell_type": "code",
   "execution_count": 8,
   "metadata": {
    "ExecuteTime": {
     "end_time": "2020-09-25T10:16:54.551828Z",
     "start_time": "2020-09-25T10:16:54.546841Z"
    }
   },
   "outputs": [
    {
     "data": {
      "text/plain": [
       "['user_dict_0913.txt']"
      ]
     },
     "execution_count": 8,
     "metadata": {},
     "output_type": "execute_result"
    }
   ],
   "source": [
    "os.listdir('./data/04_추가데이터')"
   ]
  },
  {
   "cell_type": "code",
   "execution_count": 9,
   "metadata": {
    "ExecuteTime": {
     "end_time": "2020-09-25T10:16:54.557813Z",
     "start_time": "2020-09-25T10:16:54.553824Z"
    }
   },
   "outputs": [],
   "source": [
    "data = dict()"
   ]
  },
  {
   "cell_type": "markdown",
   "metadata": {},
   "source": [
    "### 2019년 실적데이터"
   ]
  },
  {
   "cell_type": "code",
   "execution_count": 10,
   "metadata": {
    "ExecuteTime": {
     "end_time": "2020-09-25T10:16:57.612741Z",
     "start_time": "2020-09-25T10:16:54.559808Z"
    }
   },
   "outputs": [
    {
     "data": {
      "text/html": [
       "<div>\n",
       "<style scoped>\n",
       "    .dataframe tbody tr th:only-of-type {\n",
       "        vertical-align: middle;\n",
       "    }\n",
       "\n",
       "    .dataframe tbody tr th {\n",
       "        vertical-align: top;\n",
       "    }\n",
       "\n",
       "    .dataframe thead th {\n",
       "        text-align: right;\n",
       "    }\n",
       "</style>\n",
       "<table border=\"1\" class=\"dataframe\">\n",
       "  <thead>\n",
       "    <tr style=\"text-align: right;\">\n",
       "      <th></th>\n",
       "      <th>노출(분)</th>\n",
       "      <th>마더코드</th>\n",
       "      <th>상품코드</th>\n",
       "      <th>상품명</th>\n",
       "      <th>상품군</th>\n",
       "      <th>판매단가</th>\n",
       "      <th>취급액</th>\n",
       "    </tr>\n",
       "    <tr>\n",
       "      <th>방송일시</th>\n",
       "      <th></th>\n",
       "      <th></th>\n",
       "      <th></th>\n",
       "      <th></th>\n",
       "      <th></th>\n",
       "      <th></th>\n",
       "      <th></th>\n",
       "    </tr>\n",
       "  </thead>\n",
       "  <tbody>\n",
       "    <tr>\n",
       "      <th>2019-01-01 06:00:00</th>\n",
       "      <td>20.0000</td>\n",
       "      <td>100346</td>\n",
       "      <td>201072</td>\n",
       "      <td>테이트 남성 셀린니트3종</td>\n",
       "      <td>의류</td>\n",
       "      <td>39900</td>\n",
       "      <td>2099000.0000</td>\n",
       "    </tr>\n",
       "    <tr>\n",
       "      <th>2019-01-01 06:00:00</th>\n",
       "      <td>nan</td>\n",
       "      <td>100346</td>\n",
       "      <td>201079</td>\n",
       "      <td>테이트 여성 셀린니트3종</td>\n",
       "      <td>의류</td>\n",
       "      <td>39900</td>\n",
       "      <td>4371000.0000</td>\n",
       "    </tr>\n",
       "    <tr>\n",
       "      <th>2019-01-01 06:20:00</th>\n",
       "      <td>20.0000</td>\n",
       "      <td>100346</td>\n",
       "      <td>201072</td>\n",
       "      <td>테이트 남성 셀린니트3종</td>\n",
       "      <td>의류</td>\n",
       "      <td>39900</td>\n",
       "      <td>3262000.0000</td>\n",
       "    </tr>\n",
       "    <tr>\n",
       "      <th>2019-01-01 06:20:00</th>\n",
       "      <td>nan</td>\n",
       "      <td>100346</td>\n",
       "      <td>201079</td>\n",
       "      <td>테이트 여성 셀린니트3종</td>\n",
       "      <td>의류</td>\n",
       "      <td>39900</td>\n",
       "      <td>6955000.0000</td>\n",
       "    </tr>\n",
       "    <tr>\n",
       "      <th>2019-01-01 06:40:00</th>\n",
       "      <td>20.0000</td>\n",
       "      <td>100346</td>\n",
       "      <td>201072</td>\n",
       "      <td>테이트 남성 셀린니트3종</td>\n",
       "      <td>의류</td>\n",
       "      <td>39900</td>\n",
       "      <td>6672000.0000</td>\n",
       "    </tr>\n",
       "    <tr>\n",
       "      <th>...</th>\n",
       "      <td>...</td>\n",
       "      <td>...</td>\n",
       "      <td>...</td>\n",
       "      <td>...</td>\n",
       "      <td>...</td>\n",
       "      <td>...</td>\n",
       "      <td>...</td>\n",
       "    </tr>\n",
       "    <tr>\n",
       "      <th>2019-12-31 23:20:00</th>\n",
       "      <td>nan</td>\n",
       "      <td>100448</td>\n",
       "      <td>201391</td>\n",
       "      <td>일시불쿠첸압력밥솥 6인용</td>\n",
       "      <td>주방</td>\n",
       "      <td>148000</td>\n",
       "      <td>1664000.0000</td>\n",
       "    </tr>\n",
       "    <tr>\n",
       "      <th>2019-12-31 23:40:00</th>\n",
       "      <td>20.0000</td>\n",
       "      <td>100448</td>\n",
       "      <td>201383</td>\n",
       "      <td>무이자쿠첸압력밥솥 10인용</td>\n",
       "      <td>주방</td>\n",
       "      <td>178000</td>\n",
       "      <td>9149000.0000</td>\n",
       "    </tr>\n",
       "    <tr>\n",
       "      <th>2019-12-31 23:40:00</th>\n",
       "      <td>nan</td>\n",
       "      <td>100448</td>\n",
       "      <td>201390</td>\n",
       "      <td>일시불쿠첸압력밥솥 10인용</td>\n",
       "      <td>주방</td>\n",
       "      <td>168000</td>\n",
       "      <td>15282000.0000</td>\n",
       "    </tr>\n",
       "    <tr>\n",
       "      <th>2019-12-31 23:40:00</th>\n",
       "      <td>nan</td>\n",
       "      <td>100448</td>\n",
       "      <td>201384</td>\n",
       "      <td>무이자쿠첸압력밥솥 6인용</td>\n",
       "      <td>주방</td>\n",
       "      <td>158000</td>\n",
       "      <td>2328000.0000</td>\n",
       "    </tr>\n",
       "    <tr>\n",
       "      <th>2019-12-31 23:40:00</th>\n",
       "      <td>nan</td>\n",
       "      <td>100448</td>\n",
       "      <td>201391</td>\n",
       "      <td>일시불쿠첸압력밥솥 6인용</td>\n",
       "      <td>주방</td>\n",
       "      <td>148000</td>\n",
       "      <td>10157000.0000</td>\n",
       "    </tr>\n",
       "  </tbody>\n",
       "</table>\n",
       "<p>38300 rows × 7 columns</p>\n",
       "</div>"
      ],
      "text/plain": [
       "                      노출(분)    마더코드    상품코드             상품명 상품군    판매단가  \\\n",
       "방송일시                                                                      \n",
       "2019-01-01 06:00:00 20.0000  100346  201072   테이트 남성 셀린니트3종  의류   39900   \n",
       "2019-01-01 06:00:00     nan  100346  201079   테이트 여성 셀린니트3종  의류   39900   \n",
       "2019-01-01 06:20:00 20.0000  100346  201072   테이트 남성 셀린니트3종  의류   39900   \n",
       "2019-01-01 06:20:00     nan  100346  201079   테이트 여성 셀린니트3종  의류   39900   \n",
       "2019-01-01 06:40:00 20.0000  100346  201072   테이트 남성 셀린니트3종  의류   39900   \n",
       "...                     ...     ...     ...             ...  ..     ...   \n",
       "2019-12-31 23:20:00     nan  100448  201391   일시불쿠첸압력밥솥 6인용  주방  148000   \n",
       "2019-12-31 23:40:00 20.0000  100448  201383  무이자쿠첸압력밥솥 10인용  주방  178000   \n",
       "2019-12-31 23:40:00     nan  100448  201390  일시불쿠첸압력밥솥 10인용  주방  168000   \n",
       "2019-12-31 23:40:00     nan  100448  201384   무이자쿠첸압력밥솥 6인용  주방  158000   \n",
       "2019-12-31 23:40:00     nan  100448  201391   일시불쿠첸압력밥솥 6인용  주방  148000   \n",
       "\n",
       "                              취급액  \n",
       "방송일시                               \n",
       "2019-01-01 06:00:00  2099000.0000  \n",
       "2019-01-01 06:00:00  4371000.0000  \n",
       "2019-01-01 06:20:00  3262000.0000  \n",
       "2019-01-01 06:20:00  6955000.0000  \n",
       "2019-01-01 06:40:00  6672000.0000  \n",
       "...                           ...  \n",
       "2019-12-31 23:20:00  1664000.0000  \n",
       "2019-12-31 23:40:00  9149000.0000  \n",
       "2019-12-31 23:40:00 15282000.0000  \n",
       "2019-12-31 23:40:00  2328000.0000  \n",
       "2019-12-31 23:40:00 10157000.0000  \n",
       "\n",
       "[38300 rows x 7 columns]"
      ]
     },
     "execution_count": 10,
     "metadata": {},
     "output_type": "execute_result"
    }
   ],
   "source": [
    "data['train'] = pd.read_excel(r'./data/01_제공데이터/2020 빅콘테스트 데이터분석분야-챔피언리그_2019년 실적데이터_v1_200818.xlsx',\n",
    "                       header=1,\n",
    "                       names=['방송일시', '노출(분)', '마더코드', '상품코드',\n",
    "                              '상품명', '상품군', '판매단가', '취급액'],\n",
    "                       thousands=',',\n",
    "                       )\n",
    "data['train'].index = pd.to_datetime(data['train']['방송일시'])\n",
    "data['train'] = data['train'].drop('방송일시',axis=1)\n",
    "data['train'] = data['train']['2019']\n",
    "data['train']"
   ]
  },
  {
   "cell_type": "markdown",
   "metadata": {},
   "source": [
    "### 판매 실적 예측 데이터"
   ]
  },
  {
   "cell_type": "code",
   "execution_count": 11,
   "metadata": {
    "ExecuteTime": {
     "end_time": "2020-09-25T10:16:57.959813Z",
     "start_time": "2020-09-25T10:16:57.614736Z"
    }
   },
   "outputs": [
    {
     "data": {
      "text/html": [
       "<div>\n",
       "<style scoped>\n",
       "    .dataframe tbody tr th:only-of-type {\n",
       "        vertical-align: middle;\n",
       "    }\n",
       "\n",
       "    .dataframe tbody tr th {\n",
       "        vertical-align: top;\n",
       "    }\n",
       "\n",
       "    .dataframe thead th {\n",
       "        text-align: right;\n",
       "    }\n",
       "</style>\n",
       "<table border=\"1\" class=\"dataframe\">\n",
       "  <thead>\n",
       "    <tr style=\"text-align: right;\">\n",
       "      <th></th>\n",
       "      <th>노출(분)</th>\n",
       "      <th>마더코드</th>\n",
       "      <th>상품코드</th>\n",
       "      <th>상품명</th>\n",
       "      <th>상품군</th>\n",
       "      <th>판매단가</th>\n",
       "      <th>취급액</th>\n",
       "    </tr>\n",
       "    <tr>\n",
       "      <th>방송일시</th>\n",
       "      <th></th>\n",
       "      <th></th>\n",
       "      <th></th>\n",
       "      <th></th>\n",
       "      <th></th>\n",
       "      <th></th>\n",
       "      <th></th>\n",
       "    </tr>\n",
       "  </thead>\n",
       "  <tbody>\n",
       "    <tr>\n",
       "      <th>2020-06-01 06:20:00</th>\n",
       "      <td>20.0000</td>\n",
       "      <td>100650</td>\n",
       "      <td>201971</td>\n",
       "      <td>잭필드 남성  반팔셔츠 4종</td>\n",
       "      <td>의류</td>\n",
       "      <td>59800</td>\n",
       "      <td>nan</td>\n",
       "    </tr>\n",
       "    <tr>\n",
       "      <th>2020-06-01 06:40:00</th>\n",
       "      <td>20.0000</td>\n",
       "      <td>100650</td>\n",
       "      <td>201971</td>\n",
       "      <td>잭필드 남성  반팔셔츠 4종</td>\n",
       "      <td>의류</td>\n",
       "      <td>59800</td>\n",
       "      <td>nan</td>\n",
       "    </tr>\n",
       "    <tr>\n",
       "      <th>2020-06-01 07:00:00</th>\n",
       "      <td>20.0000</td>\n",
       "      <td>100650</td>\n",
       "      <td>201971</td>\n",
       "      <td>잭필드 남성  반팔셔츠 4종</td>\n",
       "      <td>의류</td>\n",
       "      <td>59800</td>\n",
       "      <td>nan</td>\n",
       "    </tr>\n",
       "    <tr>\n",
       "      <th>2020-06-01 07:20:00</th>\n",
       "      <td>20.0000</td>\n",
       "      <td>100445</td>\n",
       "      <td>202278</td>\n",
       "      <td>쿠미투니카 쿨 레이시 란쥬쉐이퍼&amp;팬티</td>\n",
       "      <td>속옷</td>\n",
       "      <td>69900</td>\n",
       "      <td>nan</td>\n",
       "    </tr>\n",
       "    <tr>\n",
       "      <th>2020-06-01 07:40:00</th>\n",
       "      <td>20.0000</td>\n",
       "      <td>100445</td>\n",
       "      <td>202278</td>\n",
       "      <td>쿠미투니카 쿨 레이시 란쥬쉐이퍼&amp;팬티</td>\n",
       "      <td>속옷</td>\n",
       "      <td>69900</td>\n",
       "      <td>nan</td>\n",
       "    </tr>\n",
       "    <tr>\n",
       "      <th>...</th>\n",
       "      <td>...</td>\n",
       "      <td>...</td>\n",
       "      <td>...</td>\n",
       "      <td>...</td>\n",
       "      <td>...</td>\n",
       "      <td>...</td>\n",
       "      <td>...</td>\n",
       "    </tr>\n",
       "    <tr>\n",
       "      <th>2020-07-01 00:20:00</th>\n",
       "      <td>20.0000</td>\n",
       "      <td>100660</td>\n",
       "      <td>201989</td>\n",
       "      <td>쉴렉스  안마의자 렌탈서비스</td>\n",
       "      <td>무형</td>\n",
       "      <td>0</td>\n",
       "      <td>nan</td>\n",
       "    </tr>\n",
       "    <tr>\n",
       "      <th>2020-07-01 00:40:00</th>\n",
       "      <td>20.0000</td>\n",
       "      <td>100660</td>\n",
       "      <td>201989</td>\n",
       "      <td>쉴렉스  안마의자 렌탈서비스</td>\n",
       "      <td>무형</td>\n",
       "      <td>0</td>\n",
       "      <td>nan</td>\n",
       "    </tr>\n",
       "    <tr>\n",
       "      <th>2020-07-01 01:00:00</th>\n",
       "      <td>20.0000</td>\n",
       "      <td>100660</td>\n",
       "      <td>201989</td>\n",
       "      <td>쉴렉스  안마의자 렌탈서비스</td>\n",
       "      <td>무형</td>\n",
       "      <td>0</td>\n",
       "      <td>nan</td>\n",
       "    </tr>\n",
       "    <tr>\n",
       "      <th>2020-07-01 01:20:00</th>\n",
       "      <td>20.0000</td>\n",
       "      <td>100261</td>\n",
       "      <td>200875</td>\n",
       "      <td>아놀드파마 티셔츠레깅스세트</td>\n",
       "      <td>의류</td>\n",
       "      <td>69900</td>\n",
       "      <td>nan</td>\n",
       "    </tr>\n",
       "    <tr>\n",
       "      <th>2020-07-01 01:40:00</th>\n",
       "      <td>15.9333</td>\n",
       "      <td>100261</td>\n",
       "      <td>200875</td>\n",
       "      <td>아놀드파마 티셔츠레깅스세트</td>\n",
       "      <td>의류</td>\n",
       "      <td>69900</td>\n",
       "      <td>nan</td>\n",
       "    </tr>\n",
       "  </tbody>\n",
       "</table>\n",
       "<p>2891 rows × 7 columns</p>\n",
       "</div>"
      ],
      "text/plain": [
       "                      노출(분)    마더코드    상품코드                   상품명 상품군   판매단가  \\\n",
       "방송일시                                                                           \n",
       "2020-06-01 06:20:00 20.0000  100650  201971       잭필드 남성  반팔셔츠 4종  의류  59800   \n",
       "2020-06-01 06:40:00 20.0000  100650  201971       잭필드 남성  반팔셔츠 4종  의류  59800   \n",
       "2020-06-01 07:00:00 20.0000  100650  201971       잭필드 남성  반팔셔츠 4종  의류  59800   \n",
       "2020-06-01 07:20:00 20.0000  100445  202278  쿠미투니카 쿨 레이시 란쥬쉐이퍼&팬티  속옷  69900   \n",
       "2020-06-01 07:40:00 20.0000  100445  202278  쿠미투니카 쿨 레이시 란쥬쉐이퍼&팬티  속옷  69900   \n",
       "...                     ...     ...     ...                   ...  ..    ...   \n",
       "2020-07-01 00:20:00 20.0000  100660  201989       쉴렉스  안마의자 렌탈서비스  무형      0   \n",
       "2020-07-01 00:40:00 20.0000  100660  201989       쉴렉스  안마의자 렌탈서비스  무형      0   \n",
       "2020-07-01 01:00:00 20.0000  100660  201989       쉴렉스  안마의자 렌탈서비스  무형      0   \n",
       "2020-07-01 01:20:00 20.0000  100261  200875        아놀드파마 티셔츠레깅스세트  의류  69900   \n",
       "2020-07-01 01:40:00 15.9333  100261  200875        아놀드파마 티셔츠레깅스세트  의류  69900   \n",
       "\n",
       "                     취급액  \n",
       "방송일시                      \n",
       "2020-06-01 06:20:00  nan  \n",
       "2020-06-01 06:40:00  nan  \n",
       "2020-06-01 07:00:00  nan  \n",
       "2020-06-01 07:20:00  nan  \n",
       "2020-06-01 07:40:00  nan  \n",
       "...                  ...  \n",
       "2020-07-01 00:20:00  nan  \n",
       "2020-07-01 00:40:00  nan  \n",
       "2020-07-01 01:00:00  nan  \n",
       "2020-07-01 01:20:00  nan  \n",
       "2020-07-01 01:40:00  nan  \n",
       "\n",
       "[2891 rows x 7 columns]"
      ]
     },
     "execution_count": 11,
     "metadata": {},
     "output_type": "execute_result"
    }
   ],
   "source": [
    "data['test'] = pd.read_excel('./data/02_평가데이터/2020 빅콘테스트 데이터분석분야-챔피언리그_2020년 6월 판매실적예측데이터(평가데이터).xlsx',\n",
    "                          skiprows=1,\n",
    "                          index_col=0,\n",
    "                          )\n",
    "data['test']"
   ]
  },
  {
   "cell_type": "markdown",
   "metadata": {},
   "source": [
    "### 시청률 데이터"
   ]
  },
  {
   "cell_type": "code",
   "execution_count": 12,
   "metadata": {
    "ExecuteTime": {
     "end_time": "2020-09-25T10:17:02.894949Z",
     "start_time": "2020-09-25T10:16:57.960810Z"
    }
   },
   "outputs": [
    {
     "data": {
      "text/html": [
       "<div>\n",
       "<style scoped>\n",
       "    .dataframe tbody tr th:only-of-type {\n",
       "        vertical-align: middle;\n",
       "    }\n",
       "\n",
       "    .dataframe tbody tr th {\n",
       "        vertical-align: top;\n",
       "    }\n",
       "\n",
       "    .dataframe thead th {\n",
       "        text-align: right;\n",
       "    }\n",
       "</style>\n",
       "<table border=\"1\" class=\"dataframe\">\n",
       "  <thead>\n",
       "    <tr style=\"text-align: right;\">\n",
       "      <th></th>\n",
       "      <th>2019-01-01</th>\n",
       "      <th>2019-01-02</th>\n",
       "      <th>2019-01-03</th>\n",
       "      <th>2019-01-04</th>\n",
       "      <th>2019-01-05</th>\n",
       "      <th>2019-01-06</th>\n",
       "      <th>2019-01-07</th>\n",
       "      <th>2019-01-08</th>\n",
       "      <th>2019-01-09</th>\n",
       "      <th>2019-01-10</th>\n",
       "      <th>...</th>\n",
       "      <th>2019-12-23</th>\n",
       "      <th>2019-12-24</th>\n",
       "      <th>2019-12-25</th>\n",
       "      <th>2019-12-26</th>\n",
       "      <th>2019-12-27</th>\n",
       "      <th>2019-12-28</th>\n",
       "      <th>2019-12-29</th>\n",
       "      <th>2019-12-30</th>\n",
       "      <th>2019-12-31</th>\n",
       "      <th>2019-01-01 to 2019-12-31</th>\n",
       "    </tr>\n",
       "    <tr>\n",
       "      <th>시간대</th>\n",
       "      <th></th>\n",
       "      <th></th>\n",
       "      <th></th>\n",
       "      <th></th>\n",
       "      <th></th>\n",
       "      <th></th>\n",
       "      <th></th>\n",
       "      <th></th>\n",
       "      <th></th>\n",
       "      <th></th>\n",
       "      <th></th>\n",
       "      <th></th>\n",
       "      <th></th>\n",
       "      <th></th>\n",
       "      <th></th>\n",
       "      <th></th>\n",
       "      <th></th>\n",
       "      <th></th>\n",
       "      <th></th>\n",
       "      <th></th>\n",
       "      <th></th>\n",
       "    </tr>\n",
       "  </thead>\n",
       "  <tbody>\n",
       "    <tr>\n",
       "      <th>02:00</th>\n",
       "      <td>0.0000</td>\n",
       "      <td>0.0000</td>\n",
       "      <td>0.0000</td>\n",
       "      <td>0.0000</td>\n",
       "      <td>0.0000</td>\n",
       "      <td>0.0000</td>\n",
       "      <td>0.0000</td>\n",
       "      <td>0.0000</td>\n",
       "      <td>0.0000</td>\n",
       "      <td>0.0000</td>\n",
       "      <td>...</td>\n",
       "      <td>0.0000</td>\n",
       "      <td>0.0000</td>\n",
       "      <td>0.0000</td>\n",
       "      <td>0.0000</td>\n",
       "      <td>0.0000</td>\n",
       "      <td>0.0000</td>\n",
       "      <td>0.0000</td>\n",
       "      <td>0.0000</td>\n",
       "      <td>0.0000</td>\n",
       "      <td>0.0030</td>\n",
       "    </tr>\n",
       "    <tr>\n",
       "      <th>02:01</th>\n",
       "      <td>0.0000</td>\n",
       "      <td>0.0000</td>\n",
       "      <td>0.0000</td>\n",
       "      <td>0.0000</td>\n",
       "      <td>0.0000</td>\n",
       "      <td>0.0000</td>\n",
       "      <td>0.0000</td>\n",
       "      <td>0.0000</td>\n",
       "      <td>0.0000</td>\n",
       "      <td>0.0050</td>\n",
       "      <td>...</td>\n",
       "      <td>0.0000</td>\n",
       "      <td>0.0000</td>\n",
       "      <td>0.0000</td>\n",
       "      <td>0.0000</td>\n",
       "      <td>0.0000</td>\n",
       "      <td>0.0000</td>\n",
       "      <td>0.0000</td>\n",
       "      <td>0.0000</td>\n",
       "      <td>0.0120</td>\n",
       "      <td>0.0030</td>\n",
       "    </tr>\n",
       "    <tr>\n",
       "      <th>02:02</th>\n",
       "      <td>0.0000</td>\n",
       "      <td>0.0000</td>\n",
       "      <td>0.0000</td>\n",
       "      <td>0.0000</td>\n",
       "      <td>0.0000</td>\n",
       "      <td>0.0000</td>\n",
       "      <td>0.0000</td>\n",
       "      <td>0.0000</td>\n",
       "      <td>0.0000</td>\n",
       "      <td>0.0050</td>\n",
       "      <td>...</td>\n",
       "      <td>0.0000</td>\n",
       "      <td>0.0000</td>\n",
       "      <td>0.0000</td>\n",
       "      <td>0.0000</td>\n",
       "      <td>0.0000</td>\n",
       "      <td>0.0000</td>\n",
       "      <td>0.0000</td>\n",
       "      <td>0.0000</td>\n",
       "      <td>0.0000</td>\n",
       "      <td>0.0040</td>\n",
       "    </tr>\n",
       "    <tr>\n",
       "      <th>02:03</th>\n",
       "      <td>0.0000</td>\n",
       "      <td>0.0000</td>\n",
       "      <td>0.0140</td>\n",
       "      <td>0.0000</td>\n",
       "      <td>0.0000</td>\n",
       "      <td>0.0000</td>\n",
       "      <td>0.0000</td>\n",
       "      <td>0.0000</td>\n",
       "      <td>0.0000</td>\n",
       "      <td>0.0050</td>\n",
       "      <td>...</td>\n",
       "      <td>0.0000</td>\n",
       "      <td>0.0000</td>\n",
       "      <td>0.0170</td>\n",
       "      <td>0.0000</td>\n",
       "      <td>0.0000</td>\n",
       "      <td>0.0000</td>\n",
       "      <td>0.0000</td>\n",
       "      <td>0.0000</td>\n",
       "      <td>0.0000</td>\n",
       "      <td>0.0040</td>\n",
       "    </tr>\n",
       "    <tr>\n",
       "      <th>02:04</th>\n",
       "      <td>0.0000</td>\n",
       "      <td>0.0000</td>\n",
       "      <td>0.0000</td>\n",
       "      <td>0.0000</td>\n",
       "      <td>0.0000</td>\n",
       "      <td>0.0000</td>\n",
       "      <td>0.0000</td>\n",
       "      <td>0.0000</td>\n",
       "      <td>0.0000</td>\n",
       "      <td>0.0050</td>\n",
       "      <td>...</td>\n",
       "      <td>0.0000</td>\n",
       "      <td>0.0000</td>\n",
       "      <td>0.0170</td>\n",
       "      <td>0.0000</td>\n",
       "      <td>0.0000</td>\n",
       "      <td>0.0000</td>\n",
       "      <td>0.0000</td>\n",
       "      <td>0.0000</td>\n",
       "      <td>0.0000</td>\n",
       "      <td>0.0040</td>\n",
       "    </tr>\n",
       "    <tr>\n",
       "      <th>...</th>\n",
       "      <td>...</td>\n",
       "      <td>...</td>\n",
       "      <td>...</td>\n",
       "      <td>...</td>\n",
       "      <td>...</td>\n",
       "      <td>...</td>\n",
       "      <td>...</td>\n",
       "      <td>...</td>\n",
       "      <td>...</td>\n",
       "      <td>...</td>\n",
       "      <td>...</td>\n",
       "      <td>...</td>\n",
       "      <td>...</td>\n",
       "      <td>...</td>\n",
       "      <td>...</td>\n",
       "      <td>...</td>\n",
       "      <td>...</td>\n",
       "      <td>...</td>\n",
       "      <td>...</td>\n",
       "      <td>...</td>\n",
       "      <td>...</td>\n",
       "    </tr>\n",
       "    <tr>\n",
       "      <th>01:56</th>\n",
       "      <td>0.0000</td>\n",
       "      <td>0.0000</td>\n",
       "      <td>0.0000</td>\n",
       "      <td>0.0000</td>\n",
       "      <td>0.0270</td>\n",
       "      <td>0.0000</td>\n",
       "      <td>0.0000</td>\n",
       "      <td>0.0000</td>\n",
       "      <td>0.0000</td>\n",
       "      <td>0.0000</td>\n",
       "      <td>...</td>\n",
       "      <td>0.0130</td>\n",
       "      <td>0.0000</td>\n",
       "      <td>0.0000</td>\n",
       "      <td>0.0000</td>\n",
       "      <td>0.0150</td>\n",
       "      <td>0.0000</td>\n",
       "      <td>0.0000</td>\n",
       "      <td>0.0000</td>\n",
       "      <td>0.0000</td>\n",
       "      <td>0.0040</td>\n",
       "    </tr>\n",
       "    <tr>\n",
       "      <th>01:57</th>\n",
       "      <td>0.0000</td>\n",
       "      <td>0.0000</td>\n",
       "      <td>0.0000</td>\n",
       "      <td>0.0000</td>\n",
       "      <td>0.0000</td>\n",
       "      <td>0.0000</td>\n",
       "      <td>0.0000</td>\n",
       "      <td>0.0000</td>\n",
       "      <td>0.0040</td>\n",
       "      <td>0.0000</td>\n",
       "      <td>...</td>\n",
       "      <td>0.0130</td>\n",
       "      <td>0.0000</td>\n",
       "      <td>0.0000</td>\n",
       "      <td>0.0000</td>\n",
       "      <td>0.0150</td>\n",
       "      <td>0.0000</td>\n",
       "      <td>0.0000</td>\n",
       "      <td>0.0000</td>\n",
       "      <td>0.0000</td>\n",
       "      <td>0.0040</td>\n",
       "    </tr>\n",
       "    <tr>\n",
       "      <th>01:58</th>\n",
       "      <td>0.0000</td>\n",
       "      <td>0.0000</td>\n",
       "      <td>0.0000</td>\n",
       "      <td>0.0000</td>\n",
       "      <td>0.0000</td>\n",
       "      <td>0.0000</td>\n",
       "      <td>0.0000</td>\n",
       "      <td>0.0000</td>\n",
       "      <td>0.0040</td>\n",
       "      <td>0.0000</td>\n",
       "      <td>...</td>\n",
       "      <td>0.0130</td>\n",
       "      <td>0.0170</td>\n",
       "      <td>0.0000</td>\n",
       "      <td>0.0000</td>\n",
       "      <td>0.0150</td>\n",
       "      <td>0.0000</td>\n",
       "      <td>0.0000</td>\n",
       "      <td>0.0190</td>\n",
       "      <td>0.0000</td>\n",
       "      <td>0.0040</td>\n",
       "    </tr>\n",
       "    <tr>\n",
       "      <th>01:59</th>\n",
       "      <td>0.0000</td>\n",
       "      <td>0.0000</td>\n",
       "      <td>0.0000</td>\n",
       "      <td>0.0000</td>\n",
       "      <td>0.0000</td>\n",
       "      <td>0.0000</td>\n",
       "      <td>0.0000</td>\n",
       "      <td>0.0000</td>\n",
       "      <td>0.0040</td>\n",
       "      <td>0.0000</td>\n",
       "      <td>...</td>\n",
       "      <td>0.0130</td>\n",
       "      <td>0.0000</td>\n",
       "      <td>0.0000</td>\n",
       "      <td>0.0000</td>\n",
       "      <td>0.0150</td>\n",
       "      <td>0.0000</td>\n",
       "      <td>0.0000</td>\n",
       "      <td>0.0000</td>\n",
       "      <td>0.0000</td>\n",
       "      <td>0.0040</td>\n",
       "    </tr>\n",
       "    <tr>\n",
       "      <th>월화수목금토일02:00-01:59</th>\n",
       "      <td>0.0040</td>\n",
       "      <td>0.0060</td>\n",
       "      <td>0.0020</td>\n",
       "      <td>0.0030</td>\n",
       "      <td>0.0020</td>\n",
       "      <td>0.0030</td>\n",
       "      <td>0.0030</td>\n",
       "      <td>0.0020</td>\n",
       "      <td>0.0030</td>\n",
       "      <td>0.0020</td>\n",
       "      <td>...</td>\n",
       "      <td>0.0100</td>\n",
       "      <td>0.0060</td>\n",
       "      <td>0.0060</td>\n",
       "      <td>0.0070</td>\n",
       "      <td>0.0040</td>\n",
       "      <td>0.0060</td>\n",
       "      <td>0.0040</td>\n",
       "      <td>0.0050</td>\n",
       "      <td>0.0050</td>\n",
       "      <td>0.0040</td>\n",
       "    </tr>\n",
       "  </tbody>\n",
       "</table>\n",
       "<p>1441 rows × 366 columns</p>\n",
       "</div>"
      ],
      "text/plain": [
       "                    2019-01-01  2019-01-02  2019-01-03  2019-01-04  \\\n",
       "시간대                                                                  \n",
       "02:00                   0.0000      0.0000      0.0000      0.0000   \n",
       "02:01                   0.0000      0.0000      0.0000      0.0000   \n",
       "02:02                   0.0000      0.0000      0.0000      0.0000   \n",
       "02:03                   0.0000      0.0000      0.0140      0.0000   \n",
       "02:04                   0.0000      0.0000      0.0000      0.0000   \n",
       "...                        ...         ...         ...         ...   \n",
       "01:56                   0.0000      0.0000      0.0000      0.0000   \n",
       "01:57                   0.0000      0.0000      0.0000      0.0000   \n",
       "01:58                   0.0000      0.0000      0.0000      0.0000   \n",
       "01:59                   0.0000      0.0000      0.0000      0.0000   \n",
       "월화수목금토일02:00-01:59      0.0040      0.0060      0.0020      0.0030   \n",
       "\n",
       "                    2019-01-05  2019-01-06  2019-01-07  2019-01-08  \\\n",
       "시간대                                                                  \n",
       "02:00                   0.0000      0.0000      0.0000      0.0000   \n",
       "02:01                   0.0000      0.0000      0.0000      0.0000   \n",
       "02:02                   0.0000      0.0000      0.0000      0.0000   \n",
       "02:03                   0.0000      0.0000      0.0000      0.0000   \n",
       "02:04                   0.0000      0.0000      0.0000      0.0000   \n",
       "...                        ...         ...         ...         ...   \n",
       "01:56                   0.0270      0.0000      0.0000      0.0000   \n",
       "01:57                   0.0000      0.0000      0.0000      0.0000   \n",
       "01:58                   0.0000      0.0000      0.0000      0.0000   \n",
       "01:59                   0.0000      0.0000      0.0000      0.0000   \n",
       "월화수목금토일02:00-01:59      0.0020      0.0030      0.0030      0.0020   \n",
       "\n",
       "                    2019-01-09  2019-01-10  ...  2019-12-23  2019-12-24  \\\n",
       "시간대                                         ...                           \n",
       "02:00                   0.0000      0.0000  ...      0.0000      0.0000   \n",
       "02:01                   0.0000      0.0050  ...      0.0000      0.0000   \n",
       "02:02                   0.0000      0.0050  ...      0.0000      0.0000   \n",
       "02:03                   0.0000      0.0050  ...      0.0000      0.0000   \n",
       "02:04                   0.0000      0.0050  ...      0.0000      0.0000   \n",
       "...                        ...         ...  ...         ...         ...   \n",
       "01:56                   0.0000      0.0000  ...      0.0130      0.0000   \n",
       "01:57                   0.0040      0.0000  ...      0.0130      0.0000   \n",
       "01:58                   0.0040      0.0000  ...      0.0130      0.0170   \n",
       "01:59                   0.0040      0.0000  ...      0.0130      0.0000   \n",
       "월화수목금토일02:00-01:59      0.0030      0.0020  ...      0.0100      0.0060   \n",
       "\n",
       "                    2019-12-25  2019-12-26  2019-12-27  2019-12-28  \\\n",
       "시간대                                                                  \n",
       "02:00                   0.0000      0.0000      0.0000      0.0000   \n",
       "02:01                   0.0000      0.0000      0.0000      0.0000   \n",
       "02:02                   0.0000      0.0000      0.0000      0.0000   \n",
       "02:03                   0.0170      0.0000      0.0000      0.0000   \n",
       "02:04                   0.0170      0.0000      0.0000      0.0000   \n",
       "...                        ...         ...         ...         ...   \n",
       "01:56                   0.0000      0.0000      0.0150      0.0000   \n",
       "01:57                   0.0000      0.0000      0.0150      0.0000   \n",
       "01:58                   0.0000      0.0000      0.0150      0.0000   \n",
       "01:59                   0.0000      0.0000      0.0150      0.0000   \n",
       "월화수목금토일02:00-01:59      0.0060      0.0070      0.0040      0.0060   \n",
       "\n",
       "                    2019-12-29  2019-12-30  2019-12-31  \\\n",
       "시간대                                                      \n",
       "02:00                   0.0000      0.0000      0.0000   \n",
       "02:01                   0.0000      0.0000      0.0120   \n",
       "02:02                   0.0000      0.0000      0.0000   \n",
       "02:03                   0.0000      0.0000      0.0000   \n",
       "02:04                   0.0000      0.0000      0.0000   \n",
       "...                        ...         ...         ...   \n",
       "01:56                   0.0000      0.0000      0.0000   \n",
       "01:57                   0.0000      0.0000      0.0000   \n",
       "01:58                   0.0000      0.0190      0.0000   \n",
       "01:59                   0.0000      0.0000      0.0000   \n",
       "월화수목금토일02:00-01:59      0.0040      0.0050      0.0050   \n",
       "\n",
       "                    2019-01-01 to 2019-12-31  \n",
       "시간대                                           \n",
       "02:00                                 0.0030  \n",
       "02:01                                 0.0030  \n",
       "02:02                                 0.0040  \n",
       "02:03                                 0.0040  \n",
       "02:04                                 0.0040  \n",
       "...                                      ...  \n",
       "01:56                                 0.0040  \n",
       "01:57                                 0.0040  \n",
       "01:58                                 0.0040  \n",
       "01:59                                 0.0040  \n",
       "월화수목금토일02:00-01:59                    0.0040  \n",
       "\n",
       "[1441 rows x 366 columns]"
      ]
     },
     "execution_count": 12,
     "metadata": {},
     "output_type": "execute_result"
    }
   ],
   "source": [
    "data['rating'] = pd.read_excel('./data/01_제공데이터/2020 빅콘테스트 데이터분석분야-챔피언리그_시청률 데이터.xlsx',\n",
    "                          skiprows=1,\n",
    "                          index_col=0,\n",
    "                          )\n",
    "data['rating']"
   ]
  },
  {
   "cell_type": "markdown",
   "metadata": {},
   "source": [
    "---\n",
    "\n",
    "## 데이터 전처리(Data Preprocessing)"
   ]
  },
  {
   "cell_type": "markdown",
   "metadata": {},
   "source": [
    "### 결측치 확인하기"
   ]
  },
  {
   "cell_type": "code",
   "execution_count": 13,
   "metadata": {
    "ExecuteTime": {
     "end_time": "2020-09-25T10:17:03.231051Z",
     "start_time": "2020-09-25T10:17:02.895948Z"
    }
   },
   "outputs": [
    {
     "data": {
      "image/png": "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\n",
      "text/plain": [
       "<Figure size 1800x720 with 2 Axes>"
      ]
     },
     "metadata": {},
     "output_type": "display_data"
    }
   ],
   "source": [
    "msno.matrix(data['train'])\n",
    "plt.show()"
   ]
  },
  {
   "cell_type": "code",
   "execution_count": 14,
   "metadata": {
    "ExecuteTime": {
     "end_time": "2020-09-25T10:17:03.485371Z",
     "start_time": "2020-09-25T10:17:03.232050Z"
    }
   },
   "outputs": [
    {
     "data": {
      "image/png": "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\n",
      "text/plain": [
       "<Figure size 1800x720 with 2 Axes>"
      ]
     },
     "metadata": {},
     "output_type": "display_data"
    }
   ],
   "source": [
    "msno.matrix(data['test'])\n",
    "plt.show()"
   ]
  },
  {
   "cell_type": "markdown",
   "metadata": {},
   "source": [
    "### 방송시간에서 세부 시간 추출"
   ]
  },
  {
   "cell_type": "code",
   "execution_count": 15,
   "metadata": {
    "ExecuteTime": {
     "end_time": "2020-09-25T10:17:03.811498Z",
     "start_time": "2020-09-25T10:17:03.486368Z"
    }
   },
   "outputs": [],
   "source": [
    "data['train']['연'] = data['train'].index.map(lambda x: x.year)\n",
    "data['train']['월'] = data['train'].index.map(lambda x: x.month)\n",
    "data['train']['주'] = data['train'].index.map(lambda x: x.week)\n",
    "data['train']['일'] = data['train'].index.map(lambda x: x.day)\n",
    "data['train']['시'] = data['train'].index.map(lambda x: x.hour)\n",
    "data['train']['분'] = data['train'].index.map(lambda x: x.minute)\n",
    "data['train']['요일'] = data['train'].index.map(lambda x: calendar.day_abbr[x.weekday()])"
   ]
  },
  {
   "cell_type": "code",
   "execution_count": 16,
   "metadata": {
    "ExecuteTime": {
     "end_time": "2020-09-25T10:17:03.850395Z",
     "start_time": "2020-09-25T10:17:03.812496Z"
    }
   },
   "outputs": [],
   "source": [
    "data['test']['연'] = data['test'].index.map(lambda x: x.year)\n",
    "data['test']['월'] = data['test'].index.map(lambda x: x.month)\n",
    "data['test']['주'] = data['test'].index.map(lambda x: x.week)\n",
    "data['test']['일'] = data['test'].index.map(lambda x: x.day)\n",
    "data['test']['시'] = data['test'].index.map(lambda x: x.hour)\n",
    "data['test']['분'] = data['test'].index.map(lambda x: x.minute)\n",
    "data['test']['요일'] = data['test'].index.map(lambda x: calendar.day_abbr[x.weekday()])"
   ]
  },
  {
   "cell_type": "code",
   "execution_count": 17,
   "metadata": {
    "ExecuteTime": {
     "end_time": "2020-09-25T10:17:03.858373Z",
     "start_time": "2020-09-25T10:17:03.851392Z"
    }
   },
   "outputs": [],
   "source": [
    "data['train']['주'] = data['train'].index.map(lambda x: x.week)\n",
    "data['test']['주'] = data['test'].index.map(lambda x: x.week)"
   ]
  },
  {
   "cell_type": "markdown",
   "metadata": {},
   "source": [
    "### 노출시간 결측치 처리"
   ]
  },
  {
   "cell_type": "code",
   "execution_count": 18,
   "metadata": {
    "ExecuteTime": {
     "end_time": "2020-09-25T10:17:03.875328Z",
     "start_time": "2020-09-25T10:17:03.859371Z"
    }
   },
   "outputs": [],
   "source": [
    "# 노출시간이 비어있을땐 앞을 보면 됨\n",
    "data['train'] = data['train'].fillna(method='ffill')\n",
    "data['test'] = data['test'].fillna(method='ffill')"
   ]
  },
  {
   "cell_type": "markdown",
   "metadata": {},
   "source": [
    "### 자연어처리(Natural Language Processing)"
   ]
  },
  {
   "cell_type": "markdown",
   "metadata": {},
   "source": [
    "주어진 데이터에서 가장 핵심이 되는 특성은 **상품명**에 있다고 판단하였습니다. 상품명은 비록 한 열로 이루어져있지만, 상품명 자체로부터 뽑아낼 수 있는 특성이 다양하다고 생각했습니다. 예컨대, \"테이트 남성 셀린니트3종\"의 경우는 남성복이라는 특징과 테이트라는 브랜드, 니트라는 옷의 종류 등 뽑아낼 수 있는 정보가 다양합니다. 그러나 이를 뽑아내는 방법에 있어서 일반적인 방법이 존재하지 않습니다. 컴퓨터에게 직접 규칙기반 방법으로 남성과 여성, 무이자와 일시불과 같은 특성을 뽑도록 지시할 수는 있지만 이 지시하는 명령 자체를 만들기 위해서는 사람이 하나하나 전체 상품명을 살펴보며 적절한 특성을 생각해내야 한다는 치명적인 단점이 존재합니다. <br>\n",
    "저희는 이런 문제를 타결하기 위해 **자연어처리** 기술을 사용하였습니다. 이 기술로부터 저희가 달성하고자 하는 목표는 두 가지 입니다.\n",
    "<li> 사람이 직접 분류할 수 없는 분량의 상품명들에 대한 특성 추출 자동화</li>\n",
    "<li> 사람이 보지 못하는 자연어 사이 관계들에 대한 대수적 표현, 그리고 이를 통한 내재된 표현 추출</li>\n",
    "\n",
    "이 목표들을 달성하기 위한 과정들을 아래 기술합니다. 전체적인 과정은 아래와 같습니다.\n",
    "<ul>1. 불용어 및 결측치 제거</ul>\n",
    "<ul>2. 형태소 분석을 통한 통찰에 도움 되는 명사 위주의 형태소 추출</ul>\n",
    "<ul>3. Word2Vec 모델을 활용한 상품명들의 대수적 표현 생성(Embedding)</ul>\n",
    "<ul>4. PCA를 통한 차원 축소</ul>\n",
    "\n",
    "그리고 이 과정을 통하여 통계적 분석 방법을 통해 명사 위주의 형태소를 추출한 결과들로부터 파생 변수를 생성하였습니다.\n",
    "또한 Word2Vec으로부터 만들어낸 단어의 Embedding Vector를 활용하여 이 또한 파생 변수로 사용하였습니다."
   ]
  },
  {
   "cell_type": "markdown",
   "metadata": {},
   "source": [
    "#### 불용어 제거\n",
    "상품명 분석 과정에서 성능 저해를 불러 일으키는 큰 요소가 바로 불용어입니다. 대개 많은 형태소 분석기에서 이들을 자동으로 인식하지 않고 작업을 해주는 경우도 있으나, 저희는 더 높은 정확도를 위해 단어의 형태가 아닌 특수문자와 큰 공백들, 낱개의 자소문자들을 제거하였습니다."
   ]
  },
  {
   "cell_type": "code",
   "execution_count": 19,
   "metadata": {
    "ExecuteTime": {
     "end_time": "2020-09-25T10:17:03.881312Z",
     "start_time": "2020-09-25T10:17:03.876325Z"
    }
   },
   "outputs": [],
   "source": [
    "def re_sub(series: pd.Series) -> pd.Series:\n",
    "    series = series.str.replace(pat=r'[ㄱ-ㅎ]', repl=r'', regex=True)  # ㅋ 제거용\n",
    "    series = series.str.replace(pat=r'[^\\w\\s]', repl=r'', regex=True)  # 특수문자 제거\n",
    "    series = series.str.replace(pat=r'[ ]{2,}', repl=r' ', regex=True)  # 공백 제거\n",
    "    series = series.str.replace(pat=r'[\\u3000]+', repl=r'', regex=True)  # u3000 제거\n",
    "    return series"
   ]
  },
  {
   "cell_type": "code",
   "execution_count": 20,
   "metadata": {
    "ExecuteTime": {
     "end_time": "2020-09-25T10:17:04.071803Z",
     "start_time": "2020-09-25T10:17:03.882309Z"
    }
   },
   "outputs": [],
   "source": [
    "train = data['train'][['상품명', '상품군']].copy()\n",
    "train.상품명 = re_sub(train.상품명)"
   ]
  },
  {
   "cell_type": "code",
   "execution_count": 21,
   "metadata": {
    "ExecuteTime": {
     "end_time": "2020-09-25T10:17:04.090752Z",
     "start_time": "2020-09-25T10:17:04.072800Z"
    }
   },
   "outputs": [],
   "source": [
    "test = data['test'][['상품명', '상품군']].copy()\n",
    "test.상품명 = re_sub(test.상품명)"
   ]
  },
  {
   "cell_type": "code",
   "execution_count": 22,
   "metadata": {
    "ExecuteTime": {
     "end_time": "2020-09-25T10:17:04.118678Z",
     "start_time": "2020-09-25T10:17:04.091750Z"
    }
   },
   "outputs": [],
   "source": [
    "prod_names = (train[train.상품군 != '무형'].상품명 + ' ' + train[train.상품군 != '무형'].상품군).values # len(prod_names) > 1692 (무형 빼고)\n",
    "prod_names_test = (test[test.상품군 != '무형'].상품명 + ' ' + test[test.상품군 != '무형'].상품군).values # len(prod_names) > 1692 (무형 빼고)"
   ]
  },
  {
   "cell_type": "code",
   "execution_count": 23,
   "metadata": {
    "ExecuteTime": {
     "end_time": "2020-09-25T10:17:04.124662Z",
     "start_time": "2020-09-25T10:17:04.119676Z"
    }
   },
   "outputs": [
    {
     "data": {
      "text/plain": [
       "(37368, 2716)"
      ]
     },
     "execution_count": 23,
     "metadata": {},
     "output_type": "execute_result"
    }
   ],
   "source": [
    "len(prod_names), len(prod_names_test)"
   ]
  },
  {
   "cell_type": "markdown",
   "metadata": {},
   "source": [
    "#### KOMORAN을 통하여 형태소 분석\n",
    "Komoran은 Java를 기반으로 제작된 한국어 형태소 분석기입니다. 저희가 Komoran을 사용한 이유는 아래와 같습니다.\n",
    "<li> Java를 기반으로 제작되어, JDK가 설치되어 있는 환경이라면 어디서든 사용이 가능하다는 점 </li>\n",
    "<li> Java의 우수한 계산 속도가 그대로 반영되어 있다는 점 </li>\n",
    "<li> 여타 형태소 분석기와 비교하였을 때, 자소분리, 오탈자, 비문을 더 잘 분석해낸다는 점 </li>\n",
    "이 형태소 분석기를 통해 1차적으로 고유 상품명에 대해 형태소 분석을 진행하였습니다. 형태소 분석이라 함은 한 문장 내에서 각 단어 요소들이 문장 내 어떤 역할을 하고 있는지 분석하는 행위입니다. 아래와 같은 예시를 들자면"
   ]
  },
  {
   "cell_type": "code",
   "execution_count": 24,
   "metadata": {
    "ExecuteTime": {
     "end_time": "2020-09-25T10:17:07.266104Z",
     "start_time": "2020-09-25T10:17:04.128651Z"
    }
   },
   "outputs": [
    {
     "name": "stdout",
     "output_type": "stream",
     "text": [
      "[('KOMORAN', 'SL'), ('은', 'JX'), ('한국어', 'NNP'), ('형태소', 'NNP'), ('분석기', 'NNG'), ('이', 'VCP'), ('ㅂ니다', 'EF'), ('.', 'SF')]\n"
     ]
    }
   ],
   "source": [
    "komoran = Komoran(userdic='./data/04_추가데이터/user_dict_0913.txt')\n",
    "print(komoran.pos(\"KOMORAN은 한국어 형태소 분석기입니다.\"))"
   ]
  },
  {
   "cell_type": "markdown",
   "metadata": {},
   "source": [
    "위 문장 \"KOMORAN은 한국어 형태소 분석기입니다.\"를 형태소로 분석하면 KOMORAN은 SL, 즉 외국어로 분석하였고 '은'은 보조사, '한국어'는 고유 명사 등으로 분석을 하는 것입니다. 이 때 상품명에 대한 많은 정보를 제공해줄 수 있는 명사를 위주로 분석을 진행하였습니다."
   ]
  },
  {
   "cell_type": "code",
   "execution_count": 25,
   "metadata": {
    "ExecuteTime": {
     "end_time": "2020-09-25T10:17:19.243326Z",
     "start_time": "2020-09-25T10:17:07.269096Z"
    }
   },
   "outputs": [],
   "source": [
    "# 상품명에 대한 전체 형태소 분석\n",
    "naive_tokens = list(map(komoran.pos, prod_names))\n",
    "naive_tokens_test = list(map(komoran.pos, prod_names_test))"
   ]
  },
  {
   "cell_type": "code",
   "execution_count": 26,
   "metadata": {
    "ExecuteTime": {
     "end_time": "2020-09-25T10:17:19.359993Z",
     "start_time": "2020-09-25T10:17:19.243326Z"
    }
   },
   "outputs": [],
   "source": [
    "# 전체 형태소에서 유의미할 것으로 생각되는 형태소만 추출\n",
    "def morph_filter(lst):\n",
    "    return list(map(lambda x: x[0], filter(lambda x: (x[1] in usable_morphs), lst)))\n",
    "\n",
    "usable_morphs = ['NNG', 'NNP', 'NP', 'NR'] #+ ['SL', 'SN']\n",
    "naive_tokens = list(map(morph_filter, naive_tokens))\n",
    "naive_tokens_test = list(map(morph_filter, naive_tokens_test))"
   ]
  },
  {
   "cell_type": "code",
   "execution_count": 27,
   "metadata": {
    "ExecuteTime": {
     "end_time": "2020-09-25T10:17:19.414506Z",
     "start_time": "2020-09-25T10:17:19.359993Z"
    }
   },
   "outputs": [],
   "source": [
    "# 전체 단어에서 분석에 있어 영향을 끼치지 않을 것으로 생각되는 단어들 제외\n",
    "exclude_words = ['종', '인용']\n",
    "def exclude(lst):\n",
    "    return list(filter(lambda x: x not in exclude_words, lst))\n",
    "processed_tokens = list(map(exclude, naive_tokens))\n",
    "processed_tokens_test = list(map(exclude, naive_tokens_test))"
   ]
  },
  {
   "cell_type": "markdown",
   "metadata": {},
   "source": [
    "이렇게 유의미한 단어만 뽑아낸 결과에서 파생변수로 사용되면 좋을 것 같은 단어들을 뽑아내어 이를 활용하였습니다."
   ]
  },
  {
   "cell_type": "code",
   "execution_count": 28,
   "metadata": {
    "ExecuteTime": {
     "end_time": "2020-09-25T10:17:19.421871Z",
     "start_time": "2020-09-25T10:17:19.414506Z"
    }
   },
   "outputs": [
    {
     "data": {
      "text/plain": [
       "[['테이트', '남성', '셀린니트', '의류'],\n",
       " ['테이트', '여성', '셀린니트', '의류'],\n",
       " ['테이트', '남성', '셀린니트', '의류'],\n",
       " ['테이트', '여성', '셀린니트', '의류'],\n",
       " ['테이트', '남성', '셀린니트', '의류'],\n",
       " ['테이트', '여성', '셀린니트', '의류'],\n",
       " ['오모떼', '레이스', '파운데이션', '브라', '속옷'],\n",
       " ['오모떼', '레이스', '파운데이션', '브라', '속옷'],\n",
       " ['오모떼', '레이스', '파운데이션', '브라', '속옷'],\n",
       " ['CERINI', 'PAT', '남성', '소프트', '기모', '릴렉스', '팬츠', '의류']]"
      ]
     },
     "execution_count": 28,
     "metadata": {},
     "output_type": "execute_result"
    }
   ],
   "source": [
    "processed_tokens[:10]"
   ]
  },
  {
   "cell_type": "code",
   "execution_count": 29,
   "metadata": {
    "ExecuteTime": {
     "end_time": "2020-09-25T10:17:19.429763Z",
     "start_time": "2020-09-25T10:17:19.422868Z"
    }
   },
   "outputs": [
    {
     "data": {
      "text/plain": [
       "[['잭', '필드', '남성', '반팔', '셔츠', '의류'],\n",
       " ['잭', '필드', '남성', '반팔', '셔츠', '의류'],\n",
       " ['잭', '필드', '남성', '반팔', '셔츠', '의류'],\n",
       " ['쿠미투니카', '쿠', '레이시', '란쥬쉐이퍼', '팬티', '속옷'],\n",
       " ['쿠미투니카', '쿠', '레이시', '란쥬쉐이퍼', '팬티', '속옷'],\n",
       " ['쿠미투니카', '쿠', '레이시', '란쥬쉐이퍼', '팬티', '속옷'],\n",
       " ['바비리스', '퍼펙트', '볼륨', '스타일러', '이미용'],\n",
       " ['바비리스', '퍼펙트', '볼륨', '스타일러', '이미용'],\n",
       " ['바비리스', '퍼펙트', '볼륨', '스타일러', '이미용'],\n",
       " ['램프쿡', '자동', '회전', '냄비', '주방']]"
      ]
     },
     "execution_count": 29,
     "metadata": {},
     "output_type": "execute_result"
    }
   ],
   "source": [
    "processed_tokens_test[:10]"
   ]
  },
  {
   "cell_type": "markdown",
   "metadata": {},
   "source": [
    "#### 임베딩벡터 생성\n",
    "1차적으로 처리된 상품명들로부터 유의미한 단어들을 파생변수로 뽑아낸 뒤, 여기서 저희가 사람의 시각에서 보지 못하는 단어들 사이의 내재된 관계를 찾아내, 이 또한 변수로 활용하기 위해 저희는 **Word2Vec**이라는 단어 단위 임베딩 기술을 활용하였습니다. 이 기술은 앞뒤 단어의 맥락을 통해어 단어 사이의 관계를 파악해 이를 대수적 공간에 대응시키는 기술로, 언어를 수학적으로 활용하는 것이 가능해집니다. 예를 들어 여왕에서 왕을 뺐을 때 나오는 벡터는, 여자에서 남자를 뺐을 때 나오는 벡터와 유사합니다. 이 때 수학적 공간은 저희가 살고 있는 시간을 포함한 4차원의 공간이 아닌 100차원의 공간으로 대응시키게 됩니다. 이 단어들을 표현할 수 있는 가장 기본이 되는 재료가 100개가 된다고 해석할 수 있습니다."
   ]
  },
  {
   "cell_type": "code",
   "execution_count": 30,
   "metadata": {
    "ExecuteTime": {
     "end_time": "2020-09-25T10:17:20.430074Z",
     "start_time": "2020-09-25T10:17:19.430759Z"
    }
   },
   "outputs": [],
   "source": [
    "model_w2v = Word2Vec(sentences=processed_tokens, size=10, window=6, min_count=5, workers=4, sg=1)\n",
    "word_vectors = model_w2v.wv\n",
    "vocabs = word_vectors.vocab.keys()\n",
    "word_vectors_list = [word_vectors[v] for v in vocabs]"
   ]
  },
  {
   "cell_type": "code",
   "execution_count": 31,
   "metadata": {
    "ExecuteTime": {
     "end_time": "2020-09-25T10:17:20.436057Z",
     "start_time": "2020-09-25T10:17:20.431039Z"
    }
   },
   "outputs": [],
   "source": [
    "def sum_embed(lst):\n",
    "    wv = []\n",
    "    for word in lst:\n",
    "        try:\n",
    "            wv.append(word_vectors[word])\n",
    "        except:\n",
    "            pass\n",
    "    return sum(wv)"
   ]
  },
  {
   "cell_type": "markdown",
   "metadata": {},
   "source": [
    "Word2Vec 모델은 단어 단위를 임베딩하는 방법을 학습하게 됩니다. 즉 처음에 예시로 들었던 \"테이트 남성 셀린니트 3종\"의 경우 '테이트', '남성', '니트'가 같이 붙어있다는 것을 활용하여 각각의 단어들을 100차원의 공간으로 임베딩 시키게 됩니다. 그렇다면 \"테이트 남성 셀린니트 3종\"을 수학적으로 표현하려면 각각 테이트, 남성, 니트 벡터들을 모두 합해주는 방법을 취했습니다. 이 방법에 대한 타당성은 클러스터링된 그림을 첨부합니다."
   ]
  },
  {
   "cell_type": "code",
   "execution_count": 32,
   "metadata": {
    "ExecuteTime": {
     "end_time": "2020-09-25T10:17:20.943667Z",
     "start_time": "2020-09-25T10:17:20.437022Z"
    }
   },
   "outputs": [],
   "source": [
    "embedded_tokens = list(map(sum_embed, processed_tokens))\n",
    "embedded_tokens_test = list(map(sum_embed, processed_tokens_test))"
   ]
  },
  {
   "cell_type": "markdown",
   "metadata": {},
   "source": [
    "#### PCA를 통하여 차원 축소\n",
    "비록 저 100차원의 벡터를 모두 파생변수로 활용하면 좋겠지만, 모델이 데이터를 해석하는 능력에 있어서 변수의 수를 조절해줄 필요가 있기에 저희는 100차원으로 대응시킨 대수적 표현에 대해 차원 축소 과정을 진행하였습니다. 이 과정은 PCA라는 선형대수적 방법을 활용한 것으로 데이터에 대한 손실을 최소화하면서 차원을 축소하는 방법으로 현재 상품명들을 모두 10차원의 벡터로 축소하였습니다.\n",
    "<br>\n",
    "처음부터 Word2Vec을 10차원으로 만들지 않은 이유는 더 풍부하게 표현한 뒤에 축소하는 것이 논리적으로 타당하기 때문입니다."
   ]
  },
  {
   "cell_type": "code",
   "execution_count": 33,
   "metadata": {
    "ExecuteTime": {
     "end_time": "2020-09-25T10:17:21.008079Z",
     "start_time": "2020-09-25T10:17:20.944665Z"
    }
   },
   "outputs": [
    {
     "name": "stdout",
     "output_type": "stream",
     "text": [
      "CPU times: user 99.7 ms, sys: 4.08 ms, total: 104 ms\n",
      "Wall time: 38.9 ms\n"
     ]
    }
   ],
   "source": [
    "%%time\n",
    "pca = PCA(n_components=10)\n",
    "pca.fit(embedded_tokens)\n",
    "xys = pca.transform(embedded_tokens)\n",
    "xys_test = pca.transform(embedded_tokens_test)"
   ]
  },
  {
   "cell_type": "code",
   "execution_count": 34,
   "metadata": {
    "ExecuteTime": {
     "end_time": "2020-09-25T10:17:21.016306Z",
     "start_time": "2020-09-25T10:17:21.009075Z"
    }
   },
   "outputs": [
    {
     "data": {
      "text/plain": [
       "(37368, 10)"
      ]
     },
     "execution_count": 34,
     "metadata": {},
     "output_type": "execute_result"
    }
   ],
   "source": [
    "xys.shape  # 무형 제외"
   ]
  },
  {
   "cell_type": "code",
   "execution_count": 35,
   "metadata": {
    "ExecuteTime": {
     "end_time": "2020-09-25T10:17:21.187432Z",
     "start_time": "2020-09-25T10:17:21.017303Z"
    }
   },
   "outputs": [
    {
     "data": {
      "text/plain": [
       "(2716, 10)"
      ]
     },
     "execution_count": 35,
     "metadata": {},
     "output_type": "execute_result"
    }
   ],
   "source": [
    "xys_test.shape  # 무형 제외"
   ]
  },
  {
   "cell_type": "markdown",
   "metadata": {},
   "source": [
    "---\n",
    "\n",
    "## 탐색적 데이터 분석(Exploratory Data Analysis)"
   ]
  },
  {
   "cell_type": "markdown",
   "metadata": {},
   "source": [
    "### 데이터 형태"
   ]
  },
  {
   "cell_type": "code",
   "execution_count": 36,
   "metadata": {
    "ExecuteTime": {
     "end_time": "2020-09-25T10:17:21.193255Z",
     "start_time": "2020-09-25T10:17:21.188430Z"
    }
   },
   "outputs": [
    {
     "data": {
      "text/plain": [
       "(38300, 14)"
      ]
     },
     "execution_count": 36,
     "metadata": {},
     "output_type": "execute_result"
    }
   ],
   "source": [
    "data['train'].shape"
   ]
  },
  {
   "cell_type": "code",
   "execution_count": 37,
   "metadata": {
    "ExecuteTime": {
     "end_time": "2020-09-25T10:17:21.198240Z",
     "start_time": "2020-09-25T10:17:21.194252Z"
    }
   },
   "outputs": [
    {
     "data": {
      "text/plain": [
       "(2891, 14)"
      ]
     },
     "execution_count": 37,
     "metadata": {},
     "output_type": "execute_result"
    }
   ],
   "source": [
    "data['test'].shape"
   ]
  },
  {
   "cell_type": "markdown",
   "metadata": {},
   "source": [
    "### 데이터의 컬럼"
   ]
  },
  {
   "cell_type": "code",
   "execution_count": 38,
   "metadata": {
    "ExecuteTime": {
     "end_time": "2020-09-25T10:17:21.204226Z",
     "start_time": "2020-09-25T10:17:21.199238Z"
    }
   },
   "outputs": [
    {
     "data": {
      "text/plain": [
       "Index(['노출(분)', '마더코드', '상품코드', '상품명', '상품군', '판매단가', '취급액', '연', '월', '주',\n",
       "       '일', '시', '분', '요일'],\n",
       "      dtype='object')"
      ]
     },
     "execution_count": 38,
     "metadata": {},
     "output_type": "execute_result"
    }
   ],
   "source": [
    "data['train'].columns"
   ]
  },
  {
   "cell_type": "code",
   "execution_count": 39,
   "metadata": {
    "ExecuteTime": {
     "end_time": "2020-09-25T10:17:21.209211Z",
     "start_time": "2020-09-25T10:17:21.205223Z"
    }
   },
   "outputs": [
    {
     "data": {
      "text/plain": [
       "Index(['노출(분)', '마더코드', '상품코드', '상품명', '상품군', '판매단가', '취급액', '연', '월', '주',\n",
       "       '일', '시', '분', '요일'],\n",
       "      dtype='object')"
      ]
     },
     "execution_count": 39,
     "metadata": {},
     "output_type": "execute_result"
    }
   ],
   "source": [
    "data['test'].columns"
   ]
  },
  {
   "cell_type": "markdown",
   "metadata": {},
   "source": [
    "### 데이터 타입"
   ]
  },
  {
   "cell_type": "code",
   "execution_count": 40,
   "metadata": {
    "ExecuteTime": {
     "end_time": "2020-09-25T10:17:21.226255Z",
     "start_time": "2020-09-25T10:17:21.210209Z"
    }
   },
   "outputs": [
    {
     "name": "stdout",
     "output_type": "stream",
     "text": [
      "<class 'pandas.core.frame.DataFrame'>\n",
      "DatetimeIndex: 38300 entries, 2019-01-01 06:00:00 to 2019-12-31 23:40:00\n",
      "Data columns (total 14 columns):\n",
      " #   Column  Non-Null Count  Dtype  \n",
      "---  ------  --------------  -----  \n",
      " 0   노출(분)   38300 non-null  float64\n",
      " 1   마더코드    38300 non-null  int64  \n",
      " 2   상품코드    38300 non-null  int64  \n",
      " 3   상품명     38300 non-null  object \n",
      " 4   상품군     38300 non-null  object \n",
      " 5   판매단가    38300 non-null  int64  \n",
      " 6   취급액     38300 non-null  float64\n",
      " 7   연       38300 non-null  int64  \n",
      " 8   월       38300 non-null  int64  \n",
      " 9   주       38300 non-null  int64  \n",
      " 10  일       38300 non-null  int64  \n",
      " 11  시       38300 non-null  int64  \n",
      " 12  분       38300 non-null  int64  \n",
      " 13  요일      38300 non-null  object \n",
      "dtypes: float64(2), int64(9), object(3)\n",
      "memory usage: 4.4+ MB\n"
     ]
    }
   ],
   "source": [
    "data['train'].info()"
   ]
  },
  {
   "cell_type": "code",
   "execution_count": 41,
   "metadata": {
    "ExecuteTime": {
     "end_time": "2020-09-25T10:17:21.236261Z",
     "start_time": "2020-09-25T10:17:21.227252Z"
    }
   },
   "outputs": [
    {
     "name": "stdout",
     "output_type": "stream",
     "text": [
      "<class 'pandas.core.frame.DataFrame'>\n",
      "DatetimeIndex: 2891 entries, 2020-06-01 06:20:00 to 2020-07-01 01:40:00\n",
      "Data columns (total 14 columns):\n",
      " #   Column  Non-Null Count  Dtype  \n",
      "---  ------  --------------  -----  \n",
      " 0   노출(분)   2891 non-null   float64\n",
      " 1   마더코드    2891 non-null   int64  \n",
      " 2   상품코드    2891 non-null   int64  \n",
      " 3   상품명     2891 non-null   object \n",
      " 4   상품군     2891 non-null   object \n",
      " 5   판매단가    2891 non-null   int64  \n",
      " 6   취급액     0 non-null      float64\n",
      " 7   연       2891 non-null   int64  \n",
      " 8   월       2891 non-null   int64  \n",
      " 9   주       2891 non-null   int64  \n",
      " 10  일       2891 non-null   int64  \n",
      " 11  시       2891 non-null   int64  \n",
      " 12  분       2891 non-null   int64  \n",
      " 13  요일      2891 non-null   object \n",
      "dtypes: float64(2), int64(9), object(3)\n",
      "memory usage: 338.8+ KB\n"
     ]
    }
   ],
   "source": [
    "data['test'].info()"
   ]
  },
  {
   "cell_type": "markdown",
   "metadata": {},
   "source": [
    "### 데이터 기초 통계량"
   ]
  },
  {
   "cell_type": "code",
   "execution_count": 42,
   "metadata": {
    "ExecuteTime": {
     "end_time": "2020-09-25T10:17:21.277931Z",
     "start_time": "2020-09-25T10:17:21.237259Z"
    }
   },
   "outputs": [
    {
     "data": {
      "text/html": [
       "<div>\n",
       "<style scoped>\n",
       "    .dataframe tbody tr th:only-of-type {\n",
       "        vertical-align: middle;\n",
       "    }\n",
       "\n",
       "    .dataframe tbody tr th {\n",
       "        vertical-align: top;\n",
       "    }\n",
       "\n",
       "    .dataframe thead th {\n",
       "        text-align: right;\n",
       "    }\n",
       "</style>\n",
       "<table border=\"1\" class=\"dataframe\">\n",
       "  <thead>\n",
       "    <tr style=\"text-align: right;\">\n",
       "      <th></th>\n",
       "      <th>노출(분)</th>\n",
       "      <th>마더코드</th>\n",
       "      <th>상품코드</th>\n",
       "      <th>판매단가</th>\n",
       "      <th>취급액</th>\n",
       "      <th>연</th>\n",
       "      <th>월</th>\n",
       "      <th>주</th>\n",
       "      <th>일</th>\n",
       "      <th>시</th>\n",
       "      <th>분</th>\n",
       "    </tr>\n",
       "  </thead>\n",
       "  <tbody>\n",
       "    <tr>\n",
       "      <th>count</th>\n",
       "      <td>38300.0000</td>\n",
       "      <td>38300.0000</td>\n",
       "      <td>38300.0000</td>\n",
       "      <td>38300.0000</td>\n",
       "      <td>38300.0000</td>\n",
       "      <td>38300.0000</td>\n",
       "      <td>38300.0000</td>\n",
       "      <td>38300.0000</td>\n",
       "      <td>38300.0000</td>\n",
       "      <td>38300.0000</td>\n",
       "      <td>38300.0000</td>\n",
       "    </tr>\n",
       "    <tr>\n",
       "      <th>mean</th>\n",
       "      <td>20.4451</td>\n",
       "      <td>100390.9859</td>\n",
       "      <td>201219.9726</td>\n",
       "      <td>456644.0078</td>\n",
       "      <td>23116300.6789</td>\n",
       "      <td>2019.0000</td>\n",
       "      <td>6.5153</td>\n",
       "      <td>26.3793</td>\n",
       "      <td>15.4037</td>\n",
       "      <td>14.2717</td>\n",
       "      <td>20.0796</td>\n",
       "    </tr>\n",
       "    <tr>\n",
       "      <th>std</th>\n",
       "      <td>3.4164</td>\n",
       "      <td>249.9397</td>\n",
       "      <td>735.7036</td>\n",
       "      <td>726115.8633</td>\n",
       "      <td>20747022.7854</td>\n",
       "      <td>0.0000</td>\n",
       "      <td>3.3790</td>\n",
       "      <td>14.7418</td>\n",
       "      <td>8.7103</td>\n",
       "      <td>6.6986</td>\n",
       "      <td>16.4020</td>\n",
       "    </tr>\n",
       "    <tr>\n",
       "      <th>min</th>\n",
       "      <td>2.4667</td>\n",
       "      <td>100000.0000</td>\n",
       "      <td>200000.0000</td>\n",
       "      <td>0.0000</td>\n",
       "      <td>103000.0000</td>\n",
       "      <td>2019.0000</td>\n",
       "      <td>1.0000</td>\n",
       "      <td>1.0000</td>\n",
       "      <td>1.0000</td>\n",
       "      <td>0.0000</td>\n",
       "      <td>0.0000</td>\n",
       "    </tr>\n",
       "    <tr>\n",
       "      <th>25%</th>\n",
       "      <td>20.0000</td>\n",
       "      <td>100155.0000</td>\n",
       "      <td>200550.0000</td>\n",
       "      <td>59000.0000</td>\n",
       "      <td>7712000.0000</td>\n",
       "      <td>2019.0000</td>\n",
       "      <td>4.0000</td>\n",
       "      <td>14.0000</td>\n",
       "      <td>8.0000</td>\n",
       "      <td>10.0000</td>\n",
       "      <td>0.0000</td>\n",
       "    </tr>\n",
       "    <tr>\n",
       "      <th>50%</th>\n",
       "      <td>20.0000</td>\n",
       "      <td>100346.0000</td>\n",
       "      <td>201167.0000</td>\n",
       "      <td>109000.0000</td>\n",
       "      <td>16961000.0000</td>\n",
       "      <td>2019.0000</td>\n",
       "      <td>6.0000</td>\n",
       "      <td>26.0000</td>\n",
       "      <td>15.0000</td>\n",
       "      <td>15.0000</td>\n",
       "      <td>20.0000</td>\n",
       "    </tr>\n",
       "    <tr>\n",
       "      <th>75%</th>\n",
       "      <td>20.0000</td>\n",
       "      <td>100596.0000</td>\n",
       "      <td>201863.0000</td>\n",
       "      <td>499000.0000</td>\n",
       "      <td>32718250.0000</td>\n",
       "      <td>2019.0000</td>\n",
       "      <td>9.0000</td>\n",
       "      <td>39.0000</td>\n",
       "      <td>23.0000</td>\n",
       "      <td>21.0000</td>\n",
       "      <td>40.0000</td>\n",
       "    </tr>\n",
       "    <tr>\n",
       "      <th>max</th>\n",
       "      <td>60.0000</td>\n",
       "      <td>100849.0000</td>\n",
       "      <td>202513.0000</td>\n",
       "      <td>7930000.0000</td>\n",
       "      <td>322009000.0000</td>\n",
       "      <td>2019.0000</td>\n",
       "      <td>12.0000</td>\n",
       "      <td>52.0000</td>\n",
       "      <td>31.0000</td>\n",
       "      <td>23.0000</td>\n",
       "      <td>50.0000</td>\n",
       "    </tr>\n",
       "  </tbody>\n",
       "</table>\n",
       "</div>"
      ],
      "text/plain": [
       "           노출(분)        마더코드        상품코드         판매단가            취급액  \\\n",
       "count 38300.0000  38300.0000  38300.0000   38300.0000     38300.0000   \n",
       "mean     20.4451 100390.9859 201219.9726  456644.0078  23116300.6789   \n",
       "std       3.4164    249.9397    735.7036  726115.8633  20747022.7854   \n",
       "min       2.4667 100000.0000 200000.0000       0.0000    103000.0000   \n",
       "25%      20.0000 100155.0000 200550.0000   59000.0000   7712000.0000   \n",
       "50%      20.0000 100346.0000 201167.0000  109000.0000  16961000.0000   \n",
       "75%      20.0000 100596.0000 201863.0000  499000.0000  32718250.0000   \n",
       "max      60.0000 100849.0000 202513.0000 7930000.0000 322009000.0000   \n",
       "\n",
       "               연          월          주          일          시          분  \n",
       "count 38300.0000 38300.0000 38300.0000 38300.0000 38300.0000 38300.0000  \n",
       "mean   2019.0000     6.5153    26.3793    15.4037    14.2717    20.0796  \n",
       "std       0.0000     3.3790    14.7418     8.7103     6.6986    16.4020  \n",
       "min    2019.0000     1.0000     1.0000     1.0000     0.0000     0.0000  \n",
       "25%    2019.0000     4.0000    14.0000     8.0000    10.0000     0.0000  \n",
       "50%    2019.0000     6.0000    26.0000    15.0000    15.0000    20.0000  \n",
       "75%    2019.0000     9.0000    39.0000    23.0000    21.0000    40.0000  \n",
       "max    2019.0000    12.0000    52.0000    31.0000    23.0000    50.0000  "
      ]
     },
     "execution_count": 42,
     "metadata": {},
     "output_type": "execute_result"
    }
   ],
   "source": [
    "data['train'].describe()"
   ]
  },
  {
   "cell_type": "code",
   "execution_count": 43,
   "metadata": {
    "ExecuteTime": {
     "end_time": "2020-09-25T10:17:21.310597Z",
     "start_time": "2020-09-25T10:17:21.278930Z"
    }
   },
   "outputs": [
    {
     "data": {
      "text/html": [
       "<div>\n",
       "<style scoped>\n",
       "    .dataframe tbody tr th:only-of-type {\n",
       "        vertical-align: middle;\n",
       "    }\n",
       "\n",
       "    .dataframe tbody tr th {\n",
       "        vertical-align: top;\n",
       "    }\n",
       "\n",
       "    .dataframe thead th {\n",
       "        text-align: right;\n",
       "    }\n",
       "</style>\n",
       "<table border=\"1\" class=\"dataframe\">\n",
       "  <thead>\n",
       "    <tr style=\"text-align: right;\">\n",
       "      <th></th>\n",
       "      <th>노출(분)</th>\n",
       "      <th>마더코드</th>\n",
       "      <th>상품코드</th>\n",
       "      <th>판매단가</th>\n",
       "      <th>취급액</th>\n",
       "      <th>연</th>\n",
       "      <th>월</th>\n",
       "      <th>주</th>\n",
       "      <th>일</th>\n",
       "      <th>시</th>\n",
       "      <th>분</th>\n",
       "    </tr>\n",
       "  </thead>\n",
       "  <tbody>\n",
       "    <tr>\n",
       "      <th>count</th>\n",
       "      <td>2891.0000</td>\n",
       "      <td>2891.0000</td>\n",
       "      <td>2891.0000</td>\n",
       "      <td>2891.0000</td>\n",
       "      <td>0.0000</td>\n",
       "      <td>2891.0000</td>\n",
       "      <td>2891.0000</td>\n",
       "      <td>2891.0000</td>\n",
       "      <td>2891.0000</td>\n",
       "      <td>2891.0000</td>\n",
       "      <td>2891.0000</td>\n",
       "    </tr>\n",
       "    <tr>\n",
       "      <th>mean</th>\n",
       "      <td>20.1797</td>\n",
       "      <td>100388.8212</td>\n",
       "      <td>201200.4618</td>\n",
       "      <td>401441.7848</td>\n",
       "      <td>nan</td>\n",
       "      <td>2020.0000</td>\n",
       "      <td>6.0038</td>\n",
       "      <td>24.5922</td>\n",
       "      <td>15.1013</td>\n",
       "      <td>13.8250</td>\n",
       "      <td>21.1138</td>\n",
       "    </tr>\n",
       "    <tr>\n",
       "      <th>std</th>\n",
       "      <td>4.4062</td>\n",
       "      <td>256.7364</td>\n",
       "      <td>775.0423</td>\n",
       "      <td>604648.0012</td>\n",
       "      <td>nan</td>\n",
       "      <td>0.0000</td>\n",
       "      <td>0.0616</td>\n",
       "      <td>1.2381</td>\n",
       "      <td>8.4976</td>\n",
       "      <td>6.4316</td>\n",
       "      <td>16.6093</td>\n",
       "    </tr>\n",
       "    <tr>\n",
       "      <th>min</th>\n",
       "      <td>5.9500</td>\n",
       "      <td>100003.0000</td>\n",
       "      <td>200003.0000</td>\n",
       "      <td>0.0000</td>\n",
       "      <td>nan</td>\n",
       "      <td>2020.0000</td>\n",
       "      <td>6.0000</td>\n",
       "      <td>23.0000</td>\n",
       "      <td>1.0000</td>\n",
       "      <td>0.0000</td>\n",
       "      <td>0.0000</td>\n",
       "    </tr>\n",
       "    <tr>\n",
       "      <th>25%</th>\n",
       "      <td>20.0000</td>\n",
       "      <td>100148.0000</td>\n",
       "      <td>200417.0000</td>\n",
       "      <td>40900.0000</td>\n",
       "      <td>nan</td>\n",
       "      <td>2020.0000</td>\n",
       "      <td>6.0000</td>\n",
       "      <td>24.0000</td>\n",
       "      <td>7.5000</td>\n",
       "      <td>10.0000</td>\n",
       "      <td>0.0000</td>\n",
       "    </tr>\n",
       "    <tr>\n",
       "      <th>50%</th>\n",
       "      <td>20.0000</td>\n",
       "      <td>100388.0000</td>\n",
       "      <td>201277.0000</td>\n",
       "      <td>79900.0000</td>\n",
       "      <td>nan</td>\n",
       "      <td>2020.0000</td>\n",
       "      <td>6.0000</td>\n",
       "      <td>25.0000</td>\n",
       "      <td>14.0000</td>\n",
       "      <td>14.0000</td>\n",
       "      <td>20.0000</td>\n",
       "    </tr>\n",
       "    <tr>\n",
       "      <th>75%</th>\n",
       "      <td>20.0000</td>\n",
       "      <td>100593.0000</td>\n",
       "      <td>201818.0000</td>\n",
       "      <td>548000.0000</td>\n",
       "      <td>nan</td>\n",
       "      <td>2020.0000</td>\n",
       "      <td>6.0000</td>\n",
       "      <td>26.0000</td>\n",
       "      <td>22.0000</td>\n",
       "      <td>20.0000</td>\n",
       "      <td>40.0000</td>\n",
       "    </tr>\n",
       "    <tr>\n",
       "      <th>max</th>\n",
       "      <td>60.0000</td>\n",
       "      <td>100849.0000</td>\n",
       "      <td>202511.0000</td>\n",
       "      <td>4320000.0000</td>\n",
       "      <td>nan</td>\n",
       "      <td>2020.0000</td>\n",
       "      <td>7.0000</td>\n",
       "      <td>27.0000</td>\n",
       "      <td>30.0000</td>\n",
       "      <td>23.0000</td>\n",
       "      <td>50.0000</td>\n",
       "    </tr>\n",
       "  </tbody>\n",
       "</table>\n",
       "</div>"
      ],
      "text/plain": [
       "          노출(분)        마더코드        상품코드         판매단가    취급액         연  \\\n",
       "count 2891.0000   2891.0000   2891.0000    2891.0000 0.0000 2891.0000   \n",
       "mean    20.1797 100388.8212 201200.4618  401441.7848    nan 2020.0000   \n",
       "std      4.4062    256.7364    775.0423  604648.0012    nan    0.0000   \n",
       "min      5.9500 100003.0000 200003.0000       0.0000    nan 2020.0000   \n",
       "25%     20.0000 100148.0000 200417.0000   40900.0000    nan 2020.0000   \n",
       "50%     20.0000 100388.0000 201277.0000   79900.0000    nan 2020.0000   \n",
       "75%     20.0000 100593.0000 201818.0000  548000.0000    nan 2020.0000   \n",
       "max     60.0000 100849.0000 202511.0000 4320000.0000    nan 2020.0000   \n",
       "\n",
       "              월         주         일         시         분  \n",
       "count 2891.0000 2891.0000 2891.0000 2891.0000 2891.0000  \n",
       "mean     6.0038   24.5922   15.1013   13.8250   21.1138  \n",
       "std      0.0616    1.2381    8.4976    6.4316   16.6093  \n",
       "min      6.0000   23.0000    1.0000    0.0000    0.0000  \n",
       "25%      6.0000   24.0000    7.5000   10.0000    0.0000  \n",
       "50%      6.0000   25.0000   14.0000   14.0000   20.0000  \n",
       "75%      6.0000   26.0000   22.0000   20.0000   40.0000  \n",
       "max      7.0000   27.0000   30.0000   23.0000   50.0000  "
      ]
     },
     "execution_count": 43,
     "metadata": {},
     "output_type": "execute_result"
    }
   ],
   "source": [
    "data['test'].describe()"
   ]
  },
  {
   "cell_type": "markdown",
   "metadata": {},
   "source": [
    "### 상품코드\n",
    "상품을 나타내는 key값으로 유추할 수 있음.\n",
    "<br> 상품코드: 마더코드 + 가격"
   ]
  },
  {
   "cell_type": "code",
   "execution_count": 44,
   "metadata": {
    "ExecuteTime": {
     "end_time": "2020-09-25T10:17:21.316605Z",
     "start_time": "2020-09-25T10:17:21.311595Z"
    }
   },
   "outputs": [
    {
     "data": {
      "text/plain": [
       "array([201072, 201079, 200974, ..., 201819, 201821, 201823])"
      ]
     },
     "execution_count": 44,
     "metadata": {},
     "output_type": "execute_result"
    }
   ],
   "source": [
    "data['train']['상품코드'].unique()"
   ]
  },
  {
   "cell_type": "code",
   "execution_count": 45,
   "metadata": {
    "ExecuteTime": {
     "end_time": "2020-09-25T10:17:21.323563Z",
     "start_time": "2020-09-25T10:17:21.317579Z"
    },
    "scrolled": true
   },
   "outputs": [
    {
     "data": {
      "text/plain": [
       "array([201971, 202278, 201247, 201956, 201091, 200016, 200217, 201673,\n",
       "       201671, 201641, 201150, 201616, 201251, 201250, 200424, 201319,\n",
       "       201520, 200416, 200419, 200422, 200724, 200727, 200730, 201016,\n",
       "       201017, 201643, 201596, 200668, 200867, 200876, 201130, 202125,\n",
       "       202296, 201454, 202460, 202459, 200651, 202508, 200588, 201024,\n",
       "       200184, 200186, 200179, 200181, 201277, 201279, 201276, 201258,\n",
       "       201259, 201501, 200556, 200489, 201699, 201752, 201698, 201751,\n",
       "       201697, 201750, 201041, 200273, 200272, 200274, 202052, 201418,\n",
       "       201037, 200917, 200266, 200270, 200900, 202368, 200368, 200369,\n",
       "       201464, 202259, 201938, 201578, 201656, 202430, 201033, 200020,\n",
       "       202484, 201011, 200143, 201969, 201968, 201039, 200621, 202252,\n",
       "       201632, 201337, 201336, 201334, 201335, 200291, 200289, 200292,\n",
       "       200290, 201813, 201817, 201811, 201815, 201923, 200317, 200316,\n",
       "       201253, 201252, 202364, 201882, 201042, 200194, 200873, 201036,\n",
       "       200212, 201341, 202247, 202246, 200300, 202239, 200966, 201595,\n",
       "       202226, 202224, 201808, 201957, 201316, 201294, 202128, 202129,\n",
       "       200092, 200079, 200083, 200099, 200067, 200064, 200060, 200059,\n",
       "       200723, 200726, 200729, 201814, 201818, 201812, 201816, 200421,\n",
       "       200418, 200415, 200486, 200553, 200188, 200187, 200063, 200058,\n",
       "       200096, 200071, 200066, 202053, 200426, 202241, 202244, 200705,\n",
       "       200689, 200709, 200693, 200713, 200697, 202123, 202120, 202121,\n",
       "       200072, 200074, 200195, 200863, 201331, 201333, 201332, 201943,\n",
       "       200994, 200995, 202426, 201447, 201676, 201728, 201810, 200005,\n",
       "       201410, 202042, 202040, 200565, 200380, 200378, 200379, 200381,\n",
       "       201954, 200615, 200613, 200614, 200612, 200147, 200564, 202258,\n",
       "       202275, 202371, 201588, 201148, 200425, 201966, 201965, 202391,\n",
       "       202396, 201657, 202428, 202427, 200304, 200006, 200007, 202506,\n",
       "       202507, 201338, 201269, 201271, 200124, 201953, 201732, 201680,\n",
       "       201731, 201679, 201730, 201678, 201729, 201677, 200484, 200551,\n",
       "       200012, 200193, 200221, 200222, 201283, 201273, 201274, 201275,\n",
       "       200331, 200295, 200293, 200296, 200294, 200370, 201574, 202240,\n",
       "       202243, 200198, 200940, 200941, 201593, 201592, 201594, 202387,\n",
       "       200358, 200357, 202257, 201634, 200420, 200417, 200414, 202363,\n",
       "       201145, 200722, 200725, 200728, 200183, 200185, 200178, 200180,\n",
       "       201809, 201591, 200704, 200688, 200708, 200692, 200712, 200696,\n",
       "       202149, 200057, 201990, 201629, 200280, 201636, 201970, 201139,\n",
       "       201311, 201286, 202212, 200150, 200149, 200323, 200321, 200322,\n",
       "       200324, 200251, 201242, 201952, 201988, 200968, 201344, 202359,\n",
       "       200326, 200328, 200325, 200327, 201121, 202071, 201385, 201386,\n",
       "       200021, 201120, 201119, 200044, 200045, 202186, 201950, 201989,\n",
       "       201577, 201342, 201153, 201154, 200999, 202034, 202037, 201637,\n",
       "       201465, 200997, 200182, 200177, 202225, 202223, 201726, 201727,\n",
       "       201725, 201724, 200010, 200011, 200654, 201996, 201995, 201994,\n",
       "       201993, 201992, 201991, 202148, 202213, 202041, 202039, 201964,\n",
       "       201782, 201783, 201784, 200216, 201463, 201626, 200146, 200214,\n",
       "       202511, 202018, 202017, 202486, 202485, 201979, 201976, 201639,\n",
       "       202166, 202084, 201617, 201151, 200582, 201456, 200004, 200003,\n",
       "       201623, 201014, 202242, 202245, 201572, 201613, 201614, 201951,\n",
       "       201949, 201948, 202425, 202424, 202423, 201147, 200192, 202124,\n",
       "       202122, 201324, 201672, 201354, 200297, 200299, 200743, 201025,\n",
       "       201618, 200617, 200616, 201658, 200015, 201627, 201458, 202323,\n",
       "       202321, 202322, 202318, 202319, 202320, 200862, 200019, 200022,\n",
       "       200875])"
      ]
     },
     "execution_count": 45,
     "metadata": {},
     "output_type": "execute_result"
    }
   ],
   "source": [
    "data['test']['상품코드'].unique()"
   ]
  },
  {
   "cell_type": "code",
   "execution_count": 46,
   "metadata": {
    "ExecuteTime": {
     "end_time": "2020-09-25T10:17:21.332481Z",
     "start_time": "2020-09-25T10:17:21.324560Z"
    }
   },
   "outputs": [
    {
     "data": {
      "text/plain": [
       "200864    318\n",
       "200868    282\n",
       "200465    273\n",
       "200533    273\n",
       "200014    252\n",
       "         ... \n",
       "202334      2\n",
       "201358      2\n",
       "200046      2\n",
       "201586      2\n",
       "201462      1\n",
       "Name: 상품코드, Length: 2122, dtype: int64"
      ]
     },
     "execution_count": 46,
     "metadata": {},
     "output_type": "execute_result"
    }
   ],
   "source": [
    "data['train']['상품코드'].value_counts()"
   ]
  },
  {
   "cell_type": "code",
   "execution_count": 47,
   "metadata": {
    "ExecuteTime": {
     "end_time": "2020-09-25T10:17:21.339316Z",
     "start_time": "2020-09-25T10:17:21.333480Z"
    }
   },
   "outputs": [
    {
     "data": {
      "text/plain": [
       "202259    37\n",
       "202460    27\n",
       "200270    27\n",
       "200266    27\n",
       "202459    27\n",
       "          ..\n",
       "202320     2\n",
       "202322     2\n",
       "202257     2\n",
       "201025     2\n",
       "201463     1\n",
       "Name: 상품코드, Length: 417, dtype: int64"
      ]
     },
     "execution_count": 47,
     "metadata": {},
     "output_type": "execute_result"
    }
   ],
   "source": [
    "data['test']['상품코드'].value_counts()"
   ]
  },
  {
   "cell_type": "code",
   "execution_count": 48,
   "metadata": {
    "ExecuteTime": {
     "end_time": "2020-09-25T10:17:21.344758Z",
     "start_time": "2020-09-25T10:17:21.340313Z"
    }
   },
   "outputs": [
    {
     "data": {
      "text/plain": [
       "2122"
      ]
     },
     "execution_count": 48,
     "metadata": {},
     "output_type": "execute_result"
    }
   ],
   "source": [
    "len(data['train']['상품코드'].unique())"
   ]
  },
  {
   "cell_type": "code",
   "execution_count": 49,
   "metadata": {
    "ExecuteTime": {
     "end_time": "2020-09-25T10:17:21.350608Z",
     "start_time": "2020-09-25T10:17:21.345757Z"
    }
   },
   "outputs": [
    {
     "data": {
      "text/plain": [
       "417"
      ]
     },
     "execution_count": 49,
     "metadata": {},
     "output_type": "execute_result"
    }
   ],
   "source": [
    "len(data['test']['상품코드'].unique())"
   ]
  },
  {
   "cell_type": "code",
   "execution_count": 50,
   "metadata": {
    "ExecuteTime": {
     "end_time": "2020-09-25T10:17:21.359998Z",
     "start_time": "2020-09-25T10:17:21.351605Z"
    }
   },
   "outputs": [
    {
     "data": {
      "text/plain": [
       "27"
      ]
     },
     "execution_count": 50,
     "metadata": {},
     "output_type": "execute_result"
    }
   ],
   "source": [
    "len(set(data['train']['상품코드']).intersection(set(data['test']['상품코드'])))  # 오직 27개의 상품코드만 겹침"
   ]
  },
  {
   "cell_type": "code",
   "execution_count": 51,
   "metadata": {
    "ExecuteTime": {
     "end_time": "2020-09-25T10:17:21.379335Z",
     "start_time": "2020-09-25T10:17:21.360997Z"
    }
   },
   "outputs": [
    {
     "data": {
      "text/html": [
       "<div>\n",
       "<style scoped>\n",
       "    .dataframe tbody tr th:only-of-type {\n",
       "        vertical-align: middle;\n",
       "    }\n",
       "\n",
       "    .dataframe tbody tr th {\n",
       "        vertical-align: top;\n",
       "    }\n",
       "\n",
       "    .dataframe thead th {\n",
       "        text-align: right;\n",
       "    }\n",
       "</style>\n",
       "<table border=\"1\" class=\"dataframe\">\n",
       "  <thead>\n",
       "    <tr style=\"text-align: right;\">\n",
       "      <th></th>\n",
       "      <th>상품코드</th>\n",
       "      <th>상품명</th>\n",
       "      <th>상품군</th>\n",
       "    </tr>\n",
       "    <tr>\n",
       "      <th>방송일시</th>\n",
       "      <th></th>\n",
       "      <th></th>\n",
       "      <th></th>\n",
       "    </tr>\n",
       "  </thead>\n",
       "  <tbody>\n",
       "    <tr>\n",
       "      <th>2019-01-01 06:00:00</th>\n",
       "      <td>201072</td>\n",
       "      <td>테이트 남성 셀린니트3종</td>\n",
       "      <td>의류</td>\n",
       "    </tr>\n",
       "    <tr>\n",
       "      <th>2019-01-01 06:00:00</th>\n",
       "      <td>201079</td>\n",
       "      <td>테이트 여성 셀린니트3종</td>\n",
       "      <td>의류</td>\n",
       "    </tr>\n",
       "    <tr>\n",
       "      <th>2019-01-01 07:00:00</th>\n",
       "      <td>200974</td>\n",
       "      <td>오모떼 레이스 파운데이션 브라</td>\n",
       "      <td>속옷</td>\n",
       "    </tr>\n",
       "    <tr>\n",
       "      <th>2019-01-01 08:00:00</th>\n",
       "      <td>202377</td>\n",
       "      <td>CERINI by PAT 남성 소프트 기모 릴렉스팬츠</td>\n",
       "      <td>의류</td>\n",
       "    </tr>\n",
       "    <tr>\n",
       "      <th>2019-01-01 09:00:00</th>\n",
       "      <td>202404</td>\n",
       "      <td>보코 리버시블 무스탕</td>\n",
       "      <td>의류</td>\n",
       "    </tr>\n",
       "    <tr>\n",
       "      <th>...</th>\n",
       "      <td>...</td>\n",
       "      <td>...</td>\n",
       "      <td>...</td>\n",
       "    </tr>\n",
       "    <tr>\n",
       "      <th>2019-12-31 01:20:00</th>\n",
       "      <td>201357</td>\n",
       "      <td>루시헨느 레이스 홀리데이 란쥬 패키지</td>\n",
       "      <td>속옷</td>\n",
       "    </tr>\n",
       "    <tr>\n",
       "      <th>2019-12-31 06:20:00</th>\n",
       "      <td>201416</td>\n",
       "      <td>크리스티나앤코 리버시블 패딩</td>\n",
       "      <td>의류</td>\n",
       "    </tr>\n",
       "    <tr>\n",
       "      <th>2019-12-31 19:20:00</th>\n",
       "      <td>201819</td>\n",
       "      <td>레스토닉 블루투스 LED 서랍 침대 슈퍼싱글</td>\n",
       "      <td>가구</td>\n",
       "    </tr>\n",
       "    <tr>\n",
       "      <th>2019-12-31 19:20:00</th>\n",
       "      <td>201821</td>\n",
       "      <td>레스토닉 블루투스 LED 서랍 침대 퀸</td>\n",
       "      <td>가구</td>\n",
       "    </tr>\n",
       "    <tr>\n",
       "      <th>2019-12-31 19:20:00</th>\n",
       "      <td>201823</td>\n",
       "      <td>레스토닉 블루투스 LED 서랍 침대 킹</td>\n",
       "      <td>가구</td>\n",
       "    </tr>\n",
       "  </tbody>\n",
       "</table>\n",
       "<p>2122 rows × 3 columns</p>\n",
       "</div>"
      ],
      "text/plain": [
       "                       상품코드                            상품명 상품군\n",
       "방송일시                                                          \n",
       "2019-01-01 06:00:00  201072                  테이트 남성 셀린니트3종  의류\n",
       "2019-01-01 06:00:00  201079                  테이트 여성 셀린니트3종  의류\n",
       "2019-01-01 07:00:00  200974               오모떼 레이스 파운데이션 브라  속옷\n",
       "2019-01-01 08:00:00  202377  CERINI by PAT 남성 소프트 기모 릴렉스팬츠  의류\n",
       "2019-01-01 09:00:00  202404                    보코 리버시블 무스탕  의류\n",
       "...                     ...                            ...  ..\n",
       "2019-12-31 01:20:00  201357           루시헨느 레이스 홀리데이 란쥬 패키지  속옷\n",
       "2019-12-31 06:20:00  201416                크리스티나앤코 리버시블 패딩  의류\n",
       "2019-12-31 19:20:00  201819       레스토닉 블루투스 LED 서랍 침대 슈퍼싱글  가구\n",
       "2019-12-31 19:20:00  201821          레스토닉 블루투스 LED 서랍 침대 퀸  가구\n",
       "2019-12-31 19:20:00  201823          레스토닉 블루투스 LED 서랍 침대 킹  가구\n",
       "\n",
       "[2122 rows x 3 columns]"
      ]
     },
     "execution_count": 51,
     "metadata": {},
     "output_type": "execute_result"
    }
   ],
   "source": [
    "data['train'][['상품코드','상품명','상품군']].drop_duplicates()"
   ]
  },
  {
   "cell_type": "code",
   "execution_count": 52,
   "metadata": {
    "ExecuteTime": {
     "end_time": "2020-09-25T10:17:21.394944Z",
     "start_time": "2020-09-25T10:17:21.379855Z"
    }
   },
   "outputs": [
    {
     "data": {
      "text/html": [
       "<div>\n",
       "<style scoped>\n",
       "    .dataframe tbody tr th:only-of-type {\n",
       "        vertical-align: middle;\n",
       "    }\n",
       "\n",
       "    .dataframe tbody tr th {\n",
       "        vertical-align: top;\n",
       "    }\n",
       "\n",
       "    .dataframe thead th {\n",
       "        text-align: right;\n",
       "    }\n",
       "</style>\n",
       "<table border=\"1\" class=\"dataframe\">\n",
       "  <thead>\n",
       "    <tr style=\"text-align: right;\">\n",
       "      <th></th>\n",
       "      <th>상품코드</th>\n",
       "      <th>상품명</th>\n",
       "      <th>상품군</th>\n",
       "    </tr>\n",
       "    <tr>\n",
       "      <th>방송일시</th>\n",
       "      <th></th>\n",
       "      <th></th>\n",
       "      <th></th>\n",
       "    </tr>\n",
       "  </thead>\n",
       "  <tbody>\n",
       "    <tr>\n",
       "      <th>2020-06-01 06:20:00</th>\n",
       "      <td>201971</td>\n",
       "      <td>잭필드 남성  반팔셔츠 4종</td>\n",
       "      <td>의류</td>\n",
       "    </tr>\n",
       "    <tr>\n",
       "      <th>2020-06-01 07:20:00</th>\n",
       "      <td>202278</td>\n",
       "      <td>쿠미투니카 쿨 레이시 란쥬쉐이퍼&amp;팬티</td>\n",
       "      <td>속옷</td>\n",
       "    </tr>\n",
       "    <tr>\n",
       "      <th>2020-06-01 08:20:00</th>\n",
       "      <td>201247</td>\n",
       "      <td>바비리스 퍼펙트 볼륨스타일러</td>\n",
       "      <td>이미용</td>\n",
       "    </tr>\n",
       "    <tr>\n",
       "      <th>2020-06-01 09:20:00</th>\n",
       "      <td>201956</td>\n",
       "      <td>램프쿡 자동회전냄비</td>\n",
       "      <td>주방</td>\n",
       "    </tr>\n",
       "    <tr>\n",
       "      <th>2020-06-01 10:20:00</th>\n",
       "      <td>201091</td>\n",
       "      <td>벨레즈온 심리스 원피스 4종 패키지</td>\n",
       "      <td>속옷</td>\n",
       "    </tr>\n",
       "    <tr>\n",
       "      <th>...</th>\n",
       "      <td>...</td>\n",
       "      <td>...</td>\n",
       "      <td>...</td>\n",
       "    </tr>\n",
       "    <tr>\n",
       "      <th>2020-06-30 13:20:00</th>\n",
       "      <td>202320</td>\n",
       "      <td>[루이띠에] 24K 999 순금 11.25g 샤인 볼륨 반지</td>\n",
       "      <td>잡화</td>\n",
       "    </tr>\n",
       "    <tr>\n",
       "      <th>2020-06-30 16:20:00</th>\n",
       "      <td>200862</td>\n",
       "      <td>(특대사이즈) 안동간고등어 13팩</td>\n",
       "      <td>농수축</td>\n",
       "    </tr>\n",
       "    <tr>\n",
       "      <th>2020-06-30 17:20:00</th>\n",
       "      <td>200019</td>\n",
       "      <td>AAC녹두삼계탕8팩</td>\n",
       "      <td>농수축</td>\n",
       "    </tr>\n",
       "    <tr>\n",
       "      <th>2020-06-30 17:20:00</th>\n",
       "      <td>200022</td>\n",
       "      <td>AAC녹두삼계탕죽세트</td>\n",
       "      <td>농수축</td>\n",
       "    </tr>\n",
       "    <tr>\n",
       "      <th>2020-07-01 01:20:00</th>\n",
       "      <td>200875</td>\n",
       "      <td>아놀드파마 티셔츠레깅스세트</td>\n",
       "      <td>의류</td>\n",
       "    </tr>\n",
       "  </tbody>\n",
       "</table>\n",
       "<p>417 rows × 3 columns</p>\n",
       "</div>"
      ],
      "text/plain": [
       "                       상품코드                                상품명  상품군\n",
       "방송일시                                                               \n",
       "2020-06-01 06:20:00  201971                    잭필드 남성  반팔셔츠 4종   의류\n",
       "2020-06-01 07:20:00  202278               쿠미투니카 쿨 레이시 란쥬쉐이퍼&팬티   속옷\n",
       "2020-06-01 08:20:00  201247                    바비리스 퍼펙트 볼륨스타일러  이미용\n",
       "2020-06-01 09:20:00  201956                         램프쿡 자동회전냄비   주방\n",
       "2020-06-01 10:20:00  201091                벨레즈온 심리스 원피스 4종 패키지   속옷\n",
       "...                     ...                                ...  ...\n",
       "2020-06-30 13:20:00  202320  [루이띠에] 24K 999 순금 11.25g 샤인 볼륨 반지   잡화\n",
       "2020-06-30 16:20:00  200862                 (특대사이즈) 안동간고등어 13팩  농수축\n",
       "2020-06-30 17:20:00  200019                         AAC녹두삼계탕8팩  농수축\n",
       "2020-06-30 17:20:00  200022                        AAC녹두삼계탕죽세트  농수축\n",
       "2020-07-01 01:20:00  200875                     아놀드파마 티셔츠레깅스세트   의류\n",
       "\n",
       "[417 rows x 3 columns]"
      ]
     },
     "execution_count": 52,
     "metadata": {},
     "output_type": "execute_result"
    }
   ],
   "source": [
    "data['test'][['상품코드','상품명','상품군']].drop_duplicates()"
   ]
  },
  {
   "cell_type": "markdown",
   "metadata": {},
   "source": [
    "### 상품명"
   ]
  },
  {
   "cell_type": "code",
   "execution_count": 53,
   "metadata": {
    "ExecuteTime": {
     "end_time": "2020-09-25T10:17:21.404917Z",
     "start_time": "2020-09-25T10:17:21.395943Z"
    }
   },
   "outputs": [
    {
     "data": {
      "text/plain": [
       "['  뉴트리원 다이어트 구미',\n",
       " ' [가이거] 블랙 에디션 다이아몬드 워치(남성용)',\n",
       " ' [가이거] 블랙 에디션 다이아몬드 워치(여성용)',\n",
       " ' [맛있는 제주]손질 생선 3대세트+흑돼지구이(광어+갈치+고등어',\n",
       " ' 국내제조 오슬로 IH 프라이팬 세트',\n",
       " ' 메디아글램 카이만엠보 소가죽 체인숄더백 (+클러치백+폼폼이)',\n",
       " ' 메디아글램 카이만엠보 소가죽 토트백 (+클러치백+폼폼이)',\n",
       " ' 블랙모어스 알티지 오메가3 3병 (53주분)',\n",
       " ' 서울대 더 리얼 신바이오틱스 6박스 (6개월분)',\n",
       " ' 용인공원라이프 스마트라이프48']"
      ]
     },
     "execution_count": 53,
     "metadata": {},
     "output_type": "execute_result"
    }
   ],
   "source": [
    "sorted(data['train']['상품명'].unique())[:10]"
   ]
  },
  {
   "cell_type": "code",
   "execution_count": 54,
   "metadata": {
    "ExecuteTime": {
     "end_time": "2020-09-25T10:17:21.410718Z",
     "start_time": "2020-09-25T10:17:21.405916Z"
    },
    "scrolled": true
   },
   "outputs": [
    {
     "data": {
      "text/plain": [
       "[' 레노마 우/양산 2종세트',\n",
       " ' 신일 창문형 에어컨',\n",
       " ' 신일에어쿨러엣지 (SIF-P75MD)',\n",
       " ' 페리엘리스 2020 YOUTH 컬렉션 선글라스 3종',\n",
       " ' 해피한 2020 자유숙박권',\n",
       " '(단품)우아미리프트업테이블',\n",
       " '(단품)우아미오토만스툴',\n",
       " '(무)[보루네오] 피올레 천연소가죽 소파 3인용',\n",
       " '(무)[보루네오] 피올레 천연소가죽 소파 4인용',\n",
       " '(무)[보루네오] 피올레 천연소가죽 소파 6인용']"
      ]
     },
     "execution_count": 54,
     "metadata": {},
     "output_type": "execute_result"
    }
   ],
   "source": [
    "sorted(data['test']['상품명'].unique())[:10]"
   ]
  },
  {
   "cell_type": "markdown",
   "metadata": {},
   "source": [
    "### 상품군\n",
    "상품의 대분류로써, 상품군 별로 통계값들을 살펴보아 전체적인 상품들의 특징들을 잡을 것이다."
   ]
  },
  {
   "cell_type": "markdown",
   "metadata": {},
   "source": [
    "#### 상품군 내 상품 비율"
   ]
  },
  {
   "cell_type": "code",
   "execution_count": 55,
   "metadata": {
    "ExecuteTime": {
     "end_time": "2020-09-25T10:17:21.557123Z",
     "start_time": "2020-09-25T10:17:21.411717Z"
    }
   },
   "outputs": [
    {
     "data": {
      "image/png": "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\n",
      "text/plain": [
       "<Figure size 432x288 with 1 Axes>"
      ]
     },
     "metadata": {},
     "output_type": "display_data"
    }
   ],
   "source": [
    "(data['train']['상품군'].value_counts().sort_index() / len(data['train']['상품군'])).plot(kind='barh')\n",
    "plt.show()"
   ]
  },
  {
   "cell_type": "code",
   "execution_count": 56,
   "metadata": {
    "ExecuteTime": {
     "end_time": "2020-09-25T10:17:21.689745Z",
     "start_time": "2020-09-25T10:17:21.558121Z"
    }
   },
   "outputs": [
    {
     "data": {
      "image/png": "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\n",
      "text/plain": [
       "<Figure size 432x288 with 1 Axes>"
      ]
     },
     "metadata": {},
     "output_type": "display_data"
    }
   ],
   "source": [
    "(data['test']['상품군'].value_counts().sort_index() / len(data['test']['상품군'])).plot(kind='barh')\n",
    "plt.show()"
   ]
  },
  {
   "cell_type": "markdown",
   "metadata": {},
   "source": [
    "#### 상품군 내 유일 상품 확인"
   ]
  },
  {
   "cell_type": "code",
   "execution_count": 57,
   "metadata": {
    "ExecuteTime": {
     "end_time": "2020-09-25T10:17:21.698070Z",
     "start_time": "2020-09-25T10:17:21.690743Z"
    }
   },
   "outputs": [
    {
     "data": {
      "text/plain": [
       "['가구', '가전', '건강기능', '농수축', '무형', '생활용품', '속옷', '의류', '이미용', '잡화', '주방', '침구']"
      ]
     },
     "execution_count": 57,
     "metadata": {},
     "output_type": "execute_result"
    }
   ],
   "source": [
    "sorted(data['train']['상품군'].unique())"
   ]
  },
  {
   "cell_type": "code",
   "execution_count": 58,
   "metadata": {
    "ExecuteTime": {
     "end_time": "2020-09-25T10:17:21.705194Z",
     "start_time": "2020-09-25T10:17:21.699069Z"
    }
   },
   "outputs": [
    {
     "data": {
      "text/plain": [
       "['가구', '가전', '건강기능', '농수축', '무형', '생활용품', '속옷', '의류', '이미용', '잡화', '주방', '침구']"
      ]
     },
     "execution_count": 58,
     "metadata": {},
     "output_type": "execute_result"
    }
   ],
   "source": [
    "sorted(data['test']['상품군'].unique())"
   ]
  },
  {
   "cell_type": "code",
   "execution_count": 59,
   "metadata": {
    "ExecuteTime": {
     "end_time": "2020-09-25T10:17:21.878173Z",
     "start_time": "2020-09-25T10:17:21.706193Z"
    }
   },
   "outputs": [
    {
     "data": {
      "image/png": "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\n",
      "text/plain": [
       "<Figure size 1008x720 with 1 Axes>"
      ]
     },
     "metadata": {},
     "output_type": "display_data"
    }
   ],
   "source": [
    "prod_list = data['train'][['상품코드','상품명','상품군']].drop_duplicates()\n",
    "(prod_list['상품군'].value_counts() / len(prod_list)).plot(kind = 'bar', figsize=(14, 10))\n",
    "plt.show()"
   ]
  },
  {
   "cell_type": "markdown",
   "metadata": {},
   "source": [
    "#### *무형 상품군\n",
    "무형 상품군은 학습 데이터 내 판매단가가 없으므로, 학습 과정에서는 빠질 예정"
   ]
  },
  {
   "cell_type": "code",
   "execution_count": 60,
   "metadata": {
    "ExecuteTime": {
     "end_time": "2020-09-25T10:17:21.902938Z",
     "start_time": "2020-09-25T10:17:21.879172Z"
    }
   },
   "outputs": [
    {
     "data": {
      "text/html": [
       "<div>\n",
       "<style scoped>\n",
       "    .dataframe tbody tr th:only-of-type {\n",
       "        vertical-align: middle;\n",
       "    }\n",
       "\n",
       "    .dataframe tbody tr th {\n",
       "        vertical-align: top;\n",
       "    }\n",
       "\n",
       "    .dataframe thead th {\n",
       "        text-align: right;\n",
       "    }\n",
       "</style>\n",
       "<table border=\"1\" class=\"dataframe\">\n",
       "  <thead>\n",
       "    <tr style=\"text-align: right;\">\n",
       "      <th></th>\n",
       "      <th>노출(분)</th>\n",
       "      <th>마더코드</th>\n",
       "      <th>상품코드</th>\n",
       "      <th>상품명</th>\n",
       "      <th>상품군</th>\n",
       "      <th>판매단가</th>\n",
       "      <th>취급액</th>\n",
       "      <th>연</th>\n",
       "      <th>월</th>\n",
       "      <th>주</th>\n",
       "      <th>일</th>\n",
       "      <th>시</th>\n",
       "      <th>분</th>\n",
       "      <th>요일</th>\n",
       "    </tr>\n",
       "    <tr>\n",
       "      <th>방송일시</th>\n",
       "      <th></th>\n",
       "      <th></th>\n",
       "      <th></th>\n",
       "      <th></th>\n",
       "      <th></th>\n",
       "      <th></th>\n",
       "      <th></th>\n",
       "      <th></th>\n",
       "      <th></th>\n",
       "      <th></th>\n",
       "      <th></th>\n",
       "      <th></th>\n",
       "      <th></th>\n",
       "      <th></th>\n",
       "    </tr>\n",
       "  </thead>\n",
       "  <tbody>\n",
       "    <tr>\n",
       "      <th>2019-01-25 19:00:00</th>\n",
       "      <td>60.0000</td>\n",
       "      <td>100507</td>\n",
       "      <td>201567</td>\n",
       "      <td>TCOM_처브치아보험</td>\n",
       "      <td>무형</td>\n",
       "      <td>0</td>\n",
       "      <td>44255000.0000</td>\n",
       "      <td>2019</td>\n",
       "      <td>1</td>\n",
       "      <td>4</td>\n",
       "      <td>25</td>\n",
       "      <td>19</td>\n",
       "      <td>0</td>\n",
       "      <td>Fri</td>\n",
       "    </tr>\n",
       "    <tr>\n",
       "      <th>2019-01-31 18:00:00</th>\n",
       "      <td>60.0000</td>\n",
       "      <td>100507</td>\n",
       "      <td>201567</td>\n",
       "      <td>TCOM_처브치아보험</td>\n",
       "      <td>무형</td>\n",
       "      <td>0</td>\n",
       "      <td>43297000.0000</td>\n",
       "      <td>2019</td>\n",
       "      <td>1</td>\n",
       "      <td>5</td>\n",
       "      <td>31</td>\n",
       "      <td>18</td>\n",
       "      <td>0</td>\n",
       "      <td>Thu</td>\n",
       "    </tr>\n",
       "    <tr>\n",
       "      <th>2019-02-05 18:00:00</th>\n",
       "      <td>60.0000</td>\n",
       "      <td>100507</td>\n",
       "      <td>201567</td>\n",
       "      <td>TCOM_처브치아보험</td>\n",
       "      <td>무형</td>\n",
       "      <td>0</td>\n",
       "      <td>59930000.0000</td>\n",
       "      <td>2019</td>\n",
       "      <td>2</td>\n",
       "      <td>6</td>\n",
       "      <td>5</td>\n",
       "      <td>18</td>\n",
       "      <td>0</td>\n",
       "      <td>Tue</td>\n",
       "    </tr>\n",
       "    <tr>\n",
       "      <th>2019-03-09 00:00:00</th>\n",
       "      <td>20.0000</td>\n",
       "      <td>100324</td>\n",
       "      <td>201095</td>\n",
       "      <td>온라인투어 동남아 나트랑/빈펄랜드 (190309)</td>\n",
       "      <td>무형</td>\n",
       "      <td>0</td>\n",
       "      <td>46299000.0000</td>\n",
       "      <td>2019</td>\n",
       "      <td>3</td>\n",
       "      <td>10</td>\n",
       "      <td>9</td>\n",
       "      <td>0</td>\n",
       "      <td>0</td>\n",
       "      <td>Sat</td>\n",
       "    </tr>\n",
       "    <tr>\n",
       "      <th>2019-03-09 00:20:00</th>\n",
       "      <td>20.0000</td>\n",
       "      <td>100324</td>\n",
       "      <td>201095</td>\n",
       "      <td>온라인투어 동남아 나트랑/빈펄랜드 (190309)</td>\n",
       "      <td>무형</td>\n",
       "      <td>0</td>\n",
       "      <td>46299000.0000</td>\n",
       "      <td>2019</td>\n",
       "      <td>3</td>\n",
       "      <td>10</td>\n",
       "      <td>9</td>\n",
       "      <td>0</td>\n",
       "      <td>20</td>\n",
       "      <td>Sat</td>\n",
       "    </tr>\n",
       "    <tr>\n",
       "      <th>...</th>\n",
       "      <td>...</td>\n",
       "      <td>...</td>\n",
       "      <td>...</td>\n",
       "      <td>...</td>\n",
       "      <td>...</td>\n",
       "      <td>...</td>\n",
       "      <td>...</td>\n",
       "      <td>...</td>\n",
       "      <td>...</td>\n",
       "      <td>...</td>\n",
       "      <td>...</td>\n",
       "      <td>...</td>\n",
       "      <td>...</td>\n",
       "      <td>...</td>\n",
       "    </tr>\n",
       "    <tr>\n",
       "      <th>2019-12-30 18:20:00</th>\n",
       "      <td>60.0000</td>\n",
       "      <td>100072</td>\n",
       "      <td>200194</td>\n",
       "      <td>삼성화재 천만안심 건강보험(암보험, 1907)</td>\n",
       "      <td>무형</td>\n",
       "      <td>0</td>\n",
       "      <td>54891000.0000</td>\n",
       "      <td>2019</td>\n",
       "      <td>12</td>\n",
       "      <td>1</td>\n",
       "      <td>30</td>\n",
       "      <td>18</td>\n",
       "      <td>20</td>\n",
       "      <td>Mon</td>\n",
       "    </tr>\n",
       "    <tr>\n",
       "      <th>2019-12-31 13:20:00</th>\n",
       "      <td>60.0000</td>\n",
       "      <td>100072</td>\n",
       "      <td>200194</td>\n",
       "      <td>삼성화재 천만안심 건강보험(암보험, 1907)</td>\n",
       "      <td>무형</td>\n",
       "      <td>0</td>\n",
       "      <td>11220000.0000</td>\n",
       "      <td>2019</td>\n",
       "      <td>12</td>\n",
       "      <td>1</td>\n",
       "      <td>31</td>\n",
       "      <td>13</td>\n",
       "      <td>20</td>\n",
       "      <td>Tue</td>\n",
       "    </tr>\n",
       "    <tr>\n",
       "      <th>2019-12-31 22:20:00</th>\n",
       "      <td>20.0000</td>\n",
       "      <td>100543</td>\n",
       "      <td>201624</td>\n",
       "      <td>넥센타이어 렌탈서비스</td>\n",
       "      <td>무형</td>\n",
       "      <td>0</td>\n",
       "      <td>32184000.0000</td>\n",
       "      <td>2019</td>\n",
       "      <td>12</td>\n",
       "      <td>1</td>\n",
       "      <td>31</td>\n",
       "      <td>22</td>\n",
       "      <td>20</td>\n",
       "      <td>Tue</td>\n",
       "    </tr>\n",
       "    <tr>\n",
       "      <th>2019-12-31 22:40:00</th>\n",
       "      <td>20.0000</td>\n",
       "      <td>100543</td>\n",
       "      <td>201624</td>\n",
       "      <td>넥센타이어 렌탈서비스</td>\n",
       "      <td>무형</td>\n",
       "      <td>0</td>\n",
       "      <td>32184000.0000</td>\n",
       "      <td>2019</td>\n",
       "      <td>12</td>\n",
       "      <td>1</td>\n",
       "      <td>31</td>\n",
       "      <td>22</td>\n",
       "      <td>40</td>\n",
       "      <td>Tue</td>\n",
       "    </tr>\n",
       "    <tr>\n",
       "      <th>2019-12-31 23:00:00</th>\n",
       "      <td>20.0000</td>\n",
       "      <td>100543</td>\n",
       "      <td>201624</td>\n",
       "      <td>넥센타이어 렌탈서비스</td>\n",
       "      <td>무형</td>\n",
       "      <td>0</td>\n",
       "      <td>32184000.0000</td>\n",
       "      <td>2019</td>\n",
       "      <td>12</td>\n",
       "      <td>1</td>\n",
       "      <td>31</td>\n",
       "      <td>23</td>\n",
       "      <td>0</td>\n",
       "      <td>Tue</td>\n",
       "    </tr>\n",
       "  </tbody>\n",
       "</table>\n",
       "<p>932 rows × 14 columns</p>\n",
       "</div>"
      ],
      "text/plain": [
       "                      노출(분)    마더코드    상품코드                          상품명 상품군  \\\n",
       "방송일시                                                                           \n",
       "2019-01-25 19:00:00 60.0000  100507  201567                  TCOM_처브치아보험  무형   \n",
       "2019-01-31 18:00:00 60.0000  100507  201567                  TCOM_처브치아보험  무형   \n",
       "2019-02-05 18:00:00 60.0000  100507  201567                  TCOM_처브치아보험  무형   \n",
       "2019-03-09 00:00:00 20.0000  100324  201095  온라인투어 동남아 나트랑/빈펄랜드 (190309)  무형   \n",
       "2019-03-09 00:20:00 20.0000  100324  201095  온라인투어 동남아 나트랑/빈펄랜드 (190309)  무형   \n",
       "...                     ...     ...     ...                          ...  ..   \n",
       "2019-12-30 18:20:00 60.0000  100072  200194    삼성화재 천만안심 건강보험(암보험, 1907)  무형   \n",
       "2019-12-31 13:20:00 60.0000  100072  200194    삼성화재 천만안심 건강보험(암보험, 1907)  무형   \n",
       "2019-12-31 22:20:00 20.0000  100543  201624                  넥센타이어 렌탈서비스  무형   \n",
       "2019-12-31 22:40:00 20.0000  100543  201624                  넥센타이어 렌탈서비스  무형   \n",
       "2019-12-31 23:00:00 20.0000  100543  201624                  넥센타이어 렌탈서비스  무형   \n",
       "\n",
       "                     판매단가           취급액     연   월   주   일   시   분   요일  \n",
       "방송일시                                                                    \n",
       "2019-01-25 19:00:00     0 44255000.0000  2019   1   4  25  19   0  Fri  \n",
       "2019-01-31 18:00:00     0 43297000.0000  2019   1   5  31  18   0  Thu  \n",
       "2019-02-05 18:00:00     0 59930000.0000  2019   2   6   5  18   0  Tue  \n",
       "2019-03-09 00:00:00     0 46299000.0000  2019   3  10   9   0   0  Sat  \n",
       "2019-03-09 00:20:00     0 46299000.0000  2019   3  10   9   0  20  Sat  \n",
       "...                   ...           ...   ...  ..  ..  ..  ..  ..  ...  \n",
       "2019-12-30 18:20:00     0 54891000.0000  2019  12   1  30  18  20  Mon  \n",
       "2019-12-31 13:20:00     0 11220000.0000  2019  12   1  31  13  20  Tue  \n",
       "2019-12-31 22:20:00     0 32184000.0000  2019  12   1  31  22  20  Tue  \n",
       "2019-12-31 22:40:00     0 32184000.0000  2019  12   1  31  22  40  Tue  \n",
       "2019-12-31 23:00:00     0 32184000.0000  2019  12   1  31  23   0  Tue  \n",
       "\n",
       "[932 rows x 14 columns]"
      ]
     },
     "execution_count": 60,
     "metadata": {},
     "output_type": "execute_result"
    }
   ],
   "source": [
    "data['train'][data['train']['상품군'] == '무형']"
   ]
  },
  {
   "cell_type": "code",
   "execution_count": 61,
   "metadata": {
    "ExecuteTime": {
     "end_time": "2020-09-25T10:17:21.926065Z",
     "start_time": "2020-09-25T10:17:21.904147Z"
    }
   },
   "outputs": [
    {
     "data": {
      "text/html": [
       "<div>\n",
       "<style scoped>\n",
       "    .dataframe tbody tr th:only-of-type {\n",
       "        vertical-align: middle;\n",
       "    }\n",
       "\n",
       "    .dataframe tbody tr th {\n",
       "        vertical-align: top;\n",
       "    }\n",
       "\n",
       "    .dataframe thead th {\n",
       "        text-align: right;\n",
       "    }\n",
       "</style>\n",
       "<table border=\"1\" class=\"dataframe\">\n",
       "  <thead>\n",
       "    <tr style=\"text-align: right;\">\n",
       "      <th></th>\n",
       "      <th>노출(분)</th>\n",
       "      <th>마더코드</th>\n",
       "      <th>상품코드</th>\n",
       "      <th>상품명</th>\n",
       "      <th>상품군</th>\n",
       "      <th>판매단가</th>\n",
       "      <th>취급액</th>\n",
       "      <th>연</th>\n",
       "      <th>월</th>\n",
       "      <th>주</th>\n",
       "      <th>일</th>\n",
       "      <th>시</th>\n",
       "      <th>분</th>\n",
       "      <th>요일</th>\n",
       "    </tr>\n",
       "    <tr>\n",
       "      <th>방송일시</th>\n",
       "      <th></th>\n",
       "      <th></th>\n",
       "      <th></th>\n",
       "      <th></th>\n",
       "      <th></th>\n",
       "      <th></th>\n",
       "      <th></th>\n",
       "      <th></th>\n",
       "      <th></th>\n",
       "      <th></th>\n",
       "      <th></th>\n",
       "      <th></th>\n",
       "      <th></th>\n",
       "      <th></th>\n",
       "    </tr>\n",
       "  </thead>\n",
       "  <tbody>\n",
       "    <tr>\n",
       "      <th>2020-06-01 13:20:00</th>\n",
       "      <td>20.0000</td>\n",
       "      <td>100570</td>\n",
       "      <td>201673</td>\n",
       "      <td>KT휴대폰_삼성갤럭시 노트10</td>\n",
       "      <td>무형</td>\n",
       "      <td>0</td>\n",
       "      <td>nan</td>\n",
       "      <td>2020</td>\n",
       "      <td>6</td>\n",
       "      <td>23</td>\n",
       "      <td>1</td>\n",
       "      <td>13</td>\n",
       "      <td>20</td>\n",
       "      <td>Mon</td>\n",
       "    </tr>\n",
       "    <tr>\n",
       "      <th>2020-06-01 13:20:00</th>\n",
       "      <td>20.0000</td>\n",
       "      <td>100570</td>\n",
       "      <td>201671</td>\n",
       "      <td>(특)KT휴대폰_삼성갤럭시 A31</td>\n",
       "      <td>무형</td>\n",
       "      <td>0</td>\n",
       "      <td>nan</td>\n",
       "      <td>2020</td>\n",
       "      <td>6</td>\n",
       "      <td>23</td>\n",
       "      <td>1</td>\n",
       "      <td>13</td>\n",
       "      <td>20</td>\n",
       "      <td>Mon</td>\n",
       "    </tr>\n",
       "    <tr>\n",
       "      <th>2020-06-01 13:40:00</th>\n",
       "      <td>20.0000</td>\n",
       "      <td>100570</td>\n",
       "      <td>201673</td>\n",
       "      <td>KT휴대폰_삼성갤럭시 노트10</td>\n",
       "      <td>무형</td>\n",
       "      <td>0</td>\n",
       "      <td>nan</td>\n",
       "      <td>2020</td>\n",
       "      <td>6</td>\n",
       "      <td>23</td>\n",
       "      <td>1</td>\n",
       "      <td>13</td>\n",
       "      <td>40</td>\n",
       "      <td>Mon</td>\n",
       "    </tr>\n",
       "    <tr>\n",
       "      <th>2020-06-01 13:40:00</th>\n",
       "      <td>20.0000</td>\n",
       "      <td>100570</td>\n",
       "      <td>201671</td>\n",
       "      <td>(특)KT휴대폰_삼성갤럭시 A31</td>\n",
       "      <td>무형</td>\n",
       "      <td>0</td>\n",
       "      <td>nan</td>\n",
       "      <td>2020</td>\n",
       "      <td>6</td>\n",
       "      <td>23</td>\n",
       "      <td>1</td>\n",
       "      <td>13</td>\n",
       "      <td>40</td>\n",
       "      <td>Mon</td>\n",
       "    </tr>\n",
       "    <tr>\n",
       "      <th>2020-06-01 14:00:00</th>\n",
       "      <td>20.0000</td>\n",
       "      <td>100570</td>\n",
       "      <td>201673</td>\n",
       "      <td>KT휴대폰_삼성갤럭시 노트10</td>\n",
       "      <td>무형</td>\n",
       "      <td>0</td>\n",
       "      <td>nan</td>\n",
       "      <td>2020</td>\n",
       "      <td>6</td>\n",
       "      <td>23</td>\n",
       "      <td>1</td>\n",
       "      <td>14</td>\n",
       "      <td>0</td>\n",
       "      <td>Mon</td>\n",
       "    </tr>\n",
       "    <tr>\n",
       "      <th>...</th>\n",
       "      <td>...</td>\n",
       "      <td>...</td>\n",
       "      <td>...</td>\n",
       "      <td>...</td>\n",
       "      <td>...</td>\n",
       "      <td>...</td>\n",
       "      <td>...</td>\n",
       "      <td>...</td>\n",
       "      <td>...</td>\n",
       "      <td>...</td>\n",
       "      <td>...</td>\n",
       "      <td>...</td>\n",
       "      <td>...</td>\n",
       "      <td>...</td>\n",
       "    </tr>\n",
       "    <tr>\n",
       "      <th>2020-06-30 18:40:00</th>\n",
       "      <td>20.0000</td>\n",
       "      <td>100073</td>\n",
       "      <td>200195</td>\n",
       "      <td>삼성화재 행복한파트너 주택상해윤전자(올케어)</td>\n",
       "      <td>무형</td>\n",
       "      <td>0</td>\n",
       "      <td>nan</td>\n",
       "      <td>2020</td>\n",
       "      <td>6</td>\n",
       "      <td>27</td>\n",
       "      <td>30</td>\n",
       "      <td>18</td>\n",
       "      <td>40</td>\n",
       "      <td>Tue</td>\n",
       "    </tr>\n",
       "    <tr>\n",
       "      <th>2020-06-30 19:00:00</th>\n",
       "      <td>20.0000</td>\n",
       "      <td>100073</td>\n",
       "      <td>200195</td>\n",
       "      <td>삼성화재 행복한파트너 주택상해윤전자(올케어)</td>\n",
       "      <td>무형</td>\n",
       "      <td>0</td>\n",
       "      <td>nan</td>\n",
       "      <td>2020</td>\n",
       "      <td>6</td>\n",
       "      <td>27</td>\n",
       "      <td>30</td>\n",
       "      <td>19</td>\n",
       "      <td>0</td>\n",
       "      <td>Tue</td>\n",
       "    </tr>\n",
       "    <tr>\n",
       "      <th>2020-07-01 00:20:00</th>\n",
       "      <td>20.0000</td>\n",
       "      <td>100660</td>\n",
       "      <td>201989</td>\n",
       "      <td>쉴렉스  안마의자 렌탈서비스</td>\n",
       "      <td>무형</td>\n",
       "      <td>0</td>\n",
       "      <td>nan</td>\n",
       "      <td>2020</td>\n",
       "      <td>7</td>\n",
       "      <td>27</td>\n",
       "      <td>1</td>\n",
       "      <td>0</td>\n",
       "      <td>20</td>\n",
       "      <td>Wed</td>\n",
       "    </tr>\n",
       "    <tr>\n",
       "      <th>2020-07-01 00:40:00</th>\n",
       "      <td>20.0000</td>\n",
       "      <td>100660</td>\n",
       "      <td>201989</td>\n",
       "      <td>쉴렉스  안마의자 렌탈서비스</td>\n",
       "      <td>무형</td>\n",
       "      <td>0</td>\n",
       "      <td>nan</td>\n",
       "      <td>2020</td>\n",
       "      <td>7</td>\n",
       "      <td>27</td>\n",
       "      <td>1</td>\n",
       "      <td>0</td>\n",
       "      <td>40</td>\n",
       "      <td>Wed</td>\n",
       "    </tr>\n",
       "    <tr>\n",
       "      <th>2020-07-01 01:00:00</th>\n",
       "      <td>20.0000</td>\n",
       "      <td>100660</td>\n",
       "      <td>201989</td>\n",
       "      <td>쉴렉스  안마의자 렌탈서비스</td>\n",
       "      <td>무형</td>\n",
       "      <td>0</td>\n",
       "      <td>nan</td>\n",
       "      <td>2020</td>\n",
       "      <td>7</td>\n",
       "      <td>27</td>\n",
       "      <td>1</td>\n",
       "      <td>1</td>\n",
       "      <td>0</td>\n",
       "      <td>Wed</td>\n",
       "    </tr>\n",
       "  </tbody>\n",
       "</table>\n",
       "<p>175 rows × 14 columns</p>\n",
       "</div>"
      ],
      "text/plain": [
       "                      노출(분)    마더코드    상품코드                       상품명 상품군  \\\n",
       "방송일시                                                                        \n",
       "2020-06-01 13:20:00 20.0000  100570  201673          KT휴대폰_삼성갤럭시 노트10  무형   \n",
       "2020-06-01 13:20:00 20.0000  100570  201671        (특)KT휴대폰_삼성갤럭시 A31  무형   \n",
       "2020-06-01 13:40:00 20.0000  100570  201673          KT휴대폰_삼성갤럭시 노트10  무형   \n",
       "2020-06-01 13:40:00 20.0000  100570  201671        (특)KT휴대폰_삼성갤럭시 A31  무형   \n",
       "2020-06-01 14:00:00 20.0000  100570  201673          KT휴대폰_삼성갤럭시 노트10  무형   \n",
       "...                     ...     ...     ...                       ...  ..   \n",
       "2020-06-30 18:40:00 20.0000  100073  200195  삼성화재 행복한파트너 주택상해윤전자(올케어)  무형   \n",
       "2020-06-30 19:00:00 20.0000  100073  200195  삼성화재 행복한파트너 주택상해윤전자(올케어)  무형   \n",
       "2020-07-01 00:20:00 20.0000  100660  201989           쉴렉스  안마의자 렌탈서비스  무형   \n",
       "2020-07-01 00:40:00 20.0000  100660  201989           쉴렉스  안마의자 렌탈서비스  무형   \n",
       "2020-07-01 01:00:00 20.0000  100660  201989           쉴렉스  안마의자 렌탈서비스  무형   \n",
       "\n",
       "                     판매단가  취급액     연  월   주   일   시   분   요일  \n",
       "방송일시                                                          \n",
       "2020-06-01 13:20:00     0  nan  2020  6  23   1  13  20  Mon  \n",
       "2020-06-01 13:20:00     0  nan  2020  6  23   1  13  20  Mon  \n",
       "2020-06-01 13:40:00     0  nan  2020  6  23   1  13  40  Mon  \n",
       "2020-06-01 13:40:00     0  nan  2020  6  23   1  13  40  Mon  \n",
       "2020-06-01 14:00:00     0  nan  2020  6  23   1  14   0  Mon  \n",
       "...                   ...  ...   ... ..  ..  ..  ..  ..  ...  \n",
       "2020-06-30 18:40:00     0  nan  2020  6  27  30  18  40  Tue  \n",
       "2020-06-30 19:00:00     0  nan  2020  6  27  30  19   0  Tue  \n",
       "2020-07-01 00:20:00     0  nan  2020  7  27   1   0  20  Wed  \n",
       "2020-07-01 00:40:00     0  nan  2020  7  27   1   0  40  Wed  \n",
       "2020-07-01 01:00:00     0  nan  2020  7  27   1   1   0  Wed  \n",
       "\n",
       "[175 rows x 14 columns]"
      ]
     },
     "execution_count": 61,
     "metadata": {},
     "output_type": "execute_result"
    }
   ],
   "source": [
    "data['test'][data['test']['상품군'] == '무형']"
   ]
  },
  {
   "cell_type": "markdown",
   "metadata": {},
   "source": [
    "연도의 일관성 위해, 학습에서 2019년 데이터만 추출"
   ]
  },
  {
   "cell_type": "code",
   "execution_count": 62,
   "metadata": {
    "ExecuteTime": {
     "end_time": "2020-09-25T10:17:21.947253Z",
     "start_time": "2020-09-25T10:17:21.927063Z"
    }
   },
   "outputs": [
    {
     "data": {
      "text/html": [
       "<div>\n",
       "<style scoped>\n",
       "    .dataframe tbody tr th:only-of-type {\n",
       "        vertical-align: middle;\n",
       "    }\n",
       "\n",
       "    .dataframe tbody tr th {\n",
       "        vertical-align: top;\n",
       "    }\n",
       "\n",
       "    .dataframe thead th {\n",
       "        text-align: right;\n",
       "    }\n",
       "</style>\n",
       "<table border=\"1\" class=\"dataframe\">\n",
       "  <thead>\n",
       "    <tr style=\"text-align: right;\">\n",
       "      <th></th>\n",
       "      <th>노출(분)</th>\n",
       "      <th>마더코드</th>\n",
       "      <th>상품코드</th>\n",
       "      <th>판매단가</th>\n",
       "      <th>취급액</th>\n",
       "      <th>연</th>\n",
       "      <th>월</th>\n",
       "      <th>주</th>\n",
       "      <th>일</th>\n",
       "      <th>시</th>\n",
       "      <th>분</th>\n",
       "    </tr>\n",
       "    <tr>\n",
       "      <th>상품군</th>\n",
       "      <th></th>\n",
       "      <th></th>\n",
       "      <th></th>\n",
       "      <th></th>\n",
       "      <th></th>\n",
       "      <th></th>\n",
       "      <th></th>\n",
       "      <th></th>\n",
       "      <th></th>\n",
       "      <th></th>\n",
       "      <th></th>\n",
       "    </tr>\n",
       "  </thead>\n",
       "  <tbody>\n",
       "    <tr>\n",
       "      <th>가구</th>\n",
       "      <td>52968.0167</td>\n",
       "      <td>262229794</td>\n",
       "      <td>525473697</td>\n",
       "      <td>2204847000</td>\n",
       "      <td>32392208000.0000</td>\n",
       "      <td>5277666</td>\n",
       "      <td>17089</td>\n",
       "      <td>68595</td>\n",
       "      <td>34847</td>\n",
       "      <td>51974</td>\n",
       "      <td>52450</td>\n",
       "    </tr>\n",
       "    <tr>\n",
       "      <th>가전</th>\n",
       "      <td>130740.0000</td>\n",
       "      <td>649454705</td>\n",
       "      <td>1300653607</td>\n",
       "      <td>10569727000</td>\n",
       "      <td>118138800000.0000</td>\n",
       "      <td>13081101</td>\n",
       "      <td>35591</td>\n",
       "      <td>141691</td>\n",
       "      <td>92156</td>\n",
       "      <td>128428</td>\n",
       "      <td>131600</td>\n",
       "    </tr>\n",
       "    <tr>\n",
       "      <th>건강기능</th>\n",
       "      <td>15937.0500</td>\n",
       "      <td>79361491</td>\n",
       "      <td>159101942</td>\n",
       "      <td>65826200</td>\n",
       "      <td>20149264000.0000</td>\n",
       "      <td>1595010</td>\n",
       "      <td>5616</td>\n",
       "      <td>22876</td>\n",
       "      <td>13921</td>\n",
       "      <td>7931</td>\n",
       "      <td>15840</td>\n",
       "    </tr>\n",
       "    <tr>\n",
       "      <th>농수축</th>\n",
       "      <td>76046.7333</td>\n",
       "      <td>390058249</td>\n",
       "      <td>781991982</td>\n",
       "      <td>180293500</td>\n",
       "      <td>165942241000.0000</td>\n",
       "      <td>7841796</td>\n",
       "      <td>26488</td>\n",
       "      <td>107918</td>\n",
       "      <td>61891</td>\n",
       "      <td>59916</td>\n",
       "      <td>78680</td>\n",
       "    </tr>\n",
       "    <tr>\n",
       "      <th>무형</th>\n",
       "      <td>21333.7000</td>\n",
       "      <td>93620244</td>\n",
       "      <td>187840154</td>\n",
       "      <td>0</td>\n",
       "      <td>39975221000.0000</td>\n",
       "      <td>1881708</td>\n",
       "      <td>7994</td>\n",
       "      <td>32918</td>\n",
       "      <td>15541</td>\n",
       "      <td>11869</td>\n",
       "      <td>18960</td>\n",
       "    </tr>\n",
       "    <tr>\n",
       "      <th>생활용품</th>\n",
       "      <td>59037.8000</td>\n",
       "      <td>288838177</td>\n",
       "      <td>578932846</td>\n",
       "      <td>536428000</td>\n",
       "      <td>52420062000.0000</td>\n",
       "      <td>5808663</td>\n",
       "      <td>23577</td>\n",
       "      <td>96353</td>\n",
       "      <td>45248</td>\n",
       "      <td>37187</td>\n",
       "      <td>57290</td>\n",
       "    </tr>\n",
       "    <tr>\n",
       "      <th>속옷</th>\n",
       "      <td>78731.6000</td>\n",
       "      <td>393704487</td>\n",
       "      <td>789404354</td>\n",
       "      <td>305608600</td>\n",
       "      <td>102276754000.0000</td>\n",
       "      <td>7912461</td>\n",
       "      <td>23401</td>\n",
       "      <td>94487</td>\n",
       "      <td>61569</td>\n",
       "      <td>48707</td>\n",
       "      <td>78720</td>\n",
       "    </tr>\n",
       "    <tr>\n",
       "      <th>의류</th>\n",
       "      <td>85962.7833</td>\n",
       "      <td>435614094</td>\n",
       "      <td>873163772</td>\n",
       "      <td>674823300</td>\n",
       "      <td>106038461000.0000</td>\n",
       "      <td>8762460</td>\n",
       "      <td>26625</td>\n",
       "      <td>107400</td>\n",
       "      <td>69287</td>\n",
       "      <td>46458</td>\n",
       "      <td>87310</td>\n",
       "    </tr>\n",
       "    <tr>\n",
       "      <th>이미용</th>\n",
       "      <td>25994.7333</td>\n",
       "      <td>130914266</td>\n",
       "      <td>262347136</td>\n",
       "      <td>66594200</td>\n",
       "      <td>49322619000.0000</td>\n",
       "      <td>2634795</td>\n",
       "      <td>10079</td>\n",
       "      <td>41356</td>\n",
       "      <td>20451</td>\n",
       "      <td>14961</td>\n",
       "      <td>26270</td>\n",
       "    </tr>\n",
       "    <tr>\n",
       "      <th>잡화</th>\n",
       "      <td>86649.6667</td>\n",
       "      <td>390741011</td>\n",
       "      <td>783183267</td>\n",
       "      <td>1826740800</td>\n",
       "      <td>64877784000.0000</td>\n",
       "      <td>7855929</td>\n",
       "      <td>28531</td>\n",
       "      <td>116910</td>\n",
       "      <td>61147</td>\n",
       "      <td>39003</td>\n",
       "      <td>78220</td>\n",
       "    </tr>\n",
       "    <tr>\n",
       "      <th>주방</th>\n",
       "      <td>136073.6833</td>\n",
       "      <td>663417955</td>\n",
       "      <td>1330487524</td>\n",
       "      <td>1006013900</td>\n",
       "      <td>126826611000.0000</td>\n",
       "      <td>13325400</td>\n",
       "      <td>39747</td>\n",
       "      <td>160019</td>\n",
       "      <td>103067</td>\n",
       "      <td>92421</td>\n",
       "      <td>130480</td>\n",
       "    </tr>\n",
       "    <tr>\n",
       "      <th>침구</th>\n",
       "      <td>13569.8167</td>\n",
       "      <td>67020288</td>\n",
       "      <td>134144670</td>\n",
       "      <td>52563000</td>\n",
       "      <td>6994291000.0000</td>\n",
       "      <td>1350711</td>\n",
       "      <td>4797</td>\n",
       "      <td>19803</td>\n",
       "      <td>10836</td>\n",
       "      <td>7751</td>\n",
       "      <td>13230</td>\n",
       "    </tr>\n",
       "  </tbody>\n",
       "</table>\n",
       "</div>"
      ],
      "text/plain": [
       "           노출(분)       마더코드        상품코드         판매단가               취급액  \\\n",
       "상품군                                                                      \n",
       "가구    52968.0167  262229794   525473697   2204847000  32392208000.0000   \n",
       "가전   130740.0000  649454705  1300653607  10569727000 118138800000.0000   \n",
       "건강기능  15937.0500   79361491   159101942     65826200  20149264000.0000   \n",
       "농수축   76046.7333  390058249   781991982    180293500 165942241000.0000   \n",
       "무형    21333.7000   93620244   187840154            0  39975221000.0000   \n",
       "생활용품  59037.8000  288838177   578932846    536428000  52420062000.0000   \n",
       "속옷    78731.6000  393704487   789404354    305608600 102276754000.0000   \n",
       "의류    85962.7833  435614094   873163772    674823300 106038461000.0000   \n",
       "이미용   25994.7333  130914266   262347136     66594200  49322619000.0000   \n",
       "잡화    86649.6667  390741011   783183267   1826740800  64877784000.0000   \n",
       "주방   136073.6833  663417955  1330487524   1006013900 126826611000.0000   \n",
       "침구    13569.8167   67020288   134144670     52563000   6994291000.0000   \n",
       "\n",
       "             연      월       주       일       시       분  \n",
       "상품군                                                    \n",
       "가구     5277666  17089   68595   34847   51974   52450  \n",
       "가전    13081101  35591  141691   92156  128428  131600  \n",
       "건강기능   1595010   5616   22876   13921    7931   15840  \n",
       "농수축    7841796  26488  107918   61891   59916   78680  \n",
       "무형     1881708   7994   32918   15541   11869   18960  \n",
       "생활용품   5808663  23577   96353   45248   37187   57290  \n",
       "속옷     7912461  23401   94487   61569   48707   78720  \n",
       "의류     8762460  26625  107400   69287   46458   87310  \n",
       "이미용    2634795  10079   41356   20451   14961   26270  \n",
       "잡화     7855929  28531  116910   61147   39003   78220  \n",
       "주방    13325400  39747  160019  103067   92421  130480  \n",
       "침구     1350711   4797   19803   10836    7751   13230  "
      ]
     },
     "execution_count": 62,
     "metadata": {},
     "output_type": "execute_result"
    }
   ],
   "source": [
    "quant_group = data['train']['2019'].groupby('상품군').sum()\n",
    "quant_group"
   ]
  },
  {
   "cell_type": "markdown",
   "metadata": {},
   "source": [
    "### 판매단가"
   ]
  },
  {
   "cell_type": "code",
   "execution_count": 63,
   "metadata": {
    "ExecuteTime": {
     "end_time": "2020-09-25T10:17:21.957227Z",
     "start_time": "2020-09-25T10:17:21.948250Z"
    }
   },
   "outputs": [
    {
     "data": {
      "text/plain": [
       "12800"
      ]
     },
     "execution_count": 63,
     "metadata": {},
     "output_type": "execute_result"
    }
   ],
   "source": [
    "data['train'][data['train']['판매단가'] >0]['판매단가'].unique().min()"
   ]
  },
  {
   "cell_type": "code",
   "execution_count": 64,
   "metadata": {
    "ExecuteTime": {
     "end_time": "2020-09-25T10:17:21.964208Z",
     "start_time": "2020-09-25T10:17:21.958225Z"
    }
   },
   "outputs": [
    {
     "data": {
      "text/plain": [
       "24900"
      ]
     },
     "execution_count": 64,
     "metadata": {},
     "output_type": "execute_result"
    }
   ],
   "source": [
    "data['test'][data['test']['판매단가'] >0]['판매단가'].unique().min()"
   ]
  },
  {
   "cell_type": "markdown",
   "metadata": {},
   "source": [
    "#### 상품명별 판매단가"
   ]
  },
  {
   "cell_type": "code",
   "execution_count": 65,
   "metadata": {
    "ExecuteTime": {
     "end_time": "2020-09-25T10:17:22.183009Z",
     "start_time": "2020-09-25T10:17:21.964425Z"
    }
   },
   "outputs": [
    {
     "data": {
      "image/png": "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\n",
      "text/plain": [
       "<Figure size 1008x720 with 1 Axes>"
      ]
     },
     "metadata": {},
     "output_type": "display_data"
    }
   ],
   "source": [
    "prod_group = data['train']['2019'].groupby('상품명').mean()\n",
    "prod_group['판매단가'].sort_values(ascending=False)[:10].plot(kind='bar', figsize=(14, 10))\n",
    "plt.show()"
   ]
  },
  {
   "cell_type": "code",
   "execution_count": 66,
   "metadata": {
    "ExecuteTime": {
     "end_time": "2020-09-25T10:17:22.501080Z",
     "start_time": "2020-09-25T10:17:22.184007Z"
    }
   },
   "outputs": [
    {
     "data": {
      "image/png": "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\n",
      "text/plain": [
       "<Figure size 1008x720 with 1 Axes>"
      ]
     },
     "metadata": {},
     "output_type": "display_data"
    }
   ],
   "source": [
    "plt.figure(figsize=(14,10))\n",
    "sns.boxplot(x = '상품군', y = '판매단가', data = data['train'])\n",
    "plt.show()"
   ]
  },
  {
   "cell_type": "code",
   "execution_count": 67,
   "metadata": {
    "ExecuteTime": {
     "end_time": "2020-09-25T10:17:22.899829Z",
     "start_time": "2020-09-25T10:17:22.502094Z"
    }
   },
   "outputs": [
    {
     "data": {
      "image/png": "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\n",
      "text/plain": [
       "<Figure size 1008x720 with 1 Axes>"
      ]
     },
     "metadata": {},
     "output_type": "display_data"
    }
   ],
   "source": [
    "plt.figure(figsize=(14,10))\n",
    "sns.boxplot(x = '상품군', y = '판매단가', data = data['test'])\n",
    "plt.show()"
   ]
  },
  {
   "cell_type": "markdown",
   "metadata": {},
   "source": [
    "### 취급액\n",
    "Target 값인 취급액에서의 Trend를 확인해 볼수 있다."
   ]
  },
  {
   "cell_type": "code",
   "execution_count": 68,
   "metadata": {
    "ExecuteTime": {
     "end_time": "2020-09-25T10:17:23.210147Z",
     "start_time": "2020-09-25T10:17:22.900826Z"
    }
   },
   "outputs": [
    {
     "data": {
      "image/png": "iVBORw0KGgoAAAANSUhEUgAAA08AAAJPCAYAAACkSe+uAAAABHNCSVQICAgIfAhkiAAAAAlwSFlzAAALEgAACxIB0t1+/AAAADl0RVh0U29mdHdhcmUAbWF0cGxvdGxpYiB2ZXJzaW9uIDMuMC4zLCBodHRwOi8vbWF0cGxvdGxpYi5vcmcvnQurowAAIABJREFUeJzt3X+M5Hdd+PHX3Ext7XIMemOryx8a61ZF1JVeoBFjqo7MHyQXQ3T/EDTEcBGbJl1/lf6IcGiwG6Enxr2mdWmg/Nc1xrhxoyRDUUDqDzyqtA24R2ttvaN1ei2UaU7vZj/fP/hyoXSu87q7nc9ndubx+I/3frL72leau3vymflMrSiKIgAAAHhZe6oeAAAAYDcQTwAAAAniCQAAIEE8AQAAJIgnAACABPEEAACQIJ4AAAASxBMAAECCeAIAAEgQTwAAAAmNqgcYt+PHj1c9wtRrtVrR6/WqHmPq2fP42XE57Lkc9jx+dlwOey7HLO95fn4+fa07TwAAAAniCQAAIEE8AQAAJEz9e54AAIDzUxRFnDp1Kra3t6NWq1U9zkUriiL27NkTl1122UX9PuIJAAB4kVOnTsUll1wSjcb05MKZM2fi1KlT8e3f/u0X/D28bA8AAHiR7e3tqQqniIhGoxHb29sX9T3EEwAA8CLT8FK9YS729xJPAAAACdN1Lw4AANhxg4MHdvT71dc2dvT7lcWdJwAAgISpv/O005V8PnZrUQMAQNXuuOOOOHr0aNTr9YiIGAwG8brXvW7oWUQMPf/t3/7tHZ1p6uMJAADYne68885oNpsREfGVr3wlPvShDw09O9e1O83L9gAAABLEEwAAQIJ4AgAASPCeJwAA4GV5ENrXufMEAACQIJ4AAAASvGwPAACYOPv27Ysbb7wx9uz5+v2e7e3tuO6664aeRcQ5z3fSRMbT+vp6bG1tvehDrhYWFoaeLS0tVTkqAABMnaIoqh4h3v72t8fb3/72oefnun6Ui/29JjKeIiKWl5djbm4uIiL6/X5sbm4OPQMAAHbWnj174syZM9FoTGwunLczZ86cvTN1oaZnG/9ft9uNbrcbERErKyuVztJqtSr9+WVpNBoz87tWyZ7Hz47LYc/lsOfxs+Ny2HM5vnXPRVHEyZMn48yZMxVOtbMuueSSuPLKK6NWq13w95i6eGq329Fut6seIyIier1e1SOUotVqzczvWiV7Hj87Loc9l8Oex8+Oy2HP5TjXnr/xlplpUBRFPPPMMy85n5+fT38PT9sDAABIEE8AAAAJ4gkAACBBPAEAACRM5AMjms1mrK6unn0SRlEUsbi4OPQMAACgDBMZT51OJzqdztBzAACAKnjZHgAAQIJ4AgAASBBPAAAACRP5nqedVF/bqHoEAABgCrjzBAAAkCCeAAAAEsQTAABAgngCAABIEE8AAAAJ4gkAACBBPAEAACSIJwAAgATxBAAAkCCeAAAAEsQTAABAgngCAABIEE8AAAAJ4gkAACBBPAEAACSIJwAAgATxBAAAkCCeAAAAEsQTAABAgngCAABIEE8AAAAJ4gkAACChUfUA4zY4eKDqEabeUxFRX9uoegwAABgrd54AAAASxBMAAECCeAIAAEgQTwAAAAniCQAAIEE8AQAAJIgnAACABPEEAACQUMqH5K6vr8fW1lbU6/WIiBgMBrGwsDD0LCLO63xpaamMXwEAAJhxpcRTRMTy8nLMzc1FRES/34/Nzc2hZ+e69uXOAQAAxq20eCpLt9uNbrcbERErKysVTzM7Wq1W1SNMvUajYc9jZsflsOdy2PP42XE57Lkc9pwzdfHUbrej3W5XPcbM6fV6VY8w9Vqtlj2PmR2Xw57LYc/jZ8flsOdyzPKe5+fn09d6YAQAAECCeAIAAEgQTwAAAAniCQAAIKGUB0Y0m81YXV2NWq0WERFFUcTi4uLQs4g473MAAIBxKyWeOp1OdDqdoefnuv58zgEAAMbNy/YAAAASxBMAAECCeAIAAEgo5T1PVaqvbVQ9wtSb5U+kBgBgdrjzBAAAkCCeAAAAEsQTAABAgngCAABIEE8AAAAJ4gkAACBBPAEAACSIJwAAgATxBAAAkCCeAAAAEsQTAABAgngCAABIEE8AAAAJ4gkAACBBPAEAACSIJwAAgATxBAAAkCCeAAAAEsQTAABAgngCAABIEE8AAAAJ4gkAACChUfUA4zY4eKDqEabeU1UPMEb1tY2qRwAAYEK48wQAAJAgngAAABLEEwAAQIJ4AgAASBBPAAAACeIJAAAgQTwBAAAkiCcAAIAE8QQAAJDQqHqAYdbX12Nrayvq9XpERAwGg1hYWBh6trS0VOWoAADAjJjIeIqIWF5ejrm5uYiI6Pf7sbm5OfTsW3W73eh2uxERsbKyUt7ATKVWq1X1CGc1Go2Jmmca2XE57Lkc9jx+dlwOey6HPedMbDxdqHa7He12u+oxmBK9Xq/qEc5qtVoTNc80suNy2HM57Hn87Lgc9lyOWd7z/Px8+lrveQIAAEgQTwAAAAniCQAAIEE8AQAAJIgnAACAhIl82l6z2YzV1dWo1WoREVEURSwuLg49AwAAKMNExlOn04lOpzP0HAAAoApetgcAAJAgngAAABLEEwAAQMJEvudpJ9XXNqoeYeq1Wq3o9XpVjwEAAGPlzhMAAECCeAIAAEgQTwAAAAniCQAAIEE8AQAAJIgnAACABPEEAACQIJ4AAAASxBMAAECCeAIAAEgQTwAAAAniCQAAIEE8AQAAJIgnAACABPEEAACQIJ4AAAASxBMAAECCeAIAAEgQTwAAAAniCQAAIEE8AQAAJDSqHmDcBgcPVD3C1Huq6gFmQH1to+oRAABmnjtPAAAACeIJAAAgQTwBAAAkiCcAAIAE8QQAAJAgngAAABLEEwAAQIJ4AgAASBBPAAAACY2qBxhmfX09tra2ol6vR0TEYDCIhYWFoWdLS0tVjgoAAMyIiYyniIjl5eWYm5uLiIh+vx+bm5tDzwAAAMowsfF0obrdbnS73YiIWFlZqXga2BmtVisajUa0Wq2qR5lqdlwOey6HPY+fHZfDnsthzzlTF0/tdjva7XbVY8CO6vV60Wq1otfrVT3KVLPjcthzOex5/Oy4HPZcjlne8/z8fPpaD4wAAABIEE8AAAAJ4gkAACBBPAEAACRM5AMjms1mrK6uRq1Wi4iIoihicXFx6BkAAEAZJjKeOp1OdDqdoecAAABV8LI9AACABPEEAACQIJ4AAAASJvI9TzupvrZR9QhTb5Y/kRoAgNnhzhMAAECCeAIAAEgQTwAAAAniCQAAIEE8AQAAJIgnAACABPEEAACQIJ4AAAASxBMAAECCeAIAAEgQTwAAAAniCQAAIEE8AQAAJIgnAACABPEEAACQIJ4AAAASxBMAAECCeAIAAEgQTwAAAAniCQAAIEE8AQAAJIgnAACAhEbVA4zb4OCBqkeYek9VPcCM2A17rq9tVD0CAMDYuPMEAACQIJ4AAAASxBMAAECCeAIAAEgQTwAAAAniCQAAIEE8AQAAJIgnAACAhEo/JHd9fT22traiXq9HRMRgMIiFhYWhZxEx9Hxpaama4QEAgJlSaTxFRCwvL8fc3FxERPT7/djc3Bx6dq5rAQAAylB5PO20brcb3W43IiJWVlYqngZmS6vVqnqEi9JoNHb977Ab2HM57Hn87Lgc9lwOe86Zunhqt9vRbrerHgNmUq/Xq3qEi9JqtXb977Ab2HM57Hn87Lgc9lyOWd7z/Px8+loPjAAAAEgQTwAAAAniCQAAIEE8AQAAJFT6wIhmsxmrq6tRq9UiIqIoilhcXBx6FhHnPAcAABi3SuOp0+lEp9MZen6u6wEAAKrgZXsAAAAJ4gkAACBBPAEAACRU+p6nMtTXNqoeYerN8idSl8meAQCq5c4TAABAgngCAABIEE8AAAAJ4gkAACBBPAEAACSIJwAAgATxBAAAkCCeAAAAEsQTAABAgngCAABIEE8AAAAJ4gkAACBBPAEAACSIJwAAgATxBAAAkCCeAAAAEsQTAABAgngCAABIEE8AAAAJ4gkAACBBPAEAACSIJwAAgIRG1QOM2+DggapHmHpPVT3AjJjmPdfXNqoeAQBgJHeeAAAAEsQTAABAgngCAABIEE8AAAAJ4gkAACBBPAEAACSIJwAAgATxBAAAkCCeAAAAEhpl/JD19fXY2tqKer0eERGDwSAWFhaGnkXEeZ0vLS2V8SsAAAAzrpR4iohYXl6Oubm5iIjo9/uxubk59Oxc177c+TfrdrvR7XYjImJlZWW8vxSwI1qtVtUjREREo9GYmFmmmT2Xw57Hz47LYc/lsOec0uKpLO12O9rtdtVjAOeh1+tVPUJEfD3iJmWWaWbP5bDn8bPjcthzOWZ5z/Pz8+lrvecJAAAgQTwBAAAkiCcAAIAE8QQAAJAgngAAABJKedpes9mM1dXVqNVqERFRFEUsLi4OPYuI8z4HAAAYt1LiqdPpRKfTGXp+ruvP5xwAAGDcvGwPAAAgQTwBAAAkiCcAAICEUt7zVKX62kbVI0y9VqsVvV6v6jGmnj0DAFTLnScAAICEkXeevvKVr8Tp06dT36zVal30QAAAAJNoZDwdPnw4FhYWoiiKoV+v1WpRFEU88MADceedd+74gAAAAJNgZDwVRRFve9vbRn6jRx99dEcGAgAAmEQj3/NUq9XKmAMAAGCieWAEAABAgngCAABIGPmep7m5uTh8+PDIb/Tss8/uyEAAAACTaGQ83XTTTWXMAQAAMNFGxtMf//Efn/Mx5d/sxIkT8f73v39HhgIAAJg0I+Pp2Wefjd///d8f+Y3e+9737shAAAAAk8ijygEAABI8bQ8AACBBPAEAACSMfM9TURRx3333jfxGTz/99I4MBAAAMIlGxtOP/diPxZNPPjnyG1199dU7MhAAAMAkGhlPn//85+PWW28d+bjy22+/fceGAgAAmDSpl+1deumlI7/Rnj3ePgUAAEwvjyoHAABIcLsIAAAgIfWyvYceemjkNf1+f8eGAgAAmDQj4+nAgQNx4sSJkd/o53/+53dkoJ02OHig6hGm3lNVDzAj7Hn8xrXj+trGmL4zAFCmkfG0f//+MuYAAACYaN7zBAAAkCCeAAAAEsQTAABAgngCAABIEE8AAAAJ4gkAACBBPAEAACSIJwAAgISRH5JbhfX19dja2op6vR4REYPBIBYWFoaeLS0tVTkqAAAwIyYyniIilpeXY25uLiIi+v1+bG5uDj0DAAAow8TG04XqdrvR7XYjImJlZaXiaQAiWq1W1SNMlEajYSclsOfxs+Ny2HM57Dln6uKp3W5Hu92uegyAs3q9XtUjTJRWq2UnJbDn8bPjcthzOWZ5z/Pz8+lrPTACAAAgQTwBAAAkiCcAAIAE8QQAAJAwkQ+MaDabsbq6GrVaLSIiiqKIxcXFoWcAAABlmMh46nQ60el0hp4DAABUwcv2AAAAEsQTAABAgngCAABImMj3PO2k+tpG1SNMvVn+ROoy2fP42TEA8HLceQIAAEgQTwAAAAniCQAAIEE8AQAAJIgnAACABPEEAACQIJ4AAAASxBMAAECCeAIAAEgQTwAAAAniCQAAIEE8AQAAJIgnAACABPEEAACQIJ4AAAASxBMAAECCeAIAAEgQTwAAAAniCQAAIEE8AQAAJIgnAACABPEEAACQ0Kh6gHEbHDxQ9QhT76mqB5gR9jx+dlwOey5Hds/1tY2xzgEwTdx5AgAASBBPAAAACeIJAAAgQTwBAAAkiCcAAIAE8QQAAJAgngAAABLEEwAAQMJEfkju+vp6bG1tRb1ej4iIwWAQCwsLQ8+WlpaqHBUAAJgRExlPERHLy8sxNzcXERH9fj82NzeHngEAAJRhYuPpQnW73eh2uxERsbKyUvE0ADDZWq1W1SPsWo1Gw/5KYM/lsOecqYundrsd7Xa76jEAYFfo9XpVj7BrtVot+yuBPZdjlvc8Pz+fvtYDIwAAABLEEwAAQIJ4AgAASBBPAAAACRP5wIhmsxmrq6tRq9UiIqIoilhcXBx6BgAAUIaJjKdOpxOdTmfoOQAAQBW8bA8AACBBPAEAACSIJwAAgISJfM/TTqqvbVQ9wtSb5U+kLpM9j58dl8Oey2HPADvPnScAAIAE8QQAAJAgngAAABLEEwAAQIJ4AgAASBBPAAAACeIJAAAgQTwBAAAkiCcAAIAE8QQAAJAgngAAABLEEwAAQIJ4AgAASBBPAAAACeIJAAAgQTwBAAAkiCcAAIAE8QQAAJAgngAAABLEEwAAQIJ4AgAASBBPAAAACY2qBxi3wcEDVY8w9Z6qeoAZYc/jZ8flsOdylLnn+tpGiT8NoDruPAEAACSIJwAAgATxBAAAkCCeAAAAEsQTAABAgngCAABIEE8AAAAJ4gkAACBBPAEAACQ0qh5gmPX19dja2op6vR4REYPBIBYWFoaeLS0tVTkqAAAwIyYyniIilpeXY25uLiIi+v1+bG5uDj37Vt1uN7rdbkRErKyslDcwAMyoVqtV9QiVaDQaM/u7l8mey2HPORMbTxeq3W5Hu92uegwAmBm9Xq/qESrRarVm9ncvkz2XY5b3PD8/n77We54AAAASxBMAAECCeAIAAEgQTwAAAAniCQAAIGEin7bXbDZjdXU1arVaREQURRGLi4tDzwAAAMowkfHU6XSi0+kMPQcAAKiCl+0BAAAkiCcAAIAE8QQAAJAwke952kn1tY2qR5h6rVYrer1e1WNMPXsePzsuhz2Xw54Bdp47TwAAAAniCQAAIEE8AQAAJIgnAACABPEEAACQIJ4AAAASxBMAAECCeAIAAEgQTwAAAAniCQAAIEE8AQAAJIgnAACABPEEAACQIJ4AAAASxBMAAECCeAIAAEgQTwAAAAniCQAAIEE8AQAAJIgnAACABPEEAACQ0Kh6gHEbHDxQ9QhT76mqB5gR9jx+dlwOey6HPV+8+tpG1SMAE8adJwAAgATxBAAAkCCeAAAAEsQTAABAgngCAABIEE8AAAAJ4gkAACBBPAEAACSIJwAAgIRG1QMMs76+HltbW1Gv1yMiYjAYxMLCwtCzpaWlKkcFAABmxETGU0TE8vJyzM3NRUREv9+Pzc3NoWcAAABlmNh4ulDdbje63W5ERKysrFQ8DQCwW7VarZf9eqPRGHkNF8+ey2HPOVMXT+12O9rtdtVjAAC7XK/Xe9mvt1qtkddw8ey5HLO85/n5+fS1HhgBAACQIJ4AAAASxBMAAECCeAIAAEiYyAdGNJvNWF1djVqtFhERRVHE4uLi0DMAAIAyTGQ8dTqd6HQ6Q88BAACq4GV7AAAACeIJAAAgQTwBAAAkTOR7nnZSfW2j6hGm3ix/InWZ7Hn87Lgc9lwOewbYee48AQAAJIgnAACABPEEAACQIJ4AAAASxBMAAECCeAIAAEgQTwAAAAniCQAAIEE8AQAAJIgnAACABPEEAACQIJ4AAAASxBMAAECCeAIAAEgQTwAAAAniCQAAIEE8AQAAJIgnAACABPEEAACQIJ4AAAASxBMAAECCeAIAAEhoVD3AuA0OHqh6hKn3VNUDzAh7Hj87Loc9l8Oex6/KHdfXNir86TC73HkCAABIEE8AAAAJ4gkAACBBPAEAACSIJwAAgATxBAAAkCCeAAAAEsQTAABAwkR+SO76+npsbW1FvV6PiIjBYBALCwtDz5aWlqocFQAAmBETGU8REcvLyzE3NxcREf1+PzY3N4eeAQAAlGFi4+lCdbvd6Ha7ERGxsrJS8TQAADuv1WpVPUJpGo3GTP2+VbHnnKmLp3a7He12u+oxAADGptfrVT1CaVqt1kz9vlWZ5T3Pz8+nr/XACAAAgATxBAAAkCCeAAAAEsQTAABAwkQ+MKLZbMbq6mrUarWIiCiKIhYXF4eeAQAAlGEi46nT6USn0xl6DgAAUAUv2wMAAEgQTwAAAAniCQAAIGEi3/O0k+prG1WPMPVm+ROpy2TP42fH5bDnctjz+NkxzB53ngAAABLEEwAAQIJ4AgAASBBPAAAACeIJAAAgQTwBAAAkiCcAAIAE8QQAAJAgngAAABLEEwAAQIJ4AgAASBBPAAAACeIJAAAgQTwBAAAkiCcAAIAE8QQAAJAgngAAABLEEwAAQIJ4AgAASBBPAAAACeIJAAAgQTwBAAAk1IqiKKoeYpyeePP+qkcAAAAior62UfUILzE/P5++1p0nAACABPEEAACQIJ4AAAASxBMAAECCeAIAAEgQTwAAAAniCQAAIEE8AQAAJDSq/OHr6+uxtbUV9Xo9IiIGg0EsLCwMPYuIoedLS0vVDA8AAMyUSuMpImJ5eTnm5uYiIqLf78fm5ubQs3NdCwAAUIbK42mndbvd6Ha7ERGxsrJS8TQAAMA3tFqtqke4KFMXT+12O9rtdtVjAAAA36LX61U9wkvMz8+nr/XACAAAgATxBAAAkCCeAAAAEsQTAABAQqUPjGg2m7G6uhq1Wi0iIoqiiMXFxaFnEXHOcwAAgHGrFUVRVD3EOD3x5v1VjwAAAEREfW2j6hFewtP2AAAAdph4AgAASBBPAAAACVP/nqfjx49XPcLUa7VaE/lp0dPGnsfPjsthz+Ww5/Gz43LYczlmec/e8wQAALDDxBMAAECCeAIAAEgQTwAAAAniCQAAIEE8AQAAJIgnAACABPEEAACQIJ4AAAASxBMAAECCeAIAAEioFUVRVD0EAADApJvqO08333xz1SPMBHsuhz2Pnx2Xw57LYc/jZ8flsOdy2HPOVMcTAADAThFPAAAACfVDhw4dqnqIcfr+7//+qkeYCfZcDnsePzsuhz2Xw57Hz47LYc/lsOfRPDACAAAgwcv2AAAAEhpVD7ATHnzwwfjwhz8c29vb8XM/93PxC7/wCy/6+unTp2N1dTUeffTR2Lt3bywvL8cVV1xR0bS716g9//Vf/3V8/OMfj3q9Hq985SvjN37jN+K7vuu7Kpp2dxq142/4x3/8xzh8+HDcfvvtcdVVV5U85e6X2fNnPvOZ+PM///Oo1Wrxvd/7vXHjjTdWMOnuNmrPvV4vjhw5Ev1+P7a3t+OXf/mX43Wve11F0+5Od955Zxw9ejSazWbccccdL/l6URTx4Q9/OD73uc/FpZdeGtdff72X5ZynUTv+1Kc+FX/1V38VERGXXXZZvOMd74jv+77vK3nK3W/Unr/h2LFjcdttt8Vv/uZvxrXXXlvihNMhs+eHH344PvKRj8RgMIi9e/fGe9/73pKnnHDFLjcYDIobbrih+PKXv1ycPn26+J3f+Z3iiSeeeNE1f/u3f1vcfffdRVEUxac//eni8OHDVYy6q2X2/PnPf744depUURRF8bGPfcyez1Nmx0VRFC+88ELx7ne/u7j11luLY8eOVTDp7pbZ8/Hjx4vf/d3fLZ5//vmiKIriueeeq2LUXS2z57vuuqv42Mc+VhRFUTzxxBPF9ddfX8Wou9rDDz9cfOlLXyp+67d+a+jX//Vf/7V43/veV2xvbxdf/OIXi1tuuaXkCXe/UTv+whe+cPbPiqNHj9rxBRq156L4+p8rhw4dKv7wD/+weOCBB0qcbnqM2vPXvva1Ynl5ufif//mfoij8/TfMrn/Z3rFjx+K7v/u748orr4xGoxE/+ZM/Gf/yL//yoms++9nPxnXXXRcREddee2089NBDUXir13nJ7Pm1r31tXHrppRERsbCwECdPnqxi1F0rs+OIiPvuuy8OHDgQl1xySQVT7n6ZPX/84x+PTqcTr3jFKyIiotlsVjHqrpbZc61WixdeeCEiIl544YX4ju/4jipG3dVe85rXnP3vdJjPfvaz8dM//dNRq9Xi6quvjn6/H88++2yJE+5+o3b8gz/4g2e/vrCwEM8880xZo02VUXuOiPibv/mbeMMb3hCvfOUrS5pq+oza86c//el4wxveEK1WKyL8/TfMro+nkydPxr59+87+73379r3kH+3ffE29Xo/LL788nn/++VLn3O0ye/5m999/fywuLpYx2tTI7Pixxx6LXq8X11xzTdnjTY3Mno8fPx4nTpyI3/u934vbbrstHnzwwbLH3PUye/6lX/ql+NSnPhXvfOc74/bbb49f+7VfK3vMqXfy5Mmz/wiKGP1nNxfn/vvvj5/4iZ+oeoypdPLkyfjnf/7neNOb3lT1KFPtxIkT8bWvfS0OHToU73rXu+Lv//7vqx5p4uz6eBp2B6lWq533Nby889nhJz/5yXj00UfjwIED4x5rqoza8fb2dtx7773xq7/6q2WONXUy/y1vb2/HiRMn4j3veU/ceOONcdddd0W/3y9rxKmQ2fM//MM/xHXXXRd33XVX3HLLLfGnf/qnsb29XdaIM8Hff+V56KGH4hOf+ES89a1vrXqUqfSRj3wk3vrWt8aePbv+n64TbTAYxGOPPRY333xz3HbbbfEXf/EXcfz48arHmii7/oER+/bte9Et8meeeeYlL/34xjX79u2LwWAQL7zwwshbw7xYZs8REf/+7/8ef/mXfxmHDh3ysrLzNGrHp06diieeeOLsGzefe+65+KM/+qO46aabPDTiPGT+W/7O7/zOuPrqq6PRaMQVV1wR8/PzceLEifiBH/iBssfdtTJ7vv/+++PWW2+NiIirr746Tp8+Hc8//7yXieygffv2Ra/XO/u/z/VnNxfn8ccfj7vvvjtuueWW2Lt3b9XjTKUvfelL8Sd/8icREfHVr341Pve5z8WePXvi9a9/fcWTTZd9+/bF3r1747LLLovLLrssfviHfzgef/zxmJ+fr3q0ibHr8/2qq66KEydOxNNPPx1nzpyJz3zmM7F///4XXXPNNdfE3/3d30XE159S9iM/8iP+n7fzlNnzY489Fmtra3HTTTf5x88FGLXjyy+/PO655544cuRIHDlyJBYWFoTTBcj8t/z6178+HnrooYj4+l/SJ06ciCuvvLKKcXetzJ5brdbZPT/55JNx+vRp72XYYfv3749PfvKTURRF/Md//Edcfvnl4mmH9Xq9+MAHPhA33HCDf2CO0Tf+7jty5Ehce+218Y53vEM4jcH+/fvjC1/4QgwGg/jf//3fOHbsWLz61a+ueqyJMhUfknv06NG49957Y3t7O37mZ34m3vLfn/EWAAAC8ElEQVSWt8R9990XV111Vezfvz/+7//+L1ZXV+Oxxx6LV7ziFbG8vOwfQhdg1J7/4A/+IP7rv/4rXvWqV0XE1/9h9K53vaviqXeXUTv+ZocOHYpf+ZVfEU8XYNSei6KIj370o/Hggw/Gnj174i1veUu88Y1vrHrsXWfUnp988sm4++6749SpUxER8ba3vS1+/Md/vOKpd5cPfvCD8cgjj5y9Y7e0tBRnzpyJiIg3velNURRF3HPPPfFv//Zv8W3f9m1x/fXX+zPjPI3a8V133RX/9E//dPa9ZfV6PVZWVqoceVcatedvduTIkbjmmms8qvwCZPa8sbERn/jEJ2LPnj3xsz/7s/HmN7+5ypEnzlTEEwAAwLjt+pftAQAAlEE8AQAAJIgnAACABPEEAACQsOs/5wkAAJhed955Zxw9ejSazWbccccdL3vtI488Evfee288/vjjsby8/KKnMr7vfe+Lra2t+KEf+qG4+eabL2gWd54AAICJdd111539UPVRWq1WXH/99fFTP/VTL/nagQMH4oYbbrioWdx5AgAAJtZrXvOaePrpp1909uUvfznuueee+OpXvxqXXnpp/Pqv/3q8+tWvjiuuuCIiImq12ku+z4/+6I/Gww8/fFGziCcAAGBX+bM/+7M4ePBgfM/3fE9sbW3Fhz70oXjPe94z9p8rngAAgF3j1KlT8cUvfjEOHz589uzMmTOl/GzxBAAA7Brb29sxNzcX73//+0v/2R4YAQAA7BqXX355XHHFFfHAAw9ERERRFPGf//mfpfzsWlEURSk/CQAA4Dx98IMfjEceeSSef/75aDabsbS0FK997WtjbW0tnnvuuThz5ky88Y1vjF/8xV+MY8eOxQc+8IHo9/txySWXxKte9aqzL+9797vfHf/93/8dp06dir1798Y73/nOWFxcPK9ZxBMAAECCl+0BAAAkiCcAAIAE8QQAAJAgngAAABLEEwAAQIJ4AgAASBBPAAAACeIJAAAg4f8B15X31LUSdt0AAAAASUVORK5CYII=\n",
      "text/plain": [
       "<Figure size 1008x720 with 1 Axes>"
      ]
     },
     "metadata": {},
     "output_type": "display_data"
    }
   ],
   "source": [
    "data['train'].pivot_table(values=['취급액'],\n",
    "                   index=['상품군'],\n",
    "                   aggfunc='sum').sort_values(by='취급액',ascending=False).plot(kind='barh', figsize=(14, 10))\n",
    "plt.show()"
   ]
  },
  {
   "cell_type": "code",
   "execution_count": 69,
   "metadata": {
    "ExecuteTime": {
     "end_time": "2020-09-25T10:17:23.677895Z",
     "start_time": "2020-09-25T10:17:23.215133Z"
    }
   },
   "outputs": [
    {
     "data": {
      "image/png": "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\n",
      "text/plain": [
       "<Figure size 1008x720 with 1 Axes>"
      ]
     },
     "metadata": {},
     "output_type": "display_data"
    }
   ],
   "source": [
    "# TOP10만 확인\n",
    "data['train'].pivot_table(values=['취급액'],\n",
    "                          index=['상품명'],\n",
    "                          aggfunc='sum').sort_values(by='취급액',ascending=False)[:10].plot(kind='barh', figsize=(14, 10))\n",
    "plt.show()"
   ]
  },
  {
   "cell_type": "code",
   "execution_count": 70,
   "metadata": {
    "ExecuteTime": {
     "end_time": "2020-09-25T10:17:23.840655Z",
     "start_time": "2020-09-25T10:17:23.680887Z"
    }
   },
   "outputs": [
    {
     "data": {
      "image/png": "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\n",
      "text/plain": [
       "<Figure size 1008x720 with 1 Axes>"
      ]
     },
     "metadata": {},
     "output_type": "display_data"
    }
   ],
   "source": [
    "data['train'][['상품코드','상품명','상품군']]['상품군'].value_counts().plot(kind = 'barh', figsize=(14, 10))\n",
    "plt.show()"
   ]
  },
  {
   "cell_type": "code",
   "execution_count": 71,
   "metadata": {
    "ExecuteTime": {
     "end_time": "2020-09-25T10:17:24.135866Z",
     "start_time": "2020-09-25T10:17:23.841654Z"
    }
   },
   "outputs": [
    {
     "data": {
      "image/png": "iVBORw0KGgoAAAANSUhEUgAAAz4AAAJCCAYAAAABXBLWAAAABHNCSVQICAgIfAhkiAAAAAlwSFlzAAALEgAACxIB0t1+/AAAADl0RVh0U29mdHdhcmUAbWF0cGxvdGxpYiB2ZXJzaW9uIDMuMC4zLCBodHRwOi8vbWF0cGxvdGxpYi5vcmcvnQurowAAHMRJREFUeJzt3V+I7HX9x/HXONMvc61BnTJWCPqzXWTCQkoWlUUDCxkSEQtFQRfZhVFsQSRdVFDBUolhawin0KBu9ipObBAMUUERVNo/o9pIIvtzbNT8synmnPldROfXL+cczzl+v/vdfft4XOmHYec97rv2PM935ru9+Xw+DwAAQGHndD0AAABA24QPAABQnvABAADKEz4AAEB5wgcAAChP+AAAAOUJHwAAoDzhAwAAlCd8AACA8oQPAABQ3qDrAU7lz3/+c9cjUNRoNMp0Ou16DIqyX7TNjtEm+0Wbmt6v5eXl036sKz4AAEB5wgcAAChP+AAAAOUJHwAAoDzhAwAAlCd8AACA8oQPAABQnvABAADKEz4AAEB5wgcAAChv0PUApzK79pp9e67+kaP79lwAAMD+csUHAAAoT/gAAADlCR8AAKA84QMAAJQnfAAAgPKEDwAAUJ7wAQAAyhM+AABAeU/6C0y3t7ezu7ubfr+fJJnNZllZWVl4luSMztfX15t/RQAAAP/lScMnSTY2NrK0tJQk2dvby87OzsKzkz32VOcAAABtO63w2S+TySSTySRJsrm5ua/PPRqN9vX56NZgMPA9pzX2i7bZMdpkv2hTl/t1oMJnPB5nPB538tzT6bST56Ubo9HI95zW2C/aZsdok/2iTU3v1/Ly8mk/1s0NAACA8oQPAABQnvABAADKEz4AAEB5T3pzg+FwmK2trfR6vSTJfD7P6urqwrMkZ3wOAADQtt58Pp93PcTJ/PHqy/ftufpHju7bc9E9d6yhTfaLttkx2mS/aJO7ugEAALRI+AAAAOUJHwAAoLwnvblBl3zuBgAAaIIrPgAAQHnCBwAAKE/4AAAA5QkfAACgPOEDAACUJ3wAAIDyhA8AAFCe8AEAAMoTPgAAQHnCBwAAKE/4AAAA5QkfAACgPOEDAACUJ3wAAIDyhA8AAFCe8AEAAMoTPgAAQHnCBwAAKE/4AAAA5QkfAACgPOEDAACUJ3wAAIDyBl0PcCqza6/pegTOUP/I0a5HAACAJ3DFBwAAKE/4AAAA5QkfAACgPOEDAACUJ3wAAIDyhA8AAFCe8AEAAMoTPgAAQHmN/wLT7e3t7O7upt/vJ0lms1lWVlYWnq2vrzf99AAAAE/QePgkycbGRpaWlpIke3t72dnZWXgGAACwH1oJn7M1mUwymUySJJubmx1Pw9kYjUZdj3BaBoPBoZmVw8d+0TY7RpvsF23qcr8OVPiMx+OMx+Oux+ApmE6nXY9wWkaj0aGZlcPHftE2O0ab7Bdtanq/lpeXT/uxbm4AAACUJ3wAAIDyhA8AAFCe8AEAAMpr/OYGw+EwW1tb6fV6SZL5fJ7V1dWFZwAAAPuh8fBZW1vL2trawnMAAIAueKsbAABQnvABAADKEz4AAEB5jX/Gp0n9I0e7HgEAACjAFR8AAKA84QMAAJQnfAAAgPKEDwAAUJ7wAQAAyhM+AABAecIHAAAoT/gAAADlCR8AAKA84QMAAJQnfAAAgPKEDwAAUJ7wAQAAyhM+AABAecIHAAAoT/gAAADlCR8AAKA84QMAAJQnfAAAgPKEDwAAUJ7wAQAAyhM+AABAeYOuBziV2bXXdD0CRR3reoCnif6Ro12PAACQxBUfAADgaUD4AAAA5QkfAACgPOEDAACUJ3wAAIDyhA8AAFCe8AEAAMoTPgAAQHnCBwAAKG/Q9Bfc3t7O7u5u+v1+kmQ2m2VlZWXh2fr6etNPDwAA8ASNh0+SbGxsZGlpKUmyt7eXnZ2dhWf/bTKZZDKZJEk2NzfbGA3YR6PRqOsROjEYDJ62r539Ycdok/2iTV3uVyvhc7bG43HG43HXYwANmU6nXY/QidFo9LR97ewPO0ab7Bdtanq/lpeXT/uxPuMDAACUJ3wAAIDyhA8AAFCe8AEAAMoTPgAAQHmN39VtOBxma2srvV4vSTKfz7O6urrwDAAAYD80Hj5ra2tZW1tbeA4AANAFb3UDAADKEz4AAEB5wgcAACiv8c/4NKl/5GjXI1DUaDTKdDrtegwAAPaJKz4AAEB5wgcAAChP+AAAAOUJHwAAoDzhAwAAlCd8AACA8oQPAABQnvABAADKEz4AAEB5wgcAAChP+AAAAOUJHwAAoDzhAwAAlCd8AACA8oQPAABQnvABAADKEz4AAEB5wgcAAChP+AAAAOUJHwAAoDzhAwAAlDfoeoBTmV17TdcjUNSxrgd4GuofOdr1CADA05grPgAAQHnCBwAAKE/4AAAA5QkfAACgPOEDAACUJ3wAAIDyhA8AAFCe8AEAAMoTPgAAQHmDpr/g9vZ2dnd30+/3kySz2SwrKysLz9bX15t+egAAgCdoPHySZGNjI0tLS0mSvb297OzsLDwDAADYD62Ez9maTCaZTCZJks3NzY6nAZo0Go26HmHfDAaDp9XrZf/ZMdpkv2hTl/t1oMJnPB5nPB53PQbQgul02vUI+2Y0Gj2tXi/7z47RJvtFm5rer+Xl5dN+rJsbAAAA5QkfAACgPOEDAACUJ3wAAIDyGr+5wXA4zNbWVnq9XpJkPp9ndXV14RkAAMB+aDx81tbWsra2tvAcAACgC97qBgAAlCd8AACA8oQPAABQXuOf8WlS/8jRrkegKL+VGgDg6cUVHwAAoDzhAwAAlCd8AACA8oQPAABQnvABAADKEz4AAEB5wgcAAChP+AAAAOUJHwAAoDzhAwAAlCd8AACA8oQPAABQnvABAADKEz4AAEB5wgcAAChP+AAAAOUJHwAAoDzhAwAAlCd8AACA8oQPAABQnvABAADKEz4AAEB5g64HOJXZtdd0PQJFHet6ABbqHzna9QgAQFGu+AAAAOUJHwAAoDzhAwAAlCd8AACA8oQPAABQnvABAADKEz4AAEB5wgcAACjvrH+B6fb2dnZ3d9Pv95Mks9ksKysrC8+SLDxfX19/qvMDAAA8qbMOnyTZ2NjI0tJSkmRvby87OzsLz072WAAAgP3wlMKnaZPJJJPJJEmyubnZ8TTAfhuNRl2P0IjBYFDmtXAw2THaZL9oU5f7daDCZzweZzwedz0G0JHpdNr1CI0YjUZlXgsHkx2jTfaLNjW9X8vLy6f9WDc3AAAAyhM+AABAecIHAAAoT/gAAADlnfXNDYbDYba2ttLr9ZIk8/k8q6urC8+SnPQcAACgbWcdPmtra1lbW1t4frLHAwAAdMFb3QAAgPKEDwAAUJ7wAQAAyjvrz/jsh/6Ro12PQFF+KzUAwNOLKz4AAEB5wgcAAChP+AAAAOUJHwAAoDzhAwAAlCd8AACA8oQPAABQnvABAADKEz4AAEB5wgcAAChP+AAAAOUJHwAAoDzhAwAAlCd8AACA8oQPAABQnvABAADKEz4AAEB5wgcAAChP+AAAAOUJHwAAoDzhAwAAlCd8AACA8gZdD3Aqs2uv6XoEijrW9QA0on/kaNcjAACHhCs+AABAecIHAAAoT/gAAADlCR8AAKA84QMAAJQnfAAAgPKEDwAAUJ7wAQAAyhM+AABAeYOmv+D29nZ2d3fT7/eTJLPZLCsrKwvP1tfXm356AACAJ2g8fJJkY2MjS0tLSZK9vb3s7OwsPPtvk8kkk8kkSbK5udnGaEAho9Go6xEWGgwGB3Y2arBjtMl+0aYu96uV8Dlb4/E44/G46zGAQ2I6nXY9wkKj0ejAzkYNdow22S/a1PR+LS8vn/ZjfcYHAAAoT/gAAADlCR8AAKA84QMAAJQnfAAAgPIav6vbcDjM1tZWer1ekmQ+n2d1dXXhGQAAwH5oPHzW1taytra28BwAAKAL3uoGAACUJ3wAAIDyhA8AAFBe45/xaVL/yNGuR6Co0WiU6XTa9RgAAOwTV3wAAIDyhA8AAFCe8AEAAMoTPgAAQHnCBwAAKE/4AAAA5QkfAACgPOEDAACUJ3wAAIDyhA8AAFCe8AEAAMoTPgAAQHnCBwAAKE/4AAAA5QkfAACgPOEDAACUJ3wAAIDyhA8AAFCe8AEAAMoTPgAAQHnCBwAAKG/Q9QCnMrv2mq5HoKhjXQ9AafbrcOofOdr1CAC0yBUfAACgPOEDAACUJ3wAAIDyhA8AAFCe8AEAAMoTPgAAQHnCBwAAKE/4AAAA5QkfAACgvEHTX3B7ezu7u7vp9/tJktlslpWVlYVn6+vrTT89AADAEzQePkmysbGRpaWlJMne3l52dnYWngEAAOyHVsLnbE0mk0wmkyTJ5uZmx9MA8HQyGo26HuG0DQaDQzUvh4v9ok1d7teBCp/xeJzxeNz1GAA8DU2n065HOG2j0ehQzcvhYr9oU9P7tby8fNqPdXMDAACgPOEDAACUJ3wAAIDyhA8AAFBe4zc3GA6H2draSq/XS5LM5/Osrq4uPAMAANgPjYfP2tpa1tbWFp4DAAB0wVvdAACA8oQPAABQnvABAADKa/wzPk3qHzna9QgU5bdS0yb7BQAHjys+AABAecIHAAAoT/gAAADlCR8AAKA84QMAAJQnfAAAgPKEDwAAUJ7wAQAAyhM+AABAecIHAAAoT/gAAADlCR8AAKA84QMAAJQnfAAAgPKEDwAAUJ7wAQAAyhM+AABAecIHAAAoT/gAAADlCR8AAKA84QMAAJQnfAAAgPIGXQ9wKrNrr+l6BIo61vUAlGa/auofOdr1CAA8Ba74AAAA5QkfAACgPOEDAACUJ3wAAIDyhA8AAFCe8AEAAMoTPgAAQHnCBwAAKK/xX2C6vb2d3d3d9Pv9JMlsNsvKysrCs/X19aafHgAA4AkaD58k2djYyNLSUpJkb28vOzs7C88AAAD2Qyvhc7Ymk0kmk0mSZHNzs+NpAOD/jEajrkc4YTAYHKh5qMV+0aYu9+tAhc94PM54PO56DAB4gul02vUIJ4xGowM1D7XYL9rU9H4tLy+f9mPd3AAAAChP+AAAAOUJHwAAoDzhAwAAlNf4zQ2Gw2G2trbS6/WSJPP5PKurqwvPAAAA9kPj4bO2tpa1tbWF5wAAAF3wVjcAAKA84QMAAJQnfAAAgPIa/4xPk/pHjnY9AkX5rdS0yX4BwMHjig8AAFCe8AEAAMoTPgAAQHnCBwAAKE/4AAAA5QkfAACgPOEDAACUJ3wAAIDyhA8AAFCe8AEAAMoTPgAAQHnCBwAAKE/4AAAA5QkfAACgPOEDAACUJ3wAAIDyhA8AAFCe8AEAAMoTPgAAQHnCBwAAKE/4AAAA5QkfAACgvEHXA5zK7Npruh6Boo51PQCl2S/adth2rH/kaNcjALjiAwAA1Cd8AACA8oQPAABQnvABAADKEz4AAEB5wgcAAChP+AAAAOUJHwAAoDzhAwAAlDdo+gtub29nd3c3/X4/STKbzbKysrLwbH19vemnBwAAeILGwydJNjY2srS0lCTZ29vLzs7OwrP/NplMMplMkiSbm5ttjAYA7LPRaNT1CJyBwWDge0ZrutyvVsLnbI3H44zH467HAAAaNJ1Oux6BMzAajXzPaE3T+7W8vHzaj/UZHwAAoDzhAwAAlCd8AACA8oQPAABQnvABAADKa/yubsPhMFtbW+n1ekmS+Xye1dXVhWcAAAD7ofHwWVtby9ra2sJzAACALnirGwAAUJ7wAQAAyhM+AABAeY1/xqdJ/SNHux6BokajUabTaddjUJT9om12DODMueIDAACUJ3wAAIDyhA8AAFCe8AEAAMoTPgAAQHnCBwAAKE/4AAAA5QkfAACgPOEDAACUJ3wAAIDyhA8AAFCe8AEAAMoTPgAAQHnCBwAAKE/4AAAA5QkfAACgPOEDAACUJ3wAAIDyhA8AAFCe8AEAAMoTPgAAQHmDrgc4ldm113Q9AkUd63oASrNftM2OPbn+kaNdjwAcMK74AAAA5QkfAACgPOEDAACUJ3wAAIDyhA8AAFCe8AEAAMoTPgAAQHnCBwAAKE/4AAAA5Q2e7AHb29vZ3d1Nv99Pksxms6ysrCw8S3JG5+vr682/IgAAgP/ypOGTJBsbG1laWkqS7O3tZWdnZ+HZyR57qnMAAIC2nVb47JfJZJLJZJIk2dzc7HgaAOCwGo1GXY9waA0GA//9aE2X+3Wgwmc8Hmc8Hnc9BgBwyE2n065HOLRGo5H/frSm6f1aXl4+7ce6uQEAAFCe8AEAAMoTPgAAQHnCBwAAKO9Jb24wHA6ztbWVXq+XJJnP51ldXV14luSMzwEAANrWm8/n866HOJk/Xn151yMAAIdQ/8jRrkc4tNzVjTa5qxsAAECLhA8AAFCe8AEAAMp70psbdMn7c2mL9y/TJvtF2+wYwJlzxQcAAChP+AAAAOUJHwAAoDzhAwAAlCd8AACA8oQPAABQnvABAADKEz4AAEB5wgcAAChP+AAAAOUJHwAAoDzhAwAAlCd8AACA8oQPAABQnvABAADKEz4AAEB5wgcAAChP+AAAAOUJHwAAoDzhAwAAlCd8AACA8oQPAABQ3qDrAU5ldu01XY9AUce6HoDS7Bdts2O06aDtV//I0a5HoAhXfAAAgPKEDwAAUJ7wAQAAyhM+AABAecIHAAAoT/gAAADlCR8AAKA84QMAAJR31r/AdHt7O7u7u+n3+0mS2WyWlZWVhWdJFp6vr68/1fkBAACe1FmHT5JsbGxkaWkpSbK3t5ednZ2FZyd7LAAAwH54SuHTtMlkkslkkiTZ3NzseBoAALo2Go26HoEGDQaDzr6nByp8xuNxxuNx12MAAHBATKfTrkegQaPRqNHv6fLy8mk/1s0NAACA8oQPAABQnvABAADKEz4AAEB5Z31zg+FwmK2trfR6vSTJfD7P6urqwrMkJz0HAABoW28+n8+7HuJk/nj15V2PAABAh/pHjnY9Ag1yVzcAAIAWCR8AAKA84QMAAJR31jc32A/e00lbmn5/Kfwn+0Xb7Bhtsl9U5YoPAABQnvABAADKEz4AAEB5wgcAAChP+AAAAOUJHwAAoDzhAwAAlCd8AACA8oQPAABQnvABAADKEz4AAEB5wgcAAChP+AAAAOUJHwAAoDzhAwAAlCd8AACA8oQPAABQnvABAADKEz4AAEB5wgcAAChP+AAAAOUJHwAAoLxB1wOcyuzaa7oegaKOdT0Apdkv2mbHaJP94mT6R452PcJT4ooPAABQnvABAADKEz4AAEB5wgcAAChP+AAAAOUJHwAAoDzhAwAAlCd8AACA8hr/Babb29vZ3d1Nv99Pksxms6ysrCw8W19fb/rpAQAAnqDx8EmSjY2NLC0tJUn29vays7Oz8AwAAGA/tBI+Z2symWQymSRJNjc3O54GAAD4t9Fo9JS/xmAwaOTrnNVzd/KsJzEejzMej7seAwAA+C/T6fQpf43RaNTI1/m35eXl036smxsAAADlCR8AAKA84QMAAJQnfAAAgPIav7nBcDjM1tZWer1ekmQ+n2d1dXXhGQAAwH7ozefzeddDnMwfr7686xEAAIAk/SNHn/LXcFc3AACAFgkfAACgPOEDAACU1/jNDZrUxPsIYZGm318K/8l+0TY7RpvsF1W54gMAAJQnfAAAgPKEDwAAUJ7wAQAAyhM+AABAecIHAAAoT/gAAADlCR8AAKA84QMAAJQnfAAAgPKEDwAAUF5vPp/Pux4CAACgTQf2is/111/f9QgUZr9ok/2ibXaMNtkv2tTlfh3Y8AEAAGiK8AEAAMrrf+ITn/hE10OczIte9KKuR6Aw+0Wb7Bdts2O0yX7Rpq72y80NAACA8rzVDQAAKG/Q9QCL/PSnP82tt96a48eP541vfGPe8pa3dD0Sh8wXv/jF3H777RkOh7nhhhuSJA8//HBuvPHG/O1vf8tzn/vcfPCDH8z555+f+XyeW2+9NXfccUee+cxn5rrrrnOJn1OaTqe5+eab8/e//z29Xi/j8ThvetOb7BiNeOyxx/Lxj388jz/+eGazWa688sqsr6/nnnvuyec///k8/PDDeeELX5j3v//9GQwG+ec//5mtra38/ve/z7Of/exsbGzkec97XtcvgwPu+PHjuf7663PhhRfm+uuvt1805n3ve1/OPffcnHPOOen3+9nc3DwwPx8P3BWf48eP58tf/nI++tGP5sYbb8z3v//93H333V2PxSHz+te/Ph/96Ef/39nXv/71XHbZZbnpppty2WWX5etf/3qS5I477shf//rX3HTTTXnve9+bL33pS12MzCHS7/fzrne9KzfeeGM+/elP51vf+lbuvvtuO0YjnvGMZ+TjH/94PvvZz+Yzn/lMfvrTn+a3v/1tvvrVr+bqq6/OTTfdlKWlpXz7299Oknz729/O0tJSvvCFL+Tqq6/O1772tY5fAYfBN7/5zVxyySUn/t1+0aR//3/Y5uZmkoPzZ7ADFz6/+93v8vznPz8XX3xxBoNBXv3qV+dHP/pR12NxyLzsZS/L+eef///OfvSjH+Wqq65Kklx11VUn9urHP/5xXve616XX6+WlL31p9vb2cv/99+/7zBweF1xwwYm/kXrWs56VSy65JPfdd58doxG9Xi/nnntukmQ2m2U2m6XX6+XOO+/MlVdemeRff7nzn/v1+te/Pkly5ZVX5pe//GV8fJdTuffee3P77bfnjW98Y5JkPp/bL1p1UH4+Hrjwue+++3LRRRed+PeLLroo9913X4cTUcUDDzyQCy64IMm//uD64IMPJvnXzo1GoxOPs3OciXvuuSd33XVXXvKSl9gxGnP8+PF8+MMfznve855cdtllufjii3Peeeel3+8nSS688MITO/SfPzf7/X7OO++8PPTQQ53NzsF322235Z3vfGd6vV6S5KGHHrJfNOrTn/50PvKRj2QymSQ5OH8GO3Cf8Vn0twj//h8mtMHOcbYeffTR3HDDDXn3u9+d884776SPs2OcqXPOOSef/exns7e3l8997nP505/+dNLH2i/OxE9+8pMMh8O86EUvyp133vmkj7dfnKlPfvKTufDCC/PAAw/kU5/6VJaXl0/62P3erwMXPhdddFHuvffeE/9+7733nihEeCqGw2Huv//+XHDBBbn//vvznOc8J8m/dm46nZ54nJ3jdDz++OO54YYb8trXvjavfOUrk9gxmre0tJSXvexl2d3dzT/+8Y/MZrP0+/3cd999ufDCC5P838/Niy66KLPZLP/4xz+e8FZf+Lff/OY3+fGPf5w77rgjjz32WB555JHcdttt9ovG/Ht3hsNhrrjiivzud787MD8fD9xb3V784hfnL3/5S+655548/vjj+cEPfpDLL7+867Eo4PLLL893v/vdJMl3v/vdXHHFFSfOv/e972U+n+e3v/1tzjvvPH8o5ZTm83luueWWXHLJJXnzm9984tyO0YQHH3wwe3t7Sf51h7df/OIXueSSS3LppZfmhz/8YZLkO9/5zomfja94xSvyne98J0nywx/+MJdeeqm/keek3vGOd+SWW27JzTffnI2Njbz85S/PBz7wAftFIx599NE88sgjJ/755z//eV7wghccmJ+PB/IXmN5+++35yle+kuPHj+cNb3hD3vrWt3Y9EofM5z//+fzqV7/KQw89lOFwmPX19VxxxRW58cYbM51OMxqN8qEPfejErRS//OUv52c/+1n+53/+J9ddd11e/OIXd/0SOMB+/etf52Mf+1he8IIXnPgDwNvf/vasrKzYMZ6yP/zhD7n55ptz/PjxzOfzvOpVr8rb3va2HDt27Am3G37GM56Rxx57LFtbW7nrrrty/vnnZ2NjIxdffHHXL4ND4M4778w3vvGNXH/99faLRhw7diyf+9znkvzr5iyvec1r8ta3vjUPPfTQgfj5eCDDBwAAoEkH7q1uAAAATRM+AABAecIHAAAoT/gAAADlCR8AAKA84QMAAJQnfAAAgPKEDwAAUN7/Ahd3kNu2d7I4AAAAAElFTkSuQmCC\n",
      "text/plain": [
       "<Figure size 1008x720 with 1 Axes>"
      ]
     },
     "metadata": {},
     "output_type": "display_data"
    }
   ],
   "source": [
    "data['test'][['상품코드','상품명','상품군']]['상품군'].value_counts().plot(kind = 'barh', figsize=(14, 10))\n",
    "plt.show()"
   ]
  },
  {
   "cell_type": "code",
   "execution_count": 72,
   "metadata": {
    "ExecuteTime": {
     "end_time": "2020-09-25T10:17:24.142847Z",
     "start_time": "2020-09-25T10:17:24.136863Z"
    }
   },
   "outputs": [
    {
     "data": {
      "text/plain": [
       "322009000.0"
      ]
     },
     "execution_count": 72,
     "metadata": {},
     "output_type": "execute_result"
    }
   ],
   "source": [
    "np.nanmax(data['train']['취급액'].unique())"
   ]
  },
  {
   "cell_type": "code",
   "execution_count": 73,
   "metadata": {
    "ExecuteTime": {
     "end_time": "2020-09-25T10:17:24.764914Z",
     "start_time": "2020-09-25T10:17:24.143844Z"
    }
   },
   "outputs": [
    {
     "data": {
      "image/png": "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\n",
      "text/plain": [
       "<Figure size 1008x720 with 1 Axes>"
      ]
     },
     "metadata": {},
     "output_type": "display_data"
    }
   ],
   "source": [
    "plt.figure(figsize=(14,10))\n",
    "sns.boxplot(x = '상품군', y = '취급액', data = data['train'])\n",
    "plt.show()"
   ]
  },
  {
   "cell_type": "code",
   "execution_count": 74,
   "metadata": {
    "ExecuteTime": {
     "end_time": "2020-09-25T10:17:25.210400Z",
     "start_time": "2020-09-25T10:17:24.766911Z"
    }
   },
   "outputs": [
    {
     "data": {
      "image/png": "iVBORw0KGgoAAAANSUhEUgAAAywAAAJpCAYAAABPbLb2AAAABHNCSVQICAgIfAhkiAAAAAlwSFlzAAALEgAACxIB0t1+/AAAADl0RVh0U29mdHdhcmUAbWF0cGxvdGxpYiB2ZXJzaW9uIDMuMC4zLCBodHRwOi8vbWF0cGxvdGxpYi5vcmcvnQurowAAGeNJREFUeJzt3V9o3Xf9x/FXkjPWP7JYG9S1OqG6oe2YYwpORagu6BxSvNCiU6FMirty4lDHLuxAhLAZHWLLsBsWvZteVZg3uSp0u5jWDemwrDAZMpeadn9KXVqTc34XJfFX1u5kOefkvE/yeFzZ5OTkkxenB5/7npMOtVqtVgAAAAoa7vcBAAAArkSwAAAAZQkWAACgLMECAACUJVgAAICyBAsAAFBWo1d3fODAgRw7diyjo6OZnJx8y9seOnQox48fT5JcuHAhr732Wg4dOtSrowEAAAOiZ8Gyc+fO3H777dm/f3/b2+7Zs2fxf//pT3/KCy+80KtjAQAAA6RnwbJ9+/acOnXqko+9/PLLeeyxx/L666/n6quvzne+851s3br1ktscPXo0u3fv7tWxAACAAdKzYLmcX//619m7d2+uvfbaPP/883n00Uezb9++xc//+9//zqlTp3LjjTeu5LEAAICiVixYZmdnc+LEifz85z9f/Njc3Nwltzl69GhuvfXWDA/7XQAAAMAKBkuz2czGjRvz0EMPXfE2Tz75ZL797W+v1JEAAIDiVuxSxoYNG/Lud787Tz31VJKk1WrlH//4x+LnX3rppZw7dy433HDDSh0JAAAobqjVarV6cccPP/xwnnvuuZw9ezajo6PZvXt3brzxxhw8eDCvvvpq5ubm8ulPfzpf+cpXkiSPP/54/vvf/+Yb3/hGL44DAAAMoJ4FCwAAQKe8ux0AAChLsAAAAGUJFgAAoKye/Vrjl156qVd33dbY2FhmZmb69v0rsIENEhsssIMNEhskNkhskNggsUFSY4MtW7Ys6XausAAAAGUJFgAAoCzBAgAAlNWz97AAAABvT6vVyuzsbJrNZoaGhnr2faanp3P+/Pme3f+CVquV4eHhrFu3btk/j2ABAIAiZmdnc9VVV6XR6O3/TW80GhkZGenp91gwNzeX2dnZrF+/fllf7yVhAABQRLPZ7HmsrLRGo5Fms7nsrxcsAABQRC9fBtZPnfxcggUAAChrdV1vAgCAVWR+766u3t/IwcNdvb+VIFgAAIAkyeTkZI4dO7b4hvz5+fnccsstl/1Ykst+/N577+3qmQQLAACw6MCBAxkdHU2SvPbaa3n00Ucv+7Er3bbbvIcFAAAoS7AAAABlCRYAAKAswQIAAJTlTfcAAFDUIP4a4m5zhQUAACjLFRYAACBJsnnz5txzzz0ZHr54XaPZbGbnzp2X/ViSK368mwQLAACQJNmzZ0/27Nlz2Y9f6fa95iVhAABQRKvV6vcReqKTn0uwAABAEcPDw5mbm+v3Mbpqbm5u8WVjy+ElYQAAUMS6desyOzub8+fPZ2hoqGff5+qrr8758+d7dv8LWq1WhoeHs27dumXfh2ABAIAihoaGsn79+p5/n7GxsczMzPT8+3SDl4QBAABllbzCMr93V0dfP93h9/cP9AAAQA2usAAAAGWVvMJC/68yJa40AQDQf66wAAAAZQkWAACgLMECAACUJVgAAICyBAsAAFCWYAEAAMoSLAAAQFmCBQAAKEuwAAAAZQkWAACgLMECAACUJVgAAICyBAsAAFCWYAEAAMoSLAAAQFmCBQAAKEuwAAAAZQkWAACgLMECAACUJVgAAICyBAsAAFCWYAEAAMoSLAAAQFmCBQAAKEuwAAAAZQkWAACgLMECAACUJVgAAICylhwszWYzP/zhDzMxMdHL8wAAACxacrA88cQT2bp1ay/PAgAAcIklBcvp06dz7Nix3Hbbbb0+DwAAwKIlBcuhQ4fyzW9+M0NDQ70+DwAAwKJGuxv85S9/yejoaLZt25bjx49f8XZTU1OZmppKkkxMTGRsbGzZh5pe9ld2Rydn75Z+b5DU2KETjUZj4H+GTtngIjvYILFBYoPEBokNEhskg7VB22A5ceJE/vznP+evf/1rLly4kDfeeCO//OUv893vfveS242Pj2d8fHzxzzMzM90/7QoZ5LN306DvMDY2NvA/Q6dscJEdbJDYILFBYoPEBokNkhobbNmyZUm3axssd955Z+68884kyfHjx/PHP/7xTbECAADQC/4dFgAAoKy2V1j+vx07dmTHjh29OgsAAMAlXGEBAADKEiwAAEBZggUAAChLsAAAAGUJFgAAoCzBAgAAlCVYAACAsgQLAABQlmABAADKEiwAAEBZggUAAChLsAAAAGUJFgAAoCzBAgAAlCVYAACAsgQLAABQlmABAADKEiwAAEBZggUAAChLsAAAAGUJFgAAoCzBAgAAlNXo9wHgSub37uro66e7cIaRg4e7cC8AACyXKywAAEBZggUAAChLsAAAAGUJFgAAoCzBAgAAlCVYAACAsgQLAABQlmABAADKEiwAAEBZggUAAChLsAAAAGUJFgAAoCzBAgAAlCVYAACAsgQLAABQlmABAADKEiwAAEBZggUAAChLsAAAAGUJFgAAoCzBAgAAlCVYAACAsgQLAABQlmABAADKEiwAAEBZggUAAChLsAAAAGUJFgAAoCzBAgAAlCVYAACAsgQLAABQlmABAADKEiwAAEBZggUAAChLsAAAAGUJFgAAoCzBAgAAlCVYAACAsgQLAABQlmABAADKEiwAAEBZggUAAChLsAAAAGUJFgAAoCzBAgAAlCVYAACAsgQLAABQlmABAADKEiwAAEBZggUAAChLsAAAAGUJFgAAoCzBAgAAlCVYAACAsgQLAABQlmABAADKEiwAAEBZggUAAChLsAAAAGUJFgAAoCzBAgAAlCVYAACAsgQLAABQlmABAADKEiwAAEBZggUAAChLsAAAAGUJFgAAoCzBAgAAlCVYAACAsgQLAABQlmABAADKEiwAAEBZggUAAChLsAAAAGUJFgAAoCzBAgAAlCVYAACAsgQLAABQlmABAADKEiwAAEBZggUAAChLsAAAAGUJFgAAoCzBAgAAlCVYAACAsgQLAABQlmABAADKEiwAAEBZjXY3uHDhQvbt25e5ubnMz8/n1ltvze7du1fibAAAwBrXNliuuuqq7Nu3L+vWrcvc3Fx+/OMf5+abb84NN9ywEucDAADWsLYvCRsaGsq6deuSJPPz85mfn8/Q0FDPDwYAAND2CkuSNJvN/OhHP8rLL7+cL3zhC7n++ut7fS4AAIClBcvw8HAeeuihnDt3Lj/72c/y4osv5rrrrrvkNlNTU5mamkqSTExMZGxsbNmHml72V3ZHJ2fvln5vkPR/Bxt0rtFoDPzP0A12sEFig8QGiQ0SGyQ2SAZrgyUFy4KNGzdm+/bteeaZZ94ULOPj4xkfH1/888zMTHdO2AeDfPZussPgbzA2NjbwP0M32MEGiQ0SGyQ2SGyQ2CCpscGWLVuWdLu272F5/fXXc+7cuSQXf2PY3/72t2zdurWz0wEAACxB2yssr7zySvbv359ms5lWq5VPfvKT+djHPrYSZwMAANa4tsHygQ98IA8++OBKnAUAAOAS/qV7AACgLMECAACUJVgAAICyBAsAAFCWYAEAAMoSLAAAQFmCBQAAKEuwAAAAZQkWAACgLMECAACUJVgAAICyBAsAAFCWYAEAAMoSLAAAQFmCBQAAKEuwAAAAZQkWAACgLMECAACUJVgAAICyBAsAAFCWYAEAAMoSLAAAQFmCBQAAKEuwAAAAZQkWAACgLMECAACUJVgAAICyBAsAAFCWYAEAAMoSLAAAQFmCBQAAKEuwAAAAZQkWAACgLMECAACUJVgAAICyBAsAAFCWYAEAAMoSLAAAQFmCBQAAKEuwAAAAZQkWAACgLMECAACU1ej3AYArm9+7q6Ovn+7CGUYOHu7CvQAALI8rLAAAQFmCBQAAKEuwAAAAZQkWAACgLMECAACUJVgAAICy/FpjoLROf7Vz0vmvd/arnQGgf1xhAQAAyhIsAABAWYIFAAAoS7AAAABlCRYAAKAswQIAAJQlWAAAgLIECwAAUJZgAQAAyhIsAABAWYIFAAAoS7AAAABlNfp9AADe2vzeXR3fx3SHXz9y8HDHZwCA5XCFBQAAKEuwAAAAZQkWAACgLMECAACUJVgAAICyBAsAAFCWYAEAAMoSLAAAQFmCBQAAKEuwAAAAZQkWAACgLMECAACUJVgAAICyBAsAAFCWYAEAAMoSLAAAQFmCBQAAKEuwAAAAZQkWAACgLMECAACUJVgAAICyBAsAAFCWYAEAAMoSLAAAQFmCBQAAKEuwAAAAZQkWAACgLMECAACUJVgAAICyBAsAAFCWYAEAAMoSLAAAQFmCBQAAKEuwAAAAZQkWAACgLMECAACUJVgAAICyBAsAAFCWYAEAAMoSLAAAQFmCBQAAKEuwAAAAZQkWAACgLMECAACUJVgAAICyBAsAAFCWYAEAAMoSLAAAQFmNdjeYmZnJ/v378+qrr2ZoaCjj4+O54447VuJsAADAGtc2WEZGRvKtb30r27ZtyxtvvJH77rsvN910U973vvetxPkAAIA1rO1LwjZt2pRt27YlSdavX5+tW7fmzJkzPT8YAADA23oPy6lTp/LCCy/kQx/6UK/OAwAAsKjtS8IWzM7OZnJyMnv27MmGDRve9PmpqalMTU0lSSYmJjI2NrbsQ00v+yu7o5Ozd0u/N0j6v4MNbJDYILFBtzQajVXxc3TCBjZIbJDYIBmsDZYULHNzc5mcnMxnPvOZfOITn7jsbcbHxzM+Pr7455mZme6csA8G+ezdZAcbJDZIbJCsjg3GxsZWxc/RCRvYILFBYoOkxgZbtmxZ0u3aviSs1WrlkUceydatW/OlL32p44MBAAAsVdsrLCdOnMiRI0dy3XXX5Qc/+EGS5Otf/3puueWWnh8OAABY29oGy4c//OE8/vjjK3EWAACAS/iX7gEAgLIECwAAUJZgAQAAyhIsAABAWYIFAAAoa8n/0j0A9Mv83l0d38d0h18/cvBwx2cA4O1zhQUAAChLsAAAAGUJFgAAoCzBAgAAlCVYAACAsgQLAABQlmABAADKEiwAAEBZggUAAChLsAAAAGUJFgAAoKxGvw8AACzN/N5dHX39dIfff+Tg4Q7voXM2gLXHFRYAAKAswQIAAJQlWAAAgLIECwAAUJZgAQAAyhIsAABAWYIFAAAoS7AAAABlCRYAAKAswQIAAJQlWAAAgLIECwAAUJZgAQAAyhIsAABAWYIFAAAoS7AAAABlCRYAAKAswQIAAJTV6PcBAABYuvm9uzr6+ukOv//IwcMd3gO8Pa6wAAAAZQkWAACgLMECAACUJVgAAICyBAsAAFCWYAEAAMoSLAAAQFmCBQAAKEuwAAAAZQkWAACgLMECAACUJVgAAICyBAsAAFCWYAEAAMoSLAAAQFmCBQAAKEuwAAAAZQkWAACgLMECAACUJVgAAICyBAsAAFCWYAEAAMoSLAAAQFmCBQAAKEuwAAAAZQkWAACgLMECAACUJVgAAICyBAsAAFCWYAEAAMoSLAAAQFmCBQAAKEuwAAAAZQkWAACgLMECAACUJVgAAICyBAsAAFCWYAEAAMoSLAAAQFmCBQAAKEuwAAAAZQkWAACgLMECAACUJVgAAICyBAsAAFCWYAEAAMoSLAAAQFmCBQAAKEuwAAAAZQkWAACgrEa/DwAAAG/H/N5dHX39dIfff+Tg4Q7vgbfDFRYAAKAswQIAAJQlWAAAgLIECwAAUJZgAQAAyhIsAABAWYIFAAAoS7AAAABlCRYAAKAswQIAAJQlWAAAgLIECwAAUJZgAQAAyhIsAABAWYIFAAAoS7AAAABlCRYAAKAswQIAAJQlWAAAgLIECwAAUJZgAQAAyhIsAABAWYIFAAAoq9HvAwAAAG/P/N5dHX39dIfff+Tg4Q7vYenaBsuBAwdy7NixjI6OZnJyciXOBAAAkGQJLwnbuXNn7r///pU4CwAAwCXaBsv27dvzjne8YyXOAgAAcAlvugcAAMrq2pvup6amMjU1lSSZmJjI2NjYsu+r0zcBdaqTs3dLvzdI+r+DDWyQ2CCxQWKDBf3ewQY2SGyQ2CBZ2Q26Fizj4+MZHx9f/PPMzEy37nrFDfLZu8kONkhskNggsUFig8QGiQ0SGyQ2SLqzwZYtW5Z0Oy8JAwAAymp7heXhhx/Oc889l7Nnz+buu+/O7t2787nPfW4lzgYAAKxxbYPle9/73kqcAwAA4E28JAwAAChLsAAAAGUJFgAAoCzBAgAAlCVYAACAsgQLAABQlmABAADKEiwAAEBZggUAAChLsAAAAGUJFgAAoCzBAgAAlCVYAACAsgQLAABQlmABAADKEiwAAEBZggUAAChLsAAAAGUJFgAAoCzBAgAAlCVYAACAsgQLAABQlmABAADKEiwAAEBZggUAAChLsAAAAGUJFgAAoCzBAgAAlCVYAACAsgQLAABQlmABAADKEiwAAEBZggUAAChLsAAAAGUJFgAAoCzBAgAAlCVYAACAsgQLAABQlmABAADKEiwAAEBZggUAAChLsAAAAGUJFgAAoCzBAgAAlCVYAACAsgQLAABQlmABAADKEiwAAEBZggUAAChLsAAAAGUJFgAAoCzBAgAAlCVYAACAsgQLAABQlmABAADKEiwAAEBZggUAAChLsAAAAGUJFgAAoCzBAgAAlCVYAACAsgQLAABQlmABAADKEiwAAEBZggUAAChLsAAAAGUJFgAAoCzBAgAAlCVYAACAsgQLAABQlmABAADKEiwAAEBZggUAAChLsAAAAGUJFgAAoCzBAgAAlCVYAACAsgQLAABQlmABAADKEiwAAEBZggUAAChLsAAAAGUJFgAAoCzBAgAAlCVYAACAsgQLAABQlmABAADKEiwAAEBZggUAAChLsAAAAGUJFgAAoCzBAgAAlCVYAACAsgQLAABQlmABAADKEiwAAEBZggUAAChLsAAAAGUJFgAAoCzBAgAAlCVYAACAsgQLAABQlmABAADKEiwAAEBZggUAAChLsAAAAGUJFgAAoCzBAgAAlCVYAACAsgQLAABQlmABAADKEiwAAEBZjaXc6JlnnslvfvObNJvN3Hbbbfnyl7/c63MBAAC0v8LSbDbz2GOP5f77788vfvGLHD16NP/85z9X4mwAAMAa1zZYTp48mfe+9715z3vek0ajkU996lN5+umnV+JsAADAGtc2WM6cOZPNmzcv/nnz5s05c+ZMTw8FAACQJEOtVqv1Vjd46qmn8uyzz+buu+9Okhw5ciQnT57MXXfddcntpqamMjU1lSSZmJjo0XEBAIC1pO0Vls2bN+f06dOLfz59+nQ2bdr0ptuNj49nYmKiRKzcd999/T5C39nABokNFtjBBokNEhskNkhskNggGawN2gbLBz/4wfzrX//KqVOnMjc3lyeffDIf//jHV+JsAADAGtf21xqPjIzkrrvuyk9/+tM0m8189rOfzfvf//6VOBsAALDGjTzwwAMPtLvRtddemy9+8Yu544478pGPfGQFjtW5bdu29fsIfWcDGyQ2WGAHGyQ2SGyQ2CCxQWKDZHA2aPumewAAgH5p+x4WAACAfhEsAABAWYIFAAAoq+1vCRsEf/jDH97y89dcc00+//nPr9Bp+scONkhskNggsUFig8QGiQ0SGyQ2WDCoO6yKYHn++edzzz33XPHzv/rVr0qO3212sEFig8QGiQ0SGyQ2SGyQ2CCxwYJB3WFVBMvQ0FA2bNjwlp9fC+xgg8QGiQ0SGyQ2SGyQ2CCxQWKDBYO6w6p4D0u7cauO3212sEFig8QGiQ0SGyQ2SGyQ2CCxwYJB3WFVXGGZn5/Pf/7znyt+vtlsruBp+scONkhskNggsUFig8QGiQ0SGyQ2WDCoO6yKYLn++uvzxBNPXPZzrVYrN9988wqfqD/eaocka2IHG/j7kHgcJB4HiQ0SGySeDxKPg8QGCwZ1h1URLCdPnhzINxD1QqvV6vcR+m6tb+Dvw0UeBx4HNrDBAs8HHgc2uGhQd1gVwTKobyDqtkF9EHaTDfx9SDwOEo+DxAaJDRLPB4nHQWKDBYO6w6oJlk4+v1oM6oOwm2zg70PicZB4HCQ2SGyQeD5IPA4SGywY1B1WRbAM6huIum1QH4TdZAN/HxKPg8TjILFBYoPE80HicZDYYMGg7rAqgmXhDURXeo1q1TcQddugPgi7yQb+PiQeB4nHQWKDxAaJ54PE4yCxwYJB3WGotdbfibaK/P73v7/ifylqtVoZHR1d9a/TtQHJWz8OkuSaa67xOIA1wvMBDL5VcYWFi7yx0Ab8j/8WAyzwfACDTbCsIt5YaAMuEq7AAs8HMPgEyyrijYU24CLhCizwfACDT7CsIt5YaAMuEq7AAs8HMPgEyyoyqL/5oZtsQCJcgf/xfACDz28JA1Ydvy0OWOD5AAafKyzAquNNtsACzwcw+AQLsOp4ky2wwPMBDL7hfh8AoNu8yRZY4PkABp8rLMCq4022wALPBzD4BAuw6vhtccACzwcw+PyWMAAAoCzvYQEAAMoSLAAAQFmCBQAAKMub7gFYtqeffjqHDx9+08c/+tGP5tlnn33Txzdt2pTvf//7efDBB3P27Nk3ff7ee+/NO9/5zp6cFYDBJFgAWLZXXnklX/3qV3PTTTctfmx2djaPPPJIduzYka997WuX3H5ycjJJMjIykp/85CeXfO63v/1tLly40PtDAzBQvCQMAAAoS7AAAABlCRYAAKAswQIAAJQlWAAAgLIECwAAUJZgAQAAyhIsAABAWf7hSAA68rvf/S4bN25c/HOz2cy73vWuHDlyJH//+98vue3Cv27/4osv5oEHHrjkc9PT07n99tt7fl4ABstQq9Vq9fsQAAAAl+MlYQAAQFmCBQAAKEuwAAAAZQkWAACgLMECAACUJVgAAICyBAsAAFDW/wEu81TTOSTWTQAAAABJRU5ErkJggg==\n",
      "text/plain": [
       "<Figure size 1008x720 with 1 Axes>"
      ]
     },
     "metadata": {},
     "output_type": "display_data"
    }
   ],
   "source": [
    "cat_outcome = data['train'][['상품군', '취급액']].groupby('상품군').mean()\n",
    "cat_outcome.sort_values(by=['취급액'], axis=0, ascending=False).plot(kind='bar', figsize=(14, 10))\n",
    "plt.show()"
   ]
  },
  {
   "cell_type": "markdown",
   "metadata": {},
   "source": [
    "### 상품군 별 노출(분)\n",
    "+ 노출시간은 20분 전후로 모든 상품군이 균등하게 분포해있다고 볼 수 있다.\n",
    "+ 총 노출시간은 방영 횟수와 연관이 되어있으므로, 이는 생략한다."
   ]
  },
  {
   "cell_type": "code",
   "execution_count": 75,
   "metadata": {
    "ExecuteTime": {
     "end_time": "2020-09-25T10:17:25.626420Z",
     "start_time": "2020-09-25T10:17:25.211397Z"
    }
   },
   "outputs": [
    {
     "data": {
      "image/png": "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\n",
      "text/plain": [
       "<Figure size 1008x720 with 1 Axes>"
      ]
     },
     "metadata": {},
     "output_type": "display_data"
    }
   ],
   "source": [
    "cat_duration = data['train'][['상품군', '노출(분)']].groupby('상품군').mean()\n",
    "cat_duration.sort_values(by=['노출(분)'], axis=0, ascending=False).plot(kind='bar', figsize=(14, 10))\n",
    "plt.ylim(15,25)\n",
    "plt.show()"
   ]
  },
  {
   "cell_type": "markdown",
   "metadata": {},
   "source": [
    "### 시간대 별 상품 판매 Trend\n",
    "(위): 총 거래량, (아래): 평균 거래량"
   ]
  },
  {
   "cell_type": "markdown",
   "metadata": {},
   "source": [
    "#### 월별\n",
    "+ 연말(10, 11, 12월)에 판매량이 많은 것으로 보임"
   ]
  },
  {
   "cell_type": "code",
   "execution_count": 76,
   "metadata": {
    "ExecuteTime": {
     "end_time": "2020-09-25T10:17:26.054805Z",
     "start_time": "2020-09-25T10:17:25.628335Z"
    }
   },
   "outputs": [
    {
     "data": {
      "image/png": "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\n",
      "text/plain": [
       "<Figure size 1008x720 with 1 Axes>"
      ]
     },
     "metadata": {},
     "output_type": "display_data"
    }
   ],
   "source": [
    "month_group = data['train']['2019'].groupby('월').sum()\n",
    "month_group['취급액'].plot(kind='bar', figsize=(14, 10))\n",
    "plt.axhline(y = np.mean(month_group.취급액), color = 'red', ls = '--')\n",
    "plt.ylim(month_group['취급액'].min()*0.9, month_group['취급액'].max()*1.1)\n",
    "plt.show()"
   ]
  },
  {
   "cell_type": "code",
   "execution_count": 77,
   "metadata": {
    "ExecuteTime": {
     "end_time": "2020-09-25T10:17:26.506484Z",
     "start_time": "2020-09-25T10:17:26.055799Z"
    }
   },
   "outputs": [
    {
     "data": {
      "image/png": "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\n",
      "text/plain": [
       "<Figure size 1008x720 with 1 Axes>"
      ]
     },
     "metadata": {},
     "output_type": "display_data"
    }
   ],
   "source": [
    "month_group = data['train']['2019'].groupby('월').mean()\n",
    "month_group['취급액'].plot(kind='bar', figsize=(14, 10))\n",
    "plt.axhline(y = np.mean(month_group.취급액), color = 'red', ls = '--')\n",
    "plt.ylim(month_group['취급액'].min()*0.9, month_group['취급액'].max()*1.1)\n",
    "plt.show()"
   ]
  },
  {
   "cell_type": "markdown",
   "metadata": {},
   "source": [
    "#### 주별\n",
    "+ 월별을 세분화하여 확인 가능\n",
    "+ 월 결과 이외에도 6~7월(여름휴가기간), 9월(추석주간)에 소비가 많아진 것을 확인"
   ]
  },
  {
   "cell_type": "code",
   "execution_count": 78,
   "metadata": {
    "ExecuteTime": {
     "end_time": "2020-09-25T10:17:27.271854Z",
     "start_time": "2020-09-25T10:17:26.507482Z"
    }
   },
   "outputs": [
    {
     "data": {
      "image/png": "iVBORw0KGgoAAAANSUhEUgAAAzYAAAJdCAYAAADgC+JsAAAABHNCSVQICAgIfAhkiAAAAAlwSFlzAAALEgAACxIB0t1+/AAAADl0RVh0U29mdHdhcmUAbWF0cGxvdGxpYiB2ZXJzaW9uIDMuMC4zLCBodHRwOi8vbWF0cGxvdGxpYi5vcmcvnQurowAAIABJREFUeJzt3XmYFPWdP/DPMMMhIOcEFbyWaKIYUaOCCSZiQoxxkXWNmsN4JPEgahRRFEUj5lA8MIoBDzBq1P0lnpGsRg0eSVwPPEAR1AUPjCIgDDczwMzU7w8feudgugcGGL7yej2Pj3RXvbu+1VNd3e+u7uqiLMuyAAAASFiL5h4AAABAUyk2AABA8hQbAAAgeYoNAACQPMUGAABInmIDAAAkr6Q5Fz5u3Lh49dVXo2PHjjF69Oi8886YMSPuvPPOmD17dgwZMiQOOuig3LRnnnkmHnzwwYiIOProo6N///6bctgAAMAWplmP2PTv3z8uvvjiRs1bWloaZ5xxRhx88MG1rl++fHncf//9ccUVV8QVV1wR999/fyxfvnxTDBcAANhCNesRm169esX8+fNrXTd37ty47bbbYunSpdG6des4/fTTo0ePHtGtW7eIiCgqKqo1/9SpU6N3797Rvn37iIjo3bt3TJ06tV4BAgAAPruatdisy6233hqnnnpq7LDDDjFz5syYMGFCXHbZZQ3OX1ZWFl27ds1d7tKlS5SVlW2OoQIAAFuILarYVFRUxNtvvx3XXXdd7rrKysr1vp26R3UAAIDPti2q2FRXV0e7du3immuuaXSmS5cuMWPGjNzlsrKy6NWr16YYHgAAsIXaok733LZt2+jWrVs8//zzERGRZVm8//77eTP77rtvvPbaa7F8+fJYvnx5vPbaa7HvvvtuhtECAABbiqIsy7LmWvj1118fM2bMiGXLlkXHjh3juOOOiy996Usxfvz4WLx4cVRWVka/fv3imGOOiVmzZsW1114bK1asiJYtW0anTp1yH1l76qmn4qGHHoqIT0/3fOihhzbXKgEAAM2gWYsNAADAxrBFfRQNAABgQyg2AABA8pr1rGhz5sxpcFppaWksWLBgg25XVlZWVlZWduvJNueyZWVlN222e/fujb4dR2wAAIDkKTYAAEDyFBsAACB5ig0AAJA8xQYAAEieYgMAACRPsQEAAJKn2AAAAMlTbAAAgOQpNgAAQPIUGwAAIHmKDQAAkDzFBgAASJ5iAwAAJE+xAQAAkqfYAAAAyVNsAACA5Ck2AABA8hQbAAAgeYoNAACQPMUGAABInmIDAAAkT7EBAACSp9gAAADJU2wAAIDkKTYAAEDyFBsAACB5ig0AAJA8xQYAAEieYgMAACRPsQEAAJKn2AAAAMlTbAAAgOQpNgAAQPIUGwAAIHmKDQAAkDzFBgAASJ5iAwAAJE+xAQAAkqfYAAAAyVNsAACA5Ck2AABA8hQbAAAgeYoNAACQPMUGAABInmIDAAAkT7EBAACSp9gAAADJU2wAAIDkKTYAAEDyFBsAACB5ig0AAJA8xQYAAEieYgMAACRPsQEAAJKn2AAAAMlTbAAAgOQpNgAAQPIUGwAAIHmKDQAAkDzFBgAASJ5iAwAAJE+xAQAAkqfYAAAAyVNsAACA5Ck2AABA8hQbAAAgeYoNAACQPMUGAABInmIDAAAkT7EBAACSp9gAAADJU2wAAIDkKTYAAEDyFBsAACB5ig0AAJC8kkIzLFiwIMaOHRuLFy+OoqKiGDBgQBxxxBG15vnnP/8ZDz/8cEREtGnTJk455ZTYddddN8mAAQAA6ipYbIqLi+OEE06Inj17Rnl5eQwfPjx69+4dO+64Y26ebt26xciRI6N9+/YxZcqUuPXWW+OKK67YpAMHAABYq2Cx6dy5c3Tu3DkiIrbZZpvo0aNHlJWV1So2X/ziF3P/3n333WPhwoWbYKgAAADrVpRlWdbYmefPnx+XXXZZjB49Otq2bbvOeSZOnBhz5syJwYMH15s2adKkmDRpUkREjBo1KlavXt3gskpKSqKysrKxQ5OVlZWVlZXdSrPNuWxZWdlNm23VqlWjb6fRxaaioiIuu+yyOProo6Nv377rnOeNN96I2267LX75y1/GtttuW/A258yZ0+C00tLSWLBgQWOGJisrKysrK7sVZ5tz2bKysps2271790bfTqPOilZZWRmjR4+Or33taw2WmtmzZ8ctt9wSw4YNa1SpAQAA2FgKFpssy+Lmm2+OHj16xMCBA9c5z4IFC+Laa6+Ns846a71aFQAAwMZQ8OQBb7/9dvzjH/+InXfeOYYNGxYRET/4wQ9yh4sOO+ywuP/++2P58uUxYcKEiPj0TGqjRo3ahMMGAAD4PwWLzR577BH33ntv3nkGDx68zpMFAAAAbA6N+o4NAADAlkyxAQAAkqfYAAAAyVNsAACA5Ck2AABA8hQbAAAgeYoNAACQPMUGAABInmIDAAAkT7EBAACSp9gAAADJU2wAAIDkKTYAAEDyFBsAACB5ig0AAJA8xQYAAEieYgMAACRPsQEAAJKn2AAAAMlTbAAAgOQpNgAAQPIUGwAAIHmKDQAAkDzFBgAASJ5iAwAAJE+xAQAAkqfYAAAAyStp7gEAAAAbpurUQbUuz6szvXj8xM03mGbmiA0AAJA8xQYAAEieYgMAACRPsQEAAJKn2AAAAMlTbAAAgOQpNgAAQPIUGwAAIHmKDQAAkDzFBgAASJ5iAwAAJE+xAQAAkqfYAAAAyVNsAACA5Ck2AABA8hQbAAAgeYoNAACQPMUGAABInmIDAAAkT7EBAACSp9gAAADJU2wAAIDkKTYAAEDyFBsAACB5ig0AAJA8xQYAAEieYgMAACRPsQEAAJKn2AAAAMlTbAAAgOQpNgAAQPIUGwAAIHmKDQAAkDzFBgAASJ5iAwAAJE+xAQAAkqfYAAAAyVNsAACA5Ck2AABA8hQbAAAgeSXNPQAAAGDrUXXqoFqX59WZXjx+4gbdriM2AABA8hQbAAAgeYoNAACQPMUGAABInmIDAAAkT7EBAACSp9gAAADJ8zs2AADAetlUv0XTFI7YAAAAyVNsAACA5Ck2AABA8hQbAAAgeYoNAACQPMUGAABInmIDAAAkT7EBAACSp9gAAADJU2wAAIDkKTYAAEDyFBsAACB5ig0AAJA8xQYAAEieYgMAACRPsQEAAJKn2AAAAMlTbAAAgOSVNPcAAABga1Z16qBal+fVmV48fuLmG0zCHLEBAACSV/CIzYIFC2Ls2LGxePHiKCoqigEDBsQRRxxRa54sy+L222+PKVOmROvWreOMM86Inj17brJBAwAA1FSw2BQXF8cJJ5wQPXv2jPLy8hg+fHj07t07dtxxx9w8U6ZMiblz58aYMWNi5syZMWHChLjiiis26cABAADWKvhRtM6dO+eOvmyzzTbRo0ePKCsrqzXPyy+/HF//+tejqKgovvCFL8SKFSti0aJFm2bEAAAAdazXyQPmz58f7733Xuy22261ri8rK4vS0tLc5a5du0ZZWVl07ty51nyTJk2KSZMmRUTEqFGjamXqDaykJO/0fGRlZWVlZWW3nmxzLltWdmNk654soK58t9OUbF0pjrmmRhebioqKGD16dJx88snRtm3bWtOyLKs3f1FRUb3rBgwYEAMGDMhdXrBgQYPLKy0tzTs9H1lZWVlZWdmtJ9ucy5aV3RTZuppyO+uT3RLH3L1790bnGnVWtMrKyhg9enR87Wtfi759+9ab3rVr11oDWLhwYb2jNQAAAJtKwSM2WZbFzTffHD169IiBAweuc54DDjggHnvssejXr1/MnDkz2rZtq9gAAJAUvyeTtoLF5u23345//OMfsfPOO8ewYcMiIuIHP/hB7gjNYYcdFvvtt1+8+uqrcfbZZ0erVq3ijDPO2LSjBgAAqKFgsdljjz3i3nvvzTtPUVFRnHLKKRttUAAAAOujUd+xAQAA2JIpNgAAQPIUGwAAIHmKDQAAkDzFBgAASJ5iAwAAJE+xAQAAkqfYAAAAyVNsAACA5Ck2AABA8hQbAAAgeYoNAACQPMUGAABIXklzDwAAAFJXdeqgWpfn1ZlePH7i5hvMVsoRGwAAIHmKDQAAkDzFBgAASJ5iAwAAJE+xAQAAkqfYAAAAyVNsAACA5Ck2AABA8hQbAAAgeYoNAACQPMUGAABInmIDAAAkT7EBAACSp9gAAADJU2wAAIDkKTYAAEDyFBsAACB5ig0AAJA8xQYAAEieYgMAACRPsQEAAJJX0twDAAAANr+qUwfVujyvzvTi8RM332A2AkdsAACA5Ck2AABA8hQbAAAgeYoNAACQPMUGAABInmIDAAAkT7EBAACSp9gAAADJU2wAAIDkKTYAAEDyFBsAACB5ig0AAJA8xQYAAEieYgMAACRPsQEAAJKn2AAAAMlTbAAAgOQpNgAAQPIUGwAAIHmKDQAAkDzFBgAASF5Jcw9grapTB9W6PK/Gv4vHT9y8gwEAAJLiiA0AAJC8LeaIDQBAY/mkB1CXIzYAAEDyFBsAACB5ig0AAJA8xQYAAEieYgMAACRPsQEAAJKn2AAAAMlTbAAAgOQpNgAAQPIUGwAAIHklzT0AAADYWKpOHVTr8rwa/y4eP3HzDobNyhEbAAAgeYoNAACQPMUGAABInu/YAAB8hvnOCVsLR2wAAIDkKTYAAEDyFBsAACB5ig0AAJA8xQYAAEieYgMAACRPsQEAAJKn2AAAAMlTbAAAgOQpNgAAQPIUGwAAIHmKDQAAkDzFBgAASJ5iAwAAJE+xAQAAkqfYAAAAyStp7gEAQEOqTh2U+/e8OtOKx0/cvIMBYIvmiA0AAJA8xQYAAEieYgMAACRPsQEAAJKn2AAAAMlTbAAAgOQVPN3zuHHj4tVXX42OHTvG6NGj601fuXJljBkzJhYuXBhVVVVx5JFHxqGHHrpJBgsAALAuBY/Y9O/fPy6++OIGpz/22GOx4447xjXXXBMjR46MP/zhD1FZWblRBwkAAJBPwSM2vXr1ivnz5zc4vaioKCoqKiLLsqioqIj27dtHixY+4QYAwIap+eO8EbV/oNeP89KQgsWmkMMPPzyuvvrqOP3006O8vDzOPffcBovNpEmTYtKkSRERMWrUqCgtLc1Nq/uL0jXVnK8xSkpK1jsjKysrK7vlZTfWc0Mq6yu7+beNDVl2atkU76umjHlTZQvlZTdPNp8mF5vXXnstdtlll/jFL34R8+bNi1/96lexxx57RNu2bevNO2DAgBgwYEDu8oIFCxq1jMbOt1Zpael6Z2RlZWVlt+xsXetzOymur+yG87qh8VK5r2pqym00dfnNteytOdu9e/dG55r8mbGnn346+vbtG0VFRbH99ttHt27dYs6cOU29WQAAgEZrcrEpLS2NadOmRUTE4sWLY86cOdGtW7cmDwwAAKCxCn4U7frrr48ZM2bEsmXLYvDgwXHcccflznp22GGHxXe/+90YN25cnHfeeRERcfzxx0eHDh027agBAABqKFhshgwZknd6ly5d4pJLLtloAwIAAFhfzssMAAAkT7EBAACSp9gAAADJU2wAAIDkKTYAAEDyFBsAACB5ig0AAJA8xQYAAEieYgMAACRPsQEAAJKn2AAAAMlTbAAAgOQpNgAAQPIUGwAAIHmKDQAAkDzFBgAASF5Jcw8AAGi6qlMH5f49r8604vETN+9gAJqBIzYAAEDyFBsAACB5ig0AAJA8xQYAAEieYgMAACRPsQEAAJKn2AAAAMlTbAAAgOT5gU5gq1Tzxwwj/KAhAKTOERsAACB5ig0AAJA8xQYAAEieYgMAACTPyQMAEuGEBwDQMEdsAACA5Ck2AABA8hQbAAAgeYoNAACQPMUGAABInrOiAcAWouaZ75z1DmD9KDZAspz+GABYy0fRAACA5Ck2AABA8hQbAAAgeb5jA7CefLcHALY8jtgAAADJU2wAAIDkKTYAAEDyirIsy5pr4au++tXcv7O3p0X5Dp1j+S7doqiqOkpfmpmbVvTFvSMiYuWxx0b5974XLcrKovNpp9W7vRUnnBAV//EfUVpeHtkJJ9Sbvvy002LVYYdF8axZ0Wn48HrTl519dnQ4+uhY/Mwz0XHkyHrTl154Yaw58MBo+dJL0eGqq+pNb3HDDfFJjx7R6h//iG3HjKk3ffGoUVG1227R+oknov2tt9aa1rJly5h/7bVR3aNHtHn44Wh311318otuvTWqu3SJbf70p2h73321smvWrImyu+6KbJttou0dd8Q2//3f9fIL778/IiLa3XxztJk0qVY2a9Mmyu6+OyIi2v/2t9H6f/6nVra6c+dYNH58RERse+WV0eqVV3LZiIiqHXaIxTfeGBERHX7xi2g5Y0atfGXPnrHk6qsjIqLjBRfENv/6Vy4bEbGmV69Y+stfRkREp5//PIo//rhWfvX++8eyiy6KiIjtzzwz1syr/a2GVf36xfJzz42IiC4/+lEUVVTUml4xYECsGDw4SktLI+vfv959Uz5wYKw8+eQoKi+PLuvYdlYee2y0O/PMKPvf/8277bX46KPofM459aa3OP/8+OSgg/Jue6u//vUoeeONettey5YtY+HQoXm3vSUjR0bll75Ub9tb+zfKt+1FRCy64YZ6217Nv29D295adbe9mtmIdW97a9Xd9tpPnlwru65tL5d9e1pUtWkVZfv+W0REdJrxr2i5dGVuetEX96637ZW8+24uGxGxpkPbWNxrp4iI6DL1vSiuWJ3LRtTe9jqfemq0WLQol42IWNW1QyzdfYeIiCh9aWYUVVXnshH/t+1FRHQ95ph6913x978f8485Ju+2t3a/1+mQr9Sbvnznz0V59y5RXL46ula0rz+9gf3e2r9Rvm0vYt37vZp/34a2vbXqbnt1t411bXs1LWi3MqpblUTbDxdEuw8X1ppW9MW9G73f6/aHP0TVxNrffWrsfq+0tDRWnXderW0vonH7vZa//30sWLCg1ra31rr2ezW3rdWd2seSPXpERETXV96J4p571srX3e/Fay/Vml7RrWMs67n9p+u/qFW9+6ah/d7av1Fjn3Nr7vdq/n0b85xbc9uru20Ues5dVLw41nRoG60XLI0Os2o/ZxR9ce/12u91+uMfay07ovH7vW733x9Vf/xjvemN2e+VlpZGxYgRjXrOrblt1N3vtdrh87Xydfd7xX99uNb0mvu9rm12yfucu3a/t1bLli1jeZ8+jXrOjai931v7N27Mc+7ySfdEi9WV0fXVd+pP//XVeZ9zl66eHxXbdYqS5RXR+Y3ZtaYVfXHvvPu97O1pseSLPWJ15/bRatHy6Pj2R/XyDe331v6NFn1pl6hs3ybazFsc2743r1Y2Yt37vZp/34Vf/ny9/V7N55W6+72a2YiITw76YkREbPvu3Ggzf0mtbN39Xqvf31wrW92yJBbu/+n21PGtj6L1dv9Wa3rN/d62/far9ZwbEVHZrk0s2nuXiIjo0nmPBvd7VacOqvWcu9ba/V7x+Im5ba/1c89FYzliAwAAJK9Zj9jMmTMn9++6ZxmqaX3PMFRaWhoLFizYoDHJysqmk82334jIv+9ormxdm2t9m7Lc5sxurOeGrWF93Vf/Z1O+bkhxuSm+xmqu9U3xeeWznu3evXveeWtyxAYAAEieYgMAACRPsQEAAJKn2AAAAMlTbAAAgOQpNgAAQPJKmnsAAMDWqeYpX+fVmba+pyEGcMQGAABInmIDAAAkT7EBAACSp9gAAADJU2wAAIDkKTYAAEDyFBsAACB5fscGALZyfk8G+CxwxAYAAEieIzYAm1HNd8YjvDsOABuLYgPAJuVjTgBsDj6KBgAAJE+xAQAAkqfYAAAAyVNsAACA5Dl5AACwwZwcAthSKDYAsBF5oQ/QPHwUDQAASJ5iAwAAJE+xAQAAkuc7NgAAbHQ1v28WUfs7Z75vxqbgiA0AAJA8xQYAAEiej6I1Qb5DrBEOs7L18FgAAJqbYgM0K6UIANgYFBsAqMOPbAKkx3dsAACA5Ck2AABA8hQbAAAgeYoNAACQPCcPAOAzyQkAALYujtgAAADJU2wAAIDkKTYAAEDyFBsAACB5ig0AAJA8xQYAAEie0z0DAGwGNU9BHlH7NOROQQ5N54gNAACQPMUGAABInmIDAAAkb6v/jk2+z7tG+MwrAACkoGCxGTduXLz66qvRsWPHGD169DrnmT59etxxxx1RVVUV2267bVx++eUbfaAAAAANKVhs+vfvH4cffniMHTt2ndNXrFgREyZMiBEjRkRpaWksWbJkow8SAAAgn4LFplevXjF//vwGpz/77LPRt2/fKC0tjYiIjh07brzRAevFRysB2JicopqUNPk7Nh9//HFUVlbGyJEjo7y8PI444og45JBD1jnvpEmTYtKkSRERMWrUqFwZiqj/AqymmvM1RklJSaMz+ZZbaNlNyda1PmOWlW1Ic22TzfU4km18tq7NuT03Zf8uK7spsnVtrP3dlrq+shsnWygvu3my+TS52FRVVcV7770Xl156aaxevTouueSS2H333aN79+715h0wYEAMGDAgd3nBggWNWkZj51urtLR0vTMba9kbmm3KmGVlG2tzbZNNWa7sZ3ufU1cK95XsZz+7sbbpVNZXdsOlOO7Us+vqFA1pcrHp2rVrbLvtttGmTZto06ZN7LnnnjF79uz1GgQAAEBTNPl3bA444IB46623oqqqKlatWhWzZs2KHj16bIyxAQAANErBIzbXX399zJgxI5YtWxaDBw+O4447LiorKyMi4rDDDosdd9wx9t133zj//POjRYsW8Y1vfCN23nnnTT5wAACAtQoWmyFDhhS8kUGDBsWgQYMKzgcAALApNPmjaAAAAM1NsQEAAJKn2AAAAMlr8umeAdjy5fv18Ai/IA5A+hyxAQAAkueIDZ9p3qUGANg6KDYJ8mIdAABqU2zYLJQxAAA2Jd+xAQAAkqfYAAAAyVNsAACA5H0mvmOT7/sbvrsBAACffZ+JYgObghMewP+p+XjwWABgS6TYbGW8WAcA4LNIsQEAtio+wg6fTU4eAAAAJE+xAQAAkqfYAAAAyVNsAACA5Ck2AABA8hQbAAAgeYoNAACQPMUGAABInmIDAAAkr6S5BwDUlu8XsSP8KjYAwLo4YgMAACRPsQEAAJLno2g0mo9IAQCwpXLEBgAASJ5iAwAAJM9H0WAT8LE9AIDNyxEbAAAgeYoNAACQPMUGAABInmIDAAAkT7EBAACSp9gAAADJU2wAAIDkKTYAAEDyFBsAACB5ig0AAJA8xQYAAEieYgMAACRPsQEAAJJX0twDgEKqTh1U6/K8OtOLx0/cfIMBAGCL5IgNAACQPMUGAABIno+iARHhI38AQNocsQEAAJKn2AAAAMlTbAAAgOQpNgAAQPIUGwAAIHmKDQAAkDzFBgAASJ5iAwAAJE+xAQAAkqfYAAAAyVNsAACA5JU09wC2VlWnDqp1eV6d6cXjJ26+wQAAQOIcsQEAAJKn2AAAAMlTbAAAgOQpNgAAQPIUGwAAIHmKDQAAkDzFBgAASJ5iAwAAJE+xAQAAkqfYAAAAyVNsAACA5Ck2AABA8hQbAAAgeYoNAACQPMUGAABInmIDAAAkT7EBAACSp9gAAADJU2wAAIDkKTYAAEDyFBsAACB5ig0AAJA8xQYAAEieYgMAACRPsQEAAJKn2AAAAMlTbAAAgOQpNgAAQPIUGwAAIHmKDQAAkDzFBgAASJ5iAwAAJE+xAQAAkqfYAAAAyVNsAACA5Ck2AABA8hQbAAAgeQWLzbhx4+KUU06J8847L+98s2bNiu9973vxwgsvbLTBAQAANEbBYtO/f/+4+OKL885TXV0d99xzT+y7774bbWAAAACNVbDY9OrVK9q3b593nr/+9a/Rt2/f6NChw0YbGAAAQGM1+Ts2ZWVlMXny5DjssMM2xngAAADWW0lTb+COO+6I448/Plq0KNyRJk2aFJMmTYqIiFGjRkVpaWlu2rw8uZrzrcumyhbKy8rKym4N2UJ5WVlZ2a0hWygvu3my+TS52Lzzzjtxww03RETE0qVLY8qUKdGiRYvo06dPvXkHDBgQAwYMyF1esGBBo5bR2Pk2drY5ly0rKysrKysrK7vlZJtz2Vtztnv37o3ONbnYjB07tta/999//3WWGgAAgE2lYLG5/vrrY8aMGbFs2bIYPHhwHHfccVFZWRkR4Xs1AADAFqFgsRkyZEijb+zMM89s0mAAAAA2RJPPigYAANDcFBsAACB5ig0AAJA8xQYAAEieYgMAACRPsQEAAJKn2AAAAMlTbAAAgOQpNgAAQPIUGwAAIHmKDQAAkDzFBgAASJ5iAwAAJE+xAQAAkqfYAAAAyVNsAACA5Ck2AABA8hQbAAAgeYoNAACQPMUGAABInmIDAAAkT7EBAACSp9gAAADJU2wAAIDkKTYAAEDyFBsAACB5ig0AAJA8xQYAAEieYgMAACRPsQEAAJKn2AAAAMlTbAAAgOQVZVmWNfcgAAAAmmKLPWIzfPhwWVlZWVlZWdktetmysrLNm61piy02AAAAjaXYAAAAySseOXLkyOYeREN69uwpKysrKysrK7tFL1tWVrZ5s2s5eQAAAJA8H0UDAACSp9gAAADJU2wAAIDkbdEnD2iMjz76KGbPnh0dO3aMkpKS3PVTp06N7bffPm921qxZUVZWFl26dIkPP/ww/vGPf8Ty5ctjhx12WO9x/O53v4s+ffqsdy4i4q233ooXXnghysvLC4555syZsc0220TLli1j9erV8cADD8Rf/vKXeP/992O33XaLli1bNph99NFHo3PnztG2bdv1Gl9lZWX885//jKVLl8Z2220Xzz77bPztb3+L+fPnx6677hotWhTux3Pnzo2nnnoqnnvuuZg2bVrMmzcvdthhh7zjBTadJUuWRJs2bZp7GACw0WzxJw94+umn49BDD13ntEcffTQef/zx6NGjR8yePTtOPvnkOPDAAyMi4sILL4yrrrqqwdu97777YurUqVFVVRW9e/eOmTNnxl577RXTpk2LffbZJ44++ugGs3VvN8uymD59enzpS1/KLTufiy66KK688sqIiJg0aVI8/vjj0adPn3j99ddj//33j6OUxK6LAAAVs0lEQVSOOqrB7NChQ+Oaa66J4uLiuOWWW6J169Zx0EEHxbRp02L27Nlx/vnnN5g96aSTok2bNrHddttFv3794itf+Up06NAh71gjIsaMGRNVVVWxatWqaNeuXVRUVETfvn1j2rRpkWVZnHXWWXnzjz76aLzyyivRq1evmDJlSuy6667Rrl27mDx5cpxyyimx1157FRzD1mzJkiXRsWPH5h7GZ8rKlSvjoYceipdeeimWLl0aEREdO3aMAw44II466qho165dM4+wvsWLF8d9990XRUVF8b3vfS/++te/xosvvhg9evSIH//4x9G5c+cGs8uXL691OcuyGD58eG5f1r59+0069pqWLVsW22677SZdxjvvvBN33313dO7cOX74wx/GTTfdFLNmzYru3bvHaaedFv/2b/+2SZZbVVUVTz31VEyePDkWLVoURUVF0blz5zjggAPiG9/4Rq0339bHLbfcEqeffnqD06urq+PJJ5+MhQsXxr777ht77LFHbtoDDzwQ3/3udxvMrlq1Kh577LEoKiqKww8/PJ577rncdnXMMcesd/k955xz4oYbbig43+zZs2OXXXaJiE/fPHv44Ydj1qxZsdNOO8V3v/vdaN26dYPZxx57LL761a9Ghw4dYu7cuXHTTTfF7Nmzo3v37jF48ODYeeedG8xee+210adPn+jTp896r9u8efPigQceiC5dusRRRx0Vd9xxR8ycOTN69OgRP/rRj6Jbt24NZqurq+OZZ56JF198McrKyqJFixaxww47xLe+9a2Cz4G2K9tVQ5qyXUWk+VxYyIY9Gjaje++9t8Fi8+STT8ZVV10Vbdq0ifnz58d1110Xn3zySRxxxBFRqK+98MILcc0118SaNWvitNNOi5tuuinatm0bgwYNiosvvjhvsSkrK4sePXrEN7/5zSgqKoosy+Ldd9+NI488slHrVFVVVWsdLr300ujQoUMceeSRMWLEiLzFJsuyKC4ujoiId999N/fCZI899ohhw4blXe52220Xo0aNimnTpsVzzz0X9957b/Ts2TP69esXffv2jW222WaduQ8++CCuvfbaqKqqisGDB8ctt9wSLVq0iK997WsFl7l2Ha+55ppo0aJFDBw4MK688soYOXJkfOtb34qrr746rr766gazKT7oNvYL0IsvvtgL0I3st7/9bey1114xcuTI6NSpU0R8+nd75pln4rrrrotLL710g273iiuuiIsvvrjB6StXrow///nPsXDhwthvv/3i4IMPzk2bMGFCnHLKKQ1mx44dG1/+8pdj1apVcfnll8fBBx8cF110Ubz00ksxfvz4uOCCCxrM/vSnP43S0tJa15WVlcWFF14YRUVF8bvf/a7B7NSpU2PffffNjf/OO++Md955J3baaac46aSTcvffutxzzz1x5JFHRocOHeKdd96J3/72t1FUVBRVVVVx1llnRa9evRrMXnjhhdGnT5/o169fwSPZdU2YMCGOO+64WLFiRVx66aVx0kknxaWXXhrTpk2LCRMmxG9+85sGsxUVFfHwww/Hiy++GAsXLoySkpLYfvvt41vf+lb0798/73JvvPHGaNeuXRx77LHRtWvXiIhYuHBh/P3vf48bb7wxzj333AazdR/7a2VZFlOmTMm73FtvvTVWrVoVu+22W9x+++3Rq1evOOmkkyIiYvLkyXlfgI4dOzZKS0tj9erVMWrUqOjRo0cceeSR8corr8T48ePj5z//eYPZE088MYqKinLjjPj0Be3a6++8884Gs+PGjcvt1/7rv/4rli1bFkceeWRMnjw5xo8fn/cNsyeeeCIOP/zwiIi4/fbb49///d+jT58+MX369Bg/fnz86le/ajA7c+bMKCoqittvvz323nvvOPjgg+PLX/5yo8rBuHHjol+/frFy5coYMWJE9O/fP4455ph4/fXX46abborLLruswezNN98cpaWl8Z//+Z/xwgsvxDbbbBN77rlnPPjgg/HBBx/Ed77znQaztivbVUOasl1FpPlcWMgWUWwaOsqQZVksWbKkwVx1dXWuGXfr1i1GjhwZo0ePjk8++aRgsSkuLo4WLVpE69atY7vttst9PKtVq1a5B1RDrrzyynj00UfjwQcfjBNOOCF23XXXaNWqVd4n6brrtXz58siyLLIsyx01adOmTa60NGSnnXbKHcXaZZdd4p133onPf/7zMWfOnIIPoKKiomjRokXss88+sc8++0RlZWVMnTo1nn322bjrrrvitttua3C8lZWVUVFREatWrYqVK1dG+/btY82aNbVKWj5VVVXRokWLWLNmTZSXl0dERGlpacF8ig86L0Abr7legM6fPz9GjBhR67pOnTrFUUcdFU8//XTe7LvvvtvgtPfffz9vdty4cbHDDjtE37594+mnn44XXnghzjnnnGjZsmXMnDkzb3bJkiW5J6nHH3889wbId77znXjqqafyZo8//viYNm1anHDCCbl3Hc8888wYO3Zs3lxExP/7f/8vt1394Q9/iM6dO8eFF14YL774Ytx66615t+dXX301jj/++IiIuPvuu2PIkCGx2267xZw5c2LMmDExatSoBrPLly+PFStWxOWXXx6dOnWKfv36xVe/+tXo0qVLwTFXVVXFfvvtFxGfbtsHHXRQRETsvffecdddd+XNjhkzJvr06RMjRoyI559/PioqKqJfv37xwAMPxJw5c+KHP/xhg9n33nuv3rvKXbt2jS984Qtxzjnn5F3uT3/60/jc5z5X67lr7Rtn+Z4HIz79WPW1114bERGHH354TJgwIa699to455xzCj4XfvzxxzF06NDIsixOO+20uPTSS6OoqCj23HPPgm9c9e/fP1auXBk/+tGPcvuXxm5XNcc1bdq0uPLKK6OkpKRRy635vLF06dLcx8D32muv3PNLQzp27BjnnXdelJeXx0svvRRPPvlk3HLLLbH//vtHv379Yp999mkwW15eHocddlhEfPoYXPtm5je+8Y147LHH8i733XffjTPOOCMiPn0jcsSIEfG9730v9txzz7jgggvyvgC1XdmuGtKU7SoizefCQraIYrNkyZIYMWJEvXffsyzL+8K1U6dO8f7778euu+4aEZ8Wg+HDh8dNN90UH3zwQd5llpSUxKpVq6J169a1nlxXrlxZ8Dsja488fOUrX4k777wzOnbs2OgX+GuXMXz48MiyLIqKimLx4sXRqVOnqKioKLizGDx4cNx+++3x4IMPxrbbbhuXXHJJdO3aNbp27Zr3kHJE1LvtkpKSOOCAA+KAAw6I1atXN5g79NBDY8iQIVFdXR3f//7347rrrotu3brFzJkz46tf/WrB9f3mN78ZF110Uey+++7x5ptvxn/8x39ExKc7jkJHIFJ80HkBuuW/AP3c5z4XDz/8cBxyyCH1CnPdYlnXRRdd1GDRW7FiRd7svHnzcm/k9OnTJx588MH45S9/mfdvs1bNx+8hhxxSa1p1dXXe7KBBg6Jfv35x5513RteuXeO4444r+AbOurzzzjtxzTXXRETEwIED4+9//3ve+auqqqKqqiqKi4tj9erVsdtuu0VERPfu3WPNmjV5s+3bt48TTzwxTjzxxHjzzTfjf/7nf+LCCy+MHXfcMfr16xcDBgxoMNuyZct47bXXYuXKlVFUVBSTJ0+OPn36xIwZMwru3z/55JNcMR44cGBcdNFFccwxx8QZZ5wRQ4cOzbtdtW/fPp5//vno27dvbjnV1dXxwgsvFDy6vN1228UvfvGLdW5/P/vZz/JmKysrc/8uLi6O008/Pe6777745S9/GRUVFXmzaxUVFcV+++2X2y6KiooKbiM/+clP4t13340bbrghDjzwwDj88MMbvV2tXLkyXnzxxdwbZ2vfmGvMcg866KAYO3ZsHHPMMXHggQfGI488kvt4dKHH79rb3mabbeLrX/96fP3rX4/ly5fHc889F3/+85/zvgAtKiqKOXPmxMqVK2P16tW5Nxbnzp1b8DFYXFwcc+fOje233z7efffd3Po25numtqv1264mT54c1dXVtqtGSPG5sJAtoth8+ctfjoqKilxBqSnfO8VnnXVWvSMcxcXFcdZZZ+V90ouIuPzyy3N/+JpPdJWVlXHmmWc2atxdu3aNoUOHxquvvtrgx7jWpaEXqUVFRQXfUWjbtm2ceeaZUV5eHvPmzYvq6uro0qVL3nfj1xoyZEiD01q1atXgtIEDB+YKTJcuXeKQQw6JadOmxYABA3IvVPI54ogjYu+9946PPvooBg4cGD169IiIiA4dOsTll1+eN5vig84L0C3/BeiQIUPiz3/+c4wcOTL3rmWnTp1i//33z/uxjoiIHXfcMU477bR1nmSkMS8Uqqurc+t29NFHR5cuXeKyyy4r+ELhgAMOiIqKimjTpk18//vfz10/d+7c6N69e95sxP/tr15++eX49a9/HatWrSqYifi0qP/3f/93ZFkW5eXluTdkIuq/WVLXt7/97bjyyivjqKOOin322SfuuOOO6NOnT7zxxhvr3N83ZM8994w999wzfvKTn8Trr78ezz33XN7t6tRTT4177rknioqKYsSIEfHEE0/EuHHjokuXLgXfAGrdunW89dZbsccee8TLL7+ce/OlRYsWBdf3nHPOiXvuuSduu+223AvOFStWxF577ZV3/xvx6X5y+fLl69yvDRo0KG+2Z8+etY7YRkQce+yx0aVLl5gwYULe7Oc///ncdrX2nd+IT7erxnxXoGfPnnHppZfGY489FiNHjiy4v1irV69e8corr0RExO677557g2/x4sUFPwL7gx/8IJ555pm44YYbYt68ebFmzZqYNGlSHHjggXH22Wfnza5rndq3bx+HHXZY7l3zhvzoRz+Kq666Klq0aBHDhg2Lhx56KD744INYuXJlwe3qhBNOiMsvvzxatWoVlZWVue1h6dKlsf/+++fNrt2uJkyYEO3bt48sy2LlypW2q3XYc8894+WXX46IDduunn766S1quzrttNPyZtduVy1btoyqqqrcEbzGbFcRaT4XFpTBFmzZsmXZXXfdlZ1zzjnZySefnJ188snZkCFDsrvuuitbtmxZ3uzQoUOzOXPmrHPa4MGD82aHDBmSVVVV1bru6aefzs4999zsZz/7Wd7sH//4x6y8vLze9R9//HF27bXX5s3W9NJLL2UXX3xxdsoppzRq/tNPPz37y1/+kk2cODE788wzs+rq6ty08847L2/20UcfzX71q19l06ZNy/70pz9lt99+ezZ9+vTsT3/6UzZmzJi82QsuuKDedVVVVdmUKVOysWPH5s2+99572a9//evsN7/5Tfbhhx9mv//977OTTjopO/fcc7O33norb3bEiBHZm2++mWXZp/fVr3/969y0s88+O282y7Lsww8/zF577bV6f6spU6bkzT3//PPZRx99tM5pL774Yt7sXXfdlb322mv1rp8yZUr285//vMCIPx3z66+/vt5jrptdtWpVNnv27EZl77333lr/LVmyJMuyLFu0aFF24403FlzuG2+8kV133XXZsGHDsqFDh2ZXXHFF9re//S1bs2ZN3txvf/vbgredz7/+9a8Nuq/ee++9bPjw4dlJJ52UXXLJJbm/9ZIlS7JHHnmk4HL/93//N5s5c2a2dOnS7M0338wefvjh7JVXXmnUmGfOnJnNnDkzN/6//OUvzZqtuQ9pTHbGjBnZfffd1+jlrr2vmjrmDz74IJs4ceJmua9qjvmDDz5Yr7/v22+/vcHLXWvp0qXZkiVLshtuuGG9cjU15nG7KbON2a5qKisry3784x83ebkbotDz36Za7pVXXlnvNUhDqqurc/vlpi53xowZ2cSJE7OpU6cWnLc5nwvz2eLPigYNyXfGvIhPTxCx8847r/Pd7LVHBhpy9913R+/evaN37961rp86dWr8/ve/jzFjxmySMde1evXqmDt3buy8884Fs/fdd1+ty9/+9rejQ4cOsXjx4rj77rsLnr1u+vTp8cQTT8THH38cVVVVUVpaGgceeGAceuiheb/7df311xd813BDFFrf2bNnx8033xwff/xx7LTTTvGzn/0sunfvHkuXLo1nn302jjjiiAazTTmjYsSnp5kvKyuL3XffvdY7dXXf3Vyf7JQpU3Ify1uXv/71r/HYY49t0Ji3xPXdlNlHH300nnjiiejevfsGre+HH34YZWVl8YUvfGG9llv3bJuzZs2KXr16Nepsm005U+eWkm3K+jZXNoX1Xdf2+sYbbzTqTKxNOYvrlpKN2PD1ba5sCusbUfssvU8++WQ8/vjjceCBBzbqLL11vfXWW7kz0OX76N3GztbTpFoEzajQUZd8nnrqqWbJNmXMKa5vc91XhZY7dOjQ3Dv58+bNyy688MLcu/HDhg3Lm33kkUeys88+O7vqqquyM844I5s8eXJu2rqOXtX06KOPbnC2KWNuSrYpY07xvnrkkUeyc845Z4OXW1VVlVVUVGQnnnhitmLFiizLsmzVqlUFj5rKyjbkggsuyG644YbsjTfeyKZPn5698cYb2amnnppNnz49mz59et7ssGHDkss21/pubffz2vxaw4cPzx35KS8vz4YOHZo3O3z48Ny///a3v2Xnn39+du+992aXXHJJ9tBDD22ybCFbxHdsoCEbesa8QvKdRryp2aaMOcX1bUq2uda3KWdUbMpp5idNmrTB2aaMuSnZpow5xfvqySefjFGjRm3Qcptytk1Z2YY05Uyso0aNSi7bXOu7td3PEU07S29TfrqkKdlCFBu2aBt6xryI5isYTRlziuvbXPdVU5bblDMqNlfBaMqYU1zf5rqvmrLcppxtU1a2IU05E6usbD5NOUtvU0pRU7IFNel4D2xi48aNy31BvK7rr78+b/aUU07J3nvvvWz+/Pm1/ps3b1522mmnbbJsU8ac4vo2133VlOUuWLAgW7Ro0TqnNTSetUaOHJm99957ta6rrKzMbrzxxuy4447bZNmmjDnF9W2u+6opy129evU6r1+yZEnuZA2ysuubreuVV17J7rnnnvXKyMquj4qKimzevHl55znjjDOyM888M/f/tfvc8vLy7Pzzz99k2UIUGz6zmqtgNJfmWt/muq+aa7nNVTCaS3Otb3PdVyn+jQC2FI0pRZsiu5azogEAAMnL/8FOAACABCg2AABA8hQbAAAgeU73DECzeumll2LixIn1rt9vv/3y/iI7ANSk2ADQrBYtWhTHHnts9O7dO3ddRUVF3Hbbbc04KgBS46NoAABA8hQbAAAgeYoNAACQPMUGAABInmIDAAAkT7EBAACSp9gAAADJU2wAAIDk+YFOAJrdXXfdFe3atctdrq6uju22264ZRwRAaoqyLMuaexAAAABN4aNoAABA8hQbAAAgeYoNAACQPMUGAABInmIDAAAkT7EBAACS9/8BhS+aYdqpSqQAAAAASUVORK5CYII=\n",
      "text/plain": [
       "<Figure size 1008x720 with 1 Axes>"
      ]
     },
     "metadata": {},
     "output_type": "display_data"
    }
   ],
   "source": [
    "week_group = data['train']['2019'].groupby('주').sum()\n",
    "week_group['취급액'].plot(kind='bar', figsize=(14, 10))\n",
    "plt.axhline(y = np.mean(week_group.취급액), color = 'red', ls = '--')\n",
    "plt.ylim(week_group['취급액'].min()*0.9, week_group['취급액'].max()*1.1)\n",
    "plt.show()"
   ]
  },
  {
   "cell_type": "code",
   "execution_count": 79,
   "metadata": {
    "ExecuteTime": {
     "end_time": "2020-09-25T10:17:28.039932Z",
     "start_time": "2020-09-25T10:17:27.272852Z"
    }
   },
   "outputs": [
    {
     "data": {
      "image/png": "iVBORw0KGgoAAAANSUhEUgAAAzwAAAJdCAYAAAD3KXKlAAAABHNCSVQICAgIfAhkiAAAAAlwSFlzAAALEgAACxIB0t1+/AAAADl0RVh0U29mdHdhcmUAbWF0cGxvdGxpYiB2ZXJzaW9uIDMuMC4zLCBodHRwOi8vbWF0cGxvdGxpYi5vcmcvnQurowAAIABJREFUeJzs3XucVXWhN/7PzHAZEEEGEgVvB7UUzSviBS0yNI9HyWOkecq0vGRpSfaomBlqmiRgJwtv6LEe63merCw95SkfvBw7kndR0jLw+vMGwQjIZYCZ2b8/PMzDDDOzhzuzeL9fL1+vmbXWZ6/vxu+svT977b12RalUKgUAAKCAKjf1AAAAADYUhQcAACgshQcAACgshQcAACgshQcAACgshQcAACisLpt6AG254YYb8vTTT6dPnz6ZNGlSu9v++Mc/zvPPP58kWb58eRYsWJAf//jHG2GUAADA5myzLTwjRozIMccck8mTJ5fd9vTTT2/6+T/+4z/yyiuvbMCRAQAAncVmW3iGDBmSOXPmNFv2zjvv5LbbbsvChQvTvXv3fOlLX8qgQYOabfPII4/kpJNO2phDBQAANlObbeFpzS233JKzzjor22+/fWbOnJlbb70148aNa1r/97//PXPmzMnee++9CUcJAABsLjpN4amrq8uLL76Y6667rmlZfX19s20eeeSRHHLIIamsdC0GAACgExWexsbGbLXVVpkwYUKb20ybNi1nnHHGRhwVAACwOes0p0J69uyZbbfdNn/605+SJKVSKa+++mrT+rfeeiuLFy/OBz/4wU00QgAAYHNTUSqVSpt6EK3513/917zwwgt577330qdPn5x00knZe++9M2XKlMyfPz/19fUZPnx4Ro8enSS58847s2LFinz2s5/dxCMHAAA2F5tt4QEAAFhXneYtbQAAAGtK4QEAAAprs71K21tvvdXq8v79+2fu3LlrdZuysrJbZnZT7ltWVlZWVlZ2w2QHDhzYodtxhgcAACgshQcAACgshQcAACgshQcAACgshQcAACgshQcAACgshQcAACgshQcAACgshQcAACgshQcAACgshQcAACgshQcAACgshQcAACgshQcAACgshQcAACgshQcAACgshQcAACgshQcAACgshQcAACgshQcAACgshQcAACgshQcAACgshQcAACgshQcAACgshQcAACgshQcAACgshQcAACgshQcAACgshQcAACgshQcAACgshQcAACgshQcAACgshQcAACgshQcAACgshQcAACgshQcAACgshQcAACgshQcAACgshQcAACgshQcAACgshQcAACgshQcAACgshQcAACgshQcAACgshQcAACgshQcAACgshQcAACgshQcAACgshQcAACgshQcAACgshQcAACgshQcAACgshQcAACisLuU2WL58ecaNG5f6+vo0NDTkkEMOyUknndRsm9/+9re5//77U1VVld69e+fLX/5yPvCBDyRJTj755Oy0005Jkv79++fiiy/eAHcDAABgdWULT9euXTNu3LhUV1envr4+3/72t7Pffvvlgx/8YNM2u+yyS8aPH5/u3bvnvvvuy09/+tN8/etfT5J069YtEyZM2HD3AAAAoA1l39JWUVGR6urqJElDQ0MaGhpSUVHRbJu999473bt3T5Lsvvvuqa2t3QBDBQAAWDMVpVKpVG6jxsbGXHzxxXnnnXfyiU98Ip/73Ofa3Pa2227LNttsk0996lNJks985jPZZZddUlVVlU9+8pMZNmxYq7mpU6dm6tSpSZLx48dn+fLlrW7XpUuX1NfXl71jsrKyspvDvmVlZWVlZWU3TLZbt24dup0OFZ6VFi9enIkTJ+YLX/hC0+dyVvXwww/nD3/4Qy6//PJ07do1SVJbW5uamprMnj07V155ZS677LJst912Zff11ltvtbq8f//+mTt3bkeHLCsrK7tJ9y0rKysrKyu7YbIDBw7s0O2s0VXattpqqwwZMiTTp09fbd1zzz2XX//617nooouayk6S1NTUJEkGDBiQIUOG5NVXX12TXQIAAKy1soVn4cKFWbx4cZL3r9g2Y8aMDBo0qNk2r7zySqZMmZKLLrooffr0aVq+aNGirFixoul2Xnzxxeywww7rc/wAAABtKnuVtnfffTeTJ09OY2NjSqVSDj300Bx44IH5+c9/nl133TVDhw7NT3/609TV1eW6665L8v8uP/3mm2/mlltuSWVlZRobG3PCCScoPAAAwEZTtvDsvPPOufbaa1dbfvLJJzf9fNlll7Wa/dCHPpRJkyatw/AAAADW3hp9hgcAAKAzUXgAAIDCUngAAIDCUngAAIDCUngAAIDCUngAAIDCUngAAIDCUngAAIDCUngAAIDCUngAAIDCUngAAIDCUngAAIDCUngAAIDCUngAAIDCUngAAIDCUngAAIDCUngAAIDCUngAAIDCUngAAIDCUngAAIDCUngAAIDCUngAAIDCUngAAIDCUngAAIDCUngAAIDCUngAAIDCUngAAIDCUngAAIDC6rKpBwAAAJAkDWeNavp5dot1VVPuWavbdIYHAAAoLIUHAAAoLIUHAAAoLIUHAAAoLIUHAAAoLIUHAAAoLIUHAAAoLIUHAAAoLIUHAAAoLIUHAAAoLIUHAAAoLIUHAAAoLIUHAAAoLIUHAAAoLIUHAAAoLIUHAAAoLIUHAAAoLIUHAAAoLIUHAAAoLIUHAAAoLIUHAAAoLIUHAAAoLIUHAAAoLIUHAAAoLIUHAAAoLIUHAAAorC6begAAAEAxNJw1qtnvs1usr5pyz8YbzH9zhgcAACgshQcAACgshQcAACgshQcAACgshQcAACgshQcAACgshQcAACgshQcAACissl88unz58owbNy719fVpaGjIIYcckpNOOqnZNitWrMiPfvSjvPzyy9l6660zZsyYbLvttkmSX//613nggQdSWVmZL3zhC9lvv/02zD0BAABooewZnq5du2bcuHGZMGFCrr322kyfPj1/+9vfmm3zwAMPZKuttsoPf/jD/NM//VN+9rOfJUneeOONTJs2Ldddd10uvfTS3HbbbWlsbNww9wQAAKCFsoWnoqIi1dXVSZKGhoY0NDSkoqKi2TZPPvlkRowYkSQ55JBD8uc//zmlUilPPPFEDjvssHTt2jXbbrtttttuu8yaNWv93wsAAIBWlH1LW5I0Njbm4osvzjvvvJNPfOIT2X333Zutr62tTb9+/ZIkVVVV6dmzZ957773U1tY227ampia1tbWt7mPq1KmZOnVqkmT8+PHp379/6wPu0qXNdeXIyspumdlNuW9ZWVlZWdktKTu7zPpyt9Nefq3H35GNKisrM2HChCxevDgTJ07M66+/np122qlpfalUWi1TUVHR6vK2jBw5MiNHjmz6fe7cua1u179//zbXlSMrK7tlZjflvmVlZWVlZbfkbEvrcjstswMHDuxQbo2u0rbVVltlyJAhmT59erPl/fr1y7x585K8/7a3JUuWpFevXs2WJ++fCaqpqVmTXQIAAKy1soVn4cKFWbx4cZL3r9g2Y8aMDBo0qNk2Bx54YB566KEkyaOPPpq99torFRUVGTp0aKZNm5YVK1Zkzpw5efvtt7Pbbrut/3sBAADQirJvaXv33XczefLkNDY2plQq5dBDD82BBx6Yn//859l1110zdOjQHHnkkfnRj36Ur371q+nVq1fGjBmTJNlxxx1z6KGH5oILLkhlZWXOOOOMVFb66h8AAGDjKFt4dt5551x77bWrLT/55JObfu7WrVsuuOCCVvMnnnhiTjzxxHUYIgAAwNpxugUAACgshQcAACgshQcAACgshQcAACgshQcAACgshQcAACisspelBgAA1k7DWaOa/T67xfqqKfdsvMFsoZzhAQAACkvhAQAACkvhAQAACkvhAQAACstFCwAAYDPkggfrhzM8AABAYSk8AABAYSk8AABAYSk8AABAYSk8AABAYblKGwAAtMPV0jo3Z3gAAIDCUngAAIDCUngAAIDCUngAAIDCUngAAIDCUngAAIDCUngAAIDCUngAAIDCUngAAIDCUngAAIDCUngAAIDCUngAAIDCUngAAIDCUngAAIDCUngAAIDCUngAAIDCUngAAIDCUngAAIDCUngAAIDCUngAAIDCUngAAIDCUngAAIDCUngAAIDCUngAAIDCUngAAIDCUngAAIDCUngAAIDCUngAAIDCUngAAIDCUngAAIDCUngAAIDCUngAAIDCUngAAIDCUngAAIDCUngAAIDCUngAAIDCUngAAIDCUngAAIDCUngAAIDCUngAAIDCUngAAIDCUngAAIDCUngAAIDCUngAAIDCUngAAIDCUngAAIDC6lJug7lz52by5MmZP39+KioqMnLkyBx77LHNtrnnnnvyxz/+MUnS2NiYN954I7fddlt69eqVc889N9XV1amsrExVVVXGjx+/Ye4JAABAC2ULT1VVVU499dQMHjw4S5cuzdixY7PPPvtkhx12aNpm1KhRGTVqVJLkySefzO9+97v06tWraf24cePSu3fvDTB8AACgpYazRjX7fXaL9VVT7tl4g9nEyr6lrW/fvhk8eHCSpEePHhk0aFBqa2vb3P6RRx7J8OHD198IAQAA1lLZMzyrmjNnTl555ZXstttura5ftmxZpk+fnjPOOKPZ8quvvjpJctRRR2XkyJFrOVQAAIA1U1EqlUod2bCuri7jxo3LiSeemIMPPrjVbaZNm5aHH344Y8eObVpWW1ubmpqaLFiwIFdddVW+8IUvZMiQIatlp06dmqlTpyZJxo8fn+XLl7e6jy5duqS+vr4jQ5aVlZXd5PuWlZWVle382dn/fFi76wf8elqhsi1trH+rcvmW2W7dunVoTB06w1NfX59JkybliCOOaLPsJO+/ne3www9vtqympiZJ0qdPnxx00EGZNWtWq4Vn5MiRzc7+zJ07t9V99O/fv8115cjKym6Z2U25b1lZWVnZ4mVbWpfb6QzZzfXfauDAgR3Klf0MT6lUyk033ZRBgwbluOOOa3O7JUuW5IUXXsjQoUObltXV1WXp0qVNPz/33HPZaaedOjQwAACAdVX2DM+LL76Yhx9+ODvttFMuvPDCJMkpp5zS1LCOPvroJMnjjz+efffdN9XV1U3ZBQsWZOLEiUmShoaGHH744dlvv/3W+50AAABoTdnCs8cee+TOO+8se0MjRozIiBEjmi0bMGBAJkyYsNaDAwAAWBdl39IGAADQWSk8AABAYSk8AABAYSk8AABAYSk8AABAYSk8AABAYSk8AABAYSk8AABAYSk8AABAYSk8AABAYXXZ1AMop+GsUc1+n91ifdWUezbeYAAAgE7FGR4AAKCwFB4AAKCwFB4AAKCwNvvP8AAAQOKz3awdZ3gAAIDCUngAAIDCUngAAIDCUngAAIDCUngAAIDCUngAAIDCcllqAGCz4tLDwPrkDA8AAFBYCg8AAFBYCg8AAFBYCg8AAFBYCg8AAFBYCg8AAFBYCg8AAFBYvocHACgM3+EDtOQMDwAAUFgKDwAAUFgKDwAAUFgKDwAAUFgKDwAAUFiu0gYAQOG5gt+WyxkeAACgsBQeAACgsBQeAACgsBQeAACgsBQeAACgsBQeAACgsBQeAACgsBQeAACgsBQeAACgsBQeAACgsBQeAACgsBQeAACgsBQeAACgsBQeAACgsBQeAACgsBQeAACgsBQeAACgsBQeAACgsBQeAACgsBQeAACgsBQeAACgsLps6gEUUcNZo5r9PrvF+qop92y8wQAAwBbMGR4AAKCwFB4AAKCwFB4AAKCwfIYHgE2ivc87+qwjAOuLMzwAAEBhKTwAAEBhKTwAAEBhlf0Mz9y5czN58uTMnz8/FRUVGTlyZI499thm2zz//PO59tprs+222yZJDj744IwePTpJMn369Nx+++1pbGzMxz/+8Zxwwgkb4G4AAACsrmzhqaqqyqmnnprBgwdn6dKlGTt2bPbZZ5/ssMMOzbbbc889M3bs2GbLGhsbc9ttt+Vb3/pW+vXrl0suuSRDhw5dLQsAwMbli9LZUpQtPH379k3fvn2TJD169MigQYNSW1vbodIya9asbLfddhkwYECS5LDDDssTTzyh8AAAwGaqaGV4jS5LPWfOnLzyyivZbbfdVlv3t7/9LRdeeGH69u2bU089NTvuuGNqa2vTr1+/pm369euXmTNntnrbU6dOzdSpU5Mk48ePT//+/ZOs/g/c0srtOqJLly5rtP3aZjvjmGVli5zdlPuWbVt7x8o13X9nuL+yG+dx1GNwsZ+vbKq5IbtxsuXyaz3HOrphXV1dJk2alNNPPz09e/Zstu4f/uEfcsMNN6S6ujpPP/10JkyYkOuvvz6lUmm126moqGj19keOHJmRI0c2/T537twOjauj2yXv/yOtyfbrK9tSZxizrGyRspty37JrZ01vozPeX9m1ty634zG44zrDv1VLG2tuyG4e2YEDB3Yo16GrtNXX12fSpEk54ogjcvDBB6+2vmfPnqmurk6SHHDAAWloaMjChQvTr1+/zJs3r2m7efPmNb09DgAAYEMrW3hKpVJuuummDBo0KMcdd1yr28yfP7/pbM6sWbPS2NiYrbfeOrvuumvefvvtzJkzJ/X19Zk2bVqGDh26fu8BAABAG8q+pe3FF1/Mww8/nJ122ikXXnhhkuSUU05pOqV09NFH59FHH819992XqqqqdOvWLWPGjElFRUWqqqryxS9+MVdffXUaGxvzsY99LDvuuOOGvUcAAAD/rWzh2WOPPXLnnXe2u80xxxyTY445ptV1BxxwQA444IC1Gx0AAMA66NBneAAAADojhQcAACgshQcAACgshQcAACgshQcAACgshQcAACisspelBoDNTcNZo5r9PnuVn6um3LNxBwPAZs0ZHgAAoLAUHgAAoLAUHgAAoLAUHgAAoLAUHgAAoLAUHgAAoLAUHgAAoLAUHgAAoLAUHgAAoLAUHgAAoLAUHgAAoLC6bOoBAACw5Wg4a1Sz32e3WF815Z6NNxi2CM7wAAAAhaXwAAAAhaXwAAAAhaXwAAAAhaXwAAAAhaXwAAAAhaXwAAAAhaXwAAAAhaXwAAAAhdVlUw9gQ/JNvgAAsGVzhgcAACgshQcAACgshQcAACgshQcAACgshQcAACisQl+lDQC2dK5YCmzpFB4A2MwpLQBrT+EB2Ey096TWE1oAWDs+wwMAABSWwgMAABSWwgMAABSWwgMAABSWixYAsNZcaAGAzZ0zPAAAQGFttmd4+o0enSQpvfhikmTp9n2zaOdtU9HQmP5PzGzaruK/t1vy6U9n6cknp7K2Nn3PPrtZNkkW7fSBLB1Yk6qly1Pz7CvNskmy6Oyzs+zoo1M1a1a2GTt2tfFUXHZZsu++6fLnP6fP5Zevtn7hxRdnxUEHpesTT6Tm0RdXWz9/yI5Z0btnus9dmD6r7Ldp/fjxadhtt3S/7770uuWWpuVdunZNvxUr8u4PfpDGQYNSfffd2eqOO1bLv3vLLWmsqUmPn/88PX/xi2bZJKm9446UevRIzx//OD1++9vV8vN++cskyVY33ZTqqVObZUvV1an96U+TJL2+//10f+SRZtnGvn3z7pQpSZKtr7kmXZ57rimbJA3bb5/5P/xhkqT3t7+dri+80CxfP3hwFlx7bZKk6stfTr+//KXZ+hVDhmThlVcmSbb56ldT9fbbzdYvP/DAvHfJJUmSvmedlcp33222ftnw4Vn09a8nSWo+97lU1NU1W183cmTyrW8l+X/zblVLjzsuS04/PRVLl6bm1FNXW1/5xS8mxx7bbO6tavGpp6buk59M5Ztvpu/55zdb16Vr13T/whfanXvvfe1rWf6Rj6w291b+P1p17vX+3vdWyy+4/PLU7713uj38cLa+/vpm2aTtubdSy7m3ajZpfe6tatW51+UPf2iWTVafe6tade5Vfve76Xfffc3Wt5x73Z56qtn6Vede1Te+kX4t1q869/pcdFG6vPxys/XrY+7l6quTtD33Fp9zTpL3596qx6yk+XGvtbnZ2nFvpS5du6b6M59pc+4lbR/3Vv4/bmvurbTw4ovTkKTbu4vS58U3V1//5z+vNvdWVdu1LvW9qlM9e362fqX5N8tUjB7d7nGv9OKLmXfArmns1iU935ibrd6Y1yybdPy4V3nddel3T/OzUWt63Gtv7rV13Mu//VuSjs29yhaPK8u36ZUFewxKkvR76qVUtZgfqx73+j8xMxUNjc3W123bJ+8N3u79/Boc91bOjfbmXtL6cW/VY0e5x9wFDQuzrH/vdF24JNu88P+ttv69J55o87hXevHFZo+5vWc1/7utGD26w8e9yl/8Iv0mT159fQeOe0k6/JjbbPzV1cnvf59k7eZe1S67JBMnJin/mNt3xmvpsrj5cWlF756ZP2THJGt23Fv5/7cjj7kL//vnD7TyfGnp9n2zNGnzMXfR4rlZskP/VC6vT7+nX1pt/ZK7727zuFd68cW89w8DUjdgm3RZVJe+f36t2fqK0aPbPO6tPD4v+NCgLO/ba7Xj3srjTmuPuase29/de+fVjnurPh9tedxr+bjQ8rhX0eLvd9XjXnUr/75/P+RDSZKtX34nPVpkVz3u9Z75drrPW9hsfWPXLpl34K7v58sc97Z54f9L14VLmq2v36o673545yTlj3s1019JVd3yZuuXb9Mri/7756a5N23aavexNc7wAAAAhVVRKpVKm3oQrXnrrbeSrP7+8Jbae4/4umRb6t+/f+bOnduhbTfVfmVlZTe/fa+vY8eafh6mM4x5U2Vb6uxzI9k8HwvXJbul3d9Nle2Mz5Nki50tl2+ZHThwYLu3tZIzPAAAQGEpPAAAQGEpPAAAQGEpPAAAQGFttpelBqDjfAEoALTOGR4AAKCwnOFpQ3uvliZeMQUAgM7AGR4AAKCwFB4AAKCwFB4AAKCwFB4AAKCwFB4AAKCwFB4AAKCwFB4AAKCwfA8PAMAm5Lv/YMNyhgcAACgshQcAACgshQcAACissp/hmTt3biZPnpz58+enoqIiI0eOzLHHHttsmz/+8Y+5++67kyTV1dU588wzs8suuyRJzj333FRXV6eysjJVVVUZP378+r8XAAAArShbeKqqqnLqqadm8ODBWbp0acaOHZt99tknO+ywQ9M22267bS6//PL06tUrzzzzTG655ZZ897vfbVo/bty49O7de8PcAwAAgDaULTx9+/ZN3759kyQ9evTIoEGDUltb26zwfOhDH2r6effdd8+8efM2wFABAADWzBpdlnrOnDl55ZVXsttuu7W5zQMPPJD999+/2bKrr746SXLUUUdl5MiRreamTp2aqVOnJknGjx+f/v37J1n90owtrdyuNZ0x21KXLl3WaHtZWdnNa99rkm3v2FHuNtYl21JnGPOmur+bKrulPSa5v81tqDF3xv3KFjtbLr/Wf48d3bCuri6TJk3K6aefnp49e7a6zZ///Oc8+OCDufLKK5uWfec730lNTU0WLFiQq666KgMHDsyQIUNWy44cObJZGZo7d26HxtXR7TpLtuW1+Ftak2vx9+/ff63HKStbpOym3Pe6jnuljXm86oxjXpdsZ58bycb791qTMa/Px7OWNsf7uz6zLW2sMXfG/cpu2dmBAwd2KNehq7TV19dn0qRJOeKII3LwwQe3us1rr72Wm2++ORdeeGG23nrrpuU1NTVJkj59+uSggw7KrFmzOjQwAACAdVX2DE+pVMpNN92UQYMG5bjjjmt1m7lz52bixIk577zzmjWturq6lEql9OjRI3V1dXnuuecyevTo9Td61ptN+S3Pq+7bt0sDALA+lS08L774Yh5++OHstNNOufDCC5Mkp5xyStMppaOPPjq//OUvs2jRotx6661J0nT56QULFmTixIlJkoaGhhx++OHZb7/9NtR9AQAAaKZs4dljjz1y5513trvNOeeck3POOWe15QMGDMiECRPWfnQAAADroEOf4QEAAOiMFB4AAKCwFB4AAKCwFB4AAKCwFB4AAKCwFB4AAKCwFB4AAKCwFB4AAKCwFB4AAKCwFB4AAKCwumzqAbD+NJw1qtnvs1usr5pyz8YbDAAAbAYUHgAA1ogXWelMvKUNAAAoLIUHAAAoLIUHAAAoLIUHAAAoLBctYIu16gcufdgSAKCYnOEBAAAKyxkeAKBVLj0MFIHCAwAbgfIAsGl4SxsAAFBYzvAAAHRSzhxCec7wAAAAheUMD8B61N6rrV5pBYCNzxkeAACgsJzhAQCIz8NAUTnDAwAAFJbCAwAAFJbCAwAAFJbCAwAAFJaLFsBaWPWDrT7UCgCw+XKGBwAAKCxneABa8OWhAFAczvAAAACFpfAAAACFpfAAAACFpfAAAACF5aIFrLP2PuCd+JD3ls4lvAGATckZHgAAoLAUHgAAoLAUHgAAoLAUHgAAoLAUHgAAoLAUHgAAoLAUHgAAoLB8Dw/AFq6979LyXUkAdHYKD2xkvogTAGDj8ZY2AACgsBQeAACgsBQeAACgsBQeAACgsFy0AIAtiqvSAWxZnOEBAAAKS+EBAAAKS+EBAAAKS+EBAAAKS+EBAAAKS+EBAAAKS+EBAAAKS+EBAAAKyxePAgCso/a+0DbxpbawKTnDAwAAFJbCAwAAFJa3tNGprfoWAm8fAACgpbKFZ+7cuZk8eXLmz5+fioqKjBw5Mscee2yzbUqlUm6//fY888wz6d69e77yla9k8ODBSZKHHnood911V5LkxBNPzIgRI9b/vQAAAGhF2cJTVVWVU089NYMHD87SpUszduzY7LPPPtlhhx2atnnmmWfyzjvv5Prrr8/MmTNz66235rvf/W4WLVqUX/7ylxk/fnySZOzYsRk6dGh69eq14e4RAADAfytbePr27Zu+ffsmSXr06JFBgwaltra2WeF58skn85GPfCQVFRX54Ac/mMWLF+fdd9/N888/n3322aep4Oyzzz6ZPn16Dj/88A10dwBgw2nvSlzeRguweVqjz/DMmTMnr7zySnbbbbdmy2tra9O/f/+m3/v165fa2trU1tamX79+TctrampSW1u7jkMGthQ+owWLfMcdAAAd8UlEQVQArKsOF566urpMmjQpp59+enr27NlsXalUWm37ioqKVm+nreVTp07N1KlTkyTjx49vKlAtn+S0tGrRakl288+Wy8u2rUuXLmu0/abKbg7/Vsmajbszzg3Zzp0tl5eVlZXdErLl8mv93KUjG9XX12fSpEk54ogjcvDBB6+2vl+/fpk7d27T7/PmzUvfvn1TU1OTF154oWl5bW1thgwZ0uo+Ro4cmZEjRzb9vurttaej28nKFi3bv3//td7Xpsq2tDH/ndfXuDvD3JDtfNlNuW9ZWVnZzpodOHBgh3Jlv4enVCrlpptuyqBBg3Lccce1us3QoUPz8MMPp1Qq5W9/+1t69uyZvn37Zr/99suzzz6bRYsWZdGiRXn22Wez3377dWhgAAAA66rsGZ4XX3wxDz/8cHbaaadceOGFSZJTTjmlqWEdffTR2X///fP000/na1/7Wrp165avfOUrSZJevXrlU5/6VC655JIkyejRo12hDQAA2GjKFp499tgjd955Z7vbVFRU5Mwzz2x13ZFHHpkjjzxy7UYHAACwDsq+pQ0AAKCzUngAAIDCWqPv4QE6L99pAwBsiZzhAQAACkvhAQAACkvhAQAACkvhAQAACkvhAQAACkvhAQAACkvhAQAACkvhAQAACkvhAQAACkvhAQAACkvhAQAACkvhAQAACkvhAQAACkvhAQAACkvhAQAACkvhAQAACkvhAQAACkvhAQAACkvhAQAACkvhAQAACkvhAQAACkvhAQAACkvhAQAACkvhAQAACkvhAQAACkvhAQAACqvLph4AwIbQcNaoZr/PXuXnqin3bNzBAACbjDM8AABAYSk8AABAYSk8AABAYSk8AABAYSk8AABAYSk8AABAYSk8AABAYSk8AABAYSk8AABAYSk8AABAYSk8AABAYSk8AABAYSk8AABAYSk8AABAYSk8AABAYSk8AABAYSk8AABAYSk8AABAYSk8AABAYSk8AABAYSk8AABAYXXZ1AMANn8NZ41q+nl2i3VVU+7ZuIMBAFgDzvAAAACFpfAAAACFpfAAAACFpfAAAACFpfAAAACFpfAAAACFpfAAAACFpfAAAACFpfAAAACFpfAAAACF1WVTDwDouIazRjX9PLvFuqop92zcwQAAdALO8AAAAIWl8AAAAIVV9i1tN9xwQ55++un06dMnkyZNWm39Pffckz/+8Y9JksbGxrzxxhu57bbb0qtXr5x77rmprq5OZWVlqqqqMn78+PV/DwAAANpQtvCMGDEixxxzTCZPntzq+lGjRmXUqPc/V/Dkk0/md7/7XXr16tW0fty4cendu/d6Gi4AAEDHlX1L25AhQ5oVmPY88sgjGT58+DoPCgAAYH1Yb1dpW7ZsWaZPn54zzjij2fKrr746SXLUUUdl5MiRbeanTp2aqVOnJknGjx+f/v37J1n9SlQtrdyuNbKbf7ZcXlZWVnZLyJbLy8rKym4J2XL5ctm2rLfC89RTT+VDH/pQs7NB3/nOd1JTU5MFCxbkqquuysCBAzNkyJBW8yNHjmxWiObOnduh/XZ0O1lZWVlZ2c01uyn3LSsrK9tZswMHDuxQbr1dpe2RRx7J4Ycf3mxZTU1NkqRPnz456KCDMmvWrPW1OwAAgLLWS+FZsmRJXnjhhQwdOrRpWV1dXZYuXdr083PPPZeddtppfewOAACgQ8q+pe1f//Vf88ILL+S9997LOeeck5NOOin19fVJkqOPPjpJ8vjjj2ffffdNdXV1U27BggWZOHFikqShoSGHH3549ttvvw1xHwAAAFpVtvCMGTOm7I2MGDEiI0aMaLZswIABmTBhwloPDAAAYF2tt8/wAAAAbG4UHgAAoLAUHgAAoLAUHgAAoLAUHgAAoLAUHgAAoLAUHgAAoLAUHgAAoLAUHgAAoLAUHgAAoLAUHgAAoLAUHgAAoLAUHgAAoLAUHgAAoLAUHgAAoLAUHgAAoLAUHgAAoLAUHgAAoLAUHgAAoLAUHgAAoLAUHgAAoLAUHgAAoLAUHgAAoLAUHgAAoLAUHgAAoLAUHgAAoLAUHgAAoLAUHgAAoLAUHgAAoLAUHgAAoLAUHgAAoLAUHgAAoLAUHgAAoLAUHgAAoLAUHgAAoLAUHgAAoLAUHgAAoLAUHgAAoLAUHgAAoLAUHgAAoLAqSqVSaVMPAgAAYEPodGd4xo4dKysrK9tp9i0rKysrKyu78bOr6nSFBwAAoKMUHgAAoLCqLr/88ss39SDW1ODBg2VlZWU7zb5lZWVlZWVlN352JRctAAAACstb2gAAgMJSeAAAgMJSeAAAgMLqlBct6Kg333wzr732Wvr06ZMuXbo0LZ8+fXq22267drOzZs1KbW1tampq8sYbb+Thhx/OokWLsv3226/xOH70ox9l2LBha5z761//mkcffTRLly4tO96ZM2emR48e6dq1a5YvX55f/epX+fd///e8+uqr2W233dK1a9c2s/fee2/69u2bnj17rvEY6+vr88c//jELFy7MgAED8l//9V/5v//3/2bOnDnZZZddUlnZfqd+55138sADD2TatGmZMWNGZs+ene23377d8QIbzoIFC1JdXb2phwEA602nvWjBgw8+mI997GNtrr/33nvzhz/8IYMGDcprr72W008/PQcddFCS5OKLL873vve9NrO/+MUvMn369DQ0NGSfffbJzJkzs9dee2XGjBnZd999c+KJJ7aZbXm7pVIpzz//fPbee++mfbflkksuyTXXXJMkmTp1av7whz9k2LBhee6553LggQfmhBNOaDN7wQUXZMKECamqqsrNN9+c7t2755BDDsmMGTPy2muv5X/8j//RZva0005LdXV1BgwYkOHDh+fQQw9N796929x+Vddff30aGhqybNmybLXVVqmrq8vBBx+cGTNmpFQq5bzzzmsze++99+app57KkCFD8swzz2SXXXbJVlttlccffzxnnnlm9tprrw6NYUu2YMGC9OnTZ1MPozCWLFmSX//613niiSeycOHCJEmfPn0ydOjQnHDCCdlqq6028QhXN3/+/PziF79IRUVFTj755PzHf/xHHnvssQwaNChf+MIX0rdv3zazixYtavZ7qVTK2LFjm45jvXr12qBjX9V7772XrbfeeoPu46WXXspPf/rT9O3bN//yL/+SG2+8MbNmzcrAgQNz9tln5x/+4R82yH4bGhrywAMP5PHHH8+7776bioqK9O3bN0OHDs2RRx7Z7AW5NXXzzTfnS1/6UpvrGxsbc//992fevHnZb7/9ssceezSt+9WvfpVPfepTbWaXLVuW3//+96moqMgxxxyTadOmNc2t0aNHr3ExPv/88/ODH/yg7HavvfZadt555yTvv6h29913Z9asWdlxxx3zqU99Kt27d28z+/vf/z6HHXZYevfunXfeeSc33nhjXnvttQwcODDnnHNOdtpppzazEydOzLBhwzJs2LA1vm+zZ8/Or371q9TU1OSEE07Ij3/848ycOTODBg3K5z73uWy77bZtZhsbG/PQQw/lscceS21tbSorK7P99tvnqKOOavdxcEPNq840pxLzqi1rO6+SzvlYWM7aH2U3sTvvvLPdwnP//ffne9/7XqqrqzNnzpxcd911+fvf/55jjz025Treo48+mgkTJmTFihU5++yzc+ONN6Znz54ZNWpUvvnNb7ZbeGprazNo0KB8/OMfT0VFRUqlUl5++eUcf/zxZe9TQ0NDs/Ffdtll6d27d44//vhceuml7RaeUqmUqqqqJMnLL7/c9IRljz32yIUXXtjufgcMGJDx48dnxowZmTZtWu68884MHjw4w4cPz8EHH5wePXq0mX399dczceLENDQ05JxzzsnNN9+cysrKHHHEEWX3e//992fChAmprKzMcccdl2uuuSaXX355jjrqqFx77bW59tpr28x2xj/GdXlimrT+5PSb3/ymJ6fr0fe///3stddeufzyy7PNNtskef//20MPPZTrrrsul1122Vrd7ne/+91885vfbHP9kiVL8pvf/Cbz5s3L/vvvn8MPP7xp3a233pozzzyzzezkyZNzwAEHZNmyZbniiity+OGH55JLLskTTzyRKVOm5KKLLmoze8YZZ6R///7NltXW1ubiiy9ORUVFfvSjH7WZnT59evbbb7+m8f/kJz/JSy+9lB133DGnnXZa079fa372s5/l+OOPT+/evfPSSy/l+9//fioqKtLQ0JDzzjsvQ4YMaTN78cUXZ9iwYRk+fHjZM98t3XrrrTnppJOyePHiXHbZZTnttNNy2WWXZcaMGbn11ltz9dVXt5mtq6vL3Xffncceeyzz5s1Lly5dst122+Woo47KiBEj2t3vD3/4w2y11Vb59Kc/nX79+iVJ5s2bl//8z//MD3/4w3z9619vN9/yb3+lUqmUZ555pt3sLbfckmXLlmW33XbL7bffniFDhuS0005Lkjz++OPtPjmdPHly+vfvn+XLl2f8+PEZNGhQjj/++Dz11FOZMmVKvvrVr7aZ/fznP5+KioqmcSbvP9ldufwnP/lJm9kbbrih6bj2v/7X/8p7772X448/Po8//nimTJnS7gtp9913X4455pgkye23355/+qd/yrBhw/L8889nypQp+c53vtNmdubMmamoqMjtt9+eD3/4wzn88MNzwAEHdKg43HDDDRk+fHiWLFmSSy+9NCNGjMjo0aPz3HPP5cYbb8y4cePazN50003p379//vmf/zmPPvpoevTokT333DN33XVXXn/99fzjP/5jq7l1mVedcU4l5tXGmFdJ53wsLGezLjxtnZUolUpZsGBBu9nGxsamJr3tttvm8ssvz6RJk/L3v/+9bOGpqqpKZWVlunfvngEDBjS91atbt25Nf2htueaaa3Lvvffmrrvuyqmnnppddtkl3bp1a/cBfNX7tWjRopRKpZRKpaazLNXV1U1lpi077rhj01mvnXfeOS+99FJ23XXXvPXWW2X/qCoqKlJZWZl99903++67b+rr6zN9+vT813/9V+64447cdttt7Y65vr4+dXV1WbZsWZYsWZJevXplxYoVzQpcWxoaGlJZWZkVK1Zk6dKlSZL+/fuXzXbGP8Z1eWKaeHK6MZ6czpkzJ5deemmzZdtss01OOOGEPPjgg+2O9+WXX25z3auvvtpu9oYbbsj222+fgw8+OA8++GAeffTRnH/++enatWtmzpzZbnbBggVND1x/+MMfml4Y+cd//Mc88MAD7WY/+9nPZsaMGTn11FObXqE899xzM3ny5HZzSfK///f/bppT//N//s/07ds3F198cR577LHccsst7c7np59+Op/97GeTJD/96U8zZsyY7Lbbbnnrrbdy/fXXZ/z48W1mFy1alMWLF+eKK67INttsk+HDh+ewww5LTU1N2TE3NDRk//33T/L+vD7kkEOSJB/+8Idzxx13tJu9/vrrM2zYsFx66aX505/+lLq6ugwfPjy/+tWv8tZbb+Vf/uVf2sy+8sorq70C3a9fv3zwgx/M+eefX3bcZ5xxRj7wgQ80e+xa+YJaucfCWbNmZeLEiUmSY445JrfeemsmTpyY888/v+xj4dtvv50LLrggpVIpZ599di677LJUVFRkzz33LPuC1ogRI7JkyZJ87nOfazq+dHRurTquGTNm5JprrkmXLl06tN9VHzsWLlzY9Hbyvfbaq+kxpi19+vTJN77xjSxdujRPPPFE7r///tx888058MADM3z48Oy7775tZpcuXZqjjz46yft/hytf5DzyyCPz+9//vt39vvzyy/nKV76S5P0XKS+99NKcfPLJ2XPPPXPRRRe1+cR0XeZVZ5xTiXm1MeZV0jkfC8vZrAvPggULcumll672an2pVCr7hHabbbbJq6++ml122SXJ+6Vh7NixufHGG/P666+3m+3SpUuWLVuW7t27N3vgXbJkSdnPpKw8W3HooYfmJz/5Sfr06dOhJ/4rb3/s2LEplUqpqKjI/Pnzs80226Surq7sQeScc87J7bffnrvuuitbb711vvWtb6Vfv37p169fu6emk6x22126dMnQoUMzdOjQLF++vN3sxz72sYwZMyaNjY35zGc+k+uuuy7bbrttZs6cmcMOO6zd7Mc//vFccskl2X333fOXv/wln/zkJ5O8fzApd7aiM/4xrssT08ST043x5PQDH/hA7r777nz0ox9drUi3LJstXXLJJW2Wv8WLF7ebnT17dtMLPMOGDctdd92VK6+8smwJTpr//X70ox9ttq6xsbHd7KhRozJ8+PD85Cc/Sb9+/XLSSSeVfVGnNS+99FImTJiQJDnuuOPyn//5n+1u39DQkIaGhlRVVWX58uXZbbfdkiQDBw7MihUr2s326tUrn//85/P5z38+f/nLX/LII4/k4osvzg477JDhw4dn5MiRbWa7du2aZ599NkuWLElFRUUef/zxDBs2LC+88ELZY/vf//73prJ83HHH5ZJLLsno0aPzla98JRdccEG7hadXr17505/+lIMPPrhpP42NjXn00Uc7dDZ6wIAB+fa3v93qHPzyl7/cbra+vr7p56qqqnzpS1/KL37xi1x55ZWpq6sru+/k/SfC+++/f9PcqKioKDtPvvjFL+bll1/OD37wgxx00EE55phjOjy3lixZkscee6zpBbWVL9p1ZL+HHHJIJk+enNGjR+eggw7K7373u6a3WZf7G1552z169MhHPvKRfOQjH8miRYsybdq0/OY3v2n3iWlFRUXeeuutLFmyJMuXL2960fGdd94p+3dYVVWVd955J9ttt11efvnlpvtb7rOs6zKvOuOcStZ9Xj3++ONpbGw0r8rojI+F5WzWheeAAw5IXV1dU2lZVbkzJuedd95qZ0Wqqqpy3nnntfuAmCRXXHFF04RY9UGwvr4+5557bofG3q9fv1xwwQV5+umn231L2KraeuJaUVFR9tWHnj175txzz83SpUsze/bsNDY2pqampt1X7lcaM2ZMm+u6devWbva4445rKjY1NTX56Ec/mhkzZmTkyJFNT2Lacuyxx+bDH/5w3nzzzRx33HEZNGhQkqR379654oor2s12xj/GdXlimnhyujGenI4ZMya/+c1vcvnllze9yrnNNtvkwAMPLPu2ox122CFnn312qxc26cgTiMbGxqb7deKJJ6ampibjxo0r+wRi6NChqaurS3V1dT7zmc80LX/nnXcycODAdrPJ/ztWPfnkk7nqqquybNmyspnk/QL/29/+NqVSKUuXLm16oSZZ/UWUlj7xiU/kmmuuyQknnJB99903P/7xjzNs2LD8+c9/bvV435Y999wze+65Z774xS/mueeey7Rp09qdU2eddVZ+9rOfpaKiIpdeemnuu+++3HDDDampqSn7wlD37t3z17/+NXvssUeefPLJphdlKisry97f888/Pz/72c9y2223NT0RXbx4cfbaa692j78rHXvssVm0aFGrx7ZRo0a1mx08eHCzM7xJ8ulPfzo1NTW59dZb283uuuuuTXNr5SvFyftzqyOfRRg8eHAuu+yy/P73v8/ll19e9nix0pAhQ/LUU08lSXbfffemF//mz59f9q20p5xySh566KH84Ac/yOzZs7NixYpMnTo1Bx10UL72ta+1m23tPvXq1StHH31006vsbfnc5z6X733ve6msrMyFF16YX//613n99dezZMmSsnPr1FNPzRVXXJFu3bqlvr6+aU4sXLgwBx54YJu5lfPq1ltvTa9evVIqlbJkyZIOzavOOqdW7n9t5tWee+6ZJ598MsnazasHH3xws5pXZ599drvZlfOqa9euaWhoaDrrV25eJZ3zsbCsEnRC7733XumOO+4onX/++aXTTz+9dPrpp5fGjBlTuuOOO0rvvfdeu9kLLrig9NZbb7W67pxzzmk3O2bMmFJDQ0OzZQ8++GDp61//eunLX/5yu9n/83/+T2np0qWrLX/77bdLEydObDfb0hNPPFH65je/WTrzzDM7tP2XvvSl0r//+7+X7rnnntK5555bamxsbFr3jW98o93svffeW/rOd75TmjFjRunnP/956fbbby89//zzpZ///Oel66+/vt3sRRddtNqyhoaG0jPPPFOaPHlyu9lXXnmldNVVV5Wuvvrq0htvvFH6t3/7t9Jpp51W+vrXv17661//2m720ksvLf3lL38plUrv/1tdddVVTeu+9rWvtZt94403Ss8+++xq/6+eeeaZdnN/+tOfSm+++War6x577LF2s3fccUfp2WefXW35M888U/rqV7/abrZUen/Mzz333BqPuWV22bJlpddee61D2TvvvLPZfwsWLPj/27t7n6baMI7j9zObMJmYkMCmg0MTB/4AJxN2HDUmaiImmjRUOjAwKSwKkhgXXcBFBkNNQd6cHAiGyNAiUJNGJIEa09omhorA9QxPOClQzjn0eurdc/h+EoKU/rhfiqXXOe1VEREpFAoyNDTkOW4qlZLHjx9LLBaTaDQqDx8+lOnpafnz549r7smTJ54/2823b99q2qtsNivxeFyuX78uPT09zm1dLBYlmUx6jru6uiqZTEZKpZJ8/vxZxsbGZGFhwfe8M5mMZDIZZw1v3771na9HtvI+xE92aWlJRkdHfY+7v1/aOa+trUkikfgre1U557W1tRPdxisrKzWPKyJSKpWkWCzK4OCg78xhfv7f1jPr53fqsHw+Lzdu3FCPXQuvv3/1GvfRo0dHHoccZ29vz7lv1oy7tLQkiURCFhcXPa9r82+hm8B2aQOO49XBb25uzrS2tlY9+r1/FuE4IyMjJhKJmEgkcuDyxcVF8/LlS/P06dO6zLma7e1ts7m5aVpbWz3zo6OjB76+cuWKaWpqMj9//jQjIyOuL9Y0xph0Om2mpqbMxsaG2d3dNWfPnjVtbW3m8uXLrq8vGxgY8HUE+6S81vv161fz/Plzs7GxYVpaWsydO3dMc3OzKZVK5sOHD6a9vb1qTtPd0Zj/WuHn83lz/vz5A0f1Dh8NPUn206dPzlP7qpmYmDDv3r2rac6NuN56ZsfHx83U1JRpbm6uab3r6+smn8+bCxcunGjcw50/v3z5Yi5evOir82e1/Ek6hzZK9iRrbpRso6+32u9rKpXy1RVW01HWVrZa3pja12wrq9mvvzXnyq7Bs7OzZnJy0rS1tfnqGnzY8vKy0w3P7el7/3f2CFW5BDQgr7M0bt6/f28lq5mzNm9rzbb2y23caDTqHPnP5XLS3d3tHL2PxWKuPzeZTMq9e/ekv79fOjs7ZX5+3vletTNdlcbHx2vOauasyWrmHMS9SiaTcv/+/ZrH3d3dlXK5LNeuXZNfv36JiMjv3789z7Bq82TDm33w4IEMDg5KKpWSdDotqVRKbt26Jel0WtLptOuYsVgscFmbaz5te115fxiPx52zRFtbWxKNRl2z8Xjc+ff09LR0dXXJ69evpaenR968eVO3rJeGfg0PcBxNBz83Xu3ONVntnIO4Zk3Wxno13R01rfBnZmZqzmrmrMlq5hzEvZqdnTV9fX01javp/KnNkw1vVtMVtq+vL3BZm2s+bXstiq7BmrdY0WS9UPAgkDQd/DQPpDVZzZy1eVtrtrVftY6r6e5oq/DQzDmI67W1V5pxNZ0/tXmy4c1qusIGMRvUeQcxq+karCmWNFlPqvNDgCXPnj1zXpR+2MDAgGv25s2bks1m5fv37wc+crmc3L59u25ZzZy1eVtrtrVftY7748cPKRQKVb933Fz29fb2SjabPXDZzs6ODA0NydWrV+uW1cw5iOu1tVeacbe3t6teXiwWnSYR9cqTDXe20sLCgrx69cr39YOetTn2acvuK5fLksvlXK/T2dkpd+/edT7v3+dubW1JV1dX3bJeKHhw6mgeSGuLFltsrdnWftkY11bhYYut9draqyDeRgDQKPwUS/XI7qNLGwAAAIDQ8n7yMAAAAAAEFAUPAAAAgNCi4AEAAAAQWrSlBgA0pI8fP5pEInHk8kuXLrm+cz0AAJUoeAAADalQKJiOjg4TiUScy8rlsnnx4oXFWQEAgoantAEAAAAILQoeAAAAAKFFwQMAAAAgtCh4AAAAAIQWBQ8AAACA0KLgAQAAABBaFDwAAAAAQouCBwAAAEBo8cajAICGNTw8bM6cOeN8vbe3Z86dO2dxRgCAoPlHRMT2JAAAAACgHnhKGwAAAIDQouABAAAAEFoUPAAAAABCi4IHAAAAQGhR8AAAAAAILQoeAAAAAKH1L47YLZlpCoBNAAAAAElFTkSuQmCC\n",
      "text/plain": [
       "<Figure size 1008x720 with 1 Axes>"
      ]
     },
     "metadata": {},
     "output_type": "display_data"
    }
   ],
   "source": [
    "week_group = data['train']['2019'].groupby('주').mean()\n",
    "week_group['취급액'].plot(kind='bar', figsize=(14, 10))\n",
    "plt.axhline(y = np.mean(week_group.취급액), color = 'red', ls = '--')\n",
    "plt.ylim(week_group['취급액'].min()*0.9, week_group['취급액'].max()*1.1)\n",
    "plt.show()"
   ]
  },
  {
   "cell_type": "markdown",
   "metadata": {},
   "source": [
    "#### 일별\n",
    "+ 월급이 들어오는 날(25일) 이후로 소비가 많아지는 것을 확인할 수 있음\n",
    "+ 총 거래량에서 31일이 적은 이유는, 31일이 포함된 달이 6달밖에 없기 때문"
   ]
  },
  {
   "cell_type": "code",
   "execution_count": 80,
   "metadata": {
    "ExecuteTime": {
     "end_time": "2020-09-25T10:17:28.544778Z",
     "start_time": "2020-09-25T10:17:28.040931Z"
    }
   },
   "outputs": [
    {
     "data": {
      "image/png": "iVBORw0KGgoAAAANSUhEUgAAAzwAAAJdCAYAAAD3KXKlAAAABHNCSVQICAgIfAhkiAAAAAlwSFlzAAALEgAACxIB0t1+/AAAADl0RVh0U29mdHdhcmUAbWF0cGxvdGxpYiB2ZXJzaW9uIDMuMC4zLCBodHRwOi8vbWF0cGxvdGxpYi5vcmcvnQurowAAIABJREFUeJzs3Xt4XXWBLv43TdqGNvSSxBZaqFgql+KUCoUCxbFAuMhTkR8iqCMjijoMMGPlGaQVsXgBK6WoaFG5jHrUcx6RwctxnEdORQYHREAoVDuDlJsjCLUNbemNNpffH9gMISlJ092Qfv18/krW+u71rpWs7L3evdZeqWpvb28PAABAgQa92isAAACwsyg8AABAsRQeAACgWAoPAABQLIUHAAAolsIDAAAUq+bVXoFtufbaa3P//fdn5MiRWbhw4SuOXbZsWb75zW/mySefzOzZs3PEEUd0zLv99ttzyy23JElOO+20zJw5c2euNgAAMIAM2DM8M2fOzMc+9rFejW1sbMx5552Xo48+utP0devW5eabb84VV1yRK664IjfffHPWrVu3M1YXAAAYgAbsGZ7JkydnxYoVnaY988wzufHGG7N27doMHTo0f/d3f5fx48dnzJgxSZKqqqpO45csWZIpU6akrq4uSTJlypQsWbKkSzECAADKNGALT3euu+66fPCDH8yee+6ZRx55JDfccEPmzZu3zfHNzc1paGjo+L6+vj7Nzc39saoAAMAAsMsUnk2bNuXhhx/O1Vdf3TGtpaVlu5fz8rNAAABAuXaZwtPW1pbhw4dnwYIFvX5MfX19li1b1vF9c3NzJk+evDNWDwAAGIAG7E0LXm7YsGEZM2ZMfvnLXyZJ2tvb88QTT7ziY6ZOnZoHH3ww69aty7p16/Lggw9m6tSp/bC2AADAQFDV3t7e/mqvRHe+8IUvZNmyZXn++eczcuTInHHGGXnDG96Q66+/PqtXr05LS0tmzJiR008/PcuXL89VV12V9evXZ/DgwRk1alTHpW+33XZbvv/97yd58bbUxxxzzKu5WQAAQD8asIUHAABgR+0yl7QBAABsL4UHAAAo1oC9S9vTTz/d67GNjY1ZuXLlTlyb/snorxwZAyujv3JkDKyM/sqRMbAy+itHxsDK6K8cGQMro79y/pIzxo0b16txzvAAAADFUngAAIBiKTwAAECxFB4AAKBYCg8AAFAshQcAACiWwgMAABRL4QEAAIql8AAAAMVSeAAAgGIpPAAAQLEUHgAAoFgKDwAAUCyFBwAAKJbCAwAAFEvhAQAAiqXwAAAAxarpacDmzZszb968tLS0pLW1NUcccUTOOOOMTmNuv/32fOtb30p9fX2S5KSTTspxxx3XMe+WW25Jkpx22mmZOXNmhTcBAACgez0WnsGDB2fevHmpra1NS0tLPvGJT2Tq1KnZb7/9Oo076qijcs4553Satm7dutx8882ZP39+kmTOnDmZNm1a6urqKrgJAAAA3evxkraqqqrU1tYmSVpbW9Pa2pqqqqpeLXzJkiWZMmVK6urqUldXlylTpmTJkiU7tsYAAAC9VNXe3t7e06C2trZcfPHFeeaZZ3LiiSfmPe95T6f5t99+e/73//7fGTFiRPbcc8+8973vTWNjY370ox9ly5Ytefvb354kufnmmzNkyJCccsopXTIWL16cxYsXJ0nmz5+fzZs393ojampq0tLS0uvxfdEfGf2VI2NgZfRXjoyBldFfOTIGVkZ/5cgYWBn9lSNjYGX0V85fcsaQIUN6t+zeDBo0aFAWLFiQ9evX56qrrsrvf//7TJgwoWP+oYcemhkzZmTw4MG59dZbs2jRosybN6/bZW3r7FBTU1Oampo6vl+5cmWvNiBJGhsbt2t8X/RHRn/lyBhYGf2VI2NgZfRXjoyBldFfOTIGVkZ/5cgYWBn9lfOXnDFu3Lhejduuu7QNHz48kydP7nJZ2u67757BgwcnebG4PPbYY0mS+vr6rFq1qmNcc3NzRo8evT2RAAAAfdZj4Vm7dm3Wr1+f5MU7ti1dujTjx4/vNOa5557r+Pq+++7LXnvtlSSZOnVqHnzwwaxbty7r1q3Lgw8+mKlTp1Zy/QEAALapx0vannvuuSxatChtbW1pb2/PkUcemUMPPTTf/e53s++++2batGn5t3/7t9x3332prq5OXV1dzjvvvCRJXV1d3v72t2fu3LlJktNPP90d2gAAgH7TY+F57WtfmyuvvLLL9DPPPLPj63e/+91597vf3e3jjz322Bx77LE7sIoAAAB9s12f4QEAANiVKDwAAECxFB4AAKBYCg8AAFAshQcAACiWwgMAABRL4QEAAIql8AAAAMVSeAAAgGIpPAAAQLEUHgAAoFgKDwAAUCyFBwAAKJbCAwAAFEvhAQAAiqXwAAAAxVJ4AACAYik8AABAsRQeAACgWAoPAABQLIUHAAAolsIDAAAUS+EBAACKpfAAAADFUngAAIBiKTwAAECxFB4AAKBYCg8AAFAshQcAACiWwgMAABRL4QEAAIql8AAAAMVSeAAAgGIpPAAAQLEUHgAAoFgKDwAAUCyFBwAAKJbCAwAAFEvhAQAAiqXwAAAAxVJ4AACAYik8AABAsRQeAACgWAoPAABQLIUHAAAolsIDAAAUS+EBAACKpfAAAADFUngAAIBiKTwAAECxFB4AAKBYCg8AAFAshQcAACiWwgMAABRL4QEAAIql8AAAAMWq6WnA5s2bM2/evLS0tKS1tTVHHHFEzjjjjE5jfvzjH+dnP/tZqqurM2LEiPz93/99XvOa1yRJzjzzzEyYMCFJ0tjYmIsvvngnbAYAAEBXPRaewYMHZ968eamtrU1LS0s+8YlPZOrUqdlvv/06xuyzzz6ZP39+hg4dmltvvTXf/va385GPfCRJMmTIkCxYsGDnbQFUQOsHT+l2+rOv8Jjq63+0c1YGAICK6fGStqqqqtTW1iZJWltb09ramqqqqk5j3vCGN2To0KFJkte//vVpbm7eCasKAACwfara29vbexrU1taWiy++OM8880xOPPHEvOc979nm2BtvvDGjRo3K29/+9iTJO9/5zuyzzz6prq7O2972thx++OHdPm7x4sVZvHhxkmT+/PnZvHlzrzeipqYmLS0tvR7fF/2R0V85Mrp69v87arsfM/b7d1UkO9n1fl4ydp0cGQMro79yZAysjP7KkTGwMvor5y85Y8iQIb0a16vCs9X69etz1VVX5X3ve1/H53Je6o477shPf/rTXHbZZRk8eHCSpLm5OfX19Xn22WfzqU99Kpdeemn22GOPHrOefvrp3q5WGhsbs3Llyl6P74v+yOivHBldbeuStldSyUvadrWfl4xdJ0fGwMrorxwZAyujv3JkDKyM/sr5S84YN25cr8Zt113ahg8fnsmTJ2fJkiVd5j300EP5/ve/n49+9KMdZSdJ6uvrkyRjx47N5MmT88QTT2xPJAAAQJ/1WHjWrl2b9evXJ3nxjm1Lly7N+PHjO415/PHHc/311+ejH/1oRo4c2TF93bp12bJlS8dyHn744ey1116VXH8AAIBt6vEubc8991wWLVqUtra2tLe358gjj8yhhx6a7373u9l3330zbdq0fPvb386mTZty9dVXJ/mf208/9dRTue666zJo0KC0tbXl1FNPVXgAAIB+02Phee1rX5srr7yyy/Qzzzyz4+tLL72028fuv//+Wbhw4Q6sHgAAQN9t12d4AAAAdiUKDwAAUCyFBwAAKFaPn+GBV9u2/kfOs9sYX8n/jwMAwK7NGR4AAKBYCg8AAFAshQcAACiWwgMAABRL4QEAAIql8AAAAMVSeAAAgGIpPAAAQLEUHgAAoFgKDwAAUCyFBwAAKJbCAwAAFEvhAQAAiqXwAAAAxVJ4AACAYik8AABAsRQeAACgWAoPAABQLIUHAAAolsIDAAAUS+EBAACKpfAAAADFUngAAIBiKTwAAECxFB4AAKBYCg8AAFAshQcAACiWwgMAABRL4QEAAIql8AAAAMVSeAAAgGIpPAAAQLEUHgAAoFgKDwAAUCyFBwAAKJbCAwAAFEvhAQAAiqXwAAAAxVJ4AACAYik8AABAsRQeAACgWAoPAABQLIUHAAAolsIDAAAUS+EBAACKpfAAAADFqnm1VwCAXUPrB0/pdvqz2xhfff2Pdt7KAEAvOcMDAAAUS+EBAACKpfAAAADFUngAAIBiKTwAAECxerxL2+bNmzNv3ry0tLSktbU1RxxxRM4444xOY7Zs2ZIvf/nLeeyxx7L77rtn9uzZGTNmTJLk+9//fm677bYMGjQo73vf+zJ16tSdsyUAAAAv02PhGTx4cObNm5fa2tq0tLTkE5/4RKZOnZr99tuvY8xtt92W4cOH50tf+lLuvPPOfOc738lHPvKR/OEPf8hdd92Vq6++Os8991w+/elP54tf/GIGDerbiSW3RAUAALZHj4WnqqoqtbW1SZLW1ta0tramqqqq05j77rsv73jHO5IkRxxxRP75n/857e3tuffee3PUUUdl8ODBGTNmTPbYY48sX768U1kCAIBd1bbekE+8KT9Q9Oofj7a1teXiiy/OM888kxNPPDGvf/3rO81vbm5OQ0NDkqS6ujrDhg3L888/n+bm5k5j6+vr09zcXMHVBwAA2LZeFZ5BgwZlwYIFWb9+fa666qr8/ve/z4QJEzrmt7e3d3lMVVVVt9O3ZfHixVm8eHGSZP78+WlsbOwyZlsteVu6W0Zf1dTUVHR5r2bOrpbRH7/37c3oa8627Gq/Exm7Ts6u9re4Lbvaz+rVzpExsDL6K0fGq5PhGGLgZ/Sq8Gw1fPjwTJ48OUuWLOlUeBoaGrJq1ao0NDSktbU1GzZsSF1dXcf0rZqbm1NfX9/tspuamtLU1NTx/cqVK7d3W7qoxDK2amxsrOjyXs2cUjK2pb9yd7X9S8bAyuivnFL+Fkv6WZWyLTIGXo6MgZXxSjw/ViZj3LhxvRrX490D1q5dm/Xr1yd58Y5tS5cuzfjx4zuNOfTQQ3P77bcnSe6+++4cdNBBqaqqyrRp03LXXXdly5YtWbFiRf74xz9m0qRJ27UhAAAAfdXjGZ7nnnsuixYtSltbW9rb23PkkUfm0EMPzXe/+93su+++mTZtWo499th8+ctfzj/8wz+krq4us2fPTpLsvffeOfLII3PhhRdm0KBBOeecc/p8hzYAoEzuwgrsTD0Wnte+9rW58soru0w/88wzO74eMmRILrzwwm4ff9ppp+W0007bgVUEAADoG6dbAACAYik8AABAsRQeAACgWAoPAABQrO36PzzAwLatOx0l7nYEAPxlcoYHAAAoljM8AAwY/h8LAJXmDA8AAFAshQcAACiWwgMAABRL4QEAAIrlpgUAALsI/34Atp8zPAAAQLGc4QGAXZB3+gF6xxkeAACgWAoPAABQLIUHAAAols/wvApcdw0AAP3DGR4AAKBYzvAAANDJtq5GcSUKuyJneAAAgGIpPAAAQLEUHgAAoFg+wwOwi3PnRwDYNmd4AACAYjnDA8BflO29+1TijBjsqvy9kzjDAwAAFEzhAQAAiuWSNoCdyA0FAODVpfBAP3HgCwDQ/xSel/HhNgAAKMeALTwNp5/e6fuNs2bl+SRVrW1pvPeRLuPX79WQDXs1ZtDmljTc/2iSpOoly1h/1lnZ9La3ZdBTT2X0hz/c5fHrPvShvHDCCalZtymjf/Nkl/lrJ+2ZFxpHZPDaDRm17L87zas6/fSsvfjibDnssAy+996M+Nznujx+zWWXpeUNb8iQO+5I3d0Pd5n/3Btem5a62tQ+uzq7P961Xq1+6qm0jR+f2h/+MMO/9a2uj7/uurTV12e37343w773vS7zm7/1rbTvtluGfeMbqfnpT9OwZUun+atuvjlJMvyrX03t4sWd5rXX1qb5299OktR9/vMZeuednea3jR6d566/Pkmy+2c/myG//nVqBg/uyGjdc8+s/tKXkiQjPvGJDF62rNPjWyZOzJorr0ySjPzoR1Pz2GOd5m/+439n9eS9kyT1Sx5P9abNneePqsuaA8YnSRp+/WiqX7bvvDBjRtZ95CMvPv4970nVpk2d5m9qasraP3/9mm5+Nxv3HJ11rx3TZd/bun9teMc7svHMMzOouTmjP/ShLo/fuu9Vb9yc+gcf7zL/+deNzaaxo7rd96pOPz3P/+M/ZvNf/3VqfvObjLzssi6Pf+m+V9/N+q+evHe2jBiWoSvXZsTyP3aZv2b58rROmpSht96auuuu6zL/uS9+sdf7Xs0PftBl33rpvrfbj3/c5fHbu++9dN/qbt97qb7ue1sztkyenLWf+lSSZNQ//EOq/9j557f50EPz/Ny5SZLRH/xgBj33XKf5L8yYkTV//rrx3kdS1drWaf6mMSPz/MQ9knTe97buWxtnzcqGs89O1caNqT/rrC4/u4597yXPey+1bsJrsnFcfbf7XtXpp3c871UvX55Rc+Z0efzL9732hzvvX2v2H5/No+sy5Ll1GfnwU10ev/Y3v+l43tv9mmu6zF89f36Xfe+lGc0Hvy6tuw3Jbk83p+73f+ry+FWH7JskvXree+m+tzXjT0fsnyTZ/bFnUrtiTafHtlcPysrDXp8kGfHIH1P7sueVHdn3agYPzsi9937F573e7Hur//x1w68fzaAtLZ3mv9AwImtfv2eSzvve1n1rU1NT1p977ouPf9m2Jb3b93L++T0+7/X0mrt133v5vvVKr7lJ8vy99/b6Nbenfa/m61/v8ry1Pc97vd33XvrctSOvua2PPZpVh76474/8r6cyZPW6zvNrh6R56uuSJKOW/XcGr93Q6Xiop9fcl+57vXnN3brvbc3ozWtuT/te/umfen7e6+W+9/J965Vec5MX972WpFevuVv3vZdm9PSau/V4rxKvuVv3vZfuW5V+zd2qZvDgjK6r2ymvuVtVH3po8ufX1F6/5t51V5dt7M6ALTwAwKuv/eGlXaa1fePpPLv4Oxm0uSXtD3cu21X7/1V/rRpAr1S1t7e3v9or0Z2nn366y7RX+gxEd/pyqdn2ZvQlpz8yXkljY2NWrlxZseXt7Ay/94GV8Up2tX2rPzJK+r0PxL/Fgfr3/koqtX/5vVdGfzynVDKnpN/7tngO3j672utiJTPGjRvXq3FuSw0AABRL4QEAAIql8AAAAMVy04JC+Z8vAADgDA8AAFAwZ3jYIdv7j1qdRQKgVK6u2D6OIegvzvAAAADFUngAAIBiuaQN+Iu1vZdTJC6pAIBdjTM8AABAsRQeAACgWC5pAwYkd+8BACpB4QG2mzICAOwqFB4AoHhuUgJ/uXyGBwAAKJbCAwAAFEvhAQAAiqXwAAAAxXLTAgAAGMC2ddONxB1Se8MZHgAAoFgKDwAAUCyFBwAAKFaPn+FZuXJlFi1alNWrV6eqqipNTU05+eSTO4350Y9+lF/84hdJkra2tvzhD3/IjTfemLq6upx//vmpra3NoEGDUl1dnfnz5++cLQEAAHiZHgtPdXV1zjrrrEycODEbN27MnDlzMmXKlOy1114dY0455ZSccsqLH6a677778q//+q+pq6vrmD9v3ryMGDFiJ6w+AADAtvV4Sdvo0aMzceLEJMluu+2W8ePHp7m5eZvj77zzzsyYMaNyawgAANBH23Vb6hUrVuTxxx/PpEmTup3/wgsvZMmSJTnnnHM6Tb/88suTJMcff3yampr6uKoAAADbp9eFZ9OmTVm4cGHOPvvsDBs2rNsxv/71r7P//vt3upzt05/+dOrr67NmzZp85jOfybhx4zJ58uQuj128eHEWL16cJJk/f34aGxu7jNnWfca3pbtl9GR7M/qSU0pGX3JKyehLTikZfckpJaMvOaVk9CWnlIy+5mxLTU1NRZbn975zM/qSU0pGX3JKyehLTikZr6RSz1uvVkavCk9LS0sWLlyYN73pTZk+ffo2x9155505+uijO02rr69PkowcOTKHHXZYli9f3m3haWpq6nT2Z+XKlb3agFdSiWUMlBwZAyujv3JkDKyM/sqRMbAyKp3T2NjYb+v9cqX8TnbF37uMXSOjv3J2tYz+eN7qS8a4ceN6Na7Hz/C0t7fnq1/9asaPH59Zs2Ztc9yGDRuybNmyTJs2rWPapk2bsnHjxo6vH3rooUyYMKFXKwYAALCjejzD8/DDD+eOO+7IhAkTctFFFyVJ3vWud3U0sBNOOCFJcs899+Tggw9ObW1tx2PXrFmTq666KknS2tqao48+OlOnTq34RgAAAHSnx8JzwAEH5KabbupxQTNnzszMmTM7TRs7dmwWLFjQ55UDAADYET1e0gYAALCr2q7bUgMAPWv94CnbnLetuy1VX/+jnbMyAH/hnOEBAACKpfAAAADFUngAAIBiKTwAAECxFB4AAKBYCg8AAFAshQcAACiWwgMAABRL4QEAAIql8AAAAMVSeAAAgGIpPAAAQLEUHgAAoFgKDwAAUCyFBwAAKJbCAwAAFEvhAQAAiqXwAAAAxVJ4AACAYik8AABAsRQeAACgWAoPAABQLIUHAAAolsIDAAAUS+EBAACKpfAAAADFUngAAIBiKTwAAECxFB4AAKBYCg8AAFAshQcAACiWwgMAABRL4QEAAIql8AAAAMVSeAAAgGLVvNorAAAAvPpaP3hKt9Of3cb46ut/tPNWpoKc4QEAAIql8AAAAMVSeAAAgGIpPAAAQLEUHgAAoFgKDwAAUCyFBwAAKJbCAwAAFEvhAQAAiqXwAAAAxVJ4AACAYik8AABAsRQeAACgWAoPAABQLIUHAAAolsIDAAAUS+EBAACKpfAAAADFqulpwMqVK7No0aKsXr06VVVVaWpqysknn9xpzG9/+9tceeWVGTNmTJJk+vTpOf3005MkS5Ysyde//vW0tbXluOOOy6mnnroTNgMAAKCrHgtPdXV1zjrrrEycODEbN27MnDlzMmXKlOy1116dxh144IGZM2dOp2ltbW258cYb8/GPfzwNDQ2ZO3dupk2b1uWxAAAAO0OPl7SNHj06EydOTJLstttuGT9+fJqbm3u18OXLl2ePPfbI2LFjU1NTk6OOOir33nvvjq0xAABAL23XZ3hWrFiRxx9/PJMmTeoy73e/+10uuuiiXHHFFfnv//7vJElzc3MaGho6xjQ0NPS6LAEAAOyoHi9p22rTpk1ZuHBhzj777AwbNqzTvNe97nW59tprU1tbm/vvvz8LFizINddck/b29i7Lqaqq6nb5ixcvzuLFi5Mk8+fPT2NjY5cxz/Z2Zf+su2X0ZHsz+pJTSkZfckrJ6EtOKRl9ySkloy85pWT0JaeUjL7klJLRl5xSMvqSU0pGX3JKyehLTikZfcnpS8a21NTUVHR5nZbdm0EtLS1ZuHBh3vSmN2X69Old5r+0AB1yyCG58cYbs3bt2jQ0NGTVqlUd81atWpXRo0d3m9HU1JSmpqaO71euXNnrjdiWSixjoOTIGFgZ/ZUjY2Bl9FeOjIGV0V85MgZWRn/lyBhYGf2VI6OrxsbG7V7euHHjejWux0va2tvb89WvfjXjx4/PrFmzuh2zevXqjrM5y5cvT1tbW3bffffsu++++eMf/5gVK1akpaUld911V6ZNm7YdmwEAANB3PZ7hefjhh3PHHXdkwoQJueiii5Ik73rXuzoa2AknnJC77747t956a6qrqzNkyJDMnj07VVVVqa6uzvvf//5cfvnlaWtryzHHHJO99957524RAADAn/VYeA444IDcdNNNrzjmpJNOykknndTtvEMOOSSHHHJI39YOAABgB2zXXdoAAAB2JQoPAABQLIUHAAAolsIDAAAUS+EBAACKpfAAAADFUngAAIBiKTwAAECxFB4AAKBYCg8AAFAshQcAACiWwgMAABRL4QEAAIql8AAAAMVSeAAAgGIpPAAAQLEUHgAAoFgKDwAAUCyFBwAAKJbCAwAAFEvhAQAAiqXwAAAAxVJ4AACAYik8AABAsRQeAACgWAoPAABQLIUHAAAolsIDAAAUS+EBAACKpfAAAADFUngAAIBiKTwAAECxFB4AAKBYCg8AAFAshQcAACiWwgMAABRL4QEAAIql8AAAAMVSeAAAgGIpPAAAQLEUHgAAoFgKDwAAUCyFBwAAKJbCAwAAFEvhAQAAiqXwAAAAxVJ4AACAYik8AABAsRQeAACgWAoPAABQLIUHAAAolsIDAAAUS+EBAACKpfAAAADFUngAAIBiKTwAAECxanoasHLlyixatCirV69OVVVVmpqacvLJJ3ca84tf/CI//OEPkyS1tbX5wAc+kH322SdJcv7556e2tjaDBg1KdXV15s+fX/mtAAAA6EaPhae6ujpnnXVWJk6cmI0bN2bOnDmZMmVK9tprr44xY8aMyWWXXZa6uro88MADue6663LFFVd0zJ83b15GjBixc7YAAABgG3osPKNHj87o0aOTJLvttlvGjx+f5ubmToVn//337/j69a9/fVatWrUTVhUAAGD79Fh4XmrFihV5/PHHM2nSpG2Oue222/LGN76x07TLL788SXL88cenqampD6sJAACw/XpdeDZt2pSFCxfm7LPPzrBhw7od85vf/CY///nP86lPfapj2qc//enU19dnzZo1+cxnPpNx48Zl8uTJXR67ePHiLF68OEkyf/78NDY2dhnzbG9X9s+6W0ZPtjejLzmlZPQlp5SMvuSUktGXnFIy+pJTSkZfckrJ6EtOKRl9ySkloy85pWT0JaeUjL7klJLRl5y+ZGxLTU1NRZfXadm9GdTS0pKFCxfmTW96U6ZPn97tmCeffDJf+9rXMnfu3Oy+++4d0+vr65MkI0eOzGGHHZbly5d3W3iampo6nf1ZuXLldm1IdyqxjIGSI2NgZfRXjoyBldFfOTIGVkZ/5cgYWBn9lSNjYGX0V46MrhobG7d7eePGjevVuB5vS93e3p6vfvWrGT9+fGbNmtXtmJUrV+aqq67KBRdc0Cl406ZN2bhxY8fXDz30UCZMmNCrFQMAANhRPZ7hefjhh3PHHXdkwoQJueiii5Ik73rXuzoa2AknnJCbb74569atyw033JAkHbefXrNmTa666qokSWtra44++uhMnTp1Z20LAABAJz1Swx1dAAAdCUlEQVQWngMOOCA33XTTK44599xzc+6553aZPnbs2CxYsKDvawcAALADerykDQAAYFel8AAAAMVSeAAAgGIpPAAAQLEUHgAAoFgKDwAAUCyFBwAAKJbCAwAAFEvhAQAAiqXwAAAAxVJ4AACAYik8AABAsRQeAACgWAoPAABQLIUHAAAolsIDAAAUS+EBAACKpfAAAADFUngAAIBiKTwAAECxFB4AAKBYCg8AAFAshQcAACiWwgMAABRL4QEAAIql8AAAAMVSeAAAgGIpPAAAQLEUHgAAoFgKDwAAUCyFBwAAKJbCAwAAFEvhAQAAiqXwAAAAxVJ4AACAYik8AABAsRQeAACgWAoPAABQLIUHAAAolsIDAAAUS+EBAACKpfAAAADFUngAAIBiKTwAAECxFB4AAKBYCg8AAFAshQcAACiWwgMAABRL4QEAAIql8AAAAMVSeAAAgGIpPAAAQLEUHgAAoFgKDwAAUCyFBwAAKJbCAwAAFKumpwErV67MokWLsnr16lRVVaWpqSknn3xypzHt7e35+te/ngceeCBDhw7Neeedl4kTJyZJbr/99txyyy1JktNOOy0zZ86s/FYAAAB0o8fCU11dnbPOOisTJ07Mxo0bM2fOnEyZMiV77bVXx5gHHnggzzzzTK655po88sgjueGGG3LFFVdk3bp1ufnmmzN//vwkyZw5czJt2rTU1dXtvC0CAAD4sx4vaRs9enTH2Zrddtst48ePT3Nzc6cx9913X/76r/86VVVV2W+//bJ+/fo899xzWbJkSaZMmZK6urrU1dVlypQpWbJkyc7ZEgAAgJfZrs/wrFixIo8//ngmTZrUaXpzc3MaGxs7vm9oaEhzc3Oam5vT0NDQMb2+vr5LWQIAANhZerykbatNmzZl4cKFOfvsszNs2LBO89rb27uMr6qq6nY525q+ePHiLF68OEkyf/78TgVqq2d7u7J/1t0yerK9GX3JKSWjLzmlZPQlp5SMvuSUktGXnFIy+pJTSkZfckrJ6EtOKRl9ySkloy85pWT0JaeUjL7k9CVjW2pqaiq6vE7L7s2glpaWLFy4MG9605syffr0LvMbGhqycuXKju9XrVqV0aNHp76+PsuWLeuY3tzcnMmTJ3eb0dTUlKampo7vX7q8vqrEMgZKjoyBldFfOTIGVkZ/5cgYWBn9lSNjYGX0V46MgZXRXzkyumpsbNzu5Y0bN65X43q8pK29vT1f/epXM378+MyaNavbMdOmTcsdd9yR9vb2/O53v8uwYcMyevToTJ06NQ8++GDWrVuXdevW5cEHH8zUqVO3a0MAAAD6qsczPA8//HDuuOOOTJgwIRdddFGS5F3veldHAzvhhBPyxje+Mffff3/+8R//MUOGDMl5552XJKmrq8vb3/72zJ07N0ly+umnu0MbAADQb3osPAcccEBuuummVxxTVVWVD3zgA93OO/bYY3Psscf2be0AAAB2wHbdpQ0AAGBXovAAAADFUngAAIBiKTwAAECxFB4AAKBYCg8AAFAshQcAACiWwgMAABRL4QEAAIql8AAAAMVSeAAAgGIpPAAAQLEUHgAAoFgKDwAAUCyFBwAAKJbCAwAAFEvhAQAAiqXwAAAAxVJ4AACAYik8AABAsRQeAACgWAoPAABQLIUHAAAolsIDAAAUS+EBAACKpfAAAADFUngAAIBiKTwAAECxFB4AAKBYCg8AAFAshQcAACiWwgMAABRL4QEAAIql8AAAAMVSeAAAgGIpPAAAQLEUHgAAoFgKDwAAUCyFBwAAKJbCAwAAFEvhAQAAiqXwAAAAxVJ4AACAYik8AABAsRQeAACgWAoPAABQLIUHAAAolsIDAAAUS+EBAACKpfAAAADFUngAAIBiKTwAAECxFB4AAKBYCg8AAFAshQcAACiWwgMAABRL4QEAAIpV09OAa6+9Nvfff39GjhyZhQsXdpn/ox/9KL/4xS+SJG1tbfnDH/6QG2+8MXV1dTn//PNTW1ubQYMGpbq6OvPnz6/8FgAAAGxDj4Vn5syZOemkk7Jo0aJu559yyik55ZRTkiT33Xdf/vVf/zV1dXUd8+fNm5cRI0ZUaHUBAAB6r8dL2iZPntypwLySO++8MzNmzNjhlQIAAKiEHs/w9NYLL7yQJUuW5Jxzzuk0/fLLL0+SHH/88Wlqatrm4xcvXpzFixcnSebPn5/GxsYuY57dznXqbhk92d6MvuSUktGXnFIy+pJTSkZfckrJ6EtOKRl9ySkloy85pWT0JaeUjL7klJLRl5xSMvqSU0pGX3L6krEtNTU1FV1ep2VXakG//vWvs//++3c6G/TpT3869fX1WbNmTT7zmc9k3LhxmTx5crePb2pq6lSIVq5cucPrVIllDJQcGQMro79yZAysjP7KkTGwMvorR8bAyuivHBkDK6O/cmR01djYuN3LGzduXK/GVewubXfeeWeOPvroTtPq6+uTJCNHjsxhhx2W5cuXVyoOAACgRxUpPBs2bMiyZcsybdq0jmmbNm3Kxo0bO75+6KGHMmHChErEAQAA9EqPl7R94QtfyLJly/L888/n3HPPzRlnnJGWlpYkyQknnJAkueeee3LwwQentra243Fr1qzJVVddlSRpbW3N0UcfnalTp+6MbQAAAOhWj4Vn9uzZPS5k5syZmTlzZqdpY8eOzYIFC/q8YgAAADuqYp/hAQAAGGgUHgAAoFgKDwAAUCyFBwAAKJbCAwAAFEvhAQAAiqXwAAAAxVJ4AACAYik8AABAsRQeAACgWAoPAABQLIUHAAAolsIDAAAUS+EBAACKpfAAAADFUngAAIBiKTwAAECxal7tFQAAAP4ytH7wlG6nP7uN8dXX/2iHM53hAQAAiqXwAAAAxVJ4AACAYik8AABAsRQeAACgWAoPAABQLIUHAAAolsIDAAAUS+EBAACKpfAAAADFUngAAIBiKTwAAECxFB4AAKBYCg8AAFAshQcAACiWwgMAABRL4QEAAIql8AAAAMVSeAAAgGIpPAAAQLEUHgAAoFgKDwAAUCyFBwAAKJbCAwAAFEvhAQAAiqXwAAAAxVJ4AACAYik8AABAsRQeAACgWAoPAABQLIUHAAAolsIDAAAUS+EBAACKpfAAAADFUngAAIBiKTwAAECxFB4AAKBYCg8AAFCsmp4GXHvttbn//vszcuTILFy4sMv83/72t7nyyiszZsyYJMn06dNz+umnJ0mWLFmSr3/962lra8txxx2XU089tcKrDwAAsG09Fp6ZM2fmpJNOyqJFi7Y55sADD8ycOXM6TWtra8uNN96Yj3/842loaMjcuXMzbdq07LXXXju+1gAAAL3Q4yVtkydPTl1d3XYvePny5dljjz0yduzY1NTU5Kijjsq9997bp5UEAADoix7P8PTG7373u1x00UUZPXp0zjrrrOy9995pbm5OQ0NDx5iGhoY88sgj21zG4sWLs3jx4iTJ/Pnz09jY2GXMs9u5Xt0toyfbm9GXnFIy+pJTSkZfckrJ6EtOKRl9ySkloy85pWT0JaeUjL7klJLRl5xSMvqSU0pGX3JKyehLzkDNeLmq9vb29p4GrVixIp/73Oe6/QzPhg0bMmjQoNTW1ub+++/PN77xjVxzzTX55S9/mQcffDDnnntukuSOO+7I8uXL8/73v3+HVxoAAKA3dvgubcOGDUttbW2S5JBDDklra2vWrl2bhoaGrFq1qmPcqlWrMnr06B2N69bLPz+0q2b0V46MgZXRXzkyBlZGf+XIGFgZ/ZUjY2Bl9FeOjIGV0V85Mnq2w4Vn9erV2XqSaPny5Wlra8vuu++efffdN3/84x+zYsWKtLS05K677sq0adN2eIUBAAB6q8fP8HzhC1/IsmXL8vzzz+fcc8/NGWeckZaWliTJCSeckLvvvju33nprqqurM2TIkMyePTtVVVWprq7O+9///lx++eVpa2vLMccck7333nunbxAAAMBW1ZdddtllrzTgiCOOyFvf+tacfvrpmTVrVl73utdl3333zb777pskmTRpUk488cSccMIJOe644zp9sGjPPffMW97ylpx88sk58MADd+qGTJw4cacuv78y+itHxsDK6K8cGQMro79yZAysjP7KkTGwMvorR8bAyuivHBmvrFc3LQAAANgV7fBneAAAAAYqhQcAACiWwgMAABSrx5sW/KV66qmn8uSTT2bkyJGpqfmfm9ktWbIke+yxR0Uyli9fnubm5tTX1+cPf/hD7rjjjqxbty577rlnRZbfnS9/+cs5/PDDd9ryk+S//uu/cvfdd2fjxo0V+1k98sgj2W233TJ48OBs3rw5//Iv/5L/+3//b5544olMmjQpgwcP3uGMn/zkJxk9enSGDRtWgTXuXktLS37xi19k7dq1GTt2bP7jP/4j/+///b+sWLEi++yzTwYNqsx7EM8880xuu+223HXXXVm6dGmeffbZ7LnnnhX5OQEwMK1Zs6bjfyMC/6Oomxb8/Oc/zzHHHLPDy/nJT36Sn/70pxk/fnyefPLJnH322TnssMOSJBdffHE+97nP7XDG9773vSxZsiStra2ZMmVKHnnkkRx00EFZunRpDj744Jx22mk7nPHy9Wxvb89vf/vbvOENb0jy4rZUwty5c/PZz342SbJ48eL89Kc/zeGHH56HHnoohx56aE499dQdzrjwwguzYMGCVFdX52tf+1qGDh2aI444IkuXLs2TTz6Zf/qnf9rhjPe+972pra3N2LFjM2PGjBx55JEZMWLEDi/3pa655pq0trbmhRdeyPDhw7Np06ZMnz49S5cuTXt7ey644IIdzvjJT36SX//615k8eXIeeOCB7LPPPhk+fHjuueeefOADH8hBBx1UgS1hV7FmzZqMHDny1V4NdnEbNmzI97///dx7771Zu3ZtkmTkyJGZNm1aTj311AwfPvxVXsOBY/Xq1fne976XqqqqnHnmmfm3f/u3/OpXv8r48ePzvve9r2L/hH3dunWdvm9vb8+cOXM6Xvvr6uoqkvNqeP7557P77ru/2quxXR599NF8+9vfzujRo/Pud787X/nKV7J8+fKMGzcuH/rQh/K6173u1V7FXmttbc1tt92We+65J88991yqqqoyevToTJs2Lccee2ynEwE7w9e+9rX83d/9XUWXuXPXuJ/ddNNNFSk8P/vZz/K5z30utbW1WbFiRa6++ur86U9/ysknn5xK9cO77747CxYsyJYtW/KhD30oX/nKVzJs2LCccsop+djHPlaRwtPc3Jzx48fnuOOOS1VVVdrb2/PYY4/lrW99awW24H+0trZ2fP2zn/0sl156aUaMGJG3vvWtueSSSypSeNrb21NdXZ0keeyxxzqe0A844IBcdNFFO7z8JBk7dmzmz5+fpUuX5q677spNN92UiRMnZsaMGZk+fXp22223Hc74/e9/n6uuuiqtra0599xz87WvfS2DBg3Km970poptx89+9rMsWLAggwYNyqxZs/LZz342l112WY4//vhceeWVufLKKyuS4wBo+/THQVB3B0Af+9jHHAC9iko5CPr85z+fgw46KJdddllGjRqV5MV9+vbbb8/VV1+dSy+9dKfmX3HFFfnYxz62w8vZsGFDfvCDH2TVqlV54xvfmKOPPrpj3g033JAPfOADO5yxaNGiHHLIIXnhhRfyyU9+MkcffXTmzp2be++9N9dff30++tGP7nBGkpxzzjmd/hVI8uLr/sUXX5yqqqp8+ctf3uGMJUuWZOrUqUle/Nl985vfzKOPPpq99947733vezv2hR3xne98J29961szYsSIPProo/n85z+fqqqqtLa25oILLsjkyZN3OOPiiy/O4YcfnhkzZlTsypOXu+GGG3LGGWdk/fr1ufTSS/Pe9743l156aZYuXZobbrghl19+eUVyNm3alB/+8If51a9+lVWrVqWmpiZ77LFHjj/++MycObMiGV/60pcyfPjwvOMd70hDQ0OSZNWqVfn3f//3fOlLX8pHPvKRHc54+evVVu3t7XnggQd2ePkvt8sVnm29k9/e3p41a9ZUJKOtra3jlPCYMWNy2WWXZeHChfnTn/5UscJTXV2dQYMGZejQoRk7dmzHZVRDhgxJVVVVRTI++9nP5ic/+UluueWWnHXWWdlnn30yZMiQijx5vFR7e3vWrVuX9vb2tLe3d5wVqa2t7SgpO2rvvffuOIP32te+No8++mj23XffPP300xV7p6GqqiqDBg3KwQcfnIMPPjgtLS1ZsmRJ/uM//iPf+ta3cuONN+5wRnt7e1paWrJp06a88MIL2bBhQ+rq6rJly5ZOxXFHtba2ZtCgQdmyZUs2btyYJGlsbKxohgOg7dMfB0EOgHqvPw6Akv45COqPA6AVK1bkkksu6TRt1KhROfXUU/Pzn/+8IhmPPfbYNuc98cQTFcm49tprs+eee2b69On5+c9/nrvvvjsf/vCHM3jw4DzyyCMVyVizZk3e8pa3JEl++tOfdrzp95a3vCW33XZbRTKS5G/+5m+ydOnSnHXWWZkwYUKS5Pzzz8+iRYsqlvF//s//6fh7/1//639l9OjRufjii/OrX/0q1113XUWet+6///78zd/8TZLk29/+dmbPnp1Jkybl6aefzjXXXJP58+fvcMa6deuyfv36fPKTn8yoUaMyY8aMHHXUUamvr9/hZW/V2tqaN77xjUlefA474ogjkiR/9Vd/lW9961sVy7nmmmty+OGH55JLLskvf/nLbNq0KTNmzMi//Mu/5Omnn8673/3uHc54/PHH88UvfrHTtIaGhuy333758Ic/vMPLT158vXrNa17T6bh665vzlTqef6ldrvCsWbMml1xySZd3j9vb2yt2gDVq1Kg88cQT2WeffZK8eOA+Z86cfOUrX8nvf//7imTU1NTkhRdeyNChQzv9MW/YsKFin+PY+g7/kUcemW9+85sZOXJkRQ94t9qwYUPmzJmT9vb2VFVVZfXq1Rk1alQ2bdpUsYJ47rnn5utf/3puueWW7L777vn4xz+ehoaGNDQ0VOy058vXtaamJtOmTcu0adOyefPmimQcc8wxmT17dtra2vLOd74zV199dcaMGZNHHnkkRx11VEUyjjvuuMydOzevf/3r85//+Z9529veliRZu3ZtRd/hdwC0ffrjIMgBUO/1xwFQ0j8HQf1xAPSa17wmP/zhD/PmN7+5yxscLy/ZfTV37txtltn169dXJOPZZ5/teOP08MMPzy233JJPfepTFTvrknR+LXnzm9/caV5bW1vFck455ZTMmDEj3/zmN9PQ0JAzzjijYm+YdufRRx/NggULkiSzZs3Kv//7v1dkua2trWltbU11dXU2b96cSZMmJUnGjRuXLVu2VCSjrq4uf/u3f5u//du/zX/+53/mzjvvzMUXX5y99torM2bMSFNT0w5nDB48OA8++GA2bNiQqqqq3HPPPTn88MOzbNmyih3XJcmf/vSnjjcyZs2alblz5+b000/PeeedlwsvvLAif+91dXX55S9/menTp3ese1tbW+6+++6KXb0xduzYfOITn+j2+ePv//7vK5LxUrtc4TnkkEOyadOmjjLyUpU6c3HBBRd0OTNRXV2dCy64oCJ/FEnyyU9+suMD5C/9Q2hpacn5559fkYytGhoacuGFF+b++++vyGVZL7etg6mqqqqKXaY1bNiwnH/++dm4cWOeffbZtLW1pb6+viLvJm81e/bsbc4bMmRIRTJmzZrVUWzq6+vz5je/OUuXLk1TU1PHk/yOOvnkk/NXf/VXeeqppzJr1qyMHz8+STJixIh88pOfrEhG4gBoe/XHQZADoN7rjwOgpH8OgvrjAGj27Nn5wQ9+kMsuu6zj3ddRo0bl0EMPrcjlLUmy11575UMf+lC3N+6p1AFQS0tL2traOn72p512Wurr6zNv3rxs2rSpIhnTpk3Lpk2bUltbm3e+850d05955pmMGzeuIhlbbX19v++++/KZz3wmL7zwQkWXv2bNmvz4xz9Oe3t7Nm7c2PHGZtL1TcK+OvHEE/PZz342p556ag4++OB84xvfyOGHH57f/OY33R7r7agDDzwwBx54YN7//vfnoYceyl133VWRv/cPfvCD+c53vpOqqqpccsklufXWW3Pttdemvr6+op9HGTp0aP7rv/4rBxxwQO67776ONzIHDRpUsd/Jhz/84XznO9/JjTfe2FFw1q9fn4MOOugVj5W2x8knn5x169Z1e7xwyimnVCTjpXa5wvNKT3qVOs229XrF7hxwwAEVydjW3bJGjBhR8Q/Kb3XIIYfkkEMO2SnL7s7QoUMzZsyYii5zt9122ylPgEkq/kK0LS99B3n48OEd7/hW0t57752999674st9KQdA26e/DoIcAG2/nXUAlPTPQVB/HADV1dXlmGOOyZQpU7Lffvt1uhPYSy9z3BHveMc7trm+73vf+3Z4+Uly6KGH5je/+U2mTJnSMW3mzJkZNWpU/vmf/7kiGf9/e/fvy/oXx3H89bVKLG5UGhoDi0jD0FnE4EcYxUYkBjGQEPwLbGIQBhY2m6RIg8kgDCwikS4STSuRViqiJHW+wzea63597zf3Oj3ac5+PrW3i1XPelZ538+m7g4ODSiQSSqfTampqKuxVbW2tOjs7rWS8ectpaWlROBxWKpWSZK8mnZ2dhcui29vb9fDwoKqqKt3f31v7X+zp6VEoFFIsFlMymVQ+n1cymVQkErHyfWZJH76HVFRUqLW11co+SVJDQ4OGh4eVyWRUXV2tkZGRwuv2/PzcSoYkjY6OanV1VclkUvX19YX3wmw2q66uLisZNTU16uvrU39/vwKBgBKJhK6urlRXV2ftXNfd3a14PK54PK7Gxkbd3Nzo/PxcwWCwcDWETV5NaQNQGmxNTDw+PlYoFPqwIXj7pPyzNjc3FQ6H3x2ApH/eoNbX17W0tPTpjP9ja79+9PLyolQqpVAoZC1ja2vr3e2urq7CAWhzc9PKpEFJuri4eHcA+vbtmyKRiDo6Oqx8N3BxcdHaJ5W/y1ZNrq+vtbKy8u4AFAwGlc1mdXR0pN7e3k9nuJheKunDRkGyd4D/WcbZ2Vnh8sPP2N3d1d7eXtH36k+oSTll7OzsKBaLKRgMFrUeknRzc6N0Ol20Dx9+nCQcj8fV3NxsdZKwi2nF7xgAsGxsbKzoGYeHh15kGONmv6hJaWUYU141mZqaMk9PT8YYY25vb83c3JyJRqPGGGNmZmasZESjUTMxMWEWFhbM+Pi4OTk5KTw2OztrJWNnZ6foGS72ylWOi/2i7r8mGo2aycnJoq8ln8+bXC5nhoaGzOPjozHGmOfnZzM9PV02Gd8ru0vaAJQGFxMTf8bWGHpXGS72i5qUXoYvNXExvdTFT0Ls7+8XPcPFXrnKcbFf1P3XHBwcaH5+vqhrcTFJ2EXG92h4APwWFxMTfWoSXOwXNSmtDMmfmriYXuriwOgiw8VeucrxpSY+1d3FWlxMEnaR8S7P+l8E8EdwMTHRlyZBcrNf1KS0MiR/auJieqmLA6OLDBd75SrHl5r4VHcXa3ExSdjltGJJfIcHQOlaXl42l5eXHz62uLhYNhk+8aUmPtXdl7Xc3d2ZTCbz4WP/tb5SzPCJLzXxqe4+rcUlprQBAAAA8Jb9i+QAAAAAoETQ8AAAAADwFg0PAAAAAG8xpQ0AUJJOT0+1vb39r/vb2trs/wo3AMBbNDwAgJKUyWQ0MDCgcDhcuC+Xy2ltbe0LnxUAoNxwSRsAAAAAb9HwAAAAAPAWDQ8AAAAAb9HwAAAAAPAWDQ8AAAAAb9HwAAAAAPAWDQ8AAAAAb9HwAAAAAPAWPzwKAChZGxsbqqysLNx+fX1VIBD4wmcEACg3fxljzFc/CQAAAAAoBi5pAwAAAOAtGh4AAAAA3qLhAQAAAOAtGh4AAAAA3qLhAQAAAOAtGh4AAAAA3vobRoA/hkDR0EgAAAAASUVORK5CYII=\n",
      "text/plain": [
       "<Figure size 1008x720 with 1 Axes>"
      ]
     },
     "metadata": {},
     "output_type": "display_data"
    }
   ],
   "source": [
    "day_group = data['train']['2019'].groupby('일').sum()\n",
    "day_group['취급액'].plot(kind='bar', figsize=(14, 10))\n",
    "plt.axhline(y = np.mean(day_group['취급액']), color = 'red', ls = '--')\n",
    "plt.ylim(day_group['취급액'].min()*0.9, day_group['취급액'].max()*1.1)\n",
    "plt.show()"
   ]
  },
  {
   "cell_type": "code",
   "execution_count": 81,
   "metadata": {
    "ExecuteTime": {
     "end_time": "2020-09-25T10:17:29.020655Z",
     "start_time": "2020-09-25T10:17:28.546107Z"
    }
   },
   "outputs": [
    {
     "data": {
      "image/png": "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\n",
      "text/plain": [
       "<Figure size 1008x720 with 1 Axes>"
      ]
     },
     "metadata": {},
     "output_type": "display_data"
    }
   ],
   "source": [
    "day_group = data['train']['2019'].groupby('일').mean()\n",
    "day_group['취급액'].plot(kind='bar', figsize=(14, 10))\n",
    "plt.axhline(y = np.mean(day_group['취급액']), color = 'red', ls = '--')\n",
    "plt.ylim(day_group['취급액'].min()*0.9, day_group['취급액'].max()*1.1)\n",
    "plt.show()"
   ]
  },
  {
   "cell_type": "markdown",
   "metadata": {},
   "source": [
    "#### 시간별\n",
    "+ 평균적인 거래량은 16~18시(퇴근시간 가까이)대에 가장 많음\n",
    "+ 총 거래량은 20~23시(저녁시간)대에 가장 많음"
   ]
  },
  {
   "cell_type": "code",
   "execution_count": 82,
   "metadata": {
    "ExecuteTime": {
     "end_time": "2020-09-25T10:17:29.482050Z",
     "start_time": "2020-09-25T10:17:29.021653Z"
    },
    "scrolled": false
   },
   "outputs": [
    {
     "data": {
      "image/png": "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\n",
      "text/plain": [
       "<Figure size 1008x720 with 1 Axes>"
      ]
     },
     "metadata": {},
     "output_type": "display_data"
    }
   ],
   "source": [
    "hour_group = data['train']['2019'].groupby('시').sum()\n",
    "hour_group['취급액'].plot(kind='bar', figsize=(14, 10))\n",
    "plt.axhline(y = np.mean(hour_group['취급액']), color = 'red', ls = '--')\n",
    "plt.ylim(hour_group['취급액'].min()*0.9, hour_group['취급액'].max()*1.1)\n",
    "plt.show()"
   ]
  },
  {
   "cell_type": "code",
   "execution_count": 83,
   "metadata": {
    "ExecuteTime": {
     "end_time": "2020-09-25T10:17:29.926808Z",
     "start_time": "2020-09-25T10:17:29.483049Z"
    }
   },
   "outputs": [
    {
     "data": {
      "image/png": "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\n",
      "text/plain": [
       "<Figure size 1008x720 with 1 Axes>"
      ]
     },
     "metadata": {},
     "output_type": "display_data"
    }
   ],
   "source": [
    "hour_group = data['train']['2019'].groupby('시').mean()\n",
    "hour_group['취급액'].plot(kind='bar', figsize=(14, 10))\n",
    "plt.axhline(y = np.mean(hour_group['취급액']), color = 'red', ls = '--')\n",
    "plt.ylim(hour_group['취급액'].min()*0.9, hour_group['취급액'].max()*1.1)\n",
    "plt.show()"
   ]
  },
  {
   "cell_type": "markdown",
   "metadata": {},
   "source": [
    "#### 요일별\n",
    "+ 주말(토,일)에 거래량이 가장 많은 것을 확인할 수 있음"
   ]
  },
  {
   "cell_type": "code",
   "execution_count": 84,
   "metadata": {
    "ExecuteTime": {
     "end_time": "2020-09-25T10:17:30.335198Z",
     "start_time": "2020-09-25T10:17:29.927805Z"
    }
   },
   "outputs": [
    {
     "data": {
      "image/png": "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\n",
      "text/plain": [
       "<Figure size 1008x720 with 1 Axes>"
      ]
     },
     "metadata": {},
     "output_type": "display_data"
    }
   ],
   "source": [
    "weekday_group = data['train']['2019'].groupby('요일').sum()\n",
    "weekday_group = weekday_group.T.loc['취급액',['Mon','Tue','Wed','Thu','Fri','Sat','Sun']]\n",
    "weekday_group.plot(kind='bar', figsize=(14, 10)) #0: Monday ~ 6: Sunday\n",
    "plt.axhline(y = np.mean(weekday_group), color = 'red', ls = '--')\n",
    "plt.ylim(weekday_group.min()*0.9, weekday_group.max()*1.1)\n",
    "plt.show()"
   ]
  },
  {
   "cell_type": "code",
   "execution_count": 85,
   "metadata": {
    "ExecuteTime": {
     "end_time": "2020-09-25T10:17:30.745910Z",
     "start_time": "2020-09-25T10:17:30.336197Z"
    }
   },
   "outputs": [
    {
     "data": {
      "image/png": "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\n",
      "text/plain": [
       "<Figure size 1008x720 with 1 Axes>"
      ]
     },
     "metadata": {},
     "output_type": "display_data"
    }
   ],
   "source": [
    "weekday_group = data['train']['2019'].groupby('요일').mean()\n",
    "weekday_group = weekday_group.T.loc['취급액',['Mon','Tue','Wed','Thu','Fri','Sat','Sun']]\n",
    "weekday_group.plot(kind='bar', figsize=(14, 10)) #0: Monday ~ 6: Sunday\n",
    "plt.axhline(y = np.mean(weekday_group), color = 'red', ls = '--')\n",
    "plt.ylim(weekday_group.min()*0.9, weekday_group.max()*1.1)\n",
    "plt.show()"
   ]
  },
  {
   "cell_type": "markdown",
   "metadata": {},
   "source": [
    "### 시청률"
   ]
  },
  {
   "cell_type": "code",
   "execution_count": 86,
   "metadata": {
    "ExecuteTime": {
     "end_time": "2020-09-25T10:17:30.765594Z",
     "start_time": "2020-09-25T10:17:30.746907Z"
    }
   },
   "outputs": [
    {
     "data": {
      "text/html": [
       "<div>\n",
       "<style scoped>\n",
       "    .dataframe tbody tr th:only-of-type {\n",
       "        vertical-align: middle;\n",
       "    }\n",
       "\n",
       "    .dataframe tbody tr th {\n",
       "        vertical-align: top;\n",
       "    }\n",
       "\n",
       "    .dataframe thead th {\n",
       "        text-align: right;\n",
       "    }\n",
       "</style>\n",
       "<table border=\"1\" class=\"dataframe\">\n",
       "  <thead>\n",
       "    <tr style=\"text-align: right;\">\n",
       "      <th></th>\n",
       "      <th>2019-01-01</th>\n",
       "      <th>2019-01-02</th>\n",
       "      <th>2019-01-03</th>\n",
       "      <th>2019-01-04</th>\n",
       "      <th>2019-01-05</th>\n",
       "      <th>2019-01-06</th>\n",
       "      <th>2019-01-07</th>\n",
       "      <th>2019-01-08</th>\n",
       "      <th>2019-01-09</th>\n",
       "      <th>2019-01-10</th>\n",
       "      <th>...</th>\n",
       "      <th>2019-12-23</th>\n",
       "      <th>2019-12-24</th>\n",
       "      <th>2019-12-25</th>\n",
       "      <th>2019-12-26</th>\n",
       "      <th>2019-12-27</th>\n",
       "      <th>2019-12-28</th>\n",
       "      <th>2019-12-29</th>\n",
       "      <th>2019-12-30</th>\n",
       "      <th>2019-12-31</th>\n",
       "      <th>2019-01-01 to 2019-12-31</th>\n",
       "    </tr>\n",
       "    <tr>\n",
       "      <th>시간대</th>\n",
       "      <th></th>\n",
       "      <th></th>\n",
       "      <th></th>\n",
       "      <th></th>\n",
       "      <th></th>\n",
       "      <th></th>\n",
       "      <th></th>\n",
       "      <th></th>\n",
       "      <th></th>\n",
       "      <th></th>\n",
       "      <th></th>\n",
       "      <th></th>\n",
       "      <th></th>\n",
       "      <th></th>\n",
       "      <th></th>\n",
       "      <th></th>\n",
       "      <th></th>\n",
       "      <th></th>\n",
       "      <th></th>\n",
       "      <th></th>\n",
       "      <th></th>\n",
       "    </tr>\n",
       "  </thead>\n",
       "  <tbody>\n",
       "    <tr>\n",
       "      <th>02:00</th>\n",
       "      <td>0.0000</td>\n",
       "      <td>0.0000</td>\n",
       "      <td>0.0000</td>\n",
       "      <td>0.0000</td>\n",
       "      <td>0.0000</td>\n",
       "      <td>0.0000</td>\n",
       "      <td>0.0000</td>\n",
       "      <td>0.0000</td>\n",
       "      <td>0.0000</td>\n",
       "      <td>0.0000</td>\n",
       "      <td>...</td>\n",
       "      <td>0.0000</td>\n",
       "      <td>0.0000</td>\n",
       "      <td>0.0000</td>\n",
       "      <td>0.0000</td>\n",
       "      <td>0.0000</td>\n",
       "      <td>0.0000</td>\n",
       "      <td>0.0000</td>\n",
       "      <td>0.0000</td>\n",
       "      <td>0.0000</td>\n",
       "      <td>0.0030</td>\n",
       "    </tr>\n",
       "    <tr>\n",
       "      <th>02:01</th>\n",
       "      <td>0.0000</td>\n",
       "      <td>0.0000</td>\n",
       "      <td>0.0000</td>\n",
       "      <td>0.0000</td>\n",
       "      <td>0.0000</td>\n",
       "      <td>0.0000</td>\n",
       "      <td>0.0000</td>\n",
       "      <td>0.0000</td>\n",
       "      <td>0.0000</td>\n",
       "      <td>0.0050</td>\n",
       "      <td>...</td>\n",
       "      <td>0.0000</td>\n",
       "      <td>0.0000</td>\n",
       "      <td>0.0000</td>\n",
       "      <td>0.0000</td>\n",
       "      <td>0.0000</td>\n",
       "      <td>0.0000</td>\n",
       "      <td>0.0000</td>\n",
       "      <td>0.0000</td>\n",
       "      <td>0.0120</td>\n",
       "      <td>0.0030</td>\n",
       "    </tr>\n",
       "    <tr>\n",
       "      <th>02:02</th>\n",
       "      <td>0.0000</td>\n",
       "      <td>0.0000</td>\n",
       "      <td>0.0000</td>\n",
       "      <td>0.0000</td>\n",
       "      <td>0.0000</td>\n",
       "      <td>0.0000</td>\n",
       "      <td>0.0000</td>\n",
       "      <td>0.0000</td>\n",
       "      <td>0.0000</td>\n",
       "      <td>0.0050</td>\n",
       "      <td>...</td>\n",
       "      <td>0.0000</td>\n",
       "      <td>0.0000</td>\n",
       "      <td>0.0000</td>\n",
       "      <td>0.0000</td>\n",
       "      <td>0.0000</td>\n",
       "      <td>0.0000</td>\n",
       "      <td>0.0000</td>\n",
       "      <td>0.0000</td>\n",
       "      <td>0.0000</td>\n",
       "      <td>0.0040</td>\n",
       "    </tr>\n",
       "    <tr>\n",
       "      <th>02:03</th>\n",
       "      <td>0.0000</td>\n",
       "      <td>0.0000</td>\n",
       "      <td>0.0140</td>\n",
       "      <td>0.0000</td>\n",
       "      <td>0.0000</td>\n",
       "      <td>0.0000</td>\n",
       "      <td>0.0000</td>\n",
       "      <td>0.0000</td>\n",
       "      <td>0.0000</td>\n",
       "      <td>0.0050</td>\n",
       "      <td>...</td>\n",
       "      <td>0.0000</td>\n",
       "      <td>0.0000</td>\n",
       "      <td>0.0170</td>\n",
       "      <td>0.0000</td>\n",
       "      <td>0.0000</td>\n",
       "      <td>0.0000</td>\n",
       "      <td>0.0000</td>\n",
       "      <td>0.0000</td>\n",
       "      <td>0.0000</td>\n",
       "      <td>0.0040</td>\n",
       "    </tr>\n",
       "    <tr>\n",
       "      <th>02:04</th>\n",
       "      <td>0.0000</td>\n",
       "      <td>0.0000</td>\n",
       "      <td>0.0000</td>\n",
       "      <td>0.0000</td>\n",
       "      <td>0.0000</td>\n",
       "      <td>0.0000</td>\n",
       "      <td>0.0000</td>\n",
       "      <td>0.0000</td>\n",
       "      <td>0.0000</td>\n",
       "      <td>0.0050</td>\n",
       "      <td>...</td>\n",
       "      <td>0.0000</td>\n",
       "      <td>0.0000</td>\n",
       "      <td>0.0170</td>\n",
       "      <td>0.0000</td>\n",
       "      <td>0.0000</td>\n",
       "      <td>0.0000</td>\n",
       "      <td>0.0000</td>\n",
       "      <td>0.0000</td>\n",
       "      <td>0.0000</td>\n",
       "      <td>0.0040</td>\n",
       "    </tr>\n",
       "  </tbody>\n",
       "</table>\n",
       "<p>5 rows × 366 columns</p>\n",
       "</div>"
      ],
      "text/plain": [
       "       2019-01-01  2019-01-02  2019-01-03  2019-01-04  2019-01-05  2019-01-06  \\\n",
       "시간대                                                                             \n",
       "02:00      0.0000      0.0000      0.0000      0.0000      0.0000      0.0000   \n",
       "02:01      0.0000      0.0000      0.0000      0.0000      0.0000      0.0000   \n",
       "02:02      0.0000      0.0000      0.0000      0.0000      0.0000      0.0000   \n",
       "02:03      0.0000      0.0000      0.0140      0.0000      0.0000      0.0000   \n",
       "02:04      0.0000      0.0000      0.0000      0.0000      0.0000      0.0000   \n",
       "\n",
       "       2019-01-07  2019-01-08  2019-01-09  2019-01-10  ...  2019-12-23  \\\n",
       "시간대                                                    ...               \n",
       "02:00      0.0000      0.0000      0.0000      0.0000  ...      0.0000   \n",
       "02:01      0.0000      0.0000      0.0000      0.0050  ...      0.0000   \n",
       "02:02      0.0000      0.0000      0.0000      0.0050  ...      0.0000   \n",
       "02:03      0.0000      0.0000      0.0000      0.0050  ...      0.0000   \n",
       "02:04      0.0000      0.0000      0.0000      0.0050  ...      0.0000   \n",
       "\n",
       "       2019-12-24  2019-12-25  2019-12-26  2019-12-27  2019-12-28  2019-12-29  \\\n",
       "시간대                                                                             \n",
       "02:00      0.0000      0.0000      0.0000      0.0000      0.0000      0.0000   \n",
       "02:01      0.0000      0.0000      0.0000      0.0000      0.0000      0.0000   \n",
       "02:02      0.0000      0.0000      0.0000      0.0000      0.0000      0.0000   \n",
       "02:03      0.0000      0.0170      0.0000      0.0000      0.0000      0.0000   \n",
       "02:04      0.0000      0.0170      0.0000      0.0000      0.0000      0.0000   \n",
       "\n",
       "       2019-12-30  2019-12-31  2019-01-01 to 2019-12-31  \n",
       "시간대                                                      \n",
       "02:00      0.0000      0.0000                    0.0030  \n",
       "02:01      0.0000      0.0120                    0.0030  \n",
       "02:02      0.0000      0.0000                    0.0040  \n",
       "02:03      0.0000      0.0000                    0.0040  \n",
       "02:04      0.0000      0.0000                    0.0040  \n",
       "\n",
       "[5 rows x 366 columns]"
      ]
     },
     "execution_count": 86,
     "metadata": {},
     "output_type": "execute_result"
    }
   ],
   "source": [
    "data['rating'].head()"
   ]
  },
  {
   "cell_type": "code",
   "execution_count": 87,
   "metadata": {
    "ExecuteTime": {
     "end_time": "2020-09-25T10:17:30.781247Z",
     "start_time": "2020-09-25T10:17:30.765594Z"
    }
   },
   "outputs": [
    {
     "data": {
      "text/html": [
       "<div>\n",
       "<style scoped>\n",
       "    .dataframe tbody tr th:only-of-type {\n",
       "        vertical-align: middle;\n",
       "    }\n",
       "\n",
       "    .dataframe tbody tr th {\n",
       "        vertical-align: top;\n",
       "    }\n",
       "\n",
       "    .dataframe thead th {\n",
       "        text-align: right;\n",
       "    }\n",
       "</style>\n",
       "<table border=\"1\" class=\"dataframe\">\n",
       "  <thead>\n",
       "    <tr style=\"text-align: right;\">\n",
       "      <th></th>\n",
       "      <th>2019-01-01</th>\n",
       "      <th>2019-01-02</th>\n",
       "      <th>2019-01-03</th>\n",
       "      <th>2019-01-04</th>\n",
       "      <th>2019-01-05</th>\n",
       "      <th>2019-01-06</th>\n",
       "      <th>2019-01-07</th>\n",
       "      <th>2019-01-08</th>\n",
       "      <th>2019-01-09</th>\n",
       "      <th>2019-01-10</th>\n",
       "      <th>...</th>\n",
       "      <th>2019-12-23</th>\n",
       "      <th>2019-12-24</th>\n",
       "      <th>2019-12-25</th>\n",
       "      <th>2019-12-26</th>\n",
       "      <th>2019-12-27</th>\n",
       "      <th>2019-12-28</th>\n",
       "      <th>2019-12-29</th>\n",
       "      <th>2019-12-30</th>\n",
       "      <th>2019-12-31</th>\n",
       "      <th>2019-01-01 to 2019-12-31</th>\n",
       "    </tr>\n",
       "    <tr>\n",
       "      <th>시간대</th>\n",
       "      <th></th>\n",
       "      <th></th>\n",
       "      <th></th>\n",
       "      <th></th>\n",
       "      <th></th>\n",
       "      <th></th>\n",
       "      <th></th>\n",
       "      <th></th>\n",
       "      <th></th>\n",
       "      <th></th>\n",
       "      <th></th>\n",
       "      <th></th>\n",
       "      <th></th>\n",
       "      <th></th>\n",
       "      <th></th>\n",
       "      <th></th>\n",
       "      <th></th>\n",
       "      <th></th>\n",
       "      <th></th>\n",
       "      <th></th>\n",
       "      <th></th>\n",
       "    </tr>\n",
       "  </thead>\n",
       "  <tbody>\n",
       "    <tr>\n",
       "      <th>01:56</th>\n",
       "      <td>0.0000</td>\n",
       "      <td>0.0000</td>\n",
       "      <td>0.0000</td>\n",
       "      <td>0.0000</td>\n",
       "      <td>0.0270</td>\n",
       "      <td>0.0000</td>\n",
       "      <td>0.0000</td>\n",
       "      <td>0.0000</td>\n",
       "      <td>0.0000</td>\n",
       "      <td>0.0000</td>\n",
       "      <td>...</td>\n",
       "      <td>0.0130</td>\n",
       "      <td>0.0000</td>\n",
       "      <td>0.0000</td>\n",
       "      <td>0.0000</td>\n",
       "      <td>0.0150</td>\n",
       "      <td>0.0000</td>\n",
       "      <td>0.0000</td>\n",
       "      <td>0.0000</td>\n",
       "      <td>0.0000</td>\n",
       "      <td>0.0040</td>\n",
       "    </tr>\n",
       "    <tr>\n",
       "      <th>01:57</th>\n",
       "      <td>0.0000</td>\n",
       "      <td>0.0000</td>\n",
       "      <td>0.0000</td>\n",
       "      <td>0.0000</td>\n",
       "      <td>0.0000</td>\n",
       "      <td>0.0000</td>\n",
       "      <td>0.0000</td>\n",
       "      <td>0.0000</td>\n",
       "      <td>0.0040</td>\n",
       "      <td>0.0000</td>\n",
       "      <td>...</td>\n",
       "      <td>0.0130</td>\n",
       "      <td>0.0000</td>\n",
       "      <td>0.0000</td>\n",
       "      <td>0.0000</td>\n",
       "      <td>0.0150</td>\n",
       "      <td>0.0000</td>\n",
       "      <td>0.0000</td>\n",
       "      <td>0.0000</td>\n",
       "      <td>0.0000</td>\n",
       "      <td>0.0040</td>\n",
       "    </tr>\n",
       "    <tr>\n",
       "      <th>01:58</th>\n",
       "      <td>0.0000</td>\n",
       "      <td>0.0000</td>\n",
       "      <td>0.0000</td>\n",
       "      <td>0.0000</td>\n",
       "      <td>0.0000</td>\n",
       "      <td>0.0000</td>\n",
       "      <td>0.0000</td>\n",
       "      <td>0.0000</td>\n",
       "      <td>0.0040</td>\n",
       "      <td>0.0000</td>\n",
       "      <td>...</td>\n",
       "      <td>0.0130</td>\n",
       "      <td>0.0170</td>\n",
       "      <td>0.0000</td>\n",
       "      <td>0.0000</td>\n",
       "      <td>0.0150</td>\n",
       "      <td>0.0000</td>\n",
       "      <td>0.0000</td>\n",
       "      <td>0.0190</td>\n",
       "      <td>0.0000</td>\n",
       "      <td>0.0040</td>\n",
       "    </tr>\n",
       "    <tr>\n",
       "      <th>01:59</th>\n",
       "      <td>0.0000</td>\n",
       "      <td>0.0000</td>\n",
       "      <td>0.0000</td>\n",
       "      <td>0.0000</td>\n",
       "      <td>0.0000</td>\n",
       "      <td>0.0000</td>\n",
       "      <td>0.0000</td>\n",
       "      <td>0.0000</td>\n",
       "      <td>0.0040</td>\n",
       "      <td>0.0000</td>\n",
       "      <td>...</td>\n",
       "      <td>0.0130</td>\n",
       "      <td>0.0000</td>\n",
       "      <td>0.0000</td>\n",
       "      <td>0.0000</td>\n",
       "      <td>0.0150</td>\n",
       "      <td>0.0000</td>\n",
       "      <td>0.0000</td>\n",
       "      <td>0.0000</td>\n",
       "      <td>0.0000</td>\n",
       "      <td>0.0040</td>\n",
       "    </tr>\n",
       "    <tr>\n",
       "      <th>월화수목금토일02:00-01:59</th>\n",
       "      <td>0.0040</td>\n",
       "      <td>0.0060</td>\n",
       "      <td>0.0020</td>\n",
       "      <td>0.0030</td>\n",
       "      <td>0.0020</td>\n",
       "      <td>0.0030</td>\n",
       "      <td>0.0030</td>\n",
       "      <td>0.0020</td>\n",
       "      <td>0.0030</td>\n",
       "      <td>0.0020</td>\n",
       "      <td>...</td>\n",
       "      <td>0.0100</td>\n",
       "      <td>0.0060</td>\n",
       "      <td>0.0060</td>\n",
       "      <td>0.0070</td>\n",
       "      <td>0.0040</td>\n",
       "      <td>0.0060</td>\n",
       "      <td>0.0040</td>\n",
       "      <td>0.0050</td>\n",
       "      <td>0.0050</td>\n",
       "      <td>0.0040</td>\n",
       "    </tr>\n",
       "  </tbody>\n",
       "</table>\n",
       "<p>5 rows × 366 columns</p>\n",
       "</div>"
      ],
      "text/plain": [
       "                    2019-01-01  2019-01-02  2019-01-03  2019-01-04  \\\n",
       "시간대                                                                  \n",
       "01:56                   0.0000      0.0000      0.0000      0.0000   \n",
       "01:57                   0.0000      0.0000      0.0000      0.0000   \n",
       "01:58                   0.0000      0.0000      0.0000      0.0000   \n",
       "01:59                   0.0000      0.0000      0.0000      0.0000   \n",
       "월화수목금토일02:00-01:59      0.0040      0.0060      0.0020      0.0030   \n",
       "\n",
       "                    2019-01-05  2019-01-06  2019-01-07  2019-01-08  \\\n",
       "시간대                                                                  \n",
       "01:56                   0.0270      0.0000      0.0000      0.0000   \n",
       "01:57                   0.0000      0.0000      0.0000      0.0000   \n",
       "01:58                   0.0000      0.0000      0.0000      0.0000   \n",
       "01:59                   0.0000      0.0000      0.0000      0.0000   \n",
       "월화수목금토일02:00-01:59      0.0020      0.0030      0.0030      0.0020   \n",
       "\n",
       "                    2019-01-09  2019-01-10  ...  2019-12-23  2019-12-24  \\\n",
       "시간대                                         ...                           \n",
       "01:56                   0.0000      0.0000  ...      0.0130      0.0000   \n",
       "01:57                   0.0040      0.0000  ...      0.0130      0.0000   \n",
       "01:58                   0.0040      0.0000  ...      0.0130      0.0170   \n",
       "01:59                   0.0040      0.0000  ...      0.0130      0.0000   \n",
       "월화수목금토일02:00-01:59      0.0030      0.0020  ...      0.0100      0.0060   \n",
       "\n",
       "                    2019-12-25  2019-12-26  2019-12-27  2019-12-28  \\\n",
       "시간대                                                                  \n",
       "01:56                   0.0000      0.0000      0.0150      0.0000   \n",
       "01:57                   0.0000      0.0000      0.0150      0.0000   \n",
       "01:58                   0.0000      0.0000      0.0150      0.0000   \n",
       "01:59                   0.0000      0.0000      0.0150      0.0000   \n",
       "월화수목금토일02:00-01:59      0.0060      0.0070      0.0040      0.0060   \n",
       "\n",
       "                    2019-12-29  2019-12-30  2019-12-31  \\\n",
       "시간대                                                      \n",
       "01:56                   0.0000      0.0000      0.0000   \n",
       "01:57                   0.0000      0.0000      0.0000   \n",
       "01:58                   0.0000      0.0190      0.0000   \n",
       "01:59                   0.0000      0.0000      0.0000   \n",
       "월화수목금토일02:00-01:59      0.0040      0.0050      0.0050   \n",
       "\n",
       "                    2019-01-01 to 2019-12-31  \n",
       "시간대                                           \n",
       "01:56                                 0.0040  \n",
       "01:57                                 0.0040  \n",
       "01:58                                 0.0040  \n",
       "01:59                                 0.0040  \n",
       "월화수목금토일02:00-01:59                    0.0040  \n",
       "\n",
       "[5 rows x 366 columns]"
      ]
     },
     "execution_count": 87,
     "metadata": {},
     "output_type": "execute_result"
    }
   ],
   "source": [
    "data['rating'].tail()"
   ]
  },
  {
   "cell_type": "markdown",
   "metadata": {},
   "source": [
    "### 일별 평균 시청률\n",
    "+ 하반기(7-12월)이 상반기(1-6월)에 비해 평균 시청률이 높음"
   ]
  },
  {
   "cell_type": "code",
   "execution_count": 88,
   "metadata": {
    "ExecuteTime": {
     "end_time": "2020-09-25T10:17:31.060275Z",
     "start_time": "2020-09-25T10:17:30.781247Z"
    }
   },
   "outputs": [
    {
     "data": {
      "image/png": "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\n",
      "text/plain": [
       "<Figure size 1008x720 with 1 Axes>"
      ]
     },
     "metadata": {},
     "output_type": "display_data"
    }
   ],
   "source": [
    "plt.figure(figsize=(14,10))\n",
    "tv_day = data['rating'].iloc[-1,1:]   #일 평균 시청률, length: 365\n",
    "tv_day = tv_day*100\n",
    "tv_day.plot()             #하반기에 높은 시청률을 보임.\n",
    "plt.show()"
   ]
  },
  {
   "cell_type": "markdown",
   "metadata": {},
   "source": [
    "### 시간별 평균 시청률\n",
    "+ 특정 시간대에 시청률이 높음\n",
    " <br>1. 오전 시간(10-12시)\n",
    " <br>2. 낮시간(14-16시)\n",
    " <br>3. 저녁시간(23시)"
   ]
  },
  {
   "cell_type": "code",
   "execution_count": 89,
   "metadata": {
    "ExecuteTime": {
     "end_time": "2020-09-25T10:17:31.068356Z",
     "start_time": "2020-09-25T10:17:31.061273Z"
    }
   },
   "outputs": [
    {
     "data": {
      "text/plain": [
       "2019-01-02   0.6000\n",
       "2019-01-03   0.2000\n",
       "2019-01-04   0.3000\n",
       "2019-01-05   0.2000\n",
       "2019-01-06   0.3000\n",
       "Name: 월화수목금토일02:00-01:59, dtype: float64"
      ]
     },
     "execution_count": 89,
     "metadata": {},
     "output_type": "execute_result"
    }
   ],
   "source": [
    "tv_day.head()"
   ]
  },
  {
   "cell_type": "code",
   "execution_count": 90,
   "metadata": {
    "ExecuteTime": {
     "end_time": "2020-09-25T10:17:31.328438Z",
     "start_time": "2020-09-25T10:17:31.070351Z"
    }
   },
   "outputs": [
    {
     "data": {
      "image/png": "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\n",
      "text/plain": [
       "<Figure size 1008x720 with 1 Axes>"
      ]
     },
     "metadata": {},
     "output_type": "display_data"
    }
   ],
   "source": [
    "plt.figure(figsize=(14,10))\n",
    "tv_min = data['rating'].iloc[:-1,-1]   #분당 시청률 02:00(0) ~ 01:59(1439), length: 1439\n",
    "tv_min = tv_min*100\n",
    "tv_min.plot()              #800(15시 경)에 시청률이 가장 높은 추이\n",
    "plt.show()"
   ]
  },
  {
   "cell_type": "code",
   "execution_count": 91,
   "metadata": {
    "ExecuteTime": {
     "end_time": "2020-09-25T10:17:31.346848Z",
     "start_time": "2020-09-25T10:17:31.328438Z"
    }
   },
   "outputs": [
    {
     "data": {
      "text/html": [
       "<div>\n",
       "<style scoped>\n",
       "    .dataframe tbody tr th:only-of-type {\n",
       "        vertical-align: middle;\n",
       "    }\n",
       "\n",
       "    .dataframe tbody tr th {\n",
       "        vertical-align: top;\n",
       "    }\n",
       "\n",
       "    .dataframe thead th {\n",
       "        text-align: right;\n",
       "    }\n",
       "</style>\n",
       "<table border=\"1\" class=\"dataframe\">\n",
       "  <thead>\n",
       "    <tr style=\"text-align: right;\">\n",
       "      <th></th>\n",
       "      <th>2019-01-01</th>\n",
       "      <th>2019-01-02</th>\n",
       "      <th>2019-01-03</th>\n",
       "      <th>2019-01-04</th>\n",
       "      <th>2019-01-05</th>\n",
       "      <th>2019-01-06</th>\n",
       "      <th>2019-01-07</th>\n",
       "      <th>2019-01-08</th>\n",
       "      <th>2019-01-09</th>\n",
       "      <th>2019-01-10</th>\n",
       "      <th>...</th>\n",
       "      <th>2019-12-23</th>\n",
       "      <th>2019-12-24</th>\n",
       "      <th>2019-12-25</th>\n",
       "      <th>2019-12-26</th>\n",
       "      <th>2019-12-27</th>\n",
       "      <th>2019-12-28</th>\n",
       "      <th>2019-12-29</th>\n",
       "      <th>2019-12-30</th>\n",
       "      <th>2019-12-31</th>\n",
       "      <th>2019-01-01 to 2019-12-31</th>\n",
       "    </tr>\n",
       "    <tr>\n",
       "      <th>시간대</th>\n",
       "      <th></th>\n",
       "      <th></th>\n",
       "      <th></th>\n",
       "      <th></th>\n",
       "      <th></th>\n",
       "      <th></th>\n",
       "      <th></th>\n",
       "      <th></th>\n",
       "      <th></th>\n",
       "      <th></th>\n",
       "      <th></th>\n",
       "      <th></th>\n",
       "      <th></th>\n",
       "      <th></th>\n",
       "      <th></th>\n",
       "      <th></th>\n",
       "      <th></th>\n",
       "      <th></th>\n",
       "      <th></th>\n",
       "      <th></th>\n",
       "      <th></th>\n",
       "    </tr>\n",
       "  </thead>\n",
       "  <tbody>\n",
       "    <tr>\n",
       "      <th>01:56</th>\n",
       "      <td>0.0000</td>\n",
       "      <td>0.0000</td>\n",
       "      <td>0.0000</td>\n",
       "      <td>0.0000</td>\n",
       "      <td>0.0270</td>\n",
       "      <td>0.0000</td>\n",
       "      <td>0.0000</td>\n",
       "      <td>0.0000</td>\n",
       "      <td>0.0000</td>\n",
       "      <td>0.0000</td>\n",
       "      <td>...</td>\n",
       "      <td>0.0130</td>\n",
       "      <td>0.0000</td>\n",
       "      <td>0.0000</td>\n",
       "      <td>0.0000</td>\n",
       "      <td>0.0150</td>\n",
       "      <td>0.0000</td>\n",
       "      <td>0.0000</td>\n",
       "      <td>0.0000</td>\n",
       "      <td>0.0000</td>\n",
       "      <td>0.0040</td>\n",
       "    </tr>\n",
       "    <tr>\n",
       "      <th>01:57</th>\n",
       "      <td>0.0000</td>\n",
       "      <td>0.0000</td>\n",
       "      <td>0.0000</td>\n",
       "      <td>0.0000</td>\n",
       "      <td>0.0000</td>\n",
       "      <td>0.0000</td>\n",
       "      <td>0.0000</td>\n",
       "      <td>0.0000</td>\n",
       "      <td>0.0040</td>\n",
       "      <td>0.0000</td>\n",
       "      <td>...</td>\n",
       "      <td>0.0130</td>\n",
       "      <td>0.0000</td>\n",
       "      <td>0.0000</td>\n",
       "      <td>0.0000</td>\n",
       "      <td>0.0150</td>\n",
       "      <td>0.0000</td>\n",
       "      <td>0.0000</td>\n",
       "      <td>0.0000</td>\n",
       "      <td>0.0000</td>\n",
       "      <td>0.0040</td>\n",
       "    </tr>\n",
       "    <tr>\n",
       "      <th>01:58</th>\n",
       "      <td>0.0000</td>\n",
       "      <td>0.0000</td>\n",
       "      <td>0.0000</td>\n",
       "      <td>0.0000</td>\n",
       "      <td>0.0000</td>\n",
       "      <td>0.0000</td>\n",
       "      <td>0.0000</td>\n",
       "      <td>0.0000</td>\n",
       "      <td>0.0040</td>\n",
       "      <td>0.0000</td>\n",
       "      <td>...</td>\n",
       "      <td>0.0130</td>\n",
       "      <td>0.0170</td>\n",
       "      <td>0.0000</td>\n",
       "      <td>0.0000</td>\n",
       "      <td>0.0150</td>\n",
       "      <td>0.0000</td>\n",
       "      <td>0.0000</td>\n",
       "      <td>0.0190</td>\n",
       "      <td>0.0000</td>\n",
       "      <td>0.0040</td>\n",
       "    </tr>\n",
       "    <tr>\n",
       "      <th>01:59</th>\n",
       "      <td>0.0000</td>\n",
       "      <td>0.0000</td>\n",
       "      <td>0.0000</td>\n",
       "      <td>0.0000</td>\n",
       "      <td>0.0000</td>\n",
       "      <td>0.0000</td>\n",
       "      <td>0.0000</td>\n",
       "      <td>0.0000</td>\n",
       "      <td>0.0040</td>\n",
       "      <td>0.0000</td>\n",
       "      <td>...</td>\n",
       "      <td>0.0130</td>\n",
       "      <td>0.0000</td>\n",
       "      <td>0.0000</td>\n",
       "      <td>0.0000</td>\n",
       "      <td>0.0150</td>\n",
       "      <td>0.0000</td>\n",
       "      <td>0.0000</td>\n",
       "      <td>0.0000</td>\n",
       "      <td>0.0000</td>\n",
       "      <td>0.0040</td>\n",
       "    </tr>\n",
       "    <tr>\n",
       "      <th>월화수목금토일02:00-01:59</th>\n",
       "      <td>0.0040</td>\n",
       "      <td>0.0060</td>\n",
       "      <td>0.0020</td>\n",
       "      <td>0.0030</td>\n",
       "      <td>0.0020</td>\n",
       "      <td>0.0030</td>\n",
       "      <td>0.0030</td>\n",
       "      <td>0.0020</td>\n",
       "      <td>0.0030</td>\n",
       "      <td>0.0020</td>\n",
       "      <td>...</td>\n",
       "      <td>0.0100</td>\n",
       "      <td>0.0060</td>\n",
       "      <td>0.0060</td>\n",
       "      <td>0.0070</td>\n",
       "      <td>0.0040</td>\n",
       "      <td>0.0060</td>\n",
       "      <td>0.0040</td>\n",
       "      <td>0.0050</td>\n",
       "      <td>0.0050</td>\n",
       "      <td>0.0040</td>\n",
       "    </tr>\n",
       "  </tbody>\n",
       "</table>\n",
       "<p>5 rows × 366 columns</p>\n",
       "</div>"
      ],
      "text/plain": [
       "                    2019-01-01  2019-01-02  2019-01-03  2019-01-04  \\\n",
       "시간대                                                                  \n",
       "01:56                   0.0000      0.0000      0.0000      0.0000   \n",
       "01:57                   0.0000      0.0000      0.0000      0.0000   \n",
       "01:58                   0.0000      0.0000      0.0000      0.0000   \n",
       "01:59                   0.0000      0.0000      0.0000      0.0000   \n",
       "월화수목금토일02:00-01:59      0.0040      0.0060      0.0020      0.0030   \n",
       "\n",
       "                    2019-01-05  2019-01-06  2019-01-07  2019-01-08  \\\n",
       "시간대                                                                  \n",
       "01:56                   0.0270      0.0000      0.0000      0.0000   \n",
       "01:57                   0.0000      0.0000      0.0000      0.0000   \n",
       "01:58                   0.0000      0.0000      0.0000      0.0000   \n",
       "01:59                   0.0000      0.0000      0.0000      0.0000   \n",
       "월화수목금토일02:00-01:59      0.0020      0.0030      0.0030      0.0020   \n",
       "\n",
       "                    2019-01-09  2019-01-10  ...  2019-12-23  2019-12-24  \\\n",
       "시간대                                         ...                           \n",
       "01:56                   0.0000      0.0000  ...      0.0130      0.0000   \n",
       "01:57                   0.0040      0.0000  ...      0.0130      0.0000   \n",
       "01:58                   0.0040      0.0000  ...      0.0130      0.0170   \n",
       "01:59                   0.0040      0.0000  ...      0.0130      0.0000   \n",
       "월화수목금토일02:00-01:59      0.0030      0.0020  ...      0.0100      0.0060   \n",
       "\n",
       "                    2019-12-25  2019-12-26  2019-12-27  2019-12-28  \\\n",
       "시간대                                                                  \n",
       "01:56                   0.0000      0.0000      0.0150      0.0000   \n",
       "01:57                   0.0000      0.0000      0.0150      0.0000   \n",
       "01:58                   0.0000      0.0000      0.0150      0.0000   \n",
       "01:59                   0.0000      0.0000      0.0150      0.0000   \n",
       "월화수목금토일02:00-01:59      0.0060      0.0070      0.0040      0.0060   \n",
       "\n",
       "                    2019-12-29  2019-12-30  2019-12-31  \\\n",
       "시간대                                                      \n",
       "01:56                   0.0000      0.0000      0.0000   \n",
       "01:57                   0.0000      0.0000      0.0000   \n",
       "01:58                   0.0000      0.0190      0.0000   \n",
       "01:59                   0.0000      0.0000      0.0000   \n",
       "월화수목금토일02:00-01:59      0.0040      0.0050      0.0050   \n",
       "\n",
       "                    2019-01-01 to 2019-12-31  \n",
       "시간대                                           \n",
       "01:56                                 0.0040  \n",
       "01:57                                 0.0040  \n",
       "01:58                                 0.0040  \n",
       "01:59                                 0.0040  \n",
       "월화수목금토일02:00-01:59                    0.0040  \n",
       "\n",
       "[5 rows x 366 columns]"
      ]
     },
     "execution_count": 91,
     "metadata": {},
     "output_type": "execute_result"
    }
   ],
   "source": [
    "data['rating'].tail()"
   ]
  },
  {
   "cell_type": "code",
   "execution_count": 92,
   "metadata": {
    "ExecuteTime": {
     "end_time": "2020-09-25T10:17:31.353852Z",
     "start_time": "2020-09-25T10:17:31.348858Z"
    }
   },
   "outputs": [
    {
     "data": {
      "text/plain": [
       "(1441, 366)"
      ]
     },
     "execution_count": 92,
     "metadata": {},
     "output_type": "execute_result"
    }
   ],
   "source": [
    "data['rating'].shape"
   ]
  },
  {
   "cell_type": "markdown",
   "metadata": {},
   "source": [
    "----\n",
    "\n",
    "## 특성 공학(Feature Engineering)"
   ]
  },
  {
   "cell_type": "markdown",
   "metadata": {},
   "source": [
    "### 임베딩 벡터 추가"
   ]
  },
  {
   "cell_type": "code",
   "execution_count": 93,
   "metadata": {
    "ExecuteTime": {
     "end_time": "2020-09-25T10:17:31.359837Z",
     "start_time": "2020-09-25T10:17:31.354827Z"
    }
   },
   "outputs": [],
   "source": [
    "columns = [f'embed_{i}' for i in range(10)]"
   ]
  },
  {
   "cell_type": "code",
   "execution_count": 94,
   "metadata": {
    "ExecuteTime": {
     "end_time": "2020-09-25T10:17:31.386987Z",
     "start_time": "2020-09-25T10:17:31.360811Z"
    }
   },
   "outputs": [],
   "source": [
    "_data_train = data['train'].loc[~(data['train']['상품군'].isin(['무형'])),:].copy()\n",
    "_data_test = data['test'].loc[~(data['test']['상품군'].isin(['무형'])),:].copy()"
   ]
  },
  {
   "cell_type": "code",
   "execution_count": 95,
   "metadata": {
    "ExecuteTime": {
     "end_time": "2020-09-25T10:17:31.494818Z",
     "start_time": "2020-09-25T10:17:31.386987Z"
    }
   },
   "outputs": [
    {
     "data": {
      "text/html": [
       "<div>\n",
       "<style scoped>\n",
       "    .dataframe tbody tr th:only-of-type {\n",
       "        vertical-align: middle;\n",
       "    }\n",
       "\n",
       "    .dataframe tbody tr th {\n",
       "        vertical-align: top;\n",
       "    }\n",
       "\n",
       "    .dataframe thead th {\n",
       "        text-align: right;\n",
       "    }\n",
       "</style>\n",
       "<table border=\"1\" class=\"dataframe\">\n",
       "  <thead>\n",
       "    <tr style=\"text-align: right;\">\n",
       "      <th></th>\n",
       "      <th>노출(분)</th>\n",
       "      <th>마더코드</th>\n",
       "      <th>상품코드</th>\n",
       "      <th>상품명</th>\n",
       "      <th>상품군</th>\n",
       "      <th>판매단가</th>\n",
       "      <th>취급액</th>\n",
       "      <th>연</th>\n",
       "      <th>월</th>\n",
       "      <th>주</th>\n",
       "      <th>...</th>\n",
       "      <th>2</th>\n",
       "      <th>3</th>\n",
       "      <th>4</th>\n",
       "      <th>5</th>\n",
       "      <th>6</th>\n",
       "      <th>7</th>\n",
       "      <th>8</th>\n",
       "      <th>9</th>\n",
       "      <th>10</th>\n",
       "      <th>11</th>\n",
       "    </tr>\n",
       "    <tr>\n",
       "      <th>방송일시</th>\n",
       "      <th></th>\n",
       "      <th></th>\n",
       "      <th></th>\n",
       "      <th></th>\n",
       "      <th></th>\n",
       "      <th></th>\n",
       "      <th></th>\n",
       "      <th></th>\n",
       "      <th></th>\n",
       "      <th></th>\n",
       "      <th></th>\n",
       "      <th></th>\n",
       "      <th></th>\n",
       "      <th></th>\n",
       "      <th></th>\n",
       "      <th></th>\n",
       "      <th></th>\n",
       "      <th></th>\n",
       "      <th></th>\n",
       "      <th></th>\n",
       "      <th></th>\n",
       "    </tr>\n",
       "  </thead>\n",
       "  <tbody>\n",
       "    <tr>\n",
       "      <th>2019-01-01 06:00:00</th>\n",
       "      <td>20.0000</td>\n",
       "      <td>100346</td>\n",
       "      <td>201072</td>\n",
       "      <td>테이트 남성 셀린니트3종</td>\n",
       "      <td>의류</td>\n",
       "      <td>39900</td>\n",
       "      <td>2099000.0000</td>\n",
       "      <td>2019</td>\n",
       "      <td>1</td>\n",
       "      <td>1</td>\n",
       "      <td>...</td>\n",
       "      <td>셀린니트</td>\n",
       "      <td>의류</td>\n",
       "      <td>None</td>\n",
       "      <td>None</td>\n",
       "      <td>None</td>\n",
       "      <td>None</td>\n",
       "      <td>None</td>\n",
       "      <td>None</td>\n",
       "      <td>None</td>\n",
       "      <td>None</td>\n",
       "    </tr>\n",
       "    <tr>\n",
       "      <th>2019-01-01 06:00:00</th>\n",
       "      <td>20.0000</td>\n",
       "      <td>100346</td>\n",
       "      <td>201079</td>\n",
       "      <td>테이트 여성 셀린니트3종</td>\n",
       "      <td>의류</td>\n",
       "      <td>39900</td>\n",
       "      <td>4371000.0000</td>\n",
       "      <td>2019</td>\n",
       "      <td>1</td>\n",
       "      <td>1</td>\n",
       "      <td>...</td>\n",
       "      <td>셀린니트</td>\n",
       "      <td>의류</td>\n",
       "      <td>None</td>\n",
       "      <td>None</td>\n",
       "      <td>None</td>\n",
       "      <td>None</td>\n",
       "      <td>None</td>\n",
       "      <td>None</td>\n",
       "      <td>None</td>\n",
       "      <td>None</td>\n",
       "    </tr>\n",
       "    <tr>\n",
       "      <th>2019-01-01 06:20:00</th>\n",
       "      <td>20.0000</td>\n",
       "      <td>100346</td>\n",
       "      <td>201072</td>\n",
       "      <td>테이트 남성 셀린니트3종</td>\n",
       "      <td>의류</td>\n",
       "      <td>39900</td>\n",
       "      <td>3262000.0000</td>\n",
       "      <td>2019</td>\n",
       "      <td>1</td>\n",
       "      <td>1</td>\n",
       "      <td>...</td>\n",
       "      <td>셀린니트</td>\n",
       "      <td>의류</td>\n",
       "      <td>None</td>\n",
       "      <td>None</td>\n",
       "      <td>None</td>\n",
       "      <td>None</td>\n",
       "      <td>None</td>\n",
       "      <td>None</td>\n",
       "      <td>None</td>\n",
       "      <td>None</td>\n",
       "    </tr>\n",
       "    <tr>\n",
       "      <th>2019-01-01 06:20:00</th>\n",
       "      <td>20.0000</td>\n",
       "      <td>100346</td>\n",
       "      <td>201079</td>\n",
       "      <td>테이트 여성 셀린니트3종</td>\n",
       "      <td>의류</td>\n",
       "      <td>39900</td>\n",
       "      <td>6955000.0000</td>\n",
       "      <td>2019</td>\n",
       "      <td>1</td>\n",
       "      <td>1</td>\n",
       "      <td>...</td>\n",
       "      <td>셀린니트</td>\n",
       "      <td>의류</td>\n",
       "      <td>None</td>\n",
       "      <td>None</td>\n",
       "      <td>None</td>\n",
       "      <td>None</td>\n",
       "      <td>None</td>\n",
       "      <td>None</td>\n",
       "      <td>None</td>\n",
       "      <td>None</td>\n",
       "    </tr>\n",
       "    <tr>\n",
       "      <th>2019-01-01 06:40:00</th>\n",
       "      <td>20.0000</td>\n",
       "      <td>100346</td>\n",
       "      <td>201072</td>\n",
       "      <td>테이트 남성 셀린니트3종</td>\n",
       "      <td>의류</td>\n",
       "      <td>39900</td>\n",
       "      <td>6672000.0000</td>\n",
       "      <td>2019</td>\n",
       "      <td>1</td>\n",
       "      <td>1</td>\n",
       "      <td>...</td>\n",
       "      <td>셀린니트</td>\n",
       "      <td>의류</td>\n",
       "      <td>None</td>\n",
       "      <td>None</td>\n",
       "      <td>None</td>\n",
       "      <td>None</td>\n",
       "      <td>None</td>\n",
       "      <td>None</td>\n",
       "      <td>None</td>\n",
       "      <td>None</td>\n",
       "    </tr>\n",
       "    <tr>\n",
       "      <th>...</th>\n",
       "      <td>...</td>\n",
       "      <td>...</td>\n",
       "      <td>...</td>\n",
       "      <td>...</td>\n",
       "      <td>...</td>\n",
       "      <td>...</td>\n",
       "      <td>...</td>\n",
       "      <td>...</td>\n",
       "      <td>...</td>\n",
       "      <td>...</td>\n",
       "      <td>...</td>\n",
       "      <td>...</td>\n",
       "      <td>...</td>\n",
       "      <td>...</td>\n",
       "      <td>...</td>\n",
       "      <td>...</td>\n",
       "      <td>...</td>\n",
       "      <td>...</td>\n",
       "      <td>...</td>\n",
       "      <td>...</td>\n",
       "      <td>...</td>\n",
       "    </tr>\n",
       "    <tr>\n",
       "      <th>2019-12-31 23:20:00</th>\n",
       "      <td>20.0000</td>\n",
       "      <td>100448</td>\n",
       "      <td>201391</td>\n",
       "      <td>일시불쿠첸압력밥솥 6인용</td>\n",
       "      <td>주방</td>\n",
       "      <td>148000</td>\n",
       "      <td>1664000.0000</td>\n",
       "      <td>2019</td>\n",
       "      <td>12</td>\n",
       "      <td>1</td>\n",
       "      <td>...</td>\n",
       "      <td>압력</td>\n",
       "      <td>밥솥</td>\n",
       "      <td>주방</td>\n",
       "      <td>None</td>\n",
       "      <td>None</td>\n",
       "      <td>None</td>\n",
       "      <td>None</td>\n",
       "      <td>None</td>\n",
       "      <td>None</td>\n",
       "      <td>None</td>\n",
       "    </tr>\n",
       "    <tr>\n",
       "      <th>2019-12-31 23:40:00</th>\n",
       "      <td>20.0000</td>\n",
       "      <td>100448</td>\n",
       "      <td>201383</td>\n",
       "      <td>무이자쿠첸압력밥솥 10인용</td>\n",
       "      <td>주방</td>\n",
       "      <td>178000</td>\n",
       "      <td>9149000.0000</td>\n",
       "      <td>2019</td>\n",
       "      <td>12</td>\n",
       "      <td>1</td>\n",
       "      <td>...</td>\n",
       "      <td>압력</td>\n",
       "      <td>밥솥</td>\n",
       "      <td>주방</td>\n",
       "      <td>None</td>\n",
       "      <td>None</td>\n",
       "      <td>None</td>\n",
       "      <td>None</td>\n",
       "      <td>None</td>\n",
       "      <td>None</td>\n",
       "      <td>None</td>\n",
       "    </tr>\n",
       "    <tr>\n",
       "      <th>2019-12-31 23:40:00</th>\n",
       "      <td>20.0000</td>\n",
       "      <td>100448</td>\n",
       "      <td>201390</td>\n",
       "      <td>일시불쿠첸압력밥솥 10인용</td>\n",
       "      <td>주방</td>\n",
       "      <td>168000</td>\n",
       "      <td>15282000.0000</td>\n",
       "      <td>2019</td>\n",
       "      <td>12</td>\n",
       "      <td>1</td>\n",
       "      <td>...</td>\n",
       "      <td>압력</td>\n",
       "      <td>밥솥</td>\n",
       "      <td>주방</td>\n",
       "      <td>None</td>\n",
       "      <td>None</td>\n",
       "      <td>None</td>\n",
       "      <td>None</td>\n",
       "      <td>None</td>\n",
       "      <td>None</td>\n",
       "      <td>None</td>\n",
       "    </tr>\n",
       "    <tr>\n",
       "      <th>2019-12-31 23:40:00</th>\n",
       "      <td>20.0000</td>\n",
       "      <td>100448</td>\n",
       "      <td>201384</td>\n",
       "      <td>무이자쿠첸압력밥솥 6인용</td>\n",
       "      <td>주방</td>\n",
       "      <td>158000</td>\n",
       "      <td>2328000.0000</td>\n",
       "      <td>2019</td>\n",
       "      <td>12</td>\n",
       "      <td>1</td>\n",
       "      <td>...</td>\n",
       "      <td>압력</td>\n",
       "      <td>밥솥</td>\n",
       "      <td>주방</td>\n",
       "      <td>None</td>\n",
       "      <td>None</td>\n",
       "      <td>None</td>\n",
       "      <td>None</td>\n",
       "      <td>None</td>\n",
       "      <td>None</td>\n",
       "      <td>None</td>\n",
       "    </tr>\n",
       "    <tr>\n",
       "      <th>2019-12-31 23:40:00</th>\n",
       "      <td>20.0000</td>\n",
       "      <td>100448</td>\n",
       "      <td>201391</td>\n",
       "      <td>일시불쿠첸압력밥솥 6인용</td>\n",
       "      <td>주방</td>\n",
       "      <td>148000</td>\n",
       "      <td>10157000.0000</td>\n",
       "      <td>2019</td>\n",
       "      <td>12</td>\n",
       "      <td>1</td>\n",
       "      <td>...</td>\n",
       "      <td>압력</td>\n",
       "      <td>밥솥</td>\n",
       "      <td>주방</td>\n",
       "      <td>None</td>\n",
       "      <td>None</td>\n",
       "      <td>None</td>\n",
       "      <td>None</td>\n",
       "      <td>None</td>\n",
       "      <td>None</td>\n",
       "      <td>None</td>\n",
       "    </tr>\n",
       "  </tbody>\n",
       "</table>\n",
       "<p>37368 rows × 36 columns</p>\n",
       "</div>"
      ],
      "text/plain": [
       "                      노출(분)    마더코드    상품코드             상품명 상품군    판매단가  \\\n",
       "방송일시                                                                      \n",
       "2019-01-01 06:00:00 20.0000  100346  201072   테이트 남성 셀린니트3종  의류   39900   \n",
       "2019-01-01 06:00:00 20.0000  100346  201079   테이트 여성 셀린니트3종  의류   39900   \n",
       "2019-01-01 06:20:00 20.0000  100346  201072   테이트 남성 셀린니트3종  의류   39900   \n",
       "2019-01-01 06:20:00 20.0000  100346  201079   테이트 여성 셀린니트3종  의류   39900   \n",
       "2019-01-01 06:40:00 20.0000  100346  201072   테이트 남성 셀린니트3종  의류   39900   \n",
       "...                     ...     ...     ...             ...  ..     ...   \n",
       "2019-12-31 23:20:00 20.0000  100448  201391   일시불쿠첸압력밥솥 6인용  주방  148000   \n",
       "2019-12-31 23:40:00 20.0000  100448  201383  무이자쿠첸압력밥솥 10인용  주방  178000   \n",
       "2019-12-31 23:40:00 20.0000  100448  201390  일시불쿠첸압력밥솥 10인용  주방  168000   \n",
       "2019-12-31 23:40:00 20.0000  100448  201384   무이자쿠첸압력밥솥 6인용  주방  158000   \n",
       "2019-12-31 23:40:00 20.0000  100448  201391   일시불쿠첸압력밥솥 6인용  주방  148000   \n",
       "\n",
       "                              취급액     연   월  주  ...     2   3     4     5  \\\n",
       "방송일시                                            ...                         \n",
       "2019-01-01 06:00:00  2099000.0000  2019   1  1  ...  셀린니트  의류  None  None   \n",
       "2019-01-01 06:00:00  4371000.0000  2019   1  1  ...  셀린니트  의류  None  None   \n",
       "2019-01-01 06:20:00  3262000.0000  2019   1  1  ...  셀린니트  의류  None  None   \n",
       "2019-01-01 06:20:00  6955000.0000  2019   1  1  ...  셀린니트  의류  None  None   \n",
       "2019-01-01 06:40:00  6672000.0000  2019   1  1  ...  셀린니트  의류  None  None   \n",
       "...                           ...   ...  .. ..  ...   ...  ..   ...   ...   \n",
       "2019-12-31 23:20:00  1664000.0000  2019  12  1  ...    압력  밥솥    주방  None   \n",
       "2019-12-31 23:40:00  9149000.0000  2019  12  1  ...    압력  밥솥    주방  None   \n",
       "2019-12-31 23:40:00 15282000.0000  2019  12  1  ...    압력  밥솥    주방  None   \n",
       "2019-12-31 23:40:00  2328000.0000  2019  12  1  ...    압력  밥솥    주방  None   \n",
       "2019-12-31 23:40:00 10157000.0000  2019  12  1  ...    압력  밥솥    주방  None   \n",
       "\n",
       "                        6     7     8     9    10    11  \n",
       "방송일시                                                     \n",
       "2019-01-01 06:00:00  None  None  None  None  None  None  \n",
       "2019-01-01 06:00:00  None  None  None  None  None  None  \n",
       "2019-01-01 06:20:00  None  None  None  None  None  None  \n",
       "2019-01-01 06:20:00  None  None  None  None  None  None  \n",
       "2019-01-01 06:40:00  None  None  None  None  None  None  \n",
       "...                   ...   ...   ...   ...   ...   ...  \n",
       "2019-12-31 23:20:00  None  None  None  None  None  None  \n",
       "2019-12-31 23:40:00  None  None  None  None  None  None  \n",
       "2019-12-31 23:40:00  None  None  None  None  None  None  \n",
       "2019-12-31 23:40:00  None  None  None  None  None  None  \n",
       "2019-12-31 23:40:00  None  None  None  None  None  None  \n",
       "\n",
       "[37368 rows x 36 columns]"
      ]
     },
     "execution_count": 95,
     "metadata": {},
     "output_type": "execute_result"
    }
   ],
   "source": [
    "data['train'] = pd.concat([_data_train, \n",
    "                           pd.DataFrame(xys, index=_data_train.index, columns=columns),\n",
    "                           pd.DataFrame(processed_tokens, index=_data_train.index)],axis=1)\n",
    "data['train']"
   ]
  },
  {
   "cell_type": "code",
   "execution_count": 96,
   "metadata": {
    "ExecuteTime": {
     "end_time": "2020-09-25T10:17:31.529986Z",
     "start_time": "2020-09-25T10:17:31.494818Z"
    }
   },
   "outputs": [
    {
     "data": {
      "text/html": [
       "<div>\n",
       "<style scoped>\n",
       "    .dataframe tbody tr th:only-of-type {\n",
       "        vertical-align: middle;\n",
       "    }\n",
       "\n",
       "    .dataframe tbody tr th {\n",
       "        vertical-align: top;\n",
       "    }\n",
       "\n",
       "    .dataframe thead th {\n",
       "        text-align: right;\n",
       "    }\n",
       "</style>\n",
       "<table border=\"1\" class=\"dataframe\">\n",
       "  <thead>\n",
       "    <tr style=\"text-align: right;\">\n",
       "      <th></th>\n",
       "      <th>노출(분)</th>\n",
       "      <th>마더코드</th>\n",
       "      <th>상품코드</th>\n",
       "      <th>상품명</th>\n",
       "      <th>상품군</th>\n",
       "      <th>판매단가</th>\n",
       "      <th>취급액</th>\n",
       "      <th>연</th>\n",
       "      <th>월</th>\n",
       "      <th>주</th>\n",
       "      <th>...</th>\n",
       "      <th>9</th>\n",
       "      <th>10</th>\n",
       "      <th>11</th>\n",
       "      <th>12</th>\n",
       "      <th>13</th>\n",
       "      <th>14</th>\n",
       "      <th>15</th>\n",
       "      <th>16</th>\n",
       "      <th>17</th>\n",
       "      <th>18</th>\n",
       "    </tr>\n",
       "    <tr>\n",
       "      <th>방송일시</th>\n",
       "      <th></th>\n",
       "      <th></th>\n",
       "      <th></th>\n",
       "      <th></th>\n",
       "      <th></th>\n",
       "      <th></th>\n",
       "      <th></th>\n",
       "      <th></th>\n",
       "      <th></th>\n",
       "      <th></th>\n",
       "      <th></th>\n",
       "      <th></th>\n",
       "      <th></th>\n",
       "      <th></th>\n",
       "      <th></th>\n",
       "      <th></th>\n",
       "      <th></th>\n",
       "      <th></th>\n",
       "      <th></th>\n",
       "      <th></th>\n",
       "      <th></th>\n",
       "    </tr>\n",
       "  </thead>\n",
       "  <tbody>\n",
       "    <tr>\n",
       "      <th>2020-06-01 06:20:00</th>\n",
       "      <td>20.0000</td>\n",
       "      <td>100650</td>\n",
       "      <td>201971</td>\n",
       "      <td>잭필드 남성  반팔셔츠 4종</td>\n",
       "      <td>의류</td>\n",
       "      <td>59800</td>\n",
       "      <td>nan</td>\n",
       "      <td>2020</td>\n",
       "      <td>6</td>\n",
       "      <td>23</td>\n",
       "      <td>...</td>\n",
       "      <td>None</td>\n",
       "      <td>None</td>\n",
       "      <td>None</td>\n",
       "      <td>None</td>\n",
       "      <td>None</td>\n",
       "      <td>None</td>\n",
       "      <td>None</td>\n",
       "      <td>None</td>\n",
       "      <td>None</td>\n",
       "      <td>None</td>\n",
       "    </tr>\n",
       "    <tr>\n",
       "      <th>2020-06-01 06:40:00</th>\n",
       "      <td>20.0000</td>\n",
       "      <td>100650</td>\n",
       "      <td>201971</td>\n",
       "      <td>잭필드 남성  반팔셔츠 4종</td>\n",
       "      <td>의류</td>\n",
       "      <td>59800</td>\n",
       "      <td>nan</td>\n",
       "      <td>2020</td>\n",
       "      <td>6</td>\n",
       "      <td>23</td>\n",
       "      <td>...</td>\n",
       "      <td>None</td>\n",
       "      <td>None</td>\n",
       "      <td>None</td>\n",
       "      <td>None</td>\n",
       "      <td>None</td>\n",
       "      <td>None</td>\n",
       "      <td>None</td>\n",
       "      <td>None</td>\n",
       "      <td>None</td>\n",
       "      <td>None</td>\n",
       "    </tr>\n",
       "    <tr>\n",
       "      <th>2020-06-01 07:00:00</th>\n",
       "      <td>20.0000</td>\n",
       "      <td>100650</td>\n",
       "      <td>201971</td>\n",
       "      <td>잭필드 남성  반팔셔츠 4종</td>\n",
       "      <td>의류</td>\n",
       "      <td>59800</td>\n",
       "      <td>nan</td>\n",
       "      <td>2020</td>\n",
       "      <td>6</td>\n",
       "      <td>23</td>\n",
       "      <td>...</td>\n",
       "      <td>None</td>\n",
       "      <td>None</td>\n",
       "      <td>None</td>\n",
       "      <td>None</td>\n",
       "      <td>None</td>\n",
       "      <td>None</td>\n",
       "      <td>None</td>\n",
       "      <td>None</td>\n",
       "      <td>None</td>\n",
       "      <td>None</td>\n",
       "    </tr>\n",
       "    <tr>\n",
       "      <th>2020-06-01 07:20:00</th>\n",
       "      <td>20.0000</td>\n",
       "      <td>100445</td>\n",
       "      <td>202278</td>\n",
       "      <td>쿠미투니카 쿨 레이시 란쥬쉐이퍼&amp;팬티</td>\n",
       "      <td>속옷</td>\n",
       "      <td>69900</td>\n",
       "      <td>nan</td>\n",
       "      <td>2020</td>\n",
       "      <td>6</td>\n",
       "      <td>23</td>\n",
       "      <td>...</td>\n",
       "      <td>None</td>\n",
       "      <td>None</td>\n",
       "      <td>None</td>\n",
       "      <td>None</td>\n",
       "      <td>None</td>\n",
       "      <td>None</td>\n",
       "      <td>None</td>\n",
       "      <td>None</td>\n",
       "      <td>None</td>\n",
       "      <td>None</td>\n",
       "    </tr>\n",
       "    <tr>\n",
       "      <th>2020-06-01 07:40:00</th>\n",
       "      <td>20.0000</td>\n",
       "      <td>100445</td>\n",
       "      <td>202278</td>\n",
       "      <td>쿠미투니카 쿨 레이시 란쥬쉐이퍼&amp;팬티</td>\n",
       "      <td>속옷</td>\n",
       "      <td>69900</td>\n",
       "      <td>nan</td>\n",
       "      <td>2020</td>\n",
       "      <td>6</td>\n",
       "      <td>23</td>\n",
       "      <td>...</td>\n",
       "      <td>None</td>\n",
       "      <td>None</td>\n",
       "      <td>None</td>\n",
       "      <td>None</td>\n",
       "      <td>None</td>\n",
       "      <td>None</td>\n",
       "      <td>None</td>\n",
       "      <td>None</td>\n",
       "      <td>None</td>\n",
       "      <td>None</td>\n",
       "    </tr>\n",
       "    <tr>\n",
       "      <th>...</th>\n",
       "      <td>...</td>\n",
       "      <td>...</td>\n",
       "      <td>...</td>\n",
       "      <td>...</td>\n",
       "      <td>...</td>\n",
       "      <td>...</td>\n",
       "      <td>...</td>\n",
       "      <td>...</td>\n",
       "      <td>...</td>\n",
       "      <td>...</td>\n",
       "      <td>...</td>\n",
       "      <td>...</td>\n",
       "      <td>...</td>\n",
       "      <td>...</td>\n",
       "      <td>...</td>\n",
       "      <td>...</td>\n",
       "      <td>...</td>\n",
       "      <td>...</td>\n",
       "      <td>...</td>\n",
       "      <td>...</td>\n",
       "      <td>...</td>\n",
       "    </tr>\n",
       "    <tr>\n",
       "      <th>2020-07-01 00:10:00</th>\n",
       "      <td>10.0000</td>\n",
       "      <td>100099</td>\n",
       "      <td>200273</td>\n",
       "      <td>[일시불]라쉬반 FC바로셀로나 드로즈 패키지</td>\n",
       "      <td>속옷</td>\n",
       "      <td>99000</td>\n",
       "      <td>nan</td>\n",
       "      <td>2020</td>\n",
       "      <td>7</td>\n",
       "      <td>27</td>\n",
       "      <td>...</td>\n",
       "      <td>None</td>\n",
       "      <td>None</td>\n",
       "      <td>None</td>\n",
       "      <td>None</td>\n",
       "      <td>None</td>\n",
       "      <td>None</td>\n",
       "      <td>None</td>\n",
       "      <td>None</td>\n",
       "      <td>None</td>\n",
       "      <td>None</td>\n",
       "    </tr>\n",
       "    <tr>\n",
       "      <th>2020-07-01 00:10:00</th>\n",
       "      <td>10.0000</td>\n",
       "      <td>100099</td>\n",
       "      <td>200272</td>\n",
       "      <td>[무이자]라쉬반 FC바로셀로나 드로즈 패키지</td>\n",
       "      <td>속옷</td>\n",
       "      <td>119000</td>\n",
       "      <td>nan</td>\n",
       "      <td>2020</td>\n",
       "      <td>7</td>\n",
       "      <td>27</td>\n",
       "      <td>...</td>\n",
       "      <td>None</td>\n",
       "      <td>None</td>\n",
       "      <td>None</td>\n",
       "      <td>None</td>\n",
       "      <td>None</td>\n",
       "      <td>None</td>\n",
       "      <td>None</td>\n",
       "      <td>None</td>\n",
       "      <td>None</td>\n",
       "      <td>None</td>\n",
       "    </tr>\n",
       "    <tr>\n",
       "      <th>2020-07-01 00:10:00</th>\n",
       "      <td>10.0000</td>\n",
       "      <td>100099</td>\n",
       "      <td>200274</td>\n",
       "      <td>라쉬반 FC바로셀로나 드로즈 8종</td>\n",
       "      <td>속옷</td>\n",
       "      <td>119000</td>\n",
       "      <td>nan</td>\n",
       "      <td>2020</td>\n",
       "      <td>7</td>\n",
       "      <td>27</td>\n",
       "      <td>...</td>\n",
       "      <td>None</td>\n",
       "      <td>None</td>\n",
       "      <td>None</td>\n",
       "      <td>None</td>\n",
       "      <td>None</td>\n",
       "      <td>None</td>\n",
       "      <td>None</td>\n",
       "      <td>None</td>\n",
       "      <td>None</td>\n",
       "      <td>None</td>\n",
       "    </tr>\n",
       "    <tr>\n",
       "      <th>2020-07-01 01:20:00</th>\n",
       "      <td>20.0000</td>\n",
       "      <td>100261</td>\n",
       "      <td>200875</td>\n",
       "      <td>아놀드파마 티셔츠레깅스세트</td>\n",
       "      <td>의류</td>\n",
       "      <td>69900</td>\n",
       "      <td>nan</td>\n",
       "      <td>2020</td>\n",
       "      <td>7</td>\n",
       "      <td>27</td>\n",
       "      <td>...</td>\n",
       "      <td>None</td>\n",
       "      <td>None</td>\n",
       "      <td>None</td>\n",
       "      <td>None</td>\n",
       "      <td>None</td>\n",
       "      <td>None</td>\n",
       "      <td>None</td>\n",
       "      <td>None</td>\n",
       "      <td>None</td>\n",
       "      <td>None</td>\n",
       "    </tr>\n",
       "    <tr>\n",
       "      <th>2020-07-01 01:40:00</th>\n",
       "      <td>15.9333</td>\n",
       "      <td>100261</td>\n",
       "      <td>200875</td>\n",
       "      <td>아놀드파마 티셔츠레깅스세트</td>\n",
       "      <td>의류</td>\n",
       "      <td>69900</td>\n",
       "      <td>nan</td>\n",
       "      <td>2020</td>\n",
       "      <td>7</td>\n",
       "      <td>27</td>\n",
       "      <td>...</td>\n",
       "      <td>None</td>\n",
       "      <td>None</td>\n",
       "      <td>None</td>\n",
       "      <td>None</td>\n",
       "      <td>None</td>\n",
       "      <td>None</td>\n",
       "      <td>None</td>\n",
       "      <td>None</td>\n",
       "      <td>None</td>\n",
       "      <td>None</td>\n",
       "    </tr>\n",
       "  </tbody>\n",
       "</table>\n",
       "<p>2716 rows × 43 columns</p>\n",
       "</div>"
      ],
      "text/plain": [
       "                      노출(분)    마더코드    상품코드                       상품명 상품군  \\\n",
       "방송일시                                                                        \n",
       "2020-06-01 06:20:00 20.0000  100650  201971           잭필드 남성  반팔셔츠 4종  의류   \n",
       "2020-06-01 06:40:00 20.0000  100650  201971           잭필드 남성  반팔셔츠 4종  의류   \n",
       "2020-06-01 07:00:00 20.0000  100650  201971           잭필드 남성  반팔셔츠 4종  의류   \n",
       "2020-06-01 07:20:00 20.0000  100445  202278      쿠미투니카 쿨 레이시 란쥬쉐이퍼&팬티  속옷   \n",
       "2020-06-01 07:40:00 20.0000  100445  202278      쿠미투니카 쿨 레이시 란쥬쉐이퍼&팬티  속옷   \n",
       "...                     ...     ...     ...                       ...  ..   \n",
       "2020-07-01 00:10:00 10.0000  100099  200273  [일시불]라쉬반 FC바로셀로나 드로즈 패키지  속옷   \n",
       "2020-07-01 00:10:00 10.0000  100099  200272  [무이자]라쉬반 FC바로셀로나 드로즈 패키지  속옷   \n",
       "2020-07-01 00:10:00 10.0000  100099  200274        라쉬반 FC바로셀로나 드로즈 8종  속옷   \n",
       "2020-07-01 01:20:00 20.0000  100261  200875            아놀드파마 티셔츠레깅스세트  의류   \n",
       "2020-07-01 01:40:00 15.9333  100261  200875            아놀드파마 티셔츠레깅스세트  의류   \n",
       "\n",
       "                       판매단가  취급액     연  월   주  ...     9    10    11    12  \\\n",
       "방송일시                                           ...                           \n",
       "2020-06-01 06:20:00   59800  nan  2020  6  23  ...  None  None  None  None   \n",
       "2020-06-01 06:40:00   59800  nan  2020  6  23  ...  None  None  None  None   \n",
       "2020-06-01 07:00:00   59800  nan  2020  6  23  ...  None  None  None  None   \n",
       "2020-06-01 07:20:00   69900  nan  2020  6  23  ...  None  None  None  None   \n",
       "2020-06-01 07:40:00   69900  nan  2020  6  23  ...  None  None  None  None   \n",
       "...                     ...  ...   ... ..  ..  ...   ...   ...   ...   ...   \n",
       "2020-07-01 00:10:00   99000  nan  2020  7  27  ...  None  None  None  None   \n",
       "2020-07-01 00:10:00  119000  nan  2020  7  27  ...  None  None  None  None   \n",
       "2020-07-01 00:10:00  119000  nan  2020  7  27  ...  None  None  None  None   \n",
       "2020-07-01 01:20:00   69900  nan  2020  7  27  ...  None  None  None  None   \n",
       "2020-07-01 01:40:00   69900  nan  2020  7  27  ...  None  None  None  None   \n",
       "\n",
       "                       13    14    15    16    17    18  \n",
       "방송일시                                                     \n",
       "2020-06-01 06:20:00  None  None  None  None  None  None  \n",
       "2020-06-01 06:40:00  None  None  None  None  None  None  \n",
       "2020-06-01 07:00:00  None  None  None  None  None  None  \n",
       "2020-06-01 07:20:00  None  None  None  None  None  None  \n",
       "2020-06-01 07:40:00  None  None  None  None  None  None  \n",
       "...                   ...   ...   ...   ...   ...   ...  \n",
       "2020-07-01 00:10:00  None  None  None  None  None  None  \n",
       "2020-07-01 00:10:00  None  None  None  None  None  None  \n",
       "2020-07-01 00:10:00  None  None  None  None  None  None  \n",
       "2020-07-01 01:20:00  None  None  None  None  None  None  \n",
       "2020-07-01 01:40:00  None  None  None  None  None  None  \n",
       "\n",
       "[2716 rows x 43 columns]"
      ]
     },
     "execution_count": 96,
     "metadata": {},
     "output_type": "execute_result"
    }
   ],
   "source": [
    "data['test'] = pd.concat([_data_test,\n",
    "                          pd.DataFrame(xys_test, index=_data_test.index, columns=columns),\n",
    "                         pd.DataFrame(processed_tokens_test, index=_data_test.index)],axis=1)\n",
    "data['test']"
   ]
  },
  {
   "cell_type": "markdown",
   "metadata": {},
   "source": [
    "### 피처 생성"
   ]
  },
  {
   "cell_type": "markdown",
   "metadata": {},
   "source": [
    "#### 네이버트랜드 결합 "
   ]
  },
  {
   "cell_type": "code",
   "execution_count": 97,
   "metadata": {
    "ExecuteTime": {
     "end_time": "2020-09-25T10:17:31.838132Z",
     "start_time": "2020-09-25T10:17:31.530984Z"
    }
   },
   "outputs": [],
   "source": [
    "# 네이터 트랜드 가져오기 \n",
    "trend1 = pd.read_excel('./data/03_외부데이터/naver_group_1.xlsx',skiprows=[0,1,2,3,4,5])\n",
    "trend2 = pd.read_excel('./data/03_외부데이터/naver_group_2.xlsx',skiprows=[0,1,2,3,4,5])\n",
    "trend_criterion = pd.read_excel('./data/03_외부데이터/naver_criterion.xlsx',skiprows=[0,1,2,3,4,5]).drop('날짜.1',axis=1)\n",
    "\n",
    "# 트랜드df 만들기 \n",
    "drop_list = ['날짜.1','날짜.2','날짜.3','날짜.4','날짜']\n",
    "date = trend1['날짜']\n",
    "trend1 = trend1.drop(drop_list,axis=1)\n",
    "trend2 = trend2.drop(drop_list,axis=1)\n",
    "\n",
    "# 기준 만들기 \n",
    "cri1 = trend_criterion['농수산']/(trend_criterion['생활용품']+trend_criterion['농수산'])\n",
    "cri2 = trend_criterion['생활용품']/(trend_criterion['생활용품']+trend_criterion['농수산'])\n",
    "\n",
    "# scailing \n",
    "trend1 = trend1.apply(lambda x: x*cri1)\n",
    "trend2 = trend2.apply(lambda x: x*cri2)\n",
    "trend_df = pd.concat([trend1,trend2],axis=1)\n",
    "\n",
    "trend_df['날짜'] = date\n",
    "trend_df['날짜'] = pd.to_datetime(trend_df['날짜'])\n",
    "trend_df  = trend_df.set_index('날짜')"
   ]
  },
  {
   "cell_type": "code",
   "execution_count": 98,
   "metadata": {
    "ExecuteTime": {
     "end_time": "2020-09-25T10:17:31.853754Z",
     "start_time": "2020-09-25T10:17:31.838132Z"
    }
   },
   "outputs": [],
   "source": [
    "# min-max\n",
    "mn_scaler = MinMaxScaler()\n",
    "scaled_X = mn_scaler.fit_transform(trend_df.values)\n",
    "trend_df_final = pd.DataFrame(scaled_X,\n",
    "                              columns=trend_df.columns,\n",
    "                              index=trend_df.index)"
   ]
  },
  {
   "cell_type": "code",
   "execution_count": 99,
   "metadata": {
    "ExecuteTime": {
     "end_time": "2020-09-25T10:17:31.869375Z",
     "start_time": "2020-09-25T10:17:31.853754Z"
    }
   },
   "outputs": [],
   "source": [
    "# '미용'--> 이미용 '농수산물'--> 농수축 \n",
    "trend_df_final['침구'] = trend_df_final['가구']\n",
    "trend_df_final.columns = ['의류', '농수축', '속옷', '주방', '이미용', '가전', '생활용품', '건강기능', '잡화', '가구', '침구']"
   ]
  },
  {
   "cell_type": "code",
   "execution_count": 100,
   "metadata": {
    "ExecuteTime": {
     "end_time": "2020-09-25T10:17:31.884996Z",
     "start_time": "2020-09-25T10:17:31.869375Z"
    }
   },
   "outputs": [],
   "source": [
    "def get_trend(idx, cat):\n",
    "    return trend_df_final.loc[idx.strftime('%Y-%m-%d'), cat]"
   ]
  },
  {
   "cell_type": "code",
   "execution_count": 101,
   "metadata": {
    "ExecuteTime": {
     "end_time": "2020-09-25T10:17:46.009492Z",
     "start_time": "2020-09-25T10:17:31.884996Z"
    }
   },
   "outputs": [],
   "source": [
    "data['train']['네이버 트랜드'] = list(map(get_trend, data['train'].index, data['train'].상품군))\n",
    "data['test']['네이버 트랜드'] = list(map(get_trend, data['test'].index, data['test'].상품군))"
   ]
  },
  {
   "cell_type": "markdown",
   "metadata": {},
   "source": [
    "#### 상품별 방영 횟수\n",
    "주력상품 및 인기상품 등은 1회성이 아닌 여러번의 방영을 통해 수익을 극대화할 수 있음.\n",
    "<br>각 상품별 방영 횟수를 월, 주 단위로 알아봄."
   ]
  },
  {
   "cell_type": "markdown",
   "metadata": {},
   "source": [
    "##### 상품별 월 방영 횟수"
   ]
  },
  {
   "cell_type": "code",
   "execution_count": 102,
   "metadata": {
    "ExecuteTime": {
     "end_time": "2020-09-25T10:18:58.187388Z",
     "start_time": "2020-09-25T10:17:46.009492Z"
    }
   },
   "outputs": [],
   "source": [
    "def month_cnt(input_df, month):\n",
    "    #상품 확인\n",
    "    df = input_df[input_df.월 == month]\n",
    "    month_prod = df.drop_duplicates(['상품명','월','일','시'])\n",
    "    unq_cnt = np.zeros(len(month_prod))\n",
    "    for i in range(len(month_prod)):\n",
    "        prod_name = list(month_prod.상품명)[i]\n",
    "        cnt = list(month_prod[:i+1].상품명).count(prod_name)\n",
    "        unq_cnt[i] = cnt\n",
    "    month_prod = pd.concat([month_prod,pd.DataFrame(unq_cnt, columns = ['cnt'], index = month_prod.index)], axis = 1)\n",
    "    #식별자\n",
    "    month_prod['id'] = [str(month_prod.상품명[idx])+str(month_prod.월[idx])+str(month_prod.일[idx])+str(month_prod.시[idx]) for idx in range(len(month_prod))]        \n",
    "    \n",
    "    #Count List\n",
    "    month_cnt = []\n",
    "    for j in range(len(df)):\n",
    "        ID = str(list(df.상품명)[j])+str(list(df.월)[j])+str(list(df.일)[j])+str(list(df.시)[j])\n",
    "        month_cnt.append(month_prod[month_prod.id == ID].cnt.values[0])\n",
    "    \n",
    "    return month_cnt\n",
    "\n",
    "## Train\n",
    "month_train = []\n",
    "for i in range(1,13):\n",
    "    mon_cnt = month_cnt(data['train'], i)\n",
    "    month_train = month_train + mon_cnt\n",
    "\n",
    "## Test\n",
    "month_test = []\n",
    "for i in range(1,13):\n",
    "    mon_cnt = month_cnt(data['test'], i)\n",
    "    month_test = month_test + mon_cnt"
   ]
  },
  {
   "cell_type": "markdown",
   "metadata": {},
   "source": [
    "##### 상품별 주 방영 횟수"
   ]
  },
  {
   "cell_type": "code",
   "execution_count": 103,
   "metadata": {
    "ExecuteTime": {
     "end_time": "2020-09-25T10:19:37.611294Z",
     "start_time": "2020-09-25T10:18:58.187388Z"
    }
   },
   "outputs": [],
   "source": [
    "def week_cnt(input_df, week):\n",
    "    #상품 확인\n",
    "    df = input_df[input_df.주 == week]\n",
    "    week_prod = df.drop_duplicates(['상품명','주','일','시'])\n",
    "    unq_cnt = np.zeros(len(week_prod))\n",
    "    for i in range(len(week_prod)):\n",
    "        prod_name = list(week_prod.상품명)[i]\n",
    "        cnt = list(week_prod[:i+1].상품명).count(prod_name)\n",
    "        unq_cnt[i] = cnt\n",
    "    week_prod = pd.concat([week_prod,pd.DataFrame(unq_cnt, columns = ['cnt'], index = week_prod.index)], axis = 1)\n",
    "    #식별자\n",
    "    week_prod['id'] = [str(week_prod.상품명[idx])+str(week_prod.주[idx])+str(week_prod.일[idx])+str(week_prod.시[idx]) for idx in range(len(week_prod))]\n",
    "    \n",
    "    #Count List\n",
    "    week_cnt = []\n",
    "    for j in range(len(df)):\n",
    "        ID = str(list(df.상품명)[j])+str(list(df.주)[j])+str(list(df.일)[j])+str(list(df.시)[j])\n",
    "        week_cnt.append(week_prod[week_prod.id == ID].cnt.values[0])\n",
    "    \n",
    "    return week_cnt\n",
    "\n",
    "## Train \n",
    "week_train = []\n",
    "for i in range(1,53):\n",
    "    wk_cnt = week_cnt(data['train'], i)\n",
    "    week_train = week_train + wk_cnt\n",
    "\n",
    "## Test\n",
    "week_test = []\n",
    "for i in range(1,53):\n",
    "    wk_cnt = week_cnt(data['test'], i)\n",
    "    week_test = week_test + wk_cnt"
   ]
  },
  {
   "cell_type": "code",
   "execution_count": 104,
   "metadata": {
    "ExecuteTime": {
     "end_time": "2020-09-25T10:19:37.639252Z",
     "start_time": "2020-09-25T10:19:37.611294Z"
    }
   },
   "outputs": [],
   "source": [
    "data['train'] = pd.concat([data['train'],\n",
    "           pd.DataFrame(month_train, columns=['월간누적방영횟수'], index=data['train'].index),\n",
    "           pd.DataFrame(week_train, columns=['주간누적방영횟수'], index=data['train'].index)], axis=1)"
   ]
  },
  {
   "cell_type": "code",
   "execution_count": 105,
   "metadata": {
    "ExecuteTime": {
     "end_time": "2020-09-25T10:19:37.648198Z",
     "start_time": "2020-09-25T10:19:37.640221Z"
    }
   },
   "outputs": [],
   "source": [
    "data['test'] = pd.concat([data['test'],\n",
    "           pd.DataFrame(month_test, columns=['월간누적방영횟수'], index=data['test'].index),\n",
    "           pd.DataFrame(week_test, columns=['주간누적방영횟수'], index=data['test'].index)], axis=1)"
   ]
  },
  {
   "cell_type": "markdown",
   "metadata": {},
   "source": [
    "#### 방송 재핑시간\n",
    "\n",
    "<br> Btv: MBC(11) - NS홈쇼핑(14) - JTBC(15)\n",
    "<br> Olleh TV: MBC(11) - NS홈쇼핑(12) - JTBC(15)\n",
    "<br> U+ tv: MBC(11) - NS홈쇼핑(13) - JTBC(15)\n",
    "<br> NS 홈쇼핑이 MBC, JTBC 사이에 있음을 확인, 해당 채널의 주요 프로그램(예능, 드라마)이 끝나는 시간대에서 채널이 돌아가는 재핑타임(Zapping Time)을 Feature로 삼을 수 있음."
   ]
  },
  {
   "cell_type": "code",
   "execution_count": 106,
   "metadata": {
    "ExecuteTime": {
     "end_time": "2020-09-25T10:19:37.818774Z",
     "start_time": "2020-09-25T10:19:37.649196Z"
    }
   },
   "outputs": [],
   "source": [
    "###Importing TV Data\n",
    "#MBC\n",
    "MBC_time = pd.read_excel('./data/03_외부데이터/TV_Time.xlsx', sheet_name='MBC')\n",
    "MBC_time['Time'] = MBC_time['MBC']\n",
    "MBC_time = MBC_time.drop(['MBC'], axis=1).set_index('Time')\n",
    "\n",
    "#JTBC\n",
    "JTBC_time =pd.read_excel('./data/03_외부데이터/TV_Time.xlsx', sheet_name='JTBC')\n",
    "JTBC_time['Time'] = JTBC_time['JTBC']\n",
    "JTBC_time = JTBC_time.drop(['JTBC'], axis=1).set_index('Time')"
   ]
  },
  {
   "cell_type": "code",
   "execution_count": 107,
   "metadata": {
    "ExecuteTime": {
     "end_time": "2020-09-25T10:19:37.830726Z",
     "start_time": "2020-09-25T10:19:37.819751Z"
    }
   },
   "outputs": [],
   "source": [
    "# TimeTable에서 Zapping Time 찾기\n",
    "def find_Zap(str):  #str: 'MBC' or 'JTBC'\n",
    "    global time_list\n",
    "    if str == 'MBC':\n",
    "        time_list = MBC_time\n",
    "    elif str == 'JTBC':\n",
    "        time_list = JTBC_time\n",
    "    else:\n",
    "        return pd.DataFrame()\n",
    "    \n",
    "    Zap_Time = []\n",
    "    Zap_Weekday = []\n",
    "    for j in tqdm_notebook(range(len(time_list.columns))):\n",
    "        for i in range(len(time_list)):\n",
    "            Target = time_list.iloc[i,j]\n",
    "            if (Target is not np.nan):\n",
    "                if (i != 0) & (i != len(time_list)-1):\n",
    "                    if (time_list.iloc[i-1,j] !=Target):\n",
    "                        Zap_Time.append(time_list.index[i])\n",
    "                        Zap_Weekday.append(time_list.columns[j])\n",
    "                    if (time_list.iloc[i+1,j] !=Target):\n",
    "                        Zap_Time.append(time_list.index[i])\n",
    "                        Zap_Weekday.append(time_list.columns[j])                    \n",
    "                elif i == 0:\n",
    "                    if (time_list.iloc[i+1,j] !=Target):\n",
    "                        Zap_Time.append(time_list.index[i])\n",
    "                        Zap_Weekday.append(time_list.columns[j])                    \n",
    "                elif i == len(time_list)-1:\n",
    "                    if j == 6:\n",
    "                        break\n",
    "                    if (time_list.iloc[0,j+1] !=Target):\n",
    "                        Zap_Time.append(time_list.index[i])\n",
    "                        Zap_Weekday.append(time_list.columns[j])\n",
    "    _Zap = pd.DataFrame({'weekday':Zap_Weekday, 'Time': Zap_Time})\n",
    "\n",
    "    _Zap['hour'] = _Zap.Time.map(lambda x: x.hour)\n",
    "    _Zap['minute'] = _Zap.Time.map(lambda x: x.minute)\n",
    "    return _Zap"
   ]
  },
  {
   "cell_type": "code",
   "execution_count": 108,
   "metadata": {
    "ExecuteTime": {
     "end_time": "2020-09-25T10:19:37.933436Z",
     "start_time": "2020-09-25T10:19:37.831709Z"
    }
   },
   "outputs": [
    {
     "data": {
      "application/vnd.jupyter.widget-view+json": {
       "model_id": "87be1a444b5941baa9782ec6b9157f1f",
       "version_major": 2,
       "version_minor": 0
      },
      "text/plain": [
       "HBox(children=(FloatProgress(value=0.0, max=7.0), HTML(value='')))"
      ]
     },
     "metadata": {},
     "output_type": "display_data"
    },
    {
     "name": "stdout",
     "output_type": "stream",
     "text": [
      "\n"
     ]
    },
    {
     "data": {
      "application/vnd.jupyter.widget-view+json": {
       "model_id": "4a3e0162f9304f26a1790cd081fc5de7",
       "version_major": 2,
       "version_minor": 0
      },
      "text/plain": [
       "HBox(children=(FloatProgress(value=0.0, max=38.0), HTML(value='')))"
      ]
     },
     "metadata": {},
     "output_type": "display_data"
    },
    {
     "name": "stdout",
     "output_type": "stream",
     "text": [
      "\n"
     ]
    },
    {
     "data": {
      "application/vnd.jupyter.widget-view+json": {
       "model_id": "14d723d4ab284e3fac6e0afd11410e0b",
       "version_major": 2,
       "version_minor": 0
      },
      "text/plain": [
       "HBox(children=(FloatProgress(value=0.0, max=7.0), HTML(value='')))"
      ]
     },
     "metadata": {},
     "output_type": "display_data"
    },
    {
     "name": "stdout",
     "output_type": "stream",
     "text": [
      "\n"
     ]
    },
    {
     "data": {
      "application/vnd.jupyter.widget-view+json": {
       "model_id": "e9eac3be08864a519c56e26c708f17b9",
       "version_major": 2,
       "version_minor": 0
      },
      "text/plain": [
       "HBox(children=(FloatProgress(value=0.0, max=21.0), HTML(value='')))"
      ]
     },
     "metadata": {},
     "output_type": "display_data"
    },
    {
     "name": "stdout",
     "output_type": "stream",
     "text": [
      "\n"
     ]
    }
   ],
   "source": [
    "# 식별식 만들기 (loop 방지)\n",
    "df_MBC = find_Zap('MBC')\n",
    "MBC_clf = []\n",
    "for i in tqdm_notebook(range(len(df_MBC))):\n",
    "    MBC_clf.append(df_MBC['weekday'][i] +\n",
    "                   str(df_MBC['hour'][i]) + str(df_MBC['minute'][i]))\n",
    "\n",
    "df_JTBC = find_Zap('JTBC')\n",
    "JTBC_clf = []\n",
    "for i in tqdm_notebook(range(len(df_JTBC))):\n",
    "    JTBC_clf.append(df_JTBC['weekday'][i] +\n",
    "                    str(df_JTBC['hour'][i]) + str(df_JTBC['minute'][i]))"
   ]
  },
  {
   "cell_type": "code",
   "execution_count": 109,
   "metadata": {
    "ExecuteTime": {
     "end_time": "2020-09-25T10:19:37.939420Z",
     "start_time": "2020-09-25T10:19:37.934434Z"
    }
   },
   "outputs": [],
   "source": [
    "def Insert_zapping(df):\n",
    "    MBC_zap_list = np.zeros(len(df))\n",
    "    JTBC_zap_list = np.zeros(len(df))\n",
    "    for i in tqdm_notebook(range(len(df))):\n",
    "        #MBC\n",
    "        Zap_encoding = df.iloc[i].요일 + str(df.iloc[i].시) + str(df.iloc[i].분)\n",
    "        if Zap_encoding in MBC_clf:\n",
    "            MBC_zap_list[i] = True\n",
    "        if Zap_encoding in JTBC_clf:\n",
    "            JTBC_zap_list[i] = True\n",
    "    df['MBC_Zapping'] = MBC_zap_list\n",
    "    df['JTBC_Zapping'] = JTBC_zap_list\n",
    "    return df"
   ]
  },
  {
   "cell_type": "markdown",
   "metadata": {},
   "source": [
    "#### 골든타임 피쳐 생성"
   ]
  },
  {
   "cell_type": "markdown",
   "metadata": {},
   "source": [
    "홈쇼핑에서 매출의 많은 비중을 차지하는 시청률이 높은 시간대를 황금시간대라 부르고 이 시간대에 방영된 상품인지 아닌지의 여부 또한 Feature로 추가한다."
   ]
  },
  {
   "cell_type": "code",
   "execution_count": 110,
   "metadata": {
    "ExecuteTime": {
     "end_time": "2020-09-25T10:19:37.945404Z",
     "start_time": "2020-09-25T10:19:37.940418Z"
    }
   },
   "outputs": [],
   "source": [
    "def prime_time(timestamp):\n",
    "    \n",
    "    weekdays = ['Mon', 'Tue', 'Wed', 'Thu', 'Fri']\n",
    "    \n",
    "    day = calendar.day_abbr[timestamp.weekday()]\n",
    "    time = int(f'{str(timestamp.hour).zfill(2)}{str(timestamp.minute).zfill(2)}')\n",
    "    \n",
    "    if day in weekdays:\n",
    "        return 1 if 2000 <= time <= 2400 else 0\n",
    "            \n",
    "    elif day == 'Sat':\n",
    "        return 1 if 1900 <= time <= 2330 else 0\n",
    "    \n",
    "    elif day == 'Sun':\n",
    "        return 1 if 1800 <= time <= 2330 else 0"
   ]
  },
  {
   "cell_type": "code",
   "execution_count": 111,
   "metadata": {
    "ExecuteTime": {
     "end_time": "2020-09-25T10:19:38.297462Z",
     "start_time": "2020-09-25T10:19:37.946402Z"
    }
   },
   "outputs": [],
   "source": [
    "data['train']['prime_time'] = data['train'].index.map(prime_time)"
   ]
  },
  {
   "cell_type": "code",
   "execution_count": 112,
   "metadata": {
    "ExecuteTime": {
     "end_time": "2020-09-25T10:19:38.328380Z",
     "start_time": "2020-09-25T10:19:38.298460Z"
    }
   },
   "outputs": [],
   "source": [
    "data['test']['prime_time'] = data['test'].index.map(prime_time)"
   ]
  },
  {
   "cell_type": "markdown",
   "metadata": {},
   "source": [
    "#### 토큰리스트 생성"
   ]
  },
  {
   "cell_type": "code",
   "execution_count": 113,
   "metadata": {
    "ExecuteTime": {
     "end_time": "2020-09-25T10:19:38.334364Z",
     "start_time": "2020-09-25T10:19:38.329378Z"
    }
   },
   "outputs": [],
   "source": [
    "#Tokenized Data\n",
    "def Making_token(raw_data, df_token):\n",
    "    #raw_data = pd.concat([raw_data, df_token],axis=1,ignore_index=True)\n",
    "    tot_token_list = []\n",
    "    for i in tqdm_notebook(range(len(raw_data))):\n",
    "        token = []\n",
    "        for colname in df_token.columns:\n",
    "            val = raw_data[colname].iloc[i]\n",
    "            if val is not None:\n",
    "                token.append(val)\n",
    "        tot_token_list.append(token)\n",
    "    raw_data['token_list'] = tot_token_list\n",
    "    return raw_data"
   ]
  },
  {
   "cell_type": "markdown",
   "metadata": {},
   "source": [
    "#### 성별 추가"
   ]
  },
  {
   "cell_type": "code",
   "execution_count": 114,
   "metadata": {
    "ExecuteTime": {
     "end_time": "2020-09-25T10:19:38.343340Z",
     "start_time": "2020-09-25T10:19:38.335362Z"
    },
    "scrolled": true
   },
   "outputs": [],
   "source": [
    "def Insert_sex_dummy(df_with_token):  #tokenized dummy\n",
    "    if 'token_list' not in df_with_token.columns:\n",
    "        print('토큰 리스트를 만들어오세요.')\n",
    "        return\n",
    "    sex_list = []\n",
    "    for i in tqdm_notebook(range(len(df_with_token))):\n",
    "        if ('남성' in df_with_token['token_list'].iloc[i]) or ('남성용' in df_with_token['token_list'].iloc[i]) or ('남자' in df_with_token['token_list'].iloc[i]):\n",
    "            sex_list.append('남성')\n",
    "        elif ('여성' in df_with_token['token_list'].iloc[i]) or ('여성용' in df_with_token['token_list'].iloc[i]) or ('여자' in df_with_token['token_list'].iloc[i]):\n",
    "            sex_list.append('여성')\n",
    "        else:\n",
    "            sex_list.append('무성')\n",
    "    sex_dummies = pd.get_dummies(sex_list)\n",
    "    sex_dummies = pd.DataFrame(sex_dummies[['남성','여성']].values, index=df_with_token.index, columns=['남성','여성'])\n",
    "    df_with_token = pd.concat([df_with_token, sex_dummies[['남성','여성']]],axis=1)\n",
    "    return df_with_token"
   ]
  },
  {
   "cell_type": "markdown",
   "metadata": {},
   "source": [
    "#### 무이자/일시불 여부 "
   ]
  },
  {
   "cell_type": "code",
   "execution_count": 115,
   "metadata": {
    "ExecuteTime": {
     "end_time": "2020-09-25T10:19:38.351318Z",
     "start_time": "2020-09-25T10:19:38.344338Z"
    }
   },
   "outputs": [],
   "source": [
    "def Insert_credit_dummy(df_with_token):\n",
    "    if 'token_list' not in df_with_token.columns:\n",
    "        print('토큰 리스트를 만들어오세요.')\n",
    "        return    \n",
    "    credit_list = []\n",
    "    for i in tqdm_notebook(range(len(df_with_token))):\n",
    "        if ('일시불' in df_with_token['token_list'].iloc[i]) or ('일' in df_with_token['token_list'].iloc[i]):        \n",
    "            credit_list.append('일시불')\n",
    "        elif ('무이자' in df_with_token['token_list'].iloc[i]) or ('무' in df_with_token['token_list'].iloc[i]):\n",
    "            credit_list.append('무이자')\n",
    "        else:\n",
    "            credit_list.append('없음')\n",
    "    credit_list = pd.get_dummies(credit_list)\n",
    "    credit_list = pd.DataFrame(credit_list[['일시불', '무이자']].values, index=df_with_token.index, columns=['일시불', '무이자'])\n",
    "    df_with_token = pd.concat([df_with_token,credit_list[['일시불','무이자']]],axis=1)\n",
    "    return df_with_token"
   ]
  },
  {
   "cell_type": "markdown",
   "metadata": {},
   "source": [
    "#### 휴일 여부 "
   ]
  },
  {
   "cell_type": "code",
   "execution_count": 116,
   "metadata": {
    "ExecuteTime": {
     "end_time": "2020-09-25T10:19:38.359297Z",
     "start_time": "2020-09-25T10:19:38.352317Z"
    }
   },
   "outputs": [],
   "source": [
    "def Insert_holiday_dummy(df, data='train'): \n",
    "    '''\n",
    "    data(str): 'train' or 'test'\n",
    "    '''\n",
    "    global holiday\n",
    "    \n",
    "    if data == 'train':\n",
    "        #2019.01.01 ~ 2020.01.01\n",
    "        holiday = ['1/1','2/4','2/5','2/6','3/1','5/6','6/6','8/15','9/12','9/13','10/3','10/9','12/25']\n",
    "    else:\n",
    "        #2020.06.01 ~ 2020.07.01\n",
    "        holiday = []\n",
    "    \n",
    "    holi_list = np.zeros(len(df))    \n",
    "    for i in tqdm_notebook(range(len(df))):\n",
    "        day = str(df.iloc[i].월)+'/'+str(df.iloc[i].일)\n",
    "        weekday = df.iloc[i].요일\n",
    "        if (weekday in ['Sat', 'Sun']) or (day in holiday):\n",
    "#            print('{} is holiday!'.format(day))\n",
    "            holi_list[i] = True\n",
    "        else:\n",
    "            holi_list[i] = False\n",
    "    df['휴일'] = holi_list\n",
    "    return df"
   ]
  },
  {
   "cell_type": "markdown",
   "metadata": {},
   "source": [
    "#### Total Preprocessing"
   ]
  },
  {
   "cell_type": "code",
   "execution_count": 117,
   "metadata": {
    "ExecuteTime": {
     "end_time": "2020-09-25T10:19:38.397196Z",
     "start_time": "2020-09-25T10:19:38.360295Z"
    }
   },
   "outputs": [],
   "source": [
    "_train = data['train'].copy()\n",
    "_test = data['test'].copy()"
   ]
  },
  {
   "cell_type": "code",
   "execution_count": 118,
   "metadata": {
    "ExecuteTime": {
     "end_time": "2020-09-25T10:19:38.443105Z",
     "start_time": "2020-09-25T10:19:38.398192Z"
    }
   },
   "outputs": [
    {
     "data": {
      "text/html": [
       "<div>\n",
       "<style scoped>\n",
       "    .dataframe tbody tr th:only-of-type {\n",
       "        vertical-align: middle;\n",
       "    }\n",
       "\n",
       "    .dataframe tbody tr th {\n",
       "        vertical-align: top;\n",
       "    }\n",
       "\n",
       "    .dataframe thead th {\n",
       "        text-align: right;\n",
       "    }\n",
       "</style>\n",
       "<table border=\"1\" class=\"dataframe\">\n",
       "  <thead>\n",
       "    <tr style=\"text-align: right;\">\n",
       "      <th></th>\n",
       "      <th>노출(분)</th>\n",
       "      <th>마더코드</th>\n",
       "      <th>상품코드</th>\n",
       "      <th>상품명</th>\n",
       "      <th>상품군</th>\n",
       "      <th>판매단가</th>\n",
       "      <th>취급액</th>\n",
       "      <th>연</th>\n",
       "      <th>월</th>\n",
       "      <th>주</th>\n",
       "      <th>...</th>\n",
       "      <th>6</th>\n",
       "      <th>7</th>\n",
       "      <th>8</th>\n",
       "      <th>9</th>\n",
       "      <th>10</th>\n",
       "      <th>11</th>\n",
       "      <th>네이버 트랜드</th>\n",
       "      <th>월간누적방영횟수</th>\n",
       "      <th>주간누적방영횟수</th>\n",
       "      <th>prime_time</th>\n",
       "    </tr>\n",
       "    <tr>\n",
       "      <th>방송일시</th>\n",
       "      <th></th>\n",
       "      <th></th>\n",
       "      <th></th>\n",
       "      <th></th>\n",
       "      <th></th>\n",
       "      <th></th>\n",
       "      <th></th>\n",
       "      <th></th>\n",
       "      <th></th>\n",
       "      <th></th>\n",
       "      <th></th>\n",
       "      <th></th>\n",
       "      <th></th>\n",
       "      <th></th>\n",
       "      <th></th>\n",
       "      <th></th>\n",
       "      <th></th>\n",
       "      <th></th>\n",
       "      <th></th>\n",
       "      <th></th>\n",
       "      <th></th>\n",
       "    </tr>\n",
       "  </thead>\n",
       "  <tbody>\n",
       "    <tr>\n",
       "      <th>2019-01-01 06:00:00</th>\n",
       "      <td>20.0000</td>\n",
       "      <td>100346</td>\n",
       "      <td>201072</td>\n",
       "      <td>테이트 남성 셀린니트3종</td>\n",
       "      <td>의류</td>\n",
       "      <td>39900</td>\n",
       "      <td>2099000.0000</td>\n",
       "      <td>2019</td>\n",
       "      <td>1</td>\n",
       "      <td>1</td>\n",
       "      <td>...</td>\n",
       "      <td>None</td>\n",
       "      <td>None</td>\n",
       "      <td>None</td>\n",
       "      <td>None</td>\n",
       "      <td>None</td>\n",
       "      <td>None</td>\n",
       "      <td>0.0264</td>\n",
       "      <td>1.0000</td>\n",
       "      <td>1.0000</td>\n",
       "      <td>None</td>\n",
       "    </tr>\n",
       "    <tr>\n",
       "      <th>2019-01-01 06:00:00</th>\n",
       "      <td>20.0000</td>\n",
       "      <td>100346</td>\n",
       "      <td>201079</td>\n",
       "      <td>테이트 여성 셀린니트3종</td>\n",
       "      <td>의류</td>\n",
       "      <td>39900</td>\n",
       "      <td>4371000.0000</td>\n",
       "      <td>2019</td>\n",
       "      <td>1</td>\n",
       "      <td>1</td>\n",
       "      <td>...</td>\n",
       "      <td>None</td>\n",
       "      <td>None</td>\n",
       "      <td>None</td>\n",
       "      <td>None</td>\n",
       "      <td>None</td>\n",
       "      <td>None</td>\n",
       "      <td>0.0264</td>\n",
       "      <td>1.0000</td>\n",
       "      <td>1.0000</td>\n",
       "      <td>None</td>\n",
       "    </tr>\n",
       "    <tr>\n",
       "      <th>2019-01-01 06:20:00</th>\n",
       "      <td>20.0000</td>\n",
       "      <td>100346</td>\n",
       "      <td>201072</td>\n",
       "      <td>테이트 남성 셀린니트3종</td>\n",
       "      <td>의류</td>\n",
       "      <td>39900</td>\n",
       "      <td>3262000.0000</td>\n",
       "      <td>2019</td>\n",
       "      <td>1</td>\n",
       "      <td>1</td>\n",
       "      <td>...</td>\n",
       "      <td>None</td>\n",
       "      <td>None</td>\n",
       "      <td>None</td>\n",
       "      <td>None</td>\n",
       "      <td>None</td>\n",
       "      <td>None</td>\n",
       "      <td>0.0264</td>\n",
       "      <td>1.0000</td>\n",
       "      <td>1.0000</td>\n",
       "      <td>None</td>\n",
       "    </tr>\n",
       "    <tr>\n",
       "      <th>2019-01-01 06:20:00</th>\n",
       "      <td>20.0000</td>\n",
       "      <td>100346</td>\n",
       "      <td>201079</td>\n",
       "      <td>테이트 여성 셀린니트3종</td>\n",
       "      <td>의류</td>\n",
       "      <td>39900</td>\n",
       "      <td>6955000.0000</td>\n",
       "      <td>2019</td>\n",
       "      <td>1</td>\n",
       "      <td>1</td>\n",
       "      <td>...</td>\n",
       "      <td>None</td>\n",
       "      <td>None</td>\n",
       "      <td>None</td>\n",
       "      <td>None</td>\n",
       "      <td>None</td>\n",
       "      <td>None</td>\n",
       "      <td>0.0264</td>\n",
       "      <td>1.0000</td>\n",
       "      <td>1.0000</td>\n",
       "      <td>None</td>\n",
       "    </tr>\n",
       "    <tr>\n",
       "      <th>2019-01-01 06:40:00</th>\n",
       "      <td>20.0000</td>\n",
       "      <td>100346</td>\n",
       "      <td>201072</td>\n",
       "      <td>테이트 남성 셀린니트3종</td>\n",
       "      <td>의류</td>\n",
       "      <td>39900</td>\n",
       "      <td>6672000.0000</td>\n",
       "      <td>2019</td>\n",
       "      <td>1</td>\n",
       "      <td>1</td>\n",
       "      <td>...</td>\n",
       "      <td>None</td>\n",
       "      <td>None</td>\n",
       "      <td>None</td>\n",
       "      <td>None</td>\n",
       "      <td>None</td>\n",
       "      <td>None</td>\n",
       "      <td>0.0264</td>\n",
       "      <td>1.0000</td>\n",
       "      <td>1.0000</td>\n",
       "      <td>None</td>\n",
       "    </tr>\n",
       "    <tr>\n",
       "      <th>...</th>\n",
       "      <td>...</td>\n",
       "      <td>...</td>\n",
       "      <td>...</td>\n",
       "      <td>...</td>\n",
       "      <td>...</td>\n",
       "      <td>...</td>\n",
       "      <td>...</td>\n",
       "      <td>...</td>\n",
       "      <td>...</td>\n",
       "      <td>...</td>\n",
       "      <td>...</td>\n",
       "      <td>...</td>\n",
       "      <td>...</td>\n",
       "      <td>...</td>\n",
       "      <td>...</td>\n",
       "      <td>...</td>\n",
       "      <td>...</td>\n",
       "      <td>...</td>\n",
       "      <td>...</td>\n",
       "      <td>...</td>\n",
       "      <td>...</td>\n",
       "    </tr>\n",
       "    <tr>\n",
       "      <th>2019-12-31 23:20:00</th>\n",
       "      <td>20.0000</td>\n",
       "      <td>100448</td>\n",
       "      <td>201391</td>\n",
       "      <td>일시불쿠첸압력밥솥 6인용</td>\n",
       "      <td>주방</td>\n",
       "      <td>148000</td>\n",
       "      <td>1664000.0000</td>\n",
       "      <td>2019</td>\n",
       "      <td>12</td>\n",
       "      <td>1</td>\n",
       "      <td>...</td>\n",
       "      <td>None</td>\n",
       "      <td>None</td>\n",
       "      <td>None</td>\n",
       "      <td>None</td>\n",
       "      <td>None</td>\n",
       "      <td>None</td>\n",
       "      <td>0.1270</td>\n",
       "      <td>17.0000</td>\n",
       "      <td>1.0000</td>\n",
       "      <td>None</td>\n",
       "    </tr>\n",
       "    <tr>\n",
       "      <th>2019-12-31 23:40:00</th>\n",
       "      <td>20.0000</td>\n",
       "      <td>100448</td>\n",
       "      <td>201383</td>\n",
       "      <td>무이자쿠첸압력밥솥 10인용</td>\n",
       "      <td>주방</td>\n",
       "      <td>178000</td>\n",
       "      <td>9149000.0000</td>\n",
       "      <td>2019</td>\n",
       "      <td>12</td>\n",
       "      <td>1</td>\n",
       "      <td>...</td>\n",
       "      <td>None</td>\n",
       "      <td>None</td>\n",
       "      <td>None</td>\n",
       "      <td>None</td>\n",
       "      <td>None</td>\n",
       "      <td>None</td>\n",
       "      <td>0.1270</td>\n",
       "      <td>17.0000</td>\n",
       "      <td>1.0000</td>\n",
       "      <td>None</td>\n",
       "    </tr>\n",
       "    <tr>\n",
       "      <th>2019-12-31 23:40:00</th>\n",
       "      <td>20.0000</td>\n",
       "      <td>100448</td>\n",
       "      <td>201390</td>\n",
       "      <td>일시불쿠첸압력밥솥 10인용</td>\n",
       "      <td>주방</td>\n",
       "      <td>168000</td>\n",
       "      <td>15282000.0000</td>\n",
       "      <td>2019</td>\n",
       "      <td>12</td>\n",
       "      <td>1</td>\n",
       "      <td>...</td>\n",
       "      <td>None</td>\n",
       "      <td>None</td>\n",
       "      <td>None</td>\n",
       "      <td>None</td>\n",
       "      <td>None</td>\n",
       "      <td>None</td>\n",
       "      <td>0.1270</td>\n",
       "      <td>17.0000</td>\n",
       "      <td>1.0000</td>\n",
       "      <td>None</td>\n",
       "    </tr>\n",
       "    <tr>\n",
       "      <th>2019-12-31 23:40:00</th>\n",
       "      <td>20.0000</td>\n",
       "      <td>100448</td>\n",
       "      <td>201384</td>\n",
       "      <td>무이자쿠첸압력밥솥 6인용</td>\n",
       "      <td>주방</td>\n",
       "      <td>158000</td>\n",
       "      <td>2328000.0000</td>\n",
       "      <td>2019</td>\n",
       "      <td>12</td>\n",
       "      <td>1</td>\n",
       "      <td>...</td>\n",
       "      <td>None</td>\n",
       "      <td>None</td>\n",
       "      <td>None</td>\n",
       "      <td>None</td>\n",
       "      <td>None</td>\n",
       "      <td>None</td>\n",
       "      <td>0.1270</td>\n",
       "      <td>17.0000</td>\n",
       "      <td>1.0000</td>\n",
       "      <td>None</td>\n",
       "    </tr>\n",
       "    <tr>\n",
       "      <th>2019-12-31 23:40:00</th>\n",
       "      <td>20.0000</td>\n",
       "      <td>100448</td>\n",
       "      <td>201391</td>\n",
       "      <td>일시불쿠첸압력밥솥 6인용</td>\n",
       "      <td>주방</td>\n",
       "      <td>148000</td>\n",
       "      <td>10157000.0000</td>\n",
       "      <td>2019</td>\n",
       "      <td>12</td>\n",
       "      <td>1</td>\n",
       "      <td>...</td>\n",
       "      <td>None</td>\n",
       "      <td>None</td>\n",
       "      <td>None</td>\n",
       "      <td>None</td>\n",
       "      <td>None</td>\n",
       "      <td>None</td>\n",
       "      <td>0.1270</td>\n",
       "      <td>17.0000</td>\n",
       "      <td>1.0000</td>\n",
       "      <td>None</td>\n",
       "    </tr>\n",
       "  </tbody>\n",
       "</table>\n",
       "<p>37368 rows × 40 columns</p>\n",
       "</div>"
      ],
      "text/plain": [
       "                      노출(분)    마더코드    상품코드             상품명 상품군    판매단가  \\\n",
       "방송일시                                                                      \n",
       "2019-01-01 06:00:00 20.0000  100346  201072   테이트 남성 셀린니트3종  의류   39900   \n",
       "2019-01-01 06:00:00 20.0000  100346  201079   테이트 여성 셀린니트3종  의류   39900   \n",
       "2019-01-01 06:20:00 20.0000  100346  201072   테이트 남성 셀린니트3종  의류   39900   \n",
       "2019-01-01 06:20:00 20.0000  100346  201079   테이트 여성 셀린니트3종  의류   39900   \n",
       "2019-01-01 06:40:00 20.0000  100346  201072   테이트 남성 셀린니트3종  의류   39900   \n",
       "...                     ...     ...     ...             ...  ..     ...   \n",
       "2019-12-31 23:20:00 20.0000  100448  201391   일시불쿠첸압력밥솥 6인용  주방  148000   \n",
       "2019-12-31 23:40:00 20.0000  100448  201383  무이자쿠첸압력밥솥 10인용  주방  178000   \n",
       "2019-12-31 23:40:00 20.0000  100448  201390  일시불쿠첸압력밥솥 10인용  주방  168000   \n",
       "2019-12-31 23:40:00 20.0000  100448  201384   무이자쿠첸압력밥솥 6인용  주방  158000   \n",
       "2019-12-31 23:40:00 20.0000  100448  201391   일시불쿠첸압력밥솥 6인용  주방  148000   \n",
       "\n",
       "                              취급액     연   월  주  ...     6     7     8     9  \\\n",
       "방송일시                                            ...                           \n",
       "2019-01-01 06:00:00  2099000.0000  2019   1  1  ...  None  None  None  None   \n",
       "2019-01-01 06:00:00  4371000.0000  2019   1  1  ...  None  None  None  None   \n",
       "2019-01-01 06:20:00  3262000.0000  2019   1  1  ...  None  None  None  None   \n",
       "2019-01-01 06:20:00  6955000.0000  2019   1  1  ...  None  None  None  None   \n",
       "2019-01-01 06:40:00  6672000.0000  2019   1  1  ...  None  None  None  None   \n",
       "...                           ...   ...  .. ..  ...   ...   ...   ...   ...   \n",
       "2019-12-31 23:20:00  1664000.0000  2019  12  1  ...  None  None  None  None   \n",
       "2019-12-31 23:40:00  9149000.0000  2019  12  1  ...  None  None  None  None   \n",
       "2019-12-31 23:40:00 15282000.0000  2019  12  1  ...  None  None  None  None   \n",
       "2019-12-31 23:40:00  2328000.0000  2019  12  1  ...  None  None  None  None   \n",
       "2019-12-31 23:40:00 10157000.0000  2019  12  1  ...  None  None  None  None   \n",
       "\n",
       "                       10    11  네이버 트랜드  월간누적방영횟수  주간누적방영횟수  prime_time  \n",
       "방송일시                                                                      \n",
       "2019-01-01 06:00:00  None  None   0.0264    1.0000    1.0000        None  \n",
       "2019-01-01 06:00:00  None  None   0.0264    1.0000    1.0000        None  \n",
       "2019-01-01 06:20:00  None  None   0.0264    1.0000    1.0000        None  \n",
       "2019-01-01 06:20:00  None  None   0.0264    1.0000    1.0000        None  \n",
       "2019-01-01 06:40:00  None  None   0.0264    1.0000    1.0000        None  \n",
       "...                   ...   ...      ...       ...       ...         ...  \n",
       "2019-12-31 23:20:00  None  None   0.1270   17.0000    1.0000        None  \n",
       "2019-12-31 23:40:00  None  None   0.1270   17.0000    1.0000        None  \n",
       "2019-12-31 23:40:00  None  None   0.1270   17.0000    1.0000        None  \n",
       "2019-12-31 23:40:00  None  None   0.1270   17.0000    1.0000        None  \n",
       "2019-12-31 23:40:00  None  None   0.1270   17.0000    1.0000        None  \n",
       "\n",
       "[37368 rows x 40 columns]"
      ]
     },
     "execution_count": 118,
     "metadata": {},
     "output_type": "execute_result"
    }
   ],
   "source": [
    "_train"
   ]
  },
  {
   "cell_type": "code",
   "execution_count": 119,
   "metadata": {
    "ExecuteTime": {
     "end_time": "2020-09-25T10:19:45.386341Z",
     "start_time": "2020-09-25T10:19:38.444072Z"
    }
   },
   "outputs": [
    {
     "data": {
      "application/vnd.jupyter.widget-view+json": {
       "model_id": "2c6af6d526fe470e9642a78c668d8e86",
       "version_major": 2,
       "version_minor": 0
      },
      "text/plain": [
       "HBox(children=(FloatProgress(value=0.0, max=37368.0), HTML(value='')))"
      ]
     },
     "metadata": {},
     "output_type": "display_data"
    },
    {
     "name": "stdout",
     "output_type": "stream",
     "text": [
      "\n"
     ]
    },
    {
     "data": {
      "application/vnd.jupyter.widget-view+json": {
       "model_id": "3efcf078df1e48708da55af149447ad8",
       "version_major": 2,
       "version_minor": 0
      },
      "text/plain": [
       "HBox(children=(FloatProgress(value=0.0, max=2716.0), HTML(value='')))"
      ]
     },
     "metadata": {},
     "output_type": "display_data"
    },
    {
     "name": "stdout",
     "output_type": "stream",
     "text": [
      "\n"
     ]
    }
   ],
   "source": [
    "#Tokenize\n",
    "_train = Making_token(_train, pd.DataFrame(processed_tokens, index=_train.index))\n",
    "_test = Making_token(_test, pd.DataFrame(processed_tokens_test, index=_test.index))"
   ]
  },
  {
   "cell_type": "code",
   "execution_count": 120,
   "metadata": {
    "ExecuteTime": {
     "end_time": "2020-09-25T10:19:48.572790Z",
     "start_time": "2020-09-25T10:19:45.387307Z"
    }
   },
   "outputs": [
    {
     "data": {
      "application/vnd.jupyter.widget-view+json": {
       "model_id": "9e43f83e50e445f797d3a0f179f0c8c4",
       "version_major": 2,
       "version_minor": 0
      },
      "text/plain": [
       "HBox(children=(FloatProgress(value=0.0, max=37368.0), HTML(value='')))"
      ]
     },
     "metadata": {},
     "output_type": "display_data"
    },
    {
     "name": "stdout",
     "output_type": "stream",
     "text": [
      "\n"
     ]
    },
    {
     "data": {
      "application/vnd.jupyter.widget-view+json": {
       "model_id": "119adecbba9140729c050f88c795f664",
       "version_major": 2,
       "version_minor": 0
      },
      "text/plain": [
       "HBox(children=(FloatProgress(value=0.0, max=2716.0), HTML(value='')))"
      ]
     },
     "metadata": {},
     "output_type": "display_data"
    },
    {
     "name": "stdout",
     "output_type": "stream",
     "text": [
      "\n"
     ]
    }
   ],
   "source": [
    "#Gender dummy\n",
    "_train = Insert_sex_dummy(_train)\n",
    "_test = Insert_sex_dummy(_test)"
   ]
  },
  {
   "cell_type": "code",
   "execution_count": 121,
   "metadata": {
    "ExecuteTime": {
     "end_time": "2020-09-25T10:19:50.603362Z",
     "start_time": "2020-09-25T10:19:48.573787Z"
    }
   },
   "outputs": [
    {
     "data": {
      "application/vnd.jupyter.widget-view+json": {
       "model_id": "0e0c01bdb11043578a55c58cd8cc545f",
       "version_major": 2,
       "version_minor": 0
      },
      "text/plain": [
       "HBox(children=(FloatProgress(value=0.0, max=37368.0), HTML(value='')))"
      ]
     },
     "metadata": {},
     "output_type": "display_data"
    },
    {
     "name": "stdout",
     "output_type": "stream",
     "text": [
      "\n"
     ]
    },
    {
     "data": {
      "application/vnd.jupyter.widget-view+json": {
       "model_id": "9d8ff3a71ad947f6b2c4cfded2b44cab",
       "version_major": 2,
       "version_minor": 0
      },
      "text/plain": [
       "HBox(children=(FloatProgress(value=0.0, max=2716.0), HTML(value='')))"
      ]
     },
     "metadata": {},
     "output_type": "display_data"
    },
    {
     "name": "stdout",
     "output_type": "stream",
     "text": [
      "\n"
     ]
    }
   ],
   "source": [
    "#Credit dummy\n",
    "_train = Insert_credit_dummy(_train)\n",
    "_test = Insert_credit_dummy(_test)"
   ]
  },
  {
   "cell_type": "code",
   "execution_count": 122,
   "metadata": {
    "ExecuteTime": {
     "end_time": "2020-09-25T10:20:23.933362Z",
     "start_time": "2020-09-25T10:19:50.604361Z"
    }
   },
   "outputs": [
    {
     "data": {
      "application/vnd.jupyter.widget-view+json": {
       "model_id": "9ec541e760ee438f80f42b444ea894f8",
       "version_major": 2,
       "version_minor": 0
      },
      "text/plain": [
       "HBox(children=(FloatProgress(value=0.0, max=37368.0), HTML(value='')))"
      ]
     },
     "metadata": {},
     "output_type": "display_data"
    },
    {
     "name": "stdout",
     "output_type": "stream",
     "text": [
      "\n"
     ]
    },
    {
     "data": {
      "application/vnd.jupyter.widget-view+json": {
       "model_id": "757f36180c274ad68802e448c598cf99",
       "version_major": 2,
       "version_minor": 0
      },
      "text/plain": [
       "HBox(children=(FloatProgress(value=0.0, max=2716.0), HTML(value='')))"
      ]
     },
     "metadata": {},
     "output_type": "display_data"
    },
    {
     "name": "stdout",
     "output_type": "stream",
     "text": [
      "\n"
     ]
    }
   ],
   "source": [
    "#Holiday dummy\n",
    "_train = Insert_holiday_dummy(_train)\n",
    "_test = Insert_holiday_dummy(_test,'test')"
   ]
  },
  {
   "cell_type": "code",
   "execution_count": 123,
   "metadata": {
    "ExecuteTime": {
     "end_time": "2020-09-25T10:20:52.347221Z",
     "start_time": "2020-09-25T10:20:23.934359Z"
    }
   },
   "outputs": [
    {
     "data": {
      "application/vnd.jupyter.widget-view+json": {
       "model_id": "caf67bfec40b410484cf06aeae8ee48a",
       "version_major": 2,
       "version_minor": 0
      },
      "text/plain": [
       "HBox(children=(FloatProgress(value=0.0, max=37368.0), HTML(value='')))"
      ]
     },
     "metadata": {},
     "output_type": "display_data"
    },
    {
     "name": "stdout",
     "output_type": "stream",
     "text": [
      "\n"
     ]
    },
    {
     "data": {
      "application/vnd.jupyter.widget-view+json": {
       "model_id": "69ac24e9b649485ea793721e5dcc087f",
       "version_major": 2,
       "version_minor": 0
      },
      "text/plain": [
       "HBox(children=(FloatProgress(value=0.0, max=2716.0), HTML(value='')))"
      ]
     },
     "metadata": {},
     "output_type": "display_data"
    },
    {
     "name": "stdout",
     "output_type": "stream",
     "text": [
      "\n"
     ]
    }
   ],
   "source": [
    "#Zapping Time\n",
    "_train = Insert_zapping(_train)\n",
    "_test = Insert_zapping(_test)"
   ]
  },
  {
   "cell_type": "code",
   "execution_count": 124,
   "metadata": {
    "ExecuteTime": {
     "end_time": "2020-09-25T10:20:52.357195Z",
     "start_time": "2020-09-25T10:20:52.348220Z"
    }
   },
   "outputs": [],
   "source": [
    "data['train'] = _train\n",
    "data['test'] = _test"
   ]
  },
  {
   "cell_type": "markdown",
   "metadata": {},
   "source": [
    "### 상품군, 상품명 처리하기"
   ]
  },
  {
   "cell_type": "code",
   "execution_count": 125,
   "metadata": {
    "ExecuteTime": {
     "end_time": "2020-09-25T10:20:52.373157Z",
     "start_time": "2020-09-25T10:20:52.358200Z"
    }
   },
   "outputs": [],
   "source": [
    "le1 = LabelEncoder()\n",
    "le1.fit(pd.concat([data['train']['상품군'], data['test']['상품군']]))\n",
    "data['train']['상품군'] = le1.transform(data['train']['상품군'])\n",
    "data['test']['상품군'] = le1.transform(data['test']['상품군'])"
   ]
  },
  {
   "cell_type": "code",
   "execution_count": 126,
   "metadata": {
    "ExecuteTime": {
     "end_time": "2020-09-25T10:20:52.391495Z",
     "start_time": "2020-09-25T10:20:52.374150Z"
    }
   },
   "outputs": [],
   "source": [
    "le2 = LabelEncoder()\n",
    "le2.fit(pd.concat([data['train']['상품명'], data['test']['상품명']]))\n",
    "data['train']['상품명'] = le2.transform(data['train']['상품명'])\n",
    "data['test']['상품명'] = le2.transform(data['test']['상품명'])"
   ]
  },
  {
   "cell_type": "markdown",
   "metadata": {},
   "source": [
    "### 상품군 더미화"
   ]
  },
  {
   "cell_type": "code",
   "execution_count": 127,
   "metadata": {
    "ExecuteTime": {
     "end_time": "2020-09-25T10:20:52.454065Z",
     "start_time": "2020-09-25T10:20:52.391495Z"
    }
   },
   "outputs": [],
   "source": [
    "data['train'] = pd.concat([data['train'].drop('상품군',axis=1),\n",
    "                           pd.get_dummies(data['train']['상품군'], prefix='상품군')],\n",
    "                          axis=1)"
   ]
  },
  {
   "cell_type": "code",
   "execution_count": 128,
   "metadata": {
    "ExecuteTime": {
     "end_time": "2020-09-25T10:20:52.469683Z",
     "start_time": "2020-09-25T10:20:52.454065Z"
    }
   },
   "outputs": [],
   "source": [
    "data['test'] = pd.concat([data['test'].drop('상품군',axis=1),\n",
    "                           pd.get_dummies(data['test']['상품군'], prefix='상품군')],\n",
    "                          axis=1)"
   ]
  },
  {
   "cell_type": "markdown",
   "metadata": {},
   "source": [
    "### 요일 인코딩"
   ]
  },
  {
   "cell_type": "code",
   "execution_count": 129,
   "metadata": {
    "ExecuteTime": {
     "end_time": "2020-09-25T10:20:52.532088Z",
     "start_time": "2020-09-25T10:20:52.469683Z"
    }
   },
   "outputs": [],
   "source": [
    "data['train'] = pd.concat([data['train'].drop('요일',axis=1),\n",
    "                           pd.get_dummies(data['train']['요일'], prefix='요일')],\n",
    "                          axis=1)"
   ]
  },
  {
   "cell_type": "code",
   "execution_count": 130,
   "metadata": {
    "ExecuteTime": {
     "end_time": "2020-09-25T10:20:52.547709Z",
     "start_time": "2020-09-25T10:20:52.532088Z"
    }
   },
   "outputs": [],
   "source": [
    "data['test'] = pd.concat([data['test'].drop('요일',axis=1),\n",
    "                           pd.get_dummies(data['test']['요일'], prefix='요일')],\n",
    "                          axis=1)"
   ]
  },
  {
   "cell_type": "markdown",
   "metadata": {},
   "source": [
    "---\n",
    "\n",
    "## 피처 선택(Feature Selection)"
   ]
  },
  {
   "cell_type": "markdown",
   "metadata": {},
   "source": [
    "### 지금까지 생성된 피처 확인"
   ]
  },
  {
   "cell_type": "code",
   "execution_count": 131,
   "metadata": {
    "ExecuteTime": {
     "end_time": "2020-09-25T10:20:52.554428Z",
     "start_time": "2020-09-25T10:20:52.547709Z"
    }
   },
   "outputs": [
    {
     "data": {
      "text/plain": [
       "Index([       '노출(분)',         '마더코드',         '상품코드',          '상품명',\n",
       "               '판매단가',          '취급액',            '연',            '월',\n",
       "                  '주',            '일',            '시',            '분',\n",
       "            'embed_0',      'embed_1',      'embed_2',      'embed_3',\n",
       "            'embed_4',      'embed_5',      'embed_6',      'embed_7',\n",
       "            'embed_8',      'embed_9',              0,              1,\n",
       "                    2,              3,              4,              5,\n",
       "                    6,              7,              8,              9,\n",
       "                   10,             11,      '네이버 트랜드',     '월간누적방영횟수',\n",
       "           '주간누적방영횟수',   'prime_time',   'token_list',           '남성',\n",
       "                 '여성',          '일시불',          '무이자',           '휴일',\n",
       "        'MBC_Zapping', 'JTBC_Zapping',        '상품군_0',        '상품군_1',\n",
       "              '상품군_2',        '상품군_3',        '상품군_4',        '상품군_5',\n",
       "              '상품군_6',        '상품군_7',        '상품군_8',        '상품군_9',\n",
       "             '상품군_10',       '요일_Fri',       '요일_Mon',       '요일_Sat',\n",
       "             '요일_Sun',       '요일_Thu',       '요일_Tue',       '요일_Wed'],\n",
       "      dtype='object')"
      ]
     },
     "execution_count": 131,
     "metadata": {},
     "output_type": "execute_result"
    }
   ],
   "source": [
    "data['train'].columns"
   ]
  },
  {
   "cell_type": "markdown",
   "metadata": {},
   "source": [
    "### 피처간의 상관계수 확인"
   ]
  },
  {
   "cell_type": "code",
   "execution_count": 132,
   "metadata": {
    "ExecuteTime": {
     "end_time": "2020-09-25T10:20:54.121586Z",
     "start_time": "2020-09-25T10:20:52.555426Z"
    }
   },
   "outputs": [
    {
     "data": {
      "image/png": "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\n",
      "text/plain": [
       "<Figure size 1080x1080 with 2 Axes>"
      ]
     },
     "metadata": {},
     "output_type": "display_data"
    }
   ],
   "source": [
    "plt.figure(figsize=(15,15))\n",
    "sns.heatmap(data['train'].corr(), cmap=plt.cm.rainbow)\n",
    "plt.show()"
   ]
  },
  {
   "cell_type": "code",
   "execution_count": 133,
   "metadata": {
    "ExecuteTime": {
     "end_time": "2020-09-25T10:20:54.166466Z",
     "start_time": "2020-09-25T10:20:54.122585Z"
    }
   },
   "outputs": [
    {
     "name": "stdout",
     "output_type": "stream",
     "text": [
      "<class 'pandas.core.frame.DataFrame'>\n",
      "DatetimeIndex: 37368 entries, 2019-01-01 06:00:00 to 2019-12-31 23:40:00\n",
      "Data columns (total 64 columns):\n",
      " #   Column        Non-Null Count  Dtype  \n",
      "---  ------        --------------  -----  \n",
      " 0   노출(분)         37368 non-null  float64\n",
      " 1   마더코드          37368 non-null  int64  \n",
      " 2   상품코드          37368 non-null  int64  \n",
      " 3   상품명           37368 non-null  int64  \n",
      " 4   판매단가          37368 non-null  int64  \n",
      " 5   취급액           37368 non-null  float64\n",
      " 6   연             37368 non-null  int64  \n",
      " 7   월             37368 non-null  int64  \n",
      " 8   주             37368 non-null  int64  \n",
      " 9   일             37368 non-null  int64  \n",
      " 10  시             37368 non-null  int64  \n",
      " 11  분             37368 non-null  int64  \n",
      " 12  embed_0       37368 non-null  float64\n",
      " 13  embed_1       37368 non-null  float64\n",
      " 14  embed_2       37368 non-null  float64\n",
      " 15  embed_3       37368 non-null  float64\n",
      " 16  embed_4       37368 non-null  float64\n",
      " 17  embed_5       37368 non-null  float64\n",
      " 18  embed_6       37368 non-null  float64\n",
      " 19  embed_7       37368 non-null  float64\n",
      " 20  embed_8       37368 non-null  float64\n",
      " 21  embed_9       37368 non-null  float64\n",
      " 22  0             37368 non-null  object \n",
      " 23  1             37326 non-null  object \n",
      " 24  2             37264 non-null  object \n",
      " 25  3             35795 non-null  object \n",
      " 26  4             30582 non-null  object \n",
      " 27  5             19233 non-null  object \n",
      " 28  6             13451 non-null  object \n",
      " 29  7             6461 non-null   object \n",
      " 30  8             4013 non-null   object \n",
      " 31  9             1791 non-null   object \n",
      " 32  10            331 non-null    object \n",
      " 33  11            5 non-null      object \n",
      " 34  네이버 트랜드       37368 non-null  float64\n",
      " 35  월간누적방영횟수      37368 non-null  float64\n",
      " 36  주간누적방영횟수      37368 non-null  float64\n",
      " 37  prime_time    0 non-null      object \n",
      " 38  token_list    37368 non-null  object \n",
      " 39  남성            37368 non-null  uint8  \n",
      " 40  여성            37368 non-null  uint8  \n",
      " 41  일시불           37368 non-null  uint8  \n",
      " 42  무이자           37368 non-null  uint8  \n",
      " 43  휴일            37368 non-null  float64\n",
      " 44  MBC_Zapping   37368 non-null  float64\n",
      " 45  JTBC_Zapping  37368 non-null  float64\n",
      " 46  상품군_0         37368 non-null  uint8  \n",
      " 47  상품군_1         37368 non-null  uint8  \n",
      " 48  상품군_2         37368 non-null  uint8  \n",
      " 49  상품군_3         37368 non-null  uint8  \n",
      " 50  상품군_4         37368 non-null  uint8  \n",
      " 51  상품군_5         37368 non-null  uint8  \n",
      " 52  상품군_6         37368 non-null  uint8  \n",
      " 53  상품군_7         37368 non-null  uint8  \n",
      " 54  상품군_8         37368 non-null  uint8  \n",
      " 55  상품군_9         37368 non-null  uint8  \n",
      " 56  상품군_10        37368 non-null  uint8  \n",
      " 57  요일_Fri        37368 non-null  uint8  \n",
      " 58  요일_Mon        37368 non-null  uint8  \n",
      " 59  요일_Sat        37368 non-null  uint8  \n",
      " 60  요일_Sun        37368 non-null  uint8  \n",
      " 61  요일_Thu        37368 non-null  uint8  \n",
      " 62  요일_Tue        37368 non-null  uint8  \n",
      " 63  요일_Wed        37368 non-null  uint8  \n",
      "dtypes: float64(18), int64(10), object(14), uint8(22)\n",
      "memory usage: 13.0+ MB\n"
     ]
    }
   ],
   "source": [
    "data['train'].info()"
   ]
  },
  {
   "cell_type": "code",
   "execution_count": 134,
   "metadata": {
    "ExecuteTime": {
     "end_time": "2020-09-25T10:20:54.172450Z",
     "start_time": "2020-09-25T10:20:54.167465Z"
    }
   },
   "outputs": [],
   "source": [
    "selected_features = ['노출(분)', '마더코드', '상품코드', '상품명', '판매단가', '취급액',\n",
    "                     '월', '일', '시', '분', 'embed_0', 'embed_1', 'embed_2', 'embed_3',\n",
    "                     'embed_4', 'embed_5', 'embed_6', 'embed_7', 'embed_8', 'embed_9',\n",
    "                     '월간누적방영횟수', '주간누적방영횟수', 'prime_time', '네이버 트랜드',\n",
    "                     '남성', '여성', '일시불', '무이자', '휴일', 'MBC_Zapping', 'JTBC_Zapping',\n",
    "                     '상품군_0', '상품군_1', '상품군_2', '상품군_3', '상품군_4', '상품군_5',\n",
    "                     '상품군_6', '상품군_7', '상품군_8', '상품군_9', '상품군_10',\n",
    "                     '요일_Fri', '요일_Mon', '요일_Sat', '요일_Sun',\n",
    "                     '요일_Thu', '요일_Tue', '요일_Wed']"
   ]
  },
  {
   "cell_type": "code",
   "execution_count": 135,
   "metadata": {
    "ExecuteTime": {
     "end_time": "2020-09-25T10:20:54.208091Z",
     "start_time": "2020-09-25T10:20:54.172565Z"
    }
   },
   "outputs": [
    {
     "data": {
      "text/html": [
       "<div>\n",
       "<style scoped>\n",
       "    .dataframe tbody tr th:only-of-type {\n",
       "        vertical-align: middle;\n",
       "    }\n",
       "\n",
       "    .dataframe tbody tr th {\n",
       "        vertical-align: top;\n",
       "    }\n",
       "\n",
       "    .dataframe thead th {\n",
       "        text-align: right;\n",
       "    }\n",
       "</style>\n",
       "<table border=\"1\" class=\"dataframe\">\n",
       "  <thead>\n",
       "    <tr style=\"text-align: right;\">\n",
       "      <th></th>\n",
       "      <th>노출(분)</th>\n",
       "      <th>마더코드</th>\n",
       "      <th>상품코드</th>\n",
       "      <th>상품명</th>\n",
       "      <th>판매단가</th>\n",
       "      <th>취급액</th>\n",
       "      <th>월</th>\n",
       "      <th>일</th>\n",
       "      <th>시</th>\n",
       "      <th>분</th>\n",
       "      <th>...</th>\n",
       "      <th>상품군_8</th>\n",
       "      <th>상품군_9</th>\n",
       "      <th>상품군_10</th>\n",
       "      <th>요일_Fri</th>\n",
       "      <th>요일_Mon</th>\n",
       "      <th>요일_Sat</th>\n",
       "      <th>요일_Sun</th>\n",
       "      <th>요일_Thu</th>\n",
       "      <th>요일_Tue</th>\n",
       "      <th>요일_Wed</th>\n",
       "    </tr>\n",
       "    <tr>\n",
       "      <th>방송일시</th>\n",
       "      <th></th>\n",
       "      <th></th>\n",
       "      <th></th>\n",
       "      <th></th>\n",
       "      <th></th>\n",
       "      <th></th>\n",
       "      <th></th>\n",
       "      <th></th>\n",
       "      <th></th>\n",
       "      <th></th>\n",
       "      <th></th>\n",
       "      <th></th>\n",
       "      <th></th>\n",
       "      <th></th>\n",
       "      <th></th>\n",
       "      <th></th>\n",
       "      <th></th>\n",
       "      <th></th>\n",
       "      <th></th>\n",
       "      <th></th>\n",
       "      <th></th>\n",
       "    </tr>\n",
       "  </thead>\n",
       "  <tbody>\n",
       "    <tr>\n",
       "      <th>2019-01-01 06:00:00</th>\n",
       "      <td>20.0000</td>\n",
       "      <td>100346</td>\n",
       "      <td>201072</td>\n",
       "      <td>1778</td>\n",
       "      <td>39900</td>\n",
       "      <td>2099000.0000</td>\n",
       "      <td>1</td>\n",
       "      <td>1</td>\n",
       "      <td>6</td>\n",
       "      <td>0</td>\n",
       "      <td>...</td>\n",
       "      <td>0</td>\n",
       "      <td>0</td>\n",
       "      <td>0</td>\n",
       "      <td>0</td>\n",
       "      <td>0</td>\n",
       "      <td>0</td>\n",
       "      <td>0</td>\n",
       "      <td>0</td>\n",
       "      <td>1</td>\n",
       "      <td>0</td>\n",
       "    </tr>\n",
       "    <tr>\n",
       "      <th>2019-01-01 06:00:00</th>\n",
       "      <td>20.0000</td>\n",
       "      <td>100346</td>\n",
       "      <td>201079</td>\n",
       "      <td>1784</td>\n",
       "      <td>39900</td>\n",
       "      <td>4371000.0000</td>\n",
       "      <td>1</td>\n",
       "      <td>1</td>\n",
       "      <td>6</td>\n",
       "      <td>0</td>\n",
       "      <td>...</td>\n",
       "      <td>0</td>\n",
       "      <td>0</td>\n",
       "      <td>0</td>\n",
       "      <td>0</td>\n",
       "      <td>0</td>\n",
       "      <td>0</td>\n",
       "      <td>0</td>\n",
       "      <td>0</td>\n",
       "      <td>1</td>\n",
       "      <td>0</td>\n",
       "    </tr>\n",
       "    <tr>\n",
       "      <th>2019-01-01 06:20:00</th>\n",
       "      <td>20.0000</td>\n",
       "      <td>100346</td>\n",
       "      <td>201072</td>\n",
       "      <td>1778</td>\n",
       "      <td>39900</td>\n",
       "      <td>3262000.0000</td>\n",
       "      <td>1</td>\n",
       "      <td>1</td>\n",
       "      <td>6</td>\n",
       "      <td>20</td>\n",
       "      <td>...</td>\n",
       "      <td>0</td>\n",
       "      <td>0</td>\n",
       "      <td>0</td>\n",
       "      <td>0</td>\n",
       "      <td>0</td>\n",
       "      <td>0</td>\n",
       "      <td>0</td>\n",
       "      <td>0</td>\n",
       "      <td>1</td>\n",
       "      <td>0</td>\n",
       "    </tr>\n",
       "    <tr>\n",
       "      <th>2019-01-01 06:20:00</th>\n",
       "      <td>20.0000</td>\n",
       "      <td>100346</td>\n",
       "      <td>201079</td>\n",
       "      <td>1784</td>\n",
       "      <td>39900</td>\n",
       "      <td>6955000.0000</td>\n",
       "      <td>1</td>\n",
       "      <td>1</td>\n",
       "      <td>6</td>\n",
       "      <td>20</td>\n",
       "      <td>...</td>\n",
       "      <td>0</td>\n",
       "      <td>0</td>\n",
       "      <td>0</td>\n",
       "      <td>0</td>\n",
       "      <td>0</td>\n",
       "      <td>0</td>\n",
       "      <td>0</td>\n",
       "      <td>0</td>\n",
       "      <td>1</td>\n",
       "      <td>0</td>\n",
       "    </tr>\n",
       "    <tr>\n",
       "      <th>2019-01-01 06:40:00</th>\n",
       "      <td>20.0000</td>\n",
       "      <td>100346</td>\n",
       "      <td>201072</td>\n",
       "      <td>1778</td>\n",
       "      <td>39900</td>\n",
       "      <td>6672000.0000</td>\n",
       "      <td>1</td>\n",
       "      <td>1</td>\n",
       "      <td>6</td>\n",
       "      <td>40</td>\n",
       "      <td>...</td>\n",
       "      <td>0</td>\n",
       "      <td>0</td>\n",
       "      <td>0</td>\n",
       "      <td>0</td>\n",
       "      <td>0</td>\n",
       "      <td>0</td>\n",
       "      <td>0</td>\n",
       "      <td>0</td>\n",
       "      <td>1</td>\n",
       "      <td>0</td>\n",
       "    </tr>\n",
       "    <tr>\n",
       "      <th>...</th>\n",
       "      <td>...</td>\n",
       "      <td>...</td>\n",
       "      <td>...</td>\n",
       "      <td>...</td>\n",
       "      <td>...</td>\n",
       "      <td>...</td>\n",
       "      <td>...</td>\n",
       "      <td>...</td>\n",
       "      <td>...</td>\n",
       "      <td>...</td>\n",
       "      <td>...</td>\n",
       "      <td>...</td>\n",
       "      <td>...</td>\n",
       "      <td>...</td>\n",
       "      <td>...</td>\n",
       "      <td>...</td>\n",
       "      <td>...</td>\n",
       "      <td>...</td>\n",
       "      <td>...</td>\n",
       "      <td>...</td>\n",
       "      <td>...</td>\n",
       "    </tr>\n",
       "    <tr>\n",
       "      <th>2019-12-31 23:20:00</th>\n",
       "      <td>20.0000</td>\n",
       "      <td>100448</td>\n",
       "      <td>201391</td>\n",
       "      <td>1568</td>\n",
       "      <td>148000</td>\n",
       "      <td>1664000.0000</td>\n",
       "      <td>12</td>\n",
       "      <td>31</td>\n",
       "      <td>23</td>\n",
       "      <td>20</td>\n",
       "      <td>...</td>\n",
       "      <td>0</td>\n",
       "      <td>1</td>\n",
       "      <td>0</td>\n",
       "      <td>0</td>\n",
       "      <td>0</td>\n",
       "      <td>0</td>\n",
       "      <td>0</td>\n",
       "      <td>0</td>\n",
       "      <td>1</td>\n",
       "      <td>0</td>\n",
       "    </tr>\n",
       "    <tr>\n",
       "      <th>2019-12-31 23:40:00</th>\n",
       "      <td>20.0000</td>\n",
       "      <td>100448</td>\n",
       "      <td>201383</td>\n",
       "      <td>913</td>\n",
       "      <td>178000</td>\n",
       "      <td>9149000.0000</td>\n",
       "      <td>12</td>\n",
       "      <td>31</td>\n",
       "      <td>23</td>\n",
       "      <td>40</td>\n",
       "      <td>...</td>\n",
       "      <td>0</td>\n",
       "      <td>1</td>\n",
       "      <td>0</td>\n",
       "      <td>0</td>\n",
       "      <td>0</td>\n",
       "      <td>0</td>\n",
       "      <td>0</td>\n",
       "      <td>0</td>\n",
       "      <td>1</td>\n",
       "      <td>0</td>\n",
       "    </tr>\n",
       "    <tr>\n",
       "      <th>2019-12-31 23:40:00</th>\n",
       "      <td>20.0000</td>\n",
       "      <td>100448</td>\n",
       "      <td>201390</td>\n",
       "      <td>1567</td>\n",
       "      <td>168000</td>\n",
       "      <td>15282000.0000</td>\n",
       "      <td>12</td>\n",
       "      <td>31</td>\n",
       "      <td>23</td>\n",
       "      <td>40</td>\n",
       "      <td>...</td>\n",
       "      <td>0</td>\n",
       "      <td>1</td>\n",
       "      <td>0</td>\n",
       "      <td>0</td>\n",
       "      <td>0</td>\n",
       "      <td>0</td>\n",
       "      <td>0</td>\n",
       "      <td>0</td>\n",
       "      <td>1</td>\n",
       "      <td>0</td>\n",
       "    </tr>\n",
       "    <tr>\n",
       "      <th>2019-12-31 23:40:00</th>\n",
       "      <td>20.0000</td>\n",
       "      <td>100448</td>\n",
       "      <td>201384</td>\n",
       "      <td>914</td>\n",
       "      <td>158000</td>\n",
       "      <td>2328000.0000</td>\n",
       "      <td>12</td>\n",
       "      <td>31</td>\n",
       "      <td>23</td>\n",
       "      <td>40</td>\n",
       "      <td>...</td>\n",
       "      <td>0</td>\n",
       "      <td>1</td>\n",
       "      <td>0</td>\n",
       "      <td>0</td>\n",
       "      <td>0</td>\n",
       "      <td>0</td>\n",
       "      <td>0</td>\n",
       "      <td>0</td>\n",
       "      <td>1</td>\n",
       "      <td>0</td>\n",
       "    </tr>\n",
       "    <tr>\n",
       "      <th>2019-12-31 23:40:00</th>\n",
       "      <td>20.0000</td>\n",
       "      <td>100448</td>\n",
       "      <td>201391</td>\n",
       "      <td>1568</td>\n",
       "      <td>148000</td>\n",
       "      <td>10157000.0000</td>\n",
       "      <td>12</td>\n",
       "      <td>31</td>\n",
       "      <td>23</td>\n",
       "      <td>40</td>\n",
       "      <td>...</td>\n",
       "      <td>0</td>\n",
       "      <td>1</td>\n",
       "      <td>0</td>\n",
       "      <td>0</td>\n",
       "      <td>0</td>\n",
       "      <td>0</td>\n",
       "      <td>0</td>\n",
       "      <td>0</td>\n",
       "      <td>1</td>\n",
       "      <td>0</td>\n",
       "    </tr>\n",
       "  </tbody>\n",
       "</table>\n",
       "<p>37368 rows × 49 columns</p>\n",
       "</div>"
      ],
      "text/plain": [
       "                      노출(분)    마더코드    상품코드   상품명    판매단가           취급액   월  \\\n",
       "방송일시                                                                          \n",
       "2019-01-01 06:00:00 20.0000  100346  201072  1778   39900  2099000.0000   1   \n",
       "2019-01-01 06:00:00 20.0000  100346  201079  1784   39900  4371000.0000   1   \n",
       "2019-01-01 06:20:00 20.0000  100346  201072  1778   39900  3262000.0000   1   \n",
       "2019-01-01 06:20:00 20.0000  100346  201079  1784   39900  6955000.0000   1   \n",
       "2019-01-01 06:40:00 20.0000  100346  201072  1778   39900  6672000.0000   1   \n",
       "...                     ...     ...     ...   ...     ...           ...  ..   \n",
       "2019-12-31 23:20:00 20.0000  100448  201391  1568  148000  1664000.0000  12   \n",
       "2019-12-31 23:40:00 20.0000  100448  201383   913  178000  9149000.0000  12   \n",
       "2019-12-31 23:40:00 20.0000  100448  201390  1567  168000 15282000.0000  12   \n",
       "2019-12-31 23:40:00 20.0000  100448  201384   914  158000  2328000.0000  12   \n",
       "2019-12-31 23:40:00 20.0000  100448  201391  1568  148000 10157000.0000  12   \n",
       "\n",
       "                      일   시   분  ...  상품군_8  상품군_9  상품군_10  요일_Fri  요일_Mon  \\\n",
       "방송일시                             ...                                         \n",
       "2019-01-01 06:00:00   1   6   0  ...      0      0       0       0       0   \n",
       "2019-01-01 06:00:00   1   6   0  ...      0      0       0       0       0   \n",
       "2019-01-01 06:20:00   1   6  20  ...      0      0       0       0       0   \n",
       "2019-01-01 06:20:00   1   6  20  ...      0      0       0       0       0   \n",
       "2019-01-01 06:40:00   1   6  40  ...      0      0       0       0       0   \n",
       "...                  ..  ..  ..  ...    ...    ...     ...     ...     ...   \n",
       "2019-12-31 23:20:00  31  23  20  ...      0      1       0       0       0   \n",
       "2019-12-31 23:40:00  31  23  40  ...      0      1       0       0       0   \n",
       "2019-12-31 23:40:00  31  23  40  ...      0      1       0       0       0   \n",
       "2019-12-31 23:40:00  31  23  40  ...      0      1       0       0       0   \n",
       "2019-12-31 23:40:00  31  23  40  ...      0      1       0       0       0   \n",
       "\n",
       "                     요일_Sat  요일_Sun  요일_Thu  요일_Tue  요일_Wed  \n",
       "방송일시                                                         \n",
       "2019-01-01 06:00:00       0       0       0       1       0  \n",
       "2019-01-01 06:00:00       0       0       0       1       0  \n",
       "2019-01-01 06:20:00       0       0       0       1       0  \n",
       "2019-01-01 06:20:00       0       0       0       1       0  \n",
       "2019-01-01 06:40:00       0       0       0       1       0  \n",
       "...                     ...     ...     ...     ...     ...  \n",
       "2019-12-31 23:20:00       0       0       0       1       0  \n",
       "2019-12-31 23:40:00       0       0       0       1       0  \n",
       "2019-12-31 23:40:00       0       0       0       1       0  \n",
       "2019-12-31 23:40:00       0       0       0       1       0  \n",
       "2019-12-31 23:40:00       0       0       0       1       0  \n",
       "\n",
       "[37368 rows x 49 columns]"
      ]
     },
     "execution_count": 135,
     "metadata": {},
     "output_type": "execute_result"
    }
   ],
   "source": [
    "data['train'][selected_features]"
   ]
  },
  {
   "cell_type": "code",
   "execution_count": 136,
   "metadata": {
    "ExecuteTime": {
     "end_time": "2020-09-25T10:20:54.383500Z",
     "start_time": "2020-09-25T10:20:54.209090Z"
    }
   },
   "outputs": [
    {
     "data": {
      "text/html": [
       "<div>\n",
       "<style scoped>\n",
       "    .dataframe tbody tr th:only-of-type {\n",
       "        vertical-align: middle;\n",
       "    }\n",
       "\n",
       "    .dataframe tbody tr th {\n",
       "        vertical-align: top;\n",
       "    }\n",
       "\n",
       "    .dataframe thead th {\n",
       "        text-align: right;\n",
       "    }\n",
       "</style>\n",
       "<table border=\"1\" class=\"dataframe\">\n",
       "  <thead>\n",
       "    <tr style=\"text-align: right;\">\n",
       "      <th></th>\n",
       "      <th>노출(분)</th>\n",
       "      <th>마더코드</th>\n",
       "      <th>상품코드</th>\n",
       "      <th>상품명</th>\n",
       "      <th>판매단가</th>\n",
       "      <th>취급액</th>\n",
       "      <th>월</th>\n",
       "      <th>일</th>\n",
       "      <th>시</th>\n",
       "      <th>분</th>\n",
       "      <th>...</th>\n",
       "      <th>상품군_8</th>\n",
       "      <th>상품군_9</th>\n",
       "      <th>상품군_10</th>\n",
       "      <th>요일_Fri</th>\n",
       "      <th>요일_Mon</th>\n",
       "      <th>요일_Sat</th>\n",
       "      <th>요일_Sun</th>\n",
       "      <th>요일_Thu</th>\n",
       "      <th>요일_Tue</th>\n",
       "      <th>요일_Wed</th>\n",
       "    </tr>\n",
       "    <tr>\n",
       "      <th>방송일시</th>\n",
       "      <th></th>\n",
       "      <th></th>\n",
       "      <th></th>\n",
       "      <th></th>\n",
       "      <th></th>\n",
       "      <th></th>\n",
       "      <th></th>\n",
       "      <th></th>\n",
       "      <th></th>\n",
       "      <th></th>\n",
       "      <th></th>\n",
       "      <th></th>\n",
       "      <th></th>\n",
       "      <th></th>\n",
       "      <th></th>\n",
       "      <th></th>\n",
       "      <th></th>\n",
       "      <th></th>\n",
       "      <th></th>\n",
       "      <th></th>\n",
       "      <th></th>\n",
       "    </tr>\n",
       "  </thead>\n",
       "  <tbody>\n",
       "    <tr>\n",
       "      <th>2020-06-01 06:20:00</th>\n",
       "      <td>20.0000</td>\n",
       "      <td>100650</td>\n",
       "      <td>201971</td>\n",
       "      <td>1592</td>\n",
       "      <td>59800</td>\n",
       "      <td>nan</td>\n",
       "      <td>6</td>\n",
       "      <td>1</td>\n",
       "      <td>6</td>\n",
       "      <td>20</td>\n",
       "      <td>...</td>\n",
       "      <td>0</td>\n",
       "      <td>0</td>\n",
       "      <td>0</td>\n",
       "      <td>0</td>\n",
       "      <td>1</td>\n",
       "      <td>0</td>\n",
       "      <td>0</td>\n",
       "      <td>0</td>\n",
       "      <td>0</td>\n",
       "      <td>0</td>\n",
       "    </tr>\n",
       "    <tr>\n",
       "      <th>2020-06-01 06:40:00</th>\n",
       "      <td>20.0000</td>\n",
       "      <td>100650</td>\n",
       "      <td>201971</td>\n",
       "      <td>1592</td>\n",
       "      <td>59800</td>\n",
       "      <td>nan</td>\n",
       "      <td>6</td>\n",
       "      <td>1</td>\n",
       "      <td>6</td>\n",
       "      <td>40</td>\n",
       "      <td>...</td>\n",
       "      <td>0</td>\n",
       "      <td>0</td>\n",
       "      <td>0</td>\n",
       "      <td>0</td>\n",
       "      <td>1</td>\n",
       "      <td>0</td>\n",
       "      <td>0</td>\n",
       "      <td>0</td>\n",
       "      <td>0</td>\n",
       "      <td>0</td>\n",
       "    </tr>\n",
       "    <tr>\n",
       "      <th>2020-06-01 07:00:00</th>\n",
       "      <td>20.0000</td>\n",
       "      <td>100650</td>\n",
       "      <td>201971</td>\n",
       "      <td>1592</td>\n",
       "      <td>59800</td>\n",
       "      <td>nan</td>\n",
       "      <td>6</td>\n",
       "      <td>1</td>\n",
       "      <td>7</td>\n",
       "      <td>0</td>\n",
       "      <td>...</td>\n",
       "      <td>0</td>\n",
       "      <td>0</td>\n",
       "      <td>0</td>\n",
       "      <td>0</td>\n",
       "      <td>1</td>\n",
       "      <td>0</td>\n",
       "      <td>0</td>\n",
       "      <td>0</td>\n",
       "      <td>0</td>\n",
       "      <td>0</td>\n",
       "    </tr>\n",
       "    <tr>\n",
       "      <th>2020-06-01 07:20:00</th>\n",
       "      <td>20.0000</td>\n",
       "      <td>100445</td>\n",
       "      <td>202278</td>\n",
       "      <td>1736</td>\n",
       "      <td>69900</td>\n",
       "      <td>nan</td>\n",
       "      <td>6</td>\n",
       "      <td>1</td>\n",
       "      <td>7</td>\n",
       "      <td>20</td>\n",
       "      <td>...</td>\n",
       "      <td>0</td>\n",
       "      <td>0</td>\n",
       "      <td>0</td>\n",
       "      <td>0</td>\n",
       "      <td>1</td>\n",
       "      <td>0</td>\n",
       "      <td>0</td>\n",
       "      <td>0</td>\n",
       "      <td>0</td>\n",
       "      <td>0</td>\n",
       "    </tr>\n",
       "    <tr>\n",
       "      <th>2020-06-01 07:40:00</th>\n",
       "      <td>20.0000</td>\n",
       "      <td>100445</td>\n",
       "      <td>202278</td>\n",
       "      <td>1736</td>\n",
       "      <td>69900</td>\n",
       "      <td>nan</td>\n",
       "      <td>6</td>\n",
       "      <td>1</td>\n",
       "      <td>7</td>\n",
       "      <td>40</td>\n",
       "      <td>...</td>\n",
       "      <td>0</td>\n",
       "      <td>0</td>\n",
       "      <td>0</td>\n",
       "      <td>0</td>\n",
       "      <td>1</td>\n",
       "      <td>0</td>\n",
       "      <td>0</td>\n",
       "      <td>0</td>\n",
       "      <td>0</td>\n",
       "      <td>0</td>\n",
       "    </tr>\n",
       "    <tr>\n",
       "      <th>...</th>\n",
       "      <td>...</td>\n",
       "      <td>...</td>\n",
       "      <td>...</td>\n",
       "      <td>...</td>\n",
       "      <td>...</td>\n",
       "      <td>...</td>\n",
       "      <td>...</td>\n",
       "      <td>...</td>\n",
       "      <td>...</td>\n",
       "      <td>...</td>\n",
       "      <td>...</td>\n",
       "      <td>...</td>\n",
       "      <td>...</td>\n",
       "      <td>...</td>\n",
       "      <td>...</td>\n",
       "      <td>...</td>\n",
       "      <td>...</td>\n",
       "      <td>...</td>\n",
       "      <td>...</td>\n",
       "      <td>...</td>\n",
       "      <td>...</td>\n",
       "    </tr>\n",
       "    <tr>\n",
       "      <th>2020-07-01 00:10:00</th>\n",
       "      <td>10.0000</td>\n",
       "      <td>100099</td>\n",
       "      <td>200273</td>\n",
       "      <td>404</td>\n",
       "      <td>99000</td>\n",
       "      <td>nan</td>\n",
       "      <td>7</td>\n",
       "      <td>1</td>\n",
       "      <td>0</td>\n",
       "      <td>10</td>\n",
       "      <td>...</td>\n",
       "      <td>0</td>\n",
       "      <td>0</td>\n",
       "      <td>0</td>\n",
       "      <td>0</td>\n",
       "      <td>0</td>\n",
       "      <td>0</td>\n",
       "      <td>0</td>\n",
       "      <td>0</td>\n",
       "      <td>0</td>\n",
       "      <td>1</td>\n",
       "    </tr>\n",
       "    <tr>\n",
       "      <th>2020-07-01 00:10:00</th>\n",
       "      <td>10.0000</td>\n",
       "      <td>100099</td>\n",
       "      <td>200272</td>\n",
       "      <td>386</td>\n",
       "      <td>119000</td>\n",
       "      <td>nan</td>\n",
       "      <td>7</td>\n",
       "      <td>1</td>\n",
       "      <td>0</td>\n",
       "      <td>10</td>\n",
       "      <td>...</td>\n",
       "      <td>0</td>\n",
       "      <td>0</td>\n",
       "      <td>0</td>\n",
       "      <td>0</td>\n",
       "      <td>0</td>\n",
       "      <td>0</td>\n",
       "      <td>0</td>\n",
       "      <td>0</td>\n",
       "      <td>0</td>\n",
       "      <td>1</td>\n",
       "    </tr>\n",
       "    <tr>\n",
       "      <th>2020-07-01 00:10:00</th>\n",
       "      <td>10.0000</td>\n",
       "      <td>100099</td>\n",
       "      <td>200274</td>\n",
       "      <td>585</td>\n",
       "      <td>119000</td>\n",
       "      <td>nan</td>\n",
       "      <td>7</td>\n",
       "      <td>1</td>\n",
       "      <td>0</td>\n",
       "      <td>10</td>\n",
       "      <td>...</td>\n",
       "      <td>0</td>\n",
       "      <td>0</td>\n",
       "      <td>0</td>\n",
       "      <td>0</td>\n",
       "      <td>0</td>\n",
       "      <td>0</td>\n",
       "      <td>0</td>\n",
       "      <td>0</td>\n",
       "      <td>0</td>\n",
       "      <td>1</td>\n",
       "    </tr>\n",
       "    <tr>\n",
       "      <th>2020-07-01 01:20:00</th>\n",
       "      <td>20.0000</td>\n",
       "      <td>100261</td>\n",
       "      <td>200875</td>\n",
       "      <td>1162</td>\n",
       "      <td>69900</td>\n",
       "      <td>nan</td>\n",
       "      <td>7</td>\n",
       "      <td>1</td>\n",
       "      <td>1</td>\n",
       "      <td>20</td>\n",
       "      <td>...</td>\n",
       "      <td>0</td>\n",
       "      <td>0</td>\n",
       "      <td>0</td>\n",
       "      <td>0</td>\n",
       "      <td>0</td>\n",
       "      <td>0</td>\n",
       "      <td>0</td>\n",
       "      <td>0</td>\n",
       "      <td>0</td>\n",
       "      <td>1</td>\n",
       "    </tr>\n",
       "    <tr>\n",
       "      <th>2020-07-01 01:40:00</th>\n",
       "      <td>15.9333</td>\n",
       "      <td>100261</td>\n",
       "      <td>200875</td>\n",
       "      <td>1162</td>\n",
       "      <td>69900</td>\n",
       "      <td>nan</td>\n",
       "      <td>7</td>\n",
       "      <td>1</td>\n",
       "      <td>1</td>\n",
       "      <td>40</td>\n",
       "      <td>...</td>\n",
       "      <td>0</td>\n",
       "      <td>0</td>\n",
       "      <td>0</td>\n",
       "      <td>0</td>\n",
       "      <td>0</td>\n",
       "      <td>0</td>\n",
       "      <td>0</td>\n",
       "      <td>0</td>\n",
       "      <td>0</td>\n",
       "      <td>1</td>\n",
       "    </tr>\n",
       "  </tbody>\n",
       "</table>\n",
       "<p>2716 rows × 49 columns</p>\n",
       "</div>"
      ],
      "text/plain": [
       "                      노출(분)    마더코드    상품코드   상품명    판매단가  취급액  월  일  시   분  \\\n",
       "방송일시                                                                          \n",
       "2020-06-01 06:20:00 20.0000  100650  201971  1592   59800  nan  6  1  6  20   \n",
       "2020-06-01 06:40:00 20.0000  100650  201971  1592   59800  nan  6  1  6  40   \n",
       "2020-06-01 07:00:00 20.0000  100650  201971  1592   59800  nan  6  1  7   0   \n",
       "2020-06-01 07:20:00 20.0000  100445  202278  1736   69900  nan  6  1  7  20   \n",
       "2020-06-01 07:40:00 20.0000  100445  202278  1736   69900  nan  6  1  7  40   \n",
       "...                     ...     ...     ...   ...     ...  ... .. .. ..  ..   \n",
       "2020-07-01 00:10:00 10.0000  100099  200273   404   99000  nan  7  1  0  10   \n",
       "2020-07-01 00:10:00 10.0000  100099  200272   386  119000  nan  7  1  0  10   \n",
       "2020-07-01 00:10:00 10.0000  100099  200274   585  119000  nan  7  1  0  10   \n",
       "2020-07-01 01:20:00 20.0000  100261  200875  1162   69900  nan  7  1  1  20   \n",
       "2020-07-01 01:40:00 15.9333  100261  200875  1162   69900  nan  7  1  1  40   \n",
       "\n",
       "                     ...  상품군_8  상품군_9  상품군_10  요일_Fri  요일_Mon  요일_Sat  \\\n",
       "방송일시                 ...                                                 \n",
       "2020-06-01 06:20:00  ...      0      0       0       0       1       0   \n",
       "2020-06-01 06:40:00  ...      0      0       0       0       1       0   \n",
       "2020-06-01 07:00:00  ...      0      0       0       0       1       0   \n",
       "2020-06-01 07:20:00  ...      0      0       0       0       1       0   \n",
       "2020-06-01 07:40:00  ...      0      0       0       0       1       0   \n",
       "...                  ...    ...    ...     ...     ...     ...     ...   \n",
       "2020-07-01 00:10:00  ...      0      0       0       0       0       0   \n",
       "2020-07-01 00:10:00  ...      0      0       0       0       0       0   \n",
       "2020-07-01 00:10:00  ...      0      0       0       0       0       0   \n",
       "2020-07-01 01:20:00  ...      0      0       0       0       0       0   \n",
       "2020-07-01 01:40:00  ...      0      0       0       0       0       0   \n",
       "\n",
       "                     요일_Sun  요일_Thu  요일_Tue  요일_Wed  \n",
       "방송일시                                                 \n",
       "2020-06-01 06:20:00       0       0       0       0  \n",
       "2020-06-01 06:40:00       0       0       0       0  \n",
       "2020-06-01 07:00:00       0       0       0       0  \n",
       "2020-06-01 07:20:00       0       0       0       0  \n",
       "2020-06-01 07:40:00       0       0       0       0  \n",
       "...                     ...     ...     ...     ...  \n",
       "2020-07-01 00:10:00       0       0       0       1  \n",
       "2020-07-01 00:10:00       0       0       0       1  \n",
       "2020-07-01 00:10:00       0       0       0       1  \n",
       "2020-07-01 01:20:00       0       0       0       1  \n",
       "2020-07-01 01:40:00       0       0       0       1  \n",
       "\n",
       "[2716 rows x 49 columns]"
      ]
     },
     "execution_count": 136,
     "metadata": {},
     "output_type": "execute_result"
    }
   ],
   "source": [
    "data['test'][selected_features]"
   ]
  },
  {
   "cell_type": "code",
   "execution_count": 137,
   "metadata": {
    "ExecuteTime": {
     "end_time": "2020-09-25T10:20:54.410231Z",
     "start_time": "2020-09-25T10:20:54.385496Z"
    }
   },
   "outputs": [],
   "source": [
    "data['train'] = data['train'][selected_features].astype('float')\n",
    "data['test'] = data['test'][selected_features].astype('float')"
   ]
  },
  {
   "cell_type": "code",
   "execution_count": 138,
   "metadata": {
    "ExecuteTime": {
     "end_time": "2020-09-25T10:20:56.101783Z",
     "start_time": "2020-09-25T10:20:54.410231Z"
    }
   },
   "outputs": [],
   "source": [
    "data['train'].to_csv('train_preprocess.csv', index=False)\n",
    "data['test'].to_csv('test_preprocess.csv', index=False)"
   ]
  },
  {
   "cell_type": "markdown",
   "metadata": {},
   "source": [
    "---\n",
    "\n",
    "## 모델링(Modeling) 및 성능 평가(Testing)"
   ]
  },
  {
   "cell_type": "code",
   "execution_count": 139,
   "metadata": {
    "ExecuteTime": {
     "end_time": "2020-09-26T01:51:17.366504Z",
     "start_time": "2020-09-26T01:51:17.166440Z"
    }
   },
   "outputs": [],
   "source": [
    "data = {}\n",
    "data['train'] = pd.read_csv('./train_preprocess.csv')\n",
    "data['test'] = pd.read_csv('./test_preprocess.csv')"
   ]
  },
  {
   "cell_type": "markdown",
   "metadata": {},
   "source": [
    "### Mean Average Percentage Error(MAPE)\n",
    "\n",
    "The mean absolute percentage error (MAPE), also known as mean absolute percentage deviation (MAPD), is a measure of prediction accuracy of a forecasting method in statistics, for example in trend estimation, also used as a loss function for regression problems in machine learning. It usually expresses the accuracy as a ratio defined by the formula:\n",
    "\n",
    "$$ MAPE = \\frac{100}{n} \\sum_{t=1}^{n}{|\\frac{A_t - F_t}{A_t}|} $$\n",
    "\n",
    "출처: [위키백과](https://en.wikipedia.org/wiki/Mean_absolute_percentage_error)"
   ]
  },
  {
   "cell_type": "code",
   "execution_count": 145,
   "metadata": {
    "ExecuteTime": {
     "end_time": "2020-09-26T01:52:54.367959Z",
     "start_time": "2020-09-26T01:52:54.350947Z"
    }
   },
   "outputs": [],
   "source": [
    "# MAPE\n",
    "EPS = 1e-3\n",
    "def MAPE(y_true, y_pred): \n",
    "    y_true, y_pred = np.array(y_true), np.array(y_pred)\n",
    "    return np.mean(np.abs((y_true - y_pred) / (y_true + EPS)))"
   ]
  },
  {
   "cell_type": "markdown",
   "metadata": {},
   "source": [
    "### 학습 및 검증 데이터 분리하기"
   ]
  },
  {
   "cell_type": "code",
   "execution_count": 146,
   "metadata": {
    "ExecuteTime": {
     "end_time": "2020-09-26T01:52:55.085084Z",
     "start_time": "2020-09-26T01:52:55.070072Z"
    }
   },
   "outputs": [],
   "source": [
    "SCALED_UNIT = 10000000"
   ]
  },
  {
   "cell_type": "code",
   "execution_count": 147,
   "metadata": {
    "ExecuteTime": {
     "end_time": "2020-09-26T01:54:40.088945Z",
     "start_time": "2020-09-26T01:54:40.054935Z"
    }
   },
   "outputs": [],
   "source": [
    "X_train, X_valid, y_train, y_valid = train_test_split(data['train'].drop('취급액', axis=1),\n",
    "                                                      data['train']['취급액'] / SCALED_UNIT,\n",
    "                                                      shuffle=True,\n",
    "                                                      test_size=TEST_SIZE,\n",
    "                                                      random_state=RANDOM_STATE)"
   ]
  },
  {
   "cell_type": "code",
   "execution_count": 148,
   "metadata": {
    "ExecuteTime": {
     "end_time": "2020-09-26T01:54:40.517065Z",
     "start_time": "2020-09-26T01:54:40.511054Z"
    }
   },
   "outputs": [
    {
     "name": "stdout",
     "output_type": "stream",
     "text": [
      "학습 데이터: (29894, 48)\n",
      "검증 데이터: (7474, 48)\n"
     ]
    }
   ],
   "source": [
    "print(f'학습 데이터: {X_train.shape}')\n",
    "print(f'검증 데이터: {X_valid.shape}')"
   ]
  },
  {
   "cell_type": "markdown",
   "metadata": {},
   "source": [
    "### 머신러닝 모델 생성 및 성능 평가"
   ]
  },
  {
   "cell_type": "code",
   "execution_count": 149,
   "metadata": {
    "ExecuteTime": {
     "end_time": "2020-09-26T01:54:41.230870Z",
     "start_time": "2020-09-26T01:54:41.221859Z"
    }
   },
   "outputs": [],
   "source": [
    "ml_models = {}"
   ]
  },
  {
   "cell_type": "code",
   "execution_count": 150,
   "metadata": {
    "ExecuteTime": {
     "end_time": "2020-09-26T01:54:41.751188Z",
     "start_time": "2020-09-26T01:54:41.741959Z"
    }
   },
   "outputs": [],
   "source": [
    "ml_models['LinearRegression'] = LinearRegression()\n",
    "\n",
    "ml_models['DecisionTreeRegressor'] = DecisionTreeRegressor()\n",
    "\n",
    "ml_models['RandomForestRegressor'] = RandomForestRegressor(n_estimators=1000,\n",
    "                                                           max_depth=20,\n",
    "                                                           random_state=RANDOM_STATE,\n",
    "                                                           n_jobs=-1)\n",
    "\n",
    "ml_models['XGBRegressor'] = XGBRegressor(n_estimators=1000,\n",
    "                                         max_depth=20,\n",
    "                                         learning_rate=0.001,\n",
    "                                         random_state=RANDOM_STATE,\n",
    "                                         n_jobs=-1)\n",
    "\n",
    "ml_models['LGBMRegressor'] = LGBMRegressor(n_estimators=1000,\n",
    "                                           max_depth=20,\n",
    "                                           learning_rate=0.001,\n",
    "                                           random_state=RANDOM_STATE,\n",
    "                                           n_jobs=-1)"
   ]
  },
  {
   "cell_type": "code",
   "execution_count": 151,
   "metadata": {
    "ExecuteTime": {
     "end_time": "2020-09-26T01:54:42.579717Z",
     "start_time": "2020-09-26T01:54:42.566714Z"
    }
   },
   "outputs": [
    {
     "data": {
      "text/plain": [
       "MinMaxScaler(copy=True, feature_range=(0, 1))"
      ]
     },
     "execution_count": 151,
     "metadata": {},
     "output_type": "execute_result"
    }
   ],
   "source": [
    "mms = MinMaxScaler()\n",
    "mms.fit(X_train)"
   ]
  },
  {
   "cell_type": "code",
   "execution_count": 152,
   "metadata": {
    "ExecuteTime": {
     "end_time": "2020-09-26T01:54:46.407445Z",
     "start_time": "2020-09-26T01:54:46.399434Z"
    }
   },
   "outputs": [],
   "source": [
    "log_y_train = np.log(y_train)\n",
    "log_y_valid = np.log(y_valid)"
   ]
  },
  {
   "cell_type": "code",
   "execution_count": 153,
   "metadata": {
    "ExecuteTime": {
     "end_time": "2020-09-26T02:00:42.049041Z",
     "start_time": "2020-09-26T01:58:33.506372Z"
    }
   },
   "outputs": [
    {
     "name": "stdout",
     "output_type": "stream",
     "text": [
      "[1] LinearRegression               모델을 학습합니다. "
     ]
    },
    {
     "ename": "ValueError",
     "evalue": "Input contains NaN, infinity or a value too large for dtype('float64').",
     "output_type": "error",
     "traceback": [
      "\u001b[0;31m---------------------------------------------------------------------------\u001b[0m",
      "\u001b[0;31mValueError\u001b[0m                                Traceback (most recent call last)",
      "\u001b[0;32m<ipython-input-153-099fcd34d94f>\u001b[0m in \u001b[0;36m<module>\u001b[0;34m\u001b[0m\n\u001b[1;32m      3\u001b[0m \u001b[0;32mfor\u001b[0m \u001b[0mn\u001b[0m\u001b[0;34m,\u001b[0m\u001b[0;34m(\u001b[0m\u001b[0mmodel_name\u001b[0m\u001b[0;34m,\u001b[0m \u001b[0mmodel\u001b[0m\u001b[0;34m)\u001b[0m \u001b[0;32min\u001b[0m \u001b[0menumerate\u001b[0m\u001b[0;34m(\u001b[0m\u001b[0mml_models\u001b[0m\u001b[0;34m.\u001b[0m\u001b[0mitems\u001b[0m\u001b[0;34m(\u001b[0m\u001b[0;34m)\u001b[0m\u001b[0;34m,\u001b[0m\u001b[0mstart\u001b[0m\u001b[0;34m=\u001b[0m\u001b[0;36m1\u001b[0m\u001b[0;34m)\u001b[0m\u001b[0;34m:\u001b[0m\u001b[0;34m\u001b[0m\u001b[0;34m\u001b[0m\u001b[0m\n\u001b[1;32m      4\u001b[0m     \u001b[0mprint\u001b[0m\u001b[0;34m(\u001b[0m\u001b[0;34mf'[{n}] {model_name:<30} 모델을 학습합니다.'\u001b[0m\u001b[0;34m,\u001b[0m \u001b[0mend\u001b[0m\u001b[0;34m=\u001b[0m\u001b[0;34m' '\u001b[0m\u001b[0;34m)\u001b[0m\u001b[0;34m\u001b[0m\u001b[0;34m\u001b[0m\u001b[0m\n\u001b[0;32m----> 5\u001b[0;31m     \u001b[0mmodel\u001b[0m\u001b[0;34m.\u001b[0m\u001b[0mfit\u001b[0m\u001b[0;34m(\u001b[0m\u001b[0mmms\u001b[0m\u001b[0;34m.\u001b[0m\u001b[0mtransform\u001b[0m\u001b[0;34m(\u001b[0m\u001b[0mX_train\u001b[0m\u001b[0;34m)\u001b[0m\u001b[0;34m,\u001b[0m \u001b[0mlog_y_train\u001b[0m\u001b[0;34m)\u001b[0m\u001b[0;34m\u001b[0m\u001b[0;34m\u001b[0m\u001b[0m\n\u001b[0m\u001b[1;32m      6\u001b[0m     \u001b[0mml_models\u001b[0m\u001b[0;34m[\u001b[0m\u001b[0mmodel_name\u001b[0m\u001b[0;34m]\u001b[0m \u001b[0;34m=\u001b[0m \u001b[0mmodel\u001b[0m\u001b[0;34m\u001b[0m\u001b[0;34m\u001b[0m\u001b[0m\n\u001b[1;32m      7\u001b[0m     \u001b[0mprint\u001b[0m\u001b[0;34m(\u001b[0m\u001b[0;34mf'--> 저장 완료'\u001b[0m\u001b[0;34m)\u001b[0m\u001b[0;34m\u001b[0m\u001b[0;34m\u001b[0m\u001b[0m\n",
      "\u001b[0;32m~/.conda/envs/tensorflow/lib/python3.7/site-packages/sklearn/linear_model/_base.py\u001b[0m in \u001b[0;36mfit\u001b[0;34m(self, X, y, sample_weight)\u001b[0m\n\u001b[1;32m    490\u001b[0m         \u001b[0mn_jobs_\u001b[0m \u001b[0;34m=\u001b[0m \u001b[0mself\u001b[0m\u001b[0;34m.\u001b[0m\u001b[0mn_jobs\u001b[0m\u001b[0;34m\u001b[0m\u001b[0;34m\u001b[0m\u001b[0m\n\u001b[1;32m    491\u001b[0m         X, y = check_X_y(X, y, accept_sparse=['csr', 'csc', 'coo'],\n\u001b[0;32m--> 492\u001b[0;31m                          y_numeric=True, multi_output=True)\n\u001b[0m\u001b[1;32m    493\u001b[0m \u001b[0;34m\u001b[0m\u001b[0m\n\u001b[1;32m    494\u001b[0m         \u001b[0;32mif\u001b[0m \u001b[0msample_weight\u001b[0m \u001b[0;32mis\u001b[0m \u001b[0;32mnot\u001b[0m \u001b[0;32mNone\u001b[0m\u001b[0;34m:\u001b[0m\u001b[0;34m\u001b[0m\u001b[0;34m\u001b[0m\u001b[0m\n",
      "\u001b[0;32m~/.conda/envs/tensorflow/lib/python3.7/site-packages/sklearn/utils/validation.py\u001b[0m in \u001b[0;36mcheck_X_y\u001b[0;34m(X, y, accept_sparse, accept_large_sparse, dtype, order, copy, force_all_finite, ensure_2d, allow_nd, multi_output, ensure_min_samples, ensure_min_features, y_numeric, warn_on_dtype, estimator)\u001b[0m\n\u001b[1;32m    737\u001b[0m                     \u001b[0mensure_min_features\u001b[0m\u001b[0;34m=\u001b[0m\u001b[0mensure_min_features\u001b[0m\u001b[0;34m,\u001b[0m\u001b[0;34m\u001b[0m\u001b[0;34m\u001b[0m\u001b[0m\n\u001b[1;32m    738\u001b[0m                     \u001b[0mwarn_on_dtype\u001b[0m\u001b[0;34m=\u001b[0m\u001b[0mwarn_on_dtype\u001b[0m\u001b[0;34m,\u001b[0m\u001b[0;34m\u001b[0m\u001b[0;34m\u001b[0m\u001b[0m\n\u001b[0;32m--> 739\u001b[0;31m                     estimator=estimator)\n\u001b[0m\u001b[1;32m    740\u001b[0m     \u001b[0;32mif\u001b[0m \u001b[0mmulti_output\u001b[0m\u001b[0;34m:\u001b[0m\u001b[0;34m\u001b[0m\u001b[0;34m\u001b[0m\u001b[0m\n\u001b[1;32m    741\u001b[0m         y = check_array(y, 'csr', force_all_finite=True, ensure_2d=False,\n",
      "\u001b[0;32m~/.conda/envs/tensorflow/lib/python3.7/site-packages/sklearn/utils/validation.py\u001b[0m in \u001b[0;36mcheck_array\u001b[0;34m(array, accept_sparse, accept_large_sparse, dtype, order, copy, force_all_finite, ensure_2d, allow_nd, ensure_min_samples, ensure_min_features, warn_on_dtype, estimator)\u001b[0m\n\u001b[1;32m    560\u001b[0m         \u001b[0;32mif\u001b[0m \u001b[0mforce_all_finite\u001b[0m\u001b[0;34m:\u001b[0m\u001b[0;34m\u001b[0m\u001b[0;34m\u001b[0m\u001b[0m\n\u001b[1;32m    561\u001b[0m             _assert_all_finite(array,\n\u001b[0;32m--> 562\u001b[0;31m                                allow_nan=force_all_finite == 'allow-nan')\n\u001b[0m\u001b[1;32m    563\u001b[0m \u001b[0;34m\u001b[0m\u001b[0m\n\u001b[1;32m    564\u001b[0m     \u001b[0;32mif\u001b[0m \u001b[0mensure_min_samples\u001b[0m \u001b[0;34m>\u001b[0m \u001b[0;36m0\u001b[0m\u001b[0;34m:\u001b[0m\u001b[0;34m\u001b[0m\u001b[0;34m\u001b[0m\u001b[0m\n",
      "\u001b[0;32m~/.conda/envs/tensorflow/lib/python3.7/site-packages/sklearn/utils/validation.py\u001b[0m in \u001b[0;36m_assert_all_finite\u001b[0;34m(X, allow_nan, msg_dtype)\u001b[0m\n\u001b[1;32m     58\u001b[0m                     \u001b[0mmsg_err\u001b[0m\u001b[0;34m.\u001b[0m\u001b[0mformat\u001b[0m\u001b[0;34m\u001b[0m\u001b[0;34m\u001b[0m\u001b[0m\n\u001b[1;32m     59\u001b[0m                     (type_err,\n\u001b[0;32m---> 60\u001b[0;31m                      msg_dtype if msg_dtype is not None else X.dtype)\n\u001b[0m\u001b[1;32m     61\u001b[0m             )\n\u001b[1;32m     62\u001b[0m     \u001b[0;31m# for object dtype data, we only check for NaNs (GH-13254)\u001b[0m\u001b[0;34m\u001b[0m\u001b[0;34m\u001b[0m\u001b[0;34m\u001b[0m\u001b[0m\n",
      "\u001b[0;31mValueError\u001b[0m: Input contains NaN, infinity or a value too large for dtype('float64')."
     ]
    }
   ],
   "source": [
    "results_train = {}\n",
    "results_valid = {}\n",
    "for n,(model_name, model) in enumerate(ml_models.items(),start=1):\n",
    "    print(f'[{n}] {model_name:<30} 모델을 학습합니다.', end=' ')\n",
    "    model.fit(mms.transform(X_train), log_y_train)\n",
    "    ml_models[model_name] = model\n",
    "    print(f'--> 저장 완료')\n",
    "    \n",
    "    y_pred = ml_models[model_name].predict(mms.transform(X_train))\n",
    "    result = MAPE(y_train, np.exp(y_pred))\n",
    "    print(f'[{n}] {model_name:<30} 의 MAPE 값: {result:<4.10f}')\n",
    "    results_train[model_name] = result\n",
    "    \n",
    "    y_pred = ml_models[model_name].predict(mms.transform(X_valid))\n",
    "    result = MAPE(y_valid, np.exp(y_pred))\n",
    "    print(f'[{n}] {model_name:<30} 의 MAPE 값: {result:<4.10f}')\n",
    "    results_valid[model_name] = result\n",
    "    \n",
    "    print('-'*60)"
   ]
  },
  {
   "cell_type": "markdown",
   "metadata": {},
   "source": [
    "### 딥러닝 모델 생성 및 성능 평가"
   ]
  },
  {
   "cell_type": "code",
   "execution_count": null,
   "metadata": {
    "ExecuteTime": {
     "end_time": "2020-09-26T02:10:31.711690Z",
     "start_time": "2020-09-26T02:10:31.693678Z"
    }
   },
   "outputs": [],
   "source": [
    "class DeepNSNet(nn.Module):\n",
    "    def __init__(self):\n",
    "        super(DeepNSNet, self).__init__()\n",
    "        self.input_length = len(X_train.columns)\n",
    "        self.fc1 = nn.Linear(self.input_length, 16)  # 6*6 from image dimension\n",
    "        self.fc2 = nn.Linear(16, 8)\n",
    "        self.fc3 = nn.Linear(8, 1)\n",
    "        \n",
    "    def forward(self, x):\n",
    "        x = torch.sigmoid(self.fc1(x))\n",
    "        x = torch.sigmoid(self.fc2(x))\n",
    "        output = self.fc3(x)\n",
    "        return output"
   ]
  },
  {
   "cell_type": "code",
   "execution_count": null,
   "metadata": {
    "ExecuteTime": {
     "end_time": "2020-09-26T02:10:36.084066Z",
     "start_time": "2020-09-26T02:10:36.070063Z"
    }
   },
   "outputs": [],
   "source": [
    "model = DeepNSNet()\n",
    "model"
   ]
  },
  {
   "cell_type": "code",
   "execution_count": null,
   "metadata": {
    "ExecuteTime": {
     "end_time": "2020-09-26T02:10:40.004772Z",
     "start_time": "2020-09-26T02:10:39.997779Z"
    }
   },
   "outputs": [],
   "source": [
    "optimizer = optim.Adam(model.parameters(), lr=learning_rate)\n",
    "loss_fn = nn.MSELoss()"
   ]
  },
  {
   "cell_type": "code",
   "execution_count": null,
   "metadata": {
    "ExecuteTime": {
     "end_time": "2020-09-26T02:10:43.471763Z",
     "start_time": "2020-09-26T02:10:43.389742Z"
    }
   },
   "outputs": [],
   "source": [
    "train_losses = []\n",
    "valid_losses = []\n",
    "train_mape_list = []\n",
    "val_mape_list = []\n",
    "X_train_scaled = mms.transform(X_train)\n",
    "X_valid_scaled = mms.transform(X_valid)"
   ]
  },
  {
   "cell_type": "code",
   "execution_count": null,
   "metadata": {
    "ExecuteTime": {
     "end_time": "2020-09-26T02:10:43.915911Z",
     "start_time": "2020-09-26T02:10:43.909900Z"
    }
   },
   "outputs": [],
   "source": [
    "EPOCH = 300000\n",
    "PATH = './model/'\n",
    "top_mape = 0.60"
   ]
  },
  {
   "cell_type": "code",
   "execution_count": null,
   "metadata": {},
   "outputs": [],
   "source": [
    "if torch.cuda.is_available():\n",
    "    print(f'현재 CUDA를 사용할 수 있습니다. 사용하고 있는 장치는 {device} 입니다.')\n",
    "else:\n",
    "    print(f'현재 CUDA를 사용할 수 없습니다. 사용하고 있는 장치는 {device} 입니다. CPU로 학습시 오래 걸릴 수 있습니다.')"
   ]
  },
  {
   "cell_type": "code",
   "execution_count": 42,
   "metadata": {
    "ExecuteTime": {
     "end_time": "2020-09-26T02:29:45.494758Z",
     "start_time": "2020-09-26T02:10:45.534044Z"
    },
    "scrolled": false
   },
<<<<<<< HEAD
   "outputs": [
    {
     "name": "stdout",
     "output_type": "stream",
     "text": [
      "[Epoch      0 / 300000] Train Loss: 2.95434 | Val Loss: 3.07368 | MAPE(train): 0.71835 | MAPE(val): 0.70398 | TOP MAPE(val): 0.6000\n",
      "[Epoch   1000 / 300000] Train Loss: 2.55802 | Val Loss: 2.63930 | MAPE(train): 1.20140 | MAPE(val): 1.16714 | TOP MAPE(val): 0.6000\n",
      "[Epoch   2000 / 300000] Train Loss: 2.50622 | Val Loss: 2.58094 | MAPE(train): 1.27571 | MAPE(val): 1.23829 | TOP MAPE(val): 0.6000\n",
      "[Epoch   3000 / 300000] Train Loss: 2.36758 | Val Loss: 2.43681 | MAPE(train): 1.19166 | MAPE(val): 1.15829 | TOP MAPE(val): 0.6000\n",
      "[Epoch   4000 / 300000] Train Loss: 2.13957 | Val Loss: 2.19813 | MAPE(train): 1.09129 | MAPE(val): 1.06621 | TOP MAPE(val): 0.6000\n",
      "[Epoch   5000 / 300000] Train Loss: 1.98603 | Val Loss: 2.03700 | MAPE(train): 1.07909 | MAPE(val): 1.06266 | TOP MAPE(val): 0.6000\n",
      "[Epoch   6000 / 300000] Train Loss: 1.89617 | Val Loss: 1.93796 | MAPE(train): 1.08445 | MAPE(val): 1.06839 | TOP MAPE(val): 0.6000\n",
      "[Epoch   7000 / 300000] Train Loss: 1.83847 | Val Loss: 1.87187 | MAPE(train): 1.08895 | MAPE(val): 1.07066 | TOP MAPE(val): 0.6000\n",
      "[Epoch   8000 / 300000] Train Loss: 1.79350 | Val Loss: 1.82134 | MAPE(train): 1.08916 | MAPE(val): 1.06888 | TOP MAPE(val): 0.6000\n",
      "[Epoch   9000 / 300000] Train Loss: 1.74827 | Val Loss: 1.77110 | MAPE(train): 1.08754 | MAPE(val): 1.06395 | TOP MAPE(val): 0.6000\n",
      "[Epoch  10000 / 300000] Train Loss: 1.69915 | Val Loss: 1.71839 | MAPE(train): 1.08741 | MAPE(val): 1.06025 | TOP MAPE(val): 0.6000\n",
      "[Epoch  11000 / 300000] Train Loss: 1.64529 | Val Loss: 1.66351 | MAPE(train): 1.08925 | MAPE(val): 1.05882 | TOP MAPE(val): 0.6000\n",
      "[Epoch  12000 / 300000] Train Loss: 1.59180 | Val Loss: 1.61096 | MAPE(train): 1.09610 | MAPE(val): 1.06511 | TOP MAPE(val): 0.6000\n",
      "[Epoch  13000 / 300000] Train Loss: 1.54549 | Val Loss: 1.56683 | MAPE(train): 1.11079 | MAPE(val): 1.08092 | TOP MAPE(val): 0.6000\n",
      "[Epoch  14000 / 300000] Train Loss: 1.50776 | Val Loss: 1.53280 | MAPE(train): 1.12930 | MAPE(val): 1.10081 | TOP MAPE(val): 0.6000\n",
      "[Epoch  15000 / 300000] Train Loss: 1.47738 | Val Loss: 1.50715 | MAPE(train): 1.14749 | MAPE(val): 1.11966 | TOP MAPE(val): 0.6000\n",
      "[Epoch  16000 / 300000] Train Loss: 1.45209 | Val Loss: 1.48727 | MAPE(train): 1.15952 | MAPE(val): 1.13106 | TOP MAPE(val): 0.6000\n",
      "[Epoch  17000 / 300000] Train Loss: 1.42935 | Val Loss: 1.47163 | MAPE(train): 1.16359 | MAPE(val): 1.13546 | TOP MAPE(val): 0.6000\n",
      "[Epoch  18000 / 300000] Train Loss: 1.40857 | Val Loss: 1.45873 | MAPE(train): 1.16284 | MAPE(val): 1.13614 | TOP MAPE(val): 0.6000\n",
      "[Epoch  19000 / 300000] Train Loss: 1.39017 | Val Loss: 1.44742 | MAPE(train): 1.16001 | MAPE(val): 1.13532 | TOP MAPE(val): 0.6000\n",
      "[Epoch  20000 / 300000] Train Loss: 1.37366 | Val Loss: 1.43744 | MAPE(train): 1.15493 | MAPE(val): 1.13401 | TOP MAPE(val): 0.6000\n",
      "[Epoch  21000 / 300000] Train Loss: 1.35869 | Val Loss: 1.42839 | MAPE(train): 1.14885 | MAPE(val): 1.13339 | TOP MAPE(val): 0.6000\n",
      "[Epoch  22000 / 300000] Train Loss: 1.34467 | Val Loss: 1.41988 | MAPE(train): 1.14212 | MAPE(val): 1.13344 | TOP MAPE(val): 0.6000\n",
      "[Epoch  23000 / 300000] Train Loss: 1.33125 | Val Loss: 1.41280 | MAPE(train): 1.13453 | MAPE(val): 1.13483 | TOP MAPE(val): 0.6000\n",
      "[Epoch  24000 / 300000] Train Loss: 1.31851 | Val Loss: 1.40684 | MAPE(train): 1.12888 | MAPE(val): 1.13784 | TOP MAPE(val): 0.6000\n",
      "[Epoch  25000 / 300000] Train Loss: 1.30651 | Val Loss: 1.40167 | MAPE(train): 1.12493 | MAPE(val): 1.14295 | TOP MAPE(val): 0.6000\n",
      "[Epoch  26000 / 300000] Train Loss: 1.29560 | Val Loss: 1.39753 | MAPE(train): 1.12131 | MAPE(val): 1.15071 | TOP MAPE(val): 0.6000\n",
      "[Epoch  27000 / 300000] Train Loss: 1.28584 | Val Loss: 1.39361 | MAPE(train): 1.11956 | MAPE(val): 1.15766 | TOP MAPE(val): 0.6000\n",
      "[Epoch  28000 / 300000] Train Loss: 1.27695 | Val Loss: 1.38928 | MAPE(train): 1.11751 | MAPE(val): 1.16525 | TOP MAPE(val): 0.6000\n",
      "[Epoch  29000 / 300000] Train Loss: 1.26864 | Val Loss: 1.38487 | MAPE(train): 1.11775 | MAPE(val): 1.17046 | TOP MAPE(val): 0.6000\n",
      "[Epoch  30000 / 300000] Train Loss: 1.26088 | Val Loss: 1.38059 | MAPE(train): 1.11664 | MAPE(val): 1.17689 | TOP MAPE(val): 0.6000\n",
      "[Epoch  31000 / 300000] Train Loss: 1.25366 | Val Loss: 1.37652 | MAPE(train): 1.11535 | MAPE(val): 1.18300 | TOP MAPE(val): 0.6000\n",
      "[Epoch  32000 / 300000] Train Loss: 1.24679 | Val Loss: 1.37247 | MAPE(train): 1.11403 | MAPE(val): 1.18799 | TOP MAPE(val): 0.6000\n",
      "[Epoch  33000 / 300000] Train Loss: 1.24011 | Val Loss: 1.36826 | MAPE(train): 1.11267 | MAPE(val): 1.19060 | TOP MAPE(val): 0.6000\n",
      "[Epoch  34000 / 300000] Train Loss: 1.23344 | Val Loss: 1.36376 | MAPE(train): 1.11149 | MAPE(val): 1.19187 | TOP MAPE(val): 0.6000\n",
      "[Epoch  35000 / 300000] Train Loss: 1.22671 | Val Loss: 1.35895 | MAPE(train): 1.10934 | MAPE(val): 1.19124 | TOP MAPE(val): 0.6000\n",
      "[Epoch  36000 / 300000] Train Loss: 1.22006 | Val Loss: 1.35385 | MAPE(train): 1.10663 | MAPE(val): 1.19076 | TOP MAPE(val): 0.6000\n",
      "[Epoch  37000 / 300000] Train Loss: 1.21359 | Val Loss: 1.34891 | MAPE(train): 1.10331 | MAPE(val): 1.19126 | TOP MAPE(val): 0.6000\n",
      "[Epoch  38000 / 300000] Train Loss: 1.20736 | Val Loss: 1.34429 | MAPE(train): 1.09884 | MAPE(val): 1.19336 | TOP MAPE(val): 0.6000\n",
      "[Epoch  39000 / 300000] Train Loss: 1.20142 | Val Loss: 1.34000 | MAPE(train): 1.09580 | MAPE(val): 1.19438 | TOP MAPE(val): 0.6000\n",
      "[Epoch  40000 / 300000] Train Loss: 1.19589 | Val Loss: 1.33600 | MAPE(train): 1.09244 | MAPE(val): 1.19670 | TOP MAPE(val): 0.6000\n",
      "[Epoch  41000 / 300000] Train Loss: 1.19079 | Val Loss: 1.33235 | MAPE(train): 1.08951 | MAPE(val): 1.19945 | TOP MAPE(val): 0.6000\n",
      "[Epoch  42000 / 300000] Train Loss: 1.18607 | Val Loss: 1.32908 | MAPE(train): 1.08653 | MAPE(val): 1.20310 | TOP MAPE(val): 0.6000\n",
      "[Epoch  43000 / 300000] Train Loss: 1.18168 | Val Loss: 1.32634 | MAPE(train): 1.08414 | MAPE(val): 1.20655 | TOP MAPE(val): 0.6000\n",
      "[Epoch  44000 / 300000] Train Loss: 1.17760 | Val Loss: 1.32401 | MAPE(train): 1.08421 | MAPE(val): 1.20689 | TOP MAPE(val): 0.6000\n",
      "[Epoch  45000 / 300000] Train Loss: 1.17379 | Val Loss: 1.32165 | MAPE(train): 1.08031 | MAPE(val): 1.21103 | TOP MAPE(val): 0.6000\n",
      "[Epoch  46000 / 300000] Train Loss: 1.17018 | Val Loss: 1.31933 | MAPE(train): 1.07810 | MAPE(val): 1.21190 | TOP MAPE(val): 0.6000\n",
      "[Epoch  47000 / 300000] Train Loss: 1.16673 | Val Loss: 1.31713 | MAPE(train): 1.07579 | MAPE(val): 1.21200 | TOP MAPE(val): 0.6000\n",
      "[Epoch  48000 / 300000] Train Loss: 1.16342 | Val Loss: 1.31525 | MAPE(train): 1.07350 | MAPE(val): 1.21191 | TOP MAPE(val): 0.6000\n",
      "[Epoch  49000 / 300000] Train Loss: 1.16022 | Val Loss: 1.31372 | MAPE(train): 1.07152 | MAPE(val): 1.21210 | TOP MAPE(val): 0.6000\n",
      "[Epoch  50000 / 300000] Train Loss: 1.15715 | Val Loss: 1.31246 | MAPE(train): 1.06943 | MAPE(val): 1.21371 | TOP MAPE(val): 0.6000\n",
      "[Epoch  51000 / 300000] Train Loss: 1.15425 | Val Loss: 1.31134 | MAPE(train): 1.06770 | MAPE(val): 1.21611 | TOP MAPE(val): 0.6000\n",
      "[Epoch  52000 / 300000] Train Loss: 1.15150 | Val Loss: 1.31033 | MAPE(train): 1.06717 | MAPE(val): 1.21794 | TOP MAPE(val): 0.6000\n",
      "[Epoch  53000 / 300000] Train Loss: 1.14891 | Val Loss: 1.30933 | MAPE(train): 1.06304 | MAPE(val): 1.22549 | TOP MAPE(val): 0.6000\n",
      "[Epoch  54000 / 300000] Train Loss: 1.14649 | Val Loss: 1.30857 | MAPE(train): 1.06417 | MAPE(val): 1.22795 | TOP MAPE(val): 0.6000\n",
      "[Epoch  55000 / 300000] Train Loss: 1.14421 | Val Loss: 1.30794 | MAPE(train): 1.06324 | MAPE(val): 1.23299 | TOP MAPE(val): 0.6000\n"
     ]
    },
    {
     "ename": "KeyboardInterrupt",
     "evalue": "",
     "output_type": "error",
     "traceback": [
      "\u001b[1;31m---------------------------------------------------------------------------\u001b[0m",
      "\u001b[1;31mKeyboardInterrupt\u001b[0m                         Traceback (most recent call last)",
      "\u001b[1;32m<ipython-input-42-9821691b0713>\u001b[0m in \u001b[0;36m<module>\u001b[1;34m\u001b[0m\n\u001b[0;32m      7\u001b[0m     \u001b[0mtrain_mape_list\u001b[0m\u001b[1;33m.\u001b[0m\u001b[0mappend\u001b[0m\u001b[1;33m(\u001b[0m\u001b[0mmape\u001b[0m\u001b[1;33m)\u001b[0m\u001b[1;33m\u001b[0m\u001b[1;33m\u001b[0m\u001b[0m\n\u001b[0;32m      8\u001b[0m     \u001b[0moptimizer\u001b[0m\u001b[1;33m.\u001b[0m\u001b[0mzero_grad\u001b[0m\u001b[1;33m(\u001b[0m\u001b[1;33m)\u001b[0m\u001b[1;33m\u001b[0m\u001b[1;33m\u001b[0m\u001b[0m\n\u001b[1;32m----> 9\u001b[1;33m     \u001b[0mloss\u001b[0m\u001b[1;33m.\u001b[0m\u001b[0mbackward\u001b[0m\u001b[1;33m(\u001b[0m\u001b[1;33m)\u001b[0m\u001b[1;33m\u001b[0m\u001b[1;33m\u001b[0m\u001b[0m\n\u001b[0m\u001b[0;32m     10\u001b[0m     \u001b[0moptimizer\u001b[0m\u001b[1;33m.\u001b[0m\u001b[0mstep\u001b[0m\u001b[1;33m(\u001b[0m\u001b[1;33m)\u001b[0m\u001b[1;33m\u001b[0m\u001b[1;33m\u001b[0m\u001b[0m\n\u001b[0;32m     11\u001b[0m \u001b[1;33m\u001b[0m\u001b[0m\n",
      "\u001b[1;32m~\\Anaconda3\\envs\\pytorch\\lib\\site-packages\\torch\\tensor.py\u001b[0m in \u001b[0;36mbackward\u001b[1;34m(self, gradient, retain_graph, create_graph)\u001b[0m\n\u001b[0;32m    196\u001b[0m                 \u001b[0mproducts\u001b[0m\u001b[1;33m.\u001b[0m \u001b[0mDefaults\u001b[0m \u001b[0mto\u001b[0m\u001b[0;31m \u001b[0m\u001b[0;31m`\u001b[0m\u001b[0;31m`\u001b[0m\u001b[1;32mFalse\u001b[0m\u001b[0;31m`\u001b[0m\u001b[0;31m`\u001b[0m\u001b[1;33m.\u001b[0m\u001b[1;33m\u001b[0m\u001b[1;33m\u001b[0m\u001b[0m\n\u001b[0;32m    197\u001b[0m         \"\"\"\n\u001b[1;32m--> 198\u001b[1;33m         \u001b[0mtorch\u001b[0m\u001b[1;33m.\u001b[0m\u001b[0mautograd\u001b[0m\u001b[1;33m.\u001b[0m\u001b[0mbackward\u001b[0m\u001b[1;33m(\u001b[0m\u001b[0mself\u001b[0m\u001b[1;33m,\u001b[0m \u001b[0mgradient\u001b[0m\u001b[1;33m,\u001b[0m \u001b[0mretain_graph\u001b[0m\u001b[1;33m,\u001b[0m \u001b[0mcreate_graph\u001b[0m\u001b[1;33m)\u001b[0m\u001b[1;33m\u001b[0m\u001b[1;33m\u001b[0m\u001b[0m\n\u001b[0m\u001b[0;32m    199\u001b[0m \u001b[1;33m\u001b[0m\u001b[0m\n\u001b[0;32m    200\u001b[0m     \u001b[1;32mdef\u001b[0m \u001b[0mregister_hook\u001b[0m\u001b[1;33m(\u001b[0m\u001b[0mself\u001b[0m\u001b[1;33m,\u001b[0m \u001b[0mhook\u001b[0m\u001b[1;33m)\u001b[0m\u001b[1;33m:\u001b[0m\u001b[1;33m\u001b[0m\u001b[1;33m\u001b[0m\u001b[0m\n",
      "\u001b[1;32m~\\Anaconda3\\envs\\pytorch\\lib\\site-packages\\torch\\autograd\\__init__.py\u001b[0m in \u001b[0;36mbackward\u001b[1;34m(tensors, grad_tensors, retain_graph, create_graph, grad_variables)\u001b[0m\n\u001b[0;32m     92\u001b[0m         \u001b[0mgrad_tensors\u001b[0m \u001b[1;33m=\u001b[0m \u001b[0mlist\u001b[0m\u001b[1;33m(\u001b[0m\u001b[0mgrad_tensors\u001b[0m\u001b[1;33m)\u001b[0m\u001b[1;33m\u001b[0m\u001b[1;33m\u001b[0m\u001b[0m\n\u001b[0;32m     93\u001b[0m \u001b[1;33m\u001b[0m\u001b[0m\n\u001b[1;32m---> 94\u001b[1;33m     \u001b[0mgrad_tensors\u001b[0m \u001b[1;33m=\u001b[0m \u001b[0m_make_grads\u001b[0m\u001b[1;33m(\u001b[0m\u001b[0mtensors\u001b[0m\u001b[1;33m,\u001b[0m \u001b[0mgrad_tensors\u001b[0m\u001b[1;33m)\u001b[0m\u001b[1;33m\u001b[0m\u001b[1;33m\u001b[0m\u001b[0m\n\u001b[0m\u001b[0;32m     95\u001b[0m     \u001b[1;32mif\u001b[0m \u001b[0mretain_graph\u001b[0m \u001b[1;32mis\u001b[0m \u001b[1;32mNone\u001b[0m\u001b[1;33m:\u001b[0m\u001b[1;33m\u001b[0m\u001b[1;33m\u001b[0m\u001b[0m\n\u001b[0;32m     96\u001b[0m         \u001b[0mretain_graph\u001b[0m \u001b[1;33m=\u001b[0m \u001b[0mcreate_graph\u001b[0m\u001b[1;33m\u001b[0m\u001b[1;33m\u001b[0m\u001b[0m\n",
      "\u001b[1;32m~\\Anaconda3\\envs\\pytorch\\lib\\site-packages\\torch\\autograd\\__init__.py\u001b[0m in \u001b[0;36m_make_grads\u001b[1;34m(outputs, grads)\u001b[0m\n\u001b[0;32m     34\u001b[0m                 \u001b[1;32mif\u001b[0m \u001b[0mout\u001b[0m\u001b[1;33m.\u001b[0m\u001b[0mnumel\u001b[0m\u001b[1;33m(\u001b[0m\u001b[1;33m)\u001b[0m \u001b[1;33m!=\u001b[0m \u001b[1;36m1\u001b[0m\u001b[1;33m:\u001b[0m\u001b[1;33m\u001b[0m\u001b[1;33m\u001b[0m\u001b[0m\n\u001b[0;32m     35\u001b[0m                     \u001b[1;32mraise\u001b[0m \u001b[0mRuntimeError\u001b[0m\u001b[1;33m(\u001b[0m\u001b[1;34m\"grad can be implicitly created only for scalar outputs\"\u001b[0m\u001b[1;33m)\u001b[0m\u001b[1;33m\u001b[0m\u001b[1;33m\u001b[0m\u001b[0m\n\u001b[1;32m---> 36\u001b[1;33m                 \u001b[0mnew_grads\u001b[0m\u001b[1;33m.\u001b[0m\u001b[0mappend\u001b[0m\u001b[1;33m(\u001b[0m\u001b[0mtorch\u001b[0m\u001b[1;33m.\u001b[0m\u001b[0mones_like\u001b[0m\u001b[1;33m(\u001b[0m\u001b[0mout\u001b[0m\u001b[1;33m,\u001b[0m \u001b[0mmemory_format\u001b[0m\u001b[1;33m=\u001b[0m\u001b[0mtorch\u001b[0m\u001b[1;33m.\u001b[0m\u001b[0mpreserve_format\u001b[0m\u001b[1;33m)\u001b[0m\u001b[1;33m)\u001b[0m\u001b[1;33m\u001b[0m\u001b[1;33m\u001b[0m\u001b[0m\n\u001b[0m\u001b[0;32m     37\u001b[0m             \u001b[1;32melse\u001b[0m\u001b[1;33m:\u001b[0m\u001b[1;33m\u001b[0m\u001b[1;33m\u001b[0m\u001b[0m\n\u001b[0;32m     38\u001b[0m                 \u001b[0mnew_grads\u001b[0m\u001b[1;33m.\u001b[0m\u001b[0mappend\u001b[0m\u001b[1;33m(\u001b[0m\u001b[1;32mNone\u001b[0m\u001b[1;33m)\u001b[0m\u001b[1;33m\u001b[0m\u001b[1;33m\u001b[0m\u001b[0m\n",
      "\u001b[1;31mKeyboardInterrupt\u001b[0m: "
     ]
    }
   ],
=======
   "outputs": [],
>>>>>>> 4aa72ca49e9a7674c824c2aabc14ee169e5cf10b
   "source": [
    "for i in range(EPOCH):\n",
    "    y_pred_train = model(torch.Tensor(X_train_scaled)).to(device)\n",
    "    loss = loss_fn(y_pred_train.squeeze().to(device), torch.Tensor(log_y_train.values).to(device))\n",
    "    train_losses.append(loss)\n",
    "    mape = MAPE(np.exp(y_pred_train.cpu().detach().numpy().squeeze()), y_train)\n",
    "#     mape = MAPE(y_pred_train.cpu().detach().numpy().squeeze(), y_train)\n",
    "    train_mape_list.append(mape)\n",
    "    optimizer.zero_grad()\n",
    "    loss.backward()\n",
    "    optimizer.step()\n",
    "\n",
    "    with torch.no_grad():\n",
    "        y_pred_test = model(torch.Tensor(X_valid_scaled)).to(device)\n",
    "        val_loss = loss_fn(y_pred_test.squeeze().to(device), torch.Tensor(log_y_valid.values).to(device))\n",
    "        val_mape = MAPE(np.exp(y_pred_test.cpu().detach().numpy().squeeze()), y_valid)\n",
    "        valid_losses.append(val_loss)\n",
    "        val_mape_list.append(val_mape)            \n",
    "\n",
    "    if top_mape >= val_mape * 1.05:\n",
    "        top_mape = val_mape\n",
    "        torch.save(model, PATH + f'DeepNSNet_EPOCH_{str(i).zfill(len(str(EPOCH)))}_MAPE_{val_mape:.4f}.pth')  # 전체 모델 저장\n",
    "    \n",
    "    if i % 1000 == 0:\n",
    "        print(f\"[Epoch {i:>6d} / {EPOCH:>6d}] \"\n",
    "        f\"Train Loss: {loss:>2.5f} | \" gi\n",
    "        f\"Val Loss: {val_loss:>2.5f} | \"\n",
    "        f\"MAPE(train): {mape:>2.5f} | \"\n",
    "        f\"MAPE(val): {val_mape:>2.5f} | \"\n",
    "        f\"TOP MAPE(val): {top_mape:>.4f}\")"
   ]
  },
  {
   "cell_type": "code",
   "execution_count": null,
   "metadata": {
    "ExecuteTime": {
     "end_time": "2020-09-25T06:00:06.690679Z",
     "start_time": "2020-09-25T05:59:38.252041Z"
    }
   },
   "outputs": [],
   "source": [
    "plt.plot(train_losses)\n",
    "plt.plot(valid_losses)\n",
    "plt.legend(['Train loss', 'Val loss'])\n",
    "plt.show()"
   ]
  },
  {
   "cell_type": "code",
   "execution_count": null,
   "metadata": {
    "ExecuteTime": {
     "end_time": "2020-09-25T06:00:07.898171Z",
     "start_time": "2020-09-25T06:00:06.709642Z"
    }
   },
   "outputs": [],
   "source": [
    "plt.ylim(0.4,2)\n",
    "plt.plot(train_mape_list)\n",
    "plt.plot(val_mape_list)\n",
    "plt.legend(['Train MAPE', 'Val MAPE'])\n",
    "plt.show()"
   ]
  },
  {
   "cell_type": "code",
   "execution_count": null,
   "metadata": {},
   "outputs": [],
   "source": [
    "with torch.no_grad():\n",
    "    y_pred_test = model(torch.Tensor(X_valid_scaled)).to(device)\n",
    "    val_loss = loss_fn(y_pred_test.squeeze().to(device), torch.Tensor(y_valid.values).to(device))\n",
    "    val_mape = MAPE(y_pred_test.cpu().detach().numpy().squeeze(), y_valid)"
   ]
  },
  {
   "cell_type": "code",
   "execution_count": null,
   "metadata": {},
   "outputs": [],
   "source": [
    "val_mape"
   ]
  },
  {
   "cell_type": "markdown",
   "metadata": {},
   "source": [
    "---\n",
    "\n",
    "## 제출하기"
   ]
  },
  {
   "cell_type": "code",
   "execution_count": null,
   "metadata": {
    "ExecuteTime": {
     "end_time": "2020-09-25T07:52:46.521463Z",
     "start_time": "2020-09-25T07:52:46.319883Z"
    }
   },
   "outputs": [],
   "source": [
    "submission = pd.read_excel('./data/02_평가데이터/2020 빅콘테스트 데이터분석분야-챔피언리그_2020년 6월 판매실적예측데이터(평가데이터).xlsx',\n",
    "                          skiprows=1,\n",
    "                          index_col=0,\n",
    "                          )\n",
    "submission"
   ]
  },
  {
   "cell_type": "code",
   "execution_count": null,
   "metadata": {
    "ExecuteTime": {
     "end_time": "2020-09-25T08:55:49.736140Z",
     "start_time": "2020-09-25T08:55:48.146421Z"
    }
   },
   "outputs": [],
   "source": [
    "for sub_model_name in tqdm_notebook(ml_models.keys()):\n",
    "    now = datetime.now()\n",
    "    file_sub_date = str(now.month).zfill(2) + str(now.day).zfill(2) + str(now.hour).zfill(2) + str(now.hour).zfill(2)\n",
    "    y_pred = ml_models['XGBRegressor'].predict(mms.transform(data['test'].drop('취급액',axis=1))) * SCALED_UNIT\n",
    "    submission.loc[~submission['상품군'].str.contains('무형'),['취급액']] = y_pred\n",
    "    submission = submission.fillna(0)\n",
    "    submission.to_csv(f'./result/KUAI_{file_sub_date}_MODEL_{sub_model_name}.csv', \n",
    "                      index=None, \n",
    "                      encoding='cp949')"
   ]
  },
  {
   "cell_type": "markdown",
   "metadata": {},
   "source": [
    "---\n",
    "\n",
    "## 참고자료"
   ]
  },
  {
   "cell_type": "markdown",
   "metadata": {},
   "source": [
    "- https://www.bigcontest.or.kr/index.php\n",
    "- https://pytorch.org/\n",
    "- https://minsuksung-ai.tistory.com/\n",
    "- https://en.wikipedia.org/wiki/Mean_absolute_percentage_error\n",
    "- https://discuss.pytorch.org/t/model-zero-grad-or-optimizer-zero-grad/28426\n",
    "- https://rfriend.tistory.com/411\n",
    "- https://stackoverflow.com/questions/13838405/custom-sorting-in-pandas-dataframe\n",
    "- https://datatofish.com/data-type-pandas-dataframe/\n",
    "- "
   ]
  }
 ],
 "metadata": {
  "hide_input": false,
  "kernelspec": {
   "display_name": "Python 3",
   "language": "python",
   "name": "python3"
  },
  "language_info": {
   "codemirror_mode": {
    "name": "ipython",
    "version": 3
   },
   "file_extension": ".py",
   "mimetype": "text/x-python",
   "name": "python",
   "nbconvert_exporter": "python",
   "pygments_lexer": "ipython3",
   "version": "3.7.3"
  },
  "toc": {
   "base_numbering": "0",
   "nav_menu": {},
   "number_sections": true,
   "sideBar": true,
   "skip_h1_title": true,
   "title_cell": "Table of Contents",
   "title_sidebar": "Contents",
   "toc_cell": true,
   "toc_position": {
    "height": "calc(100% - 180px)",
    "left": "10px",
    "top": "150px",
    "width": "329px"
   },
   "toc_section_display": true,
   "toc_window_display": true
  },
  "varInspector": {
   "cols": {
    "lenName": 16,
    "lenType": 16,
    "lenVar": 40
   },
   "kernels_config": {
    "python": {
     "delete_cmd_postfix": "",
     "delete_cmd_prefix": "del ",
     "library": "var_list.py",
     "varRefreshCmd": "print(var_dic_list())"
    },
    "r": {
     "delete_cmd_postfix": ") ",
     "delete_cmd_prefix": "rm(",
     "library": "var_list.r",
     "varRefreshCmd": "cat(var_dic_list()) "
    }
   },
   "position": {
    "height": "451.215px",
    "left": "1763.33px",
    "right": "20px",
    "top": "120px",
    "width": "350px"
   },
   "types_to_exclude": [
    "module",
    "function",
    "builtin_function_or_method",
    "instance",
    "_Feature"
   ],
   "window_display": false
  }
 },
 "nbformat": 4,
 "nbformat_minor": 4
}

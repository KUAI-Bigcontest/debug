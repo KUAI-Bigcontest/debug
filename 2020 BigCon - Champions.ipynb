{
 "cells": [
  {
   "cell_type": "markdown",
   "metadata": {},
   "source": [
    "# 2020 빅콘테스트 챔피언스리그\n",
    "\n",
    "![](./img/contest_logo.png)"
   ]
  },
  {
   "cell_type": "markdown",
   "metadata": {
    "toc": true
   },
   "source": [
    "<h1>Table of Contents<span class=\"tocSkip\"></span></h1>\n",
    "<div class=\"toc\"><ul class=\"toc-item\"><li><span><a href=\"#대회요강\" data-toc-modified-id=\"대회요강-0\"><span class=\"toc-item-num\">0&nbsp;&nbsp;</span>대회요강</a></span><ul class=\"toc-item\"><li><span><a href=\"#참가자격\" data-toc-modified-id=\"참가자격-0.1\"><span class=\"toc-item-num\">0.1&nbsp;&nbsp;</span>참가자격</a></span></li><li><span><a href=\"#대회일정\" data-toc-modified-id=\"대회일정-0.2\"><span class=\"toc-item-num\">0.2&nbsp;&nbsp;</span>대회일정</a></span></li><li><span><a href=\"#대회-문제\" data-toc-modified-id=\"대회-문제-0.3\"><span class=\"toc-item-num\">0.3&nbsp;&nbsp;</span>대회 문제</a></span></li><li><span><a href=\"#평가방법\" data-toc-modified-id=\"평가방법-0.4\"><span class=\"toc-item-num\">0.4&nbsp;&nbsp;</span>평가방법</a></span></li><li><span><a href=\"#결과제출\" data-toc-modified-id=\"결과제출-0.5\"><span class=\"toc-item-num\">0.5&nbsp;&nbsp;</span>결과제출</a></span></li><li><span><a href=\"#유의사항\" data-toc-modified-id=\"유의사항-0.6\"><span class=\"toc-item-num\">0.6&nbsp;&nbsp;</span>유의사항</a></span></li></ul></li><li><span><a href=\"#라이브러리-및-옵션\" data-toc-modified-id=\"라이브러리-및-옵션-1\"><span class=\"toc-item-num\">1&nbsp;&nbsp;</span>라이브러리 및 옵션</a></span></li><li><span><a href=\"#데이터-불러오기(Load-Data)\" data-toc-modified-id=\"데이터-불러오기(Load-Data)-2\"><span class=\"toc-item-num\">2&nbsp;&nbsp;</span>데이터 불러오기(Load Data)</a></span><ul class=\"toc-item\"><li><span><a href=\"#2019년-실적데이터\" data-toc-modified-id=\"2019년-실적데이터-2.1\"><span class=\"toc-item-num\">2.1&nbsp;&nbsp;</span>2019년 실적데이터</a></span></li><li><span><a href=\"#판매-실적-예측-데이터\" data-toc-modified-id=\"판매-실적-예측-데이터-2.2\"><span class=\"toc-item-num\">2.2&nbsp;&nbsp;</span>판매 실적 예측 데이터</a></span></li><li><span><a href=\"#시청률-데이터\" data-toc-modified-id=\"시청률-데이터-2.3\"><span class=\"toc-item-num\">2.3&nbsp;&nbsp;</span>시청률 데이터</a></span></li><li><span><a href=\"#네이버-트랜드-데이터\" data-toc-modified-id=\"네이버-트랜드-데이터-2.4\"><span class=\"toc-item-num\">2.4&nbsp;&nbsp;</span>네이버 트랜드 데이터</a></span></li><li><span><a href=\"#소비자-물가지수\" data-toc-modified-id=\"소비자-물가지수-2.5\"><span class=\"toc-item-num\">2.5&nbsp;&nbsp;</span>소비자 물가지수</a></span></li></ul></li><li><span><a href=\"#데이터-전처리(Data-Preprocessing)\" data-toc-modified-id=\"데이터-전처리(Data-Preprocessing)-3\"><span class=\"toc-item-num\">3&nbsp;&nbsp;</span>데이터 전처리(Data Preprocessing)</a></span><ul class=\"toc-item\"><li><span><a href=\"#결측치-확인하기\" data-toc-modified-id=\"결측치-확인하기-3.1\"><span class=\"toc-item-num\">3.1&nbsp;&nbsp;</span>결측치 확인하기</a></span></li><li><span><a href=\"#방송시간에서-세부-시간-추출\" data-toc-modified-id=\"방송시간에서-세부-시간-추출-3.2\"><span class=\"toc-item-num\">3.2&nbsp;&nbsp;</span>방송시간에서 세부 시간 추출</a></span></li><li><span><a href=\"#노출시간-결측치-처리\" data-toc-modified-id=\"노출시간-결측치-처리-3.3\"><span class=\"toc-item-num\">3.3&nbsp;&nbsp;</span>노출시간 결측치 처리</a></span></li><li><span><a href=\"#자연어처리(Natural-Language-Processing)\" data-toc-modified-id=\"자연어처리(Natural-Language-Processing)-3.4\"><span class=\"toc-item-num\">3.4&nbsp;&nbsp;</span>자연어처리(Natural Language Processing)</a></span><ul class=\"toc-item\"><li><span><a href=\"#불용어-제거\" data-toc-modified-id=\"불용어-제거-3.4.1\"><span class=\"toc-item-num\">3.4.1&nbsp;&nbsp;</span>불용어 제거</a></span></li><li><span><a href=\"#KOMORAN을-통하여-형태소-분석\" data-toc-modified-id=\"KOMORAN을-통하여-형태소-분석-3.4.2\"><span class=\"toc-item-num\">3.4.2&nbsp;&nbsp;</span>KOMORAN을 통하여 형태소 분석</a></span></li><li><span><a href=\"#임베딩벡터-생성\" data-toc-modified-id=\"임베딩벡터-생성-3.4.3\"><span class=\"toc-item-num\">3.4.3&nbsp;&nbsp;</span>임베딩벡터 생성</a></span></li><li><span><a href=\"#PCA를-통하여-차원-축소\" data-toc-modified-id=\"PCA를-통하여-차원-축소-3.4.4\"><span class=\"toc-item-num\">3.4.4&nbsp;&nbsp;</span>PCA를 통하여 차원 축소</a></span></li></ul></li></ul></li><li><span><a href=\"#탐색적-데이터-분석(Exploratory-Data-Analysis)\" data-toc-modified-id=\"탐색적-데이터-분석(Exploratory-Data-Analysis)-4\"><span class=\"toc-item-num\">4&nbsp;&nbsp;</span>탐색적 데이터 분석(Exploratory Data Analysis)</a></span><ul class=\"toc-item\"><li><span><a href=\"#데이터-형태\" data-toc-modified-id=\"데이터-형태-4.1\"><span class=\"toc-item-num\">4.1&nbsp;&nbsp;</span>데이터 형태</a></span></li><li><span><a href=\"#데이터의-컬럼\" data-toc-modified-id=\"데이터의-컬럼-4.2\"><span class=\"toc-item-num\">4.2&nbsp;&nbsp;</span>데이터의 컬럼</a></span></li><li><span><a href=\"#데이터-타입\" data-toc-modified-id=\"데이터-타입-4.3\"><span class=\"toc-item-num\">4.3&nbsp;&nbsp;</span>데이터 타입</a></span></li><li><span><a href=\"#데이터-기초-통계량\" data-toc-modified-id=\"데이터-기초-통계량-4.4\"><span class=\"toc-item-num\">4.4&nbsp;&nbsp;</span>데이터 기초 통계량</a></span></li><li><span><a href=\"#상품코드\" data-toc-modified-id=\"상품코드-4.5\"><span class=\"toc-item-num\">4.5&nbsp;&nbsp;</span>상품코드</a></span></li><li><span><a href=\"#상품명\" data-toc-modified-id=\"상품명-4.6\"><span class=\"toc-item-num\">4.6&nbsp;&nbsp;</span>상품명</a></span></li><li><span><a href=\"#상품군\" data-toc-modified-id=\"상품군-4.7\"><span class=\"toc-item-num\">4.7&nbsp;&nbsp;</span>상품군</a></span><ul class=\"toc-item\"><li><span><a href=\"#상품군-내-상품-비율\" data-toc-modified-id=\"상품군-내-상품-비율-4.7.1\"><span class=\"toc-item-num\">4.7.1&nbsp;&nbsp;</span>상품군 내 상품 비율</a></span></li><li><span><a href=\"#상품군-내-유일-상품-확인\" data-toc-modified-id=\"상품군-내-유일-상품-확인-4.7.2\"><span class=\"toc-item-num\">4.7.2&nbsp;&nbsp;</span>상품군 내 유일 상품 확인</a></span></li><li><span><a href=\"#*무형-상품군\" data-toc-modified-id=\"*무형-상품군-4.7.3\"><span class=\"toc-item-num\">4.7.3&nbsp;&nbsp;</span>*무형 상품군</a></span></li></ul></li><li><span><a href=\"#판매단가\" data-toc-modified-id=\"판매단가-4.8\"><span class=\"toc-item-num\">4.8&nbsp;&nbsp;</span>판매단가</a></span><ul class=\"toc-item\"><li><span><a href=\"#상품명별-판매단가\" data-toc-modified-id=\"상품명별-판매단가-4.8.1\"><span class=\"toc-item-num\">4.8.1&nbsp;&nbsp;</span>상품명별 판매단가</a></span></li></ul></li><li><span><a href=\"#취급액\" data-toc-modified-id=\"취급액-4.9\"><span class=\"toc-item-num\">4.9&nbsp;&nbsp;</span>취급액</a></span></li><li><span><a href=\"#상품군-별-노출(분)\" data-toc-modified-id=\"상품군-별-노출(분)-4.10\"><span class=\"toc-item-num\">4.10&nbsp;&nbsp;</span>상품군 별 노출(분)</a></span></li><li><span><a href=\"#시간대-별-상품-판매-Trend\" data-toc-modified-id=\"시간대-별-상품-판매-Trend-4.11\"><span class=\"toc-item-num\">4.11&nbsp;&nbsp;</span>시간대 별 상품 판매 Trend</a></span><ul class=\"toc-item\"><li><span><a href=\"#월별\" data-toc-modified-id=\"월별-4.11.1\"><span class=\"toc-item-num\">4.11.1&nbsp;&nbsp;</span>월별</a></span></li><li><span><a href=\"#주별\" data-toc-modified-id=\"주별-4.11.2\"><span class=\"toc-item-num\">4.11.2&nbsp;&nbsp;</span>주별</a></span></li><li><span><a href=\"#일별\" data-toc-modified-id=\"일별-4.11.3\"><span class=\"toc-item-num\">4.11.3&nbsp;&nbsp;</span>일별</a></span></li><li><span><a href=\"#시간별\" data-toc-modified-id=\"시간별-4.11.4\"><span class=\"toc-item-num\">4.11.4&nbsp;&nbsp;</span>시간별</a></span></li><li><span><a href=\"#요일별\" data-toc-modified-id=\"요일별-4.11.5\"><span class=\"toc-item-num\">4.11.5&nbsp;&nbsp;</span>요일별</a></span></li></ul></li><li><span><a href=\"#시청률\" data-toc-modified-id=\"시청률-4.12\"><span class=\"toc-item-num\">4.12&nbsp;&nbsp;</span>시청률</a></span></li><li><span><a href=\"#일별-평균-시청률\" data-toc-modified-id=\"일별-평균-시청률-4.13\"><span class=\"toc-item-num\">4.13&nbsp;&nbsp;</span>일별 평균 시청률</a></span></li><li><span><a href=\"#시간별-평균-시청률\" data-toc-modified-id=\"시간별-평균-시청률-4.14\"><span class=\"toc-item-num\">4.14&nbsp;&nbsp;</span>시간별 평균 시청률</a></span></li></ul></li><li><span><a href=\"#특성-공학(Feature-Engineering)\" data-toc-modified-id=\"특성-공학(Feature-Engineering)-5\"><span class=\"toc-item-num\">5&nbsp;&nbsp;</span>특성 공학(Feature Engineering)</a></span><ul class=\"toc-item\"><li><span><a href=\"#임베딩-벡터-추가\" data-toc-modified-id=\"임베딩-벡터-추가-5.1\"><span class=\"toc-item-num\">5.1&nbsp;&nbsp;</span>임베딩 벡터 추가</a></span></li><li><span><a href=\"#피처-생성\" data-toc-modified-id=\"피처-생성-5.2\"><span class=\"toc-item-num\">5.2&nbsp;&nbsp;</span>피처 생성</a></span><ul class=\"toc-item\"><li><span><a href=\"#네이버트랜드-결합\" data-toc-modified-id=\"네이버트랜드-결합-5.2.1\"><span class=\"toc-item-num\">5.2.1&nbsp;&nbsp;</span>네이버트랜드 결합</a></span></li><li><span><a href=\"#상품별-방영-횟수\" data-toc-modified-id=\"상품별-방영-횟수-5.2.2\"><span class=\"toc-item-num\">5.2.2&nbsp;&nbsp;</span>상품별 방영 횟수</a></span><ul class=\"toc-item\"><li><span><a href=\"#상품별-월-방영-횟수\" data-toc-modified-id=\"상품별-월-방영-횟수-5.2.2.1\"><span class=\"toc-item-num\">5.2.2.1&nbsp;&nbsp;</span>상품별 월 방영 횟수</a></span></li><li><span><a href=\"#상품별-주-방영-횟수\" data-toc-modified-id=\"상품별-주-방영-횟수-5.2.2.2\"><span class=\"toc-item-num\">5.2.2.2&nbsp;&nbsp;</span>상품별 주 방영 횟수</a></span></li></ul></li><li><span><a href=\"#방송-재핑시간\" data-toc-modified-id=\"방송-재핑시간-5.2.3\"><span class=\"toc-item-num\">5.2.3&nbsp;&nbsp;</span>방송 재핑시간</a></span></li><li><span><a href=\"#골든타임-피쳐-생성\" data-toc-modified-id=\"골든타임-피쳐-생성-5.2.4\"><span class=\"toc-item-num\">5.2.4&nbsp;&nbsp;</span>골든타임 피쳐 생성</a></span></li><li><span><a href=\"#토큰리스트-생성\" data-toc-modified-id=\"토큰리스트-생성-5.2.5\"><span class=\"toc-item-num\">5.2.5&nbsp;&nbsp;</span>토큰리스트 생성</a></span></li><li><span><a href=\"#성별-추가\" data-toc-modified-id=\"성별-추가-5.2.6\"><span class=\"toc-item-num\">5.2.6&nbsp;&nbsp;</span>성별 추가</a></span></li><li><span><a href=\"#무이자/일시불-여부\" data-toc-modified-id=\"무이자/일시불-여부-5.2.7\"><span class=\"toc-item-num\">5.2.7&nbsp;&nbsp;</span>무이자/일시불 여부</a></span></li><li><span><a href=\"#휴일-여부\" data-toc-modified-id=\"휴일-여부-5.2.8\"><span class=\"toc-item-num\">5.2.8&nbsp;&nbsp;</span>휴일 여부</a></span></li><li><span><a href=\"#Total-Preprocessing\" data-toc-modified-id=\"Total-Preprocessing-5.2.9\"><span class=\"toc-item-num\">5.2.9&nbsp;&nbsp;</span>Total Preprocessing</a></span></li></ul></li><li><span><a href=\"#상품군,-상품명-처리하기\" data-toc-modified-id=\"상품군,-상품명-처리하기-5.3\"><span class=\"toc-item-num\">5.3&nbsp;&nbsp;</span>상품군, 상품명 처리하기</a></span></li><li><span><a href=\"#상품군-더미화\" data-toc-modified-id=\"상품군-더미화-5.4\"><span class=\"toc-item-num\">5.4&nbsp;&nbsp;</span>상품군 더미화</a></span></li><li><span><a href=\"#요일-인코딩\" data-toc-modified-id=\"요일-인코딩-5.5\"><span class=\"toc-item-num\">5.5&nbsp;&nbsp;</span>요일 인코딩</a></span></li></ul></li><li><span><a href=\"#피처-선택(Feature-Selection)\" data-toc-modified-id=\"피처-선택(Feature-Selection)-6\"><span class=\"toc-item-num\">6&nbsp;&nbsp;</span>피처 선택(Feature Selection)</a></span><ul class=\"toc-item\"><li><span><a href=\"#지금까지-생성된-피처-확인\" data-toc-modified-id=\"지금까지-생성된-피처-확인-6.1\"><span class=\"toc-item-num\">6.1&nbsp;&nbsp;</span>지금까지 생성된 피처 확인</a></span></li><li><span><a href=\"#피처간의-상관계수-확인\" data-toc-modified-id=\"피처간의-상관계수-확인-6.2\"><span class=\"toc-item-num\">6.2&nbsp;&nbsp;</span>피처간의 상관계수 확인</a></span></li></ul></li><li><span><a href=\"#모델링(Modeling)-및-성능-평가(Testing)\" data-toc-modified-id=\"모델링(Modeling)-및-성능-평가(Testing)-7\"><span class=\"toc-item-num\">7&nbsp;&nbsp;</span>모델링(Modeling) 및 성능 평가(Testing)</a></span><ul class=\"toc-item\"><li><span><a href=\"#Mean-Average-Percentage-Error(MAPE)\" data-toc-modified-id=\"Mean-Average-Percentage-Error(MAPE)-7.1\"><span class=\"toc-item-num\">7.1&nbsp;&nbsp;</span>Mean Average Percentage Error(MAPE)</a></span></li><li><span><a href=\"#학습-및-검증-데이터-분리하기\" data-toc-modified-id=\"학습-및-검증-데이터-분리하기-7.2\"><span class=\"toc-item-num\">7.2&nbsp;&nbsp;</span>학습 및 검증 데이터 분리하기</a></span></li><li><span><a href=\"#머신러닝-모델-생성-및-성능-평가\" data-toc-modified-id=\"머신러닝-모델-생성-및-성능-평가-7.3\"><span class=\"toc-item-num\">7.3&nbsp;&nbsp;</span>머신러닝 모델 생성 및 성능 평가</a></span></li><li><span><a href=\"#딥러닝-모델-생성-및-성능-평가\" data-toc-modified-id=\"딥러닝-모델-생성-및-성능-평가-7.4\"><span class=\"toc-item-num\">7.4&nbsp;&nbsp;</span>딥러닝 모델 생성 및 성능 평가</a></span></li></ul></li><li><span><a href=\"#제출하기\" data-toc-modified-id=\"제출하기-8\"><span class=\"toc-item-num\">8&nbsp;&nbsp;</span>제출하기</a></span></li><li><span><a href=\"#참고자료\" data-toc-modified-id=\"참고자료-9\"><span class=\"toc-item-num\">9&nbsp;&nbsp;</span>참고자료</a></span></li></ul></div>"
   ]
  },
  {
   "cell_type": "markdown",
   "metadata": {},
   "source": [
    "## 대회요강\n",
    "\n",
    "### 참가자격\n",
    "- 전국 대학(원)생(휴학생포함) 및 일반인\n",
    "    - 대회 시작일(8.3) 기준, 대학(원)생은 나이제한 없음\n",
    "    - 데이터 분석 및 컨설팅 업체 소속 임직원은 참여 불가"
   ]
  },
  {
   "cell_type": "markdown",
   "metadata": {},
   "source": [
    "### 대회일정\n",
    "![](./img/contest_plan.png)"
   ]
  },
  {
   "cell_type": "markdown",
   "metadata": {},
   "source": [
    "### 대회 문제\n",
    "![](./img/contest_problem.png)"
   ]
  },
  {
   "cell_type": "markdown",
   "metadata": {},
   "source": [
    "### 평가방법\n",
    "\n",
    "![](./img/contest_evaluation.png)"
   ]
  },
  {
   "cell_type": "markdown",
   "metadata": {},
   "source": [
    "### 결과제출\n",
    "\n",
    "1. 마이페이지 내 결과제출바로가기 에서 제출(파일 용량 초과시, 사무국 이메일/웹하드로 제출하며 별도 안내 예정)\n",
    "2. 결과보고서 양식 및 추가 제출파일\n",
    "    - 심사진행과정에서 추가로 자료를 요청할 수 있음\n",
    "    - 결과보고서 필수 포함내용 미기재 및 추가 제출파일 미제출시, 심사 및 수상에서 제외 될 수 있음\n",
    "    \n",
    "![](./img/contest_submission.png)"
   ]
  },
  {
   "cell_type": "markdown",
   "metadata": {},
   "source": [
    "### 유의사항\n",
    "\n",
    "![](./img/contest_notice.png)"
   ]
  },
  {
   "cell_type": "markdown",
   "metadata": {},
   "source": [
    "---\n",
    "\n",
    "## 라이브러리 및 옵션"
   ]
  },
  {
   "cell_type": "code",
   "execution_count": 1,
   "metadata": {
    "ExecuteTime": {
     "end_time": "2020-09-27T12:02:47.172520Z",
     "start_time": "2020-09-27T12:02:47.158519Z"
    }
   },
   "outputs": [],
   "source": [
    "# !pip install -r requirements.txt ################################# 제출시에는 주석 해제해야함"
   ]
  },
  {
   "cell_type": "code",
   "execution_count": 2,
   "metadata": {
    "ExecuteTime": {
     "end_time": "2020-09-27T12:02:50.387259Z",
     "start_time": "2020-09-27T12:02:47.174521Z"
    }
   },
   "outputs": [],
   "source": [
    "#########\n",
    "# BASIC #\n",
    "#########\n",
    "import os\n",
    "import sys\n",
    "import platform\n",
    "import warnings\n",
    "from datetime import datetime\n",
    "from collections import Counter\n",
    "import calendar\n",
    "from tqdm.notebook import tqdm_notebook\n",
    "\n",
    "#############\n",
    "# LOAD DATA #\n",
    "#############\n",
    "import numpy as np\n",
    "import pandas as pd\n",
    "\n",
    "#############################\n",
    "# EXPLORATORY DATA ANALYSIS #\n",
    "#############################\n",
    "import matplotlib as mpl\n",
    "import matplotlib.pyplot as plt\n",
    "import seaborn as sns\n",
    "import missingno as msno\n",
    "\n",
    "######################\n",
    "# DATA PREPROCESSING #\n",
    "######################\n",
    "import re\n",
    "from sklearn.decomposition import PCA\n",
    "from sklearn.preprocessing import LabelEncoder\n",
    "from sklearn.preprocessing import OneHotEncoder\n",
    "## NATURAL LANGUAGE PROCESSING \n",
    "from konlpy.tag import Komoran\n",
    "from gensim.models import Word2Vec\n",
    "\n",
    "#######################\n",
    "# FEATURE ENGINEERING #\n",
    "#######################\n",
    "from sklearn.preprocessing import StandardScaler\n",
    "from sklearn.preprocessing import MinMaxScaler\n",
    "\n",
    "#####################\n",
    "# FEATURE SELECTION #\n",
    "#####################\n",
    "\n",
    "\n",
    "############\n",
    "# MODELING #\n",
    "############\n",
    "## MACHINE LEARNING\n",
    "from sklearn.model_selection import KFold\n",
    "from sklearn.model_selection import train_test_split\n",
    "from sklearn.linear_model import LinearRegression\n",
    "from sklearn.neighbors import KNeighborsRegressor\n",
    "from sklearn.tree import DecisionTreeRegressor\n",
    "from sklearn.svm import SVR\n",
    "from sklearn.ensemble import RandomForestRegressor\n",
    "from sklearn.ensemble import ExtraTreesRegressor\n",
    "from sklearn.ensemble import AdaBoostRegressor\n",
    "from sklearn.ensemble import GradientBoostingRegressor\n",
    "from xgboost import XGBRegressor\n",
    "from lightgbm import LGBMRegressor\n",
    "\n",
    "## DEEP LEARNING\n",
    "import torch\n",
    "import torch.nn as nn\n",
    "import torch.optim as optim\n",
    "import torch.nn.functional as F\n",
    "\n",
    "import joblib\n",
    "import pickle\n",
    "\n",
    "###########\n",
    "# TESTING #\n",
    "###########\n",
    "from sklearn.metrics import mean_absolute_error\n",
    "from sklearn.model_selection import RandomizedSearchCV\n",
    "from sklearn.model_selection import GridSearchCV"
   ]
  },
  {
   "cell_type": "code",
   "execution_count": 3,
   "metadata": {
    "ExecuteTime": {
     "end_time": "2020-09-27T12:02:50.547286Z",
     "start_time": "2020-09-27T12:02:50.389250Z"
    }
   },
   "outputs": [],
   "source": [
    "warnings.filterwarnings(action='ignore')\n",
    "pd.options.display.float_format = '{:.4f}'.format\n",
    "# plt.style.use('ggplot')\n",
    "if platform.platform().split('-')[0] == 'Windows':\n",
    "    mpl.rcParams['font.family'] = 'Malgun Gothic' # Windows에서는 한글이 나오게 하기 위해서\n",
    "else: # macOS라고 가정\n",
    "    mpl.rcParams['font.family'] = 'AppleGothic' # mac에서는 한글이 나오게 하기 위해서\n",
    "\n",
    "pd.options.display.max_columns = 100\n",
    "mpl.rcParams['axes.unicode_minus'] = False\n",
    "plt.style.use('ggplot')\n",
    "device = 'cuda'  if torch.cuda.is_available() else 'cpu'"
   ]
  },
  {
   "cell_type": "code",
   "execution_count": 4,
   "metadata": {
    "ExecuteTime": {
     "end_time": "2020-09-27T12:02:50.563312Z",
     "start_time": "2020-09-27T12:02:50.549286Z"
    }
   },
   "outputs": [],
   "source": [
    "RANDOM_STATE = 42\n",
    "TEST_SIZE = 0.2\n",
    "learning_rate = 1e-4"
   ]
  },
  {
   "cell_type": "markdown",
   "metadata": {},
   "source": [
    "---\n",
    "\n",
    "## 데이터 불러오기(Load Data)"
   ]
  },
  {
   "cell_type": "code",
   "execution_count": 5,
   "metadata": {
    "ExecuteTime": {
     "end_time": "2020-09-27T12:02:50.579302Z",
     "start_time": "2020-09-27T12:02:50.565290Z"
    }
   },
   "outputs": [
    {
     "data": {
      "text/plain": [
       "['2020 빅콘테스트 데이터분석분야-챔피언리그_2019년 실적데이터_v1_200818.xlsx',\n",
       " '2020 빅콘테스트 데이터분석분야-챔피언리그_시청률 데이터.xlsx']"
      ]
     },
     "execution_count": 5,
     "metadata": {},
     "output_type": "execute_result"
    }
   ],
   "source": [
    "os.listdir('./data/01_제공데이터')"
   ]
  },
  {
   "cell_type": "code",
   "execution_count": 6,
   "metadata": {
    "ExecuteTime": {
     "end_time": "2020-09-27T12:02:50.595305Z",
     "start_time": "2020-09-27T12:02:50.581293Z"
    }
   },
   "outputs": [
    {
     "data": {
      "text/plain": [
       "['2020 빅콘테스트 데이터분석분야-챔피언리그_2020년 6월 판매실적예측데이터(평가데이터).xlsx']"
      ]
     },
     "execution_count": 6,
     "metadata": {},
     "output_type": "execute_result"
    }
   ],
   "source": [
    "os.listdir('./data/02_평가데이터')"
   ]
  },
  {
   "cell_type": "code",
   "execution_count": 7,
   "metadata": {
    "ExecuteTime": {
     "end_time": "2020-09-27T12:02:50.611300Z",
     "start_time": "2020-09-27T12:02:50.597297Z"
    }
   },
   "outputs": [
    {
     "data": {
      "text/plain": [
       "['CPI(2019년~2020년).csv',\n",
       " 'naver_criterion.xlsx',\n",
       " 'naver_group_1.xlsx',\n",
       " 'naver_group_2.xlsx',\n",
       " 'TV_Time.xlsx']"
      ]
     },
     "execution_count": 7,
     "metadata": {},
     "output_type": "execute_result"
    }
   ],
   "source": [
    "os.listdir('./data/03_외부데이터')"
   ]
  },
  {
   "cell_type": "code",
   "execution_count": 8,
   "metadata": {
    "ExecuteTime": {
     "end_time": "2020-09-27T12:02:50.627304Z",
     "start_time": "2020-09-27T12:02:50.614302Z"
    }
   },
   "outputs": [
    {
     "data": {
      "text/plain": [
       "['user_dict_0913.txt']"
      ]
     },
     "execution_count": 8,
     "metadata": {},
     "output_type": "execute_result"
    }
   ],
   "source": [
    "os.listdir('./data/04_추가데이터')"
   ]
  },
  {
   "cell_type": "code",
   "execution_count": 9,
   "metadata": {
    "ExecuteTime": {
     "end_time": "2020-09-27T12:02:50.643316Z",
     "start_time": "2020-09-27T12:02:50.629305Z"
    }
   },
   "outputs": [],
   "source": [
    "data = dict()"
   ]
  },
  {
   "cell_type": "markdown",
   "metadata": {},
   "source": [
    "### 2019년 실적데이터"
   ]
  },
  {
   "cell_type": "code",
   "execution_count": 10,
   "metadata": {
    "ExecuteTime": {
     "end_time": "2020-09-27T12:02:54.935291Z",
     "start_time": "2020-09-27T12:02:50.645309Z"
    }
   },
   "outputs": [
    {
     "data": {
      "text/html": [
       "<div>\n",
       "<style scoped>\n",
       "    .dataframe tbody tr th:only-of-type {\n",
       "        vertical-align: middle;\n",
       "    }\n",
       "\n",
       "    .dataframe tbody tr th {\n",
       "        vertical-align: top;\n",
       "    }\n",
       "\n",
       "    .dataframe thead th {\n",
       "        text-align: right;\n",
       "    }\n",
       "</style>\n",
       "<table border=\"1\" class=\"dataframe\">\n",
       "  <thead>\n",
       "    <tr style=\"text-align: right;\">\n",
       "      <th></th>\n",
       "      <th>노출(분)</th>\n",
       "      <th>마더코드</th>\n",
       "      <th>상품코드</th>\n",
       "      <th>상품명</th>\n",
       "      <th>상품군</th>\n",
       "      <th>판매단가</th>\n",
       "      <th>취급액</th>\n",
       "    </tr>\n",
       "    <tr>\n",
       "      <th>방송일시</th>\n",
       "      <th></th>\n",
       "      <th></th>\n",
       "      <th></th>\n",
       "      <th></th>\n",
       "      <th></th>\n",
       "      <th></th>\n",
       "      <th></th>\n",
       "    </tr>\n",
       "  </thead>\n",
       "  <tbody>\n",
       "    <tr>\n",
       "      <th>2019-01-01 06:00:00</th>\n",
       "      <td>20.0000</td>\n",
       "      <td>100346</td>\n",
       "      <td>201072</td>\n",
       "      <td>테이트 남성 셀린니트3종</td>\n",
       "      <td>의류</td>\n",
       "      <td>39900</td>\n",
       "      <td>2099000.0000</td>\n",
       "    </tr>\n",
       "    <tr>\n",
       "      <th>2019-01-01 06:00:00</th>\n",
       "      <td>nan</td>\n",
       "      <td>100346</td>\n",
       "      <td>201079</td>\n",
       "      <td>테이트 여성 셀린니트3종</td>\n",
       "      <td>의류</td>\n",
       "      <td>39900</td>\n",
       "      <td>4371000.0000</td>\n",
       "    </tr>\n",
       "    <tr>\n",
       "      <th>2019-01-01 06:20:00</th>\n",
       "      <td>20.0000</td>\n",
       "      <td>100346</td>\n",
       "      <td>201072</td>\n",
       "      <td>테이트 남성 셀린니트3종</td>\n",
       "      <td>의류</td>\n",
       "      <td>39900</td>\n",
       "      <td>3262000.0000</td>\n",
       "    </tr>\n",
       "    <tr>\n",
       "      <th>2019-01-01 06:20:00</th>\n",
       "      <td>nan</td>\n",
       "      <td>100346</td>\n",
       "      <td>201079</td>\n",
       "      <td>테이트 여성 셀린니트3종</td>\n",
       "      <td>의류</td>\n",
       "      <td>39900</td>\n",
       "      <td>6955000.0000</td>\n",
       "    </tr>\n",
       "    <tr>\n",
       "      <th>2019-01-01 06:40:00</th>\n",
       "      <td>20.0000</td>\n",
       "      <td>100346</td>\n",
       "      <td>201072</td>\n",
       "      <td>테이트 남성 셀린니트3종</td>\n",
       "      <td>의류</td>\n",
       "      <td>39900</td>\n",
       "      <td>6672000.0000</td>\n",
       "    </tr>\n",
       "    <tr>\n",
       "      <th>...</th>\n",
       "      <td>...</td>\n",
       "      <td>...</td>\n",
       "      <td>...</td>\n",
       "      <td>...</td>\n",
       "      <td>...</td>\n",
       "      <td>...</td>\n",
       "      <td>...</td>\n",
       "    </tr>\n",
       "    <tr>\n",
       "      <th>2019-12-31 23:20:00</th>\n",
       "      <td>nan</td>\n",
       "      <td>100448</td>\n",
       "      <td>201391</td>\n",
       "      <td>일시불쿠첸압력밥솥 6인용</td>\n",
       "      <td>주방</td>\n",
       "      <td>148000</td>\n",
       "      <td>1664000.0000</td>\n",
       "    </tr>\n",
       "    <tr>\n",
       "      <th>2019-12-31 23:40:00</th>\n",
       "      <td>20.0000</td>\n",
       "      <td>100448</td>\n",
       "      <td>201383</td>\n",
       "      <td>무이자쿠첸압력밥솥 10인용</td>\n",
       "      <td>주방</td>\n",
       "      <td>178000</td>\n",
       "      <td>9149000.0000</td>\n",
       "    </tr>\n",
       "    <tr>\n",
       "      <th>2019-12-31 23:40:00</th>\n",
       "      <td>nan</td>\n",
       "      <td>100448</td>\n",
       "      <td>201390</td>\n",
       "      <td>일시불쿠첸압력밥솥 10인용</td>\n",
       "      <td>주방</td>\n",
       "      <td>168000</td>\n",
       "      <td>15282000.0000</td>\n",
       "    </tr>\n",
       "    <tr>\n",
       "      <th>2019-12-31 23:40:00</th>\n",
       "      <td>nan</td>\n",
       "      <td>100448</td>\n",
       "      <td>201384</td>\n",
       "      <td>무이자쿠첸압력밥솥 6인용</td>\n",
       "      <td>주방</td>\n",
       "      <td>158000</td>\n",
       "      <td>2328000.0000</td>\n",
       "    </tr>\n",
       "    <tr>\n",
       "      <th>2019-12-31 23:40:00</th>\n",
       "      <td>nan</td>\n",
       "      <td>100448</td>\n",
       "      <td>201391</td>\n",
       "      <td>일시불쿠첸압력밥솥 6인용</td>\n",
       "      <td>주방</td>\n",
       "      <td>148000</td>\n",
       "      <td>10157000.0000</td>\n",
       "    </tr>\n",
       "  </tbody>\n",
       "</table>\n",
       "<p>38300 rows × 7 columns</p>\n",
       "</div>"
      ],
      "text/plain": [
       "                      노출(분)    마더코드    상품코드             상품명 상품군    판매단가  \\\n",
       "방송일시                                                                      \n",
       "2019-01-01 06:00:00 20.0000  100346  201072   테이트 남성 셀린니트3종  의류   39900   \n",
       "2019-01-01 06:00:00     nan  100346  201079   테이트 여성 셀린니트3종  의류   39900   \n",
       "2019-01-01 06:20:00 20.0000  100346  201072   테이트 남성 셀린니트3종  의류   39900   \n",
       "2019-01-01 06:20:00     nan  100346  201079   테이트 여성 셀린니트3종  의류   39900   \n",
       "2019-01-01 06:40:00 20.0000  100346  201072   테이트 남성 셀린니트3종  의류   39900   \n",
       "...                     ...     ...     ...             ...  ..     ...   \n",
       "2019-12-31 23:20:00     nan  100448  201391   일시불쿠첸압력밥솥 6인용  주방  148000   \n",
       "2019-12-31 23:40:00 20.0000  100448  201383  무이자쿠첸압력밥솥 10인용  주방  178000   \n",
       "2019-12-31 23:40:00     nan  100448  201390  일시불쿠첸압력밥솥 10인용  주방  168000   \n",
       "2019-12-31 23:40:00     nan  100448  201384   무이자쿠첸압력밥솥 6인용  주방  158000   \n",
       "2019-12-31 23:40:00     nan  100448  201391   일시불쿠첸압력밥솥 6인용  주방  148000   \n",
       "\n",
       "                              취급액  \n",
       "방송일시                               \n",
       "2019-01-01 06:00:00  2099000.0000  \n",
       "2019-01-01 06:00:00  4371000.0000  \n",
       "2019-01-01 06:20:00  3262000.0000  \n",
       "2019-01-01 06:20:00  6955000.0000  \n",
       "2019-01-01 06:40:00  6672000.0000  \n",
       "...                           ...  \n",
       "2019-12-31 23:20:00  1664000.0000  \n",
       "2019-12-31 23:40:00  9149000.0000  \n",
       "2019-12-31 23:40:00 15282000.0000  \n",
       "2019-12-31 23:40:00  2328000.0000  \n",
       "2019-12-31 23:40:00 10157000.0000  \n",
       "\n",
       "[38300 rows x 7 columns]"
      ]
     },
     "execution_count": 10,
     "metadata": {},
     "output_type": "execute_result"
    }
   ],
   "source": [
    "data['train'] = pd.read_excel(r'./data/01_제공데이터/2020 빅콘테스트 데이터분석분야-챔피언리그_2019년 실적데이터_v1_200818.xlsx',\n",
    "                       header=1,\n",
    "                       names=['방송일시', '노출(분)', '마더코드', '상품코드',\n",
    "                              '상품명', '상품군', '판매단가', '취급액'],\n",
    "                       thousands=',',\n",
    "                       )\n",
    "data['train'].index = pd.to_datetime(data['train']['방송일시'])\n",
    "data['train'] = data['train'].drop('방송일시',axis=1)\n",
    "data['train'] = data['train']['2019']\n",
    "data['train']"
   ]
  },
  {
   "cell_type": "markdown",
   "metadata": {},
   "source": [
    "### 판매 실적 예측 데이터"
   ]
  },
  {
   "cell_type": "code",
   "execution_count": 11,
   "metadata": {
    "ExecuteTime": {
     "end_time": "2020-09-27T12:02:55.253363Z",
     "start_time": "2020-09-27T12:02:54.936290Z"
    }
   },
   "outputs": [
    {
     "data": {
      "text/html": [
       "<div>\n",
       "<style scoped>\n",
       "    .dataframe tbody tr th:only-of-type {\n",
       "        vertical-align: middle;\n",
       "    }\n",
       "\n",
       "    .dataframe tbody tr th {\n",
       "        vertical-align: top;\n",
       "    }\n",
       "\n",
       "    .dataframe thead th {\n",
       "        text-align: right;\n",
       "    }\n",
       "</style>\n",
       "<table border=\"1\" class=\"dataframe\">\n",
       "  <thead>\n",
       "    <tr style=\"text-align: right;\">\n",
       "      <th></th>\n",
       "      <th>노출(분)</th>\n",
       "      <th>마더코드</th>\n",
       "      <th>상품코드</th>\n",
       "      <th>상품명</th>\n",
       "      <th>상품군</th>\n",
       "      <th>판매단가</th>\n",
       "      <th>취급액</th>\n",
       "    </tr>\n",
       "    <tr>\n",
       "      <th>방송일시</th>\n",
       "      <th></th>\n",
       "      <th></th>\n",
       "      <th></th>\n",
       "      <th></th>\n",
       "      <th></th>\n",
       "      <th></th>\n",
       "      <th></th>\n",
       "    </tr>\n",
       "  </thead>\n",
       "  <tbody>\n",
       "    <tr>\n",
       "      <th>2020-06-01 06:20:00</th>\n",
       "      <td>20.0000</td>\n",
       "      <td>100650</td>\n",
       "      <td>201971</td>\n",
       "      <td>잭필드 남성  반팔셔츠 4종</td>\n",
       "      <td>의류</td>\n",
       "      <td>59800</td>\n",
       "      <td>nan</td>\n",
       "    </tr>\n",
       "    <tr>\n",
       "      <th>2020-06-01 06:40:00</th>\n",
       "      <td>20.0000</td>\n",
       "      <td>100650</td>\n",
       "      <td>201971</td>\n",
       "      <td>잭필드 남성  반팔셔츠 4종</td>\n",
       "      <td>의류</td>\n",
       "      <td>59800</td>\n",
       "      <td>nan</td>\n",
       "    </tr>\n",
       "    <tr>\n",
       "      <th>2020-06-01 07:00:00</th>\n",
       "      <td>20.0000</td>\n",
       "      <td>100650</td>\n",
       "      <td>201971</td>\n",
       "      <td>잭필드 남성  반팔셔츠 4종</td>\n",
       "      <td>의류</td>\n",
       "      <td>59800</td>\n",
       "      <td>nan</td>\n",
       "    </tr>\n",
       "    <tr>\n",
       "      <th>2020-06-01 07:20:00</th>\n",
       "      <td>20.0000</td>\n",
       "      <td>100445</td>\n",
       "      <td>202278</td>\n",
       "      <td>쿠미투니카 쿨 레이시 란쥬쉐이퍼&amp;팬티</td>\n",
       "      <td>속옷</td>\n",
       "      <td>69900</td>\n",
       "      <td>nan</td>\n",
       "    </tr>\n",
       "    <tr>\n",
       "      <th>2020-06-01 07:40:00</th>\n",
       "      <td>20.0000</td>\n",
       "      <td>100445</td>\n",
       "      <td>202278</td>\n",
       "      <td>쿠미투니카 쿨 레이시 란쥬쉐이퍼&amp;팬티</td>\n",
       "      <td>속옷</td>\n",
       "      <td>69900</td>\n",
       "      <td>nan</td>\n",
       "    </tr>\n",
       "    <tr>\n",
       "      <th>...</th>\n",
       "      <td>...</td>\n",
       "      <td>...</td>\n",
       "      <td>...</td>\n",
       "      <td>...</td>\n",
       "      <td>...</td>\n",
       "      <td>...</td>\n",
       "      <td>...</td>\n",
       "    </tr>\n",
       "    <tr>\n",
       "      <th>2020-07-01 00:20:00</th>\n",
       "      <td>20.0000</td>\n",
       "      <td>100660</td>\n",
       "      <td>201989</td>\n",
       "      <td>쉴렉스  안마의자 렌탈서비스</td>\n",
       "      <td>무형</td>\n",
       "      <td>0</td>\n",
       "      <td>nan</td>\n",
       "    </tr>\n",
       "    <tr>\n",
       "      <th>2020-07-01 00:40:00</th>\n",
       "      <td>20.0000</td>\n",
       "      <td>100660</td>\n",
       "      <td>201989</td>\n",
       "      <td>쉴렉스  안마의자 렌탈서비스</td>\n",
       "      <td>무형</td>\n",
       "      <td>0</td>\n",
       "      <td>nan</td>\n",
       "    </tr>\n",
       "    <tr>\n",
       "      <th>2020-07-01 01:00:00</th>\n",
       "      <td>20.0000</td>\n",
       "      <td>100660</td>\n",
       "      <td>201989</td>\n",
       "      <td>쉴렉스  안마의자 렌탈서비스</td>\n",
       "      <td>무형</td>\n",
       "      <td>0</td>\n",
       "      <td>nan</td>\n",
       "    </tr>\n",
       "    <tr>\n",
       "      <th>2020-07-01 01:20:00</th>\n",
       "      <td>20.0000</td>\n",
       "      <td>100261</td>\n",
       "      <td>200875</td>\n",
       "      <td>아놀드파마 티셔츠레깅스세트</td>\n",
       "      <td>의류</td>\n",
       "      <td>69900</td>\n",
       "      <td>nan</td>\n",
       "    </tr>\n",
       "    <tr>\n",
       "      <th>2020-07-01 01:40:00</th>\n",
       "      <td>15.9333</td>\n",
       "      <td>100261</td>\n",
       "      <td>200875</td>\n",
       "      <td>아놀드파마 티셔츠레깅스세트</td>\n",
       "      <td>의류</td>\n",
       "      <td>69900</td>\n",
       "      <td>nan</td>\n",
       "    </tr>\n",
       "  </tbody>\n",
       "</table>\n",
       "<p>2891 rows × 7 columns</p>\n",
       "</div>"
      ],
      "text/plain": [
       "                      노출(분)    마더코드    상품코드                   상품명 상품군   판매단가  \\\n",
       "방송일시                                                                           \n",
       "2020-06-01 06:20:00 20.0000  100650  201971       잭필드 남성  반팔셔츠 4종  의류  59800   \n",
       "2020-06-01 06:40:00 20.0000  100650  201971       잭필드 남성  반팔셔츠 4종  의류  59800   \n",
       "2020-06-01 07:00:00 20.0000  100650  201971       잭필드 남성  반팔셔츠 4종  의류  59800   \n",
       "2020-06-01 07:20:00 20.0000  100445  202278  쿠미투니카 쿨 레이시 란쥬쉐이퍼&팬티  속옷  69900   \n",
       "2020-06-01 07:40:00 20.0000  100445  202278  쿠미투니카 쿨 레이시 란쥬쉐이퍼&팬티  속옷  69900   \n",
       "...                     ...     ...     ...                   ...  ..    ...   \n",
       "2020-07-01 00:20:00 20.0000  100660  201989       쉴렉스  안마의자 렌탈서비스  무형      0   \n",
       "2020-07-01 00:40:00 20.0000  100660  201989       쉴렉스  안마의자 렌탈서비스  무형      0   \n",
       "2020-07-01 01:00:00 20.0000  100660  201989       쉴렉스  안마의자 렌탈서비스  무형      0   \n",
       "2020-07-01 01:20:00 20.0000  100261  200875        아놀드파마 티셔츠레깅스세트  의류  69900   \n",
       "2020-07-01 01:40:00 15.9333  100261  200875        아놀드파마 티셔츠레깅스세트  의류  69900   \n",
       "\n",
       "                     취급액  \n",
       "방송일시                      \n",
       "2020-06-01 06:20:00  nan  \n",
       "2020-06-01 06:40:00  nan  \n",
       "2020-06-01 07:00:00  nan  \n",
       "2020-06-01 07:20:00  nan  \n",
       "2020-06-01 07:40:00  nan  \n",
       "...                  ...  \n",
       "2020-07-01 00:20:00  nan  \n",
       "2020-07-01 00:40:00  nan  \n",
       "2020-07-01 01:00:00  nan  \n",
       "2020-07-01 01:20:00  nan  \n",
       "2020-07-01 01:40:00  nan  \n",
       "\n",
       "[2891 rows x 7 columns]"
      ]
     },
     "execution_count": 11,
     "metadata": {},
     "output_type": "execute_result"
    }
   ],
   "source": [
    "data['test'] = pd.read_excel('./data/02_평가데이터/2020 빅콘테스트 데이터분석분야-챔피언리그_2020년 6월 판매실적예측데이터(평가데이터).xlsx',\n",
    "                          skiprows=1,\n",
    "                          index_col=0,\n",
    "                          )\n",
    "data['test']"
   ]
  },
  {
   "cell_type": "markdown",
   "metadata": {},
   "source": [
    "### 시청률 데이터"
   ]
  },
  {
   "cell_type": "code",
   "execution_count": 12,
   "metadata": {
    "ExecuteTime": {
     "end_time": "2020-09-27T12:03:01.395747Z",
     "start_time": "2020-09-27T12:02:55.255353Z"
    }
   },
   "outputs": [
    {
     "data": {
      "text/html": [
       "<div>\n",
       "<style scoped>\n",
       "    .dataframe tbody tr th:only-of-type {\n",
       "        vertical-align: middle;\n",
       "    }\n",
       "\n",
       "    .dataframe tbody tr th {\n",
       "        vertical-align: top;\n",
       "    }\n",
       "\n",
       "    .dataframe thead th {\n",
       "        text-align: right;\n",
       "    }\n",
       "</style>\n",
       "<table border=\"1\" class=\"dataframe\">\n",
       "  <thead>\n",
       "    <tr style=\"text-align: right;\">\n",
       "      <th></th>\n",
       "      <th>2019-01-01</th>\n",
       "      <th>2019-01-02</th>\n",
       "      <th>2019-01-03</th>\n",
       "      <th>2019-01-04</th>\n",
       "      <th>2019-01-05</th>\n",
       "      <th>2019-01-06</th>\n",
       "      <th>2019-01-07</th>\n",
       "      <th>2019-01-08</th>\n",
       "      <th>2019-01-09</th>\n",
       "      <th>2019-01-10</th>\n",
       "      <th>2019-01-11</th>\n",
       "      <th>2019-01-12</th>\n",
       "      <th>2019-01-13</th>\n",
       "      <th>2019-01-14</th>\n",
       "      <th>2019-01-15</th>\n",
       "      <th>2019-01-16</th>\n",
       "      <th>2019-01-17</th>\n",
       "      <th>2019-01-18</th>\n",
       "      <th>2019-01-19</th>\n",
       "      <th>2019-01-20</th>\n",
       "      <th>2019-01-21</th>\n",
       "      <th>2019-01-22</th>\n",
       "      <th>2019-01-23</th>\n",
       "      <th>2019-01-24</th>\n",
       "      <th>2019-01-25</th>\n",
       "      <th>2019-01-26</th>\n",
       "      <th>2019-01-27</th>\n",
       "      <th>2019-01-28</th>\n",
       "      <th>2019-01-29</th>\n",
       "      <th>2019-01-30</th>\n",
       "      <th>2019-01-31</th>\n",
       "      <th>2019-02-01</th>\n",
       "      <th>2019-02-02</th>\n",
       "      <th>2019-02-03</th>\n",
       "      <th>2019-02-04</th>\n",
       "      <th>2019-02-05</th>\n",
       "      <th>2019-02-06</th>\n",
       "      <th>2019-02-07</th>\n",
       "      <th>2019-02-08</th>\n",
       "      <th>2019-02-09</th>\n",
       "      <th>2019-02-10</th>\n",
       "      <th>2019-02-11</th>\n",
       "      <th>2019-02-12</th>\n",
       "      <th>2019-02-13</th>\n",
       "      <th>2019-02-14</th>\n",
       "      <th>2019-02-15</th>\n",
       "      <th>2019-02-16</th>\n",
       "      <th>2019-02-17</th>\n",
       "      <th>2019-02-18</th>\n",
       "      <th>2019-02-19</th>\n",
       "      <th>...</th>\n",
       "      <th>2019-11-13</th>\n",
       "      <th>2019-11-14</th>\n",
       "      <th>2019-11-15</th>\n",
       "      <th>2019-11-16</th>\n",
       "      <th>2019-11-17</th>\n",
       "      <th>2019-11-18</th>\n",
       "      <th>2019-11-19</th>\n",
       "      <th>2019-11-20</th>\n",
       "      <th>2019-11-21</th>\n",
       "      <th>2019-11-22</th>\n",
       "      <th>2019-11-23</th>\n",
       "      <th>2019-11-24</th>\n",
       "      <th>2019-11-25</th>\n",
       "      <th>2019-11-26</th>\n",
       "      <th>2019-11-27</th>\n",
       "      <th>2019-11-28</th>\n",
       "      <th>2019-11-29</th>\n",
       "      <th>2019-11-30</th>\n",
       "      <th>2019-12-01</th>\n",
       "      <th>2019-12-02</th>\n",
       "      <th>2019-12-03</th>\n",
       "      <th>2019-12-04</th>\n",
       "      <th>2019-12-05</th>\n",
       "      <th>2019-12-06</th>\n",
       "      <th>2019-12-07</th>\n",
       "      <th>2019-12-08</th>\n",
       "      <th>2019-12-09</th>\n",
       "      <th>2019-12-10</th>\n",
       "      <th>2019-12-11</th>\n",
       "      <th>2019-12-12</th>\n",
       "      <th>2019-12-13</th>\n",
       "      <th>2019-12-14</th>\n",
       "      <th>2019-12-15</th>\n",
       "      <th>2019-12-16</th>\n",
       "      <th>2019-12-17</th>\n",
       "      <th>2019-12-18</th>\n",
       "      <th>2019-12-19</th>\n",
       "      <th>2019-12-20</th>\n",
       "      <th>2019-12-21</th>\n",
       "      <th>2019-12-22</th>\n",
       "      <th>2019-12-23</th>\n",
       "      <th>2019-12-24</th>\n",
       "      <th>2019-12-25</th>\n",
       "      <th>2019-12-26</th>\n",
       "      <th>2019-12-27</th>\n",
       "      <th>2019-12-28</th>\n",
       "      <th>2019-12-29</th>\n",
       "      <th>2019-12-30</th>\n",
       "      <th>2019-12-31</th>\n",
       "      <th>2019-01-01 to 2019-12-31</th>\n",
       "    </tr>\n",
       "    <tr>\n",
       "      <th>시간대</th>\n",
       "      <th></th>\n",
       "      <th></th>\n",
       "      <th></th>\n",
       "      <th></th>\n",
       "      <th></th>\n",
       "      <th></th>\n",
       "      <th></th>\n",
       "      <th></th>\n",
       "      <th></th>\n",
       "      <th></th>\n",
       "      <th></th>\n",
       "      <th></th>\n",
       "      <th></th>\n",
       "      <th></th>\n",
       "      <th></th>\n",
       "      <th></th>\n",
       "      <th></th>\n",
       "      <th></th>\n",
       "      <th></th>\n",
       "      <th></th>\n",
       "      <th></th>\n",
       "      <th></th>\n",
       "      <th></th>\n",
       "      <th></th>\n",
       "      <th></th>\n",
       "      <th></th>\n",
       "      <th></th>\n",
       "      <th></th>\n",
       "      <th></th>\n",
       "      <th></th>\n",
       "      <th></th>\n",
       "      <th></th>\n",
       "      <th></th>\n",
       "      <th></th>\n",
       "      <th></th>\n",
       "      <th></th>\n",
       "      <th></th>\n",
       "      <th></th>\n",
       "      <th></th>\n",
       "      <th></th>\n",
       "      <th></th>\n",
       "      <th></th>\n",
       "      <th></th>\n",
       "      <th></th>\n",
       "      <th></th>\n",
       "      <th></th>\n",
       "      <th></th>\n",
       "      <th></th>\n",
       "      <th></th>\n",
       "      <th></th>\n",
       "      <th></th>\n",
       "      <th></th>\n",
       "      <th></th>\n",
       "      <th></th>\n",
       "      <th></th>\n",
       "      <th></th>\n",
       "      <th></th>\n",
       "      <th></th>\n",
       "      <th></th>\n",
       "      <th></th>\n",
       "      <th></th>\n",
       "      <th></th>\n",
       "      <th></th>\n",
       "      <th></th>\n",
       "      <th></th>\n",
       "      <th></th>\n",
       "      <th></th>\n",
       "      <th></th>\n",
       "      <th></th>\n",
       "      <th></th>\n",
       "      <th></th>\n",
       "      <th></th>\n",
       "      <th></th>\n",
       "      <th></th>\n",
       "      <th></th>\n",
       "      <th></th>\n",
       "      <th></th>\n",
       "      <th></th>\n",
       "      <th></th>\n",
       "      <th></th>\n",
       "      <th></th>\n",
       "      <th></th>\n",
       "      <th></th>\n",
       "      <th></th>\n",
       "      <th></th>\n",
       "      <th></th>\n",
       "      <th></th>\n",
       "      <th></th>\n",
       "      <th></th>\n",
       "      <th></th>\n",
       "      <th></th>\n",
       "      <th></th>\n",
       "      <th></th>\n",
       "      <th></th>\n",
       "      <th></th>\n",
       "      <th></th>\n",
       "      <th></th>\n",
       "      <th></th>\n",
       "      <th></th>\n",
       "      <th></th>\n",
       "      <th></th>\n",
       "    </tr>\n",
       "  </thead>\n",
       "  <tbody>\n",
       "    <tr>\n",
       "      <th>02:00</th>\n",
       "      <td>0.0000</td>\n",
       "      <td>0.0000</td>\n",
       "      <td>0.0000</td>\n",
       "      <td>0.0000</td>\n",
       "      <td>0.0000</td>\n",
       "      <td>0.0000</td>\n",
       "      <td>0.0000</td>\n",
       "      <td>0.0000</td>\n",
       "      <td>0.0000</td>\n",
       "      <td>0.0000</td>\n",
       "      <td>0.0000</td>\n",
       "      <td>0.0000</td>\n",
       "      <td>0.0000</td>\n",
       "      <td>0.0000</td>\n",
       "      <td>0.0000</td>\n",
       "      <td>0.0000</td>\n",
       "      <td>0.0060</td>\n",
       "      <td>0.0000</td>\n",
       "      <td>0.0000</td>\n",
       "      <td>0.0000</td>\n",
       "      <td>0.0000</td>\n",
       "      <td>0.0000</td>\n",
       "      <td>0.0000</td>\n",
       "      <td>0.0000</td>\n",
       "      <td>0.0000</td>\n",
       "      <td>0.0000</td>\n",
       "      <td>0.0000</td>\n",
       "      <td>0.0000</td>\n",
       "      <td>0.0000</td>\n",
       "      <td>0.0000</td>\n",
       "      <td>0.0000</td>\n",
       "      <td>0.0000</td>\n",
       "      <td>0.0000</td>\n",
       "      <td>0.0000</td>\n",
       "      <td>0.0000</td>\n",
       "      <td>0.0000</td>\n",
       "      <td>0.0000</td>\n",
       "      <td>0.0380</td>\n",
       "      <td>0.0000</td>\n",
       "      <td>0.0230</td>\n",
       "      <td>0.0000</td>\n",
       "      <td>0.0270</td>\n",
       "      <td>0.0000</td>\n",
       "      <td>0.0000</td>\n",
       "      <td>0.0000</td>\n",
       "      <td>0.0000</td>\n",
       "      <td>0.0000</td>\n",
       "      <td>0.0000</td>\n",
       "      <td>0.0000</td>\n",
       "      <td>0.0000</td>\n",
       "      <td>...</td>\n",
       "      <td>0.0000</td>\n",
       "      <td>0.0000</td>\n",
       "      <td>0.0000</td>\n",
       "      <td>0.0000</td>\n",
       "      <td>0.0000</td>\n",
       "      <td>0.0000</td>\n",
       "      <td>0.0000</td>\n",
       "      <td>0.0130</td>\n",
       "      <td>0.0000</td>\n",
       "      <td>0.0000</td>\n",
       "      <td>0.0000</td>\n",
       "      <td>0.0000</td>\n",
       "      <td>0.0000</td>\n",
       "      <td>0.0000</td>\n",
       "      <td>0.0000</td>\n",
       "      <td>0.0000</td>\n",
       "      <td>0.0000</td>\n",
       "      <td>0.0000</td>\n",
       "      <td>0.0000</td>\n",
       "      <td>0.0000</td>\n",
       "      <td>0.0480</td>\n",
       "      <td>0.0000</td>\n",
       "      <td>0.0000</td>\n",
       "      <td>0.0000</td>\n",
       "      <td>0.0000</td>\n",
       "      <td>0.0180</td>\n",
       "      <td>0.0000</td>\n",
       "      <td>0.0350</td>\n",
       "      <td>0.0300</td>\n",
       "      <td>0.0160</td>\n",
       "      <td>0.0000</td>\n",
       "      <td>0.0000</td>\n",
       "      <td>0.0000</td>\n",
       "      <td>0.0000</td>\n",
       "      <td>0.0000</td>\n",
       "      <td>0.0000</td>\n",
       "      <td>0.0000</td>\n",
       "      <td>0.0120</td>\n",
       "      <td>0.0000</td>\n",
       "      <td>0.0000</td>\n",
       "      <td>0.0000</td>\n",
       "      <td>0.0000</td>\n",
       "      <td>0.0000</td>\n",
       "      <td>0.0000</td>\n",
       "      <td>0.0000</td>\n",
       "      <td>0.0000</td>\n",
       "      <td>0.0000</td>\n",
       "      <td>0.0000</td>\n",
       "      <td>0.0000</td>\n",
       "      <td>0.0030</td>\n",
       "    </tr>\n",
       "    <tr>\n",
       "      <th>02:01</th>\n",
       "      <td>0.0000</td>\n",
       "      <td>0.0000</td>\n",
       "      <td>0.0000</td>\n",
       "      <td>0.0000</td>\n",
       "      <td>0.0000</td>\n",
       "      <td>0.0000</td>\n",
       "      <td>0.0000</td>\n",
       "      <td>0.0000</td>\n",
       "      <td>0.0000</td>\n",
       "      <td>0.0050</td>\n",
       "      <td>0.0000</td>\n",
       "      <td>0.0000</td>\n",
       "      <td>0.0000</td>\n",
       "      <td>0.0000</td>\n",
       "      <td>0.0000</td>\n",
       "      <td>0.0000</td>\n",
       "      <td>0.0060</td>\n",
       "      <td>0.0000</td>\n",
       "      <td>0.0000</td>\n",
       "      <td>0.0000</td>\n",
       "      <td>0.0000</td>\n",
       "      <td>0.0000</td>\n",
       "      <td>0.0000</td>\n",
       "      <td>0.0000</td>\n",
       "      <td>0.0000</td>\n",
       "      <td>0.0000</td>\n",
       "      <td>0.0000</td>\n",
       "      <td>0.0000</td>\n",
       "      <td>0.0000</td>\n",
       "      <td>0.0000</td>\n",
       "      <td>0.0000</td>\n",
       "      <td>0.0000</td>\n",
       "      <td>0.0000</td>\n",
       "      <td>0.0000</td>\n",
       "      <td>0.0000</td>\n",
       "      <td>0.0000</td>\n",
       "      <td>0.0000</td>\n",
       "      <td>0.0380</td>\n",
       "      <td>0.0000</td>\n",
       "      <td>0.0230</td>\n",
       "      <td>0.0000</td>\n",
       "      <td>0.0270</td>\n",
       "      <td>0.0000</td>\n",
       "      <td>0.0000</td>\n",
       "      <td>0.0000</td>\n",
       "      <td>0.0000</td>\n",
       "      <td>0.0000</td>\n",
       "      <td>0.0000</td>\n",
       "      <td>0.0000</td>\n",
       "      <td>0.0000</td>\n",
       "      <td>...</td>\n",
       "      <td>0.0000</td>\n",
       "      <td>0.0000</td>\n",
       "      <td>0.0000</td>\n",
       "      <td>0.0000</td>\n",
       "      <td>0.0000</td>\n",
       "      <td>0.0000</td>\n",
       "      <td>0.0000</td>\n",
       "      <td>0.0130</td>\n",
       "      <td>0.0000</td>\n",
       "      <td>0.0000</td>\n",
       "      <td>0.0000</td>\n",
       "      <td>0.0000</td>\n",
       "      <td>0.0000</td>\n",
       "      <td>0.0000</td>\n",
       "      <td>0.0000</td>\n",
       "      <td>0.0220</td>\n",
       "      <td>0.0000</td>\n",
       "      <td>0.0000</td>\n",
       "      <td>0.0000</td>\n",
       "      <td>0.0000</td>\n",
       "      <td>0.0480</td>\n",
       "      <td>0.0000</td>\n",
       "      <td>0.0000</td>\n",
       "      <td>0.0000</td>\n",
       "      <td>0.0000</td>\n",
       "      <td>0.0180</td>\n",
       "      <td>0.0000</td>\n",
       "      <td>0.0350</td>\n",
       "      <td>0.0300</td>\n",
       "      <td>0.0160</td>\n",
       "      <td>0.0000</td>\n",
       "      <td>0.0000</td>\n",
       "      <td>0.0000</td>\n",
       "      <td>0.0000</td>\n",
       "      <td>0.0000</td>\n",
       "      <td>0.0000</td>\n",
       "      <td>0.0000</td>\n",
       "      <td>0.0120</td>\n",
       "      <td>0.0000</td>\n",
       "      <td>0.0000</td>\n",
       "      <td>0.0000</td>\n",
       "      <td>0.0000</td>\n",
       "      <td>0.0000</td>\n",
       "      <td>0.0000</td>\n",
       "      <td>0.0000</td>\n",
       "      <td>0.0000</td>\n",
       "      <td>0.0000</td>\n",
       "      <td>0.0000</td>\n",
       "      <td>0.0120</td>\n",
       "      <td>0.0030</td>\n",
       "    </tr>\n",
       "    <tr>\n",
       "      <th>02:02</th>\n",
       "      <td>0.0000</td>\n",
       "      <td>0.0000</td>\n",
       "      <td>0.0000</td>\n",
       "      <td>0.0000</td>\n",
       "      <td>0.0000</td>\n",
       "      <td>0.0000</td>\n",
       "      <td>0.0000</td>\n",
       "      <td>0.0000</td>\n",
       "      <td>0.0000</td>\n",
       "      <td>0.0050</td>\n",
       "      <td>0.0000</td>\n",
       "      <td>0.0000</td>\n",
       "      <td>0.0000</td>\n",
       "      <td>0.0000</td>\n",
       "      <td>0.0000</td>\n",
       "      <td>0.0000</td>\n",
       "      <td>0.0060</td>\n",
       "      <td>0.0000</td>\n",
       "      <td>0.0000</td>\n",
       "      <td>0.0000</td>\n",
       "      <td>0.0000</td>\n",
       "      <td>0.0000</td>\n",
       "      <td>0.0000</td>\n",
       "      <td>0.0000</td>\n",
       "      <td>0.0000</td>\n",
       "      <td>0.0000</td>\n",
       "      <td>0.0000</td>\n",
       "      <td>0.0000</td>\n",
       "      <td>0.0000</td>\n",
       "      <td>0.0000</td>\n",
       "      <td>0.0000</td>\n",
       "      <td>0.0000</td>\n",
       "      <td>0.0000</td>\n",
       "      <td>0.0000</td>\n",
       "      <td>0.0000</td>\n",
       "      <td>0.0000</td>\n",
       "      <td>0.0000</td>\n",
       "      <td>0.0380</td>\n",
       "      <td>0.0000</td>\n",
       "      <td>0.0230</td>\n",
       "      <td>0.0000</td>\n",
       "      <td>0.0270</td>\n",
       "      <td>0.0000</td>\n",
       "      <td>0.0000</td>\n",
       "      <td>0.0000</td>\n",
       "      <td>0.0000</td>\n",
       "      <td>0.0000</td>\n",
       "      <td>0.0000</td>\n",
       "      <td>0.0000</td>\n",
       "      <td>0.0000</td>\n",
       "      <td>...</td>\n",
       "      <td>0.0000</td>\n",
       "      <td>0.0000</td>\n",
       "      <td>0.0000</td>\n",
       "      <td>0.0000</td>\n",
       "      <td>0.0000</td>\n",
       "      <td>0.0000</td>\n",
       "      <td>0.0170</td>\n",
       "      <td>0.0130</td>\n",
       "      <td>0.0000</td>\n",
       "      <td>0.0000</td>\n",
       "      <td>0.0000</td>\n",
       "      <td>0.0000</td>\n",
       "      <td>0.0000</td>\n",
       "      <td>0.0000</td>\n",
       "      <td>0.0000</td>\n",
       "      <td>0.0220</td>\n",
       "      <td>0.0000</td>\n",
       "      <td>0.0000</td>\n",
       "      <td>0.0000</td>\n",
       "      <td>0.0000</td>\n",
       "      <td>0.0330</td>\n",
       "      <td>0.0000</td>\n",
       "      <td>0.0000</td>\n",
       "      <td>0.0000</td>\n",
       "      <td>0.0000</td>\n",
       "      <td>0.0180</td>\n",
       "      <td>0.0180</td>\n",
       "      <td>0.0350</td>\n",
       "      <td>0.0670</td>\n",
       "      <td>0.0160</td>\n",
       "      <td>0.0000</td>\n",
       "      <td>0.0000</td>\n",
       "      <td>0.0000</td>\n",
       "      <td>0.0000</td>\n",
       "      <td>0.0000</td>\n",
       "      <td>0.0000</td>\n",
       "      <td>0.0000</td>\n",
       "      <td>0.0120</td>\n",
       "      <td>0.0000</td>\n",
       "      <td>0.0000</td>\n",
       "      <td>0.0000</td>\n",
       "      <td>0.0000</td>\n",
       "      <td>0.0000</td>\n",
       "      <td>0.0000</td>\n",
       "      <td>0.0000</td>\n",
       "      <td>0.0000</td>\n",
       "      <td>0.0000</td>\n",
       "      <td>0.0000</td>\n",
       "      <td>0.0000</td>\n",
       "      <td>0.0040</td>\n",
       "    </tr>\n",
       "    <tr>\n",
       "      <th>02:03</th>\n",
       "      <td>0.0000</td>\n",
       "      <td>0.0000</td>\n",
       "      <td>0.0140</td>\n",
       "      <td>0.0000</td>\n",
       "      <td>0.0000</td>\n",
       "      <td>0.0000</td>\n",
       "      <td>0.0000</td>\n",
       "      <td>0.0000</td>\n",
       "      <td>0.0000</td>\n",
       "      <td>0.0050</td>\n",
       "      <td>0.0000</td>\n",
       "      <td>0.0000</td>\n",
       "      <td>0.0000</td>\n",
       "      <td>0.0000</td>\n",
       "      <td>0.0000</td>\n",
       "      <td>0.0000</td>\n",
       "      <td>0.0060</td>\n",
       "      <td>0.0000</td>\n",
       "      <td>0.0000</td>\n",
       "      <td>0.0000</td>\n",
       "      <td>0.0000</td>\n",
       "      <td>0.0000</td>\n",
       "      <td>0.0000</td>\n",
       "      <td>0.0000</td>\n",
       "      <td>0.0000</td>\n",
       "      <td>0.0000</td>\n",
       "      <td>0.0000</td>\n",
       "      <td>0.0000</td>\n",
       "      <td>0.0000</td>\n",
       "      <td>0.0000</td>\n",
       "      <td>0.0000</td>\n",
       "      <td>0.0000</td>\n",
       "      <td>0.0000</td>\n",
       "      <td>0.0000</td>\n",
       "      <td>0.0000</td>\n",
       "      <td>0.0000</td>\n",
       "      <td>0.0000</td>\n",
       "      <td>0.0380</td>\n",
       "      <td>0.0000</td>\n",
       "      <td>0.0230</td>\n",
       "      <td>0.0000</td>\n",
       "      <td>0.0270</td>\n",
       "      <td>0.0000</td>\n",
       "      <td>0.0000</td>\n",
       "      <td>0.0000</td>\n",
       "      <td>0.0000</td>\n",
       "      <td>0.0510</td>\n",
       "      <td>0.0000</td>\n",
       "      <td>0.0000</td>\n",
       "      <td>0.0000</td>\n",
       "      <td>...</td>\n",
       "      <td>0.0000</td>\n",
       "      <td>0.0000</td>\n",
       "      <td>0.0000</td>\n",
       "      <td>0.0000</td>\n",
       "      <td>0.0000</td>\n",
       "      <td>0.0000</td>\n",
       "      <td>0.0000</td>\n",
       "      <td>0.0130</td>\n",
       "      <td>0.0000</td>\n",
       "      <td>0.0000</td>\n",
       "      <td>0.0000</td>\n",
       "      <td>0.0000</td>\n",
       "      <td>0.0000</td>\n",
       "      <td>0.0000</td>\n",
       "      <td>0.0000</td>\n",
       "      <td>0.0220</td>\n",
       "      <td>0.0000</td>\n",
       "      <td>0.0000</td>\n",
       "      <td>0.0000</td>\n",
       "      <td>0.0000</td>\n",
       "      <td>0.0330</td>\n",
       "      <td>0.0000</td>\n",
       "      <td>0.0000</td>\n",
       "      <td>0.0000</td>\n",
       "      <td>0.0000</td>\n",
       "      <td>0.0180</td>\n",
       "      <td>0.0180</td>\n",
       "      <td>0.0350</td>\n",
       "      <td>0.0670</td>\n",
       "      <td>0.0160</td>\n",
       "      <td>0.0000</td>\n",
       "      <td>0.0000</td>\n",
       "      <td>0.0000</td>\n",
       "      <td>0.0000</td>\n",
       "      <td>0.0000</td>\n",
       "      <td>0.0000</td>\n",
       "      <td>0.0000</td>\n",
       "      <td>0.0120</td>\n",
       "      <td>0.0000</td>\n",
       "      <td>0.0000</td>\n",
       "      <td>0.0000</td>\n",
       "      <td>0.0000</td>\n",
       "      <td>0.0170</td>\n",
       "      <td>0.0000</td>\n",
       "      <td>0.0000</td>\n",
       "      <td>0.0000</td>\n",
       "      <td>0.0000</td>\n",
       "      <td>0.0000</td>\n",
       "      <td>0.0000</td>\n",
       "      <td>0.0040</td>\n",
       "    </tr>\n",
       "    <tr>\n",
       "      <th>02:04</th>\n",
       "      <td>0.0000</td>\n",
       "      <td>0.0000</td>\n",
       "      <td>0.0000</td>\n",
       "      <td>0.0000</td>\n",
       "      <td>0.0000</td>\n",
       "      <td>0.0000</td>\n",
       "      <td>0.0000</td>\n",
       "      <td>0.0000</td>\n",
       "      <td>0.0000</td>\n",
       "      <td>0.0050</td>\n",
       "      <td>0.0000</td>\n",
       "      <td>0.0000</td>\n",
       "      <td>0.0000</td>\n",
       "      <td>0.0000</td>\n",
       "      <td>0.0000</td>\n",
       "      <td>0.0000</td>\n",
       "      <td>0.0060</td>\n",
       "      <td>0.0000</td>\n",
       "      <td>0.0000</td>\n",
       "      <td>0.0000</td>\n",
       "      <td>0.0000</td>\n",
       "      <td>0.0000</td>\n",
       "      <td>0.0000</td>\n",
       "      <td>0.0000</td>\n",
       "      <td>0.0000</td>\n",
       "      <td>0.0000</td>\n",
       "      <td>0.0000</td>\n",
       "      <td>0.0000</td>\n",
       "      <td>0.0000</td>\n",
       "      <td>0.0000</td>\n",
       "      <td>0.0000</td>\n",
       "      <td>0.0000</td>\n",
       "      <td>0.0000</td>\n",
       "      <td>0.0000</td>\n",
       "      <td>0.0000</td>\n",
       "      <td>0.0000</td>\n",
       "      <td>0.0000</td>\n",
       "      <td>0.0380</td>\n",
       "      <td>0.0000</td>\n",
       "      <td>0.0230</td>\n",
       "      <td>0.0000</td>\n",
       "      <td>0.0470</td>\n",
       "      <td>0.0000</td>\n",
       "      <td>0.0000</td>\n",
       "      <td>0.0000</td>\n",
       "      <td>0.0000</td>\n",
       "      <td>0.0510</td>\n",
       "      <td>0.0000</td>\n",
       "      <td>0.0000</td>\n",
       "      <td>0.0000</td>\n",
       "      <td>...</td>\n",
       "      <td>0.0000</td>\n",
       "      <td>0.0000</td>\n",
       "      <td>0.0000</td>\n",
       "      <td>0.0000</td>\n",
       "      <td>0.0000</td>\n",
       "      <td>0.0000</td>\n",
       "      <td>0.0000</td>\n",
       "      <td>0.0130</td>\n",
       "      <td>0.0000</td>\n",
       "      <td>0.0000</td>\n",
       "      <td>0.0000</td>\n",
       "      <td>0.0000</td>\n",
       "      <td>0.0000</td>\n",
       "      <td>0.0000</td>\n",
       "      <td>0.0000</td>\n",
       "      <td>0.0000</td>\n",
       "      <td>0.0000</td>\n",
       "      <td>0.0000</td>\n",
       "      <td>0.0000</td>\n",
       "      <td>0.0120</td>\n",
       "      <td>0.0330</td>\n",
       "      <td>0.0000</td>\n",
       "      <td>0.0000</td>\n",
       "      <td>0.0000</td>\n",
       "      <td>0.0000</td>\n",
       "      <td>0.0180</td>\n",
       "      <td>0.0000</td>\n",
       "      <td>0.0350</td>\n",
       "      <td>0.0670</td>\n",
       "      <td>0.0160</td>\n",
       "      <td>0.0000</td>\n",
       "      <td>0.0000</td>\n",
       "      <td>0.0000</td>\n",
       "      <td>0.0000</td>\n",
       "      <td>0.0000</td>\n",
       "      <td>0.0000</td>\n",
       "      <td>0.0000</td>\n",
       "      <td>0.0120</td>\n",
       "      <td>0.0000</td>\n",
       "      <td>0.0000</td>\n",
       "      <td>0.0000</td>\n",
       "      <td>0.0000</td>\n",
       "      <td>0.0170</td>\n",
       "      <td>0.0000</td>\n",
       "      <td>0.0000</td>\n",
       "      <td>0.0000</td>\n",
       "      <td>0.0000</td>\n",
       "      <td>0.0000</td>\n",
       "      <td>0.0000</td>\n",
       "      <td>0.0040</td>\n",
       "    </tr>\n",
       "    <tr>\n",
       "      <th>...</th>\n",
       "      <td>...</td>\n",
       "      <td>...</td>\n",
       "      <td>...</td>\n",
       "      <td>...</td>\n",
       "      <td>...</td>\n",
       "      <td>...</td>\n",
       "      <td>...</td>\n",
       "      <td>...</td>\n",
       "      <td>...</td>\n",
       "      <td>...</td>\n",
       "      <td>...</td>\n",
       "      <td>...</td>\n",
       "      <td>...</td>\n",
       "      <td>...</td>\n",
       "      <td>...</td>\n",
       "      <td>...</td>\n",
       "      <td>...</td>\n",
       "      <td>...</td>\n",
       "      <td>...</td>\n",
       "      <td>...</td>\n",
       "      <td>...</td>\n",
       "      <td>...</td>\n",
       "      <td>...</td>\n",
       "      <td>...</td>\n",
       "      <td>...</td>\n",
       "      <td>...</td>\n",
       "      <td>...</td>\n",
       "      <td>...</td>\n",
       "      <td>...</td>\n",
       "      <td>...</td>\n",
       "      <td>...</td>\n",
       "      <td>...</td>\n",
       "      <td>...</td>\n",
       "      <td>...</td>\n",
       "      <td>...</td>\n",
       "      <td>...</td>\n",
       "      <td>...</td>\n",
       "      <td>...</td>\n",
       "      <td>...</td>\n",
       "      <td>...</td>\n",
       "      <td>...</td>\n",
       "      <td>...</td>\n",
       "      <td>...</td>\n",
       "      <td>...</td>\n",
       "      <td>...</td>\n",
       "      <td>...</td>\n",
       "      <td>...</td>\n",
       "      <td>...</td>\n",
       "      <td>...</td>\n",
       "      <td>...</td>\n",
       "      <td>...</td>\n",
       "      <td>...</td>\n",
       "      <td>...</td>\n",
       "      <td>...</td>\n",
       "      <td>...</td>\n",
       "      <td>...</td>\n",
       "      <td>...</td>\n",
       "      <td>...</td>\n",
       "      <td>...</td>\n",
       "      <td>...</td>\n",
       "      <td>...</td>\n",
       "      <td>...</td>\n",
       "      <td>...</td>\n",
       "      <td>...</td>\n",
       "      <td>...</td>\n",
       "      <td>...</td>\n",
       "      <td>...</td>\n",
       "      <td>...</td>\n",
       "      <td>...</td>\n",
       "      <td>...</td>\n",
       "      <td>...</td>\n",
       "      <td>...</td>\n",
       "      <td>...</td>\n",
       "      <td>...</td>\n",
       "      <td>...</td>\n",
       "      <td>...</td>\n",
       "      <td>...</td>\n",
       "      <td>...</td>\n",
       "      <td>...</td>\n",
       "      <td>...</td>\n",
       "      <td>...</td>\n",
       "      <td>...</td>\n",
       "      <td>...</td>\n",
       "      <td>...</td>\n",
       "      <td>...</td>\n",
       "      <td>...</td>\n",
       "      <td>...</td>\n",
       "      <td>...</td>\n",
       "      <td>...</td>\n",
       "      <td>...</td>\n",
       "      <td>...</td>\n",
       "      <td>...</td>\n",
       "      <td>...</td>\n",
       "      <td>...</td>\n",
       "      <td>...</td>\n",
       "      <td>...</td>\n",
       "      <td>...</td>\n",
       "      <td>...</td>\n",
       "      <td>...</td>\n",
       "      <td>...</td>\n",
       "      <td>...</td>\n",
       "    </tr>\n",
       "    <tr>\n",
       "      <th>01:56</th>\n",
       "      <td>0.0000</td>\n",
       "      <td>0.0000</td>\n",
       "      <td>0.0000</td>\n",
       "      <td>0.0000</td>\n",
       "      <td>0.0270</td>\n",
       "      <td>0.0000</td>\n",
       "      <td>0.0000</td>\n",
       "      <td>0.0000</td>\n",
       "      <td>0.0000</td>\n",
       "      <td>0.0000</td>\n",
       "      <td>0.0000</td>\n",
       "      <td>0.0000</td>\n",
       "      <td>0.0000</td>\n",
       "      <td>0.0000</td>\n",
       "      <td>0.0000</td>\n",
       "      <td>0.0050</td>\n",
       "      <td>0.0000</td>\n",
       "      <td>0.0000</td>\n",
       "      <td>0.0000</td>\n",
       "      <td>0.0000</td>\n",
       "      <td>0.0000</td>\n",
       "      <td>0.0000</td>\n",
       "      <td>0.0000</td>\n",
       "      <td>0.0000</td>\n",
       "      <td>0.0040</td>\n",
       "      <td>0.0000</td>\n",
       "      <td>0.0000</td>\n",
       "      <td>0.0000</td>\n",
       "      <td>0.0000</td>\n",
       "      <td>0.0000</td>\n",
       "      <td>0.0000</td>\n",
       "      <td>0.0000</td>\n",
       "      <td>0.0000</td>\n",
       "      <td>0.0000</td>\n",
       "      <td>0.0000</td>\n",
       "      <td>0.0000</td>\n",
       "      <td>0.0450</td>\n",
       "      <td>0.0000</td>\n",
       "      <td>0.0320</td>\n",
       "      <td>0.0000</td>\n",
       "      <td>0.0140</td>\n",
       "      <td>0.0120</td>\n",
       "      <td>0.0140</td>\n",
       "      <td>0.0070</td>\n",
       "      <td>0.0000</td>\n",
       "      <td>0.0000</td>\n",
       "      <td>0.0000</td>\n",
       "      <td>0.0000</td>\n",
       "      <td>0.0000</td>\n",
       "      <td>0.0000</td>\n",
       "      <td>...</td>\n",
       "      <td>0.0290</td>\n",
       "      <td>0.0000</td>\n",
       "      <td>0.0000</td>\n",
       "      <td>0.0000</td>\n",
       "      <td>0.0000</td>\n",
       "      <td>0.0000</td>\n",
       "      <td>0.0000</td>\n",
       "      <td>0.0000</td>\n",
       "      <td>0.0090</td>\n",
       "      <td>0.0060</td>\n",
       "      <td>0.0000</td>\n",
       "      <td>0.0000</td>\n",
       "      <td>0.0000</td>\n",
       "      <td>0.0000</td>\n",
       "      <td>0.0000</td>\n",
       "      <td>0.0000</td>\n",
       "      <td>0.0130</td>\n",
       "      <td>0.0000</td>\n",
       "      <td>0.0000</td>\n",
       "      <td>0.0330</td>\n",
       "      <td>0.0000</td>\n",
       "      <td>0.0000</td>\n",
       "      <td>0.0000</td>\n",
       "      <td>0.0000</td>\n",
       "      <td>0.0700</td>\n",
       "      <td>0.0000</td>\n",
       "      <td>0.0360</td>\n",
       "      <td>0.0310</td>\n",
       "      <td>0.0000</td>\n",
       "      <td>0.0000</td>\n",
       "      <td>0.0000</td>\n",
       "      <td>0.0000</td>\n",
       "      <td>0.0000</td>\n",
       "      <td>0.0000</td>\n",
       "      <td>0.0090</td>\n",
       "      <td>0.0000</td>\n",
       "      <td>0.0000</td>\n",
       "      <td>0.0130</td>\n",
       "      <td>0.0000</td>\n",
       "      <td>0.0000</td>\n",
       "      <td>0.0130</td>\n",
       "      <td>0.0000</td>\n",
       "      <td>0.0000</td>\n",
       "      <td>0.0000</td>\n",
       "      <td>0.0150</td>\n",
       "      <td>0.0000</td>\n",
       "      <td>0.0000</td>\n",
       "      <td>0.0000</td>\n",
       "      <td>0.0000</td>\n",
       "      <td>0.0040</td>\n",
       "    </tr>\n",
       "    <tr>\n",
       "      <th>01:57</th>\n",
       "      <td>0.0000</td>\n",
       "      <td>0.0000</td>\n",
       "      <td>0.0000</td>\n",
       "      <td>0.0000</td>\n",
       "      <td>0.0000</td>\n",
       "      <td>0.0000</td>\n",
       "      <td>0.0000</td>\n",
       "      <td>0.0000</td>\n",
       "      <td>0.0040</td>\n",
       "      <td>0.0000</td>\n",
       "      <td>0.0090</td>\n",
       "      <td>0.0000</td>\n",
       "      <td>0.0000</td>\n",
       "      <td>0.0330</td>\n",
       "      <td>0.0000</td>\n",
       "      <td>0.0050</td>\n",
       "      <td>0.0000</td>\n",
       "      <td>0.0000</td>\n",
       "      <td>0.0000</td>\n",
       "      <td>0.0000</td>\n",
       "      <td>0.0000</td>\n",
       "      <td>0.0150</td>\n",
       "      <td>0.0000</td>\n",
       "      <td>0.0000</td>\n",
       "      <td>0.0040</td>\n",
       "      <td>0.0000</td>\n",
       "      <td>0.0000</td>\n",
       "      <td>0.0000</td>\n",
       "      <td>0.0000</td>\n",
       "      <td>0.0000</td>\n",
       "      <td>0.0000</td>\n",
       "      <td>0.0000</td>\n",
       "      <td>0.0000</td>\n",
       "      <td>0.0000</td>\n",
       "      <td>0.0000</td>\n",
       "      <td>0.0000</td>\n",
       "      <td>0.0390</td>\n",
       "      <td>0.0000</td>\n",
       "      <td>0.0320</td>\n",
       "      <td>0.0000</td>\n",
       "      <td>0.0140</td>\n",
       "      <td>0.0120</td>\n",
       "      <td>0.0140</td>\n",
       "      <td>0.0000</td>\n",
       "      <td>0.0000</td>\n",
       "      <td>0.0000</td>\n",
       "      <td>0.0000</td>\n",
       "      <td>0.0000</td>\n",
       "      <td>0.0000</td>\n",
       "      <td>0.0000</td>\n",
       "      <td>...</td>\n",
       "      <td>0.0290</td>\n",
       "      <td>0.0000</td>\n",
       "      <td>0.0000</td>\n",
       "      <td>0.0000</td>\n",
       "      <td>0.0000</td>\n",
       "      <td>0.0000</td>\n",
       "      <td>0.0000</td>\n",
       "      <td>0.0000</td>\n",
       "      <td>0.0000</td>\n",
       "      <td>0.0060</td>\n",
       "      <td>0.0000</td>\n",
       "      <td>0.0000</td>\n",
       "      <td>0.0000</td>\n",
       "      <td>0.0000</td>\n",
       "      <td>0.0000</td>\n",
       "      <td>0.0000</td>\n",
       "      <td>0.0130</td>\n",
       "      <td>0.0000</td>\n",
       "      <td>0.0000</td>\n",
       "      <td>0.0330</td>\n",
       "      <td>0.0000</td>\n",
       "      <td>0.0000</td>\n",
       "      <td>0.0000</td>\n",
       "      <td>0.0000</td>\n",
       "      <td>0.0700</td>\n",
       "      <td>0.0000</td>\n",
       "      <td>0.0360</td>\n",
       "      <td>0.0310</td>\n",
       "      <td>0.0000</td>\n",
       "      <td>0.0000</td>\n",
       "      <td>0.0000</td>\n",
       "      <td>0.0000</td>\n",
       "      <td>0.0000</td>\n",
       "      <td>0.0000</td>\n",
       "      <td>0.0090</td>\n",
       "      <td>0.0000</td>\n",
       "      <td>0.0000</td>\n",
       "      <td>0.0000</td>\n",
       "      <td>0.0000</td>\n",
       "      <td>0.0000</td>\n",
       "      <td>0.0130</td>\n",
       "      <td>0.0000</td>\n",
       "      <td>0.0000</td>\n",
       "      <td>0.0000</td>\n",
       "      <td>0.0150</td>\n",
       "      <td>0.0000</td>\n",
       "      <td>0.0000</td>\n",
       "      <td>0.0000</td>\n",
       "      <td>0.0000</td>\n",
       "      <td>0.0040</td>\n",
       "    </tr>\n",
       "    <tr>\n",
       "      <th>01:58</th>\n",
       "      <td>0.0000</td>\n",
       "      <td>0.0000</td>\n",
       "      <td>0.0000</td>\n",
       "      <td>0.0000</td>\n",
       "      <td>0.0000</td>\n",
       "      <td>0.0000</td>\n",
       "      <td>0.0000</td>\n",
       "      <td>0.0000</td>\n",
       "      <td>0.0040</td>\n",
       "      <td>0.0000</td>\n",
       "      <td>0.0090</td>\n",
       "      <td>0.0000</td>\n",
       "      <td>0.0000</td>\n",
       "      <td>0.0860</td>\n",
       "      <td>0.0000</td>\n",
       "      <td>0.0050</td>\n",
       "      <td>0.0000</td>\n",
       "      <td>0.0000</td>\n",
       "      <td>0.0000</td>\n",
       "      <td>0.0000</td>\n",
       "      <td>0.0000</td>\n",
       "      <td>0.0000</td>\n",
       "      <td>0.0000</td>\n",
       "      <td>0.0000</td>\n",
       "      <td>0.0430</td>\n",
       "      <td>0.0000</td>\n",
       "      <td>0.0000</td>\n",
       "      <td>0.0000</td>\n",
       "      <td>0.0000</td>\n",
       "      <td>0.0000</td>\n",
       "      <td>0.0000</td>\n",
       "      <td>0.0000</td>\n",
       "      <td>0.0000</td>\n",
       "      <td>0.0000</td>\n",
       "      <td>0.0000</td>\n",
       "      <td>0.0000</td>\n",
       "      <td>0.0390</td>\n",
       "      <td>0.0000</td>\n",
       "      <td>0.0320</td>\n",
       "      <td>0.0000</td>\n",
       "      <td>0.0140</td>\n",
       "      <td>0.0120</td>\n",
       "      <td>0.0140</td>\n",
       "      <td>0.0140</td>\n",
       "      <td>0.0000</td>\n",
       "      <td>0.0000</td>\n",
       "      <td>0.0000</td>\n",
       "      <td>0.0000</td>\n",
       "      <td>0.0000</td>\n",
       "      <td>0.0000</td>\n",
       "      <td>...</td>\n",
       "      <td>0.0290</td>\n",
       "      <td>0.0000</td>\n",
       "      <td>0.0000</td>\n",
       "      <td>0.0000</td>\n",
       "      <td>0.0000</td>\n",
       "      <td>0.0000</td>\n",
       "      <td>0.0000</td>\n",
       "      <td>0.0000</td>\n",
       "      <td>0.0000</td>\n",
       "      <td>0.0060</td>\n",
       "      <td>0.0000</td>\n",
       "      <td>0.0000</td>\n",
       "      <td>0.0000</td>\n",
       "      <td>0.0000</td>\n",
       "      <td>0.0000</td>\n",
       "      <td>0.0000</td>\n",
       "      <td>0.0000</td>\n",
       "      <td>0.0000</td>\n",
       "      <td>0.0000</td>\n",
       "      <td>0.0330</td>\n",
       "      <td>0.0000</td>\n",
       "      <td>0.0000</td>\n",
       "      <td>0.0000</td>\n",
       "      <td>0.0000</td>\n",
       "      <td>0.0700</td>\n",
       "      <td>0.0000</td>\n",
       "      <td>0.0360</td>\n",
       "      <td>0.0310</td>\n",
       "      <td>0.0000</td>\n",
       "      <td>0.0240</td>\n",
       "      <td>0.0000</td>\n",
       "      <td>0.0000</td>\n",
       "      <td>0.0000</td>\n",
       "      <td>0.0000</td>\n",
       "      <td>0.0090</td>\n",
       "      <td>0.0000</td>\n",
       "      <td>0.0000</td>\n",
       "      <td>0.0000</td>\n",
       "      <td>0.0000</td>\n",
       "      <td>0.0000</td>\n",
       "      <td>0.0130</td>\n",
       "      <td>0.0170</td>\n",
       "      <td>0.0000</td>\n",
       "      <td>0.0000</td>\n",
       "      <td>0.0150</td>\n",
       "      <td>0.0000</td>\n",
       "      <td>0.0000</td>\n",
       "      <td>0.0190</td>\n",
       "      <td>0.0000</td>\n",
       "      <td>0.0040</td>\n",
       "    </tr>\n",
       "    <tr>\n",
       "      <th>01:59</th>\n",
       "      <td>0.0000</td>\n",
       "      <td>0.0000</td>\n",
       "      <td>0.0000</td>\n",
       "      <td>0.0000</td>\n",
       "      <td>0.0000</td>\n",
       "      <td>0.0000</td>\n",
       "      <td>0.0000</td>\n",
       "      <td>0.0000</td>\n",
       "      <td>0.0040</td>\n",
       "      <td>0.0000</td>\n",
       "      <td>0.0140</td>\n",
       "      <td>0.0000</td>\n",
       "      <td>0.0000</td>\n",
       "      <td>0.0000</td>\n",
       "      <td>0.0000</td>\n",
       "      <td>0.0050</td>\n",
       "      <td>0.0000</td>\n",
       "      <td>0.0000</td>\n",
       "      <td>0.0000</td>\n",
       "      <td>0.0000</td>\n",
       "      <td>0.0000</td>\n",
       "      <td>0.0000</td>\n",
       "      <td>0.0000</td>\n",
       "      <td>0.0000</td>\n",
       "      <td>0.0040</td>\n",
       "      <td>0.0000</td>\n",
       "      <td>0.0000</td>\n",
       "      <td>0.0000</td>\n",
       "      <td>0.0000</td>\n",
       "      <td>0.0000</td>\n",
       "      <td>0.0000</td>\n",
       "      <td>0.0000</td>\n",
       "      <td>0.0000</td>\n",
       "      <td>0.0000</td>\n",
       "      <td>0.0000</td>\n",
       "      <td>0.0000</td>\n",
       "      <td>0.0390</td>\n",
       "      <td>0.0000</td>\n",
       "      <td>0.0320</td>\n",
       "      <td>0.0000</td>\n",
       "      <td>0.0260</td>\n",
       "      <td>0.0120</td>\n",
       "      <td>0.0140</td>\n",
       "      <td>0.0000</td>\n",
       "      <td>0.0000</td>\n",
       "      <td>0.0000</td>\n",
       "      <td>0.0000</td>\n",
       "      <td>0.0000</td>\n",
       "      <td>0.0000</td>\n",
       "      <td>0.0000</td>\n",
       "      <td>...</td>\n",
       "      <td>0.0290</td>\n",
       "      <td>0.0000</td>\n",
       "      <td>0.0000</td>\n",
       "      <td>0.0000</td>\n",
       "      <td>0.0000</td>\n",
       "      <td>0.0000</td>\n",
       "      <td>0.0000</td>\n",
       "      <td>0.0000</td>\n",
       "      <td>0.0000</td>\n",
       "      <td>0.0060</td>\n",
       "      <td>0.0000</td>\n",
       "      <td>0.0000</td>\n",
       "      <td>0.0000</td>\n",
       "      <td>0.0000</td>\n",
       "      <td>0.0000</td>\n",
       "      <td>0.0000</td>\n",
       "      <td>0.0000</td>\n",
       "      <td>0.0000</td>\n",
       "      <td>0.0000</td>\n",
       "      <td>0.0330</td>\n",
       "      <td>0.0000</td>\n",
       "      <td>0.0000</td>\n",
       "      <td>0.0000</td>\n",
       "      <td>0.0000</td>\n",
       "      <td>0.0700</td>\n",
       "      <td>0.0000</td>\n",
       "      <td>0.0360</td>\n",
       "      <td>0.0310</td>\n",
       "      <td>0.0000</td>\n",
       "      <td>0.0000</td>\n",
       "      <td>0.0000</td>\n",
       "      <td>0.0150</td>\n",
       "      <td>0.0000</td>\n",
       "      <td>0.0000</td>\n",
       "      <td>0.0000</td>\n",
       "      <td>0.0000</td>\n",
       "      <td>0.0000</td>\n",
       "      <td>0.0000</td>\n",
       "      <td>0.0000</td>\n",
       "      <td>0.0000</td>\n",
       "      <td>0.0130</td>\n",
       "      <td>0.0000</td>\n",
       "      <td>0.0000</td>\n",
       "      <td>0.0000</td>\n",
       "      <td>0.0150</td>\n",
       "      <td>0.0000</td>\n",
       "      <td>0.0000</td>\n",
       "      <td>0.0000</td>\n",
       "      <td>0.0000</td>\n",
       "      <td>0.0040</td>\n",
       "    </tr>\n",
       "    <tr>\n",
       "      <th>월화수목금토일02:00-01:59</th>\n",
       "      <td>0.0040</td>\n",
       "      <td>0.0060</td>\n",
       "      <td>0.0020</td>\n",
       "      <td>0.0030</td>\n",
       "      <td>0.0020</td>\n",
       "      <td>0.0030</td>\n",
       "      <td>0.0030</td>\n",
       "      <td>0.0020</td>\n",
       "      <td>0.0030</td>\n",
       "      <td>0.0020</td>\n",
       "      <td>0.0010</td>\n",
       "      <td>0.0020</td>\n",
       "      <td>0.0020</td>\n",
       "      <td>0.0040</td>\n",
       "      <td>0.0020</td>\n",
       "      <td>0.0020</td>\n",
       "      <td>0.0040</td>\n",
       "      <td>0.0020</td>\n",
       "      <td>0.0030</td>\n",
       "      <td>0.0010</td>\n",
       "      <td>0.0030</td>\n",
       "      <td>0.0020</td>\n",
       "      <td>0.0020</td>\n",
       "      <td>0.0020</td>\n",
       "      <td>0.0030</td>\n",
       "      <td>0.0030</td>\n",
       "      <td>0.0010</td>\n",
       "      <td>0.0030</td>\n",
       "      <td>0.0020</td>\n",
       "      <td>0.0030</td>\n",
       "      <td>0.0030</td>\n",
       "      <td>0.0010</td>\n",
       "      <td>0.0010</td>\n",
       "      <td>0.0020</td>\n",
       "      <td>0.0010</td>\n",
       "      <td>0.0010</td>\n",
       "      <td>0.0040</td>\n",
       "      <td>0.0020</td>\n",
       "      <td>0.0070</td>\n",
       "      <td>0.0020</td>\n",
       "      <td>0.0020</td>\n",
       "      <td>0.0050</td>\n",
       "      <td>0.0020</td>\n",
       "      <td>0.0040</td>\n",
       "      <td>0.0010</td>\n",
       "      <td>0.0020</td>\n",
       "      <td>0.0060</td>\n",
       "      <td>0.0020</td>\n",
       "      <td>0.0050</td>\n",
       "      <td>0.0020</td>\n",
       "      <td>...</td>\n",
       "      <td>0.0060</td>\n",
       "      <td>0.0050</td>\n",
       "      <td>0.0110</td>\n",
       "      <td>0.0040</td>\n",
       "      <td>0.0080</td>\n",
       "      <td>0.0040</td>\n",
       "      <td>0.0060</td>\n",
       "      <td>0.0060</td>\n",
       "      <td>0.0050</td>\n",
       "      <td>0.0040</td>\n",
       "      <td>0.0070</td>\n",
       "      <td>0.0050</td>\n",
       "      <td>0.0040</td>\n",
       "      <td>0.0020</td>\n",
       "      <td>0.0070</td>\n",
       "      <td>0.0060</td>\n",
       "      <td>0.0040</td>\n",
       "      <td>0.0070</td>\n",
       "      <td>0.0050</td>\n",
       "      <td>0.0070</td>\n",
       "      <td>0.0050</td>\n",
       "      <td>0.0050</td>\n",
       "      <td>0.0030</td>\n",
       "      <td>0.0060</td>\n",
       "      <td>0.0070</td>\n",
       "      <td>0.0070</td>\n",
       "      <td>0.0070</td>\n",
       "      <td>0.0070</td>\n",
       "      <td>0.0070</td>\n",
       "      <td>0.0050</td>\n",
       "      <td>0.0030</td>\n",
       "      <td>0.0050</td>\n",
       "      <td>0.0030</td>\n",
       "      <td>0.0040</td>\n",
       "      <td>0.0040</td>\n",
       "      <td>0.0040</td>\n",
       "      <td>0.0040</td>\n",
       "      <td>0.0140</td>\n",
       "      <td>0.0030</td>\n",
       "      <td>0.0040</td>\n",
       "      <td>0.0100</td>\n",
       "      <td>0.0060</td>\n",
       "      <td>0.0060</td>\n",
       "      <td>0.0070</td>\n",
       "      <td>0.0040</td>\n",
       "      <td>0.0060</td>\n",
       "      <td>0.0040</td>\n",
       "      <td>0.0050</td>\n",
       "      <td>0.0050</td>\n",
       "      <td>0.0040</td>\n",
       "    </tr>\n",
       "  </tbody>\n",
       "</table>\n",
       "<p>1441 rows × 366 columns</p>\n",
       "</div>"
      ],
      "text/plain": [
       "                    2019-01-01  2019-01-02  2019-01-03  2019-01-04  \\\n",
       "시간대                                                                  \n",
       "02:00                   0.0000      0.0000      0.0000      0.0000   \n",
       "02:01                   0.0000      0.0000      0.0000      0.0000   \n",
       "02:02                   0.0000      0.0000      0.0000      0.0000   \n",
       "02:03                   0.0000      0.0000      0.0140      0.0000   \n",
       "02:04                   0.0000      0.0000      0.0000      0.0000   \n",
       "...                        ...         ...         ...         ...   \n",
       "01:56                   0.0000      0.0000      0.0000      0.0000   \n",
       "01:57                   0.0000      0.0000      0.0000      0.0000   \n",
       "01:58                   0.0000      0.0000      0.0000      0.0000   \n",
       "01:59                   0.0000      0.0000      0.0000      0.0000   \n",
       "월화수목금토일02:00-01:59      0.0040      0.0060      0.0020      0.0030   \n",
       "\n",
       "                    2019-01-05  2019-01-06  2019-01-07  2019-01-08  \\\n",
       "시간대                                                                  \n",
       "02:00                   0.0000      0.0000      0.0000      0.0000   \n",
       "02:01                   0.0000      0.0000      0.0000      0.0000   \n",
       "02:02                   0.0000      0.0000      0.0000      0.0000   \n",
       "02:03                   0.0000      0.0000      0.0000      0.0000   \n",
       "02:04                   0.0000      0.0000      0.0000      0.0000   \n",
       "...                        ...         ...         ...         ...   \n",
       "01:56                   0.0270      0.0000      0.0000      0.0000   \n",
       "01:57                   0.0000      0.0000      0.0000      0.0000   \n",
       "01:58                   0.0000      0.0000      0.0000      0.0000   \n",
       "01:59                   0.0000      0.0000      0.0000      0.0000   \n",
       "월화수목금토일02:00-01:59      0.0020      0.0030      0.0030      0.0020   \n",
       "\n",
       "                    2019-01-09  2019-01-10  2019-01-11  2019-01-12  \\\n",
       "시간대                                                                  \n",
       "02:00                   0.0000      0.0000      0.0000      0.0000   \n",
       "02:01                   0.0000      0.0050      0.0000      0.0000   \n",
       "02:02                   0.0000      0.0050      0.0000      0.0000   \n",
       "02:03                   0.0000      0.0050      0.0000      0.0000   \n",
       "02:04                   0.0000      0.0050      0.0000      0.0000   \n",
       "...                        ...         ...         ...         ...   \n",
       "01:56                   0.0000      0.0000      0.0000      0.0000   \n",
       "01:57                   0.0040      0.0000      0.0090      0.0000   \n",
       "01:58                   0.0040      0.0000      0.0090      0.0000   \n",
       "01:59                   0.0040      0.0000      0.0140      0.0000   \n",
       "월화수목금토일02:00-01:59      0.0030      0.0020      0.0010      0.0020   \n",
       "\n",
       "                    2019-01-13  2019-01-14  2019-01-15  2019-01-16  \\\n",
       "시간대                                                                  \n",
       "02:00                   0.0000      0.0000      0.0000      0.0000   \n",
       "02:01                   0.0000      0.0000      0.0000      0.0000   \n",
       "02:02                   0.0000      0.0000      0.0000      0.0000   \n",
       "02:03                   0.0000      0.0000      0.0000      0.0000   \n",
       "02:04                   0.0000      0.0000      0.0000      0.0000   \n",
       "...                        ...         ...         ...         ...   \n",
       "01:56                   0.0000      0.0000      0.0000      0.0050   \n",
       "01:57                   0.0000      0.0330      0.0000      0.0050   \n",
       "01:58                   0.0000      0.0860      0.0000      0.0050   \n",
       "01:59                   0.0000      0.0000      0.0000      0.0050   \n",
       "월화수목금토일02:00-01:59      0.0020      0.0040      0.0020      0.0020   \n",
       "\n",
       "                    2019-01-17  2019-01-18  2019-01-19  2019-01-20  \\\n",
       "시간대                                                                  \n",
       "02:00                   0.0060      0.0000      0.0000      0.0000   \n",
       "02:01                   0.0060      0.0000      0.0000      0.0000   \n",
       "02:02                   0.0060      0.0000      0.0000      0.0000   \n",
       "02:03                   0.0060      0.0000      0.0000      0.0000   \n",
       "02:04                   0.0060      0.0000      0.0000      0.0000   \n",
       "...                        ...         ...         ...         ...   \n",
       "01:56                   0.0000      0.0000      0.0000      0.0000   \n",
       "01:57                   0.0000      0.0000      0.0000      0.0000   \n",
       "01:58                   0.0000      0.0000      0.0000      0.0000   \n",
       "01:59                   0.0000      0.0000      0.0000      0.0000   \n",
       "월화수목금토일02:00-01:59      0.0040      0.0020      0.0030      0.0010   \n",
       "\n",
       "                    2019-01-21  2019-01-22  2019-01-23  2019-01-24  \\\n",
       "시간대                                                                  \n",
       "02:00                   0.0000      0.0000      0.0000      0.0000   \n",
       "02:01                   0.0000      0.0000      0.0000      0.0000   \n",
       "02:02                   0.0000      0.0000      0.0000      0.0000   \n",
       "02:03                   0.0000      0.0000      0.0000      0.0000   \n",
       "02:04                   0.0000      0.0000      0.0000      0.0000   \n",
       "...                        ...         ...         ...         ...   \n",
       "01:56                   0.0000      0.0000      0.0000      0.0000   \n",
       "01:57                   0.0000      0.0150      0.0000      0.0000   \n",
       "01:58                   0.0000      0.0000      0.0000      0.0000   \n",
       "01:59                   0.0000      0.0000      0.0000      0.0000   \n",
       "월화수목금토일02:00-01:59      0.0030      0.0020      0.0020      0.0020   \n",
       "\n",
       "                    2019-01-25  2019-01-26  2019-01-27  2019-01-28  \\\n",
       "시간대                                                                  \n",
       "02:00                   0.0000      0.0000      0.0000      0.0000   \n",
       "02:01                   0.0000      0.0000      0.0000      0.0000   \n",
       "02:02                   0.0000      0.0000      0.0000      0.0000   \n",
       "02:03                   0.0000      0.0000      0.0000      0.0000   \n",
       "02:04                   0.0000      0.0000      0.0000      0.0000   \n",
       "...                        ...         ...         ...         ...   \n",
       "01:56                   0.0040      0.0000      0.0000      0.0000   \n",
       "01:57                   0.0040      0.0000      0.0000      0.0000   \n",
       "01:58                   0.0430      0.0000      0.0000      0.0000   \n",
       "01:59                   0.0040      0.0000      0.0000      0.0000   \n",
       "월화수목금토일02:00-01:59      0.0030      0.0030      0.0010      0.0030   \n",
       "\n",
       "                    2019-01-29  2019-01-30  2019-01-31  2019-02-01  \\\n",
       "시간대                                                                  \n",
       "02:00                   0.0000      0.0000      0.0000      0.0000   \n",
       "02:01                   0.0000      0.0000      0.0000      0.0000   \n",
       "02:02                   0.0000      0.0000      0.0000      0.0000   \n",
       "02:03                   0.0000      0.0000      0.0000      0.0000   \n",
       "02:04                   0.0000      0.0000      0.0000      0.0000   \n",
       "...                        ...         ...         ...         ...   \n",
       "01:56                   0.0000      0.0000      0.0000      0.0000   \n",
       "01:57                   0.0000      0.0000      0.0000      0.0000   \n",
       "01:58                   0.0000      0.0000      0.0000      0.0000   \n",
       "01:59                   0.0000      0.0000      0.0000      0.0000   \n",
       "월화수목금토일02:00-01:59      0.0020      0.0030      0.0030      0.0010   \n",
       "\n",
       "                    2019-02-02  2019-02-03  2019-02-04  2019-02-05  \\\n",
       "시간대                                                                  \n",
       "02:00                   0.0000      0.0000      0.0000      0.0000   \n",
       "02:01                   0.0000      0.0000      0.0000      0.0000   \n",
       "02:02                   0.0000      0.0000      0.0000      0.0000   \n",
       "02:03                   0.0000      0.0000      0.0000      0.0000   \n",
       "02:04                   0.0000      0.0000      0.0000      0.0000   \n",
       "...                        ...         ...         ...         ...   \n",
       "01:56                   0.0000      0.0000      0.0000      0.0000   \n",
       "01:57                   0.0000      0.0000      0.0000      0.0000   \n",
       "01:58                   0.0000      0.0000      0.0000      0.0000   \n",
       "01:59                   0.0000      0.0000      0.0000      0.0000   \n",
       "월화수목금토일02:00-01:59      0.0010      0.0020      0.0010      0.0010   \n",
       "\n",
       "                    2019-02-06  2019-02-07  2019-02-08  2019-02-09  \\\n",
       "시간대                                                                  \n",
       "02:00                   0.0000      0.0380      0.0000      0.0230   \n",
       "02:01                   0.0000      0.0380      0.0000      0.0230   \n",
       "02:02                   0.0000      0.0380      0.0000      0.0230   \n",
       "02:03                   0.0000      0.0380      0.0000      0.0230   \n",
       "02:04                   0.0000      0.0380      0.0000      0.0230   \n",
       "...                        ...         ...         ...         ...   \n",
       "01:56                   0.0450      0.0000      0.0320      0.0000   \n",
       "01:57                   0.0390      0.0000      0.0320      0.0000   \n",
       "01:58                   0.0390      0.0000      0.0320      0.0000   \n",
       "01:59                   0.0390      0.0000      0.0320      0.0000   \n",
       "월화수목금토일02:00-01:59      0.0040      0.0020      0.0070      0.0020   \n",
       "\n",
       "                    2019-02-10  2019-02-11  2019-02-12  2019-02-13  \\\n",
       "시간대                                                                  \n",
       "02:00                   0.0000      0.0270      0.0000      0.0000   \n",
       "02:01                   0.0000      0.0270      0.0000      0.0000   \n",
       "02:02                   0.0000      0.0270      0.0000      0.0000   \n",
       "02:03                   0.0000      0.0270      0.0000      0.0000   \n",
       "02:04                   0.0000      0.0470      0.0000      0.0000   \n",
       "...                        ...         ...         ...         ...   \n",
       "01:56                   0.0140      0.0120      0.0140      0.0070   \n",
       "01:57                   0.0140      0.0120      0.0140      0.0000   \n",
       "01:58                   0.0140      0.0120      0.0140      0.0140   \n",
       "01:59                   0.0260      0.0120      0.0140      0.0000   \n",
       "월화수목금토일02:00-01:59      0.0020      0.0050      0.0020      0.0040   \n",
       "\n",
       "                    2019-02-14  2019-02-15  2019-02-16  2019-02-17  \\\n",
       "시간대                                                                  \n",
       "02:00                   0.0000      0.0000      0.0000      0.0000   \n",
       "02:01                   0.0000      0.0000      0.0000      0.0000   \n",
       "02:02                   0.0000      0.0000      0.0000      0.0000   \n",
       "02:03                   0.0000      0.0000      0.0510      0.0000   \n",
       "02:04                   0.0000      0.0000      0.0510      0.0000   \n",
       "...                        ...         ...         ...         ...   \n",
       "01:56                   0.0000      0.0000      0.0000      0.0000   \n",
       "01:57                   0.0000      0.0000      0.0000      0.0000   \n",
       "01:58                   0.0000      0.0000      0.0000      0.0000   \n",
       "01:59                   0.0000      0.0000      0.0000      0.0000   \n",
       "월화수목금토일02:00-01:59      0.0010      0.0020      0.0060      0.0020   \n",
       "\n",
       "                    2019-02-18  2019-02-19  ...  2019-11-13  2019-11-14  \\\n",
       "시간대                                         ...                           \n",
       "02:00                   0.0000      0.0000  ...      0.0000      0.0000   \n",
       "02:01                   0.0000      0.0000  ...      0.0000      0.0000   \n",
       "02:02                   0.0000      0.0000  ...      0.0000      0.0000   \n",
       "02:03                   0.0000      0.0000  ...      0.0000      0.0000   \n",
       "02:04                   0.0000      0.0000  ...      0.0000      0.0000   \n",
       "...                        ...         ...  ...         ...         ...   \n",
       "01:56                   0.0000      0.0000  ...      0.0290      0.0000   \n",
       "01:57                   0.0000      0.0000  ...      0.0290      0.0000   \n",
       "01:58                   0.0000      0.0000  ...      0.0290      0.0000   \n",
       "01:59                   0.0000      0.0000  ...      0.0290      0.0000   \n",
       "월화수목금토일02:00-01:59      0.0050      0.0020  ...      0.0060      0.0050   \n",
       "\n",
       "                    2019-11-15  2019-11-16  2019-11-17  2019-11-18  \\\n",
       "시간대                                                                  \n",
       "02:00                   0.0000      0.0000      0.0000      0.0000   \n",
       "02:01                   0.0000      0.0000      0.0000      0.0000   \n",
       "02:02                   0.0000      0.0000      0.0000      0.0000   \n",
       "02:03                   0.0000      0.0000      0.0000      0.0000   \n",
       "02:04                   0.0000      0.0000      0.0000      0.0000   \n",
       "...                        ...         ...         ...         ...   \n",
       "01:56                   0.0000      0.0000      0.0000      0.0000   \n",
       "01:57                   0.0000      0.0000      0.0000      0.0000   \n",
       "01:58                   0.0000      0.0000      0.0000      0.0000   \n",
       "01:59                   0.0000      0.0000      0.0000      0.0000   \n",
       "월화수목금토일02:00-01:59      0.0110      0.0040      0.0080      0.0040   \n",
       "\n",
       "                    2019-11-19  2019-11-20  2019-11-21  2019-11-22  \\\n",
       "시간대                                                                  \n",
       "02:00                   0.0000      0.0130      0.0000      0.0000   \n",
       "02:01                   0.0000      0.0130      0.0000      0.0000   \n",
       "02:02                   0.0170      0.0130      0.0000      0.0000   \n",
       "02:03                   0.0000      0.0130      0.0000      0.0000   \n",
       "02:04                   0.0000      0.0130      0.0000      0.0000   \n",
       "...                        ...         ...         ...         ...   \n",
       "01:56                   0.0000      0.0000      0.0090      0.0060   \n",
       "01:57                   0.0000      0.0000      0.0000      0.0060   \n",
       "01:58                   0.0000      0.0000      0.0000      0.0060   \n",
       "01:59                   0.0000      0.0000      0.0000      0.0060   \n",
       "월화수목금토일02:00-01:59      0.0060      0.0060      0.0050      0.0040   \n",
       "\n",
       "                    2019-11-23  2019-11-24  2019-11-25  2019-11-26  \\\n",
       "시간대                                                                  \n",
       "02:00                   0.0000      0.0000      0.0000      0.0000   \n",
       "02:01                   0.0000      0.0000      0.0000      0.0000   \n",
       "02:02                   0.0000      0.0000      0.0000      0.0000   \n",
       "02:03                   0.0000      0.0000      0.0000      0.0000   \n",
       "02:04                   0.0000      0.0000      0.0000      0.0000   \n",
       "...                        ...         ...         ...         ...   \n",
       "01:56                   0.0000      0.0000      0.0000      0.0000   \n",
       "01:57                   0.0000      0.0000      0.0000      0.0000   \n",
       "01:58                   0.0000      0.0000      0.0000      0.0000   \n",
       "01:59                   0.0000      0.0000      0.0000      0.0000   \n",
       "월화수목금토일02:00-01:59      0.0070      0.0050      0.0040      0.0020   \n",
       "\n",
       "                    2019-11-27  2019-11-28  2019-11-29  2019-11-30  \\\n",
       "시간대                                                                  \n",
       "02:00                   0.0000      0.0000      0.0000      0.0000   \n",
       "02:01                   0.0000      0.0220      0.0000      0.0000   \n",
       "02:02                   0.0000      0.0220      0.0000      0.0000   \n",
       "02:03                   0.0000      0.0220      0.0000      0.0000   \n",
       "02:04                   0.0000      0.0000      0.0000      0.0000   \n",
       "...                        ...         ...         ...         ...   \n",
       "01:56                   0.0000      0.0000      0.0130      0.0000   \n",
       "01:57                   0.0000      0.0000      0.0130      0.0000   \n",
       "01:58                   0.0000      0.0000      0.0000      0.0000   \n",
       "01:59                   0.0000      0.0000      0.0000      0.0000   \n",
       "월화수목금토일02:00-01:59      0.0070      0.0060      0.0040      0.0070   \n",
       "\n",
       "                    2019-12-01  2019-12-02  2019-12-03  2019-12-04  \\\n",
       "시간대                                                                  \n",
       "02:00                   0.0000      0.0000      0.0480      0.0000   \n",
       "02:01                   0.0000      0.0000      0.0480      0.0000   \n",
       "02:02                   0.0000      0.0000      0.0330      0.0000   \n",
       "02:03                   0.0000      0.0000      0.0330      0.0000   \n",
       "02:04                   0.0000      0.0120      0.0330      0.0000   \n",
       "...                        ...         ...         ...         ...   \n",
       "01:56                   0.0000      0.0330      0.0000      0.0000   \n",
       "01:57                   0.0000      0.0330      0.0000      0.0000   \n",
       "01:58                   0.0000      0.0330      0.0000      0.0000   \n",
       "01:59                   0.0000      0.0330      0.0000      0.0000   \n",
       "월화수목금토일02:00-01:59      0.0050      0.0070      0.0050      0.0050   \n",
       "\n",
       "                    2019-12-05  2019-12-06  2019-12-07  2019-12-08  \\\n",
       "시간대                                                                  \n",
       "02:00                   0.0000      0.0000      0.0000      0.0180   \n",
       "02:01                   0.0000      0.0000      0.0000      0.0180   \n",
       "02:02                   0.0000      0.0000      0.0000      0.0180   \n",
       "02:03                   0.0000      0.0000      0.0000      0.0180   \n",
       "02:04                   0.0000      0.0000      0.0000      0.0180   \n",
       "...                        ...         ...         ...         ...   \n",
       "01:56                   0.0000      0.0000      0.0700      0.0000   \n",
       "01:57                   0.0000      0.0000      0.0700      0.0000   \n",
       "01:58                   0.0000      0.0000      0.0700      0.0000   \n",
       "01:59                   0.0000      0.0000      0.0700      0.0000   \n",
       "월화수목금토일02:00-01:59      0.0030      0.0060      0.0070      0.0070   \n",
       "\n",
       "                    2019-12-09  2019-12-10  2019-12-11  2019-12-12  \\\n",
       "시간대                                                                  \n",
       "02:00                   0.0000      0.0350      0.0300      0.0160   \n",
       "02:01                   0.0000      0.0350      0.0300      0.0160   \n",
       "02:02                   0.0180      0.0350      0.0670      0.0160   \n",
       "02:03                   0.0180      0.0350      0.0670      0.0160   \n",
       "02:04                   0.0000      0.0350      0.0670      0.0160   \n",
       "...                        ...         ...         ...         ...   \n",
       "01:56                   0.0360      0.0310      0.0000      0.0000   \n",
       "01:57                   0.0360      0.0310      0.0000      0.0000   \n",
       "01:58                   0.0360      0.0310      0.0000      0.0240   \n",
       "01:59                   0.0360      0.0310      0.0000      0.0000   \n",
       "월화수목금토일02:00-01:59      0.0070      0.0070      0.0070      0.0050   \n",
       "\n",
       "                    2019-12-13  2019-12-14  2019-12-15  2019-12-16  \\\n",
       "시간대                                                                  \n",
       "02:00                   0.0000      0.0000      0.0000      0.0000   \n",
       "02:01                   0.0000      0.0000      0.0000      0.0000   \n",
       "02:02                   0.0000      0.0000      0.0000      0.0000   \n",
       "02:03                   0.0000      0.0000      0.0000      0.0000   \n",
       "02:04                   0.0000      0.0000      0.0000      0.0000   \n",
       "...                        ...         ...         ...         ...   \n",
       "01:56                   0.0000      0.0000      0.0000      0.0000   \n",
       "01:57                   0.0000      0.0000      0.0000      0.0000   \n",
       "01:58                   0.0000      0.0000      0.0000      0.0000   \n",
       "01:59                   0.0000      0.0150      0.0000      0.0000   \n",
       "월화수목금토일02:00-01:59      0.0030      0.0050      0.0030      0.0040   \n",
       "\n",
       "                    2019-12-17  2019-12-18  2019-12-19  2019-12-20  \\\n",
       "시간대                                                                  \n",
       "02:00                   0.0000      0.0000      0.0000      0.0120   \n",
       "02:01                   0.0000      0.0000      0.0000      0.0120   \n",
       "02:02                   0.0000      0.0000      0.0000      0.0120   \n",
       "02:03                   0.0000      0.0000      0.0000      0.0120   \n",
       "02:04                   0.0000      0.0000      0.0000      0.0120   \n",
       "...                        ...         ...         ...         ...   \n",
       "01:56                   0.0090      0.0000      0.0000      0.0130   \n",
       "01:57                   0.0090      0.0000      0.0000      0.0000   \n",
       "01:58                   0.0090      0.0000      0.0000      0.0000   \n",
       "01:59                   0.0000      0.0000      0.0000      0.0000   \n",
       "월화수목금토일02:00-01:59      0.0040      0.0040      0.0040      0.0140   \n",
       "\n",
       "                    2019-12-21  2019-12-22  2019-12-23  2019-12-24  \\\n",
       "시간대                                                                  \n",
       "02:00                   0.0000      0.0000      0.0000      0.0000   \n",
       "02:01                   0.0000      0.0000      0.0000      0.0000   \n",
       "02:02                   0.0000      0.0000      0.0000      0.0000   \n",
       "02:03                   0.0000      0.0000      0.0000      0.0000   \n",
       "02:04                   0.0000      0.0000      0.0000      0.0000   \n",
       "...                        ...         ...         ...         ...   \n",
       "01:56                   0.0000      0.0000      0.0130      0.0000   \n",
       "01:57                   0.0000      0.0000      0.0130      0.0000   \n",
       "01:58                   0.0000      0.0000      0.0130      0.0170   \n",
       "01:59                   0.0000      0.0000      0.0130      0.0000   \n",
       "월화수목금토일02:00-01:59      0.0030      0.0040      0.0100      0.0060   \n",
       "\n",
       "                    2019-12-25  2019-12-26  2019-12-27  2019-12-28  \\\n",
       "시간대                                                                  \n",
       "02:00                   0.0000      0.0000      0.0000      0.0000   \n",
       "02:01                   0.0000      0.0000      0.0000      0.0000   \n",
       "02:02                   0.0000      0.0000      0.0000      0.0000   \n",
       "02:03                   0.0170      0.0000      0.0000      0.0000   \n",
       "02:04                   0.0170      0.0000      0.0000      0.0000   \n",
       "...                        ...         ...         ...         ...   \n",
       "01:56                   0.0000      0.0000      0.0150      0.0000   \n",
       "01:57                   0.0000      0.0000      0.0150      0.0000   \n",
       "01:58                   0.0000      0.0000      0.0150      0.0000   \n",
       "01:59                   0.0000      0.0000      0.0150      0.0000   \n",
       "월화수목금토일02:00-01:59      0.0060      0.0070      0.0040      0.0060   \n",
       "\n",
       "                    2019-12-29  2019-12-30  2019-12-31  \\\n",
       "시간대                                                      \n",
       "02:00                   0.0000      0.0000      0.0000   \n",
       "02:01                   0.0000      0.0000      0.0120   \n",
       "02:02                   0.0000      0.0000      0.0000   \n",
       "02:03                   0.0000      0.0000      0.0000   \n",
       "02:04                   0.0000      0.0000      0.0000   \n",
       "...                        ...         ...         ...   \n",
       "01:56                   0.0000      0.0000      0.0000   \n",
       "01:57                   0.0000      0.0000      0.0000   \n",
       "01:58                   0.0000      0.0190      0.0000   \n",
       "01:59                   0.0000      0.0000      0.0000   \n",
       "월화수목금토일02:00-01:59      0.0040      0.0050      0.0050   \n",
       "\n",
       "                    2019-01-01 to 2019-12-31  \n",
       "시간대                                           \n",
       "02:00                                 0.0030  \n",
       "02:01                                 0.0030  \n",
       "02:02                                 0.0040  \n",
       "02:03                                 0.0040  \n",
       "02:04                                 0.0040  \n",
       "...                                      ...  \n",
       "01:56                                 0.0040  \n",
       "01:57                                 0.0040  \n",
       "01:58                                 0.0040  \n",
       "01:59                                 0.0040  \n",
       "월화수목금토일02:00-01:59                    0.0040  \n",
       "\n",
       "[1441 rows x 366 columns]"
      ]
     },
     "execution_count": 12,
     "metadata": {},
     "output_type": "execute_result"
    }
   ],
   "source": [
    "data['rating'] = pd.read_excel('./data/01_제공데이터/2020 빅콘테스트 데이터분석분야-챔피언리그_시청률 데이터.xlsx',\n",
    "                          skiprows=1,\n",
    "                          index_col=0,\n",
    "                          )\n",
    "data['rating']"
   ]
  },
  {
   "cell_type": "markdown",
   "metadata": {},
   "source": [
    "### 네이버 트랜드 데이터"
   ]
  },
  {
   "cell_type": "code",
   "execution_count": 13,
   "metadata": {
    "ExecuteTime": {
     "end_time": "2020-09-27T12:03:01.683812Z",
     "start_time": "2020-09-27T12:03:01.396747Z"
    }
   },
   "outputs": [
    {
     "data": {
      "text/html": [
       "<div>\n",
       "<style scoped>\n",
       "    .dataframe tbody tr th:only-of-type {\n",
       "        vertical-align: middle;\n",
       "    }\n",
       "\n",
       "    .dataframe tbody tr th {\n",
       "        vertical-align: top;\n",
       "    }\n",
       "\n",
       "    .dataframe thead th {\n",
       "        text-align: right;\n",
       "    }\n",
       "</style>\n",
       "<table border=\"1\" class=\"dataframe\">\n",
       "  <thead>\n",
       "    <tr style=\"text-align: right;\">\n",
       "      <th></th>\n",
       "      <th>의류</th>\n",
       "      <th>농수산물</th>\n",
       "      <th>속옷</th>\n",
       "      <th>주방</th>\n",
       "      <th>미용</th>\n",
       "      <th>가전</th>\n",
       "      <th>생활용품</th>\n",
       "      <th>건강기능</th>\n",
       "      <th>잡화</th>\n",
       "      <th>가구</th>\n",
       "    </tr>\n",
       "    <tr>\n",
       "      <th>날짜</th>\n",
       "      <th></th>\n",
       "      <th></th>\n",
       "      <th></th>\n",
       "      <th></th>\n",
       "      <th></th>\n",
       "      <th></th>\n",
       "      <th></th>\n",
       "      <th></th>\n",
       "      <th></th>\n",
       "      <th></th>\n",
       "    </tr>\n",
       "  </thead>\n",
       "  <tbody>\n",
       "    <tr>\n",
       "      <th>2019-01-01</th>\n",
       "      <td>0.3439</td>\n",
       "      <td>0.1982</td>\n",
       "      <td>5.0683</td>\n",
       "      <td>0.6237</td>\n",
       "      <td>0.3381</td>\n",
       "      <td>3.1349</td>\n",
       "      <td>1.8065</td>\n",
       "      <td>46.1994</td>\n",
       "      <td>5.6853</td>\n",
       "      <td>3.0817</td>\n",
       "    </tr>\n",
       "    <tr>\n",
       "      <th>2019-01-02</th>\n",
       "      <td>0.6131</td>\n",
       "      <td>0.1814</td>\n",
       "      <td>5.8685</td>\n",
       "      <td>0.9666</td>\n",
       "      <td>0.7007</td>\n",
       "      <td>5.1652</td>\n",
       "      <td>1.5285</td>\n",
       "      <td>49.4381</td>\n",
       "      <td>8.1430</td>\n",
       "      <td>5.9030</td>\n",
       "    </tr>\n",
       "    <tr>\n",
       "      <th>2019-01-03</th>\n",
       "      <td>0.7308</td>\n",
       "      <td>0.2343</td>\n",
       "      <td>7.5706</td>\n",
       "      <td>1.3187</td>\n",
       "      <td>0.7110</td>\n",
       "      <td>4.6937</td>\n",
       "      <td>1.5050</td>\n",
       "      <td>48.6204</td>\n",
       "      <td>8.4690</td>\n",
       "      <td>4.5661</td>\n",
       "    </tr>\n",
       "    <tr>\n",
       "      <th>2019-01-04</th>\n",
       "      <td>0.6596</td>\n",
       "      <td>0.1879</td>\n",
       "      <td>6.2758</td>\n",
       "      <td>1.1092</td>\n",
       "      <td>0.5196</td>\n",
       "      <td>4.6175</td>\n",
       "      <td>1.3156</td>\n",
       "      <td>43.9306</td>\n",
       "      <td>7.7646</td>\n",
       "      <td>3.6372</td>\n",
       "    </tr>\n",
       "    <tr>\n",
       "      <th>2019-01-05</th>\n",
       "      <td>0.7009</td>\n",
       "      <td>0.3037</td>\n",
       "      <td>10.0166</td>\n",
       "      <td>1.6295</td>\n",
       "      <td>0.9520</td>\n",
       "      <td>2.8369</td>\n",
       "      <td>1.2293</td>\n",
       "      <td>40.5435</td>\n",
       "      <td>6.5957</td>\n",
       "      <td>3.8534</td>\n",
       "    </tr>\n",
       "    <tr>\n",
       "      <th>...</th>\n",
       "      <td>...</td>\n",
       "      <td>...</td>\n",
       "      <td>...</td>\n",
       "      <td>...</td>\n",
       "      <td>...</td>\n",
       "      <td>...</td>\n",
       "      <td>...</td>\n",
       "      <td>...</td>\n",
       "      <td>...</td>\n",
       "      <td>...</td>\n",
       "    </tr>\n",
       "    <tr>\n",
       "      <th>2020-09-15</th>\n",
       "      <td>0.8308</td>\n",
       "      <td>0.6273</td>\n",
       "      <td>8.1722</td>\n",
       "      <td>1.6277</td>\n",
       "      <td>0.8986</td>\n",
       "      <td>4.9475</td>\n",
       "      <td>3.7359</td>\n",
       "      <td>48.6674</td>\n",
       "      <td>9.6931</td>\n",
       "      <td>5.3514</td>\n",
       "    </tr>\n",
       "    <tr>\n",
       "      <th>2020-09-16</th>\n",
       "      <td>0.9648</td>\n",
       "      <td>0.5274</td>\n",
       "      <td>8.7811</td>\n",
       "      <td>1.5862</td>\n",
       "      <td>0.7604</td>\n",
       "      <td>5.9928</td>\n",
       "      <td>3.2757</td>\n",
       "      <td>54.5443</td>\n",
       "      <td>9.8525</td>\n",
       "      <td>4.7231</td>\n",
       "    </tr>\n",
       "    <tr>\n",
       "      <th>2020-09-17</th>\n",
       "      <td>0.7874</td>\n",
       "      <td>0.3891</td>\n",
       "      <td>5.3985</td>\n",
       "      <td>1.0999</td>\n",
       "      <td>0.4810</td>\n",
       "      <td>6.7892</td>\n",
       "      <td>3.3550</td>\n",
       "      <td>46.5472</td>\n",
       "      <td>9.4838</td>\n",
       "      <td>4.1475</td>\n",
       "    </tr>\n",
       "    <tr>\n",
       "      <th>2020-09-18</th>\n",
       "      <td>0.7851</td>\n",
       "      <td>0.5657</td>\n",
       "      <td>5.5878</td>\n",
       "      <td>1.3431</td>\n",
       "      <td>0.6273</td>\n",
       "      <td>5.2291</td>\n",
       "      <td>3.7680</td>\n",
       "      <td>37.2188</td>\n",
       "      <td>8.9458</td>\n",
       "      <td>4.1781</td>\n",
       "    </tr>\n",
       "    <tr>\n",
       "      <th>2020-09-19</th>\n",
       "      <td>0.3912</td>\n",
       "      <td>0.3221</td>\n",
       "      <td>4.8608</td>\n",
       "      <td>0.8168</td>\n",
       "      <td>0.4372</td>\n",
       "      <td>3.6183</td>\n",
       "      <td>2.9797</td>\n",
       "      <td>44.9623</td>\n",
       "      <td>7.5558</td>\n",
       "      <td>4.0439</td>\n",
       "    </tr>\n",
       "  </tbody>\n",
       "</table>\n",
       "<p>628 rows × 10 columns</p>\n",
       "</div>"
      ],
      "text/plain": [
       "               의류   농수산물      속옷     주방     미용     가전   생활용품    건강기능     잡화  \\\n",
       "날짜                                                                            \n",
       "2019-01-01 0.3439 0.1982  5.0683 0.6237 0.3381 3.1349 1.8065 46.1994 5.6853   \n",
       "2019-01-02 0.6131 0.1814  5.8685 0.9666 0.7007 5.1652 1.5285 49.4381 8.1430   \n",
       "2019-01-03 0.7308 0.2343  7.5706 1.3187 0.7110 4.6937 1.5050 48.6204 8.4690   \n",
       "2019-01-04 0.6596 0.1879  6.2758 1.1092 0.5196 4.6175 1.3156 43.9306 7.7646   \n",
       "2019-01-05 0.7009 0.3037 10.0166 1.6295 0.9520 2.8369 1.2293 40.5435 6.5957   \n",
       "...           ...    ...     ...    ...    ...    ...    ...     ...    ...   \n",
       "2020-09-15 0.8308 0.6273  8.1722 1.6277 0.8986 4.9475 3.7359 48.6674 9.6931   \n",
       "2020-09-16 0.9648 0.5274  8.7811 1.5862 0.7604 5.9928 3.2757 54.5443 9.8525   \n",
       "2020-09-17 0.7874 0.3891  5.3985 1.0999 0.4810 6.7892 3.3550 46.5472 9.4838   \n",
       "2020-09-18 0.7851 0.5657  5.5878 1.3431 0.6273 5.2291 3.7680 37.2188 8.9458   \n",
       "2020-09-19 0.3912 0.3221  4.8608 0.8168 0.4372 3.6183 2.9797 44.9623 7.5558   \n",
       "\n",
       "               가구  \n",
       "날짜                 \n",
       "2019-01-01 3.0817  \n",
       "2019-01-02 5.9030  \n",
       "2019-01-03 4.5661  \n",
       "2019-01-04 3.6372  \n",
       "2019-01-05 3.8534  \n",
       "...           ...  \n",
       "2020-09-15 5.3514  \n",
       "2020-09-16 4.7231  \n",
       "2020-09-17 4.1475  \n",
       "2020-09-18 4.1781  \n",
       "2020-09-19 4.0439  \n",
       "\n",
       "[628 rows x 10 columns]"
      ]
     },
     "execution_count": 13,
     "metadata": {},
     "output_type": "execute_result"
    }
   ],
   "source": [
    "# 네이터 트랜드 가져오기 \n",
    "trend1 = pd.read_excel('./data/03_외부데이터/naver_group_1.xlsx',skiprows=[0,1,2,3,4,5])\n",
    "trend2 = pd.read_excel('./data/03_외부데이터/naver_group_2.xlsx',skiprows=[0,1,2,3,4,5])\n",
    "trend_criterion = pd.read_excel('./data/03_외부데이터/naver_criterion.xlsx',skiprows=[0,1,2,3,4,5]).drop('날짜.1',axis=1)\n",
    "\n",
    "# 트랜드df 만들기 \n",
    "drop_list = ['날짜.1','날짜.2','날짜.3','날짜.4','날짜']\n",
    "date = trend1['날짜']\n",
    "trend1 = trend1.drop(drop_list,axis=1)\n",
    "trend2 = trend2.drop(drop_list,axis=1)\n",
    "\n",
    "# 기준 만들기 \n",
    "cri1 = trend_criterion['농수산']/(trend_criterion['생활용품']+trend_criterion['농수산'])\n",
    "cri2 = trend_criterion['생활용품']/(trend_criterion['생활용품']+trend_criterion['농수산'])\n",
    "\n",
    "# scailing \n",
    "trend1 = trend1.apply(lambda x: x*cri1)\n",
    "trend2 = trend2.apply(lambda x: x*cri2)\n",
    "trend_df = pd.concat([trend1,trend2],axis=1)\n",
    "\n",
    "trend_df['날짜'] = date\n",
    "trend_df['날짜'] = pd.to_datetime(trend_df['날짜'])\n",
    "trend_df  = trend_df.set_index('날짜')\n",
    "trend_df"
   ]
  },
  {
   "cell_type": "markdown",
   "metadata": {},
   "source": [
    "### 소비자 물가지수"
   ]
  },
  {
   "cell_type": "code",
   "execution_count": 14,
   "metadata": {
    "ExecuteTime": {
     "end_time": "2020-09-27T12:03:01.715829Z",
     "start_time": "2020-09-27T12:03:01.685815Z"
    }
   },
   "outputs": [
    {
     "data": {
      "text/html": [
       "<div>\n",
       "<style scoped>\n",
       "    .dataframe tbody tr th:only-of-type {\n",
       "        vertical-align: middle;\n",
       "    }\n",
       "\n",
       "    .dataframe tbody tr th {\n",
       "        vertical-align: top;\n",
       "    }\n",
       "\n",
       "    .dataframe thead th {\n",
       "        text-align: right;\n",
       "    }\n",
       "</style>\n",
       "<table border=\"1\" class=\"dataframe\">\n",
       "  <thead>\n",
       "    <tr style=\"text-align: right;\">\n",
       "      <th></th>\n",
       "      <th>지출목적별</th>\n",
       "      <th>2019. 01</th>\n",
       "      <th>2019. 02</th>\n",
       "      <th>2019. 03</th>\n",
       "      <th>2019. 04</th>\n",
       "      <th>2019. 05</th>\n",
       "      <th>2019. 06</th>\n",
       "      <th>2019. 07</th>\n",
       "      <th>2019. 08</th>\n",
       "      <th>2019. 09</th>\n",
       "      <th>2019. 10</th>\n",
       "      <th>2019. 11</th>\n",
       "      <th>2019. 12</th>\n",
       "      <th>2020. 06</th>\n",
       "    </tr>\n",
       "  </thead>\n",
       "  <tbody>\n",
       "    <tr>\n",
       "      <th>0</th>\n",
       "      <td>0 총지수</td>\n",
       "      <td>104.2400</td>\n",
       "      <td>104.6900</td>\n",
       "      <td>104.4900</td>\n",
       "      <td>104.8700</td>\n",
       "      <td>105.0500</td>\n",
       "      <td>104.8800</td>\n",
       "      <td>104.5600</td>\n",
       "      <td>104.8100</td>\n",
       "      <td>105.2000</td>\n",
       "      <td>105.4600</td>\n",
       "      <td>104.8700</td>\n",
       "      <td>105.1200</td>\n",
       "      <td>104.8700</td>\n",
       "    </tr>\n",
       "    <tr>\n",
       "      <th>1</th>\n",
       "      <td>01 식료품 · 비주류음료</td>\n",
       "      <td>108.8000</td>\n",
       "      <td>109.5400</td>\n",
       "      <td>108.4800</td>\n",
       "      <td>109.4000</td>\n",
       "      <td>108.8300</td>\n",
       "      <td>107.6400</td>\n",
       "      <td>106.6800</td>\n",
       "      <td>107.7000</td>\n",
       "      <td>110.5200</td>\n",
       "      <td>110.7400</td>\n",
       "      <td>107.8900</td>\n",
       "      <td>109.0100</td>\n",
       "      <td>111.1800</td>\n",
       "    </tr>\n",
       "    <tr>\n",
       "      <th>2</th>\n",
       "      <td>01.1 식료품</td>\n",
       "      <td>109.2200</td>\n",
       "      <td>110.0400</td>\n",
       "      <td>108.9500</td>\n",
       "      <td>109.9900</td>\n",
       "      <td>109.3100</td>\n",
       "      <td>108.0200</td>\n",
       "      <td>106.9800</td>\n",
       "      <td>108.0600</td>\n",
       "      <td>111.1400</td>\n",
       "      <td>111.2900</td>\n",
       "      <td>108.3600</td>\n",
       "      <td>109.5600</td>\n",
       "      <td>111.7700</td>\n",
       "    </tr>\n",
       "    <tr>\n",
       "      <th>3</th>\n",
       "      <td>빵 및 곡물</td>\n",
       "      <td>112.3000</td>\n",
       "      <td>112.5000</td>\n",
       "      <td>113.2600</td>\n",
       "      <td>113.3900</td>\n",
       "      <td>113.6400</td>\n",
       "      <td>113.5000</td>\n",
       "      <td>113.3900</td>\n",
       "      <td>113.2000</td>\n",
       "      <td>113.0900</td>\n",
       "      <td>113.4800</td>\n",
       "      <td>113.3800</td>\n",
       "      <td>113.0200</td>\n",
       "      <td>113.1500</td>\n",
       "    </tr>\n",
       "    <tr>\n",
       "      <th>4</th>\n",
       "      <td>쌀</td>\n",
       "      <td>118.2500</td>\n",
       "      <td>118.0700</td>\n",
       "      <td>118.0200</td>\n",
       "      <td>117.1000</td>\n",
       "      <td>117.4100</td>\n",
       "      <td>116.8200</td>\n",
       "      <td>116.4700</td>\n",
       "      <td>115.8200</td>\n",
       "      <td>116.0200</td>\n",
       "      <td>116.1600</td>\n",
       "      <td>116.3900</td>\n",
       "      <td>115.4800</td>\n",
       "      <td>114.5800</td>\n",
       "    </tr>\n",
       "    <tr>\n",
       "      <th>...</th>\n",
       "      <td>...</td>\n",
       "      <td>...</td>\n",
       "      <td>...</td>\n",
       "      <td>...</td>\n",
       "      <td>...</td>\n",
       "      <td>...</td>\n",
       "      <td>...</td>\n",
       "      <td>...</td>\n",
       "      <td>...</td>\n",
       "      <td>...</td>\n",
       "      <td>...</td>\n",
       "      <td>...</td>\n",
       "      <td>...</td>\n",
       "      <td>...</td>\n",
       "    </tr>\n",
       "    <tr>\n",
       "      <th>583</th>\n",
       "      <td>시험응시료</td>\n",
       "      <td>105.2300</td>\n",
       "      <td>105.2300</td>\n",
       "      <td>105.2300</td>\n",
       "      <td>105.2300</td>\n",
       "      <td>105.2300</td>\n",
       "      <td>105.2300</td>\n",
       "      <td>105.2300</td>\n",
       "      <td>105.2300</td>\n",
       "      <td>105.2300</td>\n",
       "      <td>110.0200</td>\n",
       "      <td>110.0200</td>\n",
       "      <td>110.0200</td>\n",
       "      <td>110.0200</td>\n",
       "    </tr>\n",
       "    <tr>\n",
       "      <th>584</th>\n",
       "      <td>장례비</td>\n",
       "      <td>105.4700</td>\n",
       "      <td>105.9900</td>\n",
       "      <td>106.2900</td>\n",
       "      <td>106.3200</td>\n",
       "      <td>106.3500</td>\n",
       "      <td>106.3200</td>\n",
       "      <td>106.3200</td>\n",
       "      <td>106.3200</td>\n",
       "      <td>106.3200</td>\n",
       "      <td>106.3400</td>\n",
       "      <td>106.3800</td>\n",
       "      <td>106.4000</td>\n",
       "      <td>106.8900</td>\n",
       "    </tr>\n",
       "    <tr>\n",
       "      <th>585</th>\n",
       "      <td>NaN</td>\n",
       "      <td>nan</td>\n",
       "      <td>nan</td>\n",
       "      <td>nan</td>\n",
       "      <td>nan</td>\n",
       "      <td>nan</td>\n",
       "      <td>nan</td>\n",
       "      <td>nan</td>\n",
       "      <td>nan</td>\n",
       "      <td>nan</td>\n",
       "      <td>nan</td>\n",
       "      <td>nan</td>\n",
       "      <td>nan</td>\n",
       "      <td>nan</td>\n",
       "    </tr>\n",
       "    <tr>\n",
       "      <th>586</th>\n",
       "      <td>*)추가</td>\n",
       "      <td>nan</td>\n",
       "      <td>nan</td>\n",
       "      <td>nan</td>\n",
       "      <td>nan</td>\n",
       "      <td>nan</td>\n",
       "      <td>nan</td>\n",
       "      <td>nan</td>\n",
       "      <td>nan</td>\n",
       "      <td>nan</td>\n",
       "      <td>nan</td>\n",
       "      <td>nan</td>\n",
       "      <td>nan</td>\n",
       "      <td>nan</td>\n",
       "    </tr>\n",
       "    <tr>\n",
       "      <th>587</th>\n",
       "      <td>한국은행기준금리</td>\n",
       "      <td>1.7500</td>\n",
       "      <td>1.7500</td>\n",
       "      <td>1.7500</td>\n",
       "      <td>1.7500</td>\n",
       "      <td>1.7500</td>\n",
       "      <td>1.7500</td>\n",
       "      <td>1.5000</td>\n",
       "      <td>1.5000</td>\n",
       "      <td>1.2500</td>\n",
       "      <td>1.2500</td>\n",
       "      <td>1.2500</td>\n",
       "      <td>1.2500</td>\n",
       "      <td>0.5000</td>\n",
       "    </tr>\n",
       "  </tbody>\n",
       "</table>\n",
       "<p>588 rows × 14 columns</p>\n",
       "</div>"
      ],
      "text/plain": [
       "              지출목적별  2019. 01  2019. 02  2019. 03  2019. 04  2019. 05  \\\n",
       "0             0 총지수  104.2400  104.6900  104.4900  104.8700  105.0500   \n",
       "1    01 식료품 · 비주류음료  108.8000  109.5400  108.4800  109.4000  108.8300   \n",
       "2          01.1 식료품  109.2200  110.0400  108.9500  109.9900  109.3100   \n",
       "3            빵 및 곡물  112.3000  112.5000  113.2600  113.3900  113.6400   \n",
       "4                 쌀  118.2500  118.0700  118.0200  117.1000  117.4100   \n",
       "..              ...       ...       ...       ...       ...       ...   \n",
       "583           시험응시료  105.2300  105.2300  105.2300  105.2300  105.2300   \n",
       "584             장례비  105.4700  105.9900  106.2900  106.3200  106.3500   \n",
       "585             NaN       nan       nan       nan       nan       nan   \n",
       "586            *)추가       nan       nan       nan       nan       nan   \n",
       "587        한국은행기준금리    1.7500    1.7500    1.7500    1.7500    1.7500   \n",
       "\n",
       "     2019. 06  2019. 07  2019. 08  2019. 09  2019. 10  2019. 11  2019. 12  \\\n",
       "0    104.8800  104.5600  104.8100  105.2000  105.4600  104.8700  105.1200   \n",
       "1    107.6400  106.6800  107.7000  110.5200  110.7400  107.8900  109.0100   \n",
       "2    108.0200  106.9800  108.0600  111.1400  111.2900  108.3600  109.5600   \n",
       "3    113.5000  113.3900  113.2000  113.0900  113.4800  113.3800  113.0200   \n",
       "4    116.8200  116.4700  115.8200  116.0200  116.1600  116.3900  115.4800   \n",
       "..        ...       ...       ...       ...       ...       ...       ...   \n",
       "583  105.2300  105.2300  105.2300  105.2300  110.0200  110.0200  110.0200   \n",
       "584  106.3200  106.3200  106.3200  106.3200  106.3400  106.3800  106.4000   \n",
       "585       nan       nan       nan       nan       nan       nan       nan   \n",
       "586       nan       nan       nan       nan       nan       nan       nan   \n",
       "587    1.7500    1.5000    1.5000    1.2500    1.2500    1.2500    1.2500   \n",
       "\n",
       "     2020. 06  \n",
       "0    104.8700  \n",
       "1    111.1800  \n",
       "2    111.7700  \n",
       "3    113.1500  \n",
       "4    114.5800  \n",
       "..        ...  \n",
       "583  110.0200  \n",
       "584  106.8900  \n",
       "585       nan  \n",
       "586       nan  \n",
       "587    0.5000  \n",
       "\n",
       "[588 rows x 14 columns]"
      ]
     },
     "execution_count": 14,
     "metadata": {},
     "output_type": "execute_result"
    }
   ],
   "source": [
    "pd.read_csv('./data/03_외부데이터/CPI(2019년~2020년).csv', encoding='cp949')"
   ]
  },
  {
   "cell_type": "markdown",
   "metadata": {},
   "source": [
    "---\n",
    "\n",
    "## 데이터 전처리(Data Preprocessing)"
   ]
  },
  {
   "cell_type": "markdown",
   "metadata": {},
   "source": [
    "### 결측치 확인하기"
   ]
  },
  {
   "cell_type": "code",
   "execution_count": 15,
   "metadata": {
    "ExecuteTime": {
     "end_time": "2020-09-27T12:03:02.179924Z",
     "start_time": "2020-09-27T12:03:01.717821Z"
    }
   },
   "outputs": [
    {
     "data": {
      "image/png": "[encoded data removed]",
      "text/plain": [
       "<Figure size 1800x720 with 2 Axes>"
      ]
     },
     "metadata": {},
     "output_type": "display_data"
    }
   ],
   "source": [
    "msno.matrix(data['train'])\n",
    "plt.show()"
   ]
  },
  {
   "cell_type": "code",
   "execution_count": 16,
   "metadata": {
    "ExecuteTime": {
     "end_time": "2020-09-27T12:03:02.532004Z",
     "start_time": "2020-09-27T12:03:02.181926Z"
    }
   },
   "outputs": [
    {
     "data": {
      "image/png": "[encoded data removed]",
      "text/plain": [
       "<Figure size 1800x720 with 2 Axes>"
      ]
     },
     "metadata": {},
     "output_type": "display_data"
    }
   ],
   "source": [
    "msno.matrix(data['test'])\n",
    "plt.show()"
   ]
  },
  {
   "cell_type": "markdown",
   "metadata": {},
   "source": [
    "### 방송시간에서 세부 시간 추출"
   ]
  },
  {
   "cell_type": "code",
   "execution_count": 17,
   "metadata": {
    "ExecuteTime": {
     "end_time": "2020-09-27T12:03:02.930103Z",
     "start_time": "2020-09-27T12:03:02.534004Z"
    }
   },
   "outputs": [],
   "source": [
    "data['train']['연'] = data['train'].index.map(lambda x: x.year)\n",
    "data['train']['월'] = data['train'].index.map(lambda x: x.month)\n",
    "data['train']['주'] = data['train'].index.map(lambda x: x.week)\n",
    "data['train']['일'] = data['train'].index.map(lambda x: x.day)\n",
    "data['train']['시'] = data['train'].index.map(lambda x: x.hour)\n",
    "data['train']['분'] = data['train'].index.map(lambda x: x.minute)\n",
    "data['train']['요일'] = data['train'].index.map(lambda x: calendar.day_abbr[x.weekday()])"
   ]
  },
  {
   "cell_type": "code",
   "execution_count": 18,
   "metadata": {
    "ExecuteTime": {
     "end_time": "2020-09-27T12:03:02.978107Z",
     "start_time": "2020-09-27T12:03:02.932095Z"
    }
   },
   "outputs": [],
   "source": [
    "data['test']['연'] = data['test'].index.map(lambda x: x.year)\n",
    "data['test']['월'] = data['test'].index.map(lambda x: x.month)\n",
    "data['test']['주'] = data['test'].index.map(lambda x: x.week)\n",
    "data['test']['일'] = data['test'].index.map(lambda x: x.day)\n",
    "data['test']['시'] = data['test'].index.map(lambda x: x.hour)\n",
    "data['test']['분'] = data['test'].index.map(lambda x: x.minute)\n",
    "data['test']['요일'] = data['test'].index.map(lambda x: calendar.day_abbr[x.weekday()])"
   ]
  },
  {
   "cell_type": "code",
   "execution_count": 19,
   "metadata": {
    "ExecuteTime": {
     "end_time": "2020-09-27T12:03:02.994109Z",
     "start_time": "2020-09-27T12:03:02.980107Z"
    }
   },
   "outputs": [],
   "source": [
    "data['train']['주'] = data['train'].index.map(lambda x: x.week)\n",
    "data['test']['주'] = data['test'].index.map(lambda x: x.week)"
   ]
  },
  {
   "cell_type": "markdown",
   "metadata": {},
   "source": [
    "### 노출시간 결측치 처리"
   ]
  },
  {
   "cell_type": "code",
   "execution_count": 20,
   "metadata": {
    "ExecuteTime": {
     "end_time": "2020-09-27T12:03:03.026117Z",
     "start_time": "2020-09-27T12:03:02.995111Z"
    }
   },
   "outputs": [],
   "source": [
    "# 노출시간이 비어있을땐 앞을 보면 됨\n",
    "data['train'] = data['train'].fillna(method='ffill')\n",
    "data['test'] = data['test'].fillna(method='ffill')"
   ]
  },
  {
   "cell_type": "markdown",
   "metadata": {},
   "source": [
    "### 자연어처리(Natural Language Processing)"
   ]
  },
  {
   "cell_type": "markdown",
   "metadata": {},
   "source": [
    "주어진 데이터에서 가장 핵심이 되는 특성은 **상품명**에 있다고 판단하였습니다. 상품명은 비록 한 열로 이루어져있지만, 상품명 자체로부터 뽑아낼 수 있는 특성이 다양하다고 생각했습니다. 예컨대, \"테이트 남성 셀린니트3종\"의 경우는 남성복이라는 특징과 테이트라는 브랜드, 니트라는 옷의 종류 등 뽑아낼 수 있는 정보가 다양합니다. 그러나 이를 뽑아내는 방법에 있어서 일반적인 방법이 존재하지 않습니다. 컴퓨터에게 직접 규칙기반 방법으로 남성과 여성, 무이자와 일시불과 같은 특성을 뽑도록 지시할 수는 있지만 이 지시하는 명령 자체를 만들기 위해서는 사람이 하나하나 전체 상품명을 살펴보며 적절한 특성을 생각해내야 한다는 치명적인 단점이 존재합니다. <br>\n",
    "저희는 이런 문제를 타결하기 위해 **자연어처리** 기술을 사용하였습니다. 이 기술로부터 저희가 달성하고자 하는 목표는 두 가지 입니다.\n",
    "<li> 사람이 직접 분류할 수 없는 분량의 상품명들에 대한 특성 추출 자동화</li>\n",
    "<li> 사람이 보지 못하는 자연어 사이 관계들에 대한 대수적 표현, 그리고 이를 통한 내재된 표현 추출</li>\n",
    "\n",
    "이 목표들을 달성하기 위한 과정들을 아래 기술합니다. 전체적인 과정은 아래와 같습니다.\n",
    "<ul>1. 불용어 및 결측치 제거</ul>\n",
    "<ul>2. 형태소 분석을 통한 통찰에 도움 되는 명사 위주의 형태소 추출</ul>\n",
    "<ul>3. Word2Vec 모델을 활용한 상품명들의 대수적 표현 생성(Embedding)</ul>\n",
    "<ul>4. PCA를 통한 차원 축소</ul>\n",
    "\n",
    "그리고 이 과정을 통하여 통계적 분석 방법을 통해 명사 위주의 형태소를 추출한 결과들로부터 파생 변수를 생성하였습니다.\n",
    "또한 Word2Vec으로부터 만들어낸 단어의 Embedding Vector를 활용하여 이 또한 파생 변수로 사용하였습니다."
   ]
  },
  {
   "cell_type": "markdown",
   "metadata": {},
   "source": [
    "#### 불용어 제거\n",
    "상품명 분석 과정에서 성능 저해를 불러 일으키는 큰 요소가 바로 불용어입니다. 대개 많은 형태소 분석기에서 이들을 자동으로 인식하지 않고 작업을 해주는 경우도 있으나, 저희는 더 높은 정확도를 위해 단어의 형태가 아닌 특수문자와 큰 공백들, 낱개의 자소문자들을 제거하였습니다."
   ]
  },
  {
   "cell_type": "code",
   "execution_count": 21,
   "metadata": {
    "ExecuteTime": {
     "end_time": "2020-09-27T12:03:03.042119Z",
     "start_time": "2020-09-27T12:03:03.028116Z"
    }
   },
   "outputs": [],
   "source": [
    "def re_sub(series: pd.Series) -> pd.Series:\n",
    "    series = series.str.replace(pat=r'[ㄱ-ㅎ]', repl=r'', regex=True)  # ㅋ 제거용\n",
    "    series = series.str.replace(pat=r'[^\\w\\s]', repl=r'', regex=True)  # 특수문자 제거\n",
    "    series = series.str.replace(pat=r'[ ]{2,}', repl=r' ', regex=True)  # 공백 제거\n",
    "    series = series.str.replace(pat=r'[\\u3000]+', repl=r'', regex=True)  # u3000 제거\n",
    "    return series"
   ]
  },
  {
   "cell_type": "code",
   "execution_count": 22,
   "metadata": {
    "ExecuteTime": {
     "end_time": "2020-09-27T12:03:03.250176Z",
     "start_time": "2020-09-27T12:03:03.044120Z"
    }
   },
   "outputs": [],
   "source": [
    "train = data['train'][['상품명', '상품군']].copy()\n",
    "train.상품명 = re_sub(train.상품명)"
   ]
  },
  {
   "cell_type": "code",
   "execution_count": 23,
   "metadata": {
    "ExecuteTime": {
     "end_time": "2020-09-27T12:03:03.281331Z",
     "start_time": "2020-09-27T12:03:03.254177Z"
    }
   },
   "outputs": [],
   "source": [
    "test = data['test'][['상품명', '상품군']].copy()\n",
    "test.상품명 = re_sub(test.상품명)"
   ]
  },
  {
   "cell_type": "code",
   "execution_count": 24,
   "metadata": {
    "ExecuteTime": {
     "end_time": "2020-09-27T12:03:03.311359Z",
     "start_time": "2020-09-27T12:03:03.283175Z"
    }
   },
   "outputs": [],
   "source": [
    "prod_names = (train[train.상품군 != '무형'].상품명 + ' ' + train[train.상품군 != '무형'].상품군).values # len(prod_names) > 1692 (무형 빼고)\n",
    "prod_names_test = (test[test.상품군 != '무형'].상품명 + ' ' + test[test.상품군 != '무형'].상품군).values # len(prod_names) > 1692 (무형 빼고)"
   ]
  },
  {
   "cell_type": "code",
   "execution_count": 25,
   "metadata": {
    "ExecuteTime": {
     "end_time": "2020-09-27T12:03:03.327194Z",
     "start_time": "2020-09-27T12:03:03.313181Z"
    }
   },
   "outputs": [
    {
     "data": {
      "text/plain": [
       "(37368, 2716)"
      ]
     },
     "execution_count": 25,
     "metadata": {},
     "output_type": "execute_result"
    }
   ],
   "source": [
    "len(prod_names), len(prod_names_test)"
   ]
  },
  {
   "cell_type": "markdown",
   "metadata": {},
   "source": [
    "#### KOMORAN을 통하여 형태소 분석\n",
    "Komoran은 Java를 기반으로 제작된 한국어 형태소 분석기입니다. 저희가 Komoran을 사용한 이유는 아래와 같습니다.\n",
    "<li> Java를 기반으로 제작되어, JDK가 설치되어 있는 환경이라면 어디서든 사용이 가능하다는 점 </li>\n",
    "<li> Java의 우수한 계산 속도가 그대로 반영되어 있다는 점 </li>\n",
    "<li> 여타 형태소 분석기와 비교하였을 때, 자소분리, 오탈자, 비문을 더 잘 분석해낸다는 점 </li>\n",
    "이 형태소 분석기를 통해 1차적으로 고유 상품명에 대해 형태소 분석을 진행하였습니다. 형태소 분석이라 함은 한 문장 내에서 각 단어 요소들이 문장 내 어떤 역할을 하고 있는지 분석하는 행위입니다. 아래와 같은 예시를 들자면"
   ]
  },
  {
   "cell_type": "code",
   "execution_count": 26,
   "metadata": {
    "ExecuteTime": {
     "end_time": "2020-09-27T12:03:06.684946Z",
     "start_time": "2020-09-27T12:03:03.329185Z"
    }
   },
   "outputs": [
    {
     "name": "stdout",
     "output_type": "stream",
     "text": [
      "[('KOMORAN', 'SL'), ('은', 'JX'), ('한국어', 'NNP'), ('형태소', 'NNP'), ('분석기', 'NNG'), ('이', 'VCP'), ('ㅂ니다', 'EF'), ('.', 'SF')]\n"
     ]
    }
   ],
   "source": [
    "komoran = Komoran(userdic='./data/04_추가데이터/user_dict_0913.txt')\n",
    "print(komoran.pos(\"KOMORAN은 한국어 형태소 분석기입니다.\"))"
   ]
  },
  {
   "cell_type": "markdown",
   "metadata": {},
   "source": [
    "위 문장 \"KOMORAN은 한국어 형태소 분석기입니다.\"를 형태소로 분석하면 KOMORAN은 SL, 즉 외국어로 분석하였고 '은'은 보조사, '한국어'는 고유 명사 등으로 분석을 하는 것입니다. 이 때 상품명에 대한 많은 정보를 제공해줄 수 있는 명사를 위주로 분석을 진행하였습니다."
   ]
  },
  {
   "cell_type": "code",
   "execution_count": 27,
   "metadata": {
    "ExecuteTime": {
     "end_time": "2020-09-27T12:03:21.240456Z",
     "start_time": "2020-09-27T12:03:06.685947Z"
    }
   },
   "outputs": [],
   "source": [
    "# 상품명에 대한 전체 형태소 분석\n",
    "naive_tokens = list(map(komoran.pos, prod_names))\n",
    "naive_tokens_test = list(map(komoran.pos, prod_names_test))"
   ]
  },
  {
   "cell_type": "code",
   "execution_count": 28,
   "metadata": {
    "ExecuteTime": {
     "end_time": "2020-09-27T12:03:21.749572Z",
     "start_time": "2020-09-27T12:03:21.242456Z"
    }
   },
   "outputs": [],
   "source": [
    "# 전체 형태소에서 유의미할 것으로 생각되는 형태소만 추출\n",
    "def morph_filter(lst):\n",
    "    return list(map(lambda x: x[0], filter(lambda x: (x[1] in usable_morphs), lst)))\n",
    "\n",
    "usable_morphs = ['NNG', 'NNP', 'NP', 'NR'] #+ ['SL', 'SN']\n",
    "naive_tokens = list(map(morph_filter, naive_tokens))\n",
    "naive_tokens_test = list(map(morph_filter, naive_tokens_test))"
   ]
  },
  {
   "cell_type": "code",
   "execution_count": 29,
   "metadata": {
    "ExecuteTime": {
     "end_time": "2020-09-27T12:03:21.828589Z",
     "start_time": "2020-09-27T12:03:21.751572Z"
    }
   },
   "outputs": [],
   "source": [
    "# 전체 단어에서 분석에 있어 영향을 끼치지 않을 것으로 생각되는 단어들 제외\n",
    "exclude_words = ['종', '인용']\n",
    "def exclude(lst):\n",
    "    return list(filter(lambda x: x not in exclude_words, lst))\n",
    "processed_tokens = list(map(exclude, naive_tokens))\n",
    "processed_tokens_test = list(map(exclude, naive_tokens_test))"
   ]
  },
  {
   "cell_type": "markdown",
   "metadata": {},
   "source": [
    "이렇게 유의미한 단어만 뽑아낸 결과에서 파생변수로 사용되면 좋을 것 같은 단어들을 뽑아내어 이를 활용하였습니다."
   ]
  },
  {
   "cell_type": "code",
   "execution_count": 30,
   "metadata": {
    "ExecuteTime": {
     "end_time": "2020-09-27T12:03:21.843601Z",
     "start_time": "2020-09-27T12:03:21.829589Z"
    }
   },
   "outputs": [
    {
     "data": {
      "text/plain": [
       "[['테이트', '남성', '셀린니트', '의류'],\n",
       " ['테이트', '여성', '셀린니트', '의류'],\n",
       " ['테이트', '남성', '셀린니트', '의류'],\n",
       " ['테이트', '여성', '셀린니트', '의류'],\n",
       " ['테이트', '남성', '셀린니트', '의류'],\n",
       " ['테이트', '여성', '셀린니트', '의류'],\n",
       " ['오모떼', '레이스', '파운데이션', '브라', '속옷'],\n",
       " ['오모떼', '레이스', '파운데이션', '브라', '속옷'],\n",
       " ['오모떼', '레이스', '파운데이션', '브라', '속옷'],\n",
       " ['CERINI', 'PAT', '남성', '소프트', '기모', '릴렉스', '팬츠', '의류']]"
      ]
     },
     "execution_count": 30,
     "metadata": {},
     "output_type": "execute_result"
    }
   ],
   "source": [
    "processed_tokens[:10]"
   ]
  },
  {
   "cell_type": "code",
   "execution_count": 31,
   "metadata": {
    "ExecuteTime": {
     "end_time": "2020-09-27T12:03:21.859605Z",
     "start_time": "2020-09-27T12:03:21.845594Z"
    }
   },
   "outputs": [
    {
     "data": {
      "text/plain": [
       "[['잭', '필드', '남성', '반팔', '셔츠', '의류'],\n",
       " ['잭', '필드', '남성', '반팔', '셔츠', '의류'],\n",
       " ['잭', '필드', '남성', '반팔', '셔츠', '의류'],\n",
       " ['쿠미투니카', '쿠', '레이시', '란쥬쉐이퍼', '팬티', '속옷'],\n",
       " ['쿠미투니카', '쿠', '레이시', '란쥬쉐이퍼', '팬티', '속옷'],\n",
       " ['쿠미투니카', '쿠', '레이시', '란쥬쉐이퍼', '팬티', '속옷'],\n",
       " ['바비리스', '퍼펙트', '볼륨', '스타일러', '이미용'],\n",
       " ['바비리스', '퍼펙트', '볼륨', '스타일러', '이미용'],\n",
       " ['바비리스', '퍼펙트', '볼륨', '스타일러', '이미용'],\n",
       " ['램프쿡', '자동', '회전', '냄비', '주방']]"
      ]
     },
     "execution_count": 31,
     "metadata": {},
     "output_type": "execute_result"
    }
   ],
   "source": [
    "processed_tokens_test[:10]"
   ]
  },
  {
   "cell_type": "markdown",
   "metadata": {},
   "source": [
    "#### 임베딩벡터 생성\n",
    "1차적으로 처리된 상품명들로부터 유의미한 단어들을 파생변수로 뽑아낸 뒤, 여기서 저희가 사람의 시각에서 보지 못하는 단어들 사이의 내재된 관계를 찾아내, 이 또한 변수로 활용하기 위해 저희는 **Word2Vec**이라는 단어 단위 임베딩 기술을 활용하였습니다. 이 기술은 앞뒤 단어의 맥락을 통해어 단어 사이의 관계를 파악해 이를 대수적 공간에 대응시키는 기술로, 언어를 수학적으로 활용하는 것이 가능해집니다. 예를 들어 여왕에서 왕을 뺐을 때 나오는 벡터는, 여자에서 남자를 뺐을 때 나오는 벡터와 유사합니다. 이 때 수학적 공간은 저희가 살고 있는 시간을 포함한 4차원의 공간이 아닌 100차원의 공간으로 대응시키게 됩니다. 이 단어들을 표현할 수 있는 가장 기본이 되는 재료가 100개가 된다고 해석할 수 있습니다."
   ]
  },
  {
   "cell_type": "code",
   "execution_count": 32,
   "metadata": {
    "ExecuteTime": {
     "end_time": "2020-09-27T12:03:22.811811Z",
     "start_time": "2020-09-27T12:03:21.861596Z"
    }
   },
   "outputs": [],
   "source": [
    "model_w2v = Word2Vec(sentences=processed_tokens, size=10, window=6, min_count=5, workers=4, sg=1)\n",
    "word_vectors = model_w2v.wv\n",
    "vocabs = word_vectors.vocab.keys()\n",
    "word_vectors_list = [word_vectors[v] for v in vocabs]"
   ]
  },
  {
   "cell_type": "code",
   "execution_count": 33,
   "metadata": {
    "ExecuteTime": {
     "end_time": "2020-09-27T12:03:22.826815Z",
     "start_time": "2020-09-27T12:03:22.812812Z"
    }
   },
   "outputs": [],
   "source": [
    "def sum_embed(lst):\n",
    "    wv = []\n",
    "    for word in lst:\n",
    "        try:\n",
    "            wv.append(word_vectors[word])\n",
    "        except:\n",
    "            pass\n",
    "    return sum(wv)"
   ]
  },
  {
   "cell_type": "markdown",
   "metadata": {},
   "source": [
    "Word2Vec 모델은 단어 단위를 임베딩하는 방법을 학습하게 됩니다. 즉 처음에 예시로 들었던 \"테이트 남성 셀린니트 3종\"의 경우 '테이트', '남성', '니트'가 같이 붙어있다는 것을 활용하여 각각의 단어들을 100차원의 공간으로 임베딩 시키게 됩니다. 그렇다면 \"테이트 남성 셀린니트 3종\"을 수학적으로 표현하려면 각각 테이트, 남성, 니트 벡터들을 모두 합해주는 방법을 취했습니다. 이 방법에 대한 타당성은 클러스터링된 그림을 첨부합니다."
   ]
  },
  {
   "cell_type": "code",
   "execution_count": 34,
   "metadata": {
    "ExecuteTime": {
     "end_time": "2020-09-27T12:03:23.429961Z",
     "start_time": "2020-09-27T12:03:22.827816Z"
    }
   },
   "outputs": [],
   "source": [
    "embedded_tokens = list(map(sum_embed, processed_tokens))\n",
    "embedded_tokens_test = list(map(sum_embed, processed_tokens_test))"
   ]
  },
  {
   "cell_type": "markdown",
   "metadata": {},
   "source": [
    "#### PCA를 통하여 차원 축소\n",
    "비록 저 100차원의 벡터를 모두 파생변수로 활용하면 좋겠지만, 모델이 데이터를 해석하는 능력에 있어서 변수의 수를 조절해줄 필요가 있기에 저희는 100차원으로 대응시킨 대수적 표현에 대해 차원 축소 과정을 진행하였습니다. 이 과정은 PCA라는 선형대수적 방법을 활용한 것으로 데이터에 대한 손실을 최소화하면서 차원을 축소하는 방법으로 현재 상품명들을 모두 10차원의 벡터로 축소하였습니다.\n",
    "<br>\n",
    "처음부터 Word2Vec을 10차원으로 만들지 않은 이유는 더 풍부하게 표현한 뒤에 축소하는 것이 논리적으로 타당하기 때문입니다."
   ]
  },
  {
   "cell_type": "code",
   "execution_count": 35,
   "metadata": {
    "ExecuteTime": {
     "end_time": "2020-09-27T12:03:23.539977Z",
     "start_time": "2020-09-27T12:03:23.431953Z"
    }
   },
   "outputs": [
    {
     "name": "stdout",
     "output_type": "stream",
     "text": [
      "Wall time: 93 ms\n"
     ]
    }
   ],
   "source": [
    "%%time\n",
    "pca = PCA(n_components=10)\n",
    "pca.fit(embedded_tokens)\n",
    "xys = pca.transform(embedded_tokens)\n",
    "xys_test = pca.transform(embedded_tokens_test)"
   ]
  },
  {
   "cell_type": "code",
   "execution_count": 36,
   "metadata": {
    "ExecuteTime": {
     "end_time": "2020-09-27T12:03:23.555980Z",
     "start_time": "2020-09-27T12:03:23.543979Z"
    }
   },
   "outputs": [
    {
     "data": {
      "text/plain": [
       "(37368, 10)"
      ]
     },
     "execution_count": 36,
     "metadata": {},
     "output_type": "execute_result"
    }
   ],
   "source": [
    "xys.shape  # 무형 제외"
   ]
  },
  {
   "cell_type": "code",
   "execution_count": 37,
   "metadata": {
    "ExecuteTime": {
     "end_time": "2020-09-27T12:03:23.571984Z",
     "start_time": "2020-09-27T12:03:23.558983Z"
    }
   },
   "outputs": [
    {
     "data": {
      "text/plain": [
       "(2716, 10)"
      ]
     },
     "execution_count": 37,
     "metadata": {},
     "output_type": "execute_result"
    }
   ],
   "source": [
    "xys_test.shape  # 무형 제외"
   ]
  },
  {
   "cell_type": "markdown",
   "metadata": {},
   "source": [
    "---\n",
    "\n",
    "## 탐색적 데이터 분석(Exploratory Data Analysis)"
   ]
  },
  {
   "cell_type": "markdown",
   "metadata": {},
   "source": [
    "### 데이터 형태"
   ]
  },
  {
   "cell_type": "code",
   "execution_count": 38,
   "metadata": {
    "ExecuteTime": {
     "end_time": "2020-09-27T12:03:23.587988Z",
     "start_time": "2020-09-27T12:03:23.574986Z"
    }
   },
   "outputs": [
    {
     "data": {
      "text/plain": [
       "(38300, 14)"
      ]
     },
     "execution_count": 38,
     "metadata": {},
     "output_type": "execute_result"
    }
   ],
   "source": [
    "data['train'].shape"
   ]
  },
  {
   "cell_type": "code",
   "execution_count": 39,
   "metadata": {
    "ExecuteTime": {
     "end_time": "2020-09-27T12:03:23.603991Z",
     "start_time": "2020-09-27T12:03:23.589989Z"
    }
   },
   "outputs": [
    {
     "data": {
      "text/plain": [
       "(2891, 14)"
      ]
     },
     "execution_count": 39,
     "metadata": {},
     "output_type": "execute_result"
    }
   ],
   "source": [
    "data['test'].shape"
   ]
  },
  {
   "cell_type": "markdown",
   "metadata": {},
   "source": [
    "### 데이터의 컬럼"
   ]
  },
  {
   "cell_type": "code",
   "execution_count": 40,
   "metadata": {
    "ExecuteTime": {
     "end_time": "2020-09-27T12:03:23.619995Z",
     "start_time": "2020-09-27T12:03:23.605992Z"
    }
   },
   "outputs": [
    {
     "data": {
      "text/plain": [
       "Index(['노출(분)', '마더코드', '상품코드', '상품명', '상품군', '판매단가', '취급액', '연', '월', '주',\n",
       "       '일', '시', '분', '요일'],\n",
       "      dtype='object')"
      ]
     },
     "execution_count": 40,
     "metadata": {},
     "output_type": "execute_result"
    }
   ],
   "source": [
    "data['train'].columns"
   ]
  },
  {
   "cell_type": "code",
   "execution_count": 41,
   "metadata": {
    "ExecuteTime": {
     "end_time": "2020-09-27T12:03:23.826042Z",
     "start_time": "2020-09-27T12:03:23.621996Z"
    }
   },
   "outputs": [
    {
     "data": {
      "text/plain": [
       "Index(['노출(분)', '마더코드', '상품코드', '상품명', '상품군', '판매단가', '취급액', '연', '월', '주',\n",
       "       '일', '시', '분', '요일'],\n",
       "      dtype='object')"
      ]
     },
     "execution_count": 41,
     "metadata": {},
     "output_type": "execute_result"
    }
   ],
   "source": [
    "data['test'].columns"
   ]
  },
  {
   "cell_type": "markdown",
   "metadata": {},
   "source": [
    "### 데이터 타입"
   ]
  },
  {
   "cell_type": "code",
   "execution_count": 42,
   "metadata": {
    "ExecuteTime": {
     "end_time": "2020-09-27T12:03:23.857219Z",
     "start_time": "2020-09-27T12:03:23.827043Z"
    }
   },
   "outputs": [
    {
     "name": "stdout",
     "output_type": "stream",
     "text": [
      "<class 'pandas.core.frame.DataFrame'>\n",
      "DatetimeIndex: 38300 entries, 2019-01-01 06:00:00 to 2019-12-31 23:40:00\n",
      "Data columns (total 14 columns):\n",
      " #   Column  Non-Null Count  Dtype  \n",
      "---  ------  --------------  -----  \n",
      " 0   노출(분)   38300 non-null  float64\n",
      " 1   마더코드    38300 non-null  int64  \n",
      " 2   상품코드    38300 non-null  int64  \n",
      " 3   상품명     38300 non-null  object \n",
      " 4   상품군     38300 non-null  object \n",
      " 5   판매단가    38300 non-null  int64  \n",
      " 6   취급액     38300 non-null  float64\n",
      " 7   연       38300 non-null  int64  \n",
      " 8   월       38300 non-null  int64  \n",
      " 9   주       38300 non-null  int64  \n",
      " 10  일       38300 non-null  int64  \n",
      " 11  시       38300 non-null  int64  \n",
      " 12  분       38300 non-null  int64  \n",
      " 13  요일      38300 non-null  object \n",
      "dtypes: float64(2), int64(9), object(3)\n",
      "memory usage: 4.4+ MB\n"
     ]
    }
   ],
   "source": [
    "data['train'].info()"
   ]
  },
  {
   "cell_type": "code",
   "execution_count": 43,
   "metadata": {
    "ExecuteTime": {
     "end_time": "2020-09-27T12:03:23.872052Z",
     "start_time": "2020-09-27T12:03:23.859049Z"
    }
   },
   "outputs": [
    {
     "name": "stdout",
     "output_type": "stream",
     "text": [
      "<class 'pandas.core.frame.DataFrame'>\n",
      "DatetimeIndex: 2891 entries, 2020-06-01 06:20:00 to 2020-07-01 01:40:00\n",
      "Data columns (total 14 columns):\n",
      " #   Column  Non-Null Count  Dtype  \n",
      "---  ------  --------------  -----  \n",
      " 0   노출(분)   2891 non-null   float64\n",
      " 1   마더코드    2891 non-null   int64  \n",
      " 2   상품코드    2891 non-null   int64  \n",
      " 3   상품명     2891 non-null   object \n",
      " 4   상품군     2891 non-null   object \n",
      " 5   판매단가    2891 non-null   int64  \n",
      " 6   취급액     0 non-null      float64\n",
      " 7   연       2891 non-null   int64  \n",
      " 8   월       2891 non-null   int64  \n",
      " 9   주       2891 non-null   int64  \n",
      " 10  일       2891 non-null   int64  \n",
      " 11  시       2891 non-null   int64  \n",
      " 12  분       2891 non-null   int64  \n",
      " 13  요일      2891 non-null   object \n",
      "dtypes: float64(2), int64(9), object(3)\n",
      "memory usage: 338.8+ KB\n"
     ]
    }
   ],
   "source": [
    "data['test'].info()"
   ]
  },
  {
   "cell_type": "markdown",
   "metadata": {},
   "source": [
    "### 데이터 기초 통계량"
   ]
  },
  {
   "cell_type": "code",
   "execution_count": 44,
   "metadata": {
    "ExecuteTime": {
     "end_time": "2020-09-27T12:03:24.110106Z",
     "start_time": "2020-09-27T12:03:23.874056Z"
    }
   },
   "outputs": [
    {
     "data": {
      "text/html": [
       "<div>\n",
       "<style scoped>\n",
       "    .dataframe tbody tr th:only-of-type {\n",
       "        vertical-align: middle;\n",
       "    }\n",
       "\n",
       "    .dataframe tbody tr th {\n",
       "        vertical-align: top;\n",
       "    }\n",
       "\n",
       "    .dataframe thead th {\n",
       "        text-align: right;\n",
       "    }\n",
       "</style>\n",
       "<table border=\"1\" class=\"dataframe\">\n",
       "  <thead>\n",
       "    <tr style=\"text-align: right;\">\n",
       "      <th></th>\n",
       "      <th>노출(분)</th>\n",
       "      <th>마더코드</th>\n",
       "      <th>상품코드</th>\n",
       "      <th>판매단가</th>\n",
       "      <th>취급액</th>\n",
       "      <th>연</th>\n",
       "      <th>월</th>\n",
       "      <th>주</th>\n",
       "      <th>일</th>\n",
       "      <th>시</th>\n",
       "      <th>분</th>\n",
       "    </tr>\n",
       "  </thead>\n",
       "  <tbody>\n",
       "    <tr>\n",
       "      <th>count</th>\n",
       "      <td>38300.0000</td>\n",
       "      <td>38300.0000</td>\n",
       "      <td>38300.0000</td>\n",
       "      <td>38300.0000</td>\n",
       "      <td>38300.0000</td>\n",
       "      <td>38300.0000</td>\n",
       "      <td>38300.0000</td>\n",
       "      <td>38300.0000</td>\n",
       "      <td>38300.0000</td>\n",
       "      <td>38300.0000</td>\n",
       "      <td>38300.0000</td>\n",
       "    </tr>\n",
       "    <tr>\n",
       "      <th>mean</th>\n",
       "      <td>20.4451</td>\n",
       "      <td>100390.9859</td>\n",
       "      <td>201219.9726</td>\n",
       "      <td>456644.0078</td>\n",
       "      <td>23116300.6789</td>\n",
       "      <td>2019.0000</td>\n",
       "      <td>6.5153</td>\n",
       "      <td>26.3793</td>\n",
       "      <td>15.4037</td>\n",
       "      <td>14.2717</td>\n",
       "      <td>20.0796</td>\n",
       "    </tr>\n",
       "    <tr>\n",
       "      <th>std</th>\n",
       "      <td>3.4164</td>\n",
       "      <td>249.9397</td>\n",
       "      <td>735.7036</td>\n",
       "      <td>726115.8633</td>\n",
       "      <td>20747022.7854</td>\n",
       "      <td>0.0000</td>\n",
       "      <td>3.3790</td>\n",
       "      <td>14.7418</td>\n",
       "      <td>8.7103</td>\n",
       "      <td>6.6986</td>\n",
       "      <td>16.4020</td>\n",
       "    </tr>\n",
       "    <tr>\n",
       "      <th>min</th>\n",
       "      <td>2.4667</td>\n",
       "      <td>100000.0000</td>\n",
       "      <td>200000.0000</td>\n",
       "      <td>0.0000</td>\n",
       "      <td>103000.0000</td>\n",
       "      <td>2019.0000</td>\n",
       "      <td>1.0000</td>\n",
       "      <td>1.0000</td>\n",
       "      <td>1.0000</td>\n",
       "      <td>0.0000</td>\n",
       "      <td>0.0000</td>\n",
       "    </tr>\n",
       "    <tr>\n",
       "      <th>25%</th>\n",
       "      <td>20.0000</td>\n",
       "      <td>100155.0000</td>\n",
       "      <td>200550.0000</td>\n",
       "      <td>59000.0000</td>\n",
       "      <td>7712000.0000</td>\n",
       "      <td>2019.0000</td>\n",
       "      <td>4.0000</td>\n",
       "      <td>14.0000</td>\n",
       "      <td>8.0000</td>\n",
       "      <td>10.0000</td>\n",
       "      <td>0.0000</td>\n",
       "    </tr>\n",
       "    <tr>\n",
       "      <th>50%</th>\n",
       "      <td>20.0000</td>\n",
       "      <td>100346.0000</td>\n",
       "      <td>201167.0000</td>\n",
       "      <td>109000.0000</td>\n",
       "      <td>16961000.0000</td>\n",
       "      <td>2019.0000</td>\n",
       "      <td>6.0000</td>\n",
       "      <td>26.0000</td>\n",
       "      <td>15.0000</td>\n",
       "      <td>15.0000</td>\n",
       "      <td>20.0000</td>\n",
       "    </tr>\n",
       "    <tr>\n",
       "      <th>75%</th>\n",
       "      <td>20.0000</td>\n",
       "      <td>100596.0000</td>\n",
       "      <td>201863.0000</td>\n",
       "      <td>499000.0000</td>\n",
       "      <td>32718250.0000</td>\n",
       "      <td>2019.0000</td>\n",
       "      <td>9.0000</td>\n",
       "      <td>39.0000</td>\n",
       "      <td>23.0000</td>\n",
       "      <td>21.0000</td>\n",
       "      <td>40.0000</td>\n",
       "    </tr>\n",
       "    <tr>\n",
       "      <th>max</th>\n",
       "      <td>60.0000</td>\n",
       "      <td>100849.0000</td>\n",
       "      <td>202513.0000</td>\n",
       "      <td>7930000.0000</td>\n",
       "      <td>322009000.0000</td>\n",
       "      <td>2019.0000</td>\n",
       "      <td>12.0000</td>\n",
       "      <td>52.0000</td>\n",
       "      <td>31.0000</td>\n",
       "      <td>23.0000</td>\n",
       "      <td>50.0000</td>\n",
       "    </tr>\n",
       "  </tbody>\n",
       "</table>\n",
       "</div>"
      ],
      "text/plain": [
       "           노출(분)        마더코드        상품코드         판매단가            취급액  \\\n",
       "count 38300.0000  38300.0000  38300.0000   38300.0000     38300.0000   \n",
       "mean     20.4451 100390.9859 201219.9726  456644.0078  23116300.6789   \n",
       "std       3.4164    249.9397    735.7036  726115.8633  20747022.7854   \n",
       "min       2.4667 100000.0000 200000.0000       0.0000    103000.0000   \n",
       "25%      20.0000 100155.0000 200550.0000   59000.0000   7712000.0000   \n",
       "50%      20.0000 100346.0000 201167.0000  109000.0000  16961000.0000   \n",
       "75%      20.0000 100596.0000 201863.0000  499000.0000  32718250.0000   \n",
       "max      60.0000 100849.0000 202513.0000 7930000.0000 322009000.0000   \n",
       "\n",
       "               연          월          주          일          시          분  \n",
       "count 38300.0000 38300.0000 38300.0000 38300.0000 38300.0000 38300.0000  \n",
       "mean   2019.0000     6.5153    26.3793    15.4037    14.2717    20.0796  \n",
       "std       0.0000     3.3790    14.7418     8.7103     6.6986    16.4020  \n",
       "min    2019.0000     1.0000     1.0000     1.0000     0.0000     0.0000  \n",
       "25%    2019.0000     4.0000    14.0000     8.0000    10.0000     0.0000  \n",
       "50%    2019.0000     6.0000    26.0000    15.0000    15.0000    20.0000  \n",
       "75%    2019.0000     9.0000    39.0000    23.0000    21.0000    40.0000  \n",
       "max    2019.0000    12.0000    52.0000    31.0000    23.0000    50.0000  "
      ]
     },
     "execution_count": 44,
     "metadata": {},
     "output_type": "execute_result"
    }
   ],
   "source": [
    "data['train'].describe()"
   ]
  },
  {
   "cell_type": "code",
   "execution_count": 45,
   "metadata": {
    "ExecuteTime": {
     "end_time": "2020-09-27T12:03:24.158118Z",
     "start_time": "2020-09-27T12:03:24.112107Z"
    }
   },
   "outputs": [
    {
     "data": {
      "text/html": [
       "<div>\n",
       "<style scoped>\n",
       "    .dataframe tbody tr th:only-of-type {\n",
       "        vertical-align: middle;\n",
       "    }\n",
       "\n",
       "    .dataframe tbody tr th {\n",
       "        vertical-align: top;\n",
       "    }\n",
       "\n",
       "    .dataframe thead th {\n",
       "        text-align: right;\n",
       "    }\n",
       "</style>\n",
       "<table border=\"1\" class=\"dataframe\">\n",
       "  <thead>\n",
       "    <tr style=\"text-align: right;\">\n",
       "      <th></th>\n",
       "      <th>노출(분)</th>\n",
       "      <th>마더코드</th>\n",
       "      <th>상품코드</th>\n",
       "      <th>판매단가</th>\n",
       "      <th>취급액</th>\n",
       "      <th>연</th>\n",
       "      <th>월</th>\n",
       "      <th>주</th>\n",
       "      <th>일</th>\n",
       "      <th>시</th>\n",
       "      <th>분</th>\n",
       "    </tr>\n",
       "  </thead>\n",
       "  <tbody>\n",
       "    <tr>\n",
       "      <th>count</th>\n",
       "      <td>2891.0000</td>\n",
       "      <td>2891.0000</td>\n",
       "      <td>2891.0000</td>\n",
       "      <td>2891.0000</td>\n",
       "      <td>0.0000</td>\n",
       "      <td>2891.0000</td>\n",
       "      <td>2891.0000</td>\n",
       "      <td>2891.0000</td>\n",
       "      <td>2891.0000</td>\n",
       "      <td>2891.0000</td>\n",
       "      <td>2891.0000</td>\n",
       "    </tr>\n",
       "    <tr>\n",
       "      <th>mean</th>\n",
       "      <td>20.1797</td>\n",
       "      <td>100388.8212</td>\n",
       "      <td>201200.4618</td>\n",
       "      <td>401441.7848</td>\n",
       "      <td>nan</td>\n",
       "      <td>2020.0000</td>\n",
       "      <td>6.0038</td>\n",
       "      <td>24.5922</td>\n",
       "      <td>15.1013</td>\n",
       "      <td>13.8250</td>\n",
       "      <td>21.1138</td>\n",
       "    </tr>\n",
       "    <tr>\n",
       "      <th>std</th>\n",
       "      <td>4.4062</td>\n",
       "      <td>256.7364</td>\n",
       "      <td>775.0423</td>\n",
       "      <td>604648.0012</td>\n",
       "      <td>nan</td>\n",
       "      <td>0.0000</td>\n",
       "      <td>0.0616</td>\n",
       "      <td>1.2381</td>\n",
       "      <td>8.4976</td>\n",
       "      <td>6.4316</td>\n",
       "      <td>16.6093</td>\n",
       "    </tr>\n",
       "    <tr>\n",
       "      <th>min</th>\n",
       "      <td>5.9500</td>\n",
       "      <td>100003.0000</td>\n",
       "      <td>200003.0000</td>\n",
       "      <td>0.0000</td>\n",
       "      <td>nan</td>\n",
       "      <td>2020.0000</td>\n",
       "      <td>6.0000</td>\n",
       "      <td>23.0000</td>\n",
       "      <td>1.0000</td>\n",
       "      <td>0.0000</td>\n",
       "      <td>0.0000</td>\n",
       "    </tr>\n",
       "    <tr>\n",
       "      <th>25%</th>\n",
       "      <td>20.0000</td>\n",
       "      <td>100148.0000</td>\n",
       "      <td>200417.0000</td>\n",
       "      <td>40900.0000</td>\n",
       "      <td>nan</td>\n",
       "      <td>2020.0000</td>\n",
       "      <td>6.0000</td>\n",
       "      <td>24.0000</td>\n",
       "      <td>7.5000</td>\n",
       "      <td>10.0000</td>\n",
       "      <td>0.0000</td>\n",
       "    </tr>\n",
       "    <tr>\n",
       "      <th>50%</th>\n",
       "      <td>20.0000</td>\n",
       "      <td>100388.0000</td>\n",
       "      <td>201277.0000</td>\n",
       "      <td>79900.0000</td>\n",
       "      <td>nan</td>\n",
       "      <td>2020.0000</td>\n",
       "      <td>6.0000</td>\n",
       "      <td>25.0000</td>\n",
       "      <td>14.0000</td>\n",
       "      <td>14.0000</td>\n",
       "      <td>20.0000</td>\n",
       "    </tr>\n",
       "    <tr>\n",
       "      <th>75%</th>\n",
       "      <td>20.0000</td>\n",
       "      <td>100593.0000</td>\n",
       "      <td>201818.0000</td>\n",
       "      <td>548000.0000</td>\n",
       "      <td>nan</td>\n",
       "      <td>2020.0000</td>\n",
       "      <td>6.0000</td>\n",
       "      <td>26.0000</td>\n",
       "      <td>22.0000</td>\n",
       "      <td>20.0000</td>\n",
       "      <td>40.0000</td>\n",
       "    </tr>\n",
       "    <tr>\n",
       "      <th>max</th>\n",
       "      <td>60.0000</td>\n",
       "      <td>100849.0000</td>\n",
       "      <td>202511.0000</td>\n",
       "      <td>4320000.0000</td>\n",
       "      <td>nan</td>\n",
       "      <td>2020.0000</td>\n",
       "      <td>7.0000</td>\n",
       "      <td>27.0000</td>\n",
       "      <td>30.0000</td>\n",
       "      <td>23.0000</td>\n",
       "      <td>50.0000</td>\n",
       "    </tr>\n",
       "  </tbody>\n",
       "</table>\n",
       "</div>"
      ],
      "text/plain": [
       "          노출(분)        마더코드        상품코드         판매단가    취급액         연  \\\n",
       "count 2891.0000   2891.0000   2891.0000    2891.0000 0.0000 2891.0000   \n",
       "mean    20.1797 100388.8212 201200.4618  401441.7848    nan 2020.0000   \n",
       "std      4.4062    256.7364    775.0423  604648.0012    nan    0.0000   \n",
       "min      5.9500 100003.0000 200003.0000       0.0000    nan 2020.0000   \n",
       "25%     20.0000 100148.0000 200417.0000   40900.0000    nan 2020.0000   \n",
       "50%     20.0000 100388.0000 201277.0000   79900.0000    nan 2020.0000   \n",
       "75%     20.0000 100593.0000 201818.0000  548000.0000    nan 2020.0000   \n",
       "max     60.0000 100849.0000 202511.0000 4320000.0000    nan 2020.0000   \n",
       "\n",
       "              월         주         일         시         분  \n",
       "count 2891.0000 2891.0000 2891.0000 2891.0000 2891.0000  \n",
       "mean     6.0038   24.5922   15.1013   13.8250   21.1138  \n",
       "std      0.0616    1.2381    8.4976    6.4316   16.6093  \n",
       "min      6.0000   23.0000    1.0000    0.0000    0.0000  \n",
       "25%      6.0000   24.0000    7.5000   10.0000    0.0000  \n",
       "50%      6.0000   25.0000   14.0000   14.0000   20.0000  \n",
       "75%      6.0000   26.0000   22.0000   20.0000   40.0000  \n",
       "max      7.0000   27.0000   30.0000   23.0000   50.0000  "
      ]
     },
     "execution_count": 45,
     "metadata": {},
     "output_type": "execute_result"
    }
   ],
   "source": [
    "data['test'].describe()"
   ]
  },
  {
   "cell_type": "markdown",
   "metadata": {},
   "source": [
    "### 상품코드\n",
    "상품을 나타내는 key값으로 유추할 수 있음.\n",
    "<br> 상품코드: 마더코드 + 가격"
   ]
  },
  {
   "cell_type": "code",
   "execution_count": 46,
   "metadata": {
    "ExecuteTime": {
     "end_time": "2020-09-27T12:03:24.174121Z",
     "start_time": "2020-09-27T12:03:24.160118Z"
    }
   },
   "outputs": [
    {
     "data": {
      "text/plain": [
       "array([201072, 201079, 200974, ..., 201819, 201821, 201823], dtype=int64)"
      ]
     },
     "execution_count": 46,
     "metadata": {},
     "output_type": "execute_result"
    }
   ],
   "source": [
    "data['train']['상품코드'].unique()"
   ]
  },
  {
   "cell_type": "code",
   "execution_count": 47,
   "metadata": {
    "ExecuteTime": {
     "end_time": "2020-09-27T12:03:24.190124Z",
     "start_time": "2020-09-27T12:03:24.177121Z"
    },
    "scrolled": true
   },
   "outputs": [
    {
     "data": {
      "text/plain": [
       "array([201971, 202278, 201247, 201956, 201091, 200016, 200217, 201673,\n",
       "       201671, 201641, 201150, 201616, 201251, 201250, 200424, 201319,\n",
       "       201520, 200416, 200419, 200422, 200724, 200727, 200730, 201016,\n",
       "       201017, 201643, 201596, 200668, 200867, 200876, 201130, 202125,\n",
       "       202296, 201454, 202460, 202459, 200651, 202508, 200588, 201024,\n",
       "       200184, 200186, 200179, 200181, 201277, 201279, 201276, 201258,\n",
       "       201259, 201501, 200556, 200489, 201699, 201752, 201698, 201751,\n",
       "       201697, 201750, 201041, 200273, 200272, 200274, 202052, 201418,\n",
       "       201037, 200917, 200266, 200270, 200900, 202368, 200368, 200369,\n",
       "       201464, 202259, 201938, 201578, 201656, 202430, 201033, 200020,\n",
       "       202484, 201011, 200143, 201969, 201968, 201039, 200621, 202252,\n",
       "       201632, 201337, 201336, 201334, 201335, 200291, 200289, 200292,\n",
       "       200290, 201813, 201817, 201811, 201815, 201923, 200317, 200316,\n",
       "       201253, 201252, 202364, 201882, 201042, 200194, 200873, 201036,\n",
       "       200212, 201341, 202247, 202246, 200300, 202239, 200966, 201595,\n",
       "       202226, 202224, 201808, 201957, 201316, 201294, 202128, 202129,\n",
       "       200092, 200079, 200083, 200099, 200067, 200064, 200060, 200059,\n",
       "       200723, 200726, 200729, 201814, 201818, 201812, 201816, 200421,\n",
       "       200418, 200415, 200486, 200553, 200188, 200187, 200063, 200058,\n",
       "       200096, 200071, 200066, 202053, 200426, 202241, 202244, 200705,\n",
       "       200689, 200709, 200693, 200713, 200697, 202123, 202120, 202121,\n",
       "       200072, 200074, 200195, 200863, 201331, 201333, 201332, 201943,\n",
       "       200994, 200995, 202426, 201447, 201676, 201728, 201810, 200005,\n",
       "       201410, 202042, 202040, 200565, 200380, 200378, 200379, 200381,\n",
       "       201954, 200615, 200613, 200614, 200612, 200147, 200564, 202258,\n",
       "       202275, 202371, 201588, 201148, 200425, 201966, 201965, 202391,\n",
       "       202396, 201657, 202428, 202427, 200304, 200006, 200007, 202506,\n",
       "       202507, 201338, 201269, 201271, 200124, 201953, 201732, 201680,\n",
       "       201731, 201679, 201730, 201678, 201729, 201677, 200484, 200551,\n",
       "       200012, 200193, 200221, 200222, 201283, 201273, 201274, 201275,\n",
       "       200331, 200295, 200293, 200296, 200294, 200370, 201574, 202240,\n",
       "       202243, 200198, 200940, 200941, 201593, 201592, 201594, 202387,\n",
       "       200358, 200357, 202257, 201634, 200420, 200417, 200414, 202363,\n",
       "       201145, 200722, 200725, 200728, 200183, 200185, 200178, 200180,\n",
       "       201809, 201591, 200704, 200688, 200708, 200692, 200712, 200696,\n",
       "       202149, 200057, 201990, 201629, 200280, 201636, 201970, 201139,\n",
       "       201311, 201286, 202212, 200150, 200149, 200323, 200321, 200322,\n",
       "       200324, 200251, 201242, 201952, 201988, 200968, 201344, 202359,\n",
       "       200326, 200328, 200325, 200327, 201121, 202071, 201385, 201386,\n",
       "       200021, 201120, 201119, 200044, 200045, 202186, 201950, 201989,\n",
       "       201577, 201342, 201153, 201154, 200999, 202034, 202037, 201637,\n",
       "       201465, 200997, 200182, 200177, 202225, 202223, 201726, 201727,\n",
       "       201725, 201724, 200010, 200011, 200654, 201996, 201995, 201994,\n",
       "       201993, 201992, 201991, 202148, 202213, 202041, 202039, 201964,\n",
       "       201782, 201783, 201784, 200216, 201463, 201626, 200146, 200214,\n",
       "       202511, 202018, 202017, 202486, 202485, 201979, 201976, 201639,\n",
       "       202166, 202084, 201617, 201151, 200582, 201456, 200004, 200003,\n",
       "       201623, 201014, 202242, 202245, 201572, 201613, 201614, 201951,\n",
       "       201949, 201948, 202425, 202424, 202423, 201147, 200192, 202124,\n",
       "       202122, 201324, 201672, 201354, 200297, 200299, 200743, 201025,\n",
       "       201618, 200617, 200616, 201658, 200015, 201627, 201458, 202323,\n",
       "       202321, 202322, 202318, 202319, 202320, 200862, 200019, 200022,\n",
       "       200875], dtype=int64)"
      ]
     },
     "execution_count": 47,
     "metadata": {},
     "output_type": "execute_result"
    }
   ],
   "source": [
    "data['test']['상품코드'].unique()"
   ]
  },
  {
   "cell_type": "code",
   "execution_count": 48,
   "metadata": {
    "ExecuteTime": {
     "end_time": "2020-09-27T12:03:24.206128Z",
     "start_time": "2020-09-27T12:03:24.192125Z"
    }
   },
   "outputs": [
    {
     "data": {
      "text/plain": [
       "200864    318\n",
       "200868    282\n",
       "200465    273\n",
       "200533    273\n",
       "200014    252\n",
       "         ... \n",
       "202334      2\n",
       "201358      2\n",
       "200046      2\n",
       "201586      2\n",
       "201462      1\n",
       "Name: 상품코드, Length: 2122, dtype: int64"
      ]
     },
     "execution_count": 48,
     "metadata": {},
     "output_type": "execute_result"
    }
   ],
   "source": [
    "data['train']['상품코드'].value_counts()"
   ]
  },
  {
   "cell_type": "code",
   "execution_count": 49,
   "metadata": {
    "ExecuteTime": {
     "end_time": "2020-09-27T12:03:24.222132Z",
     "start_time": "2020-09-27T12:03:24.209129Z"
    }
   },
   "outputs": [
    {
     "data": {
      "text/plain": [
       "202259    37\n",
       "202460    27\n",
       "200270    27\n",
       "200266    27\n",
       "202459    27\n",
       "          ..\n",
       "202320     2\n",
       "202322     2\n",
       "202257     2\n",
       "201025     2\n",
       "201463     1\n",
       "Name: 상품코드, Length: 417, dtype: int64"
      ]
     },
     "execution_count": 49,
     "metadata": {},
     "output_type": "execute_result"
    }
   ],
   "source": [
    "data['test']['상품코드'].value_counts()"
   ]
  },
  {
   "cell_type": "code",
   "execution_count": 50,
   "metadata": {
    "ExecuteTime": {
     "end_time": "2020-09-27T12:03:24.238144Z",
     "start_time": "2020-09-27T12:03:24.223132Z"
    }
   },
   "outputs": [
    {
     "data": {
      "text/plain": [
       "2122"
      ]
     },
     "execution_count": 50,
     "metadata": {},
     "output_type": "execute_result"
    }
   ],
   "source": [
    "len(data['train']['상품코드'].unique())"
   ]
  },
  {
   "cell_type": "code",
   "execution_count": 51,
   "metadata": {
    "ExecuteTime": {
     "end_time": "2020-09-27T12:03:24.254139Z",
     "start_time": "2020-09-27T12:03:24.240136Z"
    }
   },
   "outputs": [
    {
     "data": {
      "text/plain": [
       "417"
      ]
     },
     "execution_count": 51,
     "metadata": {},
     "output_type": "execute_result"
    }
   ],
   "source": [
    "len(data['test']['상품코드'].unique())"
   ]
  },
  {
   "cell_type": "code",
   "execution_count": null,
   "metadata": {
    "ExecuteTime": {
     "start_time": "2020-09-27T12:02:47.482Z"
    }
   },
   "outputs": [],
   "source": [
    "len(set(data['train']['상품코드']).intersection(set(data['test']['상품코드'])))  # 오직 27개의 상품코드만 겹침"
   ]
  },
  {
   "cell_type": "code",
   "execution_count": null,
   "metadata": {
    "ExecuteTime": {
     "start_time": "2020-09-27T12:02:47.489Z"
    }
   },
   "outputs": [],
   "source": [
    "data['train'][['상품코드','상품명','상품군']].drop_duplicates()"
   ]
  },
  {
   "cell_type": "code",
   "execution_count": null,
   "metadata": {
    "ExecuteTime": {
     "start_time": "2020-09-27T12:02:47.495Z"
    }
   },
   "outputs": [],
   "source": [
    "data['test'][['상품코드','상품명','상품군']].drop_duplicates()"
   ]
  },
  {
   "cell_type": "markdown",
   "metadata": {},
   "source": [
    "### 상품명"
   ]
  },
  {
   "cell_type": "code",
   "execution_count": null,
   "metadata": {
    "ExecuteTime": {
     "start_time": "2020-09-27T12:02:47.502Z"
    }
   },
   "outputs": [],
   "source": [
    "len(data['train']['상품명'].unique())"
   ]
  },
  {
   "cell_type": "code",
   "execution_count": null,
   "metadata": {
    "ExecuteTime": {
     "start_time": "2020-09-27T12:02:47.508Z"
    }
   },
   "outputs": [],
   "source": [
    "sorted(data['train']['상품명'].unique())[:10]"
   ]
  },
  {
   "cell_type": "code",
   "execution_count": null,
   "metadata": {
    "ExecuteTime": {
     "start_time": "2020-09-27T12:02:47.516Z"
    },
    "scrolled": true
   },
   "outputs": [],
   "source": [
    "sorted(data['test']['상품명'].unique())[:10]"
   ]
  },
  {
   "cell_type": "markdown",
   "metadata": {},
   "source": [
    "### 상품군\n",
    "상품의 대분류로써, 상품군 별로 통계값들을 살펴보아 전체적인 상품들의 특징들을 잡을 것이다."
   ]
  },
  {
   "cell_type": "markdown",
   "metadata": {},
   "source": [
    "#### 상품군 내 상품 비율"
   ]
  },
  {
   "cell_type": "code",
   "execution_count": null,
   "metadata": {
    "ExecuteTime": {
     "start_time": "2020-09-27T12:02:47.525Z"
    }
   },
   "outputs": [],
   "source": [
    "(data['train']['상품군'].value_counts().sort_index() / len(data['train']['상품군'])).plot(kind='barh')\n",
    "plt.show()"
   ]
  },
  {
   "cell_type": "code",
   "execution_count": null,
   "metadata": {
    "ExecuteTime": {
     "start_time": "2020-09-27T12:02:47.531Z"
    }
   },
   "outputs": [],
   "source": [
    "(data['test']['상품군'].value_counts().sort_index() / len(data['test']['상품군'])).plot(kind='barh')\n",
    "plt.show()"
   ]
  },
  {
   "cell_type": "markdown",
   "metadata": {},
   "source": [
    "#### 상품군 내 유일 상품 확인"
   ]
  },
  {
   "cell_type": "code",
   "execution_count": null,
   "metadata": {
    "ExecuteTime": {
     "start_time": "2020-09-27T12:02:47.538Z"
    }
   },
   "outputs": [],
   "source": [
    "sorted(data['train']['상품군'].unique())"
   ]
  },
  {
   "cell_type": "code",
   "execution_count": null,
   "metadata": {
    "ExecuteTime": {
     "start_time": "2020-09-27T12:02:47.544Z"
    }
   },
   "outputs": [],
   "source": [
    "sorted(data['test']['상품군'].unique())"
   ]
  },
  {
   "cell_type": "code",
   "execution_count": null,
   "metadata": {
    "ExecuteTime": {
     "start_time": "2020-09-27T12:02:47.549Z"
    }
   },
   "outputs": [],
   "source": [
    "prod_list = data['train'][['상품코드','상품명','상품군']].drop_duplicates()\n",
    "(prod_list['상품군'].value_counts() / len(prod_list)).plot(kind = 'bar', figsize=(14, 10))\n",
    "plt.show()"
   ]
  },
  {
   "cell_type": "markdown",
   "metadata": {},
   "source": [
    "#### *무형 상품군\n",
    "무형 상품군은 학습 데이터 내 판매단가가 없으므로, 학습 과정에서는 빠질 예정"
   ]
  },
  {
   "cell_type": "code",
   "execution_count": null,
   "metadata": {
    "ExecuteTime": {
     "start_time": "2020-09-27T12:02:47.556Z"
    }
   },
   "outputs": [],
   "source": [
    "data['train'][data['train']['상품군'] == '무형']"
   ]
  },
  {
   "cell_type": "code",
   "execution_count": null,
   "metadata": {
    "ExecuteTime": {
     "start_time": "2020-09-27T12:02:47.562Z"
    }
   },
   "outputs": [],
   "source": [
    "data['test'][data['test']['상품군'] == '무형']"
   ]
  },
  {
   "cell_type": "markdown",
   "metadata": {},
   "source": [
    "연도의 일관성 위해, 학습에서 2019년 데이터만 추출"
   ]
  },
  {
   "cell_type": "code",
   "execution_count": null,
   "metadata": {
    "ExecuteTime": {
     "start_time": "2020-09-27T12:02:47.568Z"
    }
   },
   "outputs": [],
   "source": [
    "quant_group = data['train']['2019'].groupby('상품군').sum()\n",
    "quant_group"
   ]
  },
  {
   "cell_type": "markdown",
   "metadata": {},
   "source": [
    "### 판매단가"
   ]
  },
  {
   "cell_type": "code",
   "execution_count": null,
   "metadata": {
    "ExecuteTime": {
     "start_time": "2020-09-27T12:02:47.575Z"
    }
   },
   "outputs": [],
   "source": [
    "data['train'][data['train']['판매단가'] >0]['판매단가'].unique().min()"
   ]
  },
  {
   "cell_type": "code",
   "execution_count": null,
   "metadata": {
    "ExecuteTime": {
     "start_time": "2020-09-27T12:02:47.581Z"
    }
   },
   "outputs": [],
   "source": [
    "data['test'][data['test']['판매단가'] >0]['판매단가'].unique().min()"
   ]
  },
  {
   "cell_type": "markdown",
   "metadata": {},
   "source": [
    "#### 상품명별 판매단가"
   ]
  },
  {
   "cell_type": "code",
   "execution_count": null,
   "metadata": {
    "ExecuteTime": {
     "start_time": "2020-09-27T12:02:47.587Z"
    }
   },
   "outputs": [],
   "source": [
    "prod_group = data['train']['2019'].groupby('상품명').mean()\n",
    "prod_group['판매단가'].sort_values(ascending=False)[:10].plot(kind='bar', figsize=(14, 10))\n",
    "plt.show()"
   ]
  },
  {
   "cell_type": "code",
   "execution_count": null,
   "metadata": {
    "ExecuteTime": {
     "start_time": "2020-09-27T12:02:47.593Z"
    }
   },
   "outputs": [],
   "source": [
    "plt.figure(figsize=(14,10))\n",
    "sns.boxplot(x = '상품군', y = '판매단가', data = data['train'])\n",
    "plt.show()"
   ]
  },
  {
   "cell_type": "code",
   "execution_count": null,
   "metadata": {
    "ExecuteTime": {
     "start_time": "2020-09-27T12:02:47.598Z"
    }
   },
   "outputs": [],
   "source": [
    "plt.figure(figsize=(14,10))\n",
    "sns.boxplot(x = '상품군', y = '판매단가', data = data['test'])\n",
    "plt.show()"
   ]
  },
  {
   "cell_type": "markdown",
   "metadata": {},
   "source": [
    "### 취급액\n",
    "Target 값인 취급액에서의 Trend를 확인해 볼수 있다."
   ]
  },
  {
   "cell_type": "code",
   "execution_count": null,
   "metadata": {
    "ExecuteTime": {
     "start_time": "2020-09-27T12:02:47.605Z"
    }
   },
   "outputs": [],
   "source": [
    "data['train'].pivot_table(values=['취급액'],\n",
    "                   index=['상품군'],\n",
    "                   aggfunc='sum').sort_values(by='취급액',ascending=False).plot(kind='barh', figsize=(14, 10))\n",
    "plt.show()"
   ]
  },
  {
   "cell_type": "code",
   "execution_count": null,
   "metadata": {
    "ExecuteTime": {
     "start_time": "2020-09-27T12:02:47.610Z"
    }
   },
   "outputs": [],
   "source": [
    "# TOP10만 확인\n",
    "data['train'].pivot_table(values=['취급액'],\n",
    "                          index=['상품명'],\n",
    "                          aggfunc='sum').sort_values(by='취급액',ascending=False)[:10].plot(kind='barh', figsize=(14, 10))\n",
    "plt.show()"
   ]
  },
  {
   "cell_type": "code",
   "execution_count": null,
   "metadata": {
    "ExecuteTime": {
     "start_time": "2020-09-27T12:02:47.616Z"
    }
   },
   "outputs": [],
   "source": [
    "data['train'][['상품코드','상품명','상품군']]['상품군'].value_counts().plot(kind = 'barh', figsize=(14, 10))\n",
    "plt.show()"
   ]
  },
  {
   "cell_type": "code",
   "execution_count": null,
   "metadata": {
    "ExecuteTime": {
     "start_time": "2020-09-27T12:02:47.622Z"
    }
   },
   "outputs": [],
   "source": [
    "data['test'][['상품코드','상품명','상품군']]['상품군'].value_counts().plot(kind = 'barh', figsize=(14, 10))\n",
    "plt.show()"
   ]
  },
  {
   "cell_type": "code",
   "execution_count": null,
   "metadata": {
    "ExecuteTime": {
     "start_time": "2020-09-27T12:02:47.628Z"
    }
   },
   "outputs": [],
   "source": [
    "np.nanmax(data['train']['취급액'].unique())"
   ]
  },
  {
   "cell_type": "code",
   "execution_count": null,
   "metadata": {
    "ExecuteTime": {
     "start_time": "2020-09-27T12:02:47.634Z"
    }
   },
   "outputs": [],
   "source": [
    "plt.figure(figsize=(14,10))\n",
    "sns.boxplot(x = '상품군', y = '취급액', data = data['train'])\n",
    "plt.show()"
   ]
  },
  {
   "cell_type": "code",
   "execution_count": null,
   "metadata": {
    "ExecuteTime": {
     "start_time": "2020-09-27T12:02:47.639Z"
    }
   },
   "outputs": [],
   "source": [
    "cat_outcome = data['train'][['상품군', '취급액']].groupby('상품군').mean()\n",
    "cat_outcome.sort_values(by=['취급액'], axis=0, ascending=False).plot(kind='bar', figsize=(14, 10))\n",
    "plt.show()"
   ]
  },
  {
   "cell_type": "markdown",
   "metadata": {},
   "source": [
    "### 상품군 별 노출(분)\n",
    "+ 노출시간은 20분 전후로 모든 상품군이 균등하게 분포해있다고 볼 수 있다.\n",
    "+ 총 노출시간은 방영 횟수와 연관이 되어있으므로, 이는 생략한다."
   ]
  },
  {
   "cell_type": "code",
   "execution_count": null,
   "metadata": {
    "ExecuteTime": {
     "start_time": "2020-09-27T12:02:47.646Z"
    }
   },
   "outputs": [],
   "source": [
    "cat_duration = data['train'][['상품군', '노출(분)']].groupby('상품군').mean()\n",
    "cat_duration.sort_values(by=['노출(분)'], axis=0, ascending=False).plot(kind='bar', figsize=(14, 10))\n",
    "plt.ylim(15,25)\n",
    "plt.show()"
   ]
  },
  {
   "cell_type": "markdown",
   "metadata": {},
   "source": [
    "### 시간대 별 상품 판매 Trend\n",
    "(위): 총 거래량, (아래): 평균 거래량"
   ]
  },
  {
   "cell_type": "markdown",
   "metadata": {},
   "source": [
    "#### 월별\n",
    "+ 연말(10, 11, 12월)에 판매량이 많은 것으로 보임"
   ]
  },
  {
   "cell_type": "code",
   "execution_count": null,
   "metadata": {
    "ExecuteTime": {
     "start_time": "2020-09-27T12:02:47.655Z"
    }
   },
   "outputs": [],
   "source": [
    "month_group = data['train']['2019'].groupby('월').sum()\n",
    "month_group['취급액'].plot(kind='bar', figsize=(14, 10))\n",
    "plt.axhline(y = np.mean(month_group.취급액), color = 'red', ls = '--')\n",
    "plt.ylim(month_group['취급액'].min()*0.9, month_group['취급액'].max()*1.1)\n",
    "plt.show()"
   ]
  },
  {
   "cell_type": "code",
   "execution_count": null,
   "metadata": {
    "ExecuteTime": {
     "start_time": "2020-09-27T12:02:47.661Z"
    }
   },
   "outputs": [],
   "source": [
    "month_group = data['train']['2019'].groupby('월').mean()\n",
    "month_group['취급액'].plot(kind='bar', figsize=(14, 10))\n",
    "plt.axhline(y = np.mean(month_group.취급액), color = 'red', ls = '--')\n",
    "plt.ylim(month_group['취급액'].min()*0.9, month_group['취급액'].max()*1.1)\n",
    "plt.show()"
   ]
  },
  {
   "cell_type": "markdown",
   "metadata": {},
   "source": [
    "#### 주별\n",
    "+ 월별을 세분화하여 확인 가능\n",
    "+ 월 결과 이외에도 6~7월(여름휴가기간), 9월(추석주간)에 소비가 많아진 것을 확인"
   ]
  },
  {
   "cell_type": "code",
   "execution_count": null,
   "metadata": {
    "ExecuteTime": {
     "start_time": "2020-09-27T12:02:47.668Z"
    }
   },
   "outputs": [],
   "source": [
    "week_group = data['train']['2019'].groupby('주').sum()\n",
    "week_group['취급액'].plot(kind='bar', figsize=(14, 10))\n",
    "plt.axhline(y = np.mean(week_group.취급액), color = 'red', ls = '--')\n",
    "plt.ylim(week_group['취급액'].min()*0.9, week_group['취급액'].max()*1.1)\n",
    "plt.show()"
   ]
  },
  {
   "cell_type": "code",
   "execution_count": null,
   "metadata": {
    "ExecuteTime": {
     "start_time": "2020-09-27T12:02:47.673Z"
    }
   },
   "outputs": [],
   "source": [
    "week_group = data['train']['2019'].groupby('주').mean()\n",
    "week_group['취급액'].plot(kind='bar', figsize=(14, 10))\n",
    "plt.axhline(y = np.mean(week_group.취급액), color = 'red', ls = '--')\n",
    "plt.ylim(week_group['취급액'].min()*0.9, week_group['취급액'].max()*1.1)\n",
    "plt.show()"
   ]
  },
  {
   "cell_type": "markdown",
   "metadata": {},
   "source": [
    "#### 일별\n",
    "+ 월급이 들어오는 날(25일) 이후로 소비가 많아지는 것을 확인할 수 있음\n",
    "+ 총 거래량에서 31일이 적은 이유는, 31일이 포함된 달이 6달밖에 없기 때문"
   ]
  },
  {
   "cell_type": "code",
   "execution_count": null,
   "metadata": {
    "ExecuteTime": {
     "start_time": "2020-09-27T12:02:47.680Z"
    }
   },
   "outputs": [],
   "source": [
    "day_group = data['train']['2019'].groupby('일').sum()\n",
    "day_group['취급액'].plot(kind='bar', figsize=(14, 10))\n",
    "plt.axhline(y = np.mean(day_group['취급액']), color = 'red', ls = '--')\n",
    "plt.ylim(day_group['취급액'].min()*0.9, day_group['취급액'].max()*1.1)\n",
    "plt.show()"
   ]
  },
  {
   "cell_type": "code",
   "execution_count": null,
   "metadata": {
    "ExecuteTime": {
     "start_time": "2020-09-27T12:02:47.686Z"
    }
   },
   "outputs": [],
   "source": [
    "day_group = data['train']['2019'].groupby('일').mean()\n",
    "day_group['취급액'].plot(kind='bar', figsize=(14, 10))\n",
    "plt.axhline(y = np.mean(day_group['취급액']), color = 'red', ls = '--')\n",
    "plt.ylim(day_group['취급액'].min()*0.9, day_group['취급액'].max()*1.1)\n",
    "plt.show()"
   ]
  },
  {
   "cell_type": "markdown",
   "metadata": {},
   "source": [
    "#### 시간별\n",
    "+ 평균적인 거래량은 16~18시(퇴근시간 가까이)대에 가장 많음\n",
    "+ 총 거래량은 20~23시(저녁시간)대에 가장 많음"
   ]
  },
  {
   "cell_type": "code",
   "execution_count": null,
   "metadata": {
    "ExecuteTime": {
     "start_time": "2020-09-27T12:02:47.692Z"
    },
    "scrolled": false
   },
   "outputs": [],
   "source": [
    "hour_group = data['train']['2019'].groupby('시').sum()\n",
    "hour_group['취급액'].plot(kind='bar', figsize=(14, 10))\n",
    "plt.axhline(y = np.mean(hour_group['취급액']), color = 'red', ls = '--')\n",
    "plt.ylim(hour_group['취급액'].min()*0.9, hour_group['취급액'].max()*1.1)\n",
    "plt.show()"
   ]
  },
  {
   "cell_type": "code",
   "execution_count": null,
   "metadata": {
    "ExecuteTime": {
     "start_time": "2020-09-27T12:02:47.698Z"
    }
   },
   "outputs": [],
   "source": [
    "hour_group = data['train']['2019'].groupby('시').mean()\n",
    "hour_group['취급액'].plot(kind='bar', figsize=(14, 10))\n",
    "plt.axhline(y = np.mean(hour_group['취급액']), color = 'red', ls = '--')\n",
    "plt.ylim(hour_group['취급액'].min()*0.9, hour_group['취급액'].max()*1.1)\n",
    "plt.show()"
   ]
  },
  {
   "cell_type": "markdown",
   "metadata": {},
   "source": [
    "#### 요일별\n",
    "+ 주말(토,일)에 거래량이 가장 많은 것을 확인할 수 있음"
   ]
  },
  {
   "cell_type": "code",
   "execution_count": null,
   "metadata": {
    "ExecuteTime": {
     "start_time": "2020-09-27T12:02:47.704Z"
    }
   },
   "outputs": [],
   "source": [
    "weekday_group = data['train']['2019'].groupby('요일').sum()\n",
    "weekday_group = weekday_group.T.loc['취급액',['Mon','Tue','Wed','Thu','Fri','Sat','Sun']]\n",
    "weekday_group.plot(kind='bar', figsize=(14, 10)) #0: Monday ~ 6: Sunday\n",
    "plt.axhline(y = np.mean(weekday_group), color = 'red', ls = '--')\n",
    "plt.ylim(weekday_group.min()*0.9, weekday_group.max()*1.1)\n",
    "plt.show()"
   ]
  },
  {
   "cell_type": "code",
   "execution_count": null,
   "metadata": {
    "ExecuteTime": {
     "start_time": "2020-09-27T12:02:47.710Z"
    }
   },
   "outputs": [],
   "source": [
    "weekday_group = data['train']['2019'].groupby('요일').mean()\n",
    "weekday_group = weekday_group.T.loc['취급액',['Mon','Tue','Wed','Thu','Fri','Sat','Sun']]\n",
    "weekday_group.plot(kind='bar', figsize=(14, 10)) #0: Monday ~ 6: Sunday\n",
    "plt.axhline(y = np.mean(weekday_group), color = 'red', ls = '--')\n",
    "plt.ylim(weekday_group.min()*0.9, weekday_group.max()*1.1)\n",
    "plt.show()"
   ]
  },
  {
   "cell_type": "markdown",
   "metadata": {},
   "source": [
    "### 시청률"
   ]
  },
  {
   "cell_type": "code",
   "execution_count": null,
   "metadata": {
    "ExecuteTime": {
     "start_time": "2020-09-27T12:02:47.717Z"
    }
   },
   "outputs": [],
   "source": [
    "data['rating'].head()"
   ]
  },
  {
   "cell_type": "code",
   "execution_count": null,
   "metadata": {
    "ExecuteTime": {
     "start_time": "2020-09-27T12:02:47.722Z"
    }
   },
   "outputs": [],
   "source": [
    "data['rating'].tail()"
   ]
  },
  {
   "cell_type": "markdown",
   "metadata": {},
   "source": [
    "### 일별 평균 시청률\n",
    "+ 하반기(7-12월)이 상반기(1-6월)에 비해 평균 시청률이 높음"
   ]
  },
  {
   "cell_type": "code",
   "execution_count": null,
   "metadata": {
    "ExecuteTime": {
     "start_time": "2020-09-27T12:02:47.729Z"
    }
   },
   "outputs": [],
   "source": [
    "plt.figure(figsize=(14,10))\n",
    "tv_day = data['rating'].iloc[-1,1:]   #일 평균 시청률, length: 365\n",
    "tv_day = tv_day*100\n",
    "tv_day.plot()             #하반기에 높은 시청률을 보임.\n",
    "plt.show()"
   ]
  },
  {
   "cell_type": "markdown",
   "metadata": {},
   "source": [
    "### 시간별 평균 시청률\n",
    "+ 특정 시간대에 시청률이 높음\n",
    " <br>1. 오전 시간(10-12시)\n",
    " <br>2. 낮시간(14-16시)\n",
    " <br>3. 저녁시간(23시)"
   ]
  },
  {
   "cell_type": "code",
   "execution_count": null,
   "metadata": {
    "ExecuteTime": {
     "start_time": "2020-09-27T12:02:47.735Z"
    }
   },
   "outputs": [],
   "source": [
    "tv_day.head()"
   ]
  },
  {
   "cell_type": "code",
   "execution_count": null,
   "metadata": {
    "ExecuteTime": {
     "start_time": "2020-09-27T12:02:47.741Z"
    }
   },
   "outputs": [],
   "source": [
    "plt.figure(figsize=(14,10))\n",
    "tv_min = data['rating'].iloc[:-1,-1]   #분당 시청률 02:00(0) ~ 01:59(1439), length: 1439\n",
    "tv_min = tv_min*100\n",
    "tv_min.plot()              #800(15시 경)에 시청률이 가장 높은 추이\n",
    "plt.show()"
   ]
  },
  {
   "cell_type": "code",
   "execution_count": null,
   "metadata": {
    "ExecuteTime": {
     "start_time": "2020-09-27T12:02:47.747Z"
    }
   },
   "outputs": [],
   "source": [
    "data['rating'].tail()"
   ]
  },
  {
   "cell_type": "code",
   "execution_count": null,
   "metadata": {
    "ExecuteTime": {
     "start_time": "2020-09-27T12:02:47.753Z"
    }
   },
   "outputs": [],
   "source": [
    "data['rating'].shape"
   ]
  },
  {
   "cell_type": "markdown",
   "metadata": {},
   "source": [
    "----\n",
    "\n",
    "## 특성 공학(Feature Engineering)"
   ]
  },
  {
   "cell_type": "markdown",
   "metadata": {},
   "source": [
    "### 임베딩 벡터 추가"
   ]
  },
  {
   "cell_type": "code",
   "execution_count": null,
   "metadata": {
    "ExecuteTime": {
     "start_time": "2020-09-27T12:02:47.760Z"
    }
   },
   "outputs": [],
   "source": [
    "columns = [f'embed_{i}' for i in range(10)]"
   ]
  },
  {
   "cell_type": "code",
   "execution_count": null,
   "metadata": {
    "ExecuteTime": {
     "start_time": "2020-09-27T12:02:47.766Z"
    }
   },
   "outputs": [],
   "source": [
    "_data_train = data['train'].loc[~(data['train']['상품군'].isin(['무형'])),:].copy()\n",
    "_data_test = data['test'].loc[~(data['test']['상품군'].isin(['무형'])),:].copy()"
   ]
  },
  {
   "cell_type": "code",
   "execution_count": null,
   "metadata": {
    "ExecuteTime": {
     "start_time": "2020-09-27T12:02:47.772Z"
    }
   },
   "outputs": [],
   "source": [
    "data['train'] = pd.concat([_data_train, \n",
    "                           pd.DataFrame(xys, index=_data_train.index, columns=columns),\n",
    "                           pd.DataFrame(processed_tokens, index=_data_train.index)],axis=1)\n",
    "data['train']"
   ]
  },
  {
   "cell_type": "code",
   "execution_count": null,
   "metadata": {
    "ExecuteTime": {
     "start_time": "2020-09-27T12:02:47.778Z"
    }
   },
   "outputs": [],
   "source": [
    "data['test'] = pd.concat([_data_test,\n",
    "                          pd.DataFrame(xys_test, index=_data_test.index, columns=columns),\n",
    "                         pd.DataFrame(processed_tokens_test, index=_data_test.index)],axis=1)\n",
    "data['test']"
   ]
  },
  {
   "cell_type": "markdown",
   "metadata": {},
   "source": [
    "### 피처 생성"
   ]
  },
  {
   "cell_type": "markdown",
   "metadata": {},
   "source": [
    "#### 네이버트랜드 결합 "
   ]
  },
  {
   "cell_type": "code",
   "execution_count": null,
   "metadata": {
    "ExecuteTime": {
     "start_time": "2020-09-27T12:02:47.785Z"
    }
   },
   "outputs": [],
   "source": [
    "trend_df"
   ]
  },
  {
   "cell_type": "code",
   "execution_count": null,
   "metadata": {
    "ExecuteTime": {
     "start_time": "2020-09-27T12:02:47.791Z"
    }
   },
   "outputs": [],
   "source": [
    "# min-max\n",
    "mn_scaler = MinMaxScaler()\n",
    "scaled_X = mn_scaler.fit_transform(trend_df.values)\n",
    "trend_df_final = pd.DataFrame(scaled_X,\n",
    "                              columns=trend_df.columns,\n",
    "                              index=trend_df.index)"
   ]
  },
  {
   "cell_type": "code",
   "execution_count": null,
   "metadata": {
    "ExecuteTime": {
     "start_time": "2020-09-27T12:02:47.797Z"
    }
   },
   "outputs": [],
   "source": [
    "# '미용'--> 이미용 '농수산물'--> 농수축 \n",
    "trend_df_final['침구'] = trend_df_final['가구']\n",
    "trend_df_final.columns = ['의류', '농수축', '속옷', '주방', '이미용', '가전', '생활용품', '건강기능', '잡화', '가구', '침구']"
   ]
  },
  {
   "cell_type": "code",
   "execution_count": null,
   "metadata": {
    "ExecuteTime": {
     "start_time": "2020-09-27T12:02:47.802Z"
    }
   },
   "outputs": [],
   "source": [
    "def get_trend(idx, cat):\n",
    "    return trend_df_final.loc[idx.strftime('%Y-%m-%d'), cat]"
   ]
  },
  {
   "cell_type": "code",
   "execution_count": null,
   "metadata": {
    "ExecuteTime": {
     "start_time": "2020-09-27T12:02:47.808Z"
    }
   },
   "outputs": [],
   "source": [
    "data['train']['네이버 트랜드'] = list(map(get_trend, data['train'].index, data['train'].상품군))\n",
    "data['test']['네이버 트랜드'] = list(map(get_trend, data['test'].index, data['test'].상품군))"
   ]
  },
  {
   "cell_type": "markdown",
   "metadata": {},
   "source": [
    "#### 상품별 방영 횟수\n",
    "주력상품 및 인기상품 등은 1회성이 아닌 여러번의 방영을 통해 수익을 극대화할 수 있음.\n",
    "<br>각 상품별 방영 횟수를 월, 주 단위로 알아봄."
   ]
  },
  {
   "cell_type": "markdown",
   "metadata": {},
   "source": [
    "##### 상품별 월 방영 횟수"
   ]
  },
  {
   "cell_type": "code",
   "execution_count": null,
   "metadata": {
    "ExecuteTime": {
     "start_time": "2020-09-27T12:02:47.815Z"
    }
   },
   "outputs": [],
   "source": [
    "def month_cnt(input_df, month):\n",
    "    #상품 확인\n",
    "    df = input_df[input_df.월 == month]\n",
    "    month_prod = df.drop_duplicates(['상품명','월','일','시'])\n",
    "    unq_cnt = np.zeros(len(month_prod))\n",
    "    for i in range(len(month_prod)):\n",
    "        prod_name = list(month_prod.상품명)[i]\n",
    "        cnt = list(month_prod[:i+1].상품명).count(prod_name)\n",
    "        unq_cnt[i] = cnt\n",
    "    month_prod = pd.concat([month_prod,pd.DataFrame(unq_cnt, columns = ['cnt'], index = month_prod.index)], axis = 1)\n",
    "    #식별자\n",
    "    month_prod['id'] = [str(month_prod.상품명[idx])+str(month_prod.월[idx])+str(month_prod.일[idx])+str(month_prod.시[idx]) for idx in range(len(month_prod))]        \n",
    "    \n",
    "    #Count List\n",
    "    month_cnt = []\n",
    "    for j in range(len(df)):\n",
    "        ID = str(list(df.상품명)[j])+str(list(df.월)[j])+str(list(df.일)[j])+str(list(df.시)[j])\n",
    "        month_cnt.append(month_prod[month_prod.id == ID].cnt.values[0])\n",
    "    \n",
    "    return month_cnt\n",
    "\n",
    "## Train\n",
    "month_train = []\n",
    "for i in range(1,13):\n",
    "    mon_cnt = month_cnt(data['train'], i)\n",
    "    month_train = month_train + mon_cnt\n",
    "\n",
    "## Test\n",
    "month_test = []\n",
    "for i in range(1,13):\n",
    "    mon_cnt = month_cnt(data['test'], i)\n",
    "    month_test = month_test + mon_cnt"
   ]
  },
  {
   "cell_type": "markdown",
   "metadata": {},
   "source": [
    "##### 상품별 주 방영 횟수"
   ]
  },
  {
   "cell_type": "code",
   "execution_count": null,
   "metadata": {
    "ExecuteTime": {
     "start_time": "2020-09-27T12:02:47.822Z"
    }
   },
   "outputs": [],
   "source": [
    "def week_cnt(input_df, week):\n",
    "    #상품 확인\n",
    "    df = input_df[input_df.주 == week]\n",
    "    week_prod = df.drop_duplicates(['상품명','주','일','시'])\n",
    "    unq_cnt = np.zeros(len(week_prod))\n",
    "    for i in range(len(week_prod)):\n",
    "        prod_name = list(week_prod.상품명)[i]\n",
    "        cnt = list(week_prod[:i+1].상품명).count(prod_name)\n",
    "        unq_cnt[i] = cnt\n",
    "    week_prod = pd.concat([week_prod,pd.DataFrame(unq_cnt, columns = ['cnt'], index = week_prod.index)], axis = 1)\n",
    "    #식별자\n",
    "    week_prod['id'] = [str(week_prod.상품명[idx])+str(week_prod.주[idx])+str(week_prod.일[idx])+str(week_prod.시[idx]) for idx in range(len(week_prod))]\n",
    "    \n",
    "    #Count List\n",
    "    week_cnt = []\n",
    "    for j in range(len(df)):\n",
    "        ID = str(list(df.상품명)[j])+str(list(df.주)[j])+str(list(df.일)[j])+str(list(df.시)[j])\n",
    "        week_cnt.append(week_prod[week_prod.id == ID].cnt.values[0])\n",
    "    \n",
    "    return week_cnt\n",
    "\n",
    "## Train \n",
    "week_train = []\n",
    "for i in range(1,53):\n",
    "    wk_cnt = week_cnt(data['train'], i)\n",
    "    week_train = week_train + wk_cnt\n",
    "\n",
    "## Test\n",
    "week_test = []\n",
    "for i in range(1,53):\n",
    "    wk_cnt = week_cnt(data['test'], i)\n",
    "    week_test = week_test + wk_cnt"
   ]
  },
  {
   "cell_type": "code",
   "execution_count": null,
   "metadata": {
    "ExecuteTime": {
     "start_time": "2020-09-27T12:02:47.828Z"
    }
   },
   "outputs": [],
   "source": [
    "data['train'] = pd.concat([data['train'],\n",
    "           pd.DataFrame(month_train, columns=['월간누적방영횟수'], index=data['train'].index),\n",
    "           pd.DataFrame(week_train, columns=['주간누적방영횟수'], index=data['train'].index)], axis=1)"
   ]
  },
  {
   "cell_type": "code",
   "execution_count": null,
   "metadata": {
    "ExecuteTime": {
     "start_time": "2020-09-27T12:02:47.834Z"
    }
   },
   "outputs": [],
   "source": [
    "data['test'] = pd.concat([data['test'],\n",
    "           pd.DataFrame(month_test, columns=['월간누적방영횟수'], index=data['test'].index),\n",
    "           pd.DataFrame(week_test, columns=['주간누적방영횟수'], index=data['test'].index)], axis=1)"
   ]
  },
  {
   "cell_type": "markdown",
   "metadata": {},
   "source": [
    "#### 방송 재핑시간\n",
    "\n",
    "<br> Btv: MBC(11) - NS홈쇼핑(14) - JTBC(15)\n",
    "<br> Olleh TV: MBC(11) - NS홈쇼핑(12) - JTBC(15)\n",
    "<br> U+ tv: MBC(11) - NS홈쇼핑(13) - JTBC(15)\n",
    "<br> NS 홈쇼핑이 MBC, JTBC 사이에 있음을 확인, 해당 채널의 주요 프로그램(예능, 드라마)이 끝나는 시간대에서 채널이 돌아가는 재핑타임(Zapping Time)을 Feature로 삼을 수 있음."
   ]
  },
  {
   "cell_type": "code",
   "execution_count": null,
   "metadata": {
    "ExecuteTime": {
     "start_time": "2020-09-27T12:02:47.840Z"
    }
   },
   "outputs": [],
   "source": [
    "###Importing TV Data\n",
    "#MBC\n",
    "MBC_time = pd.read_excel('./data/03_외부데이터/TV_Time.xlsx', sheet_name='MBC')\n",
    "MBC_time['Time'] = MBC_time['MBC']\n",
    "MBC_time = MBC_time.drop(['MBC'], axis=1).set_index('Time')\n",
    "\n",
    "#JTBC\n",
    "JTBC_time =pd.read_excel('./data/03_외부데이터/TV_Time.xlsx', sheet_name='JTBC')\n",
    "JTBC_time['Time'] = JTBC_time['JTBC']\n",
    "JTBC_time = JTBC_time.drop(['JTBC'], axis=1).set_index('Time')"
   ]
  },
  {
   "cell_type": "code",
   "execution_count": null,
   "metadata": {
    "ExecuteTime": {
     "start_time": "2020-09-27T12:02:47.846Z"
    }
   },
   "outputs": [],
   "source": [
    "MBC_time"
   ]
  },
  {
   "cell_type": "code",
   "execution_count": null,
   "metadata": {
    "ExecuteTime": {
     "start_time": "2020-09-27T12:02:47.851Z"
    }
   },
   "outputs": [],
   "source": [
    "JTBC_time"
   ]
  },
  {
   "cell_type": "code",
   "execution_count": null,
   "metadata": {
    "ExecuteTime": {
     "start_time": "2020-09-27T12:02:47.857Z"
    }
   },
   "outputs": [],
   "source": [
    "# TimeTable에서 Zapping Time 찾기\n",
    "def find_Zap(str):  #str: 'MBC' or 'JTBC'\n",
    "    global time_list\n",
    "    if str == 'MBC':\n",
    "        time_list = MBC_time\n",
    "    elif str == 'JTBC':\n",
    "        time_list = JTBC_time\n",
    "    else:\n",
    "        return pd.DataFrame()\n",
    "    \n",
    "    Zap_Time = []\n",
    "    Zap_Weekday = []\n",
    "    for j in tqdm_notebook(range(len(time_list.columns))):\n",
    "        for i in range(len(time_list)):\n",
    "            Target = time_list.iloc[i,j]\n",
    "            if (Target is not np.nan):\n",
    "                if (i != 0) & (i != len(time_list)-1):\n",
    "                    if (time_list.iloc[i-1,j] !=Target):\n",
    "                        Zap_Time.append(time_list.index[i])\n",
    "                        Zap_Weekday.append(time_list.columns[j])\n",
    "                    if (time_list.iloc[i+1,j] !=Target):\n",
    "                        Zap_Time.append(time_list.index[i])\n",
    "                        Zap_Weekday.append(time_list.columns[j])                    \n",
    "                elif i == 0:\n",
    "                    if (time_list.iloc[i+1,j] !=Target):\n",
    "                        Zap_Time.append(time_list.index[i])\n",
    "                        Zap_Weekday.append(time_list.columns[j])                    \n",
    "                elif i == len(time_list)-1:\n",
    "                    if j == 6:\n",
    "                        break\n",
    "                    if (time_list.iloc[0,j+1] !=Target):\n",
    "                        Zap_Time.append(time_list.index[i])\n",
    "                        Zap_Weekday.append(time_list.columns[j])\n",
    "    _Zap = pd.DataFrame({'weekday':Zap_Weekday, 'Time': Zap_Time})\n",
    "\n",
    "    _Zap['hour'] = _Zap.Time.map(lambda x: x.hour)\n",
    "    _Zap['minute'] = _Zap.Time.map(lambda x: x.minute)\n",
    "    return _Zap"
   ]
  },
  {
   "cell_type": "code",
   "execution_count": null,
   "metadata": {
    "ExecuteTime": {
     "start_time": "2020-09-27T12:02:47.863Z"
    }
   },
   "outputs": [],
   "source": [
    "# 식별식 만들기 (loop 방지)\n",
    "df_MBC = find_Zap('MBC')\n",
    "MBC_clf = []\n",
    "for i in tqdm_notebook(range(len(df_MBC))):\n",
    "    MBC_clf.append(df_MBC['weekday'][i] +\n",
    "                   str(df_MBC['hour'][i]) + str(df_MBC['minute'][i]))\n",
    "\n",
    "df_JTBC = find_Zap('JTBC')\n",
    "JTBC_clf = []\n",
    "for i in tqdm_notebook(range(len(df_JTBC))):\n",
    "    JTBC_clf.append(df_JTBC['weekday'][i] +\n",
    "                    str(df_JTBC['hour'][i]) + str(df_JTBC['minute'][i]))"
   ]
  },
  {
   "cell_type": "code",
   "execution_count": null,
   "metadata": {
    "ExecuteTime": {
     "start_time": "2020-09-27T12:02:47.868Z"
    }
   },
   "outputs": [],
   "source": [
    "def Insert_zapping(df):\n",
    "    MBC_zap_list = np.zeros(len(df))\n",
    "    JTBC_zap_list = np.zeros(len(df))\n",
    "    for i in tqdm_notebook(range(len(df))):\n",
    "        #MBC\n",
    "        Zap_encoding = df.iloc[i].요일 + str(df.iloc[i].시) + str(df.iloc[i].분)\n",
    "        if Zap_encoding in MBC_clf:\n",
    "            MBC_zap_list[i] = True\n",
    "        if Zap_encoding in JTBC_clf:\n",
    "            JTBC_zap_list[i] = True\n",
    "    df['MBC_Zapping'] = MBC_zap_list\n",
    "    df['JTBC_Zapping'] = JTBC_zap_list\n",
    "    return df"
   ]
  },
  {
   "cell_type": "markdown",
   "metadata": {},
   "source": [
    "#### 골든타임 피쳐 생성"
   ]
  },
  {
   "cell_type": "markdown",
   "metadata": {},
   "source": [
    "홈쇼핑에서 매출의 많은 비중을 차지하는 시청률이 높은 시간대를 황금시간대라 부르고 이 시간대에 방영된 상품인지 아닌지의 여부 또한 Feature로 추가한다."
   ]
  },
  {
   "cell_type": "code",
   "execution_count": null,
   "metadata": {
    "ExecuteTime": {
     "start_time": "2020-09-27T12:02:47.876Z"
    }
   },
   "outputs": [],
   "source": [
    "def prime_time(timestamp):\n",
    "    \n",
    "    weekdays = ['Mon', 'Tue', 'Wed', 'Thu', 'Fri']\n",
    "    \n",
    "    day = calendar.day_abbr[timestamp.weekday()]\n",
    "    time = int(f'{str(timestamp.hour).zfill(2)}{str(timestamp.minute).zfill(2)}')\n",
    "    \n",
    "    if day in weekdays:\n",
    "        return 1 if 2000 <= time <= 2400 else 0\n",
    "            \n",
    "    elif day == 'Sat':\n",
    "        return 1 if 1900 <= time <= 2330 else 0\n",
    "    \n",
    "    elif day == 'Sun':\n",
    "        return 1 if 1800 <= time <= 2330 else 0"
   ]
  },
  {
   "cell_type": "code",
   "execution_count": null,
   "metadata": {
    "ExecuteTime": {
     "start_time": "2020-09-27T12:02:47.882Z"
    }
   },
   "outputs": [],
   "source": [
    "data['train']['prime_time'] = data['train'].index.map(prime_time)"
   ]
  },
  {
   "cell_type": "code",
   "execution_count": null,
   "metadata": {
    "ExecuteTime": {
     "start_time": "2020-09-27T12:02:47.887Z"
    }
   },
   "outputs": [],
   "source": [
    "data['test']['prime_time'] = data['test'].index.map(prime_time)"
   ]
  },
  {
   "cell_type": "markdown",
   "metadata": {},
   "source": [
    "#### 토큰리스트 생성"
   ]
  },
  {
   "cell_type": "code",
   "execution_count": null,
   "metadata": {
    "ExecuteTime": {
     "start_time": "2020-09-27T12:02:47.894Z"
    }
   },
   "outputs": [],
   "source": [
    "#Tokenized Data\n",
    "def Making_token(raw_data, df_token):\n",
    "    #raw_data = pd.concat([raw_data, df_token],axis=1,ignore_index=True)\n",
    "    tot_token_list = []\n",
    "    for i in tqdm_notebook(range(len(raw_data))):\n",
    "        token = []\n",
    "        for colname in df_token.columns:\n",
    "            val = raw_data[colname].iloc[i]\n",
    "            if val is not None:\n",
    "                token.append(val)\n",
    "        tot_token_list.append(token)\n",
    "    raw_data['token_list'] = tot_token_list\n",
    "    return raw_data"
   ]
  },
  {
   "cell_type": "markdown",
   "metadata": {},
   "source": [
    "#### 성별 추가"
   ]
  },
  {
   "cell_type": "code",
   "execution_count": null,
   "metadata": {
    "ExecuteTime": {
     "start_time": "2020-09-27T12:02:47.901Z"
    },
    "scrolled": true
   },
   "outputs": [],
   "source": [
    "def Insert_sex_dummy(df_with_token):  #tokenized dummy\n",
    "    if 'token_list' not in df_with_token.columns:\n",
    "        print('토큰 리스트를 만들어오세요.')\n",
    "        return\n",
    "    sex_list = []\n",
    "    for i in tqdm_notebook(range(len(df_with_token))):\n",
    "        if ('남성' in df_with_token['token_list'].iloc[i]) or ('남성용' in df_with_token['token_list'].iloc[i]) or ('남자' in df_with_token['token_list'].iloc[i]):\n",
    "            sex_list.append('남성')\n",
    "        elif ('여성' in df_with_token['token_list'].iloc[i]) or ('여성용' in df_with_token['token_list'].iloc[i]) or ('여자' in df_with_token['token_list'].iloc[i]):\n",
    "            sex_list.append('여성')\n",
    "        else:\n",
    "            sex_list.append('무성')\n",
    "    sex_dummies = pd.get_dummies(sex_list)\n",
    "    sex_dummies = pd.DataFrame(sex_dummies[['남성','여성']].values, index=df_with_token.index, columns=['남성','여성'])\n",
    "    df_with_token = pd.concat([df_with_token, sex_dummies[['남성','여성']]],axis=1)\n",
    "    return df_with_token"
   ]
  },
  {
   "cell_type": "markdown",
   "metadata": {},
   "source": [
    "#### 무이자/일시불 여부 "
   ]
  },
  {
   "cell_type": "code",
   "execution_count": null,
   "metadata": {
    "ExecuteTime": {
     "start_time": "2020-09-27T12:02:47.908Z"
    }
   },
   "outputs": [],
   "source": [
    "def Insert_credit_dummy(df_with_token):\n",
    "    if 'token_list' not in df_with_token.columns:\n",
    "        print('토큰 리스트를 만들어오세요.')\n",
    "        return    \n",
    "    credit_list = []\n",
    "    for i in tqdm_notebook(range(len(df_with_token))):\n",
    "        if ('일시불' in df_with_token['token_list'].iloc[i]) or ('일' in df_with_token['token_list'].iloc[i]):        \n",
    "            credit_list.append('일시불')\n",
    "        elif ('무이자' in df_with_token['token_list'].iloc[i]) or ('무' in df_with_token['token_list'].iloc[i]):\n",
    "            credit_list.append('무이자')\n",
    "        else:\n",
    "            credit_list.append('없음')\n",
    "    credit_list = pd.get_dummies(credit_list)\n",
    "    credit_list = pd.DataFrame(credit_list[['일시불', '무이자']].values, index=df_with_token.index, columns=['일시불', '무이자'])\n",
    "    df_with_token = pd.concat([df_with_token,credit_list[['일시불','무이자']]],axis=1)\n",
    "    return df_with_token"
   ]
  },
  {
   "cell_type": "markdown",
   "metadata": {},
   "source": [
    "#### 휴일 여부 "
   ]
  },
  {
   "cell_type": "code",
   "execution_count": null,
   "metadata": {
    "ExecuteTime": {
     "start_time": "2020-09-27T12:02:47.915Z"
    }
   },
   "outputs": [],
   "source": [
    "def Insert_holiday_dummy(df, data='train'): \n",
    "    '''\n",
    "    data(str): 'train' or 'test'\n",
    "    '''\n",
    "    global holiday\n",
    "    \n",
    "    if data == 'train':\n",
    "        #2019.01.01 ~ 2020.01.01\n",
    "        holiday = ['1/1','2/4','2/5','2/6','3/1','5/6','6/6','8/15','9/12','9/13','10/3','10/9','12/25']\n",
    "    else:\n",
    "        #2020.06.01 ~ 2020.07.01\n",
    "        holiday = []\n",
    "    \n",
    "    holi_list = np.zeros(len(df))    \n",
    "    for i in tqdm_notebook(range(len(df))):\n",
    "        day = str(df.iloc[i].월)+'/'+str(df.iloc[i].일)\n",
    "        weekday = df.iloc[i].요일\n",
    "        if (weekday in ['Sat', 'Sun']) or (day in holiday):\n",
    "#            print('{} is holiday!'.format(day))\n",
    "            holi_list[i] = True\n",
    "        else:\n",
    "            holi_list[i] = False\n",
    "    df['휴일'] = holi_list\n",
    "    return df"
   ]
  },
  {
   "cell_type": "markdown",
   "metadata": {},
   "source": [
    "#### Total Preprocessing"
   ]
  },
  {
   "cell_type": "code",
   "execution_count": null,
   "metadata": {
    "ExecuteTime": {
     "start_time": "2020-09-27T12:02:47.923Z"
    }
   },
   "outputs": [],
   "source": [
    "_train = data['train'].copy()\n",
    "_test = data['test'].copy()"
   ]
  },
  {
   "cell_type": "code",
   "execution_count": null,
   "metadata": {
    "ExecuteTime": {
     "start_time": "2020-09-27T12:02:47.929Z"
    },
    "scrolled": true
   },
   "outputs": [],
   "source": [
    "_train"
   ]
  },
  {
   "cell_type": "code",
   "execution_count": null,
   "metadata": {
    "ExecuteTime": {
     "start_time": "2020-09-27T12:02:47.936Z"
    }
   },
   "outputs": [],
   "source": [
    "#Tokenize\n",
    "_train = Making_token(_train, pd.DataFrame(processed_tokens, index=_train.index))\n",
    "_test = Making_token(_test, pd.DataFrame(processed_tokens_test, index=_test.index))"
   ]
  },
  {
   "cell_type": "code",
   "execution_count": null,
   "metadata": {
    "ExecuteTime": {
     "start_time": "2020-09-27T12:02:47.942Z"
    }
   },
   "outputs": [],
   "source": [
    "#Gender dummy\n",
    "_train = Insert_sex_dummy(_train)\n",
    "_test = Insert_sex_dummy(_test)"
   ]
  },
  {
   "cell_type": "code",
   "execution_count": null,
   "metadata": {
    "ExecuteTime": {
     "start_time": "2020-09-27T12:02:47.948Z"
    }
   },
   "outputs": [],
   "source": [
    "#Credit dummy\n",
    "_train = Insert_credit_dummy(_train)\n",
    "_test = Insert_credit_dummy(_test)"
   ]
  },
  {
   "cell_type": "code",
   "execution_count": null,
   "metadata": {
    "ExecuteTime": {
     "start_time": "2020-09-27T12:02:47.954Z"
    }
   },
   "outputs": [],
   "source": [
    "#Holiday dummy\n",
    "_train = Insert_holiday_dummy(_train)\n",
    "_test = Insert_holiday_dummy(_test,'test')"
   ]
  },
  {
   "cell_type": "code",
   "execution_count": null,
   "metadata": {
    "ExecuteTime": {
     "start_time": "2020-09-27T12:02:47.960Z"
    }
   },
   "outputs": [],
   "source": [
    "#Zapping Time\n",
    "_train = Insert_zapping(_train)\n",
    "_test = Insert_zapping(_test)"
   ]
  },
  {
   "cell_type": "code",
   "execution_count": null,
   "metadata": {
    "ExecuteTime": {
     "start_time": "2020-09-27T12:02:47.966Z"
    }
   },
   "outputs": [],
   "source": [
    "data['train'] = _train\n",
    "data['test'] = _test"
   ]
  },
  {
   "cell_type": "markdown",
   "metadata": {},
   "source": [
    "### 상품군, 상품명 처리하기"
   ]
  },
  {
   "cell_type": "code",
   "execution_count": null,
   "metadata": {
    "ExecuteTime": {
     "start_time": "2020-09-27T12:02:47.973Z"
    }
   },
   "outputs": [],
   "source": [
    "le1 = LabelEncoder()\n",
    "le1.fit(pd.concat([data['train']['상품군'], data['test']['상품군']]))\n",
    "data['train']['상품군'] = le1.transform(data['train']['상품군'])\n",
    "data['test']['상품군'] = le1.transform(data['test']['상품군'])"
   ]
  },
  {
   "cell_type": "code",
   "execution_count": null,
   "metadata": {
    "ExecuteTime": {
     "start_time": "2020-09-27T12:02:47.979Z"
    }
   },
   "outputs": [],
   "source": [
    "# le2 = LabelEncoder()\n",
    "# le2.fit(pd.concat([data['train']['상품명'], data['test']['상품명']]))\n",
    "# data['train']['상품명'] = le2.transform(data['train']['상품명'])\n",
    "# data['test']['상품명'] = le2.transform(data['test']['상품명'])"
   ]
  },
  {
   "cell_type": "markdown",
   "metadata": {},
   "source": [
    "### 상품군 더미화"
   ]
  },
  {
   "cell_type": "code",
   "execution_count": null,
   "metadata": {
    "ExecuteTime": {
     "start_time": "2020-09-27T12:02:47.986Z"
    }
   },
   "outputs": [],
   "source": [
    "data['train'] = pd.concat([data['train'].drop('상품군',axis=1),\n",
    "                           pd.get_dummies(data['train']['상품군'], prefix='상품군')],\n",
    "                          axis=1)"
   ]
  },
  {
   "cell_type": "code",
   "execution_count": null,
   "metadata": {
    "ExecuteTime": {
     "start_time": "2020-09-27T12:02:47.992Z"
    }
   },
   "outputs": [],
   "source": [
    "data['test'] = pd.concat([data['test'].drop('상품군',axis=1),\n",
    "                           pd.get_dummies(data['test']['상품군'], prefix='상품군')],\n",
    "                          axis=1)"
   ]
  },
  {
   "cell_type": "markdown",
   "metadata": {},
   "source": [
    "### 요일 인코딩"
   ]
  },
  {
   "cell_type": "code",
   "execution_count": null,
   "metadata": {
    "ExecuteTime": {
     "start_time": "2020-09-27T12:02:47.998Z"
    }
   },
   "outputs": [],
   "source": [
    "data['train'] = pd.concat([data['train'].drop('요일',axis=1),\n",
    "                           pd.get_dummies(data['train']['요일'], prefix='요일')],\n",
    "                          axis=1)"
   ]
  },
  {
   "cell_type": "code",
   "execution_count": null,
   "metadata": {
    "ExecuteTime": {
     "start_time": "2020-09-27T12:02:48.004Z"
    }
   },
   "outputs": [],
   "source": [
    "data['test'] = pd.concat([data['test'].drop('요일',axis=1),\n",
    "                           pd.get_dummies(data['test']['요일'], prefix='요일')],\n",
    "                          axis=1)"
   ]
  },
  {
   "cell_type": "markdown",
   "metadata": {},
   "source": [
    "---\n",
    "\n",
    "## 피처 선택(Feature Selection)"
   ]
  },
  {
   "cell_type": "markdown",
   "metadata": {},
   "source": [
    "### 지금까지 생성된 피처 확인"
   ]
  },
  {
   "cell_type": "code",
   "execution_count": null,
   "metadata": {
    "ExecuteTime": {
     "start_time": "2020-09-27T12:02:48.013Z"
    }
   },
   "outputs": [],
   "source": [
    "data['train'].columns"
   ]
  },
  {
   "cell_type": "markdown",
   "metadata": {},
   "source": [
    "### 피처간의 상관계수 확인"
   ]
  },
  {
   "cell_type": "code",
   "execution_count": null,
   "metadata": {
    "ExecuteTime": {
     "start_time": "2020-09-27T12:02:48.020Z"
    }
   },
   "outputs": [],
   "source": [
    "plt.figure(figsize=(15,15))\n",
    "sns.heatmap(data['train'].corr(), cmap=plt.cm.rainbow)\n",
    "plt.show()"
   ]
  },
  {
   "cell_type": "code",
   "execution_count": null,
   "metadata": {
    "ExecuteTime": {
     "start_time": "2020-09-27T12:02:48.026Z"
    }
   },
   "outputs": [],
   "source": [
    "data['train'].info()"
   ]
  },
  {
   "cell_type": "code",
   "execution_count": null,
   "metadata": {
    "ExecuteTime": {
     "start_time": "2020-09-27T12:02:48.032Z"
    }
   },
   "outputs": [],
   "source": [
    "selected_features = ['노출(분)', '판매단가', '취급액',\n",
    "                     '월', '일', '시', '분', 'embed_0', 'embed_1', 'embed_2', 'embed_3',\n",
    "                     'embed_4', 'embed_5', 'embed_6', 'embed_7', 'embed_8', 'embed_9',\n",
    "                     '월간누적방영횟수', '주간누적방영횟수', 'prime_time', '네이버 트랜드',\n",
    "                     '남성', '여성', '일시불', '무이자', '휴일', 'MBC_Zapping', 'JTBC_Zapping',\n",
    "                     '상품군_0', '상품군_1', '상품군_2', '상품군_3', '상품군_4', '상품군_5',\n",
    "                     '상품군_6', '상품군_7', '상품군_8', '상품군_9', '상품군_10',\n",
    "                     '요일_Fri', '요일_Mon', '요일_Sat', '요일_Sun',\n",
    "                     '요일_Thu', '요일_Tue', '요일_Wed']"
   ]
  },
  {
   "cell_type": "code",
   "execution_count": null,
   "metadata": {
    "ExecuteTime": {
     "start_time": "2020-09-27T12:02:48.037Z"
    }
   },
   "outputs": [],
   "source": [
    "data['train'][selected_features]"
   ]
  },
  {
   "cell_type": "code",
   "execution_count": null,
   "metadata": {
    "ExecuteTime": {
     "start_time": "2020-09-27T12:02:48.043Z"
    }
   },
   "outputs": [],
   "source": [
    "data['test'][selected_features]"
   ]
  },
  {
   "cell_type": "code",
   "execution_count": null,
   "metadata": {
    "ExecuteTime": {
     "start_time": "2020-09-27T12:02:48.049Z"
    }
   },
   "outputs": [],
   "source": [
    "data['train'] = data['train'][selected_features].astype('float')\n",
    "data['test'] = data['test'][selected_features].astype('float')"
   ]
  },
  {
   "cell_type": "code",
   "execution_count": null,
   "metadata": {
    "ExecuteTime": {
     "start_time": "2020-09-27T12:02:48.055Z"
    }
   },
   "outputs": [],
   "source": [
    "data['train'].to_csv('train_preprocess.csv', index=False)\n",
    "data['test'].to_csv('test_preprocess.csv', index=False)"
   ]
  },
  {
   "cell_type": "markdown",
   "metadata": {},
   "source": [
    "---\n",
    "\n",
    "## 모델링(Modeling) 및 성능 평가(Testing)"
   ]
  },
  {
   "cell_type": "code",
   "execution_count": null,
   "metadata": {
    "ExecuteTime": {
     "start_time": "2020-09-27T12:02:48.062Z"
    }
   },
   "outputs": [],
   "source": [
    "data = {}\n",
    "data['train'] = pd.read_csv('./train_preprocess.csv')\n",
    "data['test'] = pd.read_csv('./test_preprocess.csv')"
   ]
  },
  {
   "cell_type": "markdown",
   "metadata": {},
   "source": [
    "### Mean Average Percentage Error(MAPE)\n",
    "\n",
    "The mean absolute percentage error (MAPE), also known as mean absolute percentage deviation (MAPD), is a measure of prediction accuracy of a forecasting method in statistics, for example in trend estimation, also used as a loss function for regression problems in machine learning. It usually expresses the accuracy as a ratio defined by the formula:\n",
    "\n",
    "$$ MAPE = \\frac{100}{n} \\sum_{t=1}^{n}{|\\frac{A_t - F_t}{A_t}|} $$\n",
    "\n",
    "출처: [위키백과](https://en.wikipedia.org/wiki/Mean_absolute_percentage_error)"
   ]
  },
  {
   "cell_type": "code",
   "execution_count": null,
   "metadata": {
    "ExecuteTime": {
     "start_time": "2020-09-27T12:02:48.070Z"
    }
   },
   "outputs": [],
   "source": [
    "# MAPE\n",
    "EPS = 1e-5\n",
    "def MAPE(y_true, y_pred): \n",
    "    y_true, y_pred = np.array(y_true), np.array(y_pred)\n",
    "    return np.mean(np.abs((y_true - y_pred) / (y_true + EPS)))"
   ]
  },
  {
   "cell_type": "markdown",
   "metadata": {},
   "source": [
    "### 학습 및 검증 데이터 분리하기"
   ]
  },
  {
   "cell_type": "code",
   "execution_count": null,
   "metadata": {
    "ExecuteTime": {
     "start_time": "2020-09-27T12:02:48.077Z"
    }
   },
   "outputs": [],
   "source": [
    "SCALED_UNIT = 10000000"
   ]
  },
  {
   "cell_type": "code",
   "execution_count": null,
   "metadata": {
    "ExecuteTime": {
     "start_time": "2020-09-27T12:02:48.083Z"
    }
   },
   "outputs": [],
   "source": [
    "X_train, X_valid, y_train, y_valid = train_test_split(data['train'].drop('취급액', axis=1),\n",
    "                                                      data['train']['취급액'] / SCALED_UNIT,\n",
    "                                                      shuffle=True,\n",
    "                                                      test_size=TEST_SIZE,\n",
    "                                                      random_state=RANDOM_STATE)"
   ]
  },
  {
   "cell_type": "code",
   "execution_count": null,
   "metadata": {
    "ExecuteTime": {
     "start_time": "2020-09-27T12:02:48.089Z"
    }
   },
   "outputs": [],
   "source": [
    "print(f'학습 데이터: {X_train.shape}')\n",
    "print(f'검증 데이터: {X_valid.shape}')"
   ]
  },
  {
   "cell_type": "markdown",
   "metadata": {},
   "source": [
    "### 머신러닝 모델 생성 및 성능 평가"
   ]
  },
  {
   "cell_type": "code",
   "execution_count": null,
   "metadata": {
    "ExecuteTime": {
     "start_time": "2020-09-27T12:02:48.097Z"
    }
   },
   "outputs": [],
   "source": [
    "ml_models = {}"
   ]
  },
  {
   "cell_type": "code",
   "execution_count": null,
   "metadata": {
    "ExecuteTime": {
     "start_time": "2020-09-27T12:02:48.104Z"
    }
   },
   "outputs": [],
   "source": [
    "ml_models['LinearRegression'] = LinearRegression()\n",
    "\n",
    "ml_models['DecisionTreeRegressor'] = DecisionTreeRegressor(max_depth=20,\n",
    "                                                           random_state=RANDOM_STATE)\n",
    "\n",
    "ml_models['RandomForestRegressor'] = RandomForestRegressor(n_estimators=1000,\n",
    "                                                           max_depth=20,\n",
    "                                                           random_state=RANDOM_STATE,\n",
    "                                                           n_jobs=-1)\n",
    "\n",
    "ml_models['XGBRegressor'] = XGBRegressor(n_estimators=1000,\n",
    "                                         max_depth=20,\n",
    "                                         learning_rate=0.001,\n",
    "                                         random_state=RANDOM_STATE,\n",
    "                                         n_jobs=-1)\n",
    "\n",
    "ml_models['LGBMRegressor'] = LGBMRegressor(n_estimators=1000,\n",
    "                                           max_depth=20,\n",
    "                                           learning_rate=0.001,\n",
    "                                           random_state=RANDOM_STATE,\n",
    "                                           n_jobs=-1,\n",
    "                                           boosting_type='gbdt',\n",
    "                                           num_leaves=31,\n",
    "                                           subsample_for_bin=200000,\n",
    "                                           objective=None,\n",
    "                                           class_weight=None,\n",
    "                                           min_split_gain=0.0,\n",
    "                                           min_child_weight=0.001,\n",
    "                                           min_child_samples=20,\n",
    "                                           subsample=1.0,\n",
    "                                           subsample_freq=0,\n",
    "                                           colsample_bytree=1.0,\n",
    "                                           reg_alpha=0.0,\n",
    "                                           reg_lambda=0.0)\n",
    "\n",
    "ml_models['KNeighborsRegressor'] = KNeighborsRegressor(n_neighbors=5,\n",
    "                                                       weights='uniform',\n",
    "                                                       algorithm='auto',\n",
    "                                                       leaf_size=30,\n",
    "                                                       p=2,\n",
    "                                                       metric='minkowski',\n",
    "                                                       metric_params=None,\n",
    "                                                       n_jobs=-1,)\n",
    "\n",
    "ml_models['SVR'] = SVR(kernel='rbf',\n",
    "                       degree=3,\n",
    "                       gamma='scale',\n",
    "                       coef0=0.0,\n",
    "                       tol=0.001,\n",
    "                       C=1.0,\n",
    "                       epsilon=0.1,\n",
    "                       shrinking=True,\n",
    "                       cache_size=200,\n",
    "                       verbose=False,\n",
    "                       max_iter=-1,)\n",
    "\n",
    "ml_models['AdaBoostRegressor'] = AdaBoostRegressor(base_estimator=RandomForestRegressor(random_state=RANDOM_STATE,\n",
    "                                                                                        n_jobs=-1),\n",
    "                                                   n_estimators=50,\n",
    "                                                   learning_rate=0.1,\n",
    "                                                   loss='linear',\n",
    "                                                   random_state=None)\n",
    "\n",
    "ml_models['GradientBoostingRegressor'] = GradientBoostingRegressor(loss='ls',\n",
    "                                                                   learning_rate=0.1,\n",
    "                                                                   n_estimators=100,\n",
    "                                                                   subsample=0.1,\n",
    "                                                                   criterion='friedman_mse',\n",
    "                                                                   min_samples_split=2,\n",
    "                                                                   min_samples_leaf=1,\n",
    "                                                                   min_weight_fraction_leaf=0.0,\n",
    "                                                                   max_depth=3,\n",
    "                                                                   min_impurity_decrease=0.0,\n",
    "                                                                   min_impurity_split=None,\n",
    "                                                                   init=None,\n",
    "                                                                   random_state=None,\n",
    "                                                                   max_features=None,\n",
    "                                                                   alpha=0.9,\n",
    "                                                                   verbose=0,\n",
    "                                                                   max_leaf_nodes=None,\n",
    "                                                                   warm_start=False,)"
   ]
  },
  {
   "cell_type": "code",
   "execution_count": null,
   "metadata": {
    "ExecuteTime": {
     "start_time": "2020-09-27T12:02:48.110Z"
    }
   },
   "outputs": [],
   "source": [
    "mms = MinMaxScaler()\n",
    "mms.fit(X_train)"
   ]
  },
  {
   "cell_type": "code",
   "execution_count": null,
   "metadata": {
    "ExecuteTime": {
     "start_time": "2020-09-27T12:02:48.117Z"
    }
   },
   "outputs": [],
   "source": [
    "log_y_train = np.log(y_train)\n",
    "log_y_valid = np.log(y_valid)"
   ]
  },
  {
   "cell_type": "code",
   "execution_count": null,
   "metadata": {
    "ExecuteTime": {
     "start_time": "2020-09-27T12:02:48.123Z"
    }
   },
   "outputs": [],
   "source": [
    "results_train = {}\n",
    "results_valid = {}\n",
    "for n,(model_name, model) in enumerate(ml_models.items(),start=1):\n",
    "    print(f'[{n}] {model_name:<30} 모델을 학습합니다.')\n",
    "    model.fit(mms.transform(X_train), log_y_train)\n",
    "    ml_models[model_name] = model\n",
    "    \n",
    "    \n",
    "    \n",
    "    y_pred = ml_models[model_name].predict(mms.transform(X_train))\n",
    "    result = MAPE(y_train, np.exp(y_pred))\n",
    "    print(f'[{n}] {model_name:<30} 의 Train MAPE 값: {result:<4.10f}')\n",
    "    results_train[model_name] = result\n",
    "    \n",
    "    y_pred = ml_models[model_name].predict(mms.transform(X_valid))\n",
    "    result = MAPE(y_valid, np.exp(y_pred))\n",
    "    print(f'[{n}] {model_name:<30} 의 Valid MAPE 값: {result:<4.10f}')\n",
    "    results_valid[model_name] = result\n",
    "    \n",
    "    print(f'--> 저장 완료')\n",
    "    \n",
    "    joblib.dump(model, f'./model/{model_name}_{result:.3f}.pkl')\n",
    "    \n",
    "    print('-'*60)"
   ]
  },
  {
   "cell_type": "code",
   "execution_count": null,
   "metadata": {
    "ExecuteTime": {
     "start_time": "2020-09-27T12:02:48.129Z"
    }
   },
   "outputs": [],
   "source": [
    "model_name = 'DecisionTreeRegressor'\n",
    "pd.Series(ml_models[model_name].feature_importances_, index=X_train.columns).sort_values(ascending=True).plot(kind='barh', figsize=(12,12))\n",
    "plt.title(f'{model_name}의 피처 중요도')\n",
    "plt.show()"
   ]
  },
  {
   "cell_type": "code",
   "execution_count": null,
   "metadata": {
    "ExecuteTime": {
     "start_time": "2020-09-27T12:02:48.135Z"
    }
   },
   "outputs": [],
   "source": [
    "model_name = 'RandomForestRegressor'\n",
    "pd.Series(ml_models[model_name].feature_importances_, index=X_train.columns).sort_values(ascending=True).plot(kind='barh', figsize=(12,12))\n",
    "plt.title(f'{model_name}의 피처 중요도')\n",
    "plt.show()"
   ]
  },
  {
   "cell_type": "code",
   "execution_count": null,
   "metadata": {
    "ExecuteTime": {
     "start_time": "2020-09-27T12:02:48.140Z"
    }
   },
   "outputs": [],
   "source": [
    "model_name = 'XGBRegressor'\n",
    "pd.Series(ml_models[model_name].feature_importances_, index=X_train.columns).sort_values(ascending=True).plot(kind='barh', figsize=(12,12))\n",
    "plt.title(f'{model_name}의 피처 중요도')\n",
    "plt.show()"
   ]
  },
  {
   "cell_type": "code",
   "execution_count": null,
   "metadata": {
    "ExecuteTime": {
     "start_time": "2020-09-27T12:02:48.147Z"
    }
   },
   "outputs": [],
   "source": [
    "model_name = 'LGBMRegressor'\n",
    "pd.Series(ml_models[model_name].feature_importances_, index=X_train.columns).sort_values(ascending=True).plot(kind='barh', figsize=(12,12))\n",
    "plt.title(f'{model_name}의 피처 중요도')\n",
    "plt.show()"
   ]
  },
  {
   "cell_type": "code",
   "execution_count": null,
   "metadata": {
    "ExecuteTime": {
     "start_time": "2020-09-27T12:02:48.152Z"
    }
   },
   "outputs": [],
   "source": [
    "model_name = 'AdaBoostRegressor'\n",
    "pd.Series(ml_models[model_name].feature_importances_, index=X_train.columns).sort_values(ascending=True).plot(kind='barh', figsize=(12,12))\n",
    "plt.title(f'{model_name}의 피처 중요도')\n",
    "plt.show()"
   ]
  },
  {
   "cell_type": "code",
   "execution_count": null,
   "metadata": {
    "ExecuteTime": {
     "start_time": "2020-09-27T12:02:48.158Z"
    }
   },
   "outputs": [],
   "source": [
    "model_name = 'GradientBoostingRegressor'\n",
    "pd.Series(ml_models[model_name].feature_importances_, index=X_train.columns).sort_values(ascending=True).plot(kind='barh', figsize=(12,12))\n",
    "plt.title(f'{model_name}의 피처 중요도')\n",
    "plt.show()"
   ]
  },
  {
   "cell_type": "markdown",
   "metadata": {},
   "source": [
    "### 딥러닝 모델 생성 및 성능 평가"
   ]
  },
  {
   "cell_type": "code",
   "execution_count": null,
   "metadata": {
    "ExecuteTime": {
     "end_time": "2020-09-27T06:49:32.598091Z",
     "start_time": "2020-09-27T06:49:32.580079Z"
    }
   },
   "outputs": [],
   "source": [
    "class DeepNSNet(nn.Module):\n",
    "    def __init__(self):\n",
    "        super(DeepNSNet, self).__init__()\n",
    "        self.input_length = len(X_train.columns)\n",
    "        self.fc1 = nn.Linear(self.input_length, 64)  # 6*6 from image dimension\n",
    "        self.fc2 = nn.Linear(64, 32)\n",
    "        self.fc3 = nn.Linear(32, 16)\n",
    "        self.fc4 = nn.Linear(16, 8)\n",
    "        self.fc5 = nn.Linear(8, 1)\n",
    "        \n",
    "    def forward(self, x):\n",
    "        x = torch.relu(self.fc1(x))\n",
    "        x = torch.relu(self.fc2(x))\n",
    "        x = torch.relu(self.fc3(x))\n",
    "        x = torch.relu(self.fc4(x))\n",
    "        output = self.fc5(x)\n",
    "        return output"
   ]
  },
  {
   "cell_type": "code",
   "execution_count": null,
   "metadata": {
    "ExecuteTime": {
     "end_time": "2020-09-27T06:49:35.812051Z",
     "start_time": "2020-09-27T06:49:35.804040Z"
    }
   },
   "outputs": [],
   "source": [
    "model = DeepNSNet()\n",
    "model"
   ]
  },
  {
   "cell_type": "code",
   "execution_count": null,
   "metadata": {
    "ExecuteTime": {
     "end_time": "2020-09-27T06:49:39.495785Z",
     "start_time": "2020-09-27T06:49:39.483791Z"
    }
   },
   "outputs": [],
   "source": [
    "optimizer = optim.Adam(model.parameters(), lr=learning_rate)\n",
    "loss_fn = nn.MSELoss()"
   ]
  },
  {
   "cell_type": "code",
   "execution_count": null,
   "metadata": {
    "ExecuteTime": {
     "end_time": "2020-09-27T06:49:42.578413Z",
     "start_time": "2020-09-27T06:49:42.552398Z"
    }
   },
   "outputs": [],
   "source": [
    "train_losses = []\n",
    "valid_losses = []\n",
    "train_mape_list = []\n",
    "val_mape_list = []\n",
    "X_train_scaled = mms.transform(X_train)\n",
    "X_valid_scaled = mms.transform(X_valid)"
   ]
  },
  {
   "cell_type": "code",
   "execution_count": null,
   "metadata": {
    "ExecuteTime": {
     "end_time": "2020-09-27T06:49:45.872794Z",
     "start_time": "2020-09-27T06:49:45.867783Z"
    }
   },
   "outputs": [],
   "source": [
    "EPOCH = 300000\n",
    "PATH = './model/'\n",
    "top_mape = 0.60"
   ]
  },
  {
   "cell_type": "code",
   "execution_count": null,
   "metadata": {
    "ExecuteTime": {
     "end_time": "2020-09-27T06:49:50.839131Z",
     "start_time": "2020-09-27T06:49:50.830120Z"
    }
   },
   "outputs": [],
   "source": [
    "if torch.cuda.is_available():\n",
    "    print(f'현재 CUDA를 사용할 수 있습니다. 사용하고 있는 장치는 {device} 입니다.')\n",
    "else:\n",
    "    print(f'현재 CUDA를 사용할 수 없습니다. 사용하고 있는 장치는 {device} 입니다. CPU로 학습시 오래 걸릴 수 있습니다.')"
   ]
  },
  {
   "cell_type": "code",
   "execution_count": null,
   "metadata": {
    "ExecuteTime": {
     "end_time": "2020-09-27T07:30:32.604244Z",
     "start_time": "2020-09-27T06:51:50.965087Z"
    },
    "scrolled": false
   },
   "outputs": [],
   "source": [
    "for i in range(EPOCH):\n",
    "    y_pred_train = model(torch.Tensor(X_train_scaled)).to(device)\n",
    "    loss = loss_fn(y_pred_train.squeeze().to(device), torch.Tensor(log_y_train.values).to(device))\n",
    "    train_losses.append(loss)\n",
    "    mape = MAPE(y_train*SCALED_UNIT,np.exp(y_pred_train.cpu().detach().numpy().squeeze())*SCALED_UNIT)\n",
    "#     mape = MAPE(y_pred_train.cpu().detach().numpy().squeeze(), y_train)\n",
    "    train_mape_list.append(mape)\n",
    "    optimizer.zero_grad()\n",
    "    loss.backward()\n",
    "    optimizer.step()\n",
    "\n",
    "    with torch.no_grad():\n",
    "        y_pred_test = model(torch.Tensor(X_valid_scaled)).to(device)\n",
    "        val_loss = loss_fn(y_pred_test.squeeze().to(device), torch.Tensor(log_y_valid.values).to(device))\n",
    "        val_mape = MAPE(y_valid*SCALED_UNIT, np.exp(y_pred_test.cpu().detach().numpy().squeeze())*SCALED_UNIT)\n",
    "        valid_losses.append(val_loss)\n",
    "        val_mape_list.append(val_mape)            \n",
    "\n",
    "    if top_mape >= val_mape * 1.05:\n",
    "        top_mape = val_mape\n",
    "        torch.save(model, PATH + f'DeepNSNet_EPOCH_{str(i).zfill(len(str(EPOCH)))}_MAPE_{val_mape:.4f}.pth')  # 전체 모델 저장\n",
    "    \n",
    "    if i % 1000 == 0:\n",
    "        print(f\"[Epoch {i:>6d} / {EPOCH:>6d}] \"\n",
    "        f\"Train Loss: {loss:>2.5f} | \" \n",
    "        f\"Val Loss: {val_loss:>2.5f} | \"\n",
    "        f\"MAPE(train): {mape:>2.5f} | \"\n",
    "        f\"MAPE(val): {val_mape:>2.5f} | \"\n",
    "        f\"TOP MAPE(val): {top_mape:>.4f}\")"
   ]
  },
  {
   "cell_type": "code",
   "execution_count": null,
   "metadata": {
    "ExecuteTime": {
     "end_time": "2020-09-25T06:00:06.690679Z",
     "start_time": "2020-09-25T05:59:38.252041Z"
    }
   },
   "outputs": [],
   "source": [
    "plt.plot(train_losses)\n",
    "plt.plot(valid_losses)\n",
    "plt.legend(['Train loss', 'Val loss'])\n",
    "plt.show()"
   ]
  },
  {
   "cell_type": "code",
   "execution_count": null,
   "metadata": {
    "ExecuteTime": {
     "end_time": "2020-09-25T06:00:07.898171Z",
     "start_time": "2020-09-25T06:00:06.709642Z"
    }
   },
   "outputs": [],
   "source": [
    "plt.ylim(0.4,2)\n",
    "plt.plot(train_mape_list)\n",
    "plt.plot(val_mape_list)\n",
    "plt.legend(['Train MAPE', 'Val MAPE'])\n",
    "plt.show()"
   ]
  },
  {
   "cell_type": "code",
   "execution_count": null,
   "metadata": {},
   "outputs": [],
   "source": [
    "with torch.no_grad():\n",
    "    y_pred_test = model(torch.Tensor(X_valid_scaled)).to(device)\n",
    "    val_loss = loss_fn(y_pred_test.squeeze().to(device), torch.Tensor(y_valid.values).to(device))\n",
    "    val_mape = MAPE(y_pred_test.cpu().detach().numpy().squeeze(), y_valid)"
   ]
  },
  {
   "cell_type": "code",
   "execution_count": null,
   "metadata": {},
   "outputs": [],
   "source": [
    "val_mape"
   ]
  },
  {
   "cell_type": "markdown",
   "metadata": {},
   "source": [
    "---\n",
    "\n",
    "## 제출하기"
   ]
  },
  {
   "cell_type": "code",
   "execution_count": null,
   "metadata": {
    "ExecuteTime": {
     "end_time": "2020-09-25T07:52:46.521463Z",
     "start_time": "2020-09-25T07:52:46.319883Z"
    }
   },
   "outputs": [],
   "source": [
    "submission = pd.read_excel('./data/02_평가데이터/2020 빅콘테스트 데이터분석분야-챔피언리그_2020년 6월 판매실적예측데이터(평가데이터).xlsx',\n",
    "                          skiprows=1,\n",
    "                          index_col=0,\n",
    "                          )\n",
    "submission"
   ]
  },
  {
   "cell_type": "code",
   "execution_count": null,
   "metadata": {
    "ExecuteTime": {
     "end_time": "2020-09-25T08:55:49.736140Z",
     "start_time": "2020-09-25T08:55:48.146421Z"
    }
   },
   "outputs": [],
   "source": [
    "for sub_model_name in tqdm_notebook(ml_models.keys()):\n",
    "    now = datetime.now()\n",
    "    file_sub_date = str(now.month).zfill(2) + str(now.day).zfill(2) + str(now.hour).zfill(2) + str(now.hour).zfill(2)\n",
    "    y_pred = ml_models['XGBRegressor'].predict(mms.transform(data['test'].drop('취급액',axis=1))) * SCALED_UNIT\n",
    "    submission.loc[~submission['상품군'].str.contains('무형'),['취급액']] = y_pred\n",
    "    submission = submission.fillna(0)\n",
    "    submission.to_csv(f'./result/KUAI_{file_sub_date}_MODEL_{sub_model_name}.csv', \n",
    "                      index=None, \n",
    "                      encoding='cp949')"
   ]
  },
  {
   "cell_type": "markdown",
   "metadata": {},
   "source": [
    "---\n",
    "\n",
    "## 참고자료"
   ]
  },
  {
   "cell_type": "markdown",
   "metadata": {},
   "source": [
    "- https://www.bigcontest.or.kr/index.php\n",
    "- https://pytorch.org/\n",
    "- https://minsuksung-ai.tistory.com/\n",
    "- https://en.wikipedia.org/wiki/Mean_absolute_percentage_error\n",
    "- https://discuss.pytorch.org/t/model-zero-grad-or-optimizer-zero-grad/28426\n",
    "- https://rfriend.tistory.com/411\n",
    "- https://stackoverflow.com/questions/13838405/custom-sorting-in-pandas-dataframe\n",
    "- https://datatofish.com/data-type-pandas-dataframe/\n",
    "- "
   ]
  }
 ],
 "metadata": {
  "hide_input": false,
  "kernelspec": {
   "display_name": "Python 3",
   "language": "python",
   "name": "python3"
  },
  "language_info": {
   "codemirror_mode": {
    "name": "ipython",
    "version": 3
   },
   "file_extension": ".py",
   "mimetype": "text/x-python",
   "name": "python",
   "nbconvert_exporter": "python",
   "pygments_lexer": "ipython3",
   "version": "3.6.10"
  },
  "toc": {
   "base_numbering": "0",
   "nav_menu": {},
   "number_sections": true,
   "sideBar": true,
   "skip_h1_title": true,
   "title_cell": "Table of Contents",
   "title_sidebar": "Contents",
   "toc_cell": true,
   "toc_position": {
    "height": "calc(100% - 180px)",
    "left": "10px",
    "top": "150px",
    "width": "329px"
   },
   "toc_section_display": true,
   "toc_window_display": true
  },
  "varInspector": {
   "cols": {
    "lenName": 16,
    "lenType": 16,
    "lenVar": 40
   },
   "kernels_config": {
    "python": {
     "delete_cmd_postfix": "",
     "delete_cmd_prefix": "del ",
     "library": "var_list.py",
     "varRefreshCmd": "print(var_dic_list())"
    },
    "r": {
     "delete_cmd_postfix": ") ",
     "delete_cmd_prefix": "rm(",
     "library": "var_list.r",
     "varRefreshCmd": "cat(var_dic_list()) "
    }
   },
   "position": {
    "height": "451.215px",
    "left": "1763.33px",
    "right": "20px",
    "top": "120px",
    "width": "350px"
   },
   "types_to_exclude": [
    "module",
    "function",
    "builtin_function_or_method",
    "instance",
    "_Feature"
   ],
   "window_display": false
  }
 },
 "nbformat": 4,
 "nbformat_minor": 4
}

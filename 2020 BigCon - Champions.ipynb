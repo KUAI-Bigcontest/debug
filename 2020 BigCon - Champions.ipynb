{
 "cells": [
  {
   "cell_type": "markdown",
   "metadata": {},
   "source": [
    "# 2020 빅콘테스트 챔피언스리그\n",
    "\n",
    "![](./img/contest_logo.png)"
   ]
  },
  {
   "cell_type": "markdown",
   "metadata": {
    "toc": true
   },
   "source": [
    "<h1>Table of Contents<span class=\"tocSkip\"></span></h1>\n",
    "<div class=\"toc\"><ul class=\"toc-item\"><li><span><a href=\"#대회요강\" data-toc-modified-id=\"대회요강-0\"><span class=\"toc-item-num\">0&nbsp;&nbsp;</span>대회요강</a></span><ul class=\"toc-item\"><li><span><a href=\"#참가자격\" data-toc-modified-id=\"참가자격-0.1\"><span class=\"toc-item-num\">0.1&nbsp;&nbsp;</span>참가자격</a></span></li><li><span><a href=\"#대회일정\" data-toc-modified-id=\"대회일정-0.2\"><span class=\"toc-item-num\">0.2&nbsp;&nbsp;</span>대회일정</a></span></li><li><span><a href=\"#대회-문제\" data-toc-modified-id=\"대회-문제-0.3\"><span class=\"toc-item-num\">0.3&nbsp;&nbsp;</span>대회 문제</a></span></li><li><span><a href=\"#평가방법\" data-toc-modified-id=\"평가방법-0.4\"><span class=\"toc-item-num\">0.4&nbsp;&nbsp;</span>평가방법</a></span></li><li><span><a href=\"#결과제출\" data-toc-modified-id=\"결과제출-0.5\"><span class=\"toc-item-num\">0.5&nbsp;&nbsp;</span>결과제출</a></span></li><li><span><a href=\"#유의사항\" data-toc-modified-id=\"유의사항-0.6\"><span class=\"toc-item-num\">0.6&nbsp;&nbsp;</span>유의사항</a></span></li></ul></li><li><span><a href=\"#라이브러리-및-옵션\" data-toc-modified-id=\"라이브러리-및-옵션-1\"><span class=\"toc-item-num\">1&nbsp;&nbsp;</span>라이브러리 및 옵션</a></span></li><li><span><a href=\"#데이터-불러오기(Load-Data)\" data-toc-modified-id=\"데이터-불러오기(Load-Data)-2\"><span class=\"toc-item-num\">2&nbsp;&nbsp;</span>데이터 불러오기(Load Data)</a></span><ul class=\"toc-item\"><li><span><a href=\"#2019년-실적데이터\" data-toc-modified-id=\"2019년-실적데이터-2.1\"><span class=\"toc-item-num\">2.1&nbsp;&nbsp;</span>2019년 실적데이터</a></span></li><li><span><a href=\"#판매-실적-예측-데이터\" data-toc-modified-id=\"판매-실적-예측-데이터-2.2\"><span class=\"toc-item-num\">2.2&nbsp;&nbsp;</span>판매 실적 예측 데이터</a></span></li><li><span><a href=\"#시청률-데이터\" data-toc-modified-id=\"시청률-데이터-2.3\"><span class=\"toc-item-num\">2.3&nbsp;&nbsp;</span>시청률 데이터</a></span></li></ul></li><li><span><a href=\"#데이터-전처리(Data-Preprocessing)\" data-toc-modified-id=\"데이터-전처리(Data-Preprocessing)-3\"><span class=\"toc-item-num\">3&nbsp;&nbsp;</span>데이터 전처리(Data Preprocessing)</a></span><ul class=\"toc-item\"><li><span><a href=\"#결측치-확인하기\" data-toc-modified-id=\"결측치-확인하기-3.1\"><span class=\"toc-item-num\">3.1&nbsp;&nbsp;</span>결측치 확인하기</a></span></li><li><span><a href=\"#방송시간에서-세부-시간-추출\" data-toc-modified-id=\"방송시간에서-세부-시간-추출-3.2\"><span class=\"toc-item-num\">3.2&nbsp;&nbsp;</span>방송시간에서 세부 시간 추출</a></span></li><li><span><a href=\"#노출시간-결측치-처리\" data-toc-modified-id=\"노출시간-결측치-처리-3.3\"><span class=\"toc-item-num\">3.3&nbsp;&nbsp;</span>노출시간 결측치 처리</a></span></li><li><span><a href=\"#자연어처리(Natural-Language-Processing)\" data-toc-modified-id=\"자연어처리(Natural-Language-Processing)-3.4\"><span class=\"toc-item-num\">3.4&nbsp;&nbsp;</span>자연어처리(Natural Language Processing)</a></span><ul class=\"toc-item\"><li><span><a href=\"#불용어-제거\" data-toc-modified-id=\"불용어-제거-3.4.1\"><span class=\"toc-item-num\">3.4.1&nbsp;&nbsp;</span>불용어 제거</a></span></li><li><span><a href=\"#KOMORAN을-통하여-형태소-분석\" data-toc-modified-id=\"KOMORAN을-통하여-형태소-분석-3.4.2\"><span class=\"toc-item-num\">3.4.2&nbsp;&nbsp;</span>KOMORAN을 통하여 형태소 분석</a></span></li><li><span><a href=\"#임베딩벡터-생성\" data-toc-modified-id=\"임베딩벡터-생성-3.4.3\"><span class=\"toc-item-num\">3.4.3&nbsp;&nbsp;</span>임베딩벡터 생성</a></span></li><li><span><a href=\"#PCA를-통하여-차원-축소\" data-toc-modified-id=\"PCA를-통하여-차원-축소-3.4.4\"><span class=\"toc-item-num\">3.4.4&nbsp;&nbsp;</span>PCA를 통하여 차원 축소</a></span></li></ul></li></ul></li><li><span><a href=\"#탐색적-데이터-분석(Exploratory-Data-Analysis)\" data-toc-modified-id=\"탐색적-데이터-분석(Exploratory-Data-Analysis)-4\"><span class=\"toc-item-num\">4&nbsp;&nbsp;</span>탐색적 데이터 분석(Exploratory Data Analysis)</a></span><ul class=\"toc-item\"><li><span><a href=\"#데이터-형태\" data-toc-modified-id=\"데이터-형태-4.1\"><span class=\"toc-item-num\">4.1&nbsp;&nbsp;</span>데이터 형태</a></span></li><li><span><a href=\"#데이터의-컬럼\" data-toc-modified-id=\"데이터의-컬럼-4.2\"><span class=\"toc-item-num\">4.2&nbsp;&nbsp;</span>데이터의 컬럼</a></span></li><li><span><a href=\"#데이터-타입\" data-toc-modified-id=\"데이터-타입-4.3\"><span class=\"toc-item-num\">4.3&nbsp;&nbsp;</span>데이터 타입</a></span></li><li><span><a href=\"#데이터-기초-통계량\" data-toc-modified-id=\"데이터-기초-통계량-4.4\"><span class=\"toc-item-num\">4.4&nbsp;&nbsp;</span>데이터 기초 통계량</a></span></li><li><span><a href=\"#상품코드\" data-toc-modified-id=\"상품코드-4.5\"><span class=\"toc-item-num\">4.5&nbsp;&nbsp;</span>상품코드</a></span></li><li><span><a href=\"#상품명\" data-toc-modified-id=\"상품명-4.6\"><span class=\"toc-item-num\">4.6&nbsp;&nbsp;</span>상품명</a></span></li><li><span><a href=\"#상품군\" data-toc-modified-id=\"상품군-4.7\"><span class=\"toc-item-num\">4.7&nbsp;&nbsp;</span>상품군</a></span><ul class=\"toc-item\"><li><span><a href=\"#상품군-내-상품-비율\" data-toc-modified-id=\"상품군-내-상품-비율-4.7.1\"><span class=\"toc-item-num\">4.7.1&nbsp;&nbsp;</span>상품군 내 상품 비율</a></span></li><li><span><a href=\"#상품군-내-유일-상품-확인\" data-toc-modified-id=\"상품군-내-유일-상품-확인-4.7.2\"><span class=\"toc-item-num\">4.7.2&nbsp;&nbsp;</span>상품군 내 유일 상품 확인</a></span></li><li><span><a href=\"#*무형-상품군\" data-toc-modified-id=\"*무형-상품군-4.7.3\"><span class=\"toc-item-num\">4.7.3&nbsp;&nbsp;</span>*무형 상품군</a></span></li></ul></li><li><span><a href=\"#판매단가\" data-toc-modified-id=\"판매단가-4.8\"><span class=\"toc-item-num\">4.8&nbsp;&nbsp;</span>판매단가</a></span><ul class=\"toc-item\"><li><span><a href=\"#상품명별-판매단가\" data-toc-modified-id=\"상품명별-판매단가-4.8.1\"><span class=\"toc-item-num\">4.8.1&nbsp;&nbsp;</span>상품명별 판매단가</a></span></li></ul></li><li><span><a href=\"#취급액\" data-toc-modified-id=\"취급액-4.9\"><span class=\"toc-item-num\">4.9&nbsp;&nbsp;</span>취급액</a></span></li><li><span><a href=\"#상품군-별-노출(분)\" data-toc-modified-id=\"상품군-별-노출(분)-4.10\"><span class=\"toc-item-num\">4.10&nbsp;&nbsp;</span>상품군 별 노출(분)</a></span></li><li><span><a href=\"#시간대-별-상품-판매-Trend\" data-toc-modified-id=\"시간대-별-상품-판매-Trend-4.11\"><span class=\"toc-item-num\">4.11&nbsp;&nbsp;</span>시간대 별 상품 판매 Trend</a></span><ul class=\"toc-item\"><li><span><a href=\"#월별\" data-toc-modified-id=\"월별-4.11.1\"><span class=\"toc-item-num\">4.11.1&nbsp;&nbsp;</span>월별</a></span></li><li><span><a href=\"#주별\" data-toc-modified-id=\"주별-4.11.2\"><span class=\"toc-item-num\">4.11.2&nbsp;&nbsp;</span>주별</a></span></li><li><span><a href=\"#일별\" data-toc-modified-id=\"일별-4.11.3\"><span class=\"toc-item-num\">4.11.3&nbsp;&nbsp;</span>일별</a></span></li><li><span><a href=\"#시간별\" data-toc-modified-id=\"시간별-4.11.4\"><span class=\"toc-item-num\">4.11.4&nbsp;&nbsp;</span>시간별</a></span></li><li><span><a href=\"#요일별\" data-toc-modified-id=\"요일별-4.11.5\"><span class=\"toc-item-num\">4.11.5&nbsp;&nbsp;</span>요일별</a></span></li></ul></li><li><span><a href=\"#시청률\" data-toc-modified-id=\"시청률-4.12\"><span class=\"toc-item-num\">4.12&nbsp;&nbsp;</span>시청률</a></span></li><li><span><a href=\"#일별-평균-시청률\" data-toc-modified-id=\"일별-평균-시청률-4.13\"><span class=\"toc-item-num\">4.13&nbsp;&nbsp;</span>일별 평균 시청률</a></span></li><li><span><a href=\"#시간별-평균-시청률\" data-toc-modified-id=\"시간별-평균-시청률-4.14\"><span class=\"toc-item-num\">4.14&nbsp;&nbsp;</span>시간별 평균 시청률</a></span></li></ul></li><li><span><a href=\"#특성-공학(Feature-Engineering)\" data-toc-modified-id=\"특성-공학(Feature-Engineering)-5\"><span class=\"toc-item-num\">5&nbsp;&nbsp;</span>특성 공학(Feature Engineering)</a></span><ul class=\"toc-item\"><li><span><a href=\"#임베딩-벡터-추가\" data-toc-modified-id=\"임베딩-벡터-추가-5.1\"><span class=\"toc-item-num\">5.1&nbsp;&nbsp;</span>임베딩 벡터 추가</a></span></li><li><span><a href=\"#피처-생성\" data-toc-modified-id=\"피처-생성-5.2\"><span class=\"toc-item-num\">5.2&nbsp;&nbsp;</span>피처 생성</a></span><ul class=\"toc-item\"><li><span><a href=\"#네이버트랜드-결합\" data-toc-modified-id=\"네이버트랜드-결합-5.2.1\"><span class=\"toc-item-num\">5.2.1&nbsp;&nbsp;</span>네이버트랜드 결합</a></span></li><li><span><a href=\"#상품별-방영-횟수\" data-toc-modified-id=\"상품별-방영-횟수-5.2.2\"><span class=\"toc-item-num\">5.2.2&nbsp;&nbsp;</span>상품별 방영 횟수</a></span><ul class=\"toc-item\"><li><span><a href=\"#상품별-월-방영-횟수\" data-toc-modified-id=\"상품별-월-방영-횟수-5.2.2.1\"><span class=\"toc-item-num\">5.2.2.1&nbsp;&nbsp;</span>상품별 월 방영 횟수</a></span></li><li><span><a href=\"#상품별-주-방영-횟수\" data-toc-modified-id=\"상품별-주-방영-횟수-5.2.2.2\"><span class=\"toc-item-num\">5.2.2.2&nbsp;&nbsp;</span>상품별 주 방영 횟수</a></span></li></ul></li><li><span><a href=\"#방송-재핑시간\" data-toc-modified-id=\"방송-재핑시간-5.2.3\"><span class=\"toc-item-num\">5.2.3&nbsp;&nbsp;</span>방송 재핑시간</a></span></li><li><span><a href=\"#골든타임-피쳐-생성\" data-toc-modified-id=\"골든타임-피쳐-생성-5.2.4\"><span class=\"toc-item-num\">5.2.4&nbsp;&nbsp;</span>골든타임 피쳐 생성</a></span></li><li><span><a href=\"#토큰리스트-생성\" data-toc-modified-id=\"토큰리스트-생성-5.2.5\"><span class=\"toc-item-num\">5.2.5&nbsp;&nbsp;</span>토큰리스트 생성</a></span></li><li><span><a href=\"#성별-추가\" data-toc-modified-id=\"성별-추가-5.2.6\"><span class=\"toc-item-num\">5.2.6&nbsp;&nbsp;</span>성별 추가</a></span></li><li><span><a href=\"#무이자/일시불-여부\" data-toc-modified-id=\"무이자/일시불-여부-5.2.7\"><span class=\"toc-item-num\">5.2.7&nbsp;&nbsp;</span>무이자/일시불 여부</a></span></li><li><span><a href=\"#휴일-여부\" data-toc-modified-id=\"휴일-여부-5.2.8\"><span class=\"toc-item-num\">5.2.8&nbsp;&nbsp;</span>휴일 여부</a></span></li><li><span><a href=\"#Total-Preprocessing\" data-toc-modified-id=\"Total-Preprocessing-5.2.9\"><span class=\"toc-item-num\">5.2.9&nbsp;&nbsp;</span>Total Preprocessing</a></span></li></ul></li><li><span><a href=\"#상품군,-상품명-처리하기\" data-toc-modified-id=\"상품군,-상품명-처리하기-5.3\"><span class=\"toc-item-num\">5.3&nbsp;&nbsp;</span>상품군, 상품명 처리하기</a></span></li><li><span><a href=\"#상품군-더미화\" data-toc-modified-id=\"상품군-더미화-5.4\"><span class=\"toc-item-num\">5.4&nbsp;&nbsp;</span>상품군 더미화</a></span></li><li><span><a href=\"#요일-인코딩\" data-toc-modified-id=\"요일-인코딩-5.5\"><span class=\"toc-item-num\">5.5&nbsp;&nbsp;</span>요일 인코딩</a></span></li></ul></li><li><span><a href=\"#피처-선택(Feature-Selection)\" data-toc-modified-id=\"피처-선택(Feature-Selection)-6\"><span class=\"toc-item-num\">6&nbsp;&nbsp;</span>피처 선택(Feature Selection)</a></span><ul class=\"toc-item\"><li><span><a href=\"#지금까지-생성된-피처-확인\" data-toc-modified-id=\"지금까지-생성된-피처-확인-6.1\"><span class=\"toc-item-num\">6.1&nbsp;&nbsp;</span>지금까지 생성된 피처 확인</a></span></li><li><span><a href=\"#피처간의-상관계수-확인\" data-toc-modified-id=\"피처간의-상관계수-확인-6.2\"><span class=\"toc-item-num\">6.2&nbsp;&nbsp;</span>피처간의 상관계수 확인</a></span></li></ul></li><li><span><a href=\"#모델링(Modeling)-및-성능-평가(Testing)\" data-toc-modified-id=\"모델링(Modeling)-및-성능-평가(Testing)-7\"><span class=\"toc-item-num\">7&nbsp;&nbsp;</span>모델링(Modeling) 및 성능 평가(Testing)</a></span><ul class=\"toc-item\"><li><span><a href=\"#Mean-Average-Percentage-Error(MAPE)\" data-toc-modified-id=\"Mean-Average-Percentage-Error(MAPE)-7.1\"><span class=\"toc-item-num\">7.1&nbsp;&nbsp;</span>Mean Average Percentage Error(MAPE)</a></span></li><li><span><a href=\"#학습-및-검증-데이터-분리하기\" data-toc-modified-id=\"학습-및-검증-데이터-분리하기-7.2\"><span class=\"toc-item-num\">7.2&nbsp;&nbsp;</span>학습 및 검증 데이터 분리하기</a></span></li><li><span><a href=\"#머신러닝-모델-생성-및-성능-평가\" data-toc-modified-id=\"머신러닝-모델-생성-및-성능-평가-7.3\"><span class=\"toc-item-num\">7.3&nbsp;&nbsp;</span>머신러닝 모델 생성 및 성능 평가</a></span></li><li><span><a href=\"#딥러닝-모델-생성-및-성능-평가\" data-toc-modified-id=\"딥러닝-모델-생성-및-성능-평가-7.4\"><span class=\"toc-item-num\">7.4&nbsp;&nbsp;</span>딥러닝 모델 생성 및 성능 평가</a></span></li></ul></li><li><span><a href=\"#제출하기\" data-toc-modified-id=\"제출하기-8\"><span class=\"toc-item-num\">8&nbsp;&nbsp;</span>제출하기</a></span></li><li><span><a href=\"#참고자료\" data-toc-modified-id=\"참고자료-9\"><span class=\"toc-item-num\">9&nbsp;&nbsp;</span>참고자료</a></span></li></ul></div>"
   ]
  },
  {
   "cell_type": "markdown",
   "metadata": {},
   "source": [
    "## 대회요강\n",
    "\n",
    "### 참가자격\n",
    "- 전국 대학(원)생(휴학생포함) 및 일반인\n",
    "    - 대회 시작일(8.3) 기준, 대학(원)생은 나이제한 없음\n",
    "    - 데이터 분석 및 컨설팅 업체 소속 임직원은 참여 불가"
   ]
  },
  {
   "cell_type": "markdown",
   "metadata": {},
   "source": [
    "### 대회일정\n",
    "![](./img/contest_plan.png)"
   ]
  },
  {
   "cell_type": "markdown",
   "metadata": {},
   "source": [
    "### 대회 문제\n",
    "![](./img/contest_problem.png)"
   ]
  },
  {
   "cell_type": "markdown",
   "metadata": {},
   "source": [
    "### 평가방법\n",
    "\n",
    "![](./img/contest_evaluation.png)"
   ]
  },
  {
   "cell_type": "markdown",
   "metadata": {},
   "source": [
    "### 결과제출\n",
    "\n",
    "1. 마이페이지 내 결과제출바로가기 에서 제출(파일 용량 초과시, 사무국 이메일/웹하드로 제출하며 별도 안내 예정)\n",
    "2. 결과보고서 양식 및 추가 제출파일\n",
    "    - 심사진행과정에서 추가로 자료를 요청할 수 있음\n",
    "    - 결과보고서 필수 포함내용 미기재 및 추가 제출파일 미제출시, 심사 및 수상에서 제외 될 수 있음\n",
    "    \n",
    "![](./img/contest_submission.png)"
   ]
  },
  {
   "cell_type": "markdown",
   "metadata": {},
   "source": [
    "### 유의사항\n",
    "\n",
    "![](./img/contest_notice.png)"
   ]
  },
  {
   "cell_type": "markdown",
   "metadata": {},
   "source": [
    "---\n",
    "\n",
    "## 라이브러리 및 옵션"
   ]
  },
  {
   "cell_type": "code",
   "execution_count": null,
   "metadata": {},
   "outputs": [],
   "source": [
    "# !pip install -r requirements.txt ################################# 제출시에는 주석 해제해야함"
   ]
  },
  {
   "cell_type": "code",
   "execution_count": 1,
   "metadata": {
    "ExecuteTime": {
     "end_time": "2020-09-26T01:51:08.117526Z",
     "start_time": "2020-09-26T01:51:05.046502Z"
    }
   },
   "outputs": [],
   "source": [
    "#########\n",
    "# BASIC #\n",
    "#########\n",
    "import os\n",
    "import sys\n",
    "import platform\n",
    "import warnings\n",
    "from datetime import datetime\n",
    "from collections import Counter\n",
    "import calendar\n",
    "from tqdm.notebook import tqdm_notebook\n",
    "\n",
    "#############\n",
    "# LOAD DATA #\n",
    "#############\n",
    "import numpy as np\n",
    "import pandas as pd\n",
    "\n",
    "#############################\n",
    "# EXPLORATORY DATA ANALYSIS #\n",
    "#############################\n",
    "import matplotlib as mpl\n",
    "import matplotlib.pyplot as plt\n",
    "import seaborn as sns\n",
    "import missingno as msno\n",
    "\n",
    "######################\n",
    "# DATA PREPROCESSING #\n",
    "######################\n",
    "import re\n",
    "from sklearn.decomposition import PCA\n",
    "from sklearn.preprocessing import LabelEncoder\n",
    "from sklearn.preprocessing import OneHotEncoder\n",
    "## NATURAL LANGUAGE PROCESSING \n",
    "from konlpy.tag import Komoran\n",
    "from gensim.models import Word2Vec\n",
    "\n",
    "#######################\n",
    "# FEATURE ENGINEERING #\n",
    "#######################\n",
    "from sklearn.preprocessing import StandardScaler\n",
    "from sklearn.preprocessing import MinMaxScaler\n",
    "\n",
    "#####################\n",
    "# FEATURE SELECTION #\n",
    "#####################\n",
    "\n",
    "\n",
    "############\n",
    "# MODELING #\n",
    "############\n",
    "## MACHINE LEARNING\n",
    "from sklearn.model_selection import KFold\n",
    "from sklearn.model_selection import train_test_split\n",
    "from sklearn.linear_model import LinearRegression\n",
    "from sklearn.tree import DecisionTreeRegressor\n",
    "from sklearn.svm import SVR\n",
    "from sklearn.ensemble import RandomForestRegressor\n",
    "from xgboost import XGBRegressor\n",
    "from lightgbm import LGBMRegressor\n",
    "\n",
    "## DEEP LEARNING\n",
    "import torch\n",
    "import torch.nn as nn\n",
    "import torch.optim as optim\n",
    "import torch.nn.functional as F\n",
    "\n",
    "import joblib\n",
    "import pickle\n",
    "\n",
    "###########\n",
    "# TESTING #\n",
    "###########\n",
    "from sklearn.metrics import mean_absolute_error\n",
    "from sklearn.model_selection import RandomizedSearchCV\n",
    "from sklearn.model_selection import GridSearchCV"
   ]
  },
  {
   "cell_type": "code",
   "execution_count": 2,
   "metadata": {
    "ExecuteTime": {
     "end_time": "2020-09-26T01:51:08.357442Z",
     "start_time": "2020-09-26T01:51:08.183384Z"
    }
   },
   "outputs": [
    {
     "name": "stdout",
     "output_type": "stream",
     "text": [
      "현재 CUDA를 사용할 수 있습니다. 사용하고 있는 장치는 cuda 입니다.\n"
     ]
    }
   ],
   "source": [
    "warnings.filterwarnings(action='ignore')\n",
    "pd.options.display.float_format = '{:.4f}'.format\n",
    "# plt.style.use('ggplot')\n",
    "if platform.platform().split('-')[0] == 'Windows':\n",
    "    mpl.rcParams['font.family'] = 'Malgun Gothic' # Windows에서는 한글이 나오게 하기 위해서\n",
    "else: # macOS라고 가정\n",
    "    mpl.rcParams['font.family'] = 'AppleGothic' # mac에서는 한글이 나오게 하기 위해서\n",
    "\n",
    "mpl.rcParams['axes.unicode_minus'] = False\n",
    "plt.style.use('ggplot')\n",
    "device = 'cuda'  if torch.cuda.is_available() else 'cpu'"
   ]
  },
  {
   "cell_type": "code",
   "execution_count": 3,
   "metadata": {
    "ExecuteTime": {
     "end_time": "2020-09-26T01:51:08.437465Z",
     "start_time": "2020-09-26T01:51:08.422452Z"
    }
   },
   "outputs": [],
   "source": [
    "RANDOM_STATE = 42\n",
    "TEST_SIZE = 0.2\n",
    "learning_rate = 1e-4"
   ]
  },
  {
   "cell_type": "markdown",
   "metadata": {},
   "source": [
    "---\n",
    "\n",
    "## 데이터 불러오기(Load Data)"
   ]
  },
  {
   "cell_type": "code",
   "execution_count": null,
   "metadata": {
    "ExecuteTime": {
     "end_time": "2020-09-25T10:16:54.530885Z",
     "start_time": "2020-09-25T10:16:54.523902Z"
    }
   },
   "outputs": [],
   "source": [
    "os.listdir('./data/01_제공데이터')"
   ]
  },
  {
   "cell_type": "code",
   "execution_count": null,
   "metadata": {
    "ExecuteTime": {
     "end_time": "2020-09-25T10:16:54.539859Z",
     "start_time": "2020-09-25T10:16:54.531881Z"
    }
   },
   "outputs": [],
   "source": [
    "os.listdir('./data/02_평가데이터')"
   ]
  },
  {
   "cell_type": "code",
   "execution_count": null,
   "metadata": {
    "ExecuteTime": {
     "end_time": "2020-09-25T10:16:54.545843Z",
     "start_time": "2020-09-25T10:16:54.540857Z"
    }
   },
   "outputs": [],
   "source": [
    "os.listdir('./data/03_외부데이터')"
   ]
  },
  {
   "cell_type": "code",
   "execution_count": null,
   "metadata": {
    "ExecuteTime": {
     "end_time": "2020-09-25T10:16:54.551828Z",
     "start_time": "2020-09-25T10:16:54.546841Z"
    }
   },
   "outputs": [],
   "source": [
    "os.listdir('./data/04_추가데이터')"
   ]
  },
  {
   "cell_type": "code",
   "execution_count": null,
   "metadata": {
    "ExecuteTime": {
     "end_time": "2020-09-25T10:16:54.557813Z",
     "start_time": "2020-09-25T10:16:54.553824Z"
    }
   },
   "outputs": [],
   "source": [
    "data = dict()"
   ]
  },
  {
   "cell_type": "markdown",
   "metadata": {},
   "source": [
    "### 2019년 실적데이터"
   ]
  },
  {
   "cell_type": "code",
   "execution_count": null,
   "metadata": {
    "ExecuteTime": {
     "end_time": "2020-09-25T10:16:57.612741Z",
     "start_time": "2020-09-25T10:16:54.559808Z"
    }
   },
   "outputs": [],
   "source": [
    "data['train'] = pd.read_excel(r'./data/01_제공데이터/2020 빅콘테스트 데이터분석분야-챔피언리그_2019년 실적데이터.xlsx',\n",
    "                       header=1,\n",
    "                       names=['방송일시', '노출(분)', '마더코드', '상품코드',\n",
    "                              '상품명', '상품군', '판매단가', '취급액'],\n",
    "                       thousands=',',\n",
    "                       )\n",
    "data['train'].index = pd.to_datetime(data['train']['방송일시'])\n",
    "data['train'] = data['train'].drop('방송일시',axis=1)\n",
    "data['train'] = data['train']['2019']\n",
    "data['train']"
   ]
  },
  {
   "cell_type": "markdown",
   "metadata": {},
   "source": [
    "### 판매 실적 예측 데이터"
   ]
  },
  {
   "cell_type": "code",
   "execution_count": null,
   "metadata": {
    "ExecuteTime": {
     "end_time": "2020-09-25T10:16:57.959813Z",
     "start_time": "2020-09-25T10:16:57.614736Z"
    }
   },
   "outputs": [],
   "source": [
    "data['test'] = pd.read_excel('./data/02_평가데이터/2020 빅콘테스트 데이터분석분야-챔피언리그_2020년 6월 판매실적예측데이터(평가데이터).xlsx',\n",
    "                          skiprows=1,\n",
    "                          index_col=0,\n",
    "                          )\n",
    "data['test']"
   ]
  },
  {
   "cell_type": "markdown",
   "metadata": {},
   "source": [
    "### 시청률 데이터"
   ]
  },
  {
   "cell_type": "code",
   "execution_count": null,
   "metadata": {
    "ExecuteTime": {
     "end_time": "2020-09-25T10:17:02.894949Z",
     "start_time": "2020-09-25T10:16:57.960810Z"
    }
   },
   "outputs": [],
   "source": [
    "data['rating'] = pd.read_excel('./data/01_제공데이터/2020 빅콘테스트 데이터분석분야-챔피언리그_시청률 데이터.xlsx',\n",
    "                          skiprows=1,\n",
    "                          index_col=0,\n",
    "                          )\n",
    "data['rating']"
   ]
  },
  {
   "cell_type": "markdown",
   "metadata": {},
   "source": [
    "---\n",
    "\n",
    "## 데이터 전처리(Data Preprocessing)"
   ]
  },
  {
   "cell_type": "markdown",
   "metadata": {},
   "source": [
    "### 결측치 확인하기"
   ]
  },
  {
   "cell_type": "code",
   "execution_count": null,
   "metadata": {
    "ExecuteTime": {
     "end_time": "2020-09-25T10:17:03.231051Z",
     "start_time": "2020-09-25T10:17:02.895948Z"
    }
   },
   "outputs": [],
   "source": [
    "msno.matrix(data['train'])\n",
    "plt.show()"
   ]
  },
  {
   "cell_type": "code",
   "execution_count": null,
   "metadata": {
    "ExecuteTime": {
     "end_time": "2020-09-25T10:17:03.485371Z",
     "start_time": "2020-09-25T10:17:03.232050Z"
    }
   },
   "outputs": [],
   "source": [
    "msno.matrix(data['test'])\n",
    "plt.show()"
   ]
  },
  {
   "cell_type": "markdown",
   "metadata": {},
   "source": [
    "### 방송시간에서 세부 시간 추출"
   ]
  },
  {
   "cell_type": "code",
   "execution_count": null,
   "metadata": {
    "ExecuteTime": {
     "end_time": "2020-09-25T10:17:03.811498Z",
     "start_time": "2020-09-25T10:17:03.486368Z"
    }
   },
   "outputs": [],
   "source": [
    "data['train']['연'] = data['train'].index.map(lambda x: x.year)\n",
    "data['train']['월'] = data['train'].index.map(lambda x: x.month)\n",
    "data['train']['주'] = data['train'].index.map(lambda x: x.week)\n",
    "data['train']['일'] = data['train'].index.map(lambda x: x.day)\n",
    "data['train']['시'] = data['train'].index.map(lambda x: x.hour)\n",
    "data['train']['분'] = data['train'].index.map(lambda x: x.minute)\n",
    "data['train']['요일'] = data['train'].index.map(lambda x: calendar.day_abbr[x.weekday()])"
   ]
  },
  {
   "cell_type": "code",
   "execution_count": null,
   "metadata": {
    "ExecuteTime": {
     "end_time": "2020-09-25T10:17:03.850395Z",
     "start_time": "2020-09-25T10:17:03.812496Z"
    }
   },
   "outputs": [],
   "source": [
    "data['test']['연'] = data['test'].index.map(lambda x: x.year)\n",
    "data['test']['월'] = data['test'].index.map(lambda x: x.month)\n",
    "data['test']['주'] = data['test'].index.map(lambda x: x.week)\n",
    "data['test']['일'] = data['test'].index.map(lambda x: x.day)\n",
    "data['test']['시'] = data['test'].index.map(lambda x: x.hour)\n",
    "data['test']['분'] = data['test'].index.map(lambda x: x.minute)\n",
    "data['test']['요일'] = data['test'].index.map(lambda x: calendar.day_abbr[x.weekday()])"
   ]
  },
  {
   "cell_type": "code",
   "execution_count": null,
   "metadata": {
    "ExecuteTime": {
     "end_time": "2020-09-25T10:17:03.858373Z",
     "start_time": "2020-09-25T10:17:03.851392Z"
    }
   },
   "outputs": [],
   "source": [
    "data['train']['주'] = data['train'].index.map(lambda x: x.week)\n",
    "data['test']['주'] = data['test'].index.map(lambda x: x.week)"
   ]
  },
  {
   "cell_type": "markdown",
   "metadata": {},
   "source": [
    "### 노출시간 결측치 처리"
   ]
  },
  {
   "cell_type": "code",
   "execution_count": null,
   "metadata": {
    "ExecuteTime": {
     "end_time": "2020-09-25T10:17:03.875328Z",
     "start_time": "2020-09-25T10:17:03.859371Z"
    }
   },
   "outputs": [],
   "source": [
    "# 노출시간이 비어있을땐 앞을 보면 됨\n",
    "data['train'] = data['train'].fillna(method='ffill')\n",
    "data['test'] = data['test'].fillna(method='ffill')"
   ]
  },
  {
   "cell_type": "markdown",
   "metadata": {},
   "source": [
    "### 자연어처리(Natural Language Processing)"
   ]
  },
  {
   "cell_type": "markdown",
   "metadata": {},
   "source": [
    "주어진 데이터에서 가장 핵심이 되는 특성은 **상품명**에 있다고 판단하였습니다. 상품명은 비록 한 열로 이루어져있지만, 상품명 자체로부터 뽑아낼 수 있는 특성이 다양하다고 생각했습니다. 예컨대, \"테이트 남성 셀린니트3종\"의 경우는 남성복이라는 특징과 테이트라는 브랜드, 니트라는 옷의 종류 등 뽑아낼 수 있는 정보가 다양합니다. 그러나 이를 뽑아내는 방법에 있어서 일반적인 방법이 존재하지 않습니다. 컴퓨터에게 직접 규칙기반 방법으로 남성과 여성, 무이자와 일시불과 같은 특성을 뽑도록 지시할 수는 있지만 이 지시하는 명령 자체를 만들기 위해서는 사람이 하나하나 전체 상품명을 살펴보며 적절한 특성을 생각해내야 한다는 치명적인 단점이 존재합니다. <br>\n",
    "저희는 이런 문제를 타결하기 위해 **자연어처리** 기술을 사용하였습니다. 이 기술로부터 저희가 달성하고자 하는 목표는 두 가지 입니다.\n",
    "<li> 사람이 직접 분류할 수 없는 분량의 상품명들에 대한 특성 추출 자동화</li>\n",
    "<li> 사람이 보지 못하는 자연어 사이 관계들에 대한 대수적 표현, 그리고 이를 통한 내재된 표현 추출</li>\n",
    "\n",
    "이 목표들을 달성하기 위한 과정들을 아래 기술합니다. 전체적인 과정은 아래와 같습니다.\n",
    "<ul>1. 불용어 및 결측치 제거</ul>\n",
    "<ul>2. 형태소 분석을 통한 통찰에 도움 되는 명사 위주의 형태소 추출</ul>\n",
    "<ul>3. Word2Vec 모델을 활용한 상품명들의 대수적 표현 생성(Embedding)</ul>\n",
    "<ul>4. PCA를 통한 차원 축소</ul>\n",
    "\n",
    "그리고 이 과정을 통하여 통계적 분석 방법을 통해 명사 위주의 형태소를 추출한 결과들로부터 파생 변수를 생성하였습니다.\n",
    "또한 Word2Vec으로부터 만들어낸 단어의 Embedding Vector를 활용하여 이 또한 파생 변수로 사용하였습니다."
   ]
  },
  {
   "cell_type": "markdown",
   "metadata": {},
   "source": [
    "#### 불용어 제거\n",
    "상품명 분석 과정에서 성능 저해를 불러 일으키는 큰 요소가 바로 불용어입니다. 대개 많은 형태소 분석기에서 이들을 자동으로 인식하지 않고 작업을 해주는 경우도 있으나, 저희는 더 높은 정확도를 위해 단어의 형태가 아닌 특수문자와 큰 공백들, 낱개의 자소문자들을 제거하였습니다."
   ]
  },
  {
   "cell_type": "code",
   "execution_count": null,
   "metadata": {
    "ExecuteTime": {
     "end_time": "2020-09-25T10:17:03.881312Z",
     "start_time": "2020-09-25T10:17:03.876325Z"
    }
   },
   "outputs": [],
   "source": [
    "def re_sub(series: pd.Series) -> pd.Series:\n",
    "    series = series.str.replace(pat=r'[ㄱ-ㅎ]', repl=r'', regex=True)  # ㅋ 제거용\n",
    "    series = series.str.replace(pat=r'[^\\w\\s]', repl=r'', regex=True)  # 특수문자 제거\n",
    "    series = series.str.replace(pat=r'[ ]{2,}', repl=r' ', regex=True)  # 공백 제거\n",
    "    series = series.str.replace(pat=r'[\\u3000]+', repl=r'', regex=True)  # u3000 제거\n",
    "    return series"
   ]
  },
  {
   "cell_type": "code",
   "execution_count": null,
   "metadata": {
    "ExecuteTime": {
     "end_time": "2020-09-25T10:17:04.071803Z",
     "start_time": "2020-09-25T10:17:03.882309Z"
    }
   },
   "outputs": [],
   "source": [
    "train = data['train'][['상품명', '상품군']].copy()\n",
    "train.상품명 = re_sub(train.상품명)"
   ]
  },
  {
   "cell_type": "code",
   "execution_count": null,
   "metadata": {
    "ExecuteTime": {
     "end_time": "2020-09-25T10:17:04.090752Z",
     "start_time": "2020-09-25T10:17:04.072800Z"
    }
   },
   "outputs": [],
   "source": [
    "test = data['test'][['상품명', '상품군']].copy()\n",
    "test.상품명 = re_sub(test.상품명)"
   ]
  },
  {
   "cell_type": "code",
   "execution_count": null,
   "metadata": {
    "ExecuteTime": {
     "end_time": "2020-09-25T10:17:04.118678Z",
     "start_time": "2020-09-25T10:17:04.091750Z"
    }
   },
   "outputs": [],
   "source": [
    "prod_names = (train[train.상품군 != '무형'].상품명 + ' ' + train[train.상품군 != '무형'].상품군).values # len(prod_names) > 1692 (무형 빼고)\n",
    "prod_names_test = (test[test.상품군 != '무형'].상품명 + ' ' + test[test.상품군 != '무형'].상품군).values # len(prod_names) > 1692 (무형 빼고)"
   ]
  },
  {
   "cell_type": "code",
   "execution_count": null,
   "metadata": {
    "ExecuteTime": {
     "end_time": "2020-09-25T10:17:04.124662Z",
     "start_time": "2020-09-25T10:17:04.119676Z"
    }
   },
   "outputs": [],
   "source": [
    "len(prod_names), len(prod_names_test)"
   ]
  },
  {
   "cell_type": "markdown",
   "metadata": {},
   "source": [
    "#### KOMORAN을 통하여 형태소 분석\n",
    "Komoran은 Java를 기반으로 제작된 한국어 형태소 분석기입니다. 저희가 Komoran을 사용한 이유는 아래와 같습니다.\n",
    "<li> Java를 기반으로 제작되어, JDK가 설치되어 있는 환경이라면 어디서든 사용이 가능하다는 점 </li>\n",
    "<li> Java의 우수한 계산 속도가 그대로 반영되어 있다는 점 </li>\n",
    "<li> 여타 형태소 분석기와 비교하였을 때, 자소분리, 오탈자, 비문을 더 잘 분석해낸다는 점 </li>\n",
    "이 형태소 분석기를 통해 1차적으로 고유 상품명에 대해 형태소 분석을 진행하였습니다. 형태소 분석이라 함은 한 문장 내에서 각 단어 요소들이 문장 내 어떤 역할을 하고 있는지 분석하는 행위입니다. 아래와 같은 예시를 들자면"
   ]
  },
  {
   "cell_type": "code",
   "execution_count": null,
   "metadata": {
    "ExecuteTime": {
     "end_time": "2020-09-25T10:17:07.266104Z",
     "start_time": "2020-09-25T10:17:04.128651Z"
    }
   },
   "outputs": [],
   "source": [
    "komoran = Komoran(userdic='./data/04_추가데이터/user_dict_0913.txt')\n",
    "print(komoran.pos(\"KOMORAN은 한국어 형태소 분석기입니다.\"))"
   ]
  },
  {
   "cell_type": "markdown",
   "metadata": {},
   "source": [
    "위 문장 \"KOMORAN은 한국어 형태소 분석기입니다.\"를 형태소로 분석하면 KOMORAN은 SL, 즉 외국어로 분석하였고 '은'은 보조사, '한국어'는 고유 명사 등으로 분석을 하는 것입니다. 이 때 상품명에 대한 많은 정보를 제공해줄 수 있는 명사를 위주로 분석을 진행하였습니다."
   ]
  },
  {
   "cell_type": "code",
   "execution_count": null,
   "metadata": {
    "ExecuteTime": {
     "end_time": "2020-09-25T10:17:19.243326Z",
     "start_time": "2020-09-25T10:17:07.269096Z"
    }
   },
   "outputs": [],
   "source": [
    "# 상품명에 대한 전체 형태소 분석\n",
    "naive_tokens = list(map(komoran.pos, prod_names))\n",
    "naive_tokens_test = list(map(komoran.pos, prod_names_test))"
   ]
  },
  {
   "cell_type": "code",
   "execution_count": null,
   "metadata": {
    "ExecuteTime": {
     "end_time": "2020-09-25T10:17:19.359993Z",
     "start_time": "2020-09-25T10:17:19.243326Z"
    }
   },
   "outputs": [],
   "source": [
    "# 전체 형태소에서 유의미할 것으로 생각되는 형태소만 추출\n",
    "def morph_filter(lst):\n",
    "    return list(map(lambda x: x[0], filter(lambda x: (x[1] in usable_morphs), lst)))\n",
    "\n",
    "usable_morphs = ['NNG', 'NNP', 'NP', 'NR'] #+ ['SL', 'SN']\n",
    "naive_tokens = list(map(morph_filter, naive_tokens))\n",
    "naive_tokens_test = list(map(morph_filter, naive_tokens_test))"
   ]
  },
  {
   "cell_type": "code",
   "execution_count": null,
   "metadata": {
    "ExecuteTime": {
     "end_time": "2020-09-25T10:17:19.414506Z",
     "start_time": "2020-09-25T10:17:19.359993Z"
    }
   },
   "outputs": [],
   "source": [
    "# 전체 단어에서 분석에 있어 영향을 끼치지 않을 것으로 생각되는 단어들 제외\n",
    "exclude_words = ['종', '인용']\n",
    "def exclude(lst):\n",
    "    return list(filter(lambda x: x not in exclude_words, lst))\n",
    "processed_tokens = list(map(exclude, naive_tokens))\n",
    "processed_tokens_test = list(map(exclude, naive_tokens_test))"
   ]
  },
  {
   "cell_type": "markdown",
   "metadata": {},
   "source": [
    "이렇게 유의미한 단어만 뽑아낸 결과에서 파생변수로 사용되면 좋을 것 같은 단어들을 뽑아내어 이를 활용하였습니다."
   ]
  },
  {
   "cell_type": "code",
   "execution_count": null,
   "metadata": {
    "ExecuteTime": {
     "end_time": "2020-09-25T10:17:19.421871Z",
     "start_time": "2020-09-25T10:17:19.414506Z"
    }
   },
   "outputs": [],
   "source": [
    "processed_tokens[:10]"
   ]
  },
  {
   "cell_type": "code",
   "execution_count": null,
   "metadata": {
    "ExecuteTime": {
     "end_time": "2020-09-25T10:17:19.429763Z",
     "start_time": "2020-09-25T10:17:19.422868Z"
    }
   },
   "outputs": [],
   "source": [
    "processed_tokens_test[:10]"
   ]
  },
  {
   "cell_type": "markdown",
   "metadata": {},
   "source": [
    "#### 임베딩벡터 생성\n",
    "1차적으로 처리된 상품명들로부터 유의미한 단어들을 파생변수로 뽑아낸 뒤, 여기서 저희가 사람의 시각에서 보지 못하는 단어들 사이의 내재된 관계를 찾아내, 이 또한 변수로 활용하기 위해 저희는 **Word2Vec**이라는 단어 단위 임베딩 기술을 활용하였습니다. 이 기술은 앞뒤 단어의 맥락을 통해어 단어 사이의 관계를 파악해 이를 대수적 공간에 대응시키는 기술로, 언어를 수학적으로 활용하는 것이 가능해집니다. 예를 들어 여왕에서 왕을 뺐을 때 나오는 벡터는, 여자에서 남자를 뺐을 때 나오는 벡터와 유사합니다. 이 때 수학적 공간은 저희가 살고 있는 시간을 포함한 4차원의 공간이 아닌 100차원의 공간으로 대응시키게 됩니다. 이 단어들을 표현할 수 있는 가장 기본이 되는 재료가 100개가 된다고 해석할 수 있습니다."
   ]
  },
  {
   "cell_type": "code",
   "execution_count": null,
   "metadata": {
    "ExecuteTime": {
     "end_time": "2020-09-25T10:17:20.430074Z",
     "start_time": "2020-09-25T10:17:19.430759Z"
    }
   },
   "outputs": [],
   "source": [
    "model_w2v = Word2Vec(sentences=processed_tokens, size=10, window=6, min_count=5, workers=4, sg=1)\n",
    "word_vectors = model_w2v.wv\n",
    "vocabs = word_vectors.vocab.keys()\n",
    "word_vectors_list = [word_vectors[v] for v in vocabs]"
   ]
  },
  {
   "cell_type": "code",
   "execution_count": null,
   "metadata": {
    "ExecuteTime": {
     "end_time": "2020-09-25T10:17:20.436057Z",
     "start_time": "2020-09-25T10:17:20.431039Z"
    }
   },
   "outputs": [],
   "source": [
    "def sum_embed(lst):\n",
    "    wv = []\n",
    "    for word in lst:\n",
    "        try:\n",
    "            wv.append(word_vectors[word])\n",
    "        except:\n",
    "            pass\n",
    "    return sum(wv)"
   ]
  },
  {
   "cell_type": "markdown",
   "metadata": {},
   "source": [
    "Word2Vec 모델은 단어 단위를 임베딩하는 방법을 학습하게 됩니다. 즉 처음에 예시로 들었던 \"테이트 남성 셀린니트 3종\"의 경우 '테이트', '남성', '니트'가 같이 붙어있다는 것을 활용하여 각각의 단어들을 100차원의 공간으로 임베딩 시키게 됩니다. 그렇다면 \"테이트 남성 셀린니트 3종\"을 수학적으로 표현하려면 각각 테이트, 남성, 니트 벡터들을 모두 합해주는 방법을 취했습니다. 이 방법에 대한 타당성은 클러스터링된 그림을 첨부합니다."
   ]
  },
  {
   "cell_type": "code",
   "execution_count": null,
   "metadata": {
    "ExecuteTime": {
     "end_time": "2020-09-25T10:17:20.943667Z",
     "start_time": "2020-09-25T10:17:20.437022Z"
    }
   },
   "outputs": [],
   "source": [
    "embedded_tokens = list(map(sum_embed, processed_tokens))\n",
    "embedded_tokens_test = list(map(sum_embed, processed_tokens_test))"
   ]
  },
  {
   "cell_type": "markdown",
   "metadata": {},
   "source": [
    "#### PCA를 통하여 차원 축소\n",
    "비록 저 100차원의 벡터를 모두 파생변수로 활용하면 좋겠지만, 모델이 데이터를 해석하는 능력에 있어서 변수의 수를 조절해줄 필요가 있기에 저희는 100차원으로 대응시킨 대수적 표현에 대해 차원 축소 과정을 진행하였습니다. 이 과정은 PCA라는 선형대수적 방법을 활용한 것으로 데이터에 대한 손실을 최소화하면서 차원을 축소하는 방법으로 현재 상품명들을 모두 10차원의 벡터로 축소하였습니다.\n",
    "<br>\n",
    "처음부터 Word2Vec을 10차원으로 만들지 않은 이유는 더 풍부하게 표현한 뒤에 축소하는 것이 논리적으로 타당하기 때문입니다."
   ]
  },
  {
   "cell_type": "code",
   "execution_count": null,
   "metadata": {
    "ExecuteTime": {
     "end_time": "2020-09-25T10:17:21.008079Z",
     "start_time": "2020-09-25T10:17:20.944665Z"
    }
   },
   "outputs": [],
   "source": [
    "%%time\n",
    "pca = PCA(n_components=10)\n",
    "pca.fit(embedded_tokens)\n",
    "xys = pca.transform(embedded_tokens)\n",
    "xys_test = pca.transform(embedded_tokens_test)"
   ]
  },
  {
   "cell_type": "code",
   "execution_count": null,
   "metadata": {
    "ExecuteTime": {
     "end_time": "2020-09-25T10:17:21.016306Z",
     "start_time": "2020-09-25T10:17:21.009075Z"
    }
   },
   "outputs": [],
   "source": [
    "xys.shape  # 무형 제외"
   ]
  },
  {
   "cell_type": "code",
   "execution_count": null,
   "metadata": {
    "ExecuteTime": {
     "end_time": "2020-09-25T10:17:21.187432Z",
     "start_time": "2020-09-25T10:17:21.017303Z"
    }
   },
   "outputs": [],
   "source": [
    "xys_test.shape  # 무형 제외"
   ]
  },
  {
   "cell_type": "markdown",
   "metadata": {},
   "source": [
    "---\n",
    "\n",
    "## 탐색적 데이터 분석(Exploratory Data Analysis)"
   ]
  },
  {
   "cell_type": "markdown",
   "metadata": {},
   "source": [
    "### 데이터 형태"
   ]
  },
  {
   "cell_type": "code",
   "execution_count": null,
   "metadata": {
    "ExecuteTime": {
     "end_time": "2020-09-25T10:17:21.193255Z",
     "start_time": "2020-09-25T10:17:21.188430Z"
    }
   },
   "outputs": [],
   "source": [
    "data['train'].shape"
   ]
  },
  {
   "cell_type": "code",
   "execution_count": null,
   "metadata": {
    "ExecuteTime": {
     "end_time": "2020-09-25T10:17:21.198240Z",
     "start_time": "2020-09-25T10:17:21.194252Z"
    }
   },
   "outputs": [],
   "source": [
    "data['test'].shape"
   ]
  },
  {
   "cell_type": "markdown",
   "metadata": {},
   "source": [
    "### 데이터의 컬럼"
   ]
  },
  {
   "cell_type": "code",
   "execution_count": null,
   "metadata": {
    "ExecuteTime": {
     "end_time": "2020-09-25T10:17:21.204226Z",
     "start_time": "2020-09-25T10:17:21.199238Z"
    }
   },
   "outputs": [],
   "source": [
    "data['train'].columns"
   ]
  },
  {
   "cell_type": "code",
   "execution_count": null,
   "metadata": {
    "ExecuteTime": {
     "end_time": "2020-09-25T10:17:21.209211Z",
     "start_time": "2020-09-25T10:17:21.205223Z"
    }
   },
   "outputs": [],
   "source": [
    "data['test'].columns"
   ]
  },
  {
   "cell_type": "markdown",
   "metadata": {},
   "source": [
    "### 데이터 타입"
   ]
  },
  {
   "cell_type": "code",
   "execution_count": null,
   "metadata": {
    "ExecuteTime": {
     "end_time": "2020-09-25T10:17:21.226255Z",
     "start_time": "2020-09-25T10:17:21.210209Z"
    }
   },
   "outputs": [],
   "source": [
    "data['train'].info()"
   ]
  },
  {
   "cell_type": "code",
   "execution_count": null,
   "metadata": {
    "ExecuteTime": {
     "end_time": "2020-09-25T10:17:21.236261Z",
     "start_time": "2020-09-25T10:17:21.227252Z"
    }
   },
   "outputs": [],
   "source": [
    "data['test'].info()"
   ]
  },
  {
   "cell_type": "markdown",
   "metadata": {},
   "source": [
    "### 데이터 기초 통계량"
   ]
  },
  {
   "cell_type": "code",
   "execution_count": null,
   "metadata": {
    "ExecuteTime": {
     "end_time": "2020-09-25T10:17:21.277931Z",
     "start_time": "2020-09-25T10:17:21.237259Z"
    }
   },
   "outputs": [],
   "source": [
    "data['train'].describe()"
   ]
  },
  {
   "cell_type": "code",
   "execution_count": null,
   "metadata": {
    "ExecuteTime": {
     "end_time": "2020-09-25T10:17:21.310597Z",
     "start_time": "2020-09-25T10:17:21.278930Z"
    }
   },
   "outputs": [],
   "source": [
    "data['test'].describe()"
   ]
  },
  {
   "cell_type": "markdown",
   "metadata": {},
   "source": [
    "### 상품코드\n",
    "상품을 나타내는 key값으로 유추할 수 있음.\n",
    "<br> 상품코드: 마더코드 + 가격"
   ]
  },
  {
   "cell_type": "code",
   "execution_count": null,
   "metadata": {
    "ExecuteTime": {
     "end_time": "2020-09-25T10:17:21.316605Z",
     "start_time": "2020-09-25T10:17:21.311595Z"
    }
   },
   "outputs": [],
   "source": [
    "data['train']['상품코드'].unique()"
   ]
  },
  {
   "cell_type": "code",
   "execution_count": null,
   "metadata": {
    "ExecuteTime": {
     "end_time": "2020-09-25T10:17:21.323563Z",
     "start_time": "2020-09-25T10:17:21.317579Z"
    },
    "scrolled": true
   },
   "outputs": [],
   "source": [
    "data['test']['상품코드'].unique()"
   ]
  },
  {
   "cell_type": "code",
   "execution_count": null,
   "metadata": {
    "ExecuteTime": {
     "end_time": "2020-09-25T10:17:21.332481Z",
     "start_time": "2020-09-25T10:17:21.324560Z"
    }
   },
   "outputs": [],
   "source": [
    "data['train']['상품코드'].value_counts()"
   ]
  },
  {
   "cell_type": "code",
   "execution_count": null,
   "metadata": {
    "ExecuteTime": {
     "end_time": "2020-09-25T10:17:21.339316Z",
     "start_time": "2020-09-25T10:17:21.333480Z"
    }
   },
   "outputs": [],
   "source": [
    "data['test']['상품코드'].value_counts()"
   ]
  },
  {
   "cell_type": "code",
   "execution_count": null,
   "metadata": {
    "ExecuteTime": {
     "end_time": "2020-09-25T10:17:21.344758Z",
     "start_time": "2020-09-25T10:17:21.340313Z"
    }
   },
   "outputs": [],
   "source": [
    "len(data['train']['상품코드'].unique())"
   ]
  },
  {
   "cell_type": "code",
   "execution_count": null,
   "metadata": {
    "ExecuteTime": {
     "end_time": "2020-09-25T10:17:21.350608Z",
     "start_time": "2020-09-25T10:17:21.345757Z"
    }
   },
   "outputs": [],
   "source": [
    "len(data['test']['상품코드'].unique())"
   ]
  },
  {
   "cell_type": "code",
   "execution_count": null,
   "metadata": {
    "ExecuteTime": {
     "end_time": "2020-09-25T10:17:21.359998Z",
     "start_time": "2020-09-25T10:17:21.351605Z"
    }
   },
   "outputs": [],
   "source": [
    "len(set(data['train']['상품코드']).intersection(set(data['test']['상품코드'])))  # 오직 27개의 상품코드만 겹침"
   ]
  },
  {
   "cell_type": "code",
   "execution_count": null,
   "metadata": {
    "ExecuteTime": {
     "end_time": "2020-09-25T10:17:21.379335Z",
     "start_time": "2020-09-25T10:17:21.360997Z"
    }
   },
   "outputs": [],
   "source": [
    "data['train'][['상품코드','상품명','상품군']].drop_duplicates()"
   ]
  },
  {
   "cell_type": "code",
   "execution_count": null,
   "metadata": {
    "ExecuteTime": {
     "end_time": "2020-09-25T10:17:21.394944Z",
     "start_time": "2020-09-25T10:17:21.379855Z"
    }
   },
   "outputs": [],
   "source": [
    "data['test'][['상품코드','상품명','상품군']].drop_duplicates()"
   ]
  },
  {
   "cell_type": "markdown",
   "metadata": {},
   "source": [
    "### 상품명"
   ]
  },
  {
   "cell_type": "code",
   "execution_count": null,
   "metadata": {
    "ExecuteTime": {
     "end_time": "2020-09-25T10:17:21.404917Z",
     "start_time": "2020-09-25T10:17:21.395943Z"
    }
   },
   "outputs": [],
   "source": [
    "sorted(data['train']['상품명'].unique())[:10]"
   ]
  },
  {
   "cell_type": "code",
   "execution_count": null,
   "metadata": {
    "ExecuteTime": {
     "end_time": "2020-09-25T10:17:21.410718Z",
     "start_time": "2020-09-25T10:17:21.405916Z"
    },
    "scrolled": true
   },
   "outputs": [],
   "source": [
    "sorted(data['test']['상품명'].unique())[:10]"
   ]
  },
  {
   "cell_type": "markdown",
   "metadata": {},
   "source": [
    "### 상품군\n",
    "상품의 대분류로써, 상품군 별로 통계값들을 살펴보아 전체적인 상품들의 특징들을 잡을 것이다."
   ]
  },
  {
   "cell_type": "markdown",
   "metadata": {},
   "source": [
    "#### 상품군 내 상품 비율"
   ]
  },
  {
   "cell_type": "code",
   "execution_count": null,
   "metadata": {
    "ExecuteTime": {
     "end_time": "2020-09-25T10:17:21.557123Z",
     "start_time": "2020-09-25T10:17:21.411717Z"
    }
   },
   "outputs": [],
   "source": [
    "(data['train']['상품군'].value_counts().sort_index() / len(data['train']['상품군'])).plot(kind='barh')\n",
    "plt.show()"
   ]
  },
  {
   "cell_type": "code",
   "execution_count": null,
   "metadata": {
    "ExecuteTime": {
     "end_time": "2020-09-25T10:17:21.689745Z",
     "start_time": "2020-09-25T10:17:21.558121Z"
    }
   },
   "outputs": [],
   "source": [
    "(data['test']['상품군'].value_counts().sort_index() / len(data['test']['상품군'])).plot(kind='barh')\n",
    "plt.show()"
   ]
  },
  {
   "cell_type": "markdown",
   "metadata": {},
   "source": [
    "#### 상품군 내 유일 상품 확인"
   ]
  },
  {
   "cell_type": "code",
   "execution_count": null,
   "metadata": {
    "ExecuteTime": {
     "end_time": "2020-09-25T10:17:21.698070Z",
     "start_time": "2020-09-25T10:17:21.690743Z"
    }
   },
   "outputs": [],
   "source": [
    "sorted(data['train']['상품군'].unique())"
   ]
  },
  {
   "cell_type": "code",
   "execution_count": null,
   "metadata": {
    "ExecuteTime": {
     "end_time": "2020-09-25T10:17:21.705194Z",
     "start_time": "2020-09-25T10:17:21.699069Z"
    }
   },
   "outputs": [],
   "source": [
    "sorted(data['test']['상품군'].unique())"
   ]
  },
  {
   "cell_type": "code",
   "execution_count": null,
   "metadata": {
    "ExecuteTime": {
     "end_time": "2020-09-25T10:17:21.878173Z",
     "start_time": "2020-09-25T10:17:21.706193Z"
    }
   },
   "outputs": [],
   "source": [
    "prod_list = data['train'][['상품코드','상품명','상품군']].drop_duplicates()\n",
    "(prod_list['상품군'].value_counts() / len(prod_list)).plot(kind = 'bar', figsize=(14, 10))\n",
    "plt.show()"
   ]
  },
  {
   "cell_type": "markdown",
   "metadata": {},
   "source": [
    "#### *무형 상품군\n",
    "무형 상품군은 학습 데이터 내 판매단가가 없으므로, 학습 과정에서는 빠질 예정"
   ]
  },
  {
   "cell_type": "code",
   "execution_count": null,
   "metadata": {
    "ExecuteTime": {
     "end_time": "2020-09-25T10:17:21.902938Z",
     "start_time": "2020-09-25T10:17:21.879172Z"
    }
   },
   "outputs": [],
   "source": [
    "data['train'][data['train']['상품군'] == '무형']"
   ]
  },
  {
   "cell_type": "code",
   "execution_count": null,
   "metadata": {
    "ExecuteTime": {
     "end_time": "2020-09-25T10:17:21.926065Z",
     "start_time": "2020-09-25T10:17:21.904147Z"
    }
   },
   "outputs": [],
   "source": [
    "data['test'][data['test']['상품군'] == '무형']"
   ]
  },
  {
   "cell_type": "markdown",
   "metadata": {},
   "source": [
    "연도의 일관성 위해, 학습에서 2019년 데이터만 추출"
   ]
  },
  {
   "cell_type": "code",
   "execution_count": null,
   "metadata": {
    "ExecuteTime": {
     "end_time": "2020-09-25T10:17:21.947253Z",
     "start_time": "2020-09-25T10:17:21.927063Z"
    }
   },
   "outputs": [],
   "source": [
    "quant_group = data['train']['2019'].groupby('상품군').sum()\n",
    "quant_group"
   ]
  },
  {
   "cell_type": "markdown",
   "metadata": {},
   "source": [
    "### 판매단가"
   ]
  },
  {
   "cell_type": "code",
   "execution_count": null,
   "metadata": {
    "ExecuteTime": {
     "end_time": "2020-09-25T10:17:21.957227Z",
     "start_time": "2020-09-25T10:17:21.948250Z"
    }
   },
   "outputs": [],
   "source": [
    "data['train'][data['train']['판매단가'] >0]['판매단가'].unique().min()"
   ]
  },
  {
   "cell_type": "code",
   "execution_count": null,
   "metadata": {
    "ExecuteTime": {
     "end_time": "2020-09-25T10:17:21.964208Z",
     "start_time": "2020-09-25T10:17:21.958225Z"
    }
   },
   "outputs": [],
   "source": [
    "data['test'][data['test']['판매단가'] >0]['판매단가'].unique().min()"
   ]
  },
  {
   "cell_type": "markdown",
   "metadata": {},
   "source": [
    "#### 상품명별 판매단가"
   ]
  },
  {
   "cell_type": "code",
   "execution_count": null,
   "metadata": {
    "ExecuteTime": {
     "end_time": "2020-09-25T10:17:22.183009Z",
     "start_time": "2020-09-25T10:17:21.964425Z"
    }
   },
   "outputs": [],
   "source": [
    "prod_group = data['train']['2019'].groupby('상품명').mean()\n",
    "prod_group['판매단가'].sort_values(ascending=False)[:10].plot(kind='bar', figsize=(14, 10))\n",
    "plt.show()"
   ]
  },
  {
   "cell_type": "code",
   "execution_count": null,
   "metadata": {
    "ExecuteTime": {
     "end_time": "2020-09-25T10:17:22.501080Z",
     "start_time": "2020-09-25T10:17:22.184007Z"
    }
   },
   "outputs": [],
   "source": [
    "plt.figure(figsize=(14,10))\n",
    "sns.boxplot(x = '상품군', y = '판매단가', data = data['train'])\n",
    "plt.show()"
   ]
  },
  {
   "cell_type": "code",
   "execution_count": null,
   "metadata": {
    "ExecuteTime": {
     "end_time": "2020-09-25T10:17:22.899829Z",
     "start_time": "2020-09-25T10:17:22.502094Z"
    }
   },
   "outputs": [],
   "source": [
    "plt.figure(figsize=(14,10))\n",
    "sns.boxplot(x = '상품군', y = '판매단가', data = data['test'])\n",
    "plt.show()"
   ]
  },
  {
   "cell_type": "markdown",
   "metadata": {},
   "source": [
    "### 취급액\n",
    "Target 값인 취급액에서의 Trend를 확인해 볼수 있다."
   ]
  },
  {
   "cell_type": "code",
   "execution_count": null,
   "metadata": {
    "ExecuteTime": {
     "end_time": "2020-09-25T10:17:23.210147Z",
     "start_time": "2020-09-25T10:17:22.900826Z"
    }
   },
   "outputs": [],
   "source": [
    "data['train'].pivot_table(values=['취급액'],\n",
    "                   index=['상품군'],\n",
    "                   aggfunc='sum').sort_values(by='취급액',ascending=False).plot(kind='barh', figsize=(14, 10))\n",
    "plt.show()"
   ]
  },
  {
   "cell_type": "code",
   "execution_count": null,
   "metadata": {
    "ExecuteTime": {
     "end_time": "2020-09-25T10:17:23.677895Z",
     "start_time": "2020-09-25T10:17:23.215133Z"
    }
   },
   "outputs": [],
   "source": [
    "# TOP10만 확인\n",
    "data['train'].pivot_table(values=['취급액'],\n",
    "                          index=['상품명'],\n",
    "                          aggfunc='sum').sort_values(by='취급액',ascending=False)[:10].plot(kind='barh', figsize=(14, 10))\n",
    "plt.show()"
   ]
  },
  {
   "cell_type": "code",
   "execution_count": null,
   "metadata": {
    "ExecuteTime": {
     "end_time": "2020-09-25T10:17:23.840655Z",
     "start_time": "2020-09-25T10:17:23.680887Z"
    }
   },
   "outputs": [],
   "source": [
    "data['train'][['상품코드','상품명','상품군']]['상품군'].value_counts().plot(kind = 'barh', figsize=(14, 10))\n",
    "plt.show()"
   ]
  },
  {
   "cell_type": "code",
   "execution_count": null,
   "metadata": {
    "ExecuteTime": {
     "end_time": "2020-09-25T10:17:24.135866Z",
     "start_time": "2020-09-25T10:17:23.841654Z"
    }
   },
   "outputs": [],
   "source": [
    "data['test'][['상품코드','상품명','상품군']]['상품군'].value_counts().plot(kind = 'barh', figsize=(14, 10))\n",
    "plt.show()"
   ]
  },
  {
   "cell_type": "code",
   "execution_count": null,
   "metadata": {
    "ExecuteTime": {
     "end_time": "2020-09-25T10:17:24.142847Z",
     "start_time": "2020-09-25T10:17:24.136863Z"
    }
   },
   "outputs": [],
   "source": [
    "np.nanmax(data['train']['취급액'].unique())"
   ]
  },
  {
   "cell_type": "code",
   "execution_count": null,
   "metadata": {
    "ExecuteTime": {
     "end_time": "2020-09-25T10:17:24.764914Z",
     "start_time": "2020-09-25T10:17:24.143844Z"
    }
   },
   "outputs": [],
   "source": [
    "plt.figure(figsize=(14,10))\n",
    "sns.boxplot(x = '상품군', y = '취급액', data = data['train'])\n",
    "plt.show()"
   ]
  },
  {
   "cell_type": "code",
   "execution_count": null,
   "metadata": {
    "ExecuteTime": {
     "end_time": "2020-09-25T10:17:25.210400Z",
     "start_time": "2020-09-25T10:17:24.766911Z"
    }
   },
   "outputs": [],
   "source": [
    "cat_outcome = data['train'][['상품군', '취급액']].groupby('상품군').mean()\n",
    "cat_outcome.sort_values(by=['취급액'], axis=0, ascending=False).plot(kind='bar', figsize=(14, 10))\n",
    "plt.show()"
   ]
  },
  {
   "cell_type": "markdown",
   "metadata": {},
   "source": [
    "### 상품군 별 노출(분)\n",
    "+ 노출시간은 20분 전후로 모든 상품군이 균등하게 분포해있다고 볼 수 있다.\n",
    "+ 총 노출시간은 방영 횟수와 연관이 되어있으므로, 이는 생략한다."
   ]
  },
  {
   "cell_type": "code",
   "execution_count": null,
   "metadata": {
    "ExecuteTime": {
     "end_time": "2020-09-25T10:17:25.626420Z",
     "start_time": "2020-09-25T10:17:25.211397Z"
    }
   },
   "outputs": [],
   "source": [
    "cat_duration = data['train'][['상품군', '노출(분)']].groupby('상품군').mean()\n",
    "cat_duration.sort_values(by=['노출(분)'], axis=0, ascending=False).plot(kind='bar', figsize=(14, 10))\n",
    "plt.ylim(15,25)\n",
    "plt.show()"
   ]
  },
  {
   "cell_type": "markdown",
   "metadata": {},
   "source": [
    "### 시간대 별 상품 판매 Trend\n",
    "(위): 총 거래량, (아래): 평균 거래량"
   ]
  },
  {
   "cell_type": "markdown",
   "metadata": {},
   "source": [
    "#### 월별\n",
    "+ 연말(10, 11, 12월)에 판매량이 많은 것으로 보임"
   ]
  },
  {
   "cell_type": "code",
   "execution_count": null,
   "metadata": {
    "ExecuteTime": {
     "end_time": "2020-09-25T10:17:26.054805Z",
     "start_time": "2020-09-25T10:17:25.628335Z"
    }
   },
   "outputs": [],
   "source": [
    "month_group = data['train']['2019'].groupby('월').sum()\n",
    "month_group['취급액'].plot(kind='bar', figsize=(14, 10))\n",
    "plt.axhline(y = np.mean(month_group.취급액), color = 'red', ls = '--')\n",
    "plt.ylim(month_group['취급액'].min()*0.9, month_group['취급액'].max()*1.1)\n",
    "plt.show()"
   ]
  },
  {
   "cell_type": "code",
   "execution_count": null,
   "metadata": {
    "ExecuteTime": {
     "end_time": "2020-09-25T10:17:26.506484Z",
     "start_time": "2020-09-25T10:17:26.055799Z"
    }
   },
   "outputs": [],
   "source": [
    "month_group = data['train']['2019'].groupby('월').mean()\n",
    "month_group['취급액'].plot(kind='bar', figsize=(14, 10))\n",
    "plt.axhline(y = np.mean(month_group.취급액), color = 'red', ls = '--')\n",
    "plt.ylim(month_group['취급액'].min()*0.9, month_group['취급액'].max()*1.1)\n",
    "plt.show()"
   ]
  },
  {
   "cell_type": "markdown",
   "metadata": {},
   "source": [
    "#### 주별\n",
    "+ 월별을 세분화하여 확인 가능\n",
    "+ 월 결과 이외에도 6~7월(여름휴가기간), 9월(추석주간)에 소비가 많아진 것을 확인"
   ]
  },
  {
   "cell_type": "code",
   "execution_count": null,
   "metadata": {
    "ExecuteTime": {
     "end_time": "2020-09-25T10:17:27.271854Z",
     "start_time": "2020-09-25T10:17:26.507482Z"
    }
   },
   "outputs": [],
   "source": [
    "week_group = data['train']['2019'].groupby('주').sum()\n",
    "week_group['취급액'].plot(kind='bar', figsize=(14, 10))\n",
    "plt.axhline(y = np.mean(week_group.취급액), color = 'red', ls = '--')\n",
    "plt.ylim(week_group['취급액'].min()*0.9, week_group['취급액'].max()*1.1)\n",
    "plt.show()"
   ]
  },
  {
   "cell_type": "code",
   "execution_count": null,
   "metadata": {
    "ExecuteTime": {
     "end_time": "2020-09-25T10:17:28.039932Z",
     "start_time": "2020-09-25T10:17:27.272852Z"
    }
   },
   "outputs": [],
   "source": [
    "week_group = data['train']['2019'].groupby('주').mean()\n",
    "week_group['취급액'].plot(kind='bar', figsize=(14, 10))\n",
    "plt.axhline(y = np.mean(week_group.취급액), color = 'red', ls = '--')\n",
    "plt.ylim(week_group['취급액'].min()*0.9, week_group['취급액'].max()*1.1)\n",
    "plt.show()"
   ]
  },
  {
   "cell_type": "markdown",
   "metadata": {},
   "source": [
    "#### 일별\n",
    "+ 월급이 들어오는 날(25일) 이후로 소비가 많아지는 것을 확인할 수 있음\n",
    "+ 총 거래량에서 31일이 적은 이유는, 31일이 포함된 달이 6달밖에 없기 때문"
   ]
  },
  {
   "cell_type": "code",
   "execution_count": null,
   "metadata": {
    "ExecuteTime": {
     "end_time": "2020-09-25T10:17:28.544778Z",
     "start_time": "2020-09-25T10:17:28.040931Z"
    }
   },
   "outputs": [],
   "source": [
    "day_group = data['train']['2019'].groupby('일').sum()\n",
    "day_group['취급액'].plot(kind='bar', figsize=(14, 10))\n",
    "plt.axhline(y = np.mean(day_group['취급액']), color = 'red', ls = '--')\n",
    "plt.ylim(day_group['취급액'].min()*0.9, day_group['취급액'].max()*1.1)\n",
    "plt.show()"
   ]
  },
  {
   "cell_type": "code",
   "execution_count": null,
   "metadata": {
    "ExecuteTime": {
     "end_time": "2020-09-25T10:17:29.020655Z",
     "start_time": "2020-09-25T10:17:28.546107Z"
    }
   },
   "outputs": [],
   "source": [
    "day_group = data['train']['2019'].groupby('일').mean()\n",
    "day_group['취급액'].plot(kind='bar', figsize=(14, 10))\n",
    "plt.axhline(y = np.mean(day_group['취급액']), color = 'red', ls = '--')\n",
    "plt.ylim(day_group['취급액'].min()*0.9, day_group['취급액'].max()*1.1)\n",
    "plt.show()"
   ]
  },
  {
   "cell_type": "markdown",
   "metadata": {},
   "source": [
    "#### 시간별\n",
    "+ 평균적인 거래량은 16~18시(퇴근시간 가까이)대에 가장 많음\n",
    "+ 총 거래량은 20~23시(저녁시간)대에 가장 많음"
   ]
  },
  {
   "cell_type": "code",
   "execution_count": null,
   "metadata": {
    "ExecuteTime": {
     "end_time": "2020-09-25T10:17:29.482050Z",
     "start_time": "2020-09-25T10:17:29.021653Z"
    },
    "scrolled": false
   },
   "outputs": [],
   "source": [
    "hour_group = data['train']['2019'].groupby('시').sum()\n",
    "hour_group['취급액'].plot(kind='bar', figsize=(14, 10))\n",
    "plt.axhline(y = np.mean(hour_group['취급액']), color = 'red', ls = '--')\n",
    "plt.ylim(hour_group['취급액'].min()*0.9, hour_group['취급액'].max()*1.1)\n",
    "plt.show()"
   ]
  },
  {
   "cell_type": "code",
   "execution_count": null,
   "metadata": {
    "ExecuteTime": {
     "end_time": "2020-09-25T10:17:29.926808Z",
     "start_time": "2020-09-25T10:17:29.483049Z"
    }
   },
   "outputs": [],
   "source": [
    "hour_group = data['train']['2019'].groupby('시').mean()\n",
    "hour_group['취급액'].plot(kind='bar', figsize=(14, 10))\n",
    "plt.axhline(y = np.mean(hour_group['취급액']), color = 'red', ls = '--')\n",
    "plt.ylim(hour_group['취급액'].min()*0.9, hour_group['취급액'].max()*1.1)\n",
    "plt.show()"
   ]
  },
  {
   "cell_type": "markdown",
   "metadata": {},
   "source": [
    "#### 요일별\n",
    "+ 주말(토,일)에 거래량이 가장 많은 것을 확인할 수 있음"
   ]
  },
  {
   "cell_type": "code",
   "execution_count": null,
   "metadata": {
    "ExecuteTime": {
     "end_time": "2020-09-25T10:17:30.335198Z",
     "start_time": "2020-09-25T10:17:29.927805Z"
    }
   },
   "outputs": [],
   "source": [
    "weekday_group = data['train']['2019'].groupby('요일').sum()\n",
    "weekday_group = weekday_group.T.loc['취급액',['Mon','Tue','Wed','Thu','Fri','Sat','Sun']]\n",
    "weekday_group.plot(kind='bar', figsize=(14, 10)) #0: Monday ~ 6: Sunday\n",
    "plt.axhline(y = np.mean(weekday_group), color = 'red', ls = '--')\n",
    "plt.ylim(weekday_group.min()*0.9, weekday_group.max()*1.1)\n",
    "plt.show()"
   ]
  },
  {
   "cell_type": "code",
   "execution_count": null,
   "metadata": {
    "ExecuteTime": {
     "end_time": "2020-09-25T10:17:30.745910Z",
     "start_time": "2020-09-25T10:17:30.336197Z"
    }
   },
   "outputs": [],
   "source": [
    "weekday_group = data['train']['2019'].groupby('요일').mean()\n",
    "weekday_group = weekday_group.T.loc['취급액',['Mon','Tue','Wed','Thu','Fri','Sat','Sun']]\n",
    "weekday_group.plot(kind='bar', figsize=(14, 10)) #0: Monday ~ 6: Sunday\n",
    "plt.axhline(y = np.mean(weekday_group), color = 'red', ls = '--')\n",
    "plt.ylim(weekday_group.min()*0.9, weekday_group.max()*1.1)\n",
    "plt.show()"
   ]
  },
  {
   "cell_type": "markdown",
   "metadata": {},
   "source": [
    "### 시청률"
   ]
  },
  {
   "cell_type": "code",
   "execution_count": null,
   "metadata": {
    "ExecuteTime": {
     "end_time": "2020-09-25T10:17:30.765594Z",
     "start_time": "2020-09-25T10:17:30.746907Z"
    }
   },
   "outputs": [],
   "source": [
    "data['rating'].head()"
   ]
  },
  {
   "cell_type": "code",
   "execution_count": null,
   "metadata": {
    "ExecuteTime": {
     "end_time": "2020-09-25T10:17:30.781247Z",
     "start_time": "2020-09-25T10:17:30.765594Z"
    }
   },
   "outputs": [],
   "source": [
    "data['rating'].tail()"
   ]
  },
  {
   "cell_type": "markdown",
   "metadata": {},
   "source": [
    "### 일별 평균 시청률\n",
    "+ 하반기(7-12월)이 상반기(1-6월)에 비해 평균 시청률이 높음"
   ]
  },
  {
   "cell_type": "code",
   "execution_count": null,
   "metadata": {
    "ExecuteTime": {
     "end_time": "2020-09-25T10:17:31.060275Z",
     "start_time": "2020-09-25T10:17:30.781247Z"
    }
   },
   "outputs": [],
   "source": [
    "plt.figure(figsize=(14,10))\n",
    "tv_day = data['rating'].iloc[-1,1:]   #일 평균 시청률, length: 365\n",
    "tv_day = tv_day*100\n",
    "tv_day.plot()             #하반기에 높은 시청률을 보임.\n",
    "plt.show()"
   ]
  },
  {
   "cell_type": "markdown",
   "metadata": {},
   "source": [
    "### 시간별 평균 시청률\n",
    "+ 특정 시간대에 시청률이 높음\n",
    " <br>1. 오전 시간(10-12시)\n",
    " <br>2. 낮시간(14-16시)\n",
    " <br>3. 저녁시간(23시)"
   ]
  },
  {
   "cell_type": "code",
   "execution_count": null,
   "metadata": {
    "ExecuteTime": {
     "end_time": "2020-09-25T10:17:31.068356Z",
     "start_time": "2020-09-25T10:17:31.061273Z"
    }
   },
   "outputs": [],
   "source": [
    "tv_day.head()"
   ]
  },
  {
   "cell_type": "code",
   "execution_count": null,
   "metadata": {
    "ExecuteTime": {
     "end_time": "2020-09-25T10:17:31.328438Z",
     "start_time": "2020-09-25T10:17:31.070351Z"
    }
   },
   "outputs": [],
   "source": [
    "plt.figure(figsize=(14,10))\n",
    "tv_min = data['rating'].iloc[:-1,-1]   #분당 시청률 02:00(0) ~ 01:59(1439), length: 1439\n",
    "tv_min = tv_min*100\n",
    "tv_min.plot()              #800(15시 경)에 시청률이 가장 높은 추이\n",
    "plt.show()"
   ]
  },
  {
   "cell_type": "code",
   "execution_count": null,
   "metadata": {
    "ExecuteTime": {
     "end_time": "2020-09-25T10:17:31.346848Z",
     "start_time": "2020-09-25T10:17:31.328438Z"
    }
   },
   "outputs": [],
   "source": [
    "data['rating'].tail()"
   ]
  },
  {
   "cell_type": "code",
   "execution_count": null,
   "metadata": {
    "ExecuteTime": {
     "end_time": "2020-09-25T10:17:31.353852Z",
     "start_time": "2020-09-25T10:17:31.348858Z"
    }
   },
   "outputs": [],
   "source": [
    "data['rating'].shape"
   ]
  },
  {
   "cell_type": "markdown",
   "metadata": {},
   "source": [
    "----\n",
    "\n",
    "## 특성 공학(Feature Engineering)"
   ]
  },
  {
   "cell_type": "markdown",
   "metadata": {},
   "source": [
    "### 임베딩 벡터 추가"
   ]
  },
  {
   "cell_type": "code",
   "execution_count": null,
   "metadata": {
    "ExecuteTime": {
     "end_time": "2020-09-25T10:17:31.359837Z",
     "start_time": "2020-09-25T10:17:31.354827Z"
    }
   },
   "outputs": [],
   "source": [
    "columns = [f'embed_{i}' for i in range(10)]"
   ]
  },
  {
   "cell_type": "code",
   "execution_count": null,
   "metadata": {
    "ExecuteTime": {
     "end_time": "2020-09-25T10:17:31.386987Z",
     "start_time": "2020-09-25T10:17:31.360811Z"
    }
   },
   "outputs": [],
   "source": [
    "_data_train = data['train'].loc[~(data['train']['상품군'].isin(['무형'])),:].copy()\n",
    "_data_test = data['test'].loc[~(data['test']['상품군'].isin(['무형'])),:].copy()"
   ]
  },
  {
   "cell_type": "code",
   "execution_count": null,
   "metadata": {
    "ExecuteTime": {
     "end_time": "2020-09-25T10:17:31.494818Z",
     "start_time": "2020-09-25T10:17:31.386987Z"
    }
   },
   "outputs": [],
   "source": [
    "data['train'] = pd.concat([_data_train, \n",
    "                           pd.DataFrame(xys, index=_data_train.index, columns=columns),\n",
    "                           pd.DataFrame(processed_tokens, index=_data_train.index)],axis=1)\n",
    "data['train']"
   ]
  },
  {
   "cell_type": "code",
   "execution_count": null,
   "metadata": {
    "ExecuteTime": {
     "end_time": "2020-09-25T10:17:31.529986Z",
     "start_time": "2020-09-25T10:17:31.494818Z"
    }
   },
   "outputs": [],
   "source": [
    "data['test'] = pd.concat([_data_test,\n",
    "                          pd.DataFrame(xys_test, index=_data_test.index, columns=columns),\n",
    "                         pd.DataFrame(processed_tokens_test, index=_data_test.index)],axis=1)\n",
    "data['test']"
   ]
  },
  {
   "cell_type": "markdown",
   "metadata": {},
   "source": [
    "### 피처 생성"
   ]
  },
  {
   "cell_type": "markdown",
   "metadata": {},
   "source": [
    "#### 네이버트랜드 결합 "
   ]
  },
  {
   "cell_type": "code",
   "execution_count": null,
   "metadata": {
    "ExecuteTime": {
     "end_time": "2020-09-25T10:17:31.838132Z",
     "start_time": "2020-09-25T10:17:31.530984Z"
    }
   },
   "outputs": [],
   "source": [
    "# 네이터 트랜드 가져오기 \n",
    "trend1 = pd.read_excel('./data/03_외부데이터/naver_group_1.xlsx',skiprows=[0,1,2,3,4,5])\n",
    "trend2 = pd.read_excel('./data/03_외부데이터/naver_group_2.xlsx',skiprows=[0,1,2,3,4,5])\n",
    "trend_criterion = pd.read_excel('./data/03_외부데이터/naver_criterion.xlsx',skiprows=[0,1,2,3,4,5]).drop('날짜.1',axis=1)\n",
    "\n",
    "# 트랜드df 만들기 \n",
    "drop_list = ['날짜.1','날짜.2','날짜.3','날짜.4','날짜']\n",
    "date = trend1['날짜']\n",
    "trend1 = trend1.drop(drop_list,axis=1)\n",
    "trend2 = trend2.drop(drop_list,axis=1)\n",
    "\n",
    "# 기준 만들기 \n",
    "cri1 = trend_criterion['농수산']/(trend_criterion['생활용품']+trend_criterion['농수산'])\n",
    "cri2 = trend_criterion['생활용품']/(trend_criterion['생활용품']+trend_criterion['농수산'])\n",
    "\n",
    "# scailing \n",
    "trend1 = trend1.apply(lambda x: x*cri1)\n",
    "trend2 = trend2.apply(lambda x: x*cri2)\n",
    "trend_df = pd.concat([trend1,trend2],axis=1)\n",
    "\n",
    "trend_df['날짜'] = date\n",
    "trend_df['날짜'] = pd.to_datetime(trend_df['날짜'])\n",
    "trend_df  = trend_df.set_index('날짜')"
   ]
  },
  {
   "cell_type": "code",
   "execution_count": null,
   "metadata": {
    "ExecuteTime": {
     "end_time": "2020-09-25T10:17:31.853754Z",
     "start_time": "2020-09-25T10:17:31.838132Z"
    }
   },
   "outputs": [],
   "source": [
    "# min-max\n",
    "mn_scaler = MinMaxScaler()\n",
    "scaled_X = mn_scaler.fit_transform(trend_df.values)\n",
    "trend_df_final = pd.DataFrame(scaled_X,\n",
    "                              columns=trend_df.columns,\n",
    "                              index=trend_df.index)"
   ]
  },
  {
   "cell_type": "code",
   "execution_count": null,
   "metadata": {
    "ExecuteTime": {
     "end_time": "2020-09-25T10:17:31.869375Z",
     "start_time": "2020-09-25T10:17:31.853754Z"
    }
   },
   "outputs": [],
   "source": [
    "# '미용'--> 이미용 '농수산물'--> 농수축 \n",
    "trend_df_final['침구'] = trend_df_final['가구']\n",
    "trend_df_final.columns = ['의류', '농수축', '속옷', '주방', '이미용', '가전', '생활용품', '건강기능', '잡화', '가구', '침구']"
   ]
  },
  {
   "cell_type": "code",
   "execution_count": null,
   "metadata": {
    "ExecuteTime": {
     "end_time": "2020-09-25T10:17:31.884996Z",
     "start_time": "2020-09-25T10:17:31.869375Z"
    }
   },
   "outputs": [],
   "source": [
    "def get_trend(idx, cat):\n",
    "    return trend_df_final.loc[idx.strftime('%Y-%m-%d'), cat]"
   ]
  },
  {
   "cell_type": "code",
   "execution_count": null,
   "metadata": {
    "ExecuteTime": {
     "end_time": "2020-09-25T10:17:46.009492Z",
     "start_time": "2020-09-25T10:17:31.884996Z"
    }
   },
   "outputs": [],
   "source": [
    "data['train']['네이버 트랜드'] = list(map(get_trend, data['train'].index, data['train'].상품군))\n",
    "data['test']['네이버 트랜드'] = list(map(get_trend, data['test'].index, data['test'].상품군))"
   ]
  },
  {
   "cell_type": "markdown",
   "metadata": {},
   "source": [
    "#### 상품별 방영 횟수\n",
    "주력상품 및 인기상품 등은 1회성이 아닌 여러번의 방영을 통해 수익을 극대화할 수 있음.\n",
    "<br>각 상품별 방영 횟수를 월, 주 단위로 알아봄."
   ]
  },
  {
   "cell_type": "markdown",
   "metadata": {},
   "source": [
    "##### 상품별 월 방영 횟수"
   ]
  },
  {
   "cell_type": "code",
   "execution_count": null,
   "metadata": {
    "ExecuteTime": {
     "end_time": "2020-09-25T10:18:58.187388Z",
     "start_time": "2020-09-25T10:17:46.009492Z"
    }
   },
   "outputs": [],
   "source": [
    "def month_cnt(input_df, month):\n",
    "    #상품 확인\n",
    "    df = input_df[input_df.월 == month]\n",
    "    month_prod = df.drop_duplicates(['상품명','월','일','시'])\n",
    "    unq_cnt = np.zeros(len(month_prod))\n",
    "    for i in range(len(month_prod)):\n",
    "        prod_name = list(month_prod.상품명)[i]\n",
    "        cnt = list(month_prod[:i+1].상품명).count(prod_name)\n",
    "        unq_cnt[i] = cnt\n",
    "    month_prod = pd.concat([month_prod,pd.DataFrame(unq_cnt, columns = ['cnt'], index = month_prod.index)], axis = 1)\n",
    "    #식별자\n",
    "    month_prod['id'] = [str(month_prod.상품명[idx])+str(month_prod.월[idx])+str(month_prod.일[idx])+str(month_prod.시[idx]) for idx in range(len(month_prod))]        \n",
    "    \n",
    "    #Count List\n",
    "    month_cnt = []\n",
    "    for j in range(len(df)):\n",
    "        ID = str(list(df.상품명)[j])+str(list(df.월)[j])+str(list(df.일)[j])+str(list(df.시)[j])\n",
    "        month_cnt.append(month_prod[month_prod.id == ID].cnt.values[0])\n",
    "    \n",
    "    return month_cnt\n",
    "\n",
    "## Train\n",
    "month_train = []\n",
    "for i in range(1,13):\n",
    "    mon_cnt = month_cnt(data['train'], i)\n",
    "    month_train = month_train + mon_cnt\n",
    "\n",
    "## Test\n",
    "month_test = []\n",
    "for i in range(1,13):\n",
    "    mon_cnt = month_cnt(data['test'], i)\n",
    "    month_test = month_test + mon_cnt"
   ]
  },
  {
   "cell_type": "markdown",
   "metadata": {},
   "source": [
    "##### 상품별 주 방영 횟수"
   ]
  },
  {
   "cell_type": "code",
   "execution_count": null,
   "metadata": {
    "ExecuteTime": {
     "end_time": "2020-09-25T10:19:37.611294Z",
     "start_time": "2020-09-25T10:18:58.187388Z"
    }
   },
   "outputs": [],
   "source": [
    "def week_cnt(input_df, week):\n",
    "    #상품 확인\n",
    "    df = input_df[input_df.주 == week]\n",
    "    week_prod = df.drop_duplicates(['상품명','주','일','시'])\n",
    "    unq_cnt = np.zeros(len(week_prod))\n",
    "    for i in range(len(week_prod)):\n",
    "        prod_name = list(week_prod.상품명)[i]\n",
    "        cnt = list(week_prod[:i+1].상품명).count(prod_name)\n",
    "        unq_cnt[i] = cnt\n",
    "    week_prod = pd.concat([week_prod,pd.DataFrame(unq_cnt, columns = ['cnt'], index = week_prod.index)], axis = 1)\n",
    "    #식별자\n",
    "    week_prod['id'] = [str(week_prod.상품명[idx])+str(week_prod.주[idx])+str(week_prod.일[idx])+str(week_prod.시[idx]) for idx in range(len(week_prod))]\n",
    "    \n",
    "    #Count List\n",
    "    week_cnt = []\n",
    "    for j in range(len(df)):\n",
    "        ID = str(list(df.상품명)[j])+str(list(df.주)[j])+str(list(df.일)[j])+str(list(df.시)[j])\n",
    "        week_cnt.append(week_prod[week_prod.id == ID].cnt.values[0])\n",
    "    \n",
    "    return week_cnt\n",
    "\n",
    "## Train \n",
    "week_train = []\n",
    "for i in range(1,53):\n",
    "    wk_cnt = week_cnt(data['train'], i)\n",
    "    week_train = week_train + wk_cnt\n",
    "\n",
    "## Test\n",
    "week_test = []\n",
    "for i in range(1,53):\n",
    "    wk_cnt = week_cnt(data['test'], i)\n",
    "    week_test = week_test + wk_cnt"
   ]
  },
  {
   "cell_type": "code",
   "execution_count": null,
   "metadata": {
    "ExecuteTime": {
     "end_time": "2020-09-25T10:19:37.639252Z",
     "start_time": "2020-09-25T10:19:37.611294Z"
    }
   },
   "outputs": [],
   "source": [
    "data['train'] = pd.concat([data['train'],\n",
    "           pd.DataFrame(month_train, columns=['월간누적방영횟수'], index=data['train'].index),\n",
    "           pd.DataFrame(week_train, columns=['주간누적방영횟수'], index=data['train'].index)], axis=1)"
   ]
  },
  {
   "cell_type": "code",
   "execution_count": null,
   "metadata": {
    "ExecuteTime": {
     "end_time": "2020-09-25T10:19:37.648198Z",
     "start_time": "2020-09-25T10:19:37.640221Z"
    }
   },
   "outputs": [],
   "source": [
    "data['test'] = pd.concat([data['test'],\n",
    "           pd.DataFrame(month_test, columns=['월간누적방영횟수'], index=data['test'].index),\n",
    "           pd.DataFrame(week_test, columns=['주간누적방영횟수'], index=data['test'].index)], axis=1)"
   ]
  },
  {
   "cell_type": "markdown",
   "metadata": {},
   "source": [
    "#### 방송 재핑시간\n",
    "\n",
    "<br> Btv: MBC(11) - NS홈쇼핑(14) - JTBC(15)\n",
    "<br> Olleh TV: MBC(11) - NS홈쇼핑(12) - JTBC(15)\n",
    "<br> U+ tv: MBC(11) - NS홈쇼핑(13) - JTBC(15)\n",
    "<br> NS 홈쇼핑이 MBC, JTBC 사이에 있음을 확인, 해당 채널의 주요 프로그램(예능, 드라마)이 끝나는 시간대에서 채널이 돌아가는 재핑타임(Zapping Time)을 Feature로 삼을 수 있음."
   ]
  },
  {
   "cell_type": "code",
   "execution_count": null,
   "metadata": {
    "ExecuteTime": {
     "end_time": "2020-09-25T10:19:37.818774Z",
     "start_time": "2020-09-25T10:19:37.649196Z"
    }
   },
   "outputs": [],
   "source": [
    "###Importing TV Data\n",
    "#MBC\n",
    "MBC_time = pd.read_excel('./data/03_외부데이터/TV_Time.xlsx', sheet_name='MBC')\n",
    "MBC_time['Time'] = MBC_time['MBC']\n",
    "MBC_time = MBC_time.drop(['MBC'], axis=1).set_index('Time')\n",
    "\n",
    "#JTBC\n",
    "JTBC_time =pd.read_excel('./data/03_외부데이터/TV_Time.xlsx', sheet_name='JTBC')\n",
    "JTBC_time['Time'] = JTBC_time['JTBC']\n",
    "JTBC_time = JTBC_time.drop(['JTBC'], axis=1).set_index('Time')"
   ]
  },
  {
   "cell_type": "code",
   "execution_count": null,
   "metadata": {
    "ExecuteTime": {
     "end_time": "2020-09-25T10:19:37.830726Z",
     "start_time": "2020-09-25T10:19:37.819751Z"
    }
   },
   "outputs": [],
   "source": [
    "# TimeTable에서 Zapping Time 찾기\n",
    "def find_Zap(str):  #str: 'MBC' or 'JTBC'\n",
    "    global time_list\n",
    "    if str == 'MBC':\n",
    "        time_list = MBC_time\n",
    "    elif str == 'JTBC':\n",
    "        time_list = JTBC_time\n",
    "    else:\n",
    "        return pd.DataFrame()\n",
    "    \n",
    "    Zap_Time = []\n",
    "    Zap_Weekday = []\n",
    "    for j in tqdm_notebook(range(len(time_list.columns))):\n",
    "        for i in range(len(time_list)):\n",
    "            Target = time_list.iloc[i,j]\n",
    "            if (Target is not np.nan):\n",
    "                if (i != 0) & (i != len(time_list)-1):\n",
    "                    if (time_list.iloc[i-1,j] !=Target):\n",
    "                        Zap_Time.append(time_list.index[i])\n",
    "                        Zap_Weekday.append(time_list.columns[j])\n",
    "                    if (time_list.iloc[i+1,j] !=Target):\n",
    "                        Zap_Time.append(time_list.index[i])\n",
    "                        Zap_Weekday.append(time_list.columns[j])                    \n",
    "                elif i == 0:\n",
    "                    if (time_list.iloc[i+1,j] !=Target):\n",
    "                        Zap_Time.append(time_list.index[i])\n",
    "                        Zap_Weekday.append(time_list.columns[j])                    \n",
    "                elif i == len(time_list)-1:\n",
    "                    if j == 6:\n",
    "                        break\n",
    "                    if (time_list.iloc[0,j+1] !=Target):\n",
    "                        Zap_Time.append(time_list.index[i])\n",
    "                        Zap_Weekday.append(time_list.columns[j])\n",
    "    _Zap = pd.DataFrame({'weekday':Zap_Weekday, 'Time': Zap_Time})\n",
    "\n",
    "    _Zap['hour'] = _Zap.Time.map(lambda x: x.hour)\n",
    "    _Zap['minute'] = _Zap.Time.map(lambda x: x.minute)\n",
    "    return _Zap"
   ]
  },
  {
   "cell_type": "code",
   "execution_count": null,
   "metadata": {
    "ExecuteTime": {
     "end_time": "2020-09-25T10:19:37.933436Z",
     "start_time": "2020-09-25T10:19:37.831709Z"
    }
   },
   "outputs": [],
   "source": [
    "# 식별식 만들기 (loop 방지)\n",
    "df_MBC = find_Zap('MBC')\n",
    "MBC_clf = []\n",
    "for i in tqdm_notebook(range(len(df_MBC))):\n",
    "    MBC_clf.append(df_MBC['weekday'][i] +\n",
    "                   str(df_MBC['hour'][i]) + str(df_MBC['minute'][i]))\n",
    "\n",
    "df_JTBC = find_Zap('JTBC')\n",
    "JTBC_clf = []\n",
    "for i in tqdm_notebook(range(len(df_JTBC))):\n",
    "    JTBC_clf.append(df_JTBC['weekday'][i] +\n",
    "                    str(df_JTBC['hour'][i]) + str(df_JTBC['minute'][i]))"
   ]
  },
  {
   "cell_type": "code",
   "execution_count": null,
   "metadata": {
    "ExecuteTime": {
     "end_time": "2020-09-25T10:19:37.939420Z",
     "start_time": "2020-09-25T10:19:37.934434Z"
    }
   },
   "outputs": [],
   "source": [
    "def Insert_zapping(df):\n",
    "    MBC_zap_list = np.zeros(len(df))\n",
    "    JTBC_zap_list = np.zeros(len(df))\n",
    "    for i in tqdm_notebook(range(len(df))):\n",
    "        #MBC\n",
    "        Zap_encoding = df.iloc[i].요일 + str(df.iloc[i].시) + str(df.iloc[i].분)\n",
    "        if Zap_encoding in MBC_clf:\n",
    "            MBC_zap_list[i] = True\n",
    "        if Zap_encoding in JTBC_clf:\n",
    "            JTBC_zap_list[i] = True\n",
    "    df['MBC_Zapping'] = MBC_zap_list\n",
    "    df['JTBC_Zapping'] = JTBC_zap_list\n",
    "    return df"
   ]
  },
  {
   "cell_type": "markdown",
   "metadata": {},
   "source": [
    "#### 골든타임 피쳐 생성"
   ]
  },
  {
   "cell_type": "markdown",
   "metadata": {},
   "source": [
    "홈쇼핑에서 매출의 많은 비중을 차지하는 시청률이 높은 시간대를 황금시간대라 부르고 이 시간대에 방영된 상품인지 아닌지의 여부 또한 Feature로 추가한다."
   ]
  },
  {
   "cell_type": "code",
   "execution_count": null,
   "metadata": {
    "ExecuteTime": {
     "end_time": "2020-09-25T10:19:37.945404Z",
     "start_time": "2020-09-25T10:19:37.940418Z"
    }
   },
   "outputs": [],
   "source": [
    "def prime_time(timestamp):\n",
    "    \n",
    "    weekdays = ['Mon', 'Tue', 'Wed', 'Thu', 'Fri']\n",
    "    \n",
    "    day = calendar.day_abbr[timestamp.weekday()]\n",
    "    time = int(f'{str(timestamp.hour).zfill(2)}{str(timestamp.minute).zfill(2)}')\n",
    "    \n",
    "    if day in weekdays:\n",
    "        return 1 if 2000 <= time <= 2400 else 0\n",
    "            \n",
    "    elif day == 'Sat':\n",
    "        return 1 if 1900 <= time <= 2330 else 0\n",
    "    \n",
    "    elif day == 'Sun':\n",
    "        return 1 if 1800 <= time <= 2330 else 0"
   ]
  },
  {
   "cell_type": "code",
   "execution_count": null,
   "metadata": {
    "ExecuteTime": {
     "end_time": "2020-09-25T10:19:38.297462Z",
     "start_time": "2020-09-25T10:19:37.946402Z"
    }
   },
   "outputs": [],
   "source": [
    "data['train']['prime_time'] = data['train'].index.map(prime_time)"
   ]
  },
  {
   "cell_type": "code",
   "execution_count": null,
   "metadata": {
    "ExecuteTime": {
     "end_time": "2020-09-25T10:19:38.328380Z",
     "start_time": "2020-09-25T10:19:38.298460Z"
    }
   },
   "outputs": [],
   "source": [
    "data['test']['prime_time'] = data['test'].index.map(prime_time)"
   ]
  },
  {
   "cell_type": "markdown",
   "metadata": {},
   "source": [
    "#### 토큰리스트 생성"
   ]
  },
  {
   "cell_type": "code",
   "execution_count": null,
   "metadata": {
    "ExecuteTime": {
     "end_time": "2020-09-25T10:19:38.334364Z",
     "start_time": "2020-09-25T10:19:38.329378Z"
    }
   },
   "outputs": [],
   "source": [
    "#Tokenized Data\n",
    "def Making_token(raw_data, df_token):\n",
    "    #raw_data = pd.concat([raw_data, df_token],axis=1,ignore_index=True)\n",
    "    tot_token_list = []\n",
    "    for i in tqdm_notebook(range(len(raw_data))):\n",
    "        token = []\n",
    "        for colname in df_token.columns:\n",
    "            val = raw_data[colname].iloc[i]\n",
    "            if val is not None:\n",
    "                token.append(val)\n",
    "        tot_token_list.append(token)\n",
    "    raw_data['token_list'] = tot_token_list\n",
    "    return raw_data"
   ]
  },
  {
   "cell_type": "markdown",
   "metadata": {},
   "source": [
    "#### 성별 추가"
   ]
  },
  {
   "cell_type": "code",
   "execution_count": null,
   "metadata": {
    "ExecuteTime": {
     "end_time": "2020-09-25T10:19:38.343340Z",
     "start_time": "2020-09-25T10:19:38.335362Z"
    },
    "scrolled": true
   },
   "outputs": [],
   "source": [
    "def Insert_sex_dummy(df_with_token):  #tokenized dummy\n",
    "    if 'token_list' not in df_with_token.columns:\n",
    "        print('토큰 리스트를 만들어오세요.')\n",
    "        return\n",
    "    sex_list = []\n",
    "    for i in tqdm_notebook(range(len(df_with_token))):\n",
    "        if ('남성' in df_with_token['token_list'].iloc[i]) or ('남성용' in df_with_token['token_list'].iloc[i]) or ('남자' in df_with_token['token_list'].iloc[i]):\n",
    "            sex_list.append('남성')\n",
    "        elif ('여성' in df_with_token['token_list'].iloc[i]) or ('여성용' in df_with_token['token_list'].iloc[i]) or ('여자' in df_with_token['token_list'].iloc[i]):\n",
    "            sex_list.append('여성')\n",
    "        else:\n",
    "            sex_list.append('무성')\n",
    "    sex_dummies = pd.get_dummies(sex_list)\n",
    "    sex_dummies = pd.DataFrame(sex_dummies[['남성','여성']].values, index=df_with_token.index, columns=['남성','여성'])\n",
    "    df_with_token = pd.concat([df_with_token, sex_dummies[['남성','여성']]],axis=1)\n",
    "    return df_with_token"
   ]
  },
  {
   "cell_type": "markdown",
   "metadata": {},
   "source": [
    "#### 무이자/일시불 여부 "
   ]
  },
  {
   "cell_type": "code",
   "execution_count": null,
   "metadata": {
    "ExecuteTime": {
     "end_time": "2020-09-25T10:19:38.351318Z",
     "start_time": "2020-09-25T10:19:38.344338Z"
    }
   },
   "outputs": [],
   "source": [
    "def Insert_credit_dummy(df_with_token):\n",
    "    if 'token_list' not in df_with_token.columns:\n",
    "        print('토큰 리스트를 만들어오세요.')\n",
    "        return    \n",
    "    credit_list = []\n",
    "    for i in tqdm_notebook(range(len(df_with_token))):\n",
    "        if ('일시불' in df_with_token['token_list'].iloc[i]) or ('일' in df_with_token['token_list'].iloc[i]):        \n",
    "            credit_list.append('일시불')\n",
    "        elif ('무이자' in df_with_token['token_list'].iloc[i]) or ('무' in df_with_token['token_list'].iloc[i]):\n",
    "            credit_list.append('무이자')\n",
    "        else:\n",
    "            credit_list.append('없음')\n",
    "    credit_list = pd.get_dummies(credit_list)\n",
    "    credit_list = pd.DataFrame(credit_list[['일시불', '무이자']].values, index=df_with_token.index, columns=['일시불', '무이자'])\n",
    "    df_with_token = pd.concat([df_with_token,credit_list[['일시불','무이자']]],axis=1)\n",
    "    return df_with_token"
   ]
  },
  {
   "cell_type": "markdown",
   "metadata": {},
   "source": [
    "#### 휴일 여부 "
   ]
  },
  {
   "cell_type": "code",
   "execution_count": null,
   "metadata": {
    "ExecuteTime": {
     "end_time": "2020-09-25T10:19:38.359297Z",
     "start_time": "2020-09-25T10:19:38.352317Z"
    }
   },
   "outputs": [],
   "source": [
    "def Insert_holiday_dummy(df, data='train'): \n",
    "    '''\n",
    "    data(str): 'train' or 'test'\n",
    "    '''\n",
    "    global holiday\n",
    "    \n",
    "    if data == 'train':\n",
    "        #2019.01.01 ~ 2020.01.01\n",
    "        holiday = ['1/1','2/4','2/5','2/6','3/1','5/6','6/6','8/15','9/12','9/13','10/3','10/9','12/25']\n",
    "    else:\n",
    "        #2020.06.01 ~ 2020.07.01\n",
    "        holiday = []\n",
    "    \n",
    "    holi_list = np.zeros(len(df))    \n",
    "    for i in tqdm_notebook(range(len(df))):\n",
    "        day = str(df.iloc[i].월)+'/'+str(df.iloc[i].일)\n",
    "        weekday = df.iloc[i].요일\n",
    "        if (weekday in ['Sat', 'Sun']) or (day in holiday):\n",
    "#            print('{} is holiday!'.format(day))\n",
    "            holi_list[i] = True\n",
    "        else:\n",
    "            holi_list[i] = False\n",
    "    df['휴일'] = holi_list\n",
    "    return df"
   ]
  },
  {
   "cell_type": "markdown",
   "metadata": {},
   "source": [
    "#### Total Preprocessing"
   ]
  },
  {
   "cell_type": "code",
   "execution_count": null,
   "metadata": {
    "ExecuteTime": {
     "end_time": "2020-09-25T10:19:38.397196Z",
     "start_time": "2020-09-25T10:19:38.360295Z"
    }
   },
   "outputs": [],
   "source": [
    "_train = data['train'].copy()\n",
    "_test = data['test'].copy()"
   ]
  },
  {
   "cell_type": "code",
   "execution_count": null,
   "metadata": {
    "ExecuteTime": {
     "end_time": "2020-09-25T10:19:38.443105Z",
     "start_time": "2020-09-25T10:19:38.398192Z"
    }
   },
   "outputs": [],
   "source": [
    "_train"
   ]
  },
  {
   "cell_type": "code",
   "execution_count": null,
   "metadata": {
    "ExecuteTime": {
     "end_time": "2020-09-25T10:19:45.386341Z",
     "start_time": "2020-09-25T10:19:38.444072Z"
    }
   },
   "outputs": [],
   "source": [
    "#Tokenize\n",
    "_train = Making_token(_train, pd.DataFrame(processed_tokens, index=_train.index))\n",
    "_test = Making_token(_test, pd.DataFrame(processed_tokens_test, index=_test.index))"
   ]
  },
  {
   "cell_type": "code",
   "execution_count": null,
   "metadata": {
    "ExecuteTime": {
     "end_time": "2020-09-25T10:19:48.572790Z",
     "start_time": "2020-09-25T10:19:45.387307Z"
    }
   },
   "outputs": [],
   "source": [
    "#Gender dummy\n",
    "_train = Insert_sex_dummy(_train)\n",
    "_test = Insert_sex_dummy(_test)"
   ]
  },
  {
   "cell_type": "code",
   "execution_count": null,
   "metadata": {
    "ExecuteTime": {
     "end_time": "2020-09-25T10:19:50.603362Z",
     "start_time": "2020-09-25T10:19:48.573787Z"
    }
   },
   "outputs": [],
   "source": [
    "#Credit dummy\n",
    "_train = Insert_credit_dummy(_train)\n",
    "_test = Insert_credit_dummy(_test)"
   ]
  },
  {
   "cell_type": "code",
   "execution_count": null,
   "metadata": {
    "ExecuteTime": {
     "end_time": "2020-09-25T10:20:23.933362Z",
     "start_time": "2020-09-25T10:19:50.604361Z"
    }
   },
   "outputs": [],
   "source": [
    "#Holiday dummy\n",
    "_train = Insert_holiday_dummy(_train)\n",
    "_test = Insert_holiday_dummy(_test,'test')"
   ]
  },
  {
   "cell_type": "code",
   "execution_count": null,
   "metadata": {
    "ExecuteTime": {
     "end_time": "2020-09-25T10:20:52.347221Z",
     "start_time": "2020-09-25T10:20:23.934359Z"
    }
   },
   "outputs": [],
   "source": [
    "#Zapping Time\n",
    "_train = Insert_zapping(_train)\n",
    "_test = Insert_zapping(_test)"
   ]
  },
  {
   "cell_type": "code",
   "execution_count": null,
   "metadata": {
    "ExecuteTime": {
     "end_time": "2020-09-25T10:20:52.357195Z",
     "start_time": "2020-09-25T10:20:52.348220Z"
    }
   },
   "outputs": [],
   "source": [
    "data['train'] = _train\n",
    "data['test'] = _test"
   ]
  },
  {
   "cell_type": "markdown",
   "metadata": {},
   "source": [
    "### 상품군, 상품명 처리하기"
   ]
  },
  {
   "cell_type": "code",
   "execution_count": null,
   "metadata": {
    "ExecuteTime": {
     "end_time": "2020-09-25T10:20:52.373157Z",
     "start_time": "2020-09-25T10:20:52.358200Z"
    }
   },
   "outputs": [],
   "source": [
    "le1 = LabelEncoder()\n",
    "le1.fit(pd.concat([data['train']['상품군'], data['test']['상품군']]))\n",
    "data['train']['상품군'] = le1.transform(data['train']['상품군'])\n",
    "data['test']['상품군'] = le1.transform(data['test']['상품군'])"
   ]
  },
  {
   "cell_type": "code",
   "execution_count": null,
   "metadata": {
    "ExecuteTime": {
     "end_time": "2020-09-25T10:20:52.391495Z",
     "start_time": "2020-09-25T10:20:52.374150Z"
    }
   },
   "outputs": [],
   "source": [
    "le2 = LabelEncoder()\n",
    "le2.fit(pd.concat([data['train']['상품명'], data['test']['상품명']]))\n",
    "data['train']['상품명'] = le2.transform(data['train']['상품명'])\n",
    "data['test']['상품명'] = le2.transform(data['test']['상품명'])"
   ]
  },
  {
   "cell_type": "markdown",
   "metadata": {},
   "source": [
    "### 상품군 더미화"
   ]
  },
  {
   "cell_type": "code",
   "execution_count": null,
   "metadata": {
    "ExecuteTime": {
     "end_time": "2020-09-25T10:20:52.454065Z",
     "start_time": "2020-09-25T10:20:52.391495Z"
    }
   },
   "outputs": [],
   "source": [
    "data['train'] = pd.concat([data['train'].drop('상품군',axis=1),\n",
    "                           pd.get_dummies(data['train']['상품군'], prefix='상품군')],\n",
    "                          axis=1)"
   ]
  },
  {
   "cell_type": "code",
   "execution_count": null,
   "metadata": {
    "ExecuteTime": {
     "end_time": "2020-09-25T10:20:52.469683Z",
     "start_time": "2020-09-25T10:20:52.454065Z"
    }
   },
   "outputs": [],
   "source": [
    "data['test'] = pd.concat([data['test'].drop('상품군',axis=1),\n",
    "                           pd.get_dummies(data['test']['상품군'], prefix='상품군')],\n",
    "                          axis=1)"
   ]
  },
  {
   "cell_type": "markdown",
   "metadata": {},
   "source": [
    "### 요일 인코딩"
   ]
  },
  {
   "cell_type": "code",
   "execution_count": null,
   "metadata": {
    "ExecuteTime": {
     "end_time": "2020-09-25T10:20:52.532088Z",
     "start_time": "2020-09-25T10:20:52.469683Z"
    }
   },
   "outputs": [],
   "source": [
    "data['train'] = pd.concat([data['train'].drop('요일',axis=1),\n",
    "                           pd.get_dummies(data['train']['요일'], prefix='요일')],\n",
    "                          axis=1)"
   ]
  },
  {
   "cell_type": "code",
   "execution_count": null,
   "metadata": {
    "ExecuteTime": {
     "end_time": "2020-09-25T10:20:52.547709Z",
     "start_time": "2020-09-25T10:20:52.532088Z"
    }
   },
   "outputs": [],
   "source": [
    "data['test'] = pd.concat([data['test'].drop('요일',axis=1),\n",
    "                           pd.get_dummies(data['test']['요일'], prefix='요일')],\n",
    "                          axis=1)"
   ]
  },
  {
   "cell_type": "markdown",
   "metadata": {},
   "source": [
    "---\n",
    "\n",
    "## 피처 선택(Feature Selection)"
   ]
  },
  {
   "cell_type": "markdown",
   "metadata": {},
   "source": [
    "### 지금까지 생성된 피처 확인"
   ]
  },
  {
   "cell_type": "code",
   "execution_count": null,
   "metadata": {
    "ExecuteTime": {
     "end_time": "2020-09-25T10:20:52.554428Z",
     "start_time": "2020-09-25T10:20:52.547709Z"
    }
   },
   "outputs": [],
   "source": [
    "data['train'].columns"
   ]
  },
  {
   "cell_type": "markdown",
   "metadata": {},
   "source": [
    "### 피처간의 상관계수 확인"
   ]
  },
  {
   "cell_type": "code",
   "execution_count": null,
   "metadata": {
    "ExecuteTime": {
     "end_time": "2020-09-25T10:20:54.121586Z",
     "start_time": "2020-09-25T10:20:52.555426Z"
    }
   },
   "outputs": [],
   "source": [
    "plt.figure(figsize=(15,15))\n",
    "sns.heatmap(data['train'].corr(), cmap=plt.cm.rainbow)\n",
    "plt.show()"
   ]
  },
  {
   "cell_type": "code",
   "execution_count": null,
   "metadata": {
    "ExecuteTime": {
     "end_time": "2020-09-25T10:20:54.166466Z",
     "start_time": "2020-09-25T10:20:54.122585Z"
    }
   },
   "outputs": [],
   "source": [
    "data['train'].info()"
   ]
  },
  {
   "cell_type": "code",
   "execution_count": null,
   "metadata": {
    "ExecuteTime": {
     "end_time": "2020-09-25T10:20:54.172450Z",
     "start_time": "2020-09-25T10:20:54.167465Z"
    }
   },
   "outputs": [],
   "source": [
    "selected_features = ['노출(분)', '마더코드', '상품코드', '상품명', '판매단가', '취급액',\n",
    "                     '월', '일', '시', '분', 'embed_0', 'embed_1', 'embed_2', 'embed_3',\n",
    "                     'embed_4', 'embed_5', 'embed_6', 'embed_7', 'embed_8', 'embed_9',\n",
    "                     '월간누적방영횟수', '주간누적방영횟수', 'prime_time', '네이버 트랜드',\n",
    "                     '남성', '여성', '일시불', '무이자', '휴일', 'MBC_Zapping', 'JTBC_Zapping',\n",
    "                     '상품군_0', '상품군_1', '상품군_2', '상품군_3', '상품군_4', '상품군_5',\n",
    "                     '상품군_6', '상품군_7', '상품군_8', '상품군_9', '상품군_10',\n",
    "                     '요일_Fri', '요일_Mon', '요일_Sat', '요일_Sun',\n",
    "                     '요일_Thu', '요일_Tue', '요일_Wed']"
   ]
  },
  {
   "cell_type": "code",
   "execution_count": null,
   "metadata": {
    "ExecuteTime": {
     "end_time": "2020-09-25T10:20:54.208091Z",
     "start_time": "2020-09-25T10:20:54.172565Z"
    }
   },
   "outputs": [],
   "source": [
    "data['train'][selected_features]"
   ]
  },
  {
   "cell_type": "code",
   "execution_count": null,
   "metadata": {
    "ExecuteTime": {
     "end_time": "2020-09-25T10:20:54.383500Z",
     "start_time": "2020-09-25T10:20:54.209090Z"
    }
   },
   "outputs": [],
   "source": [
    "data['test'][selected_features]"
   ]
  },
  {
   "cell_type": "code",
   "execution_count": null,
   "metadata": {
    "ExecuteTime": {
     "end_time": "2020-09-25T10:20:54.410231Z",
     "start_time": "2020-09-25T10:20:54.385496Z"
    }
   },
   "outputs": [],
   "source": [
    "data['train'] = data['train'][selected_features].astype('float')\n",
    "data['test'] = data['test'][selected_features].astype('float')"
   ]
  },
  {
   "cell_type": "code",
   "execution_count": null,
   "metadata": {
    "ExecuteTime": {
     "end_time": "2020-09-25T10:20:56.101783Z",
     "start_time": "2020-09-25T10:20:54.410231Z"
    }
   },
   "outputs": [],
   "source": [
    "data['train'].to_csv('train_preprocess.csv', index=False)\n",
    "data['test'].to_csv('test_preprocess.csv', index=False)"
   ]
  },
  {
   "cell_type": "markdown",
   "metadata": {},
   "source": [
    "---\n",
    "\n",
    "## 모델링(Modeling) 및 성능 평가(Testing)"
   ]
  },
  {
   "cell_type": "code",
   "execution_count": 4,
   "metadata": {
    "ExecuteTime": {
     "end_time": "2020-09-26T01:51:17.366504Z",
     "start_time": "2020-09-26T01:51:17.166440Z"
    }
   },
   "outputs": [],
   "source": [
    "data = {}\n",
    "data['train'] = pd.read_csv('./train_preprocess.csv')\n",
    "data['test'] = pd.read_csv('./test_preprocess.csv')"
   ]
  },
  {
   "cell_type": "markdown",
   "metadata": {},
   "source": [
    "### Mean Average Percentage Error(MAPE)\n",
    "\n",
    "The mean absolute percentage error (MAPE), also known as mean absolute percentage deviation (MAPD), is a measure of prediction accuracy of a forecasting method in statistics, for example in trend estimation, also used as a loss function for regression problems in machine learning. It usually expresses the accuracy as a ratio defined by the formula:\n",
    "\n",
    "$$ MAPE = \\frac{100}{n} \\sum_{t=1}^{n}{|\\frac{A_t - F_t}{A_t}|} $$\n",
    "\n",
    "출처: [위키백과](https://en.wikipedia.org/wiki/Mean_absolute_percentage_error)"
   ]
  },
  {
   "cell_type": "code",
   "execution_count": 9,
   "metadata": {
    "ExecuteTime": {
     "end_time": "2020-09-26T01:52:54.367959Z",
     "start_time": "2020-09-26T01:52:54.350947Z"
    }
   },
   "outputs": [],
   "source": [
    "# MAPE\n",
    "EPS = 1e-10\n",
    "def MAPE(y_true, y_pred): \n",
    "    y_true, y_pred = np.array(y_true), np.array(y_pred)\n",
    "    return np.mean(np.abs((y_true - y_pred) / (y_true + EPS)))"
   ]
  },
  {
   "cell_type": "markdown",
   "metadata": {},
   "source": [
    "### 학습 및 검증 데이터 분리하기"
   ]
  },
  {
   "cell_type": "code",
   "execution_count": 10,
   "metadata": {
    "ExecuteTime": {
     "end_time": "2020-09-26T01:52:55.085084Z",
     "start_time": "2020-09-26T01:52:55.070072Z"
    }
   },
   "outputs": [],
   "source": [
    "# SCALED_UNIT = 10000000"
   ]
  },
  {
   "cell_type": "code",
   "execution_count": 20,
   "metadata": {
    "ExecuteTime": {
     "end_time": "2020-09-26T01:54:40.088945Z",
     "start_time": "2020-09-26T01:54:40.054935Z"
    }
   },
   "outputs": [],
   "source": [
    "X_train, X_valid, y_train, y_valid = train_test_split(data['train'].drop('취급액', axis=1),\n",
    "                                                      data['train']['취급액'] / SCALED_UNIT,\n",
    "                                                      shuffle=True,\n",
    "                                                      test_size=TEST_SIZE,\n",
    "                                                      random_state=RANDOM_STATE)"
   ]
  },
  {
   "cell_type": "code",
   "execution_count": 21,
   "metadata": {
    "ExecuteTime": {
     "end_time": "2020-09-26T01:54:40.517065Z",
     "start_time": "2020-09-26T01:54:40.511054Z"
    }
   },
   "outputs": [
    {
     "name": "stdout",
     "output_type": "stream",
     "text": [
      "학습 데이터: (29894, 48)\n",
      "검증 데이터: (7474, 48)\n"
     ]
    }
   ],
   "source": [
    "print(f'학습 데이터: {X_train.shape}')\n",
    "print(f'검증 데이터: {X_valid.shape}')"
   ]
  },
  {
   "cell_type": "markdown",
   "metadata": {},
   "source": [
    "### 머신러닝 모델 생성 및 성능 평가"
   ]
  },
  {
   "cell_type": "code",
   "execution_count": 22,
   "metadata": {
    "ExecuteTime": {
     "end_time": "2020-09-26T01:54:41.230870Z",
     "start_time": "2020-09-26T01:54:41.221859Z"
    }
   },
   "outputs": [],
   "source": [
    "ml_models = {}"
   ]
  },
  {
   "cell_type": "code",
   "execution_count": 23,
   "metadata": {
    "ExecuteTime": {
     "end_time": "2020-09-26T01:54:41.751188Z",
     "start_time": "2020-09-26T01:54:41.741959Z"
    }
   },
   "outputs": [],
   "source": [
    "ml_models['LinearRegression'] = LinearRegression()\n",
    "\n",
    "ml_models['DecisionTreeRegressor'] = DecisionTreeRegressor()\n",
    "\n",
    "ml_models['RandomForestRegressor'] = RandomForestRegressor(n_estimators=1000,\n",
    "                                                           max_depth=20,\n",
    "                                                           random_state=RANDOM_STATE,\n",
    "                                                           n_jobs=-1)\n",
    "\n",
    "ml_models['XGBRegressor'] = XGBRegressor(n_estimators=1000,\n",
    "                                         max_depth=20,\n",
    "                                         learning_rate=0.001,\n",
    "                                         random_state=RANDOM_STATE,\n",
    "                                         n_jobs=-1)\n",
    "\n",
    "ml_models['LGBMRegressor'] = LGBMRegressor(n_estimators=1000,\n",
    "                                           max_depth=20,\n",
    "                                           learning_rate=0.001,\n",
    "                                           random_state=RANDOM_STATE,\n",
    "                                           n_jobs=-1)"
   ]
  },
  {
   "cell_type": "code",
   "execution_count": 24,
   "metadata": {
    "ExecuteTime": {
     "end_time": "2020-09-26T01:54:42.579717Z",
     "start_time": "2020-09-26T01:54:42.566714Z"
    }
   },
   "outputs": [
    {
     "data": {
      "text/plain": [
       "MinMaxScaler(copy=True, feature_range=(0, 1))"
      ]
     },
     "execution_count": 24,
     "metadata": {},
     "output_type": "execute_result"
    }
   ],
   "source": [
    "mms = MinMaxScaler()\n",
    "mms.fit(X_train)"
   ]
  },
  {
   "cell_type": "code",
   "execution_count": 25,
   "metadata": {
    "ExecuteTime": {
     "end_time": "2020-09-26T01:54:46.407445Z",
     "start_time": "2020-09-26T01:54:46.399434Z"
    }
   },
   "outputs": [],
   "source": [
    "log_y_train = np.log(y_train)\n",
    "log_y_valid = np.log(y_valid)"
   ]
  },
  {
   "cell_type": "code",
   "execution_count": 28,
   "metadata": {
    "ExecuteTime": {
     "end_time": "2020-09-26T02:00:42.049041Z",
     "start_time": "2020-09-26T01:58:33.506372Z"
    }
   },
   "outputs": [
    {
     "name": "stdout",
     "output_type": "stream",
     "text": [
      "[1] LinearRegression               모델을 학습합니다. --> 저장 완료\n",
      "[1] LinearRegression               의 MAPE 값: 3.9631640003\n",
      "[1] LinearRegression               의 MAPE 값: 4.2210713399\n",
      "------------------------------------------------------------\n",
      "[2] DecisionTreeRegressor          모델을 학습합니다. --> 저장 완료\n",
      "[2] DecisionTreeRegressor          의 MAPE 값: 0.0000019654\n",
      "[2] DecisionTreeRegressor          의 MAPE 값: 5.7139881786\n",
      "------------------------------------------------------------\n",
      "[3] RandomForestRegressor          모델을 학습합니다. --> 저장 완료\n",
      "[3] RandomForestRegressor          의 MAPE 값: 0.3109718291\n",
      "[3] RandomForestRegressor          의 MAPE 값: 2.3042036735\n",
      "------------------------------------------------------------\n",
      "[4] XGBRegressor                   모델을 학습합니다. --> 저장 완료\n",
      "[4] XGBRegressor                   의 MAPE 값: 1.2750753817\n",
      "[4] XGBRegressor                   의 MAPE 값: 6.1704045031\n",
      "------------------------------------------------------------\n",
      "[5] LGBMRegressor                  모델을 학습합니다. --> 저장 완료\n",
      "[5] LGBMRegressor                  의 MAPE 값: 4.4060374878\n",
      "[5] LGBMRegressor                  의 MAPE 값: 4.7291547473\n",
      "------------------------------------------------------------\n"
     ]
    }
   ],
   "source": [
    "results_train = {}\n",
    "results_valid = {}\n",
    "for n,(model_name, model) in enumerate(ml_models.items(),start=1):\n",
    "    print(f'[{n}] {model_name:<30} 모델을 학습합니다.', end=' ')\n",
    "    model.fit(mms.transform(X_train), log_y_train)\n",
    "    ml_models[model_name] = model\n",
    "    print(f'--> 저장 완료')\n",
    "    \n",
    "    y_pred = ml_models[model_name].predict(mms.transform(X_train))\n",
    "    result = MAPE(y_train, np.exp(y_pred))\n",
    "    print(f'[{n}] {model_name:<30} 의 MAPE 값: {result:<4.10f}')\n",
    "    results_train[model_name] = result\n",
    "    \n",
    "    y_pred = ml_models[model_name].predict(mms.transform(X_valid))\n",
    "    result = MAPE(y_valid, np.exp(y_pred))\n",
    "    print(f'[{n}] {model_name:<30} 의 MAPE 값: {result:<4.10f}')\n",
    "    results_valid[model_name] = result\n",
    "    \n",
    "    print('-'*60)"
   ]
  },
  {
   "cell_type": "markdown",
   "metadata": {},
   "source": [
    "### 딥러닝 모델 생성 및 성능 평가"
   ]
  },
  {
   "cell_type": "code",
   "execution_count": 37,
   "metadata": {
    "ExecuteTime": {
     "end_time": "2020-09-26T02:10:31.711690Z",
     "start_time": "2020-09-26T02:10:31.693678Z"
    }
   },
   "outputs": [],
   "source": [
    "class DeepNSNet(nn.Module):\n",
    "    def __init__(self):\n",
    "        super(DeepNSNet, self).__init__()\n",
    "        self.input_length = len(X_train.columns)\n",
    "        self.fc1 = nn.Linear(self.input_length, 16)  # 6*6 from image dimension\n",
    "        self.fc2 = nn.Linear(16, 8)\n",
    "        self.fc3 = nn.Linear(8, 1)\n",
    "        \n",
    "    def forward(self, x):\n",
    "        x = torch.sigmoid(self.fc1(x))\n",
    "        x = torch.sigmoid(self.fc2(x))\n",
    "        output = self.fc3(x)\n",
    "        return output"
   ]
  },
  {
   "cell_type": "code",
   "execution_count": 38,
   "metadata": {
    "ExecuteTime": {
     "end_time": "2020-09-26T02:10:36.084066Z",
     "start_time": "2020-09-26T02:10:36.070063Z"
    }
   },
   "outputs": [
    {
     "data": {
      "text/plain": [
       "DeepNSNet(\n",
       "  (fc1): Linear(in_features=48, out_features=16, bias=True)\n",
       "  (fc2): Linear(in_features=16, out_features=8, bias=True)\n",
       "  (fc3): Linear(in_features=8, out_features=1, bias=True)\n",
       ")"
      ]
     },
     "execution_count": 38,
     "metadata": {},
     "output_type": "execute_result"
    }
   ],
   "source": [
    "model = DeepNSNet()\n",
    "model"
   ]
  },
  {
   "cell_type": "code",
   "execution_count": 39,
   "metadata": {
    "ExecuteTime": {
     "end_time": "2020-09-26T02:10:40.004772Z",
     "start_time": "2020-09-26T02:10:39.997779Z"
    }
   },
   "outputs": [],
   "source": [
    "optimizer = optim.Adam(model.parameters(), lr=learning_rate)\n",
    "loss_fn = nn.MSELoss()"
   ]
  },
  {
   "cell_type": "code",
   "execution_count": 40,
   "metadata": {
    "ExecuteTime": {
     "end_time": "2020-09-26T02:10:43.471763Z",
     "start_time": "2020-09-26T02:10:43.389742Z"
    }
   },
   "outputs": [],
   "source": [
    "train_losses = []\n",
    "valid_losses = []\n",
    "train_mape_list = []\n",
    "val_mape_list = []\n",
    "X_train_scaled = mms.transform(X_train)\n",
    "X_valid_scaled = mms.transform(X_valid)"
   ]
  },
  {
   "cell_type": "code",
   "execution_count": 41,
   "metadata": {
    "ExecuteTime": {
     "end_time": "2020-09-26T02:10:43.915911Z",
     "start_time": "2020-09-26T02:10:43.909900Z"
    }
   },
   "outputs": [],
   "source": [
    "EPOCH = 300000\n",
    "PATH = './model/'\n",
    "top_mape = 0.60"
   ]
  },
  {
   "cell_type": "code",
   "execution_count": null,
   "metadata": {},
   "outputs": [],
   "source": [
    "if torch.cuda.is_available():\n",
    "    print(f'현재 CUDA를 사용할 수 있습니다. 사용하고 있는 장치는 {device} 입니다.')\n",
    "else:\n",
    "    print(f'현재 CUDA를 사용할 수 없습니다. 사용하고 있는 장치는 {device} 입니다. CPU로 학습시 오래 걸릴 수 있습니다.')"
   ]
  },
  {
   "cell_type": "code",
   "execution_count": 42,
   "metadata": {
    "ExecuteTime": {
     "end_time": "2020-09-26T02:29:45.494758Z",
     "start_time": "2020-09-26T02:10:45.534044Z"
    },
    "scrolled": false
   },
   "outputs": [
    {
     "name": "stdout",
     "output_type": "stream",
     "text": [
      "[Epoch      0 / 300000] Train Loss: 2.95434 | Val Loss: 3.07368 | MAPE(train): 0.71835 | MAPE(val): 0.70398 | TOP MAPE(val): 0.6000\n",
      "[Epoch   1000 / 300000] Train Loss: 2.55802 | Val Loss: 2.63930 | MAPE(train): 1.20140 | MAPE(val): 1.16714 | TOP MAPE(val): 0.6000\n",
      "[Epoch   2000 / 300000] Train Loss: 2.50622 | Val Loss: 2.58094 | MAPE(train): 1.27571 | MAPE(val): 1.23829 | TOP MAPE(val): 0.6000\n",
      "[Epoch   3000 / 300000] Train Loss: 2.36758 | Val Loss: 2.43681 | MAPE(train): 1.19166 | MAPE(val): 1.15829 | TOP MAPE(val): 0.6000\n",
      "[Epoch   4000 / 300000] Train Loss: 2.13957 | Val Loss: 2.19813 | MAPE(train): 1.09129 | MAPE(val): 1.06621 | TOP MAPE(val): 0.6000\n",
      "[Epoch   5000 / 300000] Train Loss: 1.98603 | Val Loss: 2.03700 | MAPE(train): 1.07909 | MAPE(val): 1.06266 | TOP MAPE(val): 0.6000\n",
      "[Epoch   6000 / 300000] Train Loss: 1.89617 | Val Loss: 1.93796 | MAPE(train): 1.08445 | MAPE(val): 1.06839 | TOP MAPE(val): 0.6000\n",
      "[Epoch   7000 / 300000] Train Loss: 1.83847 | Val Loss: 1.87187 | MAPE(train): 1.08895 | MAPE(val): 1.07066 | TOP MAPE(val): 0.6000\n",
      "[Epoch   8000 / 300000] Train Loss: 1.79350 | Val Loss: 1.82134 | MAPE(train): 1.08916 | MAPE(val): 1.06888 | TOP MAPE(val): 0.6000\n",
      "[Epoch   9000 / 300000] Train Loss: 1.74827 | Val Loss: 1.77110 | MAPE(train): 1.08754 | MAPE(val): 1.06395 | TOP MAPE(val): 0.6000\n",
      "[Epoch  10000 / 300000] Train Loss: 1.69915 | Val Loss: 1.71839 | MAPE(train): 1.08741 | MAPE(val): 1.06025 | TOP MAPE(val): 0.6000\n",
      "[Epoch  11000 / 300000] Train Loss: 1.64529 | Val Loss: 1.66351 | MAPE(train): 1.08925 | MAPE(val): 1.05882 | TOP MAPE(val): 0.6000\n",
      "[Epoch  12000 / 300000] Train Loss: 1.59180 | Val Loss: 1.61096 | MAPE(train): 1.09610 | MAPE(val): 1.06511 | TOP MAPE(val): 0.6000\n",
      "[Epoch  13000 / 300000] Train Loss: 1.54549 | Val Loss: 1.56683 | MAPE(train): 1.11079 | MAPE(val): 1.08092 | TOP MAPE(val): 0.6000\n",
      "[Epoch  14000 / 300000] Train Loss: 1.50776 | Val Loss: 1.53280 | MAPE(train): 1.12930 | MAPE(val): 1.10081 | TOP MAPE(val): 0.6000\n",
      "[Epoch  15000 / 300000] Train Loss: 1.47738 | Val Loss: 1.50715 | MAPE(train): 1.14749 | MAPE(val): 1.11966 | TOP MAPE(val): 0.6000\n",
      "[Epoch  16000 / 300000] Train Loss: 1.45209 | Val Loss: 1.48727 | MAPE(train): 1.15952 | MAPE(val): 1.13106 | TOP MAPE(val): 0.6000\n",
      "[Epoch  17000 / 300000] Train Loss: 1.42935 | Val Loss: 1.47163 | MAPE(train): 1.16359 | MAPE(val): 1.13546 | TOP MAPE(val): 0.6000\n",
      "[Epoch  18000 / 300000] Train Loss: 1.40857 | Val Loss: 1.45873 | MAPE(train): 1.16284 | MAPE(val): 1.13614 | TOP MAPE(val): 0.6000\n",
      "[Epoch  19000 / 300000] Train Loss: 1.39017 | Val Loss: 1.44742 | MAPE(train): 1.16001 | MAPE(val): 1.13532 | TOP MAPE(val): 0.6000\n",
      "[Epoch  20000 / 300000] Train Loss: 1.37366 | Val Loss: 1.43744 | MAPE(train): 1.15493 | MAPE(val): 1.13401 | TOP MAPE(val): 0.6000\n",
      "[Epoch  21000 / 300000] Train Loss: 1.35869 | Val Loss: 1.42839 | MAPE(train): 1.14885 | MAPE(val): 1.13339 | TOP MAPE(val): 0.6000\n",
      "[Epoch  22000 / 300000] Train Loss: 1.34467 | Val Loss: 1.41988 | MAPE(train): 1.14212 | MAPE(val): 1.13344 | TOP MAPE(val): 0.6000\n",
      "[Epoch  23000 / 300000] Train Loss: 1.33125 | Val Loss: 1.41280 | MAPE(train): 1.13453 | MAPE(val): 1.13483 | TOP MAPE(val): 0.6000\n",
      "[Epoch  24000 / 300000] Train Loss: 1.31851 | Val Loss: 1.40684 | MAPE(train): 1.12888 | MAPE(val): 1.13784 | TOP MAPE(val): 0.6000\n",
      "[Epoch  25000 / 300000] Train Loss: 1.30651 | Val Loss: 1.40167 | MAPE(train): 1.12493 | MAPE(val): 1.14295 | TOP MAPE(val): 0.6000\n",
      "[Epoch  26000 / 300000] Train Loss: 1.29560 | Val Loss: 1.39753 | MAPE(train): 1.12131 | MAPE(val): 1.15071 | TOP MAPE(val): 0.6000\n",
      "[Epoch  27000 / 300000] Train Loss: 1.28584 | Val Loss: 1.39361 | MAPE(train): 1.11956 | MAPE(val): 1.15766 | TOP MAPE(val): 0.6000\n",
      "[Epoch  28000 / 300000] Train Loss: 1.27695 | Val Loss: 1.38928 | MAPE(train): 1.11751 | MAPE(val): 1.16525 | TOP MAPE(val): 0.6000\n",
      "[Epoch  29000 / 300000] Train Loss: 1.26864 | Val Loss: 1.38487 | MAPE(train): 1.11775 | MAPE(val): 1.17046 | TOP MAPE(val): 0.6000\n",
      "[Epoch  30000 / 300000] Train Loss: 1.26088 | Val Loss: 1.38059 | MAPE(train): 1.11664 | MAPE(val): 1.17689 | TOP MAPE(val): 0.6000\n",
      "[Epoch  31000 / 300000] Train Loss: 1.25366 | Val Loss: 1.37652 | MAPE(train): 1.11535 | MAPE(val): 1.18300 | TOP MAPE(val): 0.6000\n",
      "[Epoch  32000 / 300000] Train Loss: 1.24679 | Val Loss: 1.37247 | MAPE(train): 1.11403 | MAPE(val): 1.18799 | TOP MAPE(val): 0.6000\n",
      "[Epoch  33000 / 300000] Train Loss: 1.24011 | Val Loss: 1.36826 | MAPE(train): 1.11267 | MAPE(val): 1.19060 | TOP MAPE(val): 0.6000\n",
      "[Epoch  34000 / 300000] Train Loss: 1.23344 | Val Loss: 1.36376 | MAPE(train): 1.11149 | MAPE(val): 1.19187 | TOP MAPE(val): 0.6000\n",
      "[Epoch  35000 / 300000] Train Loss: 1.22671 | Val Loss: 1.35895 | MAPE(train): 1.10934 | MAPE(val): 1.19124 | TOP MAPE(val): 0.6000\n",
      "[Epoch  36000 / 300000] Train Loss: 1.22006 | Val Loss: 1.35385 | MAPE(train): 1.10663 | MAPE(val): 1.19076 | TOP MAPE(val): 0.6000\n",
      "[Epoch  37000 / 300000] Train Loss: 1.21359 | Val Loss: 1.34891 | MAPE(train): 1.10331 | MAPE(val): 1.19126 | TOP MAPE(val): 0.6000\n",
      "[Epoch  38000 / 300000] Train Loss: 1.20736 | Val Loss: 1.34429 | MAPE(train): 1.09884 | MAPE(val): 1.19336 | TOP MAPE(val): 0.6000\n",
      "[Epoch  39000 / 300000] Train Loss: 1.20142 | Val Loss: 1.34000 | MAPE(train): 1.09580 | MAPE(val): 1.19438 | TOP MAPE(val): 0.6000\n",
      "[Epoch  40000 / 300000] Train Loss: 1.19589 | Val Loss: 1.33600 | MAPE(train): 1.09244 | MAPE(val): 1.19670 | TOP MAPE(val): 0.6000\n",
      "[Epoch  41000 / 300000] Train Loss: 1.19079 | Val Loss: 1.33235 | MAPE(train): 1.08951 | MAPE(val): 1.19945 | TOP MAPE(val): 0.6000\n",
      "[Epoch  42000 / 300000] Train Loss: 1.18607 | Val Loss: 1.32908 | MAPE(train): 1.08653 | MAPE(val): 1.20310 | TOP MAPE(val): 0.6000\n",
      "[Epoch  43000 / 300000] Train Loss: 1.18168 | Val Loss: 1.32634 | MAPE(train): 1.08414 | MAPE(val): 1.20655 | TOP MAPE(val): 0.6000\n",
      "[Epoch  44000 / 300000] Train Loss: 1.17760 | Val Loss: 1.32401 | MAPE(train): 1.08421 | MAPE(val): 1.20689 | TOP MAPE(val): 0.6000\n",
      "[Epoch  45000 / 300000] Train Loss: 1.17379 | Val Loss: 1.32165 | MAPE(train): 1.08031 | MAPE(val): 1.21103 | TOP MAPE(val): 0.6000\n",
      "[Epoch  46000 / 300000] Train Loss: 1.17018 | Val Loss: 1.31933 | MAPE(train): 1.07810 | MAPE(val): 1.21190 | TOP MAPE(val): 0.6000\n",
      "[Epoch  47000 / 300000] Train Loss: 1.16673 | Val Loss: 1.31713 | MAPE(train): 1.07579 | MAPE(val): 1.21200 | TOP MAPE(val): 0.6000\n",
      "[Epoch  48000 / 300000] Train Loss: 1.16342 | Val Loss: 1.31525 | MAPE(train): 1.07350 | MAPE(val): 1.21191 | TOP MAPE(val): 0.6000\n",
      "[Epoch  49000 / 300000] Train Loss: 1.16022 | Val Loss: 1.31372 | MAPE(train): 1.07152 | MAPE(val): 1.21210 | TOP MAPE(val): 0.6000\n",
      "[Epoch  50000 / 300000] Train Loss: 1.15715 | Val Loss: 1.31246 | MAPE(train): 1.06943 | MAPE(val): 1.21371 | TOP MAPE(val): 0.6000\n",
      "[Epoch  51000 / 300000] Train Loss: 1.15425 | Val Loss: 1.31134 | MAPE(train): 1.06770 | MAPE(val): 1.21611 | TOP MAPE(val): 0.6000\n",
      "[Epoch  52000 / 300000] Train Loss: 1.15150 | Val Loss: 1.31033 | MAPE(train): 1.06717 | MAPE(val): 1.21794 | TOP MAPE(val): 0.6000\n",
      "[Epoch  53000 / 300000] Train Loss: 1.14891 | Val Loss: 1.30933 | MAPE(train): 1.06304 | MAPE(val): 1.22549 | TOP MAPE(val): 0.6000\n",
      "[Epoch  54000 / 300000] Train Loss: 1.14649 | Val Loss: 1.30857 | MAPE(train): 1.06417 | MAPE(val): 1.22795 | TOP MAPE(val): 0.6000\n",
      "[Epoch  55000 / 300000] Train Loss: 1.14421 | Val Loss: 1.30794 | MAPE(train): 1.06324 | MAPE(val): 1.23299 | TOP MAPE(val): 0.6000\n"
     ]
    },
    {
     "ename": "KeyboardInterrupt",
     "evalue": "",
     "output_type": "error",
     "traceback": [
      "\u001b[1;31m---------------------------------------------------------------------------\u001b[0m",
      "\u001b[1;31mKeyboardInterrupt\u001b[0m                         Traceback (most recent call last)",
      "\u001b[1;32m<ipython-input-42-9821691b0713>\u001b[0m in \u001b[0;36m<module>\u001b[1;34m\u001b[0m\n\u001b[0;32m      7\u001b[0m     \u001b[0mtrain_mape_list\u001b[0m\u001b[1;33m.\u001b[0m\u001b[0mappend\u001b[0m\u001b[1;33m(\u001b[0m\u001b[0mmape\u001b[0m\u001b[1;33m)\u001b[0m\u001b[1;33m\u001b[0m\u001b[1;33m\u001b[0m\u001b[0m\n\u001b[0;32m      8\u001b[0m     \u001b[0moptimizer\u001b[0m\u001b[1;33m.\u001b[0m\u001b[0mzero_grad\u001b[0m\u001b[1;33m(\u001b[0m\u001b[1;33m)\u001b[0m\u001b[1;33m\u001b[0m\u001b[1;33m\u001b[0m\u001b[0m\n\u001b[1;32m----> 9\u001b[1;33m     \u001b[0mloss\u001b[0m\u001b[1;33m.\u001b[0m\u001b[0mbackward\u001b[0m\u001b[1;33m(\u001b[0m\u001b[1;33m)\u001b[0m\u001b[1;33m\u001b[0m\u001b[1;33m\u001b[0m\u001b[0m\n\u001b[0m\u001b[0;32m     10\u001b[0m     \u001b[0moptimizer\u001b[0m\u001b[1;33m.\u001b[0m\u001b[0mstep\u001b[0m\u001b[1;33m(\u001b[0m\u001b[1;33m)\u001b[0m\u001b[1;33m\u001b[0m\u001b[1;33m\u001b[0m\u001b[0m\n\u001b[0;32m     11\u001b[0m \u001b[1;33m\u001b[0m\u001b[0m\n",
      "\u001b[1;32m~\\Anaconda3\\envs\\pytorch\\lib\\site-packages\\torch\\tensor.py\u001b[0m in \u001b[0;36mbackward\u001b[1;34m(self, gradient, retain_graph, create_graph)\u001b[0m\n\u001b[0;32m    196\u001b[0m                 \u001b[0mproducts\u001b[0m\u001b[1;33m.\u001b[0m \u001b[0mDefaults\u001b[0m \u001b[0mto\u001b[0m\u001b[0;31m \u001b[0m\u001b[0;31m`\u001b[0m\u001b[0;31m`\u001b[0m\u001b[1;32mFalse\u001b[0m\u001b[0;31m`\u001b[0m\u001b[0;31m`\u001b[0m\u001b[1;33m.\u001b[0m\u001b[1;33m\u001b[0m\u001b[1;33m\u001b[0m\u001b[0m\n\u001b[0;32m    197\u001b[0m         \"\"\"\n\u001b[1;32m--> 198\u001b[1;33m         \u001b[0mtorch\u001b[0m\u001b[1;33m.\u001b[0m\u001b[0mautograd\u001b[0m\u001b[1;33m.\u001b[0m\u001b[0mbackward\u001b[0m\u001b[1;33m(\u001b[0m\u001b[0mself\u001b[0m\u001b[1;33m,\u001b[0m \u001b[0mgradient\u001b[0m\u001b[1;33m,\u001b[0m \u001b[0mretain_graph\u001b[0m\u001b[1;33m,\u001b[0m \u001b[0mcreate_graph\u001b[0m\u001b[1;33m)\u001b[0m\u001b[1;33m\u001b[0m\u001b[1;33m\u001b[0m\u001b[0m\n\u001b[0m\u001b[0;32m    199\u001b[0m \u001b[1;33m\u001b[0m\u001b[0m\n\u001b[0;32m    200\u001b[0m     \u001b[1;32mdef\u001b[0m \u001b[0mregister_hook\u001b[0m\u001b[1;33m(\u001b[0m\u001b[0mself\u001b[0m\u001b[1;33m,\u001b[0m \u001b[0mhook\u001b[0m\u001b[1;33m)\u001b[0m\u001b[1;33m:\u001b[0m\u001b[1;33m\u001b[0m\u001b[1;33m\u001b[0m\u001b[0m\n",
      "\u001b[1;32m~\\Anaconda3\\envs\\pytorch\\lib\\site-packages\\torch\\autograd\\__init__.py\u001b[0m in \u001b[0;36mbackward\u001b[1;34m(tensors, grad_tensors, retain_graph, create_graph, grad_variables)\u001b[0m\n\u001b[0;32m     92\u001b[0m         \u001b[0mgrad_tensors\u001b[0m \u001b[1;33m=\u001b[0m \u001b[0mlist\u001b[0m\u001b[1;33m(\u001b[0m\u001b[0mgrad_tensors\u001b[0m\u001b[1;33m)\u001b[0m\u001b[1;33m\u001b[0m\u001b[1;33m\u001b[0m\u001b[0m\n\u001b[0;32m     93\u001b[0m \u001b[1;33m\u001b[0m\u001b[0m\n\u001b[1;32m---> 94\u001b[1;33m     \u001b[0mgrad_tensors\u001b[0m \u001b[1;33m=\u001b[0m \u001b[0m_make_grads\u001b[0m\u001b[1;33m(\u001b[0m\u001b[0mtensors\u001b[0m\u001b[1;33m,\u001b[0m \u001b[0mgrad_tensors\u001b[0m\u001b[1;33m)\u001b[0m\u001b[1;33m\u001b[0m\u001b[1;33m\u001b[0m\u001b[0m\n\u001b[0m\u001b[0;32m     95\u001b[0m     \u001b[1;32mif\u001b[0m \u001b[0mretain_graph\u001b[0m \u001b[1;32mis\u001b[0m \u001b[1;32mNone\u001b[0m\u001b[1;33m:\u001b[0m\u001b[1;33m\u001b[0m\u001b[1;33m\u001b[0m\u001b[0m\n\u001b[0;32m     96\u001b[0m         \u001b[0mretain_graph\u001b[0m \u001b[1;33m=\u001b[0m \u001b[0mcreate_graph\u001b[0m\u001b[1;33m\u001b[0m\u001b[1;33m\u001b[0m\u001b[0m\n",
      "\u001b[1;32m~\\Anaconda3\\envs\\pytorch\\lib\\site-packages\\torch\\autograd\\__init__.py\u001b[0m in \u001b[0;36m_make_grads\u001b[1;34m(outputs, grads)\u001b[0m\n\u001b[0;32m     34\u001b[0m                 \u001b[1;32mif\u001b[0m \u001b[0mout\u001b[0m\u001b[1;33m.\u001b[0m\u001b[0mnumel\u001b[0m\u001b[1;33m(\u001b[0m\u001b[1;33m)\u001b[0m \u001b[1;33m!=\u001b[0m \u001b[1;36m1\u001b[0m\u001b[1;33m:\u001b[0m\u001b[1;33m\u001b[0m\u001b[1;33m\u001b[0m\u001b[0m\n\u001b[0;32m     35\u001b[0m                     \u001b[1;32mraise\u001b[0m \u001b[0mRuntimeError\u001b[0m\u001b[1;33m(\u001b[0m\u001b[1;34m\"grad can be implicitly created only for scalar outputs\"\u001b[0m\u001b[1;33m)\u001b[0m\u001b[1;33m\u001b[0m\u001b[1;33m\u001b[0m\u001b[0m\n\u001b[1;32m---> 36\u001b[1;33m                 \u001b[0mnew_grads\u001b[0m\u001b[1;33m.\u001b[0m\u001b[0mappend\u001b[0m\u001b[1;33m(\u001b[0m\u001b[0mtorch\u001b[0m\u001b[1;33m.\u001b[0m\u001b[0mones_like\u001b[0m\u001b[1;33m(\u001b[0m\u001b[0mout\u001b[0m\u001b[1;33m,\u001b[0m \u001b[0mmemory_format\u001b[0m\u001b[1;33m=\u001b[0m\u001b[0mtorch\u001b[0m\u001b[1;33m.\u001b[0m\u001b[0mpreserve_format\u001b[0m\u001b[1;33m)\u001b[0m\u001b[1;33m)\u001b[0m\u001b[1;33m\u001b[0m\u001b[1;33m\u001b[0m\u001b[0m\n\u001b[0m\u001b[0;32m     37\u001b[0m             \u001b[1;32melse\u001b[0m\u001b[1;33m:\u001b[0m\u001b[1;33m\u001b[0m\u001b[1;33m\u001b[0m\u001b[0m\n\u001b[0;32m     38\u001b[0m                 \u001b[0mnew_grads\u001b[0m\u001b[1;33m.\u001b[0m\u001b[0mappend\u001b[0m\u001b[1;33m(\u001b[0m\u001b[1;32mNone\u001b[0m\u001b[1;33m)\u001b[0m\u001b[1;33m\u001b[0m\u001b[1;33m\u001b[0m\u001b[0m\n",
      "\u001b[1;31mKeyboardInterrupt\u001b[0m: "
     ]
    }
   ],
   "source": [
    "for i in range(EPOCH):\n",
    "    y_pred_train = model(torch.Tensor(X_train_scaled)).to(device)\n",
    "    loss = loss_fn(y_pred_train.squeeze().to(device), torch.Tensor(log_y_train.values).to(device))\n",
    "    train_losses.append(loss)\n",
    "    mape = MAPE(np.exp(y_pred_train.cpu().detach().numpy().squeeze()), y_train)\n",
    "#     mape = MAPE(y_pred_train.cpu().detach().numpy().squeeze(), y_train)\n",
    "    train_mape_list.append(mape)\n",
    "    optimizer.zero_grad()\n",
    "    loss.backward()\n",
    "    optimizer.step()\n",
    "\n",
    "    with torch.no_grad():\n",
    "        y_pred_test = model(torch.Tensor(X_valid_scaled)).to(device)\n",
    "        val_loss = loss_fn(y_pred_test.squeeze().to(device), torch.Tensor(log_y_valid.values).to(device))\n",
    "        val_mape = MAPE(np.exp(y_pred_test.cpu().detach().numpy().squeeze()), y_valid)\n",
    "        valid_losses.append(val_loss)\n",
    "        val_mape_list.append(val_mape)            \n",
    "\n",
    "    if top_mape >= val_mape * 1.05:\n",
    "        top_mape = val_mape\n",
    "        torch.save(model, PATH + f'DeepNSNet_EPOCH_{str(i).zfill(len(str(EPOCH)))}_MAPE_{val_mape:.4f}.pth')  # 전체 모델 저장\n",
    "    \n",
    "    if i % 1000 == 0:\n",
    "        print(f\"[Epoch {i:>6d} / {EPOCH:>6d}] \"\n",
    "        f\"Train Loss: {loss:>2.5f} | \" gi\n",
    "        f\"Val Loss: {val_loss:>2.5f} | \"\n",
    "        f\"MAPE(train): {mape:>2.5f} | \"\n",
    "        f\"MAPE(val): {val_mape:>2.5f} | \"\n",
    "        f\"TOP MAPE(val): {top_mape:>.4f}\")"
   ]
  },
  {
   "cell_type": "code",
   "execution_count": null,
   "metadata": {
    "ExecuteTime": {
     "end_time": "2020-09-25T06:00:06.690679Z",
     "start_time": "2020-09-25T05:59:38.252041Z"
    }
   },
   "outputs": [],
   "source": [
    "plt.plot(train_losses)\n",
    "plt.plot(valid_losses)\n",
    "plt.legend(['Train loss', 'Val loss'])\n",
    "plt.show()"
   ]
  },
  {
   "cell_type": "code",
   "execution_count": null,
   "metadata": {
    "ExecuteTime": {
     "end_time": "2020-09-25T06:00:07.898171Z",
     "start_time": "2020-09-25T06:00:06.709642Z"
    }
   },
   "outputs": [],
   "source": [
    "plt.ylim(0.4,2)\n",
    "plt.plot(train_mape_list)\n",
    "plt.plot(val_mape_list)\n",
    "plt.legend(['Train MAPE', 'Val MAPE'])\n",
    "plt.show()"
   ]
  },
  {
   "cell_type": "code",
   "execution_count": null,
   "metadata": {},
   "outputs": [],
   "source": [
    "with torch.no_grad():\n",
    "    y_pred_test = model(torch.Tensor(X_valid_scaled)).to(device)\n",
    "    val_loss = loss_fn(y_pred_test.squeeze().to(device), torch.Tensor(y_valid.values).to(device))\n",
    "    val_mape = MAPE(y_pred_test.cpu().detach().numpy().squeeze(), y_valid)"
   ]
  },
  {
   "cell_type": "code",
   "execution_count": null,
   "metadata": {},
   "outputs": [],
   "source": [
    "val_mape"
   ]
  },
  {
   "cell_type": "markdown",
   "metadata": {},
   "source": [
    "---\n",
    "\n",
    "## 제출하기"
   ]
  },
  {
   "cell_type": "code",
   "execution_count": null,
   "metadata": {
    "ExecuteTime": {
     "end_time": "2020-09-25T07:52:46.521463Z",
     "start_time": "2020-09-25T07:52:46.319883Z"
    }
   },
   "outputs": [],
   "source": [
    "submission = pd.read_excel('./data/02_평가데이터/2020 빅콘테스트 데이터분석분야-챔피언리그_2020년 6월 판매실적예측데이터(평가데이터).xlsx',\n",
    "                          skiprows=1,\n",
    "                          index_col=0,\n",
    "                          )\n",
    "submission"
   ]
  },
  {
   "cell_type": "code",
   "execution_count": null,
   "metadata": {
    "ExecuteTime": {
     "end_time": "2020-09-25T08:55:49.736140Z",
     "start_time": "2020-09-25T08:55:48.146421Z"
    }
   },
   "outputs": [],
   "source": [
    "for sub_model_name in tqdm_notebook(ml_models.keys()):\n",
    "    now = datetime.now()\n",
    "    file_sub_date = str(now.month).zfill(2) + str(now.day).zfill(2) + str(now.hour).zfill(2) + str(now.hour).zfill(2)\n",
    "    y_pred = ml_models['XGBRegressor'].predict(mms.transform(data['test'].drop('취급액',axis=1))) * SCALED_UNIT\n",
    "    submission.loc[~submission['상품군'].str.contains('무형'),['취급액']] = y_pred\n",
    "    submission = submission.fillna(0)\n",
    "    submission.to_csv(f'./result/KUAI_{file_sub_date}_MODEL_{sub_model_name}.csv', \n",
    "                      index=None, \n",
    "                      encoding='cp949')"
   ]
  },
  {
   "cell_type": "markdown",
   "metadata": {},
   "source": [
    "---\n",
    "\n",
    "## 참고자료"
   ]
  },
  {
   "cell_type": "markdown",
   "metadata": {},
   "source": [
    "- https://www.bigcontest.or.kr/index.php\n",
    "- https://pytorch.org/\n",
    "- https://minsuksung-ai.tistory.com/\n",
    "- https://en.wikipedia.org/wiki/Mean_absolute_percentage_error\n",
    "- https://discuss.pytorch.org/t/model-zero-grad-or-optimizer-zero-grad/28426\n",
    "- https://rfriend.tistory.com/411\n",
    "- https://stackoverflow.com/questions/13838405/custom-sorting-in-pandas-dataframe\n",
    "- https://datatofish.com/data-type-pandas-dataframe/\n",
    "- "
   ]
  }
 ],
 "metadata": {
  "hide_input": false,
  "kernelspec": {
   "display_name": "Python 3",
   "language": "python",
   "name": "python3"
  },
  "language_info": {
   "codemirror_mode": {
    "name": "ipython",
    "version": 3
   },
   "file_extension": ".py",
   "mimetype": "text/x-python",
   "name": "python",
   "nbconvert_exporter": "python",
   "pygments_lexer": "ipython3",
   "version": "3.6.10"
  },
  "toc": {
   "base_numbering": "0",
   "nav_menu": {},
   "number_sections": true,
   "sideBar": true,
   "skip_h1_title": true,
   "title_cell": "Table of Contents",
   "title_sidebar": "Contents",
   "toc_cell": true,
   "toc_position": {
    "height": "calc(100% - 180px)",
    "left": "10px",
    "top": "150px",
    "width": "329px"
   },
   "toc_section_display": true,
   "toc_window_display": true
  },
  "varInspector": {
   "cols": {
    "lenName": 16,
    "lenType": 16,
    "lenVar": 40
   },
   "kernels_config": {
    "python": {
     "delete_cmd_postfix": "",
     "delete_cmd_prefix": "del ",
     "library": "var_list.py",
     "varRefreshCmd": "print(var_dic_list())"
    },
    "r": {
     "delete_cmd_postfix": ") ",
     "delete_cmd_prefix": "rm(",
     "library": "var_list.r",
     "varRefreshCmd": "cat(var_dic_list()) "
    }
   },
   "position": {
    "height": "451.215px",
    "left": "1763.33px",
    "right": "20px",
    "top": "120px",
    "width": "350px"
   },
   "types_to_exclude": [
    "module",
    "function",
    "builtin_function_or_method",
    "instance",
    "_Feature"
   ],
   "window_display": false
  }
 },
 "nbformat": 4,
 "nbformat_minor": 4
}

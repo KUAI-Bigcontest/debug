{
 "cells": [
  {
   "cell_type": "markdown",
   "metadata": {},
   "source": [
    "# 2020 빅콘테스트 챔피언스리그\n",
    "\n",
    "![](./img/contest_logo.png)"
   ]
  },
  {
   "cell_type": "markdown",
   "metadata": {
    "toc": true
   },
   "source": [
    "<h1>Table of Contents<span class=\"tocSkip\"></span></h1>\n",
    "<div class=\"toc\"><ul class=\"toc-item\"><li><span><a href=\"#대회요강\" data-toc-modified-id=\"대회요강-0\"><span class=\"toc-item-num\">0&nbsp;&nbsp;</span>대회요강</a></span><ul class=\"toc-item\"><li><span><a href=\"#참가자격\" data-toc-modified-id=\"참가자격-0.1\"><span class=\"toc-item-num\">0.1&nbsp;&nbsp;</span>참가자격</a></span></li><li><span><a href=\"#대회일정\" data-toc-modified-id=\"대회일정-0.2\"><span class=\"toc-item-num\">0.2&nbsp;&nbsp;</span>대회일정</a></span></li><li><span><a href=\"#대회-문제\" data-toc-modified-id=\"대회-문제-0.3\"><span class=\"toc-item-num\">0.3&nbsp;&nbsp;</span>대회 문제</a></span></li><li><span><a href=\"#평가방법\" data-toc-modified-id=\"평가방법-0.4\"><span class=\"toc-item-num\">0.4&nbsp;&nbsp;</span>평가방법</a></span></li><li><span><a href=\"#결과제출\" data-toc-modified-id=\"결과제출-0.5\"><span class=\"toc-item-num\">0.5&nbsp;&nbsp;</span>결과제출</a></span></li><li><span><a href=\"#유의사항\" data-toc-modified-id=\"유의사항-0.6\"><span class=\"toc-item-num\">0.6&nbsp;&nbsp;</span>유의사항</a></span></li></ul></li><li><span><a href=\"#Library-&amp;-Option\" data-toc-modified-id=\"Library-&amp;-Option-1\"><span class=\"toc-item-num\">1&nbsp;&nbsp;</span>Library &amp; Option</a></span></li><li><span><a href=\"#Load-Data\" data-toc-modified-id=\"Load-Data-2\"><span class=\"toc-item-num\">2&nbsp;&nbsp;</span>Load Data</a></span><ul class=\"toc-item\"><li><span><a href=\"#2019년-실적데이터\" data-toc-modified-id=\"2019년-실적데이터-2.1\"><span class=\"toc-item-num\">2.1&nbsp;&nbsp;</span>2019년 실적데이터</a></span></li><li><span><a href=\"#시청률-데이터\" data-toc-modified-id=\"시청률-데이터-2.2\"><span class=\"toc-item-num\">2.2&nbsp;&nbsp;</span>시청률 데이터</a></span></li><li><span><a href=\"#판매-실적-예측-데이터\" data-toc-modified-id=\"판매-실적-예측-데이터-2.3\"><span class=\"toc-item-num\">2.3&nbsp;&nbsp;</span>판매 실적 예측 데이터</a></span></li></ul></li><li><span><a href=\"#Data-Preprocessing\" data-toc-modified-id=\"Data-Preprocessing-3\"><span class=\"toc-item-num\">3&nbsp;&nbsp;</span>Data Preprocessing</a></span><ul class=\"toc-item\"><li><span><a href=\"#Null값-처리하기\" data-toc-modified-id=\"Null값-처리하기-3.1\"><span class=\"toc-item-num\">3.1&nbsp;&nbsp;</span>Null값 처리하기</a></span></li><li><span><a href=\"#세부-시간-추출\" data-toc-modified-id=\"세부-시간-추출-3.2\"><span class=\"toc-item-num\">3.2&nbsp;&nbsp;</span>세부 시간 추출</a></span></li><li><span><a href=\"#자연어처리\" data-toc-modified-id=\"자연어처리-3.3\"><span class=\"toc-item-num\">3.3&nbsp;&nbsp;</span>자연어처리</a></span><ul class=\"toc-item\"><li><span><a href=\"#Save-and-Load\" data-toc-modified-id=\"Save-and-Load-3.3.1\"><span class=\"toc-item-num\">3.3.1&nbsp;&nbsp;</span>Save and Load</a></span></li></ul></li><li><span><a href=\"#Embedded-Vectors\" data-toc-modified-id=\"Embedded-Vectors-3.4\"><span class=\"toc-item-num\">3.4&nbsp;&nbsp;</span>Embedded Vectors</a></span></li></ul></li><li><span><a href=\"#Exploratory-Data-Analysis\" data-toc-modified-id=\"Exploratory-Data-Analysis-4\"><span class=\"toc-item-num\">4&nbsp;&nbsp;</span>Exploratory Data Analysis</a></span><ul class=\"toc-item\"><li><span><a href=\"#시청률-데이터\" data-toc-modified-id=\"시청률-데이터-4.1\"><span class=\"toc-item-num\">4.1&nbsp;&nbsp;</span>시청률 데이터</a></span></li></ul></li><li><span><a href=\"#Feature-Engineering\" data-toc-modified-id=\"Feature-Engineering-5\"><span class=\"toc-item-num\">5&nbsp;&nbsp;</span>Feature Engineering</a></span></li><li><span><a href=\"#네이버트랜드-결합\" data-toc-modified-id=\"네이버트랜드-결합-6\"><span class=\"toc-item-num\">6&nbsp;&nbsp;</span>네이버트랜드 결합</a></span><ul class=\"toc-item\"><li><span><a href=\"#상품군,-상품명-처리하기\" data-toc-modified-id=\"상품군,-상품명-처리하기-6.1\"><span class=\"toc-item-num\">6.1&nbsp;&nbsp;</span>상품군, 상품명 처리하기</a></span></li><li><span><a href=\"#Common-Function\" data-toc-modified-id=\"Common-Function-6.2\"><span class=\"toc-item-num\">6.2&nbsp;&nbsp;</span>Common Function</a></span></li><li><span><a href=\"#Train-Preprocessing\" data-toc-modified-id=\"Train-Preprocessing-6.3\"><span class=\"toc-item-num\">6.3&nbsp;&nbsp;</span>Train Preprocessing</a></span></li><li><span><a href=\"#Test-Preprocessing\" data-toc-modified-id=\"Test-Preprocessing-6.4\"><span class=\"toc-item-num\">6.4&nbsp;&nbsp;</span>Test Preprocessing</a></span></li></ul></li><li><span><a href=\"#Feature-Selection\" data-toc-modified-id=\"Feature-Selection-7\"><span class=\"toc-item-num\">7&nbsp;&nbsp;</span>Feature Selection</a></span></li><li><span><a href=\"#Modeling\" data-toc-modified-id=\"Modeling-8\"><span class=\"toc-item-num\">8&nbsp;&nbsp;</span>Modeling</a></span><ul class=\"toc-item\"><li><span><a href=\"#학습-및-검증-데이터-분리하기\" data-toc-modified-id=\"학습-및-검증-데이터-분리하기-8.1\"><span class=\"toc-item-num\">8.1&nbsp;&nbsp;</span>학습 및 검증 데이터 분리하기</a></span></li><li><span><a href=\"#모델-생성하기\" data-toc-modified-id=\"모델-생성하기-8.2\"><span class=\"toc-item-num\">8.2&nbsp;&nbsp;</span>모델 생성하기</a></span></li></ul></li><li><span><a href=\"#Testing\" data-toc-modified-id=\"Testing-9\"><span class=\"toc-item-num\">9&nbsp;&nbsp;</span>Testing</a></span><ul class=\"toc-item\"><li><span><a href=\"#MAPE\" data-toc-modified-id=\"MAPE-9.1\"><span class=\"toc-item-num\">9.1&nbsp;&nbsp;</span>MAPE</a></span></li></ul></li><li><span><a href=\"#Submission\" data-toc-modified-id=\"Submission-10\"><span class=\"toc-item-num\">10&nbsp;&nbsp;</span>Submission</a></span></li><li><span><a href=\"#Reference\" data-toc-modified-id=\"Reference-11\"><span class=\"toc-item-num\">11&nbsp;&nbsp;</span>Reference</a></span></li></ul></div>"
   ]
  },
  {
   "cell_type": "markdown",
   "metadata": {},
   "source": [
    "## 대회요강\n",
    "\n",
    "### 참가자격\n",
    "- 전국 대학(원)생(휴학생포함) 및 일반인\n",
    "    - 대회 시작일(8.3) 기준, 대학(원)생은 나이제한 없음\n",
    "    - 데이터 분석 및 컨설팅 업체 소속 임직원은 참여 불가"
   ]
  },
  {
   "cell_type": "markdown",
   "metadata": {},
   "source": [
    "### 대회일정\n",
    "![](./img/contest_plan.png)"
   ]
  },
  {
   "cell_type": "markdown",
   "metadata": {},
   "source": [
    "### 대회 문제\n",
    "![](./img/contest_problem.png)"
   ]
  },
  {
   "cell_type": "markdown",
   "metadata": {},
   "source": [
    "### 평가방법\n",
    "\n",
    "![](./img/contest_evaluation.png)"
   ]
  },
  {
   "cell_type": "markdown",
   "metadata": {},
   "source": [
    "### 결과제출\n",
    "\n",
    "1. 마이페이지 내 결과제출바로가기 에서 제출(파일 용량 초과시, 사무국 이메일/웹하드로 제출하며 별도 안내 예정)\n",
    "2. 결과보고서 양식 및 추가 제출파일\n",
    "    - 심사진행과정에서 추가로 자료를 요청할 수 있음\n",
    "    - 결과보고서 필수 포함내용 미기재 및 추가 제출파일 미제출시, 심사 및 수상에서 제외 될 수 있음\n",
    "    \n",
    "![](./img/contest_submission.png)"
   ]
  },
  {
   "cell_type": "markdown",
   "metadata": {},
   "source": [
    "### 유의사항\n",
    "\n",
    "![](./img/contest_notice.png)"
   ]
  },
  {
   "cell_type": "markdown",
   "metadata": {},
   "source": [
    "---\n",
    "\n",
    "## Library & Option"
   ]
  },
  {
   "cell_type": "code",
   "execution_count": 3,
   "metadata": {
    "ExecuteTime": {
     "end_time": "2020-09-21T10:47:57.516381Z",
     "start_time": "2020-09-21T10:47:56.036798Z"
    }
   },
   "outputs": [],
   "source": [
    "# BASIC\n",
    "import os\n",
    "import sys\n",
    "import platform\n",
    "import warnings\n",
    "from collections import Counter\n",
    "import calendar\n",
    "\n",
    "# LOAD DATA\n",
    "import numpy as np\n",
    "import pandas as pd\n",
    "\n",
    "# EXPLORATORY DATA ANALYSIS\n",
    "import matplotlib as mpl\n",
    "import matplotlib.pyplot as plt\n",
    "import seaborn as sns\n",
    "import missingno as msno\n",
    "\n",
    "# DATA PREPROCESSING\n",
    "import re\n",
    "from sklearn.preprocessing import LabelEncoder\n",
    "from sklearn.preprocessing import OneHotEncoder\n",
    "\n",
    "# NATURAL LANGUAGE PROCESSING\n",
    "from konlpy.tag import Komoran\n",
    "from gensim.models import Word2Vec\n",
    "\n",
    "# FEATURE ENGINEERING\n",
    "from sklearn.preprocessing import MaxAbsScaler, MinMaxScaler\n",
    "\n",
    "# FEATURE SELECTION\n",
    "from tqdm.notebook import tqdm\n",
    "\n",
    "# MODELING\n",
    "from sklearn.model_selection import KFold\n",
    "from sklearn.model_selection import train_test_split\n",
    "from sklearn.linear_model import LinearRegression\n",
    "from sklearn.tree import DecisionTreeRegressor\n",
    "from sklearn.svm import SVR\n",
    "from sklearn.ensemble import RandomForestRegressor\n",
    "from xgboost import XGBRegressor\n",
    "# from lightgbm import LGBMRegressor\n",
    "\n",
    "# TESTING\n",
    "from sklearn.metrics import mean_absolute_error\n",
    "from sklearn.model_selection import RandomizedSearchCV\n",
    "from sklearn.model_selection import GridSearchCV"
   ]
  },
  {
   "cell_type": "code",
   "execution_count": 7,
   "metadata": {
    "ExecuteTime": {
     "end_time": "2020-09-21T10:49:05.564107Z",
     "start_time": "2020-09-21T10:49:05.546900Z"
    }
   },
   "outputs": [],
   "source": [
    "warnings.filterwarnings(action='ignore')\n",
    "pd.options.display.float_format = '{:.4f}'.format\n",
    "# plt.style.use('ggplot')\n",
    "if platform.platform().split('-')[0] == 'Windows':\n",
    "    mpl.rcParams['font.family'] = 'Malgun Gothic' # Windows에서는 한글이 나오게 하기 위해서\n",
    "else: # macOS라고 가정\n",
    "    mpl.rcParams['font.family'] = 'AppleGothic' # mac에서는 한글이 나오게 하기 위해서\n",
    "\n",
    "mpl.rcParams['axes.unicode_minus'] = False"
   ]
  },
  {
   "cell_type": "code",
   "execution_count": 8,
   "metadata": {
    "ExecuteTime": {
     "end_time": "2020-09-21T10:49:06.000974Z",
     "start_time": "2020-09-21T10:49:05.998507Z"
    }
   },
   "outputs": [],
   "source": [
    "RANDOM_STATE = 42\n",
    "TEST_SIZE = 0.2"
   ]
  },
  {
   "cell_type": "markdown",
   "metadata": {},
   "source": [
    "---\n",
    "\n",
    "## Load Data"
   ]
  },
  {
   "cell_type": "code",
   "execution_count": null,
   "metadata": {
    "ExecuteTime": {
     "end_time": "2020-09-21T10:05:48.205249Z",
     "start_time": "2020-09-21T10:05:48.199902Z"
    }
   },
   "outputs": [],
   "source": [
    "os.listdir('./data/01_제공데이터')"
   ]
  },
  {
   "cell_type": "code",
   "execution_count": null,
   "metadata": {
    "ExecuteTime": {
     "end_time": "2020-09-21T10:05:48.210442Z",
     "start_time": "2020-09-21T10:05:48.206926Z"
    }
   },
   "outputs": [],
   "source": [
    "os.listdir('./data/02_평가데이터')"
   ]
  },
  {
   "cell_type": "code",
   "execution_count": null,
   "metadata": {
    "ExecuteTime": {
     "end_time": "2020-09-21T10:05:48.214672Z",
     "start_time": "2020-09-21T10:05:48.212379Z"
    }
   },
   "outputs": [],
   "source": [
    "data = dict()"
   ]
  },
  {
   "cell_type": "markdown",
   "metadata": {},
   "source": [
    "### 2019년 실적데이터"
   ]
  },
  {
   "cell_type": "code",
   "execution_count": null,
   "metadata": {
    "ExecuteTime": {
     "end_time": "2020-09-21T10:05:51.383234Z",
     "start_time": "2020-09-21T10:05:48.217951Z"
    }
   },
   "outputs": [],
   "source": [
    "data['train'] = pd.read_excel(r'./data/01_제공데이터/2020 빅콘테스트 데이터분석분야-챔피언리그_2019년 실적데이터.xlsx',\n",
    "                       header=1,\n",
    "                       names=['방송일시', '노출(분)', '마더코드', '상품코드',\n",
    "                              '상품명', '상품군', '판매단가', '취급액'],\n",
    "                       thousands=',',\n",
    "                       )\n",
    "data['train'].index = pd.to_datetime(data['train']['방송일시'])\n",
    "data['train'] = data['train'].drop('방송일시',axis=1)\n",
    "data['train'] = data['train']['2019']\n",
    "data['train']"
   ]
  },
  {
   "cell_type": "markdown",
   "metadata": {},
   "source": [
    "### 시청률 데이터"
   ]
  },
  {
   "cell_type": "code",
   "execution_count": null,
   "metadata": {
    "ExecuteTime": {
     "end_time": "2020-09-21T10:05:55.839894Z",
     "start_time": "2020-09-21T10:05:51.385770Z"
    }
   },
   "outputs": [],
   "source": [
    "data['rating'] = pd.read_excel('./data/01_제공데이터/2020 빅콘테스트 데이터분석분야-챔피언리그_시청률 데이터.xlsx',\n",
    "                          skiprows=1,\n",
    "                          index_col=0,\n",
    "                          )\n",
    "data['rating']"
   ]
  },
  {
   "cell_type": "markdown",
   "metadata": {},
   "source": [
    "### 판매 실적 예측 데이터"
   ]
  },
  {
   "cell_type": "code",
   "execution_count": null,
   "metadata": {
    "ExecuteTime": {
     "end_time": "2020-09-21T10:05:56.120762Z",
     "start_time": "2020-09-21T10:05:55.841862Z"
    }
   },
   "outputs": [],
   "source": [
    "data['test'] = pd.read_excel('./data/02_평가데이터/2020 빅콘테스트 데이터분석분야-챔피언리그_2020년 6월 판매실적예측데이터(평가데이터).xlsx',\n",
    "                          skiprows=1,\n",
    "                          index_col=0,\n",
    "                          )\n",
    "data['test']"
   ]
  },
  {
   "cell_type": "markdown",
   "metadata": {},
   "source": [
    "---\n",
    "\n",
    "## Data Preprocessing"
   ]
  },
  {
   "cell_type": "code",
   "execution_count": null,
   "metadata": {
    "ExecuteTime": {
     "end_time": "2020-09-21T10:05:56.124282Z",
     "start_time": "2020-09-21T10:05:56.122492Z"
    }
   },
   "outputs": [],
   "source": [
    "# data.pivot_table(values=['취급액'],\n",
    "#                    index=['연', '월', '일'],\n",
    "#                    aggfunc='sum').plot(figsize=(12,8))\n",
    "# plt.grid()\n",
    "# plt.show()"
   ]
  },
  {
   "cell_type": "code",
   "execution_count": null,
   "metadata": {
    "ExecuteTime": {
     "end_time": "2020-09-21T10:05:56.127744Z",
     "start_time": "2020-09-21T10:05:56.125836Z"
    }
   },
   "outputs": [],
   "source": [
    "# data.pivot_table(values=['노출(분)'],\n",
    "#                    index=['연', '월', '일'],\n",
    "#                    aggfunc='sum').plot(figsize=(12,8))\n",
    "# plt.grid()\n",
    "# plt.show()"
   ]
  },
  {
   "cell_type": "markdown",
   "metadata": {},
   "source": [
    "### Null값 처리하기"
   ]
  },
  {
   "cell_type": "code",
   "execution_count": null,
   "metadata": {
    "ExecuteTime": {
     "end_time": "2020-09-21T10:05:56.603303Z",
     "start_time": "2020-09-21T10:05:56.129158Z"
    }
   },
   "outputs": [],
   "source": [
    "msno.matrix(data['train'])\n",
    "plt.show()"
   ]
  },
  {
   "cell_type": "code",
   "execution_count": null,
   "metadata": {
    "ExecuteTime": {
     "end_time": "2020-09-21T10:05:56.949568Z",
     "start_time": "2020-09-21T10:05:56.605231Z"
    }
   },
   "outputs": [],
   "source": [
    "msno.matrix(data['test'])\n",
    "plt.show()"
   ]
  },
  {
   "cell_type": "markdown",
   "metadata": {},
   "source": [
    "### 세부 시간 추출"
   ]
  },
  {
   "cell_type": "code",
   "execution_count": null,
   "metadata": {
    "ExecuteTime": {
     "end_time": "2020-09-21T10:05:57.388937Z",
     "start_time": "2020-09-21T10:05:56.951651Z"
    }
   },
   "outputs": [],
   "source": [
    "data['train']['연'] = data['train'].index.map(lambda x: x.year)\n",
    "data['train']['월'] = data['train'].index.map(lambda x: x.month)\n",
    "data['train']['일'] = data['train'].index.map(lambda x: x.day)\n",
    "data['train']['시'] = data['train'].index.map(lambda x: x.hour)\n",
    "data['train']['분'] = data['train'].index.map(lambda x: x.minute)\n",
    "data['train']['요일'] = data['train'].index.map(lambda x: calendar.day_abbr[x.weekday()])"
   ]
  },
  {
   "cell_type": "code",
   "execution_count": null,
   "metadata": {
    "ExecuteTime": {
     "end_time": "2020-09-21T10:05:57.427698Z",
     "start_time": "2020-09-21T10:05:57.390693Z"
    }
   },
   "outputs": [],
   "source": [
    "data['test']['연'] = data['test'].index.map(lambda x: x.year)\n",
    "data['test']['월'] = data['test'].index.map(lambda x: x.month)\n",
    "data['test']['일'] = data['test'].index.map(lambda x: x.day)\n",
    "data['test']['시'] = data['test'].index.map(lambda x: x.hour)\n",
    "data['test']['분'] = data['test'].index.map(lambda x: x.minute)\n",
    "data['test']['요일'] = data['test'].index.map(lambda x: calendar.day_abbr[x.weekday()])"
   ]
  },
  {
   "cell_type": "code",
   "execution_count": null,
   "metadata": {
    "ExecuteTime": {
     "end_time": "2020-09-21T10:05:57.445543Z",
     "start_time": "2020-09-21T10:05:57.429762Z"
    }
   },
   "outputs": [],
   "source": [
    "# 노출시간이 비어있을땐 앞을 보면 됨\n",
    "data['train'] = data['train'].fillna(method='ffill')\n",
    "data['test'] = data['test'].fillna(method='ffill')"
   ]
  },
  {
   "cell_type": "code",
   "execution_count": null,
   "metadata": {
    "ExecuteTime": {
     "end_time": "2020-09-21T10:05:57.450180Z",
     "start_time": "2020-09-21T10:05:57.447935Z"
    }
   },
   "outputs": [],
   "source": [
    "# data['train'] = data['train'].dropna()\n",
    "# data['test'] = data['test'].dropna()"
   ]
  },
  {
   "cell_type": "markdown",
   "metadata": {},
   "source": [
    "### 자연어처리"
   ]
  },
  {
   "cell_type": "code",
   "execution_count": null,
   "metadata": {
    "ExecuteTime": {
     "end_time": "2020-09-21T10:05:57.476017Z",
     "start_time": "2020-09-21T10:05:57.452254Z"
    }
   },
   "outputs": [],
   "source": [
    "data['train']"
   ]
  },
  {
   "cell_type": "code",
   "execution_count": null,
   "metadata": {
    "ExecuteTime": {
     "end_time": "2020-09-21T10:05:57.482588Z",
     "start_time": "2020-09-21T10:05:57.477790Z"
    }
   },
   "outputs": [],
   "source": [
    "def re_sub(series: pd.Series) -> pd.Series:\n",
    "    series = series.str.replace(pat=r'[ㄱ-ㅎ]', repl=r'', regex=True)  # ㅋ 제거용\n",
    "    series = series.str.replace(pat=r'[^\\w\\s]', repl=r'', regex=True)  # 특수문자 제거\n",
    "    series = series.str.replace(pat=r'[ ]{2,}', repl=r' ', regex=True)  # 공백 제거\n",
    "    series = series.str.replace(pat=r'[\\u3000]+', repl=r'', regex=True)  # u3000 제거\n",
    "    return series"
   ]
  },
  {
   "cell_type": "code",
   "execution_count": null,
   "metadata": {
    "ExecuteTime": {
     "end_time": "2020-09-21T10:05:57.689493Z",
     "start_time": "2020-09-21T10:05:57.484649Z"
    }
   },
   "outputs": [],
   "source": [
    "train = data['train'][['상품명', '상품군']].copy()\n",
    "test = data['test'][['상품명', '상품군']].copy()\n",
    "train.상품명 = re_sub(train.상품명)\n",
    "test.상품명 = re_sub(test.상품명)"
   ]
  },
  {
   "cell_type": "code",
   "execution_count": null,
   "metadata": {
    "ExecuteTime": {
     "end_time": "2020-09-21T10:05:57.714541Z",
     "start_time": "2020-09-21T10:05:57.691227Z"
    }
   },
   "outputs": [],
   "source": [
    "prod_names = (train[train.상품군 != '무형'].상품명 + ' ' + train[train.상품군 != '무형'].상품군).values# len(prod_names) > 1692 (무형 빼고)\n",
    "prod_names_test = (test[test.상품군 != '무형'].상품명 + ' ' + test[test.상품군 != '무형'].상품군).values# len(prod_names) > 1692 (무형 빼고)"
   ]
  },
  {
   "cell_type": "code",
   "execution_count": null,
   "metadata": {
    "ExecuteTime": {
     "end_time": "2020-09-21T10:05:57.723970Z",
     "start_time": "2020-09-21T10:05:57.720513Z"
    }
   },
   "outputs": [],
   "source": [
    "len(prod_names), len(prod_names_test)"
   ]
  },
  {
   "cell_type": "code",
   "execution_count": null,
   "metadata": {
    "ExecuteTime": {
     "end_time": "2020-09-21T10:06:11.654161Z",
     "start_time": "2020-09-21T10:05:57.728024Z"
    }
   },
   "outputs": [],
   "source": [
    "komoran = Komoran(userdic='./data/04_추가데이터/user_dict_0913.txt')\n",
    "print(komoran.nouns(\"KOMORAN은 한국어 형태소 분석기입니다.\"))\n",
    "\n",
    "naive_tokens = list(map(komoran.pos, prod_names))\n",
    "naive_tokens_test = list(map(komoran.pos, prod_names_test))"
   ]
  },
  {
   "cell_type": "code",
   "execution_count": null,
   "metadata": {
    "ExecuteTime": {
     "end_time": "2020-09-21T10:06:11.816506Z",
     "start_time": "2020-09-21T10:06:11.656363Z"
    }
   },
   "outputs": [],
   "source": [
    "def morph_filter(lst):\n",
    "    return list(map(lambda x: x[0], filter(lambda x: (x[1] in usable_morphs), lst)))\n",
    "\n",
    "usable_morphs = ['NNG', 'NNP', 'NP', 'NR'] #+ ['SL', 'SN']\n",
    "naive_tokens = list(map(morph_filter, naive_tokens))\n",
    "naive_tokens_test = list(map(morph_filter, naive_tokens_test))"
   ]
  },
  {
   "cell_type": "code",
   "execution_count": null,
   "metadata": {
    "ExecuteTime": {
     "end_time": "2020-09-21T10:06:11.897281Z",
     "start_time": "2020-09-21T10:06:11.818631Z"
    }
   },
   "outputs": [],
   "source": [
    "exclude_words = ['종', '인용']\n",
    "def exclude(lst):\n",
    "    return list(filter(lambda x: x not in exclude_words, lst))\n",
    "processed_tokens = list(map(exclude, naive_tokens))\n",
    "processed_tokens_test = list(map(exclude, naive_tokens_test))"
   ]
  },
  {
   "cell_type": "code",
   "execution_count": null,
   "metadata": {
    "ExecuteTime": {
     "end_time": "2020-09-21T10:06:12.029546Z",
     "start_time": "2020-09-21T10:06:11.899437Z"
    }
   },
   "outputs": [],
   "source": [
    "processed_tokens # -> 1차 Output"
   ]
  },
  {
   "cell_type": "code",
   "execution_count": null,
   "metadata": {
    "ExecuteTime": {
     "end_time": "2020-09-21T10:06:12.160150Z",
     "start_time": "2020-09-21T10:06:12.032013Z"
    }
   },
   "outputs": [],
   "source": [
    "processed_tokens_test"
   ]
  },
  {
   "cell_type": "markdown",
   "metadata": {},
   "source": [
    "#### Save and Load"
   ]
  },
  {
   "cell_type": "markdown",
   "metadata": {},
   "source": [
    "import pickle\n",
    "\n",
    "with open('processed_tokens_train.pkl', 'wb') as f:\n",
    "    pickle.dump(processed_tokens, f)"
   ]
  },
  {
   "cell_type": "markdown",
   "metadata": {},
   "source": [
    "### Embedded Vectors"
   ]
  },
  {
   "cell_type": "code",
   "execution_count": null,
   "metadata": {
    "ExecuteTime": {
     "end_time": "2020-09-21T10:06:13.355408Z",
     "start_time": "2020-09-21T10:06:12.162377Z"
    }
   },
   "outputs": [],
   "source": [
    "model = Word2Vec(sentences=processed_tokens, size=10, window=6, min_count=5, workers=4, sg=1)"
   ]
  },
  {
   "cell_type": "code",
   "execution_count": null,
   "metadata": {
    "ExecuteTime": {
     "end_time": "2020-09-21T10:06:13.368359Z",
     "start_time": "2020-09-21T10:06:13.358235Z"
    }
   },
   "outputs": [],
   "source": [
    "word_vectors = model.wv\n",
    "\n",
    "vocabs = word_vectors.vocab.keys()\n",
    "word_vectors_list = [word_vectors[v] for v in vocabs]"
   ]
  },
  {
   "cell_type": "code",
   "execution_count": null,
   "metadata": {
    "ExecuteTime": {
     "end_time": "2020-09-21T10:06:13.375407Z",
     "start_time": "2020-09-21T10:06:13.371014Z"
    }
   },
   "outputs": [],
   "source": [
    "def sum_embed(lst):\n",
    "    wv = []\n",
    "    for word in lst:\n",
    "        try:\n",
    "            wv.append(word_vectors[word])\n",
    "        except:\n",
    "            pass\n",
    "    return sum(wv)"
   ]
  },
  {
   "cell_type": "code",
   "execution_count": null,
   "metadata": {
    "ExecuteTime": {
     "end_time": "2020-09-21T10:06:13.999154Z",
     "start_time": "2020-09-21T10:06:13.378237Z"
    }
   },
   "outputs": [],
   "source": [
    "embedded_tokens = list(map(sum_embed, processed_tokens))\n",
    "embedded_tokens_test = list(map(sum_embed, processed_tokens_test))"
   ]
  },
  {
   "cell_type": "code",
   "execution_count": null,
   "metadata": {
    "ExecuteTime": {
     "end_time": "2020-09-21T10:06:14.071239Z",
     "start_time": "2020-09-21T10:06:14.001038Z"
    }
   },
   "outputs": [],
   "source": [
    "from sklearn.decomposition import PCA\n",
    "pca = PCA(n_components=10)\n",
    "pca.fit(embedded_tokens)\n",
    "xys = pca.transform(embedded_tokens)\n",
    "xys_test = pca.transform(embedded_tokens_test)"
   ]
  },
  {
   "cell_type": "code",
   "execution_count": null,
   "metadata": {
    "ExecuteTime": {
     "end_time": "2020-09-21T10:06:14.078884Z",
     "start_time": "2020-09-21T10:06:14.073592Z"
    }
   },
   "outputs": [],
   "source": [
    "xys.shape  # 무형 제외"
   ]
  },
  {
   "cell_type": "code",
   "execution_count": null,
   "metadata": {
    "ExecuteTime": {
     "end_time": "2020-09-21T10:06:14.351571Z",
     "start_time": "2020-09-21T10:06:14.081066Z"
    }
   },
   "outputs": [],
   "source": [
    "xys_test.shape"
   ]
  },
  {
   "cell_type": "markdown",
   "metadata": {},
   "source": [
    "---\n",
    "\n",
    "## Exploratory Data Analysis"
   ]
  },
  {
   "cell_type": "code",
   "execution_count": null,
   "metadata": {
    "ExecuteTime": {
     "end_time": "2020-09-21T10:06:14.357213Z",
     "start_time": "2020-09-21T10:06:14.353475Z"
    }
   },
   "outputs": [],
   "source": [
    "data['train'].shape"
   ]
  },
  {
   "cell_type": "code",
   "execution_count": null,
   "metadata": {
    "ExecuteTime": {
     "end_time": "2020-09-21T10:06:14.362298Z",
     "start_time": "2020-09-21T10:06:14.359028Z"
    }
   },
   "outputs": [],
   "source": [
    "data['test'].shape"
   ]
  },
  {
   "cell_type": "code",
   "execution_count": null,
   "metadata": {
    "ExecuteTime": {
     "end_time": "2020-09-21T10:06:14.367671Z",
     "start_time": "2020-09-21T10:06:14.363987Z"
    }
   },
   "outputs": [],
   "source": [
    "data['train'].columns"
   ]
  },
  {
   "cell_type": "code",
   "execution_count": null,
   "metadata": {
    "ExecuteTime": {
     "end_time": "2020-09-21T10:06:14.372680Z",
     "start_time": "2020-09-21T10:06:14.369294Z"
    }
   },
   "outputs": [],
   "source": [
    "data['test'].columns"
   ]
  },
  {
   "cell_type": "code",
   "execution_count": null,
   "metadata": {
    "ExecuteTime": {
     "end_time": "2020-09-21T10:06:14.393065Z",
     "start_time": "2020-09-21T10:06:14.374320Z"
    }
   },
   "outputs": [],
   "source": [
    "data['train'].info()"
   ]
  },
  {
   "cell_type": "code",
   "execution_count": null,
   "metadata": {
    "ExecuteTime": {
     "end_time": "2020-09-21T10:06:14.404620Z",
     "start_time": "2020-09-21T10:06:14.394848Z"
    }
   },
   "outputs": [],
   "source": [
    "data['test'].info()"
   ]
  },
  {
   "cell_type": "code",
   "execution_count": null,
   "metadata": {
    "ExecuteTime": {
     "end_time": "2020-09-21T10:06:14.425362Z",
     "start_time": "2020-09-21T10:06:14.406523Z"
    }
   },
   "outputs": [],
   "source": [
    "data['rating'].info()"
   ]
  },
  {
   "cell_type": "code",
   "execution_count": null,
   "metadata": {
    "ExecuteTime": {
     "end_time": "2020-09-21T10:06:14.476031Z",
     "start_time": "2020-09-21T10:06:14.427131Z"
    }
   },
   "outputs": [],
   "source": [
    "data['train'].describe()"
   ]
  },
  {
   "cell_type": "code",
   "execution_count": null,
   "metadata": {
    "ExecuteTime": {
     "end_time": "2020-09-21T10:06:14.484511Z",
     "start_time": "2020-09-21T10:06:14.477801Z"
    }
   },
   "outputs": [],
   "source": [
    "sorted(Counter(data['train']['상품군'].tolist()).items(),key=lambda x: x[1])"
   ]
  },
  {
   "cell_type": "code",
   "execution_count": null,
   "metadata": {
    "ExecuteTime": {
     "end_time": "2020-09-21T10:06:14.492929Z",
     "start_time": "2020-09-21T10:06:14.486264Z"
    }
   },
   "outputs": [],
   "source": [
    "data['train']['상품군'].unique()\n",
    "print(len(data['train']['상품군'].unique()))"
   ]
  },
  {
   "cell_type": "code",
   "execution_count": null,
   "metadata": {
    "ExecuteTime": {
     "end_time": "2020-09-21T10:06:14.509619Z",
     "start_time": "2020-09-21T10:06:14.494683Z"
    }
   },
   "outputs": [],
   "source": [
    "data['train'].pivot_table(values=['취급액'],\n",
    "                   index=['상품군'],\n",
    "                   aggfunc='sum').sort_values(by='취급액',ascending=False)"
   ]
  },
  {
   "cell_type": "code",
   "execution_count": null,
   "metadata": {
    "ExecuteTime": {
     "end_time": "2020-09-21T10:06:14.721848Z",
     "start_time": "2020-09-21T10:06:14.511395Z"
    }
   },
   "outputs": [],
   "source": [
    "data['train'].pivot_table(values=['취급액'],\n",
    "                   index=['상품군'],\n",
    "                   aggfunc='sum').sort_values(by='취급액',ascending=True).plot(kind='barh')\n",
    "plt.show()"
   ]
  },
  {
   "cell_type": "code",
   "execution_count": null,
   "metadata": {
    "ExecuteTime": {
     "end_time": "2020-09-21T10:06:14.734936Z",
     "start_time": "2020-09-21T10:06:14.723791Z"
    }
   },
   "outputs": [],
   "source": [
    "data['train']['상품명'].unique()\n",
    "print(len(data['train']['상품명'].unique()))"
   ]
  },
  {
   "cell_type": "code",
   "execution_count": null,
   "metadata": {
    "ExecuteTime": {
     "end_time": "2020-09-21T10:06:14.758889Z",
     "start_time": "2020-09-21T10:06:14.737611Z"
    }
   },
   "outputs": [],
   "source": [
    "data['train'].pivot_table(values=['취급액'],\n",
    "                          index=['상품명'],\n",
    "                          aggfunc='sum').sort_values(by='취급액',ascending=False)"
   ]
  },
  {
   "cell_type": "code",
   "execution_count": null,
   "metadata": {
    "ExecuteTime": {
     "end_time": "2020-09-21T10:06:14.763129Z",
     "start_time": "2020-09-21T10:06:14.760928Z"
    }
   },
   "outputs": [],
   "source": [
    "# data['train'].pivot_table(values=['갯수'],\n",
    "#                    index=['상품명'],\n",
    "#                    aggfunc='sum').sort_values(by='갯수',ascending=False)"
   ]
  },
  {
   "cell_type": "code",
   "execution_count": null,
   "metadata": {
    "ExecuteTime": {
     "end_time": "2020-09-21T10:06:14.767104Z",
     "start_time": "2020-09-21T10:06:14.765089Z"
    }
   },
   "outputs": [],
   "source": [
    "# data['train'].pivot_table(values=['갯수'],\n",
    "#                    index=['상품군'],\n",
    "#                    aggfunc='sum').sort_values(by='갯수',ascending=False)"
   ]
  },
  {
   "cell_type": "code",
   "execution_count": null,
   "metadata": {
    "ExecuteTime": {
     "end_time": "2020-09-21T10:06:14.770644Z",
     "start_time": "2020-09-21T10:06:14.768532Z"
    }
   },
   "outputs": [],
   "source": [
    "# data_p.pivot_table(values=['갯수'],\n",
    "#                    index=['상품군'],\n",
    "#                    aggfunc='sum').sort_values(by='갯수',ascending=True).plot(kind='barh')\n",
    "# plt.show()"
   ]
  },
  {
   "cell_type": "code",
   "execution_count": null,
   "metadata": {
    "ExecuteTime": {
     "end_time": "2020-09-21T10:06:14.774464Z",
     "start_time": "2020-09-21T10:06:14.772355Z"
    }
   },
   "outputs": [],
   "source": [
    "# data['train'].pivot_table(values=['취급액'],\n",
    "#                    index=['월'],\n",
    "#                    aggfunc='sum').sort_values(by='취급액').sort_index().plot(kind='bar')\n",
    "# plt.show()"
   ]
  },
  {
   "cell_type": "code",
   "execution_count": null,
   "metadata": {
    "ExecuteTime": {
     "end_time": "2020-09-21T10:06:14.778279Z",
     "start_time": "2020-09-21T10:06:14.776194Z"
    }
   },
   "outputs": [],
   "source": [
    "# data_p.pivot_table(values=['취급액'],\n",
    "#                    index=['일'],\n",
    "#                    aggfunc='sum').sort_values(by='취급액').sort_index().plot(kind='bar')\n",
    "# plt.show()"
   ]
  },
  {
   "cell_type": "code",
   "execution_count": null,
   "metadata": {
    "ExecuteTime": {
     "end_time": "2020-09-21T10:06:14.782100Z",
     "start_time": "2020-09-21T10:06:14.779963Z"
    }
   },
   "outputs": [],
   "source": [
    "# data_p.pivot_table(values=['취급액'],\n",
    "#                    index=['시'],\n",
    "#                    aggfunc='sum').sort_values(by='취급액').sort_index().plot(kind='bar')\n",
    "# plt.show()"
   ]
  },
  {
   "cell_type": "code",
   "execution_count": null,
   "metadata": {
    "ExecuteTime": {
     "end_time": "2020-09-21T10:06:15.013255Z",
     "start_time": "2020-09-21T10:06:14.783924Z"
    }
   },
   "outputs": [],
   "source": [
    "data['train'][['상품코드','상품명','상품군']]['상품군'].value_counts().plot(kind = 'bar', figsize=(14, 10))\n",
    "plt.show()"
   ]
  },
  {
   "cell_type": "code",
   "execution_count": null,
   "metadata": {
    "ExecuteTime": {
     "end_time": "2020-09-21T10:06:15.244067Z",
     "start_time": "2020-09-21T10:06:15.015242Z"
    }
   },
   "outputs": [],
   "source": [
    "data['test'][['상품코드','상품명','상품군']]['상품군'].value_counts().plot(kind = 'bar', figsize=(14, 10))\n",
    "plt.show()"
   ]
  },
  {
   "cell_type": "code",
   "execution_count": null,
   "metadata": {
    "ExecuteTime": {
     "end_time": "2020-09-21T10:06:15.251519Z",
     "start_time": "2020-09-21T10:06:15.245820Z"
    }
   },
   "outputs": [],
   "source": [
    "np.sum(data['train']['상품군'] == '무형')"
   ]
  },
  {
   "cell_type": "code",
   "execution_count": null,
   "metadata": {
    "ExecuteTime": {
     "end_time": "2020-09-21T10:06:15.261463Z",
     "start_time": "2020-09-21T10:06:15.253191Z"
    }
   },
   "outputs": [],
   "source": [
    "data['train'][data['train']['판매단가'] >0]['판매단가'].unique().min()"
   ]
  },
  {
   "cell_type": "code",
   "execution_count": null,
   "metadata": {
    "ExecuteTime": {
     "end_time": "2020-09-21T10:06:15.268484Z",
     "start_time": "2020-09-21T10:06:15.263204Z"
    }
   },
   "outputs": [],
   "source": [
    "np.nanmax(data['train']['취급액'].unique())"
   ]
  },
  {
   "cell_type": "code",
   "execution_count": null,
   "metadata": {
    "ExecuteTime": {
     "end_time": "2020-09-21T10:06:15.276020Z",
     "start_time": "2020-09-21T10:06:15.270393Z"
    }
   },
   "outputs": [],
   "source": [
    "data['train']['상품코드'].unique().max()"
   ]
  },
  {
   "cell_type": "code",
   "execution_count": null,
   "metadata": {
    "ExecuteTime": {
     "end_time": "2020-09-21T10:06:15.282307Z",
     "start_time": "2020-09-21T10:06:15.277989Z"
    }
   },
   "outputs": [],
   "source": [
    "len(data['train']['상품코드'].unique())"
   ]
  },
  {
   "cell_type": "code",
   "execution_count": null,
   "metadata": {
    "ExecuteTime": {
     "end_time": "2020-09-21T10:06:15.305672Z",
     "start_time": "2020-09-21T10:06:15.284040Z"
    }
   },
   "outputs": [],
   "source": [
    "prod_list = data['train'][['상품코드','상품명','상품군']].drop_duplicates()\n",
    "prod_list"
   ]
  },
  {
   "cell_type": "code",
   "execution_count": null,
   "metadata": {
    "ExecuteTime": {
     "end_time": "2020-09-21T10:06:16.775598Z",
     "start_time": "2020-09-21T10:06:15.307283Z"
    }
   },
   "outputs": [],
   "source": [
    "for prod in prod_list['상품명'].drop_duplicates():\n",
    "    length = len(prod_list[prod_list['상품명']==prod])\n",
    "    if length > 1:\n",
    "        print(prod,len(prod_list[prod_list['상품명']==prod]))"
   ]
  },
  {
   "cell_type": "code",
   "execution_count": null,
   "metadata": {
    "ExecuteTime": {
     "end_time": "2020-09-21T10:06:16.794807Z",
     "start_time": "2020-09-21T10:06:16.780234Z"
    },
    "scrolled": true
   },
   "outputs": [],
   "source": [
    "cloth_list = prod_list[prod_list['상품군']=='의류']['상품명'].unique()\n",
    "for word in cloth_list:\n",
    "        # The . symbol is used in place of ? symbol\n",
    "        if re.search('', word) : \n",
    "                print (word)"
   ]
  },
  {
   "cell_type": "code",
   "execution_count": null,
   "metadata": {
    "ExecuteTime": {
     "end_time": "2020-09-21T10:06:18.119432Z",
     "start_time": "2020-09-21T10:06:16.799036Z"
    }
   },
   "outputs": [],
   "source": [
    "sns.heatmap(data['train'].isnull(), cbar=True)\n",
    "plt.show()"
   ]
  },
  {
   "cell_type": "code",
   "execution_count": null,
   "metadata": {
    "ExecuteTime": {
     "end_time": "2020-09-21T10:06:19.047480Z",
     "start_time": "2020-09-21T10:06:18.121271Z"
    }
   },
   "outputs": [],
   "source": [
    "msno.matrix(data['train']);"
   ]
  },
  {
   "cell_type": "code",
   "execution_count": null,
   "metadata": {
    "ExecuteTime": {
     "end_time": "2020-09-21T10:06:19.803065Z",
     "start_time": "2020-09-21T10:06:19.063836Z"
    }
   },
   "outputs": [],
   "source": [
    "msno.bar(data['train']);"
   ]
  },
  {
   "cell_type": "code",
   "execution_count": null,
   "metadata": {
    "ExecuteTime": {
     "end_time": "2020-09-21T10:06:20.027577Z",
     "start_time": "2020-09-21T10:06:19.811169Z"
    }
   },
   "outputs": [],
   "source": [
    "prod_list = data['train'][['상품코드','상품명','상품군']].drop_duplicates()\n",
    "prod_list['상품군'].value_counts().plot(kind = 'bar', figsize=(14, 10));"
   ]
  },
  {
   "cell_type": "code",
   "execution_count": null,
   "metadata": {
    "ExecuteTime": {
     "end_time": "2020-09-21T10:06:20.038137Z",
     "start_time": "2020-09-21T10:06:20.029313Z"
    }
   },
   "outputs": [],
   "source": [
    "data['train']['상품군'].value_counts()"
   ]
  },
  {
   "cell_type": "code",
   "execution_count": null,
   "metadata": {
    "ExecuteTime": {
     "end_time": "2020-09-21T10:06:20.045349Z",
     "start_time": "2020-09-21T10:06:20.039921Z"
    }
   },
   "outputs": [],
   "source": [
    "prod_list['상품군'].value_counts()"
   ]
  },
  {
   "cell_type": "code",
   "execution_count": null,
   "metadata": {
    "ExecuteTime": {
     "end_time": "2020-09-21T10:06:20.265868Z",
     "start_time": "2020-09-21T10:06:20.047022Z"
    }
   },
   "outputs": [],
   "source": [
    "data['train']['상품군'].value_counts().plot(kind='bar', figsize=(14, 10));"
   ]
  },
  {
   "cell_type": "code",
   "execution_count": null,
   "metadata": {
    "ExecuteTime": {
     "end_time": "2020-09-21T10:06:20.693939Z",
     "start_time": "2020-09-21T10:06:20.268272Z"
    }
   },
   "outputs": [],
   "source": [
    "plt.rcParams[\"figure.figsize\"] = (14,10)\n",
    "sns.boxplot(x = '상품군', y = '취급액', data = data['train']);"
   ]
  },
  {
   "cell_type": "code",
   "execution_count": null,
   "metadata": {
    "ExecuteTime": {
     "end_time": "2020-09-21T10:06:21.122098Z",
     "start_time": "2020-09-21T10:06:20.695653Z"
    }
   },
   "outputs": [],
   "source": [
    "sns.boxplot(x = '상품군', y = '판매단가', data = data['train']);"
   ]
  },
  {
   "cell_type": "code",
   "execution_count": null,
   "metadata": {
    "ExecuteTime": {
     "end_time": "2020-09-21T10:06:21.377571Z",
     "start_time": "2020-09-21T10:06:21.124024Z"
    }
   },
   "outputs": [],
   "source": [
    "cat_outcome = data['train'][['상품군', '취급액']].groupby('상품군').mean()\n",
    "cat_outcome.sort_values(by=['취급액'], axis=0, ascending=False).plot(kind='bar', figsize=(14, 10))"
   ]
  },
  {
   "cell_type": "code",
   "execution_count": null,
   "metadata": {
    "ExecuteTime": {
     "end_time": "2020-09-21T10:06:21.611664Z",
     "start_time": "2020-09-21T10:06:21.379372Z"
    }
   },
   "outputs": [],
   "source": [
    "cat_duration = data['train'][['상품군', '노출(분)']].groupby('상품군').mean()\n",
    "cat_duration.sort_values(by=['노출(분)'], axis=0, ascending=False).plot(kind='bar', figsize=(14, 10))"
   ]
  },
  {
   "cell_type": "code",
   "execution_count": null,
   "metadata": {
    "ExecuteTime": {
     "end_time": "2020-09-21T10:06:21.617946Z",
     "start_time": "2020-09-21T10:06:21.613752Z"
    }
   },
   "outputs": [],
   "source": [
    "outcome2019 = data['train'].loc['2019',:]"
   ]
  },
  {
   "cell_type": "code",
   "execution_count": null,
   "metadata": {
    "ExecuteTime": {
     "end_time": "2020-09-21T10:06:21.849437Z",
     "start_time": "2020-09-21T10:06:21.620081Z"
    }
   },
   "outputs": [],
   "source": [
    "month_group = outcome2019.groupby('월').mean()\n",
    "month_group['취급액'].plot(kind='bar', figsize=(14, 10))\n",
    "plt.axhline(y = np.mean(month_group.취급액), color = 'red', ls = '--')"
   ]
  },
  {
   "cell_type": "code",
   "execution_count": null,
   "metadata": {
    "ExecuteTime": {
     "end_time": "2020-09-21T10:06:22.358670Z",
     "start_time": "2020-09-21T10:06:21.851216Z"
    }
   },
   "outputs": [],
   "source": [
    "day_group = outcome2019.groupby('일').sum()\n",
    "day_group['취급액'].plot(kind='bar', figsize=(14, 10))\n",
    "plt.axhline(y = np.mean(day_group.취급액), color = 'red', ls = '--')"
   ]
  },
  {
   "cell_type": "code",
   "execution_count": null,
   "metadata": {
    "ExecuteTime": {
     "end_time": "2020-09-21T10:06:22.622729Z",
     "start_time": "2020-09-21T10:06:22.360319Z"
    },
    "scrolled": false
   },
   "outputs": [],
   "source": [
    "hour_group = outcome2019.groupby('시').mean()\n",
    "hour_group['취급액'].plot(kind='bar', figsize=(14, 10))\n",
    "plt.axhline(y = np.mean(hour_group.취급액), color = 'red', ls = '--')"
   ]
  },
  {
   "cell_type": "code",
   "execution_count": null,
   "metadata": {
    "ExecuteTime": {
     "end_time": "2020-09-21T10:06:22.814551Z",
     "start_time": "2020-09-21T10:06:22.624639Z"
    }
   },
   "outputs": [],
   "source": [
    "weekday_group = outcome2019.groupby('요일').mean()\n",
    "weekday_group['취급액'].plot(kind='bar', figsize=(14, 10)) #0: Monday ~ 6: Sunday\n",
    "plt.axhline(y = np.mean(weekday_group.취급액), color = 'red', ls = '--')"
   ]
  },
  {
   "cell_type": "code",
   "execution_count": null,
   "metadata": {
    "ExecuteTime": {
     "end_time": "2020-09-21T10:06:23.394852Z",
     "start_time": "2020-09-21T10:06:22.816464Z"
    }
   },
   "outputs": [],
   "source": [
    "prod_group = outcome2019.groupby('상품명').mean()\n",
    "prod_group['판매단가'].sort_values(ascending=False)[:20].plot(kind='bar', figsize=(14, 10))"
   ]
  },
  {
   "cell_type": "code",
   "execution_count": null,
   "metadata": {
    "ExecuteTime": {
     "end_time": "2020-09-21T10:06:23.402828Z",
     "start_time": "2020-09-21T10:06:23.396692Z"
    }
   },
   "outputs": [],
   "source": [
    "prod_group['판매단가'].sort_values(ascending=False)[:20]"
   ]
  },
  {
   "cell_type": "code",
   "execution_count": null,
   "metadata": {
    "ExecuteTime": {
     "end_time": "2020-09-21T10:06:23.422011Z",
     "start_time": "2020-09-21T10:06:23.404511Z"
    }
   },
   "outputs": [],
   "source": [
    "quant_group = outcome2019.groupby('상품군').sum()\n",
    "quant_group"
   ]
  },
  {
   "cell_type": "markdown",
   "metadata": {},
   "source": [
    "### 시청률 데이터"
   ]
  },
  {
   "cell_type": "code",
   "execution_count": null,
   "metadata": {
    "ExecuteTime": {
     "end_time": "2020-09-21T10:06:23.438424Z",
     "start_time": "2020-09-21T10:06:23.423647Z"
    }
   },
   "outputs": [],
   "source": [
    "data['rating'].head()"
   ]
  },
  {
   "cell_type": "code",
   "execution_count": null,
   "metadata": {
    "ExecuteTime": {
     "end_time": "2020-09-21T10:06:23.454899Z",
     "start_time": "2020-09-21T10:06:23.439969Z"
    }
   },
   "outputs": [],
   "source": [
    "data['rating'].tail()"
   ]
  },
  {
   "cell_type": "code",
   "execution_count": null,
   "metadata": {
    "ExecuteTime": {
     "end_time": "2020-09-21T10:06:23.668963Z",
     "start_time": "2020-09-21T10:06:23.456568Z"
    }
   },
   "outputs": [],
   "source": [
    "tv_day = data['rating'].iloc[-1,1:]   #일 평균 시청률, length: 365\n",
    "tv_day = tv_day*100\n",
    "tv_day.plot()             #하반기에 높은 시청률을 보임."
   ]
  },
  {
   "cell_type": "code",
   "execution_count": null,
   "metadata": {
    "ExecuteTime": {
     "end_time": "2020-09-21T10:06:23.674745Z",
     "start_time": "2020-09-21T10:06:23.670777Z"
    }
   },
   "outputs": [],
   "source": [
    "tv_day.head()"
   ]
  },
  {
   "cell_type": "code",
   "execution_count": null,
   "metadata": {
    "ExecuteTime": {
     "end_time": "2020-09-21T10:06:23.880047Z",
     "start_time": "2020-09-21T10:06:23.676349Z"
    }
   },
   "outputs": [],
   "source": [
    "tv_min = data['rating'].iloc[:-1,-1]   #분당 시청률 02:00(0) ~ 01:59(1439), length: 1439\n",
    "tv_min = tv_min*100\n",
    "tv_min.plot()              #800(15시 경)에 시청률이 가장 높은 추이"
   ]
  },
  {
   "cell_type": "code",
   "execution_count": null,
   "metadata": {
    "ExecuteTime": {
     "end_time": "2020-09-21T10:06:23.896386Z",
     "start_time": "2020-09-21T10:06:23.881815Z"
    }
   },
   "outputs": [],
   "source": [
    "data['rating'].tail()"
   ]
  },
  {
   "cell_type": "code",
   "execution_count": null,
   "metadata": {
    "ExecuteTime": {
     "end_time": "2020-09-21T10:06:23.901120Z",
     "start_time": "2020-09-21T10:06:23.898073Z"
    }
   },
   "outputs": [],
   "source": [
    "data['rating'].shape"
   ]
  },
  {
   "cell_type": "markdown",
   "metadata": {},
   "source": [
    "----\n",
    "\n",
    "## Feature Engineering"
   ]
  },
  {
   "cell_type": "code",
   "execution_count": null,
   "metadata": {
    "ExecuteTime": {
     "end_time": "2020-09-21T10:06:23.905073Z",
     "start_time": "2020-09-21T10:06:23.902603Z"
    }
   },
   "outputs": [],
   "source": [
    "columns = [f'embed_{i}' for i in range(10)]"
   ]
  },
  {
   "cell_type": "code",
   "execution_count": null,
   "metadata": {
    "ExecuteTime": {
     "end_time": "2020-09-21T10:06:23.915345Z",
     "start_time": "2020-09-21T10:06:23.906655Z"
    }
   },
   "outputs": [],
   "source": [
    "_data_train = data['train'].loc[~(data['train']['상품군'].isin(['무형'])),:].copy()\n",
    "_data_test = data['test'].loc[~(data['test']['상품군'].isin(['무형'])),:].copy()"
   ]
  },
  {
   "cell_type": "code",
   "execution_count": null,
   "metadata": {
    "ExecuteTime": {
     "end_time": "2020-09-21T10:06:24.252445Z",
     "start_time": "2020-09-21T10:06:23.917171Z"
    }
   },
   "outputs": [],
   "source": [
    "data['train'] = pd.concat([_data_train, \n",
    "                           pd.DataFrame(xys, index=_data_train.index, columns=columns),\n",
    "                           pd.DataFrame(processed_tokens, index=_data_train.index)],axis=1)\n",
    "data['train']"
   ]
  },
  {
   "cell_type": "code",
   "execution_count": null,
   "metadata": {
    "ExecuteTime": {
     "end_time": "2020-09-21T10:06:24.299296Z",
     "start_time": "2020-09-21T10:06:24.254321Z"
    }
   },
   "outputs": [],
   "source": [
    "data['test'] = pd.concat([_data_test,\n",
    "                          pd.DataFrame(xys_test, index=_data_test.index, columns=columns),\n",
    "                         pd.DataFrame(processed_tokens_test, index=_data_test.index)],axis=1)\n",
    "data['test']"
   ]
  },
  {
   "cell_type": "markdown",
   "metadata": {},
   "source": [
    "## 네이버트랜드 결합 \n"
   ]
  },
  {
   "cell_type": "code",
   "execution_count": null,
   "metadata": {
    "ExecuteTime": {
     "end_time": "2020-09-21T10:06:24.518454Z",
     "start_time": "2020-09-21T10:06:24.301396Z"
    }
   },
   "outputs": [],
   "source": [
    "# 네이터 트랜드 가져오기 \n",
    "trend1 = pd.read_excel('./data/03_외부데이터/naver_group_1.xlsx',skiprows=[0,1,2,3,4,5])\n",
    "trend2 = pd.read_excel('./data/03_외부데이터/naver_group_2.xlsx',skiprows=[0,1,2,3,4,5])\n",
    "trend_criterion = pd.read_excel('./data/03_외부데이터/naver_criterion.xlsx',skiprows=[0,1,2,3,4,5]).drop('날짜.1',axis=1)\n",
    "\n",
    "# 트랜드df 만들기 \n",
    "drop_list = ['날짜.1','날짜.2','날짜.3','날짜.4','날짜']\n",
    "date = trend1['날짜']\n",
    "trend1 = trend1.drop(drop_list,axis=1)\n",
    "trend2 = trend2.drop(drop_list,axis=1)\n",
    "\n",
    "# 기준 만들기 \n",
    "cri1 = trend_criterion['농수산']/(trend_criterion['생활용품']+trend_criterion['농수산'])\n",
    "cri2 = trend_criterion['생활용품']/(trend_criterion['생활용품']+trend_criterion['농수산'])\n",
    "\n",
    "# scailing \n",
    "trend1 = trend1.apply(lambda x: x*cri1)\n",
    "trend2 = trend2.apply(lambda x: x*cri2)\n",
    "trend_df = pd.concat([trend1,trend2],axis=1)\n",
    "\n",
    "trend_df['날짜'] = date\n",
    "trend_df['날짜'] = pd.to_datetime(trend_df['날짜'])\n",
    "trend_df  = trend_df.set_index('날짜')"
   ]
  },
  {
   "cell_type": "code",
   "execution_count": null,
   "metadata": {
    "ExecuteTime": {
     "end_time": "2020-09-21T10:06:24.527155Z",
     "start_time": "2020-09-21T10:06:24.520417Z"
    }
   },
   "outputs": [],
   "source": [
    "# min-max\n",
    "\n",
    "mn_scaler = MinMaxScaler()\n",
    "scaled_X = mn_scaler.fit_transform(trend_df.values)\n",
    "\n",
    "trend_df_final = pd.DataFrame(scaled_X,\n",
    "                              columns=trend_df.columns,\n",
    "                              index=trend_df.index)\n",
    "\n",
    "# '미용'--> 이미용 '농수산물'--> 농수축 \n",
    "trend_df_final['침구'] = trend_df_final['가구']\n",
    "trend_df_final.columns = ['의류', '농수축', '속옷', '주방', '이미용', '가전', '생활용품', '건강기능', '잡화', '가구', '침구']"
   ]
  },
  {
   "cell_type": "code",
   "execution_count": null,
   "metadata": {
    "ExecuteTime": {
     "end_time": "2020-09-21T10:06:24.531632Z",
     "start_time": "2020-09-21T10:06:24.528949Z"
    }
   },
   "outputs": [],
   "source": [
    "def get_trend(idx, cat):\n",
    "    return trend_df_final.loc[idx.strftime('%Y-%m-%d'), cat]"
   ]
  },
  {
   "cell_type": "code",
   "execution_count": null,
   "metadata": {
    "ExecuteTime": {
     "end_time": "2020-09-21T10:06:37.854646Z",
     "start_time": "2020-09-21T10:06:24.533530Z"
    }
   },
   "outputs": [],
   "source": [
    "data['train']['naver_trend'] = list(map(get_trend, data['train'].index, data['train'].상품군))\n",
    "data['test']['naver_trend'] = list(map(get_trend, data['test'].index, data['test'].상품군))"
   ]
  },
  {
   "cell_type": "markdown",
   "metadata": {},
   "source": [
    "### 상품군, 상품명 처리하기"
   ]
  },
  {
   "cell_type": "code",
   "execution_count": null,
   "metadata": {
    "ExecuteTime": {
     "end_time": "2020-09-21T10:06:37.866264Z",
     "start_time": "2020-09-21T10:06:37.856251Z"
    }
   },
   "outputs": [],
   "source": [
    "le1 = LabelEncoder()\n",
    "le1.fit(pd.concat([data['train']['상품군'], data['test']['상품군']]))\n",
    "data['train']['상품군'] = le1.transform(data['train']['상품군'])\n",
    "data['test']['상품군'] = le1.transform(data['test']['상품군'])"
   ]
  },
  {
   "cell_type": "code",
   "execution_count": null,
   "metadata": {
    "ExecuteTime": {
     "end_time": "2020-09-21T10:06:37.880898Z",
     "start_time": "2020-09-21T10:06:37.868053Z"
    }
   },
   "outputs": [],
   "source": [
    "le2 = LabelEncoder()\n",
    "le2.fit(pd.concat([data['train']['상품명'], data['test']['상품명']]))\n",
    "data['train']['상품명'] = le2.transform(data['train']['상품명'])\n",
    "data['test']['상품명'] = le2.transform(data['test']['상품명'])"
   ]
  },
  {
   "cell_type": "code",
   "execution_count": null,
   "metadata": {
    "ExecuteTime": {
     "end_time": "2020-09-21T10:07:58.532081Z",
     "start_time": "2020-09-21T10:07:58.502966Z"
    }
   },
   "outputs": [],
   "source": [
    "###Importing TV Data\n",
    "#MBC\n",
    "MBC_time = pd.read_excel('./data/03_외부데이터/TV_Time.xlsx', sheet_name='MBC')\n",
    "MBC_time['Time'] = MBC_time['MBC']\n",
    "MBC_time = MBC_time.drop(['MBC'], axis=1).set_index('Time')\n",
    "\n",
    "#JTBC\n",
    "JTBC_time =pd.read_excel('./data/03_외부데이터/TV_Time.xlsx', sheet_name='JTBC')\n",
    "JTBC_time['Time'] = JTBC_time['JTBC']\n",
    "JTBC_time = JTBC_time.drop(['JTBC'], axis=1).set_index('Time')"
   ]
  },
  {
   "cell_type": "markdown",
   "metadata": {},
   "source": [
    "### Common Function"
   ]
  },
  {
   "cell_type": "code",
   "execution_count": null,
   "metadata": {
    "ExecuteTime": {
     "end_time": "2020-09-21T10:08:36.715492Z",
     "start_time": "2020-09-21T10:08:36.711827Z"
    }
   },
   "outputs": [],
   "source": [
    "#시간 설정\n",
    "def get_time(df): #df: outcome, test\n",
    "    df['시각'] = df.방송일시.map(lambda x: x.hour)\n",
    "    df['분'] = df.방송일시.map(lambda x: x.minute)\n",
    "    df['월'] = df.방송일시.map(lambda x: x.month)\n",
    "    df['일'] = df.방송일시.map(lambda x: x.day)\n",
    "    df['요일'] = df.방송일시.map(lambda x: calendar.day_abbr[x.weekday()])\n",
    "    return df"
   ]
  },
  {
   "cell_type": "code",
   "execution_count": null,
   "metadata": {
    "ExecuteTime": {
     "end_time": "2020-09-21T10:09:16.751623Z",
     "start_time": "2020-09-21T10:09:16.743323Z"
    }
   },
   "outputs": [],
   "source": [
    "# TimeTable에서 Zapping Time 찾기\n",
    "def find_Zap(str):  #str: 'MBC' or 'JTBC'\n",
    "    global time_list\n",
    "    if str == 'MBC':\n",
    "        time_list = MBC_time\n",
    "    elif str == 'JTBC':\n",
    "        time_list = JTBC_time\n",
    "    else:\n",
    "        return pd.DataFrame()\n",
    "    \n",
    "    Zap_Time = []\n",
    "    Zap_Weekday = []\n",
    "    for j in range(len(time_list.columns)):\n",
    "        for i in range(len(time_list)):\n",
    "            Target = time_list.iloc[i,j]\n",
    "            if (Target is not np.nan):\n",
    "                if (i != 0) & (i != len(time_list)-1):\n",
    "                    if (time_list.iloc[i-1,j] !=Target):\n",
    "                        Zap_Time.append(time_list.index[i])\n",
    "                        Zap_Weekday.append(time_list.columns[j])\n",
    "                    if (time_list.iloc[i+1,j] !=Target):\n",
    "                        Zap_Time.append(time_list.index[i])\n",
    "                        Zap_Weekday.append(time_list.columns[j])                    \n",
    "                elif i == 0:\n",
    "                    if (time_list.iloc[i+1,j] !=Target):\n",
    "                        Zap_Time.append(time_list.index[i])\n",
    "                        Zap_Weekday.append(time_list.columns[j])                    \n",
    "                elif i == len(time_list)-1:\n",
    "                    if j == 6:\n",
    "                        break\n",
    "                    if (time_list.iloc[0,j+1] !=Target):\n",
    "                        Zap_Time.append(time_list.index[i])\n",
    "                        Zap_Weekday.append(time_list.columns[j])\n",
    "    _Zap = pd.DataFrame({'weekday':Zap_Weekday, 'Time': Zap_Time})\n",
    "\n",
    "    _Zap['hour'] = _Zap.Time.map(lambda x: x.hour)\n",
    "    _Zap['minute'] = _Zap.Time.map(lambda x: x.minute)\n",
    "    return _Zap"
   ]
  },
  {
   "cell_type": "code",
   "execution_count": null,
   "metadata": {
    "ExecuteTime": {
     "end_time": "2020-09-21T10:09:54.772957Z",
     "start_time": "2020-09-21T10:09:54.691238Z"
    }
   },
   "outputs": [],
   "source": [
    "# 식별식 만들기 (loop 방지)\n",
    "df_MBC = find_Zap('MBC')\n",
    "MBC_clf = []\n",
    "for i in tqdm(range(len(df_MBC))):\n",
    "    MBC_clf.append(df_MBC['weekday'][i] +\n",
    "                   str(df_MBC['hour'][i]) + str(df_MBC['minute'][i]))\n",
    "\n",
    "df_JTBC = find_Zap('JTBC')\n",
    "JTBC_clf = []\n",
    "for i in tqdm(range(len(df_JTBC))):\n",
    "    JTBC_clf.append(df_JTBC['weekday'][i] +\n",
    "                    str(df_JTBC['hour'][i]) + str(df_JTBC['minute'][i]))"
   ]
  },
  {
   "cell_type": "code",
   "execution_count": null,
   "metadata": {
    "ExecuteTime": {
     "end_time": "2020-09-21T10:10:30.421384Z",
     "start_time": "2020-09-21T10:10:30.416901Z"
    }
   },
   "outputs": [],
   "source": [
    "#Tokenized Data\n",
    "def Making_token(raw_data, df_token):\n",
    "    #raw_data = pd.concat([raw_data, df_token],axis=1,ignore_index=True)\n",
    "    tot_token_list = []\n",
    "    for i in range(len(raw_data)):\n",
    "        token = []\n",
    "        for colname in df_token.columns:\n",
    "            val = raw_data[colname].iloc[i]\n",
    "            if val is not None:\n",
    "                token.append(val)\n",
    "        tot_token_list.append(token)\n",
    "    raw_data['token_list'] = tot_token_list\n",
    "    return raw_data"
   ]
  },
  {
   "cell_type": "code",
   "execution_count": null,
   "metadata": {
    "ExecuteTime": {
     "end_time": "2020-09-21T10:11:12.064827Z",
     "start_time": "2020-09-21T10:11:12.057808Z"
    },
    "scrolled": true
   },
   "outputs": [],
   "source": [
    "def Insert_sex_dummy(df_with_token):  #tokenized dummy\n",
    "    if 'token_list' not in df_with_token.columns:\n",
    "        print('토큰 리스트를 만들어오세요.')\n",
    "        return\n",
    "    sex_list = []\n",
    "    for i in range(len(df_with_token)):\n",
    "        if ('남성' in df_with_token['token_list'].iloc[i]) or ('남성용' in df_with_token['token_list'].iloc[i]) or ('남자' in df_with_token['token_list'].iloc[i]):\n",
    "            sex_list.append('남성')\n",
    "        elif ('여성' in df_with_token['token_list'].iloc[i]) or ('여성용' in df_with_token['token_list'].iloc[i]) or ('여자' in df_with_token['token_list'].iloc[i]):\n",
    "            sex_list.append('여성')\n",
    "        else:\n",
    "            sex_list.append('무성')\n",
    "    sex_dummies = pd.get_dummies(sex_list)\n",
    "    sex_dummies = pd.DataFrame(sex_dummies[['남성','여성']].values, index=df_with_token.index, columns=['남성','여성'])\n",
    "    df_with_token = pd.concat([df_with_token, sex_dummies[['남성','여성']]],axis=1)\n",
    "    return df_with_token"
   ]
  },
  {
   "cell_type": "code",
   "execution_count": null,
   "metadata": {
    "ExecuteTime": {
     "end_time": "2020-09-21T10:11:50.654651Z",
     "start_time": "2020-09-21T10:11:50.649461Z"
    }
   },
   "outputs": [],
   "source": [
    "def Insert_credit_dummy(df_with_token):\n",
    "    if 'token_list' not in df_with_token.columns:\n",
    "        print('토큰 리스트를 만들어오세요.')\n",
    "        return    \n",
    "    credit_list = []\n",
    "    for i in range(len(df_with_token)):\n",
    "        if ('일시불' in df_with_token['token_list'].iloc[i]) or ('일' in df_with_token['token_list'].iloc[i]):        \n",
    "            credit_list.append('일시불')\n",
    "        elif ('무이자' in df_with_token['token_list'].iloc[i]) or ('무' in df_with_token['token_list'].iloc[i]):\n",
    "            credit_list.append('무이자')\n",
    "        else:\n",
    "            credit_list.append('없음')\n",
    "    credit_list = pd.get_dummies(credit_list)\n",
    "    credit_list = pd.DataFrame(credit_list[['일시불', '무이자']].values, index=df_with_token.index, columns=['일시불', '무이자'])\n",
    "    df_with_token = pd.concat([df_with_token,credit_list[['일시불','무이자']]],axis=1)\n",
    "    return df_with_token"
   ]
  },
  {
   "cell_type": "code",
   "execution_count": null,
   "metadata": {
    "ExecuteTime": {
     "end_time": "2020-09-21T10:12:34.046928Z",
     "start_time": "2020-09-21T10:12:34.040667Z"
    }
   },
   "outputs": [],
   "source": [
    "def Insert_holiday_dummy(df, data='train'): \n",
    "    '''\n",
    "    data(str): 'train' or 'test'\n",
    "    '''\n",
    "    global holiday\n",
    "    \n",
    "    if data == 'train':\n",
    "        #2019.01.01 ~ 2020.01.01\n",
    "        holiday = ['1/1','2/4','2/5','2/6','3/1','5/6','6/6','8/15','9/12','9/13','10/3','10/9','12/25']\n",
    "    else:\n",
    "        #2020.06.01 ~ 2020.07.01\n",
    "        holiday = []\n",
    "    \n",
    "    holi_list = np.zeros(len(df))    \n",
    "    for i in range(len(df)):\n",
    "        day = str(df.iloc[i].월)+'/'+str(df.iloc[i].일)\n",
    "        weekday = df.iloc[i].요일\n",
    "        if (weekday in ['Sat', 'Sun']) or (day in holiday):\n",
    "#            print('{} is holiday!'.format(day))\n",
    "            holi_list[i] = True\n",
    "        else:\n",
    "            holi_list[i] = False\n",
    "    df['휴일'] = holi_list\n",
    "    return df"
   ]
  },
  {
   "cell_type": "code",
   "execution_count": null,
   "metadata": {
    "ExecuteTime": {
     "end_time": "2020-09-21T10:13:17.951103Z",
     "start_time": "2020-09-21T10:13:17.947212Z"
    }
   },
   "outputs": [],
   "source": [
    "def Insert_zapping(df):\n",
    "    MBC_zap_list = np.zeros(len(df))\n",
    "    JTBC_zap_list = np.zeros(len(df))\n",
    "    for i in range(len(df)):\n",
    "        #MBC\n",
    "        Zap_encoding = df.iloc[i].요일 + str(df.iloc[i].시) + str(df.iloc[i].분)\n",
    "        if Zap_encoding in MBC_clf:\n",
    "            MBC_zap_list[i] = True\n",
    "        if Zap_encoding in JTBC_clf:\n",
    "            JTBC_zap_list[i] = True\n",
    "    df['MBC_Zapping'] = MBC_zap_list\n",
    "    df['JTBC_Zapping'] = JTBC_zap_list\n",
    "    return df"
   ]
  },
  {
   "cell_type": "code",
   "execution_count": null,
   "metadata": {
    "ExecuteTime": {
     "end_time": "2020-09-21T10:13:26.123197Z",
     "start_time": "2020-09-21T10:08:07.228Z"
    }
   },
   "outputs": [],
   "source": [
    "# CPI = pd.read_csv('CPI(2019년~2020년).csv',encoding = 'CP949')\n",
    "# CPI['menu'] = CPI['지출목적별']\n",
    "# CPI = CPI.drop(['지출목적별'],axis = 1).set_index('menu')\n",
    "# CPI\n",
    "\n",
    "# from datetime import datetime\n",
    "# CPI_list = np.zeros(len(outcome))\n",
    "    \n",
    "\n",
    "# %%time\n",
    "# for i in range(len(outcome)):\n",
    "#     for idx in CPI.index:\n",
    "#         if idx in outcome['token_list'].iloc[i]:\n",
    "#             date = outcome.index[i].strftime('%Y. %m')\n",
    "#             CPI_num = CPI.loc[idx,date]\n",
    "#             CPI_list[i] = CPI_num\n",
    "\n",
    "\n",
    "\n",
    "# outcome[outcome['CPI']==0][['상품명','token_list']].drop_duplicates('상품명').shape\n",
    "\n",
    "# outcome[outcome['CPI']>0][['상품명','token_list']].drop_duplicates('상품명').head(40)"
   ]
  },
  {
   "cell_type": "markdown",
   "metadata": {},
   "source": [
    "### Train Preprocessing"
   ]
  },
  {
   "cell_type": "code",
   "execution_count": null,
   "metadata": {
    "ExecuteTime": {
     "end_time": "2020-09-21T10:13:26.132724Z",
     "start_time": "2020-09-21T10:08:07.563Z"
    }
   },
   "outputs": [],
   "source": [
    "%%time\n",
    "outcome = data['train'].copy()\n",
    "\n",
    "#Tokenize\n",
    "outcome = Making_token(outcome, pd.DataFrame(processed_tokens, index=_data_train.index))\n",
    "\n",
    "#Gender dummy\n",
    "outcome = Insert_sex_dummy(outcome)\n",
    "\n",
    "#Credit dummy\n",
    "outcome = Insert_credit_dummy(outcome)\n",
    "\n",
    "#Holiday dummy\n",
    "outcome = Insert_holiday_dummy(outcome)\n",
    "\n",
    "#Zapping Time\n",
    "outcome = Insert_zapping(outcome)"
   ]
  },
  {
   "cell_type": "code",
   "execution_count": null,
   "metadata": {
    "ExecuteTime": {
     "end_time": "2020-09-21T10:13:26.142236Z",
     "start_time": "2020-09-21T10:08:08.207Z"
    }
   },
   "outputs": [],
   "source": [
    "data['train'] = outcome"
   ]
  },
  {
   "cell_type": "markdown",
   "metadata": {},
   "source": [
    "### Test Preprocessing"
   ]
  },
  {
   "cell_type": "code",
   "execution_count": null,
   "metadata": {
    "ExecuteTime": {
     "end_time": "2020-09-21T10:13:26.161962Z",
     "start_time": "2020-09-21T10:08:08.967Z"
    }
   },
   "outputs": [],
   "source": [
    "%%time\n",
    "test = data['test'].copy()\n",
    "\n",
    "#Tokenize\n",
    "test = Making_token(test, pd.DataFrame(processed_tokens_test, index=_data_test.index))\n",
    "\n",
    "#Gender dummy\n",
    "test = Insert_sex_dummy(test)\n",
    "\n",
    "#Credit dummy\n",
    "test = Insert_credit_dummy(test)\n",
    "\n",
    "#Holiday dummy\n",
    "test = Insert_holiday_dummy(test,'test')\n",
    "\n",
    "#Zapping Time\n",
    "test = Insert_zapping(test)"
   ]
  },
  {
   "cell_type": "code",
   "execution_count": null,
   "metadata": {
    "ExecuteTime": {
     "end_time": "2020-09-21T10:13:26.170674Z",
     "start_time": "2020-09-21T10:08:09.139Z"
    },
    "scrolled": true
   },
   "outputs": [],
   "source": [
    "data['test'] = test"
   ]
  },
  {
   "cell_type": "markdown",
   "metadata": {},
   "source": [
    "---\n",
    "\n",
    "## Feature Selection"
   ]
  },
  {
   "cell_type": "code",
   "execution_count": null,
   "metadata": {
    "ExecuteTime": {
     "end_time": "2020-09-21T10:13:26.180086Z",
     "start_time": "2020-09-21T10:08:09.507Z"
    }
   },
   "outputs": [],
   "source": [
    "data['train'].columns"
   ]
  },
  {
   "cell_type": "code",
   "execution_count": null,
   "metadata": {
    "ExecuteTime": {
     "end_time": "2020-09-21T10:13:26.188271Z",
     "start_time": "2020-09-21T10:08:09.687Z"
    }
   },
   "outputs": [],
   "source": [
    "data['train'].isnull().sum()"
   ]
  },
  {
   "cell_type": "code",
   "execution_count": null,
   "metadata": {
    "ExecuteTime": {
     "end_time": "2020-09-21T10:13:26.198138Z",
     "start_time": "2020-09-21T10:08:10.335Z"
    }
   },
   "outputs": [],
   "source": [
    "data['train'].isna().sum()"
   ]
  },
  {
   "cell_type": "code",
   "execution_count": null,
   "metadata": {
    "ExecuteTime": {
     "end_time": "2020-09-21T10:13:26.207014Z",
     "start_time": "2020-09-21T10:08:10.493Z"
    }
   },
   "outputs": [],
   "source": [
    "data['train'].info()"
   ]
  },
  {
   "cell_type": "code",
   "execution_count": null,
   "metadata": {
    "ExecuteTime": {
     "end_time": "2020-09-21T10:17:55.750747Z",
     "start_time": "2020-09-21T10:17:55.747487Z"
    }
   },
   "outputs": [],
   "source": [
    "selected_features = ['노출(분)',         '마더코드',         '상품코드',          '상품명',\n",
    "                '상품군',         '판매단가',          '취급액',            '연',\n",
    "                  '월',            '일',            '시',            '분',\n",
    "                 '요일',      'embed_0',      'embed_1',      'embed_2',\n",
    "            'embed_3',      'embed_4',      'embed_5',      'embed_6',\n",
    "            'embed_7',      'embed_8',      'embed_9', \n",
    "                 '남성',           '여성',          '일시불',          '무이자',\n",
    "                 '휴일',  'MBC_Zapping', 'JTBC_Zapping', 'naver_trend']"
   ]
  },
  {
   "cell_type": "code",
   "execution_count": null,
   "metadata": {
    "ExecuteTime": {
     "end_time": "2020-09-21T10:17:56.442363Z",
     "start_time": "2020-09-21T10:17:56.408636Z"
    }
   },
   "outputs": [],
   "source": [
    "data['train'][selected_features]"
   ]
  },
  {
   "cell_type": "code",
   "execution_count": null,
   "metadata": {
    "ExecuteTime": {
     "end_time": "2020-09-21T10:13:26.231971Z",
     "start_time": "2020-09-21T10:08:10.967Z"
    }
   },
   "outputs": [],
   "source": [
    "data['test'][selected_features]"
   ]
  },
  {
   "cell_type": "code",
   "execution_count": null,
   "metadata": {
    "ExecuteTime": {
     "end_time": "2020-09-21T10:13:26.240077Z",
     "start_time": "2020-09-21T10:08:11.127Z"
    }
   },
   "outputs": [],
   "source": [
    "data['train'].to_csv('train_final.csv', index=False)\n",
    "data['test'].to_csv('test_final.csv', index=False)"
   ]
  },
  {
   "cell_type": "markdown",
   "metadata": {},
   "source": [
    "---\n",
    "\n",
    "## Modeling"
   ]
  },
  {
   "cell_type": "code",
   "execution_count": 1,
   "metadata": {
    "ExecuteTime": {
     "end_time": "2020-09-21T10:47:50.805255Z",
     "start_time": "2020-09-21T10:47:50.801778Z"
    }
   },
   "outputs": [],
   "source": [
    "selected_features = ['노출(분)',         '마더코드',         '상품코드',          '상품명',\n",
    "                '상품군',         '판매단가',          '취급액',            '연',\n",
    "                  '월',            '일',            '시',            '분',\n",
    "                 '요일',      'embed_0',      'embed_1',      'embed_2',\n",
    "            'embed_3',      'embed_4',      'embed_5',      'embed_6',\n",
    "            'embed_7',      'embed_8',      'embed_9', \n",
    "                 '남성',           '여성',          '일시불',          '무이자',\n",
    "                 '휴일',  'MBC_Zapping', 'JTBC_Zapping', 'naver_trend']"
   ]
  },
  {
   "cell_type": "code",
   "execution_count": 4,
   "metadata": {
    "ExecuteTime": {
     "end_time": "2020-09-21T10:48:01.572964Z",
     "start_time": "2020-09-21T10:48:01.280490Z"
    }
   },
   "outputs": [
    {
     "name": "stderr",
     "output_type": "stream",
     "text": [
      "/opt/anaconda3/envs/pytorch/lib/python3.6/site-packages/IPython/core/interactiveshell.py:3063: DtypeWarning: Columns (34) have mixed types.Specify dtype option on import or set low_memory=False.\n",
      "  interactivity=interactivity, compiler=compiler, result=result)\n"
     ]
    }
   ],
   "source": [
    "data = {}\n",
    "data['train'] = pd.read_csv('./train_final.csv')[selected_features]\n",
    "data['test'] = pd.read_csv('./test_final.csv')[selected_features]"
   ]
  },
  {
   "cell_type": "code",
   "execution_count": 5,
   "metadata": {
    "ExecuteTime": {
     "end_time": "2020-09-21T10:48:24.994969Z",
     "start_time": "2020-09-21T10:48:24.984060Z"
    }
   },
   "outputs": [],
   "source": [
    "le = LabelEncoder()\n",
    "le.fit(data['train']['요일'])\n",
    "data['train']['요일'] = le.transform(data['train']['요일'])\n",
    "data['test']['요일'] = le.transform(data['test']['요일'])"
   ]
  },
  {
   "cell_type": "markdown",
   "metadata": {},
   "source": [
    "### 학습 및 검증 데이터 분리하기"
   ]
  },
  {
   "cell_type": "code",
   "execution_count": 9,
   "metadata": {
    "ExecuteTime": {
     "end_time": "2020-09-21T10:49:10.398856Z",
     "start_time": "2020-09-21T10:49:10.388405Z"
    }
   },
   "outputs": [],
   "source": [
    "X_train, X_valid, y_train, y_valid = train_test_split(data['train'].drop('취급액', axis=1),\n",
    "                                                      data['train']['취급액'] / 10000,\n",
    "                                                      shuffle=False,\n",
    "                                                      test_size=TEST_SIZE,\n",
    "                                                      random_state=RANDOM_STATE)"
   ]
  },
  {
   "cell_type": "code",
   "execution_count": 10,
   "metadata": {
    "ExecuteTime": {
     "end_time": "2020-09-21T10:49:11.204103Z",
     "start_time": "2020-09-21T10:49:11.200652Z"
    }
   },
   "outputs": [
    {
     "name": "stdout",
     "output_type": "stream",
     "text": [
      "학습 데이터: (29894, 30)\n",
      "검증 데이터: (7474, 30)\n"
     ]
    }
   ],
   "source": [
    "print(f'학습 데이터: {X_train.shape}')\n",
    "print(f'검증 데이터: {X_valid.shape}')"
   ]
  },
  {
   "cell_type": "markdown",
   "metadata": {},
   "source": [
    "### 모델 생성하기"
   ]
  },
  {
   "cell_type": "code",
   "execution_count": 11,
   "metadata": {
    "ExecuteTime": {
     "end_time": "2020-09-21T10:49:12.517422Z",
     "start_time": "2020-09-21T10:49:12.515003Z"
    }
   },
   "outputs": [],
   "source": [
    "ml_models = {}"
   ]
  },
  {
   "cell_type": "code",
   "execution_count": 12,
   "metadata": {
    "ExecuteTime": {
     "end_time": "2020-09-21T10:49:13.201723Z",
     "start_time": "2020-09-21T10:49:13.198549Z"
    }
   },
   "outputs": [],
   "source": [
    "ml_models['LinearRegression'] = LinearRegression()\n",
    "ml_models['DecisionTreeRegressor'] = DecisionTreeRegressor()\n",
    "ml_models['RandomForestRegressor'] = RandomForestRegressor()\n",
    "ml_models['XGBRegressor'] = XGBRegressor()\n",
    "# ml_models['LGBMRegressor'] = LGBMRegressor()"
   ]
  },
  {
   "cell_type": "code",
   "execution_count": 13,
   "metadata": {
    "ExecuteTime": {
     "end_time": "2020-09-21T10:49:40.452737Z",
     "start_time": "2020-09-21T10:49:15.377892Z"
    }
   },
   "outputs": [
    {
     "name": "stdout",
     "output_type": "stream",
     "text": [
      "[1] LinearRegression 모델을 학습합니다. --> 저장 완료\n",
      "------------------------------------------------------------\n",
      "[2] DecisionTreeRegressor 모델을 학습합니다. --> 저장 완료\n",
      "------------------------------------------------------------\n",
      "[3] RandomForestRegressor 모델을 학습합니다. --> 저장 완료\n",
      "------------------------------------------------------------\n",
      "[4] XGBRegressor 모델을 학습합니다. --> 저장 완료\n",
      "------------------------------------------------------------\n"
     ]
    }
   ],
   "source": [
    "for n,(model_name, model) in enumerate(ml_models.items(),start=1):\n",
    "    print(f'[{n}] {model_name} 모델을 학습합니다.', end=' ')\n",
    "    model.fit(X_train, y_train)\n",
    "    print(f'--> 저장 완료')\n",
    "    ml_models[model_name] = model\n",
    "    print('-'*60)"
   ]
  },
  {
   "cell_type": "markdown",
   "metadata": {},
   "source": [
    "---\n",
    "\n",
    "## Testing\n",
    "\n",
    "### MAPE\n",
    "\n",
    "$$ MAPE = \\frac{100}{n} \\sum_{t=1}^{n}{|\\frac{A_t - F_t}{A_t}|} $$"
   ]
  },
  {
   "cell_type": "code",
   "execution_count": 14,
   "metadata": {
    "ExecuteTime": {
     "end_time": "2020-09-21T10:50:01.849418Z",
     "start_time": "2020-09-21T10:50:01.846352Z"
    }
   },
   "outputs": [],
   "source": [
    "# MAPE\n",
    "EPS = 1e-10\n",
    "def MAPE(y_true, y_pred): \n",
    "    y_true, y_pred = np.array(y_true), np.array(y_pred)\n",
    "    return np.mean(np.abs((y_true - y_pred) / (y_true + EPS))) * 100"
   ]
  },
  {
   "cell_type": "code",
   "execution_count": 16,
   "metadata": {
    "ExecuteTime": {
     "end_time": "2020-09-21T10:50:33.503920Z",
     "start_time": "2020-09-21T10:50:32.755895Z"
    }
   },
   "outputs": [
    {
     "name": "stdout",
     "output_type": "stream",
     "text": [
      "[1] LinearRegression              의 MAPE 값: 1175.8433137800\n",
      "------------------------------------------------------------\n",
      "[2] DecisionTreeRegressor         의 MAPE 값: 0.0000000000\n",
      "------------------------------------------------------------\n",
      "[3] RandomForestRegressor         의 MAPE 값: 221.5628914360\n",
      "------------------------------------------------------------\n",
      "[4] XGBRegressor                  의 MAPE 값: 524.0832514918\n",
      "------------------------------------------------------------\n"
     ]
    }
   ],
   "source": [
    "results_train = {}\n",
    "for n,(model_name, model) in enumerate(ml_models.items(),start=1):\n",
    "    y_pred = ml_models[model_name].predict(X_train)\n",
    "    result = MAPE(y_train, y_pred)\n",
    "    print(f'[{n}] {model_name:<30}의 MAPE 값: {result:<4.10f}')\n",
    "    results_train[model_name] = result\n",
    "    print('-'*60)"
   ]
  },
  {
   "cell_type": "code",
   "execution_count": 17,
   "metadata": {
    "ExecuteTime": {
     "end_time": "2020-09-21T10:50:41.045622Z",
     "start_time": "2020-09-21T10:50:40.846289Z"
    }
   },
   "outputs": [
    {
     "name": "stdout",
     "output_type": "stream",
     "text": [
      "[1] LinearRegression              의 MAPE 값: 851.8612561799\n",
      "------------------------------------------------------------\n",
      "[2] DecisionTreeRegressor         의 MAPE 값: 626.4731393521\n",
      "------------------------------------------------------------\n",
      "[3] RandomForestRegressor         의 MAPE 값: 611.5332743001\n",
      "------------------------------------------------------------\n",
      "[4] XGBRegressor                  의 MAPE 값: 586.6957160129\n",
      "------------------------------------------------------------\n"
     ]
    }
   ],
   "source": [
    "results_test = {}\n",
    "for n,(model_name, model) in enumerate(ml_models.items(),start=1):\n",
    "    y_pred = ml_models[model_name].predict(X_valid)\n",
    "    result = MAPE(y_valid, y_pred)\n",
    "    print(f'[{n}] {model_name:<30}의 MAPE 값: {result:<4.10f}')\n",
    "    results_test[model_name] = result\n",
    "    print('-'*60)"
   ]
  },
  {
   "cell_type": "code",
   "execution_count": 18,
   "metadata": {
    "ExecuteTime": {
     "end_time": "2020-09-21T10:50:46.895555Z",
     "start_time": "2020-09-21T10:50:46.889795Z"
    }
   },
   "outputs": [
    {
     "data": {
      "text/plain": [
       "array([209.9])"
      ]
     },
     "execution_count": 18,
     "metadata": {},
     "output_type": "execute_result"
    }
   ],
   "source": [
    "ml_models['DecisionTreeRegressor'].predict([X_train.iloc[0]])"
   ]
  },
  {
   "cell_type": "code",
   "execution_count": 19,
   "metadata": {
    "ExecuteTime": {
     "end_time": "2020-09-21T10:50:47.862842Z",
     "start_time": "2020-09-21T10:50:47.858981Z"
    }
   },
   "outputs": [
    {
     "data": {
      "text/plain": [
       "209.9"
      ]
     },
     "execution_count": 19,
     "metadata": {},
     "output_type": "execute_result"
    }
   ],
   "source": [
    "y_train.iloc[0]"
   ]
  },
  {
   "cell_type": "code",
   "execution_count": 28,
   "metadata": {
    "ExecuteTime": {
     "end_time": "2020-09-21T10:51:46.512536Z",
     "start_time": "2020-09-21T10:51:46.508777Z"
    }
   },
   "outputs": [],
   "source": [
    "import torch\n",
    "import torch.nn as nn\n",
    "import torch.optim as optim\n",
    "import torch.nn.functional as F"
   ]
  },
  {
   "cell_type": "code",
   "execution_count": 29,
   "metadata": {
    "ExecuteTime": {
     "end_time": "2020-09-21T10:51:51.283749Z",
     "start_time": "2020-09-21T10:51:51.279196Z"
    }
   },
   "outputs": [],
   "source": [
    "class SimpleNet(nn.Module):\n",
    "    def __init__(self):\n",
    "        super(SimpleNet, self).__init__()\n",
    "        self.input_length = len(X_train.columns)\n",
    "        self.fc1 = nn.Linear(self.input_length, self.input_length)  # 6*6 from image dimension\n",
    "        self.fc2 = nn.Linear(self.input_length, self.input_length)\n",
    "        self.fc3 = nn.Linear(self.input_length, 1)\n",
    "        \n",
    "    def forward(self, x):\n",
    "        x = torch.tanh(self.fc1(x))\n",
    "        x = torch.tanh(self.fc2(x))\n",
    "        output = self.fc3(x)\n",
    "        return output"
   ]
  },
  {
   "cell_type": "code",
   "execution_count": 30,
   "metadata": {
    "ExecuteTime": {
     "end_time": "2020-09-21T10:51:56.021798Z",
     "start_time": "2020-09-21T10:51:56.017733Z"
    }
   },
   "outputs": [
    {
     "data": {
      "text/plain": [
       "SimpleNet(\n",
       "  (fc1): Linear(in_features=30, out_features=30, bias=True)\n",
       "  (fc2): Linear(in_features=30, out_features=30, bias=True)\n",
       "  (fc3): Linear(in_features=30, out_features=1, bias=True)\n",
       ")"
      ]
     },
     "execution_count": 30,
     "metadata": {},
     "output_type": "execute_result"
    }
   ],
   "source": [
    "net = SimpleNet()\n",
    "net"
   ]
  },
  {
   "cell_type": "code",
   "execution_count": 31,
   "metadata": {
    "ExecuteTime": {
     "end_time": "2020-09-21T10:52:00.620106Z",
     "start_time": "2020-09-21T10:52:00.617729Z"
    }
   },
   "outputs": [],
   "source": [
    "optimizer = optim.Adam(net.parameters(), lr=1e-4)\n",
    "loss_fn = nn.SmoothL1Loss()"
   ]
  },
  {
   "cell_type": "code",
   "execution_count": 32,
   "metadata": {
    "ExecuteTime": {
     "end_time": "2020-09-21T10:52:05.018568Z",
     "start_time": "2020-09-21T10:52:05.009472Z"
    }
   },
   "outputs": [
    {
     "data": {
      "text/plain": [
       "MinMaxScaler(copy=True, feature_range=(0, 1))"
      ]
     },
     "execution_count": 32,
     "metadata": {},
     "output_type": "execute_result"
    }
   ],
   "source": [
    "from sklearn.preprocessing import MinMaxScaler\n",
    "mms = MinMaxScaler()\n",
    "mms.fit(X_train)"
   ]
  },
  {
   "cell_type": "code",
   "execution_count": 33,
   "metadata": {
    "ExecuteTime": {
     "end_time": "2020-09-21T10:52:09.284974Z",
     "start_time": "2020-09-21T10:52:09.267601Z"
    }
   },
   "outputs": [],
   "source": [
    "train_losses = []\n",
    "valid_losses = []\n",
    "train_r2 = []\n",
    "val_r2 = []\n",
    "X_train_scaled = mms.transform(X_train)\n",
    "X_valid_scaled = mms.transform(X_valid)"
   ]
  },
  {
   "cell_type": "code",
   "execution_count": 34,
   "metadata": {
    "ExecuteTime": {
     "end_time": "2020-09-21T10:52:09.899111Z",
     "start_time": "2020-09-21T10:52:09.896097Z"
    }
   },
   "outputs": [],
   "source": [
    "EPOCH = 300000"
   ]
  },
  {
   "cell_type": "code",
   "execution_count": null,
   "metadata": {
    "ExecuteTime": {
     "start_time": "2020-09-21T10:51:49.679Z"
    }
   },
   "outputs": [
    {
     "name": "stdout",
     "output_type": "stream",
     "text": [
      "[Epoch      0 / 300000] Loss: 2091.06494 | Val Loss: 2569.06958 | MAPE(val): 1316178.21347\n",
      "[Epoch    100 / 300000] Loss: 2090.61377 | Val Loss: 2568.60205 | MAPE(val): 1105172.31873\n",
      "[Epoch    200 / 300000] Loss: 2089.90186 | Val Loss: 2567.87671 | MAPE(val): 266731.42390\n",
      "[Epoch    300 / 300000] Loss: 2088.89697 | Val Loss: 2566.86182 | MAPE(val): 129708.31833\n",
      "[Epoch    400 / 300000] Loss: 2087.82788 | Val Loss: 2565.78906 | MAPE(val): 83970.70373\n",
      "[Epoch    500 / 300000] Loss: 2086.91406 | Val Loss: 2564.87744 | MAPE(val): 64589.44371\n",
      "[Epoch    600 / 300000] Loss: 2086.21069 | Val Loss: 2564.17090 | MAPE(val): 54707.47263\n",
      "[Epoch    700 / 300000] Loss: 2085.67065 | Val Loss: 2563.61719 | MAPE(val): 48759.60957\n",
      "[Epoch    800 / 300000] Loss: 2085.22778 | Val Loss: 2563.15405 | MAPE(val): 44644.38234\n",
      "[Epoch    900 / 300000] Loss: 2084.84399 | Val Loss: 2562.74707 | MAPE(val): 41524.30961\n",
      "[Epoch   1000 / 300000] Loss: 2084.48804 | Val Loss: 2562.36670 | MAPE(val): 38979.12747\n",
      "[Epoch   1100 / 300000] Loss: 2084.14819 | Val Loss: 2562.00342 | MAPE(val): 36823.41899\n",
      "[Epoch   1200 / 300000] Loss: 2083.82080 | Val Loss: 2561.65381 | MAPE(val): 34956.78673\n",
      "[Epoch   1300 / 300000] Loss: 2083.50220 | Val Loss: 2561.31250 | MAPE(val): 33313.58195\n",
      "[Epoch   1400 / 300000] Loss: 2083.18970 | Val Loss: 2560.97949 | MAPE(val): 31848.59157\n",
      "[Epoch   1500 / 300000] Loss: 2082.88354 | Val Loss: 2560.65259 | MAPE(val): 30529.32658\n",
      "[Epoch   1600 / 300000] Loss: 2082.58350 | Val Loss: 2560.32886 | MAPE(val): 29331.61035\n",
      "[Epoch   1700 / 300000] Loss: 2082.28589 | Val Loss: 2560.01001 | MAPE(val): 28236.90809\n",
      "[Epoch   1800 / 300000] Loss: 2081.98950 | Val Loss: 2559.69434 | MAPE(val): 27230.68746\n",
      "[Epoch   1900 / 300000] Loss: 2081.69873 | Val Loss: 2559.38159 | MAPE(val): 26301.32014\n",
      "[Epoch   2000 / 300000] Loss: 2081.40894 | Val Loss: 2559.07153 | MAPE(val): 25439.32250\n",
      "[Epoch   2100 / 300000] Loss: 2081.11987 | Val Loss: 2558.76318 | MAPE(val): 24636.85399\n",
      "[Epoch   2200 / 300000] Loss: 2080.83521 | Val Loss: 2558.45557 | MAPE(val): 23887.35552\n",
      "[Epoch   2300 / 300000] Loss: 2080.54932 | Val Loss: 2558.15015 | MAPE(val): 23185.27551\n",
      "[Epoch   2400 / 300000] Loss: 2080.26782 | Val Loss: 2557.84668 | MAPE(val): 22525.88019\n",
      "[Epoch   2500 / 300000] Loss: 2079.98389 | Val Loss: 2557.54346 | MAPE(val): 21905.07782\n",
      "[Epoch   2600 / 300000] Loss: 2079.70288 | Val Loss: 2557.24146 | MAPE(val): 21319.33077\n",
      "[Epoch   2700 / 300000] Loss: 2079.42285 | Val Loss: 2556.94116 | MAPE(val): 20765.55263\n",
      "[Epoch   2800 / 300000] Loss: 2079.14355 | Val Loss: 2556.64014 | MAPE(val): 20241.03374\n",
      "[Epoch   2900 / 300000] Loss: 2078.86450 | Val Loss: 2556.34033 | MAPE(val): 19743.37790\n",
      "[Epoch   3000 / 300000] Loss: 2078.58374 | Val Loss: 2556.04199 | MAPE(val): 19270.46065\n",
      "[Epoch   3100 / 300000] Loss: 2078.30957 | Val Loss: 2555.74316 | MAPE(val): 18820.38695\n",
      "[Epoch   3200 / 300000] Loss: 2078.02710 | Val Loss: 2555.44531 | MAPE(val): 18391.46481\n",
      "[Epoch   3300 / 300000] Loss: 2077.75391 | Val Loss: 2555.14844 | MAPE(val): 17982.16677\n",
      "[Epoch   3400 / 300000] Loss: 2077.47412 | Val Loss: 2554.85156 | MAPE(val): 17591.12094\n",
      "[Epoch   3500 / 300000] Loss: 2077.19946 | Val Loss: 2554.55444 | MAPE(val): 17217.08390\n",
      "[Epoch   3600 / 300000] Loss: 2076.92261 | Val Loss: 2554.25830 | MAPE(val): 16858.93315\n",
      "[Epoch   3700 / 300000] Loss: 2076.64697 | Val Loss: 2553.96191 | MAPE(val): 16515.63886\n",
      "[Epoch   3800 / 300000] Loss: 2076.37183 | Val Loss: 2553.66650 | MAPE(val): 16186.26753\n",
      "[Epoch   3900 / 300000] Loss: 2076.09619 | Val Loss: 2553.37109 | MAPE(val): 15869.96446\n",
      "[Epoch   4000 / 300000] Loss: 2075.82153 | Val Loss: 2553.07642 | MAPE(val): 15565.93925\n",
      "[Epoch   4100 / 300000] Loss: 2075.54614 | Val Loss: 2552.78027 | MAPE(val): 15273.47457\n",
      "[Epoch   4200 / 300000] Loss: 2075.27222 | Val Loss: 2552.48535 | MAPE(val): 14991.89846\n",
      "[Epoch   4300 / 300000] Loss: 2074.99756 | Val Loss: 2552.19141 | MAPE(val): 14720.60756\n",
      "[Epoch   4400 / 300000] Loss: 2074.72192 | Val Loss: 2551.89673 | MAPE(val): 14459.02575\n",
      "[Epoch   4500 / 300000] Loss: 2074.45117 | Val Loss: 2551.60229 | MAPE(val): 14206.64043\n",
      "[Epoch   4600 / 300000] Loss: 2074.17212 | Val Loss: 2551.30884 | MAPE(val): 13962.95457\n",
      "[Epoch   4700 / 300000] Loss: 2073.90430 | Val Loss: 2551.01440 | MAPE(val): 13727.52557\n",
      "[Epoch   4800 / 300000] Loss: 2073.62354 | Val Loss: 2550.71924 | MAPE(val): 13499.92364\n",
      "[Epoch   4900 / 300000] Loss: 2073.35620 | Val Loss: 2550.42578 | MAPE(val): 13279.77403\n",
      "[Epoch   5000 / 300000] Loss: 2073.07666 | Val Loss: 2550.13208 | MAPE(val): 13066.69980\n",
      "[Epoch   5100 / 300000] Loss: 2072.80835 | Val Loss: 2549.83862 | MAPE(val): 12860.35452\n",
      "[Epoch   5200 / 300000] Loss: 2072.52930 | Val Loss: 2549.54590 | MAPE(val): 12660.43371\n",
      "[Epoch   5300 / 300000] Loss: 2072.25903 | Val Loss: 2549.25293 | MAPE(val): 12466.64574\n",
      "[Epoch   5400 / 300000] Loss: 2071.98804 | Val Loss: 2548.95874 | MAPE(val): 12278.68789\n",
      "[Epoch   5500 / 300000] Loss: 2071.71069 | Val Loss: 2548.66479 | MAPE(val): 12096.30680\n",
      "[Epoch   5600 / 300000] Loss: 2071.44043 | Val Loss: 2548.37207 | MAPE(val): 11919.25807\n",
      "[Epoch   5700 / 300000] Loss: 2071.16431 | Val Loss: 2548.07886 | MAPE(val): 11747.30847\n",
      "[Epoch   5800 / 300000] Loss: 2070.89282 | Val Loss: 2547.78516 | MAPE(val): 11580.23586\n",
      "[Epoch   5900 / 300000] Loss: 2070.61816 | Val Loss: 2547.49268 | MAPE(val): 11417.83648\n",
      "[Epoch   6000 / 300000] Loss: 2070.34399 | Val Loss: 2547.19971 | MAPE(val): 11259.91464\n",
      "[Epoch   6100 / 300000] Loss: 2070.07349 | Val Loss: 2546.90527 | MAPE(val): 11106.27570\n"
     ]
    }
   ],
   "source": [
    "for i in range(EPOCH):\n",
    "    net.zero_grad()\n",
    "    output = net(torch.Tensor(X_train_scaled))\n",
    "    loss = loss_fn(output.squeeze(), torch.Tensor(y_train.values))\n",
    "    train_losses.append(loss)\n",
    "    loss.backward()\n",
    "    optimizer.step()\n",
    "\n",
    "    with torch.no_grad():\n",
    "        y_pred = net(torch.Tensor(X_valid_scaled))\n",
    "        val_loss = loss_fn(y_pred.squeeze(), torch.Tensor(y_valid.values))\n",
    "        valid_losses.append(val_loss)\n",
    "\n",
    "    if i % 100 == 0:\n",
    "        print(f'[Epoch {i:>6d} / {EPOCH:>6d}] Loss: {loss:>2.5f} | Val Loss: {val_loss:>2.5f} | MAPE(val): {MAPE(y_pred.squeeze(), y_valid):>2.5f}')"
   ]
  },
  {
   "cell_type": "code",
   "execution_count": null,
   "metadata": {
    "ExecuteTime": {
     "end_time": "2020-09-21T10:47:22.537707Z",
     "start_time": "2020-09-21T10:36:09.327Z"
    }
   },
   "outputs": [],
   "source": [
    "plt.plot(train_losses)\n",
    "plt.plot(valid_losses)\n",
    "plt.legend(['Train loss', 'Val loss'])\n",
    "plt.show()"
   ]
  },
  {
   "cell_type": "markdown",
   "metadata": {},
   "source": [
    "---\n",
    "\n",
    "## Submission"
   ]
  },
  {
   "cell_type": "code",
   "execution_count": null,
   "metadata": {
    "ExecuteTime": {
     "end_time": "2020-09-21T10:06:38.236081Z",
     "start_time": "2020-09-21T10:05:47.235Z"
    }
   },
   "outputs": [],
   "source": [
    "data['test'] # 취급액만 predict해서 넣어주자"
   ]
  },
  {
   "cell_type": "code",
   "execution_count": null,
   "metadata": {
    "ExecuteTime": {
     "end_time": "2020-09-21T10:06:38.236980Z",
     "start_time": "2020-09-21T10:05:47.239Z"
    }
   },
   "outputs": [],
   "source": [
    "from datetime import datetime\n",
    "now = datetime.now()\n",
    "now.month, now.day, now.hour"
   ]
  },
  {
   "cell_type": "markdown",
   "metadata": {},
   "source": [
    "---\n",
    "\n",
    "## Reference"
   ]
  },
  {
   "cell_type": "markdown",
   "metadata": {},
   "source": [
    "- 2020 빅콘테스트: https://www.bigcontest.or.kr/index.php\n",
    "- "
   ]
  }
 ],
 "metadata": {
  "hide_input": false,
  "kernelspec": {
   "display_name": "Python 3",
   "language": "python",
   "name": "python3"
  },
  "language_info": {
   "codemirror_mode": {
    "name": "ipython",
    "version": 3
   },
   "file_extension": ".py",
   "mimetype": "text/x-python",
   "name": "python",
   "nbconvert_exporter": "python",
   "pygments_lexer": "ipython3",
   "version": "3.6.10"
  },
  "toc": {
   "base_numbering": "0",
   "nav_menu": {},
   "number_sections": true,
   "sideBar": true,
   "skip_h1_title": true,
   "title_cell": "Table of Contents",
   "title_sidebar": "Contents",
   "toc_cell": true,
   "toc_position": {
    "height": "calc(100% - 180px)",
    "left": "10px",
    "top": "150px",
    "width": "329px"
   },
   "toc_section_display": true,
   "toc_window_display": true
  },
  "varInspector": {
   "cols": {
    "lenName": 16,
    "lenType": 16,
    "lenVar": 40
   },
   "kernels_config": {
    "python": {
     "delete_cmd_postfix": "",
     "delete_cmd_prefix": "del ",
     "library": "var_list.py",
     "varRefreshCmd": "print(var_dic_list())"
    },
    "r": {
     "delete_cmd_postfix": ") ",
     "delete_cmd_prefix": "rm(",
     "library": "var_list.r",
     "varRefreshCmd": "cat(var_dic_list()) "
    }
   },
   "position": {
    "height": "451.215px",
    "left": "1763.33px",
    "right": "20px",
    "top": "120px",
    "width": "350px"
   },
   "types_to_exclude": [
    "module",
    "function",
    "builtin_function_or_method",
    "instance",
    "_Feature"
   ],
   "window_display": false
  }
 },
 "nbformat": 4,
 "nbformat_minor": 4
}

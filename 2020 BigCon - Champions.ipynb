{
 "cells": [
  {
   "cell_type": "markdown",
   "metadata": {},
   "source": [
    "# 2020 빅콘테스트 챔피언스리그\n",
    "\n",
    "![](./img/contest_logo.png)"
   ]
  },
  {
   "cell_type": "markdown",
   "metadata": {
    "toc": true
   },
   "source": [
    "<h1>Table of Contents<span class=\"tocSkip\"></span></h1>\n",
    "<div class=\"toc\"><ul class=\"toc-item\"><li><span><a href=\"#대회요강\" data-toc-modified-id=\"대회요강-0\"><span class=\"toc-item-num\">0&nbsp;&nbsp;</span>대회요강</a></span><ul class=\"toc-item\"><li><span><a href=\"#참가자격\" data-toc-modified-id=\"참가자격-0.1\"><span class=\"toc-item-num\">0.1&nbsp;&nbsp;</span>참가자격</a></span></li><li><span><a href=\"#대회일정\" data-toc-modified-id=\"대회일정-0.2\"><span class=\"toc-item-num\">0.2&nbsp;&nbsp;</span>대회일정</a></span></li><li><span><a href=\"#대회-문제\" data-toc-modified-id=\"대회-문제-0.3\"><span class=\"toc-item-num\">0.3&nbsp;&nbsp;</span>대회 문제</a></span></li><li><span><a href=\"#평가방법\" data-toc-modified-id=\"평가방법-0.4\"><span class=\"toc-item-num\">0.4&nbsp;&nbsp;</span>평가방법</a></span></li><li><span><a href=\"#결과제출\" data-toc-modified-id=\"결과제출-0.5\"><span class=\"toc-item-num\">0.5&nbsp;&nbsp;</span>결과제출</a></span></li><li><span><a href=\"#유의사항\" data-toc-modified-id=\"유의사항-0.6\"><span class=\"toc-item-num\">0.6&nbsp;&nbsp;</span>유의사항</a></span></li></ul></li><li><span><a href=\"#라이브러리-및-옵션\" data-toc-modified-id=\"라이브러리-및-옵션-1\"><span class=\"toc-item-num\">1&nbsp;&nbsp;</span>라이브러리 및 옵션</a></span></li><li><span><a href=\"#데이터-불러오기(Load-Data)\" data-toc-modified-id=\"데이터-불러오기(Load-Data)-2\"><span class=\"toc-item-num\">2&nbsp;&nbsp;</span>데이터 불러오기(Load Data)</a></span><ul class=\"toc-item\"><li><span><a href=\"#2019년-실적데이터\" data-toc-modified-id=\"2019년-실적데이터-2.1\"><span class=\"toc-item-num\">2.1&nbsp;&nbsp;</span>2019년 실적데이터</a></span></li><li><span><a href=\"#판매-실적-예측-데이터\" data-toc-modified-id=\"판매-실적-예측-데이터-2.2\"><span class=\"toc-item-num\">2.2&nbsp;&nbsp;</span>판매 실적 예측 데이터</a></span></li><li><span><a href=\"#시청률-데이터\" data-toc-modified-id=\"시청률-데이터-2.3\"><span class=\"toc-item-num\">2.3&nbsp;&nbsp;</span>시청률 데이터</a></span></li></ul></li><li><span><a href=\"#데이터-전처리(Data-Preprocessing)\" data-toc-modified-id=\"데이터-전처리(Data-Preprocessing)-3\"><span class=\"toc-item-num\">3&nbsp;&nbsp;</span>데이터 전처리(Data Preprocessing)</a></span><ul class=\"toc-item\"><li><span><a href=\"#결측치-확인하기\" data-toc-modified-id=\"결측치-확인하기-3.1\"><span class=\"toc-item-num\">3.1&nbsp;&nbsp;</span>결측치 확인하기</a></span></li><li><span><a href=\"#방송시간에서-세부-시간-추출\" data-toc-modified-id=\"방송시간에서-세부-시간-추출-3.2\"><span class=\"toc-item-num\">3.2&nbsp;&nbsp;</span>방송시간에서 세부 시간 추출</a></span></li><li><span><a href=\"#노출시간-결측치-처리\" data-toc-modified-id=\"노출시간-결측치-처리-3.3\"><span class=\"toc-item-num\">3.3&nbsp;&nbsp;</span>노출시간 결측치 처리</a></span></li><li><span><a href=\"#자연어처리(Natural-Language-Processing)\" data-toc-modified-id=\"자연어처리(Natural-Language-Processing)-3.4\"><span class=\"toc-item-num\">3.4&nbsp;&nbsp;</span>자연어처리(Natural Language Processing)</a></span><ul class=\"toc-item\"><li><span><a href=\"#유의미한-글자-추출\" data-toc-modified-id=\"유의미한-글자-추출-3.4.1\"><span class=\"toc-item-num\">3.4.1&nbsp;&nbsp;</span>유의미한 글자 추출</a></span></li><li><span><a href=\"#무형-상품군---결측치-제거-처리\" data-toc-modified-id=\"무형-상품군---결측치-제거-처리-3.4.2\"><span class=\"toc-item-num\">3.4.2&nbsp;&nbsp;</span>무형 상품군 - 결측치 제거 처리</a></span></li><li><span><a href=\"#KOMORAN을-통하여-형태소-분석\" data-toc-modified-id=\"KOMORAN을-통하여-형태소-분석-3.4.3\"><span class=\"toc-item-num\">3.4.3&nbsp;&nbsp;</span>KOMORAN을 통하여 형태소 분석</a></span></li><li><span><a href=\"#임베딩벡터-생성\" data-toc-modified-id=\"임베딩벡터-생성-3.4.4\"><span class=\"toc-item-num\">3.4.4&nbsp;&nbsp;</span>임베딩벡터 생성</a></span></li><li><span><a href=\"#PCA를-통하여-차원-축소\" data-toc-modified-id=\"PCA를-통하여-차원-축소-3.4.5\"><span class=\"toc-item-num\">3.4.5&nbsp;&nbsp;</span>PCA를 통하여 차원 축소</a></span></li></ul></li></ul></li><li><span><a href=\"#탐색적-데이터-분석(Exploratory-Data-Analysis)\" data-toc-modified-id=\"탐색적-데이터-분석(Exploratory-Data-Analysis)-4\"><span class=\"toc-item-num\">4&nbsp;&nbsp;</span>탐색적 데이터 분석(Exploratory Data Analysis)</a></span><ul class=\"toc-item\"><li><span><a href=\"#데이터-형태\" data-toc-modified-id=\"데이터-형태-4.1\"><span class=\"toc-item-num\">4.1&nbsp;&nbsp;</span>데이터 형태</a></span></li><li><span><a href=\"#데이터의-컬럼\" data-toc-modified-id=\"데이터의-컬럼-4.2\"><span class=\"toc-item-num\">4.2&nbsp;&nbsp;</span>데이터의 컬럼</a></span></li><li><span><a href=\"#데이터-타입\" data-toc-modified-id=\"데이터-타입-4.3\"><span class=\"toc-item-num\">4.3&nbsp;&nbsp;</span>데이터 타입</a></span></li><li><span><a href=\"#데이터-기초-통계량\" data-toc-modified-id=\"데이터-기초-통계량-4.4\"><span class=\"toc-item-num\">4.4&nbsp;&nbsp;</span>데이터 기초 통계량</a></span></li><li><span><a href=\"#상품군의-갯수\" data-toc-modified-id=\"상품군의-갯수-4.5\"><span class=\"toc-item-num\">4.5&nbsp;&nbsp;</span>상품군의 갯수</a></span></li><li><span><a href=\"#상품군\" data-toc-modified-id=\"상품군-4.6\"><span class=\"toc-item-num\">4.6&nbsp;&nbsp;</span>상품군</a></span><ul class=\"toc-item\"><li><span><a href=\"#가전-상품군\" data-toc-modified-id=\"가전-상품군-4.6.1\"><span class=\"toc-item-num\">4.6.1&nbsp;&nbsp;</span>가전 상품군</a></span></li><li><span><a href=\"#농수축-상품군\" data-toc-modified-id=\"농수축-상품군-4.6.2\"><span class=\"toc-item-num\">4.6.2&nbsp;&nbsp;</span>농수축 상품군</a></span></li><li><span><a href=\"#주방-상품군\" data-toc-modified-id=\"주방-상품군-4.6.3\"><span class=\"toc-item-num\">4.6.3&nbsp;&nbsp;</span>주방 상품군</a></span></li><li><span><a href=\"#무형-상품군\" data-toc-modified-id=\"무형-상품군-4.6.4\"><span class=\"toc-item-num\">4.6.4&nbsp;&nbsp;</span>무형 상품군</a></span></li></ul></li><li><span><a href=\"#상품명\" data-toc-modified-id=\"상품명-4.7\"><span class=\"toc-item-num\">4.7&nbsp;&nbsp;</span>상품명</a></span></li><li><span><a href=\"#상품코드\" data-toc-modified-id=\"상품코드-4.8\"><span class=\"toc-item-num\">4.8&nbsp;&nbsp;</span>상품코드</a></span></li><li><span><a href=\"#판매단가\" data-toc-modified-id=\"판매단가-4.9\"><span class=\"toc-item-num\">4.9&nbsp;&nbsp;</span>판매단가</a></span><ul class=\"toc-item\"><li><span><a href=\"#상품명별-판매단가\" data-toc-modified-id=\"상품명별-판매단가-4.9.1\"><span class=\"toc-item-num\">4.9.1&nbsp;&nbsp;</span>상품명별 판매단가</a></span></li></ul></li><li><span><a href=\"#취급액\" data-toc-modified-id=\"취급액-4.10\"><span class=\"toc-item-num\">4.10&nbsp;&nbsp;</span>취급액</a></span></li><li><span><a href=\"#시청률\" data-toc-modified-id=\"시청률-4.11\"><span class=\"toc-item-num\">4.11&nbsp;&nbsp;</span>시청률</a></span></li></ul></li><li><span><a href=\"#특성-공학(Feature-Engineering)\" data-toc-modified-id=\"특성-공학(Feature-Engineering)-5\"><span class=\"toc-item-num\">5&nbsp;&nbsp;</span>특성 공학(Feature Engineering)</a></span><ul class=\"toc-item\"><li><span><a href=\"#임베딩-벡터-추가\" data-toc-modified-id=\"임베딩-벡터-추가-5.1\"><span class=\"toc-item-num\">5.1&nbsp;&nbsp;</span>임베딩 벡터 추가</a></span></li><li><span><a href=\"#피처-생성\" data-toc-modified-id=\"피처-생성-5.2\"><span class=\"toc-item-num\">5.2&nbsp;&nbsp;</span>피처 생성</a></span><ul class=\"toc-item\"><li><span><a href=\"#네이버트랜드-결합\" data-toc-modified-id=\"네이버트랜드-결합-5.2.1\"><span class=\"toc-item-num\">5.2.1&nbsp;&nbsp;</span>네이버트랜드 결합</a></span></li><li><span><a href=\"#상품별-월-방영-횟수\" data-toc-modified-id=\"상품별-월-방영-횟수-5.2.2\"><span class=\"toc-item-num\">5.2.2&nbsp;&nbsp;</span>상품별 월 방영 횟수</a></span></li><li><span><a href=\"#상품별-주-방영-횟수\" data-toc-modified-id=\"상품별-주-방영-횟수-5.2.3\"><span class=\"toc-item-num\">5.2.3&nbsp;&nbsp;</span>상품별 주 방영 횟수</a></span></li><li><span><a href=\"#방송-재핑시간\" data-toc-modified-id=\"방송-재핑시간-5.2.4\"><span class=\"toc-item-num\">5.2.4&nbsp;&nbsp;</span>방송 재핑시간</a></span></li><li><span><a href=\"#토큰리스트-생성\" data-toc-modified-id=\"토큰리스트-생성-5.2.5\"><span class=\"toc-item-num\">5.2.5&nbsp;&nbsp;</span>토큰리스트 생성</a></span></li><li><span><a href=\"#성별-추가\" data-toc-modified-id=\"성별-추가-5.2.6\"><span class=\"toc-item-num\">5.2.6&nbsp;&nbsp;</span>성별 추가</a></span></li><li><span><a href=\"#무이자/일시불-여부\" data-toc-modified-id=\"무이자/일시불-여부-5.2.7\"><span class=\"toc-item-num\">5.2.7&nbsp;&nbsp;</span>무이자/일시불 여부</a></span></li><li><span><a href=\"#휴일-여부\" data-toc-modified-id=\"휴일-여부-5.2.8\"><span class=\"toc-item-num\">5.2.8&nbsp;&nbsp;</span>휴일 여부</a></span></li><li><span><a href=\"#재핑타임-추가\" data-toc-modified-id=\"재핑타임-추가-5.2.9\"><span class=\"toc-item-num\">5.2.9&nbsp;&nbsp;</span>재핑타임 추가</a></span></li></ul></li><li><span><a href=\"#상품군,-상품명-처리하기\" data-toc-modified-id=\"상품군,-상품명-처리하기-5.3\"><span class=\"toc-item-num\">5.3&nbsp;&nbsp;</span>상품군, 상품명 처리하기</a></span></li><li><span><a href=\"#상품군-더미화\" data-toc-modified-id=\"상품군-더미화-5.4\"><span class=\"toc-item-num\">5.4&nbsp;&nbsp;</span>상품군 더미화</a></span></li><li><span><a href=\"#요일-인코딩\" data-toc-modified-id=\"요일-인코딩-5.5\"><span class=\"toc-item-num\">5.5&nbsp;&nbsp;</span>요일 인코딩</a></span></li></ul></li><li><span><a href=\"#피처-선택(Feature-Selection)\" data-toc-modified-id=\"피처-선택(Feature-Selection)-6\"><span class=\"toc-item-num\">6&nbsp;&nbsp;</span>피처 선택(Feature Selection)</a></span><ul class=\"toc-item\"><li><span><a href=\"#지금까지-생성된-피처-확인\" data-toc-modified-id=\"지금까지-생성된-피처-확인-6.1\"><span class=\"toc-item-num\">6.1&nbsp;&nbsp;</span>지금까지 생성된 피처 확인</a></span></li><li><span><a href=\"#피처간의-상관계수-확인\" data-toc-modified-id=\"피처간의-상관계수-확인-6.2\"><span class=\"toc-item-num\">6.2&nbsp;&nbsp;</span>피처간의 상관계수 확인</a></span></li></ul></li><li><span><a href=\"#모델링(Modeling)\" data-toc-modified-id=\"모델링(Modeling)-7\"><span class=\"toc-item-num\">7&nbsp;&nbsp;</span>모델링(Modeling)</a></span><ul class=\"toc-item\"><li><span><a href=\"#학습-및-검증-데이터-분리하기\" data-toc-modified-id=\"학습-및-검증-데이터-분리하기-7.1\"><span class=\"toc-item-num\">7.1&nbsp;&nbsp;</span>학습 및 검증 데이터 분리하기</a></span></li><li><span><a href=\"#모델-생성하기\" data-toc-modified-id=\"모델-생성하기-7.2\"><span class=\"toc-item-num\">7.2&nbsp;&nbsp;</span>모델 생성하기</a></span><ul class=\"toc-item\"><li><span><a href=\"#머신러닝-모델\" data-toc-modified-id=\"머신러닝-모델-7.2.1\"><span class=\"toc-item-num\">7.2.1&nbsp;&nbsp;</span>머신러닝 모델</a></span></li><li><span><a href=\"#딥러닝-모델\" data-toc-modified-id=\"딥러닝-모델-7.2.2\"><span class=\"toc-item-num\">7.2.2&nbsp;&nbsp;</span>딥러닝 모델</a></span></li></ul></li></ul></li><li><span><a href=\"#성능평가\" data-toc-modified-id=\"성능평가-8\"><span class=\"toc-item-num\">8&nbsp;&nbsp;</span>성능평가</a></span><ul class=\"toc-item\"><li><span><a href=\"#Mean-Average-Percentage-Error(MAPE)\" data-toc-modified-id=\"Mean-Average-Percentage-Error(MAPE)-8.1\"><span class=\"toc-item-num\">8.1&nbsp;&nbsp;</span>Mean Average Percentage Error(MAPE)</a></span></li><li><span><a href=\"#머신러닝-모델-성능-검증\" data-toc-modified-id=\"머신러닝-모델-성능-검증-8.2\"><span class=\"toc-item-num\">8.2&nbsp;&nbsp;</span>머신러닝 모델 성능 검증</a></span></li><li><span><a href=\"#딥러닝-모델-성능-검증\" data-toc-modified-id=\"딥러닝-모델-성능-검증-8.3\"><span class=\"toc-item-num\">8.3&nbsp;&nbsp;</span>딥러닝 모델 성능 검증</a></span></li></ul></li><li><span><a href=\"#제출하기\" data-toc-modified-id=\"제출하기-9\"><span class=\"toc-item-num\">9&nbsp;&nbsp;</span>제출하기</a></span></li><li><span><a href=\"#참고자료\" data-toc-modified-id=\"참고자료-10\"><span class=\"toc-item-num\">10&nbsp;&nbsp;</span>참고자료</a></span></li></ul></div>"
   ]
  },
  {
   "cell_type": "markdown",
   "metadata": {},
   "source": [
    "## 대회요강\n",
    "\n",
    "### 참가자격\n",
    "- 전국 대학(원)생(휴학생포함) 및 일반인\n",
    "    - 대회 시작일(8.3) 기준, 대학(원)생은 나이제한 없음\n",
    "    - 데이터 분석 및 컨설팅 업체 소속 임직원은 참여 불가"
   ]
  },
  {
   "cell_type": "markdown",
   "metadata": {},
   "source": [
    "### 대회일정\n",
    "![](./img/contest_plan.png)"
   ]
  },
  {
   "cell_type": "markdown",
   "metadata": {},
   "source": [
    "### 대회 문제\n",
    "![](./img/contest_problem.png)"
   ]
  },
  {
   "cell_type": "markdown",
   "metadata": {},
   "source": [
    "### 평가방법\n",
    "\n",
    "![](./img/contest_evaluation.png)"
   ]
  },
  {
   "cell_type": "markdown",
   "metadata": {},
   "source": [
    "### 결과제출\n",
    "\n",
    "1. 마이페이지 내 결과제출바로가기 에서 제출(파일 용량 초과시, 사무국 이메일/웹하드로 제출하며 별도 안내 예정)\n",
    "2. 결과보고서 양식 및 추가 제출파일\n",
    "    - 심사진행과정에서 추가로 자료를 요청할 수 있음\n",
    "    - 결과보고서 필수 포함내용 미기재 및 추가 제출파일 미제출시, 심사 및 수상에서 제외 될 수 있음\n",
    "    \n",
    "![](./img/contest_submission.png)"
   ]
  },
  {
   "cell_type": "markdown",
   "metadata": {},
   "source": [
    "### 유의사항\n",
    "\n",
    "![](./img/contest_notice.png)"
   ]
  },
  {
   "cell_type": "markdown",
   "metadata": {},
   "source": [
    "---\n",
    "\n",
    "## 라이브러리 및 옵션"
   ]
  },
  {
   "cell_type": "code",
   "execution_count": 1,
   "metadata": {
    "ExecuteTime": {
     "end_time": "2020-09-22T07:19:16.759899Z",
     "start_time": "2020-09-22T07:19:14.062017Z"
    }
   },
   "outputs": [],
   "source": [
    "#########\n",
    "# BASIC #\n",
    "#########\n",
    "import os\n",
    "import sys\n",
    "import platform\n",
    "import warnings\n",
    "from collections import Counter\n",
    "import calendar\n",
    "from tqdm.notebook import tqdm_notebook\n",
    "\n",
    "#############\n",
    "# LOAD DATA #\n",
    "#############\n",
    "import numpy as np\n",
    "import pandas as pd\n",
    "\n",
    "#############################\n",
    "# EXPLORATORY DATA ANALYSIS #\n",
    "#############################\n",
    "import matplotlib as mpl\n",
    "import matplotlib.pyplot as plt\n",
    "import seaborn as sns\n",
    "import missingno as msno\n",
    "\n",
    "######################\n",
    "# DATA PREPROCESSING #\n",
    "######################\n",
    "import re\n",
    "from sklearn.decomposition import PCA\n",
    "from sklearn.preprocessing import LabelEncoder\n",
    "from sklearn.preprocessing import OneHotEncoder\n",
    "## NATURAL LANGUAGE PROCESSING \n",
    "from konlpy.tag import Komoran\n",
    "from gensim.models import Word2Vec\n",
    "\n",
    "#######################\n",
    "# FEATURE ENGINEERING #\n",
    "#######################\n",
    "from sklearn.preprocessing import StandardScaler\n",
    "from sklearn.preprocessing import MinMaxScaler\n",
    "\n",
    "#####################\n",
    "# FEATURE SELECTION #\n",
    "#####################\n",
    "\n",
    "\n",
    "############\n",
    "# MODELING #\n",
    "############\n",
    "## MACHINE LEARNING\n",
    "from sklearn.model_selection import KFold\n",
    "from sklearn.model_selection import train_test_split\n",
    "from sklearn.linear_model import LinearRegression\n",
    "from sklearn.tree import DecisionTreeRegressor\n",
    "from sklearn.svm import SVR\n",
    "from sklearn.ensemble import RandomForestRegressor\n",
    "from xgboost import XGBRegressor\n",
    "# from lightgbm import LGBMRegressor\n",
    "\n",
    "## DEEP LEARNING\n",
    "import torch\n",
    "import torch.nn as nn\n",
    "import torch.optim as optim\n",
    "import torch.nn.functional as F\n",
    "\n",
    "###########\n",
    "# TESTING #\n",
    "###########\n",
    "from sklearn.metrics import mean_absolute_error\n",
    "from sklearn.model_selection import RandomizedSearchCV\n",
    "from sklearn.model_selection import GridSearchCV"
   ]
  },
  {
   "cell_type": "code",
   "execution_count": 2,
   "metadata": {
    "ExecuteTime": {
     "end_time": "2020-09-22T07:19:16.798338Z",
     "start_time": "2020-09-22T07:19:16.760882Z"
    }
   },
   "outputs": [
    {
     "name": "stdout",
     "output_type": "stream",
     "text": [
      "현재 CUDA를 사용할 수 있습니다. 사용하고 있는 장치는 cuda 입니다.\n"
     ]
    }
   ],
   "source": [
    "warnings.filterwarnings(action='ignore')\n",
    "pd.options.display.float_format = '{:.4f}'.format\n",
    "# plt.style.use('ggplot')\n",
    "if platform.platform().split('-')[0] == 'Windows':\n",
    "    mpl.rcParams['font.family'] = 'Malgun Gothic' # Windows에서는 한글이 나오게 하기 위해서\n",
    "else: # macOS라고 가정\n",
    "    mpl.rcParams['font.family'] = 'AppleGothic' # mac에서는 한글이 나오게 하기 위해서\n",
    "\n",
    "mpl.rcParams['axes.unicode_minus'] = False\n",
    "plt.style.use('ggplot')\n",
    "device = 'cuda'  if torch.cuda.is_available() else 'cpu'\n",
    "if torch.cuda.is_available():\n",
    "    print(f'현재 CUDA를 사용할 수 있습니다. 사용하고 있는 장치는 {device} 입니다.')\n",
    "else:\n",
    "    print(f'현재 CUDA를 사용할 수 없습니다. 사용하고 있는 장치는 {device} 입니다. CPU로 학습시 오래 걸릴 수 있습니다.')"
   ]
  },
  {
   "cell_type": "code",
   "execution_count": 3,
   "metadata": {
    "ExecuteTime": {
     "end_time": "2020-09-22T07:19:17.763766Z",
     "start_time": "2020-09-22T07:19:17.760768Z"
    }
   },
   "outputs": [],
   "source": [
    "RANDOM_STATE = 42\n",
    "TEST_SIZE = 0.2\n",
    "learning_rate = 1e-4"
   ]
  },
  {
   "cell_type": "markdown",
   "metadata": {},
   "source": [
    "---\n",
    "\n",
    "## 데이터 불러오기(Load Data)"
   ]
  },
  {
   "cell_type": "code",
   "execution_count": 4,
   "metadata": {
    "ExecuteTime": {
     "end_time": "2020-09-22T07:19:18.472307Z",
     "start_time": "2020-09-22T07:19:18.464868Z"
    }
   },
   "outputs": [
    {
     "data": {
      "text/plain": [
       "['2020 빅콘테스트 데이터분석분야-챔피언리그_시청률 데이터.xlsx',\n",
       " '2020 빅콘테스트 데이터분석분야-챔피언리그_2019년 실적데이터.xlsx',\n",
       " 'desktop.ini']"
      ]
     },
     "execution_count": 4,
     "metadata": {},
     "output_type": "execute_result"
    }
   ],
   "source": [
    "os.listdir('./data/01_제공데이터')"
   ]
  },
  {
   "cell_type": "code",
   "execution_count": 5,
   "metadata": {
    "ExecuteTime": {
     "end_time": "2020-09-22T07:19:19.062458Z",
     "start_time": "2020-09-22T07:19:19.056458Z"
    }
   },
   "outputs": [
    {
     "data": {
      "text/plain": [
       "['2020 빅콘테스트 데이터분석분야-챔피언리그_2020년 6월 판매실적예측데이터(평가데이터).xlsx', 'desktop.ini']"
      ]
     },
     "execution_count": 5,
     "metadata": {},
     "output_type": "execute_result"
    }
   ],
   "source": [
    "os.listdir('./data/02_평가데이터')"
   ]
  },
  {
   "cell_type": "code",
   "execution_count": 6,
   "metadata": {
    "ExecuteTime": {
     "end_time": "2020-09-22T07:19:20.400604Z",
     "start_time": "2020-09-22T07:19:20.393640Z"
    }
   },
   "outputs": [
    {
     "data": {
      "text/plain": [
       "['naver_group_2.xlsx',\n",
       " 'naver_group_1.xlsx',\n",
       " 'naver_criterion.xlsx',\n",
       " 'CPI(2019년~2020년).csv',\n",
       " 'TV_Time.xlsx',\n",
       " 'desktop.ini']"
      ]
     },
     "execution_count": 6,
     "metadata": {},
     "output_type": "execute_result"
    }
   ],
   "source": [
    "os.listdir('./data/03_외부데이터')"
   ]
  },
  {
   "cell_type": "code",
   "execution_count": 7,
   "metadata": {
    "ExecuteTime": {
     "end_time": "2020-09-22T07:19:21.031940Z",
     "start_time": "2020-09-22T07:19:21.025913Z"
    }
   },
   "outputs": [
    {
     "data": {
      "text/plain": [
       "['user_dict_0913.txt', 'desktop.ini']"
      ]
     },
     "execution_count": 7,
     "metadata": {},
     "output_type": "execute_result"
    }
   ],
   "source": [
    "os.listdir('./data/04_추가데이터')"
   ]
  },
  {
   "cell_type": "code",
   "execution_count": 8,
   "metadata": {
    "ExecuteTime": {
     "end_time": "2020-09-22T07:19:21.762734Z",
     "start_time": "2020-09-22T07:19:21.758765Z"
    }
   },
   "outputs": [],
   "source": [
    "data = dict()"
   ]
  },
  {
   "cell_type": "markdown",
   "metadata": {},
   "source": [
    "### 2019년 실적데이터"
   ]
  },
  {
   "cell_type": "code",
   "execution_count": 9,
   "metadata": {
    "ExecuteTime": {
     "end_time": "2020-09-22T07:19:26.416965Z",
     "start_time": "2020-09-22T07:19:22.962616Z"
    }
   },
   "outputs": [
    {
     "data": {
      "text/html": [
       "<div>\n",
       "<style scoped>\n",
       "    .dataframe tbody tr th:only-of-type {\n",
       "        vertical-align: middle;\n",
       "    }\n",
       "\n",
       "    .dataframe tbody tr th {\n",
       "        vertical-align: top;\n",
       "    }\n",
       "\n",
       "    .dataframe thead th {\n",
       "        text-align: right;\n",
       "    }\n",
       "</style>\n",
       "<table border=\"1\" class=\"dataframe\">\n",
       "  <thead>\n",
       "    <tr style=\"text-align: right;\">\n",
       "      <th></th>\n",
       "      <th>노출(분)</th>\n",
       "      <th>마더코드</th>\n",
       "      <th>상품코드</th>\n",
       "      <th>상품명</th>\n",
       "      <th>상품군</th>\n",
       "      <th>판매단가</th>\n",
       "      <th>취급액</th>\n",
       "    </tr>\n",
       "    <tr>\n",
       "      <th>방송일시</th>\n",
       "      <th></th>\n",
       "      <th></th>\n",
       "      <th></th>\n",
       "      <th></th>\n",
       "      <th></th>\n",
       "      <th></th>\n",
       "      <th></th>\n",
       "    </tr>\n",
       "  </thead>\n",
       "  <tbody>\n",
       "    <tr>\n",
       "      <th>2019-01-01 06:00:00</th>\n",
       "      <td>20.0000</td>\n",
       "      <td>100346</td>\n",
       "      <td>201072</td>\n",
       "      <td>테이트 남성 셀린니트3종</td>\n",
       "      <td>의류</td>\n",
       "      <td>39900</td>\n",
       "      <td>2099000.0000</td>\n",
       "    </tr>\n",
       "    <tr>\n",
       "      <th>2019-01-01 06:00:00</th>\n",
       "      <td>nan</td>\n",
       "      <td>100346</td>\n",
       "      <td>201079</td>\n",
       "      <td>테이트 여성 셀린니트3종</td>\n",
       "      <td>의류</td>\n",
       "      <td>39900</td>\n",
       "      <td>4371000.0000</td>\n",
       "    </tr>\n",
       "    <tr>\n",
       "      <th>2019-01-01 06:20:00</th>\n",
       "      <td>20.0000</td>\n",
       "      <td>100346</td>\n",
       "      <td>201072</td>\n",
       "      <td>테이트 남성 셀린니트3종</td>\n",
       "      <td>의류</td>\n",
       "      <td>39900</td>\n",
       "      <td>3262000.0000</td>\n",
       "    </tr>\n",
       "    <tr>\n",
       "      <th>2019-01-01 06:20:00</th>\n",
       "      <td>nan</td>\n",
       "      <td>100346</td>\n",
       "      <td>201079</td>\n",
       "      <td>테이트 여성 셀린니트3종</td>\n",
       "      <td>의류</td>\n",
       "      <td>39900</td>\n",
       "      <td>6955000.0000</td>\n",
       "    </tr>\n",
       "    <tr>\n",
       "      <th>2019-01-01 06:40:00</th>\n",
       "      <td>20.0000</td>\n",
       "      <td>100346</td>\n",
       "      <td>201072</td>\n",
       "      <td>테이트 남성 셀린니트3종</td>\n",
       "      <td>의류</td>\n",
       "      <td>39900</td>\n",
       "      <td>6672000.0000</td>\n",
       "    </tr>\n",
       "    <tr>\n",
       "      <th>...</th>\n",
       "      <td>...</td>\n",
       "      <td>...</td>\n",
       "      <td>...</td>\n",
       "      <td>...</td>\n",
       "      <td>...</td>\n",
       "      <td>...</td>\n",
       "      <td>...</td>\n",
       "    </tr>\n",
       "    <tr>\n",
       "      <th>2019-12-31 23:20:00</th>\n",
       "      <td>nan</td>\n",
       "      <td>100448</td>\n",
       "      <td>201391</td>\n",
       "      <td>일시불쿠첸압력밥솥 6인용</td>\n",
       "      <td>주방</td>\n",
       "      <td>148000</td>\n",
       "      <td>1664000.0000</td>\n",
       "    </tr>\n",
       "    <tr>\n",
       "      <th>2019-12-31 23:40:00</th>\n",
       "      <td>20.0000</td>\n",
       "      <td>100448</td>\n",
       "      <td>201383</td>\n",
       "      <td>무이자쿠첸압력밥솥 10인용</td>\n",
       "      <td>주방</td>\n",
       "      <td>178000</td>\n",
       "      <td>9149000.0000</td>\n",
       "    </tr>\n",
       "    <tr>\n",
       "      <th>2019-12-31 23:40:00</th>\n",
       "      <td>nan</td>\n",
       "      <td>100448</td>\n",
       "      <td>201390</td>\n",
       "      <td>일시불쿠첸압력밥솥 10인용</td>\n",
       "      <td>주방</td>\n",
       "      <td>168000</td>\n",
       "      <td>15282000.0000</td>\n",
       "    </tr>\n",
       "    <tr>\n",
       "      <th>2019-12-31 23:40:00</th>\n",
       "      <td>nan</td>\n",
       "      <td>100448</td>\n",
       "      <td>201384</td>\n",
       "      <td>무이자쿠첸압력밥솥 6인용</td>\n",
       "      <td>주방</td>\n",
       "      <td>158000</td>\n",
       "      <td>2328000.0000</td>\n",
       "    </tr>\n",
       "    <tr>\n",
       "      <th>2019-12-31 23:40:00</th>\n",
       "      <td>nan</td>\n",
       "      <td>100448</td>\n",
       "      <td>201391</td>\n",
       "      <td>일시불쿠첸압력밥솥 6인용</td>\n",
       "      <td>주방</td>\n",
       "      <td>148000</td>\n",
       "      <td>10157000.0000</td>\n",
       "    </tr>\n",
       "  </tbody>\n",
       "</table>\n",
       "<p>38300 rows × 7 columns</p>\n",
       "</div>"
      ],
      "text/plain": [
       "                      노출(분)    마더코드    상품코드             상품명 상품군    판매단가  \\\n",
       "방송일시                                                                      \n",
       "2019-01-01 06:00:00 20.0000  100346  201072   테이트 남성 셀린니트3종  의류   39900   \n",
       "2019-01-01 06:00:00     nan  100346  201079   테이트 여성 셀린니트3종  의류   39900   \n",
       "2019-01-01 06:20:00 20.0000  100346  201072   테이트 남성 셀린니트3종  의류   39900   \n",
       "2019-01-01 06:20:00     nan  100346  201079   테이트 여성 셀린니트3종  의류   39900   \n",
       "2019-01-01 06:40:00 20.0000  100346  201072   테이트 남성 셀린니트3종  의류   39900   \n",
       "...                     ...     ...     ...             ...  ..     ...   \n",
       "2019-12-31 23:20:00     nan  100448  201391   일시불쿠첸압력밥솥 6인용  주방  148000   \n",
       "2019-12-31 23:40:00 20.0000  100448  201383  무이자쿠첸압력밥솥 10인용  주방  178000   \n",
       "2019-12-31 23:40:00     nan  100448  201390  일시불쿠첸압력밥솥 10인용  주방  168000   \n",
       "2019-12-31 23:40:00     nan  100448  201384   무이자쿠첸압력밥솥 6인용  주방  158000   \n",
       "2019-12-31 23:40:00     nan  100448  201391   일시불쿠첸압력밥솥 6인용  주방  148000   \n",
       "\n",
       "                              취급액  \n",
       "방송일시                               \n",
       "2019-01-01 06:00:00  2099000.0000  \n",
       "2019-01-01 06:00:00  4371000.0000  \n",
       "2019-01-01 06:20:00  3262000.0000  \n",
       "2019-01-01 06:20:00  6955000.0000  \n",
       "2019-01-01 06:40:00  6672000.0000  \n",
       "...                           ...  \n",
       "2019-12-31 23:20:00  1664000.0000  \n",
       "2019-12-31 23:40:00  9149000.0000  \n",
       "2019-12-31 23:40:00 15282000.0000  \n",
       "2019-12-31 23:40:00  2328000.0000  \n",
       "2019-12-31 23:40:00 10157000.0000  \n",
       "\n",
       "[38300 rows x 7 columns]"
      ]
     },
     "execution_count": 9,
     "metadata": {},
     "output_type": "execute_result"
    }
   ],
   "source": [
    "data['train'] = pd.read_excel(r'./data/01_제공데이터/2020 빅콘테스트 데이터분석분야-챔피언리그_2019년 실적데이터.xlsx',\n",
    "                       header=1,\n",
    "                       names=['방송일시', '노출(분)', '마더코드', '상품코드',\n",
    "                              '상품명', '상품군', '판매단가', '취급액'],\n",
    "                       thousands=',',\n",
    "                       )\n",
    "data['train'].index = pd.to_datetime(data['train']['방송일시'])\n",
    "data['train'] = data['train'].drop('방송일시',axis=1)\n",
    "data['train'] = data['train']['2019']\n",
    "data['train']"
   ]
  },
  {
   "cell_type": "markdown",
   "metadata": {},
   "source": [
    "### 판매 실적 예측 데이터"
   ]
  },
  {
   "cell_type": "code",
   "execution_count": 10,
   "metadata": {
    "ExecuteTime": {
     "end_time": "2020-09-22T07:19:26.691534Z",
     "start_time": "2020-09-22T07:19:26.418939Z"
    }
   },
   "outputs": [
    {
     "data": {
      "text/html": [
       "<div>\n",
       "<style scoped>\n",
       "    .dataframe tbody tr th:only-of-type {\n",
       "        vertical-align: middle;\n",
       "    }\n",
       "\n",
       "    .dataframe tbody tr th {\n",
       "        vertical-align: top;\n",
       "    }\n",
       "\n",
       "    .dataframe thead th {\n",
       "        text-align: right;\n",
       "    }\n",
       "</style>\n",
       "<table border=\"1\" class=\"dataframe\">\n",
       "  <thead>\n",
       "    <tr style=\"text-align: right;\">\n",
       "      <th></th>\n",
       "      <th>노출(분)</th>\n",
       "      <th>마더코드</th>\n",
       "      <th>상품코드</th>\n",
       "      <th>상품명</th>\n",
       "      <th>상품군</th>\n",
       "      <th>판매단가</th>\n",
       "      <th>취급액</th>\n",
       "    </tr>\n",
       "    <tr>\n",
       "      <th>방송일시</th>\n",
       "      <th></th>\n",
       "      <th></th>\n",
       "      <th></th>\n",
       "      <th></th>\n",
       "      <th></th>\n",
       "      <th></th>\n",
       "      <th></th>\n",
       "    </tr>\n",
       "  </thead>\n",
       "  <tbody>\n",
       "    <tr>\n",
       "      <th>2020-06-01 06:20:00</th>\n",
       "      <td>20.0000</td>\n",
       "      <td>100650</td>\n",
       "      <td>201971</td>\n",
       "      <td>잭필드 남성  반팔셔츠 4종</td>\n",
       "      <td>의류</td>\n",
       "      <td>59800</td>\n",
       "      <td>nan</td>\n",
       "    </tr>\n",
       "    <tr>\n",
       "      <th>2020-06-01 06:40:00</th>\n",
       "      <td>20.0000</td>\n",
       "      <td>100650</td>\n",
       "      <td>201971</td>\n",
       "      <td>잭필드 남성  반팔셔츠 4종</td>\n",
       "      <td>의류</td>\n",
       "      <td>59800</td>\n",
       "      <td>nan</td>\n",
       "    </tr>\n",
       "    <tr>\n",
       "      <th>2020-06-01 07:00:00</th>\n",
       "      <td>20.0000</td>\n",
       "      <td>100650</td>\n",
       "      <td>201971</td>\n",
       "      <td>잭필드 남성  반팔셔츠 4종</td>\n",
       "      <td>의류</td>\n",
       "      <td>59800</td>\n",
       "      <td>nan</td>\n",
       "    </tr>\n",
       "    <tr>\n",
       "      <th>2020-06-01 07:20:00</th>\n",
       "      <td>20.0000</td>\n",
       "      <td>100445</td>\n",
       "      <td>202278</td>\n",
       "      <td>쿠미투니카 쿨 레이시 란쥬쉐이퍼&amp;팬티</td>\n",
       "      <td>속옷</td>\n",
       "      <td>69900</td>\n",
       "      <td>nan</td>\n",
       "    </tr>\n",
       "    <tr>\n",
       "      <th>2020-06-01 07:40:00</th>\n",
       "      <td>20.0000</td>\n",
       "      <td>100445</td>\n",
       "      <td>202278</td>\n",
       "      <td>쿠미투니카 쿨 레이시 란쥬쉐이퍼&amp;팬티</td>\n",
       "      <td>속옷</td>\n",
       "      <td>69900</td>\n",
       "      <td>nan</td>\n",
       "    </tr>\n",
       "    <tr>\n",
       "      <th>...</th>\n",
       "      <td>...</td>\n",
       "      <td>...</td>\n",
       "      <td>...</td>\n",
       "      <td>...</td>\n",
       "      <td>...</td>\n",
       "      <td>...</td>\n",
       "      <td>...</td>\n",
       "    </tr>\n",
       "    <tr>\n",
       "      <th>2020-07-01 00:20:00</th>\n",
       "      <td>20.0000</td>\n",
       "      <td>100660</td>\n",
       "      <td>201989</td>\n",
       "      <td>쉴렉스  안마의자 렌탈서비스</td>\n",
       "      <td>무형</td>\n",
       "      <td>0</td>\n",
       "      <td>nan</td>\n",
       "    </tr>\n",
       "    <tr>\n",
       "      <th>2020-07-01 00:40:00</th>\n",
       "      <td>20.0000</td>\n",
       "      <td>100660</td>\n",
       "      <td>201989</td>\n",
       "      <td>쉴렉스  안마의자 렌탈서비스</td>\n",
       "      <td>무형</td>\n",
       "      <td>0</td>\n",
       "      <td>nan</td>\n",
       "    </tr>\n",
       "    <tr>\n",
       "      <th>2020-07-01 01:00:00</th>\n",
       "      <td>20.0000</td>\n",
       "      <td>100660</td>\n",
       "      <td>201989</td>\n",
       "      <td>쉴렉스  안마의자 렌탈서비스</td>\n",
       "      <td>무형</td>\n",
       "      <td>0</td>\n",
       "      <td>nan</td>\n",
       "    </tr>\n",
       "    <tr>\n",
       "      <th>2020-07-01 01:20:00</th>\n",
       "      <td>20.0000</td>\n",
       "      <td>100261</td>\n",
       "      <td>200875</td>\n",
       "      <td>아놀드파마 티셔츠레깅스세트</td>\n",
       "      <td>의류</td>\n",
       "      <td>69900</td>\n",
       "      <td>nan</td>\n",
       "    </tr>\n",
       "    <tr>\n",
       "      <th>2020-07-01 01:40:00</th>\n",
       "      <td>15.9333</td>\n",
       "      <td>100261</td>\n",
       "      <td>200875</td>\n",
       "      <td>아놀드파마 티셔츠레깅스세트</td>\n",
       "      <td>의류</td>\n",
       "      <td>69900</td>\n",
       "      <td>nan</td>\n",
       "    </tr>\n",
       "  </tbody>\n",
       "</table>\n",
       "<p>2891 rows × 7 columns</p>\n",
       "</div>"
      ],
      "text/plain": [
       "                      노출(분)    마더코드    상품코드                   상품명 상품군   판매단가  \\\n",
       "방송일시                                                                           \n",
       "2020-06-01 06:20:00 20.0000  100650  201971       잭필드 남성  반팔셔츠 4종  의류  59800   \n",
       "2020-06-01 06:40:00 20.0000  100650  201971       잭필드 남성  반팔셔츠 4종  의류  59800   \n",
       "2020-06-01 07:00:00 20.0000  100650  201971       잭필드 남성  반팔셔츠 4종  의류  59800   \n",
       "2020-06-01 07:20:00 20.0000  100445  202278  쿠미투니카 쿨 레이시 란쥬쉐이퍼&팬티  속옷  69900   \n",
       "2020-06-01 07:40:00 20.0000  100445  202278  쿠미투니카 쿨 레이시 란쥬쉐이퍼&팬티  속옷  69900   \n",
       "...                     ...     ...     ...                   ...  ..    ...   \n",
       "2020-07-01 00:20:00 20.0000  100660  201989       쉴렉스  안마의자 렌탈서비스  무형      0   \n",
       "2020-07-01 00:40:00 20.0000  100660  201989       쉴렉스  안마의자 렌탈서비스  무형      0   \n",
       "2020-07-01 01:00:00 20.0000  100660  201989       쉴렉스  안마의자 렌탈서비스  무형      0   \n",
       "2020-07-01 01:20:00 20.0000  100261  200875        아놀드파마 티셔츠레깅스세트  의류  69900   \n",
       "2020-07-01 01:40:00 15.9333  100261  200875        아놀드파마 티셔츠레깅스세트  의류  69900   \n",
       "\n",
       "                     취급액  \n",
       "방송일시                      \n",
       "2020-06-01 06:20:00  nan  \n",
       "2020-06-01 06:40:00  nan  \n",
       "2020-06-01 07:00:00  nan  \n",
       "2020-06-01 07:20:00  nan  \n",
       "2020-06-01 07:40:00  nan  \n",
       "...                  ...  \n",
       "2020-07-01 00:20:00  nan  \n",
       "2020-07-01 00:40:00  nan  \n",
       "2020-07-01 01:00:00  nan  \n",
       "2020-07-01 01:20:00  nan  \n",
       "2020-07-01 01:40:00  nan  \n",
       "\n",
       "[2891 rows x 7 columns]"
      ]
     },
     "execution_count": 10,
     "metadata": {},
     "output_type": "execute_result"
    }
   ],
   "source": [
    "data['test'] = pd.read_excel('./data/02_평가데이터/2020 빅콘테스트 데이터분석분야-챔피언리그_2020년 6월 판매실적예측데이터(평가데이터).xlsx',\n",
    "                          skiprows=1,\n",
    "                          index_col=0,\n",
    "                          )\n",
    "data['test']"
   ]
  },
  {
   "cell_type": "markdown",
   "metadata": {},
   "source": [
    "### 시청률 데이터"
   ]
  },
  {
   "cell_type": "code",
   "execution_count": 11,
   "metadata": {
    "ExecuteTime": {
     "end_time": "2020-09-22T07:19:31.467792Z",
     "start_time": "2020-09-22T07:19:26.692534Z"
    }
   },
   "outputs": [
    {
     "data": {
      "text/html": [
       "<div>\n",
       "<style scoped>\n",
       "    .dataframe tbody tr th:only-of-type {\n",
       "        vertical-align: middle;\n",
       "    }\n",
       "\n",
       "    .dataframe tbody tr th {\n",
       "        vertical-align: top;\n",
       "    }\n",
       "\n",
       "    .dataframe thead th {\n",
       "        text-align: right;\n",
       "    }\n",
       "</style>\n",
       "<table border=\"1\" class=\"dataframe\">\n",
       "  <thead>\n",
       "    <tr style=\"text-align: right;\">\n",
       "      <th></th>\n",
       "      <th>2019-01-01</th>\n",
       "      <th>2019-01-02</th>\n",
       "      <th>2019-01-03</th>\n",
       "      <th>2019-01-04</th>\n",
       "      <th>2019-01-05</th>\n",
       "      <th>2019-01-06</th>\n",
       "      <th>2019-01-07</th>\n",
       "      <th>2019-01-08</th>\n",
       "      <th>2019-01-09</th>\n",
       "      <th>2019-01-10</th>\n",
       "      <th>...</th>\n",
       "      <th>2019-12-23</th>\n",
       "      <th>2019-12-24</th>\n",
       "      <th>2019-12-25</th>\n",
       "      <th>2019-12-26</th>\n",
       "      <th>2019-12-27</th>\n",
       "      <th>2019-12-28</th>\n",
       "      <th>2019-12-29</th>\n",
       "      <th>2019-12-30</th>\n",
       "      <th>2019-12-31</th>\n",
       "      <th>2019-01-01 to 2019-12-31</th>\n",
       "    </tr>\n",
       "    <tr>\n",
       "      <th>시간대</th>\n",
       "      <th></th>\n",
       "      <th></th>\n",
       "      <th></th>\n",
       "      <th></th>\n",
       "      <th></th>\n",
       "      <th></th>\n",
       "      <th></th>\n",
       "      <th></th>\n",
       "      <th></th>\n",
       "      <th></th>\n",
       "      <th></th>\n",
       "      <th></th>\n",
       "      <th></th>\n",
       "      <th></th>\n",
       "      <th></th>\n",
       "      <th></th>\n",
       "      <th></th>\n",
       "      <th></th>\n",
       "      <th></th>\n",
       "      <th></th>\n",
       "      <th></th>\n",
       "    </tr>\n",
       "  </thead>\n",
       "  <tbody>\n",
       "    <tr>\n",
       "      <th>02:00</th>\n",
       "      <td>0.0000</td>\n",
       "      <td>0.0000</td>\n",
       "      <td>0.0000</td>\n",
       "      <td>0.0000</td>\n",
       "      <td>0.0000</td>\n",
       "      <td>0.0000</td>\n",
       "      <td>0.0000</td>\n",
       "      <td>0.0000</td>\n",
       "      <td>0.0000</td>\n",
       "      <td>0.0000</td>\n",
       "      <td>...</td>\n",
       "      <td>0.0000</td>\n",
       "      <td>0.0000</td>\n",
       "      <td>0.0000</td>\n",
       "      <td>0.0000</td>\n",
       "      <td>0.0000</td>\n",
       "      <td>0.0000</td>\n",
       "      <td>0.0000</td>\n",
       "      <td>0.0000</td>\n",
       "      <td>0.0000</td>\n",
       "      <td>0.0030</td>\n",
       "    </tr>\n",
       "    <tr>\n",
       "      <th>02:01</th>\n",
       "      <td>0.0000</td>\n",
       "      <td>0.0000</td>\n",
       "      <td>0.0000</td>\n",
       "      <td>0.0000</td>\n",
       "      <td>0.0000</td>\n",
       "      <td>0.0000</td>\n",
       "      <td>0.0000</td>\n",
       "      <td>0.0000</td>\n",
       "      <td>0.0000</td>\n",
       "      <td>0.0050</td>\n",
       "      <td>...</td>\n",
       "      <td>0.0000</td>\n",
       "      <td>0.0000</td>\n",
       "      <td>0.0000</td>\n",
       "      <td>0.0000</td>\n",
       "      <td>0.0000</td>\n",
       "      <td>0.0000</td>\n",
       "      <td>0.0000</td>\n",
       "      <td>0.0000</td>\n",
       "      <td>0.0120</td>\n",
       "      <td>0.0030</td>\n",
       "    </tr>\n",
       "    <tr>\n",
       "      <th>02:02</th>\n",
       "      <td>0.0000</td>\n",
       "      <td>0.0000</td>\n",
       "      <td>0.0000</td>\n",
       "      <td>0.0000</td>\n",
       "      <td>0.0000</td>\n",
       "      <td>0.0000</td>\n",
       "      <td>0.0000</td>\n",
       "      <td>0.0000</td>\n",
       "      <td>0.0000</td>\n",
       "      <td>0.0050</td>\n",
       "      <td>...</td>\n",
       "      <td>0.0000</td>\n",
       "      <td>0.0000</td>\n",
       "      <td>0.0000</td>\n",
       "      <td>0.0000</td>\n",
       "      <td>0.0000</td>\n",
       "      <td>0.0000</td>\n",
       "      <td>0.0000</td>\n",
       "      <td>0.0000</td>\n",
       "      <td>0.0000</td>\n",
       "      <td>0.0040</td>\n",
       "    </tr>\n",
       "    <tr>\n",
       "      <th>02:03</th>\n",
       "      <td>0.0000</td>\n",
       "      <td>0.0000</td>\n",
       "      <td>0.0140</td>\n",
       "      <td>0.0000</td>\n",
       "      <td>0.0000</td>\n",
       "      <td>0.0000</td>\n",
       "      <td>0.0000</td>\n",
       "      <td>0.0000</td>\n",
       "      <td>0.0000</td>\n",
       "      <td>0.0050</td>\n",
       "      <td>...</td>\n",
       "      <td>0.0000</td>\n",
       "      <td>0.0000</td>\n",
       "      <td>0.0170</td>\n",
       "      <td>0.0000</td>\n",
       "      <td>0.0000</td>\n",
       "      <td>0.0000</td>\n",
       "      <td>0.0000</td>\n",
       "      <td>0.0000</td>\n",
       "      <td>0.0000</td>\n",
       "      <td>0.0040</td>\n",
       "    </tr>\n",
       "    <tr>\n",
       "      <th>02:04</th>\n",
       "      <td>0.0000</td>\n",
       "      <td>0.0000</td>\n",
       "      <td>0.0000</td>\n",
       "      <td>0.0000</td>\n",
       "      <td>0.0000</td>\n",
       "      <td>0.0000</td>\n",
       "      <td>0.0000</td>\n",
       "      <td>0.0000</td>\n",
       "      <td>0.0000</td>\n",
       "      <td>0.0050</td>\n",
       "      <td>...</td>\n",
       "      <td>0.0000</td>\n",
       "      <td>0.0000</td>\n",
       "      <td>0.0170</td>\n",
       "      <td>0.0000</td>\n",
       "      <td>0.0000</td>\n",
       "      <td>0.0000</td>\n",
       "      <td>0.0000</td>\n",
       "      <td>0.0000</td>\n",
       "      <td>0.0000</td>\n",
       "      <td>0.0040</td>\n",
       "    </tr>\n",
       "    <tr>\n",
       "      <th>...</th>\n",
       "      <td>...</td>\n",
       "      <td>...</td>\n",
       "      <td>...</td>\n",
       "      <td>...</td>\n",
       "      <td>...</td>\n",
       "      <td>...</td>\n",
       "      <td>...</td>\n",
       "      <td>...</td>\n",
       "      <td>...</td>\n",
       "      <td>...</td>\n",
       "      <td>...</td>\n",
       "      <td>...</td>\n",
       "      <td>...</td>\n",
       "      <td>...</td>\n",
       "      <td>...</td>\n",
       "      <td>...</td>\n",
       "      <td>...</td>\n",
       "      <td>...</td>\n",
       "      <td>...</td>\n",
       "      <td>...</td>\n",
       "      <td>...</td>\n",
       "    </tr>\n",
       "    <tr>\n",
       "      <th>01:56</th>\n",
       "      <td>0.0000</td>\n",
       "      <td>0.0000</td>\n",
       "      <td>0.0000</td>\n",
       "      <td>0.0000</td>\n",
       "      <td>0.0270</td>\n",
       "      <td>0.0000</td>\n",
       "      <td>0.0000</td>\n",
       "      <td>0.0000</td>\n",
       "      <td>0.0000</td>\n",
       "      <td>0.0000</td>\n",
       "      <td>...</td>\n",
       "      <td>0.0130</td>\n",
       "      <td>0.0000</td>\n",
       "      <td>0.0000</td>\n",
       "      <td>0.0000</td>\n",
       "      <td>0.0150</td>\n",
       "      <td>0.0000</td>\n",
       "      <td>0.0000</td>\n",
       "      <td>0.0000</td>\n",
       "      <td>0.0000</td>\n",
       "      <td>0.0040</td>\n",
       "    </tr>\n",
       "    <tr>\n",
       "      <th>01:57</th>\n",
       "      <td>0.0000</td>\n",
       "      <td>0.0000</td>\n",
       "      <td>0.0000</td>\n",
       "      <td>0.0000</td>\n",
       "      <td>0.0000</td>\n",
       "      <td>0.0000</td>\n",
       "      <td>0.0000</td>\n",
       "      <td>0.0000</td>\n",
       "      <td>0.0040</td>\n",
       "      <td>0.0000</td>\n",
       "      <td>...</td>\n",
       "      <td>0.0130</td>\n",
       "      <td>0.0000</td>\n",
       "      <td>0.0000</td>\n",
       "      <td>0.0000</td>\n",
       "      <td>0.0150</td>\n",
       "      <td>0.0000</td>\n",
       "      <td>0.0000</td>\n",
       "      <td>0.0000</td>\n",
       "      <td>0.0000</td>\n",
       "      <td>0.0040</td>\n",
       "    </tr>\n",
       "    <tr>\n",
       "      <th>01:58</th>\n",
       "      <td>0.0000</td>\n",
       "      <td>0.0000</td>\n",
       "      <td>0.0000</td>\n",
       "      <td>0.0000</td>\n",
       "      <td>0.0000</td>\n",
       "      <td>0.0000</td>\n",
       "      <td>0.0000</td>\n",
       "      <td>0.0000</td>\n",
       "      <td>0.0040</td>\n",
       "      <td>0.0000</td>\n",
       "      <td>...</td>\n",
       "      <td>0.0130</td>\n",
       "      <td>0.0170</td>\n",
       "      <td>0.0000</td>\n",
       "      <td>0.0000</td>\n",
       "      <td>0.0150</td>\n",
       "      <td>0.0000</td>\n",
       "      <td>0.0000</td>\n",
       "      <td>0.0190</td>\n",
       "      <td>0.0000</td>\n",
       "      <td>0.0040</td>\n",
       "    </tr>\n",
       "    <tr>\n",
       "      <th>01:59</th>\n",
       "      <td>0.0000</td>\n",
       "      <td>0.0000</td>\n",
       "      <td>0.0000</td>\n",
       "      <td>0.0000</td>\n",
       "      <td>0.0000</td>\n",
       "      <td>0.0000</td>\n",
       "      <td>0.0000</td>\n",
       "      <td>0.0000</td>\n",
       "      <td>0.0040</td>\n",
       "      <td>0.0000</td>\n",
       "      <td>...</td>\n",
       "      <td>0.0130</td>\n",
       "      <td>0.0000</td>\n",
       "      <td>0.0000</td>\n",
       "      <td>0.0000</td>\n",
       "      <td>0.0150</td>\n",
       "      <td>0.0000</td>\n",
       "      <td>0.0000</td>\n",
       "      <td>0.0000</td>\n",
       "      <td>0.0000</td>\n",
       "      <td>0.0040</td>\n",
       "    </tr>\n",
       "    <tr>\n",
       "      <th>월화수목금토일02:00-01:59</th>\n",
       "      <td>0.0040</td>\n",
       "      <td>0.0060</td>\n",
       "      <td>0.0020</td>\n",
       "      <td>0.0030</td>\n",
       "      <td>0.0020</td>\n",
       "      <td>0.0030</td>\n",
       "      <td>0.0030</td>\n",
       "      <td>0.0020</td>\n",
       "      <td>0.0030</td>\n",
       "      <td>0.0020</td>\n",
       "      <td>...</td>\n",
       "      <td>0.0100</td>\n",
       "      <td>0.0060</td>\n",
       "      <td>0.0060</td>\n",
       "      <td>0.0070</td>\n",
       "      <td>0.0040</td>\n",
       "      <td>0.0060</td>\n",
       "      <td>0.0040</td>\n",
       "      <td>0.0050</td>\n",
       "      <td>0.0050</td>\n",
       "      <td>0.0040</td>\n",
       "    </tr>\n",
       "  </tbody>\n",
       "</table>\n",
       "<p>1441 rows × 366 columns</p>\n",
       "</div>"
      ],
      "text/plain": [
       "                    2019-01-01  2019-01-02  2019-01-03  2019-01-04  \\\n",
       "시간대                                                                  \n",
       "02:00                   0.0000      0.0000      0.0000      0.0000   \n",
       "02:01                   0.0000      0.0000      0.0000      0.0000   \n",
       "02:02                   0.0000      0.0000      0.0000      0.0000   \n",
       "02:03                   0.0000      0.0000      0.0140      0.0000   \n",
       "02:04                   0.0000      0.0000      0.0000      0.0000   \n",
       "...                        ...         ...         ...         ...   \n",
       "01:56                   0.0000      0.0000      0.0000      0.0000   \n",
       "01:57                   0.0000      0.0000      0.0000      0.0000   \n",
       "01:58                   0.0000      0.0000      0.0000      0.0000   \n",
       "01:59                   0.0000      0.0000      0.0000      0.0000   \n",
       "월화수목금토일02:00-01:59      0.0040      0.0060      0.0020      0.0030   \n",
       "\n",
       "                    2019-01-05  2019-01-06  2019-01-07  2019-01-08  \\\n",
       "시간대                                                                  \n",
       "02:00                   0.0000      0.0000      0.0000      0.0000   \n",
       "02:01                   0.0000      0.0000      0.0000      0.0000   \n",
       "02:02                   0.0000      0.0000      0.0000      0.0000   \n",
       "02:03                   0.0000      0.0000      0.0000      0.0000   \n",
       "02:04                   0.0000      0.0000      0.0000      0.0000   \n",
       "...                        ...         ...         ...         ...   \n",
       "01:56                   0.0270      0.0000      0.0000      0.0000   \n",
       "01:57                   0.0000      0.0000      0.0000      0.0000   \n",
       "01:58                   0.0000      0.0000      0.0000      0.0000   \n",
       "01:59                   0.0000      0.0000      0.0000      0.0000   \n",
       "월화수목금토일02:00-01:59      0.0020      0.0030      0.0030      0.0020   \n",
       "\n",
       "                    2019-01-09  2019-01-10  ...  2019-12-23  2019-12-24  \\\n",
       "시간대                                         ...                           \n",
       "02:00                   0.0000      0.0000  ...      0.0000      0.0000   \n",
       "02:01                   0.0000      0.0050  ...      0.0000      0.0000   \n",
       "02:02                   0.0000      0.0050  ...      0.0000      0.0000   \n",
       "02:03                   0.0000      0.0050  ...      0.0000      0.0000   \n",
       "02:04                   0.0000      0.0050  ...      0.0000      0.0000   \n",
       "...                        ...         ...  ...         ...         ...   \n",
       "01:56                   0.0000      0.0000  ...      0.0130      0.0000   \n",
       "01:57                   0.0040      0.0000  ...      0.0130      0.0000   \n",
       "01:58                   0.0040      0.0000  ...      0.0130      0.0170   \n",
       "01:59                   0.0040      0.0000  ...      0.0130      0.0000   \n",
       "월화수목금토일02:00-01:59      0.0030      0.0020  ...      0.0100      0.0060   \n",
       "\n",
       "                    2019-12-25  2019-12-26  2019-12-27  2019-12-28  \\\n",
       "시간대                                                                  \n",
       "02:00                   0.0000      0.0000      0.0000      0.0000   \n",
       "02:01                   0.0000      0.0000      0.0000      0.0000   \n",
       "02:02                   0.0000      0.0000      0.0000      0.0000   \n",
       "02:03                   0.0170      0.0000      0.0000      0.0000   \n",
       "02:04                   0.0170      0.0000      0.0000      0.0000   \n",
       "...                        ...         ...         ...         ...   \n",
       "01:56                   0.0000      0.0000      0.0150      0.0000   \n",
       "01:57                   0.0000      0.0000      0.0150      0.0000   \n",
       "01:58                   0.0000      0.0000      0.0150      0.0000   \n",
       "01:59                   0.0000      0.0000      0.0150      0.0000   \n",
       "월화수목금토일02:00-01:59      0.0060      0.0070      0.0040      0.0060   \n",
       "\n",
       "                    2019-12-29  2019-12-30  2019-12-31  \\\n",
       "시간대                                                      \n",
       "02:00                   0.0000      0.0000      0.0000   \n",
       "02:01                   0.0000      0.0000      0.0120   \n",
       "02:02                   0.0000      0.0000      0.0000   \n",
       "02:03                   0.0000      0.0000      0.0000   \n",
       "02:04                   0.0000      0.0000      0.0000   \n",
       "...                        ...         ...         ...   \n",
       "01:56                   0.0000      0.0000      0.0000   \n",
       "01:57                   0.0000      0.0000      0.0000   \n",
       "01:58                   0.0000      0.0190      0.0000   \n",
       "01:59                   0.0000      0.0000      0.0000   \n",
       "월화수목금토일02:00-01:59      0.0040      0.0050      0.0050   \n",
       "\n",
       "                    2019-01-01 to 2019-12-31  \n",
       "시간대                                           \n",
       "02:00                                 0.0030  \n",
       "02:01                                 0.0030  \n",
       "02:02                                 0.0040  \n",
       "02:03                                 0.0040  \n",
       "02:04                                 0.0040  \n",
       "...                                      ...  \n",
       "01:56                                 0.0040  \n",
       "01:57                                 0.0040  \n",
       "01:58                                 0.0040  \n",
       "01:59                                 0.0040  \n",
       "월화수목금토일02:00-01:59                    0.0040  \n",
       "\n",
       "[1441 rows x 366 columns]"
      ]
     },
     "execution_count": 11,
     "metadata": {},
     "output_type": "execute_result"
    }
   ],
   "source": [
    "data['rating'] = pd.read_excel('./data/01_제공데이터/2020 빅콘테스트 데이터분석분야-챔피언리그_시청률 데이터.xlsx',\n",
    "                          skiprows=1,\n",
    "                          index_col=0,\n",
    "                          )\n",
    "data['rating']"
   ]
  },
  {
   "cell_type": "markdown",
   "metadata": {},
   "source": [
    "---\n",
    "\n",
    "## 데이터 전처리(Data Preprocessing)"
   ]
  },
  {
   "cell_type": "markdown",
   "metadata": {},
   "source": [
    "### 결측치 확인하기"
   ]
  },
  {
   "cell_type": "code",
   "execution_count": 12,
   "metadata": {
    "ExecuteTime": {
     "end_time": "2020-09-22T07:19:31.838324Z",
     "start_time": "2020-09-22T07:19:31.469796Z"
    }
   },
   "outputs": [
    {
     "data": {
      "image/png": "[encoded data removed]",
      "text/plain": [
       "<Figure size 1800x720 with 2 Axes>"
      ]
     },
     "metadata": {},
     "output_type": "display_data"
    }
   ],
   "source": [
    "msno.matrix(data['train'])\n",
    "plt.show()"
   ]
  },
  {
   "cell_type": "code",
   "execution_count": 13,
   "metadata": {
    "ExecuteTime": {
     "end_time": "2020-09-22T07:19:32.134492Z",
     "start_time": "2020-09-22T07:19:31.839324Z"
    }
   },
   "outputs": [
    {
     "data": {
      "image/png": "[encoded data removed]",
      "text/plain": [
       "<Figure size 1800x720 with 2 Axes>"
      ]
     },
     "metadata": {},
     "output_type": "display_data"
    }
   ],
   "source": [
    "msno.matrix(data['test'])\n",
    "plt.show()"
   ]
  },
  {
   "cell_type": "markdown",
   "metadata": {},
   "source": [
    "### 방송시간에서 세부 시간 추출"
   ]
  },
  {
   "cell_type": "code",
   "execution_count": 14,
   "metadata": {
    "ExecuteTime": {
     "end_time": "2020-09-22T07:19:32.459064Z",
     "start_time": "2020-09-22T07:19:32.136490Z"
    }
   },
   "outputs": [],
   "source": [
    "data['train']['연'] = data['train'].index.map(lambda x: x.year)\n",
    "data['train']['월'] = data['train'].index.map(lambda x: x.month)\n",
    "data['train']['일'] = data['train'].index.map(lambda x: x.day)\n",
    "data['train']['시'] = data['train'].index.map(lambda x: x.hour)\n",
    "data['train']['분'] = data['train'].index.map(lambda x: x.minute)\n",
    "data['train']['요일'] = data['train'].index.map(lambda x: calendar.day_abbr[x.weekday()])"
   ]
  },
  {
   "cell_type": "code",
   "execution_count": 15,
   "metadata": {
    "ExecuteTime": {
     "end_time": "2020-09-22T07:19:32.490583Z",
     "start_time": "2020-09-22T07:19:32.461065Z"
    }
   },
   "outputs": [],
   "source": [
    "data['test']['연'] = data['test'].index.map(lambda x: x.year)\n",
    "data['test']['월'] = data['test'].index.map(lambda x: x.month)\n",
    "data['test']['일'] = data['test'].index.map(lambda x: x.day)\n",
    "data['test']['시'] = data['test'].index.map(lambda x: x.hour)\n",
    "data['test']['분'] = data['test'].index.map(lambda x: x.minute)\n",
    "data['test']['요일'] = data['test'].index.map(lambda x: calendar.day_abbr[x.weekday()])"
   ]
  },
  {
   "cell_type": "code",
   "execution_count": 16,
   "metadata": {
    "ExecuteTime": {
     "end_time": "2020-09-22T07:19:32.500584Z",
     "start_time": "2020-09-22T07:19:32.491583Z"
    }
   },
   "outputs": [],
   "source": [
    "data['train']['주'] = data['train'].index.map(lambda x: x.week)\n",
    "data['test']['주'] = data['test'].index.map(lambda x: x.week)"
   ]
  },
  {
   "cell_type": "markdown",
   "metadata": {},
   "source": [
    "### 노출시간 결측치 처리"
   ]
  },
  {
   "cell_type": "code",
   "execution_count": 17,
   "metadata": {
    "ExecuteTime": {
     "end_time": "2020-09-22T07:19:32.521583Z",
     "start_time": "2020-09-22T07:19:32.502585Z"
    }
   },
   "outputs": [],
   "source": [
    "# 노출시간이 비어있을땐 앞을 보면 됨\n",
    "data['train'] = data['train'].fillna(method='ffill')\n",
    "data['test'] = data['test'].fillna(method='ffill')"
   ]
  },
  {
   "cell_type": "markdown",
   "metadata": {},
   "source": [
    "### 자연어처리(Natural Language Processing)"
   ]
  },
  {
   "cell_type": "markdown",
   "metadata": {},
   "source": [
    "주어진 데이터에서 가장 핵심이 되는 특성은 **상품명**에 있다고 판단하였습니다. 상품명은 비록 한 열로 이루어져있지만, 상품명 자체로부터 뽑아낼 수 있는 특성이 다양하다고 생각했습니다. 예컨대, \"테이트 남성 셀린니트3종\"의 경우는 남성복이라는 특징과 테이트라는 브랜드, 니트라는 옷의 종류 등 뽑아낼 수 있는 정보가 다양합니다. 그러나 이를 뽑아내는 방법에 있어서 일반적인 방법이 존재하지 않습니다. 컴퓨터에게 직접 규칙기반 방법으로 남성과 여성, 무이자와 일시불과 같은 특성을 뽑도록 지시할 수는 있지만 이 지시하는 명령 자체를 만들기 위해서는 사람이 하나하나 전체 상품명을 살펴보며 적절한 특성을 생각해내야 한다는 치명적인 단점이 존재합니다. <br>\n",
    "저희는 이런 문제를 타결하기 위해 **자연어처리** 기술을 사용하였습니다. 이 기술로부터 저희가 달성하고자 하는 목표는 두 가지 입니다.\n",
    "+ ㄴㄴ\n",
    "<br></br><br/>\n",
    "\\t rmfotj"
   ]
  },
  {
   "cell_type": "markdown",
   "metadata": {},
   "source": [
    "#### 유의미한 글자 추출"
   ]
  },
  {
   "cell_type": "code",
   "execution_count": 18,
   "metadata": {
    "ExecuteTime": {
     "end_time": "2020-09-22T07:19:33.133627Z",
     "start_time": "2020-09-22T07:19:33.128628Z"
    }
   },
   "outputs": [],
   "source": [
    "def re_sub(series: pd.Series) -> pd.Series:\n",
    "    series = series.str.replace(pat=r'[ㄱ-ㅎ]', repl=r'', regex=True)  # ㅋ 제거용\n",
    "    series = series.str.replace(pat=r'[^\\w\\s]', repl=r'', regex=True)  # 특수문자 제거\n",
    "    series = series.str.replace(pat=r'[ ]{2,}', repl=r' ', regex=True)  # 공백 제거\n",
    "    series = series.str.replace(pat=r'[\\u3000]+', repl=r'', regex=True)  # u3000 제거\n",
    "    return series"
   ]
  },
  {
   "cell_type": "code",
   "execution_count": 19,
   "metadata": {
    "ExecuteTime": {
     "end_time": "2020-09-22T07:19:33.897365Z",
     "start_time": "2020-09-22T07:19:33.766851Z"
    }
   },
   "outputs": [],
   "source": [
    "train = data['train'][['상품명', '상품군']].copy()\n",
    "train.상품명 = re_sub(train.상품명)"
   ]
  },
  {
   "cell_type": "code",
   "execution_count": 20,
   "metadata": {
    "ExecuteTime": {
     "end_time": "2020-09-22T07:19:34.422699Z",
     "start_time": "2020-09-22T07:19:34.407111Z"
    }
   },
   "outputs": [],
   "source": [
    "test = data['test'][['상품명', '상품군']].copy()\n",
    "test.상품명 = re_sub(test.상품명)"
   ]
  },
  {
   "cell_type": "markdown",
   "metadata": {},
   "source": [
    "#### 무형 상품군 - 결측치 제거 처리"
   ]
  },
  {
   "cell_type": "code",
   "execution_count": 21,
   "metadata": {
    "ExecuteTime": {
     "end_time": "2020-09-22T07:19:35.172340Z",
     "start_time": "2020-09-22T07:19:35.143827Z"
    }
   },
   "outputs": [],
   "source": [
    "prod_names = (train[train.상품군 != '무형'].상품명 + ' ' + train[train.상품군 != '무형'].상품군).values # len(prod_names) > 1692 (무형 빼고)\n",
    "prod_names_test = (test[test.상품군 != '무형'].상품명 + ' ' + test[test.상품군 != '무형'].상품군).values # len(prod_names) > 1692 (무형 빼고)"
   ]
  },
  {
   "cell_type": "code",
   "execution_count": 22,
   "metadata": {
    "ExecuteTime": {
     "end_time": "2020-09-22T07:19:35.891436Z",
     "start_time": "2020-09-22T07:19:35.887436Z"
    }
   },
   "outputs": [
    {
     "data": {
      "text/plain": [
       "(37368, 2716)"
      ]
     },
     "execution_count": 22,
     "metadata": {},
     "output_type": "execute_result"
    }
   ],
   "source": [
    "len(prod_names), len(prod_names_test)"
   ]
  },
  {
   "cell_type": "markdown",
   "metadata": {},
   "source": [
    "#### KOMORAN을 통하여 형태소 분석"
   ]
  },
  {
   "cell_type": "code",
   "execution_count": 23,
   "metadata": {
    "ExecuteTime": {
     "end_time": "2020-09-22T07:19:55.425810Z",
     "start_time": "2020-09-22T07:19:36.879293Z"
    }
   },
   "outputs": [
    {
     "name": "stdout",
     "output_type": "stream",
     "text": [
      "['한국어', '형태소', '분석기']\n"
     ]
    }
   ],
   "source": [
    "komoran = Komoran(userdic='./data/04_추가데이터/user_dict_0913.txt')\n",
    "print(komoran.nouns(\"KOMORAN은 한국어 형태소 분석기입니다.\"))\n",
    "\n",
    "naive_tokens = list(map(komoran.pos, prod_names))\n",
    "naive_tokens_test = list(map(komoran.pos, prod_names_test))"
   ]
  },
  {
   "cell_type": "code",
   "execution_count": 24,
   "metadata": {
    "ExecuteTime": {
     "end_time": "2020-09-22T07:19:55.562317Z",
     "start_time": "2020-09-22T07:19:55.426803Z"
    }
   },
   "outputs": [],
   "source": [
    "def morph_filter(lst):\n",
    "    return list(map(lambda x: x[0], filter(lambda x: (x[1] in usable_morphs), lst)))\n",
    "\n",
    "usable_morphs = ['NNG', 'NNP', 'NP', 'NR'] #+ ['SL', 'SN']\n",
    "naive_tokens = list(map(morph_filter, naive_tokens))\n",
    "naive_tokens_test = list(map(morph_filter, naive_tokens_test))"
   ]
  },
  {
   "cell_type": "code",
   "execution_count": 25,
   "metadata": {
    "ExecuteTime": {
     "end_time": "2020-09-22T07:19:55.624376Z",
     "start_time": "2020-09-22T07:19:55.563316Z"
    }
   },
   "outputs": [],
   "source": [
    "exclude_words = ['종', '인용']\n",
    "def exclude(lst):\n",
    "    return list(filter(lambda x: x not in exclude_words, lst))\n",
    "processed_tokens = list(map(exclude, naive_tokens))\n",
    "processed_tokens_test = list(map(exclude, naive_tokens_test))"
   ]
  },
  {
   "cell_type": "code",
   "execution_count": 26,
   "metadata": {
    "ExecuteTime": {
     "end_time": "2020-09-22T07:19:55.630318Z",
     "start_time": "2020-09-22T07:19:55.625348Z"
    }
   },
   "outputs": [
    {
     "data": {
      "text/plain": [
       "[['테이트', '남성', '셀린니트', '의류'],\n",
       " ['테이트', '여성', '셀린니트', '의류'],\n",
       " ['테이트', '남성', '셀린니트', '의류'],\n",
       " ['테이트', '여성', '셀린니트', '의류'],\n",
       " ['테이트', '남성', '셀린니트', '의류'],\n",
       " ['테이트', '여성', '셀린니트', '의류'],\n",
       " ['오모떼', '레이스', '파운데이션', '브라', '속옷'],\n",
       " ['오모떼', '레이스', '파운데이션', '브라', '속옷'],\n",
       " ['오모떼', '레이스', '파운데이션', '브라', '속옷'],\n",
       " ['CERINI', 'PAT', '남성', '소프트', '기모', '릴렉스', '팬츠', '의류']]"
      ]
     },
     "execution_count": 26,
     "metadata": {},
     "output_type": "execute_result"
    }
   ],
   "source": [
    "processed_tokens[:10]"
   ]
  },
  {
   "cell_type": "code",
   "execution_count": 27,
   "metadata": {
    "ExecuteTime": {
     "end_time": "2020-09-22T07:19:55.640316Z",
     "start_time": "2020-09-22T07:19:55.632319Z"
    }
   },
   "outputs": [
    {
     "data": {
      "text/plain": [
       "[['잭', '필드', '남성', '반팔', '셔츠', '의류'],\n",
       " ['잭', '필드', '남성', '반팔', '셔츠', '의류'],\n",
       " ['잭', '필드', '남성', '반팔', '셔츠', '의류'],\n",
       " ['쿠미투니카', '쿠', '레이시', '란쥬쉐이퍼', '팬티', '속옷'],\n",
       " ['쿠미투니카', '쿠', '레이시', '란쥬쉐이퍼', '팬티', '속옷'],\n",
       " ['쿠미투니카', '쿠', '레이시', '란쥬쉐이퍼', '팬티', '속옷'],\n",
       " ['바비리스', '퍼펙트', '볼륨', '스타일러', '이미용'],\n",
       " ['바비리스', '퍼펙트', '볼륨', '스타일러', '이미용'],\n",
       " ['바비리스', '퍼펙트', '볼륨', '스타일러', '이미용'],\n",
       " ['램프쿡', '자동', '회전', '냄비', '주방']]"
      ]
     },
     "execution_count": 27,
     "metadata": {},
     "output_type": "execute_result"
    }
   ],
   "source": [
    "processed_tokens_test[:10]"
   ]
  },
  {
   "cell_type": "markdown",
   "metadata": {},
   "source": [
    "#### 임베딩벡터 생성"
   ]
  },
  {
   "cell_type": "code",
   "execution_count": 28,
   "metadata": {
    "ExecuteTime": {
     "end_time": "2020-09-22T07:19:56.603858Z",
     "start_time": "2020-09-22T07:19:55.641317Z"
    }
   },
   "outputs": [],
   "source": [
    "model_w2v = Word2Vec(sentences=processed_tokens, size=10, window=6, min_count=5, workers=4, sg=1)\n",
    "word_vectors = model_w2v.wv\n",
    "vocabs = word_vectors.vocab.keys()\n",
    "word_vectors_list = [word_vectors[v] for v in vocabs]"
   ]
  },
  {
   "cell_type": "code",
   "execution_count": 29,
   "metadata": {
    "ExecuteTime": {
     "end_time": "2020-09-22T07:19:56.607854Z",
     "start_time": "2020-09-22T07:19:56.604851Z"
    }
   },
   "outputs": [],
   "source": [
    "def sum_embed(lst):\n",
    "    wv = []\n",
    "    for word in lst:\n",
    "        try:\n",
    "            wv.append(word_vectors[word])\n",
    "        except:\n",
    "            pass\n",
    "    return sum(wv)"
   ]
  },
  {
   "cell_type": "code",
   "execution_count": 30,
   "metadata": {
    "ExecuteTime": {
     "end_time": "2020-09-22T07:19:57.020465Z",
     "start_time": "2020-09-22T07:19:56.608854Z"
    }
   },
   "outputs": [],
   "source": [
    "embedded_tokens = list(map(sum_embed, processed_tokens))\n",
    "embedded_tokens_test = list(map(sum_embed, processed_tokens_test))"
   ]
  },
  {
   "cell_type": "markdown",
   "metadata": {},
   "source": [
    "#### PCA를 통하여 차원 축소"
   ]
  },
  {
   "cell_type": "code",
   "execution_count": 31,
   "metadata": {
    "ExecuteTime": {
     "end_time": "2020-09-22T07:19:57.081033Z",
     "start_time": "2020-09-22T07:19:57.021439Z"
    }
   },
   "outputs": [
    {
     "name": "stdout",
     "output_type": "stream",
     "text": [
      "Wall time: 56.6 ms\n"
     ]
    }
   ],
   "source": [
    "%%time\n",
    "pca = PCA(n_components=10)\n",
    "pca.fit(embedded_tokens)\n",
    "xys = pca.transform(embedded_tokens)\n",
    "xys_test = pca.transform(embedded_tokens_test)"
   ]
  },
  {
   "cell_type": "code",
   "execution_count": 32,
   "metadata": {
    "ExecuteTime": {
     "end_time": "2020-09-22T07:19:57.085033Z",
     "start_time": "2020-09-22T07:19:57.082033Z"
    }
   },
   "outputs": [
    {
     "data": {
      "text/plain": [
       "(37368, 10)"
      ]
     },
     "execution_count": 32,
     "metadata": {},
     "output_type": "execute_result"
    }
   ],
   "source": [
    "xys.shape  # 무형 제외"
   ]
  },
  {
   "cell_type": "code",
   "execution_count": 33,
   "metadata": {
    "ExecuteTime": {
     "end_time": "2020-09-22T07:19:57.092034Z",
     "start_time": "2020-09-22T07:19:57.086033Z"
    }
   },
   "outputs": [
    {
     "data": {
      "text/plain": [
       "(2716, 10)"
      ]
     },
     "execution_count": 33,
     "metadata": {},
     "output_type": "execute_result"
    }
   ],
   "source": [
    "xys_test.shape  # 무형 제외"
   ]
  },
  {
   "cell_type": "markdown",
   "metadata": {},
   "source": [
    "---\n",
    "\n",
    "## 탐색적 데이터 분석(Exploratory Data Analysis)"
   ]
  },
  {
   "cell_type": "markdown",
   "metadata": {},
   "source": [
    "### 데이터 형태"
   ]
  },
  {
   "cell_type": "code",
   "execution_count": 34,
   "metadata": {
    "ExecuteTime": {
     "end_time": "2020-09-22T07:19:57.355034Z",
     "start_time": "2020-09-22T07:19:57.349033Z"
    }
   },
   "outputs": [
    {
     "data": {
      "text/plain": [
       "(38300, 14)"
      ]
     },
     "execution_count": 34,
     "metadata": {},
     "output_type": "execute_result"
    }
   ],
   "source": [
    "data['train'].shape"
   ]
  },
  {
   "cell_type": "code",
   "execution_count": 35,
   "metadata": {
    "ExecuteTime": {
     "end_time": "2020-09-22T07:19:58.182769Z",
     "start_time": "2020-09-22T07:19:58.177776Z"
    }
   },
   "outputs": [
    {
     "data": {
      "text/plain": [
       "(2891, 14)"
      ]
     },
     "execution_count": 35,
     "metadata": {},
     "output_type": "execute_result"
    }
   ],
   "source": [
    "data['test'].shape"
   ]
  },
  {
   "cell_type": "markdown",
   "metadata": {},
   "source": [
    "### 데이터의 컬럼"
   ]
  },
  {
   "cell_type": "code",
   "execution_count": 36,
   "metadata": {
    "ExecuteTime": {
     "end_time": "2020-09-22T07:19:59.190289Z",
     "start_time": "2020-09-22T07:19:59.185290Z"
    }
   },
   "outputs": [
    {
     "data": {
      "text/plain": [
       "Index(['노출(분)', '마더코드', '상품코드', '상품명', '상품군', '판매단가', '취급액', '연', '월', '일',\n",
       "       '시', '분', '요일', '주'],\n",
       "      dtype='object')"
      ]
     },
     "execution_count": 36,
     "metadata": {},
     "output_type": "execute_result"
    }
   ],
   "source": [
    "data['train'].columns"
   ]
  },
  {
   "cell_type": "code",
   "execution_count": 37,
   "metadata": {
    "ExecuteTime": {
     "end_time": "2020-09-22T07:19:59.847432Z",
     "start_time": "2020-09-22T07:19:59.842460Z"
    }
   },
   "outputs": [
    {
     "data": {
      "text/plain": [
       "Index(['노출(분)', '마더코드', '상품코드', '상품명', '상품군', '판매단가', '취급액', '연', '월', '일',\n",
       "       '시', '분', '요일', '주'],\n",
       "      dtype='object')"
      ]
     },
     "execution_count": 37,
     "metadata": {},
     "output_type": "execute_result"
    }
   ],
   "source": [
    "data['test'].columns"
   ]
  },
  {
   "cell_type": "markdown",
   "metadata": {},
   "source": [
    "### 데이터 타입"
   ]
  },
  {
   "cell_type": "code",
   "execution_count": 38,
   "metadata": {
    "ExecuteTime": {
     "end_time": "2020-09-22T07:20:01.780925Z",
     "start_time": "2020-09-22T07:20:01.768895Z"
    }
   },
   "outputs": [
    {
     "name": "stdout",
     "output_type": "stream",
     "text": [
      "<class 'pandas.core.frame.DataFrame'>\n",
      "DatetimeIndex: 38300 entries, 2019-01-01 06:00:00 to 2019-12-31 23:40:00\n",
      "Data columns (total 14 columns):\n",
      " #   Column  Non-Null Count  Dtype  \n",
      "---  ------  --------------  -----  \n",
      " 0   노출(분)   38300 non-null  float64\n",
      " 1   마더코드    38300 non-null  int64  \n",
      " 2   상품코드    38300 non-null  int64  \n",
      " 3   상품명     38300 non-null  object \n",
      " 4   상품군     38300 non-null  object \n",
      " 5   판매단가    38300 non-null  int64  \n",
      " 6   취급액     38300 non-null  float64\n",
      " 7   연       38300 non-null  int64  \n",
      " 8   월       38300 non-null  int64  \n",
      " 9   일       38300 non-null  int64  \n",
      " 10  시       38300 non-null  int64  \n",
      " 11  분       38300 non-null  int64  \n",
      " 12  요일      38300 non-null  object \n",
      " 13  주       38300 non-null  int64  \n",
      "dtypes: float64(2), int64(9), object(3)\n",
      "memory usage: 4.4+ MB\n"
     ]
    }
   ],
   "source": [
    "data['train'].info()"
   ]
  },
  {
   "cell_type": "code",
   "execution_count": 39,
   "metadata": {
    "ExecuteTime": {
     "end_time": "2020-09-22T07:20:04.088028Z",
     "start_time": "2020-09-22T07:20:04.079028Z"
    }
   },
   "outputs": [
    {
     "name": "stdout",
     "output_type": "stream",
     "text": [
      "<class 'pandas.core.frame.DataFrame'>\n",
      "DatetimeIndex: 2891 entries, 2020-06-01 06:20:00 to 2020-07-01 01:40:00\n",
      "Data columns (total 14 columns):\n",
      " #   Column  Non-Null Count  Dtype  \n",
      "---  ------  --------------  -----  \n",
      " 0   노출(분)   2891 non-null   float64\n",
      " 1   마더코드    2891 non-null   int64  \n",
      " 2   상품코드    2891 non-null   int64  \n",
      " 3   상품명     2891 non-null   object \n",
      " 4   상품군     2891 non-null   object \n",
      " 5   판매단가    2891 non-null   int64  \n",
      " 6   취급액     0 non-null      float64\n",
      " 7   연       2891 non-null   int64  \n",
      " 8   월       2891 non-null   int64  \n",
      " 9   일       2891 non-null   int64  \n",
      " 10  시       2891 non-null   int64  \n",
      " 11  분       2891 non-null   int64  \n",
      " 12  요일      2891 non-null   object \n",
      " 13  주       2891 non-null   int64  \n",
      "dtypes: float64(2), int64(9), object(3)\n",
      "memory usage: 338.8+ KB\n"
     ]
    }
   ],
   "source": [
    "data['test'].info()"
   ]
  },
  {
   "cell_type": "markdown",
   "metadata": {},
   "source": [
    "### 데이터 기초 통계량"
   ]
  },
  {
   "cell_type": "code",
   "execution_count": 40,
   "metadata": {
    "ExecuteTime": {
     "end_time": "2020-09-22T07:20:05.254859Z",
     "start_time": "2020-09-22T07:20:05.040154Z"
    }
   },
   "outputs": [
    {
     "data": {
      "text/html": [
       "<div>\n",
       "<style scoped>\n",
       "    .dataframe tbody tr th:only-of-type {\n",
       "        vertical-align: middle;\n",
       "    }\n",
       "\n",
       "    .dataframe tbody tr th {\n",
       "        vertical-align: top;\n",
       "    }\n",
       "\n",
       "    .dataframe thead th {\n",
       "        text-align: right;\n",
       "    }\n",
       "</style>\n",
       "<table border=\"1\" class=\"dataframe\">\n",
       "  <thead>\n",
       "    <tr style=\"text-align: right;\">\n",
       "      <th></th>\n",
       "      <th>노출(분)</th>\n",
       "      <th>마더코드</th>\n",
       "      <th>상품코드</th>\n",
       "      <th>판매단가</th>\n",
       "      <th>취급액</th>\n",
       "      <th>연</th>\n",
       "      <th>월</th>\n",
       "      <th>일</th>\n",
       "      <th>시</th>\n",
       "      <th>분</th>\n",
       "      <th>주</th>\n",
       "    </tr>\n",
       "  </thead>\n",
       "  <tbody>\n",
       "    <tr>\n",
       "      <th>count</th>\n",
       "      <td>38300.0000</td>\n",
       "      <td>38300.0000</td>\n",
       "      <td>38300.0000</td>\n",
       "      <td>38300.0000</td>\n",
       "      <td>38300.0000</td>\n",
       "      <td>38300.0000</td>\n",
       "      <td>38300.0000</td>\n",
       "      <td>38300.0000</td>\n",
       "      <td>38300.0000</td>\n",
       "      <td>38300.0000</td>\n",
       "      <td>38300.0000</td>\n",
       "    </tr>\n",
       "    <tr>\n",
       "      <th>mean</th>\n",
       "      <td>20.4451</td>\n",
       "      <td>100390.9859</td>\n",
       "      <td>201219.9726</td>\n",
       "      <td>456644.0078</td>\n",
       "      <td>22373592.6632</td>\n",
       "      <td>2019.0000</td>\n",
       "      <td>6.5153</td>\n",
       "      <td>15.4037</td>\n",
       "      <td>14.2717</td>\n",
       "      <td>20.0796</td>\n",
       "      <td>26.3793</td>\n",
       "    </tr>\n",
       "    <tr>\n",
       "      <th>std</th>\n",
       "      <td>3.4164</td>\n",
       "      <td>249.9397</td>\n",
       "      <td>735.7036</td>\n",
       "      <td>726115.8633</td>\n",
       "      <td>20940284.8075</td>\n",
       "      <td>0.0000</td>\n",
       "      <td>3.3790</td>\n",
       "      <td>8.7103</td>\n",
       "      <td>6.6986</td>\n",
       "      <td>16.4020</td>\n",
       "      <td>14.7418</td>\n",
       "    </tr>\n",
       "    <tr>\n",
       "      <th>min</th>\n",
       "      <td>2.4667</td>\n",
       "      <td>100000.0000</td>\n",
       "      <td>200000.0000</td>\n",
       "      <td>0.0000</td>\n",
       "      <td>50000.0000</td>\n",
       "      <td>2019.0000</td>\n",
       "      <td>1.0000</td>\n",
       "      <td>1.0000</td>\n",
       "      <td>0.0000</td>\n",
       "      <td>0.0000</td>\n",
       "      <td>1.0000</td>\n",
       "    </tr>\n",
       "    <tr>\n",
       "      <th>25%</th>\n",
       "      <td>20.0000</td>\n",
       "      <td>100155.0000</td>\n",
       "      <td>200550.0000</td>\n",
       "      <td>59000.0000</td>\n",
       "      <td>6962000.0000</td>\n",
       "      <td>2019.0000</td>\n",
       "      <td>4.0000</td>\n",
       "      <td>8.0000</td>\n",
       "      <td>10.0000</td>\n",
       "      <td>0.0000</td>\n",
       "      <td>14.0000</td>\n",
       "    </tr>\n",
       "    <tr>\n",
       "      <th>50%</th>\n",
       "      <td>20.0000</td>\n",
       "      <td>100346.0000</td>\n",
       "      <td>201167.0000</td>\n",
       "      <td>109000.0000</td>\n",
       "      <td>16403000.0000</td>\n",
       "      <td>2019.0000</td>\n",
       "      <td>6.0000</td>\n",
       "      <td>15.0000</td>\n",
       "      <td>15.0000</td>\n",
       "      <td>20.0000</td>\n",
       "      <td>26.0000</td>\n",
       "    </tr>\n",
       "    <tr>\n",
       "      <th>75%</th>\n",
       "      <td>20.0000</td>\n",
       "      <td>100596.0000</td>\n",
       "      <td>201863.0000</td>\n",
       "      <td>499000.0000</td>\n",
       "      <td>32275000.0000</td>\n",
       "      <td>2019.0000</td>\n",
       "      <td>9.0000</td>\n",
       "      <td>23.0000</td>\n",
       "      <td>21.0000</td>\n",
       "      <td>40.0000</td>\n",
       "      <td>39.0000</td>\n",
       "    </tr>\n",
       "    <tr>\n",
       "      <th>max</th>\n",
       "      <td>60.0000</td>\n",
       "      <td>100849.0000</td>\n",
       "      <td>202513.0000</td>\n",
       "      <td>7930000.0000</td>\n",
       "      <td>322009000.0000</td>\n",
       "      <td>2019.0000</td>\n",
       "      <td>12.0000</td>\n",
       "      <td>31.0000</td>\n",
       "      <td>23.0000</td>\n",
       "      <td>50.0000</td>\n",
       "      <td>52.0000</td>\n",
       "    </tr>\n",
       "  </tbody>\n",
       "</table>\n",
       "</div>"
      ],
      "text/plain": [
       "           노출(분)        마더코드        상품코드         판매단가            취급액  \\\n",
       "count 38300.0000  38300.0000  38300.0000   38300.0000     38300.0000   \n",
       "mean     20.4451 100390.9859 201219.9726  456644.0078  22373592.6632   \n",
       "std       3.4164    249.9397    735.7036  726115.8633  20940284.8075   \n",
       "min       2.4667 100000.0000 200000.0000       0.0000     50000.0000   \n",
       "25%      20.0000 100155.0000 200550.0000   59000.0000   6962000.0000   \n",
       "50%      20.0000 100346.0000 201167.0000  109000.0000  16403000.0000   \n",
       "75%      20.0000 100596.0000 201863.0000  499000.0000  32275000.0000   \n",
       "max      60.0000 100849.0000 202513.0000 7930000.0000 322009000.0000   \n",
       "\n",
       "               연          월          일          시          분          주  \n",
       "count 38300.0000 38300.0000 38300.0000 38300.0000 38300.0000 38300.0000  \n",
       "mean   2019.0000     6.5153    15.4037    14.2717    20.0796    26.3793  \n",
       "std       0.0000     3.3790     8.7103     6.6986    16.4020    14.7418  \n",
       "min    2019.0000     1.0000     1.0000     0.0000     0.0000     1.0000  \n",
       "25%    2019.0000     4.0000     8.0000    10.0000     0.0000    14.0000  \n",
       "50%    2019.0000     6.0000    15.0000    15.0000    20.0000    26.0000  \n",
       "75%    2019.0000     9.0000    23.0000    21.0000    40.0000    39.0000  \n",
       "max    2019.0000    12.0000    31.0000    23.0000    50.0000    52.0000  "
      ]
     },
     "execution_count": 40,
     "metadata": {},
     "output_type": "execute_result"
    }
   ],
   "source": [
    "data['train'].describe()"
   ]
  },
  {
   "cell_type": "code",
   "execution_count": 41,
   "metadata": {
    "ExecuteTime": {
     "end_time": "2020-09-22T07:20:05.366859Z",
     "start_time": "2020-09-22T07:20:05.336884Z"
    }
   },
   "outputs": [
    {
     "data": {
      "text/html": [
       "<div>\n",
       "<style scoped>\n",
       "    .dataframe tbody tr th:only-of-type {\n",
       "        vertical-align: middle;\n",
       "    }\n",
       "\n",
       "    .dataframe tbody tr th {\n",
       "        vertical-align: top;\n",
       "    }\n",
       "\n",
       "    .dataframe thead th {\n",
       "        text-align: right;\n",
       "    }\n",
       "</style>\n",
       "<table border=\"1\" class=\"dataframe\">\n",
       "  <thead>\n",
       "    <tr style=\"text-align: right;\">\n",
       "      <th></th>\n",
       "      <th>노출(분)</th>\n",
       "      <th>마더코드</th>\n",
       "      <th>상품코드</th>\n",
       "      <th>판매단가</th>\n",
       "      <th>취급액</th>\n",
       "      <th>연</th>\n",
       "      <th>월</th>\n",
       "      <th>일</th>\n",
       "      <th>시</th>\n",
       "      <th>분</th>\n",
       "      <th>주</th>\n",
       "    </tr>\n",
       "  </thead>\n",
       "  <tbody>\n",
       "    <tr>\n",
       "      <th>count</th>\n",
       "      <td>2891.0000</td>\n",
       "      <td>2891.0000</td>\n",
       "      <td>2891.0000</td>\n",
       "      <td>2891.0000</td>\n",
       "      <td>0.0000</td>\n",
       "      <td>2891.0000</td>\n",
       "      <td>2891.0000</td>\n",
       "      <td>2891.0000</td>\n",
       "      <td>2891.0000</td>\n",
       "      <td>2891.0000</td>\n",
       "      <td>2891.0000</td>\n",
       "    </tr>\n",
       "    <tr>\n",
       "      <th>mean</th>\n",
       "      <td>20.1797</td>\n",
       "      <td>100388.8212</td>\n",
       "      <td>201200.4618</td>\n",
       "      <td>401441.7848</td>\n",
       "      <td>nan</td>\n",
       "      <td>2020.0000</td>\n",
       "      <td>6.0038</td>\n",
       "      <td>15.1013</td>\n",
       "      <td>13.8250</td>\n",
       "      <td>21.1138</td>\n",
       "      <td>24.5922</td>\n",
       "    </tr>\n",
       "    <tr>\n",
       "      <th>std</th>\n",
       "      <td>4.4062</td>\n",
       "      <td>256.7364</td>\n",
       "      <td>775.0423</td>\n",
       "      <td>604648.0012</td>\n",
       "      <td>nan</td>\n",
       "      <td>0.0000</td>\n",
       "      <td>0.0616</td>\n",
       "      <td>8.4976</td>\n",
       "      <td>6.4316</td>\n",
       "      <td>16.6093</td>\n",
       "      <td>1.2381</td>\n",
       "    </tr>\n",
       "    <tr>\n",
       "      <th>min</th>\n",
       "      <td>5.9500</td>\n",
       "      <td>100003.0000</td>\n",
       "      <td>200003.0000</td>\n",
       "      <td>0.0000</td>\n",
       "      <td>nan</td>\n",
       "      <td>2020.0000</td>\n",
       "      <td>6.0000</td>\n",
       "      <td>1.0000</td>\n",
       "      <td>0.0000</td>\n",
       "      <td>0.0000</td>\n",
       "      <td>23.0000</td>\n",
       "    </tr>\n",
       "    <tr>\n",
       "      <th>25%</th>\n",
       "      <td>20.0000</td>\n",
       "      <td>100148.0000</td>\n",
       "      <td>200417.0000</td>\n",
       "      <td>40900.0000</td>\n",
       "      <td>nan</td>\n",
       "      <td>2020.0000</td>\n",
       "      <td>6.0000</td>\n",
       "      <td>7.5000</td>\n",
       "      <td>10.0000</td>\n",
       "      <td>0.0000</td>\n",
       "      <td>24.0000</td>\n",
       "    </tr>\n",
       "    <tr>\n",
       "      <th>50%</th>\n",
       "      <td>20.0000</td>\n",
       "      <td>100388.0000</td>\n",
       "      <td>201277.0000</td>\n",
       "      <td>79900.0000</td>\n",
       "      <td>nan</td>\n",
       "      <td>2020.0000</td>\n",
       "      <td>6.0000</td>\n",
       "      <td>14.0000</td>\n",
       "      <td>14.0000</td>\n",
       "      <td>20.0000</td>\n",
       "      <td>25.0000</td>\n",
       "    </tr>\n",
       "    <tr>\n",
       "      <th>75%</th>\n",
       "      <td>20.0000</td>\n",
       "      <td>100593.0000</td>\n",
       "      <td>201818.0000</td>\n",
       "      <td>548000.0000</td>\n",
       "      <td>nan</td>\n",
       "      <td>2020.0000</td>\n",
       "      <td>6.0000</td>\n",
       "      <td>22.0000</td>\n",
       "      <td>20.0000</td>\n",
       "      <td>40.0000</td>\n",
       "      <td>26.0000</td>\n",
       "    </tr>\n",
       "    <tr>\n",
       "      <th>max</th>\n",
       "      <td>60.0000</td>\n",
       "      <td>100849.0000</td>\n",
       "      <td>202511.0000</td>\n",
       "      <td>4320000.0000</td>\n",
       "      <td>nan</td>\n",
       "      <td>2020.0000</td>\n",
       "      <td>7.0000</td>\n",
       "      <td>30.0000</td>\n",
       "      <td>23.0000</td>\n",
       "      <td>50.0000</td>\n",
       "      <td>27.0000</td>\n",
       "    </tr>\n",
       "  </tbody>\n",
       "</table>\n",
       "</div>"
      ],
      "text/plain": [
       "          노출(분)        마더코드        상품코드         판매단가    취급액         연  \\\n",
       "count 2891.0000   2891.0000   2891.0000    2891.0000 0.0000 2891.0000   \n",
       "mean    20.1797 100388.8212 201200.4618  401441.7848    nan 2020.0000   \n",
       "std      4.4062    256.7364    775.0423  604648.0012    nan    0.0000   \n",
       "min      5.9500 100003.0000 200003.0000       0.0000    nan 2020.0000   \n",
       "25%     20.0000 100148.0000 200417.0000   40900.0000    nan 2020.0000   \n",
       "50%     20.0000 100388.0000 201277.0000   79900.0000    nan 2020.0000   \n",
       "75%     20.0000 100593.0000 201818.0000  548000.0000    nan 2020.0000   \n",
       "max     60.0000 100849.0000 202511.0000 4320000.0000    nan 2020.0000   \n",
       "\n",
       "              월         일         시         분         주  \n",
       "count 2891.0000 2891.0000 2891.0000 2891.0000 2891.0000  \n",
       "mean     6.0038   15.1013   13.8250   21.1138   24.5922  \n",
       "std      0.0616    8.4976    6.4316   16.6093    1.2381  \n",
       "min      6.0000    1.0000    0.0000    0.0000   23.0000  \n",
       "25%      6.0000    7.5000   10.0000    0.0000   24.0000  \n",
       "50%      6.0000   14.0000   14.0000   20.0000   25.0000  \n",
       "75%      6.0000   22.0000   20.0000   40.0000   26.0000  \n",
       "max      7.0000   30.0000   23.0000   50.0000   27.0000  "
      ]
     },
     "execution_count": 41,
     "metadata": {},
     "output_type": "execute_result"
    }
   ],
   "source": [
    "data['test'].describe()"
   ]
  },
  {
   "cell_type": "markdown",
   "metadata": {},
   "source": [
    "### 상품군의 갯수"
   ]
  },
  {
   "cell_type": "code",
   "execution_count": 42,
   "metadata": {
    "ExecuteTime": {
     "end_time": "2020-09-22T07:20:06.639077Z",
     "start_time": "2020-09-22T07:20:06.425080Z"
    }
   },
   "outputs": [
    {
     "data": {
      "image/png": "[encoded data removed]",
      "text/plain": [
       "<Figure size 432x288 with 1 Axes>"
      ]
     },
     "metadata": {},
     "output_type": "display_data"
    }
   ],
   "source": [
    "(data['train']['상품군'].value_counts().sort_index() / len(data['train']['상품군'])).plot(kind='barh')\n",
    "plt.show()"
   ]
  },
  {
   "cell_type": "code",
   "execution_count": 43,
   "metadata": {
    "ExecuteTime": {
     "end_time": "2020-09-22T07:20:07.129914Z",
     "start_time": "2020-09-22T07:20:06.928914Z"
    }
   },
   "outputs": [
    {
     "data": {
      "image/png": "[encoded data removed]",
      "text/plain": [
       "<Figure size 432x288 with 1 Axes>"
      ]
     },
     "metadata": {},
     "output_type": "display_data"
    }
   ],
   "source": [
    "(data['test']['상품군'].value_counts().sort_index() / len(data['test']['상품군'])).plot(kind='barh')\n",
    "plt.show()"
   ]
  },
  {
   "cell_type": "markdown",
   "metadata": {},
   "source": [
    "### 상품군"
   ]
  },
  {
   "cell_type": "code",
   "execution_count": 44,
   "metadata": {
    "ExecuteTime": {
     "end_time": "2020-09-22T07:20:10.445939Z",
     "start_time": "2020-09-22T07:20:10.440938Z"
    }
   },
   "outputs": [
    {
     "data": {
      "text/plain": [
       "['가구', '가전', '건강기능', '농수축', '무형', '생활용품', '속옷', '의류', '이미용', '잡화', '주방', '침구']"
      ]
     },
     "execution_count": 44,
     "metadata": {},
     "output_type": "execute_result"
    }
   ],
   "source": [
    "sorted(data['train']['상품군'].unique())"
   ]
  },
  {
   "cell_type": "code",
   "execution_count": 45,
   "metadata": {
    "ExecuteTime": {
     "end_time": "2020-09-22T07:20:18.390627Z",
     "start_time": "2020-09-22T07:20:18.385626Z"
    }
   },
   "outputs": [
    {
     "data": {
      "text/plain": [
       "['가구', '가전', '건강기능', '농수축', '무형', '생활용품', '속옷', '의류', '이미용', '잡화', '주방', '침구']"
      ]
     },
     "execution_count": 45,
     "metadata": {},
     "output_type": "execute_result"
    }
   ],
   "source": [
    "sorted(data['test']['상품군'].unique())"
   ]
  },
  {
   "cell_type": "code",
   "execution_count": 46,
   "metadata": {
    "ExecuteTime": {
     "end_time": "2020-09-22T07:20:19.056219Z",
     "start_time": "2020-09-22T07:20:18.831220Z"
    }
   },
   "outputs": [
    {
     "data": {
      "image/png": "[encoded data removed]",
      "text/plain": [
       "<Figure size 1008x720 with 1 Axes>"
      ]
     },
     "metadata": {},
     "output_type": "display_data"
    }
   ],
   "source": [
    "prod_list = data['train'][['상품코드','상품명','상품군']].drop_duplicates()\n",
    "(prod_list['상품군'].value_counts() / len(prod_list)).plot(kind = 'bar', figsize=(14, 10))\n",
    "plt.show()"
   ]
  },
  {
   "cell_type": "markdown",
   "metadata": {},
   "source": [
    "#### 가전 상품군"
   ]
  },
  {
   "cell_type": "code",
   "execution_count": null,
   "metadata": {},
   "outputs": [],
   "source": []
  },
  {
   "cell_type": "markdown",
   "metadata": {},
   "source": [
    "#### 농수축 상품군"
   ]
  },
  {
   "cell_type": "code",
   "execution_count": null,
   "metadata": {},
   "outputs": [],
   "source": []
  },
  {
   "cell_type": "markdown",
   "metadata": {},
   "source": [
    "#### 주방 상품군"
   ]
  },
  {
   "cell_type": "code",
   "execution_count": null,
   "metadata": {},
   "outputs": [],
   "source": []
  },
  {
   "cell_type": "markdown",
   "metadata": {},
   "source": [
    "#### 무형 상품군"
   ]
  },
  {
   "cell_type": "code",
   "execution_count": 47,
   "metadata": {
    "ExecuteTime": {
     "end_time": "2020-09-22T07:20:21.692759Z",
     "start_time": "2020-09-22T07:20:21.671371Z"
    }
   },
   "outputs": [
    {
     "data": {
      "text/html": [
       "<div>\n",
       "<style scoped>\n",
       "    .dataframe tbody tr th:only-of-type {\n",
       "        vertical-align: middle;\n",
       "    }\n",
       "\n",
       "    .dataframe tbody tr th {\n",
       "        vertical-align: top;\n",
       "    }\n",
       "\n",
       "    .dataframe thead th {\n",
       "        text-align: right;\n",
       "    }\n",
       "</style>\n",
       "<table border=\"1\" class=\"dataframe\">\n",
       "  <thead>\n",
       "    <tr style=\"text-align: right;\">\n",
       "      <th></th>\n",
       "      <th>노출(분)</th>\n",
       "      <th>마더코드</th>\n",
       "      <th>상품코드</th>\n",
       "      <th>상품명</th>\n",
       "      <th>상품군</th>\n",
       "      <th>판매단가</th>\n",
       "      <th>취급액</th>\n",
       "      <th>연</th>\n",
       "      <th>월</th>\n",
       "      <th>일</th>\n",
       "      <th>시</th>\n",
       "      <th>분</th>\n",
       "      <th>요일</th>\n",
       "      <th>주</th>\n",
       "    </tr>\n",
       "    <tr>\n",
       "      <th>방송일시</th>\n",
       "      <th></th>\n",
       "      <th></th>\n",
       "      <th></th>\n",
       "      <th></th>\n",
       "      <th></th>\n",
       "      <th></th>\n",
       "      <th></th>\n",
       "      <th></th>\n",
       "      <th></th>\n",
       "      <th></th>\n",
       "      <th></th>\n",
       "      <th></th>\n",
       "      <th></th>\n",
       "      <th></th>\n",
       "    </tr>\n",
       "  </thead>\n",
       "  <tbody>\n",
       "    <tr>\n",
       "      <th>2019-01-25 19:00:00</th>\n",
       "      <td>60.0000</td>\n",
       "      <td>100507</td>\n",
       "      <td>201567</td>\n",
       "      <td>TCOM_처브치아보험</td>\n",
       "      <td>무형</td>\n",
       "      <td>0</td>\n",
       "      <td>44255000.0000</td>\n",
       "      <td>2019</td>\n",
       "      <td>1</td>\n",
       "      <td>25</td>\n",
       "      <td>19</td>\n",
       "      <td>0</td>\n",
       "      <td>Fri</td>\n",
       "      <td>4</td>\n",
       "    </tr>\n",
       "    <tr>\n",
       "      <th>2019-01-31 18:00:00</th>\n",
       "      <td>60.0000</td>\n",
       "      <td>100507</td>\n",
       "      <td>201567</td>\n",
       "      <td>TCOM_처브치아보험</td>\n",
       "      <td>무형</td>\n",
       "      <td>0</td>\n",
       "      <td>43297000.0000</td>\n",
       "      <td>2019</td>\n",
       "      <td>1</td>\n",
       "      <td>31</td>\n",
       "      <td>18</td>\n",
       "      <td>0</td>\n",
       "      <td>Thu</td>\n",
       "      <td>5</td>\n",
       "    </tr>\n",
       "    <tr>\n",
       "      <th>2019-02-05 18:00:00</th>\n",
       "      <td>60.0000</td>\n",
       "      <td>100507</td>\n",
       "      <td>201567</td>\n",
       "      <td>TCOM_처브치아보험</td>\n",
       "      <td>무형</td>\n",
       "      <td>0</td>\n",
       "      <td>59930000.0000</td>\n",
       "      <td>2019</td>\n",
       "      <td>2</td>\n",
       "      <td>5</td>\n",
       "      <td>18</td>\n",
       "      <td>0</td>\n",
       "      <td>Tue</td>\n",
       "      <td>6</td>\n",
       "    </tr>\n",
       "    <tr>\n",
       "      <th>2019-03-09 00:00:00</th>\n",
       "      <td>20.0000</td>\n",
       "      <td>100324</td>\n",
       "      <td>201095</td>\n",
       "      <td>온라인투어 동남아 나트랑/빈펄랜드 (190309)</td>\n",
       "      <td>무형</td>\n",
       "      <td>0</td>\n",
       "      <td>46299000.0000</td>\n",
       "      <td>2019</td>\n",
       "      <td>3</td>\n",
       "      <td>9</td>\n",
       "      <td>0</td>\n",
       "      <td>0</td>\n",
       "      <td>Sat</td>\n",
       "      <td>10</td>\n",
       "    </tr>\n",
       "    <tr>\n",
       "      <th>2019-03-09 00:20:00</th>\n",
       "      <td>20.0000</td>\n",
       "      <td>100324</td>\n",
       "      <td>201095</td>\n",
       "      <td>온라인투어 동남아 나트랑/빈펄랜드 (190309)</td>\n",
       "      <td>무형</td>\n",
       "      <td>0</td>\n",
       "      <td>46299000.0000</td>\n",
       "      <td>2019</td>\n",
       "      <td>3</td>\n",
       "      <td>9</td>\n",
       "      <td>0</td>\n",
       "      <td>20</td>\n",
       "      <td>Sat</td>\n",
       "      <td>10</td>\n",
       "    </tr>\n",
       "    <tr>\n",
       "      <th>...</th>\n",
       "      <td>...</td>\n",
       "      <td>...</td>\n",
       "      <td>...</td>\n",
       "      <td>...</td>\n",
       "      <td>...</td>\n",
       "      <td>...</td>\n",
       "      <td>...</td>\n",
       "      <td>...</td>\n",
       "      <td>...</td>\n",
       "      <td>...</td>\n",
       "      <td>...</td>\n",
       "      <td>...</td>\n",
       "      <td>...</td>\n",
       "      <td>...</td>\n",
       "    </tr>\n",
       "    <tr>\n",
       "      <th>2019-12-30 18:20:00</th>\n",
       "      <td>60.0000</td>\n",
       "      <td>100072</td>\n",
       "      <td>200194</td>\n",
       "      <td>삼성화재 천만안심 건강보험(암보험, 1907)</td>\n",
       "      <td>무형</td>\n",
       "      <td>0</td>\n",
       "      <td>54891000.0000</td>\n",
       "      <td>2019</td>\n",
       "      <td>12</td>\n",
       "      <td>30</td>\n",
       "      <td>18</td>\n",
       "      <td>20</td>\n",
       "      <td>Mon</td>\n",
       "      <td>1</td>\n",
       "    </tr>\n",
       "    <tr>\n",
       "      <th>2019-12-31 13:20:00</th>\n",
       "      <td>60.0000</td>\n",
       "      <td>100072</td>\n",
       "      <td>200194</td>\n",
       "      <td>삼성화재 천만안심 건강보험(암보험, 1907)</td>\n",
       "      <td>무형</td>\n",
       "      <td>0</td>\n",
       "      <td>11220000.0000</td>\n",
       "      <td>2019</td>\n",
       "      <td>12</td>\n",
       "      <td>31</td>\n",
       "      <td>13</td>\n",
       "      <td>20</td>\n",
       "      <td>Tue</td>\n",
       "      <td>1</td>\n",
       "    </tr>\n",
       "    <tr>\n",
       "      <th>2019-12-31 22:20:00</th>\n",
       "      <td>20.0000</td>\n",
       "      <td>100543</td>\n",
       "      <td>201624</td>\n",
       "      <td>넥센타이어 렌탈서비스</td>\n",
       "      <td>무형</td>\n",
       "      <td>0</td>\n",
       "      <td>32184000.0000</td>\n",
       "      <td>2019</td>\n",
       "      <td>12</td>\n",
       "      <td>31</td>\n",
       "      <td>22</td>\n",
       "      <td>20</td>\n",
       "      <td>Tue</td>\n",
       "      <td>1</td>\n",
       "    </tr>\n",
       "    <tr>\n",
       "      <th>2019-12-31 22:40:00</th>\n",
       "      <td>20.0000</td>\n",
       "      <td>100543</td>\n",
       "      <td>201624</td>\n",
       "      <td>넥센타이어 렌탈서비스</td>\n",
       "      <td>무형</td>\n",
       "      <td>0</td>\n",
       "      <td>32184000.0000</td>\n",
       "      <td>2019</td>\n",
       "      <td>12</td>\n",
       "      <td>31</td>\n",
       "      <td>22</td>\n",
       "      <td>40</td>\n",
       "      <td>Tue</td>\n",
       "      <td>1</td>\n",
       "    </tr>\n",
       "    <tr>\n",
       "      <th>2019-12-31 23:00:00</th>\n",
       "      <td>20.0000</td>\n",
       "      <td>100543</td>\n",
       "      <td>201624</td>\n",
       "      <td>넥센타이어 렌탈서비스</td>\n",
       "      <td>무형</td>\n",
       "      <td>0</td>\n",
       "      <td>32184000.0000</td>\n",
       "      <td>2019</td>\n",
       "      <td>12</td>\n",
       "      <td>31</td>\n",
       "      <td>23</td>\n",
       "      <td>0</td>\n",
       "      <td>Tue</td>\n",
       "      <td>1</td>\n",
       "    </tr>\n",
       "  </tbody>\n",
       "</table>\n",
       "<p>932 rows × 14 columns</p>\n",
       "</div>"
      ],
      "text/plain": [
       "                      노출(분)    마더코드    상품코드                          상품명 상품군  \\\n",
       "방송일시                                                                           \n",
       "2019-01-25 19:00:00 60.0000  100507  201567                  TCOM_처브치아보험  무형   \n",
       "2019-01-31 18:00:00 60.0000  100507  201567                  TCOM_처브치아보험  무형   \n",
       "2019-02-05 18:00:00 60.0000  100507  201567                  TCOM_처브치아보험  무형   \n",
       "2019-03-09 00:00:00 20.0000  100324  201095  온라인투어 동남아 나트랑/빈펄랜드 (190309)  무형   \n",
       "2019-03-09 00:20:00 20.0000  100324  201095  온라인투어 동남아 나트랑/빈펄랜드 (190309)  무형   \n",
       "...                     ...     ...     ...                          ...  ..   \n",
       "2019-12-30 18:20:00 60.0000  100072  200194    삼성화재 천만안심 건강보험(암보험, 1907)  무형   \n",
       "2019-12-31 13:20:00 60.0000  100072  200194    삼성화재 천만안심 건강보험(암보험, 1907)  무형   \n",
       "2019-12-31 22:20:00 20.0000  100543  201624                  넥센타이어 렌탈서비스  무형   \n",
       "2019-12-31 22:40:00 20.0000  100543  201624                  넥센타이어 렌탈서비스  무형   \n",
       "2019-12-31 23:00:00 20.0000  100543  201624                  넥센타이어 렌탈서비스  무형   \n",
       "\n",
       "                     판매단가           취급액     연   월   일   시   분   요일   주  \n",
       "방송일시                                                                    \n",
       "2019-01-25 19:00:00     0 44255000.0000  2019   1  25  19   0  Fri   4  \n",
       "2019-01-31 18:00:00     0 43297000.0000  2019   1  31  18   0  Thu   5  \n",
       "2019-02-05 18:00:00     0 59930000.0000  2019   2   5  18   0  Tue   6  \n",
       "2019-03-09 00:00:00     0 46299000.0000  2019   3   9   0   0  Sat  10  \n",
       "2019-03-09 00:20:00     0 46299000.0000  2019   3   9   0  20  Sat  10  \n",
       "...                   ...           ...   ...  ..  ..  ..  ..  ...  ..  \n",
       "2019-12-30 18:20:00     0 54891000.0000  2019  12  30  18  20  Mon   1  \n",
       "2019-12-31 13:20:00     0 11220000.0000  2019  12  31  13  20  Tue   1  \n",
       "2019-12-31 22:20:00     0 32184000.0000  2019  12  31  22  20  Tue   1  \n",
       "2019-12-31 22:40:00     0 32184000.0000  2019  12  31  22  40  Tue   1  \n",
       "2019-12-31 23:00:00     0 32184000.0000  2019  12  31  23   0  Tue   1  \n",
       "\n",
       "[932 rows x 14 columns]"
      ]
     },
     "execution_count": 47,
     "metadata": {},
     "output_type": "execute_result"
    }
   ],
   "source": [
    "data['train'][data['train']['상품군'] == '무형']"
   ]
  },
  {
   "cell_type": "code",
   "execution_count": 48,
   "metadata": {
    "ExecuteTime": {
     "end_time": "2020-09-22T07:20:22.276049Z",
     "start_time": "2020-09-22T07:20:22.257049Z"
    }
   },
   "outputs": [
    {
     "data": {
      "text/html": [
       "<div>\n",
       "<style scoped>\n",
       "    .dataframe tbody tr th:only-of-type {\n",
       "        vertical-align: middle;\n",
       "    }\n",
       "\n",
       "    .dataframe tbody tr th {\n",
       "        vertical-align: top;\n",
       "    }\n",
       "\n",
       "    .dataframe thead th {\n",
       "        text-align: right;\n",
       "    }\n",
       "</style>\n",
       "<table border=\"1\" class=\"dataframe\">\n",
       "  <thead>\n",
       "    <tr style=\"text-align: right;\">\n",
       "      <th></th>\n",
       "      <th>노출(분)</th>\n",
       "      <th>마더코드</th>\n",
       "      <th>상품코드</th>\n",
       "      <th>상품명</th>\n",
       "      <th>상품군</th>\n",
       "      <th>판매단가</th>\n",
       "      <th>취급액</th>\n",
       "      <th>연</th>\n",
       "      <th>월</th>\n",
       "      <th>일</th>\n",
       "      <th>시</th>\n",
       "      <th>분</th>\n",
       "      <th>요일</th>\n",
       "      <th>주</th>\n",
       "    </tr>\n",
       "    <tr>\n",
       "      <th>방송일시</th>\n",
       "      <th></th>\n",
       "      <th></th>\n",
       "      <th></th>\n",
       "      <th></th>\n",
       "      <th></th>\n",
       "      <th></th>\n",
       "      <th></th>\n",
       "      <th></th>\n",
       "      <th></th>\n",
       "      <th></th>\n",
       "      <th></th>\n",
       "      <th></th>\n",
       "      <th></th>\n",
       "      <th></th>\n",
       "    </tr>\n",
       "  </thead>\n",
       "  <tbody>\n",
       "    <tr>\n",
       "      <th>2020-06-01 13:20:00</th>\n",
       "      <td>20.0000</td>\n",
       "      <td>100570</td>\n",
       "      <td>201673</td>\n",
       "      <td>KT휴대폰_삼성갤럭시 노트10</td>\n",
       "      <td>무형</td>\n",
       "      <td>0</td>\n",
       "      <td>nan</td>\n",
       "      <td>2020</td>\n",
       "      <td>6</td>\n",
       "      <td>1</td>\n",
       "      <td>13</td>\n",
       "      <td>20</td>\n",
       "      <td>Mon</td>\n",
       "      <td>23</td>\n",
       "    </tr>\n",
       "    <tr>\n",
       "      <th>2020-06-01 13:20:00</th>\n",
       "      <td>20.0000</td>\n",
       "      <td>100570</td>\n",
       "      <td>201671</td>\n",
       "      <td>(특)KT휴대폰_삼성갤럭시 A31</td>\n",
       "      <td>무형</td>\n",
       "      <td>0</td>\n",
       "      <td>nan</td>\n",
       "      <td>2020</td>\n",
       "      <td>6</td>\n",
       "      <td>1</td>\n",
       "      <td>13</td>\n",
       "      <td>20</td>\n",
       "      <td>Mon</td>\n",
       "      <td>23</td>\n",
       "    </tr>\n",
       "    <tr>\n",
       "      <th>2020-06-01 13:40:00</th>\n",
       "      <td>20.0000</td>\n",
       "      <td>100570</td>\n",
       "      <td>201673</td>\n",
       "      <td>KT휴대폰_삼성갤럭시 노트10</td>\n",
       "      <td>무형</td>\n",
       "      <td>0</td>\n",
       "      <td>nan</td>\n",
       "      <td>2020</td>\n",
       "      <td>6</td>\n",
       "      <td>1</td>\n",
       "      <td>13</td>\n",
       "      <td>40</td>\n",
       "      <td>Mon</td>\n",
       "      <td>23</td>\n",
       "    </tr>\n",
       "    <tr>\n",
       "      <th>2020-06-01 13:40:00</th>\n",
       "      <td>20.0000</td>\n",
       "      <td>100570</td>\n",
       "      <td>201671</td>\n",
       "      <td>(특)KT휴대폰_삼성갤럭시 A31</td>\n",
       "      <td>무형</td>\n",
       "      <td>0</td>\n",
       "      <td>nan</td>\n",
       "      <td>2020</td>\n",
       "      <td>6</td>\n",
       "      <td>1</td>\n",
       "      <td>13</td>\n",
       "      <td>40</td>\n",
       "      <td>Mon</td>\n",
       "      <td>23</td>\n",
       "    </tr>\n",
       "    <tr>\n",
       "      <th>2020-06-01 14:00:00</th>\n",
       "      <td>20.0000</td>\n",
       "      <td>100570</td>\n",
       "      <td>201673</td>\n",
       "      <td>KT휴대폰_삼성갤럭시 노트10</td>\n",
       "      <td>무형</td>\n",
       "      <td>0</td>\n",
       "      <td>nan</td>\n",
       "      <td>2020</td>\n",
       "      <td>6</td>\n",
       "      <td>1</td>\n",
       "      <td>14</td>\n",
       "      <td>0</td>\n",
       "      <td>Mon</td>\n",
       "      <td>23</td>\n",
       "    </tr>\n",
       "    <tr>\n",
       "      <th>...</th>\n",
       "      <td>...</td>\n",
       "      <td>...</td>\n",
       "      <td>...</td>\n",
       "      <td>...</td>\n",
       "      <td>...</td>\n",
       "      <td>...</td>\n",
       "      <td>...</td>\n",
       "      <td>...</td>\n",
       "      <td>...</td>\n",
       "      <td>...</td>\n",
       "      <td>...</td>\n",
       "      <td>...</td>\n",
       "      <td>...</td>\n",
       "      <td>...</td>\n",
       "    </tr>\n",
       "    <tr>\n",
       "      <th>2020-06-30 18:40:00</th>\n",
       "      <td>20.0000</td>\n",
       "      <td>100073</td>\n",
       "      <td>200195</td>\n",
       "      <td>삼성화재 행복한파트너 주택상해윤전자(올케어)</td>\n",
       "      <td>무형</td>\n",
       "      <td>0</td>\n",
       "      <td>nan</td>\n",
       "      <td>2020</td>\n",
       "      <td>6</td>\n",
       "      <td>30</td>\n",
       "      <td>18</td>\n",
       "      <td>40</td>\n",
       "      <td>Tue</td>\n",
       "      <td>27</td>\n",
       "    </tr>\n",
       "    <tr>\n",
       "      <th>2020-06-30 19:00:00</th>\n",
       "      <td>20.0000</td>\n",
       "      <td>100073</td>\n",
       "      <td>200195</td>\n",
       "      <td>삼성화재 행복한파트너 주택상해윤전자(올케어)</td>\n",
       "      <td>무형</td>\n",
       "      <td>0</td>\n",
       "      <td>nan</td>\n",
       "      <td>2020</td>\n",
       "      <td>6</td>\n",
       "      <td>30</td>\n",
       "      <td>19</td>\n",
       "      <td>0</td>\n",
       "      <td>Tue</td>\n",
       "      <td>27</td>\n",
       "    </tr>\n",
       "    <tr>\n",
       "      <th>2020-07-01 00:20:00</th>\n",
       "      <td>20.0000</td>\n",
       "      <td>100660</td>\n",
       "      <td>201989</td>\n",
       "      <td>쉴렉스  안마의자 렌탈서비스</td>\n",
       "      <td>무형</td>\n",
       "      <td>0</td>\n",
       "      <td>nan</td>\n",
       "      <td>2020</td>\n",
       "      <td>7</td>\n",
       "      <td>1</td>\n",
       "      <td>0</td>\n",
       "      <td>20</td>\n",
       "      <td>Wed</td>\n",
       "      <td>27</td>\n",
       "    </tr>\n",
       "    <tr>\n",
       "      <th>2020-07-01 00:40:00</th>\n",
       "      <td>20.0000</td>\n",
       "      <td>100660</td>\n",
       "      <td>201989</td>\n",
       "      <td>쉴렉스  안마의자 렌탈서비스</td>\n",
       "      <td>무형</td>\n",
       "      <td>0</td>\n",
       "      <td>nan</td>\n",
       "      <td>2020</td>\n",
       "      <td>7</td>\n",
       "      <td>1</td>\n",
       "      <td>0</td>\n",
       "      <td>40</td>\n",
       "      <td>Wed</td>\n",
       "      <td>27</td>\n",
       "    </tr>\n",
       "    <tr>\n",
       "      <th>2020-07-01 01:00:00</th>\n",
       "      <td>20.0000</td>\n",
       "      <td>100660</td>\n",
       "      <td>201989</td>\n",
       "      <td>쉴렉스  안마의자 렌탈서비스</td>\n",
       "      <td>무형</td>\n",
       "      <td>0</td>\n",
       "      <td>nan</td>\n",
       "      <td>2020</td>\n",
       "      <td>7</td>\n",
       "      <td>1</td>\n",
       "      <td>1</td>\n",
       "      <td>0</td>\n",
       "      <td>Wed</td>\n",
       "      <td>27</td>\n",
       "    </tr>\n",
       "  </tbody>\n",
       "</table>\n",
       "<p>175 rows × 14 columns</p>\n",
       "</div>"
      ],
      "text/plain": [
       "                      노출(분)    마더코드    상품코드                       상품명 상품군  \\\n",
       "방송일시                                                                        \n",
       "2020-06-01 13:20:00 20.0000  100570  201673          KT휴대폰_삼성갤럭시 노트10  무형   \n",
       "2020-06-01 13:20:00 20.0000  100570  201671        (특)KT휴대폰_삼성갤럭시 A31  무형   \n",
       "2020-06-01 13:40:00 20.0000  100570  201673          KT휴대폰_삼성갤럭시 노트10  무형   \n",
       "2020-06-01 13:40:00 20.0000  100570  201671        (특)KT휴대폰_삼성갤럭시 A31  무형   \n",
       "2020-06-01 14:00:00 20.0000  100570  201673          KT휴대폰_삼성갤럭시 노트10  무형   \n",
       "...                     ...     ...     ...                       ...  ..   \n",
       "2020-06-30 18:40:00 20.0000  100073  200195  삼성화재 행복한파트너 주택상해윤전자(올케어)  무형   \n",
       "2020-06-30 19:00:00 20.0000  100073  200195  삼성화재 행복한파트너 주택상해윤전자(올케어)  무형   \n",
       "2020-07-01 00:20:00 20.0000  100660  201989           쉴렉스  안마의자 렌탈서비스  무형   \n",
       "2020-07-01 00:40:00 20.0000  100660  201989           쉴렉스  안마의자 렌탈서비스  무형   \n",
       "2020-07-01 01:00:00 20.0000  100660  201989           쉴렉스  안마의자 렌탈서비스  무형   \n",
       "\n",
       "                     판매단가  취급액     연  월   일   시   분   요일   주  \n",
       "방송일시                                                          \n",
       "2020-06-01 13:20:00     0  nan  2020  6   1  13  20  Mon  23  \n",
       "2020-06-01 13:20:00     0  nan  2020  6   1  13  20  Mon  23  \n",
       "2020-06-01 13:40:00     0  nan  2020  6   1  13  40  Mon  23  \n",
       "2020-06-01 13:40:00     0  nan  2020  6   1  13  40  Mon  23  \n",
       "2020-06-01 14:00:00     0  nan  2020  6   1  14   0  Mon  23  \n",
       "...                   ...  ...   ... ..  ..  ..  ..  ...  ..  \n",
       "2020-06-30 18:40:00     0  nan  2020  6  30  18  40  Tue  27  \n",
       "2020-06-30 19:00:00     0  nan  2020  6  30  19   0  Tue  27  \n",
       "2020-07-01 00:20:00     0  nan  2020  7   1   0  20  Wed  27  \n",
       "2020-07-01 00:40:00     0  nan  2020  7   1   0  40  Wed  27  \n",
       "2020-07-01 01:00:00     0  nan  2020  7   1   1   0  Wed  27  \n",
       "\n",
       "[175 rows x 14 columns]"
      ]
     },
     "execution_count": 48,
     "metadata": {},
     "output_type": "execute_result"
    }
   ],
   "source": [
    "data['test'][data['test']['상품군'] == '무형']"
   ]
  },
  {
   "cell_type": "code",
   "execution_count": 49,
   "metadata": {
    "ExecuteTime": {
     "end_time": "2020-09-22T07:20:22.619330Z",
     "start_time": "2020-09-22T07:20:22.597305Z"
    }
   },
   "outputs": [
    {
     "data": {
      "text/html": [
       "<div>\n",
       "<style scoped>\n",
       "    .dataframe tbody tr th:only-of-type {\n",
       "        vertical-align: middle;\n",
       "    }\n",
       "\n",
       "    .dataframe tbody tr th {\n",
       "        vertical-align: top;\n",
       "    }\n",
       "\n",
       "    .dataframe thead th {\n",
       "        text-align: right;\n",
       "    }\n",
       "</style>\n",
       "<table border=\"1\" class=\"dataframe\">\n",
       "  <thead>\n",
       "    <tr style=\"text-align: right;\">\n",
       "      <th></th>\n",
       "      <th>노출(분)</th>\n",
       "      <th>마더코드</th>\n",
       "      <th>상품코드</th>\n",
       "      <th>판매단가</th>\n",
       "      <th>취급액</th>\n",
       "      <th>연</th>\n",
       "      <th>월</th>\n",
       "      <th>일</th>\n",
       "      <th>시</th>\n",
       "      <th>분</th>\n",
       "      <th>주</th>\n",
       "    </tr>\n",
       "    <tr>\n",
       "      <th>상품군</th>\n",
       "      <th></th>\n",
       "      <th></th>\n",
       "      <th></th>\n",
       "      <th></th>\n",
       "      <th></th>\n",
       "      <th></th>\n",
       "      <th></th>\n",
       "      <th></th>\n",
       "      <th></th>\n",
       "      <th></th>\n",
       "      <th></th>\n",
       "    </tr>\n",
       "  </thead>\n",
       "  <tbody>\n",
       "    <tr>\n",
       "      <th>가구</th>\n",
       "      <td>52968.0167</td>\n",
       "      <td>262229794</td>\n",
       "      <td>525473697</td>\n",
       "      <td>2204847000</td>\n",
       "      <td>29146741000.0000</td>\n",
       "      <td>5277666</td>\n",
       "      <td>17089</td>\n",
       "      <td>34847</td>\n",
       "      <td>51974</td>\n",
       "      <td>52450</td>\n",
       "      <td>68595</td>\n",
       "    </tr>\n",
       "    <tr>\n",
       "      <th>가전</th>\n",
       "      <td>130740.0000</td>\n",
       "      <td>649454705</td>\n",
       "      <td>1300653607</td>\n",
       "      <td>10569727000</td>\n",
       "      <td>97126721000.0000</td>\n",
       "      <td>13081101</td>\n",
       "      <td>35591</td>\n",
       "      <td>92156</td>\n",
       "      <td>128428</td>\n",
       "      <td>131600</td>\n",
       "      <td>141691</td>\n",
       "    </tr>\n",
       "    <tr>\n",
       "      <th>건강기능</th>\n",
       "      <td>15937.0500</td>\n",
       "      <td>79361491</td>\n",
       "      <td>159101942</td>\n",
       "      <td>65826200</td>\n",
       "      <td>20103820000.0000</td>\n",
       "      <td>1595010</td>\n",
       "      <td>5616</td>\n",
       "      <td>13921</td>\n",
       "      <td>7931</td>\n",
       "      <td>15840</td>\n",
       "      <td>22876</td>\n",
       "    </tr>\n",
       "    <tr>\n",
       "      <th>농수축</th>\n",
       "      <td>76046.7333</td>\n",
       "      <td>390058249</td>\n",
       "      <td>781991982</td>\n",
       "      <td>180293500</td>\n",
       "      <td>165942241000.0000</td>\n",
       "      <td>7841796</td>\n",
       "      <td>26488</td>\n",
       "      <td>61891</td>\n",
       "      <td>59916</td>\n",
       "      <td>78680</td>\n",
       "      <td>107918</td>\n",
       "    </tr>\n",
       "    <tr>\n",
       "      <th>무형</th>\n",
       "      <td>21333.7000</td>\n",
       "      <td>93620244</td>\n",
       "      <td>187840154</td>\n",
       "      <td>0</td>\n",
       "      <td>39684507000.0000</td>\n",
       "      <td>1881708</td>\n",
       "      <td>7994</td>\n",
       "      <td>15541</td>\n",
       "      <td>11869</td>\n",
       "      <td>18960</td>\n",
       "      <td>32918</td>\n",
       "    </tr>\n",
       "    <tr>\n",
       "      <th>생활용품</th>\n",
       "      <td>59037.8000</td>\n",
       "      <td>288838177</td>\n",
       "      <td>578932846</td>\n",
       "      <td>536428000</td>\n",
       "      <td>51647387000.0000</td>\n",
       "      <td>5808663</td>\n",
       "      <td>23577</td>\n",
       "      <td>45248</td>\n",
       "      <td>37187</td>\n",
       "      <td>57290</td>\n",
       "      <td>96353</td>\n",
       "    </tr>\n",
       "    <tr>\n",
       "      <th>속옷</th>\n",
       "      <td>78731.6000</td>\n",
       "      <td>393704487</td>\n",
       "      <td>789404354</td>\n",
       "      <td>305608600</td>\n",
       "      <td>102196932000.0000</td>\n",
       "      <td>7912461</td>\n",
       "      <td>23401</td>\n",
       "      <td>61569</td>\n",
       "      <td>48707</td>\n",
       "      <td>78720</td>\n",
       "      <td>94487</td>\n",
       "    </tr>\n",
       "    <tr>\n",
       "      <th>의류</th>\n",
       "      <td>85962.7833</td>\n",
       "      <td>435614094</td>\n",
       "      <td>873163772</td>\n",
       "      <td>674823300</td>\n",
       "      <td>105803597000.0000</td>\n",
       "      <td>8762460</td>\n",
       "      <td>26625</td>\n",
       "      <td>69287</td>\n",
       "      <td>46458</td>\n",
       "      <td>87310</td>\n",
       "      <td>107400</td>\n",
       "    </tr>\n",
       "    <tr>\n",
       "      <th>이미용</th>\n",
       "      <td>25994.7333</td>\n",
       "      <td>130914266</td>\n",
       "      <td>262347136</td>\n",
       "      <td>66594200</td>\n",
       "      <td>49322619000.0000</td>\n",
       "      <td>2634795</td>\n",
       "      <td>10079</td>\n",
       "      <td>20451</td>\n",
       "      <td>14961</td>\n",
       "      <td>26270</td>\n",
       "      <td>41356</td>\n",
       "    </tr>\n",
       "    <tr>\n",
       "      <th>잡화</th>\n",
       "      <td>86649.6667</td>\n",
       "      <td>390741011</td>\n",
       "      <td>783183267</td>\n",
       "      <td>1826740800</td>\n",
       "      <td>62295529000.0000</td>\n",
       "      <td>7855929</td>\n",
       "      <td>28531</td>\n",
       "      <td>61147</td>\n",
       "      <td>39003</td>\n",
       "      <td>78220</td>\n",
       "      <td>116910</td>\n",
       "    </tr>\n",
       "    <tr>\n",
       "      <th>주방</th>\n",
       "      <td>136073.6833</td>\n",
       "      <td>663417955</td>\n",
       "      <td>1330487524</td>\n",
       "      <td>1006013900</td>\n",
       "      <td>126646687000.0000</td>\n",
       "      <td>13325400</td>\n",
       "      <td>39747</td>\n",
       "      <td>103067</td>\n",
       "      <td>92421</td>\n",
       "      <td>130480</td>\n",
       "      <td>160019</td>\n",
       "    </tr>\n",
       "    <tr>\n",
       "      <th>침구</th>\n",
       "      <td>13569.8167</td>\n",
       "      <td>67020288</td>\n",
       "      <td>134144670</td>\n",
       "      <td>52563000</td>\n",
       "      <td>6991818000.0000</td>\n",
       "      <td>1350711</td>\n",
       "      <td>4797</td>\n",
       "      <td>10836</td>\n",
       "      <td>7751</td>\n",
       "      <td>13230</td>\n",
       "      <td>19803</td>\n",
       "    </tr>\n",
       "  </tbody>\n",
       "</table>\n",
       "</div>"
      ],
      "text/plain": [
       "           노출(분)       마더코드        상품코드         판매단가               취급액  \\\n",
       "상품군                                                                      \n",
       "가구    52968.0167  262229794   525473697   2204847000  29146741000.0000   \n",
       "가전   130740.0000  649454705  1300653607  10569727000  97126721000.0000   \n",
       "건강기능  15937.0500   79361491   159101942     65826200  20103820000.0000   \n",
       "농수축   76046.7333  390058249   781991982    180293500 165942241000.0000   \n",
       "무형    21333.7000   93620244   187840154            0  39684507000.0000   \n",
       "생활용품  59037.8000  288838177   578932846    536428000  51647387000.0000   \n",
       "속옷    78731.6000  393704487   789404354    305608600 102196932000.0000   \n",
       "의류    85962.7833  435614094   873163772    674823300 105803597000.0000   \n",
       "이미용   25994.7333  130914266   262347136     66594200  49322619000.0000   \n",
       "잡화    86649.6667  390741011   783183267   1826740800  62295529000.0000   \n",
       "주방   136073.6833  663417955  1330487524   1006013900 126646687000.0000   \n",
       "침구    13569.8167   67020288   134144670     52563000   6991818000.0000   \n",
       "\n",
       "             연      월       일       시       분       주  \n",
       "상품군                                                    \n",
       "가구     5277666  17089   34847   51974   52450   68595  \n",
       "가전    13081101  35591   92156  128428  131600  141691  \n",
       "건강기능   1595010   5616   13921    7931   15840   22876  \n",
       "농수축    7841796  26488   61891   59916   78680  107918  \n",
       "무형     1881708   7994   15541   11869   18960   32918  \n",
       "생활용품   5808663  23577   45248   37187   57290   96353  \n",
       "속옷     7912461  23401   61569   48707   78720   94487  \n",
       "의류     8762460  26625   69287   46458   87310  107400  \n",
       "이미용    2634795  10079   20451   14961   26270   41356  \n",
       "잡화     7855929  28531   61147   39003   78220  116910  \n",
       "주방    13325400  39747  103067   92421  130480  160019  \n",
       "침구     1350711   4797   10836    7751   13230   19803  "
      ]
     },
     "execution_count": 49,
     "metadata": {},
     "output_type": "execute_result"
    }
   ],
   "source": [
    "quant_group = data['train']['2019'].groupby('상품군').sum()\n",
    "quant_group"
   ]
  },
  {
   "cell_type": "markdown",
   "metadata": {},
   "source": [
    "### 상품명"
   ]
  },
  {
   "cell_type": "code",
   "execution_count": 50,
   "metadata": {
    "ExecuteTime": {
     "end_time": "2020-09-22T07:20:23.491169Z",
     "start_time": "2020-09-22T07:20:23.480658Z"
    }
   },
   "outputs": [
    {
     "data": {
      "text/plain": [
       "['  뉴트리원 다이어트 구미',\n",
       " ' [가이거] 블랙 에디션 다이아몬드 워치(남성용)',\n",
       " ' [가이거] 블랙 에디션 다이아몬드 워치(여성용)',\n",
       " ' [맛있는 제주]손질 생선 3대세트+흑돼지구이(광어+갈치+고등어',\n",
       " ' 국내제조 오슬로 IH 프라이팬 세트',\n",
       " ' 메디아글램 카이만엠보 소가죽 체인숄더백 (+클러치백+폼폼이)',\n",
       " ' 메디아글램 카이만엠보 소가죽 토트백 (+클러치백+폼폼이)',\n",
       " ' 블랙모어스 알티지 오메가3 3병 (53주분)',\n",
       " ' 서울대 더 리얼 신바이오틱스 6박스 (6개월분)',\n",
       " ' 용인공원라이프 스마트라이프48']"
      ]
     },
     "execution_count": 50,
     "metadata": {},
     "output_type": "execute_result"
    }
   ],
   "source": [
    "sorted(data['train']['상품명'].unique())[:10]"
   ]
  },
  {
   "cell_type": "code",
   "execution_count": 51,
   "metadata": {
    "ExecuteTime": {
     "end_time": "2020-09-22T07:20:23.949360Z",
     "start_time": "2020-09-22T07:20:23.944397Z"
    },
    "scrolled": true
   },
   "outputs": [
    {
     "data": {
      "text/plain": [
       "[' 레노마 우/양산 2종세트',\n",
       " ' 신일 창문형 에어컨',\n",
       " ' 신일에어쿨러엣지 (SIF-P75MD)',\n",
       " ' 페리엘리스 2020 YOUTH 컬렉션 선글라스 3종',\n",
       " ' 해피한 2020 자유숙박권',\n",
       " '(단품)우아미리프트업테이블',\n",
       " '(단품)우아미오토만스툴',\n",
       " '(무)[보루네오] 피올레 천연소가죽 소파 3인용',\n",
       " '(무)[보루네오] 피올레 천연소가죽 소파 4인용',\n",
       " '(무)[보루네오] 피올레 천연소가죽 소파 6인용']"
      ]
     },
     "execution_count": 51,
     "metadata": {},
     "output_type": "execute_result"
    }
   ],
   "source": [
    "sorted(data['test']['상품명'].unique())[:10]"
   ]
  },
  {
   "cell_type": "markdown",
   "metadata": {},
   "source": [
    "### 상품코드"
   ]
  },
  {
   "cell_type": "code",
   "execution_count": 52,
   "metadata": {
    "ExecuteTime": {
     "end_time": "2020-09-22T07:20:28.893560Z",
     "start_time": "2020-09-22T07:20:28.888559Z"
    }
   },
   "outputs": [
    {
     "data": {
      "text/plain": [
       "array([201072, 201079, 200974, ..., 201819, 201821, 201823], dtype=int64)"
      ]
     },
     "execution_count": 52,
     "metadata": {},
     "output_type": "execute_result"
    }
   ],
   "source": [
    "data['train']['상품코드'].unique()"
   ]
  },
  {
   "cell_type": "code",
   "execution_count": 53,
   "metadata": {
    "ExecuteTime": {
     "end_time": "2020-09-22T07:20:29.480459Z",
     "start_time": "2020-09-22T07:20:29.473430Z"
    }
   },
   "outputs": [
    {
     "data": {
      "text/plain": [
       "array([201971, 202278, 201247, 201956, 201091, 200016, 200217, 201673,\n",
       "       201671, 201641, 201150, 201616, 201251, 201250, 200424, 201319,\n",
       "       201520, 200416, 200419, 200422, 200724, 200727, 200730, 201016,\n",
       "       201017, 201643, 201596, 200668, 200867, 200876, 201130, 202125,\n",
       "       202296, 201454, 202460, 202459, 200651, 202508, 200588, 201024,\n",
       "       200184, 200186, 200179, 200181, 201277, 201279, 201276, 201258,\n",
       "       201259, 201501, 200556, 200489, 201699, 201752, 201698, 201751,\n",
       "       201697, 201750, 201041, 200273, 200272, 200274, 202052, 201418,\n",
       "       201037, 200917, 200266, 200270, 200900, 202368, 200368, 200369,\n",
       "       201464, 202259, 201938, 201578, 201656, 202430, 201033, 200020,\n",
       "       202484, 201011, 200143, 201969, 201968, 201039, 200621, 202252,\n",
       "       201632, 201337, 201336, 201334, 201335, 200291, 200289, 200292,\n",
       "       200290, 201813, 201817, 201811, 201815, 201923, 200317, 200316,\n",
       "       201253, 201252, 202364, 201882, 201042, 200194, 200873, 201036,\n",
       "       200212, 201341, 202247, 202246, 200300, 202239, 200966, 201595,\n",
       "       202226, 202224, 201808, 201957, 201316, 201294, 202128, 202129,\n",
       "       200092, 200079, 200083, 200099, 200067, 200064, 200060, 200059,\n",
       "       200723, 200726, 200729, 201814, 201818, 201812, 201816, 200421,\n",
       "       200418, 200415, 200486, 200553, 200188, 200187, 200063, 200058,\n",
       "       200096, 200071, 200066, 202053, 200426, 202241, 202244, 200705,\n",
       "       200689, 200709, 200693, 200713, 200697, 202123, 202120, 202121,\n",
       "       200072, 200074, 200195, 200863, 201331, 201333, 201332, 201943,\n",
       "       200994, 200995, 202426, 201447, 201676, 201728, 201810, 200005,\n",
       "       201410, 202042, 202040, 200565, 200380, 200378, 200379, 200381,\n",
       "       201954, 200615, 200613, 200614, 200612, 200147, 200564, 202258,\n",
       "       202275, 202371, 201588, 201148, 200425, 201966, 201965, 202391,\n",
       "       202396, 201657, 202428, 202427, 200304, 200006, 200007, 202506,\n",
       "       202507, 201338, 201269, 201271, 200124, 201953, 201732, 201680,\n",
       "       201731, 201679, 201730, 201678, 201729, 201677, 200484, 200551,\n",
       "       200012, 200193, 200221, 200222, 201283, 201273, 201274, 201275,\n",
       "       200331, 200295, 200293, 200296, 200294, 200370, 201574, 202240,\n",
       "       202243, 200198, 200940, 200941, 201593, 201592, 201594, 202387,\n",
       "       200358, 200357, 202257, 201634, 200420, 200417, 200414, 202363,\n",
       "       201145, 200722, 200725, 200728, 200183, 200185, 200178, 200180,\n",
       "       201809, 201591, 200704, 200688, 200708, 200692, 200712, 200696,\n",
       "       202149, 200057, 201990, 201629, 200280, 201636, 201970, 201139,\n",
       "       201311, 201286, 202212, 200150, 200149, 200323, 200321, 200322,\n",
       "       200324, 200251, 201242, 201952, 201988, 200968, 201344, 202359,\n",
       "       200326, 200328, 200325, 200327, 201121, 202071, 201385, 201386,\n",
       "       200021, 201120, 201119, 200044, 200045, 202186, 201950, 201989,\n",
       "       201577, 201342, 201153, 201154, 200999, 202034, 202037, 201637,\n",
       "       201465, 200997, 200182, 200177, 202225, 202223, 201726, 201727,\n",
       "       201725, 201724, 200010, 200011, 200654, 201996, 201995, 201994,\n",
       "       201993, 201992, 201991, 202148, 202213, 202041, 202039, 201964,\n",
       "       201782, 201783, 201784, 200216, 201463, 201626, 200146, 200214,\n",
       "       202511, 202018, 202017, 202486, 202485, 201979, 201976, 201639,\n",
       "       202166, 202084, 201617, 201151, 200582, 201456, 200004, 200003,\n",
       "       201623, 201014, 202242, 202245, 201572, 201613, 201614, 201951,\n",
       "       201949, 201948, 202425, 202424, 202423, 201147, 200192, 202124,\n",
       "       202122, 201324, 201672, 201354, 200297, 200299, 200743, 201025,\n",
       "       201618, 200617, 200616, 201658, 200015, 201627, 201458, 202323,\n",
       "       202321, 202322, 202318, 202319, 202320, 200862, 200019, 200022,\n",
       "       200875], dtype=int64)"
      ]
     },
     "execution_count": 53,
     "metadata": {},
     "output_type": "execute_result"
    }
   ],
   "source": [
    "data['test']['상품코드'].unique()"
   ]
  },
  {
   "cell_type": "code",
   "execution_count": 54,
   "metadata": {
    "ExecuteTime": {
     "end_time": "2020-09-22T07:20:34.199916Z",
     "start_time": "2020-09-22T07:20:34.192886Z"
    }
   },
   "outputs": [
    {
     "data": {
      "text/plain": [
       "200864    318\n",
       "200868    282\n",
       "200465    273\n",
       "200533    273\n",
       "200014    252\n",
       "         ... \n",
       "202334      2\n",
       "201358      2\n",
       "200046      2\n",
       "201586      2\n",
       "201462      1\n",
       "Name: 상품코드, Length: 2122, dtype: int64"
      ]
     },
     "execution_count": 54,
     "metadata": {},
     "output_type": "execute_result"
    }
   ],
   "source": [
    "data['train']['상품코드'].value_counts()"
   ]
  },
  {
   "cell_type": "code",
   "execution_count": 55,
   "metadata": {
    "ExecuteTime": {
     "end_time": "2020-09-22T07:20:34.933258Z",
     "start_time": "2020-09-22T07:20:34.927259Z"
    }
   },
   "outputs": [
    {
     "data": {
      "text/plain": [
       "202259    37\n",
       "202460    27\n",
       "200270    27\n",
       "200266    27\n",
       "202459    27\n",
       "          ..\n",
       "202320     2\n",
       "202322     2\n",
       "202257     2\n",
       "201025     2\n",
       "201463     1\n",
       "Name: 상품코드, Length: 417, dtype: int64"
      ]
     },
     "execution_count": 55,
     "metadata": {},
     "output_type": "execute_result"
    }
   ],
   "source": [
    "data['test']['상품코드'].value_counts()"
   ]
  },
  {
   "cell_type": "code",
   "execution_count": 56,
   "metadata": {
    "ExecuteTime": {
     "end_time": "2020-09-22T07:20:35.183793Z",
     "start_time": "2020-09-22T07:20:35.179793Z"
    }
   },
   "outputs": [
    {
     "data": {
      "text/plain": [
       "2122"
      ]
     },
     "execution_count": 56,
     "metadata": {},
     "output_type": "execute_result"
    }
   ],
   "source": [
    "len(data['train']['상품코드'].unique())"
   ]
  },
  {
   "cell_type": "code",
   "execution_count": 57,
   "metadata": {
    "ExecuteTime": {
     "end_time": "2020-09-22T07:20:35.426793Z",
     "start_time": "2020-09-22T07:20:35.422793Z"
    }
   },
   "outputs": [
    {
     "data": {
      "text/plain": [
       "417"
      ]
     },
     "execution_count": 57,
     "metadata": {},
     "output_type": "execute_result"
    }
   ],
   "source": [
    "len(data['test']['상품코드'].unique())"
   ]
  },
  {
   "cell_type": "code",
   "execution_count": 58,
   "metadata": {
    "ExecuteTime": {
     "end_time": "2020-09-22T07:20:35.688084Z",
     "start_time": "2020-09-22T07:20:35.679084Z"
    }
   },
   "outputs": [
    {
     "data": {
      "text/plain": [
       "27"
      ]
     },
     "execution_count": 58,
     "metadata": {},
     "output_type": "execute_result"
    }
   ],
   "source": [
    "len(set(data['train']['상품코드']).intersection(set(data['test']['상품코드'])))  # 오직 27개의 상품코드만 겹침"
   ]
  },
  {
   "cell_type": "code",
   "execution_count": 59,
   "metadata": {
    "ExecuteTime": {
     "end_time": "2020-09-22T07:20:35.968130Z",
     "start_time": "2020-09-22T07:20:35.946129Z"
    }
   },
   "outputs": [
    {
     "data": {
      "text/html": [
       "<div>\n",
       "<style scoped>\n",
       "    .dataframe tbody tr th:only-of-type {\n",
       "        vertical-align: middle;\n",
       "    }\n",
       "\n",
       "    .dataframe tbody tr th {\n",
       "        vertical-align: top;\n",
       "    }\n",
       "\n",
       "    .dataframe thead th {\n",
       "        text-align: right;\n",
       "    }\n",
       "</style>\n",
       "<table border=\"1\" class=\"dataframe\">\n",
       "  <thead>\n",
       "    <tr style=\"text-align: right;\">\n",
       "      <th></th>\n",
       "      <th>상품코드</th>\n",
       "      <th>상품명</th>\n",
       "      <th>상품군</th>\n",
       "    </tr>\n",
       "    <tr>\n",
       "      <th>방송일시</th>\n",
       "      <th></th>\n",
       "      <th></th>\n",
       "      <th></th>\n",
       "    </tr>\n",
       "  </thead>\n",
       "  <tbody>\n",
       "    <tr>\n",
       "      <th>2019-01-01 06:00:00</th>\n",
       "      <td>201072</td>\n",
       "      <td>테이트 남성 셀린니트3종</td>\n",
       "      <td>의류</td>\n",
       "    </tr>\n",
       "    <tr>\n",
       "      <th>2019-01-01 06:00:00</th>\n",
       "      <td>201079</td>\n",
       "      <td>테이트 여성 셀린니트3종</td>\n",
       "      <td>의류</td>\n",
       "    </tr>\n",
       "    <tr>\n",
       "      <th>2019-01-01 07:00:00</th>\n",
       "      <td>200974</td>\n",
       "      <td>오모떼 레이스 파운데이션 브라</td>\n",
       "      <td>속옷</td>\n",
       "    </tr>\n",
       "    <tr>\n",
       "      <th>2019-01-01 08:00:00</th>\n",
       "      <td>202377</td>\n",
       "      <td>CERINI by PAT 남성 소프트 기모 릴렉스팬츠</td>\n",
       "      <td>의류</td>\n",
       "    </tr>\n",
       "    <tr>\n",
       "      <th>2019-01-01 09:00:00</th>\n",
       "      <td>202404</td>\n",
       "      <td>보코 리버시블 무스탕</td>\n",
       "      <td>의류</td>\n",
       "    </tr>\n",
       "    <tr>\n",
       "      <th>...</th>\n",
       "      <td>...</td>\n",
       "      <td>...</td>\n",
       "      <td>...</td>\n",
       "    </tr>\n",
       "    <tr>\n",
       "      <th>2019-12-31 01:20:00</th>\n",
       "      <td>201357</td>\n",
       "      <td>루시헨느 레이스 홀리데이 란쥬 패키지</td>\n",
       "      <td>속옷</td>\n",
       "    </tr>\n",
       "    <tr>\n",
       "      <th>2019-12-31 06:20:00</th>\n",
       "      <td>201416</td>\n",
       "      <td>크리스티나앤코 리버시블 패딩</td>\n",
       "      <td>의류</td>\n",
       "    </tr>\n",
       "    <tr>\n",
       "      <th>2019-12-31 19:20:00</th>\n",
       "      <td>201819</td>\n",
       "      <td>레스토닉 블루투스 LED 서랍 침대 슈퍼싱글</td>\n",
       "      <td>가구</td>\n",
       "    </tr>\n",
       "    <tr>\n",
       "      <th>2019-12-31 19:20:00</th>\n",
       "      <td>201821</td>\n",
       "      <td>레스토닉 블루투스 LED 서랍 침대 퀸</td>\n",
       "      <td>가구</td>\n",
       "    </tr>\n",
       "    <tr>\n",
       "      <th>2019-12-31 19:20:00</th>\n",
       "      <td>201823</td>\n",
       "      <td>레스토닉 블루투스 LED 서랍 침대 킹</td>\n",
       "      <td>가구</td>\n",
       "    </tr>\n",
       "  </tbody>\n",
       "</table>\n",
       "<p>2122 rows × 3 columns</p>\n",
       "</div>"
      ],
      "text/plain": [
       "                       상품코드                            상품명 상품군\n",
       "방송일시                                                          \n",
       "2019-01-01 06:00:00  201072                  테이트 남성 셀린니트3종  의류\n",
       "2019-01-01 06:00:00  201079                  테이트 여성 셀린니트3종  의류\n",
       "2019-01-01 07:00:00  200974               오모떼 레이스 파운데이션 브라  속옷\n",
       "2019-01-01 08:00:00  202377  CERINI by PAT 남성 소프트 기모 릴렉스팬츠  의류\n",
       "2019-01-01 09:00:00  202404                    보코 리버시블 무스탕  의류\n",
       "...                     ...                            ...  ..\n",
       "2019-12-31 01:20:00  201357           루시헨느 레이스 홀리데이 란쥬 패키지  속옷\n",
       "2019-12-31 06:20:00  201416                크리스티나앤코 리버시블 패딩  의류\n",
       "2019-12-31 19:20:00  201819       레스토닉 블루투스 LED 서랍 침대 슈퍼싱글  가구\n",
       "2019-12-31 19:20:00  201821          레스토닉 블루투스 LED 서랍 침대 퀸  가구\n",
       "2019-12-31 19:20:00  201823          레스토닉 블루투스 LED 서랍 침대 킹  가구\n",
       "\n",
       "[2122 rows x 3 columns]"
      ]
     },
     "execution_count": 59,
     "metadata": {},
     "output_type": "execute_result"
    }
   ],
   "source": [
    "data['train'][['상품코드','상품명','상품군']].drop_duplicates()"
   ]
  },
  {
   "cell_type": "code",
   "execution_count": 60,
   "metadata": {
    "ExecuteTime": {
     "end_time": "2020-09-22T07:20:36.229215Z",
     "start_time": "2020-09-22T07:20:36.215646Z"
    }
   },
   "outputs": [
    {
     "data": {
      "text/html": [
       "<div>\n",
       "<style scoped>\n",
       "    .dataframe tbody tr th:only-of-type {\n",
       "        vertical-align: middle;\n",
       "    }\n",
       "\n",
       "    .dataframe tbody tr th {\n",
       "        vertical-align: top;\n",
       "    }\n",
       "\n",
       "    .dataframe thead th {\n",
       "        text-align: right;\n",
       "    }\n",
       "</style>\n",
       "<table border=\"1\" class=\"dataframe\">\n",
       "  <thead>\n",
       "    <tr style=\"text-align: right;\">\n",
       "      <th></th>\n",
       "      <th>상품코드</th>\n",
       "      <th>상품명</th>\n",
       "      <th>상품군</th>\n",
       "    </tr>\n",
       "    <tr>\n",
       "      <th>방송일시</th>\n",
       "      <th></th>\n",
       "      <th></th>\n",
       "      <th></th>\n",
       "    </tr>\n",
       "  </thead>\n",
       "  <tbody>\n",
       "    <tr>\n",
       "      <th>2020-06-01 06:20:00</th>\n",
       "      <td>201971</td>\n",
       "      <td>잭필드 남성  반팔셔츠 4종</td>\n",
       "      <td>의류</td>\n",
       "    </tr>\n",
       "    <tr>\n",
       "      <th>2020-06-01 07:20:00</th>\n",
       "      <td>202278</td>\n",
       "      <td>쿠미투니카 쿨 레이시 란쥬쉐이퍼&amp;팬티</td>\n",
       "      <td>속옷</td>\n",
       "    </tr>\n",
       "    <tr>\n",
       "      <th>2020-06-01 08:20:00</th>\n",
       "      <td>201247</td>\n",
       "      <td>바비리스 퍼펙트 볼륨스타일러</td>\n",
       "      <td>이미용</td>\n",
       "    </tr>\n",
       "    <tr>\n",
       "      <th>2020-06-01 09:20:00</th>\n",
       "      <td>201956</td>\n",
       "      <td>램프쿡 자동회전냄비</td>\n",
       "      <td>주방</td>\n",
       "    </tr>\n",
       "    <tr>\n",
       "      <th>2020-06-01 10:20:00</th>\n",
       "      <td>201091</td>\n",
       "      <td>벨레즈온 심리스 원피스 4종 패키지</td>\n",
       "      <td>속옷</td>\n",
       "    </tr>\n",
       "    <tr>\n",
       "      <th>...</th>\n",
       "      <td>...</td>\n",
       "      <td>...</td>\n",
       "      <td>...</td>\n",
       "    </tr>\n",
       "    <tr>\n",
       "      <th>2020-06-30 13:20:00</th>\n",
       "      <td>202320</td>\n",
       "      <td>[루이띠에] 24K 999 순금 11.25g 샤인 볼륨 반지</td>\n",
       "      <td>잡화</td>\n",
       "    </tr>\n",
       "    <tr>\n",
       "      <th>2020-06-30 16:20:00</th>\n",
       "      <td>200862</td>\n",
       "      <td>(특대사이즈) 안동간고등어 13팩</td>\n",
       "      <td>농수축</td>\n",
       "    </tr>\n",
       "    <tr>\n",
       "      <th>2020-06-30 17:20:00</th>\n",
       "      <td>200019</td>\n",
       "      <td>AAC녹두삼계탕8팩</td>\n",
       "      <td>농수축</td>\n",
       "    </tr>\n",
       "    <tr>\n",
       "      <th>2020-06-30 17:20:00</th>\n",
       "      <td>200022</td>\n",
       "      <td>AAC녹두삼계탕죽세트</td>\n",
       "      <td>농수축</td>\n",
       "    </tr>\n",
       "    <tr>\n",
       "      <th>2020-07-01 01:20:00</th>\n",
       "      <td>200875</td>\n",
       "      <td>아놀드파마 티셔츠레깅스세트</td>\n",
       "      <td>의류</td>\n",
       "    </tr>\n",
       "  </tbody>\n",
       "</table>\n",
       "<p>417 rows × 3 columns</p>\n",
       "</div>"
      ],
      "text/plain": [
       "                       상품코드                                상품명  상품군\n",
       "방송일시                                                               \n",
       "2020-06-01 06:20:00  201971                    잭필드 남성  반팔셔츠 4종   의류\n",
       "2020-06-01 07:20:00  202278               쿠미투니카 쿨 레이시 란쥬쉐이퍼&팬티   속옷\n",
       "2020-06-01 08:20:00  201247                    바비리스 퍼펙트 볼륨스타일러  이미용\n",
       "2020-06-01 09:20:00  201956                         램프쿡 자동회전냄비   주방\n",
       "2020-06-01 10:20:00  201091                벨레즈온 심리스 원피스 4종 패키지   속옷\n",
       "...                     ...                                ...  ...\n",
       "2020-06-30 13:20:00  202320  [루이띠에] 24K 999 순금 11.25g 샤인 볼륨 반지   잡화\n",
       "2020-06-30 16:20:00  200862                 (특대사이즈) 안동간고등어 13팩  농수축\n",
       "2020-06-30 17:20:00  200019                         AAC녹두삼계탕8팩  농수축\n",
       "2020-06-30 17:20:00  200022                        AAC녹두삼계탕죽세트  농수축\n",
       "2020-07-01 01:20:00  200875                     아놀드파마 티셔츠레깅스세트   의류\n",
       "\n",
       "[417 rows x 3 columns]"
      ]
     },
     "execution_count": 60,
     "metadata": {},
     "output_type": "execute_result"
    }
   ],
   "source": [
    "data['test'][['상품코드','상품명','상품군']].drop_duplicates()"
   ]
  },
  {
   "cell_type": "markdown",
   "metadata": {},
   "source": [
    "### 판매단가"
   ]
  },
  {
   "cell_type": "code",
   "execution_count": 61,
   "metadata": {
    "ExecuteTime": {
     "end_time": "2020-09-22T07:20:37.357458Z",
     "start_time": "2020-09-22T07:20:37.344905Z"
    }
   },
   "outputs": [
    {
     "data": {
      "text/plain": [
       "12800"
      ]
     },
     "execution_count": 61,
     "metadata": {},
     "output_type": "execute_result"
    }
   ],
   "source": [
    "data['train'][data['train']['판매단가'] >0]['판매단가'].unique().min()"
   ]
  },
  {
   "cell_type": "code",
   "execution_count": 62,
   "metadata": {
    "ExecuteTime": {
     "end_time": "2020-09-22T07:20:37.982412Z",
     "start_time": "2020-09-22T07:20:37.976419Z"
    }
   },
   "outputs": [
    {
     "data": {
      "text/plain": [
       "24900"
      ]
     },
     "execution_count": 62,
     "metadata": {},
     "output_type": "execute_result"
    }
   ],
   "source": [
    "data['test'][data['test']['판매단가'] >0]['판매단가'].unique().min()"
   ]
  },
  {
   "cell_type": "markdown",
   "metadata": {},
   "source": [
    "#### 상품명별 판매단가"
   ]
  },
  {
   "cell_type": "code",
   "execution_count": 63,
   "metadata": {
    "ExecuteTime": {
     "end_time": "2020-09-22T07:20:39.061129Z",
     "start_time": "2020-09-22T07:20:38.808425Z"
    }
   },
   "outputs": [
    {
     "data": {
      "image/png": "[encoded data removed]",
      "text/plain": [
       "<Figure size 1008x720 with 1 Axes>"
      ]
     },
     "metadata": {},
     "output_type": "display_data"
    }
   ],
   "source": [
    "prod_group = data['train']['2019'].groupby('상품명').mean()\n",
    "prod_group['판매단가'].sort_values(ascending=False)[:10].plot(kind='bar', figsize=(14, 10))\n",
    "plt.show()"
   ]
  },
  {
   "cell_type": "code",
   "execution_count": 64,
   "metadata": {
    "ExecuteTime": {
     "end_time": "2020-09-22T07:20:39.929146Z",
     "start_time": "2020-09-22T07:20:39.562566Z"
    }
   },
   "outputs": [
    {
     "data": {
      "image/png": "[encoded data removed]",
      "text/plain": [
       "<Figure size 1008x720 with 1 Axes>"
      ]
     },
     "metadata": {},
     "output_type": "display_data"
    }
   ],
   "source": [
    "plt.figure(figsize=(14,10))\n",
    "sns.boxplot(x = '상품군', y = '판매단가', data = data['train'])\n",
    "plt.show()"
   ]
  },
  {
   "cell_type": "code",
   "execution_count": 65,
   "metadata": {
    "ExecuteTime": {
     "end_time": "2020-09-22T07:20:40.244699Z",
     "start_time": "2020-09-22T07:20:39.930115Z"
    }
   },
   "outputs": [
    {
     "data": {
      "image/png": "[encoded data removed]",
      "text/plain": [
       "<Figure size 1008x720 with 1 Axes>"
      ]
     },
     "metadata": {},
     "output_type": "display_data"
    }
   ],
   "source": [
    "plt.figure(figsize=(14,10))\n",
    "sns.boxplot(x = '상품군', y = '판매단가', data = data['test'])\n",
    "plt.show()"
   ]
  },
  {
   "cell_type": "markdown",
   "metadata": {},
   "source": [
    "### 취급액"
   ]
  },
  {
   "cell_type": "code",
   "execution_count": 66,
   "metadata": {
    "ExecuteTime": {
     "end_time": "2020-09-22T07:20:41.546168Z",
     "start_time": "2020-09-22T07:20:41.128479Z"
    }
   },
   "outputs": [
    {
     "data": {
      "image/png": "[encoded data removed]",
      "text/plain": [
       "<Figure size 1008x720 with 1 Axes>"
      ]
     },
     "metadata": {},
     "output_type": "display_data"
    }
   ],
   "source": [
    "data['train'].pivot_table(values=['취급액'],\n",
    "                   index=['상품군'],\n",
    "                   aggfunc='sum').sort_values(by='취급액',ascending=False).plot(kind='barh', figsize=(14, 10))\n",
    "plt.show()"
   ]
  },
  {
   "cell_type": "code",
   "execution_count": 67,
   "metadata": {
    "ExecuteTime": {
     "end_time": "2020-09-22T07:20:42.408131Z",
     "start_time": "2020-09-22T07:20:42.160073Z"
    }
   },
   "outputs": [
    {
     "data": {
      "image/png": "[encoded data removed]",
      "text/plain": [
       "<Figure size 1008x720 with 1 Axes>"
      ]
     },
     "metadata": {},
     "output_type": "display_data"
    }
   ],
   "source": [
    "# TOP10만 확인\n",
    "data['train'].pivot_table(values=['취급액'],\n",
    "                          index=['상품명'],\n",
    "                          aggfunc='sum').sort_values(by='취급액',ascending=False)[:10].plot(kind='barh', figsize=(14, 10))\n",
    "plt.show()"
   ]
  },
  {
   "cell_type": "code",
   "execution_count": 68,
   "metadata": {
    "ExecuteTime": {
     "end_time": "2020-09-22T07:20:44.009387Z",
     "start_time": "2020-09-22T07:20:43.806301Z"
    }
   },
   "outputs": [
    {
     "data": {
      "image/png": "[encoded data removed]",
      "text/plain": [
       "<Figure size 1008x720 with 1 Axes>"
      ]
     },
     "metadata": {},
     "output_type": "display_data"
    }
   ],
   "source": [
    "data['train'][['상품코드','상품명','상품군']]['상품군'].value_counts().plot(kind = 'barh', figsize=(14, 10))\n",
    "plt.show()"
   ]
  },
  {
   "cell_type": "code",
   "execution_count": 69,
   "metadata": {
    "ExecuteTime": {
     "end_time": "2020-09-22T07:20:44.798173Z",
     "start_time": "2020-09-22T07:20:44.594166Z"
    }
   },
   "outputs": [
    {
     "data": {
      "image/png": "[encoded data removed]",
      "text/plain": [
       "<Figure size 1008x720 with 1 Axes>"
      ]
     },
     "metadata": {},
     "output_type": "display_data"
    }
   ],
   "source": [
    "data['test'][['상품코드','상품명','상품군']]['상품군'].value_counts().plot(kind = 'barh', figsize=(14, 10))\n",
    "plt.show()"
   ]
  },
  {
   "cell_type": "code",
   "execution_count": 70,
   "metadata": {
    "ExecuteTime": {
     "end_time": "2020-09-22T07:20:46.732098Z",
     "start_time": "2020-09-22T07:20:46.727096Z"
    }
   },
   "outputs": [
    {
     "data": {
      "text/plain": [
       "322009000.0"
      ]
     },
     "execution_count": 70,
     "metadata": {},
     "output_type": "execute_result"
    }
   ],
   "source": [
    "np.nanmax(data['train']['취급액'].unique())"
   ]
  },
  {
   "cell_type": "code",
   "execution_count": 71,
   "metadata": {
    "ExecuteTime": {
     "end_time": "2020-09-22T07:20:47.706896Z",
     "start_time": "2020-09-22T07:20:47.352152Z"
    }
   },
   "outputs": [
    {
     "data": {
      "image/png": "[encoded data removed]",
      "text/plain": [
       "<Figure size 1008x720 with 1 Axes>"
      ]
     },
     "metadata": {},
     "output_type": "display_data"
    }
   ],
   "source": [
    "plt.figure(figsize=(14,10))\n",
    "sns.boxplot(x = '상품군', y = '취급액', data = data['train'])\n",
    "plt.show()"
   ]
  },
  {
   "cell_type": "code",
   "execution_count": 72,
   "metadata": {
    "ExecuteTime": {
     "end_time": "2020-09-22T07:20:47.964716Z",
     "start_time": "2020-09-22T07:20:47.710868Z"
    }
   },
   "outputs": [
    {
     "data": {
      "image/png": "[encoded data removed]",
      "text/plain": [
       "<Figure size 1008x720 with 1 Axes>"
      ]
     },
     "metadata": {},
     "output_type": "display_data"
    }
   ],
   "source": [
    "cat_outcome = data['train'][['상품군', '취급액']].groupby('상품군').mean()\n",
    "cat_outcome.sort_values(by=['취급액'], axis=0, ascending=False).plot(kind='bar', figsize=(14, 10))\n",
    "plt.show()"
   ]
  },
  {
   "cell_type": "code",
   "execution_count": 73,
   "metadata": {
    "ExecuteTime": {
     "end_time": "2020-09-22T07:20:48.601003Z",
     "start_time": "2020-09-22T07:20:48.162285Z"
    }
   },
   "outputs": [
    {
     "data": {
      "image/png": "[encoded data removed]",
      "text/plain": [
       "<Figure size 1008x720 with 1 Axes>"
      ]
     },
     "metadata": {},
     "output_type": "display_data"
    }
   ],
   "source": [
    "cat_duration = data['train'][['상품군', '노출(분)']].groupby('상품군').mean()\n",
    "cat_duration.sort_values(by=['노출(분)'], axis=0, ascending=False).plot(kind='bar', figsize=(14, 10))\n",
    "plt.ylim(15,25)\n",
    "plt.show()"
   ]
  },
  {
   "cell_type": "code",
   "execution_count": 74,
   "metadata": {
    "ExecuteTime": {
     "end_time": "2020-09-22T07:20:48.832704Z",
     "start_time": "2020-09-22T07:20:48.603002Z"
    }
   },
   "outputs": [
    {
     "data": {
      "image/png": "[encoded data removed]",
      "text/plain": [
       "<Figure size 1008x720 with 1 Axes>"
      ]
     },
     "metadata": {},
     "output_type": "display_data"
    }
   ],
   "source": [
    "month_group = data['train']['2019'].groupby('월').mean()\n",
    "month_group['취급액'].plot(kind='bar', figsize=(14, 10))\n",
    "plt.axhline(y = np.mean(month_group.취급액), color = 'red', ls = '--')\n",
    "plt.ylim(month_group['취급액'].min()*0.9, month_group['취급액'].max()*1.1)\n",
    "plt.show()"
   ]
  },
  {
   "cell_type": "code",
   "execution_count": 75,
   "metadata": {
    "ExecuteTime": {
     "end_time": "2020-09-22T07:20:49.476943Z",
     "start_time": "2020-09-22T07:20:49.112388Z"
    }
   },
   "outputs": [
    {
     "data": {
      "image/png": "[encoded data removed]",
      "text/plain": [
       "<Figure size 1008x720 with 1 Axes>"
      ]
     },
     "metadata": {},
     "output_type": "display_data"
    }
   ],
   "source": [
    "day_group = data['train']['2019'].groupby('일').sum()\n",
    "day_group['취급액'].plot(kind='bar', figsize=(14, 10))\n",
    "plt.axhline(y = np.mean(day_group['취급액']), color = 'red', ls = '--')\n",
    "plt.ylim(day_group['취급액'].min()*0.9, day_group['취급액'].max()*1.1)\n",
    "plt.show()"
   ]
  },
  {
   "cell_type": "code",
   "execution_count": 76,
   "metadata": {
    "ExecuteTime": {
     "end_time": "2020-09-22T07:20:49.833996Z",
     "start_time": "2020-09-22T07:20:49.551453Z"
    },
    "scrolled": false
   },
   "outputs": [
    {
     "data": {
      "image/png": "[encoded data removed]",
      "text/plain": [
       "<Figure size 1008x720 with 1 Axes>"
      ]
     },
     "metadata": {},
     "output_type": "display_data"
    }
   ],
   "source": [
    "hour_group = data['train']['2019'].groupby('시').mean()\n",
    "hour_group['취급액'].plot(kind='bar', figsize=(14, 10))\n",
    "plt.axhline(y = np.mean(hour_group['취급액']), color = 'red', ls = '--')\n",
    "plt.ylim(hour_group['취급액'].min()*0.9, hour_group['취급액'].max()*1.1)\n",
    "plt.show()"
   ]
  },
  {
   "cell_type": "code",
   "execution_count": 77,
   "metadata": {
    "ExecuteTime": {
     "end_time": "2020-09-22T07:20:50.326986Z",
     "start_time": "2020-09-22T07:20:49.967748Z"
    }
   },
   "outputs": [
    {
     "data": {
      "image/png": "[encoded data removed]",
      "text/plain": [
       "<Figure size 1008x720 with 1 Axes>"
      ]
     },
     "metadata": {},
     "output_type": "display_data"
    }
   ],
   "source": [
    "weekday_group = data['train']['2019'].groupby('요일').mean()\n",
    "weekday_group = weekday_group.T.loc['취급액',['Mon','Tue','Wed','Thu','Fri','Sat','Sun']]\n",
    "weekday_group.plot(kind='bar', figsize=(14, 10)) #0: Monday ~ 6: Sunday\n",
    "plt.axhline(y = np.mean(weekday_group), color = 'red', ls = '--')\n",
    "plt.ylim(weekday_group.min()*0.9, weekday_group.max()*1.1)\n",
    "plt.show()"
   ]
  },
  {
   "cell_type": "markdown",
   "metadata": {},
   "source": [
    "### 시청률"
   ]
  },
  {
   "cell_type": "code",
   "execution_count": 78,
   "metadata": {
    "ExecuteTime": {
     "end_time": "2020-09-22T07:20:51.368205Z",
     "start_time": "2020-09-22T07:20:51.354208Z"
    }
   },
   "outputs": [
    {
     "data": {
      "text/html": [
       "<div>\n",
       "<style scoped>\n",
       "    .dataframe tbody tr th:only-of-type {\n",
       "        vertical-align: middle;\n",
       "    }\n",
       "\n",
       "    .dataframe tbody tr th {\n",
       "        vertical-align: top;\n",
       "    }\n",
       "\n",
       "    .dataframe thead th {\n",
       "        text-align: right;\n",
       "    }\n",
       "</style>\n",
       "<table border=\"1\" class=\"dataframe\">\n",
       "  <thead>\n",
       "    <tr style=\"text-align: right;\">\n",
       "      <th></th>\n",
       "      <th>2019-01-01</th>\n",
       "      <th>2019-01-02</th>\n",
       "      <th>2019-01-03</th>\n",
       "      <th>2019-01-04</th>\n",
       "      <th>2019-01-05</th>\n",
       "      <th>2019-01-06</th>\n",
       "      <th>2019-01-07</th>\n",
       "      <th>2019-01-08</th>\n",
       "      <th>2019-01-09</th>\n",
       "      <th>2019-01-10</th>\n",
       "      <th>...</th>\n",
       "      <th>2019-12-23</th>\n",
       "      <th>2019-12-24</th>\n",
       "      <th>2019-12-25</th>\n",
       "      <th>2019-12-26</th>\n",
       "      <th>2019-12-27</th>\n",
       "      <th>2019-12-28</th>\n",
       "      <th>2019-12-29</th>\n",
       "      <th>2019-12-30</th>\n",
       "      <th>2019-12-31</th>\n",
       "      <th>2019-01-01 to 2019-12-31</th>\n",
       "    </tr>\n",
       "    <tr>\n",
       "      <th>시간대</th>\n",
       "      <th></th>\n",
       "      <th></th>\n",
       "      <th></th>\n",
       "      <th></th>\n",
       "      <th></th>\n",
       "      <th></th>\n",
       "      <th></th>\n",
       "      <th></th>\n",
       "      <th></th>\n",
       "      <th></th>\n",
       "      <th></th>\n",
       "      <th></th>\n",
       "      <th></th>\n",
       "      <th></th>\n",
       "      <th></th>\n",
       "      <th></th>\n",
       "      <th></th>\n",
       "      <th></th>\n",
       "      <th></th>\n",
       "      <th></th>\n",
       "      <th></th>\n",
       "    </tr>\n",
       "  </thead>\n",
       "  <tbody>\n",
       "    <tr>\n",
       "      <th>02:00</th>\n",
       "      <td>0.0000</td>\n",
       "      <td>0.0000</td>\n",
       "      <td>0.0000</td>\n",
       "      <td>0.0000</td>\n",
       "      <td>0.0000</td>\n",
       "      <td>0.0000</td>\n",
       "      <td>0.0000</td>\n",
       "      <td>0.0000</td>\n",
       "      <td>0.0000</td>\n",
       "      <td>0.0000</td>\n",
       "      <td>...</td>\n",
       "      <td>0.0000</td>\n",
       "      <td>0.0000</td>\n",
       "      <td>0.0000</td>\n",
       "      <td>0.0000</td>\n",
       "      <td>0.0000</td>\n",
       "      <td>0.0000</td>\n",
       "      <td>0.0000</td>\n",
       "      <td>0.0000</td>\n",
       "      <td>0.0000</td>\n",
       "      <td>0.0030</td>\n",
       "    </tr>\n",
       "    <tr>\n",
       "      <th>02:01</th>\n",
       "      <td>0.0000</td>\n",
       "      <td>0.0000</td>\n",
       "      <td>0.0000</td>\n",
       "      <td>0.0000</td>\n",
       "      <td>0.0000</td>\n",
       "      <td>0.0000</td>\n",
       "      <td>0.0000</td>\n",
       "      <td>0.0000</td>\n",
       "      <td>0.0000</td>\n",
       "      <td>0.0050</td>\n",
       "      <td>...</td>\n",
       "      <td>0.0000</td>\n",
       "      <td>0.0000</td>\n",
       "      <td>0.0000</td>\n",
       "      <td>0.0000</td>\n",
       "      <td>0.0000</td>\n",
       "      <td>0.0000</td>\n",
       "      <td>0.0000</td>\n",
       "      <td>0.0000</td>\n",
       "      <td>0.0120</td>\n",
       "      <td>0.0030</td>\n",
       "    </tr>\n",
       "    <tr>\n",
       "      <th>02:02</th>\n",
       "      <td>0.0000</td>\n",
       "      <td>0.0000</td>\n",
       "      <td>0.0000</td>\n",
       "      <td>0.0000</td>\n",
       "      <td>0.0000</td>\n",
       "      <td>0.0000</td>\n",
       "      <td>0.0000</td>\n",
       "      <td>0.0000</td>\n",
       "      <td>0.0000</td>\n",
       "      <td>0.0050</td>\n",
       "      <td>...</td>\n",
       "      <td>0.0000</td>\n",
       "      <td>0.0000</td>\n",
       "      <td>0.0000</td>\n",
       "      <td>0.0000</td>\n",
       "      <td>0.0000</td>\n",
       "      <td>0.0000</td>\n",
       "      <td>0.0000</td>\n",
       "      <td>0.0000</td>\n",
       "      <td>0.0000</td>\n",
       "      <td>0.0040</td>\n",
       "    </tr>\n",
       "    <tr>\n",
       "      <th>02:03</th>\n",
       "      <td>0.0000</td>\n",
       "      <td>0.0000</td>\n",
       "      <td>0.0140</td>\n",
       "      <td>0.0000</td>\n",
       "      <td>0.0000</td>\n",
       "      <td>0.0000</td>\n",
       "      <td>0.0000</td>\n",
       "      <td>0.0000</td>\n",
       "      <td>0.0000</td>\n",
       "      <td>0.0050</td>\n",
       "      <td>...</td>\n",
       "      <td>0.0000</td>\n",
       "      <td>0.0000</td>\n",
       "      <td>0.0170</td>\n",
       "      <td>0.0000</td>\n",
       "      <td>0.0000</td>\n",
       "      <td>0.0000</td>\n",
       "      <td>0.0000</td>\n",
       "      <td>0.0000</td>\n",
       "      <td>0.0000</td>\n",
       "      <td>0.0040</td>\n",
       "    </tr>\n",
       "    <tr>\n",
       "      <th>02:04</th>\n",
       "      <td>0.0000</td>\n",
       "      <td>0.0000</td>\n",
       "      <td>0.0000</td>\n",
       "      <td>0.0000</td>\n",
       "      <td>0.0000</td>\n",
       "      <td>0.0000</td>\n",
       "      <td>0.0000</td>\n",
       "      <td>0.0000</td>\n",
       "      <td>0.0000</td>\n",
       "      <td>0.0050</td>\n",
       "      <td>...</td>\n",
       "      <td>0.0000</td>\n",
       "      <td>0.0000</td>\n",
       "      <td>0.0170</td>\n",
       "      <td>0.0000</td>\n",
       "      <td>0.0000</td>\n",
       "      <td>0.0000</td>\n",
       "      <td>0.0000</td>\n",
       "      <td>0.0000</td>\n",
       "      <td>0.0000</td>\n",
       "      <td>0.0040</td>\n",
       "    </tr>\n",
       "  </tbody>\n",
       "</table>\n",
       "<p>5 rows × 366 columns</p>\n",
       "</div>"
      ],
      "text/plain": [
       "       2019-01-01  2019-01-02  2019-01-03  2019-01-04  2019-01-05  2019-01-06  \\\n",
       "시간대                                                                             \n",
       "02:00      0.0000      0.0000      0.0000      0.0000      0.0000      0.0000   \n",
       "02:01      0.0000      0.0000      0.0000      0.0000      0.0000      0.0000   \n",
       "02:02      0.0000      0.0000      0.0000      0.0000      0.0000      0.0000   \n",
       "02:03      0.0000      0.0000      0.0140      0.0000      0.0000      0.0000   \n",
       "02:04      0.0000      0.0000      0.0000      0.0000      0.0000      0.0000   \n",
       "\n",
       "       2019-01-07  2019-01-08  2019-01-09  2019-01-10  ...  2019-12-23  \\\n",
       "시간대                                                    ...               \n",
       "02:00      0.0000      0.0000      0.0000      0.0000  ...      0.0000   \n",
       "02:01      0.0000      0.0000      0.0000      0.0050  ...      0.0000   \n",
       "02:02      0.0000      0.0000      0.0000      0.0050  ...      0.0000   \n",
       "02:03      0.0000      0.0000      0.0000      0.0050  ...      0.0000   \n",
       "02:04      0.0000      0.0000      0.0000      0.0050  ...      0.0000   \n",
       "\n",
       "       2019-12-24  2019-12-25  2019-12-26  2019-12-27  2019-12-28  2019-12-29  \\\n",
       "시간대                                                                             \n",
       "02:00      0.0000      0.0000      0.0000      0.0000      0.0000      0.0000   \n",
       "02:01      0.0000      0.0000      0.0000      0.0000      0.0000      0.0000   \n",
       "02:02      0.0000      0.0000      0.0000      0.0000      0.0000      0.0000   \n",
       "02:03      0.0000      0.0170      0.0000      0.0000      0.0000      0.0000   \n",
       "02:04      0.0000      0.0170      0.0000      0.0000      0.0000      0.0000   \n",
       "\n",
       "       2019-12-30  2019-12-31  2019-01-01 to 2019-12-31  \n",
       "시간대                                                      \n",
       "02:00      0.0000      0.0000                    0.0030  \n",
       "02:01      0.0000      0.0120                    0.0030  \n",
       "02:02      0.0000      0.0000                    0.0040  \n",
       "02:03      0.0000      0.0000                    0.0040  \n",
       "02:04      0.0000      0.0000                    0.0040  \n",
       "\n",
       "[5 rows x 366 columns]"
      ]
     },
     "execution_count": 78,
     "metadata": {},
     "output_type": "execute_result"
    }
   ],
   "source": [
    "data['rating'].head()"
   ]
  },
  {
   "cell_type": "code",
   "execution_count": 79,
   "metadata": {
    "ExecuteTime": {
     "end_time": "2020-09-22T07:20:51.654801Z",
     "start_time": "2020-09-22T07:20:51.640272Z"
    }
   },
   "outputs": [
    {
     "data": {
      "text/html": [
       "<div>\n",
       "<style scoped>\n",
       "    .dataframe tbody tr th:only-of-type {\n",
       "        vertical-align: middle;\n",
       "    }\n",
       "\n",
       "    .dataframe tbody tr th {\n",
       "        vertical-align: top;\n",
       "    }\n",
       "\n",
       "    .dataframe thead th {\n",
       "        text-align: right;\n",
       "    }\n",
       "</style>\n",
       "<table border=\"1\" class=\"dataframe\">\n",
       "  <thead>\n",
       "    <tr style=\"text-align: right;\">\n",
       "      <th></th>\n",
       "      <th>2019-01-01</th>\n",
       "      <th>2019-01-02</th>\n",
       "      <th>2019-01-03</th>\n",
       "      <th>2019-01-04</th>\n",
       "      <th>2019-01-05</th>\n",
       "      <th>2019-01-06</th>\n",
       "      <th>2019-01-07</th>\n",
       "      <th>2019-01-08</th>\n",
       "      <th>2019-01-09</th>\n",
       "      <th>2019-01-10</th>\n",
       "      <th>...</th>\n",
       "      <th>2019-12-23</th>\n",
       "      <th>2019-12-24</th>\n",
       "      <th>2019-12-25</th>\n",
       "      <th>2019-12-26</th>\n",
       "      <th>2019-12-27</th>\n",
       "      <th>2019-12-28</th>\n",
       "      <th>2019-12-29</th>\n",
       "      <th>2019-12-30</th>\n",
       "      <th>2019-12-31</th>\n",
       "      <th>2019-01-01 to 2019-12-31</th>\n",
       "    </tr>\n",
       "    <tr>\n",
       "      <th>시간대</th>\n",
       "      <th></th>\n",
       "      <th></th>\n",
       "      <th></th>\n",
       "      <th></th>\n",
       "      <th></th>\n",
       "      <th></th>\n",
       "      <th></th>\n",
       "      <th></th>\n",
       "      <th></th>\n",
       "      <th></th>\n",
       "      <th></th>\n",
       "      <th></th>\n",
       "      <th></th>\n",
       "      <th></th>\n",
       "      <th></th>\n",
       "      <th></th>\n",
       "      <th></th>\n",
       "      <th></th>\n",
       "      <th></th>\n",
       "      <th></th>\n",
       "      <th></th>\n",
       "    </tr>\n",
       "  </thead>\n",
       "  <tbody>\n",
       "    <tr>\n",
       "      <th>01:56</th>\n",
       "      <td>0.0000</td>\n",
       "      <td>0.0000</td>\n",
       "      <td>0.0000</td>\n",
       "      <td>0.0000</td>\n",
       "      <td>0.0270</td>\n",
       "      <td>0.0000</td>\n",
       "      <td>0.0000</td>\n",
       "      <td>0.0000</td>\n",
       "      <td>0.0000</td>\n",
       "      <td>0.0000</td>\n",
       "      <td>...</td>\n",
       "      <td>0.0130</td>\n",
       "      <td>0.0000</td>\n",
       "      <td>0.0000</td>\n",
       "      <td>0.0000</td>\n",
       "      <td>0.0150</td>\n",
       "      <td>0.0000</td>\n",
       "      <td>0.0000</td>\n",
       "      <td>0.0000</td>\n",
       "      <td>0.0000</td>\n",
       "      <td>0.0040</td>\n",
       "    </tr>\n",
       "    <tr>\n",
       "      <th>01:57</th>\n",
       "      <td>0.0000</td>\n",
       "      <td>0.0000</td>\n",
       "      <td>0.0000</td>\n",
       "      <td>0.0000</td>\n",
       "      <td>0.0000</td>\n",
       "      <td>0.0000</td>\n",
       "      <td>0.0000</td>\n",
       "      <td>0.0000</td>\n",
       "      <td>0.0040</td>\n",
       "      <td>0.0000</td>\n",
       "      <td>...</td>\n",
       "      <td>0.0130</td>\n",
       "      <td>0.0000</td>\n",
       "      <td>0.0000</td>\n",
       "      <td>0.0000</td>\n",
       "      <td>0.0150</td>\n",
       "      <td>0.0000</td>\n",
       "      <td>0.0000</td>\n",
       "      <td>0.0000</td>\n",
       "      <td>0.0000</td>\n",
       "      <td>0.0040</td>\n",
       "    </tr>\n",
       "    <tr>\n",
       "      <th>01:58</th>\n",
       "      <td>0.0000</td>\n",
       "      <td>0.0000</td>\n",
       "      <td>0.0000</td>\n",
       "      <td>0.0000</td>\n",
       "      <td>0.0000</td>\n",
       "      <td>0.0000</td>\n",
       "      <td>0.0000</td>\n",
       "      <td>0.0000</td>\n",
       "      <td>0.0040</td>\n",
       "      <td>0.0000</td>\n",
       "      <td>...</td>\n",
       "      <td>0.0130</td>\n",
       "      <td>0.0170</td>\n",
       "      <td>0.0000</td>\n",
       "      <td>0.0000</td>\n",
       "      <td>0.0150</td>\n",
       "      <td>0.0000</td>\n",
       "      <td>0.0000</td>\n",
       "      <td>0.0190</td>\n",
       "      <td>0.0000</td>\n",
       "      <td>0.0040</td>\n",
       "    </tr>\n",
       "    <tr>\n",
       "      <th>01:59</th>\n",
       "      <td>0.0000</td>\n",
       "      <td>0.0000</td>\n",
       "      <td>0.0000</td>\n",
       "      <td>0.0000</td>\n",
       "      <td>0.0000</td>\n",
       "      <td>0.0000</td>\n",
       "      <td>0.0000</td>\n",
       "      <td>0.0000</td>\n",
       "      <td>0.0040</td>\n",
       "      <td>0.0000</td>\n",
       "      <td>...</td>\n",
       "      <td>0.0130</td>\n",
       "      <td>0.0000</td>\n",
       "      <td>0.0000</td>\n",
       "      <td>0.0000</td>\n",
       "      <td>0.0150</td>\n",
       "      <td>0.0000</td>\n",
       "      <td>0.0000</td>\n",
       "      <td>0.0000</td>\n",
       "      <td>0.0000</td>\n",
       "      <td>0.0040</td>\n",
       "    </tr>\n",
       "    <tr>\n",
       "      <th>월화수목금토일02:00-01:59</th>\n",
       "      <td>0.0040</td>\n",
       "      <td>0.0060</td>\n",
       "      <td>0.0020</td>\n",
       "      <td>0.0030</td>\n",
       "      <td>0.0020</td>\n",
       "      <td>0.0030</td>\n",
       "      <td>0.0030</td>\n",
       "      <td>0.0020</td>\n",
       "      <td>0.0030</td>\n",
       "      <td>0.0020</td>\n",
       "      <td>...</td>\n",
       "      <td>0.0100</td>\n",
       "      <td>0.0060</td>\n",
       "      <td>0.0060</td>\n",
       "      <td>0.0070</td>\n",
       "      <td>0.0040</td>\n",
       "      <td>0.0060</td>\n",
       "      <td>0.0040</td>\n",
       "      <td>0.0050</td>\n",
       "      <td>0.0050</td>\n",
       "      <td>0.0040</td>\n",
       "    </tr>\n",
       "  </tbody>\n",
       "</table>\n",
       "<p>5 rows × 366 columns</p>\n",
       "</div>"
      ],
      "text/plain": [
       "                    2019-01-01  2019-01-02  2019-01-03  2019-01-04  \\\n",
       "시간대                                                                  \n",
       "01:56                   0.0000      0.0000      0.0000      0.0000   \n",
       "01:57                   0.0000      0.0000      0.0000      0.0000   \n",
       "01:58                   0.0000      0.0000      0.0000      0.0000   \n",
       "01:59                   0.0000      0.0000      0.0000      0.0000   \n",
       "월화수목금토일02:00-01:59      0.0040      0.0060      0.0020      0.0030   \n",
       "\n",
       "                    2019-01-05  2019-01-06  2019-01-07  2019-01-08  \\\n",
       "시간대                                                                  \n",
       "01:56                   0.0270      0.0000      0.0000      0.0000   \n",
       "01:57                   0.0000      0.0000      0.0000      0.0000   \n",
       "01:58                   0.0000      0.0000      0.0000      0.0000   \n",
       "01:59                   0.0000      0.0000      0.0000      0.0000   \n",
       "월화수목금토일02:00-01:59      0.0020      0.0030      0.0030      0.0020   \n",
       "\n",
       "                    2019-01-09  2019-01-10  ...  2019-12-23  2019-12-24  \\\n",
       "시간대                                         ...                           \n",
       "01:56                   0.0000      0.0000  ...      0.0130      0.0000   \n",
       "01:57                   0.0040      0.0000  ...      0.0130      0.0000   \n",
       "01:58                   0.0040      0.0000  ...      0.0130      0.0170   \n",
       "01:59                   0.0040      0.0000  ...      0.0130      0.0000   \n",
       "월화수목금토일02:00-01:59      0.0030      0.0020  ...      0.0100      0.0060   \n",
       "\n",
       "                    2019-12-25  2019-12-26  2019-12-27  2019-12-28  \\\n",
       "시간대                                                                  \n",
       "01:56                   0.0000      0.0000      0.0150      0.0000   \n",
       "01:57                   0.0000      0.0000      0.0150      0.0000   \n",
       "01:58                   0.0000      0.0000      0.0150      0.0000   \n",
       "01:59                   0.0000      0.0000      0.0150      0.0000   \n",
       "월화수목금토일02:00-01:59      0.0060      0.0070      0.0040      0.0060   \n",
       "\n",
       "                    2019-12-29  2019-12-30  2019-12-31  \\\n",
       "시간대                                                      \n",
       "01:56                   0.0000      0.0000      0.0000   \n",
       "01:57                   0.0000      0.0000      0.0000   \n",
       "01:58                   0.0000      0.0190      0.0000   \n",
       "01:59                   0.0000      0.0000      0.0000   \n",
       "월화수목금토일02:00-01:59      0.0040      0.0050      0.0050   \n",
       "\n",
       "                    2019-01-01 to 2019-12-31  \n",
       "시간대                                           \n",
       "01:56                                 0.0040  \n",
       "01:57                                 0.0040  \n",
       "01:58                                 0.0040  \n",
       "01:59                                 0.0040  \n",
       "월화수목금토일02:00-01:59                    0.0040  \n",
       "\n",
       "[5 rows x 366 columns]"
      ]
     },
     "execution_count": 79,
     "metadata": {},
     "output_type": "execute_result"
    }
   ],
   "source": [
    "data['rating'].tail()"
   ]
  },
  {
   "cell_type": "code",
   "execution_count": 80,
   "metadata": {
    "ExecuteTime": {
     "end_time": "2020-09-22T07:20:53.183094Z",
     "start_time": "2020-09-22T07:20:52.993101Z"
    }
   },
   "outputs": [
    {
     "data": {
      "image/png": "[encoded data removed]",
      "text/plain": [
       "<Figure size 1008x720 with 1 Axes>"
      ]
     },
     "metadata": {},
     "output_type": "display_data"
    }
   ],
   "source": [
    "plt.figure(figsize=(14,10))\n",
    "tv_day = data['rating'].iloc[-1,1:]   #일 평균 시청률, length: 365\n",
    "tv_day = tv_day*100\n",
    "tv_day.plot()             #하반기에 높은 시청률을 보임.\n",
    "plt.show()"
   ]
  },
  {
   "cell_type": "code",
   "execution_count": 81,
   "metadata": {
    "ExecuteTime": {
     "end_time": "2020-09-22T07:20:53.587655Z",
     "start_time": "2020-09-22T07:20:53.582682Z"
    }
   },
   "outputs": [
    {
     "data": {
      "text/plain": [
       "2019-01-02   0.6000\n",
       "2019-01-03   0.2000\n",
       "2019-01-04   0.3000\n",
       "2019-01-05   0.2000\n",
       "2019-01-06   0.3000\n",
       "Name: 월화수목금토일02:00-01:59, dtype: float64"
      ]
     },
     "execution_count": 81,
     "metadata": {},
     "output_type": "execute_result"
    }
   ],
   "source": [
    "tv_day.head()"
   ]
  },
  {
   "cell_type": "code",
   "execution_count": 82,
   "metadata": {
    "ExecuteTime": {
     "end_time": "2020-09-22T07:20:54.302315Z",
     "start_time": "2020-09-22T07:20:54.118802Z"
    }
   },
   "outputs": [
    {
     "data": {
      "image/png": "[encoded data removed]",
      "text/plain": [
       "<Figure size 1008x720 with 1 Axes>"
      ]
     },
     "metadata": {},
     "output_type": "display_data"
    }
   ],
   "source": [
    "plt.figure(figsize=(14,10))\n",
    "tv_min = data['rating'].iloc[:-1,-1]   #분당 시청률 02:00(0) ~ 01:59(1439), length: 1439\n",
    "tv_min = tv_min*100\n",
    "tv_min.plot()              #800(15시 경)에 시청률이 가장 높은 추이\n",
    "plt.show()"
   ]
  },
  {
   "cell_type": "code",
   "execution_count": 83,
   "metadata": {
    "ExecuteTime": {
     "end_time": "2020-09-22T07:20:54.925160Z",
     "start_time": "2020-09-22T07:20:54.912098Z"
    }
   },
   "outputs": [
    {
     "data": {
      "text/html": [
       "<div>\n",
       "<style scoped>\n",
       "    .dataframe tbody tr th:only-of-type {\n",
       "        vertical-align: middle;\n",
       "    }\n",
       "\n",
       "    .dataframe tbody tr th {\n",
       "        vertical-align: top;\n",
       "    }\n",
       "\n",
       "    .dataframe thead th {\n",
       "        text-align: right;\n",
       "    }\n",
       "</style>\n",
       "<table border=\"1\" class=\"dataframe\">\n",
       "  <thead>\n",
       "    <tr style=\"text-align: right;\">\n",
       "      <th></th>\n",
       "      <th>2019-01-01</th>\n",
       "      <th>2019-01-02</th>\n",
       "      <th>2019-01-03</th>\n",
       "      <th>2019-01-04</th>\n",
       "      <th>2019-01-05</th>\n",
       "      <th>2019-01-06</th>\n",
       "      <th>2019-01-07</th>\n",
       "      <th>2019-01-08</th>\n",
       "      <th>2019-01-09</th>\n",
       "      <th>2019-01-10</th>\n",
       "      <th>...</th>\n",
       "      <th>2019-12-23</th>\n",
       "      <th>2019-12-24</th>\n",
       "      <th>2019-12-25</th>\n",
       "      <th>2019-12-26</th>\n",
       "      <th>2019-12-27</th>\n",
       "      <th>2019-12-28</th>\n",
       "      <th>2019-12-29</th>\n",
       "      <th>2019-12-30</th>\n",
       "      <th>2019-12-31</th>\n",
       "      <th>2019-01-01 to 2019-12-31</th>\n",
       "    </tr>\n",
       "    <tr>\n",
       "      <th>시간대</th>\n",
       "      <th></th>\n",
       "      <th></th>\n",
       "      <th></th>\n",
       "      <th></th>\n",
       "      <th></th>\n",
       "      <th></th>\n",
       "      <th></th>\n",
       "      <th></th>\n",
       "      <th></th>\n",
       "      <th></th>\n",
       "      <th></th>\n",
       "      <th></th>\n",
       "      <th></th>\n",
       "      <th></th>\n",
       "      <th></th>\n",
       "      <th></th>\n",
       "      <th></th>\n",
       "      <th></th>\n",
       "      <th></th>\n",
       "      <th></th>\n",
       "      <th></th>\n",
       "    </tr>\n",
       "  </thead>\n",
       "  <tbody>\n",
       "    <tr>\n",
       "      <th>01:56</th>\n",
       "      <td>0.0000</td>\n",
       "      <td>0.0000</td>\n",
       "      <td>0.0000</td>\n",
       "      <td>0.0000</td>\n",
       "      <td>0.0270</td>\n",
       "      <td>0.0000</td>\n",
       "      <td>0.0000</td>\n",
       "      <td>0.0000</td>\n",
       "      <td>0.0000</td>\n",
       "      <td>0.0000</td>\n",
       "      <td>...</td>\n",
       "      <td>0.0130</td>\n",
       "      <td>0.0000</td>\n",
       "      <td>0.0000</td>\n",
       "      <td>0.0000</td>\n",
       "      <td>0.0150</td>\n",
       "      <td>0.0000</td>\n",
       "      <td>0.0000</td>\n",
       "      <td>0.0000</td>\n",
       "      <td>0.0000</td>\n",
       "      <td>0.0040</td>\n",
       "    </tr>\n",
       "    <tr>\n",
       "      <th>01:57</th>\n",
       "      <td>0.0000</td>\n",
       "      <td>0.0000</td>\n",
       "      <td>0.0000</td>\n",
       "      <td>0.0000</td>\n",
       "      <td>0.0000</td>\n",
       "      <td>0.0000</td>\n",
       "      <td>0.0000</td>\n",
       "      <td>0.0000</td>\n",
       "      <td>0.0040</td>\n",
       "      <td>0.0000</td>\n",
       "      <td>...</td>\n",
       "      <td>0.0130</td>\n",
       "      <td>0.0000</td>\n",
       "      <td>0.0000</td>\n",
       "      <td>0.0000</td>\n",
       "      <td>0.0150</td>\n",
       "      <td>0.0000</td>\n",
       "      <td>0.0000</td>\n",
       "      <td>0.0000</td>\n",
       "      <td>0.0000</td>\n",
       "      <td>0.0040</td>\n",
       "    </tr>\n",
       "    <tr>\n",
       "      <th>01:58</th>\n",
       "      <td>0.0000</td>\n",
       "      <td>0.0000</td>\n",
       "      <td>0.0000</td>\n",
       "      <td>0.0000</td>\n",
       "      <td>0.0000</td>\n",
       "      <td>0.0000</td>\n",
       "      <td>0.0000</td>\n",
       "      <td>0.0000</td>\n",
       "      <td>0.0040</td>\n",
       "      <td>0.0000</td>\n",
       "      <td>...</td>\n",
       "      <td>0.0130</td>\n",
       "      <td>0.0170</td>\n",
       "      <td>0.0000</td>\n",
       "      <td>0.0000</td>\n",
       "      <td>0.0150</td>\n",
       "      <td>0.0000</td>\n",
       "      <td>0.0000</td>\n",
       "      <td>0.0190</td>\n",
       "      <td>0.0000</td>\n",
       "      <td>0.0040</td>\n",
       "    </tr>\n",
       "    <tr>\n",
       "      <th>01:59</th>\n",
       "      <td>0.0000</td>\n",
       "      <td>0.0000</td>\n",
       "      <td>0.0000</td>\n",
       "      <td>0.0000</td>\n",
       "      <td>0.0000</td>\n",
       "      <td>0.0000</td>\n",
       "      <td>0.0000</td>\n",
       "      <td>0.0000</td>\n",
       "      <td>0.0040</td>\n",
       "      <td>0.0000</td>\n",
       "      <td>...</td>\n",
       "      <td>0.0130</td>\n",
       "      <td>0.0000</td>\n",
       "      <td>0.0000</td>\n",
       "      <td>0.0000</td>\n",
       "      <td>0.0150</td>\n",
       "      <td>0.0000</td>\n",
       "      <td>0.0000</td>\n",
       "      <td>0.0000</td>\n",
       "      <td>0.0000</td>\n",
       "      <td>0.0040</td>\n",
       "    </tr>\n",
       "    <tr>\n",
       "      <th>월화수목금토일02:00-01:59</th>\n",
       "      <td>0.0040</td>\n",
       "      <td>0.0060</td>\n",
       "      <td>0.0020</td>\n",
       "      <td>0.0030</td>\n",
       "      <td>0.0020</td>\n",
       "      <td>0.0030</td>\n",
       "      <td>0.0030</td>\n",
       "      <td>0.0020</td>\n",
       "      <td>0.0030</td>\n",
       "      <td>0.0020</td>\n",
       "      <td>...</td>\n",
       "      <td>0.0100</td>\n",
       "      <td>0.0060</td>\n",
       "      <td>0.0060</td>\n",
       "      <td>0.0070</td>\n",
       "      <td>0.0040</td>\n",
       "      <td>0.0060</td>\n",
       "      <td>0.0040</td>\n",
       "      <td>0.0050</td>\n",
       "      <td>0.0050</td>\n",
       "      <td>0.0040</td>\n",
       "    </tr>\n",
       "  </tbody>\n",
       "</table>\n",
       "<p>5 rows × 366 columns</p>\n",
       "</div>"
      ],
      "text/plain": [
       "                    2019-01-01  2019-01-02  2019-01-03  2019-01-04  \\\n",
       "시간대                                                                  \n",
       "01:56                   0.0000      0.0000      0.0000      0.0000   \n",
       "01:57                   0.0000      0.0000      0.0000      0.0000   \n",
       "01:58                   0.0000      0.0000      0.0000      0.0000   \n",
       "01:59                   0.0000      0.0000      0.0000      0.0000   \n",
       "월화수목금토일02:00-01:59      0.0040      0.0060      0.0020      0.0030   \n",
       "\n",
       "                    2019-01-05  2019-01-06  2019-01-07  2019-01-08  \\\n",
       "시간대                                                                  \n",
       "01:56                   0.0270      0.0000      0.0000      0.0000   \n",
       "01:57                   0.0000      0.0000      0.0000      0.0000   \n",
       "01:58                   0.0000      0.0000      0.0000      0.0000   \n",
       "01:59                   0.0000      0.0000      0.0000      0.0000   \n",
       "월화수목금토일02:00-01:59      0.0020      0.0030      0.0030      0.0020   \n",
       "\n",
       "                    2019-01-09  2019-01-10  ...  2019-12-23  2019-12-24  \\\n",
       "시간대                                         ...                           \n",
       "01:56                   0.0000      0.0000  ...      0.0130      0.0000   \n",
       "01:57                   0.0040      0.0000  ...      0.0130      0.0000   \n",
       "01:58                   0.0040      0.0000  ...      0.0130      0.0170   \n",
       "01:59                   0.0040      0.0000  ...      0.0130      0.0000   \n",
       "월화수목금토일02:00-01:59      0.0030      0.0020  ...      0.0100      0.0060   \n",
       "\n",
       "                    2019-12-25  2019-12-26  2019-12-27  2019-12-28  \\\n",
       "시간대                                                                  \n",
       "01:56                   0.0000      0.0000      0.0150      0.0000   \n",
       "01:57                   0.0000      0.0000      0.0150      0.0000   \n",
       "01:58                   0.0000      0.0000      0.0150      0.0000   \n",
       "01:59                   0.0000      0.0000      0.0150      0.0000   \n",
       "월화수목금토일02:00-01:59      0.0060      0.0070      0.0040      0.0060   \n",
       "\n",
       "                    2019-12-29  2019-12-30  2019-12-31  \\\n",
       "시간대                                                      \n",
       "01:56                   0.0000      0.0000      0.0000   \n",
       "01:57                   0.0000      0.0000      0.0000   \n",
       "01:58                   0.0000      0.0190      0.0000   \n",
       "01:59                   0.0000      0.0000      0.0000   \n",
       "월화수목금토일02:00-01:59      0.0040      0.0050      0.0050   \n",
       "\n",
       "                    2019-01-01 to 2019-12-31  \n",
       "시간대                                           \n",
       "01:56                                 0.0040  \n",
       "01:57                                 0.0040  \n",
       "01:58                                 0.0040  \n",
       "01:59                                 0.0040  \n",
       "월화수목금토일02:00-01:59                    0.0040  \n",
       "\n",
       "[5 rows x 366 columns]"
      ]
     },
     "execution_count": 83,
     "metadata": {},
     "output_type": "execute_result"
    }
   ],
   "source": [
    "data['rating'].tail()"
   ]
  },
  {
   "cell_type": "code",
   "execution_count": 84,
   "metadata": {
    "ExecuteTime": {
     "end_time": "2020-09-22T07:20:55.467164Z",
     "start_time": "2020-09-22T07:20:55.464164Z"
    }
   },
   "outputs": [
    {
     "data": {
      "text/plain": [
       "(1441, 366)"
      ]
     },
     "execution_count": 84,
     "metadata": {},
     "output_type": "execute_result"
    }
   ],
   "source": [
    "data['rating'].shape"
   ]
  },
  {
   "cell_type": "markdown",
   "metadata": {},
   "source": [
    "----\n",
    "\n",
    "## 특성 공학(Feature Engineering)"
   ]
  },
  {
   "cell_type": "markdown",
   "metadata": {},
   "source": [
    "### 임베딩 벡터 추가"
   ]
  },
  {
   "cell_type": "code",
   "execution_count": 85,
   "metadata": {
    "ExecuteTime": {
     "end_time": "2020-09-22T07:20:56.819050Z",
     "start_time": "2020-09-22T07:20:56.816048Z"
    }
   },
   "outputs": [],
   "source": [
    "columns = [f'embed_{i}' for i in range(10)]"
   ]
  },
  {
   "cell_type": "code",
   "execution_count": 86,
   "metadata": {
    "ExecuteTime": {
     "end_time": "2020-09-22T07:20:57.283646Z",
     "start_time": "2020-09-22T07:20:57.271672Z"
    }
   },
   "outputs": [],
   "source": [
    "_data_train = data['train'].loc[~(data['train']['상품군'].isin(['무형'])),:].copy()\n",
    "_data_test = data['test'].loc[~(data['test']['상품군'].isin(['무형'])),:].copy()"
   ]
  },
  {
   "cell_type": "code",
   "execution_count": 87,
   "metadata": {
    "ExecuteTime": {
     "end_time": "2020-09-22T07:20:58.037996Z",
     "start_time": "2020-09-22T07:20:57.904433Z"
    }
   },
   "outputs": [
    {
     "data": {
      "text/html": [
       "<div>\n",
       "<style scoped>\n",
       "    .dataframe tbody tr th:only-of-type {\n",
       "        vertical-align: middle;\n",
       "    }\n",
       "\n",
       "    .dataframe tbody tr th {\n",
       "        vertical-align: top;\n",
       "    }\n",
       "\n",
       "    .dataframe thead th {\n",
       "        text-align: right;\n",
       "    }\n",
       "</style>\n",
       "<table border=\"1\" class=\"dataframe\">\n",
       "  <thead>\n",
       "    <tr style=\"text-align: right;\">\n",
       "      <th></th>\n",
       "      <th>노출(분)</th>\n",
       "      <th>마더코드</th>\n",
       "      <th>상품코드</th>\n",
       "      <th>상품명</th>\n",
       "      <th>상품군</th>\n",
       "      <th>판매단가</th>\n",
       "      <th>취급액</th>\n",
       "      <th>연</th>\n",
       "      <th>월</th>\n",
       "      <th>일</th>\n",
       "      <th>...</th>\n",
       "      <th>2</th>\n",
       "      <th>3</th>\n",
       "      <th>4</th>\n",
       "      <th>5</th>\n",
       "      <th>6</th>\n",
       "      <th>7</th>\n",
       "      <th>8</th>\n",
       "      <th>9</th>\n",
       "      <th>10</th>\n",
       "      <th>11</th>\n",
       "    </tr>\n",
       "    <tr>\n",
       "      <th>방송일시</th>\n",
       "      <th></th>\n",
       "      <th></th>\n",
       "      <th></th>\n",
       "      <th></th>\n",
       "      <th></th>\n",
       "      <th></th>\n",
       "      <th></th>\n",
       "      <th></th>\n",
       "      <th></th>\n",
       "      <th></th>\n",
       "      <th></th>\n",
       "      <th></th>\n",
       "      <th></th>\n",
       "      <th></th>\n",
       "      <th></th>\n",
       "      <th></th>\n",
       "      <th></th>\n",
       "      <th></th>\n",
       "      <th></th>\n",
       "      <th></th>\n",
       "      <th></th>\n",
       "    </tr>\n",
       "  </thead>\n",
       "  <tbody>\n",
       "    <tr>\n",
       "      <th>2019-01-01 06:00:00</th>\n",
       "      <td>20.0000</td>\n",
       "      <td>100346</td>\n",
       "      <td>201072</td>\n",
       "      <td>테이트 남성 셀린니트3종</td>\n",
       "      <td>의류</td>\n",
       "      <td>39900</td>\n",
       "      <td>2099000.0000</td>\n",
       "      <td>2019</td>\n",
       "      <td>1</td>\n",
       "      <td>1</td>\n",
       "      <td>...</td>\n",
       "      <td>셀린니트</td>\n",
       "      <td>의류</td>\n",
       "      <td>None</td>\n",
       "      <td>None</td>\n",
       "      <td>None</td>\n",
       "      <td>None</td>\n",
       "      <td>None</td>\n",
       "      <td>None</td>\n",
       "      <td>None</td>\n",
       "      <td>None</td>\n",
       "    </tr>\n",
       "    <tr>\n",
       "      <th>2019-01-01 06:00:00</th>\n",
       "      <td>20.0000</td>\n",
       "      <td>100346</td>\n",
       "      <td>201079</td>\n",
       "      <td>테이트 여성 셀린니트3종</td>\n",
       "      <td>의류</td>\n",
       "      <td>39900</td>\n",
       "      <td>4371000.0000</td>\n",
       "      <td>2019</td>\n",
       "      <td>1</td>\n",
       "      <td>1</td>\n",
       "      <td>...</td>\n",
       "      <td>셀린니트</td>\n",
       "      <td>의류</td>\n",
       "      <td>None</td>\n",
       "      <td>None</td>\n",
       "      <td>None</td>\n",
       "      <td>None</td>\n",
       "      <td>None</td>\n",
       "      <td>None</td>\n",
       "      <td>None</td>\n",
       "      <td>None</td>\n",
       "    </tr>\n",
       "    <tr>\n",
       "      <th>2019-01-01 06:20:00</th>\n",
       "      <td>20.0000</td>\n",
       "      <td>100346</td>\n",
       "      <td>201072</td>\n",
       "      <td>테이트 남성 셀린니트3종</td>\n",
       "      <td>의류</td>\n",
       "      <td>39900</td>\n",
       "      <td>3262000.0000</td>\n",
       "      <td>2019</td>\n",
       "      <td>1</td>\n",
       "      <td>1</td>\n",
       "      <td>...</td>\n",
       "      <td>셀린니트</td>\n",
       "      <td>의류</td>\n",
       "      <td>None</td>\n",
       "      <td>None</td>\n",
       "      <td>None</td>\n",
       "      <td>None</td>\n",
       "      <td>None</td>\n",
       "      <td>None</td>\n",
       "      <td>None</td>\n",
       "      <td>None</td>\n",
       "    </tr>\n",
       "    <tr>\n",
       "      <th>2019-01-01 06:20:00</th>\n",
       "      <td>20.0000</td>\n",
       "      <td>100346</td>\n",
       "      <td>201079</td>\n",
       "      <td>테이트 여성 셀린니트3종</td>\n",
       "      <td>의류</td>\n",
       "      <td>39900</td>\n",
       "      <td>6955000.0000</td>\n",
       "      <td>2019</td>\n",
       "      <td>1</td>\n",
       "      <td>1</td>\n",
       "      <td>...</td>\n",
       "      <td>셀린니트</td>\n",
       "      <td>의류</td>\n",
       "      <td>None</td>\n",
       "      <td>None</td>\n",
       "      <td>None</td>\n",
       "      <td>None</td>\n",
       "      <td>None</td>\n",
       "      <td>None</td>\n",
       "      <td>None</td>\n",
       "      <td>None</td>\n",
       "    </tr>\n",
       "    <tr>\n",
       "      <th>2019-01-01 06:40:00</th>\n",
       "      <td>20.0000</td>\n",
       "      <td>100346</td>\n",
       "      <td>201072</td>\n",
       "      <td>테이트 남성 셀린니트3종</td>\n",
       "      <td>의류</td>\n",
       "      <td>39900</td>\n",
       "      <td>6672000.0000</td>\n",
       "      <td>2019</td>\n",
       "      <td>1</td>\n",
       "      <td>1</td>\n",
       "      <td>...</td>\n",
       "      <td>셀린니트</td>\n",
       "      <td>의류</td>\n",
       "      <td>None</td>\n",
       "      <td>None</td>\n",
       "      <td>None</td>\n",
       "      <td>None</td>\n",
       "      <td>None</td>\n",
       "      <td>None</td>\n",
       "      <td>None</td>\n",
       "      <td>None</td>\n",
       "    </tr>\n",
       "    <tr>\n",
       "      <th>...</th>\n",
       "      <td>...</td>\n",
       "      <td>...</td>\n",
       "      <td>...</td>\n",
       "      <td>...</td>\n",
       "      <td>...</td>\n",
       "      <td>...</td>\n",
       "      <td>...</td>\n",
       "      <td>...</td>\n",
       "      <td>...</td>\n",
       "      <td>...</td>\n",
       "      <td>...</td>\n",
       "      <td>...</td>\n",
       "      <td>...</td>\n",
       "      <td>...</td>\n",
       "      <td>...</td>\n",
       "      <td>...</td>\n",
       "      <td>...</td>\n",
       "      <td>...</td>\n",
       "      <td>...</td>\n",
       "      <td>...</td>\n",
       "      <td>...</td>\n",
       "    </tr>\n",
       "    <tr>\n",
       "      <th>2019-12-31 23:20:00</th>\n",
       "      <td>20.0000</td>\n",
       "      <td>100448</td>\n",
       "      <td>201391</td>\n",
       "      <td>일시불쿠첸압력밥솥 6인용</td>\n",
       "      <td>주방</td>\n",
       "      <td>148000</td>\n",
       "      <td>1664000.0000</td>\n",
       "      <td>2019</td>\n",
       "      <td>12</td>\n",
       "      <td>31</td>\n",
       "      <td>...</td>\n",
       "      <td>압력</td>\n",
       "      <td>밥솥</td>\n",
       "      <td>주방</td>\n",
       "      <td>None</td>\n",
       "      <td>None</td>\n",
       "      <td>None</td>\n",
       "      <td>None</td>\n",
       "      <td>None</td>\n",
       "      <td>None</td>\n",
       "      <td>None</td>\n",
       "    </tr>\n",
       "    <tr>\n",
       "      <th>2019-12-31 23:40:00</th>\n",
       "      <td>20.0000</td>\n",
       "      <td>100448</td>\n",
       "      <td>201383</td>\n",
       "      <td>무이자쿠첸압력밥솥 10인용</td>\n",
       "      <td>주방</td>\n",
       "      <td>178000</td>\n",
       "      <td>9149000.0000</td>\n",
       "      <td>2019</td>\n",
       "      <td>12</td>\n",
       "      <td>31</td>\n",
       "      <td>...</td>\n",
       "      <td>압력</td>\n",
       "      <td>밥솥</td>\n",
       "      <td>주방</td>\n",
       "      <td>None</td>\n",
       "      <td>None</td>\n",
       "      <td>None</td>\n",
       "      <td>None</td>\n",
       "      <td>None</td>\n",
       "      <td>None</td>\n",
       "      <td>None</td>\n",
       "    </tr>\n",
       "    <tr>\n",
       "      <th>2019-12-31 23:40:00</th>\n",
       "      <td>20.0000</td>\n",
       "      <td>100448</td>\n",
       "      <td>201390</td>\n",
       "      <td>일시불쿠첸압력밥솥 10인용</td>\n",
       "      <td>주방</td>\n",
       "      <td>168000</td>\n",
       "      <td>15282000.0000</td>\n",
       "      <td>2019</td>\n",
       "      <td>12</td>\n",
       "      <td>31</td>\n",
       "      <td>...</td>\n",
       "      <td>압력</td>\n",
       "      <td>밥솥</td>\n",
       "      <td>주방</td>\n",
       "      <td>None</td>\n",
       "      <td>None</td>\n",
       "      <td>None</td>\n",
       "      <td>None</td>\n",
       "      <td>None</td>\n",
       "      <td>None</td>\n",
       "      <td>None</td>\n",
       "    </tr>\n",
       "    <tr>\n",
       "      <th>2019-12-31 23:40:00</th>\n",
       "      <td>20.0000</td>\n",
       "      <td>100448</td>\n",
       "      <td>201384</td>\n",
       "      <td>무이자쿠첸압력밥솥 6인용</td>\n",
       "      <td>주방</td>\n",
       "      <td>158000</td>\n",
       "      <td>2328000.0000</td>\n",
       "      <td>2019</td>\n",
       "      <td>12</td>\n",
       "      <td>31</td>\n",
       "      <td>...</td>\n",
       "      <td>압력</td>\n",
       "      <td>밥솥</td>\n",
       "      <td>주방</td>\n",
       "      <td>None</td>\n",
       "      <td>None</td>\n",
       "      <td>None</td>\n",
       "      <td>None</td>\n",
       "      <td>None</td>\n",
       "      <td>None</td>\n",
       "      <td>None</td>\n",
       "    </tr>\n",
       "    <tr>\n",
       "      <th>2019-12-31 23:40:00</th>\n",
       "      <td>20.0000</td>\n",
       "      <td>100448</td>\n",
       "      <td>201391</td>\n",
       "      <td>일시불쿠첸압력밥솥 6인용</td>\n",
       "      <td>주방</td>\n",
       "      <td>148000</td>\n",
       "      <td>10157000.0000</td>\n",
       "      <td>2019</td>\n",
       "      <td>12</td>\n",
       "      <td>31</td>\n",
       "      <td>...</td>\n",
       "      <td>압력</td>\n",
       "      <td>밥솥</td>\n",
       "      <td>주방</td>\n",
       "      <td>None</td>\n",
       "      <td>None</td>\n",
       "      <td>None</td>\n",
       "      <td>None</td>\n",
       "      <td>None</td>\n",
       "      <td>None</td>\n",
       "      <td>None</td>\n",
       "    </tr>\n",
       "  </tbody>\n",
       "</table>\n",
       "<p>37368 rows × 36 columns</p>\n",
       "</div>"
      ],
      "text/plain": [
       "                      노출(분)    마더코드    상품코드             상품명 상품군    판매단가  \\\n",
       "방송일시                                                                      \n",
       "2019-01-01 06:00:00 20.0000  100346  201072   테이트 남성 셀린니트3종  의류   39900   \n",
       "2019-01-01 06:00:00 20.0000  100346  201079   테이트 여성 셀린니트3종  의류   39900   \n",
       "2019-01-01 06:20:00 20.0000  100346  201072   테이트 남성 셀린니트3종  의류   39900   \n",
       "2019-01-01 06:20:00 20.0000  100346  201079   테이트 여성 셀린니트3종  의류   39900   \n",
       "2019-01-01 06:40:00 20.0000  100346  201072   테이트 남성 셀린니트3종  의류   39900   \n",
       "...                     ...     ...     ...             ...  ..     ...   \n",
       "2019-12-31 23:20:00 20.0000  100448  201391   일시불쿠첸압력밥솥 6인용  주방  148000   \n",
       "2019-12-31 23:40:00 20.0000  100448  201383  무이자쿠첸압력밥솥 10인용  주방  178000   \n",
       "2019-12-31 23:40:00 20.0000  100448  201390  일시불쿠첸압력밥솥 10인용  주방  168000   \n",
       "2019-12-31 23:40:00 20.0000  100448  201384   무이자쿠첸압력밥솥 6인용  주방  158000   \n",
       "2019-12-31 23:40:00 20.0000  100448  201391   일시불쿠첸압력밥솥 6인용  주방  148000   \n",
       "\n",
       "                              취급액     연   월   일  ...     2   3     4     5  \\\n",
       "방송일시                                             ...                         \n",
       "2019-01-01 06:00:00  2099000.0000  2019   1   1  ...  셀린니트  의류  None  None   \n",
       "2019-01-01 06:00:00  4371000.0000  2019   1   1  ...  셀린니트  의류  None  None   \n",
       "2019-01-01 06:20:00  3262000.0000  2019   1   1  ...  셀린니트  의류  None  None   \n",
       "2019-01-01 06:20:00  6955000.0000  2019   1   1  ...  셀린니트  의류  None  None   \n",
       "2019-01-01 06:40:00  6672000.0000  2019   1   1  ...  셀린니트  의류  None  None   \n",
       "...                           ...   ...  ..  ..  ...   ...  ..   ...   ...   \n",
       "2019-12-31 23:20:00  1664000.0000  2019  12  31  ...    압력  밥솥    주방  None   \n",
       "2019-12-31 23:40:00  9149000.0000  2019  12  31  ...    압력  밥솥    주방  None   \n",
       "2019-12-31 23:40:00 15282000.0000  2019  12  31  ...    압력  밥솥    주방  None   \n",
       "2019-12-31 23:40:00  2328000.0000  2019  12  31  ...    압력  밥솥    주방  None   \n",
       "2019-12-31 23:40:00 10157000.0000  2019  12  31  ...    압력  밥솥    주방  None   \n",
       "\n",
       "                        6     7     8     9    10    11  \n",
       "방송일시                                                     \n",
       "2019-01-01 06:00:00  None  None  None  None  None  None  \n",
       "2019-01-01 06:00:00  None  None  None  None  None  None  \n",
       "2019-01-01 06:20:00  None  None  None  None  None  None  \n",
       "2019-01-01 06:20:00  None  None  None  None  None  None  \n",
       "2019-01-01 06:40:00  None  None  None  None  None  None  \n",
       "...                   ...   ...   ...   ...   ...   ...  \n",
       "2019-12-31 23:20:00  None  None  None  None  None  None  \n",
       "2019-12-31 23:40:00  None  None  None  None  None  None  \n",
       "2019-12-31 23:40:00  None  None  None  None  None  None  \n",
       "2019-12-31 23:40:00  None  None  None  None  None  None  \n",
       "2019-12-31 23:40:00  None  None  None  None  None  None  \n",
       "\n",
       "[37368 rows x 36 columns]"
      ]
     },
     "execution_count": 87,
     "metadata": {},
     "output_type": "execute_result"
    }
   ],
   "source": [
    "data['train'] = pd.concat([_data_train, \n",
    "                           pd.DataFrame(xys, index=_data_train.index, columns=columns),\n",
    "                           pd.DataFrame(processed_tokens, index=_data_train.index)],axis=1)\n",
    "data['train']"
   ]
  },
  {
   "cell_type": "code",
   "execution_count": 88,
   "metadata": {
    "ExecuteTime": {
     "end_time": "2020-09-22T07:21:18.475729Z",
     "start_time": "2020-09-22T07:21:18.256148Z"
    }
   },
   "outputs": [
    {
     "data": {
      "text/html": [
       "<div>\n",
       "<style scoped>\n",
       "    .dataframe tbody tr th:only-of-type {\n",
       "        vertical-align: middle;\n",
       "    }\n",
       "\n",
       "    .dataframe tbody tr th {\n",
       "        vertical-align: top;\n",
       "    }\n",
       "\n",
       "    .dataframe thead th {\n",
       "        text-align: right;\n",
       "    }\n",
       "</style>\n",
       "<table border=\"1\" class=\"dataframe\">\n",
       "  <thead>\n",
       "    <tr style=\"text-align: right;\">\n",
       "      <th></th>\n",
       "      <th>노출(분)</th>\n",
       "      <th>마더코드</th>\n",
       "      <th>상품코드</th>\n",
       "      <th>상품명</th>\n",
       "      <th>상품군</th>\n",
       "      <th>판매단가</th>\n",
       "      <th>취급액</th>\n",
       "      <th>연</th>\n",
       "      <th>월</th>\n",
       "      <th>일</th>\n",
       "      <th>...</th>\n",
       "      <th>9</th>\n",
       "      <th>10</th>\n",
       "      <th>11</th>\n",
       "      <th>12</th>\n",
       "      <th>13</th>\n",
       "      <th>14</th>\n",
       "      <th>15</th>\n",
       "      <th>16</th>\n",
       "      <th>17</th>\n",
       "      <th>18</th>\n",
       "    </tr>\n",
       "    <tr>\n",
       "      <th>방송일시</th>\n",
       "      <th></th>\n",
       "      <th></th>\n",
       "      <th></th>\n",
       "      <th></th>\n",
       "      <th></th>\n",
       "      <th></th>\n",
       "      <th></th>\n",
       "      <th></th>\n",
       "      <th></th>\n",
       "      <th></th>\n",
       "      <th></th>\n",
       "      <th></th>\n",
       "      <th></th>\n",
       "      <th></th>\n",
       "      <th></th>\n",
       "      <th></th>\n",
       "      <th></th>\n",
       "      <th></th>\n",
       "      <th></th>\n",
       "      <th></th>\n",
       "      <th></th>\n",
       "    </tr>\n",
       "  </thead>\n",
       "  <tbody>\n",
       "    <tr>\n",
       "      <th>2020-06-01 06:20:00</th>\n",
       "      <td>20.0000</td>\n",
       "      <td>100650</td>\n",
       "      <td>201971</td>\n",
       "      <td>잭필드 남성  반팔셔츠 4종</td>\n",
       "      <td>의류</td>\n",
       "      <td>59800</td>\n",
       "      <td>nan</td>\n",
       "      <td>2020</td>\n",
       "      <td>6</td>\n",
       "      <td>1</td>\n",
       "      <td>...</td>\n",
       "      <td>None</td>\n",
       "      <td>None</td>\n",
       "      <td>None</td>\n",
       "      <td>None</td>\n",
       "      <td>None</td>\n",
       "      <td>None</td>\n",
       "      <td>None</td>\n",
       "      <td>None</td>\n",
       "      <td>None</td>\n",
       "      <td>None</td>\n",
       "    </tr>\n",
       "    <tr>\n",
       "      <th>2020-06-01 06:40:00</th>\n",
       "      <td>20.0000</td>\n",
       "      <td>100650</td>\n",
       "      <td>201971</td>\n",
       "      <td>잭필드 남성  반팔셔츠 4종</td>\n",
       "      <td>의류</td>\n",
       "      <td>59800</td>\n",
       "      <td>nan</td>\n",
       "      <td>2020</td>\n",
       "      <td>6</td>\n",
       "      <td>1</td>\n",
       "      <td>...</td>\n",
       "      <td>None</td>\n",
       "      <td>None</td>\n",
       "      <td>None</td>\n",
       "      <td>None</td>\n",
       "      <td>None</td>\n",
       "      <td>None</td>\n",
       "      <td>None</td>\n",
       "      <td>None</td>\n",
       "      <td>None</td>\n",
       "      <td>None</td>\n",
       "    </tr>\n",
       "    <tr>\n",
       "      <th>2020-06-01 07:00:00</th>\n",
       "      <td>20.0000</td>\n",
       "      <td>100650</td>\n",
       "      <td>201971</td>\n",
       "      <td>잭필드 남성  반팔셔츠 4종</td>\n",
       "      <td>의류</td>\n",
       "      <td>59800</td>\n",
       "      <td>nan</td>\n",
       "      <td>2020</td>\n",
       "      <td>6</td>\n",
       "      <td>1</td>\n",
       "      <td>...</td>\n",
       "      <td>None</td>\n",
       "      <td>None</td>\n",
       "      <td>None</td>\n",
       "      <td>None</td>\n",
       "      <td>None</td>\n",
       "      <td>None</td>\n",
       "      <td>None</td>\n",
       "      <td>None</td>\n",
       "      <td>None</td>\n",
       "      <td>None</td>\n",
       "    </tr>\n",
       "    <tr>\n",
       "      <th>2020-06-01 07:20:00</th>\n",
       "      <td>20.0000</td>\n",
       "      <td>100445</td>\n",
       "      <td>202278</td>\n",
       "      <td>쿠미투니카 쿨 레이시 란쥬쉐이퍼&amp;팬티</td>\n",
       "      <td>속옷</td>\n",
       "      <td>69900</td>\n",
       "      <td>nan</td>\n",
       "      <td>2020</td>\n",
       "      <td>6</td>\n",
       "      <td>1</td>\n",
       "      <td>...</td>\n",
       "      <td>None</td>\n",
       "      <td>None</td>\n",
       "      <td>None</td>\n",
       "      <td>None</td>\n",
       "      <td>None</td>\n",
       "      <td>None</td>\n",
       "      <td>None</td>\n",
       "      <td>None</td>\n",
       "      <td>None</td>\n",
       "      <td>None</td>\n",
       "    </tr>\n",
       "    <tr>\n",
       "      <th>2020-06-01 07:40:00</th>\n",
       "      <td>20.0000</td>\n",
       "      <td>100445</td>\n",
       "      <td>202278</td>\n",
       "      <td>쿠미투니카 쿨 레이시 란쥬쉐이퍼&amp;팬티</td>\n",
       "      <td>속옷</td>\n",
       "      <td>69900</td>\n",
       "      <td>nan</td>\n",
       "      <td>2020</td>\n",
       "      <td>6</td>\n",
       "      <td>1</td>\n",
       "      <td>...</td>\n",
       "      <td>None</td>\n",
       "      <td>None</td>\n",
       "      <td>None</td>\n",
       "      <td>None</td>\n",
       "      <td>None</td>\n",
       "      <td>None</td>\n",
       "      <td>None</td>\n",
       "      <td>None</td>\n",
       "      <td>None</td>\n",
       "      <td>None</td>\n",
       "    </tr>\n",
       "    <tr>\n",
       "      <th>...</th>\n",
       "      <td>...</td>\n",
       "      <td>...</td>\n",
       "      <td>...</td>\n",
       "      <td>...</td>\n",
       "      <td>...</td>\n",
       "      <td>...</td>\n",
       "      <td>...</td>\n",
       "      <td>...</td>\n",
       "      <td>...</td>\n",
       "      <td>...</td>\n",
       "      <td>...</td>\n",
       "      <td>...</td>\n",
       "      <td>...</td>\n",
       "      <td>...</td>\n",
       "      <td>...</td>\n",
       "      <td>...</td>\n",
       "      <td>...</td>\n",
       "      <td>...</td>\n",
       "      <td>...</td>\n",
       "      <td>...</td>\n",
       "      <td>...</td>\n",
       "    </tr>\n",
       "    <tr>\n",
       "      <th>2020-07-01 00:10:00</th>\n",
       "      <td>10.0000</td>\n",
       "      <td>100099</td>\n",
       "      <td>200273</td>\n",
       "      <td>[일시불]라쉬반 FC바로셀로나 드로즈 패키지</td>\n",
       "      <td>속옷</td>\n",
       "      <td>99000</td>\n",
       "      <td>nan</td>\n",
       "      <td>2020</td>\n",
       "      <td>7</td>\n",
       "      <td>1</td>\n",
       "      <td>...</td>\n",
       "      <td>None</td>\n",
       "      <td>None</td>\n",
       "      <td>None</td>\n",
       "      <td>None</td>\n",
       "      <td>None</td>\n",
       "      <td>None</td>\n",
       "      <td>None</td>\n",
       "      <td>None</td>\n",
       "      <td>None</td>\n",
       "      <td>None</td>\n",
       "    </tr>\n",
       "    <tr>\n",
       "      <th>2020-07-01 00:10:00</th>\n",
       "      <td>10.0000</td>\n",
       "      <td>100099</td>\n",
       "      <td>200272</td>\n",
       "      <td>[무이자]라쉬반 FC바로셀로나 드로즈 패키지</td>\n",
       "      <td>속옷</td>\n",
       "      <td>119000</td>\n",
       "      <td>nan</td>\n",
       "      <td>2020</td>\n",
       "      <td>7</td>\n",
       "      <td>1</td>\n",
       "      <td>...</td>\n",
       "      <td>None</td>\n",
       "      <td>None</td>\n",
       "      <td>None</td>\n",
       "      <td>None</td>\n",
       "      <td>None</td>\n",
       "      <td>None</td>\n",
       "      <td>None</td>\n",
       "      <td>None</td>\n",
       "      <td>None</td>\n",
       "      <td>None</td>\n",
       "    </tr>\n",
       "    <tr>\n",
       "      <th>2020-07-01 00:10:00</th>\n",
       "      <td>10.0000</td>\n",
       "      <td>100099</td>\n",
       "      <td>200274</td>\n",
       "      <td>라쉬반 FC바로셀로나 드로즈 8종</td>\n",
       "      <td>속옷</td>\n",
       "      <td>119000</td>\n",
       "      <td>nan</td>\n",
       "      <td>2020</td>\n",
       "      <td>7</td>\n",
       "      <td>1</td>\n",
       "      <td>...</td>\n",
       "      <td>None</td>\n",
       "      <td>None</td>\n",
       "      <td>None</td>\n",
       "      <td>None</td>\n",
       "      <td>None</td>\n",
       "      <td>None</td>\n",
       "      <td>None</td>\n",
       "      <td>None</td>\n",
       "      <td>None</td>\n",
       "      <td>None</td>\n",
       "    </tr>\n",
       "    <tr>\n",
       "      <th>2020-07-01 01:20:00</th>\n",
       "      <td>20.0000</td>\n",
       "      <td>100261</td>\n",
       "      <td>200875</td>\n",
       "      <td>아놀드파마 티셔츠레깅스세트</td>\n",
       "      <td>의류</td>\n",
       "      <td>69900</td>\n",
       "      <td>nan</td>\n",
       "      <td>2020</td>\n",
       "      <td>7</td>\n",
       "      <td>1</td>\n",
       "      <td>...</td>\n",
       "      <td>None</td>\n",
       "      <td>None</td>\n",
       "      <td>None</td>\n",
       "      <td>None</td>\n",
       "      <td>None</td>\n",
       "      <td>None</td>\n",
       "      <td>None</td>\n",
       "      <td>None</td>\n",
       "      <td>None</td>\n",
       "      <td>None</td>\n",
       "    </tr>\n",
       "    <tr>\n",
       "      <th>2020-07-01 01:40:00</th>\n",
       "      <td>15.9333</td>\n",
       "      <td>100261</td>\n",
       "      <td>200875</td>\n",
       "      <td>아놀드파마 티셔츠레깅스세트</td>\n",
       "      <td>의류</td>\n",
       "      <td>69900</td>\n",
       "      <td>nan</td>\n",
       "      <td>2020</td>\n",
       "      <td>7</td>\n",
       "      <td>1</td>\n",
       "      <td>...</td>\n",
       "      <td>None</td>\n",
       "      <td>None</td>\n",
       "      <td>None</td>\n",
       "      <td>None</td>\n",
       "      <td>None</td>\n",
       "      <td>None</td>\n",
       "      <td>None</td>\n",
       "      <td>None</td>\n",
       "      <td>None</td>\n",
       "      <td>None</td>\n",
       "    </tr>\n",
       "  </tbody>\n",
       "</table>\n",
       "<p>2716 rows × 43 columns</p>\n",
       "</div>"
      ],
      "text/plain": [
       "                      노출(분)    마더코드    상품코드                       상품명 상품군  \\\n",
       "방송일시                                                                        \n",
       "2020-06-01 06:20:00 20.0000  100650  201971           잭필드 남성  반팔셔츠 4종  의류   \n",
       "2020-06-01 06:40:00 20.0000  100650  201971           잭필드 남성  반팔셔츠 4종  의류   \n",
       "2020-06-01 07:00:00 20.0000  100650  201971           잭필드 남성  반팔셔츠 4종  의류   \n",
       "2020-06-01 07:20:00 20.0000  100445  202278      쿠미투니카 쿨 레이시 란쥬쉐이퍼&팬티  속옷   \n",
       "2020-06-01 07:40:00 20.0000  100445  202278      쿠미투니카 쿨 레이시 란쥬쉐이퍼&팬티  속옷   \n",
       "...                     ...     ...     ...                       ...  ..   \n",
       "2020-07-01 00:10:00 10.0000  100099  200273  [일시불]라쉬반 FC바로셀로나 드로즈 패키지  속옷   \n",
       "2020-07-01 00:10:00 10.0000  100099  200272  [무이자]라쉬반 FC바로셀로나 드로즈 패키지  속옷   \n",
       "2020-07-01 00:10:00 10.0000  100099  200274        라쉬반 FC바로셀로나 드로즈 8종  속옷   \n",
       "2020-07-01 01:20:00 20.0000  100261  200875            아놀드파마 티셔츠레깅스세트  의류   \n",
       "2020-07-01 01:40:00 15.9333  100261  200875            아놀드파마 티셔츠레깅스세트  의류   \n",
       "\n",
       "                       판매단가  취급액     연  월  일  ...     9    10    11    12  \\\n",
       "방송일시                                          ...                           \n",
       "2020-06-01 06:20:00   59800  nan  2020  6  1  ...  None  None  None  None   \n",
       "2020-06-01 06:40:00   59800  nan  2020  6  1  ...  None  None  None  None   \n",
       "2020-06-01 07:00:00   59800  nan  2020  6  1  ...  None  None  None  None   \n",
       "2020-06-01 07:20:00   69900  nan  2020  6  1  ...  None  None  None  None   \n",
       "2020-06-01 07:40:00   69900  nan  2020  6  1  ...  None  None  None  None   \n",
       "...                     ...  ...   ... .. ..  ...   ...   ...   ...   ...   \n",
       "2020-07-01 00:10:00   99000  nan  2020  7  1  ...  None  None  None  None   \n",
       "2020-07-01 00:10:00  119000  nan  2020  7  1  ...  None  None  None  None   \n",
       "2020-07-01 00:10:00  119000  nan  2020  7  1  ...  None  None  None  None   \n",
       "2020-07-01 01:20:00   69900  nan  2020  7  1  ...  None  None  None  None   \n",
       "2020-07-01 01:40:00   69900  nan  2020  7  1  ...  None  None  None  None   \n",
       "\n",
       "                       13    14    15    16    17    18  \n",
       "방송일시                                                     \n",
       "2020-06-01 06:20:00  None  None  None  None  None  None  \n",
       "2020-06-01 06:40:00  None  None  None  None  None  None  \n",
       "2020-06-01 07:00:00  None  None  None  None  None  None  \n",
       "2020-06-01 07:20:00  None  None  None  None  None  None  \n",
       "2020-06-01 07:40:00  None  None  None  None  None  None  \n",
       "...                   ...   ...   ...   ...   ...   ...  \n",
       "2020-07-01 00:10:00  None  None  None  None  None  None  \n",
       "2020-07-01 00:10:00  None  None  None  None  None  None  \n",
       "2020-07-01 00:10:00  None  None  None  None  None  None  \n",
       "2020-07-01 01:20:00  None  None  None  None  None  None  \n",
       "2020-07-01 01:40:00  None  None  None  None  None  None  \n",
       "\n",
       "[2716 rows x 43 columns]"
      ]
     },
     "execution_count": 88,
     "metadata": {},
     "output_type": "execute_result"
    }
   ],
   "source": [
    "data['test'] = pd.concat([_data_test,\n",
    "                          pd.DataFrame(xys_test, index=_data_test.index, columns=columns),\n",
    "                         pd.DataFrame(processed_tokens_test, index=_data_test.index)],axis=1)\n",
    "data['test']"
   ]
  },
  {
   "cell_type": "markdown",
   "metadata": {},
   "source": [
    "### 피처 생성"
   ]
  },
  {
   "cell_type": "markdown",
   "metadata": {},
   "source": [
    "#### 네이버트랜드 결합 "
   ]
  },
  {
   "cell_type": "code",
   "execution_count": 89,
   "metadata": {
    "ExecuteTime": {
     "end_time": "2020-09-22T07:21:19.697536Z",
     "start_time": "2020-09-22T07:21:19.448051Z"
    }
   },
   "outputs": [],
   "source": [
    "# 네이터 트랜드 가져오기 \n",
    "trend1 = pd.read_excel('./data/03_외부데이터/naver_group_1.xlsx',skiprows=[0,1,2,3,4,5])\n",
    "trend2 = pd.read_excel('./data/03_외부데이터/naver_group_2.xlsx',skiprows=[0,1,2,3,4,5])\n",
    "trend_criterion = pd.read_excel('./data/03_외부데이터/naver_criterion.xlsx',skiprows=[0,1,2,3,4,5]).drop('날짜.1',axis=1)\n",
    "\n",
    "# 트랜드df 만들기 \n",
    "drop_list = ['날짜.1','날짜.2','날짜.3','날짜.4','날짜']\n",
    "date = trend1['날짜']\n",
    "trend1 = trend1.drop(drop_list,axis=1)\n",
    "trend2 = trend2.drop(drop_list,axis=1)\n",
    "\n",
    "# 기준 만들기 \n",
    "cri1 = trend_criterion['농수산']/(trend_criterion['생활용품']+trend_criterion['농수산'])\n",
    "cri2 = trend_criterion['생활용품']/(trend_criterion['생활용품']+trend_criterion['농수산'])\n",
    "\n",
    "# scailing \n",
    "trend1 = trend1.apply(lambda x: x*cri1)\n",
    "trend2 = trend2.apply(lambda x: x*cri2)\n",
    "trend_df = pd.concat([trend1,trend2],axis=1)\n",
    "\n",
    "trend_df['날짜'] = date\n",
    "trend_df['날짜'] = pd.to_datetime(trend_df['날짜'])\n",
    "trend_df  = trend_df.set_index('날짜')"
   ]
  },
  {
   "cell_type": "code",
   "execution_count": 90,
   "metadata": {
    "ExecuteTime": {
     "end_time": "2020-09-22T07:21:20.000624Z",
     "start_time": "2020-09-22T07:21:19.995645Z"
    }
   },
   "outputs": [],
   "source": [
    "# min-max\n",
    "mn_scaler = MinMaxScaler()\n",
    "scaled_X = mn_scaler.fit_transform(trend_df.values)\n",
    "trend_df_final = pd.DataFrame(scaled_X,\n",
    "                              columns=trend_df.columns,\n",
    "                              index=trend_df.index)"
   ]
  },
  {
   "cell_type": "code",
   "execution_count": 91,
   "metadata": {
    "ExecuteTime": {
     "end_time": "2020-09-22T07:21:20.790867Z",
     "start_time": "2020-09-22T07:21:20.784841Z"
    }
   },
   "outputs": [],
   "source": [
    "# '미용'--> 이미용 '농수산물'--> 농수축 \n",
    "trend_df_final['침구'] = trend_df_final['가구']\n",
    "trend_df_final.columns = ['의류', '농수축', '속옷', '주방', '이미용', '가전', '생활용품', '건강기능', '잡화', '가구', '침구']"
   ]
  },
  {
   "cell_type": "code",
   "execution_count": 92,
   "metadata": {
    "ExecuteTime": {
     "end_time": "2020-09-22T07:21:21.556738Z",
     "start_time": "2020-09-22T07:21:21.552723Z"
    }
   },
   "outputs": [],
   "source": [
    "def get_trend(idx, cat):\n",
    "    return trend_df_final.loc[idx.strftime('%Y-%m-%d'), cat]"
   ]
  },
  {
   "cell_type": "code",
   "execution_count": 93,
   "metadata": {
    "ExecuteTime": {
     "end_time": "2020-09-22T07:21:34.297762Z",
     "start_time": "2020-09-22T07:21:21.952144Z"
    }
   },
   "outputs": [],
   "source": [
    "data['train']['네이버 트랜드'] = list(map(get_trend, data['train'].index, data['train'].상품군))\n",
    "data['test']['네이버 트랜드'] = list(map(get_trend, data['test'].index, data['test'].상품군))"
   ]
  },
  {
   "cell_type": "markdown",
   "metadata": {},
   "source": [
    "#### 상품별 월 방영 횟수"
   ]
  },
  {
   "cell_type": "code",
   "execution_count": 94,
   "metadata": {
    "ExecuteTime": {
     "end_time": "2020-09-22T07:22:38.309580Z",
     "start_time": "2020-09-22T07:21:34.298675Z"
    }
   },
   "outputs": [],
   "source": [
    "def month_cnt(input_df, month):\n",
    "    #상품 확인\n",
    "    df = input_df[input_df.월 == month]\n",
    "    month_prod = df.drop_duplicates(['상품명','월','일','시'])\n",
    "    unq_cnt = np.zeros(len(month_prod))\n",
    "    for i in range(len(month_prod)):\n",
    "        prod_name = list(month_prod.상품명)[i]\n",
    "        cnt = list(month_prod[:i+1].상품명).count(prod_name)\n",
    "        unq_cnt[i] = cnt\n",
    "    month_prod = pd.concat([month_prod,pd.DataFrame(unq_cnt, columns = ['cnt'], index = month_prod.index)], axis = 1)\n",
    "    #식별자\n",
    "    month_prod['id'] = [str(month_prod.상품명[idx])+str(month_prod.월[idx])+str(month_prod.일[idx])+str(month_prod.시[idx]) for idx in range(len(month_prod))]        \n",
    "    \n",
    "    #Count List\n",
    "    month_cnt = []\n",
    "    for j in range(len(df)):\n",
    "        ID = str(list(df.상품명)[j])+str(list(df.월)[j])+str(list(df.일)[j])+str(list(df.시)[j])\n",
    "        month_cnt.append(month_prod[month_prod.id == ID].cnt.values[0])\n",
    "    \n",
    "    return month_cnt\n",
    "\n",
    "## Train\n",
    "month_train = []\n",
    "for i in range(1,13):\n",
    "    mon_cnt = month_cnt(data['train'], i)\n",
    "    month_train = month_train + mon_cnt\n",
    "\n",
    "## Test\n",
    "month_test = []\n",
    "for i in range(1,13):\n",
    "    mon_cnt = month_cnt(data['test'], i)\n",
    "    month_test = month_test + mon_cnt"
   ]
  },
  {
   "cell_type": "markdown",
   "metadata": {},
   "source": [
    "#### 상품별 주 방영 횟수"
   ]
  },
  {
   "cell_type": "code",
   "execution_count": 109,
   "metadata": {
    "ExecuteTime": {
     "end_time": "2020-09-22T07:30:33.270238Z",
     "start_time": "2020-09-22T07:28:22.109422Z"
    }
   },
   "outputs": [],
   "source": [
    "def week_cnt(input_df, week):\n",
    "    #상품 확인\n",
    "    df = input_df[input_df.주 == week]\n",
    "    week_prod = df.drop_duplicates(['상품명','주','일','시'])\n",
    "    unq_cnt = np.zeros(len(week_prod))\n",
    "    for i in range(len(week_prod)):\n",
    "        prod_name = list(week_prod.상품명)[i]\n",
    "        cnt = list(week_prod[:i+1].상품명).count(prod_name)\n",
    "        unq_cnt[i] = cnt\n",
    "    week_prod = pd.concat([week_prod,pd.DataFrame(unq_cnt, columns = ['cnt'], index = week_prod.index)], axis = 1)\n",
    "    #식별자\n",
    "    week_prod['id'] = [str(week_prod.상품명[idx])+str(week_prod.주[idx])+str(week_prod.일[idx])+str(week_prod.시[idx]) for idx in range(len(week_prod))]\n",
    "    \n",
    "    #Count List\n",
    "    week_cnt = []\n",
    "    for j in range(len(df)):\n",
    "        ID = str(list(df.상품명)[j])+str(list(df.주)[j])+str(list(df.일)[j])+str(list(df.시)[j])\n",
    "        week_cnt.append(week_prod[week_prod.id == ID].cnt.values[0])\n",
    "    \n",
    "    return week_cnt\n",
    "\n",
    "## Train \n",
    "week_train = []\n",
    "for i in range(1,53):\n",
    "    wk_cnt = week_cnt(data['train'], i)\n",
    "    week_train = week_train + wk_cnt\n",
    "\n",
    "## Test\n",
    "week_test = []\n",
    "for i in range(1,53):\n",
    "    wk_cnt = week_cnt(data['test'], i)\n",
    "    week_test = week_test + wk_cnt"
   ]
  },
  {
   "cell_type": "code",
   "execution_count": 110,
   "metadata": {
    "ExecuteTime": {
     "end_time": "2020-09-22T07:30:37.220596Z",
     "start_time": "2020-09-22T07:30:37.189508Z"
    }
   },
   "outputs": [],
   "source": [
    "data['train'] = pd.concat([data['train'],\n",
    "           pd.DataFrame(month_train, columns=['월간누적방영횟수'], index=data['train'].index),\n",
    "           pd.DataFrame(week_train, columns=['주간누적방영횟수'], index=data['train'].index)], axis=1)"
   ]
  },
  {
   "cell_type": "code",
   "execution_count": 112,
   "metadata": {
    "ExecuteTime": {
     "end_time": "2020-09-22T07:30:40.641662Z",
     "start_time": "2020-09-22T07:30:40.633633Z"
    }
   },
   "outputs": [],
   "source": [
    "data['test'] = pd.concat([data['test'],\n",
    "           pd.DataFrame(month_test, columns=['월간누적방영횟수'], index=data['test'].index),\n",
    "           pd.DataFrame(week_test, columns=['주간누적방영횟수'], index=data['test'].index)], axis=1)"
   ]
  },
  {
   "cell_type": "markdown",
   "metadata": {},
   "source": [
    "#### 방송 재핑시간"
   ]
  },
  {
   "cell_type": "code",
   "execution_count": null,
   "metadata": {
    "ExecuteTime": {
     "end_time": "2020-09-22T06:24:43.872463Z",
     "start_time": "2020-09-22T06:24:43.843540Z"
    }
   },
   "outputs": [],
   "source": [
    "###Importing TV Data\n",
    "#MBC\n",
    "MBC_time = pd.read_excel('./data/03_외부데이터/TV_Time.xlsx', sheet_name='MBC')\n",
    "MBC_time['Time'] = MBC_time['MBC']\n",
    "MBC_time = MBC_time.drop(['MBC'], axis=1).set_index('Time')\n",
    "\n",
    "#JTBC\n",
    "JTBC_time =pd.read_excel('./data/03_외부데이터/TV_Time.xlsx', sheet_name='JTBC')\n",
    "JTBC_time['Time'] = JTBC_time['JTBC']\n",
    "JTBC_time = JTBC_time.drop(['JTBC'], axis=1).set_index('Time')"
   ]
  },
  {
   "cell_type": "code",
   "execution_count": null,
   "metadata": {
    "ExecuteTime": {
     "end_time": "2020-09-22T06:24:43.887450Z",
     "start_time": "2020-09-22T06:24:43.873460Z"
    }
   },
   "outputs": [],
   "source": [
    "#시간 설정\n",
    "def get_time(df): #df: outcome, test\n",
    "    df['시각'] = df.방송일시.map(lambda x: x.hour)\n",
    "    df['분'] = df.방송일시.map(lambda x: x.minute)\n",
    "    df['월'] = df.방송일시.map(lambda x: x.month)\n",
    "    df['일'] = df.방송일시.map(lambda x: x.day)\n",
    "    df['요일'] = df.방송일시.map(lambda x: calendar.day_abbr[x.weekday()])\n",
    "    return df"
   ]
  },
  {
   "cell_type": "code",
   "execution_count": null,
   "metadata": {
    "ExecuteTime": {
     "end_time": "2020-09-22T06:24:43.902412Z",
     "start_time": "2020-09-22T06:24:43.888435Z"
    }
   },
   "outputs": [],
   "source": [
    "# TimeTable에서 Zapping Time 찾기\n",
    "def find_Zap(str):  #str: 'MBC' or 'JTBC'\n",
    "    global time_list\n",
    "    if str == 'MBC':\n",
    "        time_list = MBC_time\n",
    "    elif str == 'JTBC':\n",
    "        time_list = JTBC_time\n",
    "    else:\n",
    "        return pd.DataFrame()\n",
    "    \n",
    "    Zap_Time = []\n",
    "    Zap_Weekday = []\n",
    "    for j in tqdm_notebook(range(len(time_list.columns))):\n",
    "        for i in range(len(time_list)):\n",
    "            Target = time_list.iloc[i,j]\n",
    "            if (Target is not np.nan):\n",
    "                if (i != 0) & (i != len(time_list)-1):\n",
    "                    if (time_list.iloc[i-1,j] !=Target):\n",
    "                        Zap_Time.append(time_list.index[i])\n",
    "                        Zap_Weekday.append(time_list.columns[j])\n",
    "                    if (time_list.iloc[i+1,j] !=Target):\n",
    "                        Zap_Time.append(time_list.index[i])\n",
    "                        Zap_Weekday.append(time_list.columns[j])                    \n",
    "                elif i == 0:\n",
    "                    if (time_list.iloc[i+1,j] !=Target):\n",
    "                        Zap_Time.append(time_list.index[i])\n",
    "                        Zap_Weekday.append(time_list.columns[j])                    \n",
    "                elif i == len(time_list)-1:\n",
    "                    if j == 6:\n",
    "                        break\n",
    "                    if (time_list.iloc[0,j+1] !=Target):\n",
    "                        Zap_Time.append(time_list.index[i])\n",
    "                        Zap_Weekday.append(time_list.columns[j])\n",
    "    _Zap = pd.DataFrame({'weekday':Zap_Weekday, 'Time': Zap_Time})\n",
    "\n",
    "    _Zap['hour'] = _Zap.Time.map(lambda x: x.hour)\n",
    "    _Zap['minute'] = _Zap.Time.map(lambda x: x.minute)\n",
    "    return _Zap"
   ]
  },
  {
   "cell_type": "code",
   "execution_count": null,
   "metadata": {
    "ExecuteTime": {
     "end_time": "2020-09-22T06:24:44.007130Z",
     "start_time": "2020-09-22T06:24:43.903417Z"
    }
   },
   "outputs": [],
   "source": [
    "# 식별식 만들기 (loop 방지)\n",
    "df_MBC = find_Zap('MBC')\n",
    "MBC_clf = []\n",
    "for i in tqdm_notebook(range(len(df_MBC))):\n",
    "    MBC_clf.append(df_MBC['weekday'][i] +\n",
    "                   str(df_MBC['hour'][i]) + str(df_MBC['minute'][i]))\n",
    "\n",
    "df_JTBC = find_Zap('JTBC')\n",
    "JTBC_clf = []\n",
    "for i in tqdm_notebook(range(len(df_JTBC))):\n",
    "    JTBC_clf.append(df_JTBC['weekday'][i] +\n",
    "                    str(df_JTBC['hour'][i]) + str(df_JTBC['minute'][i]))"
   ]
  },
  {
   "cell_type": "markdown",
   "metadata": {},
   "source": [
    "#### 토큰리스트 생성"
   ]
  },
  {
   "cell_type": "code",
   "execution_count": null,
   "metadata": {
    "ExecuteTime": {
     "end_time": "2020-09-22T06:24:44.022090Z",
     "start_time": "2020-09-22T06:24:44.008132Z"
    }
   },
   "outputs": [],
   "source": [
    "#Tokenized Data\n",
    "def Making_token(raw_data, df_token):\n",
    "    #raw_data = pd.concat([raw_data, df_token],axis=1,ignore_index=True)\n",
    "    tot_token_list = []\n",
    "    for i in tqdm_notebook(range(len(raw_data))):\n",
    "        token = []\n",
    "        for colname in df_token.columns:\n",
    "            val = raw_data[colname].iloc[i]\n",
    "            if val is not None:\n",
    "                token.append(val)\n",
    "        tot_token_list.append(token)\n",
    "    raw_data['token_list'] = tot_token_list\n",
    "    return raw_data"
   ]
  },
  {
   "cell_type": "markdown",
   "metadata": {},
   "source": [
    "#### 성별 추가"
   ]
  },
  {
   "cell_type": "code",
   "execution_count": null,
   "metadata": {
    "ExecuteTime": {
     "end_time": "2020-09-22T06:24:44.037048Z",
     "start_time": "2020-09-22T06:24:44.023106Z"
    },
    "scrolled": true
   },
   "outputs": [],
   "source": [
    "def Insert_sex_dummy(df_with_token):  #tokenized dummy\n",
    "    if 'token_list' not in df_with_token.columns:\n",
    "        print('토큰 리스트를 만들어오세요.')\n",
    "        return\n",
    "    sex_list = []\n",
    "    for i in tqdm_notebook(range(len(df_with_token))):\n",
    "        if ('남성' in df_with_token['token_list'].iloc[i]) or ('남성용' in df_with_token['token_list'].iloc[i]) or ('남자' in df_with_token['token_list'].iloc[i]):\n",
    "            sex_list.append('남성')\n",
    "        elif ('여성' in df_with_token['token_list'].iloc[i]) or ('여성용' in df_with_token['token_list'].iloc[i]) or ('여자' in df_with_token['token_list'].iloc[i]):\n",
    "            sex_list.append('여성')\n",
    "        else:\n",
    "            sex_list.append('무성')\n",
    "    sex_dummies = pd.get_dummies(sex_list)\n",
    "    sex_dummies = pd.DataFrame(sex_dummies[['남성','여성']].values, index=df_with_token.index, columns=['남성','여성'])\n",
    "    df_with_token = pd.concat([df_with_token, sex_dummies[['남성','여성']]],axis=1)\n",
    "    return df_with_token"
   ]
  },
  {
   "cell_type": "markdown",
   "metadata": {},
   "source": [
    "#### 무이자/일시불 여부 "
   ]
  },
  {
   "cell_type": "code",
   "execution_count": null,
   "metadata": {
    "ExecuteTime": {
     "end_time": "2020-09-22T06:24:44.051982Z",
     "start_time": "2020-09-22T06:24:44.038020Z"
    }
   },
   "outputs": [],
   "source": [
    "def Insert_credit_dummy(df_with_token):\n",
    "    if 'token_list' not in df_with_token.columns:\n",
    "        print('토큰 리스트를 만들어오세요.')\n",
    "        return    \n",
    "    credit_list = []\n",
    "    for i in tqdm_notebook(range(len(df_with_token))):\n",
    "        if ('일시불' in df_with_token['token_list'].iloc[i]) or ('일' in df_with_token['token_list'].iloc[i]):        \n",
    "            credit_list.append('일시불')\n",
    "        elif ('무이자' in df_with_token['token_list'].iloc[i]) or ('무' in df_with_token['token_list'].iloc[i]):\n",
    "            credit_list.append('무이자')\n",
    "        else:\n",
    "            credit_list.append('없음')\n",
    "    credit_list = pd.get_dummies(credit_list)\n",
    "    credit_list = pd.DataFrame(credit_list[['일시불', '무이자']].values, index=df_with_token.index, columns=['일시불', '무이자'])\n",
    "    df_with_token = pd.concat([df_with_token,credit_list[['일시불','무이자']]],axis=1)\n",
    "    return df_with_token"
   ]
  },
  {
   "cell_type": "markdown",
   "metadata": {},
   "source": [
    "#### 휴일 여부 "
   ]
  },
  {
   "cell_type": "code",
   "execution_count": null,
   "metadata": {
    "ExecuteTime": {
     "end_time": "2020-09-22T06:24:44.066968Z",
     "start_time": "2020-09-22T06:24:44.052980Z"
    }
   },
   "outputs": [],
   "source": [
    "def Insert_holiday_dummy(df, data='train'): \n",
    "    '''\n",
    "    data(str): 'train' or 'test'\n",
    "    '''\n",
    "    global holiday\n",
    "    \n",
    "    if data == 'train':\n",
    "        #2019.01.01 ~ 2020.01.01\n",
    "        holiday = ['1/1','2/4','2/5','2/6','3/1','5/6','6/6','8/15','9/12','9/13','10/3','10/9','12/25']\n",
    "    else:\n",
    "        #2020.06.01 ~ 2020.07.01\n",
    "        holiday = []\n",
    "    \n",
    "    holi_list = np.zeros(len(df))    \n",
    "    for i in tqdm_notebook(range(len(df))):\n",
    "        day = str(df.iloc[i].월)+'/'+str(df.iloc[i].일)\n",
    "        weekday = df.iloc[i].요일\n",
    "        if (weekday in ['Sat', 'Sun']) or (day in holiday):\n",
    "#            print('{} is holiday!'.format(day))\n",
    "            holi_list[i] = True\n",
    "        else:\n",
    "            holi_list[i] = False\n",
    "    df['휴일'] = holi_list\n",
    "    return df"
   ]
  },
  {
   "cell_type": "markdown",
   "metadata": {},
   "source": [
    "#### 재핑타임 추가"
   ]
  },
  {
   "cell_type": "code",
   "execution_count": null,
   "metadata": {
    "ExecuteTime": {
     "end_time": "2020-09-22T06:24:44.081928Z",
     "start_time": "2020-09-22T06:24:44.067940Z"
    }
   },
   "outputs": [],
   "source": [
    "def Insert_zapping(df):\n",
    "    MBC_zap_list = np.zeros(len(df))\n",
    "    JTBC_zap_list = np.zeros(len(df))\n",
    "    for i in tqdm_notebook(range(len(df))):\n",
    "        #MBC\n",
    "        Zap_encoding = df.iloc[i].요일 + str(df.iloc[i].시) + str(df.iloc[i].분)\n",
    "        if Zap_encoding in MBC_clf:\n",
    "            MBC_zap_list[i] = True\n",
    "        if Zap_encoding in JTBC_clf:\n",
    "            JTBC_zap_list[i] = True\n",
    "    df['MBC_Zapping'] = MBC_zap_list\n",
    "    df['JTBC_Zapping'] = JTBC_zap_list\n",
    "    return df"
   ]
  },
  {
   "cell_type": "code",
   "execution_count": null,
   "metadata": {
    "ExecuteTime": {
     "end_time": "2020-09-22T06:24:44.111822Z",
     "start_time": "2020-09-22T06:24:44.083898Z"
    }
   },
   "outputs": [],
   "source": [
    "_train = data['train'].copy()\n",
    "_test = data['test'].copy()"
   ]
  },
  {
   "cell_type": "code",
   "execution_count": null,
   "metadata": {
    "ExecuteTime": {
     "end_time": "2020-09-22T06:24:49.427758Z",
     "start_time": "2020-09-22T06:24:44.112848Z"
    }
   },
   "outputs": [],
   "source": [
    "#Tokenize\n",
    "_train = Making_token(_train, pd.DataFrame(processed_tokens, index=_data_train.index))\n",
    "_test = Making_token(_test, pd.DataFrame(processed_tokens_test, index=_data_test.index))"
   ]
  },
  {
   "cell_type": "code",
   "execution_count": null,
   "metadata": {
    "ExecuteTime": {
     "end_time": "2020-09-22T06:24:51.671785Z",
     "start_time": "2020-09-22T06:24:49.428757Z"
    }
   },
   "outputs": [],
   "source": [
    "#Gender dummy\n",
    "_train = Insert_sex_dummy(_train)\n",
    "_test = Insert_sex_dummy(_test)"
   ]
  },
  {
   "cell_type": "code",
   "execution_count": null,
   "metadata": {
    "ExecuteTime": {
     "end_time": "2020-09-22T06:24:53.063067Z",
     "start_time": "2020-09-22T06:24:51.672792Z"
    }
   },
   "outputs": [],
   "source": [
    "#Credit dummy\n",
    "_train = Insert_credit_dummy(_train)\n",
    "_test = Insert_credit_dummy(_test)"
   ]
  },
  {
   "cell_type": "code",
   "execution_count": null,
   "metadata": {
    "ExecuteTime": {
     "end_time": "2020-09-22T06:25:18.260219Z",
     "start_time": "2020-09-22T06:24:53.064060Z"
    }
   },
   "outputs": [],
   "source": [
    "#Holiday dummy\n",
    "_train = Insert_holiday_dummy(_train)\n",
    "_test = Insert_holiday_dummy(_test,'test')"
   ]
  },
  {
   "cell_type": "code",
   "execution_count": null,
   "metadata": {
    "ExecuteTime": {
     "end_time": "2020-09-22T06:25:43.786039Z",
     "start_time": "2020-09-22T06:25:18.261217Z"
    }
   },
   "outputs": [],
   "source": [
    "#Zapping Time\n",
    "_train = Insert_zapping(_train)\n",
    "_test = Insert_zapping(_test)"
   ]
  },
  {
   "cell_type": "code",
   "execution_count": null,
   "metadata": {
    "ExecuteTime": {
     "end_time": "2020-09-22T06:25:43.801512Z",
     "start_time": "2020-09-22T06:25:43.788033Z"
    }
   },
   "outputs": [],
   "source": [
    "data['train'] = _train\n",
    "data['test'] = _test"
   ]
  },
  {
   "cell_type": "markdown",
   "metadata": {},
   "source": [
    "### 상품군, 상품명 처리하기"
   ]
  },
  {
   "cell_type": "code",
   "execution_count": null,
   "metadata": {
    "ExecuteTime": {
     "end_time": "2020-09-22T06:25:43.831422Z",
     "start_time": "2020-09-22T06:25:43.803498Z"
    }
   },
   "outputs": [],
   "source": [
    "le1 = LabelEncoder()\n",
    "le1.fit(pd.concat([data['train']['상품군'], data['test']['상품군']]))\n",
    "data['train']['상품군'] = le1.transform(data['train']['상품군'])\n",
    "data['test']['상품군'] = le1.transform(data['test']['상품군'])"
   ]
  },
  {
   "cell_type": "code",
   "execution_count": null,
   "metadata": {
    "ExecuteTime": {
     "end_time": "2020-09-22T06:25:43.846383Z",
     "start_time": "2020-09-22T06:25:43.832420Z"
    }
   },
   "outputs": [],
   "source": [
    "le2 = LabelEncoder()\n",
    "le2.fit(pd.concat([data['train']['상품명'], data['test']['상품명']]))\n",
    "data['train']['상품명'] = le2.transform(data['train']['상품명'])\n",
    "data['test']['상품명'] = le2.transform(data['test']['상품명'])"
   ]
  },
  {
   "cell_type": "markdown",
   "metadata": {},
   "source": [
    "### 상품군 더미화"
   ]
  },
  {
   "cell_type": "code",
   "execution_count": null,
   "metadata": {
    "ExecuteTime": {
     "end_time": "2020-09-22T06:25:43.906223Z",
     "start_time": "2020-09-22T06:25:43.847380Z"
    }
   },
   "outputs": [],
   "source": [
    "data['train'] = pd.concat([data['train'].drop('상품군',axis=1),\n",
    "                           pd.get_dummies(data['train']['상품군'], prefix='상품군')],\n",
    "                          axis=1)"
   ]
  },
  {
   "cell_type": "code",
   "execution_count": null,
   "metadata": {
    "ExecuteTime": {
     "end_time": "2020-09-22T06:25:43.921183Z",
     "start_time": "2020-09-22T06:25:43.907220Z"
    }
   },
   "outputs": [],
   "source": [
    "data['test'] = pd.concat([data['test'].drop('상품군',axis=1),\n",
    "                           pd.get_dummies(data['test']['상품군'], prefix='상품군')],\n",
    "                          axis=1)"
   ]
  },
  {
   "cell_type": "markdown",
   "metadata": {},
   "source": [
    "### 요일 인코딩"
   ]
  },
  {
   "cell_type": "code",
   "execution_count": null,
   "metadata": {
    "ExecuteTime": {
     "end_time": "2020-09-22T06:26:00.322400Z",
     "start_time": "2020-09-22T06:26:00.254604Z"
    }
   },
   "outputs": [],
   "source": [
    "data['train'] = pd.concat([data['train'].drop('요일',axis=1),\n",
    "                           pd.get_dummies(data['train']['요일'], prefix='요일')],\n",
    "                          axis=1)"
   ]
  },
  {
   "cell_type": "code",
   "execution_count": null,
   "metadata": {
    "ExecuteTime": {
     "end_time": "2020-09-22T06:26:04.065961Z",
     "start_time": "2020-09-22T06:26:04.043922Z"
    }
   },
   "outputs": [],
   "source": [
    "data['test'] = pd.concat([data['test'].drop('요일',axis=1),\n",
    "                           pd.get_dummies(data['test']['요일'], prefix='요일')],\n",
    "                          axis=1)"
   ]
  },
  {
   "cell_type": "markdown",
   "metadata": {},
   "source": [
    "---\n",
    "\n",
    "## 피처 선택(Feature Selection)"
   ]
  },
  {
   "cell_type": "markdown",
   "metadata": {},
   "source": [
    "### 지금까지 생성된 피처 확인"
   ]
  },
  {
   "cell_type": "code",
   "execution_count": null,
   "metadata": {
    "ExecuteTime": {
     "end_time": "2020-09-22T06:26:08.263232Z",
     "start_time": "2020-09-22T06:26:08.249372Z"
    }
   },
   "outputs": [],
   "source": [
    "data['train'].columns"
   ]
  },
  {
   "cell_type": "markdown",
   "metadata": {},
   "source": [
    "### 피처간의 상관계수 확인"
   ]
  },
  {
   "cell_type": "code",
   "execution_count": null,
   "metadata": {
    "ExecuteTime": {
     "end_time": "2020-09-22T06:26:36.640132Z",
     "start_time": "2020-09-22T06:26:35.729230Z"
    }
   },
   "outputs": [],
   "source": [
    "plt.figure(figsize=(15,15))\n",
    "sns.heatmap(data['train'].corr(), cmap=plt.cm.rainbow)\n",
    "plt.show()"
   ]
  },
  {
   "cell_type": "code",
   "execution_count": null,
   "metadata": {
    "ExecuteTime": {
     "end_time": "2020-09-22T06:33:20.545561Z",
     "start_time": "2020-09-22T06:33:20.506511Z"
    }
   },
   "outputs": [],
   "source": [
    "data['train'].info()"
   ]
  },
  {
   "cell_type": "code",
   "execution_count": 7,
   "metadata": {
    "ExecuteTime": {
     "end_time": "2020-09-22T06:48:41.205241Z",
     "start_time": "2020-09-22T06:48:41.187159Z"
    }
   },
   "outputs": [],
   "source": [
    "selected_features = ['노출(분)',         '마더코드',         '상품코드',          '상품명',\n",
    "                     '판매단가',          '취급액',             '월',\n",
    "                     '일',            '시',            '분',      'embed_0',\n",
    "                     'embed_1',      'embed_2',      'embed_3',      'embed_4',\n",
    "                     'embed_5',      'embed_6',      'embed_7',      'embed_8',\n",
    "                     'embed_9',     '네이버 트랜드',       '남성',\n",
    "                     '여성',          '일시불',          '무이자',           '휴일',\n",
    "                     'MBC_Zapping', 'JTBC_Zapping',        '상품군_0',        '상품군_1',\n",
    "                     '상품군_2',        '상품군_3',        '상품군_4',        '상품군_5',\n",
    "                     '상품군_6',        '상품군_7',        '상품군_8',        '상품군_9',\n",
    "                     '상품군_10',       '요일_Fri',       '요일_Mon',       '요일_Sat',\n",
    "                     '요일_Sun',       '요일_Thu',       '요일_Tue',       '요일_Wed']"
   ]
  },
  {
   "cell_type": "code",
   "execution_count": null,
   "metadata": {
    "ExecuteTime": {
     "end_time": "2020-09-22T06:38:00.720002Z",
     "start_time": "2020-09-22T06:38:00.685938Z"
    }
   },
   "outputs": [],
   "source": [
    "data['train'][selected_features]"
   ]
  },
  {
   "cell_type": "code",
   "execution_count": null,
   "metadata": {
    "ExecuteTime": {
     "end_time": "2020-09-22T06:38:06.123513Z",
     "start_time": "2020-09-22T06:38:06.088594Z"
    }
   },
   "outputs": [],
   "source": [
    "data['test'][selected_features]"
   ]
  },
  {
   "cell_type": "code",
   "execution_count": null,
   "metadata": {
    "ExecuteTime": {
     "end_time": "2020-09-22T06:38:30.179902Z",
     "start_time": "2020-09-22T06:38:30.167372Z"
    }
   },
   "outputs": [],
   "source": [
    "data['train'] = data['train'][selected_features].astype('float')\n",
    "data['test'] = data['test'][selected_features].astype('float')"
   ]
  },
  {
   "cell_type": "code",
   "execution_count": null,
   "metadata": {
    "ExecuteTime": {
     "end_time": "2020-09-22T06:38:34.692550Z",
     "start_time": "2020-09-22T06:38:33.389270Z"
    }
   },
   "outputs": [],
   "source": [
    "data['train'].to_csv('train_preprocess.csv', index=False)\n",
    "data['test'].to_csv('test_preprocess.csv', index=False)"
   ]
  },
  {
   "cell_type": "markdown",
   "metadata": {},
   "source": [
    "---\n",
    "\n",
    "## 모델링(Modeling)"
   ]
  },
  {
   "cell_type": "code",
   "execution_count": 5,
   "metadata": {
    "ExecuteTime": {
     "end_time": "2020-09-22T06:48:35.024170Z",
     "start_time": "2020-09-22T06:48:34.732133Z"
    }
   },
   "outputs": [],
   "source": [
    "data = {}\n",
    "data['train'] = pd.read_csv('./train_preprocess.csv')\n",
    "data['test'] = pd.read_csv('./train_preprocess.csv')"
   ]
  },
  {
   "cell_type": "markdown",
   "metadata": {},
   "source": [
    "### 학습 및 검증 데이터 분리하기"
   ]
  },
  {
   "cell_type": "code",
   "execution_count": 10,
   "metadata": {
    "ExecuteTime": {
     "end_time": "2020-09-22T06:48:56.795525Z",
     "start_time": "2020-09-22T06:48:56.759587Z"
    }
   },
   "outputs": [],
   "source": [
    "X_train, X_valid, y_train, y_valid = train_test_split(data['train'].drop('취급액', axis=1),\n",
    "                                                      data['train']['취급액'] / 10000000,\n",
    "                                                      shuffle=True,\n",
    "                                                      test_size=TEST_SIZE,\n",
    "                                                      random_state=RANDOM_STATE)"
   ]
  },
  {
   "cell_type": "code",
   "execution_count": 11,
   "metadata": {
    "ExecuteTime": {
     "end_time": "2020-09-22T06:48:57.693452Z",
     "start_time": "2020-09-22T06:48:57.672516Z"
    }
   },
   "outputs": [
    {
     "name": "stdout",
     "output_type": "stream",
     "text": [
      "학습 데이터: (29894, 45)\n",
      "검증 데이터: (7474, 45)\n"
     ]
    }
   ],
   "source": [
    "print(f'학습 데이터: {X_train.shape}')\n",
    "print(f'검증 데이터: {X_valid.shape}')"
   ]
  },
  {
   "cell_type": "markdown",
   "metadata": {},
   "source": [
    "### 모델 생성하기"
   ]
  },
  {
   "cell_type": "markdown",
   "metadata": {},
   "source": [
    "#### 머신러닝 모델"
   ]
  },
  {
   "cell_type": "code",
   "execution_count": 12,
   "metadata": {
    "ExecuteTime": {
     "end_time": "2020-09-22T06:49:04.624411Z",
     "start_time": "2020-09-22T06:49:04.616462Z"
    }
   },
   "outputs": [],
   "source": [
    "ml_models = {}"
   ]
  },
  {
   "cell_type": "code",
   "execution_count": 13,
   "metadata": {
    "ExecuteTime": {
     "end_time": "2020-09-22T06:49:05.480968Z",
     "start_time": "2020-09-22T06:49:05.467246Z"
    }
   },
   "outputs": [],
   "source": [
    "ml_models['LinearRegression'] = LinearRegression()\n",
    "ml_models['DecisionTreeRegressor'] = DecisionTreeRegressor()\n",
    "ml_models['RandomForestRegressor'] = RandomForestRegressor()\n",
    "ml_models['XGBRegressor'] = XGBRegressor()\n",
    "# ml_models['LGBMRegressor'] = LGBMRegressor()"
   ]
  },
  {
   "cell_type": "code",
   "execution_count": 14,
   "metadata": {
    "ExecuteTime": {
     "end_time": "2020-09-22T06:49:06.323233Z",
     "start_time": "2020-09-22T06:49:06.310268Z"
    }
   },
   "outputs": [
    {
     "data": {
      "text/plain": [
       "MinMaxScaler()"
      ]
     },
     "execution_count": 14,
     "metadata": {},
     "output_type": "execute_result"
    }
   ],
   "source": [
    "mms = MinMaxScaler()\n",
    "mms.fit(X_train)"
   ]
  },
  {
   "cell_type": "code",
   "execution_count": 15,
   "metadata": {
    "ExecuteTime": {
     "end_time": "2020-09-22T06:49:35.092201Z",
     "start_time": "2020-09-22T06:49:07.195971Z"
    }
   },
   "outputs": [
    {
     "name": "stdout",
     "output_type": "stream",
     "text": [
      "[1] LinearRegression 모델을 학습합니다. --> 저장 완료\n",
      "------------------------------------------------------------\n",
      "[2] DecisionTreeRegressor 모델을 학습합니다. --> 저장 완료\n",
      "------------------------------------------------------------\n",
      "[3] RandomForestRegressor 모델을 학습합니다. --> 저장 완료\n",
      "------------------------------------------------------------\n",
      "[4] XGBRegressor 모델을 학습합니다. --> 저장 완료\n",
      "------------------------------------------------------------\n"
     ]
    }
   ],
   "source": [
    "for n,(model_name, model) in enumerate(ml_models.items(),start=1):\n",
    "    print(f'[{n}] {model_name} 모델을 학습합니다.', end=' ')\n",
    "    model.fit(mms.transform(X_train), y_train)\n",
    "    print(f'--> 저장 완료')\n",
    "    ml_models[model_name] = model\n",
    "    print('-'*60)"
   ]
  },
  {
   "cell_type": "markdown",
   "metadata": {},
   "source": [
    "#### 딥러닝 모델"
   ]
  },
  {
   "cell_type": "code",
   "execution_count": 16,
   "metadata": {
    "ExecuteTime": {
     "end_time": "2020-09-22T06:51:16.155254Z",
     "start_time": "2020-09-22T06:51:16.150237Z"
    }
   },
   "outputs": [],
   "source": [
    "class DeepNSNet(nn.Module):\n",
    "    def __init__(self):\n",
    "        super(DeepNSNet, self).__init__()\n",
    "        self.input_length = len(X_train.columns)\n",
    "        self.fc1 = nn.Linear(self.input_length, 64)  # 6*6 from image dimension\n",
    "        self.fc2 = nn.Linear(64, 32)\n",
    "        self.fc3 = nn.Linear(32, 16)\n",
    "        self.fc4 = nn.Linear(16, 8)\n",
    "        self.fc5 = nn.Linear(8, 1)\n",
    "        \n",
    "    def forward(self, x):\n",
    "        x = torch.sigmoid(self.fc1(x))\n",
    "        x = torch.sigmoid(self.fc2(x))\n",
    "        x = torch.sigmoid(self.fc3(x))\n",
    "        x = torch.sigmoid(self.fc4(x))\n",
    "        output = self.fc5(x)\n",
    "        return output"
   ]
  },
  {
   "cell_type": "code",
   "execution_count": 17,
   "metadata": {
    "ExecuteTime": {
     "end_time": "2020-09-22T06:51:17.086297Z",
     "start_time": "2020-09-22T06:51:17.079315Z"
    }
   },
   "outputs": [
    {
     "data": {
      "text/plain": [
       "DeepNSNet(\n",
       "  (fc1): Linear(in_features=45, out_features=64, bias=True)\n",
       "  (fc2): Linear(in_features=64, out_features=32, bias=True)\n",
       "  (fc3): Linear(in_features=32, out_features=16, bias=True)\n",
       "  (fc4): Linear(in_features=16, out_features=8, bias=True)\n",
       "  (fc5): Linear(in_features=8, out_features=1, bias=True)\n",
       ")"
      ]
     },
     "execution_count": 17,
     "metadata": {},
     "output_type": "execute_result"
    }
   ],
   "source": [
    "model = DeepNSNet()\n",
    "model"
   ]
  },
  {
   "cell_type": "code",
   "execution_count": 18,
   "metadata": {
    "ExecuteTime": {
     "end_time": "2020-09-22T06:51:18.666941Z",
     "start_time": "2020-09-22T06:51:18.662977Z"
    }
   },
   "outputs": [],
   "source": [
    "optimizer = optim.Adam(model.parameters(), lr=learning_rate)\n",
    "loss_fn = nn.MSELoss()"
   ]
  },
  {
   "cell_type": "code",
   "execution_count": 19,
   "metadata": {
    "ExecuteTime": {
     "end_time": "2020-09-22T06:51:19.584817Z",
     "start_time": "2020-09-22T06:51:19.571738Z"
    }
   },
   "outputs": [],
   "source": [
    "train_losses = []\n",
    "valid_losses = []\n",
    "train_mape_list = []\n",
    "val_mape_list = []\n",
    "X_train_scaled = mms.transform(X_train)\n",
    "X_valid_scaled = mms.transform(X_valid)"
   ]
  },
  {
   "cell_type": "code",
   "execution_count": 20,
   "metadata": {
    "ExecuteTime": {
     "end_time": "2020-09-22T06:51:20.441071Z",
     "start_time": "2020-09-22T06:51:20.428863Z"
    }
   },
   "outputs": [],
   "source": [
    "EPOCH = 300000"
   ]
  },
  {
   "cell_type": "code",
   "execution_count": null,
   "metadata": {
    "ExecuteTime": {
     "end_time": "2020-09-22T06:44:50.694354Z",
     "start_time": "2020-09-22T06:42:28.915591Z"
    },
    "scrolled": true
   },
   "outputs": [],
   "source": [
    "for i in range(EPOCH):\n",
    "    y_pred_train = model(torch.Tensor(X_train_scaled)).to(device)\n",
    "    loss = loss_fn(y_pred_train.squeeze().to(device), torch.Tensor(y_train.values).to(device))\n",
    "    train_losses.append(loss)\n",
    "    mape = MAPE(y_pred_train.cpu().detach().numpy().squeeze(), y_train)\n",
    "    train_mape_list.append(mape)\n",
    "    optimizer.zero_grad()\n",
    "    loss.backward()\n",
    "    optimizer.step()\n",
    "\n",
    "    with torch.no_grad():\n",
    "        y_pred_test = model(torch.Tensor(X_valid_scaled)).to(device)\n",
    "        val_loss = loss_fn(y_pred_test.squeeze().to(device), torch.Tensor(y_valid.values).to(device))\n",
    "        val_mape = MAPE(y_pred_test.cpu().detach().numpy().squeeze(), y_valid)\n",
    "        valid_losses.append(val_loss)\n",
    "        val_mape_list.append(val_mape)\n",
    "\n",
    "    if i % 100 == 0:\n",
    "        print(f\"[Epoch {i:>6d} / {EPOCH:>6d}] \"\n",
    "        f\"Train Loss: {loss:>2.5f} | \" \n",
    "        f\"Val Loss: {val_loss:>2.5f} | \"\n",
    "        f\"MAPE(train): {mape:>2.5f} | \"\n",
    "        f\"MAPE(val): {val_mape:>2.5f}\")"
   ]
  },
  {
   "cell_type": "code",
   "execution_count": null,
   "metadata": {
    "ExecuteTime": {
     "end_time": "2020-09-22T02:53:00.808307Z",
     "start_time": "2020-09-22T02:52:58.010882Z"
    }
   },
   "outputs": [],
   "source": [
    "plt.plot(train_losses)\n",
    "plt.plot(valid_losses)\n",
    "plt.legend(['Train loss', 'Val loss'])\n",
    "plt.show()"
   ]
  },
  {
   "cell_type": "code",
   "execution_count": null,
   "metadata": {
    "ExecuteTime": {
     "end_time": "2020-09-22T02:55:00.034436Z",
     "start_time": "2020-09-22T02:54:59.871914Z"
    }
   },
   "outputs": [],
   "source": [
    "plt.ylim(0.4,2)\n",
    "plt.plot(train_mape_list)\n",
    "plt.plot(val_mape_list)\n",
    "plt.legend(['Train MAPE', 'Val MAPE'])\n",
    "plt.show()"
   ]
  },
  {
   "cell_type": "markdown",
   "metadata": {},
   "source": [
    "---\n",
    "\n",
    "## 성능평가"
   ]
  },
  {
   "cell_type": "markdown",
   "metadata": {},
   "source": [
    "### Mean Average Percentage Error(MAPE)\n",
    "\n",
    "The mean absolute percentage error (MAPE), also known as mean absolute percentage deviation (MAPD), is a measure of prediction accuracy of a forecasting method in statistics, for example in trend estimation, also used as a loss function for regression problems in machine learning. It usually expresses the accuracy as a ratio defined by the formula:\n",
    "\n",
    "$$ MAPE = \\frac{100}{n} \\sum_{t=1}^{n}{|\\frac{A_t - F_t}{A_t}|} $$\n",
    "\n",
    "출처: [위키백과](https://en.wikipedia.org/wiki/Mean_absolute_percentage_error)"
   ]
  },
  {
   "cell_type": "code",
   "execution_count": 21,
   "metadata": {
    "ExecuteTime": {
     "end_time": "2020-09-22T06:51:23.671316Z",
     "start_time": "2020-09-22T06:51:23.662340Z"
    }
   },
   "outputs": [],
   "source": [
    "# MAPE\n",
    "EPS = 1e-10\n",
    "def MAPE(y_true, y_pred): \n",
    "    y_true, y_pred = np.array(y_true), np.array(y_pred)\n",
    "    return np.mean(np.abs((y_true - y_pred) / (y_true + EPS)))"
   ]
  },
  {
   "cell_type": "markdown",
   "metadata": {},
   "source": [
    "### 머신러닝 모델 성능 검증"
   ]
  },
  {
   "cell_type": "code",
   "execution_count": 22,
   "metadata": {
    "ExecuteTime": {
     "end_time": "2020-09-22T06:51:25.363961Z",
     "start_time": "2020-09-22T06:51:24.586042Z"
    }
   },
   "outputs": [
    {
     "name": "stdout",
     "output_type": "stream",
     "text": [
      "[1] LinearRegression              의 MAPE 값: 11.9347921447\n",
      "------------------------------------------------------------\n",
      "[2] DecisionTreeRegressor         의 MAPE 값: 0.0000000000\n",
      "------------------------------------------------------------\n",
      "[3] RandomForestRegressor         의 MAPE 값: 2.1251041109\n",
      "------------------------------------------------------------\n",
      "[4] XGBRegressor                  의 MAPE 값: 4.9862438840\n",
      "------------------------------------------------------------\n"
     ]
    }
   ],
   "source": [
    "results_train = {}\n",
    "for n,(model_name, model) in enumerate(ml_models.items(),start=1):\n",
    "    y_pred = ml_models[model_name].predict(mms.transform(X_train))\n",
    "    result = MAPE(y_train, y_pred)\n",
    "    print(f'[{n}] {model_name:<30}의 MAPE 값: {result:<4.10f}')\n",
    "    results_train[model_name] = result\n",
    "    print('-'*60)"
   ]
  },
  {
   "cell_type": "code",
   "execution_count": 23,
   "metadata": {
    "ExecuteTime": {
     "end_time": "2020-09-22T06:51:30.451249Z",
     "start_time": "2020-09-22T06:51:30.238771Z"
    }
   },
   "outputs": [
    {
     "name": "stdout",
     "output_type": "stream",
     "text": [
      "[1] LinearRegression              의 MAPE 값: 12.1314605024\n",
      "------------------------------------------------------------\n",
      "[2] DecisionTreeRegressor         의 MAPE 값: 6.3179104932\n",
      "------------------------------------------------------------\n",
      "[3] RandomForestRegressor         의 MAPE 값: 6.3161232019\n",
      "------------------------------------------------------------\n",
      "[4] XGBRegressor                  의 MAPE 값: 6.0638647785\n",
      "------------------------------------------------------------\n"
     ]
    }
   ],
   "source": [
    "results_test = {}\n",
    "for n,(model_name, model) in enumerate(ml_models.items(),start=1):\n",
    "    y_pred = ml_models[model_name].predict(mms.transform(X_valid))\n",
    "    result = MAPE(y_valid, y_pred)\n",
    "    print(f'[{n}] {model_name:<30}의 MAPE 값: {result:<4.10f}')\n",
    "    results_test[model_name] = result\n",
    "    print('-'*60)"
   ]
  },
  {
   "cell_type": "markdown",
   "metadata": {},
   "source": [
    "### 딥러닝 모델 성능 검증"
   ]
  },
  {
   "cell_type": "code",
   "execution_count": null,
   "metadata": {},
   "outputs": [],
   "source": [
    "with torch.no_grad():\n",
    "    y_pred_test = model(torch.Tensor(X_valid_scaled)).to(device)\n",
    "    val_loss = loss_fn(y_pred_test.squeeze().to(device), torch.Tensor(y_valid.values).to(device))\n",
    "    val_mape = MAPE(y_pred_test.cpu().detach().numpy().squeeze(), y_valid)"
   ]
  },
  {
   "cell_type": "code",
   "execution_count": null,
   "metadata": {},
   "outputs": [],
   "source": [
    "val_mape"
   ]
  },
  {
   "cell_type": "markdown",
   "metadata": {},
   "source": [
    "---\n",
    "\n",
    "## 제출하기"
   ]
  },
  {
   "cell_type": "code",
   "execution_count": null,
   "metadata": {
    "ExecuteTime": {
     "end_time": "2020-09-21T10:06:38.236081Z",
     "start_time": "2020-09-21T10:05:47.235Z"
    }
   },
   "outputs": [],
   "source": [
    "data['test'] # 취급액만 predict해서 넣어주자"
   ]
  },
  {
   "cell_type": "code",
   "execution_count": null,
   "metadata": {
    "ExecuteTime": {
     "end_time": "2020-09-21T10:06:38.236980Z",
     "start_time": "2020-09-21T10:05:47.239Z"
    }
   },
   "outputs": [],
   "source": [
    "from datetime import datetime\n",
    "now = datetime.now()\n",
    "now.month, now.day, now.hour"
   ]
  },
  {
   "cell_type": "markdown",
   "metadata": {},
   "source": [
    "---\n",
    "\n",
    "## 참고자료"
   ]
  },
  {
   "cell_type": "markdown",
   "metadata": {},
   "source": [
    "- https://www.bigcontest.or.kr/index.php\n",
    "- https://pytorch.org/\n",
    "- https://minsuksung-ai.tistory.com/\n",
    "- https://en.wikipedia.org/wiki/Mean_absolute_percentage_error\n",
    "- https://discuss.pytorch.org/t/model-zero-grad-or-optimizer-zero-grad/28426\n",
    "- https://rfriend.tistory.com/411\n",
    "- https://stackoverflow.com/questions/13838405/custom-sorting-in-pandas-dataframe\n",
    "- https://datatofish.com/data-type-pandas-dataframe/\n",
    "- "
   ]
  }
 ],
 "metadata": {
  "hide_input": false,
  "kernelspec": {
   "display_name": "Python 3",
   "language": "python",
   "name": "python3"
  },
  "language_info": {
   "codemirror_mode": {
    "name": "ipython",
    "version": 3
   },
   "file_extension": ".py",
   "mimetype": "text/x-python",
   "name": "python",
   "nbconvert_exporter": "python",
   "pygments_lexer": "ipython3",
   "version": "3.7.7"
  },
  "toc": {
   "base_numbering": "0",
   "nav_menu": {},
   "number_sections": true,
   "sideBar": true,
   "skip_h1_title": true,
   "title_cell": "Table of Contents",
   "title_sidebar": "Contents",
   "toc_cell": true,
   "toc_position": {
    "height": "calc(100% - 180px)",
    "left": "10px",
    "top": "150px",
    "width": "329px"
   },
   "toc_section_display": true,
   "toc_window_display": false
  },
  "varInspector": {
   "cols": {
    "lenName": 16,
    "lenType": 16,
    "lenVar": 40
   },
   "kernels_config": {
    "python": {
     "delete_cmd_postfix": "",
     "delete_cmd_prefix": "del ",
     "library": "var_list.py",
     "varRefreshCmd": "print(var_dic_list())"
    },
    "r": {
     "delete_cmd_postfix": ") ",
     "delete_cmd_prefix": "rm(",
     "library": "var_list.r",
     "varRefreshCmd": "cat(var_dic_list()) "
    }
   },
   "position": {
    "height": "451.215px",
    "left": "1763.33px",
    "right": "20px",
    "top": "120px",
    "width": "350px"
   },
   "types_to_exclude": [
    "module",
    "function",
    "builtin_function_or_method",
    "instance",
    "_Feature"
   ],
   "window_display": false
  }
 },
 "nbformat": 4,
 "nbformat_minor": 4
}

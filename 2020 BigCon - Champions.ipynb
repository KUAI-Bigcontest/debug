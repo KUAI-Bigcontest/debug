{
 "cells": [
  {
   "cell_type": "markdown",
   "metadata": {},
   "source": [
    "# 2020 빅콘테스트 챔피언스리그\n",
    "\n",
    "![](./img/contest_logo.png)"
   ]
  },
  {
   "cell_type": "markdown",
   "metadata": {
    "toc": true
   },
   "source": [
    "<h1>Table of Contents<span class=\"tocSkip\"></span></h1>\n",
    "<div class=\"toc\"><ul class=\"toc-item\"><li><span><a href=\"#대회요강\" data-toc-modified-id=\"대회요강-0\"><span class=\"toc-item-num\">0&nbsp;&nbsp;</span>대회요강</a></span><ul class=\"toc-item\"><li><span><a href=\"#참가자격\" data-toc-modified-id=\"참가자격-0.1\"><span class=\"toc-item-num\">0.1&nbsp;&nbsp;</span>참가자격</a></span></li><li><span><a href=\"#대회일정\" data-toc-modified-id=\"대회일정-0.2\"><span class=\"toc-item-num\">0.2&nbsp;&nbsp;</span>대회일정</a></span></li><li><span><a href=\"#대회-문제\" data-toc-modified-id=\"대회-문제-0.3\"><span class=\"toc-item-num\">0.3&nbsp;&nbsp;</span>대회 문제</a></span></li><li><span><a href=\"#평가방법\" data-toc-modified-id=\"평가방법-0.4\"><span class=\"toc-item-num\">0.4&nbsp;&nbsp;</span>평가방법</a></span></li><li><span><a href=\"#결과제출\" data-toc-modified-id=\"결과제출-0.5\"><span class=\"toc-item-num\">0.5&nbsp;&nbsp;</span>결과제출</a></span></li><li><span><a href=\"#유의사항\" data-toc-modified-id=\"유의사항-0.6\"><span class=\"toc-item-num\">0.6&nbsp;&nbsp;</span>유의사항</a></span></li></ul></li><li><span><a href=\"#Library-&amp;-Option\" data-toc-modified-id=\"Library-&amp;-Option-1\"><span class=\"toc-item-num\">1&nbsp;&nbsp;</span>Library &amp; Option</a></span></li><li><span><a href=\"#Load-Data\" data-toc-modified-id=\"Load-Data-2\"><span class=\"toc-item-num\">2&nbsp;&nbsp;</span>Load Data</a></span><ul class=\"toc-item\"><li><span><a href=\"#2019년-실적데이터\" data-toc-modified-id=\"2019년-실적데이터-2.1\"><span class=\"toc-item-num\">2.1&nbsp;&nbsp;</span>2019년 실적데이터</a></span></li><li><span><a href=\"#시청률-데이터\" data-toc-modified-id=\"시청률-데이터-2.2\"><span class=\"toc-item-num\">2.2&nbsp;&nbsp;</span>시청률 데이터</a></span></li><li><span><a href=\"#판매-실적-예측-데이터\" data-toc-modified-id=\"판매-실적-예측-데이터-2.3\"><span class=\"toc-item-num\">2.3&nbsp;&nbsp;</span>판매 실적 예측 데이터</a></span></li></ul></li><li><span><a href=\"#Data-Preprocessing\" data-toc-modified-id=\"Data-Preprocessing-3\"><span class=\"toc-item-num\">3&nbsp;&nbsp;</span>Data Preprocessing</a></span><ul class=\"toc-item\"><li><span><a href=\"#Null값-처리하기\" data-toc-modified-id=\"Null값-처리하기-3.1\"><span class=\"toc-item-num\">3.1&nbsp;&nbsp;</span>Null값 처리하기</a></span></li><li><span><a href=\"#세부-시간-추출\" data-toc-modified-id=\"세부-시간-추출-3.2\"><span class=\"toc-item-num\">3.2&nbsp;&nbsp;</span>세부 시간 추출</a></span></li><li><span><a href=\"#자연어처리\" data-toc-modified-id=\"자연어처리-3.3\"><span class=\"toc-item-num\">3.3&nbsp;&nbsp;</span>자연어처리</a></span><ul class=\"toc-item\"><li><span><a href=\"#Save-and-Load\" data-toc-modified-id=\"Save-and-Load-3.3.1\"><span class=\"toc-item-num\">3.3.1&nbsp;&nbsp;</span>Save and Load</a></span></li></ul></li><li><span><a href=\"#Embedded-Vectors\" data-toc-modified-id=\"Embedded-Vectors-3.4\"><span class=\"toc-item-num\">3.4&nbsp;&nbsp;</span>Embedded Vectors</a></span></li></ul></li><li><span><a href=\"#Exploratory-Data-Analysis\" data-toc-modified-id=\"Exploratory-Data-Analysis-4\"><span class=\"toc-item-num\">4&nbsp;&nbsp;</span>Exploratory Data Analysis</a></span><ul class=\"toc-item\"><li><span><a href=\"#시청률-데이터\" data-toc-modified-id=\"시청률-데이터-4.1\"><span class=\"toc-item-num\">4.1&nbsp;&nbsp;</span>시청률 데이터</a></span></li></ul></li><li><span><a href=\"#Feature-Engineering\" data-toc-modified-id=\"Feature-Engineering-5\"><span class=\"toc-item-num\">5&nbsp;&nbsp;</span>Feature Engineering</a></span></li><li><span><a href=\"#네이버트랜드-결합\" data-toc-modified-id=\"네이버트랜드-결합-6\"><span class=\"toc-item-num\">6&nbsp;&nbsp;</span>네이버트랜드 결합</a></span><ul class=\"toc-item\"><li><span><a href=\"#상품군,-상품명-처리하기\" data-toc-modified-id=\"상품군,-상품명-처리하기-6.1\"><span class=\"toc-item-num\">6.1&nbsp;&nbsp;</span>상품군, 상품명 처리하기</a></span></li><li><span><a href=\"#Common-Function\" data-toc-modified-id=\"Common-Function-6.2\"><span class=\"toc-item-num\">6.2&nbsp;&nbsp;</span>Common Function</a></span></li><li><span><a href=\"#Train-Preprocessing\" data-toc-modified-id=\"Train-Preprocessing-6.3\"><span class=\"toc-item-num\">6.3&nbsp;&nbsp;</span>Train Preprocessing</a></span></li><li><span><a href=\"#Test-Preprocessing\" data-toc-modified-id=\"Test-Preprocessing-6.4\"><span class=\"toc-item-num\">6.4&nbsp;&nbsp;</span>Test Preprocessing</a></span></li></ul></li><li><span><a href=\"#Feature-Selection\" data-toc-modified-id=\"Feature-Selection-7\"><span class=\"toc-item-num\">7&nbsp;&nbsp;</span>Feature Selection</a></span></li><li><span><a href=\"#Modeling\" data-toc-modified-id=\"Modeling-8\"><span class=\"toc-item-num\">8&nbsp;&nbsp;</span>Modeling</a></span><ul class=\"toc-item\"><li><span><a href=\"#학습-및-검증-데이터-분리하기\" data-toc-modified-id=\"학습-및-검증-데이터-분리하기-8.1\"><span class=\"toc-item-num\">8.1&nbsp;&nbsp;</span>학습 및 검증 데이터 분리하기</a></span></li><li><span><a href=\"#모델-생성하기\" data-toc-modified-id=\"모델-생성하기-8.2\"><span class=\"toc-item-num\">8.2&nbsp;&nbsp;</span>모델 생성하기</a></span></li></ul></li><li><span><a href=\"#Testing\" data-toc-modified-id=\"Testing-9\"><span class=\"toc-item-num\">9&nbsp;&nbsp;</span>Testing</a></span><ul class=\"toc-item\"><li><span><a href=\"#MAPE\" data-toc-modified-id=\"MAPE-9.1\"><span class=\"toc-item-num\">9.1&nbsp;&nbsp;</span>MAPE</a></span></li></ul></li><li><span><a href=\"#Submission\" data-toc-modified-id=\"Submission-10\"><span class=\"toc-item-num\">10&nbsp;&nbsp;</span>Submission</a></span></li><li><span><a href=\"#Reference\" data-toc-modified-id=\"Reference-11\"><span class=\"toc-item-num\">11&nbsp;&nbsp;</span>Reference</a></span></li></ul></div>"
   ]
  },
  {
   "cell_type": "markdown",
   "metadata": {},
   "source": [
    "## 대회요강\n",
    "\n",
    "### 참가자격\n",
    "- 전국 대학(원)생(휴학생포함) 및 일반인\n",
    "    - 대회 시작일(8.3) 기준, 대학(원)생은 나이제한 없음\n",
    "    - 데이터 분석 및 컨설팅 업체 소속 임직원은 참여 불가"
   ]
  },
  {
   "cell_type": "markdown",
   "metadata": {},
   "source": [
    "### 대회일정\n",
    "![](./img/contest_plan.png)"
   ]
  },
  {
   "cell_type": "markdown",
   "metadata": {},
   "source": [
    "### 대회 문제\n",
    "![](./img/contest_problem.png)"
   ]
  },
  {
   "cell_type": "markdown",
   "metadata": {},
   "source": [
    "### 평가방법\n",
    "\n",
    "![](./img/contest_evaluation.png)"
   ]
  },
  {
   "cell_type": "markdown",
   "metadata": {},
   "source": [
    "### 결과제출\n",
    "\n",
    "1. 마이페이지 내 결과제출바로가기 에서 제출(파일 용량 초과시, 사무국 이메일/웹하드로 제출하며 별도 안내 예정)\n",
    "2. 결과보고서 양식 및 추가 제출파일\n",
    "    - 심사진행과정에서 추가로 자료를 요청할 수 있음\n",
    "    - 결과보고서 필수 포함내용 미기재 및 추가 제출파일 미제출시, 심사 및 수상에서 제외 될 수 있음\n",
    "    \n",
    "![](./img/contest_submission.png)"
   ]
  },
  {
   "cell_type": "markdown",
   "metadata": {},
   "source": [
    "### 유의사항\n",
    "\n",
    "![](./img/contest_notice.png)"
   ]
  },
  {
   "cell_type": "markdown",
   "metadata": {},
   "source": [
    "---\n",
    "\n",
    "## Library & Option"
   ]
  },
  {
   "cell_type": "code",
   "execution_count": 1,
   "metadata": {
    "ExecuteTime": {
     "end_time": "2020-09-21T12:02:16.881741Z",
     "start_time": "2020-09-21T12:02:15.791198Z"
    }
   },
   "outputs": [],
   "source": [
    "# BASIC\n",
    "import os\n",
    "import sys\n",
    "import platform\n",
    "import warnings\n",
    "from collections import Counter\n",
    "import calendar\n",
    "\n",
    "# LOAD DATA\n",
    "import numpy as np\n",
    "import pandas as pd\n",
    "\n",
    "# EXPLORATORY DATA ANALYSIS\n",
    "import matplotlib as mpl\n",
    "import matplotlib.pyplot as plt\n",
    "import seaborn as sns\n",
    "import missingno as msno\n",
    "\n",
    "# DATA PREPROCESSING\n",
    "import re\n",
    "from sklearn.preprocessing import LabelEncoder\n",
    "from sklearn.preprocessing import OneHotEncoder\n",
    "\n",
    "# NATURAL LANGUAGE PROCESSING\n",
    "from konlpy.tag import Komoran\n",
    "from gensim.models import Word2Vec\n",
    "\n",
    "# FEATURE ENGINEERING\n",
    "from sklearn.preprocessing import MaxAbsScaler, MinMaxScaler\n",
    "\n",
    "# FEATURE SELECTION\n",
    "from tqdm.notebook import tqdm\n",
    "\n",
    "# MODELING\n",
    "from sklearn.model_selection import KFold\n",
    "from sklearn.model_selection import train_test_split\n",
    "from sklearn.linear_model import LinearRegression\n",
    "from sklearn.tree import DecisionTreeRegressor\n",
    "from sklearn.svm import SVR\n",
    "from sklearn.ensemble import RandomForestRegressor\n",
    "from xgboost import XGBRegressor\n",
    "# from lightgbm import LGBMRegressor\n",
    "\n",
    "# TESTING\n",
    "from sklearn.metrics import mean_absolute_error\n",
    "from sklearn.model_selection import RandomizedSearchCV\n",
    "from sklearn.model_selection import GridSearchCV"
   ]
  },
  {
   "cell_type": "code",
   "execution_count": 2,
   "metadata": {
    "ExecuteTime": {
     "end_time": "2020-09-21T12:02:16.982298Z",
     "start_time": "2020-09-21T12:02:16.964873Z"
    }
   },
   "outputs": [],
   "source": [
    "warnings.filterwarnings(action='ignore')\n",
    "pd.options.display.float_format = '{:.4f}'.format\n",
    "# plt.style.use('ggplot')\n",
    "if platform.platform().split('-')[0] == 'Windows':\n",
    "    mpl.rcParams['font.family'] = 'Malgun Gothic' # Windows에서는 한글이 나오게 하기 위해서\n",
    "else: # macOS라고 가정\n",
    "    mpl.rcParams['font.family'] = 'AppleGothic' # mac에서는 한글이 나오게 하기 위해서\n",
    "\n",
    "mpl.rcParams['axes.unicode_minus'] = False"
   ]
  },
  {
   "cell_type": "code",
   "execution_count": 3,
   "metadata": {
    "ExecuteTime": {
     "end_time": "2020-09-21T12:02:16.988667Z",
     "start_time": "2020-09-21T12:02:16.985427Z"
    }
   },
   "outputs": [],
   "source": [
    "RANDOM_STATE = 42\n",
    "TEST_SIZE = 0.2"
   ]
  },
  {
   "cell_type": "markdown",
   "metadata": {},
   "source": [
    "---\n",
    "\n",
    "## Load Data"
   ]
  },
  {
   "cell_type": "code",
   "execution_count": null,
   "metadata": {
    "ExecuteTime": {
     "end_time": "2020-09-21T10:05:48.205249Z",
     "start_time": "2020-09-21T10:05:48.199902Z"
    }
   },
   "outputs": [],
   "source": [
    "os.listdir('./data/01_제공데이터')"
   ]
  },
  {
   "cell_type": "code",
   "execution_count": null,
   "metadata": {
    "ExecuteTime": {
     "end_time": "2020-09-21T10:05:48.210442Z",
     "start_time": "2020-09-21T10:05:48.206926Z"
    }
   },
   "outputs": [],
   "source": [
    "os.listdir('./data/02_평가데이터')"
   ]
  },
  {
   "cell_type": "code",
   "execution_count": null,
   "metadata": {
    "ExecuteTime": {
     "end_time": "2020-09-21T10:05:48.214672Z",
     "start_time": "2020-09-21T10:05:48.212379Z"
    }
   },
   "outputs": [],
   "source": [
    "data = dict()"
   ]
  },
  {
   "cell_type": "markdown",
   "metadata": {},
   "source": [
    "### 2019년 실적데이터"
   ]
  },
  {
   "cell_type": "code",
   "execution_count": null,
   "metadata": {
    "ExecuteTime": {
     "end_time": "2020-09-21T10:05:51.383234Z",
     "start_time": "2020-09-21T10:05:48.217951Z"
    }
   },
   "outputs": [],
   "source": [
    "data['train'] = pd.read_excel(r'./data/01_제공데이터/2020 빅콘테스트 데이터분석분야-챔피언리그_2019년 실적데이터.xlsx',\n",
    "                       header=1,\n",
    "                       names=['방송일시', '노출(분)', '마더코드', '상품코드',\n",
    "                              '상품명', '상품군', '판매단가', '취급액'],\n",
    "                       thousands=',',\n",
    "                       )\n",
    "data['train'].index = pd.to_datetime(data['train']['방송일시'])\n",
    "data['train'] = data['train'].drop('방송일시',axis=1)\n",
    "data['train'] = data['train']['2019']\n",
    "data['train']"
   ]
  },
  {
   "cell_type": "markdown",
   "metadata": {},
   "source": [
    "### 시청률 데이터"
   ]
  },
  {
   "cell_type": "code",
   "execution_count": null,
   "metadata": {
    "ExecuteTime": {
     "end_time": "2020-09-21T10:05:55.839894Z",
     "start_time": "2020-09-21T10:05:51.385770Z"
    }
   },
   "outputs": [],
   "source": [
    "data['rating'] = pd.read_excel('./data/01_제공데이터/2020 빅콘테스트 데이터분석분야-챔피언리그_시청률 데이터.xlsx',\n",
    "                          skiprows=1,\n",
    "                          index_col=0,\n",
    "                          )\n",
    "data['rating']"
   ]
  },
  {
   "cell_type": "markdown",
   "metadata": {},
   "source": [
    "### 판매 실적 예측 데이터"
   ]
  },
  {
   "cell_type": "code",
   "execution_count": null,
   "metadata": {
    "ExecuteTime": {
     "end_time": "2020-09-21T10:05:56.120762Z",
     "start_time": "2020-09-21T10:05:55.841862Z"
    }
   },
   "outputs": [],
   "source": [
    "data['test'] = pd.read_excel('./data/02_평가데이터/2020 빅콘테스트 데이터분석분야-챔피언리그_2020년 6월 판매실적예측데이터(평가데이터).xlsx',\n",
    "                          skiprows=1,\n",
    "                          index_col=0,\n",
    "                          )\n",
    "data['test']"
   ]
  },
  {
   "cell_type": "markdown",
   "metadata": {},
   "source": [
    "---\n",
    "\n",
    "## Data Preprocessing"
   ]
  },
  {
   "cell_type": "code",
   "execution_count": null,
   "metadata": {
    "ExecuteTime": {
     "end_time": "2020-09-21T10:05:56.124282Z",
     "start_time": "2020-09-21T10:05:56.122492Z"
    }
   },
   "outputs": [],
   "source": [
    "# data.pivot_table(values=['취급액'],\n",
    "#                    index=['연', '월', '일'],\n",
    "#                    aggfunc='sum').plot(figsize=(12,8))\n",
    "# plt.grid()\n",
    "# plt.show()"
   ]
  },
  {
   "cell_type": "code",
   "execution_count": null,
   "metadata": {
    "ExecuteTime": {
     "end_time": "2020-09-21T10:05:56.127744Z",
     "start_time": "2020-09-21T10:05:56.125836Z"
    }
   },
   "outputs": [],
   "source": [
    "# data.pivot_table(values=['노출(분)'],\n",
    "#                    index=['연', '월', '일'],\n",
    "#                    aggfunc='sum').plot(figsize=(12,8))\n",
    "# plt.grid()\n",
    "# plt.show()"
   ]
  },
  {
   "cell_type": "markdown",
   "metadata": {},
   "source": [
    "### Null값 처리하기"
   ]
  },
  {
   "cell_type": "code",
   "execution_count": null,
   "metadata": {
    "ExecuteTime": {
     "end_time": "2020-09-21T10:05:56.603303Z",
     "start_time": "2020-09-21T10:05:56.129158Z"
    }
   },
   "outputs": [],
   "source": [
    "msno.matrix(data['train'])\n",
    "plt.show()"
   ]
  },
  {
   "cell_type": "code",
   "execution_count": null,
   "metadata": {
    "ExecuteTime": {
     "end_time": "2020-09-21T10:05:56.949568Z",
     "start_time": "2020-09-21T10:05:56.605231Z"
    }
   },
   "outputs": [],
   "source": [
    "msno.matrix(data['test'])\n",
    "plt.show()"
   ]
  },
  {
   "cell_type": "markdown",
   "metadata": {},
   "source": [
    "### 세부 시간 추출"
   ]
  },
  {
   "cell_type": "code",
   "execution_count": null,
   "metadata": {
    "ExecuteTime": {
     "end_time": "2020-09-21T10:05:57.388937Z",
     "start_time": "2020-09-21T10:05:56.951651Z"
    }
   },
   "outputs": [],
   "source": [
    "data['train']['연'] = data['train'].index.map(lambda x: x.year)\n",
    "data['train']['월'] = data['train'].index.map(lambda x: x.month)\n",
    "data['train']['일'] = data['train'].index.map(lambda x: x.day)\n",
    "data['train']['시'] = data['train'].index.map(lambda x: x.hour)\n",
    "data['train']['분'] = data['train'].index.map(lambda x: x.minute)\n",
    "data['train']['요일'] = data['train'].index.map(lambda x: calendar.day_abbr[x.weekday()])"
   ]
  },
  {
   "cell_type": "code",
   "execution_count": null,
   "metadata": {
    "ExecuteTime": {
     "end_time": "2020-09-21T10:05:57.427698Z",
     "start_time": "2020-09-21T10:05:57.390693Z"
    }
   },
   "outputs": [],
   "source": [
    "data['test']['연'] = data['test'].index.map(lambda x: x.year)\n",
    "data['test']['월'] = data['test'].index.map(lambda x: x.month)\n",
    "data['test']['일'] = data['test'].index.map(lambda x: x.day)\n",
    "data['test']['시'] = data['test'].index.map(lambda x: x.hour)\n",
    "data['test']['분'] = data['test'].index.map(lambda x: x.minute)\n",
    "data['test']['요일'] = data['test'].index.map(lambda x: calendar.day_abbr[x.weekday()])"
   ]
  },
  {
   "cell_type": "code",
   "execution_count": null,
   "metadata": {
    "ExecuteTime": {
     "end_time": "2020-09-21T10:05:57.445543Z",
     "start_time": "2020-09-21T10:05:57.429762Z"
    }
   },
   "outputs": [],
   "source": [
    "# 노출시간이 비어있을땐 앞을 보면 됨\n",
    "data['train'] = data['train'].fillna(method='ffill')\n",
    "data['test'] = data['test'].fillna(method='ffill')"
   ]
  },
  {
   "cell_type": "code",
   "execution_count": null,
   "metadata": {
    "ExecuteTime": {
     "end_time": "2020-09-21T10:05:57.450180Z",
     "start_time": "2020-09-21T10:05:57.447935Z"
    }
   },
   "outputs": [],
   "source": [
    "# data['train'] = data['train'].dropna()\n",
    "# data['test'] = data['test'].dropna()"
   ]
  },
  {
   "cell_type": "markdown",
   "metadata": {},
   "source": [
    "### 자연어처리"
   ]
  },
  {
   "cell_type": "code",
   "execution_count": null,
   "metadata": {
    "ExecuteTime": {
     "end_time": "2020-09-21T10:05:57.476017Z",
     "start_time": "2020-09-21T10:05:57.452254Z"
    }
   },
   "outputs": [],
   "source": [
    "data['train']"
   ]
  },
  {
   "cell_type": "code",
   "execution_count": null,
   "metadata": {
    "ExecuteTime": {
     "end_time": "2020-09-21T10:05:57.482588Z",
     "start_time": "2020-09-21T10:05:57.477790Z"
    }
   },
   "outputs": [],
   "source": [
    "def re_sub(series: pd.Series) -> pd.Series:\n",
    "    series = series.str.replace(pat=r'[ㄱ-ㅎ]', repl=r'', regex=True)  # ㅋ 제거용\n",
    "    series = series.str.replace(pat=r'[^\\w\\s]', repl=r'', regex=True)  # 특수문자 제거\n",
    "    series = series.str.replace(pat=r'[ ]{2,}', repl=r' ', regex=True)  # 공백 제거\n",
    "    series = series.str.replace(pat=r'[\\u3000]+', repl=r'', regex=True)  # u3000 제거\n",
    "    return series"
   ]
  },
  {
   "cell_type": "code",
   "execution_count": null,
   "metadata": {
    "ExecuteTime": {
     "end_time": "2020-09-21T10:05:57.689493Z",
     "start_time": "2020-09-21T10:05:57.484649Z"
    }
   },
   "outputs": [],
   "source": [
    "train = data['train'][['상품명', '상품군']].copy()\n",
    "test = data['test'][['상품명', '상품군']].copy()\n",
    "train.상품명 = re_sub(train.상품명)\n",
    "test.상품명 = re_sub(test.상품명)"
   ]
  },
  {
   "cell_type": "code",
   "execution_count": null,
   "metadata": {
    "ExecuteTime": {
     "end_time": "2020-09-21T10:05:57.714541Z",
     "start_time": "2020-09-21T10:05:57.691227Z"
    }
   },
   "outputs": [],
   "source": [
    "prod_names = (train[train.상품군 != '무형'].상품명 + ' ' + train[train.상품군 != '무형'].상품군).values# len(prod_names) > 1692 (무형 빼고)\n",
    "prod_names_test = (test[test.상품군 != '무형'].상품명 + ' ' + test[test.상품군 != '무형'].상품군).values# len(prod_names) > 1692 (무형 빼고)"
   ]
  },
  {
   "cell_type": "code",
   "execution_count": null,
   "metadata": {
    "ExecuteTime": {
     "end_time": "2020-09-21T10:05:57.723970Z",
     "start_time": "2020-09-21T10:05:57.720513Z"
    }
   },
   "outputs": [],
   "source": [
    "len(prod_names), len(prod_names_test)"
   ]
  },
  {
   "cell_type": "code",
   "execution_count": null,
   "metadata": {
    "ExecuteTime": {
     "end_time": "2020-09-21T10:06:11.654161Z",
     "start_time": "2020-09-21T10:05:57.728024Z"
    }
   },
   "outputs": [],
   "source": [
    "komoran = Komoran(userdic='./data/04_추가데이터/user_dict_0913.txt')\n",
    "print(komoran.nouns(\"KOMORAN은 한국어 형태소 분석기입니다.\"))\n",
    "\n",
    "naive_tokens = list(map(komoran.pos, prod_names))\n",
    "naive_tokens_test = list(map(komoran.pos, prod_names_test))"
   ]
  },
  {
   "cell_type": "code",
   "execution_count": null,
   "metadata": {
    "ExecuteTime": {
     "end_time": "2020-09-21T10:06:11.816506Z",
     "start_time": "2020-09-21T10:06:11.656363Z"
    }
   },
   "outputs": [],
   "source": [
    "def morph_filter(lst):\n",
    "    return list(map(lambda x: x[0], filter(lambda x: (x[1] in usable_morphs), lst)))\n",
    "\n",
    "usable_morphs = ['NNG', 'NNP', 'NP', 'NR'] #+ ['SL', 'SN']\n",
    "naive_tokens = list(map(morph_filter, naive_tokens))\n",
    "naive_tokens_test = list(map(morph_filter, naive_tokens_test))"
   ]
  },
  {
   "cell_type": "code",
   "execution_count": null,
   "metadata": {
    "ExecuteTime": {
     "end_time": "2020-09-21T10:06:11.897281Z",
     "start_time": "2020-09-21T10:06:11.818631Z"
    }
   },
   "outputs": [],
   "source": [
    "exclude_words = ['종', '인용']\n",
    "def exclude(lst):\n",
    "    return list(filter(lambda x: x not in exclude_words, lst))\n",
    "processed_tokens = list(map(exclude, naive_tokens))\n",
    "processed_tokens_test = list(map(exclude, naive_tokens_test))"
   ]
  },
  {
   "cell_type": "code",
   "execution_count": null,
   "metadata": {
    "ExecuteTime": {
     "end_time": "2020-09-21T10:06:12.029546Z",
     "start_time": "2020-09-21T10:06:11.899437Z"
    }
   },
   "outputs": [],
   "source": [
    "processed_tokens # -> 1차 Output"
   ]
  },
  {
   "cell_type": "code",
   "execution_count": null,
   "metadata": {
    "ExecuteTime": {
     "end_time": "2020-09-21T10:06:12.160150Z",
     "start_time": "2020-09-21T10:06:12.032013Z"
    }
   },
   "outputs": [],
   "source": [
    "processed_tokens_test"
   ]
  },
  {
   "cell_type": "markdown",
   "metadata": {},
   "source": [
    "#### Save and Load"
   ]
  },
  {
   "cell_type": "markdown",
   "metadata": {},
   "source": [
    "import pickle\n",
    "\n",
    "with open('processed_tokens_train.pkl', 'wb') as f:\n",
    "    pickle.dump(processed_tokens, f)"
   ]
  },
  {
   "cell_type": "markdown",
   "metadata": {},
   "source": [
    "### Embedded Vectors"
   ]
  },
  {
   "cell_type": "code",
   "execution_count": null,
   "metadata": {
    "ExecuteTime": {
     "end_time": "2020-09-21T10:06:13.355408Z",
     "start_time": "2020-09-21T10:06:12.162377Z"
    }
   },
   "outputs": [],
   "source": [
    "model = Word2Vec(sentences=processed_tokens, size=10, window=6, min_count=5, workers=4, sg=1)"
   ]
  },
  {
   "cell_type": "code",
   "execution_count": null,
   "metadata": {
    "ExecuteTime": {
     "end_time": "2020-09-21T10:06:13.368359Z",
     "start_time": "2020-09-21T10:06:13.358235Z"
    }
   },
   "outputs": [],
   "source": [
    "word_vectors = model.wv\n",
    "\n",
    "vocabs = word_vectors.vocab.keys()\n",
    "word_vectors_list = [word_vectors[v] for v in vocabs]"
   ]
  },
  {
   "cell_type": "code",
   "execution_count": null,
   "metadata": {
    "ExecuteTime": {
     "end_time": "2020-09-21T10:06:13.375407Z",
     "start_time": "2020-09-21T10:06:13.371014Z"
    }
   },
   "outputs": [],
   "source": [
    "def sum_embed(lst):\n",
    "    wv = []\n",
    "    for word in lst:\n",
    "        try:\n",
    "            wv.append(word_vectors[word])\n",
    "        except:\n",
    "            pass\n",
    "    return sum(wv)"
   ]
  },
  {
   "cell_type": "code",
   "execution_count": null,
   "metadata": {
    "ExecuteTime": {
     "end_time": "2020-09-21T10:06:13.999154Z",
     "start_time": "2020-09-21T10:06:13.378237Z"
    }
   },
   "outputs": [],
   "source": [
    "embedded_tokens = list(map(sum_embed, processed_tokens))\n",
    "embedded_tokens_test = list(map(sum_embed, processed_tokens_test))"
   ]
  },
  {
   "cell_type": "code",
   "execution_count": null,
   "metadata": {
    "ExecuteTime": {
     "end_time": "2020-09-21T10:06:14.071239Z",
     "start_time": "2020-09-21T10:06:14.001038Z"
    }
   },
   "outputs": [],
   "source": [
    "from sklearn.decomposition import PCA\n",
    "pca = PCA(n_components=10)\n",
    "pca.fit(embedded_tokens)\n",
    "xys = pca.transform(embedded_tokens)\n",
    "xys_test = pca.transform(embedded_tokens_test)"
   ]
  },
  {
   "cell_type": "code",
   "execution_count": null,
   "metadata": {
    "ExecuteTime": {
     "end_time": "2020-09-21T10:06:14.078884Z",
     "start_time": "2020-09-21T10:06:14.073592Z"
    }
   },
   "outputs": [],
   "source": [
    "xys.shape  # 무형 제외"
   ]
  },
  {
   "cell_type": "code",
   "execution_count": null,
   "metadata": {
    "ExecuteTime": {
     "end_time": "2020-09-21T10:06:14.351571Z",
     "start_time": "2020-09-21T10:06:14.081066Z"
    }
   },
   "outputs": [],
   "source": [
    "xys_test.shape"
   ]
  },
  {
   "cell_type": "markdown",
   "metadata": {},
   "source": [
    "---\n",
    "\n",
    "## Exploratory Data Analysis"
   ]
  },
  {
   "cell_type": "code",
   "execution_count": null,
   "metadata": {
    "ExecuteTime": {
     "end_time": "2020-09-21T10:06:14.357213Z",
     "start_time": "2020-09-21T10:06:14.353475Z"
    }
   },
   "outputs": [],
   "source": [
    "data['train'].shape"
   ]
  },
  {
   "cell_type": "code",
   "execution_count": null,
   "metadata": {
    "ExecuteTime": {
     "end_time": "2020-09-21T10:06:14.362298Z",
     "start_time": "2020-09-21T10:06:14.359028Z"
    }
   },
   "outputs": [],
   "source": [
    "data['test'].shape"
   ]
  },
  {
   "cell_type": "code",
   "execution_count": null,
   "metadata": {
    "ExecuteTime": {
     "end_time": "2020-09-21T10:06:14.367671Z",
     "start_time": "2020-09-21T10:06:14.363987Z"
    }
   },
   "outputs": [],
   "source": [
    "data['train'].columns"
   ]
  },
  {
   "cell_type": "code",
   "execution_count": null,
   "metadata": {
    "ExecuteTime": {
     "end_time": "2020-09-21T10:06:14.372680Z",
     "start_time": "2020-09-21T10:06:14.369294Z"
    }
   },
   "outputs": [],
   "source": [
    "data['test'].columns"
   ]
  },
  {
   "cell_type": "code",
   "execution_count": null,
   "metadata": {
    "ExecuteTime": {
     "end_time": "2020-09-21T10:06:14.393065Z",
     "start_time": "2020-09-21T10:06:14.374320Z"
    }
   },
   "outputs": [],
   "source": [
    "data['train'].info()"
   ]
  },
  {
   "cell_type": "code",
   "execution_count": null,
   "metadata": {
    "ExecuteTime": {
     "end_time": "2020-09-21T10:06:14.404620Z",
     "start_time": "2020-09-21T10:06:14.394848Z"
    }
   },
   "outputs": [],
   "source": [
    "data['test'].info()"
   ]
  },
  {
   "cell_type": "code",
   "execution_count": null,
   "metadata": {
    "ExecuteTime": {
     "end_time": "2020-09-21T10:06:14.425362Z",
     "start_time": "2020-09-21T10:06:14.406523Z"
    }
   },
   "outputs": [],
   "source": [
    "data['rating'].info()"
   ]
  },
  {
   "cell_type": "code",
   "execution_count": null,
   "metadata": {
    "ExecuteTime": {
     "end_time": "2020-09-21T10:06:14.476031Z",
     "start_time": "2020-09-21T10:06:14.427131Z"
    }
   },
   "outputs": [],
   "source": [
    "data['train'].describe()"
   ]
  },
  {
   "cell_type": "code",
   "execution_count": null,
   "metadata": {
    "ExecuteTime": {
     "end_time": "2020-09-21T10:06:14.484511Z",
     "start_time": "2020-09-21T10:06:14.477801Z"
    }
   },
   "outputs": [],
   "source": [
    "sorted(Counter(data['train']['상품군'].tolist()).items(),key=lambda x: x[1])"
   ]
  },
  {
   "cell_type": "code",
   "execution_count": null,
   "metadata": {
    "ExecuteTime": {
     "end_time": "2020-09-21T10:06:14.492929Z",
     "start_time": "2020-09-21T10:06:14.486264Z"
    }
   },
   "outputs": [],
   "source": [
    "data['train']['상품군'].unique()\n",
    "print(len(data['train']['상품군'].unique()))"
   ]
  },
  {
   "cell_type": "code",
   "execution_count": null,
   "metadata": {
    "ExecuteTime": {
     "end_time": "2020-09-21T10:06:14.509619Z",
     "start_time": "2020-09-21T10:06:14.494683Z"
    }
   },
   "outputs": [],
   "source": [
    "data['train'].pivot_table(values=['취급액'],\n",
    "                   index=['상품군'],\n",
    "                   aggfunc='sum').sort_values(by='취급액',ascending=False)"
   ]
  },
  {
   "cell_type": "code",
   "execution_count": null,
   "metadata": {
    "ExecuteTime": {
     "end_time": "2020-09-21T10:06:14.721848Z",
     "start_time": "2020-09-21T10:06:14.511395Z"
    }
   },
   "outputs": [],
   "source": [
    "data['train'].pivot_table(values=['취급액'],\n",
    "                   index=['상품군'],\n",
    "                   aggfunc='sum').sort_values(by='취급액',ascending=True).plot(kind='barh')\n",
    "plt.show()"
   ]
  },
  {
   "cell_type": "code",
   "execution_count": null,
   "metadata": {
    "ExecuteTime": {
     "end_time": "2020-09-21T10:06:14.734936Z",
     "start_time": "2020-09-21T10:06:14.723791Z"
    }
   },
   "outputs": [],
   "source": [
    "data['train']['상품명'].unique()\n",
    "print(len(data['train']['상품명'].unique()))"
   ]
  },
  {
   "cell_type": "code",
   "execution_count": null,
   "metadata": {
    "ExecuteTime": {
     "end_time": "2020-09-21T10:06:14.758889Z",
     "start_time": "2020-09-21T10:06:14.737611Z"
    }
   },
   "outputs": [],
   "source": [
    "data['train'].pivot_table(values=['취급액'],\n",
    "                          index=['상품명'],\n",
    "                          aggfunc='sum').sort_values(by='취급액',ascending=False)"
   ]
  },
  {
   "cell_type": "code",
   "execution_count": null,
   "metadata": {
    "ExecuteTime": {
     "end_time": "2020-09-21T10:06:14.763129Z",
     "start_time": "2020-09-21T10:06:14.760928Z"
    }
   },
   "outputs": [],
   "source": [
    "# data['train'].pivot_table(values=['갯수'],\n",
    "#                    index=['상품명'],\n",
    "#                    aggfunc='sum').sort_values(by='갯수',ascending=False)"
   ]
  },
  {
   "cell_type": "code",
   "execution_count": null,
   "metadata": {
    "ExecuteTime": {
     "end_time": "2020-09-21T10:06:14.767104Z",
     "start_time": "2020-09-21T10:06:14.765089Z"
    }
   },
   "outputs": [],
   "source": [
    "# data['train'].pivot_table(values=['갯수'],\n",
    "#                    index=['상품군'],\n",
    "#                    aggfunc='sum').sort_values(by='갯수',ascending=False)"
   ]
  },
  {
   "cell_type": "code",
   "execution_count": null,
   "metadata": {
    "ExecuteTime": {
     "end_time": "2020-09-21T10:06:14.770644Z",
     "start_time": "2020-09-21T10:06:14.768532Z"
    }
   },
   "outputs": [],
   "source": [
    "# data_p.pivot_table(values=['갯수'],\n",
    "#                    index=['상품군'],\n",
    "#                    aggfunc='sum').sort_values(by='갯수',ascending=True).plot(kind='barh')\n",
    "# plt.show()"
   ]
  },
  {
   "cell_type": "code",
   "execution_count": null,
   "metadata": {
    "ExecuteTime": {
     "end_time": "2020-09-21T10:06:14.774464Z",
     "start_time": "2020-09-21T10:06:14.772355Z"
    }
   },
   "outputs": [],
   "source": [
    "# data['train'].pivot_table(values=['취급액'],\n",
    "#                    index=['월'],\n",
    "#                    aggfunc='sum').sort_values(by='취급액').sort_index().plot(kind='bar')\n",
    "# plt.show()"
   ]
  },
  {
   "cell_type": "code",
   "execution_count": null,
   "metadata": {
    "ExecuteTime": {
     "end_time": "2020-09-21T10:06:14.778279Z",
     "start_time": "2020-09-21T10:06:14.776194Z"
    }
   },
   "outputs": [],
   "source": [
    "# data_p.pivot_table(values=['취급액'],\n",
    "#                    index=['일'],\n",
    "#                    aggfunc='sum').sort_values(by='취급액').sort_index().plot(kind='bar')\n",
    "# plt.show()"
   ]
  },
  {
   "cell_type": "code",
   "execution_count": null,
   "metadata": {
    "ExecuteTime": {
     "end_time": "2020-09-21T10:06:14.782100Z",
     "start_time": "2020-09-21T10:06:14.779963Z"
    }
   },
   "outputs": [],
   "source": [
    "# data_p.pivot_table(values=['취급액'],\n",
    "#                    index=['시'],\n",
    "#                    aggfunc='sum').sort_values(by='취급액').sort_index().plot(kind='bar')\n",
    "# plt.show()"
   ]
  },
  {
   "cell_type": "code",
   "execution_count": null,
   "metadata": {
    "ExecuteTime": {
     "end_time": "2020-09-21T10:06:15.013255Z",
     "start_time": "2020-09-21T10:06:14.783924Z"
    }
   },
   "outputs": [],
   "source": [
    "data['train'][['상품코드','상품명','상품군']]['상품군'].value_counts().plot(kind = 'bar', figsize=(14, 10))\n",
    "plt.show()"
   ]
  },
  {
   "cell_type": "code",
   "execution_count": null,
   "metadata": {
    "ExecuteTime": {
     "end_time": "2020-09-21T10:06:15.244067Z",
     "start_time": "2020-09-21T10:06:15.015242Z"
    }
   },
   "outputs": [],
   "source": [
    "data['test'][['상품코드','상품명','상품군']]['상품군'].value_counts().plot(kind = 'bar', figsize=(14, 10))\n",
    "plt.show()"
   ]
  },
  {
   "cell_type": "code",
   "execution_count": null,
   "metadata": {
    "ExecuteTime": {
     "end_time": "2020-09-21T10:06:15.251519Z",
     "start_time": "2020-09-21T10:06:15.245820Z"
    }
   },
   "outputs": [],
   "source": [
    "np.sum(data['train']['상품군'] == '무형')"
   ]
  },
  {
   "cell_type": "code",
   "execution_count": null,
   "metadata": {
    "ExecuteTime": {
     "end_time": "2020-09-21T10:06:15.261463Z",
     "start_time": "2020-09-21T10:06:15.253191Z"
    }
   },
   "outputs": [],
   "source": [
    "data['train'][data['train']['판매단가'] >0]['판매단가'].unique().min()"
   ]
  },
  {
   "cell_type": "code",
   "execution_count": null,
   "metadata": {
    "ExecuteTime": {
     "end_time": "2020-09-21T10:06:15.268484Z",
     "start_time": "2020-09-21T10:06:15.263204Z"
    }
   },
   "outputs": [],
   "source": [
    "np.nanmax(data['train']['취급액'].unique())"
   ]
  },
  {
   "cell_type": "code",
   "execution_count": null,
   "metadata": {
    "ExecuteTime": {
     "end_time": "2020-09-21T10:06:15.276020Z",
     "start_time": "2020-09-21T10:06:15.270393Z"
    }
   },
   "outputs": [],
   "source": [
    "data['train']['상품코드'].unique().max()"
   ]
  },
  {
   "cell_type": "code",
   "execution_count": null,
   "metadata": {
    "ExecuteTime": {
     "end_time": "2020-09-21T10:06:15.282307Z",
     "start_time": "2020-09-21T10:06:15.277989Z"
    }
   },
   "outputs": [],
   "source": [
    "len(data['train']['상품코드'].unique())"
   ]
  },
  {
   "cell_type": "code",
   "execution_count": null,
   "metadata": {
    "ExecuteTime": {
     "end_time": "2020-09-21T10:06:15.305672Z",
     "start_time": "2020-09-21T10:06:15.284040Z"
    }
   },
   "outputs": [],
   "source": [
    "prod_list = data['train'][['상품코드','상품명','상품군']].drop_duplicates()\n",
    "prod_list"
   ]
  },
  {
   "cell_type": "code",
   "execution_count": null,
   "metadata": {
    "ExecuteTime": {
     "end_time": "2020-09-21T10:06:16.775598Z",
     "start_time": "2020-09-21T10:06:15.307283Z"
    }
   },
   "outputs": [],
   "source": [
    "for prod in prod_list['상품명'].drop_duplicates():\n",
    "    length = len(prod_list[prod_list['상품명']==prod])\n",
    "    if length > 1:\n",
    "        print(prod,len(prod_list[prod_list['상품명']==prod]))"
   ]
  },
  {
   "cell_type": "code",
   "execution_count": null,
   "metadata": {
    "ExecuteTime": {
     "end_time": "2020-09-21T10:06:16.794807Z",
     "start_time": "2020-09-21T10:06:16.780234Z"
    },
    "scrolled": true
   },
   "outputs": [],
   "source": [
    "cloth_list = prod_list[prod_list['상품군']=='의류']['상품명'].unique()\n",
    "for word in cloth_list:\n",
    "        # The . symbol is used in place of ? symbol\n",
    "        if re.search('', word) : \n",
    "                print (word)"
   ]
  },
  {
   "cell_type": "code",
   "execution_count": null,
   "metadata": {
    "ExecuteTime": {
     "end_time": "2020-09-21T10:06:18.119432Z",
     "start_time": "2020-09-21T10:06:16.799036Z"
    }
   },
   "outputs": [],
   "source": [
    "sns.heatmap(data['train'].isnull(), cbar=True)\n",
    "plt.show()"
   ]
  },
  {
   "cell_type": "code",
   "execution_count": null,
   "metadata": {
    "ExecuteTime": {
     "end_time": "2020-09-21T10:06:19.047480Z",
     "start_time": "2020-09-21T10:06:18.121271Z"
    }
   },
   "outputs": [],
   "source": [
    "msno.matrix(data['train']);"
   ]
  },
  {
   "cell_type": "code",
   "execution_count": null,
   "metadata": {
    "ExecuteTime": {
     "end_time": "2020-09-21T10:06:19.803065Z",
     "start_time": "2020-09-21T10:06:19.063836Z"
    }
   },
   "outputs": [],
   "source": [
    "msno.bar(data['train']);"
   ]
  },
  {
   "cell_type": "code",
   "execution_count": null,
   "metadata": {
    "ExecuteTime": {
     "end_time": "2020-09-21T10:06:20.027577Z",
     "start_time": "2020-09-21T10:06:19.811169Z"
    }
   },
   "outputs": [],
   "source": [
    "prod_list = data['train'][['상품코드','상품명','상품군']].drop_duplicates()\n",
    "prod_list['상품군'].value_counts().plot(kind = 'bar', figsize=(14, 10));"
   ]
  },
  {
   "cell_type": "code",
   "execution_count": null,
   "metadata": {
    "ExecuteTime": {
     "end_time": "2020-09-21T10:06:20.038137Z",
     "start_time": "2020-09-21T10:06:20.029313Z"
    }
   },
   "outputs": [],
   "source": [
    "data['train']['상품군'].value_counts()"
   ]
  },
  {
   "cell_type": "code",
   "execution_count": null,
   "metadata": {
    "ExecuteTime": {
     "end_time": "2020-09-21T10:06:20.045349Z",
     "start_time": "2020-09-21T10:06:20.039921Z"
    }
   },
   "outputs": [],
   "source": [
    "prod_list['상품군'].value_counts()"
   ]
  },
  {
   "cell_type": "code",
   "execution_count": null,
   "metadata": {
    "ExecuteTime": {
     "end_time": "2020-09-21T10:06:20.265868Z",
     "start_time": "2020-09-21T10:06:20.047022Z"
    }
   },
   "outputs": [],
   "source": [
    "data['train']['상품군'].value_counts().plot(kind='bar', figsize=(14, 10));"
   ]
  },
  {
   "cell_type": "code",
   "execution_count": null,
   "metadata": {
    "ExecuteTime": {
     "end_time": "2020-09-21T10:06:20.693939Z",
     "start_time": "2020-09-21T10:06:20.268272Z"
    }
   },
   "outputs": [],
   "source": [
    "plt.rcParams[\"figure.figsize\"] = (14,10)\n",
    "sns.boxplot(x = '상품군', y = '취급액', data = data['train']);"
   ]
  },
  {
   "cell_type": "code",
   "execution_count": null,
   "metadata": {
    "ExecuteTime": {
     "end_time": "2020-09-21T10:06:21.122098Z",
     "start_time": "2020-09-21T10:06:20.695653Z"
    }
   },
   "outputs": [],
   "source": [
    "sns.boxplot(x = '상품군', y = '판매단가', data = data['train']);"
   ]
  },
  {
   "cell_type": "code",
   "execution_count": null,
   "metadata": {
    "ExecuteTime": {
     "end_time": "2020-09-21T10:06:21.377571Z",
     "start_time": "2020-09-21T10:06:21.124024Z"
    }
   },
   "outputs": [],
   "source": [
    "cat_outcome = data['train'][['상품군', '취급액']].groupby('상품군').mean()\n",
    "cat_outcome.sort_values(by=['취급액'], axis=0, ascending=False).plot(kind='bar', figsize=(14, 10))"
   ]
  },
  {
   "cell_type": "code",
   "execution_count": null,
   "metadata": {
    "ExecuteTime": {
     "end_time": "2020-09-21T10:06:21.611664Z",
     "start_time": "2020-09-21T10:06:21.379372Z"
    }
   },
   "outputs": [],
   "source": [
    "cat_duration = data['train'][['상품군', '노출(분)']].groupby('상품군').mean()\n",
    "cat_duration.sort_values(by=['노출(분)'], axis=0, ascending=False).plot(kind='bar', figsize=(14, 10))"
   ]
  },
  {
   "cell_type": "code",
   "execution_count": null,
   "metadata": {
    "ExecuteTime": {
     "end_time": "2020-09-21T10:06:21.617946Z",
     "start_time": "2020-09-21T10:06:21.613752Z"
    }
   },
   "outputs": [],
   "source": [
    "outcome2019 = data['train'].loc['2019',:]"
   ]
  },
  {
   "cell_type": "code",
   "execution_count": null,
   "metadata": {
    "ExecuteTime": {
     "end_time": "2020-09-21T10:06:21.849437Z",
     "start_time": "2020-09-21T10:06:21.620081Z"
    }
   },
   "outputs": [],
   "source": [
    "month_group = outcome2019.groupby('월').mean()\n",
    "month_group['취급액'].plot(kind='bar', figsize=(14, 10))\n",
    "plt.axhline(y = np.mean(month_group.취급액), color = 'red', ls = '--')"
   ]
  },
  {
   "cell_type": "code",
   "execution_count": null,
   "metadata": {
    "ExecuteTime": {
     "end_time": "2020-09-21T10:06:22.358670Z",
     "start_time": "2020-09-21T10:06:21.851216Z"
    }
   },
   "outputs": [],
   "source": [
    "day_group = outcome2019.groupby('일').sum()\n",
    "day_group['취급액'].plot(kind='bar', figsize=(14, 10))\n",
    "plt.axhline(y = np.mean(day_group.취급액), color = 'red', ls = '--')"
   ]
  },
  {
   "cell_type": "code",
   "execution_count": null,
   "metadata": {
    "ExecuteTime": {
     "end_time": "2020-09-21T10:06:22.622729Z",
     "start_time": "2020-09-21T10:06:22.360319Z"
    },
    "scrolled": false
   },
   "outputs": [],
   "source": [
    "hour_group = outcome2019.groupby('시').mean()\n",
    "hour_group['취급액'].plot(kind='bar', figsize=(14, 10))\n",
    "plt.axhline(y = np.mean(hour_group.취급액), color = 'red', ls = '--')"
   ]
  },
  {
   "cell_type": "code",
   "execution_count": null,
   "metadata": {
    "ExecuteTime": {
     "end_time": "2020-09-21T10:06:22.814551Z",
     "start_time": "2020-09-21T10:06:22.624639Z"
    }
   },
   "outputs": [],
   "source": [
    "weekday_group = outcome2019.groupby('요일').mean()\n",
    "weekday_group['취급액'].plot(kind='bar', figsize=(14, 10)) #0: Monday ~ 6: Sunday\n",
    "plt.axhline(y = np.mean(weekday_group.취급액), color = 'red', ls = '--')"
   ]
  },
  {
   "cell_type": "code",
   "execution_count": null,
   "metadata": {
    "ExecuteTime": {
     "end_time": "2020-09-21T10:06:23.394852Z",
     "start_time": "2020-09-21T10:06:22.816464Z"
    }
   },
   "outputs": [],
   "source": [
    "prod_group = outcome2019.groupby('상품명').mean()\n",
    "prod_group['판매단가'].sort_values(ascending=False)[:20].plot(kind='bar', figsize=(14, 10))"
   ]
  },
  {
   "cell_type": "code",
   "execution_count": null,
   "metadata": {
    "ExecuteTime": {
     "end_time": "2020-09-21T10:06:23.402828Z",
     "start_time": "2020-09-21T10:06:23.396692Z"
    }
   },
   "outputs": [],
   "source": [
    "prod_group['판매단가'].sort_values(ascending=False)[:20]"
   ]
  },
  {
   "cell_type": "code",
   "execution_count": null,
   "metadata": {
    "ExecuteTime": {
     "end_time": "2020-09-21T10:06:23.422011Z",
     "start_time": "2020-09-21T10:06:23.404511Z"
    }
   },
   "outputs": [],
   "source": [
    "quant_group = outcome2019.groupby('상품군').sum()\n",
    "quant_group"
   ]
  },
  {
   "cell_type": "markdown",
   "metadata": {},
   "source": [
    "### 시청률 데이터"
   ]
  },
  {
   "cell_type": "code",
   "execution_count": null,
   "metadata": {
    "ExecuteTime": {
     "end_time": "2020-09-21T10:06:23.438424Z",
     "start_time": "2020-09-21T10:06:23.423647Z"
    }
   },
   "outputs": [],
   "source": [
    "data['rating'].head()"
   ]
  },
  {
   "cell_type": "code",
   "execution_count": null,
   "metadata": {
    "ExecuteTime": {
     "end_time": "2020-09-21T10:06:23.454899Z",
     "start_time": "2020-09-21T10:06:23.439969Z"
    }
   },
   "outputs": [],
   "source": [
    "data['rating'].tail()"
   ]
  },
  {
   "cell_type": "code",
   "execution_count": null,
   "metadata": {
    "ExecuteTime": {
     "end_time": "2020-09-21T10:06:23.668963Z",
     "start_time": "2020-09-21T10:06:23.456568Z"
    }
   },
   "outputs": [],
   "source": [
    "tv_day = data['rating'].iloc[-1,1:]   #일 평균 시청률, length: 365\n",
    "tv_day = tv_day*100\n",
    "tv_day.plot()             #하반기에 높은 시청률을 보임."
   ]
  },
  {
   "cell_type": "code",
   "execution_count": null,
   "metadata": {
    "ExecuteTime": {
     "end_time": "2020-09-21T10:06:23.674745Z",
     "start_time": "2020-09-21T10:06:23.670777Z"
    }
   },
   "outputs": [],
   "source": [
    "tv_day.head()"
   ]
  },
  {
   "cell_type": "code",
   "execution_count": null,
   "metadata": {
    "ExecuteTime": {
     "end_time": "2020-09-21T10:06:23.880047Z",
     "start_time": "2020-09-21T10:06:23.676349Z"
    }
   },
   "outputs": [],
   "source": [
    "tv_min = data['rating'].iloc[:-1,-1]   #분당 시청률 02:00(0) ~ 01:59(1439), length: 1439\n",
    "tv_min = tv_min*100\n",
    "tv_min.plot()              #800(15시 경)에 시청률이 가장 높은 추이"
   ]
  },
  {
   "cell_type": "code",
   "execution_count": null,
   "metadata": {
    "ExecuteTime": {
     "end_time": "2020-09-21T10:06:23.896386Z",
     "start_time": "2020-09-21T10:06:23.881815Z"
    }
   },
   "outputs": [],
   "source": [
    "data['rating'].tail()"
   ]
  },
  {
   "cell_type": "code",
   "execution_count": null,
   "metadata": {
    "ExecuteTime": {
     "end_time": "2020-09-21T10:06:23.901120Z",
     "start_time": "2020-09-21T10:06:23.898073Z"
    }
   },
   "outputs": [],
   "source": [
    "data['rating'].shape"
   ]
  },
  {
   "cell_type": "markdown",
   "metadata": {},
   "source": [
    "----\n",
    "\n",
    "## Feature Engineering"
   ]
  },
  {
   "cell_type": "code",
   "execution_count": null,
   "metadata": {
    "ExecuteTime": {
     "end_time": "2020-09-21T10:06:23.905073Z",
     "start_time": "2020-09-21T10:06:23.902603Z"
    }
   },
   "outputs": [],
   "source": [
    "columns = [f'embed_{i}' for i in range(10)]"
   ]
  },
  {
   "cell_type": "code",
   "execution_count": null,
   "metadata": {
    "ExecuteTime": {
     "end_time": "2020-09-21T10:06:23.915345Z",
     "start_time": "2020-09-21T10:06:23.906655Z"
    }
   },
   "outputs": [],
   "source": [
    "_data_train = data['train'].loc[~(data['train']['상품군'].isin(['무형'])),:].copy()\n",
    "_data_test = data['test'].loc[~(data['test']['상품군'].isin(['무형'])),:].copy()"
   ]
  },
  {
   "cell_type": "code",
   "execution_count": null,
   "metadata": {
    "ExecuteTime": {
     "end_time": "2020-09-21T10:06:24.252445Z",
     "start_time": "2020-09-21T10:06:23.917171Z"
    }
   },
   "outputs": [],
   "source": [
    "data['train'] = pd.concat([_data_train, \n",
    "                           pd.DataFrame(xys, index=_data_train.index, columns=columns),\n",
    "                           pd.DataFrame(processed_tokens, index=_data_train.index)],axis=1)\n",
    "data['train']"
   ]
  },
  {
   "cell_type": "code",
   "execution_count": null,
   "metadata": {
    "ExecuteTime": {
     "end_time": "2020-09-21T10:06:24.299296Z",
     "start_time": "2020-09-21T10:06:24.254321Z"
    }
   },
   "outputs": [],
   "source": [
    "data['test'] = pd.concat([_data_test,\n",
    "                          pd.DataFrame(xys_test, index=_data_test.index, columns=columns),\n",
    "                         pd.DataFrame(processed_tokens_test, index=_data_test.index)],axis=1)\n",
    "data['test']"
   ]
  },
  {
   "cell_type": "markdown",
   "metadata": {},
   "source": [
    "## 네이버트랜드 결합 \n"
   ]
  },
  {
   "cell_type": "code",
   "execution_count": null,
   "metadata": {
    "ExecuteTime": {
     "end_time": "2020-09-21T10:06:24.518454Z",
     "start_time": "2020-09-21T10:06:24.301396Z"
    }
   },
   "outputs": [],
   "source": [
    "# 네이터 트랜드 가져오기 \n",
    "trend1 = pd.read_excel('./data/03_외부데이터/naver_group_1.xlsx',skiprows=[0,1,2,3,4,5])\n",
    "trend2 = pd.read_excel('./data/03_외부데이터/naver_group_2.xlsx',skiprows=[0,1,2,3,4,5])\n",
    "trend_criterion = pd.read_excel('./data/03_외부데이터/naver_criterion.xlsx',skiprows=[0,1,2,3,4,5]).drop('날짜.1',axis=1)\n",
    "\n",
    "# 트랜드df 만들기 \n",
    "drop_list = ['날짜.1','날짜.2','날짜.3','날짜.4','날짜']\n",
    "date = trend1['날짜']\n",
    "trend1 = trend1.drop(drop_list,axis=1)\n",
    "trend2 = trend2.drop(drop_list,axis=1)\n",
    "\n",
    "# 기준 만들기 \n",
    "cri1 = trend_criterion['농수산']/(trend_criterion['생활용품']+trend_criterion['농수산'])\n",
    "cri2 = trend_criterion['생활용품']/(trend_criterion['생활용품']+trend_criterion['농수산'])\n",
    "\n",
    "# scailing \n",
    "trend1 = trend1.apply(lambda x: x*cri1)\n",
    "trend2 = trend2.apply(lambda x: x*cri2)\n",
    "trend_df = pd.concat([trend1,trend2],axis=1)\n",
    "\n",
    "trend_df['날짜'] = date\n",
    "trend_df['날짜'] = pd.to_datetime(trend_df['날짜'])\n",
    "trend_df  = trend_df.set_index('날짜')"
   ]
  },
  {
   "cell_type": "code",
   "execution_count": null,
   "metadata": {
    "ExecuteTime": {
     "end_time": "2020-09-21T10:06:24.527155Z",
     "start_time": "2020-09-21T10:06:24.520417Z"
    }
   },
   "outputs": [],
   "source": [
    "# min-max\n",
    "\n",
    "mn_scaler = MinMaxScaler()\n",
    "scaled_X = mn_scaler.fit_transform(trend_df.values)\n",
    "\n",
    "trend_df_final = pd.DataFrame(scaled_X,\n",
    "                              columns=trend_df.columns,\n",
    "                              index=trend_df.index)\n",
    "\n",
    "# '미용'--> 이미용 '농수산물'--> 농수축 \n",
    "trend_df_final['침구'] = trend_df_final['가구']\n",
    "trend_df_final.columns = ['의류', '농수축', '속옷', '주방', '이미용', '가전', '생활용품', '건강기능', '잡화', '가구', '침구']"
   ]
  },
  {
   "cell_type": "code",
   "execution_count": null,
   "metadata": {
    "ExecuteTime": {
     "end_time": "2020-09-21T10:06:24.531632Z",
     "start_time": "2020-09-21T10:06:24.528949Z"
    }
   },
   "outputs": [],
   "source": [
    "def get_trend(idx, cat):\n",
    "    return trend_df_final.loc[idx.strftime('%Y-%m-%d'), cat]"
   ]
  },
  {
   "cell_type": "code",
   "execution_count": null,
   "metadata": {
    "ExecuteTime": {
     "end_time": "2020-09-21T10:06:37.854646Z",
     "start_time": "2020-09-21T10:06:24.533530Z"
    }
   },
   "outputs": [],
   "source": [
    "data['train']['naver_trend'] = list(map(get_trend, data['train'].index, data['train'].상품군))\n",
    "data['test']['naver_trend'] = list(map(get_trend, data['test'].index, data['test'].상품군))"
   ]
  },
  {
   "cell_type": "markdown",
   "metadata": {},
   "source": [
    "### 상품군, 상품명 처리하기"
   ]
  },
  {
   "cell_type": "code",
   "execution_count": null,
   "metadata": {
    "ExecuteTime": {
     "end_time": "2020-09-21T10:06:37.866264Z",
     "start_time": "2020-09-21T10:06:37.856251Z"
    }
   },
   "outputs": [],
   "source": [
    "le1 = LabelEncoder()\n",
    "le1.fit(pd.concat([data['train']['상품군'], data['test']['상품군']]))\n",
    "data['train']['상품군'] = le1.transform(data['train']['상품군'])\n",
    "data['test']['상품군'] = le1.transform(data['test']['상품군'])"
   ]
  },
  {
   "cell_type": "code",
   "execution_count": null,
   "metadata": {
    "ExecuteTime": {
     "end_time": "2020-09-21T10:06:37.880898Z",
     "start_time": "2020-09-21T10:06:37.868053Z"
    }
   },
   "outputs": [],
   "source": [
    "le2 = LabelEncoder()\n",
    "le2.fit(pd.concat([data['train']['상품명'], data['test']['상품명']]))\n",
    "data['train']['상품명'] = le2.transform(data['train']['상품명'])\n",
    "data['test']['상품명'] = le2.transform(data['test']['상품명'])"
   ]
  },
  {
   "cell_type": "code",
   "execution_count": null,
   "metadata": {
    "ExecuteTime": {
     "end_time": "2020-09-21T10:07:58.532081Z",
     "start_time": "2020-09-21T10:07:58.502966Z"
    }
   },
   "outputs": [],
   "source": [
    "###Importing TV Data\n",
    "#MBC\n",
    "MBC_time = pd.read_excel('./data/03_외부데이터/TV_Time.xlsx', sheet_name='MBC')\n",
    "MBC_time['Time'] = MBC_time['MBC']\n",
    "MBC_time = MBC_time.drop(['MBC'], axis=1).set_index('Time')\n",
    "\n",
    "#JTBC\n",
    "JTBC_time =pd.read_excel('./data/03_외부데이터/TV_Time.xlsx', sheet_name='JTBC')\n",
    "JTBC_time['Time'] = JTBC_time['JTBC']\n",
    "JTBC_time = JTBC_time.drop(['JTBC'], axis=1).set_index('Time')"
   ]
  },
  {
   "cell_type": "markdown",
   "metadata": {},
   "source": [
    "### Common Function"
   ]
  },
  {
   "cell_type": "code",
   "execution_count": null,
   "metadata": {
    "ExecuteTime": {
     "end_time": "2020-09-21T10:08:36.715492Z",
     "start_time": "2020-09-21T10:08:36.711827Z"
    }
   },
   "outputs": [],
   "source": [
    "#시간 설정\n",
    "def get_time(df): #df: outcome, test\n",
    "    df['시각'] = df.방송일시.map(lambda x: x.hour)\n",
    "    df['분'] = df.방송일시.map(lambda x: x.minute)\n",
    "    df['월'] = df.방송일시.map(lambda x: x.month)\n",
    "    df['일'] = df.방송일시.map(lambda x: x.day)\n",
    "    df['요일'] = df.방송일시.map(lambda x: calendar.day_abbr[x.weekday()])\n",
    "    return df"
   ]
  },
  {
   "cell_type": "code",
   "execution_count": null,
   "metadata": {
    "ExecuteTime": {
     "end_time": "2020-09-21T10:09:16.751623Z",
     "start_time": "2020-09-21T10:09:16.743323Z"
    }
   },
   "outputs": [],
   "source": [
    "# TimeTable에서 Zapping Time 찾기\n",
    "def find_Zap(str):  #str: 'MBC' or 'JTBC'\n",
    "    global time_list\n",
    "    if str == 'MBC':\n",
    "        time_list = MBC_time\n",
    "    elif str == 'JTBC':\n",
    "        time_list = JTBC_time\n",
    "    else:\n",
    "        return pd.DataFrame()\n",
    "    \n",
    "    Zap_Time = []\n",
    "    Zap_Weekday = []\n",
    "    for j in range(len(time_list.columns)):\n",
    "        for i in range(len(time_list)):\n",
    "            Target = time_list.iloc[i,j]\n",
    "            if (Target is not np.nan):\n",
    "                if (i != 0) & (i != len(time_list)-1):\n",
    "                    if (time_list.iloc[i-1,j] !=Target):\n",
    "                        Zap_Time.append(time_list.index[i])\n",
    "                        Zap_Weekday.append(time_list.columns[j])\n",
    "                    if (time_list.iloc[i+1,j] !=Target):\n",
    "                        Zap_Time.append(time_list.index[i])\n",
    "                        Zap_Weekday.append(time_list.columns[j])                    \n",
    "                elif i == 0:\n",
    "                    if (time_list.iloc[i+1,j] !=Target):\n",
    "                        Zap_Time.append(time_list.index[i])\n",
    "                        Zap_Weekday.append(time_list.columns[j])                    \n",
    "                elif i == len(time_list)-1:\n",
    "                    if j == 6:\n",
    "                        break\n",
    "                    if (time_list.iloc[0,j+1] !=Target):\n",
    "                        Zap_Time.append(time_list.index[i])\n",
    "                        Zap_Weekday.append(time_list.columns[j])\n",
    "    _Zap = pd.DataFrame({'weekday':Zap_Weekday, 'Time': Zap_Time})\n",
    "\n",
    "    _Zap['hour'] = _Zap.Time.map(lambda x: x.hour)\n",
    "    _Zap['minute'] = _Zap.Time.map(lambda x: x.minute)\n",
    "    return _Zap"
   ]
  },
  {
   "cell_type": "code",
   "execution_count": null,
   "metadata": {
    "ExecuteTime": {
     "end_time": "2020-09-21T10:09:54.772957Z",
     "start_time": "2020-09-21T10:09:54.691238Z"
    }
   },
   "outputs": [],
   "source": [
    "# 식별식 만들기 (loop 방지)\n",
    "df_MBC = find_Zap('MBC')\n",
    "MBC_clf = []\n",
    "for i in tqdm(range(len(df_MBC))):\n",
    "    MBC_clf.append(df_MBC['weekday'][i] +\n",
    "                   str(df_MBC['hour'][i]) + str(df_MBC['minute'][i]))\n",
    "\n",
    "df_JTBC = find_Zap('JTBC')\n",
    "JTBC_clf = []\n",
    "for i in tqdm(range(len(df_JTBC))):\n",
    "    JTBC_clf.append(df_JTBC['weekday'][i] +\n",
    "                    str(df_JTBC['hour'][i]) + str(df_JTBC['minute'][i]))"
   ]
  },
  {
   "cell_type": "code",
   "execution_count": null,
   "metadata": {
    "ExecuteTime": {
     "end_time": "2020-09-21T10:10:30.421384Z",
     "start_time": "2020-09-21T10:10:30.416901Z"
    }
   },
   "outputs": [],
   "source": [
    "#Tokenized Data\n",
    "def Making_token(raw_data, df_token):\n",
    "    #raw_data = pd.concat([raw_data, df_token],axis=1,ignore_index=True)\n",
    "    tot_token_list = []\n",
    "    for i in range(len(raw_data)):\n",
    "        token = []\n",
    "        for colname in df_token.columns:\n",
    "            val = raw_data[colname].iloc[i]\n",
    "            if val is not None:\n",
    "                token.append(val)\n",
    "        tot_token_list.append(token)\n",
    "    raw_data['token_list'] = tot_token_list\n",
    "    return raw_data"
   ]
  },
  {
   "cell_type": "code",
   "execution_count": null,
   "metadata": {
    "ExecuteTime": {
     "end_time": "2020-09-21T10:11:12.064827Z",
     "start_time": "2020-09-21T10:11:12.057808Z"
    },
    "scrolled": true
   },
   "outputs": [],
   "source": [
    "def Insert_sex_dummy(df_with_token):  #tokenized dummy\n",
    "    if 'token_list' not in df_with_token.columns:\n",
    "        print('토큰 리스트를 만들어오세요.')\n",
    "        return\n",
    "    sex_list = []\n",
    "    for i in range(len(df_with_token)):\n",
    "        if ('남성' in df_with_token['token_list'].iloc[i]) or ('남성용' in df_with_token['token_list'].iloc[i]) or ('남자' in df_with_token['token_list'].iloc[i]):\n",
    "            sex_list.append('남성')\n",
    "        elif ('여성' in df_with_token['token_list'].iloc[i]) or ('여성용' in df_with_token['token_list'].iloc[i]) or ('여자' in df_with_token['token_list'].iloc[i]):\n",
    "            sex_list.append('여성')\n",
    "        else:\n",
    "            sex_list.append('무성')\n",
    "    sex_dummies = pd.get_dummies(sex_list)\n",
    "    sex_dummies = pd.DataFrame(sex_dummies[['남성','여성']].values, index=df_with_token.index, columns=['남성','여성'])\n",
    "    df_with_token = pd.concat([df_with_token, sex_dummies[['남성','여성']]],axis=1)\n",
    "    return df_with_token"
   ]
  },
  {
   "cell_type": "code",
   "execution_count": null,
   "metadata": {
    "ExecuteTime": {
     "end_time": "2020-09-21T10:11:50.654651Z",
     "start_time": "2020-09-21T10:11:50.649461Z"
    }
   },
   "outputs": [],
   "source": [
    "def Insert_credit_dummy(df_with_token):\n",
    "    if 'token_list' not in df_with_token.columns:\n",
    "        print('토큰 리스트를 만들어오세요.')\n",
    "        return    \n",
    "    credit_list = []\n",
    "    for i in range(len(df_with_token)):\n",
    "        if ('일시불' in df_with_token['token_list'].iloc[i]) or ('일' in df_with_token['token_list'].iloc[i]):        \n",
    "            credit_list.append('일시불')\n",
    "        elif ('무이자' in df_with_token['token_list'].iloc[i]) or ('무' in df_with_token['token_list'].iloc[i]):\n",
    "            credit_list.append('무이자')\n",
    "        else:\n",
    "            credit_list.append('없음')\n",
    "    credit_list = pd.get_dummies(credit_list)\n",
    "    credit_list = pd.DataFrame(credit_list[['일시불', '무이자']].values, index=df_with_token.index, columns=['일시불', '무이자'])\n",
    "    df_with_token = pd.concat([df_with_token,credit_list[['일시불','무이자']]],axis=1)\n",
    "    return df_with_token"
   ]
  },
  {
   "cell_type": "code",
   "execution_count": null,
   "metadata": {
    "ExecuteTime": {
     "end_time": "2020-09-21T10:12:34.046928Z",
     "start_time": "2020-09-21T10:12:34.040667Z"
    }
   },
   "outputs": [],
   "source": [
    "def Insert_holiday_dummy(df, data='train'): \n",
    "    '''\n",
    "    data(str): 'train' or 'test'\n",
    "    '''\n",
    "    global holiday\n",
    "    \n",
    "    if data == 'train':\n",
    "        #2019.01.01 ~ 2020.01.01\n",
    "        holiday = ['1/1','2/4','2/5','2/6','3/1','5/6','6/6','8/15','9/12','9/13','10/3','10/9','12/25']\n",
    "    else:\n",
    "        #2020.06.01 ~ 2020.07.01\n",
    "        holiday = []\n",
    "    \n",
    "    holi_list = np.zeros(len(df))    \n",
    "    for i in range(len(df)):\n",
    "        day = str(df.iloc[i].월)+'/'+str(df.iloc[i].일)\n",
    "        weekday = df.iloc[i].요일\n",
    "        if (weekday in ['Sat', 'Sun']) or (day in holiday):\n",
    "#            print('{} is holiday!'.format(day))\n",
    "            holi_list[i] = True\n",
    "        else:\n",
    "            holi_list[i] = False\n",
    "    df['휴일'] = holi_list\n",
    "    return df"
   ]
  },
  {
   "cell_type": "code",
   "execution_count": null,
   "metadata": {
    "ExecuteTime": {
     "end_time": "2020-09-21T10:13:17.951103Z",
     "start_time": "2020-09-21T10:13:17.947212Z"
    }
   },
   "outputs": [],
   "source": [
    "def Insert_zapping(df):\n",
    "    MBC_zap_list = np.zeros(len(df))\n",
    "    JTBC_zap_list = np.zeros(len(df))\n",
    "    for i in range(len(df)):\n",
    "        #MBC\n",
    "        Zap_encoding = df.iloc[i].요일 + str(df.iloc[i].시) + str(df.iloc[i].분)\n",
    "        if Zap_encoding in MBC_clf:\n",
    "            MBC_zap_list[i] = True\n",
    "        if Zap_encoding in JTBC_clf:\n",
    "            JTBC_zap_list[i] = True\n",
    "    df['MBC_Zapping'] = MBC_zap_list\n",
    "    df['JTBC_Zapping'] = JTBC_zap_list\n",
    "    return df"
   ]
  },
  {
   "cell_type": "code",
   "execution_count": null,
   "metadata": {
    "ExecuteTime": {
     "end_time": "2020-09-21T10:13:26.123197Z",
     "start_time": "2020-09-21T10:08:07.228Z"
    }
   },
   "outputs": [],
   "source": [
    "# CPI = pd.read_csv('CPI(2019년~2020년).csv',encoding = 'CP949')\n",
    "# CPI['menu'] = CPI['지출목적별']\n",
    "# CPI = CPI.drop(['지출목적별'],axis = 1).set_index('menu')\n",
    "# CPI\n",
    "\n",
    "# from datetime import datetime\n",
    "# CPI_list = np.zeros(len(outcome))\n",
    "    \n",
    "\n",
    "# %%time\n",
    "# for i in range(len(outcome)):\n",
    "#     for idx in CPI.index:\n",
    "#         if idx in outcome['token_list'].iloc[i]:\n",
    "#             date = outcome.index[i].strftime('%Y. %m')\n",
    "#             CPI_num = CPI.loc[idx,date]\n",
    "#             CPI_list[i] = CPI_num\n",
    "\n",
    "\n",
    "\n",
    "# outcome[outcome['CPI']==0][['상품명','token_list']].drop_duplicates('상품명').shape\n",
    "\n",
    "# outcome[outcome['CPI']>0][['상품명','token_list']].drop_duplicates('상품명').head(40)"
   ]
  },
  {
   "cell_type": "markdown",
   "metadata": {},
   "source": [
    "### Train Preprocessing"
   ]
  },
  {
   "cell_type": "code",
   "execution_count": null,
   "metadata": {
    "ExecuteTime": {
     "end_time": "2020-09-21T10:13:26.132724Z",
     "start_time": "2020-09-21T10:08:07.563Z"
    }
   },
   "outputs": [],
   "source": [
    "%%time\n",
    "outcome = data['train'].copy()\n",
    "\n",
    "#Tokenize\n",
    "outcome = Making_token(outcome, pd.DataFrame(processed_tokens, index=_data_train.index))\n",
    "\n",
    "#Gender dummy\n",
    "outcome = Insert_sex_dummy(outcome)\n",
    "\n",
    "#Credit dummy\n",
    "outcome = Insert_credit_dummy(outcome)\n",
    "\n",
    "#Holiday dummy\n",
    "outcome = Insert_holiday_dummy(outcome)\n",
    "\n",
    "#Zapping Time\n",
    "outcome = Insert_zapping(outcome)"
   ]
  },
  {
   "cell_type": "code",
   "execution_count": null,
   "metadata": {
    "ExecuteTime": {
     "end_time": "2020-09-21T10:13:26.142236Z",
     "start_time": "2020-09-21T10:08:08.207Z"
    }
   },
   "outputs": [],
   "source": [
    "data['train'] = outcome"
   ]
  },
  {
   "cell_type": "markdown",
   "metadata": {},
   "source": [
    "### Test Preprocessing"
   ]
  },
  {
   "cell_type": "code",
   "execution_count": null,
   "metadata": {
    "ExecuteTime": {
     "end_time": "2020-09-21T10:13:26.161962Z",
     "start_time": "2020-09-21T10:08:08.967Z"
    }
   },
   "outputs": [],
   "source": [
    "%%time\n",
    "test = data['test'].copy()\n",
    "\n",
    "#Tokenize\n",
    "test = Making_token(test, pd.DataFrame(processed_tokens_test, index=_data_test.index))\n",
    "\n",
    "#Gender dummy\n",
    "test = Insert_sex_dummy(test)\n",
    "\n",
    "#Credit dummy\n",
    "test = Insert_credit_dummy(test)\n",
    "\n",
    "#Holiday dummy\n",
    "test = Insert_holiday_dummy(test,'test')\n",
    "\n",
    "#Zapping Time\n",
    "test = Insert_zapping(test)"
   ]
  },
  {
   "cell_type": "code",
   "execution_count": null,
   "metadata": {
    "ExecuteTime": {
     "end_time": "2020-09-21T10:13:26.170674Z",
     "start_time": "2020-09-21T10:08:09.139Z"
    },
    "scrolled": true
   },
   "outputs": [],
   "source": [
    "data['test'] = test"
   ]
  },
  {
   "cell_type": "markdown",
   "metadata": {},
   "source": [
    "---\n",
    "\n",
    "## Feature Selection"
   ]
  },
  {
   "cell_type": "code",
   "execution_count": null,
   "metadata": {
    "ExecuteTime": {
     "end_time": "2020-09-21T10:13:26.180086Z",
     "start_time": "2020-09-21T10:08:09.507Z"
    }
   },
   "outputs": [],
   "source": [
    "data['train'].columns"
   ]
  },
  {
   "cell_type": "code",
   "execution_count": null,
   "metadata": {
    "ExecuteTime": {
     "end_time": "2020-09-21T10:13:26.188271Z",
     "start_time": "2020-09-21T10:08:09.687Z"
    }
   },
   "outputs": [],
   "source": [
    "data['train'].isnull().sum()"
   ]
  },
  {
   "cell_type": "code",
   "execution_count": null,
   "metadata": {
    "ExecuteTime": {
     "end_time": "2020-09-21T10:13:26.198138Z",
     "start_time": "2020-09-21T10:08:10.335Z"
    }
   },
   "outputs": [],
   "source": [
    "data['train'].isna().sum()"
   ]
  },
  {
   "cell_type": "code",
   "execution_count": null,
   "metadata": {
    "ExecuteTime": {
     "end_time": "2020-09-21T10:13:26.207014Z",
     "start_time": "2020-09-21T10:08:10.493Z"
    }
   },
   "outputs": [],
   "source": [
    "data['train'].info()"
   ]
  },
  {
   "cell_type": "code",
   "execution_count": null,
   "metadata": {
    "ExecuteTime": {
     "end_time": "2020-09-21T10:17:55.750747Z",
     "start_time": "2020-09-21T10:17:55.747487Z"
    }
   },
   "outputs": [],
   "source": [
    "selected_features = ['노출(분)',         '마더코드',         '상품코드',          '상품명',\n",
    "                '상품군',         '판매단가',          '취급액',            '연',\n",
    "                  '월',            '일',            '시',            '분',\n",
    "                 '요일',      'embed_0',      'embed_1',      'embed_2',\n",
    "            'embed_3',      'embed_4',      'embed_5',      'embed_6',\n",
    "            'embed_7',      'embed_8',      'embed_9', \n",
    "                 '남성',           '여성',          '일시불',          '무이자',\n",
    "                 '휴일',  'MBC_Zapping', 'JTBC_Zapping', 'naver_trend']"
   ]
  },
  {
   "cell_type": "code",
   "execution_count": null,
   "metadata": {
    "ExecuteTime": {
     "end_time": "2020-09-21T10:17:56.442363Z",
     "start_time": "2020-09-21T10:17:56.408636Z"
    }
   },
   "outputs": [],
   "source": [
    "data['train'][selected_features]"
   ]
  },
  {
   "cell_type": "code",
   "execution_count": null,
   "metadata": {
    "ExecuteTime": {
     "end_time": "2020-09-21T10:13:26.231971Z",
     "start_time": "2020-09-21T10:08:10.967Z"
    }
   },
   "outputs": [],
   "source": [
    "data['test'][selected_features]"
   ]
  },
  {
   "cell_type": "code",
   "execution_count": null,
   "metadata": {
    "ExecuteTime": {
     "end_time": "2020-09-21T10:13:26.240077Z",
     "start_time": "2020-09-21T10:08:11.127Z"
    }
   },
   "outputs": [],
   "source": [
    "data['train'].to_csv('train_final.csv', index=False)\n",
    "data['test'].to_csv('test_final.csv', index=False)"
   ]
  },
  {
   "cell_type": "markdown",
   "metadata": {},
   "source": [
    "---\n",
    "\n",
    "## Modeling"
   ]
  },
  {
   "cell_type": "code",
   "execution_count": 33,
   "metadata": {
    "ExecuteTime": {
     "end_time": "2020-09-21T13:34:53.485019Z",
     "start_time": "2020-09-21T13:34:53.481889Z"
    }
   },
   "outputs": [],
   "source": [
    "selected_features = ['노출(분)',         '마더코드',         '상품코드',\n",
    "                '상품군',         '판매단가',          '취급액', \n",
    "                  '월',            '일',            '시',            '분',\n",
    "                 '요일',      'embed_0',      'embed_1',      'embed_2',\n",
    "            'embed_3',      'embed_4',      'embed_5',      'embed_6',\n",
    "            'embed_7',      'embed_8',      'embed_9', \n",
    "                 '남성',           '여성',          '일시불',          '무이자',\n",
    "                 '휴일',  'MBC_Zapping', 'JTBC_Zapping', 'naver_trend']"
   ]
  },
  {
   "cell_type": "code",
   "execution_count": 34,
   "metadata": {
    "ExecuteTime": {
     "end_time": "2020-09-21T13:34:54.809866Z",
     "start_time": "2020-09-21T13:34:54.563198Z"
    }
   },
   "outputs": [],
   "source": [
    "data = {}\n",
    "data['train'] = pd.read_csv('./train_final.csv')[selected_features]\n",
    "data['test'] = pd.read_csv('./test_final.csv')[selected_features]"
   ]
  },
  {
   "cell_type": "code",
   "execution_count": 35,
   "metadata": {
    "ExecuteTime": {
     "end_time": "2020-09-21T13:34:56.380944Z",
     "start_time": "2020-09-21T13:34:55.747361Z"
    },
    "scrolled": false
   },
   "outputs": [
    {
     "data": {
      "image/png": "[encoded data removed]",
      "text/plain": [
       "<Figure size 1080x1080 with 2 Axes>"
      ]
     },
     "metadata": {
      "needs_background": "light"
     },
     "output_type": "display_data"
    }
   ],
   "source": [
    "plt.figure(figsize=(15,15))\n",
    "sns.heatmap(data['train'].corr(), cmap=plt.cm.rainbow)\n",
    "plt.show()"
   ]
  },
  {
   "cell_type": "code",
   "execution_count": 36,
   "metadata": {
    "ExecuteTime": {
     "end_time": "2020-09-21T13:34:56.392767Z",
     "start_time": "2020-09-21T13:34:56.382641Z"
    }
   },
   "outputs": [],
   "source": [
    "le = LabelEncoder()\n",
    "le.fit(data['train']['요일'])\n",
    "data['train']['요일'] = le.transform(data['train']['요일'])\n",
    "data['test']['요일'] = le.transform(data['test']['요일'])"
   ]
  },
  {
   "cell_type": "code",
   "execution_count": 37,
   "metadata": {
    "ExecuteTime": {
     "end_time": "2020-09-21T13:34:58.505395Z",
     "start_time": "2020-09-21T13:34:58.493864Z"
    }
   },
   "outputs": [],
   "source": [
    "data['train'] = pd.concat([data['train'].drop('상품군',axis=1),\n",
    "                           pd.get_dummies(data['train']['상품군'], prefix='상품군')],\n",
    "                          axis=1)"
   ]
  },
  {
   "cell_type": "code",
   "execution_count": 38,
   "metadata": {
    "ExecuteTime": {
     "end_time": "2020-09-21T13:34:59.378986Z",
     "start_time": "2020-09-21T13:34:59.363429Z"
    }
   },
   "outputs": [],
   "source": [
    "data['train'] = pd.concat([data['train'].drop('요일',axis=1),\n",
    "                           pd.get_dummies(data['train']['요일'], prefix='요일')],\n",
    "                          axis=1)"
   ]
  },
  {
   "cell_type": "code",
   "execution_count": 39,
   "metadata": {
    "ExecuteTime": {
     "end_time": "2020-09-21T13:35:00.219055Z",
     "start_time": "2020-09-21T13:35:00.193340Z"
    }
   },
   "outputs": [
    {
     "data": {
      "text/html": [
       "<div>\n",
       "<style scoped>\n",
       "    .dataframe tbody tr th:only-of-type {\n",
       "        vertical-align: middle;\n",
       "    }\n",
       "\n",
       "    .dataframe tbody tr th {\n",
       "        vertical-align: top;\n",
       "    }\n",
       "\n",
       "    .dataframe thead th {\n",
       "        text-align: right;\n",
       "    }\n",
       "</style>\n",
       "<table border=\"1\" class=\"dataframe\">\n",
       "  <thead>\n",
       "    <tr style=\"text-align: right;\">\n",
       "      <th></th>\n",
       "      <th>노출(분)</th>\n",
       "      <th>마더코드</th>\n",
       "      <th>상품코드</th>\n",
       "      <th>판매단가</th>\n",
       "      <th>취급액</th>\n",
       "      <th>월</th>\n",
       "      <th>일</th>\n",
       "      <th>시</th>\n",
       "      <th>분</th>\n",
       "      <th>embed_0</th>\n",
       "      <th>...</th>\n",
       "      <th>상품군_8</th>\n",
       "      <th>상품군_9</th>\n",
       "      <th>상품군_10</th>\n",
       "      <th>요일_0</th>\n",
       "      <th>요일_1</th>\n",
       "      <th>요일_2</th>\n",
       "      <th>요일_3</th>\n",
       "      <th>요일_4</th>\n",
       "      <th>요일_5</th>\n",
       "      <th>요일_6</th>\n",
       "    </tr>\n",
       "  </thead>\n",
       "  <tbody>\n",
       "    <tr>\n",
       "      <th>0</th>\n",
       "      <td>20.0000</td>\n",
       "      <td>100346</td>\n",
       "      <td>201072</td>\n",
       "      <td>39900</td>\n",
       "      <td>2099000.0000</td>\n",
       "      <td>1</td>\n",
       "      <td>1</td>\n",
       "      <td>6</td>\n",
       "      <td>0</td>\n",
       "      <td>-11.8711</td>\n",
       "      <td>...</td>\n",
       "      <td>0</td>\n",
       "      <td>0</td>\n",
       "      <td>0</td>\n",
       "      <td>0</td>\n",
       "      <td>0</td>\n",
       "      <td>0</td>\n",
       "      <td>0</td>\n",
       "      <td>0</td>\n",
       "      <td>1</td>\n",
       "      <td>0</td>\n",
       "    </tr>\n",
       "    <tr>\n",
       "      <th>1</th>\n",
       "      <td>20.0000</td>\n",
       "      <td>100346</td>\n",
       "      <td>201079</td>\n",
       "      <td>39900</td>\n",
       "      <td>4371000.0000</td>\n",
       "      <td>1</td>\n",
       "      <td>1</td>\n",
       "      <td>6</td>\n",
       "      <td>0</td>\n",
       "      <td>-12.2017</td>\n",
       "      <td>...</td>\n",
       "      <td>0</td>\n",
       "      <td>0</td>\n",
       "      <td>0</td>\n",
       "      <td>0</td>\n",
       "      <td>0</td>\n",
       "      <td>0</td>\n",
       "      <td>0</td>\n",
       "      <td>0</td>\n",
       "      <td>1</td>\n",
       "      <td>0</td>\n",
       "    </tr>\n",
       "    <tr>\n",
       "      <th>2</th>\n",
       "      <td>20.0000</td>\n",
       "      <td>100346</td>\n",
       "      <td>201072</td>\n",
       "      <td>39900</td>\n",
       "      <td>3262000.0000</td>\n",
       "      <td>1</td>\n",
       "      <td>1</td>\n",
       "      <td>6</td>\n",
       "      <td>20</td>\n",
       "      <td>-11.8711</td>\n",
       "      <td>...</td>\n",
       "      <td>0</td>\n",
       "      <td>0</td>\n",
       "      <td>0</td>\n",
       "      <td>0</td>\n",
       "      <td>0</td>\n",
       "      <td>0</td>\n",
       "      <td>0</td>\n",
       "      <td>0</td>\n",
       "      <td>1</td>\n",
       "      <td>0</td>\n",
       "    </tr>\n",
       "    <tr>\n",
       "      <th>3</th>\n",
       "      <td>20.0000</td>\n",
       "      <td>100346</td>\n",
       "      <td>201079</td>\n",
       "      <td>39900</td>\n",
       "      <td>6955000.0000</td>\n",
       "      <td>1</td>\n",
       "      <td>1</td>\n",
       "      <td>6</td>\n",
       "      <td>20</td>\n",
       "      <td>-12.2017</td>\n",
       "      <td>...</td>\n",
       "      <td>0</td>\n",
       "      <td>0</td>\n",
       "      <td>0</td>\n",
       "      <td>0</td>\n",
       "      <td>0</td>\n",
       "      <td>0</td>\n",
       "      <td>0</td>\n",
       "      <td>0</td>\n",
       "      <td>1</td>\n",
       "      <td>0</td>\n",
       "    </tr>\n",
       "    <tr>\n",
       "      <th>4</th>\n",
       "      <td>20.0000</td>\n",
       "      <td>100346</td>\n",
       "      <td>201072</td>\n",
       "      <td>39900</td>\n",
       "      <td>6672000.0000</td>\n",
       "      <td>1</td>\n",
       "      <td>1</td>\n",
       "      <td>6</td>\n",
       "      <td>40</td>\n",
       "      <td>-11.8711</td>\n",
       "      <td>...</td>\n",
       "      <td>0</td>\n",
       "      <td>0</td>\n",
       "      <td>0</td>\n",
       "      <td>0</td>\n",
       "      <td>0</td>\n",
       "      <td>0</td>\n",
       "      <td>0</td>\n",
       "      <td>0</td>\n",
       "      <td>1</td>\n",
       "      <td>0</td>\n",
       "    </tr>\n",
       "    <tr>\n",
       "      <th>...</th>\n",
       "      <td>...</td>\n",
       "      <td>...</td>\n",
       "      <td>...</td>\n",
       "      <td>...</td>\n",
       "      <td>...</td>\n",
       "      <td>...</td>\n",
       "      <td>...</td>\n",
       "      <td>...</td>\n",
       "      <td>...</td>\n",
       "      <td>...</td>\n",
       "      <td>...</td>\n",
       "      <td>...</td>\n",
       "      <td>...</td>\n",
       "      <td>...</td>\n",
       "      <td>...</td>\n",
       "      <td>...</td>\n",
       "      <td>...</td>\n",
       "      <td>...</td>\n",
       "      <td>...</td>\n",
       "      <td>...</td>\n",
       "      <td>...</td>\n",
       "    </tr>\n",
       "    <tr>\n",
       "      <th>37363</th>\n",
       "      <td>20.0000</td>\n",
       "      <td>100448</td>\n",
       "      <td>201391</td>\n",
       "      <td>148000</td>\n",
       "      <td>1664000.0000</td>\n",
       "      <td>12</td>\n",
       "      <td>31</td>\n",
       "      <td>23</td>\n",
       "      <td>20</td>\n",
       "      <td>9.0012</td>\n",
       "      <td>...</td>\n",
       "      <td>0</td>\n",
       "      <td>1</td>\n",
       "      <td>0</td>\n",
       "      <td>0</td>\n",
       "      <td>0</td>\n",
       "      <td>0</td>\n",
       "      <td>0</td>\n",
       "      <td>0</td>\n",
       "      <td>1</td>\n",
       "      <td>0</td>\n",
       "    </tr>\n",
       "    <tr>\n",
       "      <th>37364</th>\n",
       "      <td>20.0000</td>\n",
       "      <td>100448</td>\n",
       "      <td>201383</td>\n",
       "      <td>178000</td>\n",
       "      <td>9149000.0000</td>\n",
       "      <td>12</td>\n",
       "      <td>31</td>\n",
       "      <td>23</td>\n",
       "      <td>40</td>\n",
       "      <td>9.0941</td>\n",
       "      <td>...</td>\n",
       "      <td>0</td>\n",
       "      <td>1</td>\n",
       "      <td>0</td>\n",
       "      <td>0</td>\n",
       "      <td>0</td>\n",
       "      <td>0</td>\n",
       "      <td>0</td>\n",
       "      <td>0</td>\n",
       "      <td>1</td>\n",
       "      <td>0</td>\n",
       "    </tr>\n",
       "    <tr>\n",
       "      <th>37365</th>\n",
       "      <td>20.0000</td>\n",
       "      <td>100448</td>\n",
       "      <td>201390</td>\n",
       "      <td>168000</td>\n",
       "      <td>15282000.0000</td>\n",
       "      <td>12</td>\n",
       "      <td>31</td>\n",
       "      <td>23</td>\n",
       "      <td>40</td>\n",
       "      <td>9.0012</td>\n",
       "      <td>...</td>\n",
       "      <td>0</td>\n",
       "      <td>1</td>\n",
       "      <td>0</td>\n",
       "      <td>0</td>\n",
       "      <td>0</td>\n",
       "      <td>0</td>\n",
       "      <td>0</td>\n",
       "      <td>0</td>\n",
       "      <td>1</td>\n",
       "      <td>0</td>\n",
       "    </tr>\n",
       "    <tr>\n",
       "      <th>37366</th>\n",
       "      <td>20.0000</td>\n",
       "      <td>100448</td>\n",
       "      <td>201384</td>\n",
       "      <td>158000</td>\n",
       "      <td>2328000.0000</td>\n",
       "      <td>12</td>\n",
       "      <td>31</td>\n",
       "      <td>23</td>\n",
       "      <td>40</td>\n",
       "      <td>9.0941</td>\n",
       "      <td>...</td>\n",
       "      <td>0</td>\n",
       "      <td>1</td>\n",
       "      <td>0</td>\n",
       "      <td>0</td>\n",
       "      <td>0</td>\n",
       "      <td>0</td>\n",
       "      <td>0</td>\n",
       "      <td>0</td>\n",
       "      <td>1</td>\n",
       "      <td>0</td>\n",
       "    </tr>\n",
       "    <tr>\n",
       "      <th>37367</th>\n",
       "      <td>20.0000</td>\n",
       "      <td>100448</td>\n",
       "      <td>201391</td>\n",
       "      <td>148000</td>\n",
       "      <td>10157000.0000</td>\n",
       "      <td>12</td>\n",
       "      <td>31</td>\n",
       "      <td>23</td>\n",
       "      <td>40</td>\n",
       "      <td>9.0012</td>\n",
       "      <td>...</td>\n",
       "      <td>0</td>\n",
       "      <td>1</td>\n",
       "      <td>0</td>\n",
       "      <td>0</td>\n",
       "      <td>0</td>\n",
       "      <td>0</td>\n",
       "      <td>0</td>\n",
       "      <td>0</td>\n",
       "      <td>1</td>\n",
       "      <td>0</td>\n",
       "    </tr>\n",
       "  </tbody>\n",
       "</table>\n",
       "<p>37368 rows × 45 columns</p>\n",
       "</div>"
      ],
      "text/plain": [
       "        노출(분)    마더코드    상품코드    판매단가           취급액   월   일   시   분  embed_0  \\\n",
       "0     20.0000  100346  201072   39900  2099000.0000   1   1   6   0 -11.8711   \n",
       "1     20.0000  100346  201079   39900  4371000.0000   1   1   6   0 -12.2017   \n",
       "2     20.0000  100346  201072   39900  3262000.0000   1   1   6  20 -11.8711   \n",
       "3     20.0000  100346  201079   39900  6955000.0000   1   1   6  20 -12.2017   \n",
       "4     20.0000  100346  201072   39900  6672000.0000   1   1   6  40 -11.8711   \n",
       "...       ...     ...     ...     ...           ...  ..  ..  ..  ..      ...   \n",
       "37363 20.0000  100448  201391  148000  1664000.0000  12  31  23  20   9.0012   \n",
       "37364 20.0000  100448  201383  178000  9149000.0000  12  31  23  40   9.0941   \n",
       "37365 20.0000  100448  201390  168000 15282000.0000  12  31  23  40   9.0012   \n",
       "37366 20.0000  100448  201384  158000  2328000.0000  12  31  23  40   9.0941   \n",
       "37367 20.0000  100448  201391  148000 10157000.0000  12  31  23  40   9.0012   \n",
       "\n",
       "       ...  상품군_8  상품군_9  상품군_10  요일_0  요일_1  요일_2  요일_3  요일_4  요일_5  요일_6  \n",
       "0      ...      0      0       0     0     0     0     0     0     1     0  \n",
       "1      ...      0      0       0     0     0     0     0     0     1     0  \n",
       "2      ...      0      0       0     0     0     0     0     0     1     0  \n",
       "3      ...      0      0       0     0     0     0     0     0     1     0  \n",
       "4      ...      0      0       0     0     0     0     0     0     1     0  \n",
       "...    ...    ...    ...     ...   ...   ...   ...   ...   ...   ...   ...  \n",
       "37363  ...      0      1       0     0     0     0     0     0     1     0  \n",
       "37364  ...      0      1       0     0     0     0     0     0     1     0  \n",
       "37365  ...      0      1       0     0     0     0     0     0     1     0  \n",
       "37366  ...      0      1       0     0     0     0     0     0     1     0  \n",
       "37367  ...      0      1       0     0     0     0     0     0     1     0  \n",
       "\n",
       "[37368 rows x 45 columns]"
      ]
     },
     "execution_count": 39,
     "metadata": {},
     "output_type": "execute_result"
    }
   ],
   "source": [
    "data['train']"
   ]
  },
  {
   "cell_type": "code",
   "execution_count": 40,
   "metadata": {
    "ExecuteTime": {
     "end_time": "2020-09-21T13:35:00.224159Z",
     "start_time": "2020-09-21T13:35:00.220649Z"
    }
   },
   "outputs": [
    {
     "data": {
      "text/plain": [
       "Index(['노출(분)', '마더코드', '상품코드', '판매단가', '취급액', '월', '일', '시', '분', 'embed_0',\n",
       "       'embed_1', 'embed_2', 'embed_3', 'embed_4', 'embed_5', 'embed_6',\n",
       "       'embed_7', 'embed_8', 'embed_9', '남성', '여성', '일시불', '무이자', '휴일',\n",
       "       'MBC_Zapping', 'JTBC_Zapping', 'naver_trend', '상품군_0', '상품군_1', '상품군_2',\n",
       "       '상품군_3', '상품군_4', '상품군_5', '상품군_6', '상품군_7', '상품군_8', '상품군_9', '상품군_10',\n",
       "       '요일_0', '요일_1', '요일_2', '요일_3', '요일_4', '요일_5', '요일_6'],\n",
       "      dtype='object')"
      ]
     },
     "execution_count": 40,
     "metadata": {},
     "output_type": "execute_result"
    }
   ],
   "source": [
    "data['train'].columns"
   ]
  },
  {
   "cell_type": "markdown",
   "metadata": {},
   "source": [
    "### 학습 및 검증 데이터 분리하기"
   ]
  },
  {
   "cell_type": "code",
   "execution_count": 41,
   "metadata": {
    "ExecuteTime": {
     "end_time": "2020-09-21T13:35:01.757707Z",
     "start_time": "2020-09-21T13:35:01.742192Z"
    }
   },
   "outputs": [],
   "source": [
    "X_train, X_valid, y_train, y_valid = train_test_split(data['train'].drop('취급액', axis=1),\n",
    "                                                      data['train']['취급액'] / 10000000,\n",
    "                                                      shuffle=True,\n",
    "                                                      test_size=TEST_SIZE,\n",
    "                                                      random_state=RANDOM_STATE)"
   ]
  },
  {
   "cell_type": "code",
   "execution_count": 42,
   "metadata": {
    "ExecuteTime": {
     "end_time": "2020-09-21T13:35:01.762265Z",
     "start_time": "2020-09-21T13:35:01.759666Z"
    }
   },
   "outputs": [
    {
     "name": "stdout",
     "output_type": "stream",
     "text": [
      "학습 데이터: (29894, 44)\n",
      "검증 데이터: (7474, 44)\n"
     ]
    }
   ],
   "source": [
    "print(f'학습 데이터: {X_train.shape}')\n",
    "print(f'검증 데이터: {X_valid.shape}')"
   ]
  },
  {
   "cell_type": "markdown",
   "metadata": {},
   "source": [
    "### 모델 생성하기"
   ]
  },
  {
   "cell_type": "code",
   "execution_count": 43,
   "metadata": {
    "ExecuteTime": {
     "end_time": "2020-09-21T13:35:03.172631Z",
     "start_time": "2020-09-21T13:35:03.170347Z"
    }
   },
   "outputs": [],
   "source": [
    "ml_models = {}"
   ]
  },
  {
   "cell_type": "code",
   "execution_count": 44,
   "metadata": {
    "ExecuteTime": {
     "end_time": "2020-09-21T13:35:03.881626Z",
     "start_time": "2020-09-21T13:35:03.878880Z"
    }
   },
   "outputs": [],
   "source": [
    "ml_models['LinearRegression'] = LinearRegression()\n",
    "ml_models['DecisionTreeRegressor'] = DecisionTreeRegressor()\n",
    "ml_models['RandomForestRegressor'] = RandomForestRegressor()\n",
    "ml_models['XGBRegressor'] = XGBRegressor()\n",
    "# ml_models['LGBMRegressor'] = LGBMRegressor()"
   ]
  },
  {
   "cell_type": "code",
   "execution_count": 45,
   "metadata": {
    "ExecuteTime": {
     "end_time": "2020-09-21T13:35:31.072763Z",
     "start_time": "2020-09-21T13:35:04.551106Z"
    }
   },
   "outputs": [
    {
     "name": "stdout",
     "output_type": "stream",
     "text": [
      "[1] LinearRegression 모델을 학습합니다. --> 저장 완료\n",
      "------------------------------------------------------------\n",
      "[2] DecisionTreeRegressor 모델을 학습합니다. --> 저장 완료\n",
      "------------------------------------------------------------\n",
      "[3] RandomForestRegressor 모델을 학습합니다. --> 저장 완료\n",
      "------------------------------------------------------------\n",
      "[4] XGBRegressor 모델을 학습합니다. --> 저장 완료\n",
      "------------------------------------------------------------\n"
     ]
    }
   ],
   "source": [
    "for n,(model_name, model) in enumerate(ml_models.items(),start=1):\n",
    "    print(f'[{n}] {model_name} 모델을 학습합니다.', end=' ')\n",
    "    model.fit(X_train, y_train)\n",
    "    print(f'--> 저장 완료')\n",
    "    ml_models[model_name] = model\n",
    "    print('-'*60)"
   ]
  },
  {
   "cell_type": "markdown",
   "metadata": {},
   "source": [
    "---\n",
    "\n",
    "## Testing\n",
    "\n",
    "### MAPE\n",
    "\n",
    "$$ MAPE = \\frac{100}{n} \\sum_{t=1}^{n}{|\\frac{A_t - F_t}{A_t}|} $$"
   ]
  },
  {
   "cell_type": "code",
   "execution_count": 54,
   "metadata": {
    "ExecuteTime": {
     "end_time": "2020-09-21T13:47:42.121653Z",
     "start_time": "2020-09-21T13:47:42.118346Z"
    }
   },
   "outputs": [],
   "source": [
    "# MAPE\n",
    "EPS = 1e-10\n",
    "def MAPE(y_true, y_pred): \n",
    "    y_true, y_pred = np.array(y_true), np.array(y_pred)\n",
    "    return np.mean(np.abs((y_true - y_pred) / (y_true + EPS)))"
   ]
  },
  {
   "cell_type": "code",
   "execution_count": 55,
   "metadata": {
    "ExecuteTime": {
     "end_time": "2020-09-21T13:47:43.822590Z",
     "start_time": "2020-09-21T13:47:42.938194Z"
    }
   },
   "outputs": [
    {
     "name": "stdout",
     "output_type": "stream",
     "text": [
      "[1] LinearRegression              의 MAPE 값: 11.2267411050\n",
      "------------------------------------------------------------\n",
      "[2] DecisionTreeRegressor         의 MAPE 값: 0.0000042288\n",
      "------------------------------------------------------------\n",
      "[3] RandomForestRegressor         의 MAPE 값: 2.1454854625\n",
      "------------------------------------------------------------\n",
      "[4] XGBRegressor                  의 MAPE 값: 4.9127748993\n",
      "------------------------------------------------------------\n"
     ]
    }
   ],
   "source": [
    "results_train = {}\n",
    "for n,(model_name, model) in enumerate(ml_models.items(),start=1):\n",
    "    y_pred = ml_models[model_name].predict(X_train)\n",
    "    result = MAPE(y_train, y_pred)\n",
    "    print(f'[{n}] {model_name:<30}의 MAPE 값: {result:<4.10f}')\n",
    "    results_train[model_name] = result\n",
    "    print('-'*60)"
   ]
  },
  {
   "cell_type": "code",
   "execution_count": 56,
   "metadata": {
    "ExecuteTime": {
     "end_time": "2020-09-21T13:47:44.110464Z",
     "start_time": "2020-09-21T13:47:43.825419Z"
    }
   },
   "outputs": [
    {
     "name": "stdout",
     "output_type": "stream",
     "text": [
      "[1] LinearRegression              의 MAPE 값: 11.7489588610\n",
      "------------------------------------------------------------\n",
      "[2] DecisionTreeRegressor         의 MAPE 값: 6.2006725040\n",
      "------------------------------------------------------------\n",
      "[3] RandomForestRegressor         의 MAPE 값: 6.1642785811\n",
      "------------------------------------------------------------\n",
      "[4] XGBRegressor                  의 MAPE 값: 5.9330335450\n",
      "------------------------------------------------------------\n"
     ]
    }
   ],
   "source": [
    "results_test = {}\n",
    "for n,(model_name, model) in enumerate(ml_models.items(),start=1):\n",
    "    y_pred = ml_models[model_name].predict(X_valid)\n",
    "    result = MAPE(y_valid, y_pred)\n",
    "    print(f'[{n}] {model_name:<30}의 MAPE 값: {result:<4.10f}')\n",
    "    results_test[model_name] = result\n",
    "    print('-'*60)"
   ]
  },
  {
   "cell_type": "code",
   "execution_count": 57,
   "metadata": {
    "ExecuteTime": {
     "end_time": "2020-09-21T13:48:17.132735Z",
     "start_time": "2020-09-21T13:48:17.128246Z"
    }
   },
   "outputs": [
    {
     "data": {
      "text/plain": [
       "array([1.9414])"
      ]
     },
     "execution_count": 57,
     "metadata": {},
     "output_type": "execute_result"
    }
   ],
   "source": [
    "ml_models['DecisionTreeRegressor'].predict([X_train.iloc[0]])"
   ]
  },
  {
   "cell_type": "code",
   "execution_count": 58,
   "metadata": {
    "ExecuteTime": {
     "end_time": "2020-09-21T13:48:18.214658Z",
     "start_time": "2020-09-21T13:48:18.211211Z"
    }
   },
   "outputs": [
    {
     "data": {
      "text/plain": [
       "1.9414"
      ]
     },
     "execution_count": 58,
     "metadata": {},
     "output_type": "execute_result"
    }
   ],
   "source": [
    "y_train.iloc[0]"
   ]
  },
  {
   "cell_type": "code",
   "execution_count": 106,
   "metadata": {
    "ExecuteTime": {
     "end_time": "2020-09-21T14:19:56.983757Z",
     "start_time": "2020-09-21T14:19:56.981048Z"
    }
   },
   "outputs": [],
   "source": [
    "import torch\n",
    "import torch.nn as nn\n",
    "import torch.optim as optim\n",
    "import torch.nn.functional as F"
   ]
  },
  {
   "cell_type": "code",
   "execution_count": 107,
   "metadata": {
    "ExecuteTime": {
     "end_time": "2020-09-21T14:20:07.959099Z",
     "start_time": "2020-09-21T14:20:07.953192Z"
    }
   },
   "outputs": [],
   "source": [
    "class SimpleNet(nn.Module):\n",
    "    def __init__(self):\n",
    "        super(SimpleNet, self).__init__()\n",
    "        self.input_length = len(X_train.columns)\n",
    "        self.fc1 = nn.Linear(self.input_length, self.input_length)  # 6*6 from image dimension\n",
    "        self.fc2 = nn.Linear(self.input_length, self.input_length)\n",
    "        self.fc3 = nn.Linear(self.input_length, self.input_length)\n",
    "        self.fc4 = nn.Linear(self.input_length, 10)\n",
    "        self.fc5 = nn.Linear(10, 1)\n",
    "        \n",
    "    def forward(self, x):\n",
    "        x = torch.relu(self.fc1(x))\n",
    "        x = torch.relu(self.fc2(x))\n",
    "        x = torch.relu(self.fc3(x))\n",
    "        x = torch.relu(self.fc4(x))\n",
    "        output = self.fc5(x)\n",
    "        return output"
   ]
  },
  {
   "cell_type": "code",
   "execution_count": 114,
   "metadata": {
    "ExecuteTime": {
     "end_time": "2020-09-21T14:27:09.217735Z",
     "start_time": "2020-09-21T14:27:09.213157Z"
    }
   },
   "outputs": [
    {
     "data": {
      "text/plain": [
       "SimpleNet(\n",
       "  (fc1): Linear(in_features=44, out_features=44, bias=True)\n",
       "  (fc2): Linear(in_features=44, out_features=44, bias=True)\n",
       "  (fc3): Linear(in_features=44, out_features=44, bias=True)\n",
       "  (fc4): Linear(in_features=44, out_features=10, bias=True)\n",
       "  (fc5): Linear(in_features=10, out_features=1, bias=True)\n",
       ")"
      ]
     },
     "execution_count": 114,
     "metadata": {},
     "output_type": "execute_result"
    }
   ],
   "source": [
    "net = SimpleNet()\n",
    "net"
   ]
  },
  {
   "cell_type": "code",
   "execution_count": 115,
   "metadata": {
    "ExecuteTime": {
     "end_time": "2020-09-21T14:27:13.867826Z",
     "start_time": "2020-09-21T14:27:13.864990Z"
    }
   },
   "outputs": [],
   "source": [
    "optimizer = optim.Adam(net.parameters(), lr=1e-4)\n",
    "loss_fn = nn.MSELoss()"
   ]
  },
  {
   "cell_type": "code",
   "execution_count": 116,
   "metadata": {
    "ExecuteTime": {
     "end_time": "2020-09-21T14:27:18.257649Z",
     "start_time": "2020-09-21T14:27:18.243361Z"
    }
   },
   "outputs": [
    {
     "data": {
      "text/plain": [
       "MinMaxScaler(copy=True, feature_range=(0, 1))"
      ]
     },
     "execution_count": 116,
     "metadata": {},
     "output_type": "execute_result"
    }
   ],
   "source": [
    "from sklearn.preprocessing import MinMaxScaler\n",
    "mms = MinMaxScaler()\n",
    "mms.fit(X_train)"
   ]
  },
  {
   "cell_type": "code",
   "execution_count": 117,
   "metadata": {
    "ExecuteTime": {
     "end_time": "2020-09-21T14:27:21.719032Z",
     "start_time": "2020-09-21T14:27:21.707849Z"
    }
   },
   "outputs": [],
   "source": [
    "train_losses = []\n",
    "valid_losses = []\n",
    "train_mape_list = []\n",
    "val_mape_list = []\n",
    "train_r2 = []\n",
    "val_r2 = []\n",
    "X_train_scaled = mms.transform(X_train)\n",
    "X_valid_scaled = mms.transform(X_valid)"
   ]
  },
  {
   "cell_type": "code",
   "execution_count": 118,
   "metadata": {
    "ExecuteTime": {
     "end_time": "2020-09-21T14:27:22.864145Z",
     "start_time": "2020-09-21T14:27:22.862184Z"
    }
   },
   "outputs": [],
   "source": [
    "EPOCH = 300000"
   ]
  },
  {
   "cell_type": "code",
   "execution_count": null,
   "metadata": {
    "ExecuteTime": {
     "start_time": "2020-09-21T14:27:27.031Z"
    },
    "scrolled": false
   },
   "outputs": [
    {
     "name": "stdout",
     "output_type": "stream",
     "text": [
      "[Epoch      0 / 300000] Train Loss: 9.27062 | Val Loss: 8.68289 | MAPE(train): 34.36490 | MAPE(val): 34.18662\n",
      "[Epoch    100 / 300000] Train Loss: 8.51431 | Val Loss: 7.94119 | MAPE(train): 20.63377 | MAPE(val): 19.55624\n",
      "[Epoch    200 / 300000] Train Loss: 6.09924 | Val Loss: 5.58512 | MAPE(train): 2.08616 | MAPE(val): 1.98758\n",
      "[Epoch    300 / 300000] Train Loss: 4.16258 | Val Loss: 3.83896 | MAPE(train): 0.71691 | MAPE(val): 0.70253\n",
      "[Epoch    400 / 300000] Train Loss: 3.91638 | Val Loss: 3.60254 | MAPE(train): 0.67606 | MAPE(val): 0.66396\n",
      "[Epoch    500 / 300000] Train Loss: 3.69621 | Val Loss: 3.38926 | MAPE(train): 0.64652 | MAPE(val): 0.63585\n",
      "[Epoch    600 / 300000] Train Loss: 3.41578 | Val Loss: 3.11119 | MAPE(train): 0.62150 | MAPE(val): 0.61201\n",
      "[Epoch    700 / 300000] Train Loss: 3.10820 | Val Loss: 2.81105 | MAPE(train): 0.59952 | MAPE(val): 0.59255\n",
      "[Epoch    800 / 300000] Train Loss: 2.86761 | Val Loss: 2.58331 | MAPE(train): 0.58856 | MAPE(val): 0.58535\n",
      "[Epoch    900 / 300000] Train Loss: 2.73475 | Val Loss: 2.46497 | MAPE(train): 0.59937 | MAPE(val): 0.60059\n",
      "[Epoch   1000 / 300000] Train Loss: 2.66586 | Val Loss: 2.40416 | MAPE(train): 0.61866 | MAPE(val): 0.61959\n",
      "[Epoch   1100 / 300000] Train Loss: 2.60496 | Val Loss: 2.34717 | MAPE(train): 0.62311 | MAPE(val): 0.62336\n",
      "[Epoch   1200 / 300000] Train Loss: 2.54049 | Val Loss: 2.28705 | MAPE(train): 0.61310 | MAPE(val): 0.61433\n",
      "[Epoch   1300 / 300000] Train Loss: 2.47557 | Val Loss: 2.22745 | MAPE(train): 0.60453 | MAPE(val): 0.60303\n",
      "[Epoch   1400 / 300000] Train Loss: 2.41413 | Val Loss: 2.17292 | MAPE(train): 0.59292 | MAPE(val): 0.59301\n",
      "[Epoch   1500 / 300000] Train Loss: 2.35932 | Val Loss: 2.12666 | MAPE(train): 0.58470 | MAPE(val): 0.58447\n",
      "[Epoch   1600 / 300000] Train Loss: 2.31139 | Val Loss: 2.08830 | MAPE(train): 0.57727 | MAPE(val): 0.57674\n",
      "[Epoch   1700 / 300000] Train Loss: 2.26641 | Val Loss: 2.05396 | MAPE(train): 0.56861 | MAPE(val): 0.56827\n",
      "[Epoch   1800 / 300000] Train Loss: 2.22289 | Val Loss: 2.02382 | MAPE(train): 0.56227 | MAPE(val): 0.56295\n",
      "[Epoch   1900 / 300000] Train Loss: 2.18325 | Val Loss: 1.99763 | MAPE(train): 0.55616 | MAPE(val): 0.55875\n",
      "[Epoch   2000 / 300000] Train Loss: 2.14533 | Val Loss: 1.97377 | MAPE(train): 0.55200 | MAPE(val): 0.55687\n",
      "[Epoch   2100 / 300000] Train Loss: 2.10952 | Val Loss: 1.94931 | MAPE(train): 0.54822 | MAPE(val): 0.55476\n",
      "[Epoch   2200 / 300000] Train Loss: 2.07477 | Val Loss: 1.92278 | MAPE(train): 0.54494 | MAPE(val): 0.55303\n",
      "[Epoch   2300 / 300000] Train Loss: 2.04242 | Val Loss: 1.89646 | MAPE(train): 0.54099 | MAPE(val): 0.55017\n",
      "[Epoch   2400 / 300000] Train Loss: 2.01014 | Val Loss: 1.86844 | MAPE(train): 0.53585 | MAPE(val): 0.54605\n",
      "[Epoch   2500 / 300000] Train Loss: 1.97803 | Val Loss: 1.84080 | MAPE(train): 0.53023 | MAPE(val): 0.54070\n",
      "[Epoch   2600 / 300000] Train Loss: 1.94425 | Val Loss: 1.81129 | MAPE(train): 0.52567 | MAPE(val): 0.53638\n",
      "[Epoch   2700 / 300000] Train Loss: 1.91457 | Val Loss: 1.78661 | MAPE(train): 0.52120 | MAPE(val): 0.53245\n",
      "[Epoch   2800 / 300000] Train Loss: 1.88654 | Val Loss: 1.76235 | MAPE(train): 0.51785 | MAPE(val): 0.52945\n",
      "[Epoch   2900 / 300000] Train Loss: 1.85887 | Val Loss: 1.73781 | MAPE(train): 0.51566 | MAPE(val): 0.52746\n",
      "[Epoch   3000 / 300000] Train Loss: 1.83245 | Val Loss: 1.71363 | MAPE(train): 0.51499 | MAPE(val): 0.52683\n",
      "[Epoch   3100 / 300000] Train Loss: 1.80731 | Val Loss: 1.69038 | MAPE(train): 0.51317 | MAPE(val): 0.52460\n"
     ]
    }
   ],
   "source": [
    "for i in range(EPOCH):\n",
    "    net.zero_grad()\n",
    "    y_pred_train = net(torch.Tensor(X_train_scaled))\n",
    "    loss = loss_fn(y_pred_train.squeeze(), torch.Tensor(y_train.values))\n",
    "    train_losses.append(loss)\n",
    "    mape = MAPE(y_pred_train.detach().numpy().squeeze(), y_train)\n",
    "    train_mape_list.append(mape)\n",
    "    loss.backward()\n",
    "    optimizer.step()\n",
    "\n",
    "    with torch.no_grad():\n",
    "        y_pred_test = net(torch.Tensor(X_valid_scaled))\n",
    "        val_loss = loss_fn(y_pred_test.squeeze(), torch.Tensor(y_valid.values))\n",
    "        valid_losses.append(val_loss)\n",
    "        val_mape = MAPE(y_pred_test.detach().numpy().squeeze(), y_valid)\n",
    "        val_mape_list.append(val_mape)\n",
    "\n",
    "    if i % 100 == 0:\n",
    "        print(f\"[Epoch {i:>6d} / {EPOCH:>6d}] \"\n",
    "        f\"Train Loss: {loss:>2.5f} | \" \n",
    "        f\"Val Loss: {val_loss:>2.5f} | \"\n",
    "        f\"MAPE(train): {mape:>2.5f} | \"\n",
    "        f\"MAPE(val): {val_mape:>2.5f}\")"
   ]
  },
  {
   "cell_type": "code",
   "execution_count": 75,
   "metadata": {
    "ExecuteTime": {
     "end_time": "2020-09-21T14:08:39.476545Z",
     "start_time": "2020-09-21T14:08:39.212668Z"
    }
   },
   "outputs": [
    {
     "data": {
      "image/png": "[encoded data removed]",
      "text/plain": [
       "<Figure size 432x288 with 1 Axes>"
      ]
     },
     "metadata": {
      "needs_background": "light"
     },
     "output_type": "display_data"
    }
   ],
   "source": [
    "plt.plot(train_losses)\n",
    "plt.plot(valid_losses)\n",
    "plt.legend(['Train loss', 'Val loss'])\n",
    "plt.show()"
   ]
  },
  {
   "cell_type": "markdown",
   "metadata": {},
   "source": [
    "---\n",
    "\n",
    "## Submission"
   ]
  },
  {
   "cell_type": "code",
   "execution_count": null,
   "metadata": {
    "ExecuteTime": {
     "end_time": "2020-09-21T10:06:38.236081Z",
     "start_time": "2020-09-21T10:05:47.235Z"
    }
   },
   "outputs": [],
   "source": [
    "data['test'] # 취급액만 predict해서 넣어주자"
   ]
  },
  {
   "cell_type": "code",
   "execution_count": null,
   "metadata": {
    "ExecuteTime": {
     "end_time": "2020-09-21T10:06:38.236980Z",
     "start_time": "2020-09-21T10:05:47.239Z"
    }
   },
   "outputs": [],
   "source": [
    "from datetime import datetime\n",
    "now = datetime.now()\n",
    "now.month, now.day, now.hour"
   ]
  },
  {
   "cell_type": "markdown",
   "metadata": {},
   "source": [
    "---\n",
    "\n",
    "## Reference"
   ]
  },
  {
   "cell_type": "markdown",
   "metadata": {},
   "source": [
    "- 2020 빅콘테스트: https://www.bigcontest.or.kr/index.php\n",
    "- "
   ]
  }
 ],
 "metadata": {
  "hide_input": false,
  "kernelspec": {
   "display_name": "Python 3",
   "language": "python",
   "name": "python3"
  },
  "language_info": {
   "codemirror_mode": {
    "name": "ipython",
    "version": 3
   },
   "file_extension": ".py",
   "mimetype": "text/x-python",
   "name": "python",
   "nbconvert_exporter": "python",
   "pygments_lexer": "ipython3",
   "version": "3.6.10"
  },
  "toc": {
   "base_numbering": "0",
   "nav_menu": {},
   "number_sections": true,
   "sideBar": true,
   "skip_h1_title": true,
   "title_cell": "Table of Contents",
   "title_sidebar": "Contents",
   "toc_cell": true,
   "toc_position": {
    "height": "calc(100% - 180px)",
    "left": "10px",
    "top": "150px",
    "width": "329px"
   },
   "toc_section_display": true,
   "toc_window_display": true
  },
  "varInspector": {
   "cols": {
    "lenName": 16,
    "lenType": 16,
    "lenVar": 40
   },
   "kernels_config": {
    "python": {
     "delete_cmd_postfix": "",
     "delete_cmd_prefix": "del ",
     "library": "var_list.py",
     "varRefreshCmd": "print(var_dic_list())"
    },
    "r": {
     "delete_cmd_postfix": ") ",
     "delete_cmd_prefix": "rm(",
     "library": "var_list.r",
     "varRefreshCmd": "cat(var_dic_list()) "
    }
   },
   "position": {
    "height": "451.215px",
    "left": "1763.33px",
    "right": "20px",
    "top": "120px",
    "width": "350px"
   },
   "types_to_exclude": [
    "module",
    "function",
    "builtin_function_or_method",
    "instance",
    "_Feature"
   ],
   "window_display": false
  }
 },
 "nbformat": 4,
 "nbformat_minor": 4
}

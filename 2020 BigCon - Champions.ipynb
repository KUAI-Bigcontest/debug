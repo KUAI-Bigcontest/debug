{
 "cells": [
  {
   "cell_type": "markdown",
   "metadata": {},
   "source": [
    "# 2020 빅콘테스트 챔피언스리그\n",
    "\n",
    "![](./img/contest_logo.png)"
   ]
  },
  {
   "cell_type": "markdown",
   "metadata": {
    "toc": true
   },
   "source": [
    "<h1>Table of Contents<span class=\"tocSkip\"></span></h1>\n",
    "<div class=\"toc\"><ul class=\"toc-item\"><li><span><a href=\"#대회요강\" data-toc-modified-id=\"대회요강-0\"><span class=\"toc-item-num\">0&nbsp;&nbsp;</span>대회요강</a></span><ul class=\"toc-item\"><li><span><a href=\"#참가자격\" data-toc-modified-id=\"참가자격-0.1\"><span class=\"toc-item-num\">0.1&nbsp;&nbsp;</span>참가자격</a></span></li><li><span><a href=\"#대회일정\" data-toc-modified-id=\"대회일정-0.2\"><span class=\"toc-item-num\">0.2&nbsp;&nbsp;</span>대회일정</a></span></li><li><span><a href=\"#대회-문제\" data-toc-modified-id=\"대회-문제-0.3\"><span class=\"toc-item-num\">0.3&nbsp;&nbsp;</span>대회 문제</a></span></li><li><span><a href=\"#평가방법\" data-toc-modified-id=\"평가방법-0.4\"><span class=\"toc-item-num\">0.4&nbsp;&nbsp;</span>평가방법</a></span></li><li><span><a href=\"#결과제출\" data-toc-modified-id=\"결과제출-0.5\"><span class=\"toc-item-num\">0.5&nbsp;&nbsp;</span>결과제출</a></span></li><li><span><a href=\"#유의사항\" data-toc-modified-id=\"유의사항-0.6\"><span class=\"toc-item-num\">0.6&nbsp;&nbsp;</span>유의사항</a></span></li></ul></li><li><span><a href=\"#Library-&amp;-Option\" data-toc-modified-id=\"Library-&amp;-Option-1\"><span class=\"toc-item-num\">1&nbsp;&nbsp;</span>Library &amp; Option</a></span></li><li><span><a href=\"#Load-Data\" data-toc-modified-id=\"Load-Data-2\"><span class=\"toc-item-num\">2&nbsp;&nbsp;</span>Load Data</a></span><ul class=\"toc-item\"><li><span><a href=\"#2019년-실적데이터\" data-toc-modified-id=\"2019년-실적데이터-2.1\"><span class=\"toc-item-num\">2.1&nbsp;&nbsp;</span>2019년 실적데이터</a></span></li><li><span><a href=\"#시청률-데이터\" data-toc-modified-id=\"시청률-데이터-2.2\"><span class=\"toc-item-num\">2.2&nbsp;&nbsp;</span>시청률 데이터</a></span></li><li><span><a href=\"#판매-실적-예측-데이터\" data-toc-modified-id=\"판매-실적-예측-데이터-2.3\"><span class=\"toc-item-num\">2.3&nbsp;&nbsp;</span>판매 실적 예측 데이터</a></span></li></ul></li><li><span><a href=\"#Data-Preprocessing\" data-toc-modified-id=\"Data-Preprocessing-3\"><span class=\"toc-item-num\">3&nbsp;&nbsp;</span>Data Preprocessing</a></span><ul class=\"toc-item\"><li><span><a href=\"#Null값-처리하기\" data-toc-modified-id=\"Null값-처리하기-3.1\"><span class=\"toc-item-num\">3.1&nbsp;&nbsp;</span>Null값 처리하기</a></span></li><li><span><a href=\"#세부-시간-추출\" data-toc-modified-id=\"세부-시간-추출-3.2\"><span class=\"toc-item-num\">3.2&nbsp;&nbsp;</span>세부 시간 추출</a></span></li><li><span><a href=\"#자연어처리\" data-toc-modified-id=\"자연어처리-3.3\"><span class=\"toc-item-num\">3.3&nbsp;&nbsp;</span>자연어처리</a></span><ul class=\"toc-item\"><li><span><a href=\"#Save-and-Load\" data-toc-modified-id=\"Save-and-Load-3.3.1\"><span class=\"toc-item-num\">3.3.1&nbsp;&nbsp;</span>Save and Load</a></span></li></ul></li><li><span><a href=\"#Embedded-Vectors\" data-toc-modified-id=\"Embedded-Vectors-3.4\"><span class=\"toc-item-num\">3.4&nbsp;&nbsp;</span>Embedded Vectors</a></span></li></ul></li><li><span><a href=\"#Exploratory-Data-Analysis\" data-toc-modified-id=\"Exploratory-Data-Analysis-4\"><span class=\"toc-item-num\">4&nbsp;&nbsp;</span>Exploratory Data Analysis</a></span><ul class=\"toc-item\"><li><span><a href=\"#시청률-데이터\" data-toc-modified-id=\"시청률-데이터-4.1\"><span class=\"toc-item-num\">4.1&nbsp;&nbsp;</span>시청률 데이터</a></span></li></ul></li><li><span><a href=\"#Feature-Engineering\" data-toc-modified-id=\"Feature-Engineering-5\"><span class=\"toc-item-num\">5&nbsp;&nbsp;</span>Feature Engineering</a></span></li><li><span><a href=\"#네이버트랜드-결합\" data-toc-modified-id=\"네이버트랜드-결합-6\"><span class=\"toc-item-num\">6&nbsp;&nbsp;</span>네이버트랜드 결합</a></span><ul class=\"toc-item\"><li><span><a href=\"#상품군,-상품명-처리하기\" data-toc-modified-id=\"상품군,-상품명-처리하기-6.1\"><span class=\"toc-item-num\">6.1&nbsp;&nbsp;</span>상품군, 상품명 처리하기</a></span></li><li><span><a href=\"#Common-Function\" data-toc-modified-id=\"Common-Function-6.2\"><span class=\"toc-item-num\">6.2&nbsp;&nbsp;</span>Common Function</a></span></li><li><span><a href=\"#Train-Preprocessing\" data-toc-modified-id=\"Train-Preprocessing-6.3\"><span class=\"toc-item-num\">6.3&nbsp;&nbsp;</span>Train Preprocessing</a></span></li><li><span><a href=\"#Test-Preprocessing\" data-toc-modified-id=\"Test-Preprocessing-6.4\"><span class=\"toc-item-num\">6.4&nbsp;&nbsp;</span>Test Preprocessing</a></span></li></ul></li><li><span><a href=\"#Feature-Selection\" data-toc-modified-id=\"Feature-Selection-7\"><span class=\"toc-item-num\">7&nbsp;&nbsp;</span>Feature Selection</a></span></li><li><span><a href=\"#Modeling\" data-toc-modified-id=\"Modeling-8\"><span class=\"toc-item-num\">8&nbsp;&nbsp;</span>Modeling</a></span><ul class=\"toc-item\"><li><span><a href=\"#학습-및-검증-데이터-분리하기\" data-toc-modified-id=\"학습-및-검증-데이터-분리하기-8.1\"><span class=\"toc-item-num\">8.1&nbsp;&nbsp;</span>학습 및 검증 데이터 분리하기</a></span></li><li><span><a href=\"#모델-생성하기\" data-toc-modified-id=\"모델-생성하기-8.2\"><span class=\"toc-item-num\">8.2&nbsp;&nbsp;</span>모델 생성하기</a></span></li></ul></li><li><span><a href=\"#Testing\" data-toc-modified-id=\"Testing-9\"><span class=\"toc-item-num\">9&nbsp;&nbsp;</span>Testing</a></span><ul class=\"toc-item\"><li><span><a href=\"#MAPE\" data-toc-modified-id=\"MAPE-9.1\"><span class=\"toc-item-num\">9.1&nbsp;&nbsp;</span>MAPE</a></span></li></ul></li><li><span><a href=\"#Submission\" data-toc-modified-id=\"Submission-10\"><span class=\"toc-item-num\">10&nbsp;&nbsp;</span>Submission</a></span></li><li><span><a href=\"#Reference\" data-toc-modified-id=\"Reference-11\"><span class=\"toc-item-num\">11&nbsp;&nbsp;</span>Reference</a></span></li></ul></div>"
   ]
  },
  {
   "cell_type": "markdown",
   "metadata": {},
   "source": [
    "## 대회요강\n",
    "\n",
    "### 참가자격\n",
    "- 전국 대학(원)생(휴학생포함) 및 일반인\n",
    "    - 대회 시작일(8.3) 기준, 대학(원)생은 나이제한 없음\n",
    "    - 데이터 분석 및 컨설팅 업체 소속 임직원은 참여 불가"
   ]
  },
  {
   "cell_type": "markdown",
   "metadata": {},
   "source": [
    "### 대회일정\n",
    "![](./img/contest_plan.png)"
   ]
  },
  {
   "cell_type": "markdown",
   "metadata": {},
   "source": [
    "### 대회 문제\n",
    "![](./img/contest_problem.png)"
   ]
  },
  {
   "cell_type": "markdown",
   "metadata": {},
   "source": [
    "### 평가방법\n",
    "\n",
    "![](./img/contest_evaluation.png)"
   ]
  },
  {
   "cell_type": "markdown",
   "metadata": {},
   "source": [
    "### 결과제출\n",
    "\n",
    "1. 마이페이지 내 결과제출바로가기 에서 제출(파일 용량 초과시, 사무국 이메일/웹하드로 제출하며 별도 안내 예정)\n",
    "2. 결과보고서 양식 및 추가 제출파일\n",
    "    - 심사진행과정에서 추가로 자료를 요청할 수 있음\n",
    "    - 결과보고서 필수 포함내용 미기재 및 추가 제출파일 미제출시, 심사 및 수상에서 제외 될 수 있음\n",
    "    \n",
    "![](./img/contest_submission.png)"
   ]
  },
  {
   "cell_type": "markdown",
   "metadata": {},
   "source": [
    "### 유의사항\n",
    "\n",
    "![](./img/contest_notice.png)"
   ]
  },
  {
   "cell_type": "markdown",
   "metadata": {},
   "source": [
    "---\n",
    "\n",
    "## Library & Option"
   ]
  },
  {
   "cell_type": "code",
   "execution_count": 1,
   "metadata": {
    "ExecuteTime": {
     "end_time": "2020-09-22T01:53:22.083546Z",
     "start_time": "2020-09-22T01:53:20.448930Z"
    }
   },
   "outputs": [],
   "source": [
    "#########\n",
    "# BASIC #\n",
    "#########\n",
    "import os\n",
    "import sys\n",
    "import platform\n",
    "import warnings\n",
    "from collections import Counter\n",
    "import calendar\n",
    "\n",
    "#############\n",
    "# LOAD DATA #\n",
    "#############\n",
    "import numpy as np\n",
    "import pandas as pd\n",
    "\n",
    "#############################\n",
    "# EXPLORATORY DATA ANALYSIS #\n",
    "#############################\n",
    "import matplotlib as mpl\n",
    "import matplotlib.pyplot as plt\n",
    "import seaborn as sns\n",
    "import missingno as msno\n",
    "\n",
    "######################\n",
    "# DATA PREPROCESSING #\n",
    "######################\n",
    "import re\n",
    "from sklearn.preprocessing import LabelEncoder\n",
    "from sklearn.preprocessing import OneHotEncoder\n",
    "## NATURAL LANGUAGE PROCESSING \n",
    "from konlpy.tag import Komoran\n",
    "from gensim.models import Word2Vec\n",
    "\n",
    "#######################\n",
    "# FEATURE ENGINEERING #\n",
    "#######################\n",
    "from sklearn.preprocessing import StandardScaler\n",
    "from sklearn.preprocessing import MinMaxScaler\n",
    "\n",
    "# FEATURE SELECTION\n",
    "from tqdm.notebook import tqdm\n",
    "\n",
    "############\n",
    "# MODELING #\n",
    "############\n",
    "## MACHINE LEARNING\n",
    "from sklearn.model_selection import KFold\n",
    "from sklearn.model_selection import train_test_split\n",
    "from sklearn.linear_model import LinearRegression\n",
    "from sklearn.tree import DecisionTreeRegressor\n",
    "from sklearn.svm import SVR\n",
    "from sklearn.ensemble import RandomForestRegressor\n",
    "from xgboost import XGBRegressor\n",
    "# from lightgbm import LGBMRegressor\n",
    "\n",
    "## DEEP LEARNING\n",
    "import torch\n",
    "import torch.nn as nn\n",
    "import torch.optim as optim\n",
    "import torch.nn.functional as F\n",
    "\n",
    "###########\n",
    "# TESTING #\n",
    "###########\n",
    "from sklearn.metrics import mean_absolute_error\n",
    "from sklearn.model_selection import RandomizedSearchCV\n",
    "from sklearn.model_selection import GridSearchCV"
   ]
  },
  {
   "cell_type": "code",
   "execution_count": 2,
   "metadata": {
    "ExecuteTime": {
     "end_time": "2020-09-22T01:53:22.323344Z",
     "start_time": "2020-09-22T01:53:22.219638Z"
    }
   },
   "outputs": [
    {
     "name": "stdout",
     "output_type": "stream",
     "text": [
      "현재 CUDA를 사용할 수 있습니다. 사용하고 있는 장치는 cuda 입니다.\n"
     ]
    }
   ],
   "source": [
    "warnings.filterwarnings(action='ignore')\n",
    "pd.options.display.float_format = '{:.4f}'.format\n",
    "# plt.style.use('ggplot')\n",
    "if platform.platform().split('-')[0] == 'Windows':\n",
    "    mpl.rcParams['font.family'] = 'Malgun Gothic' # Windows에서는 한글이 나오게 하기 위해서\n",
    "else: # macOS라고 가정\n",
    "    mpl.rcParams['font.family'] = 'AppleGothic' # mac에서는 한글이 나오게 하기 위해서\n",
    "\n",
    "mpl.rcParams['axes.unicode_minus'] = False\n",
    "device = 'cuda'  if torch.cuda.is_available() else 'cpu'\n",
    "if torch.cuda.is_available():\n",
    "    print(f'현재 CUDA를 사용할 수 있습니다. 사용하고 있는 장치는 {device} 입니다.')\n",
    "else:\n",
    "    print(f'현재 CUDA를 사용할 수 없습니다. 사용하고 있는 장치는 {device} 입니다. CPU로 학습시 오래 걸릴 수 있습니다.')"
   ]
  },
  {
   "cell_type": "code",
   "execution_count": 3,
   "metadata": {
    "ExecuteTime": {
     "end_time": "2020-09-22T01:53:22.472971Z",
     "start_time": "2020-09-22T01:53:22.459007Z"
    }
   },
   "outputs": [],
   "source": [
    "RANDOM_STATE = 42\n",
    "TEST_SIZE = 0.2"
   ]
  },
  {
   "cell_type": "markdown",
   "metadata": {},
   "source": [
    "---\n",
    "\n",
    "## Load Data"
   ]
  },
  {
   "cell_type": "code",
   "execution_count": null,
   "metadata": {
    "ExecuteTime": {
     "end_time": "2020-09-21T10:05:48.205249Z",
     "start_time": "2020-09-21T10:05:48.199902Z"
    }
   },
   "outputs": [],
   "source": [
    "os.listdir('./data/01_제공데이터')"
   ]
  },
  {
   "cell_type": "code",
   "execution_count": null,
   "metadata": {
    "ExecuteTime": {
     "end_time": "2020-09-21T10:05:48.210442Z",
     "start_time": "2020-09-21T10:05:48.206926Z"
    }
   },
   "outputs": [],
   "source": [
    "os.listdir('./data/02_평가데이터')"
   ]
  },
  {
   "cell_type": "code",
   "execution_count": null,
   "metadata": {
    "ExecuteTime": {
     "end_time": "2020-09-21T10:05:48.214672Z",
     "start_time": "2020-09-21T10:05:48.212379Z"
    }
   },
   "outputs": [],
   "source": [
    "data = dict()"
   ]
  },
  {
   "cell_type": "markdown",
   "metadata": {},
   "source": [
    "### 2019년 실적데이터"
   ]
  },
  {
   "cell_type": "code",
   "execution_count": null,
   "metadata": {
    "ExecuteTime": {
     "end_time": "2020-09-21T10:05:51.383234Z",
     "start_time": "2020-09-21T10:05:48.217951Z"
    }
   },
   "outputs": [],
   "source": [
    "data['train'] = pd.read_excel(r'./data/01_제공데이터/2020 빅콘테스트 데이터분석분야-챔피언리그_2019년 실적데이터.xlsx',\n",
    "                       header=1,\n",
    "                       names=['방송일시', '노출(분)', '마더코드', '상품코드',\n",
    "                              '상품명', '상품군', '판매단가', '취급액'],\n",
    "                       thousands=',',\n",
    "                       )\n",
    "data['train'].index = pd.to_datetime(data['train']['방송일시'])\n",
    "data['train'] = data['train'].drop('방송일시',axis=1)\n",
    "data['train'] = data['train']['2019']\n",
    "data['train']"
   ]
  },
  {
   "cell_type": "markdown",
   "metadata": {},
   "source": [
    "### 시청률 데이터"
   ]
  },
  {
   "cell_type": "code",
   "execution_count": null,
   "metadata": {
    "ExecuteTime": {
     "end_time": "2020-09-21T10:05:55.839894Z",
     "start_time": "2020-09-21T10:05:51.385770Z"
    }
   },
   "outputs": [],
   "source": [
    "data['rating'] = pd.read_excel('./data/01_제공데이터/2020 빅콘테스트 데이터분석분야-챔피언리그_시청률 데이터.xlsx',\n",
    "                          skiprows=1,\n",
    "                          index_col=0,\n",
    "                          )\n",
    "data['rating']"
   ]
  },
  {
   "cell_type": "markdown",
   "metadata": {},
   "source": [
    "### 판매 실적 예측 데이터"
   ]
  },
  {
   "cell_type": "code",
   "execution_count": null,
   "metadata": {
    "ExecuteTime": {
     "end_time": "2020-09-21T10:05:56.120762Z",
     "start_time": "2020-09-21T10:05:55.841862Z"
    }
   },
   "outputs": [],
   "source": [
    "data['test'] = pd.read_excel('./data/02_평가데이터/2020 빅콘테스트 데이터분석분야-챔피언리그_2020년 6월 판매실적예측데이터(평가데이터).xlsx',\n",
    "                          skiprows=1,\n",
    "                          index_col=0,\n",
    "                          )\n",
    "data['test']"
   ]
  },
  {
   "cell_type": "markdown",
   "metadata": {},
   "source": [
    "---\n",
    "\n",
    "## Data Preprocessing"
   ]
  },
  {
   "cell_type": "code",
   "execution_count": null,
   "metadata": {
    "ExecuteTime": {
     "end_time": "2020-09-21T10:05:56.124282Z",
     "start_time": "2020-09-21T10:05:56.122492Z"
    }
   },
   "outputs": [],
   "source": [
    "# data.pivot_table(values=['취급액'],\n",
    "#                    index=['연', '월', '일'],\n",
    "#                    aggfunc='sum').plot(figsize=(12,8))\n",
    "# plt.grid()\n",
    "# plt.show()"
   ]
  },
  {
   "cell_type": "code",
   "execution_count": null,
   "metadata": {
    "ExecuteTime": {
     "end_time": "2020-09-21T10:05:56.127744Z",
     "start_time": "2020-09-21T10:05:56.125836Z"
    }
   },
   "outputs": [],
   "source": [
    "# data.pivot_table(values=['노출(분)'],\n",
    "#                    index=['연', '월', '일'],\n",
    "#                    aggfunc='sum').plot(figsize=(12,8))\n",
    "# plt.grid()\n",
    "# plt.show()"
   ]
  },
  {
   "cell_type": "markdown",
   "metadata": {},
   "source": [
    "### Null값 처리하기"
   ]
  },
  {
   "cell_type": "code",
   "execution_count": null,
   "metadata": {
    "ExecuteTime": {
     "end_time": "2020-09-21T10:05:56.603303Z",
     "start_time": "2020-09-21T10:05:56.129158Z"
    }
   },
   "outputs": [],
   "source": [
    "msno.matrix(data['train'])\n",
    "plt.show()"
   ]
  },
  {
   "cell_type": "code",
   "execution_count": null,
   "metadata": {
    "ExecuteTime": {
     "end_time": "2020-09-21T10:05:56.949568Z",
     "start_time": "2020-09-21T10:05:56.605231Z"
    }
   },
   "outputs": [],
   "source": [
    "msno.matrix(data['test'])\n",
    "plt.show()"
   ]
  },
  {
   "cell_type": "markdown",
   "metadata": {},
   "source": [
    "### 세부 시간 추출"
   ]
  },
  {
   "cell_type": "code",
   "execution_count": null,
   "metadata": {
    "ExecuteTime": {
     "end_time": "2020-09-21T10:05:57.388937Z",
     "start_time": "2020-09-21T10:05:56.951651Z"
    }
   },
   "outputs": [],
   "source": [
    "data['train']['연'] = data['train'].index.map(lambda x: x.year)\n",
    "data['train']['월'] = data['train'].index.map(lambda x: x.month)\n",
    "data['train']['일'] = data['train'].index.map(lambda x: x.day)\n",
    "data['train']['시'] = data['train'].index.map(lambda x: x.hour)\n",
    "data['train']['분'] = data['train'].index.map(lambda x: x.minute)\n",
    "data['train']['요일'] = data['train'].index.map(lambda x: calendar.day_abbr[x.weekday()])"
   ]
  },
  {
   "cell_type": "code",
   "execution_count": null,
   "metadata": {
    "ExecuteTime": {
     "end_time": "2020-09-21T10:05:57.427698Z",
     "start_time": "2020-09-21T10:05:57.390693Z"
    }
   },
   "outputs": [],
   "source": [
    "data['test']['연'] = data['test'].index.map(lambda x: x.year)\n",
    "data['test']['월'] = data['test'].index.map(lambda x: x.month)\n",
    "data['test']['일'] = data['test'].index.map(lambda x: x.day)\n",
    "data['test']['시'] = data['test'].index.map(lambda x: x.hour)\n",
    "data['test']['분'] = data['test'].index.map(lambda x: x.minute)\n",
    "data['test']['요일'] = data['test'].index.map(lambda x: calendar.day_abbr[x.weekday()])"
   ]
  },
  {
   "cell_type": "code",
   "execution_count": null,
   "metadata": {
    "ExecuteTime": {
     "end_time": "2020-09-21T10:05:57.445543Z",
     "start_time": "2020-09-21T10:05:57.429762Z"
    }
   },
   "outputs": [],
   "source": [
    "# 노출시간이 비어있을땐 앞을 보면 됨\n",
    "data['train'] = data['train'].fillna(method='ffill')\n",
    "data['test'] = data['test'].fillna(method='ffill')"
   ]
  },
  {
   "cell_type": "code",
   "execution_count": null,
   "metadata": {
    "ExecuteTime": {
     "end_time": "2020-09-21T10:05:57.450180Z",
     "start_time": "2020-09-21T10:05:57.447935Z"
    }
   },
   "outputs": [],
   "source": [
    "# data['train'] = data['train'].dropna()\n",
    "# data['test'] = data['test'].dropna()"
   ]
  },
  {
   "cell_type": "markdown",
   "metadata": {},
   "source": [
    "### 자연어처리"
   ]
  },
  {
   "cell_type": "code",
   "execution_count": null,
   "metadata": {
    "ExecuteTime": {
     "end_time": "2020-09-21T10:05:57.476017Z",
     "start_time": "2020-09-21T10:05:57.452254Z"
    }
   },
   "outputs": [],
   "source": [
    "data['train']"
   ]
  },
  {
   "cell_type": "code",
   "execution_count": null,
   "metadata": {
    "ExecuteTime": {
     "end_time": "2020-09-21T10:05:57.482588Z",
     "start_time": "2020-09-21T10:05:57.477790Z"
    }
   },
   "outputs": [],
   "source": [
    "def re_sub(series: pd.Series) -> pd.Series:\n",
    "    series = series.str.replace(pat=r'[ㄱ-ㅎ]', repl=r'', regex=True)  # ㅋ 제거용\n",
    "    series = series.str.replace(pat=r'[^\\w\\s]', repl=r'', regex=True)  # 특수문자 제거\n",
    "    series = series.str.replace(pat=r'[ ]{2,}', repl=r' ', regex=True)  # 공백 제거\n",
    "    series = series.str.replace(pat=r'[\\u3000]+', repl=r'', regex=True)  # u3000 제거\n",
    "    return series"
   ]
  },
  {
   "cell_type": "code",
   "execution_count": null,
   "metadata": {
    "ExecuteTime": {
     "end_time": "2020-09-21T10:05:57.689493Z",
     "start_time": "2020-09-21T10:05:57.484649Z"
    }
   },
   "outputs": [],
   "source": [
    "train = data['train'][['상품명', '상품군']].copy()\n",
    "test = data['test'][['상품명', '상품군']].copy()\n",
    "train.상품명 = re_sub(train.상품명)\n",
    "test.상품명 = re_sub(test.상품명)"
   ]
  },
  {
   "cell_type": "code",
   "execution_count": null,
   "metadata": {
    "ExecuteTime": {
     "end_time": "2020-09-21T10:05:57.714541Z",
     "start_time": "2020-09-21T10:05:57.691227Z"
    }
   },
   "outputs": [],
   "source": [
    "prod_names = (train[train.상품군 != '무형'].상품명 + ' ' + train[train.상품군 != '무형'].상품군).values# len(prod_names) > 1692 (무형 빼고)\n",
    "prod_names_test = (test[test.상품군 != '무형'].상품명 + ' ' + test[test.상품군 != '무형'].상품군).values# len(prod_names) > 1692 (무형 빼고)"
   ]
  },
  {
   "cell_type": "code",
   "execution_count": null,
   "metadata": {
    "ExecuteTime": {
     "end_time": "2020-09-21T10:05:57.723970Z",
     "start_time": "2020-09-21T10:05:57.720513Z"
    }
   },
   "outputs": [],
   "source": [
    "len(prod_names), len(prod_names_test)"
   ]
  },
  {
   "cell_type": "code",
   "execution_count": null,
   "metadata": {
    "ExecuteTime": {
     "end_time": "2020-09-21T10:06:11.654161Z",
     "start_time": "2020-09-21T10:05:57.728024Z"
    }
   },
   "outputs": [],
   "source": [
    "komoran = Komoran(userdic='./data/04_추가데이터/user_dict_0913.txt')\n",
    "print(komoran.nouns(\"KOMORAN은 한국어 형태소 분석기입니다.\"))\n",
    "\n",
    "naive_tokens = list(map(komoran.pos, prod_names))\n",
    "naive_tokens_test = list(map(komoran.pos, prod_names_test))"
   ]
  },
  {
   "cell_type": "code",
   "execution_count": null,
   "metadata": {
    "ExecuteTime": {
     "end_time": "2020-09-21T10:06:11.816506Z",
     "start_time": "2020-09-21T10:06:11.656363Z"
    }
   },
   "outputs": [],
   "source": [
    "def morph_filter(lst):\n",
    "    return list(map(lambda x: x[0], filter(lambda x: (x[1] in usable_morphs), lst)))\n",
    "\n",
    "usable_morphs = ['NNG', 'NNP', 'NP', 'NR'] #+ ['SL', 'SN']\n",
    "naive_tokens = list(map(morph_filter, naive_tokens))\n",
    "naive_tokens_test = list(map(morph_filter, naive_tokens_test))"
   ]
  },
  {
   "cell_type": "code",
   "execution_count": null,
   "metadata": {
    "ExecuteTime": {
     "end_time": "2020-09-21T10:06:11.897281Z",
     "start_time": "2020-09-21T10:06:11.818631Z"
    }
   },
   "outputs": [],
   "source": [
    "exclude_words = ['종', '인용']\n",
    "def exclude(lst):\n",
    "    return list(filter(lambda x: x not in exclude_words, lst))\n",
    "processed_tokens = list(map(exclude, naive_tokens))\n",
    "processed_tokens_test = list(map(exclude, naive_tokens_test))"
   ]
  },
  {
   "cell_type": "code",
   "execution_count": null,
   "metadata": {
    "ExecuteTime": {
     "end_time": "2020-09-21T10:06:12.029546Z",
     "start_time": "2020-09-21T10:06:11.899437Z"
    }
   },
   "outputs": [],
   "source": [
    "processed_tokens # -> 1차 Output"
   ]
  },
  {
   "cell_type": "code",
   "execution_count": null,
   "metadata": {
    "ExecuteTime": {
     "end_time": "2020-09-21T10:06:12.160150Z",
     "start_time": "2020-09-21T10:06:12.032013Z"
    }
   },
   "outputs": [],
   "source": [
    "processed_tokens_test"
   ]
  },
  {
   "cell_type": "markdown",
   "metadata": {},
   "source": [
    "#### Save and Load"
   ]
  },
  {
   "cell_type": "markdown",
   "metadata": {},
   "source": [
    "import pickle\n",
    "\n",
    "with open('processed_tokens_train.pkl', 'wb') as f:\n",
    "    pickle.dump(processed_tokens, f)"
   ]
  },
  {
   "cell_type": "markdown",
   "metadata": {},
   "source": [
    "### Embedded Vectors"
   ]
  },
  {
   "cell_type": "code",
   "execution_count": null,
   "metadata": {
    "ExecuteTime": {
     "end_time": "2020-09-21T10:06:13.355408Z",
     "start_time": "2020-09-21T10:06:12.162377Z"
    }
   },
   "outputs": [],
   "source": [
    "model = Word2Vec(sentences=processed_tokens, size=10, window=6, min_count=5, workers=4, sg=1)"
   ]
  },
  {
   "cell_type": "code",
   "execution_count": null,
   "metadata": {
    "ExecuteTime": {
     "end_time": "2020-09-21T10:06:13.368359Z",
     "start_time": "2020-09-21T10:06:13.358235Z"
    }
   },
   "outputs": [],
   "source": [
    "word_vectors = model.wv\n",
    "\n",
    "vocabs = word_vectors.vocab.keys()\n",
    "word_vectors_list = [word_vectors[v] for v in vocabs]"
   ]
  },
  {
   "cell_type": "code",
   "execution_count": null,
   "metadata": {
    "ExecuteTime": {
     "end_time": "2020-09-21T10:06:13.375407Z",
     "start_time": "2020-09-21T10:06:13.371014Z"
    }
   },
   "outputs": [],
   "source": [
    "def sum_embed(lst):\n",
    "    wv = []\n",
    "    for word in lst:\n",
    "        try:\n",
    "            wv.append(word_vectors[word])\n",
    "        except:\n",
    "            pass\n",
    "    return sum(wv)"
   ]
  },
  {
   "cell_type": "code",
   "execution_count": null,
   "metadata": {
    "ExecuteTime": {
     "end_time": "2020-09-21T10:06:13.999154Z",
     "start_time": "2020-09-21T10:06:13.378237Z"
    }
   },
   "outputs": [],
   "source": [
    "embedded_tokens = list(map(sum_embed, processed_tokens))\n",
    "embedded_tokens_test = list(map(sum_embed, processed_tokens_test))"
   ]
  },
  {
   "cell_type": "code",
   "execution_count": null,
   "metadata": {
    "ExecuteTime": {
     "end_time": "2020-09-21T10:06:14.071239Z",
     "start_time": "2020-09-21T10:06:14.001038Z"
    }
   },
   "outputs": [],
   "source": [
    "from sklearn.decomposition import PCA\n",
    "pca = PCA(n_components=10)\n",
    "pca.fit(embedded_tokens)\n",
    "xys = pca.transform(embedded_tokens)\n",
    "xys_test = pca.transform(embedded_tokens_test)"
   ]
  },
  {
   "cell_type": "code",
   "execution_count": null,
   "metadata": {
    "ExecuteTime": {
     "end_time": "2020-09-21T10:06:14.078884Z",
     "start_time": "2020-09-21T10:06:14.073592Z"
    }
   },
   "outputs": [],
   "source": [
    "xys.shape  # 무형 제외"
   ]
  },
  {
   "cell_type": "code",
   "execution_count": null,
   "metadata": {
    "ExecuteTime": {
     "end_time": "2020-09-21T10:06:14.351571Z",
     "start_time": "2020-09-21T10:06:14.081066Z"
    }
   },
   "outputs": [],
   "source": [
    "xys_test.shape"
   ]
  },
  {
   "cell_type": "markdown",
   "metadata": {},
   "source": [
    "---\n",
    "\n",
    "## Exploratory Data Analysis"
   ]
  },
  {
   "cell_type": "code",
   "execution_count": null,
   "metadata": {
    "ExecuteTime": {
     "end_time": "2020-09-21T10:06:14.357213Z",
     "start_time": "2020-09-21T10:06:14.353475Z"
    }
   },
   "outputs": [],
   "source": [
    "data['train'].shape"
   ]
  },
  {
   "cell_type": "code",
   "execution_count": null,
   "metadata": {
    "ExecuteTime": {
     "end_time": "2020-09-21T10:06:14.362298Z",
     "start_time": "2020-09-21T10:06:14.359028Z"
    }
   },
   "outputs": [],
   "source": [
    "data['test'].shape"
   ]
  },
  {
   "cell_type": "code",
   "execution_count": null,
   "metadata": {
    "ExecuteTime": {
     "end_time": "2020-09-21T10:06:14.367671Z",
     "start_time": "2020-09-21T10:06:14.363987Z"
    }
   },
   "outputs": [],
   "source": [
    "data['train'].columns"
   ]
  },
  {
   "cell_type": "code",
   "execution_count": null,
   "metadata": {
    "ExecuteTime": {
     "end_time": "2020-09-21T10:06:14.372680Z",
     "start_time": "2020-09-21T10:06:14.369294Z"
    }
   },
   "outputs": [],
   "source": [
    "data['test'].columns"
   ]
  },
  {
   "cell_type": "code",
   "execution_count": null,
   "metadata": {
    "ExecuteTime": {
     "end_time": "2020-09-21T10:06:14.393065Z",
     "start_time": "2020-09-21T10:06:14.374320Z"
    }
   },
   "outputs": [],
   "source": [
    "data['train'].info()"
   ]
  },
  {
   "cell_type": "code",
   "execution_count": null,
   "metadata": {
    "ExecuteTime": {
     "end_time": "2020-09-21T10:06:14.404620Z",
     "start_time": "2020-09-21T10:06:14.394848Z"
    }
   },
   "outputs": [],
   "source": [
    "data['test'].info()"
   ]
  },
  {
   "cell_type": "code",
   "execution_count": null,
   "metadata": {
    "ExecuteTime": {
     "end_time": "2020-09-21T10:06:14.425362Z",
     "start_time": "2020-09-21T10:06:14.406523Z"
    }
   },
   "outputs": [],
   "source": [
    "data['rating'].info()"
   ]
  },
  {
   "cell_type": "code",
   "execution_count": null,
   "metadata": {
    "ExecuteTime": {
     "end_time": "2020-09-21T10:06:14.476031Z",
     "start_time": "2020-09-21T10:06:14.427131Z"
    }
   },
   "outputs": [],
   "source": [
    "data['train'].describe()"
   ]
  },
  {
   "cell_type": "code",
   "execution_count": null,
   "metadata": {
    "ExecuteTime": {
     "end_time": "2020-09-21T10:06:14.484511Z",
     "start_time": "2020-09-21T10:06:14.477801Z"
    }
   },
   "outputs": [],
   "source": [
    "sorted(Counter(data['train']['상품군'].tolist()).items(),key=lambda x: x[1])"
   ]
  },
  {
   "cell_type": "code",
   "execution_count": null,
   "metadata": {
    "ExecuteTime": {
     "end_time": "2020-09-21T10:06:14.492929Z",
     "start_time": "2020-09-21T10:06:14.486264Z"
    }
   },
   "outputs": [],
   "source": [
    "data['train']['상품군'].unique()\n",
    "print(len(data['train']['상품군'].unique()))"
   ]
  },
  {
   "cell_type": "code",
   "execution_count": null,
   "metadata": {
    "ExecuteTime": {
     "end_time": "2020-09-21T10:06:14.509619Z",
     "start_time": "2020-09-21T10:06:14.494683Z"
    }
   },
   "outputs": [],
   "source": [
    "data['train'].pivot_table(values=['취급액'],\n",
    "                   index=['상품군'],\n",
    "                   aggfunc='sum').sort_values(by='취급액',ascending=False)"
   ]
  },
  {
   "cell_type": "code",
   "execution_count": null,
   "metadata": {
    "ExecuteTime": {
     "end_time": "2020-09-21T10:06:14.721848Z",
     "start_time": "2020-09-21T10:06:14.511395Z"
    }
   },
   "outputs": [],
   "source": [
    "data['train'].pivot_table(values=['취급액'],\n",
    "                   index=['상품군'],\n",
    "                   aggfunc='sum').sort_values(by='취급액',ascending=True).plot(kind='barh')\n",
    "plt.show()"
   ]
  },
  {
   "cell_type": "code",
   "execution_count": null,
   "metadata": {
    "ExecuteTime": {
     "end_time": "2020-09-21T10:06:14.734936Z",
     "start_time": "2020-09-21T10:06:14.723791Z"
    }
   },
   "outputs": [],
   "source": [
    "data['train']['상품명'].unique()\n",
    "print(len(data['train']['상품명'].unique()))"
   ]
  },
  {
   "cell_type": "code",
   "execution_count": null,
   "metadata": {
    "ExecuteTime": {
     "end_time": "2020-09-21T10:06:14.758889Z",
     "start_time": "2020-09-21T10:06:14.737611Z"
    }
   },
   "outputs": [],
   "source": [
    "data['train'].pivot_table(values=['취급액'],\n",
    "                          index=['상품명'],\n",
    "                          aggfunc='sum').sort_values(by='취급액',ascending=False)"
   ]
  },
  {
   "cell_type": "code",
   "execution_count": null,
   "metadata": {
    "ExecuteTime": {
     "end_time": "2020-09-21T10:06:14.763129Z",
     "start_time": "2020-09-21T10:06:14.760928Z"
    }
   },
   "outputs": [],
   "source": [
    "# data['train'].pivot_table(values=['갯수'],\n",
    "#                    index=['상품명'],\n",
    "#                    aggfunc='sum').sort_values(by='갯수',ascending=False)"
   ]
  },
  {
   "cell_type": "code",
   "execution_count": null,
   "metadata": {
    "ExecuteTime": {
     "end_time": "2020-09-21T10:06:14.767104Z",
     "start_time": "2020-09-21T10:06:14.765089Z"
    }
   },
   "outputs": [],
   "source": [
    "# data['train'].pivot_table(values=['갯수'],\n",
    "#                    index=['상품군'],\n",
    "#                    aggfunc='sum').sort_values(by='갯수',ascending=False)"
   ]
  },
  {
   "cell_type": "code",
   "execution_count": null,
   "metadata": {
    "ExecuteTime": {
     "end_time": "2020-09-21T10:06:14.770644Z",
     "start_time": "2020-09-21T10:06:14.768532Z"
    }
   },
   "outputs": [],
   "source": [
    "# data_p.pivot_table(values=['갯수'],\n",
    "#                    index=['상품군'],\n",
    "#                    aggfunc='sum').sort_values(by='갯수',ascending=True).plot(kind='barh')\n",
    "# plt.show()"
   ]
  },
  {
   "cell_type": "code",
   "execution_count": null,
   "metadata": {
    "ExecuteTime": {
     "end_time": "2020-09-21T10:06:14.774464Z",
     "start_time": "2020-09-21T10:06:14.772355Z"
    }
   },
   "outputs": [],
   "source": [
    "# data['train'].pivot_table(values=['취급액'],\n",
    "#                    index=['월'],\n",
    "#                    aggfunc='sum').sort_values(by='취급액').sort_index().plot(kind='bar')\n",
    "# plt.show()"
   ]
  },
  {
   "cell_type": "code",
   "execution_count": null,
   "metadata": {
    "ExecuteTime": {
     "end_time": "2020-09-21T10:06:14.778279Z",
     "start_time": "2020-09-21T10:06:14.776194Z"
    }
   },
   "outputs": [],
   "source": [
    "# data_p.pivot_table(values=['취급액'],\n",
    "#                    index=['일'],\n",
    "#                    aggfunc='sum').sort_values(by='취급액').sort_index().plot(kind='bar')\n",
    "# plt.show()"
   ]
  },
  {
   "cell_type": "code",
   "execution_count": null,
   "metadata": {
    "ExecuteTime": {
     "end_time": "2020-09-21T10:06:14.782100Z",
     "start_time": "2020-09-21T10:06:14.779963Z"
    }
   },
   "outputs": [],
   "source": [
    "# data_p.pivot_table(values=['취급액'],\n",
    "#                    index=['시'],\n",
    "#                    aggfunc='sum').sort_values(by='취급액').sort_index().plot(kind='bar')\n",
    "# plt.show()"
   ]
  },
  {
   "cell_type": "code",
   "execution_count": null,
   "metadata": {
    "ExecuteTime": {
     "end_time": "2020-09-21T10:06:15.013255Z",
     "start_time": "2020-09-21T10:06:14.783924Z"
    }
   },
   "outputs": [],
   "source": [
    "data['train'][['상품코드','상품명','상품군']]['상품군'].value_counts().plot(kind = 'bar', figsize=(14, 10))\n",
    "plt.show()"
   ]
  },
  {
   "cell_type": "code",
   "execution_count": null,
   "metadata": {
    "ExecuteTime": {
     "end_time": "2020-09-21T10:06:15.244067Z",
     "start_time": "2020-09-21T10:06:15.015242Z"
    }
   },
   "outputs": [],
   "source": [
    "data['test'][['상품코드','상품명','상품군']]['상품군'].value_counts().plot(kind = 'bar', figsize=(14, 10))\n",
    "plt.show()"
   ]
  },
  {
   "cell_type": "code",
   "execution_count": null,
   "metadata": {
    "ExecuteTime": {
     "end_time": "2020-09-21T10:06:15.251519Z",
     "start_time": "2020-09-21T10:06:15.245820Z"
    }
   },
   "outputs": [],
   "source": [
    "np.sum(data['train']['상품군'] == '무형')"
   ]
  },
  {
   "cell_type": "code",
   "execution_count": null,
   "metadata": {
    "ExecuteTime": {
     "end_time": "2020-09-21T10:06:15.261463Z",
     "start_time": "2020-09-21T10:06:15.253191Z"
    }
   },
   "outputs": [],
   "source": [
    "data['train'][data['train']['판매단가'] >0]['판매단가'].unique().min()"
   ]
  },
  {
   "cell_type": "code",
   "execution_count": null,
   "metadata": {
    "ExecuteTime": {
     "end_time": "2020-09-21T10:06:15.268484Z",
     "start_time": "2020-09-21T10:06:15.263204Z"
    }
   },
   "outputs": [],
   "source": [
    "np.nanmax(data['train']['취급액'].unique())"
   ]
  },
  {
   "cell_type": "code",
   "execution_count": null,
   "metadata": {
    "ExecuteTime": {
     "end_time": "2020-09-21T10:06:15.276020Z",
     "start_time": "2020-09-21T10:06:15.270393Z"
    }
   },
   "outputs": [],
   "source": [
    "data['train']['상품코드'].unique().max()"
   ]
  },
  {
   "cell_type": "code",
   "execution_count": null,
   "metadata": {
    "ExecuteTime": {
     "end_time": "2020-09-21T10:06:15.282307Z",
     "start_time": "2020-09-21T10:06:15.277989Z"
    }
   },
   "outputs": [],
   "source": [
    "len(data['train']['상품코드'].unique())"
   ]
  },
  {
   "cell_type": "code",
   "execution_count": null,
   "metadata": {
    "ExecuteTime": {
     "end_time": "2020-09-21T10:06:15.305672Z",
     "start_time": "2020-09-21T10:06:15.284040Z"
    }
   },
   "outputs": [],
   "source": [
    "prod_list = data['train'][['상품코드','상품명','상품군']].drop_duplicates()\n",
    "prod_list"
   ]
  },
  {
   "cell_type": "code",
   "execution_count": null,
   "metadata": {
    "ExecuteTime": {
     "end_time": "2020-09-21T10:06:16.775598Z",
     "start_time": "2020-09-21T10:06:15.307283Z"
    }
   },
   "outputs": [],
   "source": [
    "for prod in prod_list['상품명'].drop_duplicates():\n",
    "    length = len(prod_list[prod_list['상품명']==prod])\n",
    "    if length > 1:\n",
    "        print(prod,len(prod_list[prod_list['상품명']==prod]))"
   ]
  },
  {
   "cell_type": "code",
   "execution_count": null,
   "metadata": {
    "ExecuteTime": {
     "end_time": "2020-09-21T10:06:16.794807Z",
     "start_time": "2020-09-21T10:06:16.780234Z"
    },
    "scrolled": true
   },
   "outputs": [],
   "source": [
    "cloth_list = prod_list[prod_list['상품군']=='의류']['상품명'].unique()\n",
    "for word in cloth_list:\n",
    "        # The . symbol is used in place of ? symbol\n",
    "        if re.search('', word) : \n",
    "                print (word)"
   ]
  },
  {
   "cell_type": "code",
   "execution_count": null,
   "metadata": {
    "ExecuteTime": {
     "end_time": "2020-09-21T10:06:18.119432Z",
     "start_time": "2020-09-21T10:06:16.799036Z"
    }
   },
   "outputs": [],
   "source": [
    "sns.heatmap(data['train'].isnull(), cbar=True)\n",
    "plt.show()"
   ]
  },
  {
   "cell_type": "code",
   "execution_count": null,
   "metadata": {
    "ExecuteTime": {
     "end_time": "2020-09-21T10:06:19.047480Z",
     "start_time": "2020-09-21T10:06:18.121271Z"
    }
   },
   "outputs": [],
   "source": [
    "msno.matrix(data['train']);"
   ]
  },
  {
   "cell_type": "code",
   "execution_count": null,
   "metadata": {
    "ExecuteTime": {
     "end_time": "2020-09-21T10:06:19.803065Z",
     "start_time": "2020-09-21T10:06:19.063836Z"
    }
   },
   "outputs": [],
   "source": [
    "msno.bar(data['train']);"
   ]
  },
  {
   "cell_type": "code",
   "execution_count": null,
   "metadata": {
    "ExecuteTime": {
     "end_time": "2020-09-21T10:06:20.027577Z",
     "start_time": "2020-09-21T10:06:19.811169Z"
    }
   },
   "outputs": [],
   "source": [
    "prod_list = data['train'][['상품코드','상품명','상품군']].drop_duplicates()\n",
    "prod_list['상품군'].value_counts().plot(kind = 'bar', figsize=(14, 10));"
   ]
  },
  {
   "cell_type": "code",
   "execution_count": null,
   "metadata": {
    "ExecuteTime": {
     "end_time": "2020-09-21T10:06:20.038137Z",
     "start_time": "2020-09-21T10:06:20.029313Z"
    }
   },
   "outputs": [],
   "source": [
    "data['train']['상품군'].value_counts()"
   ]
  },
  {
   "cell_type": "code",
   "execution_count": null,
   "metadata": {
    "ExecuteTime": {
     "end_time": "2020-09-21T10:06:20.045349Z",
     "start_time": "2020-09-21T10:06:20.039921Z"
    }
   },
   "outputs": [],
   "source": [
    "prod_list['상품군'].value_counts()"
   ]
  },
  {
   "cell_type": "code",
   "execution_count": null,
   "metadata": {
    "ExecuteTime": {
     "end_time": "2020-09-21T10:06:20.265868Z",
     "start_time": "2020-09-21T10:06:20.047022Z"
    }
   },
   "outputs": [],
   "source": [
    "data['train']['상품군'].value_counts().plot(kind='bar', figsize=(14, 10));"
   ]
  },
  {
   "cell_type": "code",
   "execution_count": null,
   "metadata": {
    "ExecuteTime": {
     "end_time": "2020-09-21T10:06:20.693939Z",
     "start_time": "2020-09-21T10:06:20.268272Z"
    }
   },
   "outputs": [],
   "source": [
    "plt.rcParams[\"figure.figsize\"] = (14,10)\n",
    "sns.boxplot(x = '상품군', y = '취급액', data = data['train']);"
   ]
  },
  {
   "cell_type": "code",
   "execution_count": null,
   "metadata": {
    "ExecuteTime": {
     "end_time": "2020-09-21T10:06:21.122098Z",
     "start_time": "2020-09-21T10:06:20.695653Z"
    }
   },
   "outputs": [],
   "source": [
    "sns.boxplot(x = '상품군', y = '판매단가', data = data['train']);"
   ]
  },
  {
   "cell_type": "code",
   "execution_count": null,
   "metadata": {
    "ExecuteTime": {
     "end_time": "2020-09-21T10:06:21.377571Z",
     "start_time": "2020-09-21T10:06:21.124024Z"
    }
   },
   "outputs": [],
   "source": [
    "cat_outcome = data['train'][['상품군', '취급액']].groupby('상품군').mean()\n",
    "cat_outcome.sort_values(by=['취급액'], axis=0, ascending=False).plot(kind='bar', figsize=(14, 10))"
   ]
  },
  {
   "cell_type": "code",
   "execution_count": null,
   "metadata": {
    "ExecuteTime": {
     "end_time": "2020-09-21T10:06:21.611664Z",
     "start_time": "2020-09-21T10:06:21.379372Z"
    }
   },
   "outputs": [],
   "source": [
    "cat_duration = data['train'][['상품군', '노출(분)']].groupby('상품군').mean()\n",
    "cat_duration.sort_values(by=['노출(분)'], axis=0, ascending=False).plot(kind='bar', figsize=(14, 10))"
   ]
  },
  {
   "cell_type": "code",
   "execution_count": null,
   "metadata": {
    "ExecuteTime": {
     "end_time": "2020-09-21T10:06:21.617946Z",
     "start_time": "2020-09-21T10:06:21.613752Z"
    }
   },
   "outputs": [],
   "source": [
    "outcome2019 = data['train'].loc['2019',:]"
   ]
  },
  {
   "cell_type": "code",
   "execution_count": null,
   "metadata": {
    "ExecuteTime": {
     "end_time": "2020-09-21T10:06:21.849437Z",
     "start_time": "2020-09-21T10:06:21.620081Z"
    }
   },
   "outputs": [],
   "source": [
    "month_group = outcome2019.groupby('월').mean()\n",
    "month_group['취급액'].plot(kind='bar', figsize=(14, 10))\n",
    "plt.axhline(y = np.mean(month_group.취급액), color = 'red', ls = '--')"
   ]
  },
  {
   "cell_type": "code",
   "execution_count": null,
   "metadata": {
    "ExecuteTime": {
     "end_time": "2020-09-21T10:06:22.358670Z",
     "start_time": "2020-09-21T10:06:21.851216Z"
    }
   },
   "outputs": [],
   "source": [
    "day_group = outcome2019.groupby('일').sum()\n",
    "day_group['취급액'].plot(kind='bar', figsize=(14, 10))\n",
    "plt.axhline(y = np.mean(day_group.취급액), color = 'red', ls = '--')"
   ]
  },
  {
   "cell_type": "code",
   "execution_count": null,
   "metadata": {
    "ExecuteTime": {
     "end_time": "2020-09-21T10:06:22.622729Z",
     "start_time": "2020-09-21T10:06:22.360319Z"
    },
    "scrolled": false
   },
   "outputs": [],
   "source": [
    "hour_group = outcome2019.groupby('시').mean()\n",
    "hour_group['취급액'].plot(kind='bar', figsize=(14, 10))\n",
    "plt.axhline(y = np.mean(hour_group.취급액), color = 'red', ls = '--')"
   ]
  },
  {
   "cell_type": "code",
   "execution_count": null,
   "metadata": {
    "ExecuteTime": {
     "end_time": "2020-09-21T10:06:22.814551Z",
     "start_time": "2020-09-21T10:06:22.624639Z"
    }
   },
   "outputs": [],
   "source": [
    "weekday_group = outcome2019.groupby('요일').mean()\n",
    "weekday_group['취급액'].plot(kind='bar', figsize=(14, 10)) #0: Monday ~ 6: Sunday\n",
    "plt.axhline(y = np.mean(weekday_group.취급액), color = 'red', ls = '--')"
   ]
  },
  {
   "cell_type": "code",
   "execution_count": null,
   "metadata": {
    "ExecuteTime": {
     "end_time": "2020-09-21T10:06:23.394852Z",
     "start_time": "2020-09-21T10:06:22.816464Z"
    }
   },
   "outputs": [],
   "source": [
    "prod_group = outcome2019.groupby('상품명').mean()\n",
    "prod_group['판매단가'].sort_values(ascending=False)[:20].plot(kind='bar', figsize=(14, 10))"
   ]
  },
  {
   "cell_type": "code",
   "execution_count": null,
   "metadata": {
    "ExecuteTime": {
     "end_time": "2020-09-21T10:06:23.402828Z",
     "start_time": "2020-09-21T10:06:23.396692Z"
    }
   },
   "outputs": [],
   "source": [
    "prod_group['판매단가'].sort_values(ascending=False)[:20]"
   ]
  },
  {
   "cell_type": "code",
   "execution_count": null,
   "metadata": {
    "ExecuteTime": {
     "end_time": "2020-09-21T10:06:23.422011Z",
     "start_time": "2020-09-21T10:06:23.404511Z"
    }
   },
   "outputs": [],
   "source": [
    "quant_group = outcome2019.groupby('상품군').sum()\n",
    "quant_group"
   ]
  },
  {
   "cell_type": "markdown",
   "metadata": {},
   "source": [
    "### 시청률 데이터"
   ]
  },
  {
   "cell_type": "code",
   "execution_count": null,
   "metadata": {
    "ExecuteTime": {
     "end_time": "2020-09-21T10:06:23.438424Z",
     "start_time": "2020-09-21T10:06:23.423647Z"
    }
   },
   "outputs": [],
   "source": [
    "data['rating'].head()"
   ]
  },
  {
   "cell_type": "code",
   "execution_count": null,
   "metadata": {
    "ExecuteTime": {
     "end_time": "2020-09-21T10:06:23.454899Z",
     "start_time": "2020-09-21T10:06:23.439969Z"
    }
   },
   "outputs": [],
   "source": [
    "data['rating'].tail()"
   ]
  },
  {
   "cell_type": "code",
   "execution_count": null,
   "metadata": {
    "ExecuteTime": {
     "end_time": "2020-09-21T10:06:23.668963Z",
     "start_time": "2020-09-21T10:06:23.456568Z"
    }
   },
   "outputs": [],
   "source": [
    "tv_day = data['rating'].iloc[-1,1:]   #일 평균 시청률, length: 365\n",
    "tv_day = tv_day*100\n",
    "tv_day.plot()             #하반기에 높은 시청률을 보임."
   ]
  },
  {
   "cell_type": "code",
   "execution_count": null,
   "metadata": {
    "ExecuteTime": {
     "end_time": "2020-09-21T10:06:23.674745Z",
     "start_time": "2020-09-21T10:06:23.670777Z"
    }
   },
   "outputs": [],
   "source": [
    "tv_day.head()"
   ]
  },
  {
   "cell_type": "code",
   "execution_count": null,
   "metadata": {
    "ExecuteTime": {
     "end_time": "2020-09-21T10:06:23.880047Z",
     "start_time": "2020-09-21T10:06:23.676349Z"
    }
   },
   "outputs": [],
   "source": [
    "tv_min = data['rating'].iloc[:-1,-1]   #분당 시청률 02:00(0) ~ 01:59(1439), length: 1439\n",
    "tv_min = tv_min*100\n",
    "tv_min.plot()              #800(15시 경)에 시청률이 가장 높은 추이"
   ]
  },
  {
   "cell_type": "code",
   "execution_count": null,
   "metadata": {
    "ExecuteTime": {
     "end_time": "2020-09-21T10:06:23.896386Z",
     "start_time": "2020-09-21T10:06:23.881815Z"
    }
   },
   "outputs": [],
   "source": [
    "data['rating'].tail()"
   ]
  },
  {
   "cell_type": "code",
   "execution_count": null,
   "metadata": {
    "ExecuteTime": {
     "end_time": "2020-09-21T10:06:23.901120Z",
     "start_time": "2020-09-21T10:06:23.898073Z"
    }
   },
   "outputs": [],
   "source": [
    "data['rating'].shape"
   ]
  },
  {
   "cell_type": "markdown",
   "metadata": {},
   "source": [
    "----\n",
    "\n",
    "## Feature Engineering"
   ]
  },
  {
   "cell_type": "code",
   "execution_count": null,
   "metadata": {
    "ExecuteTime": {
     "end_time": "2020-09-21T10:06:23.905073Z",
     "start_time": "2020-09-21T10:06:23.902603Z"
    }
   },
   "outputs": [],
   "source": [
    "columns = [f'embed_{i}' for i in range(10)]"
   ]
  },
  {
   "cell_type": "code",
   "execution_count": null,
   "metadata": {
    "ExecuteTime": {
     "end_time": "2020-09-21T10:06:23.915345Z",
     "start_time": "2020-09-21T10:06:23.906655Z"
    }
   },
   "outputs": [],
   "source": [
    "_data_train = data['train'].loc[~(data['train']['상품군'].isin(['무형'])),:].copy()\n",
    "_data_test = data['test'].loc[~(data['test']['상품군'].isin(['무형'])),:].copy()"
   ]
  },
  {
   "cell_type": "code",
   "execution_count": null,
   "metadata": {
    "ExecuteTime": {
     "end_time": "2020-09-21T10:06:24.252445Z",
     "start_time": "2020-09-21T10:06:23.917171Z"
    }
   },
   "outputs": [],
   "source": [
    "data['train'] = pd.concat([_data_train, \n",
    "                           pd.DataFrame(xys, index=_data_train.index, columns=columns),\n",
    "                           pd.DataFrame(processed_tokens, index=_data_train.index)],axis=1)\n",
    "data['train']"
   ]
  },
  {
   "cell_type": "code",
   "execution_count": null,
   "metadata": {
    "ExecuteTime": {
     "end_time": "2020-09-21T10:06:24.299296Z",
     "start_time": "2020-09-21T10:06:24.254321Z"
    }
   },
   "outputs": [],
   "source": [
    "data['test'] = pd.concat([_data_test,\n",
    "                          pd.DataFrame(xys_test, index=_data_test.index, columns=columns),\n",
    "                         pd.DataFrame(processed_tokens_test, index=_data_test.index)],axis=1)\n",
    "data['test']"
   ]
  },
  {
   "cell_type": "markdown",
   "metadata": {},
   "source": [
    "## 네이버트랜드 결합 \n"
   ]
  },
  {
   "cell_type": "code",
   "execution_count": null,
   "metadata": {
    "ExecuteTime": {
     "end_time": "2020-09-21T10:06:24.518454Z",
     "start_time": "2020-09-21T10:06:24.301396Z"
    }
   },
   "outputs": [],
   "source": [
    "# 네이터 트랜드 가져오기 \n",
    "trend1 = pd.read_excel('./data/03_외부데이터/naver_group_1.xlsx',skiprows=[0,1,2,3,4,5])\n",
    "trend2 = pd.read_excel('./data/03_외부데이터/naver_group_2.xlsx',skiprows=[0,1,2,3,4,5])\n",
    "trend_criterion = pd.read_excel('./data/03_외부데이터/naver_criterion.xlsx',skiprows=[0,1,2,3,4,5]).drop('날짜.1',axis=1)\n",
    "\n",
    "# 트랜드df 만들기 \n",
    "drop_list = ['날짜.1','날짜.2','날짜.3','날짜.4','날짜']\n",
    "date = trend1['날짜']\n",
    "trend1 = trend1.drop(drop_list,axis=1)\n",
    "trend2 = trend2.drop(drop_list,axis=1)\n",
    "\n",
    "# 기준 만들기 \n",
    "cri1 = trend_criterion['농수산']/(trend_criterion['생활용품']+trend_criterion['농수산'])\n",
    "cri2 = trend_criterion['생활용품']/(trend_criterion['생활용품']+trend_criterion['농수산'])\n",
    "\n",
    "# scailing \n",
    "trend1 = trend1.apply(lambda x: x*cri1)\n",
    "trend2 = trend2.apply(lambda x: x*cri2)\n",
    "trend_df = pd.concat([trend1,trend2],axis=1)\n",
    "\n",
    "trend_df['날짜'] = date\n",
    "trend_df['날짜'] = pd.to_datetime(trend_df['날짜'])\n",
    "trend_df  = trend_df.set_index('날짜')"
   ]
  },
  {
   "cell_type": "code",
   "execution_count": null,
   "metadata": {
    "ExecuteTime": {
     "end_time": "2020-09-21T10:06:24.527155Z",
     "start_time": "2020-09-21T10:06:24.520417Z"
    }
   },
   "outputs": [],
   "source": [
    "# min-max\n",
    "\n",
    "mn_scaler = MinMaxScaler()\n",
    "scaled_X = mn_scaler.fit_transform(trend_df.values)\n",
    "\n",
    "trend_df_final = pd.DataFrame(scaled_X,\n",
    "                              columns=trend_df.columns,\n",
    "                              index=trend_df.index)\n",
    "\n",
    "# '미용'--> 이미용 '농수산물'--> 농수축 \n",
    "trend_df_final['침구'] = trend_df_final['가구']\n",
    "trend_df_final.columns = ['의류', '농수축', '속옷', '주방', '이미용', '가전', '생활용품', '건강기능', '잡화', '가구', '침구']"
   ]
  },
  {
   "cell_type": "code",
   "execution_count": null,
   "metadata": {
    "ExecuteTime": {
     "end_time": "2020-09-21T10:06:24.531632Z",
     "start_time": "2020-09-21T10:06:24.528949Z"
    }
   },
   "outputs": [],
   "source": [
    "def get_trend(idx, cat):\n",
    "    return trend_df_final.loc[idx.strftime('%Y-%m-%d'), cat]"
   ]
  },
  {
   "cell_type": "code",
   "execution_count": null,
   "metadata": {
    "ExecuteTime": {
     "end_time": "2020-09-21T10:06:37.854646Z",
     "start_time": "2020-09-21T10:06:24.533530Z"
    }
   },
   "outputs": [],
   "source": [
    "data['train']['naver_trend'] = list(map(get_trend, data['train'].index, data['train'].상품군))\n",
    "data['test']['naver_trend'] = list(map(get_trend, data['test'].index, data['test'].상품군))"
   ]
  },
  {
   "cell_type": "markdown",
   "metadata": {},
   "source": [
    "### 상품군, 상품명 처리하기"
   ]
  },
  {
   "cell_type": "code",
   "execution_count": null,
   "metadata": {
    "ExecuteTime": {
     "end_time": "2020-09-21T10:06:37.866264Z",
     "start_time": "2020-09-21T10:06:37.856251Z"
    }
   },
   "outputs": [],
   "source": [
    "le1 = LabelEncoder()\n",
    "le1.fit(pd.concat([data['train']['상품군'], data['test']['상품군']]))\n",
    "data['train']['상품군'] = le1.transform(data['train']['상품군'])\n",
    "data['test']['상품군'] = le1.transform(data['test']['상품군'])"
   ]
  },
  {
   "cell_type": "code",
   "execution_count": null,
   "metadata": {
    "ExecuteTime": {
     "end_time": "2020-09-21T10:06:37.880898Z",
     "start_time": "2020-09-21T10:06:37.868053Z"
    }
   },
   "outputs": [],
   "source": [
    "le2 = LabelEncoder()\n",
    "le2.fit(pd.concat([data['train']['상품명'], data['test']['상품명']]))\n",
    "data['train']['상품명'] = le2.transform(data['train']['상품명'])\n",
    "data['test']['상품명'] = le2.transform(data['test']['상품명'])"
   ]
  },
  {
   "cell_type": "code",
   "execution_count": null,
   "metadata": {
    "ExecuteTime": {
     "end_time": "2020-09-21T10:07:58.532081Z",
     "start_time": "2020-09-21T10:07:58.502966Z"
    }
   },
   "outputs": [],
   "source": [
    "###Importing TV Data\n",
    "#MBC\n",
    "MBC_time = pd.read_excel('./data/03_외부데이터/TV_Time.xlsx', sheet_name='MBC')\n",
    "MBC_time['Time'] = MBC_time['MBC']\n",
    "MBC_time = MBC_time.drop(['MBC'], axis=1).set_index('Time')\n",
    "\n",
    "#JTBC\n",
    "JTBC_time =pd.read_excel('./data/03_외부데이터/TV_Time.xlsx', sheet_name='JTBC')\n",
    "JTBC_time['Time'] = JTBC_time['JTBC']\n",
    "JTBC_time = JTBC_time.drop(['JTBC'], axis=1).set_index('Time')"
   ]
  },
  {
   "cell_type": "markdown",
   "metadata": {},
   "source": [
    "### Common Function"
   ]
  },
  {
   "cell_type": "code",
   "execution_count": null,
   "metadata": {
    "ExecuteTime": {
     "end_time": "2020-09-21T10:08:36.715492Z",
     "start_time": "2020-09-21T10:08:36.711827Z"
    }
   },
   "outputs": [],
   "source": [
    "#시간 설정\n",
    "def get_time(df): #df: outcome, test\n",
    "    df['시각'] = df.방송일시.map(lambda x: x.hour)\n",
    "    df['분'] = df.방송일시.map(lambda x: x.minute)\n",
    "    df['월'] = df.방송일시.map(lambda x: x.month)\n",
    "    df['일'] = df.방송일시.map(lambda x: x.day)\n",
    "    df['요일'] = df.방송일시.map(lambda x: calendar.day_abbr[x.weekday()])\n",
    "    return df"
   ]
  },
  {
   "cell_type": "code",
   "execution_count": null,
   "metadata": {
    "ExecuteTime": {
     "end_time": "2020-09-21T10:09:16.751623Z",
     "start_time": "2020-09-21T10:09:16.743323Z"
    }
   },
   "outputs": [],
   "source": [
    "# TimeTable에서 Zapping Time 찾기\n",
    "def find_Zap(str):  #str: 'MBC' or 'JTBC'\n",
    "    global time_list\n",
    "    if str == 'MBC':\n",
    "        time_list = MBC_time\n",
    "    elif str == 'JTBC':\n",
    "        time_list = JTBC_time\n",
    "    else:\n",
    "        return pd.DataFrame()\n",
    "    \n",
    "    Zap_Time = []\n",
    "    Zap_Weekday = []\n",
    "    for j in range(len(time_list.columns)):\n",
    "        for i in range(len(time_list)):\n",
    "            Target = time_list.iloc[i,j]\n",
    "            if (Target is not np.nan):\n",
    "                if (i != 0) & (i != len(time_list)-1):\n",
    "                    if (time_list.iloc[i-1,j] !=Target):\n",
    "                        Zap_Time.append(time_list.index[i])\n",
    "                        Zap_Weekday.append(time_list.columns[j])\n",
    "                    if (time_list.iloc[i+1,j] !=Target):\n",
    "                        Zap_Time.append(time_list.index[i])\n",
    "                        Zap_Weekday.append(time_list.columns[j])                    \n",
    "                elif i == 0:\n",
    "                    if (time_list.iloc[i+1,j] !=Target):\n",
    "                        Zap_Time.append(time_list.index[i])\n",
    "                        Zap_Weekday.append(time_list.columns[j])                    \n",
    "                elif i == len(time_list)-1:\n",
    "                    if j == 6:\n",
    "                        break\n",
    "                    if (time_list.iloc[0,j+1] !=Target):\n",
    "                        Zap_Time.append(time_list.index[i])\n",
    "                        Zap_Weekday.append(time_list.columns[j])\n",
    "    _Zap = pd.DataFrame({'weekday':Zap_Weekday, 'Time': Zap_Time})\n",
    "\n",
    "    _Zap['hour'] = _Zap.Time.map(lambda x: x.hour)\n",
    "    _Zap['minute'] = _Zap.Time.map(lambda x: x.minute)\n",
    "    return _Zap"
   ]
  },
  {
   "cell_type": "code",
   "execution_count": null,
   "metadata": {
    "ExecuteTime": {
     "end_time": "2020-09-21T10:09:54.772957Z",
     "start_time": "2020-09-21T10:09:54.691238Z"
    }
   },
   "outputs": [],
   "source": [
    "# 식별식 만들기 (loop 방지)\n",
    "df_MBC = find_Zap('MBC')\n",
    "MBC_clf = []\n",
    "for i in tqdm(range(len(df_MBC))):\n",
    "    MBC_clf.append(df_MBC['weekday'][i] +\n",
    "                   str(df_MBC['hour'][i]) + str(df_MBC['minute'][i]))\n",
    "\n",
    "df_JTBC = find_Zap('JTBC')\n",
    "JTBC_clf = []\n",
    "for i in tqdm(range(len(df_JTBC))):\n",
    "    JTBC_clf.append(df_JTBC['weekday'][i] +\n",
    "                    str(df_JTBC['hour'][i]) + str(df_JTBC['minute'][i]))"
   ]
  },
  {
   "cell_type": "code",
   "execution_count": null,
   "metadata": {
    "ExecuteTime": {
     "end_time": "2020-09-21T10:10:30.421384Z",
     "start_time": "2020-09-21T10:10:30.416901Z"
    }
   },
   "outputs": [],
   "source": [
    "#Tokenized Data\n",
    "def Making_token(raw_data, df_token):\n",
    "    #raw_data = pd.concat([raw_data, df_token],axis=1,ignore_index=True)\n",
    "    tot_token_list = []\n",
    "    for i in range(len(raw_data)):\n",
    "        token = []\n",
    "        for colname in df_token.columns:\n",
    "            val = raw_data[colname].iloc[i]\n",
    "            if val is not None:\n",
    "                token.append(val)\n",
    "        tot_token_list.append(token)\n",
    "    raw_data['token_list'] = tot_token_list\n",
    "    return raw_data"
   ]
  },
  {
   "cell_type": "code",
   "execution_count": null,
   "metadata": {
    "ExecuteTime": {
     "end_time": "2020-09-21T10:11:12.064827Z",
     "start_time": "2020-09-21T10:11:12.057808Z"
    },
    "scrolled": true
   },
   "outputs": [],
   "source": [
    "def Insert_sex_dummy(df_with_token):  #tokenized dummy\n",
    "    if 'token_list' not in df_with_token.columns:\n",
    "        print('토큰 리스트를 만들어오세요.')\n",
    "        return\n",
    "    sex_list = []\n",
    "    for i in range(len(df_with_token)):\n",
    "        if ('남성' in df_with_token['token_list'].iloc[i]) or ('남성용' in df_with_token['token_list'].iloc[i]) or ('남자' in df_with_token['token_list'].iloc[i]):\n",
    "            sex_list.append('남성')\n",
    "        elif ('여성' in df_with_token['token_list'].iloc[i]) or ('여성용' in df_with_token['token_list'].iloc[i]) or ('여자' in df_with_token['token_list'].iloc[i]):\n",
    "            sex_list.append('여성')\n",
    "        else:\n",
    "            sex_list.append('무성')\n",
    "    sex_dummies = pd.get_dummies(sex_list)\n",
    "    sex_dummies = pd.DataFrame(sex_dummies[['남성','여성']].values, index=df_with_token.index, columns=['남성','여성'])\n",
    "    df_with_token = pd.concat([df_with_token, sex_dummies[['남성','여성']]],axis=1)\n",
    "    return df_with_token"
   ]
  },
  {
   "cell_type": "code",
   "execution_count": null,
   "metadata": {
    "ExecuteTime": {
     "end_time": "2020-09-21T10:11:50.654651Z",
     "start_time": "2020-09-21T10:11:50.649461Z"
    }
   },
   "outputs": [],
   "source": [
    "def Insert_credit_dummy(df_with_token):\n",
    "    if 'token_list' not in df_with_token.columns:\n",
    "        print('토큰 리스트를 만들어오세요.')\n",
    "        return    \n",
    "    credit_list = []\n",
    "    for i in range(len(df_with_token)):\n",
    "        if ('일시불' in df_with_token['token_list'].iloc[i]) or ('일' in df_with_token['token_list'].iloc[i]):        \n",
    "            credit_list.append('일시불')\n",
    "        elif ('무이자' in df_with_token['token_list'].iloc[i]) or ('무' in df_with_token['token_list'].iloc[i]):\n",
    "            credit_list.append('무이자')\n",
    "        else:\n",
    "            credit_list.append('없음')\n",
    "    credit_list = pd.get_dummies(credit_list)\n",
    "    credit_list = pd.DataFrame(credit_list[['일시불', '무이자']].values, index=df_with_token.index, columns=['일시불', '무이자'])\n",
    "    df_with_token = pd.concat([df_with_token,credit_list[['일시불','무이자']]],axis=1)\n",
    "    return df_with_token"
   ]
  },
  {
   "cell_type": "code",
   "execution_count": null,
   "metadata": {
    "ExecuteTime": {
     "end_time": "2020-09-21T10:12:34.046928Z",
     "start_time": "2020-09-21T10:12:34.040667Z"
    }
   },
   "outputs": [],
   "source": [
    "def Insert_holiday_dummy(df, data='train'): \n",
    "    '''\n",
    "    data(str): 'train' or 'test'\n",
    "    '''\n",
    "    global holiday\n",
    "    \n",
    "    if data == 'train':\n",
    "        #2019.01.01 ~ 2020.01.01\n",
    "        holiday = ['1/1','2/4','2/5','2/6','3/1','5/6','6/6','8/15','9/12','9/13','10/3','10/9','12/25']\n",
    "    else:\n",
    "        #2020.06.01 ~ 2020.07.01\n",
    "        holiday = []\n",
    "    \n",
    "    holi_list = np.zeros(len(df))    \n",
    "    for i in range(len(df)):\n",
    "        day = str(df.iloc[i].월)+'/'+str(df.iloc[i].일)\n",
    "        weekday = df.iloc[i].요일\n",
    "        if (weekday in ['Sat', 'Sun']) or (day in holiday):\n",
    "#            print('{} is holiday!'.format(day))\n",
    "            holi_list[i] = True\n",
    "        else:\n",
    "            holi_list[i] = False\n",
    "    df['휴일'] = holi_list\n",
    "    return df"
   ]
  },
  {
   "cell_type": "code",
   "execution_count": null,
   "metadata": {
    "ExecuteTime": {
     "end_time": "2020-09-21T10:13:17.951103Z",
     "start_time": "2020-09-21T10:13:17.947212Z"
    }
   },
   "outputs": [],
   "source": [
    "def Insert_zapping(df):\n",
    "    MBC_zap_list = np.zeros(len(df))\n",
    "    JTBC_zap_list = np.zeros(len(df))\n",
    "    for i in range(len(df)):\n",
    "        #MBC\n",
    "        Zap_encoding = df.iloc[i].요일 + str(df.iloc[i].시) + str(df.iloc[i].분)\n",
    "        if Zap_encoding in MBC_clf:\n",
    "            MBC_zap_list[i] = True\n",
    "        if Zap_encoding in JTBC_clf:\n",
    "            JTBC_zap_list[i] = True\n",
    "    df['MBC_Zapping'] = MBC_zap_list\n",
    "    df['JTBC_Zapping'] = JTBC_zap_list\n",
    "    return df"
   ]
  },
  {
   "cell_type": "code",
   "execution_count": null,
   "metadata": {
    "ExecuteTime": {
     "end_time": "2020-09-21T10:13:26.123197Z",
     "start_time": "2020-09-21T10:08:07.228Z"
    }
   },
   "outputs": [],
   "source": [
    "# CPI = pd.read_csv('CPI(2019년~2020년).csv',encoding = 'CP949')\n",
    "# CPI['menu'] = CPI['지출목적별']\n",
    "# CPI = CPI.drop(['지출목적별'],axis = 1).set_index('menu')\n",
    "# CPI\n",
    "\n",
    "# from datetime import datetime\n",
    "# CPI_list = np.zeros(len(outcome))\n",
    "    \n",
    "\n",
    "# %%time\n",
    "# for i in range(len(outcome)):\n",
    "#     for idx in CPI.index:\n",
    "#         if idx in outcome['token_list'].iloc[i]:\n",
    "#             date = outcome.index[i].strftime('%Y. %m')\n",
    "#             CPI_num = CPI.loc[idx,date]\n",
    "#             CPI_list[i] = CPI_num\n",
    "\n",
    "\n",
    "\n",
    "# outcome[outcome['CPI']==0][['상품명','token_list']].drop_duplicates('상품명').shape\n",
    "\n",
    "# outcome[outcome['CPI']>0][['상품명','token_list']].drop_duplicates('상품명').head(40)"
   ]
  },
  {
   "cell_type": "markdown",
   "metadata": {},
   "source": [
    "### Train Preprocessing"
   ]
  },
  {
   "cell_type": "code",
   "execution_count": null,
   "metadata": {
    "ExecuteTime": {
     "end_time": "2020-09-21T10:13:26.132724Z",
     "start_time": "2020-09-21T10:08:07.563Z"
    }
   },
   "outputs": [],
   "source": [
    "%%time\n",
    "outcome = data['train'].copy()\n",
    "\n",
    "#Tokenize\n",
    "outcome = Making_token(outcome, pd.DataFrame(processed_tokens, index=_data_train.index))\n",
    "\n",
    "#Gender dummy\n",
    "outcome = Insert_sex_dummy(outcome)\n",
    "\n",
    "#Credit dummy\n",
    "outcome = Insert_credit_dummy(outcome)\n",
    "\n",
    "#Holiday dummy\n",
    "outcome = Insert_holiday_dummy(outcome)\n",
    "\n",
    "#Zapping Time\n",
    "outcome = Insert_zapping(outcome)"
   ]
  },
  {
   "cell_type": "code",
   "execution_count": null,
   "metadata": {
    "ExecuteTime": {
     "end_time": "2020-09-21T10:13:26.142236Z",
     "start_time": "2020-09-21T10:08:08.207Z"
    }
   },
   "outputs": [],
   "source": [
    "data['train'] = outcome"
   ]
  },
  {
   "cell_type": "markdown",
   "metadata": {},
   "source": [
    "### Test Preprocessing"
   ]
  },
  {
   "cell_type": "code",
   "execution_count": null,
   "metadata": {
    "ExecuteTime": {
     "end_time": "2020-09-21T10:13:26.161962Z",
     "start_time": "2020-09-21T10:08:08.967Z"
    }
   },
   "outputs": [],
   "source": [
    "%%time\n",
    "test = data['test'].copy()\n",
    "\n",
    "#Tokenize\n",
    "test = Making_token(test, pd.DataFrame(processed_tokens_test, index=_data_test.index))\n",
    "\n",
    "#Gender dummy\n",
    "test = Insert_sex_dummy(test)\n",
    "\n",
    "#Credit dummy\n",
    "test = Insert_credit_dummy(test)\n",
    "\n",
    "#Holiday dummy\n",
    "test = Insert_holiday_dummy(test,'test')\n",
    "\n",
    "#Zapping Time\n",
    "test = Insert_zapping(test)"
   ]
  },
  {
   "cell_type": "code",
   "execution_count": null,
   "metadata": {
    "ExecuteTime": {
     "end_time": "2020-09-21T10:13:26.170674Z",
     "start_time": "2020-09-21T10:08:09.139Z"
    },
    "scrolled": true
   },
   "outputs": [],
   "source": [
    "data['test'] = test"
   ]
  },
  {
   "cell_type": "markdown",
   "metadata": {},
   "source": [
    "---\n",
    "\n",
    "## Feature Selection"
   ]
  },
  {
   "cell_type": "code",
   "execution_count": null,
   "metadata": {
    "ExecuteTime": {
     "end_time": "2020-09-21T10:13:26.180086Z",
     "start_time": "2020-09-21T10:08:09.507Z"
    }
   },
   "outputs": [],
   "source": [
    "data['train'].columns"
   ]
  },
  {
   "cell_type": "code",
   "execution_count": null,
   "metadata": {
    "ExecuteTime": {
     "end_time": "2020-09-21T10:13:26.188271Z",
     "start_time": "2020-09-21T10:08:09.687Z"
    }
   },
   "outputs": [],
   "source": [
    "data['train'].isnull().sum()"
   ]
  },
  {
   "cell_type": "code",
   "execution_count": null,
   "metadata": {
    "ExecuteTime": {
     "end_time": "2020-09-21T10:13:26.198138Z",
     "start_time": "2020-09-21T10:08:10.335Z"
    }
   },
   "outputs": [],
   "source": [
    "data['train'].isna().sum()"
   ]
  },
  {
   "cell_type": "code",
   "execution_count": null,
   "metadata": {
    "ExecuteTime": {
     "end_time": "2020-09-21T10:13:26.207014Z",
     "start_time": "2020-09-21T10:08:10.493Z"
    }
   },
   "outputs": [],
   "source": [
    "data['train'].info()"
   ]
  },
  {
   "cell_type": "code",
   "execution_count": null,
   "metadata": {
    "ExecuteTime": {
     "end_time": "2020-09-21T10:17:55.750747Z",
     "start_time": "2020-09-21T10:17:55.747487Z"
    }
   },
   "outputs": [],
   "source": [
    "selected_features = ['노출(분)',         '마더코드',         '상품코드',          '상품명',\n",
    "                '상품군',         '판매단가',          '취급액',            '연',\n",
    "                  '월',            '일',            '시',            '분',\n",
    "                 '요일',      'embed_0',      'embed_1',      'embed_2',\n",
    "            'embed_3',      'embed_4',      'embed_5',      'embed_6',\n",
    "            'embed_7',      'embed_8',      'embed_9', \n",
    "                 '남성',           '여성',          '일시불',          '무이자',\n",
    "                 '휴일',  'MBC_Zapping', 'JTBC_Zapping', 'naver_trend']"
   ]
  },
  {
   "cell_type": "code",
   "execution_count": null,
   "metadata": {
    "ExecuteTime": {
     "end_time": "2020-09-21T10:17:56.442363Z",
     "start_time": "2020-09-21T10:17:56.408636Z"
    }
   },
   "outputs": [],
   "source": [
    "data['train'][selected_features]"
   ]
  },
  {
   "cell_type": "code",
   "execution_count": null,
   "metadata": {
    "ExecuteTime": {
     "end_time": "2020-09-21T10:13:26.231971Z",
     "start_time": "2020-09-21T10:08:10.967Z"
    }
   },
   "outputs": [],
   "source": [
    "data['test'][selected_features]"
   ]
  },
  {
   "cell_type": "code",
   "execution_count": null,
   "metadata": {
    "ExecuteTime": {
     "end_time": "2020-09-21T10:13:26.240077Z",
     "start_time": "2020-09-21T10:08:11.127Z"
    }
   },
   "outputs": [],
   "source": [
    "data['train'].to_csv('train_final.csv', index=False)\n",
    "data['test'].to_csv('test_final.csv', index=False)"
   ]
  },
  {
   "cell_type": "markdown",
   "metadata": {},
   "source": [
    "---\n",
    "\n",
    "## Modeling"
   ]
  },
  {
   "cell_type": "code",
   "execution_count": 4,
   "metadata": {
    "ExecuteTime": {
     "end_time": "2020-09-22T01:53:28.331844Z",
     "start_time": "2020-09-22T01:53:28.320874Z"
    }
   },
   "outputs": [],
   "source": [
    "selected_features = ['노출(분)',         '마더코드',         '상품코드',\n",
    "                '상품군',         '판매단가',          '취급액', \n",
    "                  '월',            '일',            '시',            '분',\n",
    "                 '요일',      'embed_0',      'embed_1',      'embed_2',\n",
    "            'embed_3',      'embed_4',      'embed_5',      'embed_6',\n",
    "            'embed_7',      'embed_8',      'embed_9', \n",
    "                 '남성',           '여성',          '일시불',          '무이자',\n",
    "                 '휴일',  'MBC_Zapping', 'JTBC_Zapping', 'naver_trend']"
   ]
  },
  {
   "cell_type": "code",
   "execution_count": 5,
   "metadata": {
    "ExecuteTime": {
     "end_time": "2020-09-22T01:53:28.721228Z",
     "start_time": "2020-09-22T01:53:28.527467Z"
    }
   },
   "outputs": [],
   "source": [
    "data = {}\n",
    "data['train'] = pd.read_csv('./train_final.csv')[selected_features]\n",
    "data['test'] = pd.read_csv('./test_final.csv')[selected_features]"
   ]
  },
  {
   "cell_type": "code",
   "execution_count": 6,
   "metadata": {
    "ExecuteTime": {
     "end_time": "2020-09-22T01:53:29.485474Z",
     "start_time": "2020-09-22T01:53:28.992890Z"
    },
    "scrolled": false
   },
   "outputs": [
    {
     "data": {
      "image/png": "[encoded data removed]",
      "text/plain": [
       "<Figure size 1080x1080 with 2 Axes>"
      ]
     },
     "metadata": {
      "needs_background": "light"
     },
     "output_type": "display_data"
    }
   ],
   "source": [
    "plt.figure(figsize=(15,15))\n",
    "sns.heatmap(data['train'].corr(), cmap=plt.cm.rainbow)\n",
    "plt.show()"
   ]
  },
  {
   "cell_type": "code",
   "execution_count": 7,
   "metadata": {
    "ExecuteTime": {
     "end_time": "2020-09-22T01:53:29.830710Z",
     "start_time": "2020-09-22T01:53:29.816748Z"
    }
   },
   "outputs": [],
   "source": [
    "le = LabelEncoder()\n",
    "le.fit(data['train']['요일'])\n",
    "data['train']['요일'] = le.transform(data['train']['요일'])\n",
    "data['test']['요일'] = le.transform(data['test']['요일'])"
   ]
  },
  {
   "cell_type": "code",
   "execution_count": 8,
   "metadata": {
    "ExecuteTime": {
     "end_time": "2020-09-22T01:53:30.115355Z",
     "start_time": "2020-09-22T01:53:30.101391Z"
    }
   },
   "outputs": [],
   "source": [
    "data['train'] = pd.concat([data['train'].drop('상품군',axis=1),\n",
    "                           pd.get_dummies(data['train']['상품군'], prefix='상품군')],\n",
    "                          axis=1)"
   ]
  },
  {
   "cell_type": "code",
   "execution_count": 9,
   "metadata": {
    "ExecuteTime": {
     "end_time": "2020-09-22T01:53:30.445046Z",
     "start_time": "2020-09-22T01:53:30.419115Z"
    }
   },
   "outputs": [],
   "source": [
    "data['train'] = pd.concat([data['train'].drop('요일',axis=1),\n",
    "                           pd.get_dummies(data['train']['요일'], prefix='요일')],\n",
    "                          axis=1)"
   ]
  },
  {
   "cell_type": "code",
   "execution_count": 10,
   "metadata": {
    "ExecuteTime": {
     "end_time": "2020-09-22T01:53:30.775599Z",
     "start_time": "2020-09-22T01:53:30.746649Z"
    }
   },
   "outputs": [
    {
     "data": {
      "text/html": [
       "<div>\n",
       "<style scoped>\n",
       "    .dataframe tbody tr th:only-of-type {\n",
       "        vertical-align: middle;\n",
       "    }\n",
       "\n",
       "    .dataframe tbody tr th {\n",
       "        vertical-align: top;\n",
       "    }\n",
       "\n",
       "    .dataframe thead th {\n",
       "        text-align: right;\n",
       "    }\n",
       "</style>\n",
       "<table border=\"1\" class=\"dataframe\">\n",
       "  <thead>\n",
       "    <tr style=\"text-align: right;\">\n",
       "      <th></th>\n",
       "      <th>노출(분)</th>\n",
       "      <th>마더코드</th>\n",
       "      <th>상품코드</th>\n",
       "      <th>판매단가</th>\n",
       "      <th>취급액</th>\n",
       "      <th>월</th>\n",
       "      <th>일</th>\n",
       "      <th>시</th>\n",
       "      <th>분</th>\n",
       "      <th>embed_0</th>\n",
       "      <th>...</th>\n",
       "      <th>상품군_8</th>\n",
       "      <th>상품군_9</th>\n",
       "      <th>상품군_10</th>\n",
       "      <th>요일_0</th>\n",
       "      <th>요일_1</th>\n",
       "      <th>요일_2</th>\n",
       "      <th>요일_3</th>\n",
       "      <th>요일_4</th>\n",
       "      <th>요일_5</th>\n",
       "      <th>요일_6</th>\n",
       "    </tr>\n",
       "  </thead>\n",
       "  <tbody>\n",
       "    <tr>\n",
       "      <th>0</th>\n",
       "      <td>20.0000</td>\n",
       "      <td>100346</td>\n",
       "      <td>201072</td>\n",
       "      <td>39900</td>\n",
       "      <td>2099000.0000</td>\n",
       "      <td>1</td>\n",
       "      <td>1</td>\n",
       "      <td>6</td>\n",
       "      <td>0</td>\n",
       "      <td>-11.8711</td>\n",
       "      <td>...</td>\n",
       "      <td>0</td>\n",
       "      <td>0</td>\n",
       "      <td>0</td>\n",
       "      <td>0</td>\n",
       "      <td>0</td>\n",
       "      <td>0</td>\n",
       "      <td>0</td>\n",
       "      <td>0</td>\n",
       "      <td>1</td>\n",
       "      <td>0</td>\n",
       "    </tr>\n",
       "    <tr>\n",
       "      <th>1</th>\n",
       "      <td>20.0000</td>\n",
       "      <td>100346</td>\n",
       "      <td>201079</td>\n",
       "      <td>39900</td>\n",
       "      <td>4371000.0000</td>\n",
       "      <td>1</td>\n",
       "      <td>1</td>\n",
       "      <td>6</td>\n",
       "      <td>0</td>\n",
       "      <td>-12.2017</td>\n",
       "      <td>...</td>\n",
       "      <td>0</td>\n",
       "      <td>0</td>\n",
       "      <td>0</td>\n",
       "      <td>0</td>\n",
       "      <td>0</td>\n",
       "      <td>0</td>\n",
       "      <td>0</td>\n",
       "      <td>0</td>\n",
       "      <td>1</td>\n",
       "      <td>0</td>\n",
       "    </tr>\n",
       "    <tr>\n",
       "      <th>2</th>\n",
       "      <td>20.0000</td>\n",
       "      <td>100346</td>\n",
       "      <td>201072</td>\n",
       "      <td>39900</td>\n",
       "      <td>3262000.0000</td>\n",
       "      <td>1</td>\n",
       "      <td>1</td>\n",
       "      <td>6</td>\n",
       "      <td>20</td>\n",
       "      <td>-11.8711</td>\n",
       "      <td>...</td>\n",
       "      <td>0</td>\n",
       "      <td>0</td>\n",
       "      <td>0</td>\n",
       "      <td>0</td>\n",
       "      <td>0</td>\n",
       "      <td>0</td>\n",
       "      <td>0</td>\n",
       "      <td>0</td>\n",
       "      <td>1</td>\n",
       "      <td>0</td>\n",
       "    </tr>\n",
       "    <tr>\n",
       "      <th>3</th>\n",
       "      <td>20.0000</td>\n",
       "      <td>100346</td>\n",
       "      <td>201079</td>\n",
       "      <td>39900</td>\n",
       "      <td>6955000.0000</td>\n",
       "      <td>1</td>\n",
       "      <td>1</td>\n",
       "      <td>6</td>\n",
       "      <td>20</td>\n",
       "      <td>-12.2017</td>\n",
       "      <td>...</td>\n",
       "      <td>0</td>\n",
       "      <td>0</td>\n",
       "      <td>0</td>\n",
       "      <td>0</td>\n",
       "      <td>0</td>\n",
       "      <td>0</td>\n",
       "      <td>0</td>\n",
       "      <td>0</td>\n",
       "      <td>1</td>\n",
       "      <td>0</td>\n",
       "    </tr>\n",
       "    <tr>\n",
       "      <th>4</th>\n",
       "      <td>20.0000</td>\n",
       "      <td>100346</td>\n",
       "      <td>201072</td>\n",
       "      <td>39900</td>\n",
       "      <td>6672000.0000</td>\n",
       "      <td>1</td>\n",
       "      <td>1</td>\n",
       "      <td>6</td>\n",
       "      <td>40</td>\n",
       "      <td>-11.8711</td>\n",
       "      <td>...</td>\n",
       "      <td>0</td>\n",
       "      <td>0</td>\n",
       "      <td>0</td>\n",
       "      <td>0</td>\n",
       "      <td>0</td>\n",
       "      <td>0</td>\n",
       "      <td>0</td>\n",
       "      <td>0</td>\n",
       "      <td>1</td>\n",
       "      <td>0</td>\n",
       "    </tr>\n",
       "    <tr>\n",
       "      <th>...</th>\n",
       "      <td>...</td>\n",
       "      <td>...</td>\n",
       "      <td>...</td>\n",
       "      <td>...</td>\n",
       "      <td>...</td>\n",
       "      <td>...</td>\n",
       "      <td>...</td>\n",
       "      <td>...</td>\n",
       "      <td>...</td>\n",
       "      <td>...</td>\n",
       "      <td>...</td>\n",
       "      <td>...</td>\n",
       "      <td>...</td>\n",
       "      <td>...</td>\n",
       "      <td>...</td>\n",
       "      <td>...</td>\n",
       "      <td>...</td>\n",
       "      <td>...</td>\n",
       "      <td>...</td>\n",
       "      <td>...</td>\n",
       "      <td>...</td>\n",
       "    </tr>\n",
       "    <tr>\n",
       "      <th>37363</th>\n",
       "      <td>20.0000</td>\n",
       "      <td>100448</td>\n",
       "      <td>201391</td>\n",
       "      <td>148000</td>\n",
       "      <td>1664000.0000</td>\n",
       "      <td>12</td>\n",
       "      <td>31</td>\n",
       "      <td>23</td>\n",
       "      <td>20</td>\n",
       "      <td>9.0012</td>\n",
       "      <td>...</td>\n",
       "      <td>0</td>\n",
       "      <td>1</td>\n",
       "      <td>0</td>\n",
       "      <td>0</td>\n",
       "      <td>0</td>\n",
       "      <td>0</td>\n",
       "      <td>0</td>\n",
       "      <td>0</td>\n",
       "      <td>1</td>\n",
       "      <td>0</td>\n",
       "    </tr>\n",
       "    <tr>\n",
       "      <th>37364</th>\n",
       "      <td>20.0000</td>\n",
       "      <td>100448</td>\n",
       "      <td>201383</td>\n",
       "      <td>178000</td>\n",
       "      <td>9149000.0000</td>\n",
       "      <td>12</td>\n",
       "      <td>31</td>\n",
       "      <td>23</td>\n",
       "      <td>40</td>\n",
       "      <td>9.0941</td>\n",
       "      <td>...</td>\n",
       "      <td>0</td>\n",
       "      <td>1</td>\n",
       "      <td>0</td>\n",
       "      <td>0</td>\n",
       "      <td>0</td>\n",
       "      <td>0</td>\n",
       "      <td>0</td>\n",
       "      <td>0</td>\n",
       "      <td>1</td>\n",
       "      <td>0</td>\n",
       "    </tr>\n",
       "    <tr>\n",
       "      <th>37365</th>\n",
       "      <td>20.0000</td>\n",
       "      <td>100448</td>\n",
       "      <td>201390</td>\n",
       "      <td>168000</td>\n",
       "      <td>15282000.0000</td>\n",
       "      <td>12</td>\n",
       "      <td>31</td>\n",
       "      <td>23</td>\n",
       "      <td>40</td>\n",
       "      <td>9.0012</td>\n",
       "      <td>...</td>\n",
       "      <td>0</td>\n",
       "      <td>1</td>\n",
       "      <td>0</td>\n",
       "      <td>0</td>\n",
       "      <td>0</td>\n",
       "      <td>0</td>\n",
       "      <td>0</td>\n",
       "      <td>0</td>\n",
       "      <td>1</td>\n",
       "      <td>0</td>\n",
       "    </tr>\n",
       "    <tr>\n",
       "      <th>37366</th>\n",
       "      <td>20.0000</td>\n",
       "      <td>100448</td>\n",
       "      <td>201384</td>\n",
       "      <td>158000</td>\n",
       "      <td>2328000.0000</td>\n",
       "      <td>12</td>\n",
       "      <td>31</td>\n",
       "      <td>23</td>\n",
       "      <td>40</td>\n",
       "      <td>9.0941</td>\n",
       "      <td>...</td>\n",
       "      <td>0</td>\n",
       "      <td>1</td>\n",
       "      <td>0</td>\n",
       "      <td>0</td>\n",
       "      <td>0</td>\n",
       "      <td>0</td>\n",
       "      <td>0</td>\n",
       "      <td>0</td>\n",
       "      <td>1</td>\n",
       "      <td>0</td>\n",
       "    </tr>\n",
       "    <tr>\n",
       "      <th>37367</th>\n",
       "      <td>20.0000</td>\n",
       "      <td>100448</td>\n",
       "      <td>201391</td>\n",
       "      <td>148000</td>\n",
       "      <td>10157000.0000</td>\n",
       "      <td>12</td>\n",
       "      <td>31</td>\n",
       "      <td>23</td>\n",
       "      <td>40</td>\n",
       "      <td>9.0012</td>\n",
       "      <td>...</td>\n",
       "      <td>0</td>\n",
       "      <td>1</td>\n",
       "      <td>0</td>\n",
       "      <td>0</td>\n",
       "      <td>0</td>\n",
       "      <td>0</td>\n",
       "      <td>0</td>\n",
       "      <td>0</td>\n",
       "      <td>1</td>\n",
       "      <td>0</td>\n",
       "    </tr>\n",
       "  </tbody>\n",
       "</table>\n",
       "<p>37368 rows × 45 columns</p>\n",
       "</div>"
      ],
      "text/plain": [
       "        노출(분)    마더코드    상품코드    판매단가           취급액   월   일   시   분  embed_0  \\\n",
       "0     20.0000  100346  201072   39900  2099000.0000   1   1   6   0 -11.8711   \n",
       "1     20.0000  100346  201079   39900  4371000.0000   1   1   6   0 -12.2017   \n",
       "2     20.0000  100346  201072   39900  3262000.0000   1   1   6  20 -11.8711   \n",
       "3     20.0000  100346  201079   39900  6955000.0000   1   1   6  20 -12.2017   \n",
       "4     20.0000  100346  201072   39900  6672000.0000   1   1   6  40 -11.8711   \n",
       "...       ...     ...     ...     ...           ...  ..  ..  ..  ..      ...   \n",
       "37363 20.0000  100448  201391  148000  1664000.0000  12  31  23  20   9.0012   \n",
       "37364 20.0000  100448  201383  178000  9149000.0000  12  31  23  40   9.0941   \n",
       "37365 20.0000  100448  201390  168000 15282000.0000  12  31  23  40   9.0012   \n",
       "37366 20.0000  100448  201384  158000  2328000.0000  12  31  23  40   9.0941   \n",
       "37367 20.0000  100448  201391  148000 10157000.0000  12  31  23  40   9.0012   \n",
       "\n",
       "       ...  상품군_8  상품군_9  상품군_10  요일_0  요일_1  요일_2  요일_3  요일_4  요일_5  요일_6  \n",
       "0      ...      0      0       0     0     0     0     0     0     1     0  \n",
       "1      ...      0      0       0     0     0     0     0     0     1     0  \n",
       "2      ...      0      0       0     0     0     0     0     0     1     0  \n",
       "3      ...      0      0       0     0     0     0     0     0     1     0  \n",
       "4      ...      0      0       0     0     0     0     0     0     1     0  \n",
       "...    ...    ...    ...     ...   ...   ...   ...   ...   ...   ...   ...  \n",
       "37363  ...      0      1       0     0     0     0     0     0     1     0  \n",
       "37364  ...      0      1       0     0     0     0     0     0     1     0  \n",
       "37365  ...      0      1       0     0     0     0     0     0     1     0  \n",
       "37366  ...      0      1       0     0     0     0     0     0     1     0  \n",
       "37367  ...      0      1       0     0     0     0     0     0     1     0  \n",
       "\n",
       "[37368 rows x 45 columns]"
      ]
     },
     "execution_count": 10,
     "metadata": {},
     "output_type": "execute_result"
    }
   ],
   "source": [
    "data['train']"
   ]
  },
  {
   "cell_type": "code",
   "execution_count": 11,
   "metadata": {
    "ExecuteTime": {
     "end_time": "2020-09-22T01:53:31.060519Z",
     "start_time": "2020-09-22T01:53:31.046555Z"
    }
   },
   "outputs": [
    {
     "data": {
      "text/plain": [
       "Index(['노출(분)', '마더코드', '상품코드', '판매단가', '취급액', '월', '일', '시', '분', 'embed_0',\n",
       "       'embed_1', 'embed_2', 'embed_3', 'embed_4', 'embed_5', 'embed_6',\n",
       "       'embed_7', 'embed_8', 'embed_9', '남성', '여성', '일시불', '무이자', '휴일',\n",
       "       'MBC_Zapping', 'JTBC_Zapping', 'naver_trend', '상품군_0', '상품군_1', '상품군_2',\n",
       "       '상품군_3', '상품군_4', '상품군_5', '상품군_6', '상품군_7', '상품군_8', '상품군_9', '상품군_10',\n",
       "       '요일_0', '요일_1', '요일_2', '요일_3', '요일_4', '요일_5', '요일_6'],\n",
       "      dtype='object')"
      ]
     },
     "execution_count": 11,
     "metadata": {},
     "output_type": "execute_result"
    }
   ],
   "source": [
    "data['train'].columns"
   ]
  },
  {
   "cell_type": "markdown",
   "metadata": {},
   "source": [
    "### 학습 및 검증 데이터 분리하기"
   ]
  },
  {
   "cell_type": "code",
   "execution_count": 12,
   "metadata": {
    "ExecuteTime": {
     "end_time": "2020-09-22T01:53:31.375730Z",
     "start_time": "2020-09-22T01:53:31.347455Z"
    }
   },
   "outputs": [],
   "source": [
    "X_train, X_valid, y_train, y_valid = train_test_split(data['train'].drop('취급액', axis=1),\n",
    "                                                      data['train']['취급액'] / 10000000,\n",
    "                                                      shuffle=True,\n",
    "                                                      test_size=TEST_SIZE,\n",
    "                                                      random_state=RANDOM_STATE)"
   ]
  },
  {
   "cell_type": "code",
   "execution_count": 13,
   "metadata": {
    "ExecuteTime": {
     "end_time": "2020-09-22T01:53:31.841531Z",
     "start_time": "2020-09-22T01:53:31.829532Z"
    }
   },
   "outputs": [
    {
     "name": "stdout",
     "output_type": "stream",
     "text": [
      "학습 데이터: (29894, 44)\n",
      "검증 데이터: (7474, 44)\n"
     ]
    }
   ],
   "source": [
    "print(f'학습 데이터: {X_train.shape}')\n",
    "print(f'검증 데이터: {X_valid.shape}')"
   ]
  },
  {
   "cell_type": "markdown",
   "metadata": {},
   "source": [
    "### 모델 생성하기"
   ]
  },
  {
   "cell_type": "code",
   "execution_count": null,
   "metadata": {
    "ExecuteTime": {
     "end_time": "2020-09-22T01:00:33.967193Z",
     "start_time": "2020-09-22T01:00:33.950208Z"
    }
   },
   "outputs": [],
   "source": [
    "ml_models = {}"
   ]
  },
  {
   "cell_type": "code",
   "execution_count": null,
   "metadata": {
    "ExecuteTime": {
     "end_time": "2020-09-22T01:00:34.505752Z",
     "start_time": "2020-09-22T01:00:34.496745Z"
    }
   },
   "outputs": [],
   "source": [
    "ml_models['LinearRegression'] = LinearRegression()\n",
    "ml_models['DecisionTreeRegressor'] = DecisionTreeRegressor()\n",
    "ml_models['RandomForestRegressor'] = RandomForestRegressor()\n",
    "ml_models['XGBRegressor'] = XGBRegressor()\n",
    "# ml_models['LGBMRegressor'] = LGBMRegressor()"
   ]
  },
  {
   "cell_type": "code",
   "execution_count": null,
   "metadata": {
    "ExecuteTime": {
     "start_time": "2020-09-22T01:00:34.735Z"
    }
   },
   "outputs": [],
   "source": [
    "for n,(model_name, model) in enumerate(ml_models.items(),start=1):\n",
    "    print(f'[{n}] {model_name} 모델을 학습합니다.', end=' ')\n",
    "    model.fit(X_train, y_train)\n",
    "    print(f'--> 저장 완료')\n",
    "    ml_models[model_name] = model\n",
    "    print('-'*60)"
   ]
  },
  {
   "cell_type": "markdown",
   "metadata": {},
   "source": [
    "---\n",
    "\n",
    "## Testing\n",
    "\n",
    "### MAPE\n",
    "\n",
    "$$ MAPE = \\frac{100}{n} \\sum_{t=1}^{n}{|\\frac{A_t - F_t}{A_t}|} $$"
   ]
  },
  {
   "cell_type": "code",
   "execution_count": 14,
   "metadata": {
    "ExecuteTime": {
     "end_time": "2020-09-22T01:53:34.740478Z",
     "start_time": "2020-09-22T01:53:34.734465Z"
    }
   },
   "outputs": [],
   "source": [
    "# MAPE\n",
    "EPS = 1e-10\n",
    "def MAPE(y_true, y_pred): \n",
    "    y_true, y_pred = np.array(y_true), np.array(y_pred)\n",
    "    return np.mean(np.abs((y_true - y_pred) / (y_true + EPS)))"
   ]
  },
  {
   "cell_type": "code",
   "execution_count": null,
   "metadata": {
    "ExecuteTime": {
     "start_time": "2020-09-22T01:00:36.526Z"
    }
   },
   "outputs": [],
   "source": [
    "results_train = {}\n",
    "for n,(model_name, model) in enumerate(ml_models.items(),start=1):\n",
    "    y_pred = ml_models[model_name].predict(X_train)\n",
    "    result = MAPE(y_train, y_pred)\n",
    "    print(f'[{n}] {model_name:<30}의 MAPE 값: {result:<4.10f}')\n",
    "    results_train[model_name] = result\n",
    "    print('-'*60)"
   ]
  },
  {
   "cell_type": "code",
   "execution_count": null,
   "metadata": {
    "ExecuteTime": {
     "start_time": "2020-09-22T01:00:36.720Z"
    }
   },
   "outputs": [],
   "source": [
    "results_test = {}\n",
    "for n,(model_name, model) in enumerate(ml_models.items(),start=1):\n",
    "    y_pred = ml_models[model_name].predict(X_valid)\n",
    "    result = MAPE(y_valid, y_pred)\n",
    "    print(f'[{n}] {model_name:<30}의 MAPE 값: {result:<4.10f}')\n",
    "    results_test[model_name] = result\n",
    "    print('-'*60)"
   ]
  },
  {
   "cell_type": "code",
   "execution_count": null,
   "metadata": {
    "ExecuteTime": {
     "start_time": "2020-09-22T01:00:36.900Z"
    }
   },
   "outputs": [],
   "source": [
    "ml_models['DecisionTreeRegressor'].predict([X_train.iloc[0]])"
   ]
  },
  {
   "cell_type": "code",
   "execution_count": null,
   "metadata": {
    "ExecuteTime": {
     "start_time": "2020-09-22T01:00:37.377Z"
    }
   },
   "outputs": [],
   "source": [
    "y_train.iloc[0]"
   ]
  },
  {
   "cell_type": "code",
   "execution_count": 15,
   "metadata": {
    "ExecuteTime": {
     "end_time": "2020-09-22T01:53:36.628172Z",
     "start_time": "2020-09-22T01:53:36.620223Z"
    }
   },
   "outputs": [],
   "source": [
    "class SimpleNet(nn.Module):\n",
    "    def __init__(self):\n",
    "        super(SimpleNet, self).__init__()\n",
    "        self.input_length = len(X_train.columns)\n",
    "        self.fc1 = nn.Linear(self.input_length, self.input_length)  # 6*6 from image dimension\n",
    "        self.fc2 = nn.Linear(self.input_length, self.input_length)\n",
    "        self.fc3 = nn.Linear(self.input_length, self.input_length)\n",
    "        self.fc4 = nn.Linear(self.input_length, 10)\n",
    "        self.fc5 = nn.Linear(10, 1)\n",
    "        \n",
    "    def forward(self, x):\n",
    "        x = torch.relu(self.fc1(x))\n",
    "        x = torch.relu(self.fc2(x))\n",
    "        x = torch.relu(self.fc3(x))\n",
    "        x = torch.relu(self.fc4(x))\n",
    "        output = self.fc5(x)\n",
    "        return output"
   ]
  },
  {
   "cell_type": "code",
   "execution_count": 16,
   "metadata": {
    "ExecuteTime": {
     "end_time": "2020-09-22T01:53:37.107467Z",
     "start_time": "2020-09-22T01:53:37.093517Z"
    }
   },
   "outputs": [
    {
     "data": {
      "text/plain": [
       "SimpleNet(\n",
       "  (fc1): Linear(in_features=44, out_features=44, bias=True)\n",
       "  (fc2): Linear(in_features=44, out_features=44, bias=True)\n",
       "  (fc3): Linear(in_features=44, out_features=44, bias=True)\n",
       "  (fc4): Linear(in_features=44, out_features=10, bias=True)\n",
       "  (fc5): Linear(in_features=10, out_features=1, bias=True)\n",
       ")"
      ]
     },
     "execution_count": 16,
     "metadata": {},
     "output_type": "execute_result"
    }
   ],
   "source": [
    "net = SimpleNet()\n",
    "net"
   ]
  },
  {
   "cell_type": "code",
   "execution_count": 17,
   "metadata": {
    "ExecuteTime": {
     "end_time": "2020-09-22T01:53:37.586307Z",
     "start_time": "2020-09-22T01:53:37.575346Z"
    }
   },
   "outputs": [],
   "source": [
    "optimizer = optim.Adam(net.parameters(), lr=1e-4)\n",
    "loss_fn = nn.MSELoss()"
   ]
  },
  {
   "cell_type": "code",
   "execution_count": 18,
   "metadata": {
    "ExecuteTime": {
     "end_time": "2020-09-22T01:53:38.050336Z",
     "start_time": "2020-09-22T01:53:38.023410Z"
    }
   },
   "outputs": [
    {
     "data": {
      "text/plain": [
       "MinMaxScaler()"
      ]
     },
     "execution_count": 18,
     "metadata": {},
     "output_type": "execute_result"
    }
   ],
   "source": [
    "from sklearn.preprocessing import MinMaxScaler\n",
    "mms = MinMaxScaler()\n",
    "mms.fit(X_train)"
   ]
  },
  {
   "cell_type": "code",
   "execution_count": 19,
   "metadata": {
    "ExecuteTime": {
     "end_time": "2020-09-22T01:53:38.516347Z",
     "start_time": "2020-09-22T01:53:38.486865Z"
    }
   },
   "outputs": [],
   "source": [
    "train_losses = []\n",
    "valid_losses = []\n",
    "train_mape_list = []\n",
    "val_mape_list = []\n",
    "train_r2 = []\n",
    "val_r2 = []\n",
    "X_train_scaled = mms.transform(X_train)\n",
    "X_valid_scaled = mms.transform(X_valid)"
   ]
  },
  {
   "cell_type": "code",
   "execution_count": 20,
   "metadata": {
    "ExecuteTime": {
     "end_time": "2020-09-22T01:53:38.965893Z",
     "start_time": "2020-09-22T01:53:38.951387Z"
    }
   },
   "outputs": [],
   "source": [
    "EPOCH = 300000"
   ]
  },
  {
   "cell_type": "code",
   "execution_count": null,
   "metadata": {
    "ExecuteTime": {
     "start_time": "2020-09-22T01:53:38.466Z"
    },
    "scrolled": false
   },
   "outputs": [
    {
     "name": "stdout",
     "output_type": "stream",
     "text": [
      "[Epoch      0 / 300000] Train Loss: 19.91977 | Val Loss: 19.11074 | MAPE(train): 9.78420 | MAPE(val): 9.58144\n",
      "[Epoch    100 / 300000] Train Loss: 24.20761 | Val Loss: 23.33749 | MAPE(train): 14.49155 | MAPE(val): 14.21862\n",
      "[Epoch    200 / 300000] Train Loss: 56.79669 | Val Loss: 50.13770 | MAPE(train): 48.05618 | MAPE(val): 41.98326\n",
      "[Epoch    300 / 300000] Train Loss: 6.58614 | Val Loss: 6.05549 | MAPE(train): 1.33720 | MAPE(val): 1.27753\n",
      "[Epoch    400 / 300000] Train Loss: 4.76504 | Val Loss: 4.43723 | MAPE(train): 0.69758 | MAPE(val): 0.68486\n",
      "[Epoch    500 / 300000] Train Loss: 4.49983 | Val Loss: 4.18279 | MAPE(train): 0.66345 | MAPE(val): 0.65236\n",
      "[Epoch    600 / 300000] Train Loss: 4.24312 | Val Loss: 3.93422 | MAPE(train): 0.63736 | MAPE(val): 0.62778\n",
      "[Epoch    700 / 300000] Train Loss: 3.97980 | Val Loss: 3.68021 | MAPE(train): 0.61462 | MAPE(val): 0.60681\n",
      "[Epoch    800 / 300000] Train Loss: 3.70147 | Val Loss: 3.41317 | MAPE(train): 0.59434 | MAPE(val): 0.58879\n",
      "[Epoch    900 / 300000] Train Loss: 3.45735 | Val Loss: 3.18277 | MAPE(train): 0.58195 | MAPE(val): 0.57917\n",
      "[Epoch   1000 / 300000] Train Loss: 3.31265 | Val Loss: 3.05180 | MAPE(train): 0.58732 | MAPE(val): 0.58834\n",
      "[Epoch   1100 / 300000] Train Loss: 3.25880 | Val Loss: 3.00734 | MAPE(train): 0.61061 | MAPE(val): 0.61685\n",
      "[Epoch   1200 / 300000] Train Loss: 3.23501 | Val Loss: 2.97429 | MAPE(train): 0.64616 | MAPE(val): 0.64184\n",
      "[Epoch   1300 / 300000] Train Loss: 3.57024 | Val Loss: 3.06878 | MAPE(train): 1.03852 | MAPE(val): 0.79069\n",
      "[Epoch   1400 / 300000] Train Loss: 3.16409 | Val Loss: 3.15310 | MAPE(train): 0.68968 | MAPE(val): 0.92735\n",
      "[Epoch   1500 / 300000] Train Loss: 3.23711 | Val Loss: 2.86412 | MAPE(train): 0.81901 | MAPE(val): 0.68729\n",
      "[Epoch   1600 / 300000] Train Loss: 3.11496 | Val Loss: 2.85347 | MAPE(train): 0.75039 | MAPE(val): 0.72199\n",
      "[Epoch   1700 / 300000] Train Loss: 2.98945 | Val Loss: 2.79680 | MAPE(train): 0.67410 | MAPE(val): 0.70528\n",
      "[Epoch   1800 / 300000] Train Loss: 2.97258 | Val Loss: 2.74890 | MAPE(train): 0.70319 | MAPE(val): 0.69423\n",
      "[Epoch   1900 / 300000] Train Loss: 2.97807 | Val Loss: 2.64605 | MAPE(train): 0.75277 | MAPE(val): 0.62662\n",
      "[Epoch   2000 / 300000] Train Loss: 2.84623 | Val Loss: 2.62770 | MAPE(train): 0.66348 | MAPE(val): 0.64056\n",
      "[Epoch   2100 / 300000] Train Loss: 2.83792 | Val Loss: 2.59125 | MAPE(train): 0.69580 | MAPE(val): 0.63582\n",
      "[Epoch   2200 / 300000] Train Loss: 2.78331 | Val Loss: 2.58651 | MAPE(train): 0.67913 | MAPE(val): 0.66020\n",
      "[Epoch   2300 / 300000] Train Loss: 2.76459 | Val Loss: 2.57317 | MAPE(train): 0.69589 | MAPE(val): 0.67245\n",
      "[Epoch   2400 / 300000] Train Loss: 2.78133 | Val Loss: 2.57231 | MAPE(train): 0.74370 | MAPE(val): 0.69433\n",
      "[Epoch   2500 / 300000] Train Loss: 2.86992 | Val Loss: 2.65862 | MAPE(train): 0.86115 | MAPE(val): 0.80170\n",
      "[Epoch   2600 / 300000] Train Loss: 2.95447 | Val Loss: 2.64708 | MAPE(train): 0.97094 | MAPE(val): 0.80901\n",
      "[Epoch   2700 / 300000] Train Loss: 2.74196 | Val Loss: 2.54161 | MAPE(train): 0.78181 | MAPE(val): 0.72175\n",
      "[Epoch   2800 / 300000] Train Loss: 2.67542 | Val Loss: 2.44495 | MAPE(train): 0.73776 | MAPE(val): 0.64300\n",
      "[Epoch   2900 / 300000] Train Loss: 2.53877 | Val Loss: 2.43310 | MAPE(train): 0.62411 | MAPE(val): 0.64844\n",
      "[Epoch   3000 / 300000] Train Loss: 2.51771 | Val Loss: 2.42035 | MAPE(train): 0.62612 | MAPE(val): 0.65535\n",
      "[Epoch   3100 / 300000] Train Loss: 2.47902 | Val Loss: 2.45907 | MAPE(train): 0.60954 | MAPE(val): 0.71165\n",
      "[Epoch   3200 / 300000] Train Loss: 2.50292 | Val Loss: 2.35410 | MAPE(train): 0.65403 | MAPE(val): 0.62107\n",
      "[Epoch   3300 / 300000] Train Loss: 2.72581 | Val Loss: 2.42622 | MAPE(train): 0.89692 | MAPE(val): 0.70807\n",
      "[Epoch   3400 / 300000] Train Loss: 2.89127 | Val Loss: 2.45514 | MAPE(train): 1.08193 | MAPE(val): 0.75297\n",
      "[Epoch   3500 / 300000] Train Loss: 2.74519 | Val Loss: 3.87470 | MAPE(train): 0.95517 | MAPE(val): 2.18878\n",
      "[Epoch   3600 / 300000] Train Loss: 2.61527 | Val Loss: 2.38035 | MAPE(train): 0.84525 | MAPE(val): 0.71205\n",
      "[Epoch   3700 / 300000] Train Loss: 2.46104 | Val Loss: 2.32360 | MAPE(train): 0.70983 | MAPE(val): 0.66896\n",
      "[Epoch   3800 / 300000] Train Loss: 2.90899 | Val Loss: 2.27099 | MAPE(train): 1.17569 | MAPE(val): 0.62871\n",
      "[Epoch   3900 / 300000] Train Loss: 2.32176 | Val Loss: 2.18755 | MAPE(train): 0.60584 | MAPE(val): 0.55726\n",
      "[Epoch   4000 / 300000] Train Loss: 2.22265 | Val Loss: 2.15952 | MAPE(train): 0.52360 | MAPE(val): 0.54224\n",
      "[Epoch   4100 / 300000] Train Loss: 2.19985 | Val Loss: 2.13424 | MAPE(train): 0.51776 | MAPE(val): 0.52867\n",
      "[Epoch   4200 / 300000] Train Loss: 2.25822 | Val Loss: 2.12350 | MAPE(train): 0.59228 | MAPE(val): 0.52693\n",
      "[Epoch   4300 / 300000] Train Loss: 2.21485 | Val Loss: 2.17172 | MAPE(train): 0.56325 | MAPE(val): 0.58152\n",
      "[Epoch   4400 / 300000] Train Loss: 2.19160 | Val Loss: 2.12272 | MAPE(train): 0.55263 | MAPE(val): 0.53909\n",
      "[Epoch   4500 / 300000] Train Loss: 2.45883 | Val Loss: 2.12003 | MAPE(train): 0.83180 | MAPE(val): 0.54149\n",
      "[Epoch   4600 / 300000] Train Loss: 2.14486 | Val Loss: 2.15935 | MAPE(train): 0.52879 | MAPE(val): 0.58441\n",
      "[Epoch   4700 / 300000] Train Loss: 2.13058 | Val Loss: 2.12111 | MAPE(train): 0.52438 | MAPE(val): 0.55167\n",
      "[Epoch   4800 / 300000] Train Loss: 2.12480 | Val Loss: 2.11654 | MAPE(train): 0.52777 | MAPE(val): 0.55089\n",
      "[Epoch   4900 / 300000] Train Loss: 2.11675 | Val Loss: 2.11406 | MAPE(train): 0.52812 | MAPE(val): 0.55158\n",
      "[Epoch   5000 / 300000] Train Loss: 2.11834 | Val Loss: 2.21083 | MAPE(train): 0.53713 | MAPE(val): 0.65151\n",
      "[Epoch   5100 / 300000] Train Loss: 2.11529 | Val Loss: 2.11078 | MAPE(train): 0.54121 | MAPE(val): 0.55440\n",
      "[Epoch   5200 / 300000] Train Loss: 2.19299 | Val Loss: 2.11587 | MAPE(train): 0.62554 | MAPE(val): 0.56204\n",
      "[Epoch   5300 / 300000] Train Loss: 2.10684 | Val Loss: 2.10853 | MAPE(train): 0.54594 | MAPE(val): 0.55914\n",
      "[Epoch   5400 / 300000] Train Loss: 2.20610 | Val Loss: 2.14471 | MAPE(train): 0.65135 | MAPE(val): 0.59997\n",
      "[Epoch   5500 / 300000] Train Loss: 2.14561 | Val Loss: 2.15145 | MAPE(train): 0.59622 | MAPE(val): 0.61058\n",
      "[Epoch   5600 / 300000] Train Loss: 2.12905 | Val Loss: 2.13295 | MAPE(train): 0.58463 | MAPE(val): 0.59640\n",
      "[Epoch   5700 / 300000] Train Loss: 2.19872 | Val Loss: 2.10871 | MAPE(train): 0.65888 | MAPE(val): 0.57567\n",
      "[Epoch   5800 / 300000] Train Loss: 2.12798 | Val Loss: 2.10229 | MAPE(train): 0.59262 | MAPE(val): 0.57133\n",
      "[Epoch   5900 / 300000] Train Loss: 2.14192 | Val Loss: 2.08579 | MAPE(train): 0.61087 | MAPE(val): 0.55678\n",
      "[Epoch   6000 / 300000] Train Loss: 2.09141 | Val Loss: 2.07680 | MAPE(train): 0.56465 | MAPE(val): 0.55080\n",
      "[Epoch   6100 / 300000] Train Loss: 3.08115 | Val Loss: 2.12715 | MAPE(train): 1.55881 | MAPE(val): 0.60434\n",
      "[Epoch   6200 / 300000] Train Loss: 2.08173 | Val Loss: 2.08289 | MAPE(train): 0.56380 | MAPE(val): 0.56338\n",
      "[Epoch   6300 / 300000] Train Loss: 2.11197 | Val Loss: 2.07177 | MAPE(train): 0.59874 | MAPE(val): 0.55557\n",
      "[Epoch   6400 / 300000] Train Loss: 2.07653 | Val Loss: 2.05600 | MAPE(train): 0.56774 | MAPE(val): 0.54323\n",
      "[Epoch   6500 / 300000] Train Loss: 2.09117 | Val Loss: 2.05150 | MAPE(train): 0.58619 | MAPE(val): 0.54189\n",
      "[Epoch   6600 / 300000] Train Loss: 2.08221 | Val Loss: 2.12322 | MAPE(train): 0.58152 | MAPE(val): 0.61659\n",
      "[Epoch   6700 / 300000] Train Loss: 2.03208 | Val Loss: 2.04095 | MAPE(train): 0.53539 | MAPE(val): 0.53862\n",
      "[Epoch   6800 / 300000] Train Loss: 2.04285 | Val Loss: 2.03994 | MAPE(train): 0.55064 | MAPE(val): 0.53910\n",
      "[Epoch   6900 / 300000] Train Loss: 2.05922 | Val Loss: 2.04383 | MAPE(train): 0.57113 | MAPE(val): 0.54416\n",
      "[Epoch   7000 / 300000] Train Loss: 2.02942 | Val Loss: 2.05622 | MAPE(train): 0.54519 | MAPE(val): 0.55765\n",
      "[Epoch   7100 / 300000] Train Loss: 2.09856 | Val Loss: 2.04965 | MAPE(train): 0.61805 | MAPE(val): 0.55252\n",
      "[Epoch   7200 / 300000] Train Loss: 3.02784 | Val Loss: 4.45473 | MAPE(train): 1.55082 | MAPE(val): 2.95879\n",
      "[Epoch   7300 / 300000] Train Loss: 2.04360 | Val Loss: 2.09021 | MAPE(train): 0.57028 | MAPE(val): 0.59624\n",
      "[Epoch   7400 / 300000] Train Loss: 2.00578 | Val Loss: 2.06182 | MAPE(train): 0.53616 | MAPE(val): 0.56997\n",
      "[Epoch   7500 / 300000] Train Loss: 2.00891 | Val Loss: 2.04624 | MAPE(train): 0.54263 | MAPE(val): 0.55670\n"
     ]
    },
    {
     "name": "stdout",
     "output_type": "stream",
     "text": [
      "[Epoch   7600 / 300000] Train Loss: 1.99930 | Val Loss: 2.03618 | MAPE(train): 0.53631 | MAPE(val): 0.54782\n",
      "[Epoch   7700 / 300000] Train Loss: 2.00745 | Val Loss: 2.03999 | MAPE(train): 0.54736 | MAPE(val): 0.55422\n",
      "[Epoch   7800 / 300000] Train Loss: 1.98170 | Val Loss: 2.05041 | MAPE(train): 0.52463 | MAPE(val): 0.56630\n",
      "[Epoch   7900 / 300000] Train Loss: 1.98289 | Val Loss: 2.09031 | MAPE(train): 0.52874 | MAPE(val): 0.60742\n",
      "[Epoch   8000 / 300000] Train Loss: 1.98831 | Val Loss: 2.11282 | MAPE(train): 0.53717 | MAPE(val): 0.63272\n",
      "[Epoch   8100 / 300000] Train Loss: 1.98577 | Val Loss: 2.05018 | MAPE(train): 0.53773 | MAPE(val): 0.57273\n",
      "[Epoch   8200 / 300000] Train Loss: 1.98641 | Val Loss: 2.05395 | MAPE(train): 0.54104 | MAPE(val): 0.57801\n",
      "[Epoch   8300 / 300000] Train Loss: 1.99919 | Val Loss: 2.03173 | MAPE(train): 0.55624 | MAPE(val): 0.55706\n",
      "[Epoch   8400 / 300000] Train Loss: 1.97023 | Val Loss: 2.02681 | MAPE(train): 0.52973 | MAPE(val): 0.55353\n",
      "[Epoch   8500 / 300000] Train Loss: 1.97679 | Val Loss: 2.01638 | MAPE(train): 0.53873 | MAPE(val): 0.54287\n",
      "[Epoch   8600 / 300000] Train Loss: 2.27388 | Val Loss: 2.01164 | MAPE(train): 0.83829 | MAPE(val): 0.53894\n",
      "[Epoch   8700 / 300000] Train Loss: 1.99901 | Val Loss: 2.00825 | MAPE(train): 0.56587 | MAPE(val): 0.53547\n",
      "[Epoch   8800 / 300000] Train Loss: 2.02956 | Val Loss: 2.00848 | MAPE(train): 0.59889 | MAPE(val): 0.53588\n",
      "[Epoch   8900 / 300000] Train Loss: 2.06373 | Val Loss: 2.00742 | MAPE(train): 0.63554 | MAPE(val): 0.53471\n",
      "[Epoch   9000 / 300000] Train Loss: 1.99671 | Val Loss: 2.00904 | MAPE(train): 0.57097 | MAPE(val): 0.53762\n",
      "[Epoch   9100 / 300000] Train Loss: 1.96318 | Val Loss: 2.00866 | MAPE(train): 0.53992 | MAPE(val): 0.53816\n",
      "[Epoch   9200 / 300000] Train Loss: 1.95195 | Val Loss: 2.01493 | MAPE(train): 0.53082 | MAPE(val): 0.54574\n",
      "[Epoch   9300 / 300000] Train Loss: 1.96869 | Val Loss: 2.10280 | MAPE(train): 0.54989 | MAPE(val): 0.63464\n",
      "[Epoch   9400 / 300000] Train Loss: 2.04563 | Val Loss: 2.05091 | MAPE(train): 0.62912 | MAPE(val): 0.58360\n",
      "[Epoch   9500 / 300000] Train Loss: 2.06413 | Val Loss: 3.08987 | MAPE(train): 0.64967 | MAPE(val): 1.62311\n",
      "[Epoch   9600 / 300000] Train Loss: 1.93740 | Val Loss: 2.02366 | MAPE(train): 0.52499 | MAPE(val): 0.55688\n",
      "[Epoch   9700 / 300000] Train Loss: 1.94007 | Val Loss: 2.02917 | MAPE(train): 0.52952 | MAPE(val): 0.56345\n",
      "[Epoch   9800 / 300000] Train Loss: 1.94953 | Val Loss: 2.02141 | MAPE(train): 0.54100 | MAPE(val): 0.55622\n",
      "[Epoch   9900 / 300000] Train Loss: 1.92369 | Val Loss: 2.01214 | MAPE(train): 0.51701 | MAPE(val): 0.54810\n",
      "[Epoch  10000 / 300000] Train Loss: 1.92300 | Val Loss: 2.00368 | MAPE(train): 0.51835 | MAPE(val): 0.53945\n",
      "[Epoch  10100 / 300000] Train Loss: 1.91710 | Val Loss: 2.00068 | MAPE(train): 0.51425 | MAPE(val): 0.53724\n",
      "[Epoch  10200 / 300000] Train Loss: 1.93476 | Val Loss: 2.00311 | MAPE(train): 0.53382 | MAPE(val): 0.53948\n",
      "[Epoch  10300 / 300000] Train Loss: 1.92053 | Val Loss: 2.08721 | MAPE(train): 0.52158 | MAPE(val): 0.62411\n",
      "[Epoch  10400 / 300000] Train Loss: 1.90837 | Val Loss: 1.99829 | MAPE(train): 0.51129 | MAPE(val): 0.53436\n",
      "[Epoch  10500 / 300000] Train Loss: 1.91280 | Val Loss: 1.99384 | MAPE(train): 0.51769 | MAPE(val): 0.53037\n",
      "[Epoch  10600 / 300000] Train Loss: 1.90633 | Val Loss: 1.99071 | MAPE(train): 0.51299 | MAPE(val): 0.52828\n",
      "[Epoch  10700 / 300000] Train Loss: 1.89904 | Val Loss: 1.99706 | MAPE(train): 0.50771 | MAPE(val): 0.53448\n",
      "[Epoch  10800 / 300000] Train Loss: 1.89996 | Val Loss: 1.98250 | MAPE(train): 0.51019 | MAPE(val): 0.52015\n",
      "[Epoch  10900 / 300000] Train Loss: 1.93622 | Val Loss: 1.98527 | MAPE(train): 0.54825 | MAPE(val): 0.52491\n",
      "[Epoch  11000 / 300000] Train Loss: 1.89316 | Val Loss: 1.98428 | MAPE(train): 0.50692 | MAPE(val): 0.52430\n",
      "[Epoch  11100 / 300000] Train Loss: 1.89507 | Val Loss: 1.98799 | MAPE(train): 0.51062 | MAPE(val): 0.52784\n",
      "[Epoch  11200 / 300000] Train Loss: 1.89165 | Val Loss: 2.00788 | MAPE(train): 0.50870 | MAPE(val): 0.54699\n",
      "[Epoch  11300 / 300000] Train Loss: 1.88999 | Val Loss: 1.98494 | MAPE(train): 0.50895 | MAPE(val): 0.52428\n",
      "[Epoch  11400 / 300000] Train Loss: 1.88725 | Val Loss: 1.98016 | MAPE(train): 0.50790 | MAPE(val): 0.52036\n",
      "[Epoch  11500 / 300000] Train Loss: 1.89861 | Val Loss: 1.98574 | MAPE(train): 0.52091 | MAPE(val): 0.52588\n",
      "[Epoch  11600 / 300000] Train Loss: 1.87843 | Val Loss: 1.98601 | MAPE(train): 0.50278 | MAPE(val): 0.52811\n",
      "[Epoch  11700 / 300000] Train Loss: 1.88307 | Val Loss: 1.98791 | MAPE(train): 0.50921 | MAPE(val): 0.52972\n",
      "[Epoch  11800 / 300000] Train Loss: 1.87265 | Val Loss: 1.99107 | MAPE(train): 0.50051 | MAPE(val): 0.53328\n",
      "[Epoch  11900 / 300000] Train Loss: 1.86987 | Val Loss: 1.99132 | MAPE(train): 0.49941 | MAPE(val): 0.53323\n",
      "[Epoch  12000 / 300000] Train Loss: 1.87409 | Val Loss: 1.99871 | MAPE(train): 0.50494 | MAPE(val): 0.54133\n",
      "[Epoch  12100 / 300000] Train Loss: 1.90064 | Val Loss: 1.99905 | MAPE(train): 0.53301 | MAPE(val): 0.54257\n",
      "[Epoch  12200 / 300000] Train Loss: 1.86721 | Val Loss: 2.00950 | MAPE(train): 0.50082 | MAPE(val): 0.55415\n",
      "[Epoch  12300 / 300000] Train Loss: 1.88504 | Val Loss: 2.04584 | MAPE(train): 0.52011 | MAPE(val): 0.59078\n",
      "[Epoch  12400 / 300000] Train Loss: 1.87347 | Val Loss: 2.09198 | MAPE(train): 0.50989 | MAPE(val): 0.63732\n",
      "[Epoch  12500 / 300000] Train Loss: 1.88785 | Val Loss: 2.04481 | MAPE(train): 0.52563 | MAPE(val): 0.58943\n",
      "[Epoch  12600 / 300000] Train Loss: 1.88008 | Val Loss: 2.02594 | MAPE(train): 0.51932 | MAPE(val): 0.57198\n",
      "[Epoch  12700 / 300000] Train Loss: 1.86607 | Val Loss: 2.02630 | MAPE(train): 0.50685 | MAPE(val): 0.57317\n",
      "[Epoch  12800 / 300000] Train Loss: 1.86909 | Val Loss: 2.07413 | MAPE(train): 0.51110 | MAPE(val): 0.61998\n",
      "[Epoch  12900 / 300000] Train Loss: 1.86104 | Val Loss: 2.03906 | MAPE(train): 0.50456 | MAPE(val): 0.58532\n",
      "[Epoch  13000 / 300000] Train Loss: 1.85284 | Val Loss: 2.02386 | MAPE(train): 0.49745 | MAPE(val): 0.57219\n",
      "[Epoch  13100 / 300000] Train Loss: 1.90958 | Val Loss: 2.00344 | MAPE(train): 0.55550 | MAPE(val): 0.55180\n",
      "[Epoch  13200 / 300000] Train Loss: 1.85066 | Val Loss: 2.01989 | MAPE(train): 0.49797 | MAPE(val): 0.56721\n",
      "[Epoch  13300 / 300000] Train Loss: 1.84972 | Val Loss: 1.99872 | MAPE(train): 0.49801 | MAPE(val): 0.54578\n",
      "[Epoch  13400 / 300000] Train Loss: 1.84834 | Val Loss: 1.98809 | MAPE(train): 0.49804 | MAPE(val): 0.53598\n",
      "[Epoch  13500 / 300000] Train Loss: 1.84658 | Val Loss: 1.98743 | MAPE(train): 0.49748 | MAPE(val): 0.53538\n",
      "[Epoch  13600 / 300000] Train Loss: 1.89651 | Val Loss: 1.98802 | MAPE(train): 0.54870 | MAPE(val): 0.53810\n",
      "[Epoch  13700 / 300000] Train Loss: 1.87156 | Val Loss: 1.98790 | MAPE(train): 0.52513 | MAPE(val): 0.53769\n",
      "[Epoch  13800 / 300000] Train Loss: 1.85183 | Val Loss: 1.99456 | MAPE(train): 0.50657 | MAPE(val): 0.54406\n",
      "[Epoch  13900 / 300000] Train Loss: 1.83982 | Val Loss: 2.00216 | MAPE(train): 0.49607 | MAPE(val): 0.55269\n",
      "[Epoch  14000 / 300000] Train Loss: 1.83949 | Val Loss: 1.99271 | MAPE(train): 0.49691 | MAPE(val): 0.54311\n",
      "[Epoch  14100 / 300000] Train Loss: 1.91998 | Val Loss: 1.99570 | MAPE(train): 0.57859 | MAPE(val): 0.54790\n",
      "[Epoch  14200 / 300000] Train Loss: 1.83691 | Val Loss: 1.98112 | MAPE(train): 0.49689 | MAPE(val): 0.53194\n",
      "[Epoch  14300 / 300000] Train Loss: 1.83560 | Val Loss: 1.98262 | MAPE(train): 0.49694 | MAPE(val): 0.53373\n",
      "[Epoch  14400 / 300000] Train Loss: 1.84146 | Val Loss: 1.99284 | MAPE(train): 0.50399 | MAPE(val): 0.54386\n",
      "[Epoch  14500 / 300000] Train Loss: 1.83800 | Val Loss: 2.00315 | MAPE(train): 0.50188 | MAPE(val): 0.55535\n",
      "[Epoch  14600 / 300000] Train Loss: 1.84362 | Val Loss: 1.97571 | MAPE(train): 0.50842 | MAPE(val): 0.52789\n",
      "[Epoch  14700 / 300000] Train Loss: 1.82985 | Val Loss: 2.35048 | MAPE(train): 0.49581 | MAPE(val): 0.90562\n",
      "[Epoch  14800 / 300000] Train Loss: 1.82608 | Val Loss: 2.10892 | MAPE(train): 0.49332 | MAPE(val): 0.66457\n",
      "[Epoch  14900 / 300000] Train Loss: 1.83911 | Val Loss: 2.00271 | MAPE(train): 0.50784 | MAPE(val): 0.55797\n",
      "[Epoch  15000 / 300000] Train Loss: 1.83140 | Val Loss: 1.97551 | MAPE(train): 0.50100 | MAPE(val): 0.52999\n",
      "[Epoch  15100 / 300000] Train Loss: 1.84776 | Val Loss: 1.97546 | MAPE(train): 0.51866 | MAPE(val): 0.53122\n"
     ]
    },
    {
     "name": "stdout",
     "output_type": "stream",
     "text": [
      "[Epoch  15200 / 300000] Train Loss: 1.84812 | Val Loss: 1.97507 | MAPE(train): 0.52026 | MAPE(val): 0.53146\n",
      "[Epoch  15300 / 300000] Train Loss: 1.82517 | Val Loss: 1.97985 | MAPE(train): 0.49836 | MAPE(val): 0.53710\n",
      "[Epoch  15400 / 300000] Train Loss: 1.82880 | Val Loss: 2.42247 | MAPE(train): 0.50277 | MAPE(val): 0.98106\n",
      "[Epoch  15500 / 300000] Train Loss: 1.82448 | Val Loss: 1.99383 | MAPE(train): 0.49958 | MAPE(val): 0.55056\n",
      "[Epoch  15600 / 300000] Train Loss: 1.82215 | Val Loss: 1.97676 | MAPE(train): 0.49822 | MAPE(val): 0.53592\n",
      "[Epoch  15700 / 300000] Train Loss: 1.82801 | Val Loss: 1.97427 | MAPE(train): 0.50544 | MAPE(val): 0.53282\n",
      "[Epoch  15800 / 300000] Train Loss: 1.82365 | Val Loss: 1.97140 | MAPE(train): 0.50196 | MAPE(val): 0.52895\n",
      "[Epoch  15900 / 300000] Train Loss: 1.82187 | Val Loss: 1.97411 | MAPE(train): 0.50139 | MAPE(val): 0.53315\n",
      "[Epoch  16000 / 300000] Train Loss: 1.81908 | Val Loss: 2.00098 | MAPE(train): 0.49969 | MAPE(val): 0.56049\n",
      "[Epoch  16100 / 300000] Train Loss: 1.82623 | Val Loss: 2.03067 | MAPE(train): 0.50777 | MAPE(val): 0.58835\n",
      "[Epoch  16200 / 300000] Train Loss: 1.82035 | Val Loss: 2.86166 | MAPE(train): 0.50335 | MAPE(val): 1.42081\n"
     ]
    }
   ],
   "source": [
    "for i in range(EPOCH):\n",
    "    net.zero_grad()\n",
    "    y_pred_train = net(torch.Tensor(X_train_scaled)).to(device)\n",
    "    loss = loss_fn(y_pred_train.squeeze().to(device), torch.Tensor(y_train.values).to(device))\n",
    "    train_losses.append(loss)\n",
    "    mape = MAPE(y_pred_train.cpu().detach().numpy().squeeze(), y_train)\n",
    "    \n",
    "    loss = loss + mape\n",
    "    \n",
    "    train_mape_list.append(mape)\n",
    "    loss.backward()\n",
    "    optimizer.step()\n",
    "\n",
    "    with torch.no_grad():\n",
    "        y_pred_test = net(torch.Tensor(X_valid_scaled)).to(device)\n",
    "        val_loss = loss_fn(y_pred_test.squeeze().to(device), torch.Tensor(y_valid.values).to(device))\n",
    "        val_mape = MAPE(y_pred_test.cpu().detach().numpy().squeeze(), y_valid)\n",
    "        val_loss = val_loss + val_mape\n",
    "        valid_losses.append(val_loss)\n",
    "        val_mape_list.append(val_mape)\n",
    "\n",
    "    if i % 100 == 0:\n",
    "        print(f\"[Epoch {i:>6d} / {EPOCH:>6d}] \"\n",
    "        f\"Train Loss: {loss:>2.5f} | \" \n",
    "        f\"Val Loss: {val_loss:>2.5f} | \"\n",
    "        f\"MAPE(train): {mape:>2.5f} | \"\n",
    "        f\"MAPE(val): {val_mape:>2.5f}\")"
   ]
  },
  {
   "cell_type": "code",
   "execution_count": null,
   "metadata": {
    "ExecuteTime": {
     "start_time": "2020-09-22T01:53:39.272Z"
    }
   },
   "outputs": [],
   "source": [
    "plt.plot(train_losses)\n",
    "plt.plot(valid_losses)\n",
    "plt.legend(['Train loss', 'Val loss'])\n",
    "plt.show()"
   ]
  },
  {
   "cell_type": "markdown",
   "metadata": {},
   "source": [
    "---\n",
    "\n",
    "## Submission"
   ]
  },
  {
   "cell_type": "code",
   "execution_count": null,
   "metadata": {
    "ExecuteTime": {
     "end_time": "2020-09-21T10:06:38.236081Z",
     "start_time": "2020-09-21T10:05:47.235Z"
    }
   },
   "outputs": [],
   "source": [
    "data['test'] # 취급액만 predict해서 넣어주자"
   ]
  },
  {
   "cell_type": "code",
   "execution_count": null,
   "metadata": {
    "ExecuteTime": {
     "end_time": "2020-09-21T10:06:38.236980Z",
     "start_time": "2020-09-21T10:05:47.239Z"
    }
   },
   "outputs": [],
   "source": [
    "from datetime import datetime\n",
    "now = datetime.now()\n",
    "now.month, now.day, now.hour"
   ]
  },
  {
   "cell_type": "markdown",
   "metadata": {},
   "source": [
    "---\n",
    "\n",
    "## Reference"
   ]
  },
  {
   "cell_type": "markdown",
   "metadata": {},
   "source": [
    "- 2020 빅콘테스트: https://www.bigcontest.or.kr/index.php\n",
    "- "
   ]
  }
 ],
 "metadata": {
  "hide_input": false,
  "kernelspec": {
   "display_name": "Python 3",
   "language": "python",
   "name": "python3"
  },
  "language_info": {
   "codemirror_mode": {
    "name": "ipython",
    "version": 3
   },
   "file_extension": ".py",
   "mimetype": "text/x-python",
   "name": "python",
   "nbconvert_exporter": "python",
   "pygments_lexer": "ipython3",
   "version": "3.6.10"
  },
  "toc": {
   "base_numbering": "0",
   "nav_menu": {},
   "number_sections": true,
   "sideBar": true,
   "skip_h1_title": true,
   "title_cell": "Table of Contents",
   "title_sidebar": "Contents",
   "toc_cell": true,
   "toc_position": {
    "height": "calc(100% - 180px)",
    "left": "10px",
    "top": "150px",
    "width": "329px"
   },
   "toc_section_display": true,
   "toc_window_display": true
  },
  "varInspector": {
   "cols": {
    "lenName": 16,
    "lenType": 16,
    "lenVar": 40
   },
   "kernels_config": {
    "python": {
     "delete_cmd_postfix": "",
     "delete_cmd_prefix": "del ",
     "library": "var_list.py",
     "varRefreshCmd": "print(var_dic_list())"
    },
    "r": {
     "delete_cmd_postfix": ") ",
     "delete_cmd_prefix": "rm(",
     "library": "var_list.r",
     "varRefreshCmd": "cat(var_dic_list()) "
    }
   },
   "position": {
    "height": "451.215px",
    "left": "1763.33px",
    "right": "20px",
    "top": "120px",
    "width": "350px"
   },
   "types_to_exclude": [
    "module",
    "function",
    "builtin_function_or_method",
    "instance",
    "_Feature"
   ],
   "window_display": false
  }
 },
 "nbformat": 4,
 "nbformat_minor": 4
}

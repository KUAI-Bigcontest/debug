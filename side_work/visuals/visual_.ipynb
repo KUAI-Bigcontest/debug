{
 "cells": [
  {
   "cell_type": "code",
   "execution_count": 2,
   "metadata": {},
   "outputs": [],
   "source": [
    "#########\n",
    "# BASIC #\n",
    "#########\n",
    "import os\n",
    "import sys\n",
    "import platform\n",
    "import warnings\n",
    "from datetime import datetime\n",
    "from collections import Counter\n",
    "import calendar\n",
    "from tqdm.notebook import tqdm_notebook\n",
    "\n",
    "#############\n",
    "# LOAD DATA #\n",
    "#############\n",
    "import numpy as np\n",
    "import pandas as pd\n",
    "\n",
    "#############################\n",
    "# EXPLORATORY DATA ANALYSIS #\n",
    "#############################\n",
    "import matplotlib as mpl\n",
    "import matplotlib.pyplot as plt\n",
    "import seaborn as sns\n",
    "import missingno as msno\n",
    "\n",
    "######################\n",
    "# DATA PREPROCESSING #\n",
    "######################\n",
    "import re\n",
    "from sklearn.decomposition import PCA\n",
    "from sklearn.preprocessing import LabelEncoder\n",
    "from sklearn.preprocessing import OneHotEncoder\n",
    "## NATURAL LANGUAGE PROCESSING \n",
    "from konlpy.tag import Komoran\n",
    "from gensim.models import Word2Vec"
   ]
  },
  {
   "cell_type": "code",
   "execution_count": 3,
   "metadata": {},
   "outputs": [],
   "source": [
    "warnings.filterwarnings(action='ignore')\n",
    "pd.options.display.float_format = '{:.4f}'.format\n",
    "# plt.style.use('ggplot')\n",
    "if platform.platform().split('-')[0] == 'Windows':\n",
    "    mpl.rcParams['font.family'] = 'Malgun Gothic' # Windows에서는 한글이 나오게 하기 위해서\n",
    "else: # macOS라고 가정\n",
    "    mpl.rcParams['font.family'] = 'AppleGothic' # mac에서는 한글이 나오게 하기 위해서\n",
    "\n",
    "mpl.rcParams['axes.unicode_minus'] = False\n",
    "plt.style.use('ggplot')"
   ]
  },
  {
   "cell_type": "code",
   "execution_count": 4,
   "metadata": {},
   "outputs": [],
   "source": [
    "data = dict()"
   ]
  },
  {
   "cell_type": "code",
   "execution_count": 6,
   "metadata": {},
   "outputs": [
    {
     "data": {
      "text/html": [
       "<div>\n",
       "<style scoped>\n",
       "    .dataframe tbody tr th:only-of-type {\n",
       "        vertical-align: middle;\n",
       "    }\n",
       "\n",
       "    .dataframe tbody tr th {\n",
       "        vertical-align: top;\n",
       "    }\n",
       "\n",
       "    .dataframe thead th {\n",
       "        text-align: right;\n",
       "    }\n",
       "</style>\n",
       "<table border=\"1\" class=\"dataframe\">\n",
       "  <thead>\n",
       "    <tr style=\"text-align: right;\">\n",
       "      <th></th>\n",
       "      <th>노출(분)</th>\n",
       "      <th>마더코드</th>\n",
       "      <th>상품코드</th>\n",
       "      <th>상품명</th>\n",
       "      <th>상품군</th>\n",
       "      <th>판매단가</th>\n",
       "      <th>취급액</th>\n",
       "    </tr>\n",
       "    <tr>\n",
       "      <th>방송일시</th>\n",
       "      <th></th>\n",
       "      <th></th>\n",
       "      <th></th>\n",
       "      <th></th>\n",
       "      <th></th>\n",
       "      <th></th>\n",
       "      <th></th>\n",
       "    </tr>\n",
       "  </thead>\n",
       "  <tbody>\n",
       "    <tr>\n",
       "      <th>2019-01-01 06:00:00</th>\n",
       "      <td>20.0000</td>\n",
       "      <td>100346</td>\n",
       "      <td>201072</td>\n",
       "      <td>테이트 남성 셀린니트3종</td>\n",
       "      <td>의류</td>\n",
       "      <td>39900</td>\n",
       "      <td>2099000.0000</td>\n",
       "    </tr>\n",
       "    <tr>\n",
       "      <th>2019-01-01 06:00:00</th>\n",
       "      <td>nan</td>\n",
       "      <td>100346</td>\n",
       "      <td>201079</td>\n",
       "      <td>테이트 여성 셀린니트3종</td>\n",
       "      <td>의류</td>\n",
       "      <td>39900</td>\n",
       "      <td>4371000.0000</td>\n",
       "    </tr>\n",
       "    <tr>\n",
       "      <th>2019-01-01 06:20:00</th>\n",
       "      <td>20.0000</td>\n",
       "      <td>100346</td>\n",
       "      <td>201072</td>\n",
       "      <td>테이트 남성 셀린니트3종</td>\n",
       "      <td>의류</td>\n",
       "      <td>39900</td>\n",
       "      <td>3262000.0000</td>\n",
       "    </tr>\n",
       "    <tr>\n",
       "      <th>2019-01-01 06:20:00</th>\n",
       "      <td>nan</td>\n",
       "      <td>100346</td>\n",
       "      <td>201079</td>\n",
       "      <td>테이트 여성 셀린니트3종</td>\n",
       "      <td>의류</td>\n",
       "      <td>39900</td>\n",
       "      <td>6955000.0000</td>\n",
       "    </tr>\n",
       "    <tr>\n",
       "      <th>2019-01-01 06:40:00</th>\n",
       "      <td>20.0000</td>\n",
       "      <td>100346</td>\n",
       "      <td>201072</td>\n",
       "      <td>테이트 남성 셀린니트3종</td>\n",
       "      <td>의류</td>\n",
       "      <td>39900</td>\n",
       "      <td>6672000.0000</td>\n",
       "    </tr>\n",
       "    <tr>\n",
       "      <th>...</th>\n",
       "      <td>...</td>\n",
       "      <td>...</td>\n",
       "      <td>...</td>\n",
       "      <td>...</td>\n",
       "      <td>...</td>\n",
       "      <td>...</td>\n",
       "      <td>...</td>\n",
       "    </tr>\n",
       "    <tr>\n",
       "      <th>2019-12-31 23:20:00</th>\n",
       "      <td>nan</td>\n",
       "      <td>100448</td>\n",
       "      <td>201391</td>\n",
       "      <td>일시불쿠첸압력밥솥 6인용</td>\n",
       "      <td>주방</td>\n",
       "      <td>148000</td>\n",
       "      <td>1664000.0000</td>\n",
       "    </tr>\n",
       "    <tr>\n",
       "      <th>2019-12-31 23:40:00</th>\n",
       "      <td>20.0000</td>\n",
       "      <td>100448</td>\n",
       "      <td>201383</td>\n",
       "      <td>무이자쿠첸압력밥솥 10인용</td>\n",
       "      <td>주방</td>\n",
       "      <td>178000</td>\n",
       "      <td>9149000.0000</td>\n",
       "    </tr>\n",
       "    <tr>\n",
       "      <th>2019-12-31 23:40:00</th>\n",
       "      <td>nan</td>\n",
       "      <td>100448</td>\n",
       "      <td>201390</td>\n",
       "      <td>일시불쿠첸압력밥솥 10인용</td>\n",
       "      <td>주방</td>\n",
       "      <td>168000</td>\n",
       "      <td>15282000.0000</td>\n",
       "    </tr>\n",
       "    <tr>\n",
       "      <th>2019-12-31 23:40:00</th>\n",
       "      <td>nan</td>\n",
       "      <td>100448</td>\n",
       "      <td>201384</td>\n",
       "      <td>무이자쿠첸압력밥솥 6인용</td>\n",
       "      <td>주방</td>\n",
       "      <td>158000</td>\n",
       "      <td>2328000.0000</td>\n",
       "    </tr>\n",
       "    <tr>\n",
       "      <th>2019-12-31 23:40:00</th>\n",
       "      <td>nan</td>\n",
       "      <td>100448</td>\n",
       "      <td>201391</td>\n",
       "      <td>일시불쿠첸압력밥솥 6인용</td>\n",
       "      <td>주방</td>\n",
       "      <td>148000</td>\n",
       "      <td>10157000.0000</td>\n",
       "    </tr>\n",
       "  </tbody>\n",
       "</table>\n",
       "<p>38300 rows × 7 columns</p>\n",
       "</div>"
      ],
      "text/plain": [
       "                      노출(분)    마더코드    상품코드             상품명 상품군    판매단가  \\\n",
       "방송일시                                                                      \n",
       "2019-01-01 06:00:00 20.0000  100346  201072   테이트 남성 셀린니트3종  의류   39900   \n",
       "2019-01-01 06:00:00     nan  100346  201079   테이트 여성 셀린니트3종  의류   39900   \n",
       "2019-01-01 06:20:00 20.0000  100346  201072   테이트 남성 셀린니트3종  의류   39900   \n",
       "2019-01-01 06:20:00     nan  100346  201079   테이트 여성 셀린니트3종  의류   39900   \n",
       "2019-01-01 06:40:00 20.0000  100346  201072   테이트 남성 셀린니트3종  의류   39900   \n",
       "...                     ...     ...     ...             ...  ..     ...   \n",
       "2019-12-31 23:20:00     nan  100448  201391   일시불쿠첸압력밥솥 6인용  주방  148000   \n",
       "2019-12-31 23:40:00 20.0000  100448  201383  무이자쿠첸압력밥솥 10인용  주방  178000   \n",
       "2019-12-31 23:40:00     nan  100448  201390  일시불쿠첸압력밥솥 10인용  주방  168000   \n",
       "2019-12-31 23:40:00     nan  100448  201384   무이자쿠첸압력밥솥 6인용  주방  158000   \n",
       "2019-12-31 23:40:00     nan  100448  201391   일시불쿠첸압력밥솥 6인용  주방  148000   \n",
       "\n",
       "                              취급액  \n",
       "방송일시                               \n",
       "2019-01-01 06:00:00  2099000.0000  \n",
       "2019-01-01 06:00:00  4371000.0000  \n",
       "2019-01-01 06:20:00  3262000.0000  \n",
       "2019-01-01 06:20:00  6955000.0000  \n",
       "2019-01-01 06:40:00  6672000.0000  \n",
       "...                           ...  \n",
       "2019-12-31 23:20:00  1664000.0000  \n",
       "2019-12-31 23:40:00  9149000.0000  \n",
       "2019-12-31 23:40:00 15282000.0000  \n",
       "2019-12-31 23:40:00  2328000.0000  \n",
       "2019-12-31 23:40:00 10157000.0000  \n",
       "\n",
       "[38300 rows x 7 columns]"
      ]
     },
     "execution_count": 6,
     "metadata": {},
     "output_type": "execute_result"
    }
   ],
   "source": [
    "data['train'] = pd.read_excel(r'../../data/01_제공데이터/2020 빅콘테스트 데이터분석분야-챔피언리그_2019년 실적데이터_v1_200818.xlsx',\n",
    "                       header=1,\n",
    "                       names=['방송일시', '노출(분)', '마더코드', '상품코드',\n",
    "                              '상품명', '상품군', '판매단가', '취급액'],\n",
    "                       thousands=',',\n",
    "                       )\n",
    "data['train'].index = pd.to_datetime(data['train']['방송일시'])\n",
    "data['train'] = data['train'].drop('방송일시',axis=1)\n",
    "data['train'] = data['train']['2019']\n",
    "data['train']"
   ]
  },
  {
   "cell_type": "code",
   "execution_count": 7,
   "metadata": {},
   "outputs": [],
   "source": [
    "data['train']['연'] = data['train'].index.map(lambda x: x.year)\n",
    "data['train']['월'] = data['train'].index.map(lambda x: x.month)\n",
    "data['train']['주'] = data['train'].index.map(lambda x: x.week)\n",
    "data['train']['일'] = data['train'].index.map(lambda x: x.day)\n",
    "data['train']['시'] = data['train'].index.map(lambda x: x.hour)\n",
    "data['train']['분'] = data['train'].index.map(lambda x: x.minute)\n",
    "data['train']['요일'] = data['train'].index.map(lambda x: calendar.day_abbr[x.weekday()])"
   ]
  },
  {
   "cell_type": "code",
   "execution_count": 9,
   "metadata": {},
   "outputs": [],
   "source": [
    "# 노출시간이 비어있을땐 앞을 보면 됨\n",
    "data['train'] = data['train'].fillna(method='ffill')"
   ]
  },
  {
   "cell_type": "code",
   "execution_count": 10,
   "metadata": {},
   "outputs": [],
   "source": [
    "def re_sub(series: pd.Series) -> pd.Series:\n",
    "    series = series.str.replace(pat=r'[ㄱ-ㅎ]', repl=r'', regex=True)  # ㅋ 제거용\n",
    "    series = series.str.replace(pat=r'[^\\w\\s]', repl=r'', regex=True)  # 특수문자 제거\n",
    "    series = series.str.replace(pat=r'[ ]{2,}', repl=r' ', regex=True)  # 공백 제거\n",
    "    series = series.str.replace(pat=r'[\\u3000]+', repl=r'', regex=True)  # u3000 제거\n",
    "    return series"
   ]
  },
  {
   "cell_type": "code",
   "execution_count": 11,
   "metadata": {},
   "outputs": [],
   "source": [
    "train = data['train'][['상품명', '상품군']].copy()\n",
    "train.상품명 = re_sub(train.상품명)"
   ]
  },
  {
   "cell_type": "code",
   "execution_count": 12,
   "metadata": {},
   "outputs": [],
   "source": [
    "prod_names = (train[train.상품군 != '무형'].상품명 + ' ' + train[train.상품군 != '무형'].상품군).values # len(prod_names) > 1692 (무형 빼고)"
   ]
  },
  {
   "cell_type": "code",
   "execution_count": 13,
   "metadata": {},
   "outputs": [
    {
     "name": "stdout",
     "output_type": "stream",
     "text": [
      "[('KOMORAN', 'SL'), ('은', 'JX'), ('한국어', 'NNP'), ('형태소', 'NNP'), ('분석기', 'NNG'), ('이', 'VCP'), ('ㅂ니다', 'EF'), ('.', 'SF')]\n"
     ]
    }
   ],
   "source": [
    "komoran = Komoran(userdic='../../data/04_추가데이터/user_dict_0913.txt')\n",
    "print(komoran.pos(\"KOMORAN은 한국어 형태소 분석기입니다.\"))"
   ]
  },
  {
   "cell_type": "markdown",
   "metadata": {},
   "source": [
    "### Plot"
   ]
  },
  {
   "cell_type": "code",
   "execution_count": 14,
   "metadata": {},
   "outputs": [
    {
     "data": {
      "image/png": "[encoded data removed]",
      "text/plain": [
       "<Figure size 432x288 with 1 Axes>"
      ]
     },
     "metadata": {},
     "output_type": "display_data"
    }
   ],
   "source": [
    "(data['train']['상품군'].value_counts().sort_index() / len(data['train']['상품군'])).plot(kind='barh')\n",
    "plt.show()"
   ]
  },
  {
   "cell_type": "code",
   "execution_count": 15,
   "metadata": {},
   "outputs": [
    {
     "data": {
      "text/plain": [
       "가구      2614\n",
       "가전      6479\n",
       "건강기능     790\n",
       "농수축     3884\n",
       "무형       932\n",
       "생활용품    2877\n",
       "속옷      3919\n",
       "의류      4340\n",
       "이미용     1305\n",
       "잡화      3891\n",
       "주방      6600\n",
       "침구       669\n",
       "Name: 상품군, dtype: int64"
      ]
     },
     "execution_count": 15,
     "metadata": {},
     "output_type": "execute_result"
    }
   ],
   "source": [
    "data['train']['상품군'].value_counts().sort_index()"
   ]
  },
  {
   "cell_type": "code",
   "execution_count": 17,
   "metadata": {},
   "outputs": [
    {
     "data": {
      "text/plain": [
       "38300"
      ]
     },
     "execution_count": 17,
     "metadata": {},
     "output_type": "execute_result"
    }
   ],
   "source": [
    "len(data['train']['상품군'])"
   ]
  },
  {
   "cell_type": "code",
   "execution_count": 21,
   "metadata": {},
   "outputs": [],
   "source": [
    "train = data['train'].copy()"
   ]
  },
  {
   "cell_type": "code",
   "execution_count": 22,
   "metadata": {},
   "outputs": [],
   "source": [
    "train['indice'] = train.index"
   ]
  },
  {
   "cell_type": "code",
   "execution_count": 25,
   "metadata": {},
   "outputs": [],
   "source": [
    "unique_time = train.drop_duplicates(subset='indice')"
   ]
  },
  {
   "cell_type": "code",
   "execution_count": 26,
   "metadata": {},
   "outputs": [
    {
     "data": {
      "image/png": "[encoded data removed]",
      "text/plain": [
       "<Figure size 432x288 with 1 Axes>"
      ]
     },
     "metadata": {},
     "output_type": "display_data"
    }
   ],
   "source": [
    "(unique_time['상품군'].value_counts().sort_index() / len(unique_time['상품군'])).plot(kind='barh')\n",
    "plt.show()"
   ]
  },
  {
   "cell_type": "code",
   "execution_count": null,
   "metadata": {},
   "outputs": [],
   "source": []
  }
 ],
 "metadata": {
  "kernelspec": {
   "display_name": "Python 3",
   "language": "python",
   "name": "python3"
  },
  "language_info": {
   "codemirror_mode": {
    "name": "ipython",
    "version": 3
   },
   "file_extension": ".py",
   "mimetype": "text/x-python",
   "name": "python",
   "nbconvert_exporter": "python",
   "pygments_lexer": "ipython3",
   "version": "3.7.7"
  }
 },
 "nbformat": 4,
 "nbformat_minor": 4
}

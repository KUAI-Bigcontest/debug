{
 "cells": [
  {
   "cell_type": "code",
   "execution_count": 175,
   "metadata": {
    "ExecuteTime": {
     "end_time": "2020-09-26T13:39:51.701781Z",
     "start_time": "2020-09-26T13:39:51.694195Z"
    }
   },
   "outputs": [],
   "source": [
    "#########\n",
    "# BASIC #\n",
    "#########\n",
    "import os\n",
    "import sys\n",
    "import platform\n",
    "import warnings\n",
    "from datetime import datetime\n",
    "from collections import Counter\n",
    "import calendar\n",
    "from tqdm.notebook import tqdm_notebook\n",
    "\n",
    "#############\n",
    "# LOAD DATA #\n",
    "#############\n",
    "import numpy as np\n",
    "import pandas as pd\n",
    "\n",
    "#############################\n",
    "# EXPLORATORY DATA ANALYSIS #\n",
    "#############################\n",
    "import matplotlib as mpl\n",
    "import matplotlib.pyplot as plt\n",
    "import seaborn as sns\n",
    "import missingno as msno\n",
    "\n",
    "######################\n",
    "# DATA PREPROCESSING #\n",
    "######################\n",
    "import re\n",
    "from sklearn.decomposition import PCA\n",
    "from sklearn.preprocessing import LabelEncoder\n",
    "from sklearn.preprocessing import OneHotEncoder\n",
    "## NATURAL LANGUAGE PROCESSING \n",
    "from konlpy.tag import Komoran\n",
    "from gensim.models import Word2Vec"
   ]
  },
  {
   "cell_type": "code",
   "execution_count": 176,
   "metadata": {
    "ExecuteTime": {
     "end_time": "2020-09-26T13:39:51.924358Z",
     "start_time": "2020-09-26T13:39:51.918363Z"
    }
   },
   "outputs": [],
   "source": [
    "warnings.filterwarnings(action='ignore')\n",
    "pd.options.display.float_format = '{:.4f}'.format\n",
    "# plt.style.use('ggplot')\n",
    "if platform.platform().split('-')[0] == 'Windows':\n",
    "    mpl.rcParams['font.family'] = 'Malgun Gothic' # Windows에서는 한글이 나오게 하기 위해서\n",
    "else: # macOS라고 가정\n",
    "    mpl.rcParams['font.family'] = 'AppleGothic' # mac에서는 한글이 나오게 하기 위해서\n",
    "\n",
    "mpl.rcParams['axes.unicode_minus'] = False\n",
    "plt.style.use('ggplot')"
   ]
  },
  {
   "cell_type": "code",
   "execution_count": 177,
   "metadata": {
    "ExecuteTime": {
     "end_time": "2020-09-26T13:39:52.099366Z",
     "start_time": "2020-09-26T13:39:52.085368Z"
    }
   },
   "outputs": [],
   "source": [
    "data = dict()"
   ]
  },
  {
   "cell_type": "code",
   "execution_count": 178,
   "metadata": {
    "ExecuteTime": {
     "end_time": "2020-09-26T13:39:55.866993Z",
     "start_time": "2020-09-26T13:39:52.279337Z"
    }
   },
   "outputs": [
    {
     "data": {
      "text/html": [
       "<div>\n",
       "<style scoped>\n",
       "    .dataframe tbody tr th:only-of-type {\n",
       "        vertical-align: middle;\n",
       "    }\n",
       "\n",
       "    .dataframe tbody tr th {\n",
       "        vertical-align: top;\n",
       "    }\n",
       "\n",
       "    .dataframe thead th {\n",
       "        text-align: right;\n",
       "    }\n",
       "</style>\n",
       "<table border=\"1\" class=\"dataframe\">\n",
       "  <thead>\n",
       "    <tr style=\"text-align: right;\">\n",
       "      <th></th>\n",
       "      <th>노출(분)</th>\n",
       "      <th>마더코드</th>\n",
       "      <th>상품코드</th>\n",
       "      <th>상품명</th>\n",
       "      <th>상품군</th>\n",
       "      <th>판매단가</th>\n",
       "      <th>취급액</th>\n",
       "    </tr>\n",
       "    <tr>\n",
       "      <th>방송일시</th>\n",
       "      <th></th>\n",
       "      <th></th>\n",
       "      <th></th>\n",
       "      <th></th>\n",
       "      <th></th>\n",
       "      <th></th>\n",
       "      <th></th>\n",
       "    </tr>\n",
       "  </thead>\n",
       "  <tbody>\n",
       "    <tr>\n",
       "      <th>2019-01-01 06:00:00</th>\n",
       "      <td>20.0000</td>\n",
       "      <td>100346</td>\n",
       "      <td>201072</td>\n",
       "      <td>테이트 남성 셀린니트3종</td>\n",
       "      <td>의류</td>\n",
       "      <td>39900</td>\n",
       "      <td>2099000.0000</td>\n",
       "    </tr>\n",
       "    <tr>\n",
       "      <th>2019-01-01 06:00:00</th>\n",
       "      <td>nan</td>\n",
       "      <td>100346</td>\n",
       "      <td>201079</td>\n",
       "      <td>테이트 여성 셀린니트3종</td>\n",
       "      <td>의류</td>\n",
       "      <td>39900</td>\n",
       "      <td>4371000.0000</td>\n",
       "    </tr>\n",
       "    <tr>\n",
       "      <th>2019-01-01 06:20:00</th>\n",
       "      <td>20.0000</td>\n",
       "      <td>100346</td>\n",
       "      <td>201072</td>\n",
       "      <td>테이트 남성 셀린니트3종</td>\n",
       "      <td>의류</td>\n",
       "      <td>39900</td>\n",
       "      <td>3262000.0000</td>\n",
       "    </tr>\n",
       "    <tr>\n",
       "      <th>2019-01-01 06:20:00</th>\n",
       "      <td>nan</td>\n",
       "      <td>100346</td>\n",
       "      <td>201079</td>\n",
       "      <td>테이트 여성 셀린니트3종</td>\n",
       "      <td>의류</td>\n",
       "      <td>39900</td>\n",
       "      <td>6955000.0000</td>\n",
       "    </tr>\n",
       "    <tr>\n",
       "      <th>2019-01-01 06:40:00</th>\n",
       "      <td>20.0000</td>\n",
       "      <td>100346</td>\n",
       "      <td>201072</td>\n",
       "      <td>테이트 남성 셀린니트3종</td>\n",
       "      <td>의류</td>\n",
       "      <td>39900</td>\n",
       "      <td>6672000.0000</td>\n",
       "    </tr>\n",
       "    <tr>\n",
       "      <th>...</th>\n",
       "      <td>...</td>\n",
       "      <td>...</td>\n",
       "      <td>...</td>\n",
       "      <td>...</td>\n",
       "      <td>...</td>\n",
       "      <td>...</td>\n",
       "      <td>...</td>\n",
       "    </tr>\n",
       "    <tr>\n",
       "      <th>2019-12-31 23:20:00</th>\n",
       "      <td>nan</td>\n",
       "      <td>100448</td>\n",
       "      <td>201391</td>\n",
       "      <td>일시불쿠첸압력밥솥 6인용</td>\n",
       "      <td>주방</td>\n",
       "      <td>148000</td>\n",
       "      <td>1664000.0000</td>\n",
       "    </tr>\n",
       "    <tr>\n",
       "      <th>2019-12-31 23:40:00</th>\n",
       "      <td>20.0000</td>\n",
       "      <td>100448</td>\n",
       "      <td>201383</td>\n",
       "      <td>무이자쿠첸압력밥솥 10인용</td>\n",
       "      <td>주방</td>\n",
       "      <td>178000</td>\n",
       "      <td>9149000.0000</td>\n",
       "    </tr>\n",
       "    <tr>\n",
       "      <th>2019-12-31 23:40:00</th>\n",
       "      <td>nan</td>\n",
       "      <td>100448</td>\n",
       "      <td>201390</td>\n",
       "      <td>일시불쿠첸압력밥솥 10인용</td>\n",
       "      <td>주방</td>\n",
       "      <td>168000</td>\n",
       "      <td>15282000.0000</td>\n",
       "    </tr>\n",
       "    <tr>\n",
       "      <th>2019-12-31 23:40:00</th>\n",
       "      <td>nan</td>\n",
       "      <td>100448</td>\n",
       "      <td>201384</td>\n",
       "      <td>무이자쿠첸압력밥솥 6인용</td>\n",
       "      <td>주방</td>\n",
       "      <td>158000</td>\n",
       "      <td>2328000.0000</td>\n",
       "    </tr>\n",
       "    <tr>\n",
       "      <th>2019-12-31 23:40:00</th>\n",
       "      <td>nan</td>\n",
       "      <td>100448</td>\n",
       "      <td>201391</td>\n",
       "      <td>일시불쿠첸압력밥솥 6인용</td>\n",
       "      <td>주방</td>\n",
       "      <td>148000</td>\n",
       "      <td>10157000.0000</td>\n",
       "    </tr>\n",
       "  </tbody>\n",
       "</table>\n",
       "<p>38300 rows × 7 columns</p>\n",
       "</div>"
      ],
      "text/plain": [
       "                      노출(분)    마더코드    상품코드             상품명 상품군    판매단가  \\\n",
       "방송일시                                                                      \n",
       "2019-01-01 06:00:00 20.0000  100346  201072   테이트 남성 셀린니트3종  의류   39900   \n",
       "2019-01-01 06:00:00     nan  100346  201079   테이트 여성 셀린니트3종  의류   39900   \n",
       "2019-01-01 06:20:00 20.0000  100346  201072   테이트 남성 셀린니트3종  의류   39900   \n",
       "2019-01-01 06:20:00     nan  100346  201079   테이트 여성 셀린니트3종  의류   39900   \n",
       "2019-01-01 06:40:00 20.0000  100346  201072   테이트 남성 셀린니트3종  의류   39900   \n",
       "...                     ...     ...     ...             ...  ..     ...   \n",
       "2019-12-31 23:20:00     nan  100448  201391   일시불쿠첸압력밥솥 6인용  주방  148000   \n",
       "2019-12-31 23:40:00 20.0000  100448  201383  무이자쿠첸압력밥솥 10인용  주방  178000   \n",
       "2019-12-31 23:40:00     nan  100448  201390  일시불쿠첸압력밥솥 10인용  주방  168000   \n",
       "2019-12-31 23:40:00     nan  100448  201384   무이자쿠첸압력밥솥 6인용  주방  158000   \n",
       "2019-12-31 23:40:00     nan  100448  201391   일시불쿠첸압력밥솥 6인용  주방  148000   \n",
       "\n",
       "                              취급액  \n",
       "방송일시                               \n",
       "2019-01-01 06:00:00  2099000.0000  \n",
       "2019-01-01 06:00:00  4371000.0000  \n",
       "2019-01-01 06:20:00  3262000.0000  \n",
       "2019-01-01 06:20:00  6955000.0000  \n",
       "2019-01-01 06:40:00  6672000.0000  \n",
       "...                           ...  \n",
       "2019-12-31 23:20:00  1664000.0000  \n",
       "2019-12-31 23:40:00  9149000.0000  \n",
       "2019-12-31 23:40:00 15282000.0000  \n",
       "2019-12-31 23:40:00  2328000.0000  \n",
       "2019-12-31 23:40:00 10157000.0000  \n",
       "\n",
       "[38300 rows x 7 columns]"
      ]
     },
     "execution_count": 178,
     "metadata": {},
     "output_type": "execute_result"
    }
   ],
   "source": [
    "data['train'] = pd.read_excel(r'../../data/01_제공데이터/2020 빅콘테스트 데이터분석분야-챔피언리그_2019년 실적데이터_v1_200818.xlsx',\n",
    "                       header=1,\n",
    "                       names=['방송일시', '노출(분)', '마더코드', '상품코드',\n",
    "                              '상품명', '상품군', '판매단가', '취급액'],\n",
    "                       thousands=',',\n",
    "                       )\n",
    "data['train'].index = pd.to_datetime(data['train']['방송일시'])\n",
    "data['train'] = data['train'].drop('방송일시',axis=1)\n",
    "data['train'] = data['train']['2019']\n",
    "data['train']"
   ]
  },
  {
   "cell_type": "code",
   "execution_count": 179,
   "metadata": {
    "ExecuteTime": {
     "end_time": "2020-09-26T13:39:56.120503Z",
     "start_time": "2020-09-26T13:39:55.867991Z"
    }
   },
   "outputs": [],
   "source": [
    "data['train']['연'] = data['train'].index.map(lambda x: x.year)\n",
    "data['train']['월'] = data['train'].index.map(lambda x: x.month)\n",
    "data['train']['주'] = data['train'].index.map(lambda x: x.week)\n",
    "data['train']['일'] = data['train'].index.map(lambda x: x.day)\n",
    "data['train']['시'] = data['train'].index.map(lambda x: x.hour)\n",
    "data['train']['분'] = data['train'].index.map(lambda x: x.minute)\n",
    "data['train']['요일'] = data['train'].index.map(lambda x: calendar.day_abbr[x.weekday()])"
   ]
  },
  {
   "cell_type": "code",
   "execution_count": 180,
   "metadata": {
    "ExecuteTime": {
     "end_time": "2020-09-26T13:39:56.422049Z",
     "start_time": "2020-09-26T13:39:56.122503Z"
    }
   },
   "outputs": [],
   "source": [
    "data['train']['day'] = data['train'].index.map(lambda x: str(x.year) + str(x.month).zfill(2) + str(x.day).zfill(2))"
   ]
  },
  {
   "cell_type": "code",
   "execution_count": 181,
   "metadata": {
    "ExecuteTime": {
     "end_time": "2020-09-26T13:39:57.842638Z",
     "start_time": "2020-09-26T13:39:56.424049Z"
    }
   },
   "outputs": [
    {
     "data": {
      "text/plain": [
       "35.679452054794524"
      ]
     },
     "execution_count": 181,
     "metadata": {},
     "output_type": "execute_result"
    }
   ],
   "source": [
    "#for date in data['train'].day.unique():\n",
    "np.array([data['train'][data['train'].day==date].drop_duplicates(['상품명']).shape[0] for date in data['train'].day.unique()]).mean()"
   ]
  },
  {
   "cell_type": "code",
   "execution_count": 110,
   "metadata": {
    "ExecuteTime": {
     "end_time": "2020-09-26T13:13:26.505642Z",
     "start_time": "2020-09-26T13:13:26.485073Z"
    }
   },
   "outputs": [],
   "source": [
    "# 노출시간이 비어있을땐 앞을 보면 됨\n",
    "# data['train'] = data['train'].fillna(method='ffill')"
   ]
  },
  {
   "cell_type": "code",
   "execution_count": 182,
   "metadata": {
    "ExecuteTime": {
     "end_time": "2020-09-26T13:39:57.857792Z",
     "start_time": "2020-09-26T13:39:57.844610Z"
    }
   },
   "outputs": [],
   "source": [
    "def re_sub(series: pd.Series) -> pd.Series:\n",
    "    series = series.str.replace(pat=r'[ㄱ-ㅎ]', repl=r'', regex=True)  # ㅋ 제거용\n",
    "    series = series.str.replace(pat=r'[^\\w\\s]', repl=r'', regex=True)  # 특수문자 제거\n",
    "    series = series.str.replace(pat=r'[ ]{2,}', repl=r' ', regex=True)  # 공백 제거\n",
    "    series = series.str.replace(pat=r'[\\u3000]+', repl=r'', regex=True)  # u3000 제거\n",
    "    return series"
   ]
  },
  {
   "cell_type": "code",
   "execution_count": 183,
   "metadata": {
    "ExecuteTime": {
     "end_time": "2020-09-26T13:39:58.000793Z",
     "start_time": "2020-09-26T13:39:57.858793Z"
    }
   },
   "outputs": [],
   "source": [
    "train = data['train'][['상품명', '상품군']].copy()\n",
    "train.상품명 = re_sub(train.상품명)"
   ]
  },
  {
   "cell_type": "code",
   "execution_count": 184,
   "metadata": {
    "ExecuteTime": {
     "end_time": "2020-09-26T13:39:58.032820Z",
     "start_time": "2020-09-26T13:39:58.001815Z"
    }
   },
   "outputs": [],
   "source": [
    "prod_names = (train[train.상품군 != '무형'].상품명 + ' ' + train[train.상품군 != '무형'].상품군).values # len(prod_names) > 1692 (무형 빼고)"
   ]
  },
  {
   "cell_type": "code",
   "execution_count": 185,
   "metadata": {
    "ExecuteTime": {
     "end_time": "2020-09-26T13:39:59.620404Z",
     "start_time": "2020-09-26T13:39:58.033820Z"
    }
   },
   "outputs": [
    {
     "name": "stdout",
     "output_type": "stream",
     "text": [
      "[('KOMORAN', 'SL'), ('은', 'JX'), ('한국어', 'NNP'), ('형태소', 'NNP'), ('분석기', 'NNG'), ('이', 'VCP'), ('ㅂ니다', 'EF'), ('.', 'SF')]\n"
     ]
    }
   ],
   "source": [
    "komoran = Komoran(userdic='../../data/04_추가데이터/user_dict_0913.txt')\n",
    "print(komoran.pos(\"KOMORAN은 한국어 형태소 분석기입니다.\"))"
   ]
  },
  {
   "cell_type": "code",
   "execution_count": 186,
   "metadata": {
    "ExecuteTime": {
     "end_time": "2020-09-26T13:40:08.647191Z",
     "start_time": "2020-09-26T13:39:59.622373Z"
    }
   },
   "outputs": [],
   "source": [
    "naive_tokens = list(map(komoran.pos, prod_names))"
   ]
  },
  {
   "cell_type": "code",
   "execution_count": 187,
   "metadata": {
    "ExecuteTime": {
     "end_time": "2020-09-26T13:40:08.789216Z",
     "start_time": "2020-09-26T13:40:08.649191Z"
    }
   },
   "outputs": [],
   "source": [
    "def morph_filter(lst):\n",
    "    return list(map(lambda x: x[0], filter(lambda x: (x[1] in usable_morphs), lst)))\n",
    "\n",
    "usable_morphs = ['NNG', 'NNP', 'NP', 'NR'] #+ ['SL', 'SN']\n",
    "naive_tokens = list(map(morph_filter, naive_tokens))"
   ]
  },
  {
   "cell_type": "code",
   "execution_count": 188,
   "metadata": {
    "ExecuteTime": {
     "end_time": "2020-09-26T13:40:08.869240Z",
     "start_time": "2020-09-26T13:40:08.791216Z"
    }
   },
   "outputs": [],
   "source": [
    "exclude_words = ['종', '인용']\n",
    "def exclude(lst):\n",
    "    return list(filter(lambda x: x not in exclude_words, lst))\n",
    "processed_tokens = list(map(exclude, naive_tokens))"
   ]
  },
  {
   "cell_type": "code",
   "execution_count": 189,
   "metadata": {
    "ExecuteTime": {
     "end_time": "2020-09-26T13:40:08.901240Z",
     "start_time": "2020-09-26T13:40:08.870247Z"
    }
   },
   "outputs": [],
   "source": [
    "to_string = list(map(lambda x: ' '.join(x[:-1]), processed_tokens))"
   ]
  },
  {
   "cell_type": "code",
   "execution_count": 190,
   "metadata": {
    "ExecuteTime": {
     "end_time": "2020-09-26T13:40:08.917240Z",
     "start_time": "2020-09-26T13:40:08.902217Z"
    }
   },
   "outputs": [],
   "source": [
    "train = data['train'][data['train'].상품군 != '무형']"
   ]
  },
  {
   "cell_type": "code",
   "execution_count": 191,
   "metadata": {
    "ExecuteTime": {
     "end_time": "2020-09-26T13:40:08.933215Z",
     "start_time": "2020-09-26T13:40:08.918249Z"
    }
   },
   "outputs": [],
   "source": [
    "train['unique_name'] = to_string"
   ]
  },
  {
   "cell_type": "markdown",
   "metadata": {},
   "source": [
    "### Plot"
   ]
  },
  {
   "cell_type": "code",
   "execution_count": 121,
   "metadata": {
    "ExecuteTime": {
     "end_time": "2020-09-26T13:13:42.683134Z",
     "start_time": "2020-09-26T13:13:42.479072Z"
    }
   },
   "outputs": [
    {
     "data": {
      "image/png": "[encoded data removed]",
      "text/plain": [
       "<Figure size 432x288 with 1 Axes>"
      ]
     },
     "metadata": {},
     "output_type": "display_data"
    }
   ],
   "source": [
    "(data['train']['상품군'].value_counts().sort_index() / len(data['train']['상품군'])).plot(kind='barh')\n",
    "plt.show()"
   ]
  },
  {
   "cell_type": "code",
   "execution_count": 127,
   "metadata": {
    "ExecuteTime": {
     "end_time": "2020-09-26T13:14:03.167759Z",
     "start_time": "2020-09-26T13:14:03.157550Z"
    }
   },
   "outputs": [],
   "source": [
    "train['indice'] = train.index"
   ]
  },
  {
   "cell_type": "code",
   "execution_count": 128,
   "metadata": {
    "ExecuteTime": {
     "end_time": "2020-09-26T13:14:03.541943Z",
     "start_time": "2020-09-26T13:14:03.525229Z"
    }
   },
   "outputs": [],
   "source": [
    "unique_time = train.drop_duplicates(subset='indice')"
   ]
  },
  {
   "cell_type": "code",
   "execution_count": 129,
   "metadata": {
    "ExecuteTime": {
     "end_time": "2020-09-26T13:14:04.438420Z",
     "start_time": "2020-09-26T13:14:04.193859Z"
    }
   },
   "outputs": [
    {
     "data": {
      "image/png": "[encoded data removed]",
      "text/plain": [
       "<Figure size 720x504 with 1 Axes>"
      ]
     },
     "metadata": {},
     "output_type": "display_data"
    }
   ],
   "source": [
    "ax = (unique_time['상품군'].value_counts().sort_index() / len(unique_time['상품군']) * 100).plot(kind='barh', figsize=(10,7),\n",
    "                                        color=\"coral\", fontsize=13);\n",
    "ax.set_alpha(0.8)\n",
    "ax.set_title(\"전체 방송일자 중 방송된 상품군의 비율\", fontsize=18)\n",
    "ax.set_xlabel(\"비율(%)\", fontsize=18);\n",
    "#ax.set_xticks([0, 5, 10, 15, 20])\n",
    "\n",
    "# create a list to collect the plt.patches data\n",
    "totals = []\n",
    "\n",
    "# find the values and append to list\n",
    "for i in ax.patches:\n",
    "    totals.append(i.get_width())\n",
    "\n",
    "# set individual bar lables using above list\n",
    "total = sum(totals)\n",
    "\n",
    "# set individual bar lables using above list\n",
    "for i in ax.patches:\n",
    "    # get_width pulls left or right; get_y pushes up or down\n",
    "    ax.text(i.get_width()-1, i.get_y()+.38, \\\n",
    "            str(round((i.get_width()/total)*100, 2))+'%', fontsize=11,\n",
    "color='white')\n",
    "\n",
    "# invert for largest on top \n",
    "ax.invert_yaxis()"
   ]
  },
  {
   "cell_type": "code",
   "execution_count": 130,
   "metadata": {
    "ExecuteTime": {
     "end_time": "2020-09-26T13:14:06.016469Z",
     "start_time": "2020-09-26T13:14:05.821890Z"
    }
   },
   "outputs": [
    {
     "data": {
      "image/png": "[encoded data removed]",
      "text/plain": [
       "<Figure size 432x288 with 1 Axes>"
      ]
     },
     "metadata": {},
     "output_type": "display_data"
    }
   ],
   "source": [
    "(unique_time['상품군'].value_counts().sort_index() / len(unique_time['상품군']) * 100).plot(kind='barh')\n",
    "plt.xlabel('전체 방송 상품군 비율 (%)')\n",
    "plt.show()"
   ]
  },
  {
   "cell_type": "code",
   "execution_count": 131,
   "metadata": {
    "ExecuteTime": {
     "end_time": "2020-09-26T13:14:06.826614Z",
     "start_time": "2020-09-26T13:14:06.549499Z"
    }
   },
   "outputs": [
    {
     "data": {
      "image/png": "[encoded data removed]",
      "text/plain": [
       "<Figure size 1008x720 with 1 Axes>"
      ]
     },
     "metadata": {},
     "output_type": "display_data"
    }
   ],
   "source": [
    "ax = data['train'].pivot_table(values=['취급액'],\n",
    "                   index=['상품군'],\n",
    "                   aggfunc='mean').sort_values(by='취급액',ascending=True).plot(kind='barh', figsize=(14, 10))\n",
    "ax.set_alpha(0.8)\n",
    "ax.set_title(\"전체 상품군별 총매출\", fontsize=18)\n",
    "ax.set_xlabel(\"(단위: 천만원)\", fontsize=14)\n",
    "\n",
    "totals = []\n",
    "for i in ax.patches:\n",
    "    totals.append(i.get_width())\n",
    "\n",
    "total = sum(totals)\n",
    "\n",
    "for i in ax.patches:\n",
    "    ax.text(i.get_width() + 3, i.get_y()+.15, \\\n",
    "            str(round((i.get_width()/total)*100, 2))+'%', fontsize=13, color='black')"
   ]
  },
  {
   "cell_type": "code",
   "execution_count": 132,
   "metadata": {
    "ExecuteTime": {
     "end_time": "2020-09-26T13:14:07.372433Z",
     "start_time": "2020-09-26T13:14:07.356707Z"
    }
   },
   "outputs": [],
   "source": [
    "import plotly.express as px"
   ]
  },
  {
   "cell_type": "code",
   "execution_count": 133,
   "metadata": {
    "ExecuteTime": {
     "end_time": "2020-09-26T13:14:07.744790Z",
     "start_time": "2020-09-26T13:14:07.725750Z"
    }
   },
   "outputs": [],
   "source": [
    "df = train.pivot_table(values=['취급액'],\n",
    "                   index=['상품군'],\n",
    "                   aggfunc='mean').sort_values(by='취급액',ascending=True)"
   ]
  },
  {
   "cell_type": "code",
   "execution_count": 134,
   "metadata": {
    "ExecuteTime": {
     "end_time": "2020-09-26T13:14:08.086782Z",
     "start_time": "2020-09-26T13:14:08.071661Z"
    }
   },
   "outputs": [
    {
     "data": {
      "text/plain": [
       "상품군\n",
       "침구     10454844.5441\n",
       "가구     12391816.3734\n",
       "잡화     16673807.2475\n",
       "생활용품   18220389.9896\n",
       "가전     18234110.2022\n",
       "주방     19216153.1818\n",
       "의류     24432825.1152\n",
       "건강기능   25505397.4684\n",
       "속옷     26097666.2414\n",
       "이미용    37795110.3448\n",
       "농수축    42724572.8630\n",
       "Name: 취급액, dtype: float64"
      ]
     },
     "execution_count": 134,
     "metadata": {},
     "output_type": "execute_result"
    }
   ],
   "source": [
    "df.취급액"
   ]
  },
  {
   "cell_type": "code",
   "execution_count": 135,
   "metadata": {
    "ExecuteTime": {
     "end_time": "2020-09-26T13:14:08.537412Z",
     "start_time": "2020-09-26T13:14:08.495229Z"
    }
   },
   "outputs": [
    {
     "data": {
      "application/vnd.plotly.v1+json": {
       "config": {
        "plotlyServerURL": "https://plotly.com"
       },
       "data": [
        {
         "domain": {
          "x": [
           0,
           1
          ],
          "y": [
           0,
           1
          ]
         },
         "hovertemplate": "상품군=%{label}<br>취급액=%{value}<extra></extra>",
         "labels": [
          "침구",
          "가구",
          "잡화",
          "생활용품",
          "가전",
          "주방",
          "의류",
          "건강기능",
          "속옷",
          "이미용",
          "농수축"
         ],
         "legendgroup": "",
         "name": "",
         "showlegend": true,
         "textinfo": "percent+label",
         "textposition": "inside",
         "type": "pie",
         "values": [
          10454844.544095665,
          12391816.37337414,
          16673807.247494217,
          18220389.989572473,
          18234110.202191696,
          19216153.181818184,
          24432825.115207374,
          25505397.46835443,
          26097666.24138811,
          37795110.344827585,
          42724572.8630278
         ]
        }
       ],
       "layout": {
        "legend": {
         "tracegroupgap": 0
        },
        "piecolorway": [
         "rgb(103,0,31)",
         "rgb(178,24,43)",
         "rgb(214,96,77)",
         "rgb(244,165,130)",
         "rgb(253,219,199)",
         "rgb(247,247,247)",
         "rgb(209,229,240)",
         "rgb(146,197,222)",
         "rgb(67,147,195)",
         "rgb(33,102,172)",
         "rgb(5,48,97)"
        ],
        "template": {
         "data": {
          "bar": [
           {
            "error_x": {
             "color": "#2a3f5f"
            },
            "error_y": {
             "color": "#2a3f5f"
            },
            "marker": {
             "line": {
              "color": "#E5ECF6",
              "width": 0.5
             }
            },
            "type": "bar"
           }
          ],
          "barpolar": [
           {
            "marker": {
             "line": {
              "color": "#E5ECF6",
              "width": 0.5
             }
            },
            "type": "barpolar"
           }
          ],
          "carpet": [
           {
            "aaxis": {
             "endlinecolor": "#2a3f5f",
             "gridcolor": "white",
             "linecolor": "white",
             "minorgridcolor": "white",
             "startlinecolor": "#2a3f5f"
            },
            "baxis": {
             "endlinecolor": "#2a3f5f",
             "gridcolor": "white",
             "linecolor": "white",
             "minorgridcolor": "white",
             "startlinecolor": "#2a3f5f"
            },
            "type": "carpet"
           }
          ],
          "choropleth": [
           {
            "colorbar": {
             "outlinewidth": 0,
             "ticks": ""
            },
            "type": "choropleth"
           }
          ],
          "contour": [
           {
            "colorbar": {
             "outlinewidth": 0,
             "ticks": ""
            },
            "colorscale": [
             [
              0,
              "#0d0887"
             ],
             [
              0.1111111111111111,
              "#46039f"
             ],
             [
              0.2222222222222222,
              "#7201a8"
             ],
             [
              0.3333333333333333,
              "#9c179e"
             ],
             [
              0.4444444444444444,
              "#bd3786"
             ],
             [
              0.5555555555555556,
              "#d8576b"
             ],
             [
              0.6666666666666666,
              "#ed7953"
             ],
             [
              0.7777777777777778,
              "#fb9f3a"
             ],
             [
              0.8888888888888888,
              "#fdca26"
             ],
             [
              1,
              "#f0f921"
             ]
            ],
            "type": "contour"
           }
          ],
          "contourcarpet": [
           {
            "colorbar": {
             "outlinewidth": 0,
             "ticks": ""
            },
            "type": "contourcarpet"
           }
          ],
          "heatmap": [
           {
            "colorbar": {
             "outlinewidth": 0,
             "ticks": ""
            },
            "colorscale": [
             [
              0,
              "#0d0887"
             ],
             [
              0.1111111111111111,
              "#46039f"
             ],
             [
              0.2222222222222222,
              "#7201a8"
             ],
             [
              0.3333333333333333,
              "#9c179e"
             ],
             [
              0.4444444444444444,
              "#bd3786"
             ],
             [
              0.5555555555555556,
              "#d8576b"
             ],
             [
              0.6666666666666666,
              "#ed7953"
             ],
             [
              0.7777777777777778,
              "#fb9f3a"
             ],
             [
              0.8888888888888888,
              "#fdca26"
             ],
             [
              1,
              "#f0f921"
             ]
            ],
            "type": "heatmap"
           }
          ],
          "heatmapgl": [
           {
            "colorbar": {
             "outlinewidth": 0,
             "ticks": ""
            },
            "colorscale": [
             [
              0,
              "#0d0887"
             ],
             [
              0.1111111111111111,
              "#46039f"
             ],
             [
              0.2222222222222222,
              "#7201a8"
             ],
             [
              0.3333333333333333,
              "#9c179e"
             ],
             [
              0.4444444444444444,
              "#bd3786"
             ],
             [
              0.5555555555555556,
              "#d8576b"
             ],
             [
              0.6666666666666666,
              "#ed7953"
             ],
             [
              0.7777777777777778,
              "#fb9f3a"
             ],
             [
              0.8888888888888888,
              "#fdca26"
             ],
             [
              1,
              "#f0f921"
             ]
            ],
            "type": "heatmapgl"
           }
          ],
          "histogram": [
           {
            "marker": {
             "colorbar": {
              "outlinewidth": 0,
              "ticks": ""
             }
            },
            "type": "histogram"
           }
          ],
          "histogram2d": [
           {
            "colorbar": {
             "outlinewidth": 0,
             "ticks": ""
            },
            "colorscale": [
             [
              0,
              "#0d0887"
             ],
             [
              0.1111111111111111,
              "#46039f"
             ],
             [
              0.2222222222222222,
              "#7201a8"
             ],
             [
              0.3333333333333333,
              "#9c179e"
             ],
             [
              0.4444444444444444,
              "#bd3786"
             ],
             [
              0.5555555555555556,
              "#d8576b"
             ],
             [
              0.6666666666666666,
              "#ed7953"
             ],
             [
              0.7777777777777778,
              "#fb9f3a"
             ],
             [
              0.8888888888888888,
              "#fdca26"
             ],
             [
              1,
              "#f0f921"
             ]
            ],
            "type": "histogram2d"
           }
          ],
          "histogram2dcontour": [
           {
            "colorbar": {
             "outlinewidth": 0,
             "ticks": ""
            },
            "colorscale": [
             [
              0,
              "#0d0887"
             ],
             [
              0.1111111111111111,
              "#46039f"
             ],
             [
              0.2222222222222222,
              "#7201a8"
             ],
             [
              0.3333333333333333,
              "#9c179e"
             ],
             [
              0.4444444444444444,
              "#bd3786"
             ],
             [
              0.5555555555555556,
              "#d8576b"
             ],
             [
              0.6666666666666666,
              "#ed7953"
             ],
             [
              0.7777777777777778,
              "#fb9f3a"
             ],
             [
              0.8888888888888888,
              "#fdca26"
             ],
             [
              1,
              "#f0f921"
             ]
            ],
            "type": "histogram2dcontour"
           }
          ],
          "mesh3d": [
           {
            "colorbar": {
             "outlinewidth": 0,
             "ticks": ""
            },
            "type": "mesh3d"
           }
          ],
          "parcoords": [
           {
            "line": {
             "colorbar": {
              "outlinewidth": 0,
              "ticks": ""
             }
            },
            "type": "parcoords"
           }
          ],
          "pie": [
           {
            "automargin": true,
            "type": "pie"
           }
          ],
          "scatter": [
           {
            "marker": {
             "colorbar": {
              "outlinewidth": 0,
              "ticks": ""
             }
            },
            "type": "scatter"
           }
          ],
          "scatter3d": [
           {
            "line": {
             "colorbar": {
              "outlinewidth": 0,
              "ticks": ""
             }
            },
            "marker": {
             "colorbar": {
              "outlinewidth": 0,
              "ticks": ""
             }
            },
            "type": "scatter3d"
           }
          ],
          "scattercarpet": [
           {
            "marker": {
             "colorbar": {
              "outlinewidth": 0,
              "ticks": ""
             }
            },
            "type": "scattercarpet"
           }
          ],
          "scattergeo": [
           {
            "marker": {
             "colorbar": {
              "outlinewidth": 0,
              "ticks": ""
             }
            },
            "type": "scattergeo"
           }
          ],
          "scattergl": [
           {
            "marker": {
             "colorbar": {
              "outlinewidth": 0,
              "ticks": ""
             }
            },
            "type": "scattergl"
           }
          ],
          "scattermapbox": [
           {
            "marker": {
             "colorbar": {
              "outlinewidth": 0,
              "ticks": ""
             }
            },
            "type": "scattermapbox"
           }
          ],
          "scatterpolar": [
           {
            "marker": {
             "colorbar": {
              "outlinewidth": 0,
              "ticks": ""
             }
            },
            "type": "scatterpolar"
           }
          ],
          "scatterpolargl": [
           {
            "marker": {
             "colorbar": {
              "outlinewidth": 0,
              "ticks": ""
             }
            },
            "type": "scatterpolargl"
           }
          ],
          "scatterternary": [
           {
            "marker": {
             "colorbar": {
              "outlinewidth": 0,
              "ticks": ""
             }
            },
            "type": "scatterternary"
           }
          ],
          "surface": [
           {
            "colorbar": {
             "outlinewidth": 0,
             "ticks": ""
            },
            "colorscale": [
             [
              0,
              "#0d0887"
             ],
             [
              0.1111111111111111,
              "#46039f"
             ],
             [
              0.2222222222222222,
              "#7201a8"
             ],
             [
              0.3333333333333333,
              "#9c179e"
             ],
             [
              0.4444444444444444,
              "#bd3786"
             ],
             [
              0.5555555555555556,
              "#d8576b"
             ],
             [
              0.6666666666666666,
              "#ed7953"
             ],
             [
              0.7777777777777778,
              "#fb9f3a"
             ],
             [
              0.8888888888888888,
              "#fdca26"
             ],
             [
              1,
              "#f0f921"
             ]
            ],
            "type": "surface"
           }
          ],
          "table": [
           {
            "cells": {
             "fill": {
              "color": "#EBF0F8"
             },
             "line": {
              "color": "white"
             }
            },
            "header": {
             "fill": {
              "color": "#C8D4E3"
             },
             "line": {
              "color": "white"
             }
            },
            "type": "table"
           }
          ]
         },
         "layout": {
          "annotationdefaults": {
           "arrowcolor": "#2a3f5f",
           "arrowhead": 0,
           "arrowwidth": 1
          },
          "coloraxis": {
           "colorbar": {
            "outlinewidth": 0,
            "ticks": ""
           }
          },
          "colorscale": {
           "diverging": [
            [
             0,
             "#8e0152"
            ],
            [
             0.1,
             "#c51b7d"
            ],
            [
             0.2,
             "#de77ae"
            ],
            [
             0.3,
             "#f1b6da"
            ],
            [
             0.4,
             "#fde0ef"
            ],
            [
             0.5,
             "#f7f7f7"
            ],
            [
             0.6,
             "#e6f5d0"
            ],
            [
             0.7,
             "#b8e186"
            ],
            [
             0.8,
             "#7fbc41"
            ],
            [
             0.9,
             "#4d9221"
            ],
            [
             1,
             "#276419"
            ]
           ],
           "sequential": [
            [
             0,
             "#0d0887"
            ],
            [
             0.1111111111111111,
             "#46039f"
            ],
            [
             0.2222222222222222,
             "#7201a8"
            ],
            [
             0.3333333333333333,
             "#9c179e"
            ],
            [
             0.4444444444444444,
             "#bd3786"
            ],
            [
             0.5555555555555556,
             "#d8576b"
            ],
            [
             0.6666666666666666,
             "#ed7953"
            ],
            [
             0.7777777777777778,
             "#fb9f3a"
            ],
            [
             0.8888888888888888,
             "#fdca26"
            ],
            [
             1,
             "#f0f921"
            ]
           ],
           "sequentialminus": [
            [
             0,
             "#0d0887"
            ],
            [
             0.1111111111111111,
             "#46039f"
            ],
            [
             0.2222222222222222,
             "#7201a8"
            ],
            [
             0.3333333333333333,
             "#9c179e"
            ],
            [
             0.4444444444444444,
             "#bd3786"
            ],
            [
             0.5555555555555556,
             "#d8576b"
            ],
            [
             0.6666666666666666,
             "#ed7953"
            ],
            [
             0.7777777777777778,
             "#fb9f3a"
            ],
            [
             0.8888888888888888,
             "#fdca26"
            ],
            [
             1,
             "#f0f921"
            ]
           ]
          },
          "colorway": [
           "#636efa",
           "#EF553B",
           "#00cc96",
           "#ab63fa",
           "#FFA15A",
           "#19d3f3",
           "#FF6692",
           "#B6E880",
           "#FF97FF",
           "#FECB52"
          ],
          "font": {
           "color": "#2a3f5f"
          },
          "geo": {
           "bgcolor": "white",
           "lakecolor": "white",
           "landcolor": "#E5ECF6",
           "showlakes": true,
           "showland": true,
           "subunitcolor": "white"
          },
          "hoverlabel": {
           "align": "left"
          },
          "hovermode": "closest",
          "mapbox": {
           "style": "light"
          },
          "paper_bgcolor": "white",
          "plot_bgcolor": "#E5ECF6",
          "polar": {
           "angularaxis": {
            "gridcolor": "white",
            "linecolor": "white",
            "ticks": ""
           },
           "bgcolor": "#E5ECF6",
           "radialaxis": {
            "gridcolor": "white",
            "linecolor": "white",
            "ticks": ""
           }
          },
          "scene": {
           "xaxis": {
            "backgroundcolor": "#E5ECF6",
            "gridcolor": "white",
            "gridwidth": 2,
            "linecolor": "white",
            "showbackground": true,
            "ticks": "",
            "zerolinecolor": "white"
           },
           "yaxis": {
            "backgroundcolor": "#E5ECF6",
            "gridcolor": "white",
            "gridwidth": 2,
            "linecolor": "white",
            "showbackground": true,
            "ticks": "",
            "zerolinecolor": "white"
           },
           "zaxis": {
            "backgroundcolor": "#E5ECF6",
            "gridcolor": "white",
            "gridwidth": 2,
            "linecolor": "white",
            "showbackground": true,
            "ticks": "",
            "zerolinecolor": "white"
           }
          },
          "shapedefaults": {
           "line": {
            "color": "#2a3f5f"
           }
          },
          "ternary": {
           "aaxis": {
            "gridcolor": "white",
            "linecolor": "white",
            "ticks": ""
           },
           "baxis": {
            "gridcolor": "white",
            "linecolor": "white",
            "ticks": ""
           },
           "bgcolor": "#E5ECF6",
           "caxis": {
            "gridcolor": "white",
            "linecolor": "white",
            "ticks": ""
           }
          },
          "title": {
           "x": 0.05
          },
          "xaxis": {
           "automargin": true,
           "gridcolor": "white",
           "linecolor": "white",
           "ticks": "",
           "title": {
            "standoff": 15
           },
           "zerolinecolor": "white",
           "zerolinewidth": 2
          },
          "yaxis": {
           "automargin": true,
           "gridcolor": "white",
           "linecolor": "white",
           "ticks": "",
           "title": {
            "standoff": 15
           },
           "zerolinecolor": "white",
           "zerolinewidth": 2
          }
         }
        },
        "title": {
         "text": "상품군의 총 취급액 비율"
        }
       }
      },
      "text/html": [
       "<div>                            <div id=\"9ef273f4-7236-480d-b43f-99b4c71cdd0b\" class=\"plotly-graph-div\" style=\"height:525px; width:100%;\"></div>            <script type=\"text/javascript\">                require([\"plotly\"], function(Plotly) {                    window.PLOTLYENV=window.PLOTLYENV || {};                                    if (document.getElementById(\"9ef273f4-7236-480d-b43f-99b4c71cdd0b\")) {                    Plotly.newPlot(                        \"9ef273f4-7236-480d-b43f-99b4c71cdd0b\",                        [{\"domain\": {\"x\": [0.0, 1.0], \"y\": [0.0, 1.0]}, \"hovertemplate\": \"\\uc0c1\\ud488\\uad70=%{label}<br>\\ucde8\\uae09\\uc561=%{value}<extra></extra>\", \"labels\": [\"\\uce68\\uad6c\", \"\\uac00\\uad6c\", \"\\uc7a1\\ud654\", \"\\uc0dd\\ud65c\\uc6a9\\ud488\", \"\\uac00\\uc804\", \"\\uc8fc\\ubc29\", \"\\uc758\\ub958\", \"\\uac74\\uac15\\uae30\\ub2a5\", \"\\uc18d\\uc637\", \"\\uc774\\ubbf8\\uc6a9\", \"\\ub18d\\uc218\\ucd95\"], \"legendgroup\": \"\", \"name\": \"\", \"showlegend\": true, \"textinfo\": \"percent+label\", \"textposition\": \"inside\", \"type\": \"pie\", \"values\": [10454844.544095665, 12391816.37337414, 16673807.247494217, 18220389.989572473, 18234110.202191696, 19216153.181818184, 24432825.115207374, 25505397.46835443, 26097666.24138811, 37795110.344827585, 42724572.8630278]}],                        {\"legend\": {\"tracegroupgap\": 0}, \"piecolorway\": [\"rgb(103,0,31)\", \"rgb(178,24,43)\", \"rgb(214,96,77)\", \"rgb(244,165,130)\", \"rgb(253,219,199)\", \"rgb(247,247,247)\", \"rgb(209,229,240)\", \"rgb(146,197,222)\", \"rgb(67,147,195)\", \"rgb(33,102,172)\", \"rgb(5,48,97)\"], \"template\": {\"data\": {\"bar\": [{\"error_x\": {\"color\": \"#2a3f5f\"}, \"error_y\": {\"color\": \"#2a3f5f\"}, \"marker\": {\"line\": {\"color\": \"#E5ECF6\", \"width\": 0.5}}, \"type\": \"bar\"}], \"barpolar\": [{\"marker\": {\"line\": {\"color\": \"#E5ECF6\", \"width\": 0.5}}, \"type\": \"barpolar\"}], \"carpet\": [{\"aaxis\": {\"endlinecolor\": \"#2a3f5f\", \"gridcolor\": \"white\", \"linecolor\": \"white\", \"minorgridcolor\": \"white\", \"startlinecolor\": \"#2a3f5f\"}, \"baxis\": {\"endlinecolor\": \"#2a3f5f\", \"gridcolor\": \"white\", \"linecolor\": \"white\", \"minorgridcolor\": \"white\", \"startlinecolor\": \"#2a3f5f\"}, \"type\": \"carpet\"}], \"choropleth\": [{\"colorbar\": {\"outlinewidth\": 0, \"ticks\": \"\"}, \"type\": \"choropleth\"}], \"contour\": [{\"colorbar\": {\"outlinewidth\": 0, \"ticks\": \"\"}, \"colorscale\": [[0.0, \"#0d0887\"], [0.1111111111111111, \"#46039f\"], [0.2222222222222222, \"#7201a8\"], [0.3333333333333333, \"#9c179e\"], [0.4444444444444444, \"#bd3786\"], [0.5555555555555556, \"#d8576b\"], [0.6666666666666666, \"#ed7953\"], [0.7777777777777778, \"#fb9f3a\"], [0.8888888888888888, \"#fdca26\"], [1.0, \"#f0f921\"]], \"type\": \"contour\"}], \"contourcarpet\": [{\"colorbar\": {\"outlinewidth\": 0, \"ticks\": \"\"}, \"type\": \"contourcarpet\"}], \"heatmap\": [{\"colorbar\": {\"outlinewidth\": 0, \"ticks\": \"\"}, \"colorscale\": [[0.0, \"#0d0887\"], [0.1111111111111111, \"#46039f\"], [0.2222222222222222, \"#7201a8\"], [0.3333333333333333, \"#9c179e\"], [0.4444444444444444, \"#bd3786\"], [0.5555555555555556, \"#d8576b\"], [0.6666666666666666, \"#ed7953\"], [0.7777777777777778, \"#fb9f3a\"], [0.8888888888888888, \"#fdca26\"], [1.0, \"#f0f921\"]], \"type\": \"heatmap\"}], \"heatmapgl\": [{\"colorbar\": {\"outlinewidth\": 0, \"ticks\": \"\"}, \"colorscale\": [[0.0, \"#0d0887\"], [0.1111111111111111, \"#46039f\"], [0.2222222222222222, \"#7201a8\"], [0.3333333333333333, \"#9c179e\"], [0.4444444444444444, \"#bd3786\"], [0.5555555555555556, \"#d8576b\"], [0.6666666666666666, \"#ed7953\"], [0.7777777777777778, \"#fb9f3a\"], [0.8888888888888888, \"#fdca26\"], [1.0, \"#f0f921\"]], \"type\": \"heatmapgl\"}], \"histogram\": [{\"marker\": {\"colorbar\": {\"outlinewidth\": 0, \"ticks\": \"\"}}, \"type\": \"histogram\"}], \"histogram2d\": [{\"colorbar\": {\"outlinewidth\": 0, \"ticks\": \"\"}, \"colorscale\": [[0.0, \"#0d0887\"], [0.1111111111111111, \"#46039f\"], [0.2222222222222222, \"#7201a8\"], [0.3333333333333333, \"#9c179e\"], [0.4444444444444444, \"#bd3786\"], [0.5555555555555556, \"#d8576b\"], [0.6666666666666666, \"#ed7953\"], [0.7777777777777778, \"#fb9f3a\"], [0.8888888888888888, \"#fdca26\"], [1.0, \"#f0f921\"]], \"type\": \"histogram2d\"}], \"histogram2dcontour\": [{\"colorbar\": {\"outlinewidth\": 0, \"ticks\": \"\"}, \"colorscale\": [[0.0, \"#0d0887\"], [0.1111111111111111, \"#46039f\"], [0.2222222222222222, \"#7201a8\"], [0.3333333333333333, \"#9c179e\"], [0.4444444444444444, \"#bd3786\"], [0.5555555555555556, \"#d8576b\"], [0.6666666666666666, \"#ed7953\"], [0.7777777777777778, \"#fb9f3a\"], [0.8888888888888888, \"#fdca26\"], [1.0, \"#f0f921\"]], \"type\": \"histogram2dcontour\"}], \"mesh3d\": [{\"colorbar\": {\"outlinewidth\": 0, \"ticks\": \"\"}, \"type\": \"mesh3d\"}], \"parcoords\": [{\"line\": {\"colorbar\": {\"outlinewidth\": 0, \"ticks\": \"\"}}, \"type\": \"parcoords\"}], \"pie\": [{\"automargin\": true, \"type\": \"pie\"}], \"scatter\": [{\"marker\": {\"colorbar\": {\"outlinewidth\": 0, \"ticks\": \"\"}}, \"type\": \"scatter\"}], \"scatter3d\": [{\"line\": {\"colorbar\": {\"outlinewidth\": 0, \"ticks\": \"\"}}, \"marker\": {\"colorbar\": {\"outlinewidth\": 0, \"ticks\": \"\"}}, \"type\": \"scatter3d\"}], \"scattercarpet\": [{\"marker\": {\"colorbar\": {\"outlinewidth\": 0, \"ticks\": \"\"}}, \"type\": \"scattercarpet\"}], \"scattergeo\": [{\"marker\": {\"colorbar\": {\"outlinewidth\": 0, \"ticks\": \"\"}}, \"type\": \"scattergeo\"}], \"scattergl\": [{\"marker\": {\"colorbar\": {\"outlinewidth\": 0, \"ticks\": \"\"}}, \"type\": \"scattergl\"}], \"scattermapbox\": [{\"marker\": {\"colorbar\": {\"outlinewidth\": 0, \"ticks\": \"\"}}, \"type\": \"scattermapbox\"}], \"scatterpolar\": [{\"marker\": {\"colorbar\": {\"outlinewidth\": 0, \"ticks\": \"\"}}, \"type\": \"scatterpolar\"}], \"scatterpolargl\": [{\"marker\": {\"colorbar\": {\"outlinewidth\": 0, \"ticks\": \"\"}}, \"type\": \"scatterpolargl\"}], \"scatterternary\": [{\"marker\": {\"colorbar\": {\"outlinewidth\": 0, \"ticks\": \"\"}}, \"type\": \"scatterternary\"}], \"surface\": [{\"colorbar\": {\"outlinewidth\": 0, \"ticks\": \"\"}, \"colorscale\": [[0.0, \"#0d0887\"], [0.1111111111111111, \"#46039f\"], [0.2222222222222222, \"#7201a8\"], [0.3333333333333333, \"#9c179e\"], [0.4444444444444444, \"#bd3786\"], [0.5555555555555556, \"#d8576b\"], [0.6666666666666666, \"#ed7953\"], [0.7777777777777778, \"#fb9f3a\"], [0.8888888888888888, \"#fdca26\"], [1.0, \"#f0f921\"]], \"type\": \"surface\"}], \"table\": [{\"cells\": {\"fill\": {\"color\": \"#EBF0F8\"}, \"line\": {\"color\": \"white\"}}, \"header\": {\"fill\": {\"color\": \"#C8D4E3\"}, \"line\": {\"color\": \"white\"}}, \"type\": \"table\"}]}, \"layout\": {\"annotationdefaults\": {\"arrowcolor\": \"#2a3f5f\", \"arrowhead\": 0, \"arrowwidth\": 1}, \"coloraxis\": {\"colorbar\": {\"outlinewidth\": 0, \"ticks\": \"\"}}, \"colorscale\": {\"diverging\": [[0, \"#8e0152\"], [0.1, \"#c51b7d\"], [0.2, \"#de77ae\"], [0.3, \"#f1b6da\"], [0.4, \"#fde0ef\"], [0.5, \"#f7f7f7\"], [0.6, \"#e6f5d0\"], [0.7, \"#b8e186\"], [0.8, \"#7fbc41\"], [0.9, \"#4d9221\"], [1, \"#276419\"]], \"sequential\": [[0.0, \"#0d0887\"], [0.1111111111111111, \"#46039f\"], [0.2222222222222222, \"#7201a8\"], [0.3333333333333333, \"#9c179e\"], [0.4444444444444444, \"#bd3786\"], [0.5555555555555556, \"#d8576b\"], [0.6666666666666666, \"#ed7953\"], [0.7777777777777778, \"#fb9f3a\"], [0.8888888888888888, \"#fdca26\"], [1.0, \"#f0f921\"]], \"sequentialminus\": [[0.0, \"#0d0887\"], [0.1111111111111111, \"#46039f\"], [0.2222222222222222, \"#7201a8\"], [0.3333333333333333, \"#9c179e\"], [0.4444444444444444, \"#bd3786\"], [0.5555555555555556, \"#d8576b\"], [0.6666666666666666, \"#ed7953\"], [0.7777777777777778, \"#fb9f3a\"], [0.8888888888888888, \"#fdca26\"], [1.0, \"#f0f921\"]]}, \"colorway\": [\"#636efa\", \"#EF553B\", \"#00cc96\", \"#ab63fa\", \"#FFA15A\", \"#19d3f3\", \"#FF6692\", \"#B6E880\", \"#FF97FF\", \"#FECB52\"], \"font\": {\"color\": \"#2a3f5f\"}, \"geo\": {\"bgcolor\": \"white\", \"lakecolor\": \"white\", \"landcolor\": \"#E5ECF6\", \"showlakes\": true, \"showland\": true, \"subunitcolor\": \"white\"}, \"hoverlabel\": {\"align\": \"left\"}, \"hovermode\": \"closest\", \"mapbox\": {\"style\": \"light\"}, \"paper_bgcolor\": \"white\", \"plot_bgcolor\": \"#E5ECF6\", \"polar\": {\"angularaxis\": {\"gridcolor\": \"white\", \"linecolor\": \"white\", \"ticks\": \"\"}, \"bgcolor\": \"#E5ECF6\", \"radialaxis\": {\"gridcolor\": \"white\", \"linecolor\": \"white\", \"ticks\": \"\"}}, \"scene\": {\"xaxis\": {\"backgroundcolor\": \"#E5ECF6\", \"gridcolor\": \"white\", \"gridwidth\": 2, \"linecolor\": \"white\", \"showbackground\": true, \"ticks\": \"\", \"zerolinecolor\": \"white\"}, \"yaxis\": {\"backgroundcolor\": \"#E5ECF6\", \"gridcolor\": \"white\", \"gridwidth\": 2, \"linecolor\": \"white\", \"showbackground\": true, \"ticks\": \"\", \"zerolinecolor\": \"white\"}, \"zaxis\": {\"backgroundcolor\": \"#E5ECF6\", \"gridcolor\": \"white\", \"gridwidth\": 2, \"linecolor\": \"white\", \"showbackground\": true, \"ticks\": \"\", \"zerolinecolor\": \"white\"}}, \"shapedefaults\": {\"line\": {\"color\": \"#2a3f5f\"}}, \"ternary\": {\"aaxis\": {\"gridcolor\": \"white\", \"linecolor\": \"white\", \"ticks\": \"\"}, \"baxis\": {\"gridcolor\": \"white\", \"linecolor\": \"white\", \"ticks\": \"\"}, \"bgcolor\": \"#E5ECF6\", \"caxis\": {\"gridcolor\": \"white\", \"linecolor\": \"white\", \"ticks\": \"\"}}, \"title\": {\"x\": 0.05}, \"xaxis\": {\"automargin\": true, \"gridcolor\": \"white\", \"linecolor\": \"white\", \"ticks\": \"\", \"title\": {\"standoff\": 15}, \"zerolinecolor\": \"white\", \"zerolinewidth\": 2}, \"yaxis\": {\"automargin\": true, \"gridcolor\": \"white\", \"linecolor\": \"white\", \"ticks\": \"\", \"title\": {\"standoff\": 15}, \"zerolinecolor\": \"white\", \"zerolinewidth\": 2}}}, \"title\": {\"text\": \"\\uc0c1\\ud488\\uad70\\uc758 \\ucd1d \\ucde8\\uae09\\uc561 \\ube44\\uc728\"}},                        {\"responsive\": true}                    ).then(function(){\n",
       "                            \n",
       "var gd = document.getElementById('9ef273f4-7236-480d-b43f-99b4c71cdd0b');\n",
       "var x = new MutationObserver(function (mutations, observer) {{\n",
       "        var display = window.getComputedStyle(gd).display;\n",
       "        if (!display || display === 'none') {{\n",
       "            console.log([gd, 'removed!']);\n",
       "            Plotly.purge(gd);\n",
       "            observer.disconnect();\n",
       "        }}\n",
       "}});\n",
       "\n",
       "// Listen for the removal of the full notebook cells\n",
       "var notebookContainer = gd.closest('#notebook-container');\n",
       "if (notebookContainer) {{\n",
       "    x.observe(notebookContainer, {childList: true});\n",
       "}}\n",
       "\n",
       "// Listen for the clearing of the current output cell\n",
       "var outputEl = gd.closest('.output');\n",
       "if (outputEl) {{\n",
       "    x.observe(outputEl, {childList: true});\n",
       "}}\n",
       "\n",
       "                        })                };                });            </script>        </div>"
      ]
     },
     "metadata": {},
     "output_type": "display_data"
    }
   ],
   "source": [
    "fig = px.pie(df, values='취급액', names=df.index, title='상품군의 총 취급액 비율', color_discrete_sequence=px.colors.sequential.RdBu)\n",
    "fig.update_traces(textposition='inside', textinfo='percent+label')\n",
    "fig.show()"
   ]
  },
  {
   "cell_type": "code",
   "execution_count": 165,
   "metadata": {
    "ExecuteTime": {
     "end_time": "2020-09-26T13:37:55.934523Z",
     "start_time": "2020-09-26T13:37:55.899936Z"
    }
   },
   "outputs": [
    {
     "data": {
      "text/html": [
       "<div>\n",
       "<style scoped>\n",
       "    .dataframe tbody tr th:only-of-type {\n",
       "        vertical-align: middle;\n",
       "    }\n",
       "\n",
       "    .dataframe tbody tr th {\n",
       "        vertical-align: top;\n",
       "    }\n",
       "\n",
       "    .dataframe thead th {\n",
       "        text-align: right;\n",
       "    }\n",
       "</style>\n",
       "<table border=\"1\" class=\"dataframe\">\n",
       "  <thead>\n",
       "    <tr style=\"text-align: right;\">\n",
       "      <th></th>\n",
       "      <th></th>\n",
       "      <th>노출(분)</th>\n",
       "      <th>마더코드</th>\n",
       "      <th>상품코드</th>\n",
       "      <th>판매단가</th>\n",
       "      <th>취급액</th>\n",
       "      <th>연</th>\n",
       "      <th>월</th>\n",
       "      <th>주</th>\n",
       "      <th>일</th>\n",
       "      <th>시</th>\n",
       "      <th>분</th>\n",
       "    </tr>\n",
       "    <tr>\n",
       "      <th>상품군</th>\n",
       "      <th>unique_name</th>\n",
       "      <th></th>\n",
       "      <th></th>\n",
       "      <th></th>\n",
       "      <th></th>\n",
       "      <th></th>\n",
       "      <th></th>\n",
       "      <th></th>\n",
       "      <th></th>\n",
       "      <th></th>\n",
       "      <th></th>\n",
       "      <th></th>\n",
       "    </tr>\n",
       "  </thead>\n",
       "  <tbody>\n",
       "    <tr>\n",
       "      <th rowspan=\"5\" valign=\"top\">가구</th>\n",
       "      <th>뉴 벨라홈 리클라이닝 소파</th>\n",
       "      <td>113.6833</td>\n",
       "      <td>601380</td>\n",
       "      <td>1204758</td>\n",
       "      <td>534000</td>\n",
       "      <td>89860000.0000</td>\n",
       "      <td>12114</td>\n",
       "      <td>54</td>\n",
       "      <td>228</td>\n",
       "      <td>123</td>\n",
       "      <td>6</td>\n",
       "      <td>120</td>\n",
       "    </tr>\n",
       "    <tr>\n",
       "      <th>레스토닉 블루투스 LED 서랍 침대 슈퍼싱글</th>\n",
       "      <td>180.0000</td>\n",
       "      <td>905346</td>\n",
       "      <td>1816377</td>\n",
       "      <td>5691000</td>\n",
       "      <td>101834000.0000</td>\n",
       "      <td>18171</td>\n",
       "      <td>99</td>\n",
       "      <td>270</td>\n",
       "      <td>202</td>\n",
       "      <td>170</td>\n",
       "      <td>180</td>\n",
       "    </tr>\n",
       "    <tr>\n",
       "      <th>레스토닉 블루투스 LED 서랍 침대 퀸</th>\n",
       "      <td>180.0000</td>\n",
       "      <td>905346</td>\n",
       "      <td>1816395</td>\n",
       "      <td>6141000</td>\n",
       "      <td>126635000.0000</td>\n",
       "      <td>18171</td>\n",
       "      <td>99</td>\n",
       "      <td>270</td>\n",
       "      <td>202</td>\n",
       "      <td>170</td>\n",
       "      <td>180</td>\n",
       "    </tr>\n",
       "    <tr>\n",
       "      <th>레스토닉 블루투스 LED 서랍 침대 킹</th>\n",
       "      <td>180.0000</td>\n",
       "      <td>905346</td>\n",
       "      <td>1816413</td>\n",
       "      <td>6591000</td>\n",
       "      <td>155678000.0000</td>\n",
       "      <td>18171</td>\n",
       "      <td>99</td>\n",
       "      <td>270</td>\n",
       "      <td>202</td>\n",
       "      <td>170</td>\n",
       "      <td>180</td>\n",
       "    </tr>\n",
       "    <tr>\n",
       "      <th>무 보루네오 원목 베드룸 세트 프레임 매트리스 화장대 협탁</th>\n",
       "      <td>60.0000</td>\n",
       "      <td>200408</td>\n",
       "      <td>401396</td>\n",
       "      <td>2898000</td>\n",
       "      <td>24869000.0000</td>\n",
       "      <td>4038</td>\n",
       "      <td>18</td>\n",
       "      <td>76</td>\n",
       "      <td>44</td>\n",
       "      <td>46</td>\n",
       "      <td>30</td>\n",
       "    </tr>\n",
       "    <tr>\n",
       "      <th>...</th>\n",
       "      <th>...</th>\n",
       "      <td>...</td>\n",
       "      <td>...</td>\n",
       "      <td>...</td>\n",
       "      <td>...</td>\n",
       "      <td>...</td>\n",
       "      <td>...</td>\n",
       "      <td>...</td>\n",
       "      <td>...</td>\n",
       "      <td>...</td>\n",
       "      <td>...</td>\n",
       "      <td>...</td>\n",
       "    </tr>\n",
       "    <tr>\n",
       "      <th rowspan=\"5\" valign=\"top\">침구</th>\n",
       "      <th>효재 자수 광목 침구 세트 퀸</th>\n",
       "      <td>300.0000</td>\n",
       "      <td>1002000</td>\n",
       "      <td>2006760</td>\n",
       "      <td>1490000</td>\n",
       "      <td>115054000.0000</td>\n",
       "      <td>20190</td>\n",
       "      <td>54</td>\n",
       "      <td>218</td>\n",
       "      <td>150</td>\n",
       "      <td>122</td>\n",
       "      <td>150</td>\n",
       "    </tr>\n",
       "    <tr>\n",
       "      <th>효재 자수 광목 침구 세트 킹</th>\n",
       "      <td>300.0000</td>\n",
       "      <td>1002000</td>\n",
       "      <td>2006770</td>\n",
       "      <td>1690000</td>\n",
       "      <td>189683000.0000</td>\n",
       "      <td>20190</td>\n",
       "      <td>54</td>\n",
       "      <td>218</td>\n",
       "      <td>150</td>\n",
       "      <td>122</td>\n",
       "      <td>150</td>\n",
       "    </tr>\n",
       "    <tr>\n",
       "      <th>효재 화원 자수 광목워싱 침구 세트 슈퍼싱글</th>\n",
       "      <td>115.2000</td>\n",
       "      <td>601200</td>\n",
       "      <td>1204071</td>\n",
       "      <td>744000</td>\n",
       "      <td>16767000.0000</td>\n",
       "      <td>12114</td>\n",
       "      <td>45</td>\n",
       "      <td>195</td>\n",
       "      <td>153</td>\n",
       "      <td>42</td>\n",
       "      <td>120</td>\n",
       "    </tr>\n",
       "    <tr>\n",
       "      <th>효재 화원 자수 광목워싱 침구 세트 퀸</th>\n",
       "      <td>115.2000</td>\n",
       "      <td>601200</td>\n",
       "      <td>1204083</td>\n",
       "      <td>864000</td>\n",
       "      <td>29617000.0000</td>\n",
       "      <td>12114</td>\n",
       "      <td>45</td>\n",
       "      <td>195</td>\n",
       "      <td>153</td>\n",
       "      <td>42</td>\n",
       "      <td>120</td>\n",
       "    </tr>\n",
       "    <tr>\n",
       "      <th>효재 화원 자수 광목워싱 침구 세트 킹</th>\n",
       "      <td>115.2000</td>\n",
       "      <td>601200</td>\n",
       "      <td>1204095</td>\n",
       "      <td>984000</td>\n",
       "      <td>66521000.0000</td>\n",
       "      <td>12114</td>\n",
       "      <td>45</td>\n",
       "      <td>195</td>\n",
       "      <td>153</td>\n",
       "      <td>42</td>\n",
       "      <td>120</td>\n",
       "    </tr>\n",
       "  </tbody>\n",
       "</table>\n",
       "<p>1488 rows × 11 columns</p>\n",
       "</div>"
      ],
      "text/plain": [
       "                                        노출(분)     마더코드     상품코드     판매단가  \\\n",
       "상품군 unique_name                                                            \n",
       "가구  뉴 벨라홈 리클라이닝 소파                   113.6833   601380  1204758   534000   \n",
       "    레스토닉 블루투스 LED 서랍 침대 슈퍼싱글         180.0000   905346  1816377  5691000   \n",
       "    레스토닉 블루투스 LED 서랍 침대 퀸            180.0000   905346  1816395  6141000   \n",
       "    레스토닉 블루투스 LED 서랍 침대 킹            180.0000   905346  1816413  6591000   \n",
       "    무 보루네오 원목 베드룸 세트 프레임 매트리스 화장대 협탁  60.0000   200408   401396  2898000   \n",
       "...                                       ...      ...      ...      ...   \n",
       "침구  효재 자수 광목 침구 세트 퀸                 300.0000  1002000  2006760  1490000   \n",
       "    효재 자수 광목 침구 세트 킹                 300.0000  1002000  2006770  1690000   \n",
       "    효재 화원 자수 광목워싱 침구 세트 슈퍼싱글         115.2000   601200  1204071   744000   \n",
       "    효재 화원 자수 광목워싱 침구 세트 퀸            115.2000   601200  1204083   864000   \n",
       "    효재 화원 자수 광목워싱 침구 세트 킹            115.2000   601200  1204095   984000   \n",
       "\n",
       "                                                취급액      연   월    주    일    시  \\\n",
       "상품군 unique_name                                                                 \n",
       "가구  뉴 벨라홈 리클라이닝 소파                    89860000.0000  12114  54  228  123    6   \n",
       "    레스토닉 블루투스 LED 서랍 침대 슈퍼싱글         101834000.0000  18171  99  270  202  170   \n",
       "    레스토닉 블루투스 LED 서랍 침대 퀸            126635000.0000  18171  99  270  202  170   \n",
       "    레스토닉 블루투스 LED 서랍 침대 킹            155678000.0000  18171  99  270  202  170   \n",
       "    무 보루네오 원목 베드룸 세트 프레임 매트리스 화장대 협탁  24869000.0000   4038  18   76   44   46   \n",
       "...                                             ...    ...  ..  ...  ...  ...   \n",
       "침구  효재 자수 광목 침구 세트 퀸                 115054000.0000  20190  54  218  150  122   \n",
       "    효재 자수 광목 침구 세트 킹                 189683000.0000  20190  54  218  150  122   \n",
       "    효재 화원 자수 광목워싱 침구 세트 슈퍼싱글          16767000.0000  12114  45  195  153   42   \n",
       "    효재 화원 자수 광목워싱 침구 세트 퀸             29617000.0000  12114  45  195  153   42   \n",
       "    효재 화원 자수 광목워싱 침구 세트 킹             66521000.0000  12114  45  195  153   42   \n",
       "\n",
       "                                        분  \n",
       "상품군 unique_name                            \n",
       "가구  뉴 벨라홈 리클라이닝 소파                    120  \n",
       "    레스토닉 블루투스 LED 서랍 침대 슈퍼싱글          180  \n",
       "    레스토닉 블루투스 LED 서랍 침대 퀸             180  \n",
       "    레스토닉 블루투스 LED 서랍 침대 킹             180  \n",
       "    무 보루네오 원목 베드룸 세트 프레임 매트리스 화장대 협탁   30  \n",
       "...                                   ...  \n",
       "침구  효재 자수 광목 침구 세트 퀸                  150  \n",
       "    효재 자수 광목 침구 세트 킹                  150  \n",
       "    효재 화원 자수 광목워싱 침구 세트 슈퍼싱글          120  \n",
       "    효재 화원 자수 광목워싱 침구 세트 퀸             120  \n",
       "    효재 화원 자수 광목워싱 침구 세트 킹             120  \n",
       "\n",
       "[1488 rows x 11 columns]"
      ]
     },
     "execution_count": 165,
     "metadata": {},
     "output_type": "execute_result"
    }
   ],
   "source": [
    "train.groupby(['상품군', 'unique_name']).sum()"
   ]
  },
  {
   "cell_type": "code",
   "execution_count": 174,
   "metadata": {
    "ExecuteTime": {
     "end_time": "2020-09-26T13:39:32.492137Z",
     "start_time": "2020-09-26T13:39:32.463987Z"
    }
   },
   "outputs": [
    {
     "data": {
      "text/html": [
       "<div>\n",
       "<style scoped>\n",
       "    .dataframe tbody tr th:only-of-type {\n",
       "        vertical-align: middle;\n",
       "    }\n",
       "\n",
       "    .dataframe tbody tr th {\n",
       "        vertical-align: top;\n",
       "    }\n",
       "\n",
       "    .dataframe thead th {\n",
       "        text-align: right;\n",
       "    }\n",
       "</style>\n",
       "<table border=\"1\" class=\"dataframe\">\n",
       "  <thead>\n",
       "    <tr style=\"text-align: right;\">\n",
       "      <th></th>\n",
       "      <th>노출(분)</th>\n",
       "      <th>마더코드</th>\n",
       "      <th>상품코드</th>\n",
       "      <th>상품명</th>\n",
       "      <th>상품군</th>\n",
       "      <th>판매단가</th>\n",
       "      <th>취급액</th>\n",
       "      <th>연</th>\n",
       "      <th>월</th>\n",
       "      <th>주</th>\n",
       "      <th>일</th>\n",
       "      <th>시</th>\n",
       "      <th>분</th>\n",
       "      <th>요일</th>\n",
       "      <th>day</th>\n",
       "      <th>unique_name</th>\n",
       "      <th>indice</th>\n",
       "    </tr>\n",
       "    <tr>\n",
       "      <th>방송일시</th>\n",
       "      <th></th>\n",
       "      <th></th>\n",
       "      <th></th>\n",
       "      <th></th>\n",
       "      <th></th>\n",
       "      <th></th>\n",
       "      <th></th>\n",
       "      <th></th>\n",
       "      <th></th>\n",
       "      <th></th>\n",
       "      <th></th>\n",
       "      <th></th>\n",
       "      <th></th>\n",
       "      <th></th>\n",
       "      <th></th>\n",
       "      <th></th>\n",
       "      <th></th>\n",
       "    </tr>\n",
       "  </thead>\n",
       "  <tbody>\n",
       "    <tr>\n",
       "      <th>2019-01-01 06:00:00</th>\n",
       "      <td>20.0000</td>\n",
       "      <td>100346</td>\n",
       "      <td>201072</td>\n",
       "      <td>테이트 남성 셀린니트3종</td>\n",
       "      <td>의류</td>\n",
       "      <td>39900</td>\n",
       "      <td>2099000.0000</td>\n",
       "      <td>2019</td>\n",
       "      <td>1</td>\n",
       "      <td>1</td>\n",
       "      <td>1</td>\n",
       "      <td>6</td>\n",
       "      <td>0</td>\n",
       "      <td>Tue</td>\n",
       "      <td>20190101</td>\n",
       "      <td>테이트 남성 셀린니트</td>\n",
       "      <td>2019-01-01 06:00:00</td>\n",
       "    </tr>\n",
       "    <tr>\n",
       "      <th>2019-01-01 06:00:00</th>\n",
       "      <td>20.0000</td>\n",
       "      <td>100346</td>\n",
       "      <td>201079</td>\n",
       "      <td>테이트 여성 셀린니트3종</td>\n",
       "      <td>의류</td>\n",
       "      <td>39900</td>\n",
       "      <td>4371000.0000</td>\n",
       "      <td>2019</td>\n",
       "      <td>1</td>\n",
       "      <td>1</td>\n",
       "      <td>1</td>\n",
       "      <td>6</td>\n",
       "      <td>0</td>\n",
       "      <td>Tue</td>\n",
       "      <td>20190101</td>\n",
       "      <td>테이트 여성 셀린니트</td>\n",
       "      <td>2019-01-01 06:00:00</td>\n",
       "    </tr>\n",
       "    <tr>\n",
       "      <th>2019-01-01 06:20:00</th>\n",
       "      <td>20.0000</td>\n",
       "      <td>100346</td>\n",
       "      <td>201072</td>\n",
       "      <td>테이트 남성 셀린니트3종</td>\n",
       "      <td>의류</td>\n",
       "      <td>39900</td>\n",
       "      <td>3262000.0000</td>\n",
       "      <td>2019</td>\n",
       "      <td>1</td>\n",
       "      <td>1</td>\n",
       "      <td>1</td>\n",
       "      <td>6</td>\n",
       "      <td>20</td>\n",
       "      <td>Tue</td>\n",
       "      <td>20190101</td>\n",
       "      <td>테이트 남성 셀린니트</td>\n",
       "      <td>2019-01-01 06:20:00</td>\n",
       "    </tr>\n",
       "    <tr>\n",
       "      <th>2019-01-01 06:20:00</th>\n",
       "      <td>20.0000</td>\n",
       "      <td>100346</td>\n",
       "      <td>201079</td>\n",
       "      <td>테이트 여성 셀린니트3종</td>\n",
       "      <td>의류</td>\n",
       "      <td>39900</td>\n",
       "      <td>6955000.0000</td>\n",
       "      <td>2019</td>\n",
       "      <td>1</td>\n",
       "      <td>1</td>\n",
       "      <td>1</td>\n",
       "      <td>6</td>\n",
       "      <td>20</td>\n",
       "      <td>Tue</td>\n",
       "      <td>20190101</td>\n",
       "      <td>테이트 여성 셀린니트</td>\n",
       "      <td>2019-01-01 06:20:00</td>\n",
       "    </tr>\n",
       "    <tr>\n",
       "      <th>2019-01-01 06:40:00</th>\n",
       "      <td>20.0000</td>\n",
       "      <td>100346</td>\n",
       "      <td>201072</td>\n",
       "      <td>테이트 남성 셀린니트3종</td>\n",
       "      <td>의류</td>\n",
       "      <td>39900</td>\n",
       "      <td>6672000.0000</td>\n",
       "      <td>2019</td>\n",
       "      <td>1</td>\n",
       "      <td>1</td>\n",
       "      <td>1</td>\n",
       "      <td>6</td>\n",
       "      <td>40</td>\n",
       "      <td>Tue</td>\n",
       "      <td>20190101</td>\n",
       "      <td>테이트 남성 셀린니트</td>\n",
       "      <td>2019-01-01 06:40:00</td>\n",
       "    </tr>\n",
       "    <tr>\n",
       "      <th>...</th>\n",
       "      <td>...</td>\n",
       "      <td>...</td>\n",
       "      <td>...</td>\n",
       "      <td>...</td>\n",
       "      <td>...</td>\n",
       "      <td>...</td>\n",
       "      <td>...</td>\n",
       "      <td>...</td>\n",
       "      <td>...</td>\n",
       "      <td>...</td>\n",
       "      <td>...</td>\n",
       "      <td>...</td>\n",
       "      <td>...</td>\n",
       "      <td>...</td>\n",
       "      <td>...</td>\n",
       "      <td>...</td>\n",
       "      <td>...</td>\n",
       "    </tr>\n",
       "    <tr>\n",
       "      <th>2019-12-31 23:20:00</th>\n",
       "      <td>20.0000</td>\n",
       "      <td>100448</td>\n",
       "      <td>201391</td>\n",
       "      <td>일시불쿠첸압력밥솥 6인용</td>\n",
       "      <td>주방</td>\n",
       "      <td>148000</td>\n",
       "      <td>1664000.0000</td>\n",
       "      <td>2019</td>\n",
       "      <td>12</td>\n",
       "      <td>1</td>\n",
       "      <td>31</td>\n",
       "      <td>23</td>\n",
       "      <td>20</td>\n",
       "      <td>Tue</td>\n",
       "      <td>20191231</td>\n",
       "      <td>일시불 쿠첸 압력 밥솥</td>\n",
       "      <td>2019-12-31 23:20:00</td>\n",
       "    </tr>\n",
       "    <tr>\n",
       "      <th>2019-12-31 23:40:00</th>\n",
       "      <td>20.0000</td>\n",
       "      <td>100448</td>\n",
       "      <td>201383</td>\n",
       "      <td>무이자쿠첸압력밥솥 10인용</td>\n",
       "      <td>주방</td>\n",
       "      <td>178000</td>\n",
       "      <td>9149000.0000</td>\n",
       "      <td>2019</td>\n",
       "      <td>12</td>\n",
       "      <td>1</td>\n",
       "      <td>31</td>\n",
       "      <td>23</td>\n",
       "      <td>40</td>\n",
       "      <td>Tue</td>\n",
       "      <td>20191231</td>\n",
       "      <td>무이자 쿠첸 압력 밥솥</td>\n",
       "      <td>2019-12-31 23:40:00</td>\n",
       "    </tr>\n",
       "    <tr>\n",
       "      <th>2019-12-31 23:40:00</th>\n",
       "      <td>20.0000</td>\n",
       "      <td>100448</td>\n",
       "      <td>201390</td>\n",
       "      <td>일시불쿠첸압력밥솥 10인용</td>\n",
       "      <td>주방</td>\n",
       "      <td>168000</td>\n",
       "      <td>15282000.0000</td>\n",
       "      <td>2019</td>\n",
       "      <td>12</td>\n",
       "      <td>1</td>\n",
       "      <td>31</td>\n",
       "      <td>23</td>\n",
       "      <td>40</td>\n",
       "      <td>Tue</td>\n",
       "      <td>20191231</td>\n",
       "      <td>일시불 쿠첸 압력 밥솥</td>\n",
       "      <td>2019-12-31 23:40:00</td>\n",
       "    </tr>\n",
       "    <tr>\n",
       "      <th>2019-12-31 23:40:00</th>\n",
       "      <td>20.0000</td>\n",
       "      <td>100448</td>\n",
       "      <td>201384</td>\n",
       "      <td>무이자쿠첸압력밥솥 6인용</td>\n",
       "      <td>주방</td>\n",
       "      <td>158000</td>\n",
       "      <td>2328000.0000</td>\n",
       "      <td>2019</td>\n",
       "      <td>12</td>\n",
       "      <td>1</td>\n",
       "      <td>31</td>\n",
       "      <td>23</td>\n",
       "      <td>40</td>\n",
       "      <td>Tue</td>\n",
       "      <td>20191231</td>\n",
       "      <td>무이자 쿠첸 압력 밥솥</td>\n",
       "      <td>2019-12-31 23:40:00</td>\n",
       "    </tr>\n",
       "    <tr>\n",
       "      <th>2019-12-31 23:40:00</th>\n",
       "      <td>20.0000</td>\n",
       "      <td>100448</td>\n",
       "      <td>201391</td>\n",
       "      <td>일시불쿠첸압력밥솥 6인용</td>\n",
       "      <td>주방</td>\n",
       "      <td>148000</td>\n",
       "      <td>10157000.0000</td>\n",
       "      <td>2019</td>\n",
       "      <td>12</td>\n",
       "      <td>1</td>\n",
       "      <td>31</td>\n",
       "      <td>23</td>\n",
       "      <td>40</td>\n",
       "      <td>Tue</td>\n",
       "      <td>20191231</td>\n",
       "      <td>일시불 쿠첸 압력 밥솥</td>\n",
       "      <td>2019-12-31 23:40:00</td>\n",
       "    </tr>\n",
       "  </tbody>\n",
       "</table>\n",
       "<p>37368 rows × 17 columns</p>\n",
       "</div>"
      ],
      "text/plain": [
       "                      노출(분)    마더코드    상품코드             상품명 상품군    판매단가  \\\n",
       "방송일시                                                                      \n",
       "2019-01-01 06:00:00 20.0000  100346  201072   테이트 남성 셀린니트3종  의류   39900   \n",
       "2019-01-01 06:00:00 20.0000  100346  201079   테이트 여성 셀린니트3종  의류   39900   \n",
       "2019-01-01 06:20:00 20.0000  100346  201072   테이트 남성 셀린니트3종  의류   39900   \n",
       "2019-01-01 06:20:00 20.0000  100346  201079   테이트 여성 셀린니트3종  의류   39900   \n",
       "2019-01-01 06:40:00 20.0000  100346  201072   테이트 남성 셀린니트3종  의류   39900   \n",
       "...                     ...     ...     ...             ...  ..     ...   \n",
       "2019-12-31 23:20:00 20.0000  100448  201391   일시불쿠첸압력밥솥 6인용  주방  148000   \n",
       "2019-12-31 23:40:00 20.0000  100448  201383  무이자쿠첸압력밥솥 10인용  주방  178000   \n",
       "2019-12-31 23:40:00 20.0000  100448  201390  일시불쿠첸압력밥솥 10인용  주방  168000   \n",
       "2019-12-31 23:40:00 20.0000  100448  201384   무이자쿠첸압력밥솥 6인용  주방  158000   \n",
       "2019-12-31 23:40:00 20.0000  100448  201391   일시불쿠첸압력밥솥 6인용  주방  148000   \n",
       "\n",
       "                              취급액     연   월  주   일   시   분   요일       day  \\\n",
       "방송일시                                                                        \n",
       "2019-01-01 06:00:00  2099000.0000  2019   1  1   1   6   0  Tue  20190101   \n",
       "2019-01-01 06:00:00  4371000.0000  2019   1  1   1   6   0  Tue  20190101   \n",
       "2019-01-01 06:20:00  3262000.0000  2019   1  1   1   6  20  Tue  20190101   \n",
       "2019-01-01 06:20:00  6955000.0000  2019   1  1   1   6  20  Tue  20190101   \n",
       "2019-01-01 06:40:00  6672000.0000  2019   1  1   1   6  40  Tue  20190101   \n",
       "...                           ...   ...  .. ..  ..  ..  ..  ...       ...   \n",
       "2019-12-31 23:20:00  1664000.0000  2019  12  1  31  23  20  Tue  20191231   \n",
       "2019-12-31 23:40:00  9149000.0000  2019  12  1  31  23  40  Tue  20191231   \n",
       "2019-12-31 23:40:00 15282000.0000  2019  12  1  31  23  40  Tue  20191231   \n",
       "2019-12-31 23:40:00  2328000.0000  2019  12  1  31  23  40  Tue  20191231   \n",
       "2019-12-31 23:40:00 10157000.0000  2019  12  1  31  23  40  Tue  20191231   \n",
       "\n",
       "                      unique_name              indice  \n",
       "방송일시                                                   \n",
       "2019-01-01 06:00:00   테이트 남성 셀린니트 2019-01-01 06:00:00  \n",
       "2019-01-01 06:00:00   테이트 여성 셀린니트 2019-01-01 06:00:00  \n",
       "2019-01-01 06:20:00   테이트 남성 셀린니트 2019-01-01 06:20:00  \n",
       "2019-01-01 06:20:00   테이트 여성 셀린니트 2019-01-01 06:20:00  \n",
       "2019-01-01 06:40:00   테이트 남성 셀린니트 2019-01-01 06:40:00  \n",
       "...                           ...                 ...  \n",
       "2019-12-31 23:20:00  일시불 쿠첸 압력 밥솥 2019-12-31 23:20:00  \n",
       "2019-12-31 23:40:00  무이자 쿠첸 압력 밥솥 2019-12-31 23:40:00  \n",
       "2019-12-31 23:40:00  일시불 쿠첸 압력 밥솥 2019-12-31 23:40:00  \n",
       "2019-12-31 23:40:00  무이자 쿠첸 압력 밥솥 2019-12-31 23:40:00  \n",
       "2019-12-31 23:40:00  일시불 쿠첸 압력 밥솥 2019-12-31 23:40:00  \n",
       "\n",
       "[37368 rows x 17 columns]"
      ]
     },
     "execution_count": 174,
     "metadata": {},
     "output_type": "execute_result"
    }
   ],
   "source": [
    "train"
   ]
  },
  {
   "cell_type": "code",
   "execution_count": 173,
   "metadata": {
    "ExecuteTime": {
     "end_time": "2020-09-26T13:39:10.008277Z",
     "start_time": "2020-09-26T13:39:09.940646Z"
    }
   },
   "outputs": [
    {
     "data": {
      "application/vnd.plotly.v1+json": {
       "config": {
        "plotlyServerURL": "https://plotly.com"
       },
       "data": [
        {
         "domain": {
          "x": [
           0,
           1
          ],
          "y": [
           0,
           1
          ]
         },
         "hovertemplate": "label=%{label}<br>노출(분)=%{value}<extra></extra>",
         "labels": [
          "가구",
          "가구",
          "가구",
          "가구",
          "가구",
          "가구",
          "가구",
          "가구",
          "가구",
          "가구",
          "가구",
          "가구",
          "가구",
          "가구",
          "가구",
          "가구",
          "가구",
          "가구",
          "가구",
          "가구",
          "가구",
          "가구",
          "가구",
          "가구",
          "가구",
          "가구",
          "가구",
          "가구",
          "가구",
          "가구",
          "가구",
          "가구",
          "가구",
          "가구",
          "가구",
          "가구",
          "가구",
          "가구",
          "가구",
          "가구",
          "가구",
          "가구",
          "가구",
          "가구",
          "가구",
          "가구",
          "가구",
          "가구",
          "가구",
          "가구",
          "가구",
          "가구",
          "가구",
          "가구",
          "가구",
          "가구",
          "가구",
          "가구",
          "가구",
          "가구",
          "가구",
          "가구",
          "가구",
          "가구",
          "가구",
          "가구",
          "가구",
          "가구",
          "가전",
          "가전",
          "가전",
          "가전",
          "가전",
          "가전",
          "가전",
          "가전",
          "가전",
          "가전",
          "가전",
          "가전",
          "가전",
          "가전",
          "가전",
          "가전",
          "가전",
          "가전",
          "가전",
          "가전",
          "가전",
          "가전",
          "가전",
          "가전",
          "가전",
          "가전",
          "가전",
          "가전",
          "가전",
          "가전",
          "가전",
          "가전",
          "가전",
          "가전",
          "가전",
          "가전",
          "가전",
          "가전",
          "가전",
          "가전",
          "가전",
          "가전",
          "가전",
          "가전",
          "가전",
          "가전",
          "가전",
          "가전",
          "가전",
          "가전",
          "가전",
          "가전",
          "가전",
          "가전",
          "가전",
          "가전",
          "가전",
          "가전",
          "가전",
          "가전",
          "가전",
          "가전",
          "가전",
          "가전",
          "가전",
          "가전",
          "가전",
          "가전",
          "가전",
          "가전",
          "가전",
          "가전",
          "가전",
          "가전",
          "가전",
          "가전",
          "가전",
          "가전",
          "가전",
          "가전",
          "가전",
          "가전",
          "가전",
          "가전",
          "가전",
          "가전",
          "가전",
          "가전",
          "가전",
          "가전",
          "가전",
          "가전",
          "가전",
          "가전",
          "가전",
          "가전",
          "가전",
          "가전",
          "가전",
          "가전",
          "가전",
          "가전",
          "가전",
          "건강기능",
          "건강기능",
          "건강기능",
          "건강기능",
          "건강기능",
          "건강기능",
          "건강기능",
          "건강기능",
          "건강기능",
          "건강기능",
          "건강기능",
          "건강기능",
          "건강기능",
          "건강기능",
          "건강기능",
          "건강기능",
          "건강기능",
          "건강기능",
          "건강기능",
          "건강기능",
          "건강기능",
          "건강기능",
          "건강기능",
          "건강기능",
          "건강기능",
          "건강기능",
          "건강기능",
          "건강기능",
          "건강기능",
          "건강기능",
          "건강기능",
          "건강기능",
          "건강기능",
          "건강기능",
          "건강기능",
          "건강기능",
          "건강기능",
          "건강기능",
          "건강기능",
          "건강기능",
          "건강기능",
          "건강기능",
          "건강기능",
          "건강기능",
          "건강기능",
          "농수축",
          "농수축",
          "농수축",
          "농수축",
          "농수축",
          "농수축",
          "농수축",
          "농수축",
          "농수축",
          "농수축",
          "농수축",
          "농수축",
          "농수축",
          "농수축",
          "농수축",
          "농수축",
          "농수축",
          "농수축",
          "농수축",
          "농수축",
          "농수축",
          "농수축",
          "농수축",
          "농수축",
          "농수축",
          "농수축",
          "농수축",
          "농수축",
          "농수축",
          "농수축",
          "농수축",
          "농수축",
          "농수축",
          "농수축",
          "농수축",
          "농수축",
          "농수축",
          "농수축",
          "농수축",
          "농수축",
          "농수축",
          "농수축",
          "농수축",
          "농수축",
          "농수축",
          "농수축",
          "농수축",
          "농수축",
          "농수축",
          "농수축",
          "농수축",
          "농수축",
          "농수축",
          "농수축",
          "농수축",
          "농수축",
          "농수축",
          "농수축",
          "농수축",
          "농수축",
          "농수축",
          "농수축",
          "농수축",
          "농수축",
          "농수축",
          "농수축",
          "농수축",
          "농수축",
          "농수축",
          "농수축",
          "농수축",
          "농수축",
          "농수축",
          "농수축",
          "농수축",
          "농수축",
          "농수축",
          "농수축",
          "농수축",
          "농수축",
          "농수축",
          "농수축",
          "농수축",
          "농수축",
          "농수축",
          "농수축",
          "농수축",
          "농수축",
          "농수축",
          "농수축",
          "농수축",
          "농수축",
          "농수축",
          "농수축",
          "농수축",
          "농수축",
          "농수축",
          "농수축",
          "농수축",
          "농수축",
          "농수축",
          "농수축",
          "농수축",
          "농수축",
          "농수축",
          "농수축",
          "농수축",
          "농수축",
          "농수축",
          "농수축",
          "농수축",
          "농수축",
          "농수축",
          "농수축",
          "농수축",
          "농수축",
          "농수축",
          "농수축",
          "농수축",
          "농수축",
          "농수축",
          "농수축",
          "농수축",
          "농수축",
          "농수축",
          "농수축",
          "농수축",
          "농수축",
          "생활용품",
          "생활용품",
          "생활용품",
          "생활용품",
          "생활용품",
          "생활용품",
          "생활용품",
          "생활용품",
          "생활용품",
          "생활용품",
          "생활용품",
          "생활용품",
          "생활용품",
          "생활용품",
          "생활용품",
          "생활용품",
          "생활용품",
          "생활용품",
          "생활용품",
          "생활용품",
          "생활용품",
          "생활용품",
          "생활용품",
          "생활용품",
          "생활용품",
          "생활용품",
          "생활용품",
          "생활용품",
          "생활용품",
          "생활용품",
          "생활용품",
          "생활용품",
          "생활용품",
          "생활용품",
          "생활용품",
          "생활용품",
          "생활용품",
          "생활용품",
          "생활용품",
          "생활용품",
          "생활용품",
          "생활용품",
          "생활용품",
          "생활용품",
          "생활용품",
          "생활용품",
          "생활용품",
          "생활용품",
          "생활용품",
          "생활용품",
          "생활용품",
          "생활용품",
          "생활용품",
          "생활용품",
          "생활용품",
          "생활용품",
          "생활용품",
          "생활용품",
          "생활용품",
          "생활용품",
          "생활용품",
          "생활용품",
          "생활용품",
          "생활용품",
          "생활용품",
          "생활용품",
          "생활용품",
          "생활용품",
          "생활용품",
          "생활용품",
          "생활용품",
          "생활용품",
          "생활용품",
          "생활용품",
          "생활용품",
          "생활용품",
          "생활용품",
          "생활용품",
          "생활용품",
          "생활용품",
          "생활용품",
          "생활용품",
          "생활용품",
          "생활용품",
          "생활용품",
          "생활용품",
          "생활용품",
          "생활용품",
          "생활용품",
          "생활용품",
          "생활용품",
          "생활용품",
          "생활용품",
          "생활용품",
          "생활용품",
          "생활용품",
          "생활용품",
          "생활용품",
          "생활용품",
          "생활용품",
          "생활용품",
          "생활용품",
          "생활용품",
          "생활용품",
          "생활용품",
          "생활용품",
          "생활용품",
          "생활용품",
          "생활용품",
          "생활용품",
          "생활용품",
          "생활용품",
          "생활용품",
          "생활용품",
          "생활용품",
          "생활용품",
          "생활용품",
          "생활용품",
          "생활용품",
          "생활용품",
          "생활용품",
          "생활용품",
          "생활용품",
          "생활용품",
          "생활용품",
          "생활용품",
          "생활용품",
          "생활용품",
          "생활용품",
          "생활용품",
          "생활용품",
          "생활용품",
          "생활용품",
          "생활용품",
          "생활용품",
          "생활용품",
          "생활용품",
          "생활용품",
          "생활용품",
          "생활용품",
          "생활용품",
          "생활용품",
          "생활용품",
          "생활용품",
          "생활용품",
          "생활용품",
          "생활용품",
          "생활용품",
          "생활용품",
          "속옷",
          "속옷",
          "속옷",
          "속옷",
          "속옷",
          "속옷",
          "속옷",
          "속옷",
          "속옷",
          "속옷",
          "속옷",
          "속옷",
          "속옷",
          "속옷",
          "속옷",
          "속옷",
          "속옷",
          "속옷",
          "속옷",
          "속옷",
          "속옷",
          "속옷",
          "속옷",
          "속옷",
          "속옷",
          "속옷",
          "속옷",
          "속옷",
          "속옷",
          "속옷",
          "속옷",
          "속옷",
          "속옷",
          "속옷",
          "속옷",
          "속옷",
          "속옷",
          "속옷",
          "속옷",
          "속옷",
          "속옷",
          "속옷",
          "속옷",
          "속옷",
          "속옷",
          "속옷",
          "속옷",
          "속옷",
          "속옷",
          "속옷",
          "속옷",
          "속옷",
          "속옷",
          "속옷",
          "속옷",
          "속옷",
          "속옷",
          "속옷",
          "속옷",
          "속옷",
          "속옷",
          "속옷",
          "속옷",
          "속옷",
          "속옷",
          "속옷",
          "속옷",
          "속옷",
          "속옷",
          "속옷",
          "속옷",
          "속옷",
          "속옷",
          "속옷",
          "속옷",
          "속옷",
          "속옷",
          "속옷",
          "속옷",
          "속옷",
          "속옷",
          "속옷",
          "속옷",
          "속옷",
          "속옷",
          "속옷",
          "속옷",
          "속옷",
          "속옷",
          "속옷",
          "속옷",
          "속옷",
          "속옷",
          "속옷",
          "속옷",
          "속옷",
          "속옷",
          "속옷",
          "속옷",
          "속옷",
          "속옷",
          "속옷",
          "속옷",
          "속옷",
          "속옷",
          "속옷",
          "속옷",
          "속옷",
          "속옷",
          "속옷",
          "속옷",
          "속옷",
          "속옷",
          "속옷",
          "속옷",
          "속옷",
          "속옷",
          "속옷",
          "속옷",
          "속옷",
          "속옷",
          "속옷",
          "속옷",
          "속옷",
          "속옷",
          "속옷",
          "속옷",
          "속옷",
          "속옷",
          "속옷",
          "속옷",
          "속옷",
          "속옷",
          "속옷",
          "속옷",
          "속옷",
          "속옷",
          "속옷",
          "속옷",
          "속옷",
          "속옷",
          "속옷",
          "속옷",
          "속옷",
          "속옷",
          "속옷",
          "속옷",
          "속옷",
          "속옷",
          "속옷",
          "속옷",
          "속옷",
          "속옷",
          "속옷",
          "속옷",
          "속옷",
          "속옷",
          "속옷",
          "속옷",
          "속옷",
          "속옷",
          "속옷",
          "속옷",
          "속옷",
          "속옷",
          "속옷",
          "속옷",
          "속옷",
          "속옷",
          "속옷",
          "속옷",
          "속옷",
          "속옷",
          "속옷",
          "속옷",
          "속옷",
          "속옷",
          "속옷",
          "속옷",
          "속옷",
          "속옷",
          "의류",
          "의류",
          "의류",
          "의류",
          "의류",
          "의류",
          "의류",
          "의류",
          "의류",
          "의류",
          "의류",
          "의류",
          "의류",
          "의류",
          "의류",
          "의류",
          "의류",
          "의류",
          "의류",
          "의류",
          "의류",
          "의류",
          "의류",
          "의류",
          "의류",
          "의류",
          "의류",
          "의류",
          "의류",
          "의류",
          "의류",
          "의류",
          "의류",
          "의류",
          "의류",
          "의류",
          "의류",
          "의류",
          "의류",
          "의류",
          "의류",
          "의류",
          "의류",
          "의류",
          "의류",
          "의류",
          "의류",
          "의류",
          "의류",
          "의류",
          "의류",
          "의류",
          "의류",
          "의류",
          "의류",
          "의류",
          "의류",
          "의류",
          "의류",
          "의류",
          "의류",
          "의류",
          "의류",
          "의류",
          "의류",
          "의류",
          "의류",
          "의류",
          "의류",
          "의류",
          "의류",
          "의류",
          "의류",
          "의류",
          "의류",
          "의류",
          "의류",
          "의류",
          "의류",
          "의류",
          "의류",
          "의류",
          "의류",
          "의류",
          "의류",
          "의류",
          "의류",
          "의류",
          "의류",
          "의류",
          "의류",
          "의류",
          "의류",
          "의류",
          "의류",
          "의류",
          "의류",
          "의류",
          "의류",
          "의류",
          "의류",
          "의류",
          "의류",
          "의류",
          "의류",
          "의류",
          "의류",
          "의류",
          "의류",
          "의류",
          "의류",
          "의류",
          "의류",
          "의류",
          "의류",
          "의류",
          "의류",
          "의류",
          "의류",
          "의류",
          "의류",
          "의류",
          "의류",
          "의류",
          "의류",
          "의류",
          "의류",
          "의류",
          "의류",
          "의류",
          "의류",
          "의류",
          "의류",
          "의류",
          "의류",
          "의류",
          "의류",
          "의류",
          "의류",
          "의류",
          "의류",
          "의류",
          "의류",
          "의류",
          "의류",
          "의류",
          "의류",
          "의류",
          "의류",
          "의류",
          "의류",
          "의류",
          "의류",
          "의류",
          "의류",
          "의류",
          "의류",
          "의류",
          "의류",
          "의류",
          "의류",
          "의류",
          "의류",
          "의류",
          "의류",
          "의류",
          "의류",
          "의류",
          "의류",
          "의류",
          "의류",
          "의류",
          "의류",
          "의류",
          "의류",
          "의류",
          "의류",
          "의류",
          "의류",
          "의류",
          "의류",
          "의류",
          "의류",
          "의류",
          "의류",
          "의류",
          "의류",
          "의류",
          "의류",
          "의류",
          "의류",
          "의류",
          "의류",
          "의류",
          "의류",
          "의류",
          "의류",
          "의류",
          "의류",
          "의류",
          "의류",
          "의류",
          "의류",
          "의류",
          "의류",
          "의류",
          "의류",
          "의류",
          "의류",
          "의류",
          "의류",
          "의류",
          "의류",
          "의류",
          "의류",
          "의류",
          "의류",
          "의류",
          "의류",
          "의류",
          "의류",
          "의류",
          "의류",
          "의류",
          "의류",
          "의류",
          "의류",
          "의류",
          "의류",
          "의류",
          "의류",
          "의류",
          "의류",
          "의류",
          "의류",
          "의류",
          "의류",
          "의류",
          "의류",
          "의류",
          "의류",
          "의류",
          "의류",
          "의류",
          "의류",
          "의류",
          "의류",
          "의류",
          "의류",
          "의류",
          "의류",
          "의류",
          "의류",
          "의류",
          "의류",
          "의류",
          "의류",
          "의류",
          "의류",
          "의류",
          "의류",
          "의류",
          "의류",
          "의류",
          "의류",
          "의류",
          "의류",
          "의류",
          "이미용",
          "이미용",
          "이미용",
          "이미용",
          "이미용",
          "이미용",
          "이미용",
          "이미용",
          "이미용",
          "이미용",
          "이미용",
          "이미용",
          "이미용",
          "이미용",
          "이미용",
          "이미용",
          "이미용",
          "이미용",
          "이미용",
          "이미용",
          "이미용",
          "이미용",
          "이미용",
          "이미용",
          "이미용",
          "이미용",
          "이미용",
          "이미용",
          "이미용",
          "이미용",
          "이미용",
          "이미용",
          "이미용",
          "이미용",
          "이미용",
          "이미용",
          "이미용",
          "이미용",
          "이미용",
          "이미용",
          "이미용",
          "이미용",
          "이미용",
          "이미용",
          "이미용",
          "이미용",
          "이미용",
          "이미용",
          "이미용",
          "이미용",
          "잡화",
          "잡화",
          "잡화",
          "잡화",
          "잡화",
          "잡화",
          "잡화",
          "잡화",
          "잡화",
          "잡화",
          "잡화",
          "잡화",
          "잡화",
          "잡화",
          "잡화",
          "잡화",
          "잡화",
          "잡화",
          "잡화",
          "잡화",
          "잡화",
          "잡화",
          "잡화",
          "잡화",
          "잡화",
          "잡화",
          "잡화",
          "잡화",
          "잡화",
          "잡화",
          "잡화",
          "잡화",
          "잡화",
          "잡화",
          "잡화",
          "잡화",
          "잡화",
          "잡화",
          "잡화",
          "잡화",
          "잡화",
          "잡화",
          "잡화",
          "잡화",
          "잡화",
          "잡화",
          "잡화",
          "잡화",
          "잡화",
          "잡화",
          "잡화",
          "잡화",
          "잡화",
          "잡화",
          "잡화",
          "잡화",
          "잡화",
          "잡화",
          "잡화",
          "잡화",
          "잡화",
          "잡화",
          "잡화",
          "잡화",
          "잡화",
          "잡화",
          "잡화",
          "잡화",
          "잡화",
          "잡화",
          "잡화",
          "잡화",
          "잡화",
          "잡화",
          "잡화",
          "잡화",
          "잡화",
          "잡화",
          "잡화",
          "잡화",
          "잡화",
          "잡화",
          "잡화",
          "잡화",
          "잡화",
          "잡화",
          "잡화",
          "잡화",
          "잡화",
          "잡화",
          "잡화",
          "잡화",
          "잡화",
          "잡화",
          "잡화",
          "잡화",
          "잡화",
          "잡화",
          "잡화",
          "잡화",
          "잡화",
          "잡화",
          "잡화",
          "잡화",
          "잡화",
          "잡화",
          "잡화",
          "잡화",
          "잡화",
          "잡화",
          "잡화",
          "잡화",
          "잡화",
          "잡화",
          "잡화",
          "잡화",
          "잡화",
          "잡화",
          "잡화",
          "잡화",
          "잡화",
          "잡화",
          "잡화",
          "잡화",
          "잡화",
          "잡화",
          "잡화",
          "잡화",
          "잡화",
          "잡화",
          "잡화",
          "잡화",
          "잡화",
          "잡화",
          "잡화",
          "잡화",
          "잡화",
          "잡화",
          "잡화",
          "잡화",
          "잡화",
          "잡화",
          "잡화",
          "잡화",
          "잡화",
          "잡화",
          "잡화",
          "잡화",
          "잡화",
          "잡화",
          "잡화",
          "잡화",
          "잡화",
          "잡화",
          "잡화",
          "잡화",
          "잡화",
          "잡화",
          "잡화",
          "잡화",
          "잡화",
          "잡화",
          "잡화",
          "잡화",
          "잡화",
          "잡화",
          "잡화",
          "잡화",
          "잡화",
          "잡화",
          "잡화",
          "잡화",
          "잡화",
          "잡화",
          "잡화",
          "잡화",
          "잡화",
          "잡화",
          "잡화",
          "잡화",
          "잡화",
          "잡화",
          "잡화",
          "잡화",
          "잡화",
          "잡화",
          "잡화",
          "잡화",
          "잡화",
          "잡화",
          "잡화",
          "잡화",
          "잡화",
          "잡화",
          "잡화",
          "잡화",
          "잡화",
          "잡화",
          "잡화",
          "잡화",
          "잡화",
          "잡화",
          "잡화",
          "잡화",
          "잡화",
          "잡화",
          "잡화",
          "잡화",
          "잡화",
          "잡화",
          "잡화",
          "잡화",
          "잡화",
          "잡화",
          "잡화",
          "잡화",
          "잡화",
          "잡화",
          "잡화",
          "잡화",
          "잡화",
          "잡화",
          "잡화",
          "잡화",
          "잡화",
          "잡화",
          "잡화",
          "잡화",
          "잡화",
          "잡화",
          "잡화",
          "잡화",
          "잡화",
          "잡화",
          "잡화",
          "잡화",
          "잡화",
          "잡화",
          "잡화",
          "잡화",
          "잡화",
          "잡화",
          "잡화",
          "잡화",
          "잡화",
          "잡화",
          "잡화",
          "잡화",
          "잡화",
          "주방",
          "주방",
          "주방",
          "주방",
          "주방",
          "주방",
          "주방",
          "주방",
          "주방",
          "주방",
          "주방",
          "주방",
          "주방",
          "주방",
          "주방",
          "주방",
          "주방",
          "주방",
          "주방",
          "주방",
          "주방",
          "주방",
          "주방",
          "주방",
          "주방",
          "주방",
          "주방",
          "주방",
          "주방",
          "주방",
          "주방",
          "주방",
          "주방",
          "주방",
          "주방",
          "주방",
          "주방",
          "주방",
          "주방",
          "주방",
          "주방",
          "주방",
          "주방",
          "주방",
          "주방",
          "주방",
          "주방",
          "주방",
          "주방",
          "주방",
          "주방",
          "주방",
          "주방",
          "주방",
          "주방",
          "주방",
          "주방",
          "주방",
          "주방",
          "주방",
          "주방",
          "주방",
          "주방",
          "주방",
          "주방",
          "주방",
          "주방",
          "주방",
          "주방",
          "주방",
          "주방",
          "주방",
          "주방",
          "주방",
          "주방",
          "주방",
          "주방",
          "주방",
          "주방",
          "주방",
          "주방",
          "주방",
          "주방",
          "주방",
          "주방",
          "주방",
          "주방",
          "주방",
          "주방",
          "주방",
          "주방",
          "주방",
          "주방",
          "주방",
          "주방",
          "주방",
          "주방",
          "주방",
          "주방",
          "주방",
          "주방",
          "주방",
          "주방",
          "주방",
          "주방",
          "주방",
          "주방",
          "주방",
          "주방",
          "주방",
          "주방",
          "주방",
          "주방",
          "주방",
          "주방",
          "주방",
          "주방",
          "주방",
          "주방",
          "주방",
          "주방",
          "주방",
          "주방",
          "주방",
          "주방",
          "주방",
          "주방",
          "주방",
          "주방",
          "주방",
          "주방",
          "주방",
          "주방",
          "주방",
          "주방",
          "주방",
          "주방",
          "주방",
          "주방",
          "주방",
          "주방",
          "주방",
          "주방",
          "주방",
          "주방",
          "주방",
          "주방",
          "주방",
          "주방",
          "주방",
          "주방",
          "주방",
          "주방",
          "주방",
          "주방",
          "주방",
          "주방",
          "주방",
          "주방",
          "주방",
          "주방",
          "주방",
          "주방",
          "주방",
          "주방",
          "주방",
          "주방",
          "주방",
          "주방",
          "주방",
          "주방",
          "주방",
          "주방",
          "주방",
          "주방",
          "주방",
          "주방",
          "주방",
          "주방",
          "주방",
          "주방",
          "주방",
          "주방",
          "주방",
          "주방",
          "주방",
          "주방",
          "주방",
          "주방",
          "주방",
          "주방",
          "주방",
          "주방",
          "주방",
          "주방",
          "주방",
          "주방",
          "주방",
          "주방",
          "주방",
          "주방",
          "주방",
          "침구",
          "침구",
          "침구",
          "침구",
          "침구",
          "침구",
          "침구",
          "침구",
          "침구",
          "침구",
          "침구",
          "침구",
          "침구",
          "침구",
          "침구",
          "침구",
          "침구",
          "침구",
          "침구",
          "침구",
          "침구",
          "침구",
          "침구",
          "침구",
          "침구",
          "침구",
          "침구",
          "침구",
          "침구",
          "침구",
          "침구",
          "침구",
          "침구",
          "침구",
          "침구",
          "침구",
          "침구",
          "침구",
          "침구",
          "침구",
          "침구",
          "침구",
          "침구",
          "침구",
          "침구"
         ],
         "legendgroup": "",
         "name": "",
         "showlegend": true,
         "textinfo": "percent+label",
         "textposition": "inside",
         "type": "pie",
         "values": [
          113.68333333333334,
          180,
          180,
          180,
          60,
          60,
          120,
          120,
          120,
          6660,
          4680,
          780,
          780,
          780,
          177.16666666666666,
          480,
          240,
          480,
          480,
          120,
          360,
          120,
          180,
          180,
          180,
          180,
          540,
          2940,
          2940,
          2940,
          2100,
          2100,
          2100,
          540,
          60,
          60,
          60,
          60,
          60,
          60,
          60,
          120,
          120,
          120,
          120,
          60,
          60,
          120,
          120,
          120,
          6660,
          4680,
          780,
          780,
          780,
          177.16666666666666,
          480,
          240,
          480,
          480,
          120,
          360,
          120,
          180,
          180,
          180,
          180,
          540,
          1800,
          600,
          1080,
          1140,
          240,
          240,
          60,
          60,
          25320,
          120,
          120,
          120,
          5520,
          60,
          120,
          240,
          360,
          1980,
          2340,
          600,
          600,
          60,
          300,
          6180,
          60,
          60,
          240,
          2160,
          120,
          5280,
          240,
          60,
          60,
          60,
          120,
          1980,
          1980,
          120,
          120,
          180,
          120,
          540,
          540,
          240,
          240,
          120,
          120,
          360,
          60,
          360,
          180,
          2160,
          120,
          120,
          240,
          60,
          60,
          25440,
          120,
          120,
          120,
          5520,
          60,
          120,
          240,
          360,
          1980,
          2340,
          600,
          60,
          300,
          6180,
          60,
          60,
          120,
          240,
          2160,
          5400,
          240,
          60,
          60,
          60,
          1980,
          1980,
          120,
          240,
          180,
          120,
          540,
          540,
          240,
          240,
          120,
          120,
          360,
          60,
          360,
          180,
          2160,
          480,
          240,
          480,
          240,
          180,
          60,
          380,
          120,
          293,
          1200,
          120,
          60,
          60,
          60,
          1140,
          453.18333333333334,
          240,
          240,
          240,
          60,
          600,
          240,
          1760,
          240,
          60,
          180,
          297.15000000000003,
          60,
          237.16666666666666,
          120,
          60,
          60,
          240,
          60,
          240,
          1760,
          240,
          1680,
          400,
          115.66666666666667,
          180,
          720,
          272.3333333333333,
          520,
          180,
          60,
          116.85,
          95.01666666666667,
          236.68333333333334,
          360,
          120,
          60,
          240,
          240,
          240,
          104.65,
          60,
          60,
          5040,
          60,
          180,
          4336.266666666666,
          120,
          94.83333333333333,
          900,
          60,
          1034.7833333333333,
          120,
          96.66666666666667,
          40,
          240,
          1560,
          60,
          240,
          712.1833333333333,
          420,
          1320,
          1320,
          100,
          120,
          180,
          60,
          60,
          700,
          900,
          60,
          3420,
          1860,
          240,
          120,
          760,
          120,
          60,
          540,
          60,
          120,
          1085.5,
          60,
          60,
          60,
          120,
          120,
          60,
          6360,
          2227.5,
          1387.5,
          100,
          156.16666666666669,
          1086,
          600,
          120,
          2252.666666666667,
          220,
          363.8666666666666,
          60,
          60,
          1320,
          540,
          120,
          2080,
          60,
          420,
          60,
          900,
          180,
          480,
          180,
          60,
          300,
          220,
          240,
          2940,
          1480,
          120,
          60,
          60,
          180,
          40,
          240,
          754.35,
          120,
          177.08333333333331,
          60,
          60,
          60,
          240,
          180,
          1140,
          720,
          2075.1666666666665,
          540,
          60,
          33,
          60,
          1219.7,
          240,
          60,
          59.983333333333334,
          120,
          240,
          57.1,
          120,
          620,
          1140,
          274.90000000000003,
          281.5333333333333,
          2040,
          935.3333333333333,
          720,
          120,
          1380,
          60,
          120,
          120,
          120,
          1840,
          120,
          60,
          120,
          180,
          120,
          300,
          60,
          175.28333333333333,
          120,
          60,
          240,
          232.33333333333331,
          60,
          60,
          165.83333333333334,
          166.16666666666669,
          360,
          240,
          120,
          120,
          120,
          120,
          1980,
          360,
          360,
          360,
          360,
          60,
          540,
          540,
          540,
          120,
          120,
          120,
          60,
          176.68333333333334,
          896.8333333333333,
          360,
          266.1666666666667,
          175.2,
          175.2,
          2280,
          420,
          1160,
          116.03333333333333,
          300,
          60,
          360,
          660,
          117.16666666666667,
          60,
          3433.733333333333,
          420,
          115.36666666666667,
          60,
          1380,
          1380,
          420,
          60,
          600,
          357.1,
          176.68333333333334,
          60,
          60,
          60,
          120,
          120,
          180,
          180,
          60,
          60,
          600,
          120,
          176.66666666666669,
          176.66666666666669,
          600,
          120,
          60,
          60,
          57.2,
          57.2,
          57.2,
          120,
          660,
          116.7,
          540,
          1260,
          1200,
          60,
          294.33333333333337,
          294.33333333333337,
          295.85,
          60,
          120,
          275.1666666666667,
          175.2,
          175.2,
          1160,
          116.03333333333333,
          300,
          60,
          360,
          660,
          117.16666666666667,
          60,
          3433.733333333333,
          420,
          115.36666666666667,
          60,
          1380,
          1380,
          900,
          120,
          60,
          900,
          120,
          900,
          120,
          120,
          240,
          1453.8333333333335,
          137.16666666666666,
          160,
          1260,
          1260,
          1260,
          120,
          180,
          180,
          1260,
          60,
          596.9666666666667,
          720,
          180,
          60,
          720,
          60,
          56.66666666666667,
          56.66666666666667,
          120,
          120,
          1380,
          120,
          360,
          60,
          60,
          60,
          300,
          120,
          116.7,
          282.81666666666666,
          300,
          240,
          55.166666666666664,
          120,
          344.33333333333337,
          760.5,
          360,
          360,
          736.7,
          736.7,
          53,
          457.1666666666667,
          457.1666666666667,
          240,
          528.5,
          35.166666666666664,
          120,
          234.2,
          535.85,
          1191.85,
          240,
          60,
          474.6333333333333,
          600,
          60,
          240,
          230.33333333333334,
          540,
          60,
          120,
          116.66666666666667,
          540,
          120,
          236.83333333333331,
          540,
          117.16666666666667,
          60,
          60,
          995.2,
          1175.2,
          180,
          1175.2,
          120,
          60,
          60,
          497.16666666666663,
          360,
          420,
          115.16666666666666,
          180,
          1366.35,
          240,
          60,
          540,
          240,
          60,
          60,
          215.16666666666669,
          60,
          53,
          900,
          180,
          60,
          60,
          180,
          228.16666666666666,
          228.16666666666666,
          1620,
          840,
          1080,
          900,
          60,
          1596.6999999999998,
          60,
          60,
          40,
          60,
          540,
          120,
          232,
          120,
          720,
          120,
          116.66666666666667,
          600,
          240,
          180,
          240,
          175,
          177.16666666666666,
          900,
          461.6666666666667,
          420,
          234.66666666666666,
          540,
          60,
          120,
          540,
          2512,
          120,
          115.16666666666666,
          60,
          1200,
          1200,
          600,
          120,
          300,
          480,
          480,
          480,
          480,
          892.7,
          892.7,
          820.7,
          120,
          659.1833333333334,
          300,
          475.1666666666667,
          360,
          900,
          60,
          536.6833333333334,
          300,
          233,
          180,
          160,
          960,
          960,
          480,
          240,
          180,
          180,
          180,
          655.1666666666667,
          1984.8333333333333,
          1447.6666666666665,
          180,
          1260,
          110.73333333333333,
          720,
          720,
          240,
          356.1,
          1132.45,
          1908.5500000000002,
          120,
          120,
          708.1666666666666,
          180,
          180,
          360,
          173,
          1435.6666666666667,
          114.19999999999999,
          116.83333333333333,
          116.83333333333333,
          60,
          300,
          537.1666666666666,
          60,
          173,
          180,
          1374.7,
          1243.1833333333334,
          356.1,
          60,
          240,
          60,
          115.16666666666667,
          408,
          60,
          924.3666666666667,
          540,
          924.3666666666667,
          540,
          60,
          296.3166666666666,
          60,
          897.1666666666666,
          897.1666666666666,
          177.16666666666669,
          57.16666666666667,
          360,
          420,
          820,
          300,
          177.18333333333334,
          175.83333333333331,
          540,
          60,
          650.3333333333334,
          475.1666666666667,
          180,
          360,
          60,
          157.16666666666666,
          157.16666666666666,
          175.33333333333331,
          180,
          360,
          840,
          180,
          60,
          120,
          60,
          300,
          60,
          120,
          772.0666666666666,
          223,
          713.2,
          120,
          240,
          292.4166666666667,
          1260,
          60,
          415,
          413.20000000000005,
          180,
          60,
          60,
          1160,
          60,
          713.2,
          420,
          600,
          680,
          300,
          180,
          836.1,
          120,
          57.1,
          57.1,
          60,
          300,
          56.7,
          180,
          60,
          56.7,
          180,
          115,
          60,
          60,
          60,
          115,
          60,
          354.6666666666667,
          180,
          240,
          240,
          360,
          240,
          100,
          100,
          113,
          113,
          180,
          360,
          180,
          540,
          60,
          300,
          240,
          600,
          300,
          300,
          60,
          300,
          1500,
          480,
          1080,
          120,
          476.01666666666665,
          275.08333333333337,
          336.7,
          336.7,
          540,
          60,
          240,
          280,
          60,
          360,
          840,
          1260,
          780,
          240,
          280,
          60,
          60,
          360,
          840,
          1260,
          780,
          60,
          60,
          120,
          960,
          480,
          180,
          240,
          120,
          480,
          120,
          480,
          60,
          56.016666666666666,
          120,
          240,
          220,
          102.46666666666667,
          595,
          660,
          660,
          60,
          465.34999999999997,
          120,
          280,
          120,
          280,
          60,
          60,
          60,
          475.1666666666667,
          100,
          100,
          100,
          240,
          120,
          420,
          840,
          180,
          60,
          120,
          300,
          180,
          60,
          120,
          772.0666666666666,
          223,
          713.2,
          120,
          240,
          1260,
          60,
          415,
          413.20000000000005,
          180,
          60,
          60,
          1160,
          60,
          180,
          713.2,
          420,
          300,
          240,
          920,
          120,
          115.16666666666667,
          180,
          115.16666666666667,
          180,
          116.7,
          240,
          720,
          592.2,
          300,
          116.7,
          240,
          720,
          760.8833333333334,
          300,
          116.68333333333334,
          240,
          120,
          120,
          60,
          533,
          60,
          360,
          266,
          359.33333333333337,
          715.6666666666667,
          731.5166666666667,
          60,
          233,
          120,
          60,
          60,
          520,
          720,
          60,
          360,
          180,
          360,
          240,
          480,
          360,
          60,
          53.166666666666664,
          173,
          177.1,
          113,
          100,
          60,
          288,
          420,
          177.1,
          113,
          100,
          60,
          288,
          420,
          56.16666666666667,
          1500,
          720,
          55.166666666666664,
          180,
          55.166666666666664,
          180,
          540,
          695.1666666666666,
          540,
          240,
          356.2,
          540,
          540,
          240,
          356.2,
          540,
          1736.6833333333334,
          176.66666666666669,
          240,
          300,
          1320,
          120,
          1857.1833333333334,
          176.66666666666669,
          120,
          180,
          60,
          100,
          60,
          60,
          120,
          180,
          60,
          100,
          60,
          1040,
          116.68333333333334,
          213.33333333333334,
          120,
          300,
          60,
          417.1,
          408.85,
          56.68333333333334,
          297.16666666666663,
          828.1666666666666,
          1640,
          3730.833333333333,
          2976.516666666667,
          3037.1833333333334,
          60,
          60,
          240,
          60,
          60,
          1056.6833333333334,
          116.68333333333334,
          240,
          697.4,
          56.68333333333334,
          113.51666666666667,
          405.3666666666667,
          155,
          60,
          540,
          420,
          1181.1166666666666,
          115,
          116.08333333333333,
          2820,
          60,
          60,
          60,
          120,
          120,
          225.5,
          113,
          600,
          180,
          146,
          146,
          171.01666666666668,
          57.16666666666667,
          60,
          835.8000000000005,
          1055.2666666666669,
          1055.2666666666669,
          60,
          782.6000000000004,
          361.20000000000005,
          361.20000000000005,
          361.20000000000005,
          361.20000000000005,
          420,
          120,
          235.16666666666666,
          600,
          96.2,
          220,
          180.6,
          893,
          893,
          1076.0833333333333,
          180,
          595,
          230.35,
          120,
          180.6,
          117.16666666666667,
          117.16666666666667,
          240,
          535,
          60,
          56.86666666666667,
          535,
          60,
          56.86666666666667,
          60,
          60,
          840,
          333,
          481.60000000000014,
          481.60000000000014,
          481.60000000000014,
          481.60000000000014,
          481.60000000000014,
          481.60000000000014,
          481.60000000000014,
          963.2000000000005,
          963.2000000000005,
          963.2000000000005,
          963.2000000000005,
          963.2000000000005,
          963.2000000000005,
          963.2000000000005,
          60.2,
          60.2,
          60.2,
          60.2,
          60.2,
          60.2,
          60.2,
          361.20000000000005,
          416.50000000000006,
          416.50000000000006,
          416.50000000000006,
          180.6,
          416.50000000000006,
          180.6,
          416.50000000000006,
          416.50000000000006,
          416.50000000000006,
          180.6,
          180.6,
          180.6,
          120.4,
          120.4,
          120.4,
          120.4,
          120.4,
          120.4,
          120.4,
          240,
          480,
          240,
          480,
          60,
          60,
          60,
          120,
          120,
          240,
          240,
          120,
          32.666666666666664,
          32.666666666666664,
          120,
          165.83333333333334,
          60,
          466.4666666666667,
          630.0333333333334,
          420,
          120,
          656.7,
          361.20000000000005,
          361.20000000000005,
          353,
          169.5,
          346.68333333333334,
          480,
          180.6,
          60,
          300,
          60,
          60,
          300,
          360,
          420,
          120,
          295,
          720,
          180,
          480,
          420,
          397.1666666666667,
          220,
          220,
          180.6,
          180.6,
          180,
          180,
          180,
          600,
          600,
          480,
          240,
          240,
          240,
          60,
          60,
          60,
          60,
          60,
          240,
          240,
          60,
          60,
          300,
          116.66666666666667,
          284.2833333333333,
          1073,
          600,
          120,
          235.16666666666666,
          96.2,
          220,
          180,
          277.1666666666667,
          337.1666666666667,
          240,
          120,
          240,
          300,
          480,
          480,
          180,
          120,
          420,
          416.3333333333333,
          60,
          120,
          300,
          480,
          480,
          180,
          120,
          420,
          416.3333333333333,
          60,
          240,
          120,
          1196.7,
          90,
          165.83333333333334,
          60,
          466.4666666666667,
          630.0333333333334,
          420,
          120,
          120,
          360,
          300,
          60,
          60,
          60,
          180,
          180,
          180,
          1260,
          1200,
          300,
          360,
          480,
          360,
          420,
          420,
          840,
          120,
          300,
          120,
          300,
          1200,
          300,
          420,
          420,
          360,
          420,
          780,
          656.7,
          655.2,
          540,
          180.6,
          120,
          540,
          120,
          60,
          660,
          120,
          60,
          660,
          1081.4,
          540,
          481.40000000000015,
          60,
          541.4000000000002,
          481.40000000000015,
          1020,
          481.40000000000015,
          120,
          540,
          540,
          480,
          540,
          480,
          541.4000000000002,
          60,
          1140,
          540,
          60,
          480,
          60,
          360,
          655.2,
          1080,
          120,
          240,
          120,
          120,
          340,
          340,
          360,
          240,
          240,
          60,
          120,
          60,
          1560,
          1560,
          120,
          120,
          900,
          120,
          120,
          60,
          60,
          60,
          177.16666666666669,
          120,
          60,
          120,
          120,
          60,
          780,
          60,
          660,
          660,
          1560,
          1560,
          120,
          60,
          1500,
          1200,
          355.9,
          355.9,
          355.9,
          60,
          157.16666666666669,
          240,
          60,
          60,
          240,
          780,
          60,
          60,
          180,
          60,
          480,
          240,
          120,
          240,
          1440,
          60,
          60,
          60,
          120,
          3600,
          112,
          360,
          53,
          60,
          1320,
          780,
          120,
          3064.2666666666664,
          1080,
          9700,
          3820,
          120,
          120,
          1220,
          180,
          100,
          120,
          240,
          480,
          240,
          60,
          60,
          420,
          60,
          120,
          60,
          60,
          480,
          120,
          720,
          300,
          480,
          60,
          60,
          60,
          360,
          240,
          155.5,
          60,
          60,
          120,
          240,
          720,
          4920,
          60,
          300,
          300,
          55.166666666666664,
          240,
          8020,
          60,
          120,
          120,
          60,
          780,
          60,
          660,
          660,
          1560,
          1560,
          120,
          60,
          1500,
          1200,
          355.9,
          355.9,
          355.9,
          60,
          157.16666666666669,
          240,
          60,
          60,
          240,
          780,
          60,
          60,
          180,
          60,
          480,
          240,
          120,
          240,
          1440,
          60,
          60,
          120,
          3540,
          60,
          112,
          360,
          53,
          60,
          1320,
          780,
          120,
          272.1333333333333,
          2792.133333333333,
          1080,
          9680,
          3820,
          120,
          120,
          1220,
          180,
          100,
          120,
          240,
          480,
          240,
          60,
          60,
          180,
          420,
          60,
          120,
          3540,
          3540,
          3540,
          3540,
          240,
          60,
          780,
          600,
          2150,
          240,
          60,
          227.58333333333334,
          2100,
          720,
          180,
          120,
          60,
          60,
          1500,
          720,
          60,
          60,
          180,
          1080,
          60,
          60,
          60,
          60,
          60,
          60,
          55.06666666666666,
          55.06666666666666,
          55.06666666666666,
          55.06666666666666,
          5040,
          519,
          120,
          120,
          120,
          120,
          1800,
          600,
          300,
          300,
          300,
          300,
          116.86666666666667,
          116.86666666666667,
          116.86666666666667,
          116.86666666666667,
          176.66666666666666,
          176.66666666666666,
          176.66666666666666,
          176.66666666666666,
          180,
          55.06666666666666,
          55.06666666666666,
          55.06666666666666,
          55.06666666666666,
          120,
          120,
          120,
          170.54999999999998,
          300,
          300,
          300,
          115.2,
          115.2,
          115.2
         ]
        }
       ],
       "layout": {
        "legend": {
         "tracegroupgap": 0
        },
        "piecolorway": [
         "rgb(103,0,31)",
         "rgb(178,24,43)",
         "rgb(214,96,77)",
         "rgb(244,165,130)",
         "rgb(253,219,199)",
         "rgb(247,247,247)",
         "rgb(209,229,240)",
         "rgb(146,197,222)",
         "rgb(67,147,195)",
         "rgb(33,102,172)",
         "rgb(5,48,97)"
        ],
        "template": {
         "data": {
          "bar": [
           {
            "error_x": {
             "color": "#2a3f5f"
            },
            "error_y": {
             "color": "#2a3f5f"
            },
            "marker": {
             "line": {
              "color": "#E5ECF6",
              "width": 0.5
             }
            },
            "type": "bar"
           }
          ],
          "barpolar": [
           {
            "marker": {
             "line": {
              "color": "#E5ECF6",
              "width": 0.5
             }
            },
            "type": "barpolar"
           }
          ],
          "carpet": [
           {
            "aaxis": {
             "endlinecolor": "#2a3f5f",
             "gridcolor": "white",
             "linecolor": "white",
             "minorgridcolor": "white",
             "startlinecolor": "#2a3f5f"
            },
            "baxis": {
             "endlinecolor": "#2a3f5f",
             "gridcolor": "white",
             "linecolor": "white",
             "minorgridcolor": "white",
             "startlinecolor": "#2a3f5f"
            },
            "type": "carpet"
           }
          ],
          "choropleth": [
           {
            "colorbar": {
             "outlinewidth": 0,
             "ticks": ""
            },
            "type": "choropleth"
           }
          ],
          "contour": [
           {
            "colorbar": {
             "outlinewidth": 0,
             "ticks": ""
            },
            "colorscale": [
             [
              0,
              "#0d0887"
             ],
             [
              0.1111111111111111,
              "#46039f"
             ],
             [
              0.2222222222222222,
              "#7201a8"
             ],
             [
              0.3333333333333333,
              "#9c179e"
             ],
             [
              0.4444444444444444,
              "#bd3786"
             ],
             [
              0.5555555555555556,
              "#d8576b"
             ],
             [
              0.6666666666666666,
              "#ed7953"
             ],
             [
              0.7777777777777778,
              "#fb9f3a"
             ],
             [
              0.8888888888888888,
              "#fdca26"
             ],
             [
              1,
              "#f0f921"
             ]
            ],
            "type": "contour"
           }
          ],
          "contourcarpet": [
           {
            "colorbar": {
             "outlinewidth": 0,
             "ticks": ""
            },
            "type": "contourcarpet"
           }
          ],
          "heatmap": [
           {
            "colorbar": {
             "outlinewidth": 0,
             "ticks": ""
            },
            "colorscale": [
             [
              0,
              "#0d0887"
             ],
             [
              0.1111111111111111,
              "#46039f"
             ],
             [
              0.2222222222222222,
              "#7201a8"
             ],
             [
              0.3333333333333333,
              "#9c179e"
             ],
             [
              0.4444444444444444,
              "#bd3786"
             ],
             [
              0.5555555555555556,
              "#d8576b"
             ],
             [
              0.6666666666666666,
              "#ed7953"
             ],
             [
              0.7777777777777778,
              "#fb9f3a"
             ],
             [
              0.8888888888888888,
              "#fdca26"
             ],
             [
              1,
              "#f0f921"
             ]
            ],
            "type": "heatmap"
           }
          ],
          "heatmapgl": [
           {
            "colorbar": {
             "outlinewidth": 0,
             "ticks": ""
            },
            "colorscale": [
             [
              0,
              "#0d0887"
             ],
             [
              0.1111111111111111,
              "#46039f"
             ],
             [
              0.2222222222222222,
              "#7201a8"
             ],
             [
              0.3333333333333333,
              "#9c179e"
             ],
             [
              0.4444444444444444,
              "#bd3786"
             ],
             [
              0.5555555555555556,
              "#d8576b"
             ],
             [
              0.6666666666666666,
              "#ed7953"
             ],
             [
              0.7777777777777778,
              "#fb9f3a"
             ],
             [
              0.8888888888888888,
              "#fdca26"
             ],
             [
              1,
              "#f0f921"
             ]
            ],
            "type": "heatmapgl"
           }
          ],
          "histogram": [
           {
            "marker": {
             "colorbar": {
              "outlinewidth": 0,
              "ticks": ""
             }
            },
            "type": "histogram"
           }
          ],
          "histogram2d": [
           {
            "colorbar": {
             "outlinewidth": 0,
             "ticks": ""
            },
            "colorscale": [
             [
              0,
              "#0d0887"
             ],
             [
              0.1111111111111111,
              "#46039f"
             ],
             [
              0.2222222222222222,
              "#7201a8"
             ],
             [
              0.3333333333333333,
              "#9c179e"
             ],
             [
              0.4444444444444444,
              "#bd3786"
             ],
             [
              0.5555555555555556,
              "#d8576b"
             ],
             [
              0.6666666666666666,
              "#ed7953"
             ],
             [
              0.7777777777777778,
              "#fb9f3a"
             ],
             [
              0.8888888888888888,
              "#fdca26"
             ],
             [
              1,
              "#f0f921"
             ]
            ],
            "type": "histogram2d"
           }
          ],
          "histogram2dcontour": [
           {
            "colorbar": {
             "outlinewidth": 0,
             "ticks": ""
            },
            "colorscale": [
             [
              0,
              "#0d0887"
             ],
             [
              0.1111111111111111,
              "#46039f"
             ],
             [
              0.2222222222222222,
              "#7201a8"
             ],
             [
              0.3333333333333333,
              "#9c179e"
             ],
             [
              0.4444444444444444,
              "#bd3786"
             ],
             [
              0.5555555555555556,
              "#d8576b"
             ],
             [
              0.6666666666666666,
              "#ed7953"
             ],
             [
              0.7777777777777778,
              "#fb9f3a"
             ],
             [
              0.8888888888888888,
              "#fdca26"
             ],
             [
              1,
              "#f0f921"
             ]
            ],
            "type": "histogram2dcontour"
           }
          ],
          "mesh3d": [
           {
            "colorbar": {
             "outlinewidth": 0,
             "ticks": ""
            },
            "type": "mesh3d"
           }
          ],
          "parcoords": [
           {
            "line": {
             "colorbar": {
              "outlinewidth": 0,
              "ticks": ""
             }
            },
            "type": "parcoords"
           }
          ],
          "pie": [
           {
            "automargin": true,
            "type": "pie"
           }
          ],
          "scatter": [
           {
            "marker": {
             "colorbar": {
              "outlinewidth": 0,
              "ticks": ""
             }
            },
            "type": "scatter"
           }
          ],
          "scatter3d": [
           {
            "line": {
             "colorbar": {
              "outlinewidth": 0,
              "ticks": ""
             }
            },
            "marker": {
             "colorbar": {
              "outlinewidth": 0,
              "ticks": ""
             }
            },
            "type": "scatter3d"
           }
          ],
          "scattercarpet": [
           {
            "marker": {
             "colorbar": {
              "outlinewidth": 0,
              "ticks": ""
             }
            },
            "type": "scattercarpet"
           }
          ],
          "scattergeo": [
           {
            "marker": {
             "colorbar": {
              "outlinewidth": 0,
              "ticks": ""
             }
            },
            "type": "scattergeo"
           }
          ],
          "scattergl": [
           {
            "marker": {
             "colorbar": {
              "outlinewidth": 0,
              "ticks": ""
             }
            },
            "type": "scattergl"
           }
          ],
          "scattermapbox": [
           {
            "marker": {
             "colorbar": {
              "outlinewidth": 0,
              "ticks": ""
             }
            },
            "type": "scattermapbox"
           }
          ],
          "scatterpolar": [
           {
            "marker": {
             "colorbar": {
              "outlinewidth": 0,
              "ticks": ""
             }
            },
            "type": "scatterpolar"
           }
          ],
          "scatterpolargl": [
           {
            "marker": {
             "colorbar": {
              "outlinewidth": 0,
              "ticks": ""
             }
            },
            "type": "scatterpolargl"
           }
          ],
          "scatterternary": [
           {
            "marker": {
             "colorbar": {
              "outlinewidth": 0,
              "ticks": ""
             }
            },
            "type": "scatterternary"
           }
          ],
          "surface": [
           {
            "colorbar": {
             "outlinewidth": 0,
             "ticks": ""
            },
            "colorscale": [
             [
              0,
              "#0d0887"
             ],
             [
              0.1111111111111111,
              "#46039f"
             ],
             [
              0.2222222222222222,
              "#7201a8"
             ],
             [
              0.3333333333333333,
              "#9c179e"
             ],
             [
              0.4444444444444444,
              "#bd3786"
             ],
             [
              0.5555555555555556,
              "#d8576b"
             ],
             [
              0.6666666666666666,
              "#ed7953"
             ],
             [
              0.7777777777777778,
              "#fb9f3a"
             ],
             [
              0.8888888888888888,
              "#fdca26"
             ],
             [
              1,
              "#f0f921"
             ]
            ],
            "type": "surface"
           }
          ],
          "table": [
           {
            "cells": {
             "fill": {
              "color": "#EBF0F8"
             },
             "line": {
              "color": "white"
             }
            },
            "header": {
             "fill": {
              "color": "#C8D4E3"
             },
             "line": {
              "color": "white"
             }
            },
            "type": "table"
           }
          ]
         },
         "layout": {
          "annotationdefaults": {
           "arrowcolor": "#2a3f5f",
           "arrowhead": 0,
           "arrowwidth": 1
          },
          "coloraxis": {
           "colorbar": {
            "outlinewidth": 0,
            "ticks": ""
           }
          },
          "colorscale": {
           "diverging": [
            [
             0,
             "#8e0152"
            ],
            [
             0.1,
             "#c51b7d"
            ],
            [
             0.2,
             "#de77ae"
            ],
            [
             0.3,
             "#f1b6da"
            ],
            [
             0.4,
             "#fde0ef"
            ],
            [
             0.5,
             "#f7f7f7"
            ],
            [
             0.6,
             "#e6f5d0"
            ],
            [
             0.7,
             "#b8e186"
            ],
            [
             0.8,
             "#7fbc41"
            ],
            [
             0.9,
             "#4d9221"
            ],
            [
             1,
             "#276419"
            ]
           ],
           "sequential": [
            [
             0,
             "#0d0887"
            ],
            [
             0.1111111111111111,
             "#46039f"
            ],
            [
             0.2222222222222222,
             "#7201a8"
            ],
            [
             0.3333333333333333,
             "#9c179e"
            ],
            [
             0.4444444444444444,
             "#bd3786"
            ],
            [
             0.5555555555555556,
             "#d8576b"
            ],
            [
             0.6666666666666666,
             "#ed7953"
            ],
            [
             0.7777777777777778,
             "#fb9f3a"
            ],
            [
             0.8888888888888888,
             "#fdca26"
            ],
            [
             1,
             "#f0f921"
            ]
           ],
           "sequentialminus": [
            [
             0,
             "#0d0887"
            ],
            [
             0.1111111111111111,
             "#46039f"
            ],
            [
             0.2222222222222222,
             "#7201a8"
            ],
            [
             0.3333333333333333,
             "#9c179e"
            ],
            [
             0.4444444444444444,
             "#bd3786"
            ],
            [
             0.5555555555555556,
             "#d8576b"
            ],
            [
             0.6666666666666666,
             "#ed7953"
            ],
            [
             0.7777777777777778,
             "#fb9f3a"
            ],
            [
             0.8888888888888888,
             "#fdca26"
            ],
            [
             1,
             "#f0f921"
            ]
           ]
          },
          "colorway": [
           "#636efa",
           "#EF553B",
           "#00cc96",
           "#ab63fa",
           "#FFA15A",
           "#19d3f3",
           "#FF6692",
           "#B6E880",
           "#FF97FF",
           "#FECB52"
          ],
          "font": {
           "color": "#2a3f5f"
          },
          "geo": {
           "bgcolor": "white",
           "lakecolor": "white",
           "landcolor": "#E5ECF6",
           "showlakes": true,
           "showland": true,
           "subunitcolor": "white"
          },
          "hoverlabel": {
           "align": "left"
          },
          "hovermode": "closest",
          "mapbox": {
           "style": "light"
          },
          "paper_bgcolor": "white",
          "plot_bgcolor": "#E5ECF6",
          "polar": {
           "angularaxis": {
            "gridcolor": "white",
            "linecolor": "white",
            "ticks": ""
           },
           "bgcolor": "#E5ECF6",
           "radialaxis": {
            "gridcolor": "white",
            "linecolor": "white",
            "ticks": ""
           }
          },
          "scene": {
           "xaxis": {
            "backgroundcolor": "#E5ECF6",
            "gridcolor": "white",
            "gridwidth": 2,
            "linecolor": "white",
            "showbackground": true,
            "ticks": "",
            "zerolinecolor": "white"
           },
           "yaxis": {
            "backgroundcolor": "#E5ECF6",
            "gridcolor": "white",
            "gridwidth": 2,
            "linecolor": "white",
            "showbackground": true,
            "ticks": "",
            "zerolinecolor": "white"
           },
           "zaxis": {
            "backgroundcolor": "#E5ECF6",
            "gridcolor": "white",
            "gridwidth": 2,
            "linecolor": "white",
            "showbackground": true,
            "ticks": "",
            "zerolinecolor": "white"
           }
          },
          "shapedefaults": {
           "line": {
            "color": "#2a3f5f"
           }
          },
          "ternary": {
           "aaxis": {
            "gridcolor": "white",
            "linecolor": "white",
            "ticks": ""
           },
           "baxis": {
            "gridcolor": "white",
            "linecolor": "white",
            "ticks": ""
           },
           "bgcolor": "#E5ECF6",
           "caxis": {
            "gridcolor": "white",
            "linecolor": "white",
            "ticks": ""
           }
          },
          "title": {
           "x": 0.05
          },
          "xaxis": {
           "automargin": true,
           "gridcolor": "white",
           "linecolor": "white",
           "ticks": "",
           "title": {
            "standoff": 15
           },
           "zerolinecolor": "white",
           "zerolinewidth": 2
          },
          "yaxis": {
           "automargin": true,
           "gridcolor": "white",
           "linecolor": "white",
           "ticks": "",
           "title": {
            "standoff": 15
           },
           "zerolinecolor": "white",
           "zerolinewidth": 2
          }
         }
        },
        "title": {
         "text": "방송 시간 비율"
        }
       }
      },
      "text/html": [
       "<div>                            <div id=\"58d77865-7772-43d2-8608-d01a9bc6ccef\" class=\"plotly-graph-div\" style=\"height:525px; width:100%;\"></div>            <script type=\"text/javascript\">                require([\"plotly\"], function(Plotly) {                    window.PLOTLYENV=window.PLOTLYENV || {};                                    if (document.getElementById(\"58d77865-7772-43d2-8608-d01a9bc6ccef\")) {                    Plotly.newPlot(                        \"58d77865-7772-43d2-8608-d01a9bc6ccef\",                        [{\"domain\": {\"x\": [0.0, 1.0], \"y\": [0.0, 1.0]}, \"hovertemplate\": \"label=%{label}<br>\\ub178\\ucd9c(\\ubd84)=%{value}<extra></extra>\", \"labels\": [\"\\uac00\\uad6c\", \"\\uac00\\uad6c\", \"\\uac00\\uad6c\", \"\\uac00\\uad6c\", \"\\uac00\\uad6c\", \"\\uac00\\uad6c\", \"\\uac00\\uad6c\", \"\\uac00\\uad6c\", \"\\uac00\\uad6c\", \"\\uac00\\uad6c\", \"\\uac00\\uad6c\", \"\\uac00\\uad6c\", \"\\uac00\\uad6c\", \"\\uac00\\uad6c\", \"\\uac00\\uad6c\", \"\\uac00\\uad6c\", \"\\uac00\\uad6c\", \"\\uac00\\uad6c\", \"\\uac00\\uad6c\", \"\\uac00\\uad6c\", \"\\uac00\\uad6c\", \"\\uac00\\uad6c\", \"\\uac00\\uad6c\", \"\\uac00\\uad6c\", \"\\uac00\\uad6c\", \"\\uac00\\uad6c\", \"\\uac00\\uad6c\", \"\\uac00\\uad6c\", \"\\uac00\\uad6c\", \"\\uac00\\uad6c\", \"\\uac00\\uad6c\", \"\\uac00\\uad6c\", \"\\uac00\\uad6c\", \"\\uac00\\uad6c\", \"\\uac00\\uad6c\", \"\\uac00\\uad6c\", \"\\uac00\\uad6c\", \"\\uac00\\uad6c\", \"\\uac00\\uad6c\", \"\\uac00\\uad6c\", \"\\uac00\\uad6c\", \"\\uac00\\uad6c\", \"\\uac00\\uad6c\", \"\\uac00\\uad6c\", \"\\uac00\\uad6c\", \"\\uac00\\uad6c\", \"\\uac00\\uad6c\", \"\\uac00\\uad6c\", \"\\uac00\\uad6c\", \"\\uac00\\uad6c\", \"\\uac00\\uad6c\", \"\\uac00\\uad6c\", \"\\uac00\\uad6c\", \"\\uac00\\uad6c\", \"\\uac00\\uad6c\", \"\\uac00\\uad6c\", \"\\uac00\\uad6c\", \"\\uac00\\uad6c\", \"\\uac00\\uad6c\", \"\\uac00\\uad6c\", \"\\uac00\\uad6c\", \"\\uac00\\uad6c\", \"\\uac00\\uad6c\", \"\\uac00\\uad6c\", \"\\uac00\\uad6c\", \"\\uac00\\uad6c\", \"\\uac00\\uad6c\", \"\\uac00\\uad6c\", \"\\uac00\\uc804\", \"\\uac00\\uc804\", \"\\uac00\\uc804\", \"\\uac00\\uc804\", \"\\uac00\\uc804\", \"\\uac00\\uc804\", \"\\uac00\\uc804\", \"\\uac00\\uc804\", \"\\uac00\\uc804\", \"\\uac00\\uc804\", \"\\uac00\\uc804\", \"\\uac00\\uc804\", \"\\uac00\\uc804\", \"\\uac00\\uc804\", \"\\uac00\\uc804\", \"\\uac00\\uc804\", \"\\uac00\\uc804\", \"\\uac00\\uc804\", \"\\uac00\\uc804\", \"\\uac00\\uc804\", \"\\uac00\\uc804\", \"\\uac00\\uc804\", \"\\uac00\\uc804\", \"\\uac00\\uc804\", \"\\uac00\\uc804\", \"\\uac00\\uc804\", \"\\uac00\\uc804\", \"\\uac00\\uc804\", \"\\uac00\\uc804\", \"\\uac00\\uc804\", \"\\uac00\\uc804\", \"\\uac00\\uc804\", \"\\uac00\\uc804\", \"\\uac00\\uc804\", \"\\uac00\\uc804\", \"\\uac00\\uc804\", \"\\uac00\\uc804\", \"\\uac00\\uc804\", \"\\uac00\\uc804\", \"\\uac00\\uc804\", \"\\uac00\\uc804\", \"\\uac00\\uc804\", \"\\uac00\\uc804\", \"\\uac00\\uc804\", \"\\uac00\\uc804\", \"\\uac00\\uc804\", \"\\uac00\\uc804\", \"\\uac00\\uc804\", \"\\uac00\\uc804\", \"\\uac00\\uc804\", \"\\uac00\\uc804\", \"\\uac00\\uc804\", \"\\uac00\\uc804\", \"\\uac00\\uc804\", \"\\uac00\\uc804\", \"\\uac00\\uc804\", \"\\uac00\\uc804\", \"\\uac00\\uc804\", \"\\uac00\\uc804\", \"\\uac00\\uc804\", \"\\uac00\\uc804\", \"\\uac00\\uc804\", \"\\uac00\\uc804\", \"\\uac00\\uc804\", \"\\uac00\\uc804\", \"\\uac00\\uc804\", \"\\uac00\\uc804\", \"\\uac00\\uc804\", \"\\uac00\\uc804\", \"\\uac00\\uc804\", \"\\uac00\\uc804\", \"\\uac00\\uc804\", \"\\uac00\\uc804\", \"\\uac00\\uc804\", \"\\uac00\\uc804\", \"\\uac00\\uc804\", \"\\uac00\\uc804\", \"\\uac00\\uc804\", \"\\uac00\\uc804\", \"\\uac00\\uc804\", \"\\uac00\\uc804\", \"\\uac00\\uc804\", \"\\uac00\\uc804\", \"\\uac00\\uc804\", \"\\uac00\\uc804\", \"\\uac00\\uc804\", \"\\uac00\\uc804\", \"\\uac00\\uc804\", \"\\uac00\\uc804\", \"\\uac00\\uc804\", \"\\uac00\\uc804\", \"\\uac00\\uc804\", \"\\uac00\\uc804\", \"\\uac00\\uc804\", \"\\uac00\\uc804\", \"\\uac00\\uc804\", \"\\uac00\\uc804\", \"\\uac00\\uc804\", \"\\uac00\\uc804\", \"\\uac00\\uc804\", \"\\uac00\\uc804\", \"\\uac00\\uc804\", \"\\uac00\\uc804\", \"\\uac74\\uac15\\uae30\\ub2a5\", \"\\uac74\\uac15\\uae30\\ub2a5\", \"\\uac74\\uac15\\uae30\\ub2a5\", \"\\uac74\\uac15\\uae30\\ub2a5\", \"\\uac74\\uac15\\uae30\\ub2a5\", \"\\uac74\\uac15\\uae30\\ub2a5\", \"\\uac74\\uac15\\uae30\\ub2a5\", \"\\uac74\\uac15\\uae30\\ub2a5\", \"\\uac74\\uac15\\uae30\\ub2a5\", \"\\uac74\\uac15\\uae30\\ub2a5\", \"\\uac74\\uac15\\uae30\\ub2a5\", \"\\uac74\\uac15\\uae30\\ub2a5\", \"\\uac74\\uac15\\uae30\\ub2a5\", \"\\uac74\\uac15\\uae30\\ub2a5\", \"\\uac74\\uac15\\uae30\\ub2a5\", \"\\uac74\\uac15\\uae30\\ub2a5\", \"\\uac74\\uac15\\uae30\\ub2a5\", \"\\uac74\\uac15\\uae30\\ub2a5\", \"\\uac74\\uac15\\uae30\\ub2a5\", \"\\uac74\\uac15\\uae30\\ub2a5\", \"\\uac74\\uac15\\uae30\\ub2a5\", \"\\uac74\\uac15\\uae30\\ub2a5\", \"\\uac74\\uac15\\uae30\\ub2a5\", \"\\uac74\\uac15\\uae30\\ub2a5\", \"\\uac74\\uac15\\uae30\\ub2a5\", \"\\uac74\\uac15\\uae30\\ub2a5\", \"\\uac74\\uac15\\uae30\\ub2a5\", \"\\uac74\\uac15\\uae30\\ub2a5\", \"\\uac74\\uac15\\uae30\\ub2a5\", \"\\uac74\\uac15\\uae30\\ub2a5\", \"\\uac74\\uac15\\uae30\\ub2a5\", \"\\uac74\\uac15\\uae30\\ub2a5\", \"\\uac74\\uac15\\uae30\\ub2a5\", \"\\uac74\\uac15\\uae30\\ub2a5\", \"\\uac74\\uac15\\uae30\\ub2a5\", \"\\uac74\\uac15\\uae30\\ub2a5\", \"\\uac74\\uac15\\uae30\\ub2a5\", \"\\uac74\\uac15\\uae30\\ub2a5\", \"\\uac74\\uac15\\uae30\\ub2a5\", \"\\uac74\\uac15\\uae30\\ub2a5\", \"\\uac74\\uac15\\uae30\\ub2a5\", \"\\uac74\\uac15\\uae30\\ub2a5\", \"\\uac74\\uac15\\uae30\\ub2a5\", \"\\uac74\\uac15\\uae30\\ub2a5\", \"\\uac74\\uac15\\uae30\\ub2a5\", \"\\ub18d\\uc218\\ucd95\", \"\\ub18d\\uc218\\ucd95\", \"\\ub18d\\uc218\\ucd95\", \"\\ub18d\\uc218\\ucd95\", \"\\ub18d\\uc218\\ucd95\", \"\\ub18d\\uc218\\ucd95\", \"\\ub18d\\uc218\\ucd95\", \"\\ub18d\\uc218\\ucd95\", \"\\ub18d\\uc218\\ucd95\", \"\\ub18d\\uc218\\ucd95\", \"\\ub18d\\uc218\\ucd95\", \"\\ub18d\\uc218\\ucd95\", \"\\ub18d\\uc218\\ucd95\", \"\\ub18d\\uc218\\ucd95\", \"\\ub18d\\uc218\\ucd95\", \"\\ub18d\\uc218\\ucd95\", \"\\ub18d\\uc218\\ucd95\", \"\\ub18d\\uc218\\ucd95\", \"\\ub18d\\uc218\\ucd95\", \"\\ub18d\\uc218\\ucd95\", \"\\ub18d\\uc218\\ucd95\", \"\\ub18d\\uc218\\ucd95\", \"\\ub18d\\uc218\\ucd95\", \"\\ub18d\\uc218\\ucd95\", \"\\ub18d\\uc218\\ucd95\", \"\\ub18d\\uc218\\ucd95\", \"\\ub18d\\uc218\\ucd95\", \"\\ub18d\\uc218\\ucd95\", \"\\ub18d\\uc218\\ucd95\", \"\\ub18d\\uc218\\ucd95\", \"\\ub18d\\uc218\\ucd95\", \"\\ub18d\\uc218\\ucd95\", \"\\ub18d\\uc218\\ucd95\", \"\\ub18d\\uc218\\ucd95\", \"\\ub18d\\uc218\\ucd95\", \"\\ub18d\\uc218\\ucd95\", \"\\ub18d\\uc218\\ucd95\", \"\\ub18d\\uc218\\ucd95\", \"\\ub18d\\uc218\\ucd95\", \"\\ub18d\\uc218\\ucd95\", \"\\ub18d\\uc218\\ucd95\", \"\\ub18d\\uc218\\ucd95\", \"\\ub18d\\uc218\\ucd95\", \"\\ub18d\\uc218\\ucd95\", \"\\ub18d\\uc218\\ucd95\", \"\\ub18d\\uc218\\ucd95\", \"\\ub18d\\uc218\\ucd95\", \"\\ub18d\\uc218\\ucd95\", \"\\ub18d\\uc218\\ucd95\", \"\\ub18d\\uc218\\ucd95\", \"\\ub18d\\uc218\\ucd95\", \"\\ub18d\\uc218\\ucd95\", \"\\ub18d\\uc218\\ucd95\", \"\\ub18d\\uc218\\ucd95\", \"\\ub18d\\uc218\\ucd95\", \"\\ub18d\\uc218\\ucd95\", \"\\ub18d\\uc218\\ucd95\", \"\\ub18d\\uc218\\ucd95\", \"\\ub18d\\uc218\\ucd95\", \"\\ub18d\\uc218\\ucd95\", \"\\ub18d\\uc218\\ucd95\", \"\\ub18d\\uc218\\ucd95\", \"\\ub18d\\uc218\\ucd95\", \"\\ub18d\\uc218\\ucd95\", \"\\ub18d\\uc218\\ucd95\", \"\\ub18d\\uc218\\ucd95\", \"\\ub18d\\uc218\\ucd95\", \"\\ub18d\\uc218\\ucd95\", \"\\ub18d\\uc218\\ucd95\", \"\\ub18d\\uc218\\ucd95\", \"\\ub18d\\uc218\\ucd95\", \"\\ub18d\\uc218\\ucd95\", \"\\ub18d\\uc218\\ucd95\", \"\\ub18d\\uc218\\ucd95\", \"\\ub18d\\uc218\\ucd95\", \"\\ub18d\\uc218\\ucd95\", \"\\ub18d\\uc218\\ucd95\", \"\\ub18d\\uc218\\ucd95\", \"\\ub18d\\uc218\\ucd95\", \"\\ub18d\\uc218\\ucd95\", \"\\ub18d\\uc218\\ucd95\", \"\\ub18d\\uc218\\ucd95\", \"\\ub18d\\uc218\\ucd95\", \"\\ub18d\\uc218\\ucd95\", \"\\ub18d\\uc218\\ucd95\", \"\\ub18d\\uc218\\ucd95\", \"\\ub18d\\uc218\\ucd95\", \"\\ub18d\\uc218\\ucd95\", \"\\ub18d\\uc218\\ucd95\", \"\\ub18d\\uc218\\ucd95\", \"\\ub18d\\uc218\\ucd95\", \"\\ub18d\\uc218\\ucd95\", \"\\ub18d\\uc218\\ucd95\", \"\\ub18d\\uc218\\ucd95\", \"\\ub18d\\uc218\\ucd95\", \"\\ub18d\\uc218\\ucd95\", \"\\ub18d\\uc218\\ucd95\", \"\\ub18d\\uc218\\ucd95\", \"\\ub18d\\uc218\\ucd95\", \"\\ub18d\\uc218\\ucd95\", \"\\ub18d\\uc218\\ucd95\", \"\\ub18d\\uc218\\ucd95\", \"\\ub18d\\uc218\\ucd95\", \"\\ub18d\\uc218\\ucd95\", \"\\ub18d\\uc218\\ucd95\", \"\\ub18d\\uc218\\ucd95\", \"\\ub18d\\uc218\\ucd95\", \"\\ub18d\\uc218\\ucd95\", \"\\ub18d\\uc218\\ucd95\", \"\\ub18d\\uc218\\ucd95\", \"\\ub18d\\uc218\\ucd95\", \"\\ub18d\\uc218\\ucd95\", \"\\ub18d\\uc218\\ucd95\", \"\\ub18d\\uc218\\ucd95\", \"\\ub18d\\uc218\\ucd95\", \"\\ub18d\\uc218\\ucd95\", \"\\ub18d\\uc218\\ucd95\", \"\\ub18d\\uc218\\ucd95\", \"\\ub18d\\uc218\\ucd95\", \"\\ub18d\\uc218\\ucd95\", \"\\ub18d\\uc218\\ucd95\", \"\\ub18d\\uc218\\ucd95\", \"\\ub18d\\uc218\\ucd95\", \"\\ub18d\\uc218\\ucd95\", \"\\ub18d\\uc218\\ucd95\", \"\\ub18d\\uc218\\ucd95\", \"\\ub18d\\uc218\\ucd95\", \"\\ub18d\\uc218\\ucd95\", \"\\uc0dd\\ud65c\\uc6a9\\ud488\", \"\\uc0dd\\ud65c\\uc6a9\\ud488\", \"\\uc0dd\\ud65c\\uc6a9\\ud488\", \"\\uc0dd\\ud65c\\uc6a9\\ud488\", \"\\uc0dd\\ud65c\\uc6a9\\ud488\", \"\\uc0dd\\ud65c\\uc6a9\\ud488\", \"\\uc0dd\\ud65c\\uc6a9\\ud488\", \"\\uc0dd\\ud65c\\uc6a9\\ud488\", \"\\uc0dd\\ud65c\\uc6a9\\ud488\", \"\\uc0dd\\ud65c\\uc6a9\\ud488\", \"\\uc0dd\\ud65c\\uc6a9\\ud488\", \"\\uc0dd\\ud65c\\uc6a9\\ud488\", \"\\uc0dd\\ud65c\\uc6a9\\ud488\", \"\\uc0dd\\ud65c\\uc6a9\\ud488\", \"\\uc0dd\\ud65c\\uc6a9\\ud488\", \"\\uc0dd\\ud65c\\uc6a9\\ud488\", \"\\uc0dd\\ud65c\\uc6a9\\ud488\", \"\\uc0dd\\ud65c\\uc6a9\\ud488\", \"\\uc0dd\\ud65c\\uc6a9\\ud488\", \"\\uc0dd\\ud65c\\uc6a9\\ud488\", \"\\uc0dd\\ud65c\\uc6a9\\ud488\", \"\\uc0dd\\ud65c\\uc6a9\\ud488\", \"\\uc0dd\\ud65c\\uc6a9\\ud488\", \"\\uc0dd\\ud65c\\uc6a9\\ud488\", \"\\uc0dd\\ud65c\\uc6a9\\ud488\", \"\\uc0dd\\ud65c\\uc6a9\\ud488\", \"\\uc0dd\\ud65c\\uc6a9\\ud488\", \"\\uc0dd\\ud65c\\uc6a9\\ud488\", \"\\uc0dd\\ud65c\\uc6a9\\ud488\", \"\\uc0dd\\ud65c\\uc6a9\\ud488\", \"\\uc0dd\\ud65c\\uc6a9\\ud488\", \"\\uc0dd\\ud65c\\uc6a9\\ud488\", \"\\uc0dd\\ud65c\\uc6a9\\ud488\", \"\\uc0dd\\ud65c\\uc6a9\\ud488\", \"\\uc0dd\\ud65c\\uc6a9\\ud488\", \"\\uc0dd\\ud65c\\uc6a9\\ud488\", \"\\uc0dd\\ud65c\\uc6a9\\ud488\", \"\\uc0dd\\ud65c\\uc6a9\\ud488\", \"\\uc0dd\\ud65c\\uc6a9\\ud488\", \"\\uc0dd\\ud65c\\uc6a9\\ud488\", \"\\uc0dd\\ud65c\\uc6a9\\ud488\", \"\\uc0dd\\ud65c\\uc6a9\\ud488\", \"\\uc0dd\\ud65c\\uc6a9\\ud488\", \"\\uc0dd\\ud65c\\uc6a9\\ud488\", \"\\uc0dd\\ud65c\\uc6a9\\ud488\", \"\\uc0dd\\ud65c\\uc6a9\\ud488\", \"\\uc0dd\\ud65c\\uc6a9\\ud488\", \"\\uc0dd\\ud65c\\uc6a9\\ud488\", \"\\uc0dd\\ud65c\\uc6a9\\ud488\", \"\\uc0dd\\ud65c\\uc6a9\\ud488\", \"\\uc0dd\\ud65c\\uc6a9\\ud488\", \"\\uc0dd\\ud65c\\uc6a9\\ud488\", \"\\uc0dd\\ud65c\\uc6a9\\ud488\", \"\\uc0dd\\ud65c\\uc6a9\\ud488\", \"\\uc0dd\\ud65c\\uc6a9\\ud488\", \"\\uc0dd\\ud65c\\uc6a9\\ud488\", \"\\uc0dd\\ud65c\\uc6a9\\ud488\", \"\\uc0dd\\ud65c\\uc6a9\\ud488\", \"\\uc0dd\\ud65c\\uc6a9\\ud488\", \"\\uc0dd\\ud65c\\uc6a9\\ud488\", \"\\uc0dd\\ud65c\\uc6a9\\ud488\", \"\\uc0dd\\ud65c\\uc6a9\\ud488\", \"\\uc0dd\\ud65c\\uc6a9\\ud488\", \"\\uc0dd\\ud65c\\uc6a9\\ud488\", \"\\uc0dd\\ud65c\\uc6a9\\ud488\", \"\\uc0dd\\ud65c\\uc6a9\\ud488\", \"\\uc0dd\\ud65c\\uc6a9\\ud488\", \"\\uc0dd\\ud65c\\uc6a9\\ud488\", \"\\uc0dd\\ud65c\\uc6a9\\ud488\", \"\\uc0dd\\ud65c\\uc6a9\\ud488\", \"\\uc0dd\\ud65c\\uc6a9\\ud488\", \"\\uc0dd\\ud65c\\uc6a9\\ud488\", \"\\uc0dd\\ud65c\\uc6a9\\ud488\", \"\\uc0dd\\ud65c\\uc6a9\\ud488\", \"\\uc0dd\\ud65c\\uc6a9\\ud488\", \"\\uc0dd\\ud65c\\uc6a9\\ud488\", \"\\uc0dd\\ud65c\\uc6a9\\ud488\", \"\\uc0dd\\ud65c\\uc6a9\\ud488\", \"\\uc0dd\\ud65c\\uc6a9\\ud488\", \"\\uc0dd\\ud65c\\uc6a9\\ud488\", \"\\uc0dd\\ud65c\\uc6a9\\ud488\", \"\\uc0dd\\ud65c\\uc6a9\\ud488\", \"\\uc0dd\\ud65c\\uc6a9\\ud488\", \"\\uc0dd\\ud65c\\uc6a9\\ud488\", \"\\uc0dd\\ud65c\\uc6a9\\ud488\", \"\\uc0dd\\ud65c\\uc6a9\\ud488\", \"\\uc0dd\\ud65c\\uc6a9\\ud488\", \"\\uc0dd\\ud65c\\uc6a9\\ud488\", \"\\uc0dd\\ud65c\\uc6a9\\ud488\", \"\\uc0dd\\ud65c\\uc6a9\\ud488\", \"\\uc0dd\\ud65c\\uc6a9\\ud488\", \"\\uc0dd\\ud65c\\uc6a9\\ud488\", \"\\uc0dd\\ud65c\\uc6a9\\ud488\", \"\\uc0dd\\ud65c\\uc6a9\\ud488\", \"\\uc0dd\\ud65c\\uc6a9\\ud488\", \"\\uc0dd\\ud65c\\uc6a9\\ud488\", \"\\uc0dd\\ud65c\\uc6a9\\ud488\", \"\\uc0dd\\ud65c\\uc6a9\\ud488\", \"\\uc0dd\\ud65c\\uc6a9\\ud488\", \"\\uc0dd\\ud65c\\uc6a9\\ud488\", \"\\uc0dd\\ud65c\\uc6a9\\ud488\", \"\\uc0dd\\ud65c\\uc6a9\\ud488\", \"\\uc0dd\\ud65c\\uc6a9\\ud488\", \"\\uc0dd\\ud65c\\uc6a9\\ud488\", \"\\uc0dd\\ud65c\\uc6a9\\ud488\", \"\\uc0dd\\ud65c\\uc6a9\\ud488\", \"\\uc0dd\\ud65c\\uc6a9\\ud488\", \"\\uc0dd\\ud65c\\uc6a9\\ud488\", \"\\uc0dd\\ud65c\\uc6a9\\ud488\", \"\\uc0dd\\ud65c\\uc6a9\\ud488\", \"\\uc0dd\\ud65c\\uc6a9\\ud488\", \"\\uc0dd\\ud65c\\uc6a9\\ud488\", \"\\uc0dd\\ud65c\\uc6a9\\ud488\", \"\\uc0dd\\ud65c\\uc6a9\\ud488\", \"\\uc0dd\\ud65c\\uc6a9\\ud488\", \"\\uc0dd\\ud65c\\uc6a9\\ud488\", \"\\uc0dd\\ud65c\\uc6a9\\ud488\", \"\\uc0dd\\ud65c\\uc6a9\\ud488\", \"\\uc0dd\\ud65c\\uc6a9\\ud488\", \"\\uc0dd\\ud65c\\uc6a9\\ud488\", \"\\uc0dd\\ud65c\\uc6a9\\ud488\", \"\\uc0dd\\ud65c\\uc6a9\\ud488\", \"\\uc0dd\\ud65c\\uc6a9\\ud488\", \"\\uc0dd\\ud65c\\uc6a9\\ud488\", \"\\uc0dd\\ud65c\\uc6a9\\ud488\", \"\\uc0dd\\ud65c\\uc6a9\\ud488\", \"\\uc0dd\\ud65c\\uc6a9\\ud488\", \"\\uc0dd\\ud65c\\uc6a9\\ud488\", \"\\uc0dd\\ud65c\\uc6a9\\ud488\", \"\\uc0dd\\ud65c\\uc6a9\\ud488\", \"\\uc0dd\\ud65c\\uc6a9\\ud488\", \"\\uc0dd\\ud65c\\uc6a9\\ud488\", \"\\uc0dd\\ud65c\\uc6a9\\ud488\", \"\\uc0dd\\ud65c\\uc6a9\\ud488\", \"\\uc0dd\\ud65c\\uc6a9\\ud488\", \"\\uc0dd\\ud65c\\uc6a9\\ud488\", \"\\uc0dd\\ud65c\\uc6a9\\ud488\", \"\\uc0dd\\ud65c\\uc6a9\\ud488\", \"\\uc0dd\\ud65c\\uc6a9\\ud488\", \"\\uc0dd\\ud65c\\uc6a9\\ud488\", \"\\uc0dd\\ud65c\\uc6a9\\ud488\", \"\\uc0dd\\ud65c\\uc6a9\\ud488\", \"\\uc0dd\\ud65c\\uc6a9\\ud488\", \"\\uc0dd\\ud65c\\uc6a9\\ud488\", \"\\uc0dd\\ud65c\\uc6a9\\ud488\", \"\\uc0dd\\ud65c\\uc6a9\\ud488\", \"\\uc0dd\\ud65c\\uc6a9\\ud488\", \"\\uc0dd\\ud65c\\uc6a9\\ud488\", \"\\uc0dd\\ud65c\\uc6a9\\ud488\", \"\\uc18d\\uc637\", \"\\uc18d\\uc637\", \"\\uc18d\\uc637\", \"\\uc18d\\uc637\", \"\\uc18d\\uc637\", \"\\uc18d\\uc637\", \"\\uc18d\\uc637\", \"\\uc18d\\uc637\", \"\\uc18d\\uc637\", \"\\uc18d\\uc637\", \"\\uc18d\\uc637\", \"\\uc18d\\uc637\", \"\\uc18d\\uc637\", \"\\uc18d\\uc637\", \"\\uc18d\\uc637\", \"\\uc18d\\uc637\", \"\\uc18d\\uc637\", \"\\uc18d\\uc637\", \"\\uc18d\\uc637\", \"\\uc18d\\uc637\", \"\\uc18d\\uc637\", \"\\uc18d\\uc637\", \"\\uc18d\\uc637\", \"\\uc18d\\uc637\", \"\\uc18d\\uc637\", \"\\uc18d\\uc637\", \"\\uc18d\\uc637\", \"\\uc18d\\uc637\", \"\\uc18d\\uc637\", \"\\uc18d\\uc637\", \"\\uc18d\\uc637\", \"\\uc18d\\uc637\", \"\\uc18d\\uc637\", \"\\uc18d\\uc637\", \"\\uc18d\\uc637\", \"\\uc18d\\uc637\", \"\\uc18d\\uc637\", \"\\uc18d\\uc637\", \"\\uc18d\\uc637\", \"\\uc18d\\uc637\", \"\\uc18d\\uc637\", \"\\uc18d\\uc637\", \"\\uc18d\\uc637\", \"\\uc18d\\uc637\", \"\\uc18d\\uc637\", \"\\uc18d\\uc637\", \"\\uc18d\\uc637\", \"\\uc18d\\uc637\", \"\\uc18d\\uc637\", \"\\uc18d\\uc637\", \"\\uc18d\\uc637\", \"\\uc18d\\uc637\", \"\\uc18d\\uc637\", \"\\uc18d\\uc637\", \"\\uc18d\\uc637\", \"\\uc18d\\uc637\", \"\\uc18d\\uc637\", \"\\uc18d\\uc637\", \"\\uc18d\\uc637\", \"\\uc18d\\uc637\", \"\\uc18d\\uc637\", \"\\uc18d\\uc637\", \"\\uc18d\\uc637\", \"\\uc18d\\uc637\", \"\\uc18d\\uc637\", \"\\uc18d\\uc637\", \"\\uc18d\\uc637\", \"\\uc18d\\uc637\", \"\\uc18d\\uc637\", \"\\uc18d\\uc637\", \"\\uc18d\\uc637\", \"\\uc18d\\uc637\", \"\\uc18d\\uc637\", \"\\uc18d\\uc637\", \"\\uc18d\\uc637\", \"\\uc18d\\uc637\", \"\\uc18d\\uc637\", \"\\uc18d\\uc637\", \"\\uc18d\\uc637\", \"\\uc18d\\uc637\", \"\\uc18d\\uc637\", \"\\uc18d\\uc637\", \"\\uc18d\\uc637\", \"\\uc18d\\uc637\", \"\\uc18d\\uc637\", \"\\uc18d\\uc637\", \"\\uc18d\\uc637\", \"\\uc18d\\uc637\", \"\\uc18d\\uc637\", \"\\uc18d\\uc637\", \"\\uc18d\\uc637\", \"\\uc18d\\uc637\", \"\\uc18d\\uc637\", \"\\uc18d\\uc637\", \"\\uc18d\\uc637\", \"\\uc18d\\uc637\", \"\\uc18d\\uc637\", \"\\uc18d\\uc637\", \"\\uc18d\\uc637\", \"\\uc18d\\uc637\", \"\\uc18d\\uc637\", \"\\uc18d\\uc637\", \"\\uc18d\\uc637\", \"\\uc18d\\uc637\", \"\\uc18d\\uc637\", \"\\uc18d\\uc637\", \"\\uc18d\\uc637\", \"\\uc18d\\uc637\", \"\\uc18d\\uc637\", \"\\uc18d\\uc637\", \"\\uc18d\\uc637\", \"\\uc18d\\uc637\", \"\\uc18d\\uc637\", \"\\uc18d\\uc637\", \"\\uc18d\\uc637\", \"\\uc18d\\uc637\", \"\\uc18d\\uc637\", \"\\uc18d\\uc637\", \"\\uc18d\\uc637\", \"\\uc18d\\uc637\", \"\\uc18d\\uc637\", \"\\uc18d\\uc637\", \"\\uc18d\\uc637\", \"\\uc18d\\uc637\", \"\\uc18d\\uc637\", \"\\uc18d\\uc637\", \"\\uc18d\\uc637\", \"\\uc18d\\uc637\", \"\\uc18d\\uc637\", \"\\uc18d\\uc637\", \"\\uc18d\\uc637\", \"\\uc18d\\uc637\", \"\\uc18d\\uc637\", \"\\uc18d\\uc637\", \"\\uc18d\\uc637\", \"\\uc18d\\uc637\", \"\\uc18d\\uc637\", \"\\uc18d\\uc637\", \"\\uc18d\\uc637\", \"\\uc18d\\uc637\", \"\\uc18d\\uc637\", \"\\uc18d\\uc637\", \"\\uc18d\\uc637\", \"\\uc18d\\uc637\", \"\\uc18d\\uc637\", \"\\uc18d\\uc637\", \"\\uc18d\\uc637\", \"\\uc18d\\uc637\", \"\\uc18d\\uc637\", \"\\uc18d\\uc637\", \"\\uc18d\\uc637\", \"\\uc18d\\uc637\", \"\\uc18d\\uc637\", \"\\uc18d\\uc637\", \"\\uc18d\\uc637\", \"\\uc18d\\uc637\", \"\\uc18d\\uc637\", \"\\uc18d\\uc637\", \"\\uc18d\\uc637\", \"\\uc18d\\uc637\", \"\\uc18d\\uc637\", \"\\uc18d\\uc637\", \"\\uc18d\\uc637\", \"\\uc18d\\uc637\", \"\\uc18d\\uc637\", \"\\uc18d\\uc637\", \"\\uc18d\\uc637\", \"\\uc18d\\uc637\", \"\\uc18d\\uc637\", \"\\uc18d\\uc637\", \"\\uc18d\\uc637\", \"\\uc18d\\uc637\", \"\\uc18d\\uc637\", \"\\uc18d\\uc637\", \"\\uc18d\\uc637\", \"\\uc18d\\uc637\", \"\\uc18d\\uc637\", \"\\uc18d\\uc637\", \"\\uc18d\\uc637\", \"\\uc18d\\uc637\", \"\\uc18d\\uc637\", \"\\uc758\\ub958\", \"\\uc758\\ub958\", \"\\uc758\\ub958\", \"\\uc758\\ub958\", \"\\uc758\\ub958\", \"\\uc758\\ub958\", \"\\uc758\\ub958\", \"\\uc758\\ub958\", \"\\uc758\\ub958\", \"\\uc758\\ub958\", \"\\uc758\\ub958\", \"\\uc758\\ub958\", \"\\uc758\\ub958\", \"\\uc758\\ub958\", \"\\uc758\\ub958\", \"\\uc758\\ub958\", \"\\uc758\\ub958\", \"\\uc758\\ub958\", \"\\uc758\\ub958\", \"\\uc758\\ub958\", \"\\uc758\\ub958\", \"\\uc758\\ub958\", \"\\uc758\\ub958\", \"\\uc758\\ub958\", \"\\uc758\\ub958\", \"\\uc758\\ub958\", \"\\uc758\\ub958\", \"\\uc758\\ub958\", \"\\uc758\\ub958\", \"\\uc758\\ub958\", \"\\uc758\\ub958\", \"\\uc758\\ub958\", \"\\uc758\\ub958\", \"\\uc758\\ub958\", \"\\uc758\\ub958\", \"\\uc758\\ub958\", \"\\uc758\\ub958\", \"\\uc758\\ub958\", \"\\uc758\\ub958\", \"\\uc758\\ub958\", \"\\uc758\\ub958\", \"\\uc758\\ub958\", \"\\uc758\\ub958\", \"\\uc758\\ub958\", \"\\uc758\\ub958\", \"\\uc758\\ub958\", \"\\uc758\\ub958\", \"\\uc758\\ub958\", \"\\uc758\\ub958\", \"\\uc758\\ub958\", \"\\uc758\\ub958\", \"\\uc758\\ub958\", \"\\uc758\\ub958\", \"\\uc758\\ub958\", \"\\uc758\\ub958\", \"\\uc758\\ub958\", \"\\uc758\\ub958\", \"\\uc758\\ub958\", \"\\uc758\\ub958\", \"\\uc758\\ub958\", \"\\uc758\\ub958\", \"\\uc758\\ub958\", \"\\uc758\\ub958\", \"\\uc758\\ub958\", \"\\uc758\\ub958\", \"\\uc758\\ub958\", \"\\uc758\\ub958\", \"\\uc758\\ub958\", \"\\uc758\\ub958\", \"\\uc758\\ub958\", \"\\uc758\\ub958\", \"\\uc758\\ub958\", \"\\uc758\\ub958\", \"\\uc758\\ub958\", \"\\uc758\\ub958\", \"\\uc758\\ub958\", \"\\uc758\\ub958\", \"\\uc758\\ub958\", \"\\uc758\\ub958\", \"\\uc758\\ub958\", \"\\uc758\\ub958\", \"\\uc758\\ub958\", \"\\uc758\\ub958\", \"\\uc758\\ub958\", \"\\uc758\\ub958\", \"\\uc758\\ub958\", \"\\uc758\\ub958\", \"\\uc758\\ub958\", \"\\uc758\\ub958\", \"\\uc758\\ub958\", \"\\uc758\\ub958\", \"\\uc758\\ub958\", \"\\uc758\\ub958\", \"\\uc758\\ub958\", \"\\uc758\\ub958\", \"\\uc758\\ub958\", \"\\uc758\\ub958\", \"\\uc758\\ub958\", \"\\uc758\\ub958\", \"\\uc758\\ub958\", \"\\uc758\\ub958\", \"\\uc758\\ub958\", \"\\uc758\\ub958\", \"\\uc758\\ub958\", \"\\uc758\\ub958\", \"\\uc758\\ub958\", \"\\uc758\\ub958\", \"\\uc758\\ub958\", \"\\uc758\\ub958\", \"\\uc758\\ub958\", \"\\uc758\\ub958\", \"\\uc758\\ub958\", \"\\uc758\\ub958\", \"\\uc758\\ub958\", \"\\uc758\\ub958\", \"\\uc758\\ub958\", \"\\uc758\\ub958\", \"\\uc758\\ub958\", \"\\uc758\\ub958\", \"\\uc758\\ub958\", \"\\uc758\\ub958\", \"\\uc758\\ub958\", \"\\uc758\\ub958\", \"\\uc758\\ub958\", \"\\uc758\\ub958\", \"\\uc758\\ub958\", \"\\uc758\\ub958\", \"\\uc758\\ub958\", \"\\uc758\\ub958\", \"\\uc758\\ub958\", \"\\uc758\\ub958\", \"\\uc758\\ub958\", \"\\uc758\\ub958\", \"\\uc758\\ub958\", \"\\uc758\\ub958\", \"\\uc758\\ub958\", \"\\uc758\\ub958\", \"\\uc758\\ub958\", \"\\uc758\\ub958\", \"\\uc758\\ub958\", \"\\uc758\\ub958\", \"\\uc758\\ub958\", \"\\uc758\\ub958\", \"\\uc758\\ub958\", \"\\uc758\\ub958\", \"\\uc758\\ub958\", \"\\uc758\\ub958\", \"\\uc758\\ub958\", \"\\uc758\\ub958\", \"\\uc758\\ub958\", \"\\uc758\\ub958\", \"\\uc758\\ub958\", \"\\uc758\\ub958\", \"\\uc758\\ub958\", \"\\uc758\\ub958\", \"\\uc758\\ub958\", \"\\uc758\\ub958\", \"\\uc758\\ub958\", \"\\uc758\\ub958\", \"\\uc758\\ub958\", \"\\uc758\\ub958\", \"\\uc758\\ub958\", \"\\uc758\\ub958\", \"\\uc758\\ub958\", \"\\uc758\\ub958\", \"\\uc758\\ub958\", \"\\uc758\\ub958\", \"\\uc758\\ub958\", \"\\uc758\\ub958\", \"\\uc758\\ub958\", \"\\uc758\\ub958\", \"\\uc758\\ub958\", \"\\uc758\\ub958\", \"\\uc758\\ub958\", \"\\uc758\\ub958\", \"\\uc758\\ub958\", \"\\uc758\\ub958\", \"\\uc758\\ub958\", \"\\uc758\\ub958\", \"\\uc758\\ub958\", \"\\uc758\\ub958\", \"\\uc758\\ub958\", \"\\uc758\\ub958\", \"\\uc758\\ub958\", \"\\uc758\\ub958\", \"\\uc758\\ub958\", \"\\uc758\\ub958\", \"\\uc758\\ub958\", \"\\uc758\\ub958\", \"\\uc758\\ub958\", \"\\uc758\\ub958\", \"\\uc758\\ub958\", \"\\uc758\\ub958\", \"\\uc758\\ub958\", \"\\uc758\\ub958\", \"\\uc758\\ub958\", \"\\uc758\\ub958\", \"\\uc758\\ub958\", \"\\uc758\\ub958\", \"\\uc758\\ub958\", \"\\uc758\\ub958\", \"\\uc758\\ub958\", \"\\uc758\\ub958\", \"\\uc758\\ub958\", \"\\uc758\\ub958\", \"\\uc758\\ub958\", \"\\uc758\\ub958\", \"\\uc758\\ub958\", \"\\uc758\\ub958\", \"\\uc758\\ub958\", \"\\uc758\\ub958\", \"\\uc758\\ub958\", \"\\uc758\\ub958\", \"\\uc758\\ub958\", \"\\uc758\\ub958\", \"\\uc758\\ub958\", \"\\uc758\\ub958\", \"\\uc758\\ub958\", \"\\uc758\\ub958\", \"\\uc758\\ub958\", \"\\uc758\\ub958\", \"\\uc758\\ub958\", \"\\uc758\\ub958\", \"\\uc758\\ub958\", \"\\uc758\\ub958\", \"\\uc758\\ub958\", \"\\uc758\\ub958\", \"\\uc758\\ub958\", \"\\uc758\\ub958\", \"\\uc758\\ub958\", \"\\uc758\\ub958\", \"\\uc758\\ub958\", \"\\uc758\\ub958\", \"\\uc758\\ub958\", \"\\uc758\\ub958\", \"\\uc758\\ub958\", \"\\uc758\\ub958\", \"\\uc758\\ub958\", \"\\uc758\\ub958\", \"\\uc758\\ub958\", \"\\uc758\\ub958\", \"\\uc758\\ub958\", \"\\uc758\\ub958\", \"\\uc758\\ub958\", \"\\uc758\\ub958\", \"\\uc758\\ub958\", \"\\uc758\\ub958\", \"\\uc758\\ub958\", \"\\uc758\\ub958\", \"\\uc758\\ub958\", \"\\uc758\\ub958\", \"\\uc758\\ub958\", \"\\uc758\\ub958\", \"\\uc758\\ub958\", \"\\uc758\\ub958\", \"\\uc758\\ub958\", \"\\uc758\\ub958\", \"\\uc758\\ub958\", \"\\uc758\\ub958\", \"\\uc758\\ub958\", \"\\uc758\\ub958\", \"\\uc758\\ub958\", \"\\uc758\\ub958\", \"\\uc758\\ub958\", \"\\uc758\\ub958\", \"\\uc758\\ub958\", \"\\uc758\\ub958\", \"\\uc758\\ub958\", \"\\uc774\\ubbf8\\uc6a9\", \"\\uc774\\ubbf8\\uc6a9\", \"\\uc774\\ubbf8\\uc6a9\", \"\\uc774\\ubbf8\\uc6a9\", \"\\uc774\\ubbf8\\uc6a9\", \"\\uc774\\ubbf8\\uc6a9\", \"\\uc774\\ubbf8\\uc6a9\", \"\\uc774\\ubbf8\\uc6a9\", \"\\uc774\\ubbf8\\uc6a9\", \"\\uc774\\ubbf8\\uc6a9\", \"\\uc774\\ubbf8\\uc6a9\", \"\\uc774\\ubbf8\\uc6a9\", \"\\uc774\\ubbf8\\uc6a9\", \"\\uc774\\ubbf8\\uc6a9\", \"\\uc774\\ubbf8\\uc6a9\", \"\\uc774\\ubbf8\\uc6a9\", \"\\uc774\\ubbf8\\uc6a9\", \"\\uc774\\ubbf8\\uc6a9\", \"\\uc774\\ubbf8\\uc6a9\", \"\\uc774\\ubbf8\\uc6a9\", \"\\uc774\\ubbf8\\uc6a9\", \"\\uc774\\ubbf8\\uc6a9\", \"\\uc774\\ubbf8\\uc6a9\", \"\\uc774\\ubbf8\\uc6a9\", \"\\uc774\\ubbf8\\uc6a9\", \"\\uc774\\ubbf8\\uc6a9\", \"\\uc774\\ubbf8\\uc6a9\", \"\\uc774\\ubbf8\\uc6a9\", \"\\uc774\\ubbf8\\uc6a9\", \"\\uc774\\ubbf8\\uc6a9\", \"\\uc774\\ubbf8\\uc6a9\", \"\\uc774\\ubbf8\\uc6a9\", \"\\uc774\\ubbf8\\uc6a9\", \"\\uc774\\ubbf8\\uc6a9\", \"\\uc774\\ubbf8\\uc6a9\", \"\\uc774\\ubbf8\\uc6a9\", \"\\uc774\\ubbf8\\uc6a9\", \"\\uc774\\ubbf8\\uc6a9\", \"\\uc774\\ubbf8\\uc6a9\", \"\\uc774\\ubbf8\\uc6a9\", \"\\uc774\\ubbf8\\uc6a9\", \"\\uc774\\ubbf8\\uc6a9\", \"\\uc774\\ubbf8\\uc6a9\", \"\\uc774\\ubbf8\\uc6a9\", \"\\uc774\\ubbf8\\uc6a9\", \"\\uc774\\ubbf8\\uc6a9\", \"\\uc774\\ubbf8\\uc6a9\", \"\\uc774\\ubbf8\\uc6a9\", \"\\uc774\\ubbf8\\uc6a9\", \"\\uc774\\ubbf8\\uc6a9\", \"\\uc7a1\\ud654\", \"\\uc7a1\\ud654\", \"\\uc7a1\\ud654\", \"\\uc7a1\\ud654\", \"\\uc7a1\\ud654\", \"\\uc7a1\\ud654\", \"\\uc7a1\\ud654\", \"\\uc7a1\\ud654\", \"\\uc7a1\\ud654\", \"\\uc7a1\\ud654\", \"\\uc7a1\\ud654\", \"\\uc7a1\\ud654\", \"\\uc7a1\\ud654\", \"\\uc7a1\\ud654\", \"\\uc7a1\\ud654\", \"\\uc7a1\\ud654\", \"\\uc7a1\\ud654\", \"\\uc7a1\\ud654\", \"\\uc7a1\\ud654\", \"\\uc7a1\\ud654\", \"\\uc7a1\\ud654\", \"\\uc7a1\\ud654\", \"\\uc7a1\\ud654\", \"\\uc7a1\\ud654\", \"\\uc7a1\\ud654\", \"\\uc7a1\\ud654\", \"\\uc7a1\\ud654\", \"\\uc7a1\\ud654\", \"\\uc7a1\\ud654\", \"\\uc7a1\\ud654\", \"\\uc7a1\\ud654\", \"\\uc7a1\\ud654\", \"\\uc7a1\\ud654\", \"\\uc7a1\\ud654\", \"\\uc7a1\\ud654\", \"\\uc7a1\\ud654\", \"\\uc7a1\\ud654\", \"\\uc7a1\\ud654\", \"\\uc7a1\\ud654\", \"\\uc7a1\\ud654\", \"\\uc7a1\\ud654\", \"\\uc7a1\\ud654\", \"\\uc7a1\\ud654\", \"\\uc7a1\\ud654\", \"\\uc7a1\\ud654\", \"\\uc7a1\\ud654\", \"\\uc7a1\\ud654\", \"\\uc7a1\\ud654\", \"\\uc7a1\\ud654\", \"\\uc7a1\\ud654\", \"\\uc7a1\\ud654\", \"\\uc7a1\\ud654\", \"\\uc7a1\\ud654\", \"\\uc7a1\\ud654\", \"\\uc7a1\\ud654\", \"\\uc7a1\\ud654\", \"\\uc7a1\\ud654\", \"\\uc7a1\\ud654\", \"\\uc7a1\\ud654\", \"\\uc7a1\\ud654\", \"\\uc7a1\\ud654\", \"\\uc7a1\\ud654\", \"\\uc7a1\\ud654\", \"\\uc7a1\\ud654\", \"\\uc7a1\\ud654\", \"\\uc7a1\\ud654\", \"\\uc7a1\\ud654\", \"\\uc7a1\\ud654\", \"\\uc7a1\\ud654\", \"\\uc7a1\\ud654\", \"\\uc7a1\\ud654\", \"\\uc7a1\\ud654\", \"\\uc7a1\\ud654\", \"\\uc7a1\\ud654\", \"\\uc7a1\\ud654\", \"\\uc7a1\\ud654\", \"\\uc7a1\\ud654\", \"\\uc7a1\\ud654\", \"\\uc7a1\\ud654\", \"\\uc7a1\\ud654\", \"\\uc7a1\\ud654\", \"\\uc7a1\\ud654\", \"\\uc7a1\\ud654\", \"\\uc7a1\\ud654\", \"\\uc7a1\\ud654\", \"\\uc7a1\\ud654\", \"\\uc7a1\\ud654\", \"\\uc7a1\\ud654\", \"\\uc7a1\\ud654\", \"\\uc7a1\\ud654\", \"\\uc7a1\\ud654\", \"\\uc7a1\\ud654\", \"\\uc7a1\\ud654\", \"\\uc7a1\\ud654\", \"\\uc7a1\\ud654\", \"\\uc7a1\\ud654\", \"\\uc7a1\\ud654\", \"\\uc7a1\\ud654\", \"\\uc7a1\\ud654\", \"\\uc7a1\\ud654\", \"\\uc7a1\\ud654\", \"\\uc7a1\\ud654\", \"\\uc7a1\\ud654\", \"\\uc7a1\\ud654\", \"\\uc7a1\\ud654\", \"\\uc7a1\\ud654\", \"\\uc7a1\\ud654\", \"\\uc7a1\\ud654\", \"\\uc7a1\\ud654\", \"\\uc7a1\\ud654\", \"\\uc7a1\\ud654\", \"\\uc7a1\\ud654\", \"\\uc7a1\\ud654\", \"\\uc7a1\\ud654\", \"\\uc7a1\\ud654\", \"\\uc7a1\\ud654\", \"\\uc7a1\\ud654\", \"\\uc7a1\\ud654\", \"\\uc7a1\\ud654\", \"\\uc7a1\\ud654\", \"\\uc7a1\\ud654\", \"\\uc7a1\\ud654\", \"\\uc7a1\\ud654\", \"\\uc7a1\\ud654\", \"\\uc7a1\\ud654\", \"\\uc7a1\\ud654\", \"\\uc7a1\\ud654\", \"\\uc7a1\\ud654\", \"\\uc7a1\\ud654\", \"\\uc7a1\\ud654\", \"\\uc7a1\\ud654\", \"\\uc7a1\\ud654\", \"\\uc7a1\\ud654\", \"\\uc7a1\\ud654\", \"\\uc7a1\\ud654\", \"\\uc7a1\\ud654\", \"\\uc7a1\\ud654\", \"\\uc7a1\\ud654\", \"\\uc7a1\\ud654\", \"\\uc7a1\\ud654\", \"\\uc7a1\\ud654\", \"\\uc7a1\\ud654\", \"\\uc7a1\\ud654\", \"\\uc7a1\\ud654\", \"\\uc7a1\\ud654\", \"\\uc7a1\\ud654\", \"\\uc7a1\\ud654\", \"\\uc7a1\\ud654\", \"\\uc7a1\\ud654\", \"\\uc7a1\\ud654\", \"\\uc7a1\\ud654\", \"\\uc7a1\\ud654\", \"\\uc7a1\\ud654\", \"\\uc7a1\\ud654\", \"\\uc7a1\\ud654\", \"\\uc7a1\\ud654\", \"\\uc7a1\\ud654\", \"\\uc7a1\\ud654\", \"\\uc7a1\\ud654\", \"\\uc7a1\\ud654\", \"\\uc7a1\\ud654\", \"\\uc7a1\\ud654\", \"\\uc7a1\\ud654\", \"\\uc7a1\\ud654\", \"\\uc7a1\\ud654\", \"\\uc7a1\\ud654\", \"\\uc7a1\\ud654\", \"\\uc7a1\\ud654\", \"\\uc7a1\\ud654\", \"\\uc7a1\\ud654\", \"\\uc7a1\\ud654\", \"\\uc7a1\\ud654\", \"\\uc7a1\\ud654\", \"\\uc7a1\\ud654\", \"\\uc7a1\\ud654\", \"\\uc7a1\\ud654\", \"\\uc7a1\\ud654\", \"\\uc7a1\\ud654\", \"\\uc7a1\\ud654\", \"\\uc7a1\\ud654\", \"\\uc7a1\\ud654\", \"\\uc7a1\\ud654\", \"\\uc7a1\\ud654\", \"\\uc7a1\\ud654\", \"\\uc7a1\\ud654\", \"\\uc7a1\\ud654\", \"\\uc7a1\\ud654\", \"\\uc7a1\\ud654\", \"\\uc7a1\\ud654\", \"\\uc7a1\\ud654\", \"\\uc7a1\\ud654\", \"\\uc7a1\\ud654\", \"\\uc7a1\\ud654\", \"\\uc7a1\\ud654\", \"\\uc7a1\\ud654\", \"\\uc7a1\\ud654\", \"\\uc7a1\\ud654\", \"\\uc7a1\\ud654\", \"\\uc7a1\\ud654\", \"\\uc7a1\\ud654\", \"\\uc7a1\\ud654\", \"\\uc7a1\\ud654\", \"\\uc7a1\\ud654\", \"\\uc7a1\\ud654\", \"\\uc7a1\\ud654\", \"\\uc7a1\\ud654\", \"\\uc7a1\\ud654\", \"\\uc7a1\\ud654\", \"\\uc7a1\\ud654\", \"\\uc7a1\\ud654\", \"\\uc7a1\\ud654\", \"\\uc7a1\\ud654\", \"\\uc7a1\\ud654\", \"\\uc7a1\\ud654\", \"\\uc7a1\\ud654\", \"\\uc7a1\\ud654\", \"\\uc7a1\\ud654\", \"\\uc7a1\\ud654\", \"\\uc7a1\\ud654\", \"\\uc7a1\\ud654\", \"\\uc7a1\\ud654\", \"\\uc7a1\\ud654\", \"\\uc7a1\\ud654\", \"\\uc7a1\\ud654\", \"\\uc7a1\\ud654\", \"\\uc7a1\\ud654\", \"\\uc7a1\\ud654\", \"\\uc7a1\\ud654\", \"\\uc7a1\\ud654\", \"\\uc7a1\\ud654\", \"\\uc7a1\\ud654\", \"\\uc7a1\\ud654\", \"\\uc7a1\\ud654\", \"\\uc7a1\\ud654\", \"\\uc7a1\\ud654\", \"\\uc7a1\\ud654\", \"\\uc7a1\\ud654\", \"\\uc7a1\\ud654\", \"\\uc7a1\\ud654\", \"\\uc7a1\\ud654\", \"\\uc7a1\\ud654\", \"\\uc7a1\\ud654\", \"\\uc7a1\\ud654\", \"\\uc7a1\\ud654\", \"\\uc7a1\\ud654\", \"\\uc7a1\\ud654\", \"\\uc7a1\\ud654\", \"\\uc7a1\\ud654\", \"\\uc7a1\\ud654\", \"\\uc8fc\\ubc29\", \"\\uc8fc\\ubc29\", \"\\uc8fc\\ubc29\", \"\\uc8fc\\ubc29\", \"\\uc8fc\\ubc29\", \"\\uc8fc\\ubc29\", \"\\uc8fc\\ubc29\", \"\\uc8fc\\ubc29\", \"\\uc8fc\\ubc29\", \"\\uc8fc\\ubc29\", \"\\uc8fc\\ubc29\", \"\\uc8fc\\ubc29\", \"\\uc8fc\\ubc29\", \"\\uc8fc\\ubc29\", \"\\uc8fc\\ubc29\", \"\\uc8fc\\ubc29\", \"\\uc8fc\\ubc29\", \"\\uc8fc\\ubc29\", \"\\uc8fc\\ubc29\", \"\\uc8fc\\ubc29\", \"\\uc8fc\\ubc29\", \"\\uc8fc\\ubc29\", \"\\uc8fc\\ubc29\", \"\\uc8fc\\ubc29\", \"\\uc8fc\\ubc29\", \"\\uc8fc\\ubc29\", \"\\uc8fc\\ubc29\", \"\\uc8fc\\ubc29\", \"\\uc8fc\\ubc29\", \"\\uc8fc\\ubc29\", \"\\uc8fc\\ubc29\", \"\\uc8fc\\ubc29\", \"\\uc8fc\\ubc29\", \"\\uc8fc\\ubc29\", \"\\uc8fc\\ubc29\", \"\\uc8fc\\ubc29\", \"\\uc8fc\\ubc29\", \"\\uc8fc\\ubc29\", \"\\uc8fc\\ubc29\", \"\\uc8fc\\ubc29\", \"\\uc8fc\\ubc29\", \"\\uc8fc\\ubc29\", \"\\uc8fc\\ubc29\", \"\\uc8fc\\ubc29\", \"\\uc8fc\\ubc29\", \"\\uc8fc\\ubc29\", \"\\uc8fc\\ubc29\", \"\\uc8fc\\ubc29\", \"\\uc8fc\\ubc29\", \"\\uc8fc\\ubc29\", \"\\uc8fc\\ubc29\", \"\\uc8fc\\ubc29\", \"\\uc8fc\\ubc29\", \"\\uc8fc\\ubc29\", \"\\uc8fc\\ubc29\", \"\\uc8fc\\ubc29\", \"\\uc8fc\\ubc29\", \"\\uc8fc\\ubc29\", \"\\uc8fc\\ubc29\", \"\\uc8fc\\ubc29\", \"\\uc8fc\\ubc29\", \"\\uc8fc\\ubc29\", \"\\uc8fc\\ubc29\", \"\\uc8fc\\ubc29\", \"\\uc8fc\\ubc29\", \"\\uc8fc\\ubc29\", \"\\uc8fc\\ubc29\", \"\\uc8fc\\ubc29\", \"\\uc8fc\\ubc29\", \"\\uc8fc\\ubc29\", \"\\uc8fc\\ubc29\", \"\\uc8fc\\ubc29\", \"\\uc8fc\\ubc29\", \"\\uc8fc\\ubc29\", \"\\uc8fc\\ubc29\", \"\\uc8fc\\ubc29\", \"\\uc8fc\\ubc29\", \"\\uc8fc\\ubc29\", \"\\uc8fc\\ubc29\", \"\\uc8fc\\ubc29\", \"\\uc8fc\\ubc29\", \"\\uc8fc\\ubc29\", \"\\uc8fc\\ubc29\", \"\\uc8fc\\ubc29\", \"\\uc8fc\\ubc29\", \"\\uc8fc\\ubc29\", \"\\uc8fc\\ubc29\", \"\\uc8fc\\ubc29\", \"\\uc8fc\\ubc29\", \"\\uc8fc\\ubc29\", \"\\uc8fc\\ubc29\", \"\\uc8fc\\ubc29\", \"\\uc8fc\\ubc29\", \"\\uc8fc\\ubc29\", \"\\uc8fc\\ubc29\", \"\\uc8fc\\ubc29\", \"\\uc8fc\\ubc29\", \"\\uc8fc\\ubc29\", \"\\uc8fc\\ubc29\", \"\\uc8fc\\ubc29\", \"\\uc8fc\\ubc29\", \"\\uc8fc\\ubc29\", \"\\uc8fc\\ubc29\", \"\\uc8fc\\ubc29\", \"\\uc8fc\\ubc29\", \"\\uc8fc\\ubc29\", \"\\uc8fc\\ubc29\", \"\\uc8fc\\ubc29\", \"\\uc8fc\\ubc29\", \"\\uc8fc\\ubc29\", \"\\uc8fc\\ubc29\", \"\\uc8fc\\ubc29\", \"\\uc8fc\\ubc29\", \"\\uc8fc\\ubc29\", \"\\uc8fc\\ubc29\", \"\\uc8fc\\ubc29\", \"\\uc8fc\\ubc29\", \"\\uc8fc\\ubc29\", \"\\uc8fc\\ubc29\", \"\\uc8fc\\ubc29\", \"\\uc8fc\\ubc29\", \"\\uc8fc\\ubc29\", \"\\uc8fc\\ubc29\", \"\\uc8fc\\ubc29\", \"\\uc8fc\\ubc29\", \"\\uc8fc\\ubc29\", \"\\uc8fc\\ubc29\", \"\\uc8fc\\ubc29\", \"\\uc8fc\\ubc29\", \"\\uc8fc\\ubc29\", \"\\uc8fc\\ubc29\", \"\\uc8fc\\ubc29\", \"\\uc8fc\\ubc29\", \"\\uc8fc\\ubc29\", \"\\uc8fc\\ubc29\", \"\\uc8fc\\ubc29\", \"\\uc8fc\\ubc29\", \"\\uc8fc\\ubc29\", \"\\uc8fc\\ubc29\", \"\\uc8fc\\ubc29\", \"\\uc8fc\\ubc29\", \"\\uc8fc\\ubc29\", \"\\uc8fc\\ubc29\", \"\\uc8fc\\ubc29\", \"\\uc8fc\\ubc29\", \"\\uc8fc\\ubc29\", \"\\uc8fc\\ubc29\", \"\\uc8fc\\ubc29\", \"\\uc8fc\\ubc29\", \"\\uc8fc\\ubc29\", \"\\uc8fc\\ubc29\", \"\\uc8fc\\ubc29\", \"\\uc8fc\\ubc29\", \"\\uc8fc\\ubc29\", \"\\uc8fc\\ubc29\", \"\\uc8fc\\ubc29\", \"\\uc8fc\\ubc29\", \"\\uc8fc\\ubc29\", \"\\uc8fc\\ubc29\", \"\\uc8fc\\ubc29\", \"\\uc8fc\\ubc29\", \"\\uc8fc\\ubc29\", \"\\uc8fc\\ubc29\", \"\\uc8fc\\ubc29\", \"\\uc8fc\\ubc29\", \"\\uc8fc\\ubc29\", \"\\uc8fc\\ubc29\", \"\\uc8fc\\ubc29\", \"\\uc8fc\\ubc29\", \"\\uc8fc\\ubc29\", \"\\uc8fc\\ubc29\", \"\\uc8fc\\ubc29\", \"\\uc8fc\\ubc29\", \"\\uc8fc\\ubc29\", \"\\uc8fc\\ubc29\", \"\\uc8fc\\ubc29\", \"\\uc8fc\\ubc29\", \"\\uc8fc\\ubc29\", \"\\uc8fc\\ubc29\", \"\\uc8fc\\ubc29\", \"\\uc8fc\\ubc29\", \"\\uc8fc\\ubc29\", \"\\uc8fc\\ubc29\", \"\\uc8fc\\ubc29\", \"\\uc8fc\\ubc29\", \"\\uc8fc\\ubc29\", \"\\uc8fc\\ubc29\", \"\\uc8fc\\ubc29\", \"\\uc8fc\\ubc29\", \"\\uc8fc\\ubc29\", \"\\uc8fc\\ubc29\", \"\\uc8fc\\ubc29\", \"\\uc8fc\\ubc29\", \"\\uc8fc\\ubc29\", \"\\uc8fc\\ubc29\", \"\\uc8fc\\ubc29\", \"\\uc8fc\\ubc29\", \"\\uc8fc\\ubc29\", \"\\uc8fc\\ubc29\", \"\\uc8fc\\ubc29\", \"\\uc8fc\\ubc29\", \"\\uc8fc\\ubc29\", \"\\uce68\\uad6c\", \"\\uce68\\uad6c\", \"\\uce68\\uad6c\", \"\\uce68\\uad6c\", \"\\uce68\\uad6c\", \"\\uce68\\uad6c\", \"\\uce68\\uad6c\", \"\\uce68\\uad6c\", \"\\uce68\\uad6c\", \"\\uce68\\uad6c\", \"\\uce68\\uad6c\", \"\\uce68\\uad6c\", \"\\uce68\\uad6c\", \"\\uce68\\uad6c\", \"\\uce68\\uad6c\", \"\\uce68\\uad6c\", \"\\uce68\\uad6c\", \"\\uce68\\uad6c\", \"\\uce68\\uad6c\", \"\\uce68\\uad6c\", \"\\uce68\\uad6c\", \"\\uce68\\uad6c\", \"\\uce68\\uad6c\", \"\\uce68\\uad6c\", \"\\uce68\\uad6c\", \"\\uce68\\uad6c\", \"\\uce68\\uad6c\", \"\\uce68\\uad6c\", \"\\uce68\\uad6c\", \"\\uce68\\uad6c\", \"\\uce68\\uad6c\", \"\\uce68\\uad6c\", \"\\uce68\\uad6c\", \"\\uce68\\uad6c\", \"\\uce68\\uad6c\", \"\\uce68\\uad6c\", \"\\uce68\\uad6c\", \"\\uce68\\uad6c\", \"\\uce68\\uad6c\", \"\\uce68\\uad6c\", \"\\uce68\\uad6c\", \"\\uce68\\uad6c\", \"\\uce68\\uad6c\", \"\\uce68\\uad6c\", \"\\uce68\\uad6c\"], \"legendgroup\": \"\", \"name\": \"\", \"showlegend\": true, \"textinfo\": \"percent+label\", \"textposition\": \"inside\", \"type\": \"pie\", \"values\": [113.68333333333334, 180.0, 180.0, 180.0, 60.0, 60.0, 120.0, 120.0, 120.0, 6660.0, 4680.0, 780.0, 780.0, 780.0, 177.16666666666666, 480.0, 240.0, 480.0, 480.0, 120.0, 360.0, 120.0, 180.0, 180.0, 180.0, 180.0, 540.0, 2940.0, 2940.0, 2940.0, 2100.0, 2100.0, 2100.0, 540.0, 60.0, 60.0, 60.0, 60.0, 60.0, 60.0, 60.0, 120.0, 120.0, 120.0, 120.0, 60.0, 60.0, 120.0, 120.0, 120.0, 6660.0, 4680.0, 780.0, 780.0, 780.0, 177.16666666666666, 480.0, 240.0, 480.0, 480.0, 120.0, 360.0, 120.0, 180.0, 180.0, 180.0, 180.0, 540.0, 1800.0, 600.0, 1080.0, 1140.0, 240.0, 240.0, 60.0, 60.0, 25320.0, 120.0, 120.0, 120.0, 5520.0, 60.0, 120.0, 240.0, 360.0, 1980.0, 2340.0, 600.0, 600.0, 60.0, 300.0, 6180.0, 60.0, 60.0, 240.0, 2160.0, 120.0, 5280.0, 240.0, 60.0, 60.0, 60.0, 120.0, 1980.0, 1980.0, 120.0, 120.0, 180.0, 120.0, 540.0, 540.0, 240.0, 240.0, 120.0, 120.0, 360.0, 60.0, 360.0, 180.0, 2160.0, 120.0, 120.0, 240.0, 60.0, 60.0, 25440.0, 120.0, 120.0, 120.0, 5520.0, 60.0, 120.0, 240.0, 360.0, 1980.0, 2340.0, 600.0, 60.0, 300.0, 6180.0, 60.0, 60.0, 120.0, 240.0, 2160.0, 5400.0, 240.0, 60.0, 60.0, 60.0, 1980.0, 1980.0, 120.0, 240.0, 180.0, 120.0, 540.0, 540.0, 240.0, 240.0, 120.0, 120.0, 360.0, 60.0, 360.0, 180.0, 2160.0, 480.0, 240.0, 480.0, 240.0, 180.0, 60.0, 380.0, 120.0, 293.0, 1200.0, 120.0, 60.0, 60.0, 60.0, 1140.0, 453.18333333333334, 240.0, 240.0, 240.0, 60.0, 600.0, 240.0, 1760.0, 240.0, 60.0, 180.0, 297.15000000000003, 60.0, 237.16666666666666, 120.0, 60.0, 60.0, 240.0, 60.0, 240.0, 1760.0, 240.0, 1680.0, 400.0, 115.66666666666667, 180.0, 720.0, 272.3333333333333, 520.0, 180.0, 60.0, 116.85, 95.01666666666667, 236.68333333333334, 360.0, 120.0, 60.0, 240.0, 240.0, 240.0, 104.65, 60.0, 60.0, 5040.0, 60.0, 180.0, 4336.266666666666, 120.0, 94.83333333333333, 900.0, 60.0, 1034.7833333333333, 120.0, 96.66666666666667, 40.0, 240.0, 1560.0, 60.0, 240.0, 712.1833333333333, 420.0, 1320.0, 1320.0, 100.0, 120.0, 180.0, 60.0, 60.0, 700.0, 900.0, 60.0, 3420.0, 1860.0, 240.0, 120.0, 760.0, 120.0, 60.0, 540.0, 60.0, 120.0, 1085.5, 60.0, 60.0, 60.0, 120.0, 120.0, 60.0, 6360.0, 2227.5, 1387.5, 100.0, 156.16666666666669, 1086.0, 600.0, 120.0, 2252.666666666667, 220.0, 363.8666666666666, 60.0, 60.0, 1320.0, 540.0, 120.0, 2080.0, 60.0, 420.0, 60.0, 900.0, 180.0, 480.0, 180.0, 60.0, 300.0, 220.0, 240.0, 2940.0, 1480.0, 120.0, 60.0, 60.0, 180.0, 40.0, 240.0, 754.35, 120.0, 177.08333333333331, 60.0, 60.0, 60.0, 240.0, 180.0, 1140.0, 720.0, 2075.1666666666665, 540.0, 60.0, 33.0, 60.0, 1219.7, 240.0, 60.0, 59.983333333333334, 120.0, 240.0, 57.1, 120.0, 620.0, 1140.0, 274.90000000000003, 281.5333333333333, 2040.0, 935.3333333333333, 720.0, 120.0, 1380.0, 60.0, 120.0, 120.0, 120.0, 1840.0, 120.0, 60.0, 120.0, 180.0, 120.0, 300.0, 60.0, 175.28333333333333, 120.0, 60.0, 240.0, 232.33333333333331, 60.0, 60.0, 165.83333333333334, 166.16666666666669, 360.0, 240.0, 120.0, 120.0, 120.0, 120.0, 1980.0, 360.0, 360.0, 360.0, 360.0, 60.0, 540.0, 540.0, 540.0, 120.0, 120.0, 120.0, 60.0, 176.68333333333334, 896.8333333333333, 360.0, 266.1666666666667, 175.2, 175.2, 2280.0, 420.0, 1160.0, 116.03333333333333, 300.0, 60.0, 360.0, 660.0, 117.16666666666667, 60.0, 3433.733333333333, 420.0, 115.36666666666667, 60.0, 1380.0, 1380.0, 420.0, 60.0, 600.0, 357.1, 176.68333333333334, 60.0, 60.0, 60.0, 120.0, 120.0, 180.0, 180.0, 60.0, 60.0, 600.0, 120.0, 176.66666666666669, 176.66666666666669, 600.0, 120.0, 60.0, 60.0, 57.2, 57.2, 57.2, 120.0, 660.0, 116.7, 540.0, 1260.0, 1200.0, 60.0, 294.33333333333337, 294.33333333333337, 295.85, 60.0, 120.0, 275.1666666666667, 175.2, 175.2, 1160.0, 116.03333333333333, 300.0, 60.0, 360.0, 660.0, 117.16666666666667, 60.0, 3433.733333333333, 420.0, 115.36666666666667, 60.0, 1380.0, 1380.0, 900.0, 120.0, 60.0, 900.0, 120.0, 900.0, 120.0, 120.0, 240.0, 1453.8333333333335, 137.16666666666666, 160.0, 1260.0, 1260.0, 1260.0, 120.0, 180.0, 180.0, 1260.0, 60.0, 596.9666666666667, 720.0, 180.0, 60.0, 720.0, 60.0, 56.66666666666667, 56.66666666666667, 120.0, 120.0, 1380.0, 120.0, 360.0, 60.0, 60.0, 60.0, 300.0, 120.0, 116.7, 282.81666666666666, 300.0, 240.0, 55.166666666666664, 120.0, 344.33333333333337, 760.5, 360.0, 360.0, 736.7, 736.7, 53.0, 457.1666666666667, 457.1666666666667, 240.0, 528.5, 35.166666666666664, 120.0, 234.2, 535.85, 1191.85, 240.0, 60.0, 474.6333333333333, 600.0, 60.0, 240.0, 230.33333333333334, 540.0, 60.0, 120.0, 116.66666666666667, 540.0, 120.0, 236.83333333333331, 540.0, 117.16666666666667, 60.0, 60.0, 995.2, 1175.2, 180.0, 1175.2, 120.0, 60.0, 60.0, 497.16666666666663, 360.0, 420.0, 115.16666666666666, 180.0, 1366.35, 240.0, 60.0, 540.0, 240.0, 60.0, 60.0, 215.16666666666669, 60.0, 53.0, 900.0, 180.0, 60.0, 60.0, 180.0, 228.16666666666666, 228.16666666666666, 1620.0, 840.0, 1080.0, 900.0, 60.0, 1596.6999999999998, 60.0, 60.0, 40.0, 60.0, 540.0, 120.0, 232.0, 120.0, 720.0, 120.0, 116.66666666666667, 600.0, 240.0, 180.0, 240.0, 175.0, 177.16666666666666, 900.0, 461.6666666666667, 420.0, 234.66666666666666, 540.0, 60.0, 120.0, 540.0, 2512.0, 120.0, 115.16666666666666, 60.0, 1200.0, 1200.0, 600.0, 120.0, 300.0, 480.0, 480.0, 480.0, 480.0, 892.7, 892.7, 820.7, 120.0, 659.1833333333334, 300.0, 475.1666666666667, 360.0, 900.0, 60.0, 536.6833333333334, 300.0, 233.0, 180.0, 160.0, 960.0, 960.0, 480.0, 240.0, 180.0, 180.0, 180.0, 655.1666666666667, 1984.8333333333333, 1447.6666666666665, 180.0, 1260.0, 110.73333333333333, 720.0, 720.0, 240.0, 356.1, 1132.45, 1908.5500000000002, 120.0, 120.0, 708.1666666666666, 180.0, 180.0, 360.0, 173.0, 1435.6666666666667, 114.19999999999999, 116.83333333333333, 116.83333333333333, 60.0, 300.0, 537.1666666666666, 60.0, 173.0, 180.0, 1374.7, 1243.1833333333334, 356.1, 60.0, 240.0, 60.0, 115.16666666666667, 408.0, 60.0, 924.3666666666667, 540.0, 924.3666666666667, 540.0, 60.0, 296.3166666666666, 60.0, 897.1666666666666, 897.1666666666666, 177.16666666666669, 57.16666666666667, 360.0, 420.0, 820.0, 300.0, 177.18333333333334, 175.83333333333331, 540.0, 60.0, 650.3333333333334, 475.1666666666667, 180.0, 360.0, 60.0, 157.16666666666666, 157.16666666666666, 175.33333333333331, 180.0, 360.0, 840.0, 180.0, 60.0, 120.0, 60.0, 300.0, 60.0, 120.0, 772.0666666666666, 223.0, 713.2, 120.0, 240.0, 292.4166666666667, 1260.0, 60.0, 415.0, 413.20000000000005, 180.0, 60.0, 60.0, 1160.0, 60.0, 713.2, 420.0, 600.0, 680.0, 300.0, 180.0, 836.1, 120.0, 57.1, 57.1, 60.0, 300.0, 56.7, 180.0, 60.0, 56.7, 180.0, 115.0, 60.0, 60.0, 60.0, 115.0, 60.0, 354.6666666666667, 180.0, 240.0, 240.0, 360.0, 240.0, 100.0, 100.0, 113.0, 113.0, 180.0, 360.0, 180.0, 540.0, 60.0, 300.0, 240.0, 600.0, 300.0, 300.0, 60.0, 300.0, 1500.0, 480.0, 1080.0, 120.0, 476.01666666666665, 275.08333333333337, 336.7, 336.7, 540.0, 60.0, 240.0, 280.0, 60.0, 360.0, 840.0, 1260.0, 780.0, 240.0, 280.0, 60.0, 60.0, 360.0, 840.0, 1260.0, 780.0, 60.0, 60.0, 120.0, 960.0, 480.0, 180.0, 240.0, 120.0, 480.0, 120.0, 480.0, 60.0, 56.016666666666666, 120.0, 240.0, 220.0, 102.46666666666667, 595.0, 660.0, 660.0, 60.0, 465.34999999999997, 120.0, 280.0, 120.0, 280.0, 60.0, 60.0, 60.0, 475.1666666666667, 100.0, 100.0, 100.0, 240.0, 120.0, 420.0, 840.0, 180.0, 60.0, 120.0, 300.0, 180.0, 60.0, 120.0, 772.0666666666666, 223.0, 713.2, 120.0, 240.0, 1260.0, 60.0, 415.0, 413.20000000000005, 180.0, 60.0, 60.0, 1160.0, 60.0, 180.0, 713.2, 420.0, 300.0, 240.0, 920.0, 120.0, 115.16666666666667, 180.0, 115.16666666666667, 180.0, 116.7, 240.0, 720.0, 592.2, 300.0, 116.7, 240.0, 720.0, 760.8833333333334, 300.0, 116.68333333333334, 240.0, 120.0, 120.0, 60.0, 533.0, 60.0, 360.0, 266.0, 359.33333333333337, 715.6666666666667, 731.5166666666667, 60.0, 233.0, 120.0, 60.0, 60.0, 520.0, 720.0, 60.0, 360.0, 180.0, 360.0, 240.0, 480.0, 360.0, 60.0, 53.166666666666664, 173.0, 177.1, 113.0, 100.0, 60.0, 288.0, 420.0, 177.1, 113.0, 100.0, 60.0, 288.0, 420.0, 56.16666666666667, 1500.0, 720.0, 55.166666666666664, 180.0, 55.166666666666664, 180.0, 540.0, 695.1666666666666, 540.0, 240.0, 356.2, 540.0, 540.0, 240.0, 356.2, 540.0, 1736.6833333333334, 176.66666666666669, 240.0, 300.0, 1320.0, 120.0, 1857.1833333333334, 176.66666666666669, 120.0, 180.0, 60.0, 100.0, 60.0, 60.0, 120.0, 180.0, 60.0, 100.0, 60.0, 1040.0, 116.68333333333334, 213.33333333333334, 120.0, 300.0, 60.0, 417.1, 408.85, 56.68333333333334, 297.16666666666663, 828.1666666666666, 1640.0, 3730.833333333333, 2976.516666666667, 3037.1833333333334, 60.0, 60.0, 240.0, 60.0, 60.0, 1056.6833333333334, 116.68333333333334, 240.0, 697.4, 56.68333333333334, 113.51666666666667, 405.3666666666667, 155.0, 60.0, 540.0, 420.0, 1181.1166666666666, 115.0, 116.08333333333333, 2820.0, 60.0, 60.0, 60.0, 120.0, 120.0, 225.5, 113.0, 600.0, 180.0, 146.0, 146.0, 171.01666666666668, 57.16666666666667, 60.0, 835.8000000000005, 1055.2666666666669, 1055.2666666666669, 60.0, 782.6000000000004, 361.20000000000005, 361.20000000000005, 361.20000000000005, 361.20000000000005, 420.0, 120.0, 235.16666666666666, 600.0, 96.2, 220.0, 180.6, 893.0, 893.0, 1076.0833333333333, 180.0, 595.0, 230.35, 120.0, 180.6, 117.16666666666667, 117.16666666666667, 240.0, 535.0, 60.0, 56.86666666666667, 535.0, 60.0, 56.86666666666667, 60.0, 60.0, 840.0, 333.0, 481.60000000000014, 481.60000000000014, 481.60000000000014, 481.60000000000014, 481.60000000000014, 481.60000000000014, 481.60000000000014, 963.2000000000005, 963.2000000000005, 963.2000000000005, 963.2000000000005, 963.2000000000005, 963.2000000000005, 963.2000000000005, 60.2, 60.2, 60.2, 60.2, 60.2, 60.2, 60.2, 361.20000000000005, 416.50000000000006, 416.50000000000006, 416.50000000000006, 180.6, 416.50000000000006, 180.6, 416.50000000000006, 416.50000000000006, 416.50000000000006, 180.6, 180.6, 180.6, 120.4, 120.4, 120.4, 120.4, 120.4, 120.4, 120.4, 240.0, 480.0, 240.0, 480.0, 60.0, 60.0, 60.0, 120.0, 120.0, 240.0, 240.0, 120.0, 32.666666666666664, 32.666666666666664, 120.0, 165.83333333333334, 60.0, 466.4666666666667, 630.0333333333334, 420.0, 120.0, 656.7, 361.20000000000005, 361.20000000000005, 353.0, 169.5, 346.68333333333334, 480.0, 180.6, 60.0, 300.0, 60.0, 60.0, 300.0, 360.0, 420.0, 120.0, 295.0, 720.0, 180.0, 480.0, 420.0, 397.1666666666667, 220.0, 220.0, 180.6, 180.6, 180.0, 180.0, 180.0, 600.0, 600.0, 480.0, 240.0, 240.0, 240.0, 60.0, 60.0, 60.0, 60.0, 60.0, 240.0, 240.0, 60.0, 60.0, 300.0, 116.66666666666667, 284.2833333333333, 1073.0, 600.0, 120.0, 235.16666666666666, 96.2, 220.0, 180.0, 277.1666666666667, 337.1666666666667, 240.0, 120.0, 240.0, 300.0, 480.0, 480.0, 180.0, 120.0, 420.0, 416.3333333333333, 60.0, 120.0, 300.0, 480.0, 480.0, 180.0, 120.0, 420.0, 416.3333333333333, 60.0, 240.0, 120.0, 1196.7, 90.0, 165.83333333333334, 60.0, 466.4666666666667, 630.0333333333334, 420.0, 120.0, 120.0, 360.0, 300.0, 60.0, 60.0, 60.0, 180.0, 180.0, 180.0, 1260.0, 1200.0, 300.0, 360.0, 480.0, 360.0, 420.0, 420.0, 840.0, 120.0, 300.0, 120.0, 300.0, 1200.0, 300.0, 420.0, 420.0, 360.0, 420.0, 780.0, 656.7, 655.2, 540.0, 180.6, 120.0, 540.0, 120.0, 60.0, 660.0, 120.0, 60.0, 660.0, 1081.4, 540.0, 481.40000000000015, 60.0, 541.4000000000002, 481.40000000000015, 1020.0, 481.40000000000015, 120.0, 540.0, 540.0, 480.0, 540.0, 480.0, 541.4000000000002, 60.0, 1140.0, 540.0, 60.0, 480.0, 60.0, 360.0, 655.2, 1080.0, 120.0, 240.0, 120.0, 120.0, 340.0, 340.0, 360.0, 240.0, 240.0, 60.0, 120.0, 60.0, 1560.0, 1560.0, 120.0, 120.0, 900.0, 120.0, 120.0, 60.0, 60.0, 60.0, 177.16666666666669, 120.0, 60.0, 120.0, 120.0, 60.0, 780.0, 60.0, 660.0, 660.0, 1560.0, 1560.0, 120.0, 60.0, 1500.0, 1200.0, 355.9, 355.9, 355.9, 60.0, 157.16666666666669, 240.0, 60.0, 60.0, 240.0, 780.0, 60.0, 60.0, 180.0, 60.0, 480.0, 240.0, 120.0, 240.0, 1440.0, 60.0, 60.0, 60.0, 120.0, 3600.0, 112.0, 360.0, 53.0, 60.0, 1320.0, 780.0, 120.0, 3064.2666666666664, 1080.0, 9700.0, 3820.0, 120.0, 120.0, 1220.0, 180.0, 100.0, 120.0, 240.0, 480.0, 240.0, 60.0, 60.0, 420.0, 60.0, 120.0, 60.0, 60.0, 480.0, 120.0, 720.0, 300.0, 480.0, 60.0, 60.0, 60.0, 360.0, 240.0, 155.5, 60.0, 60.0, 120.0, 240.0, 720.0, 4920.0, 60.0, 300.0, 300.0, 55.166666666666664, 240.0, 8020.0, 60.0, 120.0, 120.0, 60.0, 780.0, 60.0, 660.0, 660.0, 1560.0, 1560.0, 120.0, 60.0, 1500.0, 1200.0, 355.9, 355.9, 355.9, 60.0, 157.16666666666669, 240.0, 60.0, 60.0, 240.0, 780.0, 60.0, 60.0, 180.0, 60.0, 480.0, 240.0, 120.0, 240.0, 1440.0, 60.0, 60.0, 120.0, 3540.0, 60.0, 112.0, 360.0, 53.0, 60.0, 1320.0, 780.0, 120.0, 272.1333333333333, 2792.133333333333, 1080.0, 9680.0, 3820.0, 120.0, 120.0, 1220.0, 180.0, 100.0, 120.0, 240.0, 480.0, 240.0, 60.0, 60.0, 180.0, 420.0, 60.0, 120.0, 3540.0, 3540.0, 3540.0, 3540.0, 240.0, 60.0, 780.0, 600.0, 2150.0, 240.0, 60.0, 227.58333333333334, 2100.0, 720.0, 180.0, 120.0, 60.0, 60.0, 1500.0, 720.0, 60.0, 60.0, 180.0, 1080.0, 60.0, 60.0, 60.0, 60.0, 60.0, 60.0, 55.06666666666666, 55.06666666666666, 55.06666666666666, 55.06666666666666, 5040.0, 519.0, 120.0, 120.0, 120.0, 120.0, 1800.0, 600.0, 300.0, 300.0, 300.0, 300.0, 116.86666666666667, 116.86666666666667, 116.86666666666667, 116.86666666666667, 176.66666666666666, 176.66666666666666, 176.66666666666666, 176.66666666666666, 180.0, 55.06666666666666, 55.06666666666666, 55.06666666666666, 55.06666666666666, 120.0, 120.0, 120.0, 170.54999999999998, 300.0, 300.0, 300.0, 115.2, 115.2, 115.2]}],                        {\"legend\": {\"tracegroupgap\": 0}, \"piecolorway\": [\"rgb(103,0,31)\", \"rgb(178,24,43)\", \"rgb(214,96,77)\", \"rgb(244,165,130)\", \"rgb(253,219,199)\", \"rgb(247,247,247)\", \"rgb(209,229,240)\", \"rgb(146,197,222)\", \"rgb(67,147,195)\", \"rgb(33,102,172)\", \"rgb(5,48,97)\"], \"template\": {\"data\": {\"bar\": [{\"error_x\": {\"color\": \"#2a3f5f\"}, \"error_y\": {\"color\": \"#2a3f5f\"}, \"marker\": {\"line\": {\"color\": \"#E5ECF6\", \"width\": 0.5}}, \"type\": \"bar\"}], \"barpolar\": [{\"marker\": {\"line\": {\"color\": \"#E5ECF6\", \"width\": 0.5}}, \"type\": \"barpolar\"}], \"carpet\": [{\"aaxis\": {\"endlinecolor\": \"#2a3f5f\", \"gridcolor\": \"white\", \"linecolor\": \"white\", \"minorgridcolor\": \"white\", \"startlinecolor\": \"#2a3f5f\"}, \"baxis\": {\"endlinecolor\": \"#2a3f5f\", \"gridcolor\": \"white\", \"linecolor\": \"white\", \"minorgridcolor\": \"white\", \"startlinecolor\": \"#2a3f5f\"}, \"type\": \"carpet\"}], \"choropleth\": [{\"colorbar\": {\"outlinewidth\": 0, \"ticks\": \"\"}, \"type\": \"choropleth\"}], \"contour\": [{\"colorbar\": {\"outlinewidth\": 0, \"ticks\": \"\"}, \"colorscale\": [[0.0, \"#0d0887\"], [0.1111111111111111, \"#46039f\"], [0.2222222222222222, \"#7201a8\"], [0.3333333333333333, \"#9c179e\"], [0.4444444444444444, \"#bd3786\"], [0.5555555555555556, \"#d8576b\"], [0.6666666666666666, \"#ed7953\"], [0.7777777777777778, \"#fb9f3a\"], [0.8888888888888888, \"#fdca26\"], [1.0, \"#f0f921\"]], \"type\": \"contour\"}], \"contourcarpet\": [{\"colorbar\": {\"outlinewidth\": 0, \"ticks\": \"\"}, \"type\": \"contourcarpet\"}], \"heatmap\": [{\"colorbar\": {\"outlinewidth\": 0, \"ticks\": \"\"}, \"colorscale\": [[0.0, \"#0d0887\"], [0.1111111111111111, \"#46039f\"], [0.2222222222222222, \"#7201a8\"], [0.3333333333333333, \"#9c179e\"], [0.4444444444444444, \"#bd3786\"], [0.5555555555555556, \"#d8576b\"], [0.6666666666666666, \"#ed7953\"], [0.7777777777777778, \"#fb9f3a\"], [0.8888888888888888, \"#fdca26\"], [1.0, \"#f0f921\"]], \"type\": \"heatmap\"}], \"heatmapgl\": [{\"colorbar\": {\"outlinewidth\": 0, \"ticks\": \"\"}, \"colorscale\": [[0.0, \"#0d0887\"], [0.1111111111111111, \"#46039f\"], [0.2222222222222222, \"#7201a8\"], [0.3333333333333333, \"#9c179e\"], [0.4444444444444444, \"#bd3786\"], [0.5555555555555556, \"#d8576b\"], [0.6666666666666666, \"#ed7953\"], [0.7777777777777778, \"#fb9f3a\"], [0.8888888888888888, \"#fdca26\"], [1.0, \"#f0f921\"]], \"type\": \"heatmapgl\"}], \"histogram\": [{\"marker\": {\"colorbar\": {\"outlinewidth\": 0, \"ticks\": \"\"}}, \"type\": \"histogram\"}], \"histogram2d\": [{\"colorbar\": {\"outlinewidth\": 0, \"ticks\": \"\"}, \"colorscale\": [[0.0, \"#0d0887\"], [0.1111111111111111, \"#46039f\"], [0.2222222222222222, \"#7201a8\"], [0.3333333333333333, \"#9c179e\"], [0.4444444444444444, \"#bd3786\"], [0.5555555555555556, \"#d8576b\"], [0.6666666666666666, \"#ed7953\"], [0.7777777777777778, \"#fb9f3a\"], [0.8888888888888888, \"#fdca26\"], [1.0, \"#f0f921\"]], \"type\": \"histogram2d\"}], \"histogram2dcontour\": [{\"colorbar\": {\"outlinewidth\": 0, \"ticks\": \"\"}, \"colorscale\": [[0.0, \"#0d0887\"], [0.1111111111111111, \"#46039f\"], [0.2222222222222222, \"#7201a8\"], [0.3333333333333333, \"#9c179e\"], [0.4444444444444444, \"#bd3786\"], [0.5555555555555556, \"#d8576b\"], [0.6666666666666666, \"#ed7953\"], [0.7777777777777778, \"#fb9f3a\"], [0.8888888888888888, \"#fdca26\"], [1.0, \"#f0f921\"]], \"type\": \"histogram2dcontour\"}], \"mesh3d\": [{\"colorbar\": {\"outlinewidth\": 0, \"ticks\": \"\"}, \"type\": \"mesh3d\"}], \"parcoords\": [{\"line\": {\"colorbar\": {\"outlinewidth\": 0, \"ticks\": \"\"}}, \"type\": \"parcoords\"}], \"pie\": [{\"automargin\": true, \"type\": \"pie\"}], \"scatter\": [{\"marker\": {\"colorbar\": {\"outlinewidth\": 0, \"ticks\": \"\"}}, \"type\": \"scatter\"}], \"scatter3d\": [{\"line\": {\"colorbar\": {\"outlinewidth\": 0, \"ticks\": \"\"}}, \"marker\": {\"colorbar\": {\"outlinewidth\": 0, \"ticks\": \"\"}}, \"type\": \"scatter3d\"}], \"scattercarpet\": [{\"marker\": {\"colorbar\": {\"outlinewidth\": 0, \"ticks\": \"\"}}, \"type\": \"scattercarpet\"}], \"scattergeo\": [{\"marker\": {\"colorbar\": {\"outlinewidth\": 0, \"ticks\": \"\"}}, \"type\": \"scattergeo\"}], \"scattergl\": [{\"marker\": {\"colorbar\": {\"outlinewidth\": 0, \"ticks\": \"\"}}, \"type\": \"scattergl\"}], \"scattermapbox\": [{\"marker\": {\"colorbar\": {\"outlinewidth\": 0, \"ticks\": \"\"}}, \"type\": \"scattermapbox\"}], \"scatterpolar\": [{\"marker\": {\"colorbar\": {\"outlinewidth\": 0, \"ticks\": \"\"}}, \"type\": \"scatterpolar\"}], \"scatterpolargl\": [{\"marker\": {\"colorbar\": {\"outlinewidth\": 0, \"ticks\": \"\"}}, \"type\": \"scatterpolargl\"}], \"scatterternary\": [{\"marker\": {\"colorbar\": {\"outlinewidth\": 0, \"ticks\": \"\"}}, \"type\": \"scatterternary\"}], \"surface\": [{\"colorbar\": {\"outlinewidth\": 0, \"ticks\": \"\"}, \"colorscale\": [[0.0, \"#0d0887\"], [0.1111111111111111, \"#46039f\"], [0.2222222222222222, \"#7201a8\"], [0.3333333333333333, \"#9c179e\"], [0.4444444444444444, \"#bd3786\"], [0.5555555555555556, \"#d8576b\"], [0.6666666666666666, \"#ed7953\"], [0.7777777777777778, \"#fb9f3a\"], [0.8888888888888888, \"#fdca26\"], [1.0, \"#f0f921\"]], \"type\": \"surface\"}], \"table\": [{\"cells\": {\"fill\": {\"color\": \"#EBF0F8\"}, \"line\": {\"color\": \"white\"}}, \"header\": {\"fill\": {\"color\": \"#C8D4E3\"}, \"line\": {\"color\": \"white\"}}, \"type\": \"table\"}]}, \"layout\": {\"annotationdefaults\": {\"arrowcolor\": \"#2a3f5f\", \"arrowhead\": 0, \"arrowwidth\": 1}, \"coloraxis\": {\"colorbar\": {\"outlinewidth\": 0, \"ticks\": \"\"}}, \"colorscale\": {\"diverging\": [[0, \"#8e0152\"], [0.1, \"#c51b7d\"], [0.2, \"#de77ae\"], [0.3, \"#f1b6da\"], [0.4, \"#fde0ef\"], [0.5, \"#f7f7f7\"], [0.6, \"#e6f5d0\"], [0.7, \"#b8e186\"], [0.8, \"#7fbc41\"], [0.9, \"#4d9221\"], [1, \"#276419\"]], \"sequential\": [[0.0, \"#0d0887\"], [0.1111111111111111, \"#46039f\"], [0.2222222222222222, \"#7201a8\"], [0.3333333333333333, \"#9c179e\"], [0.4444444444444444, \"#bd3786\"], [0.5555555555555556, \"#d8576b\"], [0.6666666666666666, \"#ed7953\"], [0.7777777777777778, \"#fb9f3a\"], [0.8888888888888888, \"#fdca26\"], [1.0, \"#f0f921\"]], \"sequentialminus\": [[0.0, \"#0d0887\"], [0.1111111111111111, \"#46039f\"], [0.2222222222222222, \"#7201a8\"], [0.3333333333333333, \"#9c179e\"], [0.4444444444444444, \"#bd3786\"], [0.5555555555555556, \"#d8576b\"], [0.6666666666666666, \"#ed7953\"], [0.7777777777777778, \"#fb9f3a\"], [0.8888888888888888, \"#fdca26\"], [1.0, \"#f0f921\"]]}, \"colorway\": [\"#636efa\", \"#EF553B\", \"#00cc96\", \"#ab63fa\", \"#FFA15A\", \"#19d3f3\", \"#FF6692\", \"#B6E880\", \"#FF97FF\", \"#FECB52\"], \"font\": {\"color\": \"#2a3f5f\"}, \"geo\": {\"bgcolor\": \"white\", \"lakecolor\": \"white\", \"landcolor\": \"#E5ECF6\", \"showlakes\": true, \"showland\": true, \"subunitcolor\": \"white\"}, \"hoverlabel\": {\"align\": \"left\"}, \"hovermode\": \"closest\", \"mapbox\": {\"style\": \"light\"}, \"paper_bgcolor\": \"white\", \"plot_bgcolor\": \"#E5ECF6\", \"polar\": {\"angularaxis\": {\"gridcolor\": \"white\", \"linecolor\": \"white\", \"ticks\": \"\"}, \"bgcolor\": \"#E5ECF6\", \"radialaxis\": {\"gridcolor\": \"white\", \"linecolor\": \"white\", \"ticks\": \"\"}}, \"scene\": {\"xaxis\": {\"backgroundcolor\": \"#E5ECF6\", \"gridcolor\": \"white\", \"gridwidth\": 2, \"linecolor\": \"white\", \"showbackground\": true, \"ticks\": \"\", \"zerolinecolor\": \"white\"}, \"yaxis\": {\"backgroundcolor\": \"#E5ECF6\", \"gridcolor\": \"white\", \"gridwidth\": 2, \"linecolor\": \"white\", \"showbackground\": true, \"ticks\": \"\", \"zerolinecolor\": \"white\"}, \"zaxis\": {\"backgroundcolor\": \"#E5ECF6\", \"gridcolor\": \"white\", \"gridwidth\": 2, \"linecolor\": \"white\", \"showbackground\": true, \"ticks\": \"\", \"zerolinecolor\": \"white\"}}, \"shapedefaults\": {\"line\": {\"color\": \"#2a3f5f\"}}, \"ternary\": {\"aaxis\": {\"gridcolor\": \"white\", \"linecolor\": \"white\", \"ticks\": \"\"}, \"baxis\": {\"gridcolor\": \"white\", \"linecolor\": \"white\", \"ticks\": \"\"}, \"bgcolor\": \"#E5ECF6\", \"caxis\": {\"gridcolor\": \"white\", \"linecolor\": \"white\", \"ticks\": \"\"}}, \"title\": {\"x\": 0.05}, \"xaxis\": {\"automargin\": true, \"gridcolor\": \"white\", \"linecolor\": \"white\", \"ticks\": \"\", \"title\": {\"standoff\": 15}, \"zerolinecolor\": \"white\", \"zerolinewidth\": 2}, \"yaxis\": {\"automargin\": true, \"gridcolor\": \"white\", \"linecolor\": \"white\", \"ticks\": \"\", \"title\": {\"standoff\": 15}, \"zerolinecolor\": \"white\", \"zerolinewidth\": 2}}}, \"title\": {\"text\": \"\\ubc29\\uc1a1 \\uc2dc\\uac04 \\ube44\\uc728\"}},                        {\"responsive\": true}                    ).then(function(){\n",
       "                            \n",
       "var gd = document.getElementById('58d77865-7772-43d2-8608-d01a9bc6ccef');\n",
       "var x = new MutationObserver(function (mutations, observer) {{\n",
       "        var display = window.getComputedStyle(gd).display;\n",
       "        if (!display || display === 'none') {{\n",
       "            console.log([gd, 'removed!']);\n",
       "            Plotly.purge(gd);\n",
       "            observer.disconnect();\n",
       "        }}\n",
       "}});\n",
       "\n",
       "// Listen for the removal of the full notebook cells\n",
       "var notebookContainer = gd.closest('#notebook-container');\n",
       "if (notebookContainer) {{\n",
       "    x.observe(notebookContainer, {childList: true});\n",
       "}}\n",
       "\n",
       "// Listen for the clearing of the current output cell\n",
       "var outputEl = gd.closest('.output');\n",
       "if (outputEl) {{\n",
       "    x.observe(outputEl, {childList: true});\n",
       "}}\n",
       "\n",
       "                        })                };                });            </script>        </div>"
      ]
     },
     "metadata": {},
     "output_type": "display_data"
    }
   ],
   "source": [
    "df = train.groupby(['상품군', 'unique_name']).sum()\n",
    "fig = px.pie(df, values='노출(분)', names=[x[0] for x in df.index], title='방송 시간 비율', color_discrete_sequence=px.colors.sequential.RdBu)\n",
    "fig.update_traces(textposition='inside', textinfo='percent+label')\n",
    "fig.show()"
   ]
  },
  {
   "cell_type": "code",
   "execution_count": 136,
   "metadata": {
    "ExecuteTime": {
     "end_time": "2020-09-26T13:14:09.054472Z",
     "start_time": "2020-09-26T13:14:09.037470Z"
    }
   },
   "outputs": [],
   "source": [
    "import seaborn as sns"
   ]
  },
  {
   "cell_type": "code",
   "execution_count": 137,
   "metadata": {
    "ExecuteTime": {
     "end_time": "2020-09-26T13:14:09.334974Z",
     "start_time": "2020-09-26T13:14:09.324911Z"
    }
   },
   "outputs": [],
   "source": [
    "cat = '농수축'"
   ]
  },
  {
   "cell_type": "code",
   "execution_count": 138,
   "metadata": {
    "ExecuteTime": {
     "end_time": "2020-09-26T13:14:25.018587Z",
     "start_time": "2020-09-26T13:14:09.548591Z"
    },
    "scrolled": false
   },
   "outputs": [
    {
     "data": {
      "image/png": "[encoded data removed]",
      "text/plain": [
       "<Figure size 1137.12x2160 with 1 Axes>"
      ]
     },
     "metadata": {},
     "output_type": "display_data"
    }
   ],
   "source": [
    "sns.factorplot(data=train[train.상품군==cat],\n",
    "              x='판매단가', y='unique_name', size=30, aspect=.5,\n",
    "                join=False, legend_out=True,\n",
    "              hue='요일')\n",
    "plt.grid(True)"
   ]
  },
  {
   "cell_type": "code",
   "execution_count": 139,
   "metadata": {
    "ExecuteTime": {
     "end_time": "2020-09-26T13:14:25.351766Z",
     "start_time": "2020-09-26T13:14:25.019587Z"
    }
   },
   "outputs": [
    {
     "data": {
      "image/png": "[encoded data removed]",
      "text/plain": [
       "<Figure size 720x288 with 1 Axes>"
      ]
     },
     "metadata": {},
     "output_type": "display_data"
    }
   ],
   "source": [
    "plt.figure(figsize=(10, 4))\n",
    "sns.distplot(train['취급액'], bins=15)\n",
    "plt.title(\"취급액 분포\")\n",
    "plt.xlabel('(단위: 천만원)')\n",
    "sns.despine()\n",
    "plt.show()"
   ]
  },
  {
   "cell_type": "code",
   "execution_count": 140,
   "metadata": {
    "ExecuteTime": {
     "end_time": "2020-09-26T13:14:25.623734Z",
     "start_time": "2020-09-26T13:14:25.359724Z"
    }
   },
   "outputs": [
    {
     "data": {
      "image/png": "[encoded data removed]",
      "text/plain": [
       "<Figure size 1008x720 with 1 Axes>"
      ]
     },
     "metadata": {},
     "output_type": "display_data"
    }
   ],
   "source": [
    "month_group = data['train']['2019'].groupby('월').sum()\n",
    "month_group['취급액'].plot(kind='bar', figsize=(14, 10))\n",
    "plt.axhline(y = np.mean(month_group.취급액), color = 'red', ls = '--')\n",
    "plt.ylim(month_group['취급액'].min()*0.9, month_group['취급액'].max()*1.1)\n",
    "plt.show()"
   ]
  },
  {
   "cell_type": "code",
   "execution_count": 143,
   "metadata": {
    "ExecuteTime": {
     "end_time": "2020-09-26T13:17:05.253769Z",
     "start_time": "2020-09-26T13:17:05.230781Z"
    }
   },
   "outputs": [],
   "source": [
    "df = data['train']['2019'].groupby('시').sum()"
   ]
  },
  {
   "cell_type": "code",
   "execution_count": 145,
   "metadata": {
    "ExecuteTime": {
     "end_time": "2020-09-26T13:17:47.699619Z",
     "start_time": "2020-09-26T13:17:47.685621Z"
    }
   },
   "outputs": [
    {
     "data": {
      "text/html": [
       "<div>\n",
       "<style scoped>\n",
       "    .dataframe tbody tr th:only-of-type {\n",
       "        vertical-align: middle;\n",
       "    }\n",
       "\n",
       "    .dataframe tbody tr th {\n",
       "        vertical-align: top;\n",
       "    }\n",
       "\n",
       "    .dataframe thead th {\n",
       "        text-align: right;\n",
       "    }\n",
       "</style>\n",
       "<table border=\"1\" class=\"dataframe\">\n",
       "  <thead>\n",
       "    <tr style=\"text-align: right;\">\n",
       "      <th></th>\n",
       "      <th>노출(분)</th>\n",
       "      <th>마더코드</th>\n",
       "      <th>상품코드</th>\n",
       "      <th>판매단가</th>\n",
       "      <th>취급액</th>\n",
       "      <th>연</th>\n",
       "      <th>월</th>\n",
       "      <th>주</th>\n",
       "      <th>일</th>\n",
       "      <th>분</th>\n",
       "    </tr>\n",
       "    <tr>\n",
       "      <th>시</th>\n",
       "      <th></th>\n",
       "      <th></th>\n",
       "      <th></th>\n",
       "      <th></th>\n",
       "      <th></th>\n",
       "      <th></th>\n",
       "      <th></th>\n",
       "      <th></th>\n",
       "      <th></th>\n",
       "      <th></th>\n",
       "    </tr>\n",
       "  </thead>\n",
       "  <tbody>\n",
       "    <tr>\n",
       "      <th>0</th>\n",
       "      <td>36831.0667</td>\n",
       "      <td>174166154</td>\n",
       "      <td>349139800</td>\n",
       "      <td>529203600</td>\n",
       "      <td>33433642000.0000</td>\n",
       "      <td>3502965</td>\n",
       "      <td>11172</td>\n",
       "      <td>44894</td>\n",
       "      <td>26069</td>\n",
       "      <td>33720</td>\n",
       "    </tr>\n",
       "    <tr>\n",
       "      <th>1</th>\n",
       "      <td>29905.2833</td>\n",
       "      <td>161072056</td>\n",
       "      <td>322912317</td>\n",
       "      <td>229476200</td>\n",
       "      <td>18896150000.0000</td>\n",
       "      <td>3238476</td>\n",
       "      <td>10185</td>\n",
       "      <td>41217</td>\n",
       "      <td>24873</td>\n",
       "      <td>32150</td>\n",
       "    </tr>\n",
       "    <tr>\n",
       "      <th>2</th>\n",
       "      <td>1450.0000</td>\n",
       "      <td>7230791</td>\n",
       "      <td>14496300</td>\n",
       "      <td>11430400</td>\n",
       "      <td>1188668000.0000</td>\n",
       "      <td>145368</td>\n",
       "      <td>820</td>\n",
       "      <td>3394</td>\n",
       "      <td>1103</td>\n",
       "      <td>20</td>\n",
       "    </tr>\n",
       "    <tr>\n",
       "      <th>6</th>\n",
       "      <td>27162.8000</td>\n",
       "      <td>136664267</td>\n",
       "      <td>273943222</td>\n",
       "      <td>186866750</td>\n",
       "      <td>18106918000.0000</td>\n",
       "      <td>2747859</td>\n",
       "      <td>8774</td>\n",
       "      <td>35652</td>\n",
       "      <td>21273</td>\n",
       "      <td>29110</td>\n",
       "    </tr>\n",
       "    <tr>\n",
       "      <th>7</th>\n",
       "      <td>30052.3833</td>\n",
       "      <td>148774825</td>\n",
       "      <td>298257577</td>\n",
       "      <td>168940150</td>\n",
       "      <td>31881393000.0000</td>\n",
       "      <td>2990139</td>\n",
       "      <td>9924</td>\n",
       "      <td>40403</td>\n",
       "      <td>23679</td>\n",
       "      <td>29555</td>\n",
       "    </tr>\n",
       "    <tr>\n",
       "      <th>8</th>\n",
       "      <td>34874.4667</td>\n",
       "      <td>165176180</td>\n",
       "      <td>331181571</td>\n",
       "      <td>436474450</td>\n",
       "      <td>37114909000.0000</td>\n",
       "      <td>3319236</td>\n",
       "      <td>11307</td>\n",
       "      <td>46022</td>\n",
       "      <td>26172</td>\n",
       "      <td>32115</td>\n",
       "    </tr>\n",
       "    <tr>\n",
       "      <th>9</th>\n",
       "      <td>33084.2000</td>\n",
       "      <td>160834255</td>\n",
       "      <td>322401944</td>\n",
       "      <td>441570000</td>\n",
       "      <td>42683767000.0000</td>\n",
       "      <td>3234438</td>\n",
       "      <td>10683</td>\n",
       "      <td>43277</td>\n",
       "      <td>25091</td>\n",
       "      <td>31540</td>\n",
       "    </tr>\n",
       "    <tr>\n",
       "      <th>10</th>\n",
       "      <td>41892.5167</td>\n",
       "      <td>197158188</td>\n",
       "      <td>395253698</td>\n",
       "      <td>830498000</td>\n",
       "      <td>47904283000.0000</td>\n",
       "      <td>3963297</td>\n",
       "      <td>12733</td>\n",
       "      <td>51636</td>\n",
       "      <td>30324</td>\n",
       "      <td>39460</td>\n",
       "    </tr>\n",
       "    <tr>\n",
       "      <th>11</th>\n",
       "      <td>39109.8167</td>\n",
       "      <td>188321627</td>\n",
       "      <td>377425428</td>\n",
       "      <td>556712100</td>\n",
       "      <td>45024680000.0000</td>\n",
       "      <td>3787644</td>\n",
       "      <td>12350</td>\n",
       "      <td>49884</td>\n",
       "      <td>27985</td>\n",
       "      <td>36770</td>\n",
       "    </tr>\n",
       "    <tr>\n",
       "      <th>12</th>\n",
       "      <td>38260.1833</td>\n",
       "      <td>183917962</td>\n",
       "      <td>368705017</td>\n",
       "      <td>488712650</td>\n",
       "      <td>40183948000.0000</td>\n",
       "      <td>3696789</td>\n",
       "      <td>11716</td>\n",
       "      <td>47049</td>\n",
       "      <td>27834</td>\n",
       "      <td>36000</td>\n",
       "    </tr>\n",
       "    <tr>\n",
       "      <th>13</th>\n",
       "      <td>35042.7833</td>\n",
       "      <td>169671319</td>\n",
       "      <td>340059767</td>\n",
       "      <td>366076850</td>\n",
       "      <td>41962853000.0000</td>\n",
       "      <td>3412110</td>\n",
       "      <td>11037</td>\n",
       "      <td>44693</td>\n",
       "      <td>26292</td>\n",
       "      <td>33720</td>\n",
       "    </tr>\n",
       "    <tr>\n",
       "      <th>14</th>\n",
       "      <td>34145.3167</td>\n",
       "      <td>168822224</td>\n",
       "      <td>338314282</td>\n",
       "      <td>307526550</td>\n",
       "      <td>41013450000.0000</td>\n",
       "      <td>3395958</td>\n",
       "      <td>11451</td>\n",
       "      <td>46653</td>\n",
       "      <td>26212</td>\n",
       "      <td>33940</td>\n",
       "    </tr>\n",
       "    <tr>\n",
       "      <th>15</th>\n",
       "      <td>32958.4000</td>\n",
       "      <td>163169867</td>\n",
       "      <td>327076141</td>\n",
       "      <td>340860500</td>\n",
       "      <td>45745595000.0000</td>\n",
       "      <td>3280875</td>\n",
       "      <td>10794</td>\n",
       "      <td>43780</td>\n",
       "      <td>24717</td>\n",
       "      <td>32790</td>\n",
       "    </tr>\n",
       "    <tr>\n",
       "      <th>16</th>\n",
       "      <td>27948.8000</td>\n",
       "      <td>139368420</td>\n",
       "      <td>279388351</td>\n",
       "      <td>186601150</td>\n",
       "      <td>50570117000.0000</td>\n",
       "      <td>2802372</td>\n",
       "      <td>9179</td>\n",
       "      <td>37192</td>\n",
       "      <td>22141</td>\n",
       "      <td>27535</td>\n",
       "    </tr>\n",
       "    <tr>\n",
       "      <th>17</th>\n",
       "      <td>27141.4833</td>\n",
       "      <td>136334900</td>\n",
       "      <td>273284401</td>\n",
       "      <td>159042950</td>\n",
       "      <td>51227287000.0000</td>\n",
       "      <td>2741802</td>\n",
       "      <td>8981</td>\n",
       "      <td>36359</td>\n",
       "      <td>21061</td>\n",
       "      <td>27445</td>\n",
       "    </tr>\n",
       "    <tr>\n",
       "      <th>18</th>\n",
       "      <td>27299.4333</td>\n",
       "      <td>133086089</td>\n",
       "      <td>266861543</td>\n",
       "      <td>124584600</td>\n",
       "      <td>45116498000.0000</td>\n",
       "      <td>2675175</td>\n",
       "      <td>8708</td>\n",
       "      <td>35352</td>\n",
       "      <td>20171</td>\n",
       "      <td>27540</td>\n",
       "    </tr>\n",
       "    <tr>\n",
       "      <th>19</th>\n",
       "      <td>38940.0000</td>\n",
       "      <td>194963970</td>\n",
       "      <td>390935263</td>\n",
       "      <td>460799650</td>\n",
       "      <td>48334028000.0000</td>\n",
       "      <td>3918879</td>\n",
       "      <td>12330</td>\n",
       "      <td>49911</td>\n",
       "      <td>30114</td>\n",
       "      <td>40570</td>\n",
       "    </tr>\n",
       "    <tr>\n",
       "      <th>20</th>\n",
       "      <td>51787.0000</td>\n",
       "      <td>252293471</td>\n",
       "      <td>505681150</td>\n",
       "      <td>1548130600</td>\n",
       "      <td>54181473000.0000</td>\n",
       "      <td>5073747</td>\n",
       "      <td>15751</td>\n",
       "      <td>63562</td>\n",
       "      <td>39352</td>\n",
       "      <td>51730</td>\n",
       "    </tr>\n",
       "    <tr>\n",
       "      <th>21</th>\n",
       "      <td>71289.5833</td>\n",
       "      <td>352119385</td>\n",
       "      <td>705413263</td>\n",
       "      <td>4123060800</td>\n",
       "      <td>72989003000.0000</td>\n",
       "      <td>7088709</td>\n",
       "      <td>22389</td>\n",
       "      <td>90693</td>\n",
       "      <td>53482</td>\n",
       "      <td>73510</td>\n",
       "    </tr>\n",
       "    <tr>\n",
       "      <th>22</th>\n",
       "      <td>73201.4000</td>\n",
       "      <td>365553236</td>\n",
       "      <td>732396012</td>\n",
       "      <td>4154074550</td>\n",
       "      <td>67125205000.0000</td>\n",
       "      <td>7357236</td>\n",
       "      <td>23152</td>\n",
       "      <td>93850</td>\n",
       "      <td>55018</td>\n",
       "      <td>74170</td>\n",
       "    </tr>\n",
       "    <tr>\n",
       "      <th>23</th>\n",
       "      <td>50668.6667</td>\n",
       "      <td>246275575</td>\n",
       "      <td>493597904</td>\n",
       "      <td>1838823000</td>\n",
       "      <td>50670449000.0000</td>\n",
       "      <td>4954626</td>\n",
       "      <td>16099</td>\n",
       "      <td>64853</td>\n",
       "      <td>36998</td>\n",
       "      <td>45660</td>\n",
       "    </tr>\n",
       "  </tbody>\n",
       "</table>\n",
       "</div>"
      ],
      "text/plain": [
       "        노출(분)       마더코드       상품코드        판매단가              취급액        연  \\\n",
       "시                                                                           \n",
       "0  36831.0667  174166154  349139800   529203600 33433642000.0000  3502965   \n",
       "1  29905.2833  161072056  322912317   229476200 18896150000.0000  3238476   \n",
       "2   1450.0000    7230791   14496300    11430400  1188668000.0000   145368   \n",
       "6  27162.8000  136664267  273943222   186866750 18106918000.0000  2747859   \n",
       "7  30052.3833  148774825  298257577   168940150 31881393000.0000  2990139   \n",
       "8  34874.4667  165176180  331181571   436474450 37114909000.0000  3319236   \n",
       "9  33084.2000  160834255  322401944   441570000 42683767000.0000  3234438   \n",
       "10 41892.5167  197158188  395253698   830498000 47904283000.0000  3963297   \n",
       "11 39109.8167  188321627  377425428   556712100 45024680000.0000  3787644   \n",
       "12 38260.1833  183917962  368705017   488712650 40183948000.0000  3696789   \n",
       "13 35042.7833  169671319  340059767   366076850 41962853000.0000  3412110   \n",
       "14 34145.3167  168822224  338314282   307526550 41013450000.0000  3395958   \n",
       "15 32958.4000  163169867  327076141   340860500 45745595000.0000  3280875   \n",
       "16 27948.8000  139368420  279388351   186601150 50570117000.0000  2802372   \n",
       "17 27141.4833  136334900  273284401   159042950 51227287000.0000  2741802   \n",
       "18 27299.4333  133086089  266861543   124584600 45116498000.0000  2675175   \n",
       "19 38940.0000  194963970  390935263   460799650 48334028000.0000  3918879   \n",
       "20 51787.0000  252293471  505681150  1548130600 54181473000.0000  5073747   \n",
       "21 71289.5833  352119385  705413263  4123060800 72989003000.0000  7088709   \n",
       "22 73201.4000  365553236  732396012  4154074550 67125205000.0000  7357236   \n",
       "23 50668.6667  246275575  493597904  1838823000 50670449000.0000  4954626   \n",
       "\n",
       "        월      주      일      분  \n",
       "시                               \n",
       "0   11172  44894  26069  33720  \n",
       "1   10185  41217  24873  32150  \n",
       "2     820   3394   1103     20  \n",
       "6    8774  35652  21273  29110  \n",
       "7    9924  40403  23679  29555  \n",
       "8   11307  46022  26172  32115  \n",
       "9   10683  43277  25091  31540  \n",
       "10  12733  51636  30324  39460  \n",
       "11  12350  49884  27985  36770  \n",
       "12  11716  47049  27834  36000  \n",
       "13  11037  44693  26292  33720  \n",
       "14  11451  46653  26212  33940  \n",
       "15  10794  43780  24717  32790  \n",
       "16   9179  37192  22141  27535  \n",
       "17   8981  36359  21061  27445  \n",
       "18   8708  35352  20171  27540  \n",
       "19  12330  49911  30114  40570  \n",
       "20  15751  63562  39352  51730  \n",
       "21  22389  90693  53482  73510  \n",
       "22  23152  93850  55018  74170  \n",
       "23  16099  64853  36998  45660  "
      ]
     },
     "execution_count": 145,
     "metadata": {},
     "output_type": "execute_result"
    }
   ],
   "source": [
    "df"
   ]
  },
  {
   "cell_type": "code",
   "execution_count": 148,
   "metadata": {
    "ExecuteTime": {
     "end_time": "2020-09-26T13:22:48.550050Z",
     "start_time": "2020-09-26T13:22:48.501112Z"
    }
   },
   "outputs": [
    {
     "data": {
      "application/vnd.plotly.v1+json": {
       "config": {
        "plotlyServerURL": "https://plotly.com"
       },
       "data": [
        {
         "domain": {
          "x": [
           0,
           1
          ],
          "y": [
           0,
           1
          ]
         },
         "hovertemplate": "시=%{label}<br>취급액=%{value}<extra></extra>",
         "labels": [
          0,
          1,
          2,
          6,
          7,
          8,
          9,
          10,
          11,
          12,
          13,
          14,
          15,
          16,
          17,
          18,
          19,
          20,
          21,
          22,
          23
         ],
         "legendgroup": "",
         "name": "",
         "showlegend": true,
         "textinfo": "percent+label",
         "textposition": "inside",
         "type": "pie",
         "values": [
          33433642000,
          18896150000,
          1188668000,
          18106918000,
          31881393000,
          37114909000,
          42683767000,
          47904283000,
          45024680000,
          40183948000,
          41962853000,
          41013450000,
          45745595000,
          50570117000,
          51227287000,
          45116498000,
          48334028000,
          54181473000,
          72989003000,
          67125205000,
          50670449000
         ]
        }
       ],
       "layout": {
        "legend": {
         "tracegroupgap": 0
        },
        "piecolorway": [
         "rgb(103,0,31)",
         "rgb(178,24,43)",
         "rgb(214,96,77)",
         "rgb(244,165,130)",
         "rgb(253,219,199)",
         "rgb(247,247,247)",
         "rgb(209,229,240)",
         "rgb(146,197,222)",
         "rgb(67,147,195)",
         "rgb(33,102,172)",
         "rgb(5,48,97)"
        ],
        "template": {
         "data": {
          "bar": [
           {
            "error_x": {
             "color": "#2a3f5f"
            },
            "error_y": {
             "color": "#2a3f5f"
            },
            "marker": {
             "line": {
              "color": "#E5ECF6",
              "width": 0.5
             }
            },
            "type": "bar"
           }
          ],
          "barpolar": [
           {
            "marker": {
             "line": {
              "color": "#E5ECF6",
              "width": 0.5
             }
            },
            "type": "barpolar"
           }
          ],
          "carpet": [
           {
            "aaxis": {
             "endlinecolor": "#2a3f5f",
             "gridcolor": "white",
             "linecolor": "white",
             "minorgridcolor": "white",
             "startlinecolor": "#2a3f5f"
            },
            "baxis": {
             "endlinecolor": "#2a3f5f",
             "gridcolor": "white",
             "linecolor": "white",
             "minorgridcolor": "white",
             "startlinecolor": "#2a3f5f"
            },
            "type": "carpet"
           }
          ],
          "choropleth": [
           {
            "colorbar": {
             "outlinewidth": 0,
             "ticks": ""
            },
            "type": "choropleth"
           }
          ],
          "contour": [
           {
            "colorbar": {
             "outlinewidth": 0,
             "ticks": ""
            },
            "colorscale": [
             [
              0,
              "#0d0887"
             ],
             [
              0.1111111111111111,
              "#46039f"
             ],
             [
              0.2222222222222222,
              "#7201a8"
             ],
             [
              0.3333333333333333,
              "#9c179e"
             ],
             [
              0.4444444444444444,
              "#bd3786"
             ],
             [
              0.5555555555555556,
              "#d8576b"
             ],
             [
              0.6666666666666666,
              "#ed7953"
             ],
             [
              0.7777777777777778,
              "#fb9f3a"
             ],
             [
              0.8888888888888888,
              "#fdca26"
             ],
             [
              1,
              "#f0f921"
             ]
            ],
            "type": "contour"
           }
          ],
          "contourcarpet": [
           {
            "colorbar": {
             "outlinewidth": 0,
             "ticks": ""
            },
            "type": "contourcarpet"
           }
          ],
          "heatmap": [
           {
            "colorbar": {
             "outlinewidth": 0,
             "ticks": ""
            },
            "colorscale": [
             [
              0,
              "#0d0887"
             ],
             [
              0.1111111111111111,
              "#46039f"
             ],
             [
              0.2222222222222222,
              "#7201a8"
             ],
             [
              0.3333333333333333,
              "#9c179e"
             ],
             [
              0.4444444444444444,
              "#bd3786"
             ],
             [
              0.5555555555555556,
              "#d8576b"
             ],
             [
              0.6666666666666666,
              "#ed7953"
             ],
             [
              0.7777777777777778,
              "#fb9f3a"
             ],
             [
              0.8888888888888888,
              "#fdca26"
             ],
             [
              1,
              "#f0f921"
             ]
            ],
            "type": "heatmap"
           }
          ],
          "heatmapgl": [
           {
            "colorbar": {
             "outlinewidth": 0,
             "ticks": ""
            },
            "colorscale": [
             [
              0,
              "#0d0887"
             ],
             [
              0.1111111111111111,
              "#46039f"
             ],
             [
              0.2222222222222222,
              "#7201a8"
             ],
             [
              0.3333333333333333,
              "#9c179e"
             ],
             [
              0.4444444444444444,
              "#bd3786"
             ],
             [
              0.5555555555555556,
              "#d8576b"
             ],
             [
              0.6666666666666666,
              "#ed7953"
             ],
             [
              0.7777777777777778,
              "#fb9f3a"
             ],
             [
              0.8888888888888888,
              "#fdca26"
             ],
             [
              1,
              "#f0f921"
             ]
            ],
            "type": "heatmapgl"
           }
          ],
          "histogram": [
           {
            "marker": {
             "colorbar": {
              "outlinewidth": 0,
              "ticks": ""
             }
            },
            "type": "histogram"
           }
          ],
          "histogram2d": [
           {
            "colorbar": {
             "outlinewidth": 0,
             "ticks": ""
            },
            "colorscale": [
             [
              0,
              "#0d0887"
             ],
             [
              0.1111111111111111,
              "#46039f"
             ],
             [
              0.2222222222222222,
              "#7201a8"
             ],
             [
              0.3333333333333333,
              "#9c179e"
             ],
             [
              0.4444444444444444,
              "#bd3786"
             ],
             [
              0.5555555555555556,
              "#d8576b"
             ],
             [
              0.6666666666666666,
              "#ed7953"
             ],
             [
              0.7777777777777778,
              "#fb9f3a"
             ],
             [
              0.8888888888888888,
              "#fdca26"
             ],
             [
              1,
              "#f0f921"
             ]
            ],
            "type": "histogram2d"
           }
          ],
          "histogram2dcontour": [
           {
            "colorbar": {
             "outlinewidth": 0,
             "ticks": ""
            },
            "colorscale": [
             [
              0,
              "#0d0887"
             ],
             [
              0.1111111111111111,
              "#46039f"
             ],
             [
              0.2222222222222222,
              "#7201a8"
             ],
             [
              0.3333333333333333,
              "#9c179e"
             ],
             [
              0.4444444444444444,
              "#bd3786"
             ],
             [
              0.5555555555555556,
              "#d8576b"
             ],
             [
              0.6666666666666666,
              "#ed7953"
             ],
             [
              0.7777777777777778,
              "#fb9f3a"
             ],
             [
              0.8888888888888888,
              "#fdca26"
             ],
             [
              1,
              "#f0f921"
             ]
            ],
            "type": "histogram2dcontour"
           }
          ],
          "mesh3d": [
           {
            "colorbar": {
             "outlinewidth": 0,
             "ticks": ""
            },
            "type": "mesh3d"
           }
          ],
          "parcoords": [
           {
            "line": {
             "colorbar": {
              "outlinewidth": 0,
              "ticks": ""
             }
            },
            "type": "parcoords"
           }
          ],
          "pie": [
           {
            "automargin": true,
            "type": "pie"
           }
          ],
          "scatter": [
           {
            "marker": {
             "colorbar": {
              "outlinewidth": 0,
              "ticks": ""
             }
            },
            "type": "scatter"
           }
          ],
          "scatter3d": [
           {
            "line": {
             "colorbar": {
              "outlinewidth": 0,
              "ticks": ""
             }
            },
            "marker": {
             "colorbar": {
              "outlinewidth": 0,
              "ticks": ""
             }
            },
            "type": "scatter3d"
           }
          ],
          "scattercarpet": [
           {
            "marker": {
             "colorbar": {
              "outlinewidth": 0,
              "ticks": ""
             }
            },
            "type": "scattercarpet"
           }
          ],
          "scattergeo": [
           {
            "marker": {
             "colorbar": {
              "outlinewidth": 0,
              "ticks": ""
             }
            },
            "type": "scattergeo"
           }
          ],
          "scattergl": [
           {
            "marker": {
             "colorbar": {
              "outlinewidth": 0,
              "ticks": ""
             }
            },
            "type": "scattergl"
           }
          ],
          "scattermapbox": [
           {
            "marker": {
             "colorbar": {
              "outlinewidth": 0,
              "ticks": ""
             }
            },
            "type": "scattermapbox"
           }
          ],
          "scatterpolar": [
           {
            "marker": {
             "colorbar": {
              "outlinewidth": 0,
              "ticks": ""
             }
            },
            "type": "scatterpolar"
           }
          ],
          "scatterpolargl": [
           {
            "marker": {
             "colorbar": {
              "outlinewidth": 0,
              "ticks": ""
             }
            },
            "type": "scatterpolargl"
           }
          ],
          "scatterternary": [
           {
            "marker": {
             "colorbar": {
              "outlinewidth": 0,
              "ticks": ""
             }
            },
            "type": "scatterternary"
           }
          ],
          "surface": [
           {
            "colorbar": {
             "outlinewidth": 0,
             "ticks": ""
            },
            "colorscale": [
             [
              0,
              "#0d0887"
             ],
             [
              0.1111111111111111,
              "#46039f"
             ],
             [
              0.2222222222222222,
              "#7201a8"
             ],
             [
              0.3333333333333333,
              "#9c179e"
             ],
             [
              0.4444444444444444,
              "#bd3786"
             ],
             [
              0.5555555555555556,
              "#d8576b"
             ],
             [
              0.6666666666666666,
              "#ed7953"
             ],
             [
              0.7777777777777778,
              "#fb9f3a"
             ],
             [
              0.8888888888888888,
              "#fdca26"
             ],
             [
              1,
              "#f0f921"
             ]
            ],
            "type": "surface"
           }
          ],
          "table": [
           {
            "cells": {
             "fill": {
              "color": "#EBF0F8"
             },
             "line": {
              "color": "white"
             }
            },
            "header": {
             "fill": {
              "color": "#C8D4E3"
             },
             "line": {
              "color": "white"
             }
            },
            "type": "table"
           }
          ]
         },
         "layout": {
          "annotationdefaults": {
           "arrowcolor": "#2a3f5f",
           "arrowhead": 0,
           "arrowwidth": 1
          },
          "coloraxis": {
           "colorbar": {
            "outlinewidth": 0,
            "ticks": ""
           }
          },
          "colorscale": {
           "diverging": [
            [
             0,
             "#8e0152"
            ],
            [
             0.1,
             "#c51b7d"
            ],
            [
             0.2,
             "#de77ae"
            ],
            [
             0.3,
             "#f1b6da"
            ],
            [
             0.4,
             "#fde0ef"
            ],
            [
             0.5,
             "#f7f7f7"
            ],
            [
             0.6,
             "#e6f5d0"
            ],
            [
             0.7,
             "#b8e186"
            ],
            [
             0.8,
             "#7fbc41"
            ],
            [
             0.9,
             "#4d9221"
            ],
            [
             1,
             "#276419"
            ]
           ],
           "sequential": [
            [
             0,
             "#0d0887"
            ],
            [
             0.1111111111111111,
             "#46039f"
            ],
            [
             0.2222222222222222,
             "#7201a8"
            ],
            [
             0.3333333333333333,
             "#9c179e"
            ],
            [
             0.4444444444444444,
             "#bd3786"
            ],
            [
             0.5555555555555556,
             "#d8576b"
            ],
            [
             0.6666666666666666,
             "#ed7953"
            ],
            [
             0.7777777777777778,
             "#fb9f3a"
            ],
            [
             0.8888888888888888,
             "#fdca26"
            ],
            [
             1,
             "#f0f921"
            ]
           ],
           "sequentialminus": [
            [
             0,
             "#0d0887"
            ],
            [
             0.1111111111111111,
             "#46039f"
            ],
            [
             0.2222222222222222,
             "#7201a8"
            ],
            [
             0.3333333333333333,
             "#9c179e"
            ],
            [
             0.4444444444444444,
             "#bd3786"
            ],
            [
             0.5555555555555556,
             "#d8576b"
            ],
            [
             0.6666666666666666,
             "#ed7953"
            ],
            [
             0.7777777777777778,
             "#fb9f3a"
            ],
            [
             0.8888888888888888,
             "#fdca26"
            ],
            [
             1,
             "#f0f921"
            ]
           ]
          },
          "colorway": [
           "#636efa",
           "#EF553B",
           "#00cc96",
           "#ab63fa",
           "#FFA15A",
           "#19d3f3",
           "#FF6692",
           "#B6E880",
           "#FF97FF",
           "#FECB52"
          ],
          "font": {
           "color": "#2a3f5f"
          },
          "geo": {
           "bgcolor": "white",
           "lakecolor": "white",
           "landcolor": "#E5ECF6",
           "showlakes": true,
           "showland": true,
           "subunitcolor": "white"
          },
          "hoverlabel": {
           "align": "left"
          },
          "hovermode": "closest",
          "mapbox": {
           "style": "light"
          },
          "paper_bgcolor": "white",
          "plot_bgcolor": "#E5ECF6",
          "polar": {
           "angularaxis": {
            "gridcolor": "white",
            "linecolor": "white",
            "ticks": ""
           },
           "bgcolor": "#E5ECF6",
           "radialaxis": {
            "gridcolor": "white",
            "linecolor": "white",
            "ticks": ""
           }
          },
          "scene": {
           "xaxis": {
            "backgroundcolor": "#E5ECF6",
            "gridcolor": "white",
            "gridwidth": 2,
            "linecolor": "white",
            "showbackground": true,
            "ticks": "",
            "zerolinecolor": "white"
           },
           "yaxis": {
            "backgroundcolor": "#E5ECF6",
            "gridcolor": "white",
            "gridwidth": 2,
            "linecolor": "white",
            "showbackground": true,
            "ticks": "",
            "zerolinecolor": "white"
           },
           "zaxis": {
            "backgroundcolor": "#E5ECF6",
            "gridcolor": "white",
            "gridwidth": 2,
            "linecolor": "white",
            "showbackground": true,
            "ticks": "",
            "zerolinecolor": "white"
           }
          },
          "shapedefaults": {
           "line": {
            "color": "#2a3f5f"
           }
          },
          "ternary": {
           "aaxis": {
            "gridcolor": "white",
            "linecolor": "white",
            "ticks": ""
           },
           "baxis": {
            "gridcolor": "white",
            "linecolor": "white",
            "ticks": ""
           },
           "bgcolor": "#E5ECF6",
           "caxis": {
            "gridcolor": "white",
            "linecolor": "white",
            "ticks": ""
           }
          },
          "title": {
           "x": 0.05
          },
          "xaxis": {
           "automargin": true,
           "gridcolor": "white",
           "linecolor": "white",
           "ticks": "",
           "title": {
            "standoff": 15
           },
           "zerolinecolor": "white",
           "zerolinewidth": 2
          },
          "yaxis": {
           "automargin": true,
           "gridcolor": "white",
           "linecolor": "white",
           "ticks": "",
           "title": {
            "standoff": 15
           },
           "zerolinecolor": "white",
           "zerolinewidth": 2
          }
         }
        },
        "title": {
         "text": "상품군의 총 취급액 비율"
        }
       }
      },
      "text/html": [
       "<div>                            <div id=\"48de863e-11f7-46f1-81c8-a838731f202e\" class=\"plotly-graph-div\" style=\"height:525px; width:100%;\"></div>            <script type=\"text/javascript\">                require([\"plotly\"], function(Plotly) {                    window.PLOTLYENV=window.PLOTLYENV || {};                                    if (document.getElementById(\"48de863e-11f7-46f1-81c8-a838731f202e\")) {                    Plotly.newPlot(                        \"48de863e-11f7-46f1-81c8-a838731f202e\",                        [{\"domain\": {\"x\": [0.0, 1.0], \"y\": [0.0, 1.0]}, \"hovertemplate\": \"\\uc2dc=%{label}<br>\\ucde8\\uae09\\uc561=%{value}<extra></extra>\", \"labels\": [0, 1, 2, 6, 7, 8, 9, 10, 11, 12, 13, 14, 15, 16, 17, 18, 19, 20, 21, 22, 23], \"legendgroup\": \"\", \"name\": \"\", \"showlegend\": true, \"textinfo\": \"percent+label\", \"textposition\": \"inside\", \"type\": \"pie\", \"values\": [33433642000.0, 18896150000.0, 1188668000.0, 18106918000.0, 31881393000.0, 37114909000.0, 42683767000.0, 47904283000.0, 45024680000.0, 40183948000.0, 41962853000.0, 41013450000.0, 45745595000.0, 50570117000.0, 51227287000.0, 45116498000.0, 48334028000.0, 54181473000.0, 72989003000.0, 67125205000.0, 50670449000.0]}],                        {\"legend\": {\"tracegroupgap\": 0}, \"piecolorway\": [\"rgb(103,0,31)\", \"rgb(178,24,43)\", \"rgb(214,96,77)\", \"rgb(244,165,130)\", \"rgb(253,219,199)\", \"rgb(247,247,247)\", \"rgb(209,229,240)\", \"rgb(146,197,222)\", \"rgb(67,147,195)\", \"rgb(33,102,172)\", \"rgb(5,48,97)\"], \"template\": {\"data\": {\"bar\": [{\"error_x\": {\"color\": \"#2a3f5f\"}, \"error_y\": {\"color\": \"#2a3f5f\"}, \"marker\": {\"line\": {\"color\": \"#E5ECF6\", \"width\": 0.5}}, \"type\": \"bar\"}], \"barpolar\": [{\"marker\": {\"line\": {\"color\": \"#E5ECF6\", \"width\": 0.5}}, \"type\": \"barpolar\"}], \"carpet\": [{\"aaxis\": {\"endlinecolor\": \"#2a3f5f\", \"gridcolor\": \"white\", \"linecolor\": \"white\", \"minorgridcolor\": \"white\", \"startlinecolor\": \"#2a3f5f\"}, \"baxis\": {\"endlinecolor\": \"#2a3f5f\", \"gridcolor\": \"white\", \"linecolor\": \"white\", \"minorgridcolor\": \"white\", \"startlinecolor\": \"#2a3f5f\"}, \"type\": \"carpet\"}], \"choropleth\": [{\"colorbar\": {\"outlinewidth\": 0, \"ticks\": \"\"}, \"type\": \"choropleth\"}], \"contour\": [{\"colorbar\": {\"outlinewidth\": 0, \"ticks\": \"\"}, \"colorscale\": [[0.0, \"#0d0887\"], [0.1111111111111111, \"#46039f\"], [0.2222222222222222, \"#7201a8\"], [0.3333333333333333, \"#9c179e\"], [0.4444444444444444, \"#bd3786\"], [0.5555555555555556, \"#d8576b\"], [0.6666666666666666, \"#ed7953\"], [0.7777777777777778, \"#fb9f3a\"], [0.8888888888888888, \"#fdca26\"], [1.0, \"#f0f921\"]], \"type\": \"contour\"}], \"contourcarpet\": [{\"colorbar\": {\"outlinewidth\": 0, \"ticks\": \"\"}, \"type\": \"contourcarpet\"}], \"heatmap\": [{\"colorbar\": {\"outlinewidth\": 0, \"ticks\": \"\"}, \"colorscale\": [[0.0, \"#0d0887\"], [0.1111111111111111, \"#46039f\"], [0.2222222222222222, \"#7201a8\"], [0.3333333333333333, \"#9c179e\"], [0.4444444444444444, \"#bd3786\"], [0.5555555555555556, \"#d8576b\"], [0.6666666666666666, \"#ed7953\"], [0.7777777777777778, \"#fb9f3a\"], [0.8888888888888888, \"#fdca26\"], [1.0, \"#f0f921\"]], \"type\": \"heatmap\"}], \"heatmapgl\": [{\"colorbar\": {\"outlinewidth\": 0, \"ticks\": \"\"}, \"colorscale\": [[0.0, \"#0d0887\"], [0.1111111111111111, \"#46039f\"], [0.2222222222222222, \"#7201a8\"], [0.3333333333333333, \"#9c179e\"], [0.4444444444444444, \"#bd3786\"], [0.5555555555555556, \"#d8576b\"], [0.6666666666666666, \"#ed7953\"], [0.7777777777777778, \"#fb9f3a\"], [0.8888888888888888, \"#fdca26\"], [1.0, \"#f0f921\"]], \"type\": \"heatmapgl\"}], \"histogram\": [{\"marker\": {\"colorbar\": {\"outlinewidth\": 0, \"ticks\": \"\"}}, \"type\": \"histogram\"}], \"histogram2d\": [{\"colorbar\": {\"outlinewidth\": 0, \"ticks\": \"\"}, \"colorscale\": [[0.0, \"#0d0887\"], [0.1111111111111111, \"#46039f\"], [0.2222222222222222, \"#7201a8\"], [0.3333333333333333, \"#9c179e\"], [0.4444444444444444, \"#bd3786\"], [0.5555555555555556, \"#d8576b\"], [0.6666666666666666, \"#ed7953\"], [0.7777777777777778, \"#fb9f3a\"], [0.8888888888888888, \"#fdca26\"], [1.0, \"#f0f921\"]], \"type\": \"histogram2d\"}], \"histogram2dcontour\": [{\"colorbar\": {\"outlinewidth\": 0, \"ticks\": \"\"}, \"colorscale\": [[0.0, \"#0d0887\"], [0.1111111111111111, \"#46039f\"], [0.2222222222222222, \"#7201a8\"], [0.3333333333333333, \"#9c179e\"], [0.4444444444444444, \"#bd3786\"], [0.5555555555555556, \"#d8576b\"], [0.6666666666666666, \"#ed7953\"], [0.7777777777777778, \"#fb9f3a\"], [0.8888888888888888, \"#fdca26\"], [1.0, \"#f0f921\"]], \"type\": \"histogram2dcontour\"}], \"mesh3d\": [{\"colorbar\": {\"outlinewidth\": 0, \"ticks\": \"\"}, \"type\": \"mesh3d\"}], \"parcoords\": [{\"line\": {\"colorbar\": {\"outlinewidth\": 0, \"ticks\": \"\"}}, \"type\": \"parcoords\"}], \"pie\": [{\"automargin\": true, \"type\": \"pie\"}], \"scatter\": [{\"marker\": {\"colorbar\": {\"outlinewidth\": 0, \"ticks\": \"\"}}, \"type\": \"scatter\"}], \"scatter3d\": [{\"line\": {\"colorbar\": {\"outlinewidth\": 0, \"ticks\": \"\"}}, \"marker\": {\"colorbar\": {\"outlinewidth\": 0, \"ticks\": \"\"}}, \"type\": \"scatter3d\"}], \"scattercarpet\": [{\"marker\": {\"colorbar\": {\"outlinewidth\": 0, \"ticks\": \"\"}}, \"type\": \"scattercarpet\"}], \"scattergeo\": [{\"marker\": {\"colorbar\": {\"outlinewidth\": 0, \"ticks\": \"\"}}, \"type\": \"scattergeo\"}], \"scattergl\": [{\"marker\": {\"colorbar\": {\"outlinewidth\": 0, \"ticks\": \"\"}}, \"type\": \"scattergl\"}], \"scattermapbox\": [{\"marker\": {\"colorbar\": {\"outlinewidth\": 0, \"ticks\": \"\"}}, \"type\": \"scattermapbox\"}], \"scatterpolar\": [{\"marker\": {\"colorbar\": {\"outlinewidth\": 0, \"ticks\": \"\"}}, \"type\": \"scatterpolar\"}], \"scatterpolargl\": [{\"marker\": {\"colorbar\": {\"outlinewidth\": 0, \"ticks\": \"\"}}, \"type\": \"scatterpolargl\"}], \"scatterternary\": [{\"marker\": {\"colorbar\": {\"outlinewidth\": 0, \"ticks\": \"\"}}, \"type\": \"scatterternary\"}], \"surface\": [{\"colorbar\": {\"outlinewidth\": 0, \"ticks\": \"\"}, \"colorscale\": [[0.0, \"#0d0887\"], [0.1111111111111111, \"#46039f\"], [0.2222222222222222, \"#7201a8\"], [0.3333333333333333, \"#9c179e\"], [0.4444444444444444, \"#bd3786\"], [0.5555555555555556, \"#d8576b\"], [0.6666666666666666, \"#ed7953\"], [0.7777777777777778, \"#fb9f3a\"], [0.8888888888888888, \"#fdca26\"], [1.0, \"#f0f921\"]], \"type\": \"surface\"}], \"table\": [{\"cells\": {\"fill\": {\"color\": \"#EBF0F8\"}, \"line\": {\"color\": \"white\"}}, \"header\": {\"fill\": {\"color\": \"#C8D4E3\"}, \"line\": {\"color\": \"white\"}}, \"type\": \"table\"}]}, \"layout\": {\"annotationdefaults\": {\"arrowcolor\": \"#2a3f5f\", \"arrowhead\": 0, \"arrowwidth\": 1}, \"coloraxis\": {\"colorbar\": {\"outlinewidth\": 0, \"ticks\": \"\"}}, \"colorscale\": {\"diverging\": [[0, \"#8e0152\"], [0.1, \"#c51b7d\"], [0.2, \"#de77ae\"], [0.3, \"#f1b6da\"], [0.4, \"#fde0ef\"], [0.5, \"#f7f7f7\"], [0.6, \"#e6f5d0\"], [0.7, \"#b8e186\"], [0.8, \"#7fbc41\"], [0.9, \"#4d9221\"], [1, \"#276419\"]], \"sequential\": [[0.0, \"#0d0887\"], [0.1111111111111111, \"#46039f\"], [0.2222222222222222, \"#7201a8\"], [0.3333333333333333, \"#9c179e\"], [0.4444444444444444, \"#bd3786\"], [0.5555555555555556, \"#d8576b\"], [0.6666666666666666, \"#ed7953\"], [0.7777777777777778, \"#fb9f3a\"], [0.8888888888888888, \"#fdca26\"], [1.0, \"#f0f921\"]], \"sequentialminus\": [[0.0, \"#0d0887\"], [0.1111111111111111, \"#46039f\"], [0.2222222222222222, \"#7201a8\"], [0.3333333333333333, \"#9c179e\"], [0.4444444444444444, \"#bd3786\"], [0.5555555555555556, \"#d8576b\"], [0.6666666666666666, \"#ed7953\"], [0.7777777777777778, \"#fb9f3a\"], [0.8888888888888888, \"#fdca26\"], [1.0, \"#f0f921\"]]}, \"colorway\": [\"#636efa\", \"#EF553B\", \"#00cc96\", \"#ab63fa\", \"#FFA15A\", \"#19d3f3\", \"#FF6692\", \"#B6E880\", \"#FF97FF\", \"#FECB52\"], \"font\": {\"color\": \"#2a3f5f\"}, \"geo\": {\"bgcolor\": \"white\", \"lakecolor\": \"white\", \"landcolor\": \"#E5ECF6\", \"showlakes\": true, \"showland\": true, \"subunitcolor\": \"white\"}, \"hoverlabel\": {\"align\": \"left\"}, \"hovermode\": \"closest\", \"mapbox\": {\"style\": \"light\"}, \"paper_bgcolor\": \"white\", \"plot_bgcolor\": \"#E5ECF6\", \"polar\": {\"angularaxis\": {\"gridcolor\": \"white\", \"linecolor\": \"white\", \"ticks\": \"\"}, \"bgcolor\": \"#E5ECF6\", \"radialaxis\": {\"gridcolor\": \"white\", \"linecolor\": \"white\", \"ticks\": \"\"}}, \"scene\": {\"xaxis\": {\"backgroundcolor\": \"#E5ECF6\", \"gridcolor\": \"white\", \"gridwidth\": 2, \"linecolor\": \"white\", \"showbackground\": true, \"ticks\": \"\", \"zerolinecolor\": \"white\"}, \"yaxis\": {\"backgroundcolor\": \"#E5ECF6\", \"gridcolor\": \"white\", \"gridwidth\": 2, \"linecolor\": \"white\", \"showbackground\": true, \"ticks\": \"\", \"zerolinecolor\": \"white\"}, \"zaxis\": {\"backgroundcolor\": \"#E5ECF6\", \"gridcolor\": \"white\", \"gridwidth\": 2, \"linecolor\": \"white\", \"showbackground\": true, \"ticks\": \"\", \"zerolinecolor\": \"white\"}}, \"shapedefaults\": {\"line\": {\"color\": \"#2a3f5f\"}}, \"ternary\": {\"aaxis\": {\"gridcolor\": \"white\", \"linecolor\": \"white\", \"ticks\": \"\"}, \"baxis\": {\"gridcolor\": \"white\", \"linecolor\": \"white\", \"ticks\": \"\"}, \"bgcolor\": \"#E5ECF6\", \"caxis\": {\"gridcolor\": \"white\", \"linecolor\": \"white\", \"ticks\": \"\"}}, \"title\": {\"x\": 0.05}, \"xaxis\": {\"automargin\": true, \"gridcolor\": \"white\", \"linecolor\": \"white\", \"ticks\": \"\", \"title\": {\"standoff\": 15}, \"zerolinecolor\": \"white\", \"zerolinewidth\": 2}, \"yaxis\": {\"automargin\": true, \"gridcolor\": \"white\", \"linecolor\": \"white\", \"ticks\": \"\", \"title\": {\"standoff\": 15}, \"zerolinecolor\": \"white\", \"zerolinewidth\": 2}}}, \"title\": {\"text\": \"\\uc0c1\\ud488\\uad70\\uc758 \\ucd1d \\ucde8\\uae09\\uc561 \\ube44\\uc728\"}},                        {\"responsive\": true}                    ).then(function(){\n",
       "                            \n",
       "var gd = document.getElementById('48de863e-11f7-46f1-81c8-a838731f202e');\n",
       "var x = new MutationObserver(function (mutations, observer) {{\n",
       "        var display = window.getComputedStyle(gd).display;\n",
       "        if (!display || display === 'none') {{\n",
       "            console.log([gd, 'removed!']);\n",
       "            Plotly.purge(gd);\n",
       "            observer.disconnect();\n",
       "        }}\n",
       "}});\n",
       "\n",
       "// Listen for the removal of the full notebook cells\n",
       "var notebookContainer = gd.closest('#notebook-container');\n",
       "if (notebookContainer) {{\n",
       "    x.observe(notebookContainer, {childList: true});\n",
       "}}\n",
       "\n",
       "// Listen for the clearing of the current output cell\n",
       "var outputEl = gd.closest('.output');\n",
       "if (outputEl) {{\n",
       "    x.observe(outputEl, {childList: true});\n",
       "}}\n",
       "\n",
       "                        })                };                });            </script>        </div>"
      ]
     },
     "metadata": {},
     "output_type": "display_data"
    }
   ],
   "source": [
    "fig = px.pie(df, values='취급액', names=df.index,  title='상품군의 총 취급액 비율', color_discrete_sequence=px.colors.sequential.RdBu)\n",
    "fig.update_traces(textposition='inside', textinfo='percent+label')\n",
    "fig.show()"
   ]
  },
  {
   "cell_type": "code",
   "execution_count": 150,
   "metadata": {
    "ExecuteTime": {
     "end_time": "2020-09-26T13:23:50.798993Z",
     "start_time": "2020-09-26T13:23:50.772924Z"
    }
   },
   "outputs": [],
   "source": [
    "df = data['train']['2019'].groupby('요일').sum()"
   ]
  },
  {
   "cell_type": "code",
   "execution_count": 153,
   "metadata": {
    "ExecuteTime": {
     "end_time": "2020-09-26T13:24:27.578807Z",
     "start_time": "2020-09-26T13:24:27.533784Z"
    }
   },
   "outputs": [
    {
     "data": {
      "application/vnd.plotly.v1+json": {
       "config": {
        "plotlyServerURL": "https://plotly.com"
       },
       "data": [
        {
         "domain": {
          "x": [
           0,
           1
          ],
          "y": [
           0,
           1
          ]
         },
         "hovertemplate": "요일=%{label}<br>취급액=%{value}<extra></extra>",
         "labels": [
          "Fri",
          "Mon",
          "Sat",
          "Sun",
          "Thu",
          "Tue",
          "Wed"
         ],
         "legendgroup": "",
         "name": "",
         "showlegend": true,
         "textinfo": "percent+label",
         "textposition": "inside",
         "type": "pie",
         "values": [
          117388227000,
          114745068000,
          144278777000,
          152111655000,
          117354373000,
          120065321000,
          119410895000
         ]
        }
       ],
       "layout": {
        "legend": {
         "tracegroupgap": 0
        },
        "piecolorway": [
         "rgb(103,0,31)",
         "rgb(178,24,43)",
         "rgb(214,96,77)",
         "rgb(244,165,130)",
         "rgb(253,219,199)",
         "rgb(247,247,247)",
         "rgb(209,229,240)",
         "rgb(146,197,222)",
         "rgb(67,147,195)",
         "rgb(33,102,172)",
         "rgb(5,48,97)"
        ],
        "template": {
         "data": {
          "bar": [
           {
            "error_x": {
             "color": "#2a3f5f"
            },
            "error_y": {
             "color": "#2a3f5f"
            },
            "marker": {
             "line": {
              "color": "#E5ECF6",
              "width": 0.5
             }
            },
            "type": "bar"
           }
          ],
          "barpolar": [
           {
            "marker": {
             "line": {
              "color": "#E5ECF6",
              "width": 0.5
             }
            },
            "type": "barpolar"
           }
          ],
          "carpet": [
           {
            "aaxis": {
             "endlinecolor": "#2a3f5f",
             "gridcolor": "white",
             "linecolor": "white",
             "minorgridcolor": "white",
             "startlinecolor": "#2a3f5f"
            },
            "baxis": {
             "endlinecolor": "#2a3f5f",
             "gridcolor": "white",
             "linecolor": "white",
             "minorgridcolor": "white",
             "startlinecolor": "#2a3f5f"
            },
            "type": "carpet"
           }
          ],
          "choropleth": [
           {
            "colorbar": {
             "outlinewidth": 0,
             "ticks": ""
            },
            "type": "choropleth"
           }
          ],
          "contour": [
           {
            "colorbar": {
             "outlinewidth": 0,
             "ticks": ""
            },
            "colorscale": [
             [
              0,
              "#0d0887"
             ],
             [
              0.1111111111111111,
              "#46039f"
             ],
             [
              0.2222222222222222,
              "#7201a8"
             ],
             [
              0.3333333333333333,
              "#9c179e"
             ],
             [
              0.4444444444444444,
              "#bd3786"
             ],
             [
              0.5555555555555556,
              "#d8576b"
             ],
             [
              0.6666666666666666,
              "#ed7953"
             ],
             [
              0.7777777777777778,
              "#fb9f3a"
             ],
             [
              0.8888888888888888,
              "#fdca26"
             ],
             [
              1,
              "#f0f921"
             ]
            ],
            "type": "contour"
           }
          ],
          "contourcarpet": [
           {
            "colorbar": {
             "outlinewidth": 0,
             "ticks": ""
            },
            "type": "contourcarpet"
           }
          ],
          "heatmap": [
           {
            "colorbar": {
             "outlinewidth": 0,
             "ticks": ""
            },
            "colorscale": [
             [
              0,
              "#0d0887"
             ],
             [
              0.1111111111111111,
              "#46039f"
             ],
             [
              0.2222222222222222,
              "#7201a8"
             ],
             [
              0.3333333333333333,
              "#9c179e"
             ],
             [
              0.4444444444444444,
              "#bd3786"
             ],
             [
              0.5555555555555556,
              "#d8576b"
             ],
             [
              0.6666666666666666,
              "#ed7953"
             ],
             [
              0.7777777777777778,
              "#fb9f3a"
             ],
             [
              0.8888888888888888,
              "#fdca26"
             ],
             [
              1,
              "#f0f921"
             ]
            ],
            "type": "heatmap"
           }
          ],
          "heatmapgl": [
           {
            "colorbar": {
             "outlinewidth": 0,
             "ticks": ""
            },
            "colorscale": [
             [
              0,
              "#0d0887"
             ],
             [
              0.1111111111111111,
              "#46039f"
             ],
             [
              0.2222222222222222,
              "#7201a8"
             ],
             [
              0.3333333333333333,
              "#9c179e"
             ],
             [
              0.4444444444444444,
              "#bd3786"
             ],
             [
              0.5555555555555556,
              "#d8576b"
             ],
             [
              0.6666666666666666,
              "#ed7953"
             ],
             [
              0.7777777777777778,
              "#fb9f3a"
             ],
             [
              0.8888888888888888,
              "#fdca26"
             ],
             [
              1,
              "#f0f921"
             ]
            ],
            "type": "heatmapgl"
           }
          ],
          "histogram": [
           {
            "marker": {
             "colorbar": {
              "outlinewidth": 0,
              "ticks": ""
             }
            },
            "type": "histogram"
           }
          ],
          "histogram2d": [
           {
            "colorbar": {
             "outlinewidth": 0,
             "ticks": ""
            },
            "colorscale": [
             [
              0,
              "#0d0887"
             ],
             [
              0.1111111111111111,
              "#46039f"
             ],
             [
              0.2222222222222222,
              "#7201a8"
             ],
             [
              0.3333333333333333,
              "#9c179e"
             ],
             [
              0.4444444444444444,
              "#bd3786"
             ],
             [
              0.5555555555555556,
              "#d8576b"
             ],
             [
              0.6666666666666666,
              "#ed7953"
             ],
             [
              0.7777777777777778,
              "#fb9f3a"
             ],
             [
              0.8888888888888888,
              "#fdca26"
             ],
             [
              1,
              "#f0f921"
             ]
            ],
            "type": "histogram2d"
           }
          ],
          "histogram2dcontour": [
           {
            "colorbar": {
             "outlinewidth": 0,
             "ticks": ""
            },
            "colorscale": [
             [
              0,
              "#0d0887"
             ],
             [
              0.1111111111111111,
              "#46039f"
             ],
             [
              0.2222222222222222,
              "#7201a8"
             ],
             [
              0.3333333333333333,
              "#9c179e"
             ],
             [
              0.4444444444444444,
              "#bd3786"
             ],
             [
              0.5555555555555556,
              "#d8576b"
             ],
             [
              0.6666666666666666,
              "#ed7953"
             ],
             [
              0.7777777777777778,
              "#fb9f3a"
             ],
             [
              0.8888888888888888,
              "#fdca26"
             ],
             [
              1,
              "#f0f921"
             ]
            ],
            "type": "histogram2dcontour"
           }
          ],
          "mesh3d": [
           {
            "colorbar": {
             "outlinewidth": 0,
             "ticks": ""
            },
            "type": "mesh3d"
           }
          ],
          "parcoords": [
           {
            "line": {
             "colorbar": {
              "outlinewidth": 0,
              "ticks": ""
             }
            },
            "type": "parcoords"
           }
          ],
          "pie": [
           {
            "automargin": true,
            "type": "pie"
           }
          ],
          "scatter": [
           {
            "marker": {
             "colorbar": {
              "outlinewidth": 0,
              "ticks": ""
             }
            },
            "type": "scatter"
           }
          ],
          "scatter3d": [
           {
            "line": {
             "colorbar": {
              "outlinewidth": 0,
              "ticks": ""
             }
            },
            "marker": {
             "colorbar": {
              "outlinewidth": 0,
              "ticks": ""
             }
            },
            "type": "scatter3d"
           }
          ],
          "scattercarpet": [
           {
            "marker": {
             "colorbar": {
              "outlinewidth": 0,
              "ticks": ""
             }
            },
            "type": "scattercarpet"
           }
          ],
          "scattergeo": [
           {
            "marker": {
             "colorbar": {
              "outlinewidth": 0,
              "ticks": ""
             }
            },
            "type": "scattergeo"
           }
          ],
          "scattergl": [
           {
            "marker": {
             "colorbar": {
              "outlinewidth": 0,
              "ticks": ""
             }
            },
            "type": "scattergl"
           }
          ],
          "scattermapbox": [
           {
            "marker": {
             "colorbar": {
              "outlinewidth": 0,
              "ticks": ""
             }
            },
            "type": "scattermapbox"
           }
          ],
          "scatterpolar": [
           {
            "marker": {
             "colorbar": {
              "outlinewidth": 0,
              "ticks": ""
             }
            },
            "type": "scatterpolar"
           }
          ],
          "scatterpolargl": [
           {
            "marker": {
             "colorbar": {
              "outlinewidth": 0,
              "ticks": ""
             }
            },
            "type": "scatterpolargl"
           }
          ],
          "scatterternary": [
           {
            "marker": {
             "colorbar": {
              "outlinewidth": 0,
              "ticks": ""
             }
            },
            "type": "scatterternary"
           }
          ],
          "surface": [
           {
            "colorbar": {
             "outlinewidth": 0,
             "ticks": ""
            },
            "colorscale": [
             [
              0,
              "#0d0887"
             ],
             [
              0.1111111111111111,
              "#46039f"
             ],
             [
              0.2222222222222222,
              "#7201a8"
             ],
             [
              0.3333333333333333,
              "#9c179e"
             ],
             [
              0.4444444444444444,
              "#bd3786"
             ],
             [
              0.5555555555555556,
              "#d8576b"
             ],
             [
              0.6666666666666666,
              "#ed7953"
             ],
             [
              0.7777777777777778,
              "#fb9f3a"
             ],
             [
              0.8888888888888888,
              "#fdca26"
             ],
             [
              1,
              "#f0f921"
             ]
            ],
            "type": "surface"
           }
          ],
          "table": [
           {
            "cells": {
             "fill": {
              "color": "#EBF0F8"
             },
             "line": {
              "color": "white"
             }
            },
            "header": {
             "fill": {
              "color": "#C8D4E3"
             },
             "line": {
              "color": "white"
             }
            },
            "type": "table"
           }
          ]
         },
         "layout": {
          "annotationdefaults": {
           "arrowcolor": "#2a3f5f",
           "arrowhead": 0,
           "arrowwidth": 1
          },
          "coloraxis": {
           "colorbar": {
            "outlinewidth": 0,
            "ticks": ""
           }
          },
          "colorscale": {
           "diverging": [
            [
             0,
             "#8e0152"
            ],
            [
             0.1,
             "#c51b7d"
            ],
            [
             0.2,
             "#de77ae"
            ],
            [
             0.3,
             "#f1b6da"
            ],
            [
             0.4,
             "#fde0ef"
            ],
            [
             0.5,
             "#f7f7f7"
            ],
            [
             0.6,
             "#e6f5d0"
            ],
            [
             0.7,
             "#b8e186"
            ],
            [
             0.8,
             "#7fbc41"
            ],
            [
             0.9,
             "#4d9221"
            ],
            [
             1,
             "#276419"
            ]
           ],
           "sequential": [
            [
             0,
             "#0d0887"
            ],
            [
             0.1111111111111111,
             "#46039f"
            ],
            [
             0.2222222222222222,
             "#7201a8"
            ],
            [
             0.3333333333333333,
             "#9c179e"
            ],
            [
             0.4444444444444444,
             "#bd3786"
            ],
            [
             0.5555555555555556,
             "#d8576b"
            ],
            [
             0.6666666666666666,
             "#ed7953"
            ],
            [
             0.7777777777777778,
             "#fb9f3a"
            ],
            [
             0.8888888888888888,
             "#fdca26"
            ],
            [
             1,
             "#f0f921"
            ]
           ],
           "sequentialminus": [
            [
             0,
             "#0d0887"
            ],
            [
             0.1111111111111111,
             "#46039f"
            ],
            [
             0.2222222222222222,
             "#7201a8"
            ],
            [
             0.3333333333333333,
             "#9c179e"
            ],
            [
             0.4444444444444444,
             "#bd3786"
            ],
            [
             0.5555555555555556,
             "#d8576b"
            ],
            [
             0.6666666666666666,
             "#ed7953"
            ],
            [
             0.7777777777777778,
             "#fb9f3a"
            ],
            [
             0.8888888888888888,
             "#fdca26"
            ],
            [
             1,
             "#f0f921"
            ]
           ]
          },
          "colorway": [
           "#636efa",
           "#EF553B",
           "#00cc96",
           "#ab63fa",
           "#FFA15A",
           "#19d3f3",
           "#FF6692",
           "#B6E880",
           "#FF97FF",
           "#FECB52"
          ],
          "font": {
           "color": "#2a3f5f"
          },
          "geo": {
           "bgcolor": "white",
           "lakecolor": "white",
           "landcolor": "#E5ECF6",
           "showlakes": true,
           "showland": true,
           "subunitcolor": "white"
          },
          "hoverlabel": {
           "align": "left"
          },
          "hovermode": "closest",
          "mapbox": {
           "style": "light"
          },
          "paper_bgcolor": "white",
          "plot_bgcolor": "#E5ECF6",
          "polar": {
           "angularaxis": {
            "gridcolor": "white",
            "linecolor": "white",
            "ticks": ""
           },
           "bgcolor": "#E5ECF6",
           "radialaxis": {
            "gridcolor": "white",
            "linecolor": "white",
            "ticks": ""
           }
          },
          "scene": {
           "xaxis": {
            "backgroundcolor": "#E5ECF6",
            "gridcolor": "white",
            "gridwidth": 2,
            "linecolor": "white",
            "showbackground": true,
            "ticks": "",
            "zerolinecolor": "white"
           },
           "yaxis": {
            "backgroundcolor": "#E5ECF6",
            "gridcolor": "white",
            "gridwidth": 2,
            "linecolor": "white",
            "showbackground": true,
            "ticks": "",
            "zerolinecolor": "white"
           },
           "zaxis": {
            "backgroundcolor": "#E5ECF6",
            "gridcolor": "white",
            "gridwidth": 2,
            "linecolor": "white",
            "showbackground": true,
            "ticks": "",
            "zerolinecolor": "white"
           }
          },
          "shapedefaults": {
           "line": {
            "color": "#2a3f5f"
           }
          },
          "ternary": {
           "aaxis": {
            "gridcolor": "white",
            "linecolor": "white",
            "ticks": ""
           },
           "baxis": {
            "gridcolor": "white",
            "linecolor": "white",
            "ticks": ""
           },
           "bgcolor": "#E5ECF6",
           "caxis": {
            "gridcolor": "white",
            "linecolor": "white",
            "ticks": ""
           }
          },
          "title": {
           "x": 0.05
          },
          "xaxis": {
           "automargin": true,
           "gridcolor": "white",
           "linecolor": "white",
           "ticks": "",
           "title": {
            "standoff": 15
           },
           "zerolinecolor": "white",
           "zerolinewidth": 2
          },
          "yaxis": {
           "automargin": true,
           "gridcolor": "white",
           "linecolor": "white",
           "ticks": "",
           "title": {
            "standoff": 15
           },
           "zerolinecolor": "white",
           "zerolinewidth": 2
          }
         }
        },
        "title": {
         "text": "요일별 총 취급액 비율"
        }
       }
      },
      "text/html": [
       "<div>                            <div id=\"b5a17ca1-efea-4486-a5ea-c44d6f8fcb43\" class=\"plotly-graph-div\" style=\"height:525px; width:100%;\"></div>            <script type=\"text/javascript\">                require([\"plotly\"], function(Plotly) {                    window.PLOTLYENV=window.PLOTLYENV || {};                                    if (document.getElementById(\"b5a17ca1-efea-4486-a5ea-c44d6f8fcb43\")) {                    Plotly.newPlot(                        \"b5a17ca1-efea-4486-a5ea-c44d6f8fcb43\",                        [{\"domain\": {\"x\": [0.0, 1.0], \"y\": [0.0, 1.0]}, \"hovertemplate\": \"\\uc694\\uc77c=%{label}<br>\\ucde8\\uae09\\uc561=%{value}<extra></extra>\", \"labels\": [\"Fri\", \"Mon\", \"Sat\", \"Sun\", \"Thu\", \"Tue\", \"Wed\"], \"legendgroup\": \"\", \"name\": \"\", \"showlegend\": true, \"textinfo\": \"percent+label\", \"textposition\": \"inside\", \"type\": \"pie\", \"values\": [117388227000.0, 114745068000.0, 144278777000.0, 152111655000.0, 117354373000.0, 120065321000.0, 119410895000.0]}],                        {\"legend\": {\"tracegroupgap\": 0}, \"piecolorway\": [\"rgb(103,0,31)\", \"rgb(178,24,43)\", \"rgb(214,96,77)\", \"rgb(244,165,130)\", \"rgb(253,219,199)\", \"rgb(247,247,247)\", \"rgb(209,229,240)\", \"rgb(146,197,222)\", \"rgb(67,147,195)\", \"rgb(33,102,172)\", \"rgb(5,48,97)\"], \"template\": {\"data\": {\"bar\": [{\"error_x\": {\"color\": \"#2a3f5f\"}, \"error_y\": {\"color\": \"#2a3f5f\"}, \"marker\": {\"line\": {\"color\": \"#E5ECF6\", \"width\": 0.5}}, \"type\": \"bar\"}], \"barpolar\": [{\"marker\": {\"line\": {\"color\": \"#E5ECF6\", \"width\": 0.5}}, \"type\": \"barpolar\"}], \"carpet\": [{\"aaxis\": {\"endlinecolor\": \"#2a3f5f\", \"gridcolor\": \"white\", \"linecolor\": \"white\", \"minorgridcolor\": \"white\", \"startlinecolor\": \"#2a3f5f\"}, \"baxis\": {\"endlinecolor\": \"#2a3f5f\", \"gridcolor\": \"white\", \"linecolor\": \"white\", \"minorgridcolor\": \"white\", \"startlinecolor\": \"#2a3f5f\"}, \"type\": \"carpet\"}], \"choropleth\": [{\"colorbar\": {\"outlinewidth\": 0, \"ticks\": \"\"}, \"type\": \"choropleth\"}], \"contour\": [{\"colorbar\": {\"outlinewidth\": 0, \"ticks\": \"\"}, \"colorscale\": [[0.0, \"#0d0887\"], [0.1111111111111111, \"#46039f\"], [0.2222222222222222, \"#7201a8\"], [0.3333333333333333, \"#9c179e\"], [0.4444444444444444, \"#bd3786\"], [0.5555555555555556, \"#d8576b\"], [0.6666666666666666, \"#ed7953\"], [0.7777777777777778, \"#fb9f3a\"], [0.8888888888888888, \"#fdca26\"], [1.0, \"#f0f921\"]], \"type\": \"contour\"}], \"contourcarpet\": [{\"colorbar\": {\"outlinewidth\": 0, \"ticks\": \"\"}, \"type\": \"contourcarpet\"}], \"heatmap\": [{\"colorbar\": {\"outlinewidth\": 0, \"ticks\": \"\"}, \"colorscale\": [[0.0, \"#0d0887\"], [0.1111111111111111, \"#46039f\"], [0.2222222222222222, \"#7201a8\"], [0.3333333333333333, \"#9c179e\"], [0.4444444444444444, \"#bd3786\"], [0.5555555555555556, \"#d8576b\"], [0.6666666666666666, \"#ed7953\"], [0.7777777777777778, \"#fb9f3a\"], [0.8888888888888888, \"#fdca26\"], [1.0, \"#f0f921\"]], \"type\": \"heatmap\"}], \"heatmapgl\": [{\"colorbar\": {\"outlinewidth\": 0, \"ticks\": \"\"}, \"colorscale\": [[0.0, \"#0d0887\"], [0.1111111111111111, \"#46039f\"], [0.2222222222222222, \"#7201a8\"], [0.3333333333333333, \"#9c179e\"], [0.4444444444444444, \"#bd3786\"], [0.5555555555555556, \"#d8576b\"], [0.6666666666666666, \"#ed7953\"], [0.7777777777777778, \"#fb9f3a\"], [0.8888888888888888, \"#fdca26\"], [1.0, \"#f0f921\"]], \"type\": \"heatmapgl\"}], \"histogram\": [{\"marker\": {\"colorbar\": {\"outlinewidth\": 0, \"ticks\": \"\"}}, \"type\": \"histogram\"}], \"histogram2d\": [{\"colorbar\": {\"outlinewidth\": 0, \"ticks\": \"\"}, \"colorscale\": [[0.0, \"#0d0887\"], [0.1111111111111111, \"#46039f\"], [0.2222222222222222, \"#7201a8\"], [0.3333333333333333, \"#9c179e\"], [0.4444444444444444, \"#bd3786\"], [0.5555555555555556, \"#d8576b\"], [0.6666666666666666, \"#ed7953\"], [0.7777777777777778, \"#fb9f3a\"], [0.8888888888888888, \"#fdca26\"], [1.0, \"#f0f921\"]], \"type\": \"histogram2d\"}], \"histogram2dcontour\": [{\"colorbar\": {\"outlinewidth\": 0, \"ticks\": \"\"}, \"colorscale\": [[0.0, \"#0d0887\"], [0.1111111111111111, \"#46039f\"], [0.2222222222222222, \"#7201a8\"], [0.3333333333333333, \"#9c179e\"], [0.4444444444444444, \"#bd3786\"], [0.5555555555555556, \"#d8576b\"], [0.6666666666666666, \"#ed7953\"], [0.7777777777777778, \"#fb9f3a\"], [0.8888888888888888, \"#fdca26\"], [1.0, \"#f0f921\"]], \"type\": \"histogram2dcontour\"}], \"mesh3d\": [{\"colorbar\": {\"outlinewidth\": 0, \"ticks\": \"\"}, \"type\": \"mesh3d\"}], \"parcoords\": [{\"line\": {\"colorbar\": {\"outlinewidth\": 0, \"ticks\": \"\"}}, \"type\": \"parcoords\"}], \"pie\": [{\"automargin\": true, \"type\": \"pie\"}], \"scatter\": [{\"marker\": {\"colorbar\": {\"outlinewidth\": 0, \"ticks\": \"\"}}, \"type\": \"scatter\"}], \"scatter3d\": [{\"line\": {\"colorbar\": {\"outlinewidth\": 0, \"ticks\": \"\"}}, \"marker\": {\"colorbar\": {\"outlinewidth\": 0, \"ticks\": \"\"}}, \"type\": \"scatter3d\"}], \"scattercarpet\": [{\"marker\": {\"colorbar\": {\"outlinewidth\": 0, \"ticks\": \"\"}}, \"type\": \"scattercarpet\"}], \"scattergeo\": [{\"marker\": {\"colorbar\": {\"outlinewidth\": 0, \"ticks\": \"\"}}, \"type\": \"scattergeo\"}], \"scattergl\": [{\"marker\": {\"colorbar\": {\"outlinewidth\": 0, \"ticks\": \"\"}}, \"type\": \"scattergl\"}], \"scattermapbox\": [{\"marker\": {\"colorbar\": {\"outlinewidth\": 0, \"ticks\": \"\"}}, \"type\": \"scattermapbox\"}], \"scatterpolar\": [{\"marker\": {\"colorbar\": {\"outlinewidth\": 0, \"ticks\": \"\"}}, \"type\": \"scatterpolar\"}], \"scatterpolargl\": [{\"marker\": {\"colorbar\": {\"outlinewidth\": 0, \"ticks\": \"\"}}, \"type\": \"scatterpolargl\"}], \"scatterternary\": [{\"marker\": {\"colorbar\": {\"outlinewidth\": 0, \"ticks\": \"\"}}, \"type\": \"scatterternary\"}], \"surface\": [{\"colorbar\": {\"outlinewidth\": 0, \"ticks\": \"\"}, \"colorscale\": [[0.0, \"#0d0887\"], [0.1111111111111111, \"#46039f\"], [0.2222222222222222, \"#7201a8\"], [0.3333333333333333, \"#9c179e\"], [0.4444444444444444, \"#bd3786\"], [0.5555555555555556, \"#d8576b\"], [0.6666666666666666, \"#ed7953\"], [0.7777777777777778, \"#fb9f3a\"], [0.8888888888888888, \"#fdca26\"], [1.0, \"#f0f921\"]], \"type\": \"surface\"}], \"table\": [{\"cells\": {\"fill\": {\"color\": \"#EBF0F8\"}, \"line\": {\"color\": \"white\"}}, \"header\": {\"fill\": {\"color\": \"#C8D4E3\"}, \"line\": {\"color\": \"white\"}}, \"type\": \"table\"}]}, \"layout\": {\"annotationdefaults\": {\"arrowcolor\": \"#2a3f5f\", \"arrowhead\": 0, \"arrowwidth\": 1}, \"coloraxis\": {\"colorbar\": {\"outlinewidth\": 0, \"ticks\": \"\"}}, \"colorscale\": {\"diverging\": [[0, \"#8e0152\"], [0.1, \"#c51b7d\"], [0.2, \"#de77ae\"], [0.3, \"#f1b6da\"], [0.4, \"#fde0ef\"], [0.5, \"#f7f7f7\"], [0.6, \"#e6f5d0\"], [0.7, \"#b8e186\"], [0.8, \"#7fbc41\"], [0.9, \"#4d9221\"], [1, \"#276419\"]], \"sequential\": [[0.0, \"#0d0887\"], [0.1111111111111111, \"#46039f\"], [0.2222222222222222, \"#7201a8\"], [0.3333333333333333, \"#9c179e\"], [0.4444444444444444, \"#bd3786\"], [0.5555555555555556, \"#d8576b\"], [0.6666666666666666, \"#ed7953\"], [0.7777777777777778, \"#fb9f3a\"], [0.8888888888888888, \"#fdca26\"], [1.0, \"#f0f921\"]], \"sequentialminus\": [[0.0, \"#0d0887\"], [0.1111111111111111, \"#46039f\"], [0.2222222222222222, \"#7201a8\"], [0.3333333333333333, \"#9c179e\"], [0.4444444444444444, \"#bd3786\"], [0.5555555555555556, \"#d8576b\"], [0.6666666666666666, \"#ed7953\"], [0.7777777777777778, \"#fb9f3a\"], [0.8888888888888888, \"#fdca26\"], [1.0, \"#f0f921\"]]}, \"colorway\": [\"#636efa\", \"#EF553B\", \"#00cc96\", \"#ab63fa\", \"#FFA15A\", \"#19d3f3\", \"#FF6692\", \"#B6E880\", \"#FF97FF\", \"#FECB52\"], \"font\": {\"color\": \"#2a3f5f\"}, \"geo\": {\"bgcolor\": \"white\", \"lakecolor\": \"white\", \"landcolor\": \"#E5ECF6\", \"showlakes\": true, \"showland\": true, \"subunitcolor\": \"white\"}, \"hoverlabel\": {\"align\": \"left\"}, \"hovermode\": \"closest\", \"mapbox\": {\"style\": \"light\"}, \"paper_bgcolor\": \"white\", \"plot_bgcolor\": \"#E5ECF6\", \"polar\": {\"angularaxis\": {\"gridcolor\": \"white\", \"linecolor\": \"white\", \"ticks\": \"\"}, \"bgcolor\": \"#E5ECF6\", \"radialaxis\": {\"gridcolor\": \"white\", \"linecolor\": \"white\", \"ticks\": \"\"}}, \"scene\": {\"xaxis\": {\"backgroundcolor\": \"#E5ECF6\", \"gridcolor\": \"white\", \"gridwidth\": 2, \"linecolor\": \"white\", \"showbackground\": true, \"ticks\": \"\", \"zerolinecolor\": \"white\"}, \"yaxis\": {\"backgroundcolor\": \"#E5ECF6\", \"gridcolor\": \"white\", \"gridwidth\": 2, \"linecolor\": \"white\", \"showbackground\": true, \"ticks\": \"\", \"zerolinecolor\": \"white\"}, \"zaxis\": {\"backgroundcolor\": \"#E5ECF6\", \"gridcolor\": \"white\", \"gridwidth\": 2, \"linecolor\": \"white\", \"showbackground\": true, \"ticks\": \"\", \"zerolinecolor\": \"white\"}}, \"shapedefaults\": {\"line\": {\"color\": \"#2a3f5f\"}}, \"ternary\": {\"aaxis\": {\"gridcolor\": \"white\", \"linecolor\": \"white\", \"ticks\": \"\"}, \"baxis\": {\"gridcolor\": \"white\", \"linecolor\": \"white\", \"ticks\": \"\"}, \"bgcolor\": \"#E5ECF6\", \"caxis\": {\"gridcolor\": \"white\", \"linecolor\": \"white\", \"ticks\": \"\"}}, \"title\": {\"x\": 0.05}, \"xaxis\": {\"automargin\": true, \"gridcolor\": \"white\", \"linecolor\": \"white\", \"ticks\": \"\", \"title\": {\"standoff\": 15}, \"zerolinecolor\": \"white\", \"zerolinewidth\": 2}, \"yaxis\": {\"automargin\": true, \"gridcolor\": \"white\", \"linecolor\": \"white\", \"ticks\": \"\", \"title\": {\"standoff\": 15}, \"zerolinecolor\": \"white\", \"zerolinewidth\": 2}}}, \"title\": {\"text\": \"\\uc694\\uc77c\\ubcc4 \\ucd1d \\ucde8\\uae09\\uc561 \\ube44\\uc728\"}},                        {\"responsive\": true}                    ).then(function(){\n",
       "                            \n",
       "var gd = document.getElementById('b5a17ca1-efea-4486-a5ea-c44d6f8fcb43');\n",
       "var x = new MutationObserver(function (mutations, observer) {{\n",
       "        var display = window.getComputedStyle(gd).display;\n",
       "        if (!display || display === 'none') {{\n",
       "            console.log([gd, 'removed!']);\n",
       "            Plotly.purge(gd);\n",
       "            observer.disconnect();\n",
       "        }}\n",
       "}});\n",
       "\n",
       "// Listen for the removal of the full notebook cells\n",
       "var notebookContainer = gd.closest('#notebook-container');\n",
       "if (notebookContainer) {{\n",
       "    x.observe(notebookContainer, {childList: true});\n",
       "}}\n",
       "\n",
       "// Listen for the clearing of the current output cell\n",
       "var outputEl = gd.closest('.output');\n",
       "if (outputEl) {{\n",
       "    x.observe(outputEl, {childList: true});\n",
       "}}\n",
       "\n",
       "                        })                };                });            </script>        </div>"
      ]
     },
     "metadata": {},
     "output_type": "display_data"
    }
   ],
   "source": [
    "fig = px.pie(df, values='취급액', names=df.index,  title='요일별 총 취급액 비율',\n",
    "             color_discrete_sequence=px.colors.sequential.RdBu)\n",
    "fig.update_traces(textposition='inside', textinfo='percent+label')\n",
    "fig.show()"
   ]
  },
  {
   "cell_type": "code",
   "execution_count": 149,
   "metadata": {
    "ExecuteTime": {
     "end_time": "2020-09-26T13:23:36.911294Z",
     "start_time": "2020-09-26T13:23:36.724358Z"
    }
   },
   "outputs": [
    {
     "data": {
      "image/png": "[encoded data removed]",
      "text/plain": [
       "<Figure size 1008x720 with 1 Axes>"
      ]
     },
     "metadata": {},
     "output_type": "display_data"
    }
   ],
   "source": [
    "weekday_group = data['train']['2019'].groupby('요일').sum()\n",
    "weekday_group = weekday_group.T.loc['취급액',['Mon','Tue','Wed','Thu','Fri','Sat','Sun']]\n",
    "weekday_group.plot(kind='bar', figsize=(14, 10)) #0: Monday ~ 6: Sunday\n",
    "plt.axhline(y = np.mean(weekday_group), color = 'red', ls = '--')\n",
    "plt.ylim(weekday_group.min()*0.9, weekday_group.max()*1.1)\n",
    "plt.show()"
   ]
  },
  {
   "cell_type": "code",
   "execution_count": 141,
   "metadata": {
    "ExecuteTime": {
     "end_time": "2020-09-26T13:14:25.909290Z",
     "start_time": "2020-09-26T13:14:25.624646Z"
    }
   },
   "outputs": [
    {
     "data": {
      "image/png": "[encoded data removed]",
      "text/plain": [
       "<Figure size 1008x720 with 1 Axes>"
      ]
     },
     "metadata": {},
     "output_type": "display_data"
    }
   ],
   "source": [
    "hour_group = data['train']['2019'].groupby('시').sum()\n",
    "hour_group['취급액'].plot(kind='bar', figsize=(14, 10))\n",
    "plt.axhline(y = np.mean(hour_group['취급액']), color = 'red', ls = '--')\n",
    "plt.ylim(hour_group['취급액'].min()*0.9, hour_group['취급액'].max()*1.1)\n",
    "plt.show()"
   ]
  },
  {
   "cell_type": "code",
   "execution_count": 154,
   "metadata": {},
   "outputs": [
    {
     "data": {
      "image/png": "[encoded data removed]",
      "text/plain": [
       "<Figure size 1008x720 with 1 Axes>"
      ]
     },
     "metadata": {},
     "output_type": "display_data"
    }
   ],
   "source": [
    "import matplotlib\n",
    "matplotlib.font_manager._rebuild()\n",
    "with plt.xkcd():\n",
    "    month_group = data['train']['2019'].groupby('월').sum()\n",
    "    month_group['취급액'].plot(kind='bar', figsize=(14, 10))\n",
    "    plt.axhline(y = np.mean(month_group.취급액), color = 'red', ls = '--')\n",
    "    sns.despine()\n",
    "    plt.ylim(month_group['취급액'].min()*0.9, month_group['취급액'].max()*1.1)\n",
    "    plt.show()"
   ]
  },
  {
   "cell_type": "code",
   "execution_count": null,
   "metadata": {},
   "outputs": [],
   "source": []
  }
 ],
 "metadata": {
  "kernelspec": {
   "display_name": "Python 3",
   "language": "python",
   "name": "python3"
  },
  "language_info": {
   "codemirror_mode": {
    "name": "ipython",
    "version": 3
   },
   "file_extension": ".py",
   "mimetype": "text/x-python",
   "name": "python",
   "nbconvert_exporter": "python",
   "pygments_lexer": "ipython3",
   "version": "3.8.3"
  },
  "toc": {
   "base_numbering": 1,
   "nav_menu": {},
   "number_sections": true,
   "sideBar": true,
   "skip_h1_title": false,
   "title_cell": "Table of Contents",
   "title_sidebar": "Contents",
   "toc_cell": false,
   "toc_position": {},
   "toc_section_display": true,
   "toc_window_display": false
  }
 },
 "nbformat": 4,
 "nbformat_minor": 4
}

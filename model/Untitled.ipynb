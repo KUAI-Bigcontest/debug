{
 "cells": [
  {
   "cell_type": "code",
   "execution_count": 58,
   "metadata": {},
   "outputs": [],
   "source": [
    "from datetime import datetime\n",
    "import matplotlib.pyplot as plt\n",
    "\n",
    "import numpy as np\n",
    "import pandas as pd\n",
    "from tqdm import tqdm_notebook\n",
    "\n",
    "from sklearn.model_selection import train_test_split\n",
    "from sklearn.preprocessing import MinMaxScaler\n",
    "\n",
    "import torch\n",
    "import torch.nn as nn"
   ]
  },
  {
   "cell_type": "code",
   "execution_count": 38,
   "metadata": {},
   "outputs": [],
   "source": [
    "class DeepNSNet(nn.Module):\n",
    "    def __init__(self):\n",
    "        super(DeepNSNet, self).__init__()\n",
    "        self.input_length = 45\n",
    "        self.fc1 = nn.Linear(self.input_length, 64)  # 6*6 from image dimension\n",
    "        self.fc2 = nn.Linear(64, 32)\n",
    "        self.fc3 = nn.Linear(32, 16)\n",
    "        self.fc4 = nn.Linear(16, 8)\n",
    "        self.fc5 = nn.Linear(8, 1)\n",
    "        \n",
    "        self.relu = nn.LeakyReLU()\n",
    "\n",
    "    def forward(self, x):\n",
    "        x = self.relu(self.fc1(x))\n",
    "        x = self.relu(self.fc2(x))\n",
    "        x = self.relu(self.fc3(x))\n",
    "        x = self.relu(self.fc4(x))\n",
    "        output = self.fc5(x)\n",
    "        return output"
   ]
  },
  {
   "cell_type": "code",
   "execution_count": 39,
   "metadata": {},
   "outputs": [],
   "source": [
    "model = DeepNSNet()\n",
    "\n",
    "model = torch.load('./DeepNSNet_EPOCH_059561_MAPE_0.5131.pth')\n",
    "model.eval()"
   ]
  },
  {
   "cell_type": "code",
   "execution_count": 53,
   "metadata": {},
   "outputs": [],
   "source": [
    "data = {}\n",
    "data['train'] = pd.read_csv('../train_preprocess.csv')\n",
    "data['test'] = pd.read_csv('../test_preprocess.csv')"
   ]
  },
  {
   "cell_type": "code",
   "execution_count": 67,
   "metadata": {},
   "outputs": [
    {
     "data": {
      "text/plain": [
       "([<matplotlib.axis.XTick at 0x1a4c752bf48>,\n",
       "  <matplotlib.axis.XTick at 0x1a4c7b062c8>,\n",
       "  <matplotlib.axis.XTick at 0x1a4c7b07b88>,\n",
       "  <matplotlib.axis.XTick at 0x1a4c7dc3248>,\n",
       "  <matplotlib.axis.XTick at 0x1a4c7dc3788>,\n",
       "  <matplotlib.axis.XTick at 0x1a4c7dc3d08>,\n",
       "  <matplotlib.axis.XTick at 0x1a4c7dc3e48>,\n",
       "  <matplotlib.axis.XTick at 0x1a4c7dc65c8>,\n",
       "  <matplotlib.axis.XTick at 0x1a4c7dcb208>,\n",
       "  <matplotlib.axis.XTick at 0x1a4c7b03e48>,\n",
       "  <matplotlib.axis.XTick at 0x1a4c7dd0a88>,\n",
       "  <matplotlib.axis.XTick at 0x1a4c7dd32c8>,\n",
       "  <matplotlib.axis.XTick at 0x1a4c7dd3b08>,\n",
       "  <matplotlib.axis.XTick at 0x1a4c7dd7608>,\n",
       "  <matplotlib.axis.XTick at 0x1a4c7dda208>,\n",
       "  <matplotlib.axis.XTick at 0x1a4c7ddacc8>,\n",
       "  <matplotlib.axis.XTick at 0x1a4c7dd7fc8>,\n",
       "  <matplotlib.axis.XTick at 0x1a4c7dc6e08>,\n",
       "  <matplotlib.axis.XTick at 0x1a4c7ddea08>,\n",
       "  <matplotlib.axis.XTick at 0x1a4c7de0408>,\n",
       "  <matplotlib.axis.XTick at 0x1a4c7de0c48>,\n",
       "  <matplotlib.axis.XTick at 0x1a4c7de49c8>,\n",
       "  <matplotlib.axis.XTick at 0x1a4c7de8548>,\n",
       "  <matplotlib.axis.XTick at 0x1a4c7dec148>,\n",
       "  <matplotlib.axis.XTick at 0x1a4c7decc08>,\n",
       "  <matplotlib.axis.XTick at 0x1a4c7de4108>,\n",
       "  <matplotlib.axis.XTick at 0x1a4c7ddeac8>,\n",
       "  <matplotlib.axis.XTick at 0x1a4c7defc48>,\n",
       "  <matplotlib.axis.XTick at 0x1a4c7df3648>,\n",
       "  <matplotlib.axis.XTick at 0x1a4c7df72c8>],\n",
       " <a list of 30 Text xticklabel objects>)"
      ]
     },
     "execution_count": 67,
     "metadata": {},
     "output_type": "execute_result"
    },
    {
     "name": "stderr",
     "output_type": "stream",
     "text": [
      "C:\\Users\\pha\\anaconda3\\envs\\1pha\\lib\\site-packages\\matplotlib\\backends\\backend_agg.py:211: RuntimeWarning: Glyph 45800 missing from current font.\n",
      "  font.set_text(s, 0.0, flags=flags)\n",
      "C:\\Users\\pha\\anaconda3\\envs\\1pha\\lib\\site-packages\\matplotlib\\backends\\backend_agg.py:211: RuntimeWarning: Glyph 50948 missing from current font.\n",
      "  font.set_text(s, 0.0, flags=flags)\n",
      "C:\\Users\\pha\\anaconda3\\envs\\1pha\\lib\\site-packages\\matplotlib\\backends\\backend_agg.py:211: RuntimeWarning: Glyph 51068 missing from current font.\n",
      "  font.set_text(s, 0.0, flags=flags)\n",
      "C:\\Users\\pha\\anaconda3\\envs\\1pha\\lib\\site-packages\\matplotlib\\backends\\backend_agg.py:211: RuntimeWarning: Glyph 50613 missing from current font.\n",
      "  font.set_text(s, 0.0, flags=flags)\n",
      "C:\\Users\\pha\\anaconda3\\envs\\1pha\\lib\\site-packages\\matplotlib\\backends\\backend_agg.py:211: RuntimeWarning: Glyph 50896 missing from current font.\n",
      "  font.set_text(s, 0.0, flags=flags)\n",
      "C:\\Users\\pha\\anaconda3\\envs\\1pha\\lib\\site-packages\\matplotlib\\backends\\backend_agg.py:180: RuntimeWarning: Glyph 45800 missing from current font.\n",
      "  font.set_text(s, 0, flags=flags)\n",
      "C:\\Users\\pha\\anaconda3\\envs\\1pha\\lib\\site-packages\\matplotlib\\backends\\backend_agg.py:180: RuntimeWarning: Glyph 50948 missing from current font.\n",
      "  font.set_text(s, 0, flags=flags)\n",
      "C:\\Users\\pha\\anaconda3\\envs\\1pha\\lib\\site-packages\\matplotlib\\backends\\backend_agg.py:180: RuntimeWarning: Glyph 51068 missing from current font.\n",
      "  font.set_text(s, 0, flags=flags)\n",
      "C:\\Users\\pha\\anaconda3\\envs\\1pha\\lib\\site-packages\\matplotlib\\backends\\backend_agg.py:180: RuntimeWarning: Glyph 50613 missing from current font.\n",
      "  font.set_text(s, 0, flags=flags)\n",
      "C:\\Users\\pha\\anaconda3\\envs\\1pha\\lib\\site-packages\\matplotlib\\backends\\backend_agg.py:180: RuntimeWarning: Glyph 50896 missing from current font.\n",
      "  font.set_text(s, 0, flags=flags)\n"
     ]
    },
    {
     "data": {
      "image/png": "[encoded data removed]",
      "text/plain": [
       "<Figure size 1008x720 with 1 Axes>"
      ]
     },
     "metadata": {
      "needs_background": "light"
     },
     "output_type": "display_data"
    }
   ],
   "source": [
    "plt.figure(figsize=((14, 10)))\n",
    "data['train'].취급액.plot(kind='hist', bins=20)\n",
    "plt.xlabel('단위: 일 억원')\n",
    "plt.xticks(np.arange(0, 3e+8, step=1e+7), [f'{x/1e+8:.1f}' for x in np.arange(0,3e+8, step=1e+7)])"
   ]
  },
  {
   "cell_type": "code",
   "execution_count": 69,
   "metadata": {},
   "outputs": [
    {
     "data": {
      "text/plain": [
       "([<matplotlib.axis.XTick at 0x1a4c7543208>,\n",
       "  <matplotlib.axis.XTick at 0x1a4c7e47c08>,\n",
       "  <matplotlib.axis.XTick at 0x1a4c7e51088>,\n",
       "  <matplotlib.axis.XTick at 0x1a4c7ea5888>,\n",
       "  <matplotlib.axis.XTick at 0x1a4c7ea5c48>,\n",
       "  <matplotlib.axis.XTick at 0x1a4c7ea5508>,\n",
       "  <matplotlib.axis.XTick at 0x1a4c7ea9108>,\n",
       "  <matplotlib.axis.XTick at 0x1a4c7e477c8>,\n",
       "  <matplotlib.axis.XTick at 0x1a4c7eaddc8>,\n",
       "  <matplotlib.axis.XTick at 0x1a4c7eb2688>,\n",
       "  <matplotlib.axis.XTick at 0x1a4c7eb2e88>,\n",
       "  <matplotlib.axis.XTick at 0x1a4c7eb5808>,\n",
       "  <matplotlib.axis.XTick at 0x1a4c7eba208>,\n",
       "  <matplotlib.axis.XTick at 0x1a4c7ebac88>,\n",
       "  <matplotlib.axis.XTick at 0x1a4c7ebd808>,\n",
       "  <matplotlib.axis.XTick at 0x1a4c7eb5908>,\n",
       "  <matplotlib.axis.XTick at 0x1a4c7eadc08>,\n",
       "  <matplotlib.axis.XTick at 0x1a4c92f1508>,\n",
       "  <matplotlib.axis.XTick at 0x1a4c92f42c8>,\n",
       "  <matplotlib.axis.XTick at 0x1a4c92f4a08>,\n",
       "  <matplotlib.axis.XTick at 0x1a4c92f7608>,\n",
       "  <matplotlib.axis.XTick at 0x1a4c92fc1c8>,\n",
       "  <matplotlib.axis.XTick at 0x1a4c92fcc88>,\n",
       "  <matplotlib.axis.XTick at 0x1a4c92ff808>,\n",
       "  <matplotlib.axis.XTick at 0x1a4c9303388>,\n",
       "  <matplotlib.axis.XTick at 0x1a4c92fcb08>,\n",
       "  <matplotlib.axis.XTick at 0x1a4c9303488>,\n",
       "  <matplotlib.axis.XTick at 0x1a4c9307288>,\n",
       "  <matplotlib.axis.XTick at 0x1a4c9307c48>,\n",
       "  <matplotlib.axis.XTick at 0x1a4c9309848>],\n",
       " <a list of 30 Text xticklabel objects>)"
      ]
     },
     "execution_count": 69,
     "metadata": {},
     "output_type": "execute_result"
    },
    {
     "name": "stderr",
     "output_type": "stream",
     "text": [
      "C:\\Users\\pha\\anaconda3\\envs\\1pha\\lib\\site-packages\\matplotlib\\backends\\backend_agg.py:211: RuntimeWarning: Glyph 45800 missing from current font.\n",
      "  font.set_text(s, 0.0, flags=flags)\n",
      "C:\\Users\\pha\\anaconda3\\envs\\1pha\\lib\\site-packages\\matplotlib\\backends\\backend_agg.py:211: RuntimeWarning: Glyph 50948 missing from current font.\n",
      "  font.set_text(s, 0.0, flags=flags)\n",
      "C:\\Users\\pha\\anaconda3\\envs\\1pha\\lib\\site-packages\\matplotlib\\backends\\backend_agg.py:211: RuntimeWarning: Glyph 51068 missing from current font.\n",
      "  font.set_text(s, 0.0, flags=flags)\n",
      "C:\\Users\\pha\\anaconda3\\envs\\1pha\\lib\\site-packages\\matplotlib\\backends\\backend_agg.py:211: RuntimeWarning: Glyph 50613 missing from current font.\n",
      "  font.set_text(s, 0.0, flags=flags)\n",
      "C:\\Users\\pha\\anaconda3\\envs\\1pha\\lib\\site-packages\\matplotlib\\backends\\backend_agg.py:211: RuntimeWarning: Glyph 50896 missing from current font.\n",
      "  font.set_text(s, 0.0, flags=flags)\n",
      "C:\\Users\\pha\\anaconda3\\envs\\1pha\\lib\\site-packages\\matplotlib\\backends\\backend_agg.py:180: RuntimeWarning: Glyph 45800 missing from current font.\n",
      "  font.set_text(s, 0, flags=flags)\n",
      "C:\\Users\\pha\\anaconda3\\envs\\1pha\\lib\\site-packages\\matplotlib\\backends\\backend_agg.py:180: RuntimeWarning: Glyph 50948 missing from current font.\n",
      "  font.set_text(s, 0, flags=flags)\n",
      "C:\\Users\\pha\\anaconda3\\envs\\1pha\\lib\\site-packages\\matplotlib\\backends\\backend_agg.py:180: RuntimeWarning: Glyph 51068 missing from current font.\n",
      "  font.set_text(s, 0, flags=flags)\n",
      "C:\\Users\\pha\\anaconda3\\envs\\1pha\\lib\\site-packages\\matplotlib\\backends\\backend_agg.py:180: RuntimeWarning: Glyph 50613 missing from current font.\n",
      "  font.set_text(s, 0, flags=flags)\n",
      "C:\\Users\\pha\\anaconda3\\envs\\1pha\\lib\\site-packages\\matplotlib\\backends\\backend_agg.py:180: RuntimeWarning: Glyph 50896 missing from current font.\n",
      "  font.set_text(s, 0, flags=flags)\n"
     ]
    },
    {
     "data": {
      "image/png": "[encoded data removed]",
      "text/plain": [
       "<Figure size 1008x720 with 1 Axes>"
      ]
     },
     "metadata": {
      "needs_background": "light"
     },
     "output_type": "display_data"
    }
   ],
   "source": [
    "plt.figure(figsize=((14, 10)))\n",
    "submission.취급액.plot(kind='hist', bins=20)\n",
    "plt.xlabel('단위: 일 억원')\n",
    "plt.xticks(np.arange(0, 3e+8, step=1e+7), [f'{x/1e+8:.1f}' for x in np.arange(0,3e+8, step=1e+7)])"
   ]
  },
  {
   "cell_type": "code",
   "execution_count": 44,
   "metadata": {},
   "outputs": [],
   "source": [
    "TEST_SIZE=.2\n",
    "SCALED_UNIT = 10000000\n",
    "RANDOM_STATE=42\n",
    "X_train, X_valid, y_train, y_valid = train_test_split(data['train'].drop('취급액', axis=1),\n",
    "                                                      data['train']['취급액'] / SCALED_UNIT,\n",
    "                                                      shuffle=True,\n",
    "                                                      test_size=TEST_SIZE,\n",
    "                                                      random_state=RANDOM_STATE)"
   ]
  },
  {
   "cell_type": "code",
   "execution_count": 46,
   "metadata": {},
   "outputs": [
    {
     "data": {
      "text/plain": [
       "MinMaxScaler(copy=True, feature_range=(0, 1))"
      ]
     },
     "execution_count": 46,
     "metadata": {},
     "output_type": "execute_result"
    }
   ],
   "source": [
    "mms = MinMaxScaler()\n",
    "mms.fit(X_train)"
   ]
  },
  {
   "cell_type": "code",
   "execution_count": 47,
   "metadata": {},
   "outputs": [
    {
     "data": {
      "text/html": [
       "<div>\n",
       "<style scoped>\n",
       "    .dataframe tbody tr th:only-of-type {\n",
       "        vertical-align: middle;\n",
       "    }\n",
       "\n",
       "    .dataframe tbody tr th {\n",
       "        vertical-align: top;\n",
       "    }\n",
       "\n",
       "    .dataframe thead th {\n",
       "        text-align: right;\n",
       "    }\n",
       "</style>\n",
       "<table border=\"1\" class=\"dataframe\">\n",
       "  <thead>\n",
       "    <tr style=\"text-align: right;\">\n",
       "      <th></th>\n",
       "      <th>노출(분)</th>\n",
       "      <th>마더코드</th>\n",
       "      <th>상품코드</th>\n",
       "      <th>상품명</th>\n",
       "      <th>상품군</th>\n",
       "      <th>판매단가</th>\n",
       "      <th>취급액</th>\n",
       "    </tr>\n",
       "    <tr>\n",
       "      <th>방송일시</th>\n",
       "      <th></th>\n",
       "      <th></th>\n",
       "      <th></th>\n",
       "      <th></th>\n",
       "      <th></th>\n",
       "      <th></th>\n",
       "      <th></th>\n",
       "    </tr>\n",
       "  </thead>\n",
       "  <tbody>\n",
       "    <tr>\n",
       "      <th>2020-06-01 06:20:00</th>\n",
       "      <td>20.000000</td>\n",
       "      <td>100650</td>\n",
       "      <td>201971</td>\n",
       "      <td>잭필드 남성  반팔셔츠 4종</td>\n",
       "      <td>의류</td>\n",
       "      <td>59800</td>\n",
       "      <td>NaN</td>\n",
       "    </tr>\n",
       "    <tr>\n",
       "      <th>2020-06-01 06:40:00</th>\n",
       "      <td>20.000000</td>\n",
       "      <td>100650</td>\n",
       "      <td>201971</td>\n",
       "      <td>잭필드 남성  반팔셔츠 4종</td>\n",
       "      <td>의류</td>\n",
       "      <td>59800</td>\n",
       "      <td>NaN</td>\n",
       "    </tr>\n",
       "    <tr>\n",
       "      <th>2020-06-01 07:00:00</th>\n",
       "      <td>20.000000</td>\n",
       "      <td>100650</td>\n",
       "      <td>201971</td>\n",
       "      <td>잭필드 남성  반팔셔츠 4종</td>\n",
       "      <td>의류</td>\n",
       "      <td>59800</td>\n",
       "      <td>NaN</td>\n",
       "    </tr>\n",
       "    <tr>\n",
       "      <th>2020-06-01 07:20:00</th>\n",
       "      <td>20.000000</td>\n",
       "      <td>100445</td>\n",
       "      <td>202278</td>\n",
       "      <td>쿠미투니카 쿨 레이시 란쥬쉐이퍼&amp;팬티</td>\n",
       "      <td>속옷</td>\n",
       "      <td>69900</td>\n",
       "      <td>NaN</td>\n",
       "    </tr>\n",
       "    <tr>\n",
       "      <th>2020-06-01 07:40:00</th>\n",
       "      <td>20.000000</td>\n",
       "      <td>100445</td>\n",
       "      <td>202278</td>\n",
       "      <td>쿠미투니카 쿨 레이시 란쥬쉐이퍼&amp;팬티</td>\n",
       "      <td>속옷</td>\n",
       "      <td>69900</td>\n",
       "      <td>NaN</td>\n",
       "    </tr>\n",
       "    <tr>\n",
       "      <th>...</th>\n",
       "      <td>...</td>\n",
       "      <td>...</td>\n",
       "      <td>...</td>\n",
       "      <td>...</td>\n",
       "      <td>...</td>\n",
       "      <td>...</td>\n",
       "      <td>...</td>\n",
       "    </tr>\n",
       "    <tr>\n",
       "      <th>2020-07-01 00:20:00</th>\n",
       "      <td>20.000000</td>\n",
       "      <td>100660</td>\n",
       "      <td>201989</td>\n",
       "      <td>쉴렉스  안마의자 렌탈서비스</td>\n",
       "      <td>무형</td>\n",
       "      <td>0</td>\n",
       "      <td>NaN</td>\n",
       "    </tr>\n",
       "    <tr>\n",
       "      <th>2020-07-01 00:40:00</th>\n",
       "      <td>20.000000</td>\n",
       "      <td>100660</td>\n",
       "      <td>201989</td>\n",
       "      <td>쉴렉스  안마의자 렌탈서비스</td>\n",
       "      <td>무형</td>\n",
       "      <td>0</td>\n",
       "      <td>NaN</td>\n",
       "    </tr>\n",
       "    <tr>\n",
       "      <th>2020-07-01 01:00:00</th>\n",
       "      <td>20.000000</td>\n",
       "      <td>100660</td>\n",
       "      <td>201989</td>\n",
       "      <td>쉴렉스  안마의자 렌탈서비스</td>\n",
       "      <td>무형</td>\n",
       "      <td>0</td>\n",
       "      <td>NaN</td>\n",
       "    </tr>\n",
       "    <tr>\n",
       "      <th>2020-07-01 01:20:00</th>\n",
       "      <td>20.000000</td>\n",
       "      <td>100261</td>\n",
       "      <td>200875</td>\n",
       "      <td>아놀드파마 티셔츠레깅스세트</td>\n",
       "      <td>의류</td>\n",
       "      <td>69900</td>\n",
       "      <td>NaN</td>\n",
       "    </tr>\n",
       "    <tr>\n",
       "      <th>2020-07-01 01:40:00</th>\n",
       "      <td>15.933333</td>\n",
       "      <td>100261</td>\n",
       "      <td>200875</td>\n",
       "      <td>아놀드파마 티셔츠레깅스세트</td>\n",
       "      <td>의류</td>\n",
       "      <td>69900</td>\n",
       "      <td>NaN</td>\n",
       "    </tr>\n",
       "  </tbody>\n",
       "</table>\n",
       "<p>2891 rows × 7 columns</p>\n",
       "</div>"
      ],
      "text/plain": [
       "                         노출(분)    마더코드    상품코드                   상품명 상품군  \\\n",
       "방송일시                                                                       \n",
       "2020-06-01 06:20:00  20.000000  100650  201971       잭필드 남성  반팔셔츠 4종  의류   \n",
       "2020-06-01 06:40:00  20.000000  100650  201971       잭필드 남성  반팔셔츠 4종  의류   \n",
       "2020-06-01 07:00:00  20.000000  100650  201971       잭필드 남성  반팔셔츠 4종  의류   \n",
       "2020-06-01 07:20:00  20.000000  100445  202278  쿠미투니카 쿨 레이시 란쥬쉐이퍼&팬티  속옷   \n",
       "2020-06-01 07:40:00  20.000000  100445  202278  쿠미투니카 쿨 레이시 란쥬쉐이퍼&팬티  속옷   \n",
       "...                        ...     ...     ...                   ...  ..   \n",
       "2020-07-01 00:20:00  20.000000  100660  201989       쉴렉스  안마의자 렌탈서비스  무형   \n",
       "2020-07-01 00:40:00  20.000000  100660  201989       쉴렉스  안마의자 렌탈서비스  무형   \n",
       "2020-07-01 01:00:00  20.000000  100660  201989       쉴렉스  안마의자 렌탈서비스  무형   \n",
       "2020-07-01 01:20:00  20.000000  100261  200875        아놀드파마 티셔츠레깅스세트  의류   \n",
       "2020-07-01 01:40:00  15.933333  100261  200875        아놀드파마 티셔츠레깅스세트  의류   \n",
       "\n",
       "                      판매단가  취급액  \n",
       "방송일시                             \n",
       "2020-06-01 06:20:00  59800  NaN  \n",
       "2020-06-01 06:40:00  59800  NaN  \n",
       "2020-06-01 07:00:00  59800  NaN  \n",
       "2020-06-01 07:20:00  69900  NaN  \n",
       "2020-06-01 07:40:00  69900  NaN  \n",
       "...                    ...  ...  \n",
       "2020-07-01 00:20:00      0  NaN  \n",
       "2020-07-01 00:40:00      0  NaN  \n",
       "2020-07-01 01:00:00      0  NaN  \n",
       "2020-07-01 01:20:00  69900  NaN  \n",
       "2020-07-01 01:40:00  69900  NaN  \n",
       "\n",
       "[2891 rows x 7 columns]"
      ]
     },
     "execution_count": 47,
     "metadata": {},
     "output_type": "execute_result"
    }
   ],
   "source": [
    "submission = pd.read_excel('../data/02_평가데이터/2020 빅콘테스트 데이터분석분야-챔피언리그_2020년 6월 판매실적예측데이터(평가데이터).xlsx',\n",
    "                          skiprows=1,\n",
    "                          index_col=0,\n",
    "                          )\n",
    "submission"
   ]
  },
  {
   "cell_type": "code",
   "execution_count": 51,
   "metadata": {},
   "outputs": [],
   "source": [
    "now = datetime.now()\n",
    "file_sub_date = str(now.month).zfill(2) + str(now.day).zfill(2) + str(now.hour).zfill(2) + str(now.hour).zfill(2)\n",
    "y_pred = model(torch.Tensor(mms.transform(data['test'].drop('취급액',axis=1)))).detach().numpy()\n",
    "submission.loc[~submission['상품군'].str.contains('무형'),['취급액']] = np.exp(y_pred) * SCALED_UNIT\n",
    "submission = submission.fillna(0)\n",
    "submission.to_csv(f'../result/KUAI_{file_sub_date}_MODEL_DeepNSNet.csv', \n",
    "                  encoding='cp949')"
   ]
  }
 ],
 "metadata": {
  "kernelspec": {
   "display_name": "Python 3",
   "language": "python",
   "name": "python3"
  },
  "language_info": {
   "codemirror_mode": {
    "name": "ipython",
    "version": 3
   },
   "file_extension": ".py",
   "mimetype": "text/x-python",
   "name": "python",
   "nbconvert_exporter": "python",
   "pygments_lexer": "ipython3",
   "version": "3.7.7"
  }
 },
 "nbformat": 4,
 "nbformat_minor": 4
}
